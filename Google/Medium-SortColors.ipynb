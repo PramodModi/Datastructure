{
 "cells": [
  {
   "cell_type": "markdown",
   "id": "47fb1078-5dde-491a-951d-8610bffa8a7f",
   "metadata": {},
   "source": [
    "## Problem: Sort Colors\n",
    "\n",
    "LeetCode: 75\n",
    "\n",
    "https://leetcode.com/problems/sort-colors/description\n",
    "\n",
    "Given an array nums with n objects colored red, white, or blue, sort them in-place so that objects of the same color are adjacent, with the colors in the order red, white, and blue.\n",
    "\n",
    "We will use the integers 0, 1, and 2 to represent the color red, white, and blue, respectively.\n",
    "\n",
    "You must solve this problem without using the library's sort function.\n",
    "\n",
    " \n",
    "\n",
    "Example 1:\n",
    "\n",
    "    Input: nums = [2,0,2,1,1,0]\n",
    "    Output: [0,0,1,1,2,2]\n",
    "Example 2:\n",
    "\n",
    "    Input: nums = [2,0,1]\n",
    "    Output: [0,1,2]\n",
    " \n",
    "\n",
    "Constraints:\n",
    "\n",
    "    n == nums.length\n",
    "    1 <= n <= 300\n",
    "    nums[i] is either 0, 1, or 2."
   ]
  },
  {
   "cell_type": "code",
   "execution_count": 2,
   "id": "fa3f1529-b81c-44a0-8e96-05b6ec1003eb",
   "metadata": {},
   "outputs": [],
   "source": [
    "def sortColors(nums):\n",
    "        \n",
    "    left, right = 0, len(nums)-1\n",
    "    i = 0\n",
    "    while i <= right:\n",
    "        if nums[i] == 0:\n",
    "            swap(nums, i, left)\n",
    "            left += 1\n",
    "        elif nums[i] == 2:\n",
    "            swap(nums, i, right)\n",
    "            right -= 1\n",
    "            i -=1 # No need to move the i after swapping from right, as it again needs to check with left.\n",
    "        i += 1\n",
    "    return nums\n",
    "def swap(nums, i, j):\n",
    "    nums[i], nums[j] = nums[j], nums[i]"
   ]
  },
  {
   "cell_type": "code",
   "execution_count": 4,
   "id": "29eaff9f-eb51-4e84-9b92-1d5ddb6f2c2e",
   "metadata": {},
   "outputs": [
    {
     "data": {
      "text/plain": [
       "[0, 0, 1, 1, 2, 2]"
      ]
     },
     "execution_count": 4,
     "metadata": {},
     "output_type": "execute_result"
    }
   ],
   "source": [
    "nums = [2,0,2,1,1,0]\n",
    "sortColors(nums)"
   ]
  },
  {
   "cell_type": "code",
   "execution_count": null,
   "id": "87742ee4-e1d4-44b5-b525-74ed2d5e946f",
   "metadata": {},
   "outputs": [],
   "source": []
  }
 ],
 "metadata": {
  "kernelspec": {
   "display_name": "Python 3 (ipykernel)",
   "language": "python",
   "name": "python3"
  },
  "language_info": {
   "codemirror_mode": {
    "name": "ipython",
    "version": 3
   },
   "file_extension": ".py",
   "mimetype": "text/x-python",
   "name": "python",
   "nbconvert_exporter": "python",
   "pygments_lexer": "ipython3",
   "version": "3.12.7"
  }
 },
 "nbformat": 4,
 "nbformat_minor": 5
}

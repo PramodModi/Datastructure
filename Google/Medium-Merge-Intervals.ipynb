{
 "cells": [
  {
   "cell_type": "markdown",
   "id": "9eefc323-207f-4618-9b42-c5cb40d79453",
   "metadata": {},
   "source": [
    "## Problem: Merge Intervals\n",
    "LeetCode: 56\n",
    "\n",
    "https://leetcode.com/problems/merge-intervals/description/\n",
    "\n",
    "Given an array of intervals where intervals[i] = [starti, endi], merge all overlapping intervals, and return an array of the non-overlapping intervals that cover all the intervals in the input.\n",
    "\n",
    " \n",
    "\n",
    "Example 1:\n",
    "\n",
    "    Input: intervals = [[1,3],[2,6],[8,10],[15,18]]\n",
    "    Output: [[1,6],[8,10],[15,18]]\n",
    "    Explanation: Since intervals [1,3] and [2,6] overlap, merge them into [1,6].\n",
    "Example 2:\n",
    "\n",
    "    Input: intervals = [[1,4],[4,5]]\n",
    "    Output: [[1,5]]\n",
    "    Explanation: Intervals [1,4] and [4,5] are considered overlapping.\n",
    " \n",
    "\n",
    "Constraints:\n",
    "\n",
    "    1 <= intervals.length <= 104\n",
    "    intervals[i].length == 2\n",
    "    0 <= starti <= endi <= 104"
   ]
  },
  {
   "cell_type": "code",
   "execution_count": 4,
   "id": "b02b0564-9a2f-45d4-a38f-5ce3cb711c20",
   "metadata": {},
   "outputs": [],
   "source": [
    "def merge(intervals):\n",
    "    intervals.sort(key = lambda x: x[0])\n",
    "    result = []\n",
    "    temp = intervals[0]\n",
    "    for i in range(1, len(intervals)):\n",
    "        interval = intervals[i]\n",
    "        if temp[1] >= interval[0]:\n",
    "            temp[1] = max(temp[1],interval[1])\n",
    "        else:\n",
    "            result.append(temp)\n",
    "            temp = interval\n",
    "    result.append(temp)\n",
    "    return result"
   ]
  },
  {
   "cell_type": "code",
   "execution_count": 6,
   "id": "984818d0-9b9b-4013-9530-b5e209c2afa2",
   "metadata": {},
   "outputs": [
    {
     "data": {
      "text/plain": [
       "[[1, 6], [8, 10], [15, 18]]"
      ]
     },
     "execution_count": 6,
     "metadata": {},
     "output_type": "execute_result"
    }
   ],
   "source": [
    "intervals = [[1,3],[2,6],[8,10],[15,18]]\n",
    "merge(intervals)"
   ]
  },
  {
   "cell_type": "code",
   "execution_count": null,
   "id": "62a3895f-3887-4b58-b631-dd1a95d63bbf",
   "metadata": {},
   "outputs": [],
   "source": []
  }
 ],
 "metadata": {
  "kernelspec": {
   "display_name": "Python 3 (ipykernel)",
   "language": "python",
   "name": "python3"
  },
  "language_info": {
   "codemirror_mode": {
    "name": "ipython",
    "version": 3
   },
   "file_extension": ".py",
   "mimetype": "text/x-python",
   "name": "python",
   "nbconvert_exporter": "python",
   "pygments_lexer": "ipython3",
   "version": "3.12.7"
  }
 },
 "nbformat": 4,
 "nbformat_minor": 5
}

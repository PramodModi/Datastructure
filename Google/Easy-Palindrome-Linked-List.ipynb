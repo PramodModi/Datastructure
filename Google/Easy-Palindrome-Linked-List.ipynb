{
 "cells": [
  {
   "attachments": {
    "079013d9-c9a7-434b-88bf-01cbbdc9fa03.png": {
     "image/png": "[encoded data removed]"
    },
    "9d1b7416-ea48-4b57-817f-dfe40eb9ca2e.png": {
     "image/png": "[encoded data removed]"
    }
   },
   "cell_type": "markdown",
   "id": "85215d60-3e78-4ca3-a3db-479e6144c761",
   "metadata": {},
   "source": [
    "## Problem: Palindrome Linked List\n",
    "LeetCode : 234\n",
    "\n",
    "https://leetcode.com/problems/palindrome-linked-list/description\n",
    "\n",
    "Given the head of a singly linked list, return true if it is a \n",
    "palindrome\n",
    " or false otherwise.\n",
    "\n",
    " \n",
    "\n",
    "Example 1:\n",
    "![image.png](attachment:9d1b7416-ea48-4b57-817f-dfe40eb9ca2e.png)\n",
    "\n",
    "    Input: head = [1,2,2,1]\n",
    "    Output: true\n",
    "Example 2:\n",
    "\n",
    "![image.png](attachment:079013d9-c9a7-434b-88bf-01cbbdc9fa03.png)\n",
    "    \n",
    "    Input: head = [1,2]\n",
    "    Output: false\n",
    "     \n",
    "\n",
    "Constraints:\n",
    "\n",
    "    The number of nodes in the list is in the range [1, 105].\n",
    "    0 <= Node.val <= 9\n",
    "     "
   ]
  },
  {
   "cell_type": "code",
   "execution_count": 7,
   "id": "71f45e3d-c195-4b9b-91ae-304815eb3961",
   "metadata": {},
   "outputs": [],
   "source": [
    "# Definition for singly-linked list.\n",
    "class ListNode:\n",
    "    def __init__(self, val=0, next=None):\n",
    "        self.val = val\n",
    "        self.next = next"
   ]
  },
  {
   "cell_type": "code",
   "execution_count": 9,
   "id": "ab626bfa-cf9d-4e1a-89d0-83c4018173f4",
   "metadata": {},
   "outputs": [],
   "source": [
    "def isPalindrome(head):\n",
    "    if head.next is None:\n",
    "        return True\n",
    "    mid = getMiddleNode(head)\n",
    "    midHead = reverse(mid)\n",
    "    temp1 = head\n",
    "    temp2 = midHead\n",
    "    while temp2:\n",
    "        if temp1.val != temp2.val:\n",
    "            return False\n",
    "        temp1 = temp1.next\n",
    "        temp2 = temp2.next\n",
    "    return True\n",
    "def getMiddleNode(head):\n",
    "    if head.next is None:\n",
    "        return head\n",
    "    slow = head\n",
    "    fast = head\n",
    "    while fast and fast.next:\n",
    "        slow = slow.next\n",
    "        fast = fast.next.next\n",
    "    return slow\n",
    "\n",
    "def reverse(head):\n",
    "    cur = head\n",
    "    prev = None\n",
    "    while cur:\n",
    "        temp = cur\n",
    "        cur = cur.next\n",
    "        temp.next = prev\n",
    "        prev = temp\n",
    "    return prev"
   ]
  },
  {
   "cell_type": "code",
   "execution_count": 11,
   "id": "000573bb-c0a6-4819-b9e1-18d880f3977f",
   "metadata": {},
   "outputs": [
    {
     "data": {
      "text/plain": [
       "True"
      ]
     },
     "execution_count": 11,
     "metadata": {},
     "output_type": "execute_result"
    }
   ],
   "source": [
    "head = ListNode(1, ListNode(2, ListNode(2, ListNode(1))))\n",
    "isPalindrome(head)"
   ]
  },
  {
   "cell_type": "code",
   "execution_count": 13,
   "id": "118917ed-3458-41fc-a69d-623afd203b39",
   "metadata": {},
   "outputs": [
    {
     "data": {
      "text/plain": [
       "False"
      ]
     },
     "execution_count": 13,
     "metadata": {},
     "output_type": "execute_result"
    }
   ],
   "source": [
    "head = ListNode(1, ListNode(2))\n",
    "isPalindrome(head)"
   ]
  },
  {
   "cell_type": "code",
   "execution_count": null,
   "id": "8dabd72d-7d2f-48ed-8b12-6b7d2994c7bb",
   "metadata": {},
   "outputs": [],
   "source": []
  }
 ],
 "metadata": {
  "kernelspec": {
   "display_name": "Python 3 (ipykernel)",
   "language": "python",
   "name": "python3"
  },
  "language_info": {
   "codemirror_mode": {
    "name": "ipython",
    "version": 3
   },
   "file_extension": ".py",
   "mimetype": "text/x-python",
   "name": "python",
   "nbconvert_exporter": "python",
   "pygments_lexer": "ipython3",
   "version": "3.12.7"
  }
 },
 "nbformat": 4,
 "nbformat_minor": 5
}

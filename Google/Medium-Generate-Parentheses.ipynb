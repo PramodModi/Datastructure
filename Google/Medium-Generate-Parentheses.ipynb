{
 "cells": [
  {
   "cell_type": "markdown",
   "id": "52265b12-09e4-4d1e-8fa8-a72c7c2e1839",
   "metadata": {},
   "source": [
    "## Problem: Generate Parentheses\n",
    "LeetCode : 22\n",
    "\n",
    "https://leetcode.com/problems/generate-parentheses/description/\n",
    "\n",
    "Given n pairs of parentheses, write a function to generate all combinations of well-formed parentheses.\n",
    "\n",
    " \n",
    "\n",
    "Example 1:\n",
    "\n",
    "    Input: n = 3\n",
    "    Output: [\"((()))\",\"(()())\",\"(())()\",\"()(())\",\"()()()\"]\n",
    "Example 2:\n",
    "\n",
    "    Input: n = 1\n",
    "    Output: [\"()\"]\n",
    " \n",
    "\n",
    "Constraints:\n",
    "\n",
    "    1 <= n <= 8"
   ]
  },
  {
   "cell_type": "code",
   "execution_count": 2,
   "id": "5e03f56f-8807-41ad-90ce-7105bb209da9",
   "metadata": {},
   "outputs": [],
   "source": [
    "def generateParenthesis(n):\n",
    "    open =n\n",
    "    close =n\n",
    "    result = []\n",
    "    helper(open, close, result, \"\")\n",
    "    return result\n",
    "\n",
    "def helper(open, close, result, temp):\n",
    "    if open == 0 and close == 0:\n",
    "        result.append(temp)\n",
    "        return\n",
    "    if open:\n",
    "        helper(open-1, close, result, temp+\"(\")\n",
    "    if close and close>open:\n",
    "        helper(open, close-1, result, temp+\")\")"
   ]
  },
  {
   "cell_type": "code",
   "execution_count": 4,
   "id": "570cd252-f539-418a-95a4-85f55ff06737",
   "metadata": {},
   "outputs": [
    {
     "data": {
      "text/plain": [
       "['((()))', '(()())', '(())()', '()(())', '()()()']"
      ]
     },
     "execution_count": 4,
     "metadata": {},
     "output_type": "execute_result"
    }
   ],
   "source": [
    "generateParenthesis(3)"
   ]
  },
  {
   "cell_type": "code",
   "execution_count": null,
   "id": "8fbb3e6a-1343-46e5-9d23-0e34f56901a3",
   "metadata": {},
   "outputs": [],
   "source": []
  }
 ],
 "metadata": {
  "kernelspec": {
   "display_name": "Python 3 (ipykernel)",
   "language": "python",
   "name": "python3"
  },
  "language_info": {
   "codemirror_mode": {
    "name": "ipython",
    "version": 3
   },
   "file_extension": ".py",
   "mimetype": "text/x-python",
   "name": "python",
   "nbconvert_exporter": "python",
   "pygments_lexer": "ipython3",
   "version": "3.12.7"
  }
 },
 "nbformat": 4,
 "nbformat_minor": 5
}

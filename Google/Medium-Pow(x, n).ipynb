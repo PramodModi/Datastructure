{
 "cells": [
  {
   "cell_type": "markdown",
   "id": "2f93ecfe-cfe7-4246-a3a6-f21b5247b32f",
   "metadata": {},
   "source": [
    "## Problem: Pow(x, n)\n",
    "LeetCode: 50\n",
    "\n",
    "https://leetcode.com/problems/powx-n/description\n",
    "\n",
    "Implement pow(x, n), which calculates x raised to the power n (i.e., xn).\n",
    "\n",
    " \n",
    "\n",
    "Example 1:\n",
    "\n",
    "    Input: x = 2.00000, n = 10\n",
    "    Output: 1024.00000\n",
    "Example 2:\n",
    "\n",
    "    Input: x = 2.10000, n = 3\n",
    "    Output: 9.26100\n",
    "Example 3:\n",
    "\n",
    "    Input: x = 2.00000, n = -2\n",
    "    Output: 0.25000\n",
    "    Explanation: 2-2 = 1/22 = 1/4 = 0.25\n",
    " \n",
    "\n",
    "Constraints:\n",
    "\n",
    "    -100.0 < x < 100.0\n",
    "    -231 <= n <= 231-1\n",
    "    n is an integer.\n",
    "    Either x is not zero or n > 0.\n",
    "    -104 <= xn <= 104\n"
   ]
  },
  {
   "cell_type": "code",
   "execution_count": 15,
   "id": "f15a48f6-d1fb-4bb4-b076-9574a474a7c8",
   "metadata": {},
   "outputs": [],
   "source": [
    "def myPow(x, n):\n",
    "    if n == 0:\n",
    "        return 1\n",
    "    if n < 0:\n",
    "        return 1.0/myPow(x, -1*n)\n",
    "    if n%2 == 0:\n",
    "        return myPow(x*x, n/2)\n",
    "    else:\n",
    "        return x * myPow(x*x, (n-1)/2)"
   ]
  },
  {
   "cell_type": "code",
   "execution_count": 17,
   "id": "3f66da80-5111-404a-8636-4f352dd30d38",
   "metadata": {},
   "outputs": [
    {
     "data": {
      "text/plain": [
       "1024.0"
      ]
     },
     "execution_count": 17,
     "metadata": {},
     "output_type": "execute_result"
    }
   ],
   "source": [
    "x = 2.00000\n",
    "n = 10\n",
    "myPow(x, n)"
   ]
  },
  {
   "cell_type": "code",
   "execution_count": 19,
   "id": "a97371a8-0026-4542-a203-9e8062423e7d",
   "metadata": {},
   "outputs": [],
   "source": [
    "def myPow1(x, n):\n",
    "    if n == 0:\n",
    "        return 1\n",
    "    if n < 0:\n",
    "        return 1.0/myPow1(x, -1*n)\n",
    "    else:\n",
    "        return x*myPow(x,n-1)"
   ]
  },
  {
   "cell_type": "code",
   "execution_count": 21,
   "id": "4af9de03-af38-47f5-8e96-3f41666f0acd",
   "metadata": {},
   "outputs": [
    {
     "data": {
      "text/plain": [
       "1024.0"
      ]
     },
     "execution_count": 21,
     "metadata": {},
     "output_type": "execute_result"
    }
   ],
   "source": [
    "x = 2.00000\n",
    "n = 10\n",
    "myPow1(x, n)"
   ]
  },
  {
   "cell_type": "code",
   "execution_count": null,
   "id": "27e5f0b8-6eb2-4b2e-92ac-ef472c0ec0eb",
   "metadata": {},
   "outputs": [],
   "source": []
  }
 ],
 "metadata": {
  "kernelspec": {
   "display_name": "Python 3 (ipykernel)",
   "language": "python",
   "name": "python3"
  },
  "language_info": {
   "codemirror_mode": {
    "name": "ipython",
    "version": 3
   },
   "file_extension": ".py",
   "mimetype": "text/x-python",
   "name": "python",
   "nbconvert_exporter": "python",
   "pygments_lexer": "ipython3",
   "version": "3.12.7"
  }
 },
 "nbformat": 4,
 "nbformat_minor": 5
}

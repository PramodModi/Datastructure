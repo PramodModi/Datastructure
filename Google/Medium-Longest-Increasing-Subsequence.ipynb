{
 "cells": [
  {
   "cell_type": "markdown",
   "id": "9f72010d-b2c9-4e1a-bd33-6dd4a54e7d46",
   "metadata": {},
   "source": [
    "## Problem: 300. Longest Increasing Subsequence\n",
    "LeetCode: 300\n",
    "\n",
    "https://leetcode.com/problems/longest-increasing-subsequence/description/\n",
    "\n",
    "Given an integer array nums, return the length of the longest strictly increasing subsequence.\n",
    "\n",
    " \n",
    "\n",
    "Example 1:\n",
    "\n",
    "    Input: nums = [10,9,2,5,3,7,101,18]\n",
    "    Output: 4\n",
    "    Explanation: The longest increasing subsequence is [2,3,7,101], therefore the length is 4.\n",
    "Example 2:\n",
    "\n",
    "    Input: nums = [0,1,0,3,2,3]\n",
    "    Output: 4\n",
    "Example 3:\n",
    "\n",
    "    Input: nums = [7,7,7,7,7,7,7]\n",
    "    Output: 1\n",
    " \n",
    "\n",
    "Constraints:\n",
    "\n",
    "    1 <= nums.length <= 2500\n",
    "    -104 <= nums[i] <= 104\n"
   ]
  },
  {
   "cell_type": "code",
   "execution_count": 2,
   "id": "b6fc6895-89fe-4330-8149-35f1982422d6",
   "metadata": {},
   "outputs": [],
   "source": [
    "def lengthOfLIS(nums):\n",
    "    sub = []\n",
    "    for n in nums:\n",
    "        if len(sub) == 0 or sub[-1] < n:\n",
    "            sub.append(n)\n",
    "        else:\n",
    "            idx = binarySearch(sub, n) # find the smallest number in subseq which is greater than n\n",
    "            if sub[idx] < n:\n",
    "                sub[idx+1] = n\n",
    "            else:\n",
    "                sub[idx] = n\n",
    "    return len(sub)\n",
    "\n",
    "def binarySearch(array, number):\n",
    "    startIndex = 0\n",
    "    endIndex = len(array)-1\n",
    "\n",
    "    while startIndex < endIndex:\n",
    "        mid = startIndex + (endIndex-startIndex)//2\n",
    "        if array[mid] < number:\n",
    "            startIndex = mid+1\n",
    "        elif array[mid]>number:\n",
    "            endIndex = mid-1\n",
    "        else:\n",
    "            startIndex = mid\n",
    "            break\n",
    "    return startIndex"
   ]
  },
  {
   "cell_type": "code",
   "execution_count": 4,
   "id": "adf3f9b3-4dae-4a4e-a730-1afcc679829b",
   "metadata": {},
   "outputs": [
    {
     "data": {
      "text/plain": [
       "4"
      ]
     },
     "execution_count": 4,
     "metadata": {},
     "output_type": "execute_result"
    }
   ],
   "source": [
    "nums = [10,9,2,5,3,7,101,18]\n",
    "lengthOfLIS(nums)"
   ]
  },
  {
   "cell_type": "code",
   "execution_count": 6,
   "id": "57310a7c-eaac-424e-88fa-9e5751e404e8",
   "metadata": {},
   "outputs": [
    {
     "data": {
      "text/plain": [
       "1"
      ]
     },
     "execution_count": 6,
     "metadata": {},
     "output_type": "execute_result"
    }
   ],
   "source": [
    "nums = [7,7,7,7,7,7,7]\n",
    "lengthOfLIS(nums)"
   ]
  },
  {
   "cell_type": "code",
   "execution_count": 8,
   "id": "83e63c62-f9d9-408d-a90a-a15cb29fc2bc",
   "metadata": {},
   "outputs": [
    {
     "data": {
      "text/plain": [
       "4"
      ]
     },
     "execution_count": 8,
     "metadata": {},
     "output_type": "execute_result"
    }
   ],
   "source": [
    "nums = [0,1,0,3,2,3]\n",
    "lengthOfLIS(nums)"
   ]
  },
  {
   "cell_type": "code",
   "execution_count": null,
   "id": "e863e7d4-8d25-43ee-a7bf-5be3c8f8d8df",
   "metadata": {},
   "outputs": [],
   "source": []
  }
 ],
 "metadata": {
  "kernelspec": {
   "display_name": "Python 3 (ipykernel)",
   "language": "python",
   "name": "python3"
  },
  "language_info": {
   "codemirror_mode": {
    "name": "ipython",
    "version": 3
   },
   "file_extension": ".py",
   "mimetype": "text/x-python",
   "name": "python",
   "nbconvert_exporter": "python",
   "pygments_lexer": "ipython3",
   "version": "3.12.7"
  }
 },
 "nbformat": 4,
 "nbformat_minor": 5
}

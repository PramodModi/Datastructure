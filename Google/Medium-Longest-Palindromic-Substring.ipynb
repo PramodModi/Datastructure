{
 "cells": [
  {
   "cell_type": "markdown",
   "id": "da687287-01b7-467c-b7d2-cddc0331a971",
   "metadata": {},
   "source": [
    "## Problem: Longest Palindromic Substring\n",
    "LeetCode: 5\n",
    "\n",
    "https://leetcode.com/problems/longest-palindromic-substring/description/\n",
    "\n",
    "Given a string s, return the longest palindromic substring in s.\n",
    "\n",
    "Example 1:\n",
    "\n",
    "    Input: s = \"babad\"\n",
    "    Output: \"bab\"\n",
    "    Explanation: \"aba\" is also a valid answer.\n",
    "Example 2:\n",
    "\n",
    "    Input: s = \"cbbd\"\n",
    "    Output: \"bb\"\n",
    " \n",
    "\n",
    "Constraints:\n",
    "\n",
    "    1 <= s.length <= 1000\n",
    "    s consist of only digits and English letters."
   ]
  },
  {
   "cell_type": "code",
   "execution_count": 2,
   "id": "fb5dea9e-101f-422e-a62f-d47a53a505aa",
   "metadata": {},
   "outputs": [],
   "source": [
    "def longestPalindrome(s):\n",
    "        if len(s) == 1:\n",
    "            return s\n",
    "        maxLen = 0\n",
    "        leftIndex = 0\n",
    "        rightIndex = 0\n",
    "        for i in range(len(s)):\n",
    "            oddLength = checkPalindrome(s, i, i)\n",
    "            evenLength = checkPalindrome(s, i, i+1)\n",
    "            if oddLength[0] > evenLength[0]:\n",
    "                count = oddLength[0]\n",
    "                leftInd = oddLength[1]\n",
    "                rightInd = oddLength[2]\n",
    "            else:\n",
    "                count = evenLength[0]\n",
    "                leftInd = evenLength[1]\n",
    "                rightInd = evenLength[2]\n",
    "            if maxLen < count:\n",
    "                maxLen = count\n",
    "                leftIndex = leftInd\n",
    "                rightIndex = rightInd\n",
    "        return s[leftIndex:rightIndex]\n",
    "\n",
    "def checkPalindrome(s, left, right):\n",
    "    count = 0\n",
    "    while left>=0 and right<len(s):\n",
    "        if s[left] == s[right]:\n",
    "            left -= 1\n",
    "            right += 1\n",
    "            count += (right-left+1)\n",
    "        else:\n",
    "            break\n",
    "    return [count, left+1, right]\n"
   ]
  },
  {
   "cell_type": "code",
   "execution_count": 4,
   "id": "6aa48bc8-e9fd-4a0d-be93-a162a66702db",
   "metadata": {},
   "outputs": [
    {
     "data": {
      "text/plain": [
       "'bab'"
      ]
     },
     "execution_count": 4,
     "metadata": {},
     "output_type": "execute_result"
    }
   ],
   "source": [
    "s = \"babad\"\n",
    "longestPalindrome(s)"
   ]
  },
  {
   "cell_type": "code",
   "execution_count": 10,
   "id": "edc747f7-3656-45dd-a10c-ea53c09b1d92",
   "metadata": {},
   "outputs": [],
   "source": [
    "def longestPalindrome1(s):\n",
    "        mem = {}\n",
    "        maxLength = [0,1]\n",
    "        for i in range(1, len(s)):\n",
    "            oddLength = getPalindrom_mem(s, i-1, i+1, mem)\n",
    "            evenLength = getPalindrom_mem(s, i-1, i, mem)\n",
    "            maxOddEvenLength = max(oddLength, evenLength, key = lambda x : x[1]-x[0])\n",
    "            maxLength = max(maxLength, maxOddEvenLength, key = lambda x : x[1]-x[0])\n",
    "        return s[maxLength[0]:maxLength[1]]\n",
    "\n",
    "def getPalindrom_mem(s, left, right, mem):\n",
    "    key = str(left)+ \"-\" + str(right)\n",
    "    if key in mem:\n",
    "        return mem[key]\n",
    "    while left >= 0 and right < len(s):\n",
    "        if s[left] != s[right]:\n",
    "            break\n",
    "        left -=1\n",
    "        right += 1\n",
    "    mem[key] = [left + 1, right]\n",
    "    return mem[key]"
   ]
  },
  {
   "cell_type": "code",
   "execution_count": 12,
   "id": "3031e36f-59dc-4189-b1eb-07453b69a47b",
   "metadata": {},
   "outputs": [
    {
     "data": {
      "text/plain": [
       "'bab'"
      ]
     },
     "execution_count": 12,
     "metadata": {},
     "output_type": "execute_result"
    }
   ],
   "source": [
    "s = \"babad\"\n",
    "longestPalindrome1(s)"
   ]
  },
  {
   "cell_type": "code",
   "execution_count": null,
   "id": "1a8cbc19-6d11-43df-b084-adb1c0efd7d4",
   "metadata": {},
   "outputs": [],
   "source": []
  }
 ],
 "metadata": {
  "kernelspec": {
   "display_name": "Python 3 (ipykernel)",
   "language": "python",
   "name": "python3"
  },
  "language_info": {
   "codemirror_mode": {
    "name": "ipython",
    "version": 3
   },
   "file_extension": ".py",
   "mimetype": "text/x-python",
   "name": "python",
   "nbconvert_exporter": "python",
   "pygments_lexer": "ipython3",
   "version": "3.12.7"
  }
 },
 "nbformat": 4,
 "nbformat_minor": 5
}

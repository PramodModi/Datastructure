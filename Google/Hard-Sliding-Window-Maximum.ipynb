{
 "cells": [
  {
   "cell_type": "markdown",
   "id": "72eef8f4-22ec-47c3-a01b-71d10f069df0",
   "metadata": {},
   "source": [
    "## Problem: 239. Sliding Window Maximum\n",
    "LeetCode : 239\n",
    "\n",
    "https://leetcode.com/problems/sliding-window-maximum/description/\n",
    "\n",
    "You are given an array of integers nums, there is a sliding window of size k which is moving from the very left of the array to the very right. You can only see the k numbers in the window. Each time the sliding window moves right by one position.\n",
    "\n",
    "Return the max sliding window.\n",
    "\n",
    " \n",
    "\n",
    "Example 1:\n",
    "\n",
    "    Input: nums = [1,3,-1,-3,5,3,6,7], k = 3\n",
    "    Output: [3,3,5,5,6,7]\n",
    "    Explanation: \n",
    "    Window position                Max\n",
    "    ---------------               -----\n",
    "    [1  3  -1] -3  5  3  6  7       3\n",
    "     1 [3  -1  -3] 5  3  6  7       3\n",
    "     1  3 [-1  -3  5] 3  6  7       5\n",
    "     1  3  -1 [-3  5  3] 6  7       5\n",
    "     1  3  -1  -3 [5  3  6] 7       6\n",
    "     1  3  -1  -3  5 [3  6  7]      7\n",
    "Example 2:\n",
    "\n",
    "    Input: nums = [1], k = 1\n",
    "    Output: [1]\n",
    "     \n",
    "\n",
    "Constraints:\n",
    "\n",
    "    1 <= nums.length <= 105\n",
    "    -104 <= nums[i] <= 104\n",
    "    1 <= k <= nums.length"
   ]
  },
  {
   "cell_type": "code",
   "execution_count": 2,
   "id": "4b75b95e-28c1-4378-bb5b-41d56453f000",
   "metadata": {},
   "outputs": [],
   "source": [
    "def maxSlidingWindow(nums, k):\n",
    "    temp = []\n",
    "    for right in range(k):\n",
    "        e = nums[right]\n",
    "        while len(temp)>0 and e > temp[-1]:\n",
    "            temp.pop()\n",
    "        temp.append(e)\n",
    "    \n",
    "    right += 1\n",
    "    left = 0\n",
    "    result = []\n",
    "    result.append(temp[0])\n",
    "    \n",
    "    while right < len(nums):\n",
    "        e = nums[left]\n",
    "        if e == temp[0]:\n",
    "            temp.pop(0)\n",
    "        e = nums[right]\n",
    "        while len(temp)>0 and e > temp[-1]:\n",
    "            temp.pop()\n",
    "        temp.append(e)\n",
    "        \n",
    "        result.append(temp[0])\n",
    "        left += 1\n",
    "        right += 1\n",
    "    return result"
   ]
  },
  {
   "cell_type": "code",
   "execution_count": 4,
   "id": "47d3c39e-cac0-43dd-8eaa-cef07f6645eb",
   "metadata": {},
   "outputs": [
    {
     "data": {
      "text/plain": [
       "[3, 3, 5, 5, 6, 7]"
      ]
     },
     "execution_count": 4,
     "metadata": {},
     "output_type": "execute_result"
    }
   ],
   "source": [
    "nums = [1,3,-1,-3,5,3,6,7]\n",
    "k = 3\n",
    "maxSlidingWindow(nums, k)"
   ]
  },
  {
   "cell_type": "code",
   "execution_count": null,
   "id": "7552aaab-7d15-43ce-ab95-fd71476cbbb0",
   "metadata": {},
   "outputs": [],
   "source": []
  }
 ],
 "metadata": {
  "kernelspec": {
   "display_name": "Python 3 (ipykernel)",
   "language": "python",
   "name": "python3"
  },
  "language_info": {
   "codemirror_mode": {
    "name": "ipython",
    "version": 3
   },
   "file_extension": ".py",
   "mimetype": "text/x-python",
   "name": "python",
   "nbconvert_exporter": "python",
   "pygments_lexer": "ipython3",
   "version": "3.12.7"
  }
 },
 "nbformat": 4,
 "nbformat_minor": 5
}

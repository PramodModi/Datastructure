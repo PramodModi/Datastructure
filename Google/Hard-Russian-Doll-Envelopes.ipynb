{
 "cells": [
  {
   "cell_type": "markdown",
   "id": "6436a9bb-5d01-4260-9bae-782f053f4d57",
   "metadata": {},
   "source": [
    "## Problem: Russian Doll Envelopes\n",
    "LeetCode : 354\n",
    "\n",
    "https://leetcode.com/problems/russian-doll-envelopes/description/\n",
    "\n",
    "You are given a 2D array of integers envelopes where envelopes[i] = [wi, hi] represents the width and the height of an envelope.\n",
    "\n",
    "One envelope can fit into another if and only if both the width and height of one envelope are greater than the other envelope's width and height.\n",
    "\n",
    "Return the maximum number of envelopes you can Russian doll (i.e., put one inside the other).\n",
    "\n",
    "Note: You cannot rotate an envelope.\n",
    "\n",
    " \n",
    "\n",
    "Example 1:\n",
    "\n",
    "    Input: envelopes = [[5,4],[6,4],[6,7],[2,3]]\n",
    "    Output: 3\n",
    "    Explanation: The maximum number of envelopes you can Russian doll is 3 ([2,3] => [5,4] => [6,7]).\n",
    "Example 2:\n",
    "\n",
    "    Input: envelopes = [[1,1],[1,1],[1,1]]\n",
    "    Output: 1\n",
    " \n",
    "\n",
    "Constraints:\n",
    "\n",
    "    1 <= envelopes.length <= 105\n",
    "    envelopes[i].length == 2\n",
    "    1 <= wi, hi <= 105\n",
    "\n"
   ]
  },
  {
   "cell_type": "markdown",
   "id": "0d1ad62a-3efd-4463-99df-ac208cd4b321",
   "metadata": {},
   "source": [
    "### Approach:\n",
    "\n",
    "Each envelope must be increasing in h and w.  So, our approach should be sort the envelopes in increasing order of w.\n",
    "\n",
    "After we sort our envelopes, we can simply find the length of the longest increasing subsequence on the second dimension (h). Note that we use a clever trick to solve some edge cases:\n",
    "\n",
    "Consider an input [[1, 3], [1, 4], [1, 5], [2, 3]].\n",
    "If we simply sort and extract the second dimension we get [3, 4, 5, 3], which implies that we can fit three envelopes (3, 4, 5). The problem is that we can only fit one envelope, since envelopes that are equal in the first dimension can't be put into each other.\n",
    "\n",
    "In order fix this, we don't just sort increasing in the first dimension - we also sort decreasing on the second dimension, so two envelopes that are equal in the first dimension can never be in the same increasing subsequence.\n",
    "\n",
    "Now when we sort and extract the second element from the input we get [5, 4, 3, 3], the LIS of this would be 1."
   ]
  },
  {
   "cell_type": "code",
   "execution_count": 8,
   "id": "97fdde5c-6906-4e4d-a6be-a0089e45ea8d",
   "metadata": {},
   "outputs": [
    {
     "data": {
      "text/plain": [
       "[[1, 3], [2, 5], [2, 4], [3, 6]]"
      ]
     },
     "execution_count": 8,
     "metadata": {},
     "output_type": "execute_result"
    }
   ],
   "source": [
    "## This is the sorting technique, where two dimensional array is getting sorted based on his first number.\n",
    "## However, if two element's first number are same then sort it based on 2nd number in decreasing order.\n",
    "\n",
    "nums = [[1, 3], [3, 6], [2, 5], [2, 4]]\n",
    "nums.sort(key = lambda x : (x[0], -x[1]))\n",
    "nums\n"
   ]
  },
  {
   "cell_type": "code",
   "execution_count": null,
   "id": "2bdf66f2-f1eb-4d73-bb98-4b5934d7e095",
   "metadata": {},
   "outputs": [],
   "source": [
    "### Now the LIS of [3,5,4,6] would be [3,4,6] so envelopse would be [[1,3],[2,4],[3,6]]"
   ]
  },
  {
   "cell_type": "code",
   "execution_count": 15,
   "id": "f46977c2-faae-446d-b0dc-54bce50adf5a",
   "metadata": {},
   "outputs": [],
   "source": [
    "def maxEnvelopes(envelopes):\n",
    "    ## Sorting as explained above\n",
    "    envelopes.sort(key = lambda x: (x[0], -x[1]))\n",
    "\n",
    "    ## Longest INcreasing subsequence (LIS)\n",
    "    sub = []\n",
    "    for env in envelopes:\n",
    "        if not sub or sub[-1][1] < env[1]:\n",
    "            sub.append(env)\n",
    "        else:\n",
    "            idx = binarySearch(sub, env)\n",
    "            if sub[idx][1] < env[1]:\n",
    "                idx = idx +1\n",
    "            sub[idx] = env \n",
    "    return len(sub)\n",
    "def binarySearch(array, target):\n",
    "    l = 0\n",
    "    r = len(array)-1\n",
    "    while l < r:\n",
    "        mid = (l+r)//2\n",
    "        if array[mid][1] > target[1]:\n",
    "            r = mid-1\n",
    "        elif array[mid][1] < target[1]:\n",
    "            l = mid+1\n",
    "        else:\n",
    "            l = mid\n",
    "            break\n",
    "    return l "
   ]
  },
  {
   "cell_type": "code",
   "execution_count": 17,
   "id": "d73bf747-b96b-4ed6-a28e-f5189e19f116",
   "metadata": {},
   "outputs": [
    {
     "data": {
      "text/plain": [
       "3"
      ]
     },
     "execution_count": 17,
     "metadata": {},
     "output_type": "execute_result"
    }
   ],
   "source": [
    "envelopes = [[5,4],[6,4],[6,7],[2,3]]\n",
    "maxEnvelopes(envelopes)"
   ]
  },
  {
   "cell_type": "code",
   "execution_count": 19,
   "id": "4f203ee0-626f-4273-9d30-d8ea39878e75",
   "metadata": {},
   "outputs": [
    {
     "data": {
      "text/plain": [
       "3"
      ]
     },
     "execution_count": 19,
     "metadata": {},
     "output_type": "execute_result"
    }
   ],
   "source": [
    "envelopes = [[1, 3], [3, 6], [2, 5], [2, 4]]\n",
    "maxEnvelopes(envelopes)"
   ]
  },
  {
   "cell_type": "code",
   "execution_count": 21,
   "id": "4334fbb7-53c5-45e3-8da8-c369493e7032",
   "metadata": {},
   "outputs": [
    {
     "data": {
      "text/plain": [
       "1"
      ]
     },
     "execution_count": 21,
     "metadata": {},
     "output_type": "execute_result"
    }
   ],
   "source": [
    "envelopes = [[1,1],[1,1],[1,1]]\n",
    "maxEnvelopes(envelopes)"
   ]
  },
  {
   "cell_type": "code",
   "execution_count": null,
   "id": "f6e0fd9d-b573-4a32-aa61-868abd7ce7a0",
   "metadata": {},
   "outputs": [],
   "source": []
  }
 ],
 "metadata": {
  "kernelspec": {
   "display_name": "Python 3 (ipykernel)",
   "language": "python",
   "name": "python3"
  },
  "language_info": {
   "codemirror_mode": {
    "name": "ipython",
    "version": 3
   },
   "file_extension": ".py",
   "mimetype": "text/x-python",
   "name": "python",
   "nbconvert_exporter": "python",
   "pygments_lexer": "ipython3",
   "version": "3.12.7"
  }
 },
 "nbformat": 4,
 "nbformat_minor": 5
}

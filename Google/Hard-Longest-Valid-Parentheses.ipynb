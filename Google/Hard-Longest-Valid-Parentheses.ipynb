{
 "cells": [
  {
   "cell_type": "markdown",
   "id": "b83d2ccf-4044-41c1-b9c3-608b5431c9e7",
   "metadata": {},
   "source": [
    "## Problem: Longest Valid Parentheses\n",
    "LeetCode : 32\n",
    "\n",
    "https://leetcode.com/problems/longest-valid-parentheses/description/\n",
    "\n",
    "Given a string containing just the characters '(' and ')', return the length of the longest valid (well-formed) parentheses substring.\n",
    "\n",
    " \n",
    "\n",
    "Example 1:\n",
    "\n",
    "    Input: s = \"(()\"\n",
    "    Output: 2\n",
    "    Explanation: The longest valid parentheses substring is \"()\".\n",
    "Example 2:\n",
    "\n",
    "    Input: s = \")()())\"\n",
    "    Output: 4\n",
    "    Explanation: The longest valid parentheses substring is \"()()\".\n",
    "Example 3:\n",
    "\n",
    "    Input: s = \"\"\n",
    "    Output: 0\n",
    " \n",
    "\n",
    "Constraints:\n",
    "\n",
    "    0 <= s.length <= 3 * 104\n",
    "    s[i] is '(', or ')'."
   ]
  },
  {
   "cell_type": "code",
   "execution_count": 2,
   "id": "60f46cf1-4aba-40dd-9497-abc9894bb7f2",
   "metadata": {},
   "outputs": [],
   "source": [
    "def longestValidParentheses(s):\n",
    "    stack = [-1]\n",
    "    maxLen = 0\n",
    "    for i in range(len(s)):\n",
    "        if s[i] == \"(\":\n",
    "            stack.append(i)\n",
    "        else:\n",
    "            stack.pop()\n",
    "            if not stack:\n",
    "                stack.append(i)\n",
    "            else:\n",
    "                maxLen = max(maxLen, i-stack[-1])\n",
    "    return maxLen\n",
    "        "
   ]
  },
  {
   "cell_type": "code",
   "execution_count": 4,
   "id": "dd2e67b6-05e2-4836-b6c4-f9b78eb40487",
   "metadata": {},
   "outputs": [
    {
     "data": {
      "text/plain": [
       "4"
      ]
     },
     "execution_count": 4,
     "metadata": {},
     "output_type": "execute_result"
    }
   ],
   "source": [
    " s = \")()())\"\n",
    "longestValidParentheses(s)"
   ]
  },
  {
   "cell_type": "code",
   "execution_count": 6,
   "id": "e6bec54c-cccb-4440-936e-c147e3e435ca",
   "metadata": {},
   "outputs": [
    {
     "data": {
      "text/plain": [
       "6"
      ]
     },
     "execution_count": 6,
     "metadata": {},
     "output_type": "execute_result"
    }
   ],
   "source": [
    " s = \"()(())\"\n",
    "longestValidParentheses(s)"
   ]
  },
  {
   "cell_type": "code",
   "execution_count": null,
   "id": "b4cc1fea-8e8c-49c2-9995-063e1ef58270",
   "metadata": {},
   "outputs": [],
   "source": []
  }
 ],
 "metadata": {
  "kernelspec": {
   "display_name": "Python 3 (ipykernel)",
   "language": "python",
   "name": "python3"
  },
  "language_info": {
   "codemirror_mode": {
    "name": "ipython",
    "version": 3
   },
   "file_extension": ".py",
   "mimetype": "text/x-python",
   "name": "python",
   "nbconvert_exporter": "python",
   "pygments_lexer": "ipython3",
   "version": "3.12.7"
  }
 },
 "nbformat": 4,
 "nbformat_minor": 5
}

{
 "cells": [
  {
   "cell_type": "markdown",
   "id": "313c0a2c-5eb8-47ad-a463-ee1f45e78d8d",
   "metadata": {},
   "source": [
    "## Problem: Meeting Rooms III\n",
    "LeetCode : 2402\n",
    "https://leetcode.com/problems/meeting-rooms-iii/description/\n",
    "\n",
    "You are given an integer n. There are n rooms numbered from 0 to n - 1.\n",
    "\n",
    "You are given a 2D integer array meetings where meetings[i] = [starti, endi] means that a meeting will be held during the half-closed time interval [starti, endi). All the values of starti are unique.\n",
    "\n",
    "Meetings are allocated to rooms in the following manner:\n",
    "\n",
    "Each meeting will take place in the unused room with the lowest number.\n",
    "If there are no available rooms, the meeting will be delayed until a room becomes free. The delayed meeting should have the same duration as the original meeting.\n",
    "When a room becomes unused, meetings that have an earlier original start time should be given the room.\n",
    "Return the number of the room that held the most meetings. If there are multiple rooms, return the room with the lowest number.\n",
    "\n",
    "A half-closed interval [a, b) is the interval between a and b including a and not including b.\n",
    "\n",
    " \n",
    "\n",
    "Example 1:\n",
    "\n",
    "    Input: n = 2, meetings = [[0,10],[1,5],[2,7],[3,4]]\n",
    "    Output: 0\n",
    "    Explanation:\n",
    "    - At time 0, both rooms are not being used. The first meeting starts in room 0.\n",
    "    - At time 1, only room 1 is not being used. The second meeting starts in room 1.\n",
    "    - At time 2, both rooms are being used. The third meeting is delayed.\n",
    "    - At time 3, both rooms are being used. The fourth meeting is delayed.\n",
    "    - At time 5, the meeting in room 1 finishes. The third meeting starts in room 1 for the time period [5,10).\n",
    "    - At time 10, the meetings in both rooms finish. The fourth meeting starts in room 0 for the time period [10,11).\n",
    "    Both rooms 0 and 1 held 2 meetings, so we return 0. \n",
    "Example 2:\n",
    "\n",
    "    Input: n = 3, meetings = [[1,20],[2,10],[3,5],[4,9],[6,8]]\n",
    "    Output: 1\n",
    "    Explanation:\n",
    "    - At time 1, all three rooms are not being used. The first meeting starts in room 0.\n",
    "    - At time 2, rooms 1 and 2 are not being used. The second meeting starts in room 1.\n",
    "    - At time 3, only room 2 is not being used. The third meeting starts in room 2.\n",
    "    - At time 4, all three rooms are being used. The fourth meeting is delayed.\n",
    "    - At time 5, the meeting in room 2 finishes. The fourth meeting starts in room 2 for the time period [5,10).\n",
    "    - At time 6, all three rooms are being used. The fifth meeting is delayed.\n",
    "    - At time 10, the meetings in rooms 1 and 2 finish. The fifth meeting starts in room 1 for the time period [10,12).\n",
    "    Room 0 held 1 meeting while rooms 1 and 2 each held 2 meetings, so we return 1. \n",
    " \n",
    "\n",
    "Constraints:\n",
    "\n",
    "    1 <= n <= 100\n",
    "    1 <= meetings.length <= 105\n",
    "    meetings[i].length == 2\n",
    "    0 <= starti < endi <= 5 * 105\n",
    "    All the values of starti are unique."
   ]
  },
  {
   "cell_type": "code",
   "execution_count": 1,
   "id": "1869d4c4-efc4-4273-b645-42aabc6b4682",
   "metadata": {},
   "outputs": [],
   "source": [
    "import heapq\n",
    "def mostBooked(n, meetings):\n",
    "    rooms_count = [0]*n\n",
    "    unusedRooms = list(range(n))\n",
    "    heapq.heapify(unusedRooms)\n",
    "    usedRooms = []\n",
    "    meetings.sort()\n",
    "    for start, end in meetings:\n",
    "        while usedRooms and usedRooms[0][0] <= start:\n",
    "            _, room = heapq.heappop(usedRooms)\n",
    "            heapq.heappush(unusedRooms, room)\n",
    "        if unusedRooms:\n",
    "            room = heapq.heappop(unusedRooms)\n",
    "            heapq.heappush(usedRooms, [end, room])\n",
    "        else:\n",
    "            time, room = heapq.heappop(usedRooms)\n",
    "            heapq.heappush(usedRooms, [time+ end-start, room])\n",
    "        rooms_count[room] += 1\n",
    "    return rooms_count.index(max(rooms_count))"
   ]
  },
  {
   "cell_type": "code",
   "execution_count": 2,
   "id": "ad481f17-0b2d-4ed0-abd5-52e67d4d82b8",
   "metadata": {},
   "outputs": [
    {
     "data": {
      "text/plain": [
       "0"
      ]
     },
     "execution_count": 2,
     "metadata": {},
     "output_type": "execute_result"
    }
   ],
   "source": [
    "n = 2\n",
    "meetings = [[0,10],[1,5],[2,7],[3,4]]\n",
    "mostBooked(n, meetings)"
   ]
  },
  {
   "cell_type": "code",
   "execution_count": 3,
   "id": "005bd5f3-403d-4f48-9f87-6deedce2c82a",
   "metadata": {},
   "outputs": [
    {
     "data": {
      "text/plain": [
       "1"
      ]
     },
     "execution_count": 3,
     "metadata": {},
     "output_type": "execute_result"
    }
   ],
   "source": [
    "n = 3\n",
    "meetings = [[1,20],[2,10],[3,5],[4,9],[6,8]]\n",
    "mostBooked(n, meetings)"
   ]
  },
  {
   "cell_type": "code",
   "execution_count": null,
   "id": "4317747b-cfe3-4ca5-8afb-c2c52657a3c5",
   "metadata": {},
   "outputs": [],
   "source": []
  }
 ],
 "metadata": {
  "kernelspec": {
   "display_name": "Python 3 (ipykernel)",
   "language": "python",
   "name": "python3"
  },
  "language_info": {
   "codemirror_mode": {
    "name": "ipython",
    "version": 3
   },
   "file_extension": ".py",
   "mimetype": "text/x-python",
   "name": "python",
   "nbconvert_exporter": "python",
   "pygments_lexer": "ipython3",
   "version": "3.8.18"
  }
 },
 "nbformat": 4,
 "nbformat_minor": 5
}

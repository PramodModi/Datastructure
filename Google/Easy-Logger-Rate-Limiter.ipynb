{
 "cells": [
  {
   "cell_type": "markdown",
   "id": "b940ac8c-b8d8-4b32-826c-c084b999600a",
   "metadata": {},
   "source": [
    "## Problem: Logger Rate Limiter\n",
    "LeetCode : 359\n",
    "\n",
    "https://leetcode.com/problems/logger-rate-limiter/description/\n",
    "\n",
    "Design a logger system that receives a stream of messages along with their timestamps. Each unique message should only be printed at most every 10 seconds (i.e. a message printed at timestamp t will prevent other identical messages from being printed until timestamp t + 10).\n",
    "\n",
    "All messages will come in chronological order. Several messages may arrive at the same timestamp.\n",
    "\n",
    "Implement the Logger class:\n",
    "\n",
    "Logger() Initializes the logger object.\n",
    "bool shouldPrintMessage(int timestamp, string message) Returns true if the message should be printed in the given timestamp, otherwise returns false.\n",
    " \n",
    "\n",
    "Example 1:\n",
    "\n",
    "    Input\n",
    "    [\"Logger\", \"shouldPrintMessage\", \"shouldPrintMessage\", \"shouldPrintMessage\", \"shouldPrintMessage\", \"shouldPrintMessage\", \"shouldPrintMessage\"]\n",
    "    [[], [1, \"foo\"], [2, \"bar\"], [3, \"foo\"], [8, \"bar\"], [10, \"foo\"], [11, \"foo\"]]\n",
    "    Output\n",
    "    [null, true, true, false, false, false, true]\n",
    "    \n",
    "    Explanation\n",
    "    Logger logger = new Logger();\n",
    "    logger.shouldPrintMessage(1, \"foo\");  // return true, next allowed timestamp for \"foo\" is 1 + 10 = 11\n",
    "    logger.shouldPrintMessage(2, \"bar\");  // return true, next allowed timestamp for \"bar\" is 2 + 10 = 12\n",
    "    logger.shouldPrintMessage(3, \"foo\");  // 3 < 11, return false\n",
    "    logger.shouldPrintMessage(8, \"bar\");  // 8 < 12, return false\n",
    "    logger.shouldPrintMessage(10, \"foo\"); // 10 < 11, return false\n",
    "    logger.shouldPrintMessage(11, \"foo\"); // 11 >= 11, return true, next allowed timestamp for \"foo\" is 11 + 10 = 21\n",
    "     \n",
    "\n",
    "Constraints:\n",
    "\n",
    "    0 <= timestamp <= 109\n",
    "    Every timestamp will be passed in non-decreasing order (chronological order).\n",
    "    1 <= message.length <= 30\n",
    "    At most 104 calls will be made to shouldPrintMessage."
   ]
  },
  {
   "cell_type": "code",
   "execution_count": 2,
   "id": "5e4b4815-17a9-4574-8134-6e472a8123ce",
   "metadata": {},
   "outputs": [],
   "source": [
    "class Logger:\n",
    "\n",
    "    def __init__(self):\n",
    "        self.temp = {}\n",
    "        \n",
    "\n",
    "    def shouldPrintMessage(self, timestamp: int, message: str) -> bool:\n",
    "        if message in self.temp and timestamp - self.temp[message] < 10:\n",
    "            return False\n",
    "        self.temp[message] = timestamp\n",
    "        return True\n"
   ]
  },
  {
   "cell_type": "code",
   "execution_count": null,
   "id": "ef8f9c5a-ef81-481e-8132-8c022be8e3d1",
   "metadata": {},
   "outputs": [],
   "source": []
  }
 ],
 "metadata": {
  "kernelspec": {
   "display_name": "Python 3 (ipykernel)",
   "language": "python",
   "name": "python3"
  },
  "language_info": {
   "codemirror_mode": {
    "name": "ipython",
    "version": 3
   },
   "file_extension": ".py",
   "mimetype": "text/x-python",
   "name": "python",
   "nbconvert_exporter": "python",
   "pygments_lexer": "ipython3",
   "version": "3.12.7"
  }
 },
 "nbformat": 4,
 "nbformat_minor": 5
}

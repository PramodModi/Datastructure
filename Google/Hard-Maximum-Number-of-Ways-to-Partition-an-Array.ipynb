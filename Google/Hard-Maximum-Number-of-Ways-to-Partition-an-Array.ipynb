{
 "cells": [
  {
   "cell_type": "markdown",
   "id": "3838876f-93a0-49ae-b966-ecf91b605906",
   "metadata": {},
   "source": [
    "## Problem: Maximum Number of Ways to Partition an Array\n",
    "\n",
    "Leetcode: 2025\n",
    "\n",
    "https://leetcode.com/problems/maximum-number-of-ways-to-partition-an-array/description/\n",
    "\n",
    "You are given a 0-indexed integer array nums of length n. The number of ways to partition nums is the number of pivot indices that satisfy both conditions:\n",
    "\n",
    "    1 <= pivot < n\n",
    "    nums[0] + nums[1] + ... + nums[pivot - 1] == nums[pivot] + nums[pivot + 1] + ... + nums[n - 1]\n",
    "You are also given an integer k. You can choose to change the value of one element of nums to k, or to leave the array unchanged.\n",
    "\n",
    "Return the maximum possible number of ways to partition nums to satisfy both conditions after changing at most one element.\n",
    "\n",
    " \n",
    "\n",
    "Example 1:\n",
    "\n",
    "    Input: nums = [2,-1,2], k = 3\n",
    "    Output: 1\n",
    "    Explanation: One optimal approach is to change nums[0] to k. The array becomes [3,-1,2].\n",
    "    There is one way to partition the array:\n",
    "    - For pivot = 2, we have the partition [3,-1 | 2]: 3 + -1 == 2.\n",
    "Example 2:\n",
    "\n",
    "    Input: nums = [0,0,0], k = 1\n",
    "    Output: 2\n",
    "    Explanation: The optimal approach is to leave the array unchanged.\n",
    "    There are two ways to partition the array:\n",
    "    - For pivot = 1, we have the partition [0 | 0,0]: 0 == 0 + 0.\n",
    "    - For pivot = 2, we have the partition [0,0 | 0]: 0 + 0 == 0.\n",
    "Example 3:\n",
    "\n",
    "    Input: nums = [22,4,-25,-20,-15,15,-16,7,19,-10,0,-13,-14], k = -33\n",
    "    Output: 4\n",
    "    Explanation: One optimal approach is to change nums[2] to k. The array becomes [22,4,-33,-20,-15,15,-16,7,19,-10,0,-13,-14].\n",
    "    There are four ways to partition the array.\n",
    " \n",
    "\n",
    "Constraints:\n",
    "\n",
    "    n == nums.length\n",
    "    2 <= n <= 10^5\n",
    "    -10^5 <= k, nums[i] <= 10^5"
   ]
  },
  {
   "cell_type": "code",
   "execution_count": 19,
   "id": "623454e5-693e-42d5-95bb-c84ae695e875",
   "metadata": {},
   "outputs": [],
   "source": [
    "def waysPartition(nums, k):\n",
    "    n = len(nums)\n",
    "    target = sum(nums)//2\n",
    "    print(target)\n",
    "    dp= [[0] * (target+1) for _ in range(n+1)]\n",
    "\n",
    "    for i in range(n+1):\n",
    "        dp[i][0] = 1\n",
    "        \n",
    "    for i in range(1, n+1):\n",
    "        num = nums[i-1]\n",
    "        for j in range(1, target+1):\n",
    "            if j >= num  :\n",
    "                print(\"j =\", j)\n",
    "                print(\"num = \", num)\n",
    "                dp[i][j] = max(dp[i-1][j- num], dp[i-1][j])\n",
    "                if k != 0 and k <= j:\n",
    "                    dp[i][j] = max(dp[i][j], dp[i-1][j-k])\n",
    "            else:\n",
    "                dp[i][j] = dp[i-1][j]\n",
    "    return dp[-1][-1]\n",
    "                    \n",
    "            \n"
   ]
  },
  {
   "cell_type": "code",
   "execution_count": 20,
   "id": "7658dcb2-7841-4029-b9be-d1f63e2a6e56",
   "metadata": {},
   "outputs": [
    {
     "name": "stdout",
     "output_type": "stream",
     "text": [
      "1\n",
      "j = 1\n",
      "num =  -1\n"
     ]
    },
    {
     "ename": "IndexError",
     "evalue": "list index out of range",
     "output_type": "error",
     "traceback": [
      "\u001b[0;31m---------------------------------------------------------------------------\u001b[0m",
      "\u001b[0;31mIndexError\u001b[0m                                Traceback (most recent call last)",
      "Cell \u001b[0;32mIn[20], line 3\u001b[0m\n\u001b[1;32m      1\u001b[0m nums \u001b[38;5;241m=\u001b[39m [\u001b[38;5;241m2\u001b[39m,\u001b[38;5;241m-\u001b[39m\u001b[38;5;241m1\u001b[39m,\u001b[38;5;241m2\u001b[39m]\n\u001b[1;32m      2\u001b[0m k \u001b[38;5;241m=\u001b[39m \u001b[38;5;241m3\u001b[39m\n\u001b[0;32m----> 3\u001b[0m \u001b[43mwaysPartition\u001b[49m\u001b[43m(\u001b[49m\u001b[43mnums\u001b[49m\u001b[43m,\u001b[49m\u001b[43m \u001b[49m\u001b[43mk\u001b[49m\u001b[43m)\u001b[49m\n",
      "Cell \u001b[0;32mIn[19], line 16\u001b[0m, in \u001b[0;36mwaysPartition\u001b[0;34m(nums, k)\u001b[0m\n\u001b[1;32m     14\u001b[0m \u001b[38;5;28mprint\u001b[39m(\u001b[38;5;124m\"\u001b[39m\u001b[38;5;124mj =\u001b[39m\u001b[38;5;124m\"\u001b[39m, j)\n\u001b[1;32m     15\u001b[0m \u001b[38;5;28mprint\u001b[39m(\u001b[38;5;124m\"\u001b[39m\u001b[38;5;124mnum = \u001b[39m\u001b[38;5;124m\"\u001b[39m, num)\n\u001b[0;32m---> 16\u001b[0m dp[i][j] \u001b[38;5;241m=\u001b[39m \u001b[38;5;28mmax\u001b[39m(\u001b[43mdp\u001b[49m\u001b[43m[\u001b[49m\u001b[43mi\u001b[49m\u001b[38;5;241;43m-\u001b[39;49m\u001b[38;5;241;43m1\u001b[39;49m\u001b[43m]\u001b[49m\u001b[43m[\u001b[49m\u001b[43mj\u001b[49m\u001b[38;5;241;43m-\u001b[39;49m\u001b[43m \u001b[49m\u001b[43mnum\u001b[49m\u001b[43m]\u001b[49m, dp[i\u001b[38;5;241m-\u001b[39m\u001b[38;5;241m1\u001b[39m][j])\n\u001b[1;32m     17\u001b[0m \u001b[38;5;28;01mif\u001b[39;00m k \u001b[38;5;241m!=\u001b[39m \u001b[38;5;241m0\u001b[39m \u001b[38;5;129;01mand\u001b[39;00m k \u001b[38;5;241m<\u001b[39m\u001b[38;5;241m=\u001b[39m j:\n\u001b[1;32m     18\u001b[0m     dp[i][j] \u001b[38;5;241m=\u001b[39m \u001b[38;5;28mmax\u001b[39m(dp[i][j], dp[i\u001b[38;5;241m-\u001b[39m\u001b[38;5;241m1\u001b[39m][j\u001b[38;5;241m-\u001b[39mk])\n",
      "\u001b[0;31mIndexError\u001b[0m: list index out of range"
     ]
    }
   ],
   "source": [
    "nums = [2,-1,2]\n",
    "k = 3\n",
    "waysPartition(nums, k)"
   ]
  },
  {
   "cell_type": "code",
   "execution_count": null,
   "id": "3134dcc5-b6a8-48f8-9454-0ca599584c12",
   "metadata": {},
   "outputs": [],
   "source": []
  }
 ],
 "metadata": {
  "kernelspec": {
   "display_name": "Python 3 (ipykernel)",
   "language": "python",
   "name": "python3"
  },
  "language_info": {
   "codemirror_mode": {
    "name": "ipython",
    "version": 3
   },
   "file_extension": ".py",
   "mimetype": "text/x-python",
   "name": "python",
   "nbconvert_exporter": "python",
   "pygments_lexer": "ipython3",
   "version": "3.8.18"
  }
 },
 "nbformat": 4,
 "nbformat_minor": 5
}

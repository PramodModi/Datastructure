{
 "cells": [
  {
   "cell_type": "markdown",
   "id": "8aed7078-a441-4624-9dc3-f53f2b16033a",
   "metadata": {},
   "source": [
    "## Problem : The Earliest Moment When Everyone Become Friends\n",
    "LeetCode : 1101\n",
    "\n",
    "https://leetcode.com/problems/the-earliest-moment-when-everyone-become-friends/description\n",
    "\n",
    "There are n people in a social group labeled from 0 to n - 1. You are given an array logs where logs[i] = [timestampi, xi, yi] indicates that xi and yi will be friends at the time timestampi.\n",
    "\n",
    "Friendship is symmetric. That means if a is friends with b, then b is friends with a. Also, person a is acquainted with a person b if a is friends with b, or a is a friend of someone acquainted with b.\n",
    "\n",
    "Return the earliest time for which every person became acquainted with every other person. If there is no such earliest time, return -1.\n",
    "\n",
    " \n",
    "\n",
    "Example 1:\n",
    "\n",
    "    Input: logs = [[20190101,0,1],[20190104,3,4],[20190107,2,3],[20190211,1,5],[20190224,2,4],[20190301,0,3],[20190312,1,2],[20190322,4,5]], n = 6\n",
    "    Output: 20190301\n",
    "    Explanation: \n",
    "    The first event occurs at timestamp = 20190101, and after 0 and 1 become friends, we have the following friendship groups [0,1], [2], [3], [4], [5].\n",
    "    The second event occurs at timestamp = 20190104, and after 3 and 4 become friends, we have the following friendship groups [0,1], [2], [3,4], [5].\n",
    "    The third event occurs at timestamp = 20190107, and after 2 and 3 become friends, we have the following friendship groups [0,1], [2,3,4], [5].\n",
    "    The fourth event occurs at timestamp = 20190211, and after 1 and 5 become friends, we have the following friendship groups [0,1,5], [2,3,4].\n",
    "    The fifth event occurs at timestamp = 20190224, and as 2 and 4 are already friends, nothing happens.\n",
    "    The sixth event occurs at timestamp = 20190301, and after 0 and 3 become friends, we all become friends.\n",
    "Example 2:\n",
    "\n",
    "    Input: logs = [[0,2,0],[1,0,1],[3,0,3],[4,1,2],[7,3,1]], n = 4\n",
    "    Output: 3\n",
    "    Explanation: At timestamp = 3, all the persons (i.e., 0, 1, 2, and 3) become friends.\n",
    "     \n",
    "\n",
    "Constraints:\n",
    "\n",
    "    2 <= n <= 100\n",
    "    1 <= logs.length <= 104\n",
    "    logs[i].length == 3\n",
    "    0 <= timestampi <= 109\n",
    "    0 <= xi, yi <= n - 1\n",
    "    xi != yi\n",
    "    All the values timestampi are unique.\n",
    "    All the pairs (xi, yi) occur at most one time in the input."
   ]
  },
  {
   "cell_type": "code",
   "execution_count": 8,
   "id": "08979f66-e270-420c-801e-4c8ea2e68d91",
   "metadata": {},
   "outputs": [],
   "source": [
    "def earliestAcq1(logs, n):\n",
    "    logs.sort(key = lambda x: x[0])\n",
    "    parent = [i for i in range(n)]\n",
    "    rank = [1] * n\n",
    "    def get_root(parent, x):\n",
    "        if x == parent[x]:\n",
    "            return x\n",
    "        parent[x] = get_root(parent, parent[x])\n",
    "        return parent[x]\n",
    "    for log in logs:\n",
    "        rootx = get_root(parent, log[1])\n",
    "        rooty = get_root(parent, log[2])\n",
    "        if rootx != rooty:\n",
    "            if rank[rootx] > rank[rooty]:\n",
    "                parent[rooty] = rootx\n",
    "            elif rank[rootx] < rank[rooty]:\n",
    "                parent[rootx] = rooty\n",
    "            else:\n",
    "                parent[rooty] = rootx\n",
    "                rank[rootx] += 1\n",
    "            n -= 1\n",
    "        if n == 1:\n",
    "            return log[0]\n",
    "    return -1"
   ]
  },
  {
   "cell_type": "code",
   "execution_count": 10,
   "id": "3cd5366c-0d9a-4ed1-beec-aa47e59ac443",
   "metadata": {},
   "outputs": [
    {
     "data": {
      "text/plain": [
       "20190301"
      ]
     },
     "execution_count": 10,
     "metadata": {},
     "output_type": "execute_result"
    }
   ],
   "source": [
    "logs = [[20190101,0,1],[20190104,3,4],[20190107,2,3],[20190211,1,5],[20190224,2,4],[20190301,0,3],[20190312,1,2],[20190322,4,5]]\n",
    "n = 6\n",
    "earliestAcq1(logs, n)"
   ]
  },
  {
   "cell_type": "code",
   "execution_count": 4,
   "id": "11cdb72a-e2fd-4147-af02-c09b19b5334d",
   "metadata": {},
   "outputs": [],
   "source": [
    "def earliestAcq(logs, n):\n",
    "        logs.sort(key = lambda x: x[0])\n",
    "        uf = UnionFind(n)\n",
    "        count = n\n",
    "        for log in logs:\n",
    "            count -= uf.union(log[1], log[2])\n",
    "            if count == 1:\n",
    "                return log[0]\n",
    "        return -1\n",
    "    \n",
    "class UnionFind:\n",
    "    def __init__(self, size):\n",
    "        self.root = [i for i in range(size)]\n",
    "        self.rank = [1]*size\n",
    "        \n",
    "    def find(self, x):\n",
    "        if x == self.root[x]:\n",
    "            return x\n",
    "        self.root[x] = self.find(self.root[x])\n",
    "        return self.root[x]\n",
    "    \n",
    "    def union(self, x, y):\n",
    "        rootX = self.find(x)\n",
    "        rootY = self.find(y)\n",
    "        if rootX != rootY:\n",
    "            if self.rank[rootX] > self.rank[rootY]:\n",
    "                self.root[rootY] = self.root[rootX]\n",
    "            elif self.rank[rootX] < self.rank[rootY]:\n",
    "                self.root[rootX] = rootY\n",
    "            else:\n",
    "                self.root[rootY] = rootX\n",
    "                self.rank[rootX] += 1\n",
    "            return 1\n",
    "        return 0"
   ]
  },
  {
   "cell_type": "code",
   "execution_count": 6,
   "id": "93732575-f412-407e-9e5a-56a2df1b06fc",
   "metadata": {},
   "outputs": [
    {
     "data": {
      "text/plain": [
       "20190301"
      ]
     },
     "execution_count": 6,
     "metadata": {},
     "output_type": "execute_result"
    }
   ],
   "source": [
    "logs = [[20190101,0,1],[20190104,3,4],[20190107,2,3],[20190211,1,5],[20190224,2,4],[20190301,0,3],[20190312,1,2],[20190322,4,5]]\n",
    "n = 6\n",
    "earliestAcq(logs, n)"
   ]
  },
  {
   "cell_type": "code",
   "execution_count": null,
   "id": "799b986a-6a04-4557-9d26-31db9a215f33",
   "metadata": {},
   "outputs": [],
   "source": []
  }
 ],
 "metadata": {
  "kernelspec": {
   "display_name": "Python 3 (ipykernel)",
   "language": "python",
   "name": "python3"
  },
  "language_info": {
   "codemirror_mode": {
    "name": "ipython",
    "version": 3
   },
   "file_extension": ".py",
   "mimetype": "text/x-python",
   "name": "python",
   "nbconvert_exporter": "python",
   "pygments_lexer": "ipython3",
   "version": "3.12.7"
  }
 },
 "nbformat": 4,
 "nbformat_minor": 5
}

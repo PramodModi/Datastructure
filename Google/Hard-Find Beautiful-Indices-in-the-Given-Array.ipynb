{
 "cells": [
  {
   "cell_type": "markdown",
   "id": "c938976d-75e3-427b-9162-2342ee3d3637",
   "metadata": {},
   "source": [
    "## Problem : Find Beautiful Indices in the Given Array II\n",
    "LeetCode : 3008\n",
    "\n",
    "https://leetcode.com/problems/find-beautiful-indices-in-the-given-array-ii/description/\n",
    "\n",
    "You are given a 0-indexed string s, a string a, a string b, and an integer k.\n",
    "\n",
    "An index i is beautiful if:\n",
    "\n",
    "    0 <= i <= s.length - a.length\n",
    "    s[i..(i + a.length - 1)] == a\n",
    "    There exists an index j such that:\n",
    "    0 <= j <= s.length - b.length\n",
    "    s[j..(j + b.length - 1)] == b\n",
    "    |j - i| <= k\n",
    "Return the array that contains beautiful indices in sorted order from smallest to largest.\n",
    "\n",
    "Example 1:\n",
    "\n",
    "    Input: s = \"isawsquirrelnearmysquirrelhouseohmy\", a = \"my\", b = \"squirrel\", k = 15\n",
    "    Output: [16,33]\n",
    "    Explanation: There are 2 beautiful indices: [16,33].\n",
    "    - The index 16 is beautiful as s[16..17] == \"my\" and there exists an index 4 with s[4..11] == \"squirrel\" and |16 - 4| <= 15.\n",
    "    - The index 33 is beautiful as s[33..34] == \"my\" and there exists an index 18 with s[18..25] == \"squirrel\" and |33 - 18| <= 15.\n",
    "    Thus we return [16,33] as the result.\n",
    "Example 2:\n",
    "\n",
    "    Input: s = \"abcd\", a = \"a\", b = \"a\", k = 4\n",
    "    Output: [0]\n",
    "    Explanation: There is 1 beautiful index: [0].\n",
    "    - The index 0 is beautiful as s[0..0] == \"a\" and there exists an index 0 with s[0..0] == \"a\" and |0 - 0| <= 4.\n",
    "    Thus we return [0] as the result.\n",
    " \n",
    "\n",
    "Constraints:\n",
    "\n",
    "    1 <= k <= s.length <= 5 * 105\n",
    "    1 <= a.length, b.length <= 5 * 105\n",
    "    s, a, and b contain only lowercase English letters.\n"
   ]
  },
  {
   "cell_type": "markdown",
   "id": "b9b3395d-fd35-4fea-b0ce-f286dec959a0",
   "metadata": {},
   "source": [
    "### Approach:\n",
    "\n",
    "Use Knuth-Morris-Pratt (KMP) algorithm to find the pattern in the string. Return the indices of occurance of patterns.\n",
    "As occrance would be in the sorted order, so we can use either binary search or two pointers approach to satisy the condition.\n",
    "I have used two pointers approach here for simplicity."
   ]
  },
  {
   "cell_type": "code",
   "execution_count": 1,
   "id": "ac3be9eb-d2aa-4f77-9088-b5e3066eb029",
   "metadata": {},
   "outputs": [],
   "source": [
    "def beautifulIndices(s, a, b, k):\n",
    "        indices_a = kmpAlgo(s,a)\n",
    "        indices_b = kmpAlgo(s,b)\n",
    "        \n",
    "        result = []\n",
    "        i = 0\n",
    "        j = 0\n",
    "        while i < len(indices_a) and j < len(indices_b):\n",
    "            x = indices_a[i]\n",
    "            y = indices_b[j]\n",
    "            if abs(x-y) <= k:\n",
    "                result.append(x)\n",
    "                i += 1\n",
    "            elif x < y:\n",
    "                i += 1\n",
    "            else:\n",
    "                j += 1\n",
    "        return result\n",
    "\n",
    "def kmpAlgo(text,pattern):\n",
    "    occurance = []\n",
    "    lps = buildLPS(pattern)\n",
    "    i = 0\n",
    "    j = 0\n",
    "    while i < len(text):\n",
    "        if text[i] == pattern[j]:\n",
    "            i += 1\n",
    "            j += 1\n",
    "        if j == len(pattern):\n",
    "            occurance.append(i-j)\n",
    "            j = lps[j-1]\n",
    "        elif i < len(text) and text[i] != pattern[j]:\n",
    "            if j != 0:\n",
    "                j = lps[j-1]\n",
    "            else:\n",
    "                i += 1\n",
    "    return occurance\n",
    "\n",
    "def buildLPS(pattern):\n",
    "    m = len(pattern)\n",
    "    lps = [0] * m\n",
    "    length = 0\n",
    "    i = 1\n",
    "    while i < len(pattern):\n",
    "        if pattern[i] == pattern[length]:\n",
    "            length += 1\n",
    "            lps[i] = length\n",
    "            i += 1\n",
    "        elif length != 0:\n",
    "            length = lps[length-1]\n",
    "        else:\n",
    "            length = 0\n",
    "            i += 1\n",
    "    return lps"
   ]
  },
  {
   "cell_type": "code",
   "execution_count": 2,
   "id": "967b493c-d80c-477c-a431-d61c96e96ebf",
   "metadata": {},
   "outputs": [
    {
     "data": {
      "text/plain": [
       "[16, 33]"
      ]
     },
     "execution_count": 2,
     "metadata": {},
     "output_type": "execute_result"
    }
   ],
   "source": [
    "s = \"isawsquirrelnearmysquirrelhouseohmy\"\n",
    "a = \"my\"\n",
    "b = \"squirrel\"\n",
    "k = 15\n",
    "beautifulIndices(s, a, b, k)"
   ]
  },
  {
   "cell_type": "code",
   "execution_count": null,
   "id": "18fa3bf7-f7e1-4375-8359-6b0e99812721",
   "metadata": {},
   "outputs": [],
   "source": []
  }
 ],
 "metadata": {
  "kernelspec": {
   "display_name": "Python 3 (ipykernel)",
   "language": "python",
   "name": "python3"
  },
  "language_info": {
   "codemirror_mode": {
    "name": "ipython",
    "version": 3
   },
   "file_extension": ".py",
   "mimetype": "text/x-python",
   "name": "python",
   "nbconvert_exporter": "python",
   "pygments_lexer": "ipython3",
   "version": "3.8.18"
  }
 },
 "nbformat": 4,
 "nbformat_minor": 5
}

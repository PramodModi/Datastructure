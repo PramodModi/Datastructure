{
 "cells": [
  {
   "attachments": {
    "b6aa7e0a-a0d9-481f-be30-b550d8ab507e.png": {
     "image/png": "[encoded data removed]"
    }
   },
   "cell_type": "markdown",
   "id": "666d29ee-5559-47c1-b688-5b810cdbe4e7",
   "metadata": {},
   "source": [
    "## Problem: Largest rectangle in histogram\n",
    "\n",
    "LeetCode: 84\n",
    "\n",
    "https://leetcode.com/problems/largest-rectangle-in-histogram/description/\n",
    "\n",
    "Given an array of integers heights representing the histogram's bar height where the width of each bar is 1, return the area of the largest rectangle in the histogram.\n",
    "\n",
    " \n",
    "\n",
    "Example 1:\n",
    "\n",
    "![image.png](attachment:b6aa7e0a-a0d9-481f-be30-b550d8ab507e.png)\n",
    "\n",
    "    Input: heights = [2,1,5,6,2,3]\n",
    "    Output: 10\n",
    "    Explanation: The above is a histogram where width of each bar is 1.\n",
    "    The largest rectangle is shown in the red area, which has an area = 10 units.\n",
    "Example 2:\n",
    "\n",
    "\n",
    "    Input: heights = [2,4]\n",
    "    Output: 4\n",
    " \n",
    "\n",
    "Constraints:\n",
    "\n",
    "    1 <= heights.length <= 105\n",
    "    0 <= heights[i] <= 104\n"
   ]
  },
  {
   "cell_type": "markdown",
   "id": "324cd89c-ce04-48a5-b621-41adfcc2fcf2",
   "metadata": {},
   "source": [
    "## Approach:\n",
    "To find the area of one histogram at ith position. We need to find how many histograms are bigger or equal to selected histogram in\n",
    "both sides (left and right). In other waym we need to find next histogram having smaller heights in both direction.\n",
    "Monotonic stack is useful here. We will create two array having position next smaller histogram positions one for each directions.\n",
    "\n",
    "Now, we know for a given histogram, how much left and right we can go. Calculate the Area by height x width. width = (right[i]-left[i] + 1).\n",
    "Save the max area and return."
   ]
  },
  {
   "cell_type": "code",
   "execution_count": 5,
   "id": "4f68545f-d5ae-4fcf-93e5-0a9dfbaf7400",
   "metadata": {},
   "outputs": [],
   "source": [
    "def largestRectangleArea(heights):\n",
    "    n = len(heights)\n",
    "    left = [0]*n # store distance from left\n",
    "    right = [0]*n # store distance from right\n",
    "    stack = [] # Monotonic stack\n",
    "    # Start from right\n",
    "    for i in range(n-1, -1,-1):\n",
    "        h = heights[i]\n",
    "        while stack and h <= stack[-1][1]: # Need to find smaller height towards right\n",
    "            stack.pop()\n",
    "        if stack:\n",
    "            right[i] = stack[-1][0] -1\n",
    "        else:\n",
    "            right[i] = n-1\n",
    "        stack.append((i, h))\n",
    "    print(\"right = \", right)\n",
    "    # travers from left\n",
    "    stack = []\n",
    "    for i in range(n):\n",
    "        h = heights[i]\n",
    "        while stack and h <= stack[-1][1]: ## Need to find smaller height towards left\n",
    "            stack.pop()\n",
    "        if stack:\n",
    "            left[i] = stack[-1][0] + 1\n",
    "        else:\n",
    "            left[i] = 0\n",
    "        stack.append((i,h))\n",
    "    print(\"left = \", left)\n",
    "    # calculate Area and look for maximum\n",
    "    maxArea = 0\n",
    "    for i in range(n):\n",
    "        h = heights[i]\n",
    "        maxArea = max(maxArea, h*(right[i]-left[i] + 1))\n",
    "    return maxArea"
   ]
  },
  {
   "cell_type": "code",
   "execution_count": 6,
   "id": "494743be-d097-4311-8f9d-f50ab11fbe7c",
   "metadata": {},
   "outputs": [
    {
     "name": "stdout",
     "output_type": "stream",
     "text": [
      "right =  [0, 5, 3, 3, 5, 5]\n",
      "left =  [0, 0, 2, 3, 2, 5]\n"
     ]
    },
    {
     "data": {
      "text/plain": [
       "10"
      ]
     },
     "execution_count": 6,
     "metadata": {},
     "output_type": "execute_result"
    }
   ],
   "source": [
    "heights = [2,1,5,6,2,3]\n",
    "largestRectangleArea(heights)"
   ]
  },
  {
   "cell_type": "code",
   "execution_count": null,
   "id": "06cb9a20-f164-448d-aeae-6882a51f4c2d",
   "metadata": {},
   "outputs": [],
   "source": []
  }
 ],
 "metadata": {
  "kernelspec": {
   "display_name": "Python 3 (ipykernel)",
   "language": "python",
   "name": "python3"
  },
  "language_info": {
   "codemirror_mode": {
    "name": "ipython",
    "version": 3
   },
   "file_extension": ".py",
   "mimetype": "text/x-python",
   "name": "python",
   "nbconvert_exporter": "python",
   "pygments_lexer": "ipython3",
   "version": "3.12.7"
  }
 },
 "nbformat": 4,
 "nbformat_minor": 5
}

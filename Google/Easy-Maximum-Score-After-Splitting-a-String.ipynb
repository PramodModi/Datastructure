{
 "cells": [
  {
   "cell_type": "markdown",
   "id": "c9f005c3-0d76-4584-aac2-d0723681021b",
   "metadata": {},
   "source": [
    "# Problem : Maximum Score After Splitting a String\n",
    "LetCode : 1422\n",
    "\n",
    "https://leetcode.com/problems/maximum-score-after-splitting-a-string/description/\n",
    "\n",
    "Given a string s of zeros and ones, return the maximum score after splitting the string into two non-empty substrings (i.e. left substring and right substring).\n",
    "\n",
    "The score after splitting a string is the number of zeros in the left substring plus the number of ones in the right substring.\n",
    "\n",
    " \n",
    "\n",
    "Example 1:\n",
    "\n",
    "    Input: s = \"011101\"\n",
    "    Output: 5 \n",
    "    Explanation: \n",
    "    All possible ways of splitting s into two non-empty substrings are:\n",
    "    left = \"0\" and right = \"11101\", score = 1 + 4 = 5 \n",
    "    left = \"01\" and right = \"1101\", score = 1 + 3 = 4 \n",
    "    left = \"011\" and right = \"101\", score = 1 + 2 = 3 \n",
    "    left = \"0111\" and right = \"01\", score = 1 + 1 = 2 \n",
    "    left = \"01110\" and right = \"1\", score = 2 + 1 = 3\n",
    "Example 2:\n",
    "\n",
    "    Input: s = \"00111\"\n",
    "    Output: 5\n",
    "    Explanation: When left = \"00\" and right = \"111\", we get the maximum score = 2 + 3 = 5\n",
    "Example 3:\n",
    "\n",
    "    Input: s = \"1111\"\n",
    "    Output: 3\n",
    " \n",
    "\n",
    "Constraints:\n",
    "\n",
    "    2 <= s.length <= 500\n",
    "    The string s consists of characters '0' and '1' only."
   ]
  },
  {
   "cell_type": "code",
   "execution_count": 6,
   "id": "7df6c527-e215-40e1-8c17-9776d8d01b71",
   "metadata": {},
   "outputs": [],
   "source": [
    "def maxScore(s):\n",
    "    rightscore = s.count(\"1\")\n",
    "    leftscore = 0\n",
    "    maxscore = 0\n",
    "    for i in range(len(s)-1):\n",
    "        c = s[i]\n",
    "        if c == '0':\n",
    "            leftscore += 1\n",
    "        if c == '1':\n",
    "            rightscore -= 1\n",
    "        maxscore = max(maxscore, leftscore+rightscore)\n",
    "    return maxscore"
   ]
  },
  {
   "cell_type": "code",
   "execution_count": 10,
   "id": "95ea4f3e-b460-4165-aa80-7bef25004ebb",
   "metadata": {},
   "outputs": [
    {
     "data": {
      "text/plain": [
       "5"
      ]
     },
     "execution_count": 10,
     "metadata": {},
     "output_type": "execute_result"
    }
   ],
   "source": [
    " s = \"00111\"\n",
    "maxScore(s)"
   ]
  },
  {
   "cell_type": "code",
   "execution_count": null,
   "id": "ec15e557-100b-4a17-bd8d-6e950af0ac03",
   "metadata": {},
   "outputs": [],
   "source": []
  }
 ],
 "metadata": {
  "kernelspec": {
   "display_name": "Python 3 (ipykernel)",
   "language": "python",
   "name": "python3"
  },
  "language_info": {
   "codemirror_mode": {
    "name": "ipython",
    "version": 3
   },
   "file_extension": ".py",
   "mimetype": "text/x-python",
   "name": "python",
   "nbconvert_exporter": "python",
   "pygments_lexer": "ipython3",
   "version": "3.12.7"
  }
 },
 "nbformat": 4,
 "nbformat_minor": 5
}

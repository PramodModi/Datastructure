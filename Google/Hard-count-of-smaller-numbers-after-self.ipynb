{
 "cells": [
  {
   "cell_type": "markdown",
   "id": "3310b4db-97c2-4294-abb5-c647ccd6aaaa",
   "metadata": {},
   "source": [
    "## Problem :  Count of Smaller Numbers After Self\n",
    "\n",
    "LeetCode: 315\n",
    "\n",
    "https://leetcode.com/problems/count-of-smaller-numbers-after-self/description/\n",
    "\n",
    "Given an integer array nums, return an integer array counts where counts[i] is the number of smaller elements to the right of nums[i].\n",
    "\n",
    " \n",
    "\n",
    "Example 1:\n",
    "\n",
    "    Input: nums = [5,2,6,1]\n",
    "    Output: [2,1,1,0]\n",
    "    Explanation:\n",
    "    To the right of 5 there are 2 smaller elements (2 and 1).\n",
    "    To the right of 2 there is only 1 smaller element (1).\n",
    "    To the right of 6 there is 1 smaller element (1).\n",
    "    To the right of 1 there is 0 smaller element.\n",
    "Example 2:\n",
    "\n",
    "    Input: nums = [-1]\n",
    "    Output: [0]\n",
    "Example 3:\n",
    "\n",
    "    Input: nums = [-1,-1]\n",
    "    Output: [0,0]\n",
    " \n",
    "\n",
    "Constraints:\n",
    "\n",
    "    1 <= nums.length <= 10^5\n",
    "    -10^4 <= nums[i] <= 10^4"
   ]
  },
  {
   "cell_type": "code",
   "execution_count": 10,
   "id": "6682f013-27be-4fa5-8809-7cb26b49ef0a",
   "metadata": {},
   "outputs": [],
   "source": [
    "def countSmaller(nums):\n",
    "        n = len(nums)\n",
    "        arr = [[v, i] for i, v in enumerate(nums)]\n",
    "        result = [0] * n\n",
    "        mergeSort(arr, 0, n, result)\n",
    "        return result\n",
    "def mergeSort(arr, left, right, result):\n",
    "    if right-left<=1:\n",
    "        return\n",
    "    mid = (left+right)//2\n",
    "    mergeSort(arr, left, mid, result)\n",
    "    mergeSort(arr, mid, right, result)\n",
    "    merge(arr, left, mid, right, result)\n",
    "    print(\"result in mergeSort : \", result)\n",
    "def merge(arr, left, mid, right, result):\n",
    "    temp = []\n",
    "    i = left\n",
    "    j = mid\n",
    "    while i< mid and j < right:\n",
    "        if arr[i][0] <= arr[j][0]:\n",
    "            result[arr[i][1]] += j-mid\n",
    "            temp.append(arr[i])\n",
    "            i += 1\n",
    "        else:\n",
    "            temp.append(arr[j])\n",
    "            j += 1\n",
    "    while i < mid:\n",
    "        result[arr[i][1]] += j-mid\n",
    "        temp.append(arr[i])\n",
    "        i += 1\n",
    "    while j < right:\n",
    "        temp.append(arr[j])\n",
    "        j += 1\n",
    "    for i in range(left, right):\n",
    "        arr[i] = temp[i-left]\n",
    "    print(result)\n"
   ]
  },
  {
   "cell_type": "code",
   "execution_count": 11,
   "id": "1bab3492-b271-4bca-af11-3b6a3a3a1354",
   "metadata": {},
   "outputs": [
    {
     "name": "stdout",
     "output_type": "stream",
     "text": [
      "[1, 0, 0, 0]\n",
      "result in mergeSort :  [1, 0, 0, 0]\n",
      "[1, 0, 1, 0]\n",
      "result in mergeSort :  [1, 0, 1, 0]\n",
      "[2, 1, 1, 0]\n",
      "result in mergeSort :  [2, 1, 1, 0]\n"
     ]
    },
    {
     "data": {
      "text/plain": [
       "[2, 1, 1, 0]"
      ]
     },
     "execution_count": 11,
     "metadata": {},
     "output_type": "execute_result"
    }
   ],
   "source": [
    "nums = [5,2,6,1]\n",
    "countSmaller(nums)"
   ]
  },
  {
   "cell_type": "code",
   "execution_count": 12,
   "id": "08eecd9e-be11-4f46-98ba-62ba27ab28f8",
   "metadata": {},
   "outputs": [
    {
     "name": "stdout",
     "output_type": "stream",
     "text": [
      "[0, 0]\n",
      "result in mergeSort :  [0, 0]\n"
     ]
    },
    {
     "data": {
      "text/plain": [
       "[0, 0]"
      ]
     },
     "execution_count": 12,
     "metadata": {},
     "output_type": "execute_result"
    }
   ],
   "source": [
    "nums = [-1,-1]\n",
    "countSmaller(nums)"
   ]
  },
  {
   "cell_type": "code",
   "execution_count": null,
   "id": "71aefe59-7349-43f1-917f-775d41a44d46",
   "metadata": {},
   "outputs": [],
   "source": []
  }
 ],
 "metadata": {
  "kernelspec": {
   "display_name": "Python 3 (ipykernel)",
   "language": "python",
   "name": "python3"
  },
  "language_info": {
   "codemirror_mode": {
    "name": "ipython",
    "version": 3
   },
   "file_extension": ".py",
   "mimetype": "text/x-python",
   "name": "python",
   "nbconvert_exporter": "python",
   "pygments_lexer": "ipython3",
   "version": "3.8.18"
  }
 },
 "nbformat": 4,
 "nbformat_minor": 5
}

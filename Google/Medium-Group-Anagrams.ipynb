{
 "cells": [
  {
   "cell_type": "markdown",
   "id": "8179486d-8e99-4899-88da-183a6cf87f7c",
   "metadata": {},
   "source": [
    "## Problem: Group Anagrams\n",
    "LeetCode : 49\n",
    "\n",
    "https://leetcode.com/problems/group-anagrams/description/\n",
    "\n",
    "Given an array of strings strs, group the anagrams together. You can return the answer in any order.\n",
    "\n",
    " \n",
    "\n",
    "Example 1:\n",
    "\n",
    "    Input: strs = [\"eat\",\"tea\",\"tan\",\"ate\",\"nat\",\"bat\"]\n",
    "    \n",
    "    Output: [[\"bat\"],[\"nat\",\"tan\"],[\"ate\",\"eat\",\"tea\"]]\n",
    "    \n",
    "    Explanation:\n",
    "    \n",
    "    There is no string in strs that can be rearranged to form \"bat\".\n",
    "    The strings \"nat\" and \"tan\" are anagrams as they can be rearranged to form each other.\n",
    "    The strings \"ate\", \"eat\", and \"tea\" are anagrams as they can be rearranged to form each other.\n",
    "Example 2:\n",
    "\n",
    "    Input: strs = [\"\"]\n",
    "    \n",
    "    Output: [[\"\"]]\n",
    "\n",
    "Example 3:\n",
    "\n",
    "    Input: strs = [\"a\"]\n",
    "    \n",
    "    Output: [[\"a\"]]\n",
    "\n",
    " \n",
    "\n",
    "Constraints:\n",
    "\n",
    "    1 <= strs.length <= 104\n",
    "    0 <= strs[i].length <= 100\n",
    "    strs[i] consists of lowercase English letters."
   ]
  },
  {
   "cell_type": "code",
   "execution_count": 2,
   "id": "51d33913-fe8a-4f28-b089-dbb33e71092c",
   "metadata": {},
   "outputs": [],
   "source": [
    "def groupAnagrams(strs):\n",
    "    temp = {}\n",
    "    for w in strs:\n",
    "        key = \"\".join(sorted(w))\n",
    "        if key not in temp:\n",
    "            temp[key] = []\n",
    "        temp[key].append(w)\n",
    "    return temp.values()"
   ]
  },
  {
   "cell_type": "code",
   "execution_count": 4,
   "id": "4eef6dd6-4ab2-4049-9c50-def82036cb11",
   "metadata": {},
   "outputs": [
    {
     "data": {
      "text/plain": [
       "dict_values([['eat', 'tea', 'ate'], ['tan', 'nat'], ['bat']])"
      ]
     },
     "execution_count": 4,
     "metadata": {},
     "output_type": "execute_result"
    }
   ],
   "source": [
    "strs = [\"eat\",\"tea\",\"tan\",\"ate\",\"nat\",\"bat\"]\n",
    "groupAnagrams(strs)"
   ]
  },
  {
   "cell_type": "code",
   "execution_count": null,
   "id": "697d60ed-d9b6-4791-984f-10c87fd0d40b",
   "metadata": {},
   "outputs": [],
   "source": []
  }
 ],
 "metadata": {
  "kernelspec": {
   "display_name": "Python 3 (ipykernel)",
   "language": "python",
   "name": "python3"
  },
  "language_info": {
   "codemirror_mode": {
    "name": "ipython",
    "version": 3
   },
   "file_extension": ".py",
   "mimetype": "text/x-python",
   "name": "python",
   "nbconvert_exporter": "python",
   "pygments_lexer": "ipython3",
   "version": "3.12.7"
  }
 },
 "nbformat": 4,
 "nbformat_minor": 5
}

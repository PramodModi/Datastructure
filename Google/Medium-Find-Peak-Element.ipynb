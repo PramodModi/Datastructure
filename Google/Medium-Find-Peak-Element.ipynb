{
 "cells": [
  {
   "cell_type": "markdown",
   "id": "bcd8e3b4-8f90-4f5f-8374-ea6c82c90c05",
   "metadata": {},
   "source": [
    "## Problem: 162. Find Peak Element\n",
    "\n",
    "LeetCode: 162\n",
    "\n",
    "https://leetcode.com/problems/find-peak-element/description\n",
    "\n",
    "A peak element is an element that is strictly greater than its neighbors.\n",
    "\n",
    "Given a 0-indexed integer array nums, find a peak element, and return its index. If the array contains multiple peaks, return the index to any of the peaks.\n",
    "\n",
    "You may imagine that nums[-1] = nums[n] = -∞. In other words, an element is always considered to be strictly greater than a neighbor that is outside the array.\n",
    "\n",
    "You must write an algorithm that runs in O(log n) time.\n",
    "\n",
    " \n",
    "\n",
    "Example 1:\n",
    "\n",
    "    Input: nums = [1,2,3,1]\n",
    "    Output: 2\n",
    "    Explanation: 3 is a peak element and your function should return the index number 2.\n",
    "Example 2:\n",
    "\n",
    "    Input: nums = [1,2,1,3,5,6,4]\n",
    "    Output: 5\n",
    "    Explanation: Your function can return either index number 1 where the peak element is 2, or index number 5 where the peak element is 6.\n",
    " \n",
    "\n",
    "Constraints:\n",
    "\n",
    "    1 <= nums.length <= 1000\n",
    "    -231 <= nums[i] <= 231 - 1\n",
    "    nums[i] != nums[i + 1] for all valid i."
   ]
  },
  {
   "cell_type": "code",
   "execution_count": 2,
   "id": "d2f65fa7-d3b0-4606-acbf-55a3d647596e",
   "metadata": {},
   "outputs": [],
   "source": [
    "def findPeakElement(nums):\n",
    "    l = 0\n",
    "    r = len(nums)-1\n",
    "    while l < r:\n",
    "        mid = (l+r)//2\n",
    "        if nums[mid] > nums[mid+1]:\n",
    "            r = mid\n",
    "        else:\n",
    "            l = mid+1\n",
    "    return l"
   ]
  },
  {
   "cell_type": "code",
   "execution_count": 4,
   "id": "ef460abd-c304-4e66-993e-9b85ea2eca3c",
   "metadata": {},
   "outputs": [
    {
     "data": {
      "text/plain": [
       "2"
      ]
     },
     "execution_count": 4,
     "metadata": {},
     "output_type": "execute_result"
    }
   ],
   "source": [
    "nums = [1,2,3,1]\n",
    "findPeakElement(nums)"
   ]
  },
  {
   "cell_type": "code",
   "execution_count": 6,
   "id": "1dff46a6-bda6-4230-a29b-2797c989bab8",
   "metadata": {},
   "outputs": [],
   "source": [
    "def findPeakElement1(nums):\n",
    "    i = 0\n",
    "    while i < len(nums)-1:\n",
    "        if nums[i] > nums[i+1]:\n",
    "            break\n",
    "        i += 1\n",
    "    return i"
   ]
  },
  {
   "cell_type": "code",
   "execution_count": 8,
   "id": "7dfacd5e-4bf5-44db-b164-51f48e2a7e46",
   "metadata": {},
   "outputs": [
    {
     "data": {
      "text/plain": [
       "2"
      ]
     },
     "execution_count": 8,
     "metadata": {},
     "output_type": "execute_result"
    }
   ],
   "source": [
    "nums = [1,2,3,1]\n",
    "findPeakElement1(nums)"
   ]
  },
  {
   "cell_type": "code",
   "execution_count": null,
   "id": "25afcc60-6691-487b-98ad-d70ba4a0fe1d",
   "metadata": {},
   "outputs": [],
   "source": []
  }
 ],
 "metadata": {
  "kernelspec": {
   "display_name": "Python 3 (ipykernel)",
   "language": "python",
   "name": "python3"
  },
  "language_info": {
   "codemirror_mode": {
    "name": "ipython",
    "version": 3
   },
   "file_extension": ".py",
   "mimetype": "text/x-python",
   "name": "python",
   "nbconvert_exporter": "python",
   "pygments_lexer": "ipython3",
   "version": "3.12.7"
  }
 },
 "nbformat": 4,
 "nbformat_minor": 5
}

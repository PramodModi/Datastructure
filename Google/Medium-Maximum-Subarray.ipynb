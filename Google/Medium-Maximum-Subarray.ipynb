{
 "cells": [
  {
   "cell_type": "markdown",
   "id": "337d008c-9bea-4cdf-9171-4fd3b8149e90",
   "metadata": {},
   "source": [
    "## Problem: Maximum Subarray\n",
    "LeetCode: 53\n",
    "\n",
    "https://leetcode.com/problems/maximum-subarray/description/\n",
    "\n",
    "Given an integer array nums, find the subarray with the largest sum, and return its sum.\n",
    "\n",
    "Example 1:\n",
    "\n",
    "    Input: nums = [-2,1,-3,4,-1,2,1,-5,4]\n",
    "    Output: 6\n",
    "    Explanation: The subarray [4,-1,2,1] has the largest sum 6.\n",
    "Example 2:\n",
    "\n",
    "    Input: nums = [1]\n",
    "    Output: 1\n",
    "    Explanation: The subarray [1] has the largest sum 1.\n",
    "Example 3:\n",
    "\n",
    "    Input: nums = [5,4,-1,7,8]\n",
    "    Output: 23\n",
    "    Explanation: The subarray [5,4,-1,7,8] has the largest sum 23.\n",
    " \n",
    "\n",
    "Constraints:\n",
    "\n",
    "    1 <= nums.length <= 105\n",
    "    -104 <= nums[i] <= 104"
   ]
  },
  {
   "cell_type": "code",
   "execution_count": 4,
   "id": "6485654f-18c0-4aff-aa48-fca82631a6da",
   "metadata": {},
   "outputs": [],
   "source": [
    "def maxSubArray(nums):\n",
    "    maxSum = float(\"-inf\")\n",
    "    sum = 0\n",
    "    for n in nums:\n",
    "        sum = max(sum+n, n)\n",
    "        maxSum = max(maxSum, sum)\n",
    "    return maxSum\n",
    "        "
   ]
  },
  {
   "cell_type": "code",
   "execution_count": 6,
   "id": "138221cc-e586-412f-b84a-d152c0edacd9",
   "metadata": {},
   "outputs": [
    {
     "data": {
      "text/plain": [
       "6"
      ]
     },
     "execution_count": 6,
     "metadata": {},
     "output_type": "execute_result"
    }
   ],
   "source": [
    "nums = [-2,1,-3,4,-1,2,1,-5,4]\n",
    "maxSubArray(nums)"
   ]
  },
  {
   "cell_type": "code",
   "execution_count": null,
   "id": "eb5d2316-4ebc-42a5-8436-6228107584a3",
   "metadata": {},
   "outputs": [],
   "source": []
  }
 ],
 "metadata": {
  "kernelspec": {
   "display_name": "Python 3 (ipykernel)",
   "language": "python",
   "name": "python3"
  },
  "language_info": {
   "codemirror_mode": {
    "name": "ipython",
    "version": 3
   },
   "file_extension": ".py",
   "mimetype": "text/x-python",
   "name": "python",
   "nbconvert_exporter": "python",
   "pygments_lexer": "ipython3",
   "version": "3.12.7"
  }
 },
 "nbformat": 4,
 "nbformat_minor": 5
}

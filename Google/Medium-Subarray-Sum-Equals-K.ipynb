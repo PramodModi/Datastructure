{
 "cells": [
  {
   "cell_type": "markdown",
   "id": "b0563394-976c-4448-a536-452830f27a3d",
   "metadata": {},
   "source": [
    "## Problem : Subarray Sum Equals K\n",
    "LeetCode: 560\n",
    "\n",
    "https://leetcode.com/problems/subarray-sum-equals-k/description/\n",
    "\n",
    "Given an array of integers nums and an integer k, return the total number of subarrays whose sum equals to k.\n",
    "\n",
    "A subarray is a contiguous non-empty sequence of elements within an array.\n",
    "\n",
    " \n",
    "\n",
    "Example 1:\n",
    "\n",
    "    Input: nums = [1,1,1], k = 2\n",
    "    Output: 2\n",
    "Example 2:\n",
    "\n",
    "    Input: nums = [1,2,3], k = 3\n",
    "    Output: 2\n",
    " \n",
    "\n",
    "Constraints:\n",
    "\n",
    "    1 <= nums.length <= 2 * 104\n",
    "    -1000 <= nums[i] <= 1000\n",
    "    -107 <= k <= 107"
   ]
  },
  {
   "cell_type": "code",
   "execution_count": 4,
   "id": "1f60a8c4-6e43-465a-81bc-ac3eabe1fecd",
   "metadata": {},
   "outputs": [],
   "source": [
    "def subarraySum(nums, k):\n",
    "    temp = {}\n",
    "    temp[0] = 1 # If remaining is 0 then count is 1\n",
    "    count = 0\n",
    "    sum = 0\n",
    "    for n in nums:\n",
    "        sum += n\n",
    "        remianing = sum -k\n",
    "        if remianing in temp:\n",
    "            count += temp[remianing]\n",
    "        temp[sum] = temp.get(sum, 0) + 1\n",
    "    return count"
   ]
  },
  {
   "cell_type": "code",
   "execution_count": 6,
   "id": "be215a90-d81e-4971-aa0e-f808b586a1f0",
   "metadata": {},
   "outputs": [
    {
     "data": {
      "text/plain": [
       "2"
      ]
     },
     "execution_count": 6,
     "metadata": {},
     "output_type": "execute_result"
    }
   ],
   "source": [
    "nums = [1,1,1]\n",
    "k = 2\n",
    "subarraySum(nums, k)"
   ]
  },
  {
   "cell_type": "code",
   "execution_count": 8,
   "id": "ff90890c-16cb-4f40-bd1e-bd6b36c32810",
   "metadata": {},
   "outputs": [],
   "source": [
    "## O(n^2) TLE error\n",
    "\n",
    "def subarraySum1(nums, k):\n",
    "    count = 0\n",
    "    for i in range(len(nums)):\n",
    "        sum =0\n",
    "        for j in range(i, len(nums)):\n",
    "            sum += nums[j]\n",
    "            if sum == k:\n",
    "                count += 1\n",
    "    return count\n",
    "            "
   ]
  },
  {
   "cell_type": "code",
   "execution_count": 10,
   "id": "e4c56510-097f-422e-92b4-7b8adb245c44",
   "metadata": {},
   "outputs": [
    {
     "data": {
      "text/plain": [
       "2"
      ]
     },
     "execution_count": 10,
     "metadata": {},
     "output_type": "execute_result"
    }
   ],
   "source": [
    "nums = [1,1,1]\n",
    "k = 2\n",
    "subarraySum1(nums, k)"
   ]
  },
  {
   "cell_type": "code",
   "execution_count": null,
   "id": "c48a074d-03a1-47e2-8a22-0a7006d59436",
   "metadata": {},
   "outputs": [],
   "source": []
  }
 ],
 "metadata": {
  "kernelspec": {
   "display_name": "Python 3 (ipykernel)",
   "language": "python",
   "name": "python3"
  },
  "language_info": {
   "codemirror_mode": {
    "name": "ipython",
    "version": 3
   },
   "file_extension": ".py",
   "mimetype": "text/x-python",
   "name": "python",
   "nbconvert_exporter": "python",
   "pygments_lexer": "ipython3",
   "version": "3.12.7"
  }
 },
 "nbformat": 4,
 "nbformat_minor": 5
}

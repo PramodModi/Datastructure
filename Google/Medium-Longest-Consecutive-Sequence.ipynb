{
 "cells": [
  {
   "cell_type": "markdown",
   "id": "2d0780d7-03cd-4eed-95cc-3a3160d9febd",
   "metadata": {},
   "source": [
    "## Prolem : Longest COnsecutive Sequence\n",
    "\n",
    "LeetCode: 128\n",
    "\n",
    "https://leetcode.com/problems/longest-consecutive-sequence/description/\n",
    "\n",
    "Given an unsorted array of integers nums, return the length of the longest consecutive elements sequence.\n",
    "\n",
    "You must write an algorithm that runs in O(n) time.\n",
    "\n",
    " \n",
    "\n",
    "Example 1:\n",
    "\n",
    "    Input: nums = [100,4,200,1,3,2]\n",
    "    Output: 4\n",
    "    Explanation: The longest consecutive elements sequence is [1, 2, 3, 4]. Therefore its length is 4.\n",
    "Example 2:\n",
    "\n",
    "    Input: nums = [0,3,7,2,5,8,4,6,0,1]\n",
    "    Output: 9\n",
    " \n",
    "\n",
    "Constraints:\n",
    "\n",
    "    0 <= nums.length <= 105\n",
    "    -109 <= nums[i] <= 109"
   ]
  },
  {
   "cell_type": "code",
   "execution_count": 1,
   "id": "d46fc009-b79a-4bd3-ba90-07b22627dcdf",
   "metadata": {},
   "outputs": [],
   "source": [
    "def longestConsecutive(nums):\n",
    "    s = set(nums)\n",
    "    maxLen = 0\n",
    "    for num in nums:\n",
    "        if num-1 in s:\n",
    "            continue\n",
    "        else:\n",
    "            right = num+1\n",
    "            while right in s:\n",
    "                right += 1\n",
    "            maxLen = max(maxLen , right-num)\n",
    "    return maxLen"
   ]
  },
  {
   "cell_type": "code",
   "execution_count": 2,
   "id": "1154e636-7cb3-4173-834c-cbf24a4e7196",
   "metadata": {},
   "outputs": [
    {
     "data": {
      "text/plain": [
       "4"
      ]
     },
     "execution_count": 2,
     "metadata": {},
     "output_type": "execute_result"
    }
   ],
   "source": [
    "nums = [100,4,200,1,3,2]\n",
    "longestConsecutive(nums)"
   ]
  },
  {
   "cell_type": "code",
   "execution_count": 3,
   "id": "9e0a5376-b26e-4aae-b22a-4c43a7b0deca",
   "metadata": {},
   "outputs": [
    {
     "data": {
      "text/plain": [
       "9"
      ]
     },
     "execution_count": 3,
     "metadata": {},
     "output_type": "execute_result"
    }
   ],
   "source": [
    "nums = [0,3,7,2,5,8,4,6,0,1]\n",
    "longestConsecutive(nums)"
   ]
  },
  {
   "cell_type": "code",
   "execution_count": null,
   "id": "b2f91e15-1243-4f2b-8a53-05b88a2a315a",
   "metadata": {},
   "outputs": [],
   "source": []
  }
 ],
 "metadata": {
  "kernelspec": {
   "display_name": "Python 3 (ipykernel)",
   "language": "python",
   "name": "python3"
  },
  "language_info": {
   "codemirror_mode": {
    "name": "ipython",
    "version": 3
   },
   "file_extension": ".py",
   "mimetype": "text/x-python",
   "name": "python",
   "nbconvert_exporter": "python",
   "pygments_lexer": "ipython3",
   "version": "3.8.18"
  }
 },
 "nbformat": 4,
 "nbformat_minor": 5
}

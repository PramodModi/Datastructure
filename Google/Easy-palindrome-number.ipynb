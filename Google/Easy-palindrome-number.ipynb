{
 "cells": [
  {
   "cell_type": "markdown",
   "id": "5be62585-a9cb-4339-abc9-1af72a0ca130",
   "metadata": {},
   "source": [
    "## Problem:Palindrome Number\n",
    "\n",
    "LeetCode: 9\n",
    "\n",
    "https://leetcode.com/problems/palindrome-number/description\n",
    "\n",
    "Given an integer x, return true if x is a palindrome, and false otherwise.\n",
    "\n",
    "Example 1:\n",
    "\n",
    "    Input: x = 121\n",
    "    Output: true\n",
    "    Explanation: 121 reads as 121 from left to right and from right to left.\n",
    "Example 2:\n",
    "\n",
    "    Input: x = -121\n",
    "    Output: false\n",
    "    Explanation: From left to right, it reads -121. From right to left, it becomes 121-. Therefore it is not a palindrome.\n",
    "Example 3:\n",
    "\n",
    "    Input: x = 10\n",
    "    Output: false\n",
    "    Explanation: Reads 01 from right to left. Therefore it is not a palindrome.\n",
    "\n",
    "Constraints:\n",
    "\n",
    "    -231 <= x <= 231 - 1"
   ]
  },
  {
   "cell_type": "markdown",
   "id": "497d46b3-6ca6-4e03-9832-b39791319c12",
   "metadata": {},
   "source": [
    "### Approach:\n",
    "Approach is to reverting the number itself, and then compare the number with original number, if they are the same, then the number is a palindrome. However, if the reversed number is larger than int.MAX, we will hit integer overflow problem.\n",
    "\n",
    "Following the thoughts based on the second idea, to avoid the overflow issue of the reverted number, what if we only revert half of the int number? After all, the reverse of the last half of the palindrome should be the same as the first half of the number, if the number is a palindrome.\n",
    "\n",
    "For example, if the input is 1221, if we can revert the last part of the number \"1221\" from \"21\" to \"12\", and compare it with the first half of the number \"12\", since 12 is the same as 12, we know that the number is a palindrome.\n",
    "\n",
    "Now the question is, how do we know that we've reached the half of the number?\n",
    "\n",
    "Since we divided the number by 10, and multiplied the reversed number by 10, when the original number is less than the reversed number, it means we've processed half of the number digits.\n"
   ]
  },
  {
   "cell_type": "code",
   "execution_count": 2,
   "id": "9f6fbd10-575e-4e6b-aeb5-c0d4899a249c",
   "metadata": {},
   "outputs": [],
   "source": [
    "def isPalindrome(x):\n",
    "        if x < 0:\n",
    "            return False\n",
    "        if x%10 == 0 and x != 0: # This is the special case when last digit is 0.\n",
    "            return False\n",
    "        revertNum = 0\n",
    "        while x > revertNum:\n",
    "            revertNum = revertNum * 10 + x % 10\n",
    "            x //= 10\n",
    "        return x == revertNum or x == revertNum // 10"
   ]
  },
  {
   "cell_type": "code",
   "execution_count": 3,
   "id": "894d7690-5f88-4191-9277-6c86a509337b",
   "metadata": {},
   "outputs": [
    {
     "data": {
      "text/plain": [
       "True"
      ]
     },
     "execution_count": 3,
     "metadata": {},
     "output_type": "execute_result"
    }
   ],
   "source": [
    "x = 121\n",
    "isPalindrome(x)"
   ]
  },
  {
   "cell_type": "code",
   "execution_count": 4,
   "id": "6e0ca018-05b0-4e85-a8bc-ca3d2a00a99f",
   "metadata": {},
   "outputs": [
    {
     "data": {
      "text/plain": [
       "True"
      ]
     },
     "execution_count": 4,
     "metadata": {},
     "output_type": "execute_result"
    }
   ],
   "source": [
    "x = 1221\n",
    "isPalindrome(x)"
   ]
  },
  {
   "cell_type": "code",
   "execution_count": 5,
   "id": "f4978b26-a820-451f-a680-c89675984192",
   "metadata": {},
   "outputs": [
    {
     "data": {
      "text/plain": [
       "False"
      ]
     },
     "execution_count": 5,
     "metadata": {},
     "output_type": "execute_result"
    }
   ],
   "source": [
    "x = 1220\n",
    "isPalindrome(x)"
   ]
  },
  {
   "cell_type": "code",
   "execution_count": 6,
   "id": "1e141599-eb3a-4dbe-ae86-d635b3e36aff",
   "metadata": {},
   "outputs": [
    {
     "data": {
      "text/plain": [
       "False"
      ]
     },
     "execution_count": 6,
     "metadata": {},
     "output_type": "execute_result"
    }
   ],
   "source": [
    "x = -1220\n",
    "isPalindrome(x)"
   ]
  },
  {
   "cell_type": "code",
   "execution_count": null,
   "id": "00a69a0a-3922-44a5-8da8-a0f47d484201",
   "metadata": {},
   "outputs": [],
   "source": []
  }
 ],
 "metadata": {
  "kernelspec": {
   "display_name": "Python 3 (ipykernel)",
   "language": "python",
   "name": "python3"
  },
  "language_info": {
   "codemirror_mode": {
    "name": "ipython",
    "version": 3
   },
   "file_extension": ".py",
   "mimetype": "text/x-python",
   "name": "python",
   "nbconvert_exporter": "python",
   "pygments_lexer": "ipython3",
   "version": "3.8.18"
  }
 },
 "nbformat": 4,
 "nbformat_minor": 5
}

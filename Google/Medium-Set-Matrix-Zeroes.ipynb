{
 "cells": [
  {
   "cell_type": "markdown",
   "id": "a6374f0c-e377-4af5-8593-3452867e2414",
   "metadata": {},
   "source": [
    "## Problem: Set Matrix Zeroes\n",
    "LeetCode : 73\n",
    "\n",
    "https://leetcode.com/problems/set-matrix-zeroes/description\n",
    "\n",
    "Given an m x n integer matrix matrix, if an element is 0, set its entire row and column to 0's.\n",
    "\n",
    "You must do it in place.\n",
    "\n",
    " \n",
    "\n",
    "Example 1:\n",
    "\n",
    "\n",
    "    Input: matrix = [[1,1,1],[1,0,1],[1,1,1]]\n",
    "    Output: [[1,0,1],[0,0,0],[1,0,1]]\n",
    "Example 2:\n",
    "\n",
    "\n",
    "    Input: matrix = [[0,1,2,0],[3,4,5,2],[1,3,1,5]]\n",
    "    Output: [[0,0,0,0],[0,4,5,0],[0,3,1,0]]\n",
    " \n",
    "\n",
    "Constraints:\n",
    "\n",
    "    m == matrix.length\n",
    "    n == matrix[0].length\n",
    "    1 <= m, n <= 200\n",
    "    -231 <= matrix[i][j] <= 231 - 1"
   ]
  },
  {
   "cell_type": "code",
   "execution_count": 2,
   "id": "36e169ae-cdf9-4c80-ba9f-4c7011bcfa92",
   "metadata": {},
   "outputs": [],
   "source": [
    "def setZeroes(matrix):\n",
    "    for i in range(len(matrix)):\n",
    "        for j in range(len(matrix[0])):\n",
    "            if matrix[i][j] == 0:\n",
    "                update(matrix, i, j)\n",
    "    for i in range(len(matrix)):\n",
    "        for j in range(len(matrix[0])):\n",
    "            if matrix[i][j] == float(\"inf\"):\n",
    "                matrix[i][j] = 0\n",
    "    return matrix\n",
    "    \n",
    "def update(matrix, row, col):\n",
    "    for c in range(len(matrix[0])):\n",
    "        if matrix[row][c] != 0:\n",
    "            matrix[row][c] = float(\"inf\")\n",
    "    for r in range(len(matrix)):\n",
    "        if matrix[r][col] != 0:\n",
    "            matrix[r][col] = float(\"inf\")"
   ]
  },
  {
   "cell_type": "code",
   "execution_count": 4,
   "id": "4744f482-09f6-4584-914b-da858e73bdb7",
   "metadata": {},
   "outputs": [
    {
     "data": {
      "text/plain": [
       "[[1, 0, 1], [0, 0, 0], [1, 0, 1]]"
      ]
     },
     "execution_count": 4,
     "metadata": {},
     "output_type": "execute_result"
    }
   ],
   "source": [
    "matrix = [[1,1,1],[1,0,1],[1,1,1]]\n",
    "setZeroes(matrix)"
   ]
  },
  {
   "cell_type": "code",
   "execution_count": 10,
   "id": "2c55804b-e4e7-4a95-ba24-618e48b4d34e",
   "metadata": {},
   "outputs": [],
   "source": [
    "def setZeroes1(matrix):\n",
    " \n",
    "    rows = len(matrix)\n",
    "    cols = len(matrix[0])\n",
    "    col0 = False\n",
    "    for i in range(rows):\n",
    "        if matrix[i][0] == 0: col0 = True\n",
    "        for j in range(1, cols):\n",
    "            if matrix[i][j] == 0:\n",
    "                matrix[i][0] = 0\n",
    "                matrix[0][j] = 0\n",
    "    \n",
    "    for i in range(rows-1, -1, -1):\n",
    "        for j in range(cols-1, 0, -1):\n",
    "            if matrix[i][0] == 0 or matrix[0][j] == 0:\n",
    "                matrix[i][j] = 0\n",
    "        if col0:\n",
    "            matrix[i][0] = 0\n",
    "    return matrix\n",
    "                "
   ]
  },
  {
   "cell_type": "code",
   "execution_count": 12,
   "id": "c8bb061e-eae5-4143-886e-e14ccee26163",
   "metadata": {},
   "outputs": [
    {
     "data": {
      "text/plain": [
       "[[1, 0, 1], [0, 0, 0], [1, 0, 1]]"
      ]
     },
     "execution_count": 12,
     "metadata": {},
     "output_type": "execute_result"
    }
   ],
   "source": [
    "matrix = [[1,1,1],[1,0,1],[1,1,1]]\n",
    "setZeroes1(matrix)"
   ]
  },
  {
   "cell_type": "code",
   "execution_count": null,
   "id": "c6f15ce4-ec75-4b7b-bbc6-89370f40c050",
   "metadata": {},
   "outputs": [],
   "source": []
  }
 ],
 "metadata": {
  "kernelspec": {
   "display_name": "Python 3 (ipykernel)",
   "language": "python",
   "name": "python3"
  },
  "language_info": {
   "codemirror_mode": {
    "name": "ipython",
    "version": 3
   },
   "file_extension": ".py",
   "mimetype": "text/x-python",
   "name": "python",
   "nbconvert_exporter": "python",
   "pygments_lexer": "ipython3",
   "version": "3.12.7"
  }
 },
 "nbformat": 4,
 "nbformat_minor": 5
}

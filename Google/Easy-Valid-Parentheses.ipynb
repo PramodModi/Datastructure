{
 "cells": [
  {
   "cell_type": "markdown",
   "id": "a5254d46-677c-43d9-b038-712b40388852",
   "metadata": {},
   "source": [
    "## Problem: Valid Parentheses\n",
    "LeetCode: 20\n",
    "\n",
    "https://leetcode.com/problems/valid-parentheses/description/\n",
    "\n",
    "Given a string s containing just the characters '(', ')', '{', '}', '[' and ']', determine if the input string is valid.\n",
    "\n",
    "An input string is valid if:\n",
    "\n",
    "Open brackets must be closed by the same type of brackets.\n",
    "Open brackets must be closed in the correct order.\n",
    "Every close bracket has a corresponding open bracket of the same type.\n",
    " \n",
    "\n",
    "Example 1:\n",
    "\n",
    "    Input: s = \"()\"\n",
    "    \n",
    "    Output: true\n",
    "\n",
    "Example 2:\n",
    "\n",
    "    Input: s = \"()[]{}\"\n",
    "    \n",
    "    Output: true\n",
    "\n",
    "Example 3:\n",
    "\n",
    "    Input: s = \"(]\"\n",
    "    \n",
    "    Output: false\n",
    "\n",
    "Example 4:\n",
    "\n",
    "    Input: s = \"([])\"\n",
    "    \n",
    "    Output: true\n",
    "\n",
    " \n",
    "\n",
    "Constraints:\n",
    "\n",
    "    1 <= s.length <= 104\n",
    "    s consists of parentheses only '()[]{}'."
   ]
  },
  {
   "cell_type": "code",
   "execution_count": 2,
   "id": "b033671c-8b66-44f8-9a6b-71401cfa370c",
   "metadata": {},
   "outputs": [],
   "source": [
    "def isValid(s):\n",
    "    mapping  = { \")\":\"(\", \"}\":\"{\", \"]\":\"[\"}\n",
    "    stack = []\n",
    "    for c in s:\n",
    "        if c in mapping:\n",
    "            if not stack or mapping[c] != stack[-1]:\n",
    "                return False\n",
    "            else:\n",
    "                stack.pop()\n",
    "        else:\n",
    "            stack.append(c)\n",
    "    return len(stack) == 0"
   ]
  },
  {
   "cell_type": "code",
   "execution_count": 4,
   "id": "ae1548e3-4a5b-4d17-8b3c-908fc1e2b6fc",
   "metadata": {},
   "outputs": [
    {
     "data": {
      "text/plain": [
       "True"
      ]
     },
     "execution_count": 4,
     "metadata": {},
     "output_type": "execute_result"
    }
   ],
   "source": [
    "s = \"()[]{}\"\n",
    "isValid(s)"
   ]
  },
  {
   "cell_type": "code",
   "execution_count": 6,
   "id": "1aec0ac6-c286-4798-90bd-c50f9379c05d",
   "metadata": {},
   "outputs": [
    {
     "data": {
      "text/plain": [
       "False"
      ]
     },
     "execution_count": 6,
     "metadata": {},
     "output_type": "execute_result"
    }
   ],
   "source": [
    "s = \"()}\"\n",
    "isValid(s)"
   ]
  },
  {
   "cell_type": "code",
   "execution_count": null,
   "id": "be891e7c-6cb3-4487-b2de-5dcd10ae9baf",
   "metadata": {},
   "outputs": [],
   "source": []
  }
 ],
 "metadata": {
  "kernelspec": {
   "display_name": "Python 3 (ipykernel)",
   "language": "python",
   "name": "python3"
  },
  "language_info": {
   "codemirror_mode": {
    "name": "ipython",
    "version": 3
   },
   "file_extension": ".py",
   "mimetype": "text/x-python",
   "name": "python",
   "nbconvert_exporter": "python",
   "pygments_lexer": "ipython3",
   "version": "3.12.7"
  }
 },
 "nbformat": 4,
 "nbformat_minor": 5
}

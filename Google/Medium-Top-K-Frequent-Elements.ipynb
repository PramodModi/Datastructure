{
 "cells": [
  {
   "cell_type": "markdown",
   "id": "1a474079-7358-417c-b7cc-7409d6a45352",
   "metadata": {},
   "source": [
    "## problem: 347. Top K Frequent Elements\n",
    "LeetCode : 347\n",
    "\n",
    "https://leetcode.com/problems/top-k-frequent-elements/description/\n",
    "\n",
    "Given an integer array nums and an integer k, return the k most frequent elements. You may return the answer in any order.\n",
    "\n",
    " \n",
    "\n",
    "Example 1:\n",
    "\n",
    "    Input: nums = [1,1,1,2,2,3], k = 2\n",
    "    Output: [1,2]\n",
    "Example 2:\n",
    "\n",
    "    Input: nums = [1], k = 1\n",
    "    Output: [1]\n",
    " \n",
    "\n",
    "Constraints:\n",
    "\n",
    "    1 <= nums.length <= 105\n",
    "    -104 <= nums[i] <= 104\n",
    "    k is in the range [1, the number of unique elements in the array].\n",
    "    It is guaranteed that the answer is unique.\n"
   ]
  },
  {
   "cell_type": "code",
   "execution_count": 12,
   "id": "00f58466-7d61-4667-af33-5ff60551ae07",
   "metadata": {},
   "outputs": [],
   "source": [
    "import heapq\n",
    "def topKFrequent(nums, k):\n",
    "    temp = {}\n",
    "    for n in nums:\n",
    "        temp[n] = temp.get(n, 0) + 1\n",
    "    \n",
    "    heap = []\n",
    "    for n in temp.keys():\n",
    "        heapq.heappush(heap, (temp[n], n))\n",
    "        if len(heap) > k:\n",
    "            heapq.heappop(heap)\n",
    "    result = []\n",
    "    while heap:\n",
    "        result.append(heapq.heappop(heap)[1])\n",
    "    return result"
   ]
  },
  {
   "cell_type": "code",
   "execution_count": 14,
   "id": "e8b9ff1a-9e15-4ee4-98b6-6867165f576f",
   "metadata": {},
   "outputs": [
    {
     "data": {
      "text/plain": [
       "[2, 1]"
      ]
     },
     "execution_count": 14,
     "metadata": {},
     "output_type": "execute_result"
    }
   ],
   "source": [
    "nums = [1,1,1,2,2,3]\n",
    "k = 2\n",
    "topKFrequent(nums, k)"
   ]
  },
  {
   "cell_type": "code",
   "execution_count": 16,
   "id": "7543befd-c6f8-4d18-a980-66e127e39c3b",
   "metadata": {},
   "outputs": [],
   "source": [
    "def topKFrequent1(nums, k):\n",
    "    temp ={}\n",
    "    for n in nums:\n",
    "        if n not in temp:\n",
    "            temp[n] = (1, n)\n",
    "        else:\n",
    "            temp[n] = (temp[n][0] + 1, n)\n",
    "    freq_list = sorted(temp.values(), reverse = True)\n",
    "    res = []\n",
    "    while k > 0:\n",
    "        k -= 1\n",
    "        res.append(freq_list[k][1])\n",
    "    return res"
   ]
  },
  {
   "cell_type": "code",
   "execution_count": 18,
   "id": "22d08d7c-50b2-4b13-b1a3-eb6a815b8dc5",
   "metadata": {},
   "outputs": [
    {
     "data": {
      "text/plain": [
       "[2, 1]"
      ]
     },
     "execution_count": 18,
     "metadata": {},
     "output_type": "execute_result"
    }
   ],
   "source": [
    "nums = [1,1,1,2,2,3]\n",
    "k = 2\n",
    "topKFrequent1(nums, k)"
   ]
  },
  {
   "cell_type": "code",
   "execution_count": null,
   "id": "e29adbd8-c30d-4d63-8569-d2d3291bf79d",
   "metadata": {},
   "outputs": [],
   "source": []
  }
 ],
 "metadata": {
  "kernelspec": {
   "display_name": "Python 3 (ipykernel)",
   "language": "python",
   "name": "python3"
  },
  "language_info": {
   "codemirror_mode": {
    "name": "ipython",
    "version": 3
   },
   "file_extension": ".py",
   "mimetype": "text/x-python",
   "name": "python",
   "nbconvert_exporter": "python",
   "pygments_lexer": "ipython3",
   "version": "3.12.7"
  }
 },
 "nbformat": 4,
 "nbformat_minor": 5
}

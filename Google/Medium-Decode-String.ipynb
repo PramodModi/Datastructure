{
 "cells": [
  {
   "cell_type": "markdown",
   "id": "190c8247-0b68-43dd-aadc-dbb72f93afaf",
   "metadata": {},
   "source": [
    "## Problem: Decode String\n",
    "LeetCode : 394\n",
    "\n",
    "https://leetcode.com/problems/decode-string/description/\n",
    "\n",
    "Given an encoded string, return its decoded string.\n",
    "\n",
    "The encoding rule is: k[encoded_string], where the encoded_string inside the square brackets is being repeated exactly k times. Note that k is guaranteed to be a positive integer.\n",
    "\n",
    "You may assume that the input string is always valid; there are no extra white spaces, square brackets are well-formed, etc. Furthermore, you may assume that the original data does not contain any digits and that digits are only for those repeat numbers, k. For example, there will not be input like 3a or 2[4].\n",
    "\n",
    "The test cases are generated so that the length of the output will never exceed 105.\n",
    "\n",
    " \n",
    "\n",
    "Example 1:\n",
    "\n",
    "    Input: s = \"3[a]2[bc]\"\n",
    "    Output: \"aaabcbc\"\n",
    "Example 2:\n",
    "\n",
    "    Input: s = \"3[a2[c]]\"\n",
    "    Output: \"accaccacc\"\n",
    "Example 3:\n",
    "\n",
    "    Input: s = \"2[abc]3[cd]ef\"\n",
    "    Output: \"abcabccdcdcdef\"\n",
    " \n",
    "\n",
    "Constraints:\n",
    "\n",
    "    1 <= s.length <= 30\n",
    "    s consists of lowercase English letters, digits, and square brackets '[]'.\n",
    "    s is guaranteed to be a valid input.\n",
    "    All the integers in s are in the range [1, 300].\n"
   ]
  },
  {
   "cell_type": "code",
   "execution_count": 6,
   "id": "23adfdbe-5de5-4cb2-a92a-564e6e5d5ac8",
   "metadata": {},
   "outputs": [],
   "source": [
    "def decodeString(s):\n",
    "        stack = []\n",
    "        for i in range(len(s)):\n",
    "            if s[i] == ']': # if char is [, so pop from stack and create string untill [\n",
    "                curstr = \"\"\n",
    "                while stack and stack[-1] != '[':\n",
    "                    curstr += stack.pop()\n",
    "                stack.pop() # remove [ from stack. now we will have number, so craete number\n",
    "                k = 0\n",
    "                base = 1\n",
    "                while stack and stack[-1].isnumeric():\n",
    "                    k = k +int(stack.pop())*base\n",
    "                    base *= 10\n",
    "                curstr *= k # repeat string k times\n",
    "                stack.append(curstr) # append in the stck\n",
    "            else:\n",
    "                stack.append(s[i]) # append all chars in stack, untill char = ]\n",
    "        retstr = \"\"\n",
    "        curstr = \"\"\n",
    "        while stack: # Stack will have strings. Concatenate all strings\n",
    "            curstr += stack.pop()\n",
    "        for i in range(len(curstr)-1, -1 , -1): # reverse string and return \n",
    "            retstr += curstr[i]\n",
    "        return retstr"
   ]
  },
  {
   "cell_type": "code",
   "execution_count": 8,
   "id": "0a879879-d18e-4651-86d9-42f5c62fd55f",
   "metadata": {},
   "outputs": [
    {
     "data": {
      "text/plain": [
       "'abcabccdcdcdef'"
      ]
     },
     "execution_count": 8,
     "metadata": {},
     "output_type": "execute_result"
    }
   ],
   "source": [
    "s = \"2[abc]3[cd]ef\"\n",
    "decodeString(s)"
   ]
  },
  {
   "cell_type": "code",
   "execution_count": 10,
   "id": "ed629f60-a713-422d-9dd5-0b2bd9e70e52",
   "metadata": {},
   "outputs": [
    {
     "data": {
      "text/plain": [
       "'abcbcabcbc'"
      ]
     },
     "execution_count": 10,
     "metadata": {},
     "output_type": "execute_result"
    }
   ],
   "source": [
    "s = \"2[a2[bc]]\"\n",
    "decodeString(s)"
   ]
  },
  {
   "cell_type": "code",
   "execution_count": 12,
   "id": "396fff11-5ac4-4178-b305-98f3201898f4",
   "metadata": {},
   "outputs": [
    {
     "data": {
      "text/plain": [
       "'aaabcbc'"
      ]
     },
     "execution_count": 12,
     "metadata": {},
     "output_type": "execute_result"
    }
   ],
   "source": [
    "s = \"3[a]2[bc]\"\n",
    "decodeString(s)"
   ]
  },
  {
   "cell_type": "code",
   "execution_count": null,
   "id": "80ed8b3c-9316-4607-80cc-5ac0c7cd71f9",
   "metadata": {},
   "outputs": [],
   "source": []
  }
 ],
 "metadata": {
  "kernelspec": {
   "display_name": "Python 3 (ipykernel)",
   "language": "python",
   "name": "python3"
  },
  "language_info": {
   "codemirror_mode": {
    "name": "ipython",
    "version": 3
   },
   "file_extension": ".py",
   "mimetype": "text/x-python",
   "name": "python",
   "nbconvert_exporter": "python",
   "pygments_lexer": "ipython3",
   "version": "3.12.7"
  }
 },
 "nbformat": 4,
 "nbformat_minor": 5
}

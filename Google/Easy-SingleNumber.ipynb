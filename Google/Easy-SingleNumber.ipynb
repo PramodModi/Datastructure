{
 "cells": [
  {
   "cell_type": "markdown",
   "id": "af6ccf66-04c4-4f29-a693-c5ac3621b37c",
   "metadata": {},
   "source": [
    "## Problem: Single Number\n",
    "LeetCode : 136\n",
    "\n",
    "https://leetcode.com/problems/single-number/description/\n",
    "\n",
    "Given a non-empty array of integers nums, every element appears twice except for one. Find that single one.\n",
    "\n",
    "You must implement a solution with a linear runtime complexity and use only constant extra space.\n",
    "\n",
    " \n",
    "\n",
    "Example 1:\n",
    "\n",
    "    Input: nums = [2,2,1]\n",
    "    \n",
    "    Output: 1\n",
    "\n",
    "Example 2:\n",
    "\n",
    "    Input: nums = [4,1,2,1,2]\n",
    "    \n",
    "    Output: 4\n",
    "\n",
    "Example 3:\n",
    "s\n",
    "    Input: nums = [1]\n",
    "    \n",
    "    Output: 1\n",
    "\n",
    " \n",
    "\n",
    "Constraints:\n",
    "\n",
    "    1 <= nums.length <= 3 * 104\n",
    "    -3 * 104 <= nums[i] <= 3 * 104\n",
    "    Each element in the array appears twice except for one element which appears only once."
   ]
  },
  {
   "cell_type": "code",
   "execution_count": 2,
   "id": "f23f546c-027d-486f-841e-8bdd3d482ce3",
   "metadata": {},
   "outputs": [],
   "source": [
    "def singleNumber(nums):\n",
    "    return 2*sum(set(nums)) - sum(nums)"
   ]
  },
  {
   "cell_type": "code",
   "execution_count": 4,
   "id": "b8741d11-76a6-4801-a1b6-fb2cce524eb2",
   "metadata": {},
   "outputs": [
    {
     "data": {
      "text/plain": [
       "4"
      ]
     },
     "execution_count": 4,
     "metadata": {},
     "output_type": "execute_result"
    }
   ],
   "source": [
    "nums = [4,1,2,1,2]\n",
    "singleNumber(nums)"
   ]
  },
  {
   "cell_type": "code",
   "execution_count": 12,
   "id": "5f0d63ba-f532-4408-a45c-39c01b31b020",
   "metadata": {},
   "outputs": [],
   "source": [
    "## XOR of a number with zero results same number\n",
    "## XOR of a number with same number results zero.\n",
    "## So, we start from zero, and do XOR for all numbers. All pair numbers will result XOR zero, \n",
    "## single number XOR with zero return single number\n",
    "def singleNumber1(nums):\n",
    "    singleNum = 0\n",
    "    for n in nums:\n",
    "        singleNum ^= n\n",
    "    return singleNum"
   ]
  },
  {
   "cell_type": "code",
   "execution_count": 14,
   "id": "88facf15-1e07-4aac-97a1-0e47ca94e83d",
   "metadata": {},
   "outputs": [
    {
     "data": {
      "text/plain": [
       "4"
      ]
     },
     "execution_count": 14,
     "metadata": {},
     "output_type": "execute_result"
    }
   ],
   "source": [
    "nums = [4,1,2,1,2]\n",
    "singleNumber1(nums)"
   ]
  },
  {
   "cell_type": "code",
   "execution_count": null,
   "id": "eca2571f-4705-42b6-af3f-2704da3da9ca",
   "metadata": {},
   "outputs": [],
   "source": []
  }
 ],
 "metadata": {
  "kernelspec": {
   "display_name": "Python 3 (ipykernel)",
   "language": "python",
   "name": "python3"
  },
  "language_info": {
   "codemirror_mode": {
    "name": "ipython",
    "version": 3
   },
   "file_extension": ".py",
   "mimetype": "text/x-python",
   "name": "python",
   "nbconvert_exporter": "python",
   "pygments_lexer": "ipython3",
   "version": "3.12.7"
  }
 },
 "nbformat": 4,
 "nbformat_minor": 5
}

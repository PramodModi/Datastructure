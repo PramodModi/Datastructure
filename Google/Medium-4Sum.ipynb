{
 "cells": [
  {
   "cell_type": "markdown",
   "id": "6ca7eeb0-fdc0-4058-8540-0d68cc4cf307",
   "metadata": {},
   "source": [
    "## Problem : 4Sum\n",
    "\n",
    "LeetCocde : 18\n",
    "\n",
    "https://leetcode.com/problems/4sum/description/\n",
    "\n",
    "Given an array nums of n integers, return an array of all the unique quadruplets [nums[a], nums[b], nums[c], nums[d]] such that:\n",
    "\n",
    "    0 <= a, b, c, d < n\n",
    "    a, b, c, and d are distinct.\n",
    "    nums[a] + nums[b] + nums[c] + nums[d] == target\n",
    "    You may return the answer in any order.\n",
    "\n",
    " \n",
    "\n",
    "Example 1:\n",
    "\n",
    "    Input: nums = [1,0,-1,0,-2,2], target = 0\n",
    "    Output: [[-2,-1,1,2],[-2,0,0,2],[-1,0,0,1]]\n",
    "Example 2:\n",
    "\n",
    "    Input: nums = [2,2,2,2,2], target = 8\n",
    "    Output: [[2,2,2,2]]\n",
    " \n",
    "\n",
    "Constraints:\n",
    "\n",
    "    1 <= nums.length <= 200\n",
    "    -109 <= nums[i] <= 109\n",
    "    -109 <= target <= 109\n"
   ]
  },
  {
   "cell_type": "code",
   "execution_count": 4,
   "id": "1a4fd091-9b8b-4a8d-9eba-e33b879df33d",
   "metadata": {},
   "outputs": [],
   "source": [
    "def fourSum(nums, target):\n",
    "    res = set()\n",
    "    nums.sort()\n",
    "    for i in range(len(nums)-3):\n",
    "        for j in range(i+1,len(nums)-2):\n",
    "            left = j +1\n",
    "            right = len(nums)-1\n",
    "            while left < right:\n",
    "                n = nums[i] + nums[j] + nums[left] + nums[right]\n",
    "                if n == target:\n",
    "                    res.add((nums[i], nums[j], nums[left], nums[right]))\n",
    "                    left += 1\n",
    "                    right -= 1\n",
    "                elif n > target:\n",
    "                    right -= 1\n",
    "                else:\n",
    "                    left += 1\n",
    "    return list(res)"
   ]
  },
  {
   "cell_type": "code",
   "execution_count": 6,
   "id": "81bf5e53-8fa4-473d-bd55-4ec3d80cc25d",
   "metadata": {},
   "outputs": [
    {
     "data": {
      "text/plain": [
       "[(-2, -1, 1, 2), (-1, 0, 0, 1), (-2, 0, 0, 2)]"
      ]
     },
     "execution_count": 6,
     "metadata": {},
     "output_type": "execute_result"
    }
   ],
   "source": [
    "nums = [1,0,-1,0,-2,2]\n",
    "target = 0\n",
    "fourSum(nums, target)"
   ]
  },
  {
   "cell_type": "code",
   "execution_count": null,
   "id": "5817853f-5896-4c2e-990d-5c7b521bcc8b",
   "metadata": {},
   "outputs": [],
   "source": []
  }
 ],
 "metadata": {
  "kernelspec": {
   "display_name": "Python 3 (ipykernel)",
   "language": "python",
   "name": "python3"
  },
  "language_info": {
   "codemirror_mode": {
    "name": "ipython",
    "version": 3
   },
   "file_extension": ".py",
   "mimetype": "text/x-python",
   "name": "python",
   "nbconvert_exporter": "python",
   "pygments_lexer": "ipython3",
   "version": "3.12.7"
  }
 },
 "nbformat": 4,
 "nbformat_minor": 5
}

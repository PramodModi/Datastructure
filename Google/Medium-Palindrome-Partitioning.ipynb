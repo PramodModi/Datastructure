{
 "cells": [
  {
   "cell_type": "markdown",
   "id": "60b07160-7f4d-4205-b7aa-48435086fa68",
   "metadata": {},
   "source": [
    "## Problem: Palindrome Partitioning\n",
    "LeetCode: 131\n",
    "\n",
    "https://leetcode.com/problems/palindrome-partitioning/description\n",
    "\n",
    "Given a string s, partition s such that every substring of the partition is a palindrome. Return all possible palindrome partitioning of s.\n",
    "\n",
    " \n",
    "\n",
    "Example 1:\n",
    "\n",
    "    Input: s = \"aab\"\n",
    "    Output: [[\"a\",\"a\",\"b\"],[\"aa\",\"b\"]]\n",
    "Example 2:\n",
    "\n",
    "    Input: s = \"a\"\n",
    "    Output: [[\"a\"]]\n",
    " \n",
    "\n",
    "Constraints:\n",
    "\n",
    "    1 <= s.length <= 16\n",
    "    s contains only lowercase English letters."
   ]
  },
  {
   "cell_type": "code",
   "execution_count": 18,
   "id": "c483bd14-783e-4ac9-9f36-9a6dce87e31d",
   "metadata": {},
   "outputs": [],
   "source": [
    "def partition(s):\n",
    "    result = []\n",
    "    helper(s, [], result)\n",
    "    return result\n",
    "def helper(s, temp, res):\n",
    "    if len(s) == 0:\n",
    "        res.append(temp[:])\n",
    "        return\n",
    "    for i in range(1, len(s) + 1):\n",
    "        c = s[0:i]\n",
    "        if palindrom(c):\n",
    "            temp.append(c)\n",
    "            helper(s[i:], temp, res)\n",
    "            temp.pop()\n",
    "def palindrom(s):\n",
    "    l, r = 0, len(s)-1\n",
    "    while l < r:\n",
    "        if s[l] != s[r]:\n",
    "            return False\n",
    "        l += 1\n",
    "        r -= 1\n",
    "    return True"
   ]
  },
  {
   "cell_type": "code",
   "execution_count": 20,
   "id": "e6a52d52-c329-4939-9794-5c1a39484f8f",
   "metadata": {},
   "outputs": [
    {
     "data": {
      "text/plain": [
       "[['a', 'a', 'b'], ['aa', 'b']]"
      ]
     },
     "execution_count": 20,
     "metadata": {},
     "output_type": "execute_result"
    }
   ],
   "source": [
    "s = \"aab\"\n",
    "partition(s)"
   ]
  },
  {
   "cell_type": "code",
   "execution_count": 22,
   "id": "86d75a23-9b6c-4496-90ba-5d53a2e8b67b",
   "metadata": {},
   "outputs": [
    {
     "data": {
      "text/plain": [
       "[['a', 'b', 'b'], ['a', 'bb']]"
      ]
     },
     "execution_count": 22,
     "metadata": {},
     "output_type": "execute_result"
    }
   ],
   "source": [
    "s = \"abb\"\n",
    "partition(s)"
   ]
  },
  {
   "cell_type": "code",
   "execution_count": null,
   "id": "bde2080d-e4dc-4527-bf99-638eb9729884",
   "metadata": {},
   "outputs": [],
   "source": []
  }
 ],
 "metadata": {
  "kernelspec": {
   "display_name": "Python 3 (ipykernel)",
   "language": "python",
   "name": "python3"
  },
  "language_info": {
   "codemirror_mode": {
    "name": "ipython",
    "version": 3
   },
   "file_extension": ".py",
   "mimetype": "text/x-python",
   "name": "python",
   "nbconvert_exporter": "python",
   "pygments_lexer": "ipython3",
   "version": "3.12.7"
  }
 },
 "nbformat": 4,
 "nbformat_minor": 5
}

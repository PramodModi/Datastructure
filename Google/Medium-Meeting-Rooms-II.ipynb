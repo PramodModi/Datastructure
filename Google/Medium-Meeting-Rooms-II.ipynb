{
 "cells": [
  {
   "cell_type": "markdown",
   "id": "17d2e1a1-72ef-482e-a24e-8c1db2cec635",
   "metadata": {},
   "source": [
    "## Problem: Meeting Rooms II\n",
    "LeetCode : 253\n",
    "\n",
    "https://leetcode.com/problems/meeting-rooms-ii/description\n",
    "\n",
    "Given an array of meeting time intervals intervals where intervals[i] = [starti, endi], return the minimum number of conference rooms required.\n",
    "\n",
    " \n",
    "\n",
    "Example 1:\n",
    "\n",
    "    Input: intervals = [[0,30],[5,10],[15,20]]\n",
    "    Output: 2\n",
    "Example 2:\n",
    "\n",
    "    Input: intervals = [[7,10],[2,4]]\n",
    "    Output: 1\n",
    " \n",
    "\n",
    "Constraints:\n",
    "\n",
    "    1 <= intervals.length <= 104\n",
    "    0 <= starti < endi <= 106"
   ]
  },
  {
   "cell_type": "code",
   "execution_count": 6,
   "id": "af130f3c-c5a1-4d04-84da-1335870c7b61",
   "metadata": {},
   "outputs": [],
   "source": [
    "import heapq\n",
    "def minMeetingRooms(intervals):\n",
    "        intervals.sort()\n",
    "        temp = intervals[0]\n",
    "        minHeap = []\n",
    "        heapq.heappush(minHeap, temp[1])\n",
    "        for i in range(1, len(intervals)):\n",
    "            interval = intervals[i]\n",
    "            if minHeap[0] <= interval[0]:\n",
    "                heapq.heappop(minHeap)\n",
    "            heapq.heappush(minHeap, interval[1])\n",
    "        return len(minHeap)"
   ]
  },
  {
   "cell_type": "code",
   "execution_count": 8,
   "id": "d42efcc3-dcdc-4eff-96ba-12f2d7754b11",
   "metadata": {},
   "outputs": [
    {
     "data": {
      "text/plain": [
       "2"
      ]
     },
     "execution_count": 8,
     "metadata": {},
     "output_type": "execute_result"
    }
   ],
   "source": [
    "intervals = [[0,30],[5,10],[15,20]]\n",
    "minMeetingRooms(intervals)"
   ]
  },
  {
   "cell_type": "code",
   "execution_count": null,
   "id": "5f14e2be-d1a7-4417-8ec8-e4e81ee7ea26",
   "metadata": {},
   "outputs": [],
   "source": []
  }
 ],
 "metadata": {
  "kernelspec": {
   "display_name": "Python 3 (ipykernel)",
   "language": "python",
   "name": "python3"
  },
  "language_info": {
   "codemirror_mode": {
    "name": "ipython",
    "version": 3
   },
   "file_extension": ".py",
   "mimetype": "text/x-python",
   "name": "python",
   "nbconvert_exporter": "python",
   "pygments_lexer": "ipython3",
   "version": "3.12.7"
  }
 },
 "nbformat": 4,
 "nbformat_minor": 5
}

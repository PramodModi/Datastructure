{
 "cells": [
  {
   "cell_type": "markdown",
   "id": "65a27ecc-4d3e-405d-b85d-7e07c22c152b",
   "metadata": {},
   "source": [
    "## Problem : Sqrt(x)\n",
    "LeetCode : 69\n",
    "\n",
    "https://leetcode.com/problems/sqrtx/description/\n",
    "\n",
    "Given a non-negative integer x, return the square root of x rounded down to the nearest integer. The returned integer should be non-negative as well.\n",
    "\n",
    "You must not use any built-in exponent function or operator.\n",
    "\n",
    "For example, do not use pow(x, 0.5) in c++ or x ** 0.5 in python.\n",
    " \n",
    "\n",
    "Example 1:\n",
    "\n",
    "    Input: x = 4\n",
    "    Output: 2\n",
    "    Explanation: The square root of 4 is 2, so we return 2.\n",
    "Example 2:\n",
    "\n",
    "    Input: x = 8\n",
    "    Output: 2\n",
    "    Explanation: The square root of 8 is 2.82842..., and since we round it down to the nearest integer, 2 is returned.\n",
    "     \n",
    "\n",
    "Constraints:\n",
    "\n",
    "    0 <= x <= 231 - 1"
   ]
  },
  {
   "cell_type": "code",
   "execution_count": 2,
   "id": "07cf3321-42e1-49ea-9939-bc2964c2a4b0",
   "metadata": {},
   "outputs": [],
   "source": [
    "def mySqrt(x):\n",
    "    if x < 2:\n",
    "        return x\n",
    "    left, right = 2, x//2\n",
    "    while left<=right:\n",
    "        pivot = left+(right-left)//2\n",
    "        num = pivot * pivot\n",
    "        if num > x:\n",
    "            right = pivot-1\n",
    "        elif num < x:\n",
    "            left = pivot + 1\n",
    "        else:\n",
    "            return pivot\n",
    "    return right"
   ]
  },
  {
   "cell_type": "code",
   "execution_count": 4,
   "id": "cb95fe9c-4353-48b4-8b56-a8245eb6f28e",
   "metadata": {},
   "outputs": [
    {
     "data": {
      "text/plain": [
       "2"
      ]
     },
     "execution_count": 4,
     "metadata": {},
     "output_type": "execute_result"
    }
   ],
   "source": [
    "mySqrt(4)"
   ]
  },
  {
   "cell_type": "code",
   "execution_count": 6,
   "id": "e60ed561-f52d-479a-b10d-80ba9d8254d7",
   "metadata": {},
   "outputs": [
    {
     "data": {
      "text/plain": [
       "2"
      ]
     },
     "execution_count": 6,
     "metadata": {},
     "output_type": "execute_result"
    }
   ],
   "source": [
    "mySqrt(8)"
   ]
  },
  {
   "cell_type": "code",
   "execution_count": null,
   "id": "bde8bbbc-dd4c-4642-a1be-eb457d6a70be",
   "metadata": {},
   "outputs": [],
   "source": []
  }
 ],
 "metadata": {
  "kernelspec": {
   "display_name": "Python 3 (ipykernel)",
   "language": "python",
   "name": "python3"
  },
  "language_info": {
   "codemirror_mode": {
    "name": "ipython",
    "version": 3
   },
   "file_extension": ".py",
   "mimetype": "text/x-python",
   "name": "python",
   "nbconvert_exporter": "python",
   "pygments_lexer": "ipython3",
   "version": "3.12.7"
  }
 },
 "nbformat": 4,
 "nbformat_minor": 5
}

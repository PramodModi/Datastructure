{
 "cells": [
  {
   "cell_type": "markdown",
   "id": "9d266a72-3a85-4f8c-84e3-0d183c0bbb17",
   "metadata": {},
   "source": [
    "## Problem: Next Permutation\n",
    "LeetCode : 31\n",
    "\n",
    "https://leetcode.com/problems/next-permutation/description/\n",
    "\n",
    "A permutation of an array of integers is an arrangement of its members into a sequence or linear order.\n",
    "\n",
    "For example, for arr = [1,2,3], the following are all the permutations of arr: [1,2,3], [1,3,2], [2, 1, 3], [2, 3, 1], [3,1,2], [3,2,1].\n",
    "The next permutation of an array of integers is the next lexicographically greater permutation of its integer. More formally, if all the permutations of the array are sorted in one container according to their lexicographical order, then the next permutation of that array is the permutation that follows it in the sorted container. If such arrangement is not possible, the array must be rearranged as the lowest possible order (i.e., sorted in ascending order).\n",
    "\n",
    "For example, the next permutation of arr = [1,2,3] is [1,3,2].\n",
    "Similarly, the next permutation of arr = [2,3,1] is [3,1,2].\n",
    "While the next permutation of arr = [3,2,1] is [1,2,3] because [3,2,1] does not have a lexicographical larger rearrangement.\n",
    "Given an array of integers nums, find the next permutation of nums.\n",
    "\n",
    "The replacement must be in place and use only constant extra memory.\n",
    "\n",
    " \n",
    "\n",
    "Example 1:\n",
    "\n",
    "    Input: nums = [1,2,3]\n",
    "    Output: [1,3,2]\n",
    "Example 2:\n",
    "\n",
    "    Input: nums = [3,2,1]\n",
    "    Output: [1,2,3]\n",
    "Example 3:\n",
    "\n",
    "    Input: nums = [1,1,5]\n",
    "    Output: [1,5,1]\n",
    " \n",
    "\n",
    "Constraints:\n",
    "\n",
    "    1 <= nums.length <= 100\n",
    "    0 <= nums[i] <= 100"
   ]
  },
  {
   "cell_type": "markdown",
   "id": "1dc50dcd-07ae-4e68-9060-7dd99d29c447",
   "metadata": {},
   "source": [
    "## Approach:\n",
    "\n",
    "* We need to find the next bigger number, so Start from right end. Say i = n-1. n = len(nums)\n",
    "* move left and find the smaller number than ith number. Basically, loop till you find next number is smaller than ith number. So that\n",
    "* these two number should be swapped. This will give bigger number. while nums[i] <= nums[i-1] : i-=1\n",
    "* However, as we need to find just next bigger number so we can not simply replace i and i-1 number.\n",
    "* Need to find a number bigger than (i-1)th number from the right end. Once found swap the number.\n",
    "* Then reverse all numbers from ith to right end number. To get just next number.\n",
    "* Here, if at step 2, if i is reached to left end that means, it is the greatest number, then we need to reverse the numbers to get lowest number."
   ]
  },
  {
   "cell_type": "code",
   "execution_count": 5,
   "id": "6553c4f8-f1e0-4fc7-a39c-aee87e099eb5",
   "metadata": {},
   "outputs": [],
   "source": [
    "def nextPermutation(nums):\n",
    "    # Find smaller number to be swapped    \n",
    "    n = len(nums)\n",
    "    i = n-1\n",
    "    while i >=1 and nums[i] <= nums[i-1]:\n",
    "        i -= 1\n",
    "    # If i > 0 that means number is not a greatest number.\n",
    "    # find the number greater than i-1 th number from right end to be swapped\n",
    "    if i > 0:\n",
    "        j = n-1\n",
    "        while nums[j] <= nums[i-1]:\n",
    "            j -= 1\n",
    "        nums[i-1], nums[j] = nums[j], nums[i-1]\n",
    "    \n",
    "    # Reverse the number, to get just next bigger number.\n",
    "    l = i\n",
    "    r = n-1\n",
    "    while l <= r:\n",
    "        nums[l], nums[r] = nums[r], nums[l]\n",
    "        l += 1\n",
    "        r -= 1\n",
    "    return nums"
   ]
  },
  {
   "cell_type": "code",
   "execution_count": 7,
   "id": "1fa04c12-c8a1-46eb-bdf7-11201a810736",
   "metadata": {},
   "outputs": [
    {
     "data": {
      "text/plain": [
       "[1, 3, 2]"
      ]
     },
     "execution_count": 7,
     "metadata": {},
     "output_type": "execute_result"
    }
   ],
   "source": [
    "nums = [1,2,3]\n",
    "nextPermutation(nums)"
   ]
  },
  {
   "cell_type": "code",
   "execution_count": 9,
   "id": "be4b3a39-1080-4be3-b5df-f162a0518671",
   "metadata": {},
   "outputs": [
    {
     "data": {
      "text/plain": [
       "[1, 5, 1]"
      ]
     },
     "execution_count": 9,
     "metadata": {},
     "output_type": "execute_result"
    }
   ],
   "source": [
    "nums = [1,1,5]\n",
    "nextPermutation(nums)"
   ]
  },
  {
   "cell_type": "code",
   "execution_count": null,
   "id": "891133ab-f09a-408d-8e2e-3de5e68a6dad",
   "metadata": {},
   "outputs": [],
   "source": []
  }
 ],
 "metadata": {
  "kernelspec": {
   "display_name": "Python 3 (ipykernel)",
   "language": "python",
   "name": "python3"
  },
  "language_info": {
   "codemirror_mode": {
    "name": "ipython",
    "version": 3
   },
   "file_extension": ".py",
   "mimetype": "text/x-python",
   "name": "python",
   "nbconvert_exporter": "python",
   "pygments_lexer": "ipython3",
   "version": "3.12.7"
  }
 },
 "nbformat": 4,
 "nbformat_minor": 5
}

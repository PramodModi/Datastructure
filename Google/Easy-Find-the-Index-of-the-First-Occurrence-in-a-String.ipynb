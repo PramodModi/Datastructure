{
 "cells": [
  {
   "cell_type": "markdown",
   "id": "25df0817-b93f-4ec1-a77c-9b87d8d05e51",
   "metadata": {},
   "source": [
    "## Problem: Find the Index of the First Occurrence in a String\n",
    "LeetCode: 21\n",
    "\n",
    "https://leetcode.com/problems/find-the-index-of-the-first-occurrence-in-a-string/description/\n",
    "\n",
    "Given two strings needle and haystack, return the index of the first occurrence of needle in haystack, or -1 if needle is not part of haystack.\n",
    "\n",
    " \n",
    "\n",
    "Example 1:\n",
    "\n",
    "    Input: haystack = \"sadbutsad\", needle = \"sad\"\n",
    "    Output: 0\n",
    "    Explanation: \"sad\" occurs at index 0 and 6.\n",
    "    The first occurrence is at index 0, so we return 0.\n",
    "Example 2:\n",
    "\n",
    "    Input: haystack = \"leetcode\", needle = \"leeto\"\n",
    "    Output: -1\n",
    "    Explanation: \"leeto\" did not occur in \"leetcode\", so we return -1.\n",
    "     \n",
    "\n",
    "Constraints:\n",
    "\n",
    "    1 <= haystack.length, needle.length <= 104\n",
    "    haystack and needle consist of only lowercase English characters.\n",
    "\n"
   ]
  },
  {
   "cell_type": "code",
   "execution_count": 10,
   "id": "fef9f17a-a302-4608-a4e7-784699ee00e3",
   "metadata": {},
   "outputs": [],
   "source": [
    "def strStr1( haystack, needle):\n",
    "    n = len(haystack)\n",
    "    m = len(needle)\n",
    "    if m > n:\n",
    "        return -1\n",
    "    i, j, index = 0,0, -1\n",
    "    for k in range(n):\n",
    "        i = k\n",
    "        j = 0\n",
    "        while i < n and j < m and haystack[i] == needle[j]:\n",
    "            index = k\n",
    "            i+=1\n",
    "            j+= 1\n",
    "        if j == m:\n",
    "            return index    \n",
    "    return -1"
   ]
  },
  {
   "cell_type": "code",
   "execution_count": 12,
   "id": "067fe682-5cc3-4752-8691-978135651dcc",
   "metadata": {},
   "outputs": [
    {
     "data": {
      "text/plain": [
       "0"
      ]
     },
     "execution_count": 12,
     "metadata": {},
     "output_type": "execute_result"
    }
   ],
   "source": [
    "haystack = \"sadbutsad\"\n",
    "needle = \"sad\"\n",
    "strStr1(haystack, needle)"
   ]
  },
  {
   "cell_type": "code",
   "execution_count": 14,
   "id": "17c2f345-50d4-4a89-b5ce-eb49024fc3b2",
   "metadata": {},
   "outputs": [
    {
     "data": {
      "text/plain": [
       "2"
      ]
     },
     "execution_count": 14,
     "metadata": {},
     "output_type": "execute_result"
    }
   ],
   "source": [
    "haystack = \"abc\"\n",
    "needle = \"c\"\n",
    "strStr1(haystack, needle)"
   ]
  },
  {
   "cell_type": "code",
   "execution_count": 2,
   "id": "d014c581-0370-4f46-ab6a-a38145d71083",
   "metadata": {},
   "outputs": [],
   "source": [
    "def strStr(haystack, needle):\n",
    "    n = len(haystack)\n",
    "    m = len(needle)\n",
    "    if n == m and haystack == needle:\n",
    "        return 0\n",
    "    l = 0\n",
    "    r = m\n",
    "    while r < n or l <n:\n",
    "        if haystack[l:r] == needle:\n",
    "            return l\n",
    "        l+= 1\n",
    "        if r < n:\n",
    "            r += 1\n",
    "    return -1"
   ]
  },
  {
   "cell_type": "code",
   "execution_count": 4,
   "id": "0d22ea87-93b7-4a1d-9e72-ce6851c62a02",
   "metadata": {},
   "outputs": [
    {
     "data": {
      "text/plain": [
       "0"
      ]
     },
     "execution_count": 4,
     "metadata": {},
     "output_type": "execute_result"
    }
   ],
   "source": [
    "haystack = \"sadbutsad\"\n",
    "needle = \"sad\"\n",
    "strStr(haystack, needle)"
   ]
  },
  {
   "cell_type": "code",
   "execution_count": 6,
   "id": "7892f5a1-76d1-400b-b302-a3575438eee4",
   "metadata": {},
   "outputs": [
    {
     "data": {
      "text/plain": [
       "2"
      ]
     },
     "execution_count": 6,
     "metadata": {},
     "output_type": "execute_result"
    }
   ],
   "source": [
    "haystack = \"abc\"\n",
    "needle = \"c\"\n",
    "strStr(haystack, needle)"
   ]
  },
  {
   "cell_type": "code",
   "execution_count": 8,
   "id": "1edf667d-7fc8-4af9-b94c-d5a0fc7d9cc5",
   "metadata": {},
   "outputs": [
    {
     "data": {
      "text/plain": [
       "0"
      ]
     },
     "execution_count": 8,
     "metadata": {},
     "output_type": "execute_result"
    }
   ],
   "source": [
    "haystack = \"c\"\n",
    "needle = \"c\"\n",
    "strStr(haystack, needle)"
   ]
  },
  {
   "cell_type": "code",
   "execution_count": null,
   "id": "256d3ed0-20d6-4c81-b5de-565502c03743",
   "metadata": {},
   "outputs": [],
   "source": []
  }
 ],
 "metadata": {
  "kernelspec": {
   "display_name": "Python 3 (ipykernel)",
   "language": "python",
   "name": "python3"
  },
  "language_info": {
   "codemirror_mode": {
    "name": "ipython",
    "version": 3
   },
   "file_extension": ".py",
   "mimetype": "text/x-python",
   "name": "python",
   "nbconvert_exporter": "python",
   "pygments_lexer": "ipython3",
   "version": "3.12.7"
  }
 },
 "nbformat": 4,
 "nbformat_minor": 5
}

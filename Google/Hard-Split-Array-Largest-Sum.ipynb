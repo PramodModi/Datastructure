{
 "cells": [
  {
   "cell_type": "markdown",
   "id": "7aaa442b-3d07-413b-8e88-330c4574f8b3",
   "metadata": {},
   "source": [
    "## Problem: Split Array Largest Sum\n",
    "LeetCode : 410\n",
    "\n",
    "https://leetcode.com/problems/split-array-largest-sum/description/\n",
    "\n",
    "Given an integer array nums and an integer k, split nums into k non-empty subarrays such that the largest sum of any subarray is minimized.\n",
    "\n",
    "Return the minimized largest sum of the split.\n",
    "\n",
    "A subarray is a contiguous part of the array.\n",
    "\n",
    " \n",
    "\n",
    "Example 1:\n",
    "\n",
    "    Input: nums = [7,2,5,10,8], k = 2\n",
    "    Output: 18\n",
    "    Explanation: There are four ways to split nums into two subarrays.\n",
    "    The best way is to split it into [7,2,5] and [10,8], where the largest sum among the two subarrays is only 18.\n",
    "Example 2:\n",
    "\n",
    "    Input: nums = [1,2,3,4,5], k = 2\n",
    "    Output: 9\n",
    "    Explanation: There are four ways to split nums into two subarrays.\n",
    "    The best way is to split it into [1,2,3] and [4,5], where the largest sum among the two subarrays is only 9.\n",
    " \n",
    "\n",
    "Constraints:\n",
    "\n",
    "    1 <= nums.length <= 1000\n",
    "    0 <= nums[i] <= 106\n",
    "    1 <= k <= min(50, nums.length)"
   ]
  },
  {
   "cell_type": "code",
   "execution_count": 4,
   "id": "c035f48c-cc0b-49ef-8c41-ca29950164f8",
   "metadata": {},
   "outputs": [],
   "source": [
    "def splitArray(nums, k):\n",
    "    n = len(nums)\n",
    "    prefix_sum = [0]*(n+1)\n",
    "    for i in range(n):\n",
    "        prefix_sum[i+1] = prefix_sum[i]+nums[i]\n",
    "    mem ={}\n",
    "    return helper(prefix_sum, k, 0, n, mem)\n",
    "def helper(pfxSum, k, index,n, mem):\n",
    "    key = str(k)+\"_\"+str(index)\n",
    "    if key in mem:\n",
    "        return mem[key]\n",
    "    if k == 1:\n",
    "        return pfxSum[n] - pfxSum[index]\n",
    "    minimmu_largest_sum = pfxSum[n]\n",
    "    for i in range(index, n - k + 1):\n",
    "        spli_sum = pfxSum[i+1]- pfxSum[index]\n",
    "        largest_sum = max(spli_sum, helper(pfxSum, k-1,i+1,n, mem))\n",
    "        minimmu_largest_sum = min(minimmu_largest_sum, largest_sum)\n",
    "        if spli_sum >= minimmu_largest_sum:\n",
    "            break\n",
    "    mem[key] = minimmu_largest_sum\n",
    "    return minimmu_largest_sum"
   ]
  },
  {
   "cell_type": "code",
   "execution_count": 6,
   "id": "43e61eae-8d05-453b-bb6a-226e651ebd9e",
   "metadata": {},
   "outputs": [
    {
     "data": {
      "text/plain": [
       "18"
      ]
     },
     "execution_count": 6,
     "metadata": {},
     "output_type": "execute_result"
    }
   ],
   "source": [
    "nums = [7,2,5,10,8]\n",
    "k = 2\n",
    "splitArray(nums, k)"
   ]
  },
  {
   "cell_type": "code",
   "execution_count": null,
   "id": "cc2864f5-e214-4d0e-8b63-9a2b6d5fd353",
   "metadata": {},
   "outputs": [],
   "source": []
  }
 ],
 "metadata": {
  "kernelspec": {
   "display_name": "Python 3 (ipykernel)",
   "language": "python",
   "name": "python3"
  },
  "language_info": {
   "codemirror_mode": {
    "name": "ipython",
    "version": 3
   },
   "file_extension": ".py",
   "mimetype": "text/x-python",
   "name": "python",
   "nbconvert_exporter": "python",
   "pygments_lexer": "ipython3",
   "version": "3.12.7"
  }
 },
 "nbformat": 4,
 "nbformat_minor": 5
}

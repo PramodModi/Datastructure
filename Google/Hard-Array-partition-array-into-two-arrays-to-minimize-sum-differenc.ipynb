{
 "cells": [
  {
   "cell_type": "markdown",
   "id": "76ba6205-1460-48b8-8fac-d4dd353abfa2",
   "metadata": {},
   "source": [
    "## Problem: partition-array-into-two-arrays-to-minimize-sum-differenc\n",
    "LeetCode: 2035\n",
    "https://leetcode.com/problems/partition-array-into-two-arrays-to-minimize-sum-difference/description/\n",
    "\n",
    "You are given an integer array nums of 2 * n integers. You need to partition nums into two arrays of length n to minimize the absolute difference of the sums of the arrays. To partition nums, put each element of nums into one of the two arrays.\n",
    "\n",
    "Return the minimum possible absolute difference.\n",
    "\n",
    " \n",
    "\n",
    "Example 1:\n",
    "    \n",
    "    Input: nums = [3,9,7,3]\n",
    "    Output: 2\n",
    "    Explanation: One optimal partition is: [3,9] and [7,3].\n",
    "    The absolute difference between the sums of the arrays is abs((3 + 9) - (7 + 3)) = 2.\n",
    "Example 2:\n",
    "\n",
    "    Input: nums = [-36,36]\n",
    "    Output: 72\n",
    "    Explanation: One optimal partition is: [-36] and [36].\n",
    "    The absolute difference between the sums of the arrays is abs((-36) - (36)) = 72.\n",
    "Example 3:\n",
    "\n",
    "    Input: nums = [2,-1,0,4,-2,-9]\n",
    "    Output: 0\n",
    "    Explanation: One optimal partition is: [2,4,-9] and [-1,0,-2].\n",
    "    The absolute difference between the sums of the arrays is abs((2 + 4 + -9) - (-1 + 0 + -2)) = 0.\n",
    " \n",
    "\n",
    "Constraints:\n",
    "\n",
    "    1 <= n <= 15\n",
    "    nums.length == 2 * n\n",
    "    -107 <= nums[i] <= 107"
   ]
  },
  {
   "cell_type": "code",
   "execution_count": 22,
   "id": "3ef6e022-c6c5-4c55-bf7b-52ba277b6140",
   "metadata": {},
   "outputs": [],
   "source": [
    "## Meet in the middle approach. However, this is incomplete.\n",
    "def minimumDifference1(nums):\n",
    "    n = len(nums)\n",
    "    sum1 = set()\n",
    "    sum2 = set()\n",
    "    dfs(nums[:n//2], 0, 0, sum1)\n",
    "    dfs(nums[n//2:], 0, 0, sum2)\n",
    "    sum2 = sorted(sum2)\n",
    "    target = sum(nums)//2\n",
    "    minDiff = float(\"inf\")\n",
    "    for s in sum1:\n",
    "        r = target - s\n",
    "        index = binarySearch(sum2, r)\n",
    "        if index < len(sum2):\n",
    "            minDiff = min(minDiff, target-sum2[index])\n",
    "        if index > 0:\n",
    "            minDiff = min(minDiff, target-sum2[index-1])\n",
    "    return minDiff\n",
    "\n",
    "def dfs(array, index, curSum, res):\n",
    "    if index == len(array):\n",
    "        res.add(curSum)\n",
    "        return\n",
    "    dfs(array, index+1, curSum+array[index], res)\n",
    "    dfs(array, index+1, curSum, res)\n",
    "\n",
    "def binarySearch(array, target):\n",
    "    left, right = 0, len(array)\n",
    "    while left < right:\n",
    "        mid = (left+right)//2\n",
    "        if target > array[mid]:\n",
    "            left = mid+1\n",
    "        else:\n",
    "            right = mid\n",
    "    return left\n",
    "        "
   ]
  },
  {
   "cell_type": "code",
   "execution_count": 23,
   "id": "96d63827-dcd6-4463-9e6d-39b2b021f968",
   "metadata": {},
   "outputs": [
    {
     "data": {
      "text/plain": [
       "1"
      ]
     },
     "execution_count": 23,
     "metadata": {},
     "output_type": "execute_result"
    }
   ],
   "source": [
    "nums = [3,9,7,3]\n",
    "minimumDifference1(nums)"
   ]
  },
  {
   "cell_type": "code",
   "execution_count": 13,
   "id": "4e5201a4-8d38-4602-968f-6494c6789472",
   "metadata": {},
   "outputs": [],
   "source": [
    "# This approach won't work here. Because of negative elements in the array.\n",
    "def minimumDifference(nums):\n",
    "    n = len(nums)\n",
    "    target = abs(sum(nums)//2)\n",
    "    dp =[[False for _ in range(target+1)] for _ in range(n+1)]\n",
    "    for i in range(n+1):\n",
    "        dp[i][0]= True\n",
    "    for i in range(1, n+1):\n",
    "        for j in range(1, target+1):\n",
    "            if nums[i-1] <= j:\n",
    "                dp[i][j] = dp[i-1][j - nums[i-1]] or dp[i-1][j]\n",
    "            else:\n",
    "                dp[i][j] = dp[i-1][j]\n",
    "    \n",
    "    for i in range(target, -1, -1):\n",
    "        if dp[n][i] == True:\n",
    "            break\n",
    "    #s1 = i\n",
    "    #s2 = sum(nums) - s1\n",
    "    #return abs(s1-s2)\n",
    "    return sum(nums) - 2*i"
   ]
  },
  {
   "cell_type": "code",
   "execution_count": 14,
   "id": "bc612cf4-eee9-47e7-839e-ed11851abccb",
   "metadata": {},
   "outputs": [
    {
     "data": {
      "text/plain": [
       "2"
      ]
     },
     "execution_count": 14,
     "metadata": {},
     "output_type": "execute_result"
    }
   ],
   "source": [
    "nums = [3,9,7,3]\n",
    "minimumDifference(nums)"
   ]
  },
  {
   "cell_type": "code",
   "execution_count": 15,
   "id": "b6c1b07c-3b8c-46c4-b8d0-aa27613f03eb",
   "metadata": {},
   "outputs": [
    {
     "data": {
      "text/plain": [
       "0"
      ]
     },
     "execution_count": 15,
     "metadata": {},
     "output_type": "execute_result"
    }
   ],
   "source": [
    "nums = [-36,36]\n",
    "minimumDifference(nums)"
   ]
  },
  {
   "cell_type": "code",
   "execution_count": 16,
   "id": "6f6d30ff-bbf9-4cb3-91c6-6d6fa6fa9c5e",
   "metadata": {},
   "outputs": [
    {
     "ename": "IndexError",
     "evalue": "list index out of range",
     "output_type": "error",
     "traceback": [
      "\u001b[0;31m---------------------------------------------------------------------------\u001b[0m",
      "\u001b[0;31mIndexError\u001b[0m                                Traceback (most recent call last)",
      "Cell \u001b[0;32mIn[16], line 2\u001b[0m\n\u001b[1;32m      1\u001b[0m nums \u001b[38;5;241m=\u001b[39m [\u001b[38;5;241m2\u001b[39m,\u001b[38;5;241m-\u001b[39m\u001b[38;5;241m1\u001b[39m,\u001b[38;5;241m0\u001b[39m,\u001b[38;5;241m4\u001b[39m,\u001b[38;5;241m-\u001b[39m\u001b[38;5;241m2\u001b[39m,\u001b[38;5;241m-\u001b[39m\u001b[38;5;241m9\u001b[39m]\n\u001b[0;32m----> 2\u001b[0m \u001b[43mminimumDifference\u001b[49m\u001b[43m(\u001b[49m\u001b[43mnums\u001b[49m\u001b[43m)\u001b[49m\n",
      "Cell \u001b[0;32mIn[13], line 10\u001b[0m, in \u001b[0;36mminimumDifference\u001b[0;34m(nums)\u001b[0m\n\u001b[1;32m      8\u001b[0m \u001b[38;5;28;01mfor\u001b[39;00m j \u001b[38;5;129;01min\u001b[39;00m \u001b[38;5;28mrange\u001b[39m(\u001b[38;5;241m1\u001b[39m, target\u001b[38;5;241m+\u001b[39m\u001b[38;5;241m1\u001b[39m):\n\u001b[1;32m      9\u001b[0m     \u001b[38;5;28;01mif\u001b[39;00m nums[i\u001b[38;5;241m-\u001b[39m\u001b[38;5;241m1\u001b[39m] \u001b[38;5;241m<\u001b[39m\u001b[38;5;241m=\u001b[39m j:\n\u001b[0;32m---> 10\u001b[0m         dp[i][j] \u001b[38;5;241m=\u001b[39m \u001b[43mdp\u001b[49m\u001b[43m[\u001b[49m\u001b[43mi\u001b[49m\u001b[38;5;241;43m-\u001b[39;49m\u001b[38;5;241;43m1\u001b[39;49m\u001b[43m]\u001b[49m\u001b[43m[\u001b[49m\u001b[43mj\u001b[49m\u001b[43m \u001b[49m\u001b[38;5;241;43m-\u001b[39;49m\u001b[43m \u001b[49m\u001b[43mnums\u001b[49m\u001b[43m[\u001b[49m\u001b[43mi\u001b[49m\u001b[38;5;241;43m-\u001b[39;49m\u001b[38;5;241;43m1\u001b[39;49m\u001b[43m]\u001b[49m\u001b[43m]\u001b[49m \u001b[38;5;129;01mor\u001b[39;00m dp[i\u001b[38;5;241m-\u001b[39m\u001b[38;5;241m1\u001b[39m][j]\n\u001b[1;32m     11\u001b[0m     \u001b[38;5;28;01melse\u001b[39;00m:\n\u001b[1;32m     12\u001b[0m         dp[i][j] \u001b[38;5;241m=\u001b[39m dp[i\u001b[38;5;241m-\u001b[39m\u001b[38;5;241m1\u001b[39m][j]\n",
      "\u001b[0;31mIndexError\u001b[0m: list index out of range"
     ]
    }
   ],
   "source": [
    "nums = [2,-1,0,4,-2,-9]\n",
    "minimumDifference(nums)"
   ]
  },
  {
   "cell_type": "code",
   "execution_count": null,
   "id": "f2a9aabf-b43e-4815-8e3e-02773fc0c63c",
   "metadata": {},
   "outputs": [],
   "source": []
  }
 ],
 "metadata": {
  "kernelspec": {
   "display_name": "Python 3 (ipykernel)",
   "language": "python",
   "name": "python3"
  },
  "language_info": {
   "codemirror_mode": {
    "name": "ipython",
    "version": 3
   },
   "file_extension": ".py",
   "mimetype": "text/x-python",
   "name": "python",
   "nbconvert_exporter": "python",
   "pygments_lexer": "ipython3",
   "version": "3.8.18"
  }
 },
 "nbformat": 4,
 "nbformat_minor": 5
}

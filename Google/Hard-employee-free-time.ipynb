{
 "cells": [
  {
   "cell_type": "markdown",
   "id": "7e845280-903c-4e59-a23e-d4f770b00ed8",
   "metadata": {},
   "source": [
    "## Problem: Employee Free Time\n",
    "\n",
    "LeetCode: 759\n",
    "\n",
    "https://leetcode.com/problems/employee-free-time/description/\n",
    "\n",
    "We are given a list schedule of employees, which represents the working time for each employee.\n",
    "\n",
    "Each employee has a list of non-overlapping Intervals, and these intervals are in sorted order.\n",
    "\n",
    "Return the list of finite intervals representing common, positive-length free time for all employees, also in sorted order.\n",
    "\n",
    "(Even though we are representing Intervals in the form [x, y], the objects inside are Intervals, not lists or arrays. For example, schedule[0][0].start = 1, schedule[0][0].end = 2, and schedule[0][0][0] is not defined).  Also, we wouldn't include intervals like [5, 5] in our answer, as they have zero length.\n",
    "\n",
    " \n",
    "\n",
    "Example 1:\n",
    "\n",
    "    Input: schedule = [[[1,2],[5,6]],[[1,3]],[[4,10]]]\n",
    "    Output: [[3,4]]\n",
    "    Explanation: There are a total of three employees, and all common\n",
    "    free time intervals would be [-inf, 1], [3, 4], [10, inf].\n",
    "    We discard any intervals that contain inf as they aren't finite.\n",
    "Example 2:\n",
    "\n",
    "    Input: schedule = [[[1,3],[6,7]],[[2,4]],[[2,5],[9,12]]]\n",
    "    Output: [[5,6],[7,9]]\n",
    " \n",
    "\n",
    "Constraints:\n",
    "\n",
    "    1 <= schedule.length , schedule[i].length <= 50\n",
    "    0 <= schedule[i].start < schedule[i].end <= 10^8"
   ]
  },
  {
   "cell_type": "code",
   "execution_count": 2,
   "id": "dde2147b-9ef0-4497-9c51-6c96fc22b8e2",
   "metadata": {},
   "outputs": [],
   "source": [
    "# Definition for an Interval.\n",
    "class Interval:\n",
    "    def __init__(self, start: int = None, end: int = None):\n",
    "        self.start = start\n",
    "        self.end = end"
   ]
  },
  {
   "cell_type": "code",
   "execution_count": 3,
   "id": "fe054631-9d2f-4897-af84-e332736abeaa",
   "metadata": {},
   "outputs": [],
   "source": [
    "def employeeFreeTime(schedule):\n",
    "    result = []\n",
    "    prevInterval = None\n",
    "    minHeap = []\n",
    "    for i in range(len(schedule)):\n",
    "        heapq.heappush(minHeap, (schedule[i][0].start, 0, i))\n",
    "    while minHeap:\n",
    "        element = heapq.heappop(minHeap)\n",
    "        first = element[0]\n",
    "        intervalIndex = element[1]\n",
    "        index = element[2]\n",
    "        curInterval = schedule[index][intervalIndex]\n",
    "        if prevInterval is None:\n",
    "            prevInterval = curInterval\n",
    "        else:\n",
    "            if curInterval.start - prevInterval.end > 0:\n",
    "                result.append(Interval(prevInterval.end, curInterval.start))\n",
    "            prevInterval.end = max(prevInterval.end, curInterval.end)\n",
    "        intervalIndex += 1\n",
    "        if intervalIndex < len(schedule[index]):\n",
    "            heapq.heappush(minHeap, (schedule[index][intervalIndex].start, intervalIndex, index))\n",
    "    return result\n",
    "    \n",
    "    "
   ]
  },
  {
   "cell_type": "code",
   "execution_count": null,
   "id": "d5917cd0-ee27-44fb-bc2f-3bf5f3ae0d53",
   "metadata": {},
   "outputs": [],
   "source": []
  }
 ],
 "metadata": {
  "kernelspec": {
   "display_name": "Python 3 (ipykernel)",
   "language": "python",
   "name": "python3"
  },
  "language_info": {
   "codemirror_mode": {
    "name": "ipython",
    "version": 3
   },
   "file_extension": ".py",
   "mimetype": "text/x-python",
   "name": "python",
   "nbconvert_exporter": "python",
   "pygments_lexer": "ipython3",
   "version": "3.8.18"
  }
 },
 "nbformat": 4,
 "nbformat_minor": 5
}

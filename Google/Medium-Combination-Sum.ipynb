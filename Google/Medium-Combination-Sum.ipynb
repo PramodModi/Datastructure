{
 "cells": [
  {
   "cell_type": "markdown",
   "id": "2359867e-089f-46bb-8db2-63db75faab34",
   "metadata": {},
   "source": [
    "## Problem: Combination Sum\n",
    "LeetCode : 39\n",
    "\n",
    "https://leetcode.com/problems/combination-sum/description\n",
    "\n",
    "Given an array of distinct integers candidates and a target integer target, return a list of all unique combinations of candidates where the chosen numbers sum to target. You may return the combinations in any order.\n",
    "\n",
    "The same number may be chosen from candidates an unlimited number of times. Two combinations are unique if the frequency of at least one of the chosen numbers is different.\n",
    "\n",
    "The test cases are generated such that the number of unique combinations that sum up to target is less than 150 combinations for the given input.\n",
    "\n",
    " \n",
    "\n",
    "Example 1:\n",
    "\n",
    "    Input: candidates = [2,3,6,7], target = 7\n",
    "    Output: [[2,2,3],[7]]\n",
    "    Explanation:\n",
    "    2 and 3 are candidates, and 2 + 2 + 3 = 7. Note that 2 can be used multiple times.\n",
    "    7 is a candidate, and 7 = 7.\n",
    "    These are the only two combinations.\n",
    "Example 2:\n",
    "\n",
    "    Input: candidates = [2,3,5], target = 8\n",
    "    Output: [[2,2,2,2],[2,3,3],[3,5]]\n",
    "    Example 3:\n",
    "    \n",
    "    Input: candidates = [2], target = 1\n",
    "    Output: []\n",
    " \n",
    "\n",
    "Constraints:\n",
    "\n",
    "    1 <= candidates.length <= 30\n",
    "    2 <= candidates[i] <= 40\n",
    "    All elements of candidates are distinct.\n",
    "    1 <= target <= 40"
   ]
  },
  {
   "cell_type": "code",
   "execution_count": 2,
   "id": "7d8a22b5-cfe3-47d8-8d08-7491253cc759",
   "metadata": {},
   "outputs": [],
   "source": [
    "def combinationSum(candidates, target):\n",
    "        res = []\n",
    "        helper(candidates, target,res, [], 0)\n",
    "        return res\n",
    "def helper(candidates, target, res, temp, index):\n",
    "    if target == 0:\n",
    "        res.append(temp[:])\n",
    "        return \n",
    "    if target < 0:\n",
    "        return\n",
    "    for i in range(index, len(candidates)):\n",
    "        num = candidates[i]\n",
    "        temp.append(num)\n",
    "        helper(candidates, target-num, res, temp, i)\n",
    "        temp.pop()\n"
   ]
  },
  {
   "cell_type": "code",
   "execution_count": 6,
   "id": "d0ff48cb-beb1-4992-8988-6a67abfb5efa",
   "metadata": {},
   "outputs": [
    {
     "data": {
      "text/plain": [
       "[[2, 2, 2, 2], [2, 3, 3], [3, 5]]"
      ]
     },
     "execution_count": 6,
     "metadata": {},
     "output_type": "execute_result"
    }
   ],
   "source": [
    "candidates = [2,3,5]\n",
    "target = 8\n",
    "combinationSum(candidates, target)"
   ]
  },
  {
   "cell_type": "code",
   "execution_count": null,
   "id": "38541c18-a086-47e8-833e-91a2a72567dd",
   "metadata": {},
   "outputs": [],
   "source": []
  }
 ],
 "metadata": {
  "kernelspec": {
   "display_name": "Python 3 (ipykernel)",
   "language": "python",
   "name": "python3"
  },
  "language_info": {
   "codemirror_mode": {
    "name": "ipython",
    "version": 3
   },
   "file_extension": ".py",
   "mimetype": "text/x-python",
   "name": "python",
   "nbconvert_exporter": "python",
   "pygments_lexer": "ipython3",
   "version": "3.12.7"
  }
 },
 "nbformat": 4,
 "nbformat_minor": 5
}

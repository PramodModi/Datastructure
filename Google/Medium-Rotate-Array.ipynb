{
 "cells": [
  {
   "cell_type": "markdown",
   "id": "924c1bc3-c145-477e-91de-a624ead2980d",
   "metadata": {},
   "source": [
    "# Problem : Rotate Array\n",
    "LeetCode : 189\n",
    "\n",
    "https://leetcode.com/problems/rotate-array/description/\n",
    "\n",
    "Given an integer array nums, rotate the array to the right by k steps, where k is non-negative.\n",
    "\n",
    " \n",
    "\n",
    "Example 1:\n",
    "\n",
    "    Input: nums = [1,2,3,4,5,6,7], k = 3\n",
    "    Output: [5,6,7,1,2,3,4]\n",
    "    Explanation:\n",
    "    rotate 1 steps to the right: [7,1,2,3,4,5,6]\n",
    "    rotate 2 steps to the right: [6,7,1,2,3,4,5]\n",
    "    rotate 3 steps to the right: [5,6,7,1,2,3,4]\n",
    "Example 2:\n",
    "\n",
    "    Input: nums = [-1,-100,3,99], k = 2\n",
    "    Output: [3,99,-1,-100]\n",
    "    Explanation: \n",
    "    rotate 1 steps to the right: [99,-1,-100,3]\n",
    "    rotate 2 steps to the right: [3,99,-1,-100]\n",
    " \n",
    "\n",
    "Constraints:\n",
    "\n",
    "    1 <= nums.length <= 105\n",
    "    -231 <= nums[i] <= 231 - 1\n",
    "    0 <= k <= 105\n"
   ]
  },
  {
   "cell_type": "code",
   "execution_count": 10,
   "id": "29851652-394b-4189-9b44-88fc3c29bb65",
   "metadata": {},
   "outputs": [],
   "source": [
    "def rotate(nums, k):\n",
    "    n = len(nums)\n",
    "    k = k % n\n",
    "    reverse(nums, 0, n-1)\n",
    "    reverse(nums, 0, k-1)\n",
    "    reverse(nums, k,n-1 )\n",
    "    return nums\n",
    "def reverse(nums, start, end):\n",
    "    while start < end:\n",
    "        nums[start], nums[end] = nums[end], nums[start]\n",
    "        start += 1\n",
    "        end -= 1"
   ]
  },
  {
   "cell_type": "code",
   "execution_count": 12,
   "id": "9afb868e-037d-4749-8ce9-a431e98a16cc",
   "metadata": {},
   "outputs": [
    {
     "data": {
      "text/plain": [
       "[5, 6, 7, 1, 2, 3, 4]"
      ]
     },
     "execution_count": 12,
     "metadata": {},
     "output_type": "execute_result"
    }
   ],
   "source": [
    "nums = [1,2,3,4,5,6,7]\n",
    "k = 3\n",
    "rotate(nums, k)"
   ]
  },
  {
   "cell_type": "code",
   "execution_count": 14,
   "id": "9beba092-6c6f-42d8-bba8-f75170f90899",
   "metadata": {},
   "outputs": [],
   "source": [
    "def rotate1(nums, k):\n",
    "    k  = k % len(nums)\n",
    "    nums1 = nums[-k:]\n",
    "    nums2 = nums[:-k]\n",
    "    nums[:] = nums1 + nums2\n",
    "    return nums"
   ]
  },
  {
   "cell_type": "code",
   "execution_count": 16,
   "id": "79b57af3-b1cd-4423-b155-4d91d7d8ab7e",
   "metadata": {},
   "outputs": [
    {
     "data": {
      "text/plain": [
       "[5, 6, 7, 1, 2, 3, 4]"
      ]
     },
     "execution_count": 16,
     "metadata": {},
     "output_type": "execute_result"
    }
   ],
   "source": [
    "nums = [1,2,3,4,5,6,7]\n",
    "k = 3\n",
    "rotate1(nums, k)"
   ]
  },
  {
   "cell_type": "code",
   "execution_count": null,
   "id": "83e16400-f341-4a9b-8bb1-1f0cf4cc4d4a",
   "metadata": {},
   "outputs": [],
   "source": []
  }
 ],
 "metadata": {
  "kernelspec": {
   "display_name": "Python 3 (ipykernel)",
   "language": "python",
   "name": "python3"
  },
  "language_info": {
   "codemirror_mode": {
    "name": "ipython",
    "version": 3
   },
   "file_extension": ".py",
   "mimetype": "text/x-python",
   "name": "python",
   "nbconvert_exporter": "python",
   "pygments_lexer": "ipython3",
   "version": "3.12.7"
  }
 },
 "nbformat": 4,
 "nbformat_minor": 5
}

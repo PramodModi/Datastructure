{
 "cells": [
  {
   "attachments": {
    "62b474a3-0d43-42f7-b63e-8428a19fbfd5.png": {
     "image/png": "[encoded data removed]"
    }
   },
   "cell_type": "markdown",
   "id": "0e0ee8c8-237e-42ef-908e-209d6d6516df",
   "metadata": {},
   "source": [
    "## Problem: Check if word can be placed in crossword\n",
    "\n",
    "LeetCode: 2018\n",
    "\n",
    "https://leetcode.com/problems/check-if-word-can-be-placed-in-crossword/\n",
    "\n",
    "\n",
    "You are given an m x n matrix board, representing the current state of a crossword puzzle. The crossword contains lowercase English letters (from solved words), ' ' to represent any empty cells, and '#' to represent any blocked cells.\n",
    "\n",
    "A word can be placed horizontally (left to right or right to left) or vertically (top to bottom or bottom to top) in the board if:\n",
    "\n",
    "It does not occupy a cell containing the character '#'.\n",
    "The cell each letter is placed in must either be ' ' (empty) or match the letter already on the board.\n",
    "There must not be any empty cells ' ' or other lowercase letters directly left or right of the word if the word was placed horizontally.\n",
    "There must not be any empty cells ' ' or other lowercase letters directly above or below the word if the word was placed vertically.\n",
    "Given a string word, return true if word can be placed in board, or false otherwise.\n",
    "\n",
    " \n",
    "\n",
    "Example 1:\n",
    "\n",
    "![image.png](attachment:62b474a3-0d43-42f7-b63e-8428a19fbfd5.png)\n",
    "    \n",
    "    Input: board = [[\"#\", \" \", \"#\"], [\" \", \" \", \"#\"], [\"#\", \"c\", \" \"]], word = \"abc\"\n",
    "    Output: true\n",
    "    Explanation: The word \"abc\" can be placed as shown above (top to bottom).\n",
    "Example 2:\n",
    "\n",
    "\n",
    "    Input: board = [[\" \", \"#\", \"a\"], [\" \", \"#\", \"c\"], [\" \", \"#\", \"a\"]], word = \"ac\"\n",
    "    Output: false\n",
    "    Explanation: It is impossible to place the word because there will always be a space/letter above or below it.\n",
    "Example 3:\n",
    "\n",
    "\n",
    "    Input: board = [[\"#\", \" \", \"#\"], [\" \", \" \", \"#\"], [\"#\", \" \", \"c\"]], word = \"ca\"\n",
    "    Output: true\n",
    "    Explanation: The word \"ca\" can be placed as shown above (right to left). \n",
    " \n",
    "\n",
    "Constraints:\n",
    "\n",
    "    m == board.length\n",
    "    n == board[i].length\n",
    "    1 <= m * n <= 2 * 105\n",
    "    board[i][j] will be ' ', '#', or a lowercase English letter.\n",
    "    1 <= word.length <= max(m, n)\n",
    "    word will contain only lowercase English letters."
   ]
  },
  {
   "cell_type": "code",
   "execution_count": null,
   "id": "4f098b4e-c74b-472c-b234-b502c9c052c1",
   "metadata": {},
   "outputs": [],
   "source": []
  },
  {
   "cell_type": "code",
   "execution_count": 4,
   "id": "5ae85297-af69-4d38-876b-9bbd4ed6542c",
   "metadata": {},
   "outputs": [],
   "source": [
    "def placeWordInCrossword(board, word):\n",
    "        direction =  [[0,1], [1,0], [-1, 0], [0,-1]]\n",
    "        for i in range(len(board)):\n",
    "            for j in range(len(board[0])):\n",
    "                if board[i][j] == \" \" or board[i][j] == word[0]:\n",
    "                    for dir in direction:\n",
    "                        r = i\n",
    "                        c = j\n",
    "                        idx = 0\n",
    "                        if isValid(board, r-dir[0], c-dir[1]) and board[r-dir[0]][c-dir[1]] != \"#\":\n",
    "                            continue\n",
    "                        while idx < len(word) and isValid(board, r,c):\n",
    "                            if board[r][c] != \" \" and board[r][c] != word[idx]:\n",
    "                                break\n",
    "                            idx += 1\n",
    "                            r += dir[0]\n",
    "                            c += dir[1] \n",
    "                        if idx >= len(word) and (not isValid(board, r, c) or board[r][c] == \"#\"):\n",
    "                            return True\n",
    "        return False\n",
    "\n",
    "def isValid(board, row, col):\n",
    "    return row >= 0 and row < len(board) and col >= 0 and col < len(board[0])\n",
    "                        \n",
    "        "
   ]
  },
  {
   "cell_type": "code",
   "execution_count": 5,
   "id": "bc4f8be1-1fe3-4e76-a67e-a3deff2e1963",
   "metadata": {},
   "outputs": [
    {
     "data": {
      "text/plain": [
       "True"
      ]
     },
     "execution_count": 5,
     "metadata": {},
     "output_type": "execute_result"
    }
   ],
   "source": [
    "board = [[\"#\", \" \", \"#\"], [\" \", \" \", \"#\"], [\"#\", \"c\", \" \"]]\n",
    "word = \"abc\"\n",
    "placeWordInCrossword(board, word)"
   ]
  },
  {
   "cell_type": "code",
   "execution_count": 6,
   "id": "7624019b-73bc-47d9-8152-f08db9f6c1fa",
   "metadata": {},
   "outputs": [
    {
     "data": {
      "text/plain": [
       "False"
      ]
     },
     "execution_count": 6,
     "metadata": {},
     "output_type": "execute_result"
    }
   ],
   "source": [
    "board = [[\" \", \"#\", \"a\"], [\" \", \"#\", \"c\"], [\" \", \"#\", \"a\"]]\n",
    "word = \"ac\"\n",
    "placeWordInCrossword(board, word)"
   ]
  },
  {
   "cell_type": "code",
   "execution_count": 7,
   "id": "c701a2af-da60-4fa9-8cc1-9545d6ae854f",
   "metadata": {},
   "outputs": [
    {
     "data": {
      "text/plain": [
       "True"
      ]
     },
     "execution_count": 7,
     "metadata": {},
     "output_type": "execute_result"
    }
   ],
   "source": [
    "board = [[\"#\", \" \", \"#\"], [\" \", \" \", \"#\"], [\"#\", \" \", \"c\"]]\n",
    "word = \"ca\"\n",
    "placeWordInCrossword(board, word)"
   ]
  },
  {
   "cell_type": "code",
   "execution_count": null,
   "id": "a25bf7f6-b03c-4602-a0fa-bc989bb4f899",
   "metadata": {},
   "outputs": [],
   "source": []
  }
 ],
 "metadata": {
  "kernelspec": {
   "display_name": "Python 3 (ipykernel)",
   "language": "python",
   "name": "python3"
  },
  "language_info": {
   "codemirror_mode": {
    "name": "ipython",
    "version": 3
   },
   "file_extension": ".py",
   "mimetype": "text/x-python",
   "name": "python",
   "nbconvert_exporter": "python",
   "pygments_lexer": "ipython3",
   "version": "3.8.18"
  }
 },
 "nbformat": 4,
 "nbformat_minor": 5
}

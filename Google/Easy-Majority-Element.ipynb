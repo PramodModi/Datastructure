{
 "cells": [
  {
   "cell_type": "markdown",
   "id": "77941fc2-f2c4-413b-add6-ae36455b6061",
   "metadata": {},
   "source": [
    "## Problem: Majority Element\n",
    "LeetCode: 169\n",
    "\n",
    "https://leetcode.com/problems/majority-element/description/\n",
    "\n",
    "Given an array nums of size n, return the majority element.\n",
    "\n",
    "The majority element is the element that appears more than ⌊n / 2⌋ times. You may assume that the majority element always exists in the array.\n",
    "\n",
    "\n",
    "Example 1:\n",
    "\n",
    "    Input: nums = [3,2,3]\n",
    "    Output: 3\n",
    "Example 2:\n",
    "\n",
    "    Input: nums = [2,2,1,1,1,2,2]\n",
    "    Output: 2\n",
    " \n",
    "\n",
    "Constraints:\n",
    "\n",
    "    n == nums.length\n",
    "    1 <= n <= 5 * 104\n",
    "    -109 <= nums[i] <= 109\n"
   ]
  },
  {
   "cell_type": "code",
   "execution_count": 10,
   "id": "ca8aaf3c-5260-48d1-b790-e0f0497e21bd",
   "metadata": {},
   "outputs": [],
   "source": [
    "def majorityElement(nums):\n",
    "    count = 1\n",
    "    cur = nums[0]\n",
    "    for i in range(1, len(nums)):\n",
    "        if cur == nums[i]:\n",
    "            count += 1\n",
    "        else:\n",
    "            count -= 1\n",
    "            if count == 0:\n",
    "                cur = nums[i]\n",
    "                count = 1\n",
    "        \n",
    "    return cur"
   ]
  },
  {
   "cell_type": "code",
   "execution_count": 12,
   "id": "d8a3a5fc-54b1-4d64-9ae3-3be831c2b508",
   "metadata": {},
   "outputs": [
    {
     "data": {
      "text/plain": [
       "2"
      ]
     },
     "execution_count": 12,
     "metadata": {},
     "output_type": "execute_result"
    }
   ],
   "source": [
    "nums = [2,2,1,1,1,2,2]\n",
    "majorityElement(nums)"
   ]
  },
  {
   "cell_type": "code",
   "execution_count": 14,
   "id": "bd1f03bb-6566-4aa2-9a8a-4d06dbe11cf7",
   "metadata": {},
   "outputs": [],
   "source": [
    "def majorityElement1(nums):\n",
    "    temp = {}\n",
    "    n = len(nums)\n",
    "    for num in nums:\n",
    "        temp[num] = temp.get(num, 0) + 1\n",
    "        if temp[num] > n//2:\n",
    "            return num"
   ]
  },
  {
   "cell_type": "code",
   "execution_count": 16,
   "id": "d652ffe3-2552-449e-9efc-19752c7c1665",
   "metadata": {},
   "outputs": [
    {
     "data": {
      "text/plain": [
       "2"
      ]
     },
     "execution_count": 16,
     "metadata": {},
     "output_type": "execute_result"
    }
   ],
   "source": [
    "nums = [2,2,1,1,1,2,2]\n",
    "majorityElement1(nums)"
   ]
  },
  {
   "cell_type": "code",
   "execution_count": null,
   "id": "41d9b24a-fc0a-4302-940f-19b8ef94dbaa",
   "metadata": {},
   "outputs": [],
   "source": []
  }
 ],
 "metadata": {
  "kernelspec": {
   "display_name": "Python 3 (ipykernel)",
   "language": "python",
   "name": "python3"
  },
  "language_info": {
   "codemirror_mode": {
    "name": "ipython",
    "version": 3
   },
   "file_extension": ".py",
   "mimetype": "text/x-python",
   "name": "python",
   "nbconvert_exporter": "python",
   "pygments_lexer": "ipython3",
   "version": "3.12.7"
  }
 },
 "nbformat": 4,
 "nbformat_minor": 5
}

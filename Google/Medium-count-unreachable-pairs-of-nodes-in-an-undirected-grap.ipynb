{
 "cells": [
  {
   "attachments": {
    "0576d4d0-c28c-4fc8-8ddc-55075ea1041f.png": {
     "image/png": "[encoded data removed]"
    }
   },
   "cell_type": "markdown",
   "id": "5dd7f3a9-0843-4009-8b2a-b51503a13439",
   "metadata": {},
   "source": [
    "## Problem: Count unreachable pairs of nodes in an undirected grap\n",
    "LeetCode: 2316\n",
    "\n",
    "https://leetcode.com/problems/count-unreachable-pairs-of-nodes-in-an-undirected-graph/description/\n",
    "\n",
    "You are given an integer n. There is an undirected graph with n nodes, numbered from 0 to n - 1. You are given a 2D integer array edges where edges[i] = [ai, bi] denotes that there exists an undirected edge connecting nodes ai and bi.\n",
    "\n",
    "Return the number of pairs of different nodes that are unreachable from each other.\n",
    "\n",
    " \n",
    "\n",
    "Example 1:\n",
    "\n",
    "\n",
    "    Input: n = 3, edges = [[0,1],[0,2],[1,2]]\n",
    "    Output: 0\n",
    "    Explanation: There are no pairs of nodes that are unreachable from each other. Therefore, we return 0.\n",
    "Example 2:\n",
    "\n",
    "![image.png](attachment:0576d4d0-c28c-4fc8-8ddc-55075ea1041f.png)!\n",
    "\n",
    "    Input: n = 7, edges = [[0,2],[0,5],[2,4],[1,6],[5,4]]\n",
    "    Output: 14\n",
    "    Explanation: There are 14 pairs of nodes that are unreachable from each other:\n",
    "    [[0,1],[0,3],[0,6],[1,2],[1,3],[1,4],[1,5],[2,3],[2,6],[3,4],[3,5],[3,6],[4,6],[5,6]].\n",
    "    Therefore, we return 14.\n",
    " \n",
    "\n",
    "Constraints:\n",
    "\n",
    "    1 <= n <= 10^5\n",
    "    0 <= edges.length <= 2 * 10^5\n",
    "    edges[i].length == 2\n",
    "    0 <= ai, bi < n\n",
    "    ai != bi\n",
    "    There are no repeated edges."
   ]
  },
  {
   "cell_type": "code",
   "execution_count": 35,
   "id": "ed12be08-ea1d-406e-8bd3-b2e7d6c90a78",
   "metadata": {},
   "outputs": [],
   "source": [
    "\n",
    "## This is faster compare to below solution. Time taken = 1559 ms\n",
    "def countPairs1(n, edges):\n",
    "        uf = UnionFind(n)\n",
    "        count = n\n",
    "        for e in edges:\n",
    "            count -= uf.union(e[0], e[1])\n",
    "        if count == 0:\n",
    "            return 0\n",
    "        ans = 0\n",
    "        remaining = n\n",
    "        for i in range(n):\n",
    "            if uf.root[i] == i:\n",
    "                remaining = remaining - uf.rank[i]\n",
    "                ans += uf.rank[i] * remaining\n",
    "            if remaining == 0:\n",
    "                break\n",
    "        return ans\n",
    "class UnionFind:\n",
    "    def __init__(self, size):\n",
    "        self.root = [i for i in range(size)]\n",
    "        self.rank = [1]*size\n",
    "    def find(self, x):\n",
    "        if x == self.root[x]:\n",
    "            return x\n",
    "        self.root[x] = self.find(self.root[x])\n",
    "        return self.root[x]\n",
    "    def union(self, x, y):\n",
    "        rootx = self.find(x)\n",
    "        rooty = self.find(y)\n",
    "        if rootx != rooty:\n",
    "            if self.rank[rootx] > self.rank[rooty]:\n",
    "                self.root[rooty] = rootx\n",
    "                self.rank[rootx] += self.rank[rooty]\n",
    "            else:\n",
    "                self.root[rootx] = rooty\n",
    "                self.rank[rooty] += self.rank[rootx]\n",
    "            return 1\n",
    "        return 0\n"
   ]
  },
  {
   "cell_type": "code",
   "execution_count": 36,
   "id": "8ec28e36-2c3b-4f18-833e-16c4ddbe0547",
   "metadata": {},
   "outputs": [
    {
     "data": {
      "text/plain": [
       "14"
      ]
     },
     "execution_count": 36,
     "metadata": {},
     "output_type": "execute_result"
    }
   ],
   "source": [
    "n = 7\n",
    "edges = [[0,2],[0,5],[2,4],[1,6],[5,4]]\n",
    "countPairs1(n, edges)"
   ]
  },
  {
   "cell_type": "code",
   "execution_count": 37,
   "id": "541dd71b-3273-497b-aaf6-1666c3a0fbf4",
   "metadata": {},
   "outputs": [
    {
     "data": {
      "text/plain": [
       "0"
      ]
     },
     "execution_count": 37,
     "metadata": {},
     "output_type": "execute_result"
    }
   ],
   "source": [
    "n = 11\n",
    "edges = [[5,0],[1,0],[10,7],[9,8],[7,2],[1,3],[0,2],[8,5],[4,6],[4,2]]\n",
    "countPairs1(n, edges)"
   ]
  },
  {
   "cell_type": "code",
   "execution_count": 28,
   "id": "5c3acb40-42dd-42ae-bd02-6b9090e18a4b",
   "metadata": {},
   "outputs": [],
   "source": [
    "## This is slower compare to above solution. It took 1643 ms.\n",
    "def countPairs(n, edges):\n",
    "        uf = UnionFind(n)\n",
    "        for e in edges:\n",
    "            uf.union(e[0], e[1])\n",
    "        freq = {}\n",
    "        for i in range(n):\n",
    "            rooti = uf.find(i)\n",
    "            freq[rooti] = freq.get(rooti, 0) + 1\n",
    "        ans = 0\n",
    "        remaiingNodes = n\n",
    "        for v in freq.values():\n",
    "            ans += v*(remaiingNodes - v)\n",
    "            remaiingNodes -= v\n",
    "\n",
    "        return ans\n",
    "\n",
    "class UnionFind:\n",
    "    def __init__(self, size):\n",
    "        self.root = [i for i in range(size)]\n",
    "        self.rank = [1]*size\n",
    "    def find(self, x):\n",
    "        if x == self.root[x]:\n",
    "            return x\n",
    "        self.root[x] = self.find(self.root[x])\n",
    "        return self.root[x]\n",
    "    def union(self, x, y):\n",
    "        rootx = self.find(x)\n",
    "        rooty = self.find(y)\n",
    "        if rootx != rooty:\n",
    "            if self.rank[rootx] > self.rank[rooty]:\n",
    "                self.root[rooty] = rootx\n",
    "            elif self.rank[rootx] < self.rank[rooty]:\n",
    "                self.root[rootx] = rooty\n",
    "            else:\n",
    "                self.root[rooty] = rootx\n",
    "                self.rank[rootx] += 1\n",
    "    def getRoot(self):\n",
    "        return self.root\n",
    "        "
   ]
  },
  {
   "cell_type": "code",
   "execution_count": 29,
   "id": "990a55ae-295b-4856-8508-4a4f2a32a4de",
   "metadata": {},
   "outputs": [
    {
     "data": {
      "text/plain": [
       "14"
      ]
     },
     "execution_count": 29,
     "metadata": {},
     "output_type": "execute_result"
    }
   ],
   "source": [
    "n = 7\n",
    "edges = [[0,2],[0,5],[2,4],[1,6],[5,4]]\n",
    "countPairs(n, edges)"
   ]
  },
  {
   "cell_type": "code",
   "execution_count": 30,
   "id": "16c9f515-eb9e-44bb-b2eb-9b25bcb9a3e8",
   "metadata": {},
   "outputs": [
    {
     "data": {
      "text/plain": [
       "0"
      ]
     },
     "execution_count": 30,
     "metadata": {},
     "output_type": "execute_result"
    }
   ],
   "source": [
    "n = 5\n",
    "edges = [[1,0],[3,1],[0,4],[2,1]]\n",
    "countPairs(n, edges)"
   ]
  },
  {
   "cell_type": "code",
   "execution_count": 31,
   "id": "42acf6c4-e940-4177-a1a0-328f30a05239",
   "metadata": {},
   "outputs": [
    {
     "data": {
      "text/plain": [
       "0"
      ]
     },
     "execution_count": 31,
     "metadata": {},
     "output_type": "execute_result"
    }
   ],
   "source": [
    "n = 11\n",
    "edges = [[5,0],[1,0],[10,7],[9,8],[7,2],[1,3],[0,2],[8,5],[4,6],[4,2]]\n",
    "countPairs(n, edges)"
   ]
  },
  {
   "cell_type": "code",
   "execution_count": null,
   "id": "07845206-a648-4351-8ac2-127ef2a61e5e",
   "metadata": {},
   "outputs": [],
   "source": []
  }
 ],
 "metadata": {
  "kernelspec": {
   "display_name": "Python 3 (ipykernel)",
   "language": "python",
   "name": "python3"
  },
  "language_info": {
   "codemirror_mode": {
    "name": "ipython",
    "version": 3
   },
   "file_extension": ".py",
   "mimetype": "text/x-python",
   "name": "python",
   "nbconvert_exporter": "python",
   "pygments_lexer": "ipython3",
   "version": "3.8.18"
  }
 },
 "nbformat": 4,
 "nbformat_minor": 5
}

{
 "cells": [
  {
   "cell_type": "markdown",
   "id": "16e67176-6f6c-4f3e-9866-fcd12cc2bdda",
   "metadata": {},
   "source": [
    "## Problem : Median of Two Sorted Arrays\n",
    "\n",
    "LeetCode : 4\n",
    "\n",
    "https://leetcode.com/problems/median-of-two-sorted-arrays/description\n",
    "\n",
    "Given two sorted arrays nums1 and nums2 of size m and n respectively, return the median of the two sorted arrays.\n",
    "\n",
    "The overall run time complexity should be O(log (m+n)).\n",
    "\n",
    " \n",
    "\n",
    "Example 1:\n",
    "\n",
    "    Input: nums1 = [1,3], nums2 = [2]\n",
    "    Output: 2.00000\n",
    "    Explanation: merged array = [1,2,3] and median is 2.\n",
    "Example 2:\n",
    "\n",
    "    Input: nums1 = [1,2], nums2 = [3,4]\n",
    "    Output: 2.50000\n",
    "    Explanation: merged array = [1,2,3,4] and median is (2 + 3) / 2 = 2.5.\n",
    " \n",
    "\n",
    "Constraints:\n",
    "\n",
    "    nums1.length == m\n",
    "    nums2.length == n\n",
    "    0 <= m <= 1000\n",
    "    0 <= n <= 1000\n",
    "    1 <= m + n <= 2000\n",
    "    -106 <= nums1[i], nums2[i] <= 106"
   ]
  },
  {
   "cell_type": "markdown",
   "id": "085a8c86-620a-4a1e-b9b5-73121863cef6",
   "metadata": {},
   "source": [
    "### Approach : \n",
    "Both are in sorted arrays. To have sorted list, we will use merge sort. However, as we need to find mid number, so will stop merging once we will reach to mid. In below solution k is the mid position. \n",
    "If total digits are even, then we need to find the next number post kth position."
   ]
  },
  {
   "cell_type": "code",
   "execution_count": 8,
   "id": "f75d6b51-2a07-4b90-a80c-7e2271c24db0",
   "metadata": {},
   "outputs": [],
   "source": [
    "def findMedianSortedArrays(nums1, nums2):\n",
    "        n = len(nums1)\n",
    "        m = len(nums2)\n",
    "        \n",
    "        i, j, mid, prevmid = 0,0,0,0\n",
    "        k = (n+m+1)//2\n",
    "        while i< n and j < m and k > 0:\n",
    "            if nums1[i] < nums2[j]:\n",
    "                mid = nums1[i]\n",
    "                i+=1\n",
    "            else:\n",
    "                mid = nums2[j]\n",
    "                j+=1\n",
    "            k -= 1\n",
    "        \n",
    "        while i < n and k > 0:\n",
    "            mid = nums1[i]\n",
    "            i += 1\n",
    "            k -=1\n",
    "        while j < m and k > 0:\n",
    "            mid = nums2[j]\n",
    "            j+= 1\n",
    "            k -=1\n",
    "        if (m+n)%2 != 0:\n",
    "            print(\"mid = \", mid)\n",
    "            return mid\n",
    "        else:\n",
    "            prevmid = mid\n",
    "            if i < n and j < m:\n",
    "                mid = min(nums1[i], nums2[j])\n",
    "            else:\n",
    "                if i < n:\n",
    "                    mid = nums1[i]\n",
    "                else:\n",
    "                    mid = nums2[j]\n",
    "                print(\"prevmid = \", prevmid)\n",
    "            return (prevmid + mid)/2"
   ]
  },
  {
   "cell_type": "code",
   "execution_count": 9,
   "id": "989fb9b1-2166-4cd5-a816-549ba324555a",
   "metadata": {},
   "outputs": [
    {
     "name": "stdout",
     "output_type": "stream",
     "text": [
      "mid =  2\n"
     ]
    },
    {
     "data": {
      "text/plain": [
       "2"
      ]
     },
     "execution_count": 9,
     "metadata": {},
     "output_type": "execute_result"
    }
   ],
   "source": [
    "nums1 = [1,3]\n",
    "nums2 = [2]\n",
    "findMedianSortedArrays(nums1, nums2)"
   ]
  },
  {
   "cell_type": "code",
   "execution_count": 10,
   "id": "d4ec6ea9-b88f-4fbc-a106-0872436e166d",
   "metadata": {},
   "outputs": [
    {
     "name": "stdout",
     "output_type": "stream",
     "text": [
      "prevmid =  2\n"
     ]
    },
    {
     "data": {
      "text/plain": [
       "2.5"
      ]
     },
     "execution_count": 10,
     "metadata": {},
     "output_type": "execute_result"
    }
   ],
   "source": [
    "nums1 = [1,2]\n",
    "nums2 = [3,4]\n",
    "findMedianSortedArrays(nums1, nums2)"
   ]
  },
  {
   "cell_type": "code",
   "execution_count": null,
   "id": "792e5d02-c4ae-44d6-a033-782c10de2c72",
   "metadata": {},
   "outputs": [],
   "source": []
  }
 ],
 "metadata": {
  "kernelspec": {
   "display_name": "Python 3 (ipykernel)",
   "language": "python",
   "name": "python3"
  },
  "language_info": {
   "codemirror_mode": {
    "name": "ipython",
    "version": 3
   },
   "file_extension": ".py",
   "mimetype": "text/x-python",
   "name": "python",
   "nbconvert_exporter": "python",
   "pygments_lexer": "ipython3",
   "version": "3.8.18"
  }
 },
 "nbformat": 4,
 "nbformat_minor": 5
}

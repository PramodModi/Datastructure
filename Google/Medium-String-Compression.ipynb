{
 "cells": [
  {
   "cell_type": "markdown",
   "id": "541c2a0c-499d-4c98-9029-1926ee662494",
   "metadata": {},
   "source": [
    "## Problem:String Compression\n",
    "LeetCode: 443\n",
    "\n",
    "https://leetcode.com/problems/string-compression/description\n",
    "\n",
    "Given an array of characters chars, compress it using the following algorithm:\n",
    "\n",
    "Begin with an empty string s. For each group of consecutive repeating characters in chars:\n",
    "\n",
    "If the group's length is 1, append the character to s.\n",
    "Otherwise, append the character followed by the group's length.\n",
    "The compressed string s should not be returned separately, but instead, be stored in the input character array chars. Note that group lengths that are 10 or longer will be split into multiple characters in chars.\n",
    "\n",
    "After you are done modifying the input array, return the new length of the array.\n",
    "\n",
    "You must write an algorithm that uses only constant extra space.\n",
    "\n",
    " \n",
    "\n",
    "Example 1:\n",
    "\n",
    "    Input: chars = [\"a\",\"a\",\"b\",\"b\",\"c\",\"c\",\"c\"]\n",
    "    Output: Return 6, and the first 6 characters of the input array should be: [\"a\",\"2\",\"b\",\"2\",\"c\",\"3\"]\n",
    "    Explanation: The groups are \"aa\", \"bb\", and \"ccc\". This compresses to \"a2b2c3\".\n",
    "Example 2:\n",
    "\n",
    "    Input: chars = [\"a\"]\n",
    "    Output: Return 1, and the first character of the input array should be: [\"a\"]\n",
    "    Explanation: The only group is \"a\", which remains uncompressed since it's a single character.\n",
    "Example 3:\n",
    "\n",
    "    Input: chars = [\"a\",\"b\",\"b\",\"b\",\"b\",\"b\",\"b\",\"b\",\"b\",\"b\",\"b\",\"b\",\"b\"]\n",
    "    Output: Return 4, and the first 4 characters of the input array should be: [\"a\",\"b\",\"1\",\"2\"].\n",
    "    Explanation: The groups are \"a\" and \"bbbbbbbbbbbb\". This compresses to \"ab12\".\n",
    " \n",
    "\n",
    "Constraints:\n",
    "\n",
    "    1 <= chars.length <= 2000\n",
    "    chars[i] is a lowercase English letter, uppercase English letter, digit, or symbol."
   ]
  },
  {
   "cell_type": "code",
   "execution_count": 2,
   "id": "36a5c1fb-a074-42fb-a985-a8db81780bf9",
   "metadata": {},
   "outputs": [],
   "source": [
    "def compress(chars):\n",
    "    count = 1\n",
    "    index = 0\n",
    "    i = 1\n",
    "    while i < len(chars):\n",
    "        if chars[i-1] == chars[i]:\n",
    "            count += 1\n",
    "        else:\n",
    "            chars[index] = chars[i-1]\n",
    "            index += 1\n",
    "            if count > 1:\n",
    "                str_count = str(count)\n",
    "                chars[index : index + len(str_count)] = list(str_count)\n",
    "                index += len(str_count)\n",
    "            count = 1\n",
    "        i += 1\n",
    "    chars[index] = chars[-1]\n",
    "    index += 1\n",
    "    if count > 1:\n",
    "        str_count = str(count)\n",
    "        chars[index : len(str_count)] = list(str_count)\n",
    "        index += len(str_count)\n",
    "    \n",
    "    return index"
   ]
  },
  {
   "cell_type": "code",
   "execution_count": 6,
   "id": "d992c002-bee4-4c64-b58e-9b17650a8377",
   "metadata": {},
   "outputs": [
    {
     "name": "stdout",
     "output_type": "stream",
     "text": [
      "4\n",
      "['a', 'b', '1', '2', 'b', 'b', 'b', 'b', 'b', 'b', 'b', 'b', 'b', 'b', 'b']\n"
     ]
    }
   ],
   "source": [
    "chars = [\"a\",\"b\",\"b\",\"b\",\"b\",\"b\",\"b\",\"b\",\"b\",\"b\",\"b\",\"b\",\"b\"]\n",
    "count = compress(chars)\n",
    "print(count)\n",
    "print(chars)"
   ]
  },
  {
   "cell_type": "code",
   "execution_count": null,
   "id": "0d8a8fbb-6af8-4b9c-b1c1-13c47f1fe45e",
   "metadata": {},
   "outputs": [],
   "source": []
  }
 ],
 "metadata": {
  "kernelspec": {
   "display_name": "Python 3 (ipykernel)",
   "language": "python",
   "name": "python3"
  },
  "language_info": {
   "codemirror_mode": {
    "name": "ipython",
    "version": 3
   },
   "file_extension": ".py",
   "mimetype": "text/x-python",
   "name": "python",
   "nbconvert_exporter": "python",
   "pygments_lexer": "ipython3",
   "version": "3.12.7"
  }
 },
 "nbformat": 4,
 "nbformat_minor": 5
}

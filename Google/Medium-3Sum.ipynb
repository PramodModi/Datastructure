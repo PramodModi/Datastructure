{
 "cells": [
  {
   "cell_type": "markdown",
   "id": "c7ae64ac-01dc-4d7c-8ce9-a1643f1a3ac4",
   "metadata": {},
   "source": [
    "## Problem : 3Sum\n",
    "LeetCode: 15\n",
    "\n",
    "https://leetcode.com/problems/3sum/description/\n",
    "\n",
    "Given an integer array nums, return all the triplets [nums[i], nums[j], nums[k]] such that i != j, i != k, and j != k, and nums[i] + nums[j] + nums[k] == 0.\n",
    "\n",
    "Notice that the solution set must not contain duplicate triplets.\n",
    "\n",
    " \n",
    "\n",
    "Example 1:\n",
    "\n",
    "    Input: nums = [-1,0,1,2,-1,-4]\n",
    "    Output: [[-1,-1,2],[-1,0,1]]\n",
    "    Explanation: \n",
    "    nums[0] + nums[1] + nums[2] = (-1) + 0 + 1 = 0.\n",
    "    nums[1] + nums[2] + nums[4] = 0 + 1 + (-1) = 0.\n",
    "    nums[0] + nums[3] + nums[4] = (-1) + 2 + (-1) = 0.\n",
    "    The distinct triplets are [-1,0,1] and [-1,-1,2].\n",
    "    Notice that the order of the output and the order of the triplets does not matter.\n",
    "Example 2:\n",
    "\n",
    "    Input: nums = [0,1,1]\n",
    "    Output: []\n",
    "    Explanation: The only possible triplet does not sum up to 0.\n",
    "Example 3:\n",
    "\n",
    "    Input: nums = [0,0,0]\n",
    "    Output: [[0,0,0]]\n",
    "    Explanation: The only possible triplet sums up to 0.\n",
    " \n",
    "\n",
    "Constraints:\n",
    "\n",
    "    3 <= nums.length <= 3000\n",
    "    -105 <= nums[i] <= 105"
   ]
  },
  {
   "cell_type": "code",
   "execution_count": 11,
   "id": "2f6a96c1-6a9b-479c-b0f7-141671a47753",
   "metadata": {},
   "outputs": [],
   "source": [
    "def threeSum(nums):\n",
    "    nums.sort()\n",
    "    output = set()\n",
    "    for i in range(len(nums) - 2):\n",
    "        l = i+1\n",
    "        r = len(nums)-1\n",
    "        while l < r:\n",
    "            sum = nums[i] + nums[l] + nums[r]\n",
    "            if sum > 0:\n",
    "                r -=1\n",
    "            elif sum < 0:\n",
    "                l += 1\n",
    "            else:\n",
    "                output.add((nums[i], nums[l], nums[r]))\n",
    "                l += 1\n",
    "                r -= 1\n",
    "    return output"
   ]
  },
  {
   "cell_type": "code",
   "execution_count": 13,
   "id": "bb285c22-6e2b-4919-875a-fbb2bbedc38b",
   "metadata": {},
   "outputs": [
    {
     "data": {
      "text/plain": [
       "{(-1, -1, 2), (-1, 0, 1)}"
      ]
     },
     "execution_count": 13,
     "metadata": {},
     "output_type": "execute_result"
    }
   ],
   "source": [
    "nums = [-1,0,1,2,-1,-4]\n",
    "threeSum(nums)"
   ]
  },
  {
   "cell_type": "code",
   "execution_count": null,
   "id": "813c3268-97cf-465a-b1a4-ff161d693c35",
   "metadata": {},
   "outputs": [],
   "source": []
  }
 ],
 "metadata": {
  "kernelspec": {
   "display_name": "Python 3 (ipykernel)",
   "language": "python",
   "name": "python3"
  },
  "language_info": {
   "codemirror_mode": {
    "name": "ipython",
    "version": 3
   },
   "file_extension": ".py",
   "mimetype": "text/x-python",
   "name": "python",
   "nbconvert_exporter": "python",
   "pygments_lexer": "ipython3",
   "version": "3.12.7"
  }
 },
 "nbformat": 4,
 "nbformat_minor": 5
}

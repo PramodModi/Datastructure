{
 "cells": [
  {
   "cell_type": "markdown",
   "id": "21aa6fe9-e2fa-473d-b50a-e7bc0b7be276",
   "metadata": {},
   "source": [
    "## Problem : Candy\n",
    "LetCode : 135\n",
    "\n",
    "https://leetcode.com/problems/candy/description/\n",
    "\n",
    "There are n children standing in a line. Each child is assigned a rating value given in the integer array ratings.\n",
    "\n",
    "You are giving candies to these children subjected to the following requirements:\n",
    "\n",
    "Each child must have at least one candy.\n",
    "Children with a higher rating get more candies than their neighbors.\n",
    "Return the minimum number of candies you need to have to distribute the candies to the children.\n",
    "\n",
    " \n",
    "\n",
    "Example 1:\n",
    "\n",
    "    Input: ratings = [1,0,2]\n",
    "    Output: 5\n",
    "    Explanation: You can allocate to the first, second and third child with 2, 1, 2 candies respectively.\n",
    "Example 2:\n",
    "\n",
    "    Input: ratings = [1,2,2]\n",
    "    Output: 4\n",
    "    Explanation: You can allocate to the first, second and third child with 1, 2, 1 candies respectively.\n",
    "    The third child gets 1 candy because it satisfies the above two conditions.\n",
    " \n",
    "\n",
    "Constraints:\n",
    "\n",
    "    n == ratings.length\n",
    "    1 <= n <= 2 * 104\n",
    "    0 <= ratings[i] <= 2 * 104"
   ]
  },
  {
   "cell_type": "code",
   "execution_count": 4,
   "id": "a7011728-9efb-4682-956d-652afd0a1722",
   "metadata": {},
   "outputs": [],
   "source": [
    "def candy(ratings):\n",
    "    n = len(ratings)\n",
    "    assignedCandy = [1] * n\n",
    "    for i in range(1, n):\n",
    "        if ratings[i] > ratings[i-1]:\n",
    "            assignedCandy[i] = 1+assignedCandy[i-1]\n",
    "    \n",
    "    for i in range(n-2, -1, -1):\n",
    "        if ratings[i] > ratings[i+1]:\n",
    "            assignedCandy[i] = max(assignedCandy[i], 1 + assignedCandy[i+1])\n",
    "    return sum(assignedCandy)"
   ]
  },
  {
   "cell_type": "code",
   "execution_count": 6,
   "id": "d3fdda87-5c78-4a84-8f2c-0cec9d9ba184",
   "metadata": {},
   "outputs": [
    {
     "data": {
      "text/plain": [
       "5"
      ]
     },
     "execution_count": 6,
     "metadata": {},
     "output_type": "execute_result"
    }
   ],
   "source": [
    "ratings = [1,0,2]\n",
    "candy(ratings)"
   ]
  },
  {
   "cell_type": "code",
   "execution_count": 8,
   "id": "f7f771a2-7ede-46bb-9cc6-8826b2994f4d",
   "metadata": {},
   "outputs": [
    {
     "data": {
      "text/plain": [
       "4"
      ]
     },
     "execution_count": 8,
     "metadata": {},
     "output_type": "execute_result"
    }
   ],
   "source": [
    "ratings = [1,2,2]\n",
    "candy(ratings)"
   ]
  },
  {
   "cell_type": "code",
   "execution_count": null,
   "id": "c5f925ee-aa6c-4a62-b63a-49e3dba180f2",
   "metadata": {},
   "outputs": [],
   "source": []
  }
 ],
 "metadata": {
  "kernelspec": {
   "display_name": "Python 3 (ipykernel)",
   "language": "python",
   "name": "python3"
  },
  "language_info": {
   "codemirror_mode": {
    "name": "ipython",
    "version": 3
   },
   "file_extension": ".py",
   "mimetype": "text/x-python",
   "name": "python",
   "nbconvert_exporter": "python",
   "pygments_lexer": "ipython3",
   "version": "3.12.7"
  }
 },
 "nbformat": 4,
 "nbformat_minor": 5
}

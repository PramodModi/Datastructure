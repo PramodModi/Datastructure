{
 "cells": [
  {
   "cell_type": "markdown",
   "id": "10b62741-a08e-4be0-a1d8-622e347b4f10",
   "metadata": {},
   "source": [
    "## Problem: maximum-length-of-semi-decreasing-subarrays\n",
    "LeetCode: 2863\n",
    "\n",
    "https://leetcode.com/problems/maximum-length-of-semi-decreasing-subarrays/description/\n",
    "\n",
    "You are given an integer array nums.\n",
    "\n",
    "Return the length of the longest semi-decreasing subarray of nums, and 0 if there are no such subarrays.\n",
    "\n",
    "A subarray is a contiguous non-empty sequence of elements within an array.\n",
    "A non-empty array is semi-decreasing if its first element is strictly greater than its last element.\n",
    " \n",
    "\n",
    "Example 1:\n",
    "\n",
    "    Input: nums = [7,6,5,4,3,2,1,6,10,11]\n",
    "    Output: 8\n",
    "    Explanation: Take the subarray [7,6,5,4,3,2,1,6].\n",
    "    The first element is 7 and the last one is 6 so the condition is met.\n",
    "    Hence, the answer would be the length of the subarray or 8.\n",
    "    It can be shown that there aren't any subarrays with the given condition with a length greater than 8.\n",
    "Example 2:\n",
    "\n",
    "    Input: nums = [57,55,50,60,61,58,63,59,64,60,63]\n",
    "    Output: 6\n",
    "    Explanation: Take the subarray [61,58,63,59,64,60].\n",
    "    The first element is 61 and the last one is 60 so the condition is met.\n",
    "    Hence, the answer would be the length of the subarray or 6.\n",
    "    It can be shown that there aren't any subarrays with the given condition with a length greater than 6.\n",
    "Example 3:\n",
    "\n",
    "    Input: nums = [1,2,3,4]\n",
    "    Output: 0\n",
    "    Explanation: Since there are no semi-decreasing subarrays in the given array, the answer is 0.\n",
    " \n",
    "\n",
    "Constraints:\n",
    "\n",
    "1 <= nums.length <= 105\n",
    "-109 <= nums[i] <= 109"
   ]
  },
  {
   "cell_type": "markdown",
   "id": "280c456d-ef9c-4c31-96d0-057e2219aed9",
   "metadata": {},
   "source": [
    "## Approach: \n",
    "\n",
    "If we select nums[i] and nums[j] as the end points of a subarray, with i < j && nums[i] > nums[j], to keep length = j - i + 1 as large as possible there should be no j' > j such that nums[j'] <= nums[j] (otherwise (i, j') is better than (i, j)) and there should be no i' < i such that nums[i'] > nums[i].\n",
    "\n",
    "So we can keep all the feasible j values in an array (or a stack).\n",
    "The nums[j] in the stack from top to bottom should be strictly increasing.\n",
    "Then we can try all the feasible i's (that keeps nums[i] strictly increasing too). For each feasible i value, find the j in the stack. It's a version of 2-pointers.\n",
    "\n"
   ]
  },
  {
   "cell_type": "code",
   "execution_count": 11,
   "id": "4fc4a259-0c2b-4342-b956-7fcc9b8da86b",
   "metadata": {},
   "outputs": [],
   "source": [
    "def maxSubarrayLength(nums):\n",
    "    stack = []\n",
    "    for i, x in enumerate(nums): \n",
    "        if not stack or stack[-1][1] < x: \n",
    "            stack.append((i, x))\n",
    "    ans = 0 \n",
    "    for i in range(len(nums)-1, -1, -1): \n",
    "        while stack and stack[-1][1] > nums[i]:\n",
    "            j, _ = stack.pop()\n",
    "            ans = max(ans, i-j+1)\n",
    "    return ans "
   ]
  },
  {
   "cell_type": "code",
   "execution_count": 12,
   "id": "6a4ca1d6-1f42-4a89-9d2c-e3c6a0539bef",
   "metadata": {},
   "outputs": [
    {
     "data": {
      "text/plain": [
       "6"
      ]
     },
     "execution_count": 12,
     "metadata": {},
     "output_type": "execute_result"
    }
   ],
   "source": [
    "nums = [57,55,50,60,61,58,63,59,64,60,63]\n",
    "maxSubarrayLength(nums)"
   ]
  },
  {
   "cell_type": "code",
   "execution_count": null,
   "id": "6779148b-43d8-4ea5-9bff-2aad33297d21",
   "metadata": {},
   "outputs": [],
   "source": []
  }
 ],
 "metadata": {
  "kernelspec": {
   "display_name": "Python 3 (ipykernel)",
   "language": "python",
   "name": "python3"
  },
  "language_info": {
   "codemirror_mode": {
    "name": "ipython",
    "version": 3
   },
   "file_extension": ".py",
   "mimetype": "text/x-python",
   "name": "python",
   "nbconvert_exporter": "python",
   "pygments_lexer": "ipython3",
   "version": "3.8.18"
  }
 },
 "nbformat": 4,
 "nbformat_minor": 5
}

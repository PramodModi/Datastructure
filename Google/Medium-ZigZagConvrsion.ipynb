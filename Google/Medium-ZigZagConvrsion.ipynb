{
 "cells": [
  {
   "cell_type": "markdown",
   "id": "865a354b-a51e-466a-890b-6316be3c2a4f",
   "metadata": {},
   "source": [
    "## Problem:Zigzag Conversion\n",
    "LeetCode : 6\n",
    "\n",
    "https://leetcode.com/problems/zigzag-conversion/description/\n",
    "\n",
    "The string \"PAYPALISHIRING\" is written in a zigzag pattern on a given number of rows like this: (you may want to display this pattern in a fixed font for better legibility)\n",
    "\n",
    "    P   A   H   N\n",
    "    A P L S I I G\n",
    "    Y   I   R\n",
    "And then read line by line: \"PAHNAPLSIIGYIR\"\n",
    "\n",
    "Write the code that will take a string and make this conversion given a number of rows:\n",
    "\n",
    "string convert(string s, int numRows);\n",
    " \n",
    "\n",
    "Example 1:\n",
    "\n",
    "    Input: s = \"PAYPALISHIRING\", numRows = 3\n",
    "    Output: \"PAHNAPLSIIGYIR\"\n",
    "Example 2:\n",
    "\n",
    "    Input: s = \"PAYPALISHIRING\", numRows = 4\n",
    "    Output: \"PINALSIGYAHRPI\"\n",
    "    Explanation:\n",
    "    P     I    N\n",
    "    A   L S  I G\n",
    "    Y A   H R\n",
    "    P     I\n",
    "Example 3:\n",
    "\n",
    "    Input: s = \"A\", numRows = 1\n",
    "    Output: \"A\"\n",
    " \n",
    "\n",
    "Constraints:\n",
    "\n",
    "    1 <= s.length <= 1000\n",
    "    s consists of English letters (lower-case and upper-case), ',' and '.'.\n",
    "    1 <= numRows <= 1000\n"
   ]
  },
  {
   "cell_type": "code",
   "execution_count": 2,
   "id": "20e674c0-5fa2-4f63-adfc-efad8ea12b41",
   "metadata": {},
   "outputs": [],
   "source": [
    "def convert(s, numRows):\n",
    "        \n",
    "    result = [\"\"] * len(s)\n",
    "    index = 0\n",
    "    step = 1\n",
    "    for x in s:\n",
    "        result[index] += x\n",
    "        if index == 0:\n",
    "            step = 1\n",
    "        elif index == numRows-1:\n",
    "            step = -1\n",
    "        index += step\n",
    "    return \"\".join(result)"
   ]
  },
  {
   "cell_type": "code",
   "execution_count": 4,
   "id": "66e02ad6-0c6f-4ee0-9380-3f3a8acf15de",
   "metadata": {},
   "outputs": [
    {
     "data": {
      "text/plain": [
       "'PAHNAPLSIIGYIR'"
      ]
     },
     "execution_count": 4,
     "metadata": {},
     "output_type": "execute_result"
    }
   ],
   "source": [
    "s = \"PAYPALISHIRING\"\n",
    "numRows = 3\n",
    "convert(s, numRows)"
   ]
  },
  {
   "cell_type": "code",
   "execution_count": 6,
   "id": "daeb9dc1-e318-4019-9bd2-507e6fa83c29",
   "metadata": {},
   "outputs": [
    {
     "data": {
      "text/plain": [
       "'PINALSIGYAHRPI'"
      ]
     },
     "execution_count": 6,
     "metadata": {},
     "output_type": "execute_result"
    }
   ],
   "source": [
    "s = \"PAYPALISHIRING\"\n",
    "numRows = 4\n",
    "convert(s, numRows)"
   ]
  },
  {
   "cell_type": "code",
   "execution_count": null,
   "id": "cdbfef4e-16db-4b0c-99d5-e77e8dbbf5a3",
   "metadata": {},
   "outputs": [],
   "source": []
  }
 ],
 "metadata": {
  "kernelspec": {
   "display_name": "Python 3 (ipykernel)",
   "language": "python",
   "name": "python3"
  },
  "language_info": {
   "codemirror_mode": {
    "name": "ipython",
    "version": 3
   },
   "file_extension": ".py",
   "mimetype": "text/x-python",
   "name": "python",
   "nbconvert_exporter": "python",
   "pygments_lexer": "ipython3",
   "version": "3.12.7"
  }
 },
 "nbformat": 4,
 "nbformat_minor": 5
}

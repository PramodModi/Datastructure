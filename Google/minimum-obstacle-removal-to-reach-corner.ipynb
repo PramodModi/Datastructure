{
 "cells": [
  {
   "attachments": {
    "c4f56010-d64e-4393-8a50-484a766781b3.png": {
     "image/png": "[encoded data removed]"
    }
   },
   "cell_type": "markdown",
   "id": "acc0de00-4c5c-413e-ad46-185c180a8567",
   "metadata": {},
   "source": [
    "## Problem: Minimum obstacle removal to reach corner\n",
    "LeetCode: 2290\n",
    "https://leetcode.com/problems/minimum-obstacle-removal-to-reach-corner/description/\n",
    "\n",
    "You are given a 0-indexed 2D integer array grid of size m x n. Each cell has one of two values:\n",
    "\n",
    "0 represents an empty cell,\n",
    "1 represents an obstacle that may be removed.\n",
    "You can move up, down, left, or right from and to an empty cell.\n",
    "\n",
    "Return the minimum number of obstacles to remove so you can move from the upper left corner (0, 0) to the lower right corner (m - 1, n - 1).\n",
    "\n",
    " \n",
    "\n",
    "Example 1:\n",
    "\n",
    "![image.png](attachment:c4f56010-d64e-4393-8a50-484a766781b3.png)\n",
    "\n",
    "    Input: grid = [[0,1,1],[1,1,0],[1,1,0]]\n",
    "    Output: 2\n",
    "    Explanation: We can remove the obstacles at (0, 1) and (0, 2) to create a path from (0, 0) to (2, 2).\n",
    "    It can be shown that we need to remove at least 2 obstacles, so we return 2.\n",
    "    Note that there may be other ways to remove 2 obstacles to create a path.\n",
    "Example 2:\n",
    "\n",
    "\n",
    "    Input: grid = [[0,1,0,0,0],[0,1,0,1,0],[0,0,0,1,0]]\n",
    "    Output: 0\n",
    "    Explanation: We can move from (0, 0) to (2, 4) without removing any obstacles, so we return 0.\n",
    " \n",
    "\n",
    "Constraints:\n",
    "\n",
    "    m == grid.length\n",
    "    n == grid[i].length\n",
    "    1 <= m, n <= 105\n",
    "    2 <= m * n <= 105\n",
    "    grid[i][j] is either 0 or 1.\n",
    "    grid[0][0] == grid[m - 1][n - 1] == 0"
   ]
  },
  {
   "cell_type": "code",
   "execution_count": 54,
   "id": "4db5ccfa-f0c1-4f27-aee3-7ef8b1b92e22",
   "metadata": {},
   "outputs": [],
   "source": [
    "import heapq\n",
    "def minimumObstacles(grid):\n",
    "    m = len(grid)\n",
    "    n = len(grid[0])\n",
    "    minObstacle = [[float(\"inf\")] * n for _ in range(m)]\n",
    "    visited = [[False]* n for _ in range(m)]\n",
    "    minObstacle[0][0] = 0\n",
    "    minHeap = []\n",
    "    heapq.heappush(minHeap, (0,0,0))\n",
    "    while minHeap:\n",
    "        curObs, curx, cury = heapq.heappop(minHeap)\n",
    "        visited[curx][cury] = True\n",
    "        if curObs > minObstacle[curx][cury]:\n",
    "            continue\n",
    "        nebrs =  getNebrs(curx, cury, grid)\n",
    "        for r, c in nebrs:\n",
    "            nextObs = grid[r][c]\n",
    "            if nextObs + curObs < minObstacle[r][c]:\n",
    "                minObstacle[r][c] = nextObs + curObs\n",
    "                heapq.heappush(minHeap, (minObstacle[r][c], r, c))\n",
    "    return minObstacle[-1][-1]\n",
    "        \n",
    "\n",
    "def getNebrs(row, col, grid):\n",
    "    nbrs = []\n",
    "    if row > 0:\n",
    "        nbrs.append((row-1, col))\n",
    "    if row < len(grid) - 1:\n",
    "        nbrs.append((row+1, col))\n",
    "    if col > 0:\n",
    "        nbrs.append((row, col-1))\n",
    "    if col < len(grid[0]) - 1:\n",
    "        nbrs.append((row, col+1))\n",
    "    return nbrs\n",
    "        \n"
   ]
  },
  {
   "cell_type": "code",
   "execution_count": 55,
   "id": "f0a8cdf4-2886-4c4e-a625-7bbf895957b5",
   "metadata": {},
   "outputs": [
    {
     "data": {
      "text/plain": [
       "2"
      ]
     },
     "execution_count": 55,
     "metadata": {},
     "output_type": "execute_result"
    }
   ],
   "source": [
    "grid = [[0,1,1],[1,1,0],[1,1,0]]\n",
    "minimumObstacles(grid)"
   ]
  },
  {
   "cell_type": "code",
   "execution_count": 56,
   "id": "4a0f2759-9b82-457f-98ac-26d77994bc45",
   "metadata": {},
   "outputs": [
    {
     "data": {
      "text/plain": [
       "0"
      ]
     },
     "execution_count": 56,
     "metadata": {},
     "output_type": "execute_result"
    }
   ],
   "source": [
    "grid = [[0,1,0,0,0],[0,1,0,1,0],[0,0,0,1,0]]\n",
    "minimumObstacles(grid)"
   ]
  },
  {
   "cell_type": "code",
   "execution_count": null,
   "id": "ead2a92e-5269-4524-b7cc-d5e741aede61",
   "metadata": {},
   "outputs": [],
   "source": []
  }
 ],
 "metadata": {
  "kernelspec": {
   "display_name": "Python 3 (ipykernel)",
   "language": "python",
   "name": "python3"
  },
  "language_info": {
   "codemirror_mode": {
    "name": "ipython",
    "version": 3
   },
   "file_extension": ".py",
   "mimetype": "text/x-python",
   "name": "python",
   "nbconvert_exporter": "python",
   "pygments_lexer": "ipython3",
   "version": "3.8.18"
  }
 },
 "nbformat": 4,
 "nbformat_minor": 5
}

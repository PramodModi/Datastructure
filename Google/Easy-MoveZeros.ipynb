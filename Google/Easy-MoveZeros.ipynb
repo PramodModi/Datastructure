{
 "cells": [
  {
   "cell_type": "markdown",
   "id": "154cb120-c392-4ca0-8795-040561bca66f",
   "metadata": {},
   "source": [
    "## Problem : Move Zeroes\n",
    "LeetCode : 283\n",
    "\n",
    "https://leetcode.com/problems/move-zeroes/description/\n",
    "\n",
    "Given an integer array nums, move all 0's to the end of it while maintaining the relative order of the non-zero elements.\n",
    "\n",
    "Note that you must do this in-place without making a copy of the array.\n",
    "\n",
    " \n",
    "\n",
    "Example 1:\n",
    "\n",
    "    Input: nums = [0,1,0,3,12]\n",
    "    Output: [1,3,12,0,0]\n",
    "Example 2:\n",
    "\n",
    "    Input: nums = [0]\n",
    "    Output: [0]\n",
    "     \n",
    "\n",
    "Constraints:\n",
    "\n",
    "    1 <= nums.length <= 104\n",
    "    -231 <= nums[i] <= 231 - 1\n",
    "     "
   ]
  },
  {
   "cell_type": "code",
   "execution_count": 9,
   "id": "78c0e50d-6a37-441c-bbb7-cd7ed1cc24b8",
   "metadata": {},
   "outputs": [],
   "source": [
    "def moveZeroes(nums):\n",
    "        \n",
    "    j = 0\n",
    "    for num in nums:\n",
    "        if num != 0:\n",
    "            nums[j] = num\n",
    "            j += 1\n",
    "    while j < len(nums):\n",
    "        nums[j] = 0\n",
    "        j += 1\n",
    "    return nums"
   ]
  },
  {
   "cell_type": "code",
   "execution_count": 11,
   "id": "1a8ac1ba-a62a-4b49-a93e-ec1142eb70db",
   "metadata": {},
   "outputs": [
    {
     "data": {
      "text/plain": [
       "[1, 3, 12, 0, 0]"
      ]
     },
     "execution_count": 11,
     "metadata": {},
     "output_type": "execute_result"
    }
   ],
   "source": [
    "nums = [0,1,0,3,12]\n",
    "moveZeroes(nums)"
   ]
  },
  {
   "cell_type": "code",
   "execution_count": null,
   "id": "7a4187ef-e06a-4864-a7cb-b1e18850d7d2",
   "metadata": {},
   "outputs": [],
   "source": []
  }
 ],
 "metadata": {
  "kernelspec": {
   "display_name": "Python 3 (ipykernel)",
   "language": "python",
   "name": "python3"
  },
  "language_info": {
   "codemirror_mode": {
    "name": "ipython",
    "version": 3
   },
   "file_extension": ".py",
   "mimetype": "text/x-python",
   "name": "python",
   "nbconvert_exporter": "python",
   "pygments_lexer": "ipython3",
   "version": "3.12.7"
  }
 },
 "nbformat": 4,
 "nbformat_minor": 5
}

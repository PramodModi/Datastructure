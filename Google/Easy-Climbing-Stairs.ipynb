{
 "cells": [
  {
   "cell_type": "markdown",
   "id": "37341404-4835-410d-819a-67398c87c8d5",
   "metadata": {},
   "source": [
    "## Problem: Climbing Stairs\n",
    "\n",
    "LeetCode: 70\n",
    "\n",
    "https://leetcode.com/problems/climbing-stairs/description/\n",
    "\n",
    "You are climbing a staircase. It takes n steps to reach the top.\n",
    "\n",
    "Each time you can either climb 1 or 2 steps. In how many distinct ways can you climb to the top?\n",
    "\n",
    "Example 1:\n",
    "\n",
    "    Input: n = 2\n",
    "    Output: 2\n",
    "    Explanation: There are two ways to climb to the top.\n",
    "    1. 1 step + 1 step\n",
    "    2. 2 steps\n",
    "Example 2:\n",
    "\n",
    "    Input: n = 3\n",
    "    Output: 3\n",
    "    Explanation: There are three ways to climb to the top.\n",
    "    1. 1 step + 1 step + 1 step\n",
    "    2. 1 step + 2 steps\n",
    "    3. 2 steps + 1 step\n",
    " \n",
    "\n",
    "Constraints:\n",
    "\n",
    "    1 <= n <= 45"
   ]
  },
  {
   "cell_type": "code",
   "execution_count": 5,
   "id": "c40fb242-47d7-4c1b-8d73-c017d62b48cf",
   "metadata": {},
   "outputs": [],
   "source": [
    "def climbStairs(n):\n",
    "    prevprev = 1\n",
    "    prev = 1\n",
    "    for i in range(2, n+1):\n",
    "        t = prev\n",
    "        prev = prev + prevprev\n",
    "        prevprev = t\n",
    "    return prev"
   ]
  },
  {
   "cell_type": "code",
   "execution_count": 7,
   "id": "e76c45c9-dfc1-4e5e-9845-3ce011457ce2",
   "metadata": {},
   "outputs": [
    {
     "data": {
      "text/plain": [
       "3"
      ]
     },
     "execution_count": 7,
     "metadata": {},
     "output_type": "execute_result"
    }
   ],
   "source": [
    "climbStairs(3)"
   ]
  },
  {
   "cell_type": "code",
   "execution_count": null,
   "id": "88b68e5f-9be3-4f61-8b3b-56fab2e13d3e",
   "metadata": {},
   "outputs": [],
   "source": []
  }
 ],
 "metadata": {
  "kernelspec": {
   "display_name": "Python 3 (ipykernel)",
   "language": "python",
   "name": "python3"
  },
  "language_info": {
   "codemirror_mode": {
    "name": "ipython",
    "version": 3
   },
   "file_extension": ".py",
   "mimetype": "text/x-python",
   "name": "python",
   "nbconvert_exporter": "python",
   "pygments_lexer": "ipython3",
   "version": "3.12.7"
  }
 },
 "nbformat": 4,
 "nbformat_minor": 5
}

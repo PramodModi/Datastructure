{
 "cells": [
  {
   "cell_type": "markdown",
   "id": "6b149899-d3a4-4024-9a1a-0b3f13a8c928",
   "metadata": {},
   "source": [
    "## Problem: Single Element in a Sorted Array\n",
    "LeetCode : 540\n",
    "\n",
    "https://leetcode.com/problems/single-element-in-a-sorted-array/description/\n",
    "\n",
    "You are given a sorted array consisting of only integers where every element appears exactly twice, except for one element which appears exactly once.\n",
    "\n",
    "Return the single element that appears only once.\n",
    "\n",
    "Your solution must run in O(log n) time and O(1) space.\n",
    "\n",
    " \n",
    "\n",
    "Example 1:\n",
    "\n",
    "    Input: nums = [1,1,2,3,3,4,4,8,8]\n",
    "    Output: 2\n",
    "Example 2:\n",
    "\n",
    "    Input: nums = [3,3,7,7,10,11,11]\n",
    "    Output: 10\n",
    " \n",
    "\n",
    "Constraints:\n",
    "\n",
    "    1 <= nums.length <= 105\n",
    "    0 <= nums[i] <= 105\n"
   ]
  },
  {
   "cell_type": "code",
   "execution_count": 18,
   "id": "2ff41c44-aff4-4efd-a1c5-1094d80ffb35",
   "metadata": {},
   "outputs": [],
   "source": [
    "## Brute force\n",
    "def singleNonDuplicate(nums):\n",
    "    for i in range(0, len(nums) - 2, 2):\n",
    "        if nums[i] != nums[i + 1]:\n",
    "            return nums[i]\n",
    "    return nums[-1]"
   ]
  },
  {
   "cell_type": "code",
   "execution_count": 20,
   "id": "4601151e-efff-4ccf-87b7-c8e3b20c1ca9",
   "metadata": {},
   "outputs": [
    {
     "data": {
      "text/plain": [
       "2"
      ]
     },
     "execution_count": 20,
     "metadata": {},
     "output_type": "execute_result"
    }
   ],
   "source": [
    "nums = [1,1,2,3,3,4,4,8,8]\n",
    "singleNonDuplicate(nums)"
   ]
  },
  {
   "cell_type": "code",
   "execution_count": 22,
   "id": "a28e3671-c7dd-41ff-950e-b6767be630eb",
   "metadata": {},
   "outputs": [],
   "source": [
    "## Binary Search\n",
    "def singleNonDuplicate1(nums):\n",
    "    lo = 0\n",
    "    hi = len(nums) - 1   \n",
    "    while lo < hi:\n",
    "        mid = lo + (hi - lo) // 2\n",
    "        halves_are_even = (hi - mid) % 2 == 0\n",
    "        if nums[mid + 1] == nums[mid]:\n",
    "            if halves_are_even:\n",
    "                lo = mid + 2\n",
    "            else:\n",
    "                hi = mid - 1\n",
    "        elif nums[mid - 1] == nums[mid]:\n",
    "            if halves_are_even:\n",
    "                hi = mid - 2\n",
    "            else:\n",
    "                lo = mid + 1\n",
    "        else:\n",
    "            return nums[mid]\n",
    "    return nums[lo]"
   ]
  },
  {
   "cell_type": "code",
   "execution_count": 24,
   "id": "71ce86f3-7f60-4e04-9f22-3722a385376d",
   "metadata": {},
   "outputs": [
    {
     "data": {
      "text/plain": [
       "2"
      ]
     },
     "execution_count": 24,
     "metadata": {},
     "output_type": "execute_result"
    }
   ],
   "source": [
    "nums = [1,1,2,3,3,4,4,8,8]\n",
    "singleNonDuplicate1(nums)"
   ]
  },
  {
   "cell_type": "code",
   "execution_count": 26,
   "id": "e74ecff2-9331-4132-8db5-ceef4f57a45c",
   "metadata": {},
   "outputs": [],
   "source": [
    "## Binary Search on Evens Indexes Only\n",
    "\n",
    "def singleNonDuplicate2(nums):\n",
    "    lo = 0\n",
    "    hi = len(nums) - 1\n",
    "    while lo < hi:\n",
    "        mid = lo + (hi - lo) // 2\n",
    "        if mid % 2 == 1:\n",
    "            mid -= 1\n",
    "        if nums[mid] == nums[mid + 1]:\n",
    "            lo = mid + 2\n",
    "        else:\n",
    "            hi = mid\n",
    "    return nums[lo]"
   ]
  },
  {
   "cell_type": "code",
   "execution_count": 28,
   "id": "6e2a5645-e77c-48fd-900e-070339f33b8c",
   "metadata": {},
   "outputs": [
    {
     "data": {
      "text/plain": [
       "2"
      ]
     },
     "execution_count": 28,
     "metadata": {},
     "output_type": "execute_result"
    }
   ],
   "source": [
    "nums = [1,1,2,3,3,4,4,8,8]\n",
    "singleNonDuplicate2(nums)"
   ]
  },
  {
   "cell_type": "code",
   "execution_count": null,
   "id": "ef380c6b-a663-460e-9dd9-f4d815e129ec",
   "metadata": {},
   "outputs": [],
   "source": []
  }
 ],
 "metadata": {
  "kernelspec": {
   "display_name": "Python 3 (ipykernel)",
   "language": "python",
   "name": "python3"
  },
  "language_info": {
   "codemirror_mode": {
    "name": "ipython",
    "version": 3
   },
   "file_extension": ".py",
   "mimetype": "text/x-python",
   "name": "python",
   "nbconvert_exporter": "python",
   "pygments_lexer": "ipython3",
   "version": "3.12.7"
  }
 },
 "nbformat": 4,
 "nbformat_minor": 5
}

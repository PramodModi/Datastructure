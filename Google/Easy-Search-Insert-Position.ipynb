{
 "cells": [
  {
   "cell_type": "markdown",
   "id": "6d21944d-5a87-4c35-9e9d-dde62377f3e7",
   "metadata": {},
   "source": [
    "## Problem: Search Insert Position\n",
    "LeetCode : 35\n",
    "\n",
    "https://leetcode.com/problems/search-insert-position/description/\n",
    "\n",
    "Given a sorted array of distinct integers and a target value, return the index if the target is found. If not, return the index where it would be if it were inserted in order.\n",
    "\n",
    "You must write an algorithm with O(log n) runtime complexity.\n",
    "\n",
    " \n",
    "\n",
    "Example 1:\n",
    "\n",
    "    Input: nums = [1,3,5,6], target = 5\n",
    "    Output: 2\n",
    "Example 2:\n",
    "\n",
    "    Input: nums = [1,3,5,6], target = 2\n",
    "    Output: 1\n",
    "Example 3:\n",
    "\n",
    "    Input: nums = [1,3,5,6], target = 7\n",
    "    Output: 4\n",
    " \n",
    "\n",
    "Constraints:\n",
    "\n",
    "    1 <= nums.length <= 104\n",
    "    -104 <= nums[i] <= 104\n",
    "    nums contains distinct values sorted in ascending order.\n",
    "    -104 <= target <= 104"
   ]
  },
  {
   "cell_type": "code",
   "execution_count": 2,
   "id": "f9ca9882-c2f7-44e5-b05e-f256d8aaf375",
   "metadata": {},
   "outputs": [],
   "source": [
    "def searchInsert(nums, target):\n",
    "    l, r = 0, len(nums)-1\n",
    "    while l<= r:\n",
    "        mid = (l+r)//2\n",
    "        if target == nums[mid]:\n",
    "            return mid\n",
    "        if target > nums[mid]:\n",
    "            l = mid+1\n",
    "        else:\n",
    "            r = mid-1\n",
    "    return l"
   ]
  },
  {
   "cell_type": "code",
   "execution_count": 4,
   "id": "dc8870ac-5d1c-41bb-9292-9c8766d8f7fb",
   "metadata": {},
   "outputs": [
    {
     "data": {
      "text/plain": [
       "2"
      ]
     },
     "execution_count": 4,
     "metadata": {},
     "output_type": "execute_result"
    }
   ],
   "source": [
    "nums = [1,3,5,6]\n",
    "target = 5\n",
    "searchInsert(nums, target)"
   ]
  },
  {
   "cell_type": "code",
   "execution_count": 6,
   "id": "3c1cead9-dbdf-4c7f-adb8-0d26e490b9c4",
   "metadata": {},
   "outputs": [
    {
     "data": {
      "text/plain": [
       "1"
      ]
     },
     "execution_count": 6,
     "metadata": {},
     "output_type": "execute_result"
    }
   ],
   "source": [
    "nums = [1,3,5,6]\n",
    "target = 2\n",
    "searchInsert(nums, target)"
   ]
  },
  {
   "cell_type": "code",
   "execution_count": 8,
   "id": "441a6773-59e2-4eda-8900-7ee8325fc21c",
   "metadata": {},
   "outputs": [
    {
     "data": {
      "text/plain": [
       "4"
      ]
     },
     "execution_count": 8,
     "metadata": {},
     "output_type": "execute_result"
    }
   ],
   "source": [
    "nums = [1,3,5,6]\n",
    "target = 7\n",
    "searchInsert(nums, target)"
   ]
  },
  {
   "cell_type": "code",
   "execution_count": null,
   "id": "d0981b8c-54ab-4639-a3aa-a529eb3c9114",
   "metadata": {},
   "outputs": [],
   "source": []
  }
 ],
 "metadata": {
  "kernelspec": {
   "display_name": "Python 3 (ipykernel)",
   "language": "python",
   "name": "python3"
  },
  "language_info": {
   "codemirror_mode": {
    "name": "ipython",
    "version": 3
   },
   "file_extension": ".py",
   "mimetype": "text/x-python",
   "name": "python",
   "nbconvert_exporter": "python",
   "pygments_lexer": "ipython3",
   "version": "3.12.7"
  }
 },
 "nbformat": 4,
 "nbformat_minor": 5
}

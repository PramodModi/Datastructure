{
 "cells": [
  {
   "attachments": {
    "af593bcf-0423-4dff-bbe9-cfd0865f3291.png": {
     "image/png": "[encoded data removed]"
    }
   },
   "cell_type": "markdown",
   "id": "97b9a425-05c7-4502-a4e3-181d8bd02760",
   "metadata": {},
   "source": [
    "## Problem: Maximal Rectangle\n",
    "LeetCode: 85\n",
    "\n",
    "https://leetcode.com/problems/maximal-rectangle/\n",
    "\n",
    "Given a rows x cols binary matrix filled with 0's and 1's, find the largest rectangle containing only 1's and return its area.\n",
    "\n",
    " \n",
    "\n",
    "Example 1:\n",
    "\n",
    "![image.png](attachment:af593bcf-0423-4dff-bbe9-cfd0865f3291.png)\n",
    "\n",
    "    Input: matrix = [[\"1\",\"0\",\"1\",\"0\",\"0\"],[\"1\",\"0\",\"1\",\"1\",\"1\"],[\"1\",\"1\",\"1\",\"1\",\"1\"],[\"1\",\"0\",\"0\",\"1\",\"0\"]]\n",
    "    Output: 6\n",
    "    Explanation: The maximal rectangle is shown in the above picture.\n",
    "Example 2:\n",
    "\n",
    "    Input: matrix = [[\"0\"]]\n",
    "    Output: 0\n",
    "Example 3:\n",
    "\n",
    "    Input: matrix = [[\"1\"]]\n",
    "    Output: 1\n",
    " \n",
    "\n",
    "Constraints:\n",
    "\n",
    "    rows == matrix.length\n",
    "    cols == matrix[i].length\n",
    "    1 <= row, cols <= 200\n",
    "    matrix[i][j] is '0' or '1'."
   ]
  },
  {
   "cell_type": "markdown",
   "id": "1bea2eb0-a9e5-4657-99a9-5c1fb66a3a73",
   "metadata": {},
   "source": [
    "## Approach\n",
    "\n",
    "This problem can be sloved as \"max reactangle area of histogram\". Max area of histogram can be calculated by finding next smaller histogram height in both directions (left and right). Please see the monotonic stack section in coding pattern for more details. We will use the same\n",
    "technique here. Will assume each row as one histogram and find the max area rectangle. Then will go to next row, here height will change of each column. If colun value is 1, then increase the height, if 0 then set the height = 0."
   ]
  },
  {
   "cell_type": "code",
   "execution_count": 1,
   "id": "3ecf6b8a-d196-4661-a576-e511eca21dfe",
   "metadata": {},
   "outputs": [],
   "source": [
    "def maximalRectangle(matrix):\n",
    "    if len(matrix) == 0:\n",
    "        return 0\n",
    "    heights = [0] * len(matrix[0])\n",
    "    maxArea = 0\n",
    "    for i in range(len(matrix)):\n",
    "        for j in range(len(matrix[0])):\n",
    "            if matrix[i][j] == \"1\":\n",
    "                heights[j] += 1\n",
    "            else:\n",
    "                heights[j] = 0\n",
    "        \n",
    "        leftDist = getPrevMinDist(heights)\n",
    "        rightDist = getNextMinDist(heights)\n",
    "\n",
    "        for j in range(len(heights)):\n",
    "            maxArea = max(maxArea, heights[j] * (rightDist[j] - leftDist[j] +1))\n",
    "    return maxArea\n",
    "\n",
    "def getPrevMinDist(heights):\n",
    "    stack =[]\n",
    "    left = [0] * len(heights)\n",
    "    for i in range(len(heights)):\n",
    "        h = heights[i]\n",
    "        while stack and h <= stack[-1][0]:\n",
    "            stack.pop()\n",
    "        if stack:\n",
    "            left[i] = stack[-1][1] +1\n",
    "        else:\n",
    "            left[i] = 0\n",
    "        stack.append((h,i))\n",
    "    return left\n",
    "def getNextMinDist(heights):\n",
    "    stack = []\n",
    "    n = len(heights)\n",
    "    right = [0] * n\n",
    "    for i in range(n-1, -1, -1):\n",
    "        h = heights[i]\n",
    "        while stack and h <= stack[-1][0]:\n",
    "            stack.pop()\n",
    "        if stack:\n",
    "            right[i] = stack[-1][1] - 1\n",
    "        else:\n",
    "            right[i] = n-1\n",
    "        stack.append((h,i))\n",
    "    return right"
   ]
  },
  {
   "cell_type": "code",
   "execution_count": 3,
   "id": "641f51bc-68f4-45ee-bbd1-a926eb91b344",
   "metadata": {},
   "outputs": [
    {
     "data": {
      "text/plain": [
       "6"
      ]
     },
     "execution_count": 3,
     "metadata": {},
     "output_type": "execute_result"
    }
   ],
   "source": [
    "matrix = [[\"1\",\"0\",\"1\",\"0\",\"0\"],[\"1\",\"0\",\"1\",\"1\",\"1\"],[\"1\",\"1\",\"1\",\"1\",\"1\"],[\"1\",\"0\",\"0\",\"1\",\"0\"]]\n",
    "maximalRectangle(matrix)"
   ]
  },
  {
   "cell_type": "code",
   "execution_count": null,
   "id": "1c096ff8-5825-4247-b2a4-79d60da4a112",
   "metadata": {},
   "outputs": [],
   "source": []
  }
 ],
 "metadata": {
  "kernelspec": {
   "display_name": "Python 3 (ipykernel)",
   "language": "python",
   "name": "python3"
  },
  "language_info": {
   "codemirror_mode": {
    "name": "ipython",
    "version": 3
   },
   "file_extension": ".py",
   "mimetype": "text/x-python",
   "name": "python",
   "nbconvert_exporter": "python",
   "pygments_lexer": "ipython3",
   "version": "3.8.18"
  }
 },
 "nbformat": 4,
 "nbformat_minor": 5
}

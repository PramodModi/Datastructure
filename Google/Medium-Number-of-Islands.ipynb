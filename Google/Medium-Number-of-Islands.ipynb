{
 "cells": [
  {
   "cell_type": "markdown",
   "id": "3eeaa4e5-7a0a-42d5-ad3d-216e03d36bc6",
   "metadata": {},
   "source": [
    "## Problem: Number of Islands\n",
    "LeetCode : 200\n",
    "\n",
    "https://leetcode.com/problems/number-of-islands/description/\n",
    "\n",
    "Given an m x n 2D binary grid grid which represents a map of '1's (land) and '0's (water), return the number of islands.\n",
    "\n",
    "An island is surrounded by water and is formed by connecting adjacent lands horizontally or vertically. You may assume all four edges of the grid are all surrounded by water.\n",
    "\n",
    " \n",
    "\n",
    "Example 1:\n",
    "\n",
    "    Input: grid = [\n",
    "      [\"1\",\"1\",\"1\",\"1\",\"0\"],\n",
    "      [\"1\",\"1\",\"0\",\"1\",\"0\"],\n",
    "      [\"1\",\"1\",\"0\",\"0\",\"0\"],\n",
    "      [\"0\",\"0\",\"0\",\"0\",\"0\"]\n",
    "    ]\n",
    "    Output: 1\n",
    "Example 2:\n",
    "\n",
    "    Input: grid = [\n",
    "      [\"1\",\"1\",\"0\",\"0\",\"0\"],\n",
    "      [\"1\",\"1\",\"0\",\"0\",\"0\"],\n",
    "      [\"0\",\"0\",\"1\",\"0\",\"0\"],\n",
    "      [\"0\",\"0\",\"0\",\"1\",\"1\"]\n",
    "    ]\n",
    "    Output: 3\n",
    " \n",
    "\n",
    "Constraints:\n",
    "\n",
    "    m == grid.length\n",
    "    n == grid[i].length\n",
    "    1 <= m, n <= 300\n",
    "    grid[i][j] is '0' or '1'."
   ]
  },
  {
   "cell_type": "code",
   "execution_count": 2,
   "id": "b1e354f3-b8d5-4f79-85cf-5a2ff620e2fc",
   "metadata": {},
   "outputs": [],
   "source": [
    "def numIslands(grid):\n",
    "    count = 0\n",
    "    for i in range(len(grid)):\n",
    "        for j in range(len(grid[i])):\n",
    "            if grid[i][j] == \"1\":\n",
    "                if explore(i,j, grid):\n",
    "                    count += 1\n",
    "    return count\n",
    "\n",
    "def explore(row,col,grid):\n",
    "    if grid[row][col] == \"2\":\n",
    "        return False\n",
    "    grid[row][col] = \"2\"\n",
    "    move = [(-1,0), (1,0), (0,-1), (0,1)]\n",
    "    for x,y in move:\n",
    "        r = row+ x\n",
    "        c = col + y\n",
    "        if r <0 or r >= len(grid) or c < 0 or c >= len(grid[0]):\n",
    "            continue\n",
    "        if grid[r][c] == \"1\":\n",
    "            explore(r,c,grid)\n",
    "    return True\n"
   ]
  },
  {
   "cell_type": "code",
   "execution_count": 6,
   "id": "46194af2-b1e5-481d-97d1-672be1ddbe01",
   "metadata": {},
   "outputs": [
    {
     "data": {
      "text/plain": [
       "3"
      ]
     },
     "execution_count": 6,
     "metadata": {},
     "output_type": "execute_result"
    }
   ],
   "source": [
    "grid = [\n",
    "  [\"1\",\"1\",\"0\",\"0\",\"0\"],\n",
    "  [\"1\",\"1\",\"0\",\"0\",\"0\"],\n",
    "  [\"0\",\"0\",\"1\",\"0\",\"0\"],\n",
    "  [\"0\",\"0\",\"0\",\"1\",\"1\"]\n",
    "]\n",
    "numIslands(grid)"
   ]
  },
  {
   "cell_type": "code",
   "execution_count": null,
   "id": "9280f4db-223f-4a99-9c36-76c45e5ed532",
   "metadata": {},
   "outputs": [],
   "source": []
  }
 ],
 "metadata": {
  "kernelspec": {
   "display_name": "Python 3 (ipykernel)",
   "language": "python",
   "name": "python3"
  },
  "language_info": {
   "codemirror_mode": {
    "name": "ipython",
    "version": 3
   },
   "file_extension": ".py",
   "mimetype": "text/x-python",
   "name": "python",
   "nbconvert_exporter": "python",
   "pygments_lexer": "ipython3",
   "version": "3.12.7"
  }
 },
 "nbformat": 4,
 "nbformat_minor": 5
}

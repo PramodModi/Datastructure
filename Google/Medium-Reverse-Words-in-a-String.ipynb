{
 "cells": [
  {
   "cell_type": "markdown",
   "id": "bf3b72ef-e9a6-428d-8295-4e797b0b7e2b",
   "metadata": {},
   "source": [
    "## Problem: Reverse Words in a String\n",
    "LeetCode: 151\n",
    "\n",
    "https://leetcode.com/problems/reverse-words-in-a-string/description\n",
    "\n",
    "Given an input string s, reverse the order of the words.\n",
    "\n",
    "A word is defined as a sequence of non-space characters. The words in s will be separated by at least one space.\n",
    "\n",
    "Return a string of the words in reverse order concatenated by a single space.\n",
    "\n",
    "Note that s may contain leading or trailing spaces or multiple spaces between two words. The returned string should only have a single space separating the words. Do not include any extra spaces.\n",
    "\n",
    " \n",
    "\n",
    "Example 1:\n",
    "\n",
    "    Input: s = \"the sky is blue\"\n",
    "    Output: \"blue is sky the\"\n",
    "Example 2:\n",
    "\n",
    "    Input: s = \"  hello world  \"\n",
    "    Output: \"world hello\"\n",
    "    Explanation: Your reversed string should not contain leading or trailing spaces.\n",
    "Example 3:\n",
    "\n",
    "    Input: s = \"a good   example\"\n",
    "    Output: \"example good a\"\n",
    "    Explanation: You need to reduce multiple spaces between two words to a single space in the reversed string.\n",
    " \n",
    "\n",
    "Constraints:\n",
    "\n",
    "    1 <= s.length <= 104\n",
    "    s contains English letters (upper-case and lower-case), digits, and spaces ' '.\n",
    "    There is at least one word in s.\n",
    "     "
   ]
  },
  {
   "cell_type": "code",
   "execution_count": 12,
   "id": "f0f1af18-80c1-4c57-a646-2291b2e93126",
   "metadata": {},
   "outputs": [],
   "source": [
    "from collections import deque\n",
    "def reverseWords(s):\n",
    "    # Remove the soaces from begining and end\n",
    "    left = 0\n",
    "    right = len(s)-1\n",
    "    while left <= right and s[left] == \" \":\n",
    "            left += 1\n",
    "    while left <= right and s[right] == \" \":\n",
    "            right -= 1\n",
    "\n",
    "    # Read each chcarcter and append in word list untill space hits. If space comes, that means word is completed\n",
    "    # Store word in deque.\n",
    "    d = deque()\n",
    "    word = []\n",
    "    while left <= right:\n",
    "        if s[left] == \" \" and word:\n",
    "            d.appendleft(\"\".join(word))\n",
    "            word = []\n",
    "        if s[left] != \" \":\n",
    "            word.append(s[left])\n",
    "        left += 1\n",
    "    d.appendleft(\"\".join(word))\n",
    "    return \" \".join(d)"
   ]
  },
  {
   "cell_type": "code",
   "execution_count": 14,
   "id": "dc1f8553-5881-4f12-ad28-d2b9bb0bc3ea",
   "metadata": {},
   "outputs": [
    {
     "data": {
      "text/plain": [
       "'world hello'"
      ]
     },
     "execution_count": 14,
     "metadata": {},
     "output_type": "execute_result"
    }
   ],
   "source": [
    "s = \"  hello world  \"\n",
    "reverseWords(s)"
   ]
  },
  {
   "cell_type": "code",
   "execution_count": 16,
   "id": "10e408a6-ee21-4351-87b8-c3b3730e1d2e",
   "metadata": {},
   "outputs": [],
   "source": [
    "def reverseWords1(s):\n",
    "    return \" \".join(reversed(s.split()))"
   ]
  },
  {
   "cell_type": "code",
   "execution_count": 18,
   "id": "56ce8c2a-69c6-4db9-ad53-cfeb1cb7ab9b",
   "metadata": {},
   "outputs": [
    {
     "data": {
      "text/plain": [
       "'worldhello'"
      ]
     },
     "execution_count": 18,
     "metadata": {},
     "output_type": "execute_result"
    }
   ],
   "source": [
    "s = \"  hello world  \"\n",
    "reverseWords1(s)"
   ]
  },
  {
   "cell_type": "code",
   "execution_count": null,
   "id": "44249ce1-8a35-4db4-b337-5b0899c07317",
   "metadata": {},
   "outputs": [],
   "source": []
  }
 ],
 "metadata": {
  "kernelspec": {
   "display_name": "Python 3 (ipykernel)",
   "language": "python",
   "name": "python3"
  },
  "language_info": {
   "codemirror_mode": {
    "name": "ipython",
    "version": 3
   },
   "file_extension": ".py",
   "mimetype": "text/x-python",
   "name": "python",
   "nbconvert_exporter": "python",
   "pygments_lexer": "ipython3",
   "version": "3.12.7"
  }
 },
 "nbformat": 4,
 "nbformat_minor": 5
}

{
 "cells": [
  {
   "cell_type": "markdown",
   "id": "81a78d16-14fd-404d-9cc5-4d91c6be0ce0",
   "metadata": {},
   "source": [
    "## Problem: Reverse Integer\n",
    "LeetCode : 7\n",
    "\n",
    "https://leetcode.com/problems/reverse-integer/description/\n",
    "\n",
    "Given a signed 32-bit integer x, return x with its digits reversed. If reversing x causes the value to go outside the signed 32-bit integer range [-231, 231 - 1], then return 0.\n",
    "\n",
    "Assume the environment does not allow you to store 64-bit integers (signed or unsigned).\n",
    "\n",
    " \n",
    "\n",
    "Example 1:\n",
    "\n",
    "    Input: x = 123\n",
    "    Output: 321\n",
    "Example 2:\n",
    "\n",
    "    Input: x = -123\n",
    "    Output: -321\n",
    "Example 3:\n",
    "\n",
    "    Input: x = 120\n",
    "    Output: 21\n",
    " \n",
    "\n",
    "Constraints:\n",
    "\n",
    "    -231 <= x <= 231 - 1"
   ]
  },
  {
   "cell_type": "code",
   "execution_count": 2,
   "id": "03e119bd-4df3-47e2-b803-d9c2cc5ea497",
   "metadata": {},
   "outputs": [],
   "source": [
    "def reverse(x):\n",
    "    sign = 1 if x > 0 else -1\n",
    "    rev,x = 0, abs(x)\n",
    "    while x :\n",
    "        x, mod = divmod(x, 10)\n",
    "        rev = rev*10 + mod\n",
    "        if rev > 2**31 -1:\n",
    "            return 0\n",
    "    return sign * rev"
   ]
  },
  {
   "cell_type": "code",
   "execution_count": 6,
   "id": "0c188e81-2a2a-4022-9d04-f60445979967",
   "metadata": {},
   "outputs": [
    {
     "data": {
      "text/plain": [
       "-7654"
      ]
     },
     "execution_count": 6,
     "metadata": {},
     "output_type": "execute_result"
    }
   ],
   "source": [
    "reverse(-4567)\n"
   ]
  },
  {
   "cell_type": "code",
   "execution_count": 8,
   "id": "0e0035f4-b777-47e8-b2b5-30594c1a98c6",
   "metadata": {},
   "outputs": [
    {
     "data": {
      "text/plain": [
       "765"
      ]
     },
     "execution_count": 8,
     "metadata": {},
     "output_type": "execute_result"
    }
   ],
   "source": [
    "reverse(567)"
   ]
  },
  {
   "cell_type": "code",
   "execution_count": null,
   "id": "a3bdc90d-8bbf-462b-a486-61f7191bdf05",
   "metadata": {},
   "outputs": [],
   "source": []
  }
 ],
 "metadata": {
  "kernelspec": {
   "display_name": "Python 3 (ipykernel)",
   "language": "python",
   "name": "python3"
  },
  "language_info": {
   "codemirror_mode": {
    "name": "ipython",
    "version": 3
   },
   "file_extension": ".py",
   "mimetype": "text/x-python",
   "name": "python",
   "nbconvert_exporter": "python",
   "pygments_lexer": "ipython3",
   "version": "3.12.7"
  }
 },
 "nbformat": 4,
 "nbformat_minor": 5
}

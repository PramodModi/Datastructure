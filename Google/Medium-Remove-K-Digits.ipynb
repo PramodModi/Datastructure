{
 "cells": [
  {
   "cell_type": "markdown",
   "id": "6ff7ff59-d8be-470e-92ee-5159cd81f44c",
   "metadata": {},
   "source": [
    "## Problem : 402. Remove K Digits\n",
    "LeetCode : 402\n",
    "\n",
    "https://leetcode.com/problems/remove-k-digits/description/\n",
    "\n",
    "Given string num representing a non-negative integer num, and an integer k, return the smallest possible integer after removing k digits from num.\n",
    "\n",
    " \n",
    "\n",
    "Example 1:\n",
    "\n",
    "    Input: num = \"1432219\", k = 3\n",
    "    Output: \"1219\"\n",
    "    Explanation: Remove the three digits 4, 3, and 2 to form the new number 1219 which is the smallest.\n",
    "Example 2:\n",
    "\n",
    "    Input: num = \"10200\", k = 1\n",
    "    Output: \"200\"\n",
    "    Explanation: Remove the leading 1 and the number is 200. Note that the output must not contain leading zeroes.\n",
    "Example 3:\n",
    "\n",
    "    Input: num = \"10\", k = 2\n",
    "    Output: \"0\"\n",
    "    Explanation: Remove all the digits from the number and it is left with nothing which is 0.\n",
    " \n",
    "\n",
    "Constraints:\n",
    "\n",
    "    1 <= k <= num.length <= 105\n",
    "    num consists of only digits.\n",
    "    num does not have any leading zeros except for the zero itself."
   ]
  },
  {
   "cell_type": "code",
   "execution_count": 2,
   "id": "04c4da00-c812-4396-92b3-44218c66ceca",
   "metadata": {},
   "outputs": [],
   "source": [
    "def removeKdigits(num, k):\n",
    "    stack = []\n",
    "    for x in num:\n",
    "        while stack and x < stack[-1] and k > 0:\n",
    "            stack.pop()\n",
    "            k -=1 \n",
    "        stack.append(x)\n",
    "    while k > 0 and stack:\n",
    "        stack.pop()\n",
    "        k -=1\n",
    "    ret = \"\"\n",
    "    for x in stack:\n",
    "        if x == '0' and len(ret) == 0:\n",
    "            continue\n",
    "        ret += x\n",
    "    return ret if len(ret) > 0 else '0'"
   ]
  },
  {
   "cell_type": "code",
   "execution_count": 4,
   "id": "04b09c69-f9f2-48f6-a54a-39aebb8356cc",
   "metadata": {},
   "outputs": [
    {
     "data": {
      "text/plain": [
       "'200'"
      ]
     },
     "execution_count": 4,
     "metadata": {},
     "output_type": "execute_result"
    }
   ],
   "source": [
    "num = \"10200\"\n",
    "k = 1\n",
    "removeKdigits(num, k)"
   ]
  },
  {
   "cell_type": "code",
   "execution_count": 6,
   "id": "fffcc50d-e08d-4d61-99f2-5f376437596d",
   "metadata": {},
   "outputs": [
    {
     "data": {
      "text/plain": [
       "'1219'"
      ]
     },
     "execution_count": 6,
     "metadata": {},
     "output_type": "execute_result"
    }
   ],
   "source": [
    "num = \"1432219\"\n",
    "k = 3\n",
    "removeKdigits(num, k)"
   ]
  },
  {
   "cell_type": "code",
   "execution_count": null,
   "id": "c01600bc-6586-4ae2-a5ec-e7f137f31bae",
   "metadata": {},
   "outputs": [],
   "source": []
  }
 ],
 "metadata": {
  "kernelspec": {
   "display_name": "Python 3 (ipykernel)",
   "language": "python",
   "name": "python3"
  },
  "language_info": {
   "codemirror_mode": {
    "name": "ipython",
    "version": 3
   },
   "file_extension": ".py",
   "mimetype": "text/x-python",
   "name": "python",
   "nbconvert_exporter": "python",
   "pygments_lexer": "ipython3",
   "version": "3.12.7"
  }
 },
 "nbformat": 4,
 "nbformat_minor": 5
}

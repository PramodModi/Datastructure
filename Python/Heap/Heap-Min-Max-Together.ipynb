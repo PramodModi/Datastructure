{
 "cells": [
  {
   "cell_type": "markdown",
   "metadata": {},
   "source": [
    "## Problem\n",
    "\n",
    "Create Heap. Min and Max would be decided based on comparision function."
   ]
  },
  {
   "cell_type": "code",
   "execution_count": 11,
   "metadata": {},
   "outputs": [],
   "source": [
    "class Heap:\n",
    "    def __init__(self, comparisionFunc, array):\n",
    "        self.comparisionFunc = comparisionFunc\n",
    "        self.heap = array\n",
    "        self.buildHeap()\n",
    "        \n",
    "        \n",
    "    def buildHeap(self):\n",
    "        m = len(self.heap) -1 \n",
    "        firstParent = (m -1)//2\n",
    "        for index in reversed(range(firstParent + 1)):\n",
    "            self.shiftDown(index)\n",
    "            \n",
    "    def shiftUp(self, index):\n",
    "        parent = (index - 1)//2\n",
    "        while index > 0 and self.comparisionFunc(self.heap[index], self.heap[parent]):\n",
    "            self.heap[parent],self.heap[index] = self.heap[index], self.heap[parent]\n",
    "            index = parent\n",
    "            parent = (index - 1)//2\n",
    "            \n",
    "    def shiftDown(self, index):\n",
    "        endIndex = self.length() -1\n",
    "        childOneIndex = 2*index +1\n",
    "        while childOneIndex <= endIndex:\n",
    "            childTwoIndex = 2*index + 2 if 2*index + 2 <= endIndex else -1\n",
    "            if childTwoIndex != -1 and self.comparisionFunc(self.heap[childTwoIndex], self.heap[childOneIndex]):\n",
    "                curIndex = childTwoIndex\n",
    "            else:\n",
    "                curIndex = childOneIndex\n",
    "            if self.comparisionFunc(self.heap[curIndex], self.heap[index]):\n",
    "                self.heap[curIndex], self.heap[index] = self.heap[index], self.heap[curIndex]\n",
    "                index = curIndex\n",
    "                childOneIndex = 2*index +1\n",
    "            else:\n",
    "                return\n",
    "            \n",
    "    def insert(self, value):\n",
    "        self.heap.append(value)\n",
    "        self.shiftUp(len(self.heap)-1)\n",
    "                     \n",
    "    def remove(self):\n",
    "        self.heap[0], self.heap[len(self.heap)-1]= self.heap[len(sel.heap)-1], self.heap[0]\n",
    "        value = self.heap.pop()\n",
    "        self.shiftDown(0)\n",
    "        return value\n",
    "    \n",
    "    def peek(self):\n",
    "        return self.heap[0]\n",
    "    \n",
    "    def length(self):\n",
    "        return len(self.heap)\n",
    "  \n",
    "def maxheap(a,b):\n",
    "    return a>b\n",
    "def minheap(a,b):\n",
    "    return a<b\n"
   ]
  },
  {
   "cell_type": "code",
   "execution_count": 12,
   "metadata": {},
   "outputs": [
    {
     "data": {
      "text/plain": [
       "10"
      ]
     },
     "execution_count": 12,
     "metadata": {},
     "output_type": "execute_result"
    }
   ],
   "source": [
    "# Build max heap\n",
    "maxh = Heap(maxheap, [])\n",
    "maxh.insert(5)\n",
    "maxh.insert(7)\n",
    "maxh.insert(1)\n",
    "maxh.insert(2)\n",
    "maxh.insert(10)\n",
    "maxh.insert(8)\n",
    "maxh.insert(4)\n",
    "maxh.peek()"
   ]
  },
  {
   "cell_type": "code",
   "execution_count": 13,
   "metadata": {},
   "outputs": [
    {
     "data": {
      "text/plain": [
       "1"
      ]
     },
     "execution_count": 13,
     "metadata": {},
     "output_type": "execute_result"
    }
   ],
   "source": [
    "# Build min heap\n",
    "maxh = Heap(minheap, [])\n",
    "maxh.insert(5)\n",
    "maxh.insert(7)\n",
    "maxh.insert(1)\n",
    "maxh.insert(2)\n",
    "maxh.insert(10)\n",
    "maxh.insert(8)\n",
    "maxh.insert(4)\n",
    "maxh.peek()"
   ]
  },
  {
   "cell_type": "code",
   "execution_count": null,
   "metadata": {},
   "outputs": [],
   "source": []
  },
  {
   "cell_type": "code",
   "execution_count": null,
   "metadata": {},
   "outputs": [],
   "source": []
  }
 ],
 "metadata": {
  "kernelspec": {
   "display_name": "Python 3",
   "language": "python",
   "name": "python3"
  },
  "language_info": {
   "codemirror_mode": {
    "name": "ipython",
    "version": 3
   },
   "file_extension": ".py",
   "mimetype": "text/x-python",
   "name": "python",
   "nbconvert_exporter": "python",
   "pygments_lexer": "ipython3",
   "version": "3.8.3"
  }
 },
 "nbformat": 4,
 "nbformat_minor": 4
}

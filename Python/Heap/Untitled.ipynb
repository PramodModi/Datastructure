{
 "cells": [
  {
   "cell_type": "code",
   "execution_count": 6,
   "metadata": {},
   "outputs": [],
   "source": [
    "import heapq\n",
    "from heapq import *"
   ]
  },
  {
   "cell_type": "code",
   "execution_count": 7,
   "metadata": {},
   "outputs": [],
   "source": [
    "class MedianFinder:\n",
    "    def __init__(self):\n",
    "        self.minHeap = []\n",
    "        self.maxHeap = []\n",
    "\n",
    "    def addNum(self, num: int) -> None:\n",
    "        heappush(self.maxHeap, -num)\n",
    "        heappush(self.minHeap, -heappop(self.maxHeap))\n",
    "        if len(self.minHeap) > len(self.maxHeap):\n",
    "            heappush(self.maxHeap, -heappop(self.minHeap))\n",
    "\n",
    "    def findMedian(self) -> float:\n",
    "        if len(self.maxHeap) > len(self.minHeap):\n",
    "            return -self.maxHeap[0]\n",
    "        return (-self.maxHeap[0] + self.minHeap[0]) / 2"
   ]
  },
  {
   "cell_type": "code",
   "execution_count": 8,
   "metadata": {},
   "outputs": [
    {
     "data": {
      "text/plain": [
       "5"
      ]
     },
     "execution_count": 8,
     "metadata": {},
     "output_type": "execute_result"
    }
   ],
   "source": [
    "mf = MedianFinder()\n",
    "mf.addNum(5)\n",
    "mf.findMedian()"
   ]
  },
  {
   "cell_type": "code",
   "execution_count": null,
   "metadata": {},
   "outputs": [],
   "source": []
  }
 ],
 "metadata": {
  "kernelspec": {
   "display_name": "Python 3",
   "language": "python",
   "name": "python3"
  },
  "language_info": {
   "codemirror_mode": {
    "name": "ipython",
    "version": 3
   },
   "file_extension": ".py",
   "mimetype": "text/x-python",
   "name": "python",
   "nbconvert_exporter": "python",
   "pygments_lexer": "ipython3",
   "version": "3.8.3"
  }
 },
 "nbformat": 4,
 "nbformat_minor": 4
}

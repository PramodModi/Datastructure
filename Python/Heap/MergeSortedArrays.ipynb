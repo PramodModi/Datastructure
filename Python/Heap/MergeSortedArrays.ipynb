{
 "cells": [
  {
   "cell_type": "markdown",
   "metadata": {},
   "source": [
    "## Problem\n",
    "\n",
    "Input: Non-empty list of sorted arrays of integers.\n",
    "output: merge all arrays and return sorted array"
   ]
  },
  {
   "cell_type": "markdown",
   "metadata": {},
   "source": [
    "#### Approach:\n",
    "Build min heap with first items (smallest) from each lists. \n",
    "Loop till heap is not empty. Pop item from heap(it is minimum) and append into resultant list.\n",
    "Now, check, if there is next item available in the list, whose item is popped up from heap. If yes, then take the item and push it to heap, and now repeat the same process by popping item from heap. If no item available in the list, of which poped item belongs, then pop next item from heap."
   ]
  },
  {
   "cell_type": "code",
   "execution_count": 9,
   "metadata": {},
   "outputs": [],
   "source": [
    "import heapq as hq\n"
   ]
  },
  {
   "cell_type": "code",
   "execution_count": 19,
   "metadata": {},
   "outputs": [],
   "source": [
    "def mergeSortedArrays(arrays):\n",
    "    sortedList = []\n",
    "    smallestItems = []\n",
    "    for arrayIdx in range(len(arrays)):\n",
    "        num = arrays[arrayIdx][0]\n",
    "        hq.heappush(smallestItems,(num,0,arrayIdx))\n",
    "    \n",
    "    while len(smallestItems):\n",
    "        smallestItem = hq.heappop(smallestItems)\n",
    "        num, index, arrayIndex = smallestItem\n",
    "        sortedList.append(num)\n",
    "        \n",
    "        if index == len(arrays[arrayIndex])-1:\n",
    "            continue\n",
    "        index += 1\n",
    "        num = arrays[arrayIndex][index]\n",
    "        hq.heappush(smallestItems,(num,index,arrayIndex))\n",
    "    return sortedList"
   ]
  },
  {
   "cell_type": "code",
   "execution_count": 20,
   "metadata": {},
   "outputs": [
    {
     "data": {
      "text/plain": [
       "[1, 2, 3, 4, 5, 6, 7, 8, 9]"
      ]
     },
     "execution_count": 20,
     "metadata": {},
     "output_type": "execute_result"
    }
   ],
   "source": [
    "arrays = [[1,4,5], [2,6,7], [3,8,9]]\n",
    "mergeSortedArrays(arrays)"
   ]
  },
  {
   "cell_type": "code",
   "execution_count": 26,
   "metadata": {},
   "outputs": [],
   "source": []
  },
  {
   "cell_type": "code",
   "execution_count": null,
   "metadata": {},
   "outputs": [],
   "source": []
  }
 ],
 "metadata": {
  "kernelspec": {
   "display_name": "Python 3",
   "language": "python",
   "name": "python3"
  },
  "language_info": {
   "codemirror_mode": {
    "name": "ipython",
    "version": 3
   },
   "file_extension": ".py",
   "mimetype": "text/x-python",
   "name": "python",
   "nbconvert_exporter": "python",
   "pygments_lexer": "ipython3",
   "version": "3.8.3"
  }
 },
 "nbformat": 4,
 "nbformat_minor": 4
}

{
 "cells": [
  {
   "cell_type": "markdown",
   "metadata": {},
   "source": [
    "## Problem\n",
    "\n",
    "Create Max heap"
   ]
  },
  {
   "cell_type": "code",
   "execution_count": 3,
   "metadata": {},
   "outputs": [],
   "source": [
    "class MaxHeap:\n",
    "    def __init__(self, array):\n",
    "        # Do not edit the line below.\n",
    "        #self.heap = self.buildHeap(array)\n",
    "        self.heap = array\n",
    "        self.buildHeap()\n",
    "\n",
    "    def buildHeap(self):\n",
    "        # Write your code here.\n",
    "        m = len(self.heap)\n",
    "        firstParentIndx = (m-1)//2\n",
    "        for currIndx in reversed(range(firstParentIndx+1)):\n",
    "            self.siftDown(currIndx)\n",
    "\n",
    "    def siftDown(self, Indx):\n",
    "        # Write your code here.\n",
    "        endIndx = len(self.heap) - 1\n",
    "        childOneIndx = 2*Indx + 1\n",
    "        while childOneIndx <= endIndx:\n",
    "            childTwoIndx = 2*Indx + 2 if 2*Indx + 2 <=endIndx else -1\n",
    "            if childTwoIndx != -1 and self.heap[childTwoIndx] > self.heap[childOneIndx]:\n",
    "                curIndx = childTwoIndx\n",
    "            else:\n",
    "                curIndx = childOneIndx\n",
    "\n",
    "            if self.heap[curIndx] > self.heap[Indx]:\n",
    "                self.heap[curIndx], self.heap[Indx] = self.heap[Indx],self.heap[curIndx]\n",
    "                Indx = curIndx\n",
    "                childOneIndx = 2*Indx + 1\n",
    "            else:\n",
    "                return\n",
    "\n",
    "        \n",
    "\n",
    "    def siftUp(self, startIndx):\n",
    "        # Write your code here.\n",
    "        parentIndx = (startIndx -1)//2\n",
    "        while startIndx > 0 and self.heap[startIndx] > self.heap[parentIndx]:\n",
    "            self.heap[startIndx], self.heap[parentIndx] = self.heap[parentIndx], self.heap[startIndx]\n",
    "            startIndx = parentIndx\n",
    "            parentIndx = (startIndx -1)//2\n",
    "            \n",
    "    def peek(self):\n",
    "        # Write your code here.\n",
    "        print(self.heap)\n",
    "        return self.heap[0]\n",
    "\n",
    "    def remove(self):\n",
    "        # Write your code here.\n",
    "        self.heap[0], self.heap[-1] = self.heap[-1], self.heap[0]\n",
    "        value = self.heap.pop()\n",
    "        self.siftDown(0)\n",
    "        print(self.heap)\n",
    "        return value\n",
    "\n",
    "    def insert(self, value):\n",
    "        # Write your code here.\n",
    "        self.heap.append(value)\n",
    "        Idx = len(self.heap)-1\n",
    "        self.siftUp(Idx)"
   ]
  },
  {
   "cell_type": "code",
   "execution_count": 11,
   "metadata": {},
   "outputs": [
    {
     "name": "stdout",
     "output_type": "stream",
     "text": [
      "[7, 4, 3, 1]\n"
     ]
    },
    {
     "data": {
      "text/plain": [
       "7"
      ]
     },
     "execution_count": 11,
     "metadata": {},
     "output_type": "execute_result"
    }
   ],
   "source": [
    "array  = []\n",
    "mh = MaxHeap(array)\n",
    "mh.insert(7)\n",
    "mh.insert(4)\n",
    "mh.insert(3)\n",
    "mh.insert(1)\n",
    "mh.peek()"
   ]
  },
  {
   "cell_type": "code",
   "execution_count": 5,
   "metadata": {},
   "outputs": [
    {
     "name": "stdout",
     "output_type": "stream",
     "text": [
      "[7, 3, 4, 2, 1]\n"
     ]
    },
    {
     "data": {
      "text/plain": [
       "7"
      ]
     },
     "execution_count": 5,
     "metadata": {},
     "output_type": "execute_result"
    }
   ],
   "source": [
    "array  = [2]\n",
    "mh = MaxHeap(array)\n",
    "mh.insert(7)\n",
    "mh.insert(4)\n",
    "mh.insert(3)\n",
    "mh.insert(1)\n",
    "mh.peek()"
   ]
  },
  {
   "cell_type": "code",
   "execution_count": 6,
   "metadata": {},
   "outputs": [
    {
     "name": "stdout",
     "output_type": "stream",
     "text": [
      "[4, 3, 1, 2]\n"
     ]
    },
    {
     "data": {
      "text/plain": [
       "7"
      ]
     },
     "execution_count": 6,
     "metadata": {},
     "output_type": "execute_result"
    }
   ],
   "source": [
    "mh.remove()"
   ]
  },
  {
   "cell_type": "code",
   "execution_count": 7,
   "metadata": {},
   "outputs": [
    {
     "name": "stdout",
     "output_type": "stream",
     "text": [
      "[3, 2, 1]\n"
     ]
    },
    {
     "data": {
      "text/plain": [
       "4"
      ]
     },
     "execution_count": 7,
     "metadata": {},
     "output_type": "execute_result"
    }
   ],
   "source": [
    "mh.remove()"
   ]
  },
  {
   "cell_type": "code",
   "execution_count": 8,
   "metadata": {},
   "outputs": [
    {
     "name": "stdout",
     "output_type": "stream",
     "text": [
      "[3, 2, 1]\n"
     ]
    },
    {
     "data": {
      "text/plain": [
       "3"
      ]
     },
     "execution_count": 8,
     "metadata": {},
     "output_type": "execute_result"
    }
   ],
   "source": [
    "mh.peek()"
   ]
  },
  {
   "cell_type": "code",
   "execution_count": 10,
   "metadata": {},
   "outputs": [
    {
     "name": "stdout",
     "output_type": "stream",
     "text": [
      "[30, 20, 10, 9, 5, 1, 8, 2]\n"
     ]
    },
    {
     "data": {
      "text/plain": [
       "30"
      ]
     },
     "execution_count": 10,
     "metadata": {},
     "output_type": "execute_result"
    }
   ],
   "source": [
    "mh1 = MaxHeap([10,20,30,2,5,1,8,9])\n",
    "mh1.peek()"
   ]
  },
  {
   "cell_type": "code",
   "execution_count": null,
   "metadata": {},
   "outputs": [],
   "source": []
  }
 ],
 "metadata": {
  "kernelspec": {
   "display_name": "Python 3",
   "language": "python",
   "name": "python3"
  },
  "language_info": {
   "codemirror_mode": {
    "name": "ipython",
    "version": 3
   },
   "file_extension": ".py",
   "mimetype": "text/x-python",
   "name": "python",
   "nbconvert_exporter": "python",
   "pygments_lexer": "ipython3",
   "version": "3.8.3"
  }
 },
 "nbformat": 4,
 "nbformat_minor": 4
}

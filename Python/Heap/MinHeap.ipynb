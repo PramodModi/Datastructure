{
 "cells": [
  {
   "cell_type": "markdown",
   "metadata": {},
   "source": [
    "## Problem\n",
    "Create min heap data structure"
   ]
  },
  {
   "cell_type": "code",
   "execution_count": 9,
   "metadata": {},
   "outputs": [],
   "source": [
    "class MinHeap:\n",
    "    def __init__(self, array):\n",
    "        # Do not edit the line below.\n",
    "        #self.heap = self.buildHeap(array)\n",
    "        self.heap = array\n",
    "        self.buildHeap()\n",
    "\n",
    "    def buildHeap(self):\n",
    "        # Write your code here.\n",
    "        m = len(self.heap)\n",
    "        firstParentIndx = (m-2)//2\n",
    "        for currIndx in reversed(range(firstParentIndx+1)):\n",
    "            self.siftDown(currIndx)\n",
    "\n",
    "    def siftDown(self, Indx):\n",
    "        # Write your code here.\n",
    "        endIndx = len(self.heap) - 1\n",
    "        childOneIndx = 2*Indx + 1\n",
    "        while childOneIndx <= endIndx:\n",
    "            childTwoIndx = 2*Indx + 2 if 2*Indx + 2 <=endIndx else -1\n",
    "            if childTwoIndx != -1 and self.heap[childTwoIndx] < self.heap[childOneIndx]:\n",
    "                curIndx = childTwoIndx\n",
    "            else:\n",
    "                curIndx = childOneIndx\n",
    "\n",
    "            if self.heap[curIndx] < self.heap[Indx]:\n",
    "                self.heap[curIndx], self.heap[Indx] = self.heap[Indx],self.heap[curIndx]\n",
    "                Indx = curIndx\n",
    "                childOneIndx = 2*Indx + 1\n",
    "            else:\n",
    "                return\n",
    "\n",
    "        \n",
    "\n",
    "    def siftUp(self, startIndx):\n",
    "        # Write your code here.\n",
    "        parentIndx = (startIndx -1)//2\n",
    "        while startIndx > 0 and self.heap[startIndx] < self.heap[parentIndx]:\n",
    "            self.heap[startIndx], self.heap[parentIndx] = self.heap[parentIndx], self.heap[startIndx]\n",
    "            startIndx = parentIndx\n",
    "            parentIndx = (startIndx -1)//2\n",
    "            \n",
    "    def peek(self):\n",
    "        # Write your code here.\n",
    "        print(self.heap)\n",
    "        return self.heap[0]\n",
    "\n",
    "    def remove(self):\n",
    "        # Write your code here.\n",
    "        \n",
    "        self.heap[0], self.heap[-1] = self.heap[-1], self.heap[0]\n",
    "        value = self.heap.pop()\n",
    "        self.siftDown(0)\n",
    "        print(self.heap)\n",
    "        return value\n",
    "\n",
    "    def insert(self, value):\n",
    "        # Write your code here.\n",
    "        self.heap.append(value)\n",
    "        Idx = len(self.heap)-1\n",
    "        self.siftUp(Idx)\n"
   ]
  },
  {
   "cell_type": "code",
   "execution_count": 10,
   "metadata": {},
   "outputs": [
    {
     "name": "stdout",
     "output_type": "stream",
     "text": [
      "[1, 2, 4, 7, 3]\n"
     ]
    },
    {
     "data": {
      "text/plain": [
       "1"
      ]
     },
     "execution_count": 10,
     "metadata": {},
     "output_type": "execute_result"
    }
   ],
   "source": [
    "array  = [2]\n",
    "mh = MinHeap(array)\n",
    "mh.insert(7)\n",
    "mh.insert(4)\n",
    "mh.insert(3)\n",
    "mh.insert(1)\n",
    "mh.peek()"
   ]
  },
  {
   "cell_type": "code",
   "execution_count": 11,
   "metadata": {},
   "outputs": [
    {
     "name": "stdout",
     "output_type": "stream",
     "text": [
      "[2, 3, 4, 7]\n"
     ]
    },
    {
     "data": {
      "text/plain": [
       "1"
      ]
     },
     "execution_count": 11,
     "metadata": {},
     "output_type": "execute_result"
    }
   ],
   "source": [
    "mh.remove()"
   ]
  },
  {
   "cell_type": "code",
   "execution_count": 12,
   "metadata": {},
   "outputs": [
    {
     "name": "stdout",
     "output_type": "stream",
     "text": [
      "[2, 3, 4, 7]\n"
     ]
    },
    {
     "data": {
      "text/plain": [
       "2"
      ]
     },
     "execution_count": 12,
     "metadata": {},
     "output_type": "execute_result"
    }
   ],
   "source": [
    "mh.peek()"
   ]
  },
  {
   "cell_type": "code",
   "execution_count": 13,
   "metadata": {},
   "outputs": [
    {
     "name": "stdout",
     "output_type": "stream",
     "text": [
      "[1, 2, 8, 9, 5, 30, 10, 20]\n"
     ]
    },
    {
     "data": {
      "text/plain": [
       "1"
      ]
     },
     "execution_count": 13,
     "metadata": {},
     "output_type": "execute_result"
    }
   ],
   "source": [
    "mh1 = MinHeap([10,20,30,2,5,1,8,9])\n",
    "mh1.peek()"
   ]
  },
  {
   "cell_type": "code",
   "execution_count": 14,
   "metadata": {},
   "outputs": [
    {
     "name": "stdout",
     "output_type": "stream",
     "text": [
      "[2, 5, 8, 9, 20, 30, 10]\n"
     ]
    },
    {
     "data": {
      "text/plain": [
       "1"
      ]
     },
     "execution_count": 14,
     "metadata": {},
     "output_type": "execute_result"
    }
   ],
   "source": [
    "mh1.remove()"
   ]
  },
  {
   "cell_type": "code",
   "execution_count": 15,
   "metadata": {},
   "outputs": [
    {
     "name": "stdout",
     "output_type": "stream",
     "text": [
      "[5, 9, 8, 10, 20, 30]\n"
     ]
    },
    {
     "data": {
      "text/plain": [
       "2"
      ]
     },
     "execution_count": 15,
     "metadata": {},
     "output_type": "execute_result"
    }
   ],
   "source": [
    "mh1.remove()"
   ]
  },
  {
   "cell_type": "code",
   "execution_count": 16,
   "metadata": {},
   "outputs": [
    {
     "name": "stdout",
     "output_type": "stream",
     "text": [
      "[5, 9, 8, 10, 20, 30]\n"
     ]
    },
    {
     "data": {
      "text/plain": [
       "5"
      ]
     },
     "execution_count": 16,
     "metadata": {},
     "output_type": "execute_result"
    }
   ],
   "source": [
    "mh1.peek()"
   ]
  },
  {
   "cell_type": "code",
   "execution_count": null,
   "metadata": {},
   "outputs": [],
   "source": []
  }
 ],
 "metadata": {
  "kernelspec": {
   "display_name": "Python 3",
   "language": "python",
   "name": "python3"
  },
  "language_info": {
   "codemirror_mode": {
    "name": "ipython",
    "version": 3
   },
   "file_extension": ".py",
   "mimetype": "text/x-python",
   "name": "python",
   "nbconvert_exporter": "python",
   "pygments_lexer": "ipython3",
   "version": "3.8.3"
  }
 },
 "nbformat": 4,
 "nbformat_minor": 4
}

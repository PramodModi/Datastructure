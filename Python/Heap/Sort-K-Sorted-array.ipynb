{
 "cells": [
  {
   "cell_type": "markdown",
   "metadata": {},
   "source": [
    "## Problem\n",
    "K-sorted array is partially sorted array in which all elements are at most K positions away from their sorted position. \n",
    "For example: [3,1,2,2] is K-sroted with K =3.\n",
    "\n",
    "Algorithm should return the sorted array with faster tha O(nlogn) time."
   ]
  },
  {
   "cell_type": "markdown",
   "metadata": {},
   "source": [
    "### Approach\n",
    "\n",
    "As each element is at most K-position away from sorted position. So, the very first element in the array will be at most K position away. So, will have to look only K+1 element for the correct element at position 0.\n",
    "\n",
    "Idea is to find minimum element for first K+1 elements and put on the 0th position. To get the minimum element form k+1 elements, will use MinHeap. \n",
    "Minheap will be initialize with K+1 elements, pick the first element from heap and put at the 0th position. Then add k+2nd element in the heap, get the minimum element from heap and put at the 1st position, and so on...\n",
    "At the last, remaining all elements from heap will get placed in the array.\n",
    "\n",
    "Time complexity = \n",
    "1. Buildheap = O(logK)\n",
    "2. Insert element in heap = O(logK)\n",
    "3. Remove element from heap = O(logK)\n",
    "\n",
    "Time complexity = O(logk)\n",
    "\n",
    "Space complexity =. O(K) => to keep K elements in heap."
   ]
  },
  {
   "cell_type": "code",
   "execution_count": 6,
   "metadata": {},
   "outputs": [],
   "source": [
    "def sortKSortedArrayt(array, k):\n",
    "    firstindex = min(k+1, len(array))\n",
    "    heap = Heap(array[:firstindex]) # If K is greater than array length. We will consider complete array\n",
    "    \n",
    "    nextIndex = 0\n",
    "    for i in range(k+1, len(array)):\n",
    "        minElement = heap.remove()\n",
    "        array[nextIndex] = minElement\n",
    "        nextIndex += 1\n",
    "        \n",
    "        heap.insert(array[i])\n",
    "    \n",
    "    while heap.empty() is not True:\n",
    "        minElement = heap.remove()\n",
    "        array[nextIndex] = minElement\n",
    "        nextIndex += 1\n",
    "    return array\n",
    "        \n",
    "        \n",
    "    "
   ]
  },
  {
   "cell_type": "code",
   "execution_count": 7,
   "metadata": {},
   "outputs": [],
   "source": [
    "class Heap:\n",
    "    def __init__(self, array):\n",
    "        self.heap = array\n",
    "        self.buildHeap()\n",
    "    \n",
    "    def buildHeap(self):\n",
    "        lastIndex = len(self.heap) - 1\n",
    "        firstParentIndex = (lastIndex -1)//2\n",
    "        for i in reversed(range(firstParentIndex + 1)):\n",
    "            self.shiftDown(i)\n",
    "            \n",
    "    def shiftDown(self, index):\n",
    "        endIndex = len(self.heap) -1\n",
    "        childOneIndex = 2*index + 1\n",
    "        while childOneIndex <= endIndex:\n",
    "            childTwoIndex = 2*index + 2 if 2*index+2 <= endIndex else -1\n",
    "            if childTwoIndex != -1 and self.heap[childTwoIndex] < self.heap[childOneIndex]:\n",
    "                curIndex = childTwoIndex\n",
    "            else:\n",
    "                curIndex = childOneIndex\n",
    "            \n",
    "            if self.heap[curIndex] < self.heap[index]:\n",
    "                self.heap[curIndex], self.heap[index] = self.heap[index], self.heap[curIndex]\n",
    "                index = curIndex\n",
    "                childOneIndex = 2*index + 1\n",
    "            else:\n",
    "                return\n",
    "    def shiftUp(self, index):\n",
    "        parentIndex = (index -1)//2\n",
    "        while index > 0 and self.heap[index ] < self.heap[parentIndex]:\n",
    "            self.heap[index], self.heap[parentIndex] = self.heap[parentIndex], self.heap[index]\n",
    "            index = parentIndex\n",
    "            parentIndex = (index -1)//2\n",
    "    \n",
    "    def insert(self, value):\n",
    "        self.heap.append(value)\n",
    "        self.shiftUp(len(self.heap) - 1)\n",
    "    \n",
    "    def remove(self):\n",
    "        endIndex = len(self.heap) -1\n",
    "        self.heap[0], self.heap[endIndex] = self.heap[endIndex],self.heap[0]\n",
    "        value = self.heap.pop()\n",
    "        self.shiftDown(0)\n",
    "        return value\n",
    "    def empty(self):\n",
    "        return len(self.heap)==0\n",
    "                \n",
    "            \n",
    "        \n",
    "        "
   ]
  },
  {
   "cell_type": "code",
   "execution_count": 8,
   "metadata": {},
   "outputs": [
    {
     "data": {
      "text/plain": [
       "[1, 2, 3, 4, 5, 5, 6, 7]"
      ]
     },
     "execution_count": 8,
     "metadata": {},
     "output_type": "execute_result"
    }
   ],
   "source": [
    "array = [3,2,1,5,4,7,6,5]\n",
    "k = 3\n",
    "sortKSortedArrayt(array,k)"
   ]
  },
  {
   "cell_type": "code",
   "execution_count": 11,
   "metadata": {},
   "outputs": [],
   "source": [
    "# Using Python heapq model\n",
    "import heapq as hq\n",
    "\n",
    "def sortKSortedArray(array, k):\n",
    "    firstindex = min(k+1, len(array))\n",
    "    #heap = heapq(array[:firstindex]) # If K is greater than array length. We will consider complete array\n",
    "    hq.heapify(array[:firstindex])\n",
    "    nextIndex = 0\n",
    "    for i in range(k+1, len(array)):\n",
    "        minElement = hq.heappop(firstindex)\n",
    "        array[nextIndex] = minElement\n",
    "        nextIndex += 1\n",
    "        \n",
    "        hq.heappush(firstindex, array[i])\n",
    "    \n",
    "    while len(firstindex):\n",
    "        minElement = hq.heappop(firstindex)\n",
    "        array[nextIndex] = minElement\n",
    "        nextIndex += 1\n",
    "    return array"
   ]
  },
  {
   "cell_type": "code",
   "execution_count": 12,
   "metadata": {},
   "outputs": [
    {
     "data": {
      "text/plain": [
       "[1, 2, 3, 4, 5, 5, 6, 7]"
      ]
     },
     "execution_count": 12,
     "metadata": {},
     "output_type": "execute_result"
    }
   ],
   "source": [
    "array = [3,2,1,5,4,7,6,5]\n",
    "k = 3\n",
    "sortKSortedArrayt(array,k)"
   ]
  },
  {
   "cell_type": "code",
   "execution_count": 15,
   "metadata": {},
   "outputs": [],
   "source": [
    "# With heapq python module\n",
    "#\n",
    "import heapq as hq\n",
    "\n",
    "def sortKSortedArrayt1(array, k):\n",
    "    firstindex = min(k+1, len(array))\n",
    "    heap = array[:firstindex] # If K is greater than array length. We will consider complete array\n",
    "    hq.heapify(heap)\n",
    "    \n",
    "    nextIndex = 0\n",
    "    for i in range(k+1, len(array)):\n",
    "        minElement = hq.heappop(heap)\n",
    "        array[nextIndex] = minElement\n",
    "        nextIndex += 1\n",
    "        \n",
    "        hq.heappush(heap,array[i])\n",
    "    \n",
    "    while len(heap):\n",
    "        minElement = hq.heappop(heap)\n",
    "        array[nextIndex] = minElement\n",
    "        nextIndex += 1\n",
    "    return array"
   ]
  },
  {
   "cell_type": "code",
   "execution_count": 16,
   "metadata": {},
   "outputs": [
    {
     "data": {
      "text/plain": [
       "[1, 2, 3, 4, 5, 5, 6, 7]"
      ]
     },
     "execution_count": 16,
     "metadata": {},
     "output_type": "execute_result"
    }
   ],
   "source": [
    "array = [3,2,1,5,4,7,6,5]\n",
    "k = 3\n",
    "sortKSortedArrayt1(array,k)"
   ]
  },
  {
   "cell_type": "code",
   "execution_count": null,
   "metadata": {},
   "outputs": [],
   "source": []
  }
 ],
 "metadata": {
  "kernelspec": {
   "display_name": "Python 3",
   "language": "python",
   "name": "python3"
  },
  "language_info": {
   "codemirror_mode": {
    "name": "ipython",
    "version": 3
   },
   "file_extension": ".py",
   "mimetype": "text/x-python",
   "name": "python",
   "nbconvert_exporter": "python",
   "pygments_lexer": "ipython3",
   "version": "3.8.3"
  }
 },
 "nbformat": 4,
 "nbformat_minor": 4
}

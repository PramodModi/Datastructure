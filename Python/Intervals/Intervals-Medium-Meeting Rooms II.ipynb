{
 "cells": [
  {
   "cell_type": "markdown",
   "metadata": {},
   "source": [
    "## Problem:\n",
    "https://leetcode.com/problems/meeting-rooms-ii/\n",
    "\n",
    "Problem: Given an array of meeting time intervals consisting of start and end times [[s1,e1],[s2,e2],…] (si < ei), find the minimum number of conference rooms required.\n",
    "\n",
    "Example(s):\n",
    "\n",
    "For example, Given [[0, 30],[5, 10],[15, 20]], return 2."
   ]
  },
  {
   "cell_type": "code",
   "execution_count": 5,
   "metadata": {},
   "outputs": [],
   "source": [
    "import heapq as hq\n",
    "def minMeetingRoom(intervals):\n",
    "    if len(intervals) == 0:\n",
    "        return 0\n",
    "    rooms = []\n",
    "    interval = intervals[0]\n",
    "    hq.heappush(rooms, interval[1] )\n",
    "    \n",
    "    for i in range(1, len(intervals)):\n",
    "        interval = intervals[i]\n",
    "        if rooms[0] <= interval[0]:\n",
    "            hq.heappop(rooms)\n",
    "        hq.heappush(rooms, interval[1])\n",
    "    \n",
    "    return len(rooms)\n",
    "        \n",
    "    "
   ]
  },
  {
   "cell_type": "code",
   "execution_count": 6,
   "metadata": {},
   "outputs": [
    {
     "data": {
      "text/plain": [
       "2"
      ]
     },
     "execution_count": 6,
     "metadata": {},
     "output_type": "execute_result"
    }
   ],
   "source": [
    "intervals = [[0, 30],[5, 10],[15, 20]]\n",
    "minMeetingRoom(intervals)"
   ]
  },
  {
   "cell_type": "code",
   "execution_count": null,
   "metadata": {},
   "outputs": [],
   "source": []
  }
 ],
 "metadata": {
  "kernelspec": {
   "display_name": "Python 3",
   "language": "python",
   "name": "python3"
  },
  "language_info": {
   "codemirror_mode": {
    "name": "ipython",
    "version": 3
   },
   "file_extension": ".py",
   "mimetype": "text/x-python",
   "name": "python",
   "nbconvert_exporter": "python",
   "pygments_lexer": "ipython3",
   "version": "3.8.3"
  }
 },
 "nbformat": 4,
 "nbformat_minor": 4
}

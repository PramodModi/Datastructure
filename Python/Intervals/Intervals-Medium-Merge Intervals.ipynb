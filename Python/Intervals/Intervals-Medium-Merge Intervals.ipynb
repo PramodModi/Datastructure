{
 "cells": [
  {
   "cell_type": "markdown",
   "metadata": {},
   "source": [
    "## 56. Merge Intervals\n",
    "Given an array of intervals where intervals[i] = [starti, endi], merge all overlapping intervals, and return an array of the non-overlapping intervals that cover all the intervals in the input.\n",
    "\n",
    " \n",
    "\n",
    "Example 1:\n",
    "\n",
    "Input: intervals = [[1,3],[2,6],[8,10],[15,18]]\n",
    "\n",
    "Output: [[1,6],[8,10],[15,18]]\n",
    "\n",
    "Explanation: Since intervals [1,3] and [2,6] overlap, merge them into [1,6].\n",
    "\n",
    "Example 2:\n",
    "\n",
    "Input: intervals = [[1,4],[4,5]]\n",
    "\n",
    "Output: [[1,5]]\n",
    "\n",
    "Explanation: Intervals [1,4] and [4,5] are considered overlapping.\n",
    " \n",
    "\n",
    "Constraints:\n",
    "\n",
    "1 <= intervals.length <= 104\n",
    "\n",
    "intervals[i].length == 2\n",
    "\n",
    "0 <= starti <= endi <= 104"
   ]
  },
  {
   "cell_type": "code",
   "execution_count": 2,
   "metadata": {},
   "outputs": [],
   "source": [
    "def merge(intervals):\n",
    "    sortedIntervals = sorted(intervals, key= lambda x:x[0])\n",
    "    result = []\n",
    "    temp = sortedIntervals[0]\n",
    "\n",
    "    for i in range(1, len(sortedIntervals)):\n",
    "        interval = sortedIntervals[i]\n",
    "        if temp[1] >= interval[0]:\n",
    "            temp = [temp[0], max(temp[1], interval[1])]\n",
    "        else:\n",
    "            result.append(temp)\n",
    "            temp = interval\n",
    "    result.append(temp)\n",
    "    return result"
   ]
  },
  {
   "cell_type": "code",
   "execution_count": 3,
   "metadata": {},
   "outputs": [
    {
     "data": {
      "text/plain": [
       "[[1, 6], [8, 10], [15, 18]]"
      ]
     },
     "execution_count": 3,
     "metadata": {},
     "output_type": "execute_result"
    }
   ],
   "source": [
    "intervals = [[1,3],[2,6],[8,10],[15,18]]\n",
    "merge(intervals)"
   ]
  },
  {
   "cell_type": "code",
   "execution_count": null,
   "metadata": {},
   "outputs": [],
   "source": []
  }
 ],
 "metadata": {
  "kernelspec": {
   "display_name": "Python 3",
   "language": "python",
   "name": "python3"
  },
  "language_info": {
   "codemirror_mode": {
    "name": "ipython",
    "version": 3
   },
   "file_extension": ".py",
   "mimetype": "text/x-python",
   "name": "python",
   "nbconvert_exporter": "python",
   "pygments_lexer": "ipython3",
   "version": "3.8.3"
  }
 },
 "nbformat": 4,
 "nbformat_minor": 4
}

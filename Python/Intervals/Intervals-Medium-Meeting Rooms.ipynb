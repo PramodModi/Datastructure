{
 "cells": [
  {
   "cell_type": "markdown",
   "metadata": {},
   "source": [
    "## Meeting rom\n",
    "https://leetcode.com/problems/meeting-rooms/\n",
    "\n",
    "Problem: Given an array of meeting time intervals consisting of start and end times[[s1,e1],[s2,e2],…](si< ei), determine if a person could attend all meetings.\n",
    "\n",
    "Example(s):\n",
    "\n",
    "Input: [[0,30],[5,10],[15,20]] Output: false"
   ]
  },
  {
   "cell_type": "code",
   "execution_count": null,
   "metadata": {},
   "outputs": [],
   "source": [
    "def canAttendMeeting(intervals):\n",
    "    if len(intervals) == 0:\n",
    "        return true\n",
    "    sortedIntervals = sorted(intervals, key = lambda x:x[0])\n",
    "    \n",
    "    temp = intervals[0]\n",
    "    \n",
    "    for i in range(1, len(intervals)):\n",
    "        interval = intervals[i]\n",
    "        if temp[1] > interval[0]:\n",
    "            return False\n",
    "    return True\n",
    "        "
   ]
  }
 ],
 "metadata": {
  "kernelspec": {
   "display_name": "Python 3",
   "language": "python",
   "name": "python3"
  },
  "language_info": {
   "codemirror_mode": {
    "name": "ipython",
    "version": 3
   },
   "file_extension": ".py",
   "mimetype": "text/x-python",
   "name": "python",
   "nbconvert_exporter": "python",
   "pygments_lexer": "ipython3",
   "version": "3.8.3"
  }
 },
 "nbformat": 4,
 "nbformat_minor": 4
}

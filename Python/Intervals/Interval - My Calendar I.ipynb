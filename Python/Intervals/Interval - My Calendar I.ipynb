{
 "cells": [
  {
   "cell_type": "markdown",
   "metadata": {},
   "source": [
    "## Problem: 729. My Calendar I\n",
    "\n",
    "You are implementing a program to use as your calendar. We can add a new event if adding the event will not cause a double booking.\n",
    "\n",
    "A double booking happens when two events have some non-empty intersection (i.e., some moment is common to both events.).\n",
    "\n",
    "The event can be represented as a pair of integers start and end that represents a booking on the half-open interval [start, end), the range of real numbers x such that start <= x < end.\n",
    "\n",
    "Implement the MyCalendar class:\n",
    "\n",
    "MyCalendar() Initializes the calendar object.\n",
    "boolean book(int start, int end) Returns true if the event can be added to the calendar successfully without causing a double booking. Otherwise, return false and do not add the event to the calendar.\n",
    " \n",
    "\n",
    "Example 1:\n",
    "\n",
    "Input\n",
    "\n",
    "[\"MyCalendar\", \"book\", \"book\", \"book\"]\n",
    "\n",
    "[[], [10, 20], [15, 25], [20, 30]]\n",
    "\n",
    "Output\n",
    "\n",
    "[null, true, false, true]\n",
    "\n",
    "Explanation\n",
    "\n",
    "MyCalendar myCalendar = new MyCalendar();\n",
    "\n",
    "myCalendar.book(10, 20); // return True\n",
    "\n",
    "myCalendar.book(15, 25); // return False, It can not be booked because time 15 is already booked by another event.\n",
    "\n",
    "myCalendar.book(20, 30); // return True, The event can be booked, as the first event takes every time less than 20, but not including 20.\n",
    " \n",
    "\n",
    "Constraints:\n",
    "\n",
    "0 <= start < end <= 109\n",
    "\n",
    "At most 1000 calls will be made to book."
   ]
  },
  {
   "cell_type": "code",
   "execution_count": 1,
   "metadata": {},
   "outputs": [],
   "source": [
    "class MyCalendar(object):\n",
    "    def __init__(self):\n",
    "        self.intervals = []\n",
    "    def book(self, start, end):\n",
    "        if not intervals:\n",
    "            intervals.append([start, end])\n",
    "            return True\n",
    "        \n",
    "        left, right = 0, len(intervals)-1\n",
    "        \n",
    "        while(left <= right):\n",
    "            mid = left + (right-left)//2\n",
    "            if start < intervals[mid][1] and end > intervals[mid][0]:\n",
    "                return False\n",
    "            if intervals[mid][0] < start:\n",
    "                left = mid+1\n",
    "            else:\n",
    "                right = mid-1\n",
    "        intervals.insert(left, [start, end])\n",
    "        return True\n",
    "\n",
    "        \n",
    "\n",
    "\n",
    "# Your MyCalendar object will be instantiated and called as such:\n",
    "# obj = MyCalendar()\n",
    "# param_1 = obj.book(start,end)"
   ]
  },
  {
   "cell_type": "code",
   "execution_count": null,
   "metadata": {},
   "outputs": [],
   "source": []
  }
 ],
 "metadata": {
  "kernelspec": {
   "display_name": "Python 3",
   "language": "python",
   "name": "python3"
  },
  "language_info": {
   "codemirror_mode": {
    "name": "ipython",
    "version": 3
   },
   "file_extension": ".py",
   "mimetype": "text/x-python",
   "name": "python",
   "nbconvert_exporter": "python",
   "pygments_lexer": "ipython3",
   "version": "3.8.3"
  }
 },
 "nbformat": 4,
 "nbformat_minor": 4
}

{
 "cells": [
  {
   "cell_type": "code",
   "execution_count": 1,
   "metadata": {},
   "outputs": [],
   "source": [
    "# Create a stack class\n",
    "class Stack:\n",
    "    def __init__(self):\n",
    "        # initialize the list and size of stack\n",
    "        self._data =[]\n",
    "        # Initial size is zero\n",
    "        self._size = 0\n",
    "    \n",
    "    # Push the element in the stack. \n",
    "    # Increament the size of stack by 1\n",
    "    def push(self, e):\n",
    "        self._data.append(e)\n",
    "        self._size  += 1\n",
    "    \n",
    "    # Check if stack is empty\n",
    "    def isEmpty(self):\n",
    "        return self._size == 0\n",
    "        \n",
    "    # Remove the element from the stack\n",
    "    # Decrease the size of Stack by 1\n",
    "    def pop(self):\n",
    "        # Check if data is there in the stack\n",
    "        if self.isEmpty():\n",
    "            print(\"Stack is empty\")\n",
    "        else:\n",
    "            value = self._data.pop()\n",
    "            self._size -= 1\n",
    "            return value\n",
    "    \n",
    "    # Get the top valus from stack\n",
    "    def top(self):\n",
    "        # Check if data is there in the stack\n",
    "        if self.isEmpty():\n",
    "            print(\"Stack is empty\")\n",
    "        else:\n",
    "            return self._data[-1]\n",
    "        \n",
    "    #Return the size of stack\n",
    "    def size(self):\n",
    "        return self._size;\n",
    "        "
   ]
  },
  {
   "cell_type": "code",
   "execution_count": 3,
   "metadata": {},
   "outputs": [
    {
     "name": "stdout",
     "output_type": "stream",
     "text": [
      "Stack is empty\n",
      "size of stack =  5\n",
      "top :  2\n",
      "pop : 2\n",
      "top : 3\n",
      "Size after one pop :  4\n"
     ]
    }
   ],
   "source": [
    "s = Stack()\n",
    "s.top() # Stack is empty\n",
    "s.push(5)\n",
    "s.push(9)\n",
    "s.push(2)\n",
    "s.push(3)\n",
    "s.push(2)\n",
    "\n",
    "print(\"size of stack = \", s.size())\n",
    "\n",
    "print(\"top : \", s.top())\n",
    "print(\"pop :\", s.pop())\n",
    "print(\"top :\", s.top())\n",
    "print(\"Size after one pop : \", s.size())\n"
   ]
  },
  {
   "cell_type": "code",
   "execution_count": null,
   "metadata": {},
   "outputs": [],
   "source": []
  }
 ],
 "metadata": {
  "kernelspec": {
   "display_name": "Python 3",
   "language": "python",
   "name": "python3"
  },
  "language_info": {
   "codemirror_mode": {
    "name": "ipython",
    "version": 3
   },
   "file_extension": ".py",
   "mimetype": "text/x-python",
   "name": "python",
   "nbconvert_exporter": "python",
   "pygments_lexer": "ipython3",
   "version": "3.8.3"
  }
 },
 "nbformat": 4,
 "nbformat_minor": 4
}

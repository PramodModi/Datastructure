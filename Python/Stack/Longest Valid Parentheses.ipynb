{
 "cells": [
  {
   "cell_type": "markdown",
   "metadata": {},
   "source": [
    "## Problem: 32. Longest Valid Parentheses (Hard)\n",
    "https://leetcode.com/problems/longest-valid-parentheses/description/\n",
    "\n",
    "Given a string containing just the characters '(' and ')', return the length of the longest valid (well-formed) parentheses \n",
    "substring\n",
    ".\n",
    "\n",
    " \n",
    "\n",
    "Example 1:\n",
    "\n",
    "Input: s = \"(()\"\n",
    "\n",
    "Output: 2\n",
    "\n",
    "Explanation: The longest valid parentheses substring is \"()\".\n",
    "\n",
    "Example 2:\n",
    "\n",
    "Input: s = \")()())\"\n",
    "\n",
    "Output: 4\n",
    "\n",
    "Explanation: The longest valid parentheses substring is \"()()\".\n",
    "\n",
    "Example 3:\n",
    "\n",
    "Input: s = \"\"\n",
    "\n",
    "Output: 0\n",
    " \n",
    "\n",
    "Constraints:\n",
    "\n",
    "0 <= s.length <= 3 * 104\n",
    "\n",
    "s[i] is '(', or ')'.\n"
   ]
  },
  {
   "cell_type": "code",
   "execution_count": 11,
   "metadata": {},
   "outputs": [],
   "source": [
    "def longestValidParentheses(s):\n",
    "        stack = [-1]\n",
    "        maxLen = 0\n",
    "        for i in range(len(s)):\n",
    "            if s[i] == \"(\":\n",
    "                stack.append(i)\n",
    "            else:\n",
    "                stack.pop()\n",
    "                if not stack:\n",
    "                    stack.append(i)\n",
    "                else:\n",
    "                    maxLen = max(maxLen, i-stack[-1])\n",
    "        return maxLen"
   ]
  },
  {
   "cell_type": "code",
   "execution_count": 12,
   "metadata": {},
   "outputs": [
    {
     "data": {
      "text/plain": [
       "2"
      ]
     },
     "execution_count": 12,
     "metadata": {},
     "output_type": "execute_result"
    }
   ],
   "source": [
    "s = \"(()\"\n",
    "longestValidParentheses(s)"
   ]
  },
  {
   "cell_type": "code",
   "execution_count": 13,
   "metadata": {},
   "outputs": [
    {
     "data": {
      "text/plain": [
       "2"
      ]
     },
     "execution_count": 13,
     "metadata": {},
     "output_type": "execute_result"
    }
   ],
   "source": [
    "s = \")))))()\"\n",
    "longestValidParentheses(s)"
   ]
  },
  {
   "cell_type": "code",
   "execution_count": null,
   "metadata": {},
   "outputs": [],
   "source": []
  }
 ],
 "metadata": {
  "kernelspec": {
   "display_name": "Python 3",
   "language": "python",
   "name": "python3"
  },
  "language_info": {
   "codemirror_mode": {
    "name": "ipython",
    "version": 3
   },
   "file_extension": ".py",
   "mimetype": "text/x-python",
   "name": "python",
   "nbconvert_exporter": "python",
   "pygments_lexer": "ipython3",
   "version": "3.8.3"
  }
 },
 "nbformat": 4,
 "nbformat_minor": 4
}

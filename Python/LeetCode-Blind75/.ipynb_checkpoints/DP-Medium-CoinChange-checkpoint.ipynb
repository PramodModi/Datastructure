{
 "cells": [
  {
   "cell_type": "markdown",
   "metadata": {},
   "source": [
    "## 322. Coin Change\n",
    "You are given an integer array coins representing coins of different denominations and an integer amount representing a total amount of money.\n",
    "\n",
    "Return the fewest number of coins that you need to make up that amount. If that amount of money cannot be made up by any combination of the coins, return -1.\n",
    "\n",
    "You may assume that you have an infinite number of each kind of coin.\n",
    "\n",
    " \n",
    "\n",
    "Example 1:\n",
    "\n",
    "Input: coins = [1,2,5], amount = 11\n",
    "\n",
    "Output: 3\n",
    "\n",
    "Explanation: 11 = 5 + 5 + 1\n",
    "\n",
    "Example 2:\n",
    "\n",
    "Input: coins = [2], amount = 3\n",
    "\n",
    "Output: -1\n",
    "\n",
    "Example 3:\n",
    "\n",
    "Input: coins = [1], amount = 0\n",
    "\n",
    "Output: 0\n",
    " \n",
    "\n",
    "Constraints:\n",
    "\n",
    "1 <= coins.length <= 12\n",
    "\n",
    "1 <= coins[i] <= 231 - 1\n",
    "\n",
    "0 <= amount <= 104"
   ]
  },
  {
   "cell_type": "code",
   "execution_count": 12,
   "metadata": {},
   "outputs": [],
   "source": [
    "def minNumberOfCoins(coins, amount):\n",
    "    if amount == 0:\n",
    "        return 0\n",
    "    \n",
    "    dp = [float(\"inf\")]*(amount+1)\n",
    "    dp[0] = 0\n",
    "    for c in coins:\n",
    "        for j in range(1, amount+1):\n",
    "            if c <= j:\n",
    "                dp[j] = min(1 + dp[j-c], dp[j])\n",
    "    return dp[-1] if dp[-1] != float(\"inf\") else -1"
   ]
  },
  {
   "cell_type": "code",
   "execution_count": 13,
   "metadata": {},
   "outputs": [
    {
     "data": {
      "text/plain": [
       "3"
      ]
     },
     "execution_count": 13,
     "metadata": {},
     "output_type": "execute_result"
    }
   ],
   "source": [
    "coins = [1,2,5]\n",
    "amount = 11\n",
    "minNumberOfCoins(coins, amount)"
   ]
  },
  {
   "cell_type": "code",
   "execution_count": 14,
   "metadata": {},
   "outputs": [
    {
     "data": {
      "text/plain": [
       "-1"
      ]
     },
     "execution_count": 14,
     "metadata": {},
     "output_type": "execute_result"
    }
   ],
   "source": [
    "coins = [2]\n",
    "amount = 3\n",
    "minNumberOfCoins(coins, amount)"
   ]
  },
  {
   "cell_type": "code",
   "execution_count": 15,
   "metadata": {},
   "outputs": [
    {
     "data": {
      "text/plain": [
       "0"
      ]
     },
     "execution_count": 15,
     "metadata": {},
     "output_type": "execute_result"
    }
   ],
   "source": [
    "coins = [1]\n",
    "amount = 0\n",
    "minNumberOfCoins(coins, amount)"
   ]
  },
  {
   "cell_type": "code",
   "execution_count": null,
   "metadata": {},
   "outputs": [],
   "source": []
  }
 ],
 "metadata": {
  "kernelspec": {
   "display_name": "Python 3",
   "language": "python",
   "name": "python3"
  },
  "language_info": {
   "codemirror_mode": {
    "name": "ipython",
    "version": 3
   },
   "file_extension": ".py",
   "mimetype": "text/x-python",
   "name": "python",
   "nbconvert_exporter": "python",
   "pygments_lexer": "ipython3",
   "version": "3.8.3"
  }
 },
 "nbformat": 4,
 "nbformat_minor": 4
}

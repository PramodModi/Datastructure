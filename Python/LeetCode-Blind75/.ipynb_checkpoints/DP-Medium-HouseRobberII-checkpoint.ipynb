{
 "cells": [
  {
   "cell_type": "markdown",
   "metadata": {},
   "source": [
    "## 213. House Robber II\n",
    "You are a professional robber planning to rob houses along a street. Each house has a certain amount of money stashed. All houses at this place are arranged in a circle. That means the first house is the neighbor of the last one. Meanwhile, adjacent houses have a security system connected, and it will automatically contact the police if two adjacent houses were broken into on the same night.\n",
    "\n",
    "Given an integer array nums representing the amount of money of each house, return the maximum amount of money you can rob tonight without alerting the police.\n",
    "\n",
    " \n",
    "\n",
    "Example 1:\n",
    "\n",
    "Input: nums = [2,3,2]\n",
    "\n",
    "Output: 3\n",
    "\n",
    "Explanation: You cannot rob house 1 (money = 2) and then rob house 3 (money = 2), because they are adjacent houses.\n",
    "\n",
    "Example 2:\n",
    "\n",
    "Input: nums = [1,2,3,1]\n",
    "\n",
    "Output: 4\n",
    "\n",
    "Explanation: Rob house 1 (money = 1) and then rob house 3 (money = 3).\n",
    "\n",
    "Total amount you can rob = 1 + 3 = 4.\n",
    "\n",
    "Example 3:\n",
    "\n",
    "Input: nums = [1,2,3]\n",
    "\n",
    "Output: 3\n",
    " \n",
    "\n",
    "Constraints:\n",
    "\n",
    "1 <= nums.length <= 100\n",
    "\n",
    "0 <= nums[i] <= 1000"
   ]
  },
  {
   "cell_type": "code",
   "execution_count": 5,
   "metadata": {},
   "outputs": [],
   "source": [
    "def houseRobberII(nums):\n",
    "    # As houses are circular. So selection of first house is difficult.\n",
    "    # Run the houserobber problem twice. First leave the first house, second leave the last house.\n",
    "    if len(nums) == 1:\n",
    "        return nums[0]\n",
    "    if len(nums) == 2:\n",
    "        return max(nums[0], nums[1])\n",
    "    return max(houseRobber(nums[1:]), houseRobber(nums[0:len(nums)-1]))\n",
    "\n",
    "def houseRobber(nums):\n",
    "    n = len(nums)\n",
    "    if n == 1:\n",
    "        return nums[0]\n",
    "    dp = [0] * n\n",
    "    dp[0] = nums[0]\n",
    "    dp[1] = max(nums[0], nums[1])\n",
    "    \n",
    "    for i in range(2, n):\n",
    "        dp[i] = max(dp[i-1], dp[i-2] + nums[i])\n",
    "    return dp[-1]\n",
    "    "
   ]
  },
  {
   "cell_type": "code",
   "execution_count": 6,
   "metadata": {},
   "outputs": [
    {
     "data": {
      "text/plain": [
       "3"
      ]
     },
     "execution_count": 6,
     "metadata": {},
     "output_type": "execute_result"
    }
   ],
   "source": [
    "nums = [2,3,2]\n",
    "houseRobberII(nums)"
   ]
  },
  {
   "cell_type": "code",
   "execution_count": 7,
   "metadata": {},
   "outputs": [
    {
     "data": {
      "text/plain": [
       "4"
      ]
     },
     "execution_count": 7,
     "metadata": {},
     "output_type": "execute_result"
    }
   ],
   "source": [
    "nums = [1,2,3,1]\n",
    "houseRobberII(nums)"
   ]
  },
  {
   "cell_type": "code",
   "execution_count": 8,
   "metadata": {},
   "outputs": [
    {
     "data": {
      "text/plain": [
       "3"
      ]
     },
     "execution_count": 8,
     "metadata": {},
     "output_type": "execute_result"
    }
   ],
   "source": [
    "nums = [1,2,3]\n",
    "houseRobberII(nums)"
   ]
  },
  {
   "cell_type": "code",
   "execution_count": null,
   "metadata": {},
   "outputs": [],
   "source": []
  }
 ],
 "metadata": {
  "kernelspec": {
   "display_name": "Python 3",
   "language": "python",
   "name": "python3"
  },
  "language_info": {
   "codemirror_mode": {
    "name": "ipython",
    "version": 3
   },
   "file_extension": ".py",
   "mimetype": "text/x-python",
   "name": "python",
   "nbconvert_exporter": "python",
   "pygments_lexer": "ipython3",
   "version": "3.8.3"
  }
 },
 "nbformat": 4,
 "nbformat_minor": 4
}

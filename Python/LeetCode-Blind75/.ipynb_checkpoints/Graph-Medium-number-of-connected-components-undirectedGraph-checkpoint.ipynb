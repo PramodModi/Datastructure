{
 "cells": [
  {
   "cell_type": "markdown",
   "metadata": {},
   "source": [
    "## 323 Graph: Number of connected components\n",
    "You have graph of n nodes. You have given an integer n and an array edges where edges[i] = [ai, bi], indicates that there is an edge between ai and bi in the graph. return the connected components in the graph.\n",
    "\n",
    "Example1:\n",
    "\n",
    "n = 5, edges = [[0,1], [1,2], [3,4]\n",
    "\n",
    "output: 2"
   ]
  },
  {
   "cell_type": "code",
   "execution_count": null,
   "metadata": {},
   "outputs": [],
   "source": [
    "def numberOfConnectedComponents(n, edges):\n",
    "    G = [[] for _ in range(n)]\n",
    "    for e in edges:\n",
    "        G[e[0]].append(e[1])\n",
    "        G[e[1]].append(e[0])\n",
    "    \n",
    "    "
   ]
  }
 ],
 "metadata": {
  "kernelspec": {
   "display_name": "Python 3",
   "language": "python",
   "name": "python3"
  },
  "language_info": {
   "codemirror_mode": {
    "name": "ipython",
    "version": 3
   },
   "file_extension": ".py",
   "mimetype": "text/x-python",
   "name": "python",
   "nbconvert_exporter": "python",
   "pygments_lexer": "ipython3",
   "version": "3.8.3"
  }
 },
 "nbformat": 4,
 "nbformat_minor": 4
}

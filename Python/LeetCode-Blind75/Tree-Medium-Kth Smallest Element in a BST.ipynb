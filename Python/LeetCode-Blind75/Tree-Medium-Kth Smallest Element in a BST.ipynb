{
 "cells": [
  {
   "cell_type": "markdown",
   "metadata": {},
   "source": [
    "## 230. Kth Smallest Element in a BST\n",
    "Given the root of a binary search tree, and an integer k, return the kth smallest value (1-indexed) of all the values of the nodes in the tree.\n",
    "\n",
    "Example 1:\n",
    "\n",
    "Input: root = [3,1,4,null,2], k = 1\n",
    "\n",
    "Output: 1\n",
    "\n",
    "Example 2:\n",
    "\n",
    "Input: root = [5,3,6,2,4,null,null,1], k = 3\n",
    "\n",
    "Output: 3\n",
    " \n",
    "Constraints:\n",
    "\n",
    "The number of nodes in the tree is n.\n",
    "\n",
    "1 <= k <= n <= 104\n",
    "\n",
    "0 <= Node.val <= 104\n"
   ]
  },
  {
   "cell_type": "code",
   "execution_count": null,
   "metadata": {},
   "outputs": [],
   "source": [
    "# Definition for a binary tree node.\n",
    "# class TreeNode(object):\n",
    "#     def __init__(self, val=0, left=None, right=None):\n",
    "#         self.val = val\n",
    "#         self.left = left\n",
    "#         self.right = right\n",
    "class Solution(object):\n",
    "    ans = None\n",
    "    count = None\n",
    "    def kthSmallest(self, root, k):\n",
    "        self.count = k\n",
    "        self.inorder(root)\n",
    "        return self.ans\n",
    "    def inorder(self, root):\n",
    "        if root:\n",
    "            self.inorder(root.left)\n",
    "            self.count -= 1\n",
    "            if self.count == 0:\n",
    "                self.ans =  root.val\n",
    "                return\n",
    "            else:\n",
    "                self.inorder(root.right)"
   ]
  }
 ],
 "metadata": {
  "kernelspec": {
   "display_name": "Python 3",
   "language": "python",
   "name": "python3"
  },
  "language_info": {
   "codemirror_mode": {
    "name": "ipython",
    "version": 3
   },
   "file_extension": ".py",
   "mimetype": "text/x-python",
   "name": "python",
   "nbconvert_exporter": "python",
   "pygments_lexer": "ipython3",
   "version": "3.8.3"
  }
 },
 "nbformat": 4,
 "nbformat_minor": 4
}

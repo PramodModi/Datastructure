{
 "cells": [
  {
   "cell_type": "markdown",
   "metadata": {},
   "source": [
    "## 3. Longest Substring Without Repeating Characters\n",
    "\n",
    "Given a string s, find the length of the longest substring without repeating characters.\n",
    "\n",
    " \n",
    "\n",
    "Example 1:\n",
    "\n",
    "Input: s = \"abcabcbb\"\n",
    "\n",
    "Output: 3\n",
    "\n",
    "Explanation: The answer is \"abc\", with the length of 3.\n",
    "\n",
    "Example 2:\n",
    "\n",
    "Input: s = \"bbbbb\"\n",
    "\n",
    "Output: 1\n",
    "\n",
    "Explanation: The answer is \"b\", with the length of 1.\n",
    "\n",
    "Example 3:\n",
    "\n",
    "Input: s = \"pwwkew\"\n",
    "\n",
    "Output: 3\n",
    "\n",
    "Explanation: The answer is \"wke\", with the length of 3.\n",
    "\n",
    "Notice that the answer must be a substring, \"pwke\" is a subsequence and not a substring.\n",
    " \n",
    "\n",
    "Constraints:\n",
    "\n",
    "0 <= s.length <= 5 * 104\n",
    "s consists of English letters, digits, symbols and spaces."
   ]
  },
  {
   "cell_type": "code",
   "execution_count": 5,
   "metadata": {},
   "outputs": [],
   "source": [
    "## Two approaches:\n",
    "## Approach 1\n",
    "## Take two pointers left and right. Start the right pointer from 0th position, and keep left at 0th only.\n",
    "## Right pointer will keep moving (increase by 1)and store the characters in hashmap.\n",
    "## If the same character appears again in the string, then count of that character will increase in hashmap but \n",
    "## length of hashmap will not increase. Compare the length (right-left +1) with length of hashmap. If length \n",
    "## is more than length of hashmap that means, there is repeating characters in the current window.\n",
    "## So, move the left pointers (increase by 1), and keep reducing the charcters count in hashmap. Once character\n",
    "## count is zero, then remove it from hashmap. It will reduce the length of hashmap.\n",
    "## If length (right-left+1) is equal to length of hashmap, that means there is no repeating chacter in the \n",
    "## current window, so update the maxlength.\n",
    "## Keep doing the same for all characters in the string.\n",
    "\n",
    "\n",
    "def longestSubstringWithoutRepeatingChars1(string):\n",
    "    if len(string)==0:\n",
    "        return 0\n",
    "    right = 0\n",
    "    left = 0\n",
    "    temp = {}\n",
    "    length = 0\n",
    "    while right < len(string):\n",
    "        s = string[right]\n",
    "        temp[s] = temp.get(s, 0)+ 1\n",
    "        \n",
    "        while (right-left+1) > len(temp):\n",
    "            \n",
    "            s = string[left]\n",
    "            if s in temp:\n",
    "                temp[s] -= 1\n",
    "                if temp[s] == 0:\n",
    "                    temp.pop(s)\n",
    "            left += 1\n",
    "        if len(temp) == (right-left+1):\n",
    "            l = right - left + 1\n",
    "            length = max(length, l)\n",
    "        right += 1\n",
    "    return length  "
   ]
  },
  {
   "cell_type": "code",
   "execution_count": 6,
   "metadata": {},
   "outputs": [
    {
     "data": {
      "text/plain": [
       "3"
      ]
     },
     "execution_count": 6,
     "metadata": {},
     "output_type": "execute_result"
    }
   ],
   "source": [
    "string = \"abcabcbb\"\n",
    "longestSubstringWithoutRepeatingChars1(string)"
   ]
  },
  {
   "cell_type": "code",
   "execution_count": 1,
   "metadata": {},
   "outputs": [],
   "source": [
    "## Approach 2\n",
    "## Here keep updating the position of characters in the hashmap. But before doing it store th maxLength.\n",
    "## If there is repeating character in the hashmap, then left position will be updated with the position+1 \n",
    "## of that character.\n",
    "## If there is new character which is not yet stored in the hashmap, then left position is same as earlier one\n",
    "## it will update the maxlength, as (right - left+1) is more than earlier value.\n",
    "\n",
    "def longestSubstringWithoutRepeatingChars2(string):\n",
    "    temp = {}\n",
    "    length = 0\n",
    "    left, right = 0, 0\n",
    "    while right < len(string):\n",
    "        s = string[right]\n",
    "        if s in temp:\n",
    "            left = max(left, temp[s]+1)\n",
    "        if right - left + 1 > length:\n",
    "            length = right-left+1\n",
    "        temp[s] = right\n",
    "        right += 1\n",
    "    return length"
   ]
  },
  {
   "cell_type": "code",
   "execution_count": 2,
   "metadata": {},
   "outputs": [
    {
     "data": {
      "text/plain": [
       "3"
      ]
     },
     "execution_count": 2,
     "metadata": {},
     "output_type": "execute_result"
    }
   ],
   "source": [
    "string = \"abcabcbb\"\n",
    "longestSubstringWithoutRepeatingChars2(string)"
   ]
  },
  {
   "cell_type": "code",
   "execution_count": 3,
   "metadata": {},
   "outputs": [
    {
     "data": {
      "text/plain": [
       "3"
      ]
     },
     "execution_count": 3,
     "metadata": {},
     "output_type": "execute_result"
    }
   ],
   "source": [
    "string = \"pwwkew\"\n",
    "longestSubstringWithoutRepeatingChars2(string)"
   ]
  },
  {
   "cell_type": "code",
   "execution_count": null,
   "metadata": {},
   "outputs": [],
   "source": []
  }
 ],
 "metadata": {
  "kernelspec": {
   "display_name": "Python 3",
   "language": "python",
   "name": "python3"
  },
  "language_info": {
   "codemirror_mode": {
    "name": "ipython",
    "version": 3
   },
   "file_extension": ".py",
   "mimetype": "text/x-python",
   "name": "python",
   "nbconvert_exporter": "python",
   "pygments_lexer": "ipython3",
   "version": "3.8.3"
  }
 },
 "nbformat": 4,
 "nbformat_minor": 4
}

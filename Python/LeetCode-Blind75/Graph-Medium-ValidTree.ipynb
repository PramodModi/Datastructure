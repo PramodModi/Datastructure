{
 "cells": [
  {
   "cell_type": "markdown",
   "metadata": {},
   "source": [
    "## 261 Graph valid Tree\n",
    "Given n nodes labeled from 0 to n - 1 and a list of undirected edges (each edge is a pair of nodes), write a function to check whether these edges make up a valid tree.\n",
    "\n",
    "For example:\n",
    "\n",
    "Given n = 5 and edges = [[0, 1], [0, 2], [0, 3], [1, 4]], return true.\n",
    "\n",
    "Given n = 5 and edges = [[0, 1], [1, 2], [2, 3], [1, 3], [1, 4]], return false.\n",
    "\n",
    "Note: you can assume that no duplicate edges will appear in edges. Since all edges are undirected, [0, 1] is the same as [1, 0] and thus will not appear together in edges."
   ]
  },
  {
   "cell_type": "code",
   "execution_count": 71,
   "metadata": {},
   "outputs": [],
   "source": [
    "##This is an undirected map, so in-degree methods is not very suitable\n",
    "## Better to use bfs in this case. Queue will have two entry for nodes, if there is cycle.\n",
    "import queue\n",
    "def graphValidTree(n,edges):\n",
    "    G = [[] for _ in range(n)]\n",
    "    for e in edges:\n",
    "        G[e[0]].append(e[1])\n",
    "        G[e[1]].append(e[0])\n",
    "    visited = [False] * n\n",
    "    \n",
    "    Q = queue.Queue()\n",
    "    Q.put(0)\n",
    "    while not Q.empty():\n",
    "        node = Q.get()\n",
    "        if visited[node]:\n",
    "            return False\n",
    "        visited[node] = True\n",
    "        for n in G[node]:\n",
    "            if visited[n]:\n",
    "                continue\n",
    "            Q.put(n)\n",
    "    return True\n",
    "            "
   ]
  },
  {
   "cell_type": "code",
   "execution_count": 72,
   "metadata": {},
   "outputs": [
    {
     "data": {
      "text/plain": [
       "True"
      ]
     },
     "execution_count": 72,
     "metadata": {},
     "output_type": "execute_result"
    }
   ],
   "source": [
    "n = 5\n",
    "edges = [[0, 1], [0, 2], [0, 3], [1, 4]]\n",
    "graphValidTree(n,edges)"
   ]
  },
  {
   "cell_type": "code",
   "execution_count": 73,
   "metadata": {},
   "outputs": [
    {
     "data": {
      "text/plain": [
       "False"
      ]
     },
     "execution_count": 73,
     "metadata": {},
     "output_type": "execute_result"
    }
   ],
   "source": [
    "n = 5\n",
    "edges = [[0, 1], [1, 2], [2, 3], [1, 3], [1, 4]]\n",
    "graphValidTree(n,edges)"
   ]
  },
  {
   "cell_type": "code",
   "execution_count": null,
   "metadata": {},
   "outputs": [],
   "source": []
  }
 ],
 "metadata": {
  "kernelspec": {
   "display_name": "Python 3",
   "language": "python",
   "name": "python3"
  },
  "language_info": {
   "codemirror_mode": {
    "name": "ipython",
    "version": 3
   },
   "file_extension": ".py",
   "mimetype": "text/x-python",
   "name": "python",
   "nbconvert_exporter": "python",
   "pygments_lexer": "ipython3",
   "version": "3.8.3"
  }
 },
 "nbformat": 4,
 "nbformat_minor": 4
}

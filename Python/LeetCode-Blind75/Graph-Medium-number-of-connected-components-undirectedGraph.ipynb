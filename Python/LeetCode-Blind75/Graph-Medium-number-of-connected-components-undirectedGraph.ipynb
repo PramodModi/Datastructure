{
 "cells": [
  {
   "cell_type": "markdown",
   "metadata": {},
   "source": [
    "## 323 Graph: Number of connected components\n",
    "You have graph of n nodes. You have given an integer n and an array edges where edges[i] = [ai, bi], indicates that there is an edge between ai and bi in the graph. return the connected components in the graph.\n",
    "\n",
    "Example1:\n",
    "\n",
    "n = 5, edges = [[0,1], [1,2], [3,4]]\n",
    "\n",
    "output: 2"
   ]
  },
  {
   "cell_type": "code",
   "execution_count": 12,
   "metadata": {},
   "outputs": [],
   "source": [
    "def numberOfConnectedComponents(n, edges):\n",
    "    G = [[] for _ in range(n)]\n",
    "    for e in edges:\n",
    "        G[e[0]].append(e[1])\n",
    "        G[e[1]].append(e[0])\n",
    "    \n",
    "    visited = [False]*n\n",
    "    count = 0\n",
    "    \n",
    "    for i in range(n):\n",
    "        if not visited[i]:\n",
    "            count += 1\n",
    "            dfs(i, G, visited)\n",
    "            \n",
    "    return count\n",
    "\n",
    "def dfs(node, G, visited):\n",
    "    if visited[node]:\n",
    "        return\n",
    "    visited[node] = True\n",
    "    for n in G[node]:\n",
    "        if visited[n]:\n",
    "            continue\n",
    "        dfs(n, G, visited)\n",
    "        "
   ]
  },
  {
   "cell_type": "code",
   "execution_count": 13,
   "metadata": {},
   "outputs": [
    {
     "data": {
      "text/plain": [
       "2"
      ]
     },
     "execution_count": 13,
     "metadata": {},
     "output_type": "execute_result"
    }
   ],
   "source": [
    "n = 5\n",
    "edges = [[0,1], [1,2], [3,4]]\n",
    "numberOfConnectedComponents(n, edges)"
   ]
  },
  {
   "cell_type": "code",
   "execution_count": 14,
   "metadata": {},
   "outputs": [
    {
     "data": {
      "text/plain": [
       "1"
      ]
     },
     "execution_count": 14,
     "metadata": {},
     "output_type": "execute_result"
    }
   ],
   "source": [
    "n = 5\n",
    "edges = [[0,1], [1,2], [3,4], [4,0]]\n",
    "numberOfConnectedComponents(n, edges)"
   ]
  },
  {
   "cell_type": "code",
   "execution_count": 15,
   "metadata": {},
   "outputs": [
    {
     "data": {
      "text/plain": [
       "3"
      ]
     },
     "execution_count": 15,
     "metadata": {},
     "output_type": "execute_result"
    }
   ],
   "source": [
    "n = 9\n",
    "edges = [[0,1], [1,2], [3,4], [4,0], [5,6], [7,8]]\n",
    "numberOfConnectedComponents(n, edges)"
   ]
  },
  {
   "cell_type": "code",
   "execution_count": 17,
   "metadata": {},
   "outputs": [
    {
     "data": {
      "text/plain": [
       "3"
      ]
     },
     "execution_count": 17,
     "metadata": {},
     "output_type": "execute_result"
    }
   ],
   "source": [
    "n = 7\n",
    "edges = [[0,1], [2,3], [3,4], [4,2], [5,6]]\n",
    "numberOfConnectedComponents(n, edges)"
   ]
  },
  {
   "cell_type": "code",
   "execution_count": 18,
   "metadata": {},
   "outputs": [
    {
     "data": {
      "text/plain": [
       "3"
      ]
     },
     "execution_count": 18,
     "metadata": {},
     "output_type": "execute_result"
    }
   ],
   "source": [
    "n = 7\n",
    "edges = [[0,1], [2,3], [4,5],[5,6]]\n",
    "numberOfConnectedComponents(n, edges)"
   ]
  },
  {
   "cell_type": "code",
   "execution_count": null,
   "metadata": {},
   "outputs": [],
   "source": []
  }
 ],
 "metadata": {
  "kernelspec": {
   "display_name": "Python 3",
   "language": "python",
   "name": "python3"
  },
  "language_info": {
   "codemirror_mode": {
    "name": "ipython",
    "version": 3
   },
   "file_extension": ".py",
   "mimetype": "text/x-python",
   "name": "python",
   "nbconvert_exporter": "python",
   "pygments_lexer": "ipython3",
   "version": "3.8.3"
  }
 },
 "nbformat": 4,
 "nbformat_minor": 4
}

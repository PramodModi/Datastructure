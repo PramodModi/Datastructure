{
 "cells": [
  {
   "cell_type": "markdown",
   "metadata": {},
   "source": [
    "## 572 Subtree of Another Tree\n",
    "\n",
    "Given the roots of two binary trees root and subRoot, return true if there is a subtree of root with the same structure and node values of subRoot and false otherwise.\n",
    "\n",
    "A subtree of a binary tree tree is a tree that consists of a node in tree and all of this node's descendants. The tree tree could also be considered as a subtree of itself.\n",
    "\n",
    "Exaple 1:\n",
    "\n",
    "Input: \n",
    "\n",
    "root = [3,4,5,1,2], subRoot = [4,1,2]\n",
    "\n",
    "Output: true\n",
    "\n",
    "Example2:\n",
    "\n",
    "Input: \n",
    "root = [3,4,5,1,2,null,null,null,null,0], subRoot = [4,1,2]\n",
    "\n",
    "Output: false\n",
    "\n",
    "Constraints:\n",
    "\n",
    "The number of nodes in the root tree is in the range [1, 2000].\n",
    "\n",
    "The number of nodes in the subRoot tree is in the range [1, 1000].\n",
    "\n",
    "-104 <= root.val <= 104\n",
    "\n",
    "-104 <= subRoot.val <= 104"
   ]
  },
  {
   "cell_type": "code",
   "execution_count": 1,
   "metadata": {},
   "outputs": [],
   "source": [
    "# Definition for a binary tree node.\n",
    "# class TreeNode(object):\n",
    "#     def __init__(self, val=0, left=None, right=None):\n",
    "#         self.val = val\n",
    "#         self.left = left\n",
    "#         self.right = right\n",
    "\n",
    "class Solution(object):\n",
    "    def isSubtree(self, root, subRoot):\n",
    "        if not subRoot:\n",
    "            return True\n",
    "        return self.findSubRoot(root, subRoot)\n",
    "    \n",
    "    def findSubRoot(self, root, subRoot):\n",
    "        if root is None:\n",
    "            return None\n",
    "        if root.val == subRoot.val and self.checkSubTree(root, subRoot):\n",
    "            return True\n",
    "        return self.findSubRoot(root.left, subRoot) or self.findSubRoot(root.right, subRoot)\n",
    "        \n",
    "    def checkSubTree(self, root, subRoot):\n",
    "        if root is None and subRoot is None:\n",
    "            return True\n",
    "        if root is None and subRoot is not None:\n",
    "            return False\n",
    "        if root is not None and subRoot is None:\n",
    "            return False\n",
    "        if root.val == subRoot.val and self.checkSubTree(root.left, subRoot.left) and self.checkSubTree(root.right, subRoot.right):\n",
    "            return True\n",
    "        else:\n",
    "            return False"
   ]
  },
  {
   "cell_type": "code",
   "execution_count": null,
   "metadata": {},
   "outputs": [],
   "source": []
  }
 ],
 "metadata": {
  "kernelspec": {
   "display_name": "Python 3",
   "language": "python",
   "name": "python3"
  },
  "language_info": {
   "codemirror_mode": {
    "name": "ipython",
    "version": 3
   },
   "file_extension": ".py",
   "mimetype": "text/x-python",
   "name": "python",
   "nbconvert_exporter": "python",
   "pygments_lexer": "ipython3",
   "version": "3.8.3"
  }
 },
 "nbformat": 4,
 "nbformat_minor": 4
}

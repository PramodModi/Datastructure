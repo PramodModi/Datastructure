{
 "cells": [
  {
   "cell_type": "markdown",
   "metadata": {},
   "source": [
    "## 33. Search in Rotated Sorted Array\n",
    "There is an integer array nums sorted in ascending order (with distinct values).\n",
    "\n",
    "Prior to being passed to your function, nums is possibly rotated at an unknown pivot index k (1 <= k < nums.length) such that the resulting array is [nums[k], nums[k+1], ..., nums[n-1], nums[0], nums[1], ..., nums[k-1]] (0-indexed). \n",
    "For example, [0,1,2,4,5,6,7] might be rotated at pivot index 3 and become [4,5,6,7,0,1,2].\n",
    "\n",
    "Given the array nums after the possible rotation and an integer target, return the index of target if it is in nums, or -1 if it is not in nums.\n",
    "\n",
    "You must write an algorithm with O(log n) runtime complexity.\n",
    "\n",
    " \n",
    "\n",
    "Example 1:\n",
    "\n",
    "Input: nums = [4,5,6,7,0,1,2], target = 0\n",
    "\n",
    "Output: 4\n",
    "\n",
    "Example 2:\n",
    "\n",
    "Input: nums = [4,5,6,7,0,1,2], target = 3\n",
    "\n",
    "Output: -1\n",
    "\n",
    "Example 3:\n",
    "\n",
    "Input: nums = [1], target = 0\n",
    "\n",
    "Output: -1\n",
    " \n",
    "\n",
    "Constraints:\n",
    "\n",
    "1 <= nums.length <= 5000\n",
    "\n",
    "-104 <= nums[i] <= 104\n",
    "\n",
    "All values of nums are unique.\n",
    "nums is an ascending array that is possibly rotated.\n",
    "\n",
    "-104 <= target <= 104"
   ]
  },
  {
   "cell_type": "code",
   "execution_count": 11,
   "metadata": {},
   "outputs": [],
   "source": [
    "def search(nums, target):\n",
    "    l = 0\n",
    "    r = len(nums)-1\n",
    "    \n",
    "    while l < r:\n",
    "        mid = l + (r-l)//2\n",
    "        if nums[mid] == target:\n",
    "            return mid\n",
    "        if nums[mid] < nums[l]:\n",
    "            if target <= nums[r] and target>nums[mid]:\n",
    "                l = mid+1\n",
    "            else:\n",
    "                r = mid-1\n",
    "        elif nums[mid] > nums[r]:\n",
    "            if target>= nums[l] and target<nums[mid]:\n",
    "                r = mid-1\n",
    "            else:\n",
    "                l = mid+1\n",
    "        else:\n",
    "            if target<nums[mid]:\n",
    "                r = mid-1\n",
    "            else:\n",
    "                l = mid+1\n",
    "                \n",
    "    return l if nums[l]==target else -1"
   ]
  },
  {
   "cell_type": "code",
   "execution_count": 12,
   "metadata": {},
   "outputs": [
    {
     "data": {
      "text/plain": [
       "4"
      ]
     },
     "execution_count": 12,
     "metadata": {},
     "output_type": "execute_result"
    }
   ],
   "source": [
    "nums = [4,5,6,7,0,1,2]\n",
    "target = 0\n",
    "search(nums, target)"
   ]
  }
 ],
 "metadata": {
  "kernelspec": {
   "display_name": "Python 3",
   "language": "python",
   "name": "python3"
  },
  "language_info": {
   "codemirror_mode": {
    "name": "ipython",
    "version": 3
   },
   "file_extension": ".py",
   "mimetype": "text/x-python",
   "name": "python",
   "nbconvert_exporter": "python",
   "pygments_lexer": "ipython3",
   "version": "3.8.3"
  }
 },
 "nbformat": 4,
 "nbformat_minor": 4
}

{
 "cells": [
  {
   "cell_type": "markdown",
   "metadata": {},
   "source": [
    "## 269: Alien Dictionary\n",
    "There is a new alien language which uses the latin alphabet. However, the order among letters are unknown to you. You are given a list of words from alien language dictionary, where strings in words are sorted lexicographically by the rules of this new language.\n",
    "Return string of the unique letters in the new alien language sorted in lexicographically increasing order by the rules of this new language. If there is no solution return \"\". If there are multiple solutions return any one.\n",
    "\n",
    "A string s is lexicographically smaller than a string t if at the first letter where they differ, the letter in s comes before letter in t in alien language. If the first min(s.length, t.length) letters are same then s si smaller if and only if s.length < t.length\n",
    "\n",
    "example:\n",
    "\n",
    "input : words = [\"wrt\", \"wrf\", \"er\", \"ett\", \"rftt\"]\n",
    "output: wertf"
   ]
  },
  {
   "cell_type": "code",
   "execution_count": 5,
   "metadata": {},
   "outputs": [],
   "source": [
    "def alienDictionary(words):\n",
    "    edges = {l: set() for word in words for l in word}\n",
    "    for i in range(len(words) - 1):\n",
    "        word1, word2 = words[i], words[i+1]\n",
    "        minLength = min(len(word1), len(word2))\n",
    "        if word1[:minLength] == word2[:minLength] and len(word1) > len(word2):\n",
    "            return \" \"\n",
    "        for i in range(minLength):\n",
    "            if word1[i]!= word2[i]:\n",
    "                edges[word1[i]].add(word2[i])\n",
    "    #print(edges)\n",
    "    \n",
    "    return topologicalSort(edges)\n",
    "\n",
    "def topologicalSort(edges):\n",
    "    visited = {}\n",
    "    res = []\n",
    "    for c in edges:\n",
    "        if dfs(c, visited, res, edges):  # That means cyclic graph\n",
    "            return \"\"\n",
    "    res.reverse()\n",
    "    return \"\".join(res)\n",
    "\n",
    "def dfs(v, visited, res, edges):\n",
    "    if v in visited:\n",
    "        return visited[v]\n",
    "    visited[v] = True\n",
    "    for ngbr in edges[v]:\n",
    "        if dfs(ngbr, visited, res, edges):\n",
    "            return True\n",
    "    visited[v] = False\n",
    "    res.append(v)\n",
    "    \n",
    "    \n",
    "        \n",
    "    "
   ]
  },
  {
   "cell_type": "code",
   "execution_count": 6,
   "metadata": {},
   "outputs": [
    {
     "data": {
      "text/plain": [
       "'wertf'"
      ]
     },
     "execution_count": 6,
     "metadata": {},
     "output_type": "execute_result"
    }
   ],
   "source": [
    "words = [\"wrt\", \"wrf\", \"er\", \"ett\", \"rftt\"] \n",
    "alienDictionary(words)"
   ]
  }
 ],
 "metadata": {
  "kernelspec": {
   "display_name": "Python 3",
   "language": "python",
   "name": "python3"
  },
  "language_info": {
   "codemirror_mode": {
    "name": "ipython",
    "version": 3
   },
   "file_extension": ".py",
   "mimetype": "text/x-python",
   "name": "python",
   "nbconvert_exporter": "python",
   "pygments_lexer": "ipython3",
   "version": "3.8.3"
  }
 },
 "nbformat": 4,
 "nbformat_minor": 4
}

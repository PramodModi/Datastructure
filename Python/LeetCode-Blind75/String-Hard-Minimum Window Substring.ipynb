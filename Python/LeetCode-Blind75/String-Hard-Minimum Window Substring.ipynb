{
 "cells": [
  {
   "cell_type": "markdown",
   "metadata": {},
   "source": [
    "## 76. Minimum Window Substring\n",
    "Given two strings s and t of lengths m and n respectively, return the minimum window substring of s such that every character in t (including duplicates) is included in the window. If there is no such substring, return the empty string \"\".\n",
    "\n",
    "The testcases will be generated such that the answer is unique.\n",
    "\n",
    "A substring is a contiguous sequence of characters within the string.\n",
    "\n",
    " \n",
    "\n",
    "Example 1:\n",
    "\n",
    "Input: s = \"ADOBECODEBANC\", t = \"ABC\"\n",
    "\n",
    "Output: \"BANC\"\n",
    "\n",
    "Explanation: The minimum window substring \"BANC\" includes 'A', 'B', and 'C' from string t.\n",
    "\n",
    "Example 2:\n",
    "\n",
    "Input: s = \"a\", t = \"a\"\n",
    "\n",
    "Output: \"a\"\n",
    "\n",
    "Explanation: The entire string s is the minimum window.\n",
    "\n",
    "Example 3:\n",
    "\n",
    "Input: s = \"a\", t = \"aa\"\n",
    "\n",
    "Output: \"\"\n",
    "\n",
    "Explanation: Both 'a's from t must be included in the window.\n",
    "Since the largest window of s only has one 'a', return empty string.\n",
    " \n",
    "\n",
    "Constraints:\n",
    "\n",
    "m == s.length\n",
    "\n",
    "n == t.length\n",
    "\n",
    "1 <= m, n <= 105\n",
    "\n",
    "s and t consist of uppercase and lowercase English letters."
   ]
  },
  {
   "cell_type": "code",
   "execution_count": 7,
   "metadata": {},
   "outputs": [],
   "source": [
    "def minWindowSubstring(s,t):\n",
    "    \n",
    "    if len(t) > len(s):\n",
    "        return \"\"\n",
    "    temp = {}\n",
    "    for e in t :\n",
    "        temp[e] = temp.get(e, 0) + 1\n",
    "        \n",
    "    left, right = 0,0\n",
    "    minSubStringLength = float(\"inf\")\n",
    "    remainingChars = len(temp)\n",
    "    minLeftIdx, minRightIdx = 0, 0\n",
    "    \n",
    "    while right < len(s):\n",
    "        e = s[right]\n",
    "        if e in temp:\n",
    "            temp[e] -= 1\n",
    "            if temp[e] == 0:\n",
    "                remainingChars -= 1\n",
    "        while remainingChars == 0:\n",
    "            e = s[left]\n",
    "            if e in temp:\n",
    "                temp[e] += 1\n",
    "                if temp[e] == 1:\n",
    "                    remainingChars += 1\n",
    "            \n",
    "            if right-left+1 < minSubStringLength:\n",
    "                minSubStringLength = right-left+1\n",
    "                minLeftIdx = left\n",
    "                minRightIdx = right\n",
    "            left += 1\n",
    "        right += 1\n",
    "    return s[minLeftIdx:minRightIdx+1]"
   ]
  },
  {
   "cell_type": "code",
   "execution_count": 8,
   "metadata": {},
   "outputs": [
    {
     "data": {
      "text/plain": [
       "'BANC'"
      ]
     },
     "execution_count": 8,
     "metadata": {},
     "output_type": "execute_result"
    }
   ],
   "source": [
    "minWindowSubstring(\"ADOBECODEBANC\",\"ABC\")"
   ]
  },
  {
   "cell_type": "code",
   "execution_count": null,
   "metadata": {},
   "outputs": [],
   "source": []
  }
 ],
 "metadata": {
  "kernelspec": {
   "display_name": "Python 3",
   "language": "python",
   "name": "python3"
  },
  "language_info": {
   "codemirror_mode": {
    "name": "ipython",
    "version": 3
   },
   "file_extension": ".py",
   "mimetype": "text/x-python",
   "name": "python",
   "nbconvert_exporter": "python",
   "pygments_lexer": "ipython3",
   "version": "3.8.3"
  }
 },
 "nbformat": 4,
 "nbformat_minor": 4
}

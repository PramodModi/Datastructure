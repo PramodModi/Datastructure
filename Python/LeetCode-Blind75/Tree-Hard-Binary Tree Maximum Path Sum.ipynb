{
 "cells": [
  {
   "cell_type": "markdown",
   "metadata": {},
   "source": [
    "## 124. Binary Tree Maximum Path Sum\n",
    "A path in a binary tree is a sequence of nodes where each pair of adjacent nodes in the sequence has an edge connecting them. A node can only appear in the sequence at most once. Note that the path does not need to pass through the root.\n",
    "\n",
    "The path sum of a path is the sum of the node's values in the path.\n",
    "\n",
    "Given the root of a binary tree, return the maximum path sum of any non-empty path.\n",
    "\n",
    "Example 1:\n",
    "\n",
    "Input: root = [1,2,3]\n",
    "\n",
    "Output: 6\n",
    "\n",
    "Explanation: The optimal path is 2 -> 1 -> 3 with a path sum of 2 + 1 + 3 = 6.\n",
    "\n",
    "Example 2:\n",
    "\n",
    "Input: root = [-10,9,20,null,null,15,7]\n",
    "\n",
    "Output: 42\n",
    "\n",
    "Explanation: The optimal path is 15 -> 20 -> 7 with a path sum of 15 + 20 + 7 = 42.\n",
    " \n",
    "\n",
    "Constraints:\n",
    "\n",
    "The number of nodes in the tree is in the range [1, 3 * 104].\n",
    "\n",
    "-1000 <= Node.val <= 1000"
   ]
  },
  {
   "cell_type": "code",
   "execution_count": null,
   "metadata": {},
   "outputs": [],
   "source": [
    "# Definition for a binary tree node.\n",
    "# class TreeNode(object):\n",
    "#     def __init__(self, val=0, left=None, right=None):\n",
    "#         self.val = val\n",
    "#         self.left = left\n",
    "#         self.right = right\n",
    "        \n",
    "class Solution(object):\n",
    "    def maxPathSum(self, root):\n",
    "        \"\"\"\n",
    "        :type root: TreeNode\n",
    "        :rtype: int\n",
    "        \"\"\"\n",
    "        _, maxSum = self.getMaxSumPath(root)\n",
    "        return maxSum\n",
    "    \n",
    "    def getMaxSumPath(self, root):\n",
    "        if root is None:\n",
    "            return (float(\"-inf\"), float(\"-inf\"))\n",
    "        leftBranchSum, maxSumLeft = self.getMaxSumPath(root.left)\n",
    "        rightBranchSum, maxSumRight = self.getMaxSumPath(root.right)\n",
    "        branchSum = max(leftBranchSum, rightBranchSum)\n",
    "        maxBranchSum = max(branchSum + root.val, root.val)\n",
    "        \n",
    "        maxSum = max(leftBranchSum + rightBranchSum + root.val, maxBranchSum)\n",
    "        maxSum = max(maxSum, maxSumLeft, maxSumRight)\n",
    "        return (maxBranchSum, maxSum)"
   ]
  }
 ],
 "metadata": {
  "kernelspec": {
   "display_name": "Python 3",
   "language": "python",
   "name": "python3"
  },
  "language_info": {
   "codemirror_mode": {
    "name": "ipython",
    "version": 3
   },
   "file_extension": ".py",
   "mimetype": "text/x-python",
   "name": "python",
   "nbconvert_exporter": "python",
   "pygments_lexer": "ipython3",
   "version": "3.8.3"
  }
 },
 "nbformat": 4,
 "nbformat_minor": 4
}

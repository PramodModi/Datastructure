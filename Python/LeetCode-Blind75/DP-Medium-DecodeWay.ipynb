{
 "cells": [
  {
   "cell_type": "markdown",
   "metadata": {},
   "source": [
    "## 91. Decode Ways\n",
    "A message containing letters from A-Z can be encoded into numbers using the following mapping:\n",
    "\n",
    "'A' -> \"1\"\n",
    "\n",
    "'B' -> \"2\"\n",
    "...\n",
    "\n",
    "'Z' -> \"26\"\n",
    "\n",
    "To decode an encoded message, all the digits must be grouped then mapped back into letters using the reverse of the mapping above (there may be multiple ways). For example, \"11106\" can be mapped into:\n",
    "\n",
    "\"AAJF\" with the grouping (1 1 10 6)\n",
    "\n",
    "\"KJF\" with the grouping (11 10 6)\n",
    "\n",
    "Note that the grouping (1 11 06) is invalid because \"06\" cannot be mapped into 'F' since \"6\" is different from \"06\".\n",
    "\n",
    "Given a string s containing only digits, return the number of ways to decode it.\n",
    "\n",
    "The test cases are generated so that the answer fits in a 32-bit integer.\n",
    "\n",
    " \n",
    "\n",
    "Example 1:\n",
    "\n",
    "Input: s = \"12\"\n",
    "\n",
    "Output: 2\n",
    "\n",
    "Explanation: \"12\" could be decoded as \"AB\" (1 2) or \"L\" (12).\n",
    "\n",
    "Example 2:\n",
    "\n",
    "Input: s = \"226\"\n",
    "\n",
    "Output: 3\n",
    "\n",
    "Explanation: \"226\" could be decoded as \"BZ\" (2 26), \"VF\" (22 6), or \"BBF\" (2 2 6).\n",
    "\n",
    "Example 3:\n",
    "\n",
    "Input: s = \"06\"\n",
    "\n",
    "Output: 0\n",
    "\n",
    "Explanation: \"06\" cannot be mapped to \"F\" because of the leading zero (\"6\" is different from \"06\").\n",
    " \n",
    "\n",
    "Constraints:\n",
    "\n",
    "1 <= s.length <= 100\n",
    "\n",
    "s contains only digits and may contain leading zero(s)."
   ]
  },
  {
   "cell_type": "code",
   "execution_count": 26,
   "metadata": {},
   "outputs": [],
   "source": [
    "## Similar to staircase problem.\n",
    "# To handle \"0\" problem, take extra length of dp and basecase dp[0] = 1\n",
    "# example: 123\n",
    "### for single digit, \"1 2 3\" =1\n",
    "### for two digits, \"1 23\" and \"12 3\" \n",
    "#### Either take 1 stair or take 2 stairs.\n",
    "\n",
    "def decodeWays(s):\n",
    "    if not s or s[0] == \"0\":\n",
    "        return 0\n",
    "    n = len(s)\n",
    "    dp = [0] * (n+1)\n",
    "    \n",
    "    dp[0] = 1\n",
    "    dp[1] = 1\n",
    "    \n",
    "    for i in range(2, n+1):\n",
    "        if 0 < int(s[i-1:i])<10:\n",
    "            dp[i] = dp[i] + dp[i-1]\n",
    "        if 10 <= int(s[i-2:i])<=26:\n",
    "            dp[i] = dp[i] + dp[i-2]\n",
    "    return dp[-1]\n",
    "   \n"
   ]
  },
  {
   "cell_type": "code",
   "execution_count": 27,
   "metadata": {},
   "outputs": [
    {
     "data": {
      "text/plain": [
       "2"
      ]
     },
     "execution_count": 27,
     "metadata": {},
     "output_type": "execute_result"
    }
   ],
   "source": [
    "s = \"11106\"\n",
    "decodeWays(s)"
   ]
  },
  {
   "cell_type": "code",
   "execution_count": 28,
   "metadata": {},
   "outputs": [
    {
     "data": {
      "text/plain": [
       "2"
      ]
     },
     "execution_count": 28,
     "metadata": {},
     "output_type": "execute_result"
    }
   ],
   "source": [
    "s = \"12\"\n",
    "decodeWays(s)"
   ]
  },
  {
   "cell_type": "code",
   "execution_count": 29,
   "metadata": {},
   "outputs": [
    {
     "data": {
      "text/plain": [
       "3"
      ]
     },
     "execution_count": 29,
     "metadata": {},
     "output_type": "execute_result"
    }
   ],
   "source": [
    "s = \"123\"\n",
    "decodeWays(s)"
   ]
  },
  {
   "cell_type": "code",
   "execution_count": null,
   "metadata": {},
   "outputs": [],
   "source": []
  }
 ],
 "metadata": {
  "kernelspec": {
   "display_name": "Python 3",
   "language": "python",
   "name": "python3"
  },
  "language_info": {
   "codemirror_mode": {
    "name": "ipython",
    "version": 3
   },
   "file_extension": ".py",
   "mimetype": "text/x-python",
   "name": "python",
   "nbconvert_exporter": "python",
   "pygments_lexer": "ipython3",
   "version": "3.8.3"
  }
 },
 "nbformat": 4,
 "nbformat_minor": 4
}

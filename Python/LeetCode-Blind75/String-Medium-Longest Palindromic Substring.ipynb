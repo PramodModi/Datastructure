{
 "cells": [
  {
   "cell_type": "markdown",
   "metadata": {},
   "source": [
    "## 5. Longest Palindromic Substring\n",
    "Given a string s, return the longest palindromic substring in s.\n",
    "\n",
    "Example 1:\n",
    "\n",
    "Input: s = \"babad\"\n",
    "\n",
    "Output: \"bab\"\n",
    "\n",
    "Explanation: \"aba\" is also a valid answer.\n",
    "\n",
    "Example 2:\n",
    "\n",
    "Input: s = \"cbbd\"\n",
    "\n",
    "Output: \"bb\"\n",
    " \n",
    "\n",
    "Constraints:\n",
    "\n",
    "1 <= s.length <= 1000\n",
    "\n",
    "s consist of only digits and English letters.\n"
   ]
  },
  {
   "cell_type": "code",
   "execution_count": 2,
   "metadata": {},
   "outputs": [],
   "source": [
    "## Time complexity O(n^2) | space O(n)\n",
    "def longestPalindrome(s):\n",
    "        if len(s) == 1:\n",
    "            return s\n",
    "        longest = [0,1]\n",
    "        for i in range(1,len(s)):\n",
    "            odd = getPalindromicIndexes(s, i-1, i+1)\n",
    "            even = getPalindromicIndexes(s, i-1, i)\n",
    "            \n",
    "            larger = max(odd, even, key=lambda x: x[1] - x[0])\n",
    "            longest = max(longest, larger, key=lambda x: x[1] - x[0])\n",
    "        \n",
    "        return s[longest[0]:longest[1]]\n",
    "        \n",
    "def getPalindromicIndexes(s, leftIdx, rightIdx):\n",
    "    while leftIdx >= 0 and rightIdx < len(s) :\n",
    "        if s[leftIdx] != s[rightIdx]:\n",
    "            break\n",
    "        leftIdx -= 1\n",
    "        rightIdx += 1\n",
    "\n",
    "    return[leftIdx + 1, rightIdx]"
   ]
  },
  {
   "cell_type": "code",
   "execution_count": 3,
   "metadata": {},
   "outputs": [
    {
     "data": {
      "text/plain": [
       "'bab'"
      ]
     },
     "execution_count": 3,
     "metadata": {},
     "output_type": "execute_result"
    }
   ],
   "source": [
    "longestPalindrome(\"babad\")"
   ]
  },
  {
   "cell_type": "code",
   "execution_count": null,
   "metadata": {},
   "outputs": [],
   "source": []
  }
 ],
 "metadata": {
  "kernelspec": {
   "display_name": "Python 3",
   "language": "python",
   "name": "python3"
  },
  "language_info": {
   "codemirror_mode": {
    "name": "ipython",
    "version": 3
   },
   "file_extension": ".py",
   "mimetype": "text/x-python",
   "name": "python",
   "nbconvert_exporter": "python",
   "pygments_lexer": "ipython3",
   "version": "3.8.3"
  }
 },
 "nbformat": 4,
 "nbformat_minor": 4
}

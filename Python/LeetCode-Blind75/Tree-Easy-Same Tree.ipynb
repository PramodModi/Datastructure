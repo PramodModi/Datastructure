{
 "cells": [
  {
   "cell_type": "markdown",
   "metadata": {},
   "source": [
    "## 100. Same Tree\n",
    "\n",
    "Given the roots of two binary trees p and q, write a function to check if they are the same or not.\n",
    "\n",
    "Two binary trees are considered the same if they are structurally identical, and the nodes have the same value.\n",
    "\n",
    "Example 1:\n",
    "\n",
    "Input: p = [1,2,3], q = [1,2,3]\n",
    "\n",
    "Output: true\n",
    "\n",
    "Example 2:\n",
    "\n",
    "Input: p = [1,2], q = [1,null,2]\n",
    "\n",
    "Output: false\n",
    "\n",
    "Example 3:\n",
    "\n",
    "Input: p = [1,2,1], q = [1,1,2]\n",
    "\n",
    "Output: false\n",
    " \n",
    "\n",
    "Constraints:\n",
    "\n",
    "The number of nodes in both trees is in the range [0, 100].\n",
    "\n",
    "-104 <= Node.val <= 104"
   ]
  },
  {
   "cell_type": "code",
   "execution_count": 1,
   "metadata": {},
   "outputs": [],
   "source": [
    "# Definition for a binary tree node.\n",
    "# class TreeNode(object):\n",
    "#     def __init__(self, val=0, left=None, right=None):\n",
    "#         self.val = val\n",
    "#         self.left = left\n",
    "#         self.right = right\n",
    "class Solution(object):\n",
    "    def isSameTree(self, p, q):\n",
    "        return self.checkTree(p,q)\n",
    "    def checkTree(self, p, q):\n",
    "        if p is None and q is not None:\n",
    "            return False\n",
    "        if p is not None and q is None:\n",
    "            return False\n",
    "        if p is None and q is None:\n",
    "            return True\n",
    "        if p.val == q.val and self.checkTree(p.left, q.left) and self.checkTree(p.right, q.right):\n",
    "            return True\n",
    "        else:\n",
    "            return False"
   ]
  },
  {
   "cell_type": "code",
   "execution_count": null,
   "metadata": {},
   "outputs": [],
   "source": []
  }
 ],
 "metadata": {
  "kernelspec": {
   "display_name": "Python 3",
   "language": "python",
   "name": "python3"
  },
  "language_info": {
   "codemirror_mode": {
    "name": "ipython",
    "version": 3
   },
   "file_extension": ".py",
   "mimetype": "text/x-python",
   "name": "python",
   "nbconvert_exporter": "python",
   "pygments_lexer": "ipython3",
   "version": "3.8.3"
  }
 },
 "nbformat": 4,
 "nbformat_minor": 4
}

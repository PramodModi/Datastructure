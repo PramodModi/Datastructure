{
 "cells": [
  {
   "cell_type": "code",
   "execution_count": 62,
   "metadata": {},
   "outputs": [],
   "source": [
    "def dijkstrasAlgorithm(start, edges):\n",
    "    m = len(edges)\n",
    "    \n",
    "    # Array to hold the shortest path. Initialy shortest path of all vertex would be infinity. \n",
    "    #Start vertex shortest path = 0\n",
    "    shortestPath = [float('inf')]*m\n",
    "    shortestPath[start] = 0\n",
    "    \n",
    "    #Minheap , initially all vertex will have value infiinity. Start position shortest path = 0\n",
    "    minheap = MinHeap([(vertex, float('inf')) for vertex in range(m)])\n",
    "    minheap.update(start, 0)\n",
    "    \n",
    "    while not minheap.empty():\n",
    "        v, d = minheap.remove()\n",
    "        \n",
    "        if d == float('inf'):\n",
    "            break\n",
    "        for edge in edges[v]:\n",
    "            v1, d1 = edge\n",
    "            path = d + d1\n",
    "            if path < shortestPath[v1]:\n",
    "                shortestPath[v1] = path\n",
    "                minheap.update(v1, path)\n",
    "    return [-1 if p == float('inf') else p for p in shortestPath]\n",
    "    #return list(map(lambda x: -1 if x == float('inf') else x, shortestPath))\n",
    "    \n",
    "    "
   ]
  },
  {
   "cell_type": "code",
   "execution_count": 63,
   "metadata": {},
   "outputs": [],
   "source": [
    "class MinHeap:\n",
    "    def __init__(self, array):\n",
    "        self.heap = array\n",
    "        self.position = {idx: idx for idx in range(len(array))}\n",
    "        self.buildHeap()\n",
    "    def buildHeap(self):\n",
    "        m = len(self.heap)\n",
    "        firstParent  = (m-2)//2\n",
    "        for index in reversed(range(firstParent+1)):\n",
    "            self.shiftDown(index)\n",
    "            \n",
    "    def shiftDown(self, index):\n",
    "        leftIndex = index*2 + 1\n",
    "        \n",
    "        while leftIndex < len(self.heap):\n",
    "            rightIndex = index*2 + 2 if index*2+2 < len(self.heap) else -1\n",
    "            if rightIndex != -1 and self.heap[rightIndex][1]< self.heap[leftIndex][1]:\n",
    "                curIndex = rightIndex\n",
    "            else:\n",
    "                curIndex = leftIndex\n",
    "                \n",
    "            if self.heap[curIndex][1] < self.heap[index][1]:\n",
    "                self.swap(curIndex, index)\n",
    "                index = curIndex\n",
    "                leftIndex = index*2 +1\n",
    "            else:\n",
    "                return\n",
    "    def shiftUp(self, index):\n",
    "        parentIndex = (index-1)//2\n",
    "        while parentIndex >= 0 and self.heap[parentIndex][1] > self.heap[index][1]:\n",
    "            self.swap(parentIndex, index)\n",
    "            index = parentIndex\n",
    "            parentIndex = (index-1)//2\n",
    "    \n",
    "    def remove(self):\n",
    "        self.swap(0,len(self.heap)-1)\n",
    "        v,d = self.heap.pop()\n",
    "        self.position.pop(v)\n",
    "        self.shiftDown(0)\n",
    "        return v,d\n",
    "    def swap(self, index1, index2):\n",
    "        self.position[self.heap[index1][0]] = index2\n",
    "        self.position[self.heap[index2][0]] = index1\n",
    "        \n",
    "        self.heap[index1], self.heap[index2] = self.heap[index2], self.heap[index1]\n",
    "        \n",
    "    def update(self, vertex, distance):\n",
    "      \n",
    "        index = self.position[vertex]\n",
    "        \n",
    "        self.heap[index] = vertex, distance\n",
    "        self.shiftUp(index)\n",
    "        \n",
    "    def empty(self):\n",
    "        return len(self.heap) == 0\n",
    "                "
   ]
  },
  {
   "cell_type": "code",
   "execution_count": 64,
   "metadata": {},
   "outputs": [
    {
     "data": {
      "text/plain": [
       "[0, 7, 13, 27, 10, -1]"
      ]
     },
     "execution_count": 64,
     "metadata": {},
     "output_type": "execute_result"
    }
   ],
   "source": [
    "start= 0\n",
    "edges= [[[1, 7]],[[2, 6],[3, 20],[4, 3]],[[3, 14]],[[4, 2]],[],[]]\n",
    "dijkstrasAlgorithm(start, edges)"
   ]
  },
  {
   "cell_type": "code",
   "execution_count": 65,
   "metadata": {},
   "outputs": [
    {
     "data": {
      "text/plain": [
       "[7, 8, 9, 8, 10, 11, 10, 0]"
      ]
     },
     "execution_count": 65,
     "metadata": {},
     "output_type": "execute_result"
    }
   ],
   "source": [
    "edges= [\n",
    "    [\n",
    "      [1, 1],\n",
    "      [3, 1]\n",
    "    ],\n",
    "    [\n",
    "      [2, 1]\n",
    "    ],\n",
    "    [\n",
    "      [6, 1]\n",
    "    ],\n",
    "    [\n",
    "      [1, 3],\n",
    "      [2, 4],\n",
    "      [4, 2],\n",
    "      [5, 3],\n",
    "      [6, 5]\n",
    "    ],\n",
    "    [\n",
    "      [5, 1]\n",
    "    ],\n",
    "    [\n",
    "      [4, 1]\n",
    "    ],\n",
    "    [\n",
    "      [5, 2]\n",
    "    ],\n",
    "    [\n",
    "      [0, 7]\n",
    "    ]\n",
    "  ]\n",
    "start = 7\n",
    "\n",
    "dijkstrasAlgorithm(start, edges)"
   ]
  },
  {
   "cell_type": "code",
   "execution_count": null,
   "metadata": {},
   "outputs": [],
   "source": []
  },
  {
   "cell_type": "code",
   "execution_count": null,
   "metadata": {},
   "outputs": [],
   "source": []
  }
 ],
 "metadata": {
  "kernelspec": {
   "display_name": "Python 3",
   "language": "python",
   "name": "python3"
  },
  "language_info": {
   "codemirror_mode": {
    "name": "ipython",
    "version": 3
   },
   "file_extension": ".py",
   "mimetype": "text/x-python",
   "name": "python",
   "nbconvert_exporter": "python",
   "pygments_lexer": "ipython3",
   "version": "3.8.3"
  }
 },
 "nbformat": 4,
 "nbformat_minor": 4
}

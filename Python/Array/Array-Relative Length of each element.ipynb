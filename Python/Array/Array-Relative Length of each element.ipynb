{
 "cells": [
  {
   "cell_type": "markdown",
   "metadata": {},
   "source": [
    "## Geeksforgeek\n",
    "https://www.geeksforgeeks.org/find-relative-rank-of-each-element-in-array/\n",
    "   \n",
    "Given an array A[] of N integers, the task is to find the relative rank for each element in the given array.\n",
    "\n",
    "The relative rank for each element in the array is the count of elements which is greater than the current element in the Longest Increasing Subsequence from the current element.\n",
    "\n",
    "Examples:\n",
    "\n",
    "    Input: A[] = {8, 16, 5, 6, 9}, N = 5\n",
    "    Output: {1, 0, 2, 1, 0}\n",
    "    Explanation: \n",
    "    For i = 0, required sequence is {8, 16} Relative Rank = 1.\n",
    "    For i = 1, Since all elements after 16 are smaller than 16, Relative Rank = 0.\n",
    "    For i = 2, required sequence is {5, 6, 9} Relative Rank = 2\n",
    "    For i = 3, required sequence is {6, 9} Relative Rank = 1\n",
    "    For i = 4, required sequence is {9} Relative Rank = 0\n",
    "    \n",
    "Example:\n",
    "\n",
    "    Input: A[] = {1, 2, 3, 5, 4}\n",
    "    Output: {3, 2, 1, 0, 0}\n",
    "    Explanation:\n",
    "    For i = 0, required sequence is {1, 2, 3, 5}, Relative Rank = 3\n",
    "    For i = 1, required sequence is {2, 3, 5}, Relative Rank = 2\n",
    "    For i = 2, required sequence is {3, 5}, Relative Rank = 1\n",
    "    For i = 3, required sequence is {5}, Relative Rank = 0\n",
    "    For i = 4, required sequence is {4}, Relative Rank = 0"
   ]
  },
  {
   "cell_type": "code",
   "execution_count": 5,
   "metadata": {},
   "outputs": [],
   "source": [
    "def getRank(A):\n",
    "    N = len(A)\n",
    "    rank = [0]*N\n",
    "    stack = []\n",
    "    stack.append(A[N-1])\n",
    "    for i in range(N-2, -1, -1):\n",
    "        if A[i] < stack[-1]:\n",
    "            stack.append(A[i])\n",
    "        else:\n",
    "            while stack and A[i]>= stack[-1]:\n",
    "                del stack[-1]\n",
    "            stack.append(A[i])\n",
    "        rank[i] = len(stack) - 1\n",
    "    return rank\n",
    "        "
   ]
  },
  {
   "cell_type": "code",
   "execution_count": 6,
   "metadata": {},
   "outputs": [
    {
     "data": {
      "text/plain": [
       "[3, 2, 1, 0, 0]"
      ]
     },
     "execution_count": 6,
     "metadata": {},
     "output_type": "execute_result"
    }
   ],
   "source": [
    "A = [1, 2, 3, 5, 4]\n",
    "getRank(A)"
   ]
  },
  {
   "cell_type": "code",
   "execution_count": 7,
   "metadata": {},
   "outputs": [
    {
     "data": {
      "text/plain": [
       "[1, 0, 2, 1, 0]"
      ]
     },
     "execution_count": 7,
     "metadata": {},
     "output_type": "execute_result"
    }
   ],
   "source": [
    "A = [8, 16, 5, 6, 9]\n",
    "getRank(A)"
   ]
  },
  {
   "cell_type": "code",
   "execution_count": null,
   "metadata": {},
   "outputs": [],
   "source": []
  }
 ],
 "metadata": {
  "kernelspec": {
   "display_name": "Python 3",
   "language": "python",
   "name": "python3"
  },
  "language_info": {
   "codemirror_mode": {
    "name": "ipython",
    "version": 3
   },
   "file_extension": ".py",
   "mimetype": "text/x-python",
   "name": "python",
   "nbconvert_exporter": "python",
   "pygments_lexer": "ipython3",
   "version": "3.8.3"
  }
 },
 "nbformat": 4,
 "nbformat_minor": 4
}

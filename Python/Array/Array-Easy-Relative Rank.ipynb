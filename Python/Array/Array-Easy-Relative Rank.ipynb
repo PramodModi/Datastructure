{
 "cells": [
  {
   "cell_type": "markdown",
   "metadata": {},
   "source": [
    "## Leetcode 506. Relative Ranks\n",
    "https://leetcode.com/problems/relative-ranks/description/\n",
    "\n",
    "Easy\n",
    "\n",
    "You are given an integer array score of size n, where score[i] is the score of the ith athlete in a competition. All the scores are guaranteed to be unique.\n",
    "\n",
    "The athletes are placed based on their scores, where the 1st place athlete has the highest score, the 2nd place athlete has the 2nd highest score, and so on. The placement of each athlete determines their rank:\n",
    "\n",
    "The 1st place athlete's rank is \"Gold Medal\".\n",
    "The 2nd place athlete's rank is \"Silver Medal\".\n",
    "The 3rd place athlete's rank is \"Bronze Medal\".\n",
    "For the 4th place to the nth place athlete, their rank is their placement number (i.e., the xth place athlete's rank is \"x\").\n",
    "Return an array answer of size n where answer[i] is the rank of the ith athlete.\n",
    "\n",
    " \n",
    "\n",
    "Example 1:\n",
    "\n",
    "    Input: score = [5,4,3,2,1]\n",
    "    Output: [\"Gold Medal\",\"Silver Medal\",\"Bronze Medal\",\"4\",\"5\"]\n",
    "    Explanation: The placements are [1st, 2nd, 3rd, 4th, 5th].\n",
    "Example 2:\n",
    "\n",
    "    Input: score = [10,3,8,9,4]\n",
    "    Output: [\"Gold Medal\",\"5\",\"Bronze Medal\",\"Silver Medal\",\"4\"]\n",
    "    Explanation: The placements are [1st, 5th, 3rd, 2nd, 4th].\n",
    "\n",
    " \n",
    "\n",
    "Constraints:\n",
    "\n",
    "    n == score.length\n",
    "    1 <= n <= 104\n",
    "    0 <= score[i] <= 106\n",
    "    All the values in score are unique."
   ]
  },
  {
   "cell_type": "code",
   "execution_count": 1,
   "metadata": {},
   "outputs": [],
   "source": [
    "def findRelativeRanks(score):\n",
    "    aux_score = sorted(score, reverse = True);\n",
    "    temp = {}\n",
    "    for i in range(len(aux_score)):\n",
    "        if i == 0:\n",
    "            temp[aux_score[i]] = \"Gold Medal\"\n",
    "        elif i == 1:\n",
    "            temp[aux_score[i]] = \"Silver Medal\"\n",
    "        elif i == 2:\n",
    "            temp[aux_score[i]] = \"Bronze Medal\"\n",
    "        else:\n",
    "            temp[aux_score[i]] = str(i+1)\n",
    "    ans = [\"\"] * len(score)\n",
    "\n",
    "    for i in range(len(score)):\n",
    "        ans[i] = temp[score[i]]\n",
    "    return ans"
   ]
  },
  {
   "cell_type": "code",
   "execution_count": 2,
   "metadata": {},
   "outputs": [
    {
     "data": {
      "text/plain": [
       "['Gold Medal', '5', 'Bronze Medal', 'Silver Medal', '4']"
      ]
     },
     "execution_count": 2,
     "metadata": {},
     "output_type": "execute_result"
    }
   ],
   "source": [
    "score = [10,3,8,9,4]\n",
    "findRelativeRanks(score)"
   ]
  },
  {
   "cell_type": "code",
   "execution_count": null,
   "metadata": {},
   "outputs": [],
   "source": []
  }
 ],
 "metadata": {
  "kernelspec": {
   "display_name": "Python 3",
   "language": "python",
   "name": "python3"
  },
  "language_info": {
   "codemirror_mode": {
    "name": "ipython",
    "version": 3
   },
   "file_extension": ".py",
   "mimetype": "text/x-python",
   "name": "python",
   "nbconvert_exporter": "python",
   "pygments_lexer": "ipython3",
   "version": "3.8.3"
  }
 },
 "nbformat": 4,
 "nbformat_minor": 4
}

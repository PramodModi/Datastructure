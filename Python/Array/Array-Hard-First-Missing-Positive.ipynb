{
 "cells": [
  {
   "cell_type": "markdown",
   "metadata": {},
   "source": [
    "## Problem: 41 First Missing Positive - Hard\n",
    "\n",
    "https://leetcode.com/problems/first-missing-positive/description/\n",
    "\n",
    "\n",
    "Given an unsorted integer array nums, return the smallest missing positive integer.\n",
    "\n",
    "You must implement an algorithm that runs in O(n) time and uses constant extra space.\n",
    "\n",
    " \n",
    "\n",
    "Example 1:\n",
    "\n",
    "Input: nums = [1,2,0]\n",
    "\n",
    "Output: 3\n",
    "\n",
    "Explanation: The numbers in the range [1,2] are all in the array.\n",
    "\n",
    "Example 2:\n",
    "\n",
    "Input: nums = [3,4,-1,1]\n",
    "\n",
    "Output: 2\n",
    "\n",
    "Explanation: 1 is in the array but 2 is missing.\n",
    "\n",
    "Example 3:\n",
    "\n",
    "Input: nums = [7,8,9,11,12]\n",
    "\n",
    "Output: 1\n",
    "\n",
    "Explanation: The smallest positive integer 1 is missing.\n",
    " \n",
    "\n",
    "Constraints:\n",
    "\n",
    "1 <= nums.length <= 105\n",
    "\n",
    "-231 <= nums[i] <= 231 - 1"
   ]
  },
  {
   "cell_type": "code",
   "execution_count": 38,
   "metadata": {},
   "outputs": [],
   "source": [
    "# 0(n) time complexity | O(1) space. Auxiliary array\n",
    "def firstMissing(nums):\n",
    "    n = len(nums)\n",
    "    # As we have to find the minimum missing number, so we can restrict our search from 1 to length of nums\n",
    "    # Take auxiliary array of size (n+1) and assigned it to 0.\n",
    "    # This array, keep updating the position by 1, if number is present in the original array representing \n",
    "    #the position\n",
    "\n",
    "    temp = [0] * (n+1)\n",
    "    for i in range(n):\n",
    "        if nums[i]< 0 or nums[i]>n: # Keeping numbers in the range of 0 to n (That is the reson aux array size is n+1)\n",
    "            nums[i] = 0\n",
    "    for i in range(n): # Marking the positing by 1, if number representing that position is present in nums\n",
    "        temp[nums[i]] = 1\n",
    "    for i in range(1,n+1): # If number not present, then value at that position =0, hence return the position.\n",
    "        if temp[i] == 0:\n",
    "            return i\n",
    "    return n+1\n"
   ]
  },
  {
   "cell_type": "code",
   "execution_count": 39,
   "metadata": {},
   "outputs": [
    {
     "data": {
      "text/plain": [
       "3"
      ]
     },
     "execution_count": 39,
     "metadata": {},
     "output_type": "execute_result"
    }
   ],
   "source": [
    "nums =[1,2,0]\n",
    "firstMissing(nums)"
   ]
  },
  {
   "cell_type": "code",
   "execution_count": 40,
   "metadata": {},
   "outputs": [
    {
     "data": {
      "text/plain": [
       "1"
      ]
     },
     "execution_count": 40,
     "metadata": {},
     "output_type": "execute_result"
    }
   ],
   "source": [
    "nums =[2,2]\n",
    "firstMissing(nums)"
   ]
  },
  {
   "cell_type": "code",
   "execution_count": 41,
   "metadata": {},
   "outputs": [
    {
     "data": {
      "text/plain": [
       "2"
      ]
     },
     "execution_count": 41,
     "metadata": {},
     "output_type": "execute_result"
    }
   ],
   "source": [
    "nums =[4,12,1]\n",
    "firstMissing(nums)"
   ]
  },
  {
   "cell_type": "code",
   "execution_count": 42,
   "metadata": {},
   "outputs": [
    {
     "data": {
      "text/plain": [
       "2"
      ]
     },
     "execution_count": 42,
     "metadata": {},
     "output_type": "execute_result"
    }
   ],
   "source": [
    "nums =[1]\n",
    "firstMissing(nums)"
   ]
  },
  {
   "cell_type": "code",
   "execution_count": 43,
   "metadata": {},
   "outputs": [],
   "source": [
    "# 0(n) time complexity | O(1) space. No extra space\n",
    "def firstMissingPositive(nums):\n",
    "        # Add one extra space\n",
    "        nums.append(0)\n",
    "        # As we have to find the minimum missing number, so we can restrict our search\n",
    "        # from 1 to length of nums. So, mark numbers as 0 which are less than 0 or greater than \n",
    "        # length of array.\n",
    "        \n",
    "        n = len(nums)\n",
    "        for i in range(n):\n",
    "            if nums[i]<0 or nums[i]>=n:\n",
    "                nums[i] = 0\n",
    "        # Also, set the frequency of each remaining number at the position of numbers\n",
    "        # Adding n will help to get the position represent by number when will take mod.\n",
    "        for i in range(n):\n",
    "                nums[nums[i]%n] += n\n",
    "        \n",
    "        # Divide the number at each position by n. If it is zero, that means either number is 0\n",
    "        # or, it is less than n. In both at that position, number is missing.\n",
    "        for i in range(1, n):\n",
    "            if nums[i]/n == 0:\n",
    "                return i\n",
    "        return n"
   ]
  },
  {
   "cell_type": "code",
   "execution_count": 44,
   "metadata": {},
   "outputs": [
    {
     "data": {
      "text/plain": [
       "3"
      ]
     },
     "execution_count": 44,
     "metadata": {},
     "output_type": "execute_result"
    }
   ],
   "source": [
    "nums =[1,2,0]\n",
    "firstMissingPositive(nums)"
   ]
  },
  {
   "cell_type": "code",
   "execution_count": 45,
   "metadata": {},
   "outputs": [
    {
     "data": {
      "text/plain": [
       "3"
      ]
     },
     "execution_count": 45,
     "metadata": {},
     "output_type": "execute_result"
    }
   ],
   "source": [
    "nums =[2,2]\n",
    "firstMissingPositive(nums)"
   ]
  },
  {
   "cell_type": "code",
   "execution_count": null,
   "metadata": {},
   "outputs": [],
   "source": []
  }
 ],
 "metadata": {
  "kernelspec": {
   "display_name": "Python 3",
   "language": "python",
   "name": "python3"
  },
  "language_info": {
   "codemirror_mode": {
    "name": "ipython",
    "version": 3
   },
   "file_extension": ".py",
   "mimetype": "text/x-python",
   "name": "python",
   "nbconvert_exporter": "python",
   "pygments_lexer": "ipython3",
   "version": "3.8.3"
  }
 },
 "nbformat": 4,
 "nbformat_minor": 4
}

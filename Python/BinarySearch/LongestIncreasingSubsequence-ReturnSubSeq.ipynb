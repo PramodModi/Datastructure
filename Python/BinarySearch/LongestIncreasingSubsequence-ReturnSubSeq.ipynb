{
 "cells": [
  {
   "cell_type": "markdown",
   "metadata": {},
   "source": [
    "## Problem:Longest Increasing sub sequence (LSI)\n",
    "\n",
    "Given a non-empty array of integers, write a function that returns the longest strictly-increasing\n",
    "subsequence in the array.\n",
    "A subsequence of an array is a set of numbers that aren't necessarily adjacent in the array but that are\n",
    "in the same order as they appear in the array. For instance, the numbers [1, 3, 4] form a\n",
    "subsequence of the array [1, 2, 3, 4] , and so do the numbers [2, 4] . Note that a single\n",
    "number in an array and the array itself are both valid subsequences of the array.\n",
    "You can assume that there will only be one longest increasing subsequence.\n",
    "\n",
    "Example:\n",
    "\n",
    "array = [5, 7, -24, 12, 10, 2, 3, 12, 5, 6, 35]\n",
    "\n",
    "output = [-24, 2, 3, 5, 6, 35]"
   ]
  },
  {
   "cell_type": "code",
   "execution_count": 76,
   "metadata": {},
   "outputs": [],
   "source": [
    "## O(n^2)\n",
    "class Info:\n",
    "    def __init__(self, maxlen):\n",
    "        self.maxlen = maxlen\n",
    "        self.result = []\n",
    "def longestIncreasingSubsequence(array):\n",
    "    # Write your code here.\n",
    "    maxL = 0\n",
    "    n = len(array)\n",
    "    if n <= 1:\n",
    "        return array\n",
    "    temp = []\n",
    "    info = Info(0)\n",
    "    LISS(array, 0, temp, info)\n",
    "    return info.result\n",
    "\n",
    "def LISS(array, index, temp, info):\n",
    "    \n",
    "    if info.maxlen < len(temp):\n",
    "        info.maxlen = len(temp)\n",
    "        info.result = temp[:]\n",
    "        #return\n",
    "    if index == len(array):\n",
    "        return\n",
    "    for i in range(index, len(array)):\n",
    "        if len(temp)> 0 and temp[-1] >= array[i]:\n",
    "            continue\n",
    "        temp.append(array[i])\n",
    "        LISS(array, i+1, temp, info)\n",
    "        temp.pop()"
   ]
  },
  {
   "cell_type": "code",
   "execution_count": 77,
   "metadata": {},
   "outputs": [
    {
     "data": {
      "text/plain": [
       "[-24, 2, 3, 5, 6, 35]"
      ]
     },
     "execution_count": 77,
     "metadata": {},
     "output_type": "execute_result"
    }
   ],
   "source": [
    "array = [5, 7, -24, 12, 10, 2, 3, 12, 5, 6, 35]\n",
    "longestIncreasingSubsequence(array)"
   ]
  },
  {
   "cell_type": "code",
   "execution_count": 78,
   "metadata": {},
   "outputs": [
    {
     "data": {
      "text/plain": [
       "[3, 4]"
      ]
     },
     "execution_count": 78,
     "metadata": {},
     "output_type": "execute_result"
    }
   ],
   "source": [
    "array = [3, 4, -1]\n",
    "longestIncreasingSubsequence(array)"
   ]
  },
  {
   "cell_type": "code",
   "execution_count": 9,
   "metadata": {},
   "outputs": [],
   "source": [
    "### O(nlogn)\n",
    "def longestIncreasingSubsequence1(array):\n",
    "    m = len(array)\n",
    "    indices = [None]*(m+1)\n",
    "    seq = [None] * m\n",
    "    length = 0\n",
    "    for i , n in enumerate(array):\n",
    "        index = binarySearch(indices, 1, length, array, n)\n",
    "        print(\"num = \", n)\n",
    "        print(\"index = \", index)\n",
    "        seq[i] = indices[index-1]\n",
    "        indices[index] = i\n",
    "        length = max(length, index)\n",
    "        print(\"seq = \", seq)\n",
    "        print(\"indices = \", indices)\n",
    "    return buildSubSequence(seq, array, indices[length])\n",
    "\n",
    "def binarySearch(indices, startIndex, endIndex, array, n):\n",
    "    \n",
    "    while startIndex<= endIndex:\n",
    "        mid = (startIndex + endIndex) //2\n",
    "        \n",
    "        if array[indices[mid]] < n:\n",
    "            startIndex = mid+1\n",
    "        else:\n",
    "            endIndex = mid-1\n",
    "    return startIndex\n",
    "\n",
    "def buildSubSequence(seq, array, index):\n",
    "    print(\"Seq = \", seq)\n",
    "    print(\"index= \", index)\n",
    "    sub = []\n",
    "    while index is not None:\n",
    "        sub.append(array[index])\n",
    "        index = seq[index]\n",
    "    return list(reversed(sub))"
   ]
  },
  {
   "cell_type": "code",
   "execution_count": 12,
   "metadata": {},
   "outputs": [
    {
     "name": "stdout",
     "output_type": "stream",
     "text": [
      "num =  3\n",
      "index =  1\n",
      "seq =  [None, None, None, None]\n",
      "indices =  [None, 0, None, None, None]\n",
      "num =  4\n",
      "index =  2\n",
      "seq =  [None, 0, None, None]\n",
      "indices =  [None, 0, 1, None, None]\n",
      "num =  -1\n",
      "index =  1\n",
      "seq =  [None, 0, None, None]\n",
      "indices =  [None, 2, 1, None, None]\n",
      "num =  0\n",
      "index =  2\n",
      "seq =  [None, 0, None, 2]\n",
      "indices =  [None, 2, 3, None, None]\n",
      "Seq =  [None, 0, None, 2]\n",
      "index=  3\n"
     ]
    },
    {
     "data": {
      "text/plain": [
       "[-1, 0]"
      ]
     },
     "execution_count": 12,
     "metadata": {},
     "output_type": "execute_result"
    }
   ],
   "source": [
    "array = [3, 4, -1,0]\n",
    "longestIncreasingSubsequence1(array)"
   ]
  },
  {
   "cell_type": "code",
   "execution_count": 3,
   "metadata": {},
   "outputs": [
    {
     "data": {
      "text/plain": [
       "[-24, 2, 3, 5, 6, 35]"
      ]
     },
     "execution_count": 3,
     "metadata": {},
     "output_type": "execute_result"
    }
   ],
   "source": [
    "array = [5, 7, -24, 12, 10, 2, 3, 12, 5, 6, 35]\n",
    "longestIncreasingSubsequence1(array)"
   ]
  },
  {
   "cell_type": "code",
   "execution_count": 4,
   "metadata": {},
   "outputs": [],
   "source": [
    "def longestIncreasingSubsequence2(array):\n",
    "    seq = []\n",
    "    for n in array:\n",
    "        if len(seq) == 0 or seq[-1] < n:\n",
    "            seq.append(n)\n",
    "        else:\n",
    "            index = binarySearch(seq, n)\n",
    "            if seq[index] < n:\n",
    "                seq[index +1] = n\n",
    "            else:\n",
    "                seq[index] = n\n",
    "    return seq\n",
    "\n",
    "def binarySearch(array, n):\n",
    "    \n",
    "    startIndex = 0\n",
    "    endIndex = len(array) - 1\n",
    "    while startIndex < endIndex:\n",
    "        mid = startIndex + (endIndex - startIndex)//2\n",
    "        if array[mid] < n:\n",
    "            startIndex = mid + 1\n",
    "        elif array[mid] > n:\n",
    "            endIndex = mid-1\n",
    "        else:\n",
    "            startIndex = mid\n",
    "    return startIndex\n",
    "\n"
   ]
  },
  {
   "cell_type": "code",
   "execution_count": 5,
   "metadata": {},
   "outputs": [
    {
     "data": {
      "text/plain": [
       "[-24, 2, 3, 5, 6, 35]"
      ]
     },
     "execution_count": 5,
     "metadata": {},
     "output_type": "execute_result"
    }
   ],
   "source": [
    "array = [5, 7, -24, 12, 10, 2, 3, 12, 5, 6, 35]\n",
    "longestIncreasingSubsequence2(array)"
   ]
  },
  {
   "cell_type": "code",
   "execution_count": 6,
   "metadata": {},
   "outputs": [
    {
     "data": {
      "text/plain": [
       "[-1, 4]"
      ]
     },
     "execution_count": 6,
     "metadata": {},
     "output_type": "execute_result"
    }
   ],
   "source": [
    "array = [3, 4, -1]\n",
    "longestIncreasingSubsequence2(array)"
   ]
  },
  {
   "cell_type": "code",
   "execution_count": null,
   "metadata": {},
   "outputs": [],
   "source": []
  }
 ],
 "metadata": {
  "kernelspec": {
   "display_name": "Python 3",
   "language": "python",
   "name": "python3"
  },
  "language_info": {
   "codemirror_mode": {
    "name": "ipython",
    "version": 3
   },
   "file_extension": ".py",
   "mimetype": "text/x-python",
   "name": "python",
   "nbconvert_exporter": "python",
   "pygments_lexer": "ipython3",
   "version": "3.8.3"
  }
 },
 "nbformat": 4,
 "nbformat_minor": 4
}

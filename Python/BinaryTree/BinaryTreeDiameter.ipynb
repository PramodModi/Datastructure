{
 "cells": [
  {
   "cell_type": "code",
   "execution_count": 30,
   "metadata": {},
   "outputs": [],
   "source": [
    "class BST:\n",
    "    def __init__(self, value):\n",
    "        self.value  = value\n",
    "        self.left = None\n",
    "        self.right = None\n",
    "    \n",
    "    def insert(self, value):\n",
    "        root = self\n",
    "        parent = None\n",
    "        while root:\n",
    "            parent = root\n",
    "            if value < root.value:\n",
    "                root = root.left\n",
    "            else:\n",
    "                root = root.right\n",
    "        if value < parent.value:\n",
    "            parent.left = BST(value)\n",
    "        else:\n",
    "            parent.right = BST(value)\n",
    "            \n",
    "def preorder(tree):\n",
    "    if tree:\n",
    "        print(tree.value)\n",
    "        preorder(tree.left)\n",
    "        preorder(tree.right)"
   ]
  },
  {
   "cell_type": "code",
   "execution_count": 33,
   "metadata": {},
   "outputs": [],
   "source": [
    "class TreeInfo:\n",
    "    def __init__(self, diameter, height):\n",
    "        self.diameter =  diameter\n",
    "        self.height = height\n",
    "        \n",
    "def getDiameter(tree):\n",
    "    return getTreeInfo (tree).diameter\n",
    "\n",
    "def getTreeInfo(tree):\n",
    "    if tree is None:\n",
    "        return TreeInfo(0,0)\n",
    "    leftinfo = getTreeInfo(tree.left)\n",
    "    rightinfo = getTreeInfo(tree.right)\n",
    "    \n",
    "    diameter = max(leftinfo.diameter, rightinfo.diameter)\n",
    "    longpath = leftinfo.height + rightinfo.height\n",
    "    diameter = max(diameter, longpath)\n",
    "    height = 1 + max(leftinfo.height, rightinfo.height)\n",
    "    \n",
    "    return TreeInfo(diameter, height)\n",
    "    "
   ]
  },
  {
   "cell_type": "code",
   "execution_count": 34,
   "metadata": {},
   "outputs": [
    {
     "name": "stdout",
     "output_type": "stream",
     "text": [
      "10\n",
      "5\n",
      "3\n",
      "2\n",
      "6\n",
      "12\n",
      "15\n",
      "14\n",
      "15\n",
      "18\n",
      "22\n"
     ]
    }
   ],
   "source": [
    "b = BST(10)\n",
    "b.insert(12)\n",
    "b.insert(15)\n",
    "b.insert(5)\n",
    "b.insert(6)\n",
    "b.insert(15)\n",
    "b.insert(18)\n",
    "b.insert(3)\n",
    "b.insert(2)\n",
    "b.insert(22)\n",
    "b.insert(14)\n",
    "preorder(b)"
   ]
  },
  {
   "cell_type": "code",
   "execution_count": 35,
   "metadata": {},
   "outputs": [
    {
     "name": "stdout",
     "output_type": "stream",
     "text": [
      "8\n"
     ]
    }
   ],
   "source": [
    "print(getDiameter(b))"
   ]
  },
  {
   "cell_type": "code",
   "execution_count": null,
   "metadata": {},
   "outputs": [],
   "source": []
  }
 ],
 "metadata": {
  "kernelspec": {
   "display_name": "Python 3",
   "language": "python",
   "name": "python3"
  },
  "language_info": {
   "codemirror_mode": {
    "name": "ipython",
    "version": 3
   },
   "file_extension": ".py",
   "mimetype": "text/x-python",
   "name": "python",
   "nbconvert_exporter": "python",
   "pygments_lexer": "ipython3",
   "version": "3.8.3"
  }
 },
 "nbformat": 4,
 "nbformat_minor": 4
}

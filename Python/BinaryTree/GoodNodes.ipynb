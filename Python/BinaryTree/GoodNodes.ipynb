{
 "cells": [
  {
   "cell_type": "markdown",
   "metadata": {},
   "source": [
    "## Problem\n",
    "Find number of good nodes in the given tree.\n",
    "Good nodes : Any node whose value is greater than all nodes from root.\n",
    "\n",
    "Root is always a good node."
   ]
  },
  {
   "cell_type": "code",
   "execution_count": 3,
   "metadata": {},
   "outputs": [],
   "source": [
    "# Create a binary tree\n",
    "import queue\n",
    "\n",
    "class BT:\n",
    "    def __init__(self, value):\n",
    "        self.value = value\n",
    "        self.left = None\n",
    "        self.right = None\n",
    "    \n",
    "    def insert(self, value):\n",
    "        root = self\n",
    "        if root is None:\n",
    "            root = BT(value)\n",
    "            return\n",
    "        Q = queue.Queue()\n",
    "        Q.put(root)\n",
    "        while Q.empty() is not True:\n",
    "            parent = Q.get()\n",
    "            if parent.left is None:\n",
    "                parent.left = BT(value)\n",
    "                return\n",
    "            else:\n",
    "                Q.put(parent.left)\n",
    "            if parent.right is None:\n",
    "                parent.right = BT(value)\n",
    "                return\n",
    "            else:\n",
    "                Q.put(parent.right)\n",
    "    \n",
    "def preorder(root):\n",
    "    if root:\n",
    "        print(root.value)\n",
    "        preorder(root.left)\n",
    "        preorder(root.right)"
   ]
  },
  {
   "cell_type": "code",
   "execution_count": 9,
   "metadata": {},
   "outputs": [],
   "source": [
    "def goodNodesCount(root):\n",
    "    return goodNodesCountHelper(root, root.value)\n",
    "\n",
    "def goodNodesCountHelper(root, maxValue):\n",
    "    if root is None:\n",
    "        return 0\n",
    "    count  = 1 if root.value>= maxValue else 0\n",
    "    maxValue = max(maxValue, root.value)\n",
    "    return count + goodNodesCountHelper(root.left, maxValue) + goodNodesCountHelper(root.right, maxValue)\n",
    "    \n",
    "    "
   ]
  },
  {
   "cell_type": "code",
   "execution_count": 10,
   "metadata": {},
   "outputs": [
    {
     "name": "stdout",
     "output_type": "stream",
     "text": [
      "3\n",
      "1\n",
      "3\n",
      "1\n",
      "4\n",
      "5\n"
     ]
    }
   ],
   "source": [
    "b = BT(3)\n",
    "b.insert(1)\n",
    "b.insert(4)\n",
    "b.insert(3)\n",
    "b.insert(1)\n",
    "b.insert(5)\n",
    "\n",
    "preorder(b)"
   ]
  },
  {
   "cell_type": "code",
   "execution_count": 11,
   "metadata": {},
   "outputs": [
    {
     "data": {
      "text/plain": [
       "4"
      ]
     },
     "execution_count": 11,
     "metadata": {},
     "output_type": "execute_result"
    }
   ],
   "source": [
    "goodNodesCount(b)"
   ]
  },
  {
   "cell_type": "code",
   "execution_count": 12,
   "metadata": {},
   "outputs": [
    {
     "name": "stdout",
     "output_type": "stream",
     "text": [
      "5\n",
      "3\n",
      "20\n",
      "21\n",
      "10\n",
      "1\n"
     ]
    }
   ],
   "source": [
    "b = BT(5)\n",
    "b.insert(3)\n",
    "b.insert(10)\n",
    "b.insert(20)\n",
    "b.insert(21)\n",
    "b.insert(1)\n",
    "\n",
    "preorder(b)"
   ]
  },
  {
   "cell_type": "code",
   "execution_count": 13,
   "metadata": {},
   "outputs": [
    {
     "data": {
      "text/plain": [
       "4"
      ]
     },
     "execution_count": 13,
     "metadata": {},
     "output_type": "execute_result"
    }
   ],
   "source": [
    "goodNodesCount(b)"
   ]
  },
  {
   "cell_type": "code",
   "execution_count": null,
   "metadata": {},
   "outputs": [],
   "source": []
  }
 ],
 "metadata": {
  "kernelspec": {
   "display_name": "Python 3 (ipykernel)",
   "language": "python",
   "name": "python3"
  },
  "language_info": {
   "codemirror_mode": {
    "name": "ipython",
    "version": 3
   },
   "file_extension": ".py",
   "mimetype": "text/x-python",
   "name": "python",
   "nbconvert_exporter": "python",
   "pygments_lexer": "ipython3",
   "version": "3.8.18"
  }
 },
 "nbformat": 4,
 "nbformat_minor": 4
}

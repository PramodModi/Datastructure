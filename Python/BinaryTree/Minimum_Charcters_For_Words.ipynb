{
 "cells": [
  {
   "cell_type": "markdown",
   "metadata": {},
   "source": [
    "## Problem\n",
    "\n",
    "Input is array of words and return the samllest array of characters needed to form all of the words.\n",
    "\n",
    "Example:\n",
    "\n",
    "input = [\"yours\", \"you\", \"or\", \"yo\"]\n",
    "\n",
    "output = [\"y\", \"r\", \"o\", \"u\"]\n",
    "\n"
   ]
  },
  {
   "cell_type": "code",
   "execution_count": 44,
   "metadata": {},
   "outputs": [],
   "source": [
    "def minimumCharactersForWords(words):\n",
    "    characters = {}\n",
    "    for word in words:\n",
    "        temp = {}\n",
    "        for w in word:\n",
    "            temp[w] = temp.get(w,0) + 1\n",
    "        updateCharacters(characters,temp)\n",
    "    return printCharacters(characters)\n",
    "    \n",
    "\n",
    "\n",
    "\n",
    "def updateCharacters(characters, temp):\n",
    "    \n",
    "    for item in temp.items():\n",
    "        c = item[0]\n",
    "        v = item[1]\n",
    "        if c in characters:\n",
    "            if v > characters[c]:\n",
    "                characters[c] = v\n",
    "        else:\n",
    "            characters[c] = v\n",
    "            \n",
    "def printCharacters(characters):\n",
    "    result = []\n",
    "    for item in characters.items():\n",
    "        v = item[1]\n",
    "        c = item[0]\n",
    "        for i in range(v):\n",
    "            result.append(c)\n",
    "    return result"
   ]
  },
  {
   "cell_type": "code",
   "execution_count": 45,
   "metadata": {},
   "outputs": [
    {
     "data": {
      "text/plain": [
       "['y', 'o', 'u', 'r', 's']"
      ]
     },
     "execution_count": 45,
     "metadata": {},
     "output_type": "execute_result"
    }
   ],
   "source": [
    "words = [\"yours\", \"you\", \"or\", \"yo\"]\n",
    "minimumCharactersForWords(words)"
   ]
  },
  {
   "cell_type": "code",
   "execution_count": 46,
   "metadata": {},
   "outputs": [
    {
     "data": {
      "text/plain": [
       "['t', 't', 'h', 'i', 's', 'a', 'd', 'd', 'e', 'e', 'm', '!']"
      ]
     },
     "execution_count": 46,
     "metadata": {},
     "output_type": "execute_result"
    }
   ],
   "source": [
    "words =  [\"this\", \"that\", \"did\", \"deed\", \"them!\", \"a\"]\n",
    "minimumCharactersForWords(words)"
   ]
  },
  {
   "cell_type": "code",
   "execution_count": null,
   "metadata": {},
   "outputs": [],
   "source": []
  }
 ],
 "metadata": {
  "kernelspec": {
   "display_name": "Python 3",
   "language": "python",
   "name": "python3"
  },
  "language_info": {
   "codemirror_mode": {
    "name": "ipython",
    "version": 3
   },
   "file_extension": ".py",
   "mimetype": "text/x-python",
   "name": "python",
   "nbconvert_exporter": "python",
   "pygments_lexer": "ipython3",
   "version": "3.8.3"
  }
 },
 "nbformat": 4,
 "nbformat_minor": 4
}

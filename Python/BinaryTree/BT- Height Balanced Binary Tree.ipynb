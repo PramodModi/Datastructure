{
 "cells": [
  {
   "cell_type": "markdown",
   "metadata": {},
   "source": [
    "## Problem: Height Balanced Binary Tree\n",
    "\n",
    "You're given the root node of a Binary Tree. Write a function that returns true if this Binary Tree is\n",
    "height balanced and false if it isn't.\n",
    "A Binary Tree is height balanced if for each node in the tree, the difference between the height of its left\n",
    "subtree and the height of its right subtree is at most 1 .\n",
    "Each BinaryTree node has an integer value , a left child node, and a right child node.\n",
    "Children nodes can either be BinaryTree nodes themselves or None / null .\n",
    "\n",
    "Example:\n",
    "\n",
    "tree = \n",
    "\n",
    "          1\n",
    "         / \\\n",
    "        2   3\n",
    "       / \\   \\\n",
    "      4   5   6\n",
    "         / \\\n",
    "         7  8\n",
    "     \n",
    " output: True"
   ]
  },
  {
   "cell_type": "code",
   "execution_count": 1,
   "metadata": {},
   "outputs": [],
   "source": [
    "class BinaryTree:\n",
    "    def __init__(self, val, left=None, right=None):\n",
    "        self.val = val\n",
    "        self.left = left\n",
    "        self.right = right"
   ]
  },
  {
   "cell_type": "code",
   "execution_count": 2,
   "metadata": {},
   "outputs": [],
   "source": [
    "## Approach 1\n",
    "class TreeInfo:\n",
    "    def __init__(self,isBalance, height):\n",
    "        self.isBalance = isBalance\n",
    "        self.height = height\n",
    "\t\t\n",
    "def heightBalancedBinaryTree(tree):\n",
    "    # Write your code here.\n",
    "    treeinfo = getTreeInfo(tree)\n",
    "    return treeinfo.isBalance\n",
    "\t\n",
    "def getTreeInfo(tree):\n",
    "\t\n",
    "    if tree is None:\n",
    "        return TreeInfo(True, 0)\n",
    "    leftTreeinfo = getTreeInfo(tree.left)\n",
    "    rightTreeinfo = getTreeInfo(tree.right)\n",
    "\n",
    "    isBalance = (leftTreeinfo.isBalance and rightTreeinfo.isBalance\n",
    "            and abs(leftTreeinfo.height - rightTreeinfo.height)<=1)\n",
    "    height = max(leftTreeinfo.height, rightTreeinfo.height) + 1\n",
    "    return TreeInfo(isBalance, height)"
   ]
  },
  {
   "cell_type": "code",
   "execution_count": 3,
   "metadata": {},
   "outputs": [
    {
     "data": {
      "text/plain": [
       "True"
      ]
     },
     "execution_count": 3,
     "metadata": {},
     "output_type": "execute_result"
    }
   ],
   "source": [
    "root = BinaryTree(1, BinaryTree(2, BinaryTree(4), BinaryTree(5, BinaryTree(7), BinaryTree(8))), BinaryTree(3, None, BinaryTree(6)))\n",
    "heightBalancedBinaryTree(root)"
   ]
  },
  {
   "cell_type": "code",
   "execution_count": 4,
   "metadata": {},
   "outputs": [],
   "source": [
    "## Approach 2\n",
    "\n",
    "def balanceTree(tree):\n",
    "    balance, _ = isBalance(tree)\n",
    "    return balance\n",
    "def isBalance(tree):\n",
    "    if not tree:\n",
    "        return (True, 0)\n",
    "    leftB, leftH = isBalance(tree.left)\n",
    "    rightB, rightH = isBalance(tree.right)\n",
    "    balance = leftB and rightB\n",
    "    if abs(leftH-rightH) > 1:\n",
    "        balance = False\n",
    "    height = max(leftH, rightH)+1\n",
    "    return (balance, height)"
   ]
  },
  {
   "cell_type": "code",
   "execution_count": 5,
   "metadata": {},
   "outputs": [
    {
     "data": {
      "text/plain": [
       "True"
      ]
     },
     "execution_count": 5,
     "metadata": {},
     "output_type": "execute_result"
    }
   ],
   "source": [
    "root = BinaryTree(1, BinaryTree(2, BinaryTree(4), BinaryTree(5, BinaryTree(7), BinaryTree(8))), BinaryTree(3, None, BinaryTree(6)))\n",
    "balanceTree(root)"
   ]
  },
  {
   "cell_type": "code",
   "execution_count": null,
   "metadata": {},
   "outputs": [],
   "source": []
  }
 ],
 "metadata": {
  "kernelspec": {
   "display_name": "Python 3 (ipykernel)",
   "language": "python",
   "name": "python3"
  },
  "language_info": {
   "codemirror_mode": {
    "name": "ipython",
    "version": 3
   },
   "file_extension": ".py",
   "mimetype": "text/x-python",
   "name": "python",
   "nbconvert_exporter": "python",
   "pygments_lexer": "ipython3",
   "version": "3.8.18"
  }
 },
 "nbformat": 4,
 "nbformat_minor": 4
}

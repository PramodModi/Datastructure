{
 "cells": [
  {
   "cell_type": "code",
   "execution_count": 7,
   "metadata": {},
   "outputs": [],
   "source": [
    "import queue"
   ]
  },
  {
   "cell_type": "code",
   "execution_count": 8,
   "metadata": {},
   "outputs": [],
   "source": [
    "# Exception class\n",
    "class Empty(Exception):\n",
    "    pass"
   ]
  },
  {
   "cell_type": "code",
   "execution_count": 16,
   "metadata": {},
   "outputs": [],
   "source": [
    "# Stack class\n",
    "class Stack:\n",
    "    def __init__(self):\n",
    "        self._data = []\n",
    "        self._size = 0\n",
    "        \n",
    "    def isEmpty(self):\n",
    "        return self._size == 0\n",
    "    \n",
    "    def push(self, e):\n",
    "        self._data.append(e)\n",
    "        self._size += 1\n",
    "    \n",
    "    def pop(self):\n",
    "        if self.isEmpty():\n",
    "            raise Empty(\"Stack is Empty\")\n",
    "        \n",
    "        e = self._data.pop()\n",
    "        self._size -= 1\n",
    "        return e\n",
    "    \n",
    "    def top(self):\n",
    "        if self.isEmpty():\n",
    "            raise Empty(\"Stack is Empty\")\n",
    "        return self._data[-1]\n",
    "    "
   ]
  },
  {
   "cell_type": "code",
   "execution_count": 19,
   "metadata": {},
   "outputs": [],
   "source": [
    "# Binary class\n",
    "class BinaryTree:\n",
    "    class _Node:\n",
    "        __slots__ = \"_data\", \"_left\", \"_right\"\n",
    "        def __init__(self, data):\n",
    "            self._data = data\n",
    "            self._left = None\n",
    "            self._right = None\n",
    "            \n",
    "    def __init__(self):\n",
    "        self._root = None\n",
    "    \n",
    "    def root(self):\n",
    "        return self._root\n",
    "    \n",
    "    def insert(self, data):\n",
    "        newNode = self._Node(data)\n",
    "        if self._root is None:\n",
    "            self._root = newNode\n",
    "            return\n",
    "        \n",
    "        Q = queue.Queue(maxsize = 20)\n",
    "        Q.put(self._root)\n",
    "        while (Q.empty() is not True):\n",
    "            tmp = Q.get()\n",
    "            if tmp._left:\n",
    "                Q.put(tmp._left)\n",
    "            else:\n",
    "                tmp._left = newNode\n",
    "                Q.queue.clear()\n",
    "                return\n",
    "            if tmp._right:\n",
    "                Q.put(tmp._right)\n",
    "            else:\n",
    "                tmp._right = newNode\n",
    "                Q.queue.clear()\n",
    "                return\n",
    "        Q.queue.clear()\n",
    "    \n",
    "    def reverse_levelOrder(self):\n",
    "        if self._root is None:\n",
    "            raise Empty(\"Tree is empty\")\n",
    "        Q = queue.Queue(maxsize = 20)\n",
    "        S = Stack()\n",
    "        Q.put(self._root)\n",
    "        while(Q.empty() is not True):\n",
    "            tmp = Q.get()\n",
    "            S.push(tmp)\n",
    "            if tmp._left:\n",
    "                Q.put(tmp._left)\n",
    "            if tmp._right:\n",
    "                Q.put(tmp._right)\n",
    "        while (S.isEmpty() is not True):\n",
    "            tmp = S.pop()\n",
    "            print(tmp._data)\n",
    "            \n",
    "            \n",
    "            "
   ]
  },
  {
   "cell_type": "code",
   "execution_count": 20,
   "metadata": {},
   "outputs": [
    {
     "name": "stdout",
     "output_type": "stream",
     "text": [
      "9\n",
      "8\n",
      "7\n",
      "6\n",
      "5\n",
      "4\n",
      "3\n",
      "2\n",
      "1\n"
     ]
    }
   ],
   "source": [
    "btree = BinaryTree()\n",
    "btree.insert(1)\n",
    "btree.insert(2)\n",
    "btree.insert(3)\n",
    "btree.insert(4)\n",
    "btree.insert(5)\n",
    "btree.insert(6)\n",
    "btree.insert(7)\n",
    "btree.insert(8)\n",
    "btree.insert(9)\n",
    "\n",
    "btree.reverse_levelOrder()"
   ]
  },
  {
   "cell_type": "code",
   "execution_count": null,
   "metadata": {},
   "outputs": [],
   "source": []
  }
 ],
 "metadata": {
  "kernelspec": {
   "display_name": "Python 3",
   "language": "python",
   "name": "python3"
  },
  "language_info": {
   "codemirror_mode": {
    "name": "ipython",
    "version": 3
   },
   "file_extension": ".py",
   "mimetype": "text/x-python",
   "name": "python",
   "nbconvert_exporter": "python",
   "pygments_lexer": "ipython3",
   "version": "3.8.3"
  }
 },
 "nbformat": 4,
 "nbformat_minor": 4
}

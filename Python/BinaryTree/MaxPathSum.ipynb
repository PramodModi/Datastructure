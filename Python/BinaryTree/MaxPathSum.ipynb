{
 "cells": [
  {
   "cell_type": "markdown",
   "metadata": {},
   "source": [
    "## Problem\n",
    "Calculate the maximum sum in one continuous path from a given tree. Values in tree can be negative.\n",
    "Path can be:\n",
    "1. Max sum in Left branch\n",
    "2. Max sum in RIght branch\n",
    "3. Max sum  = max sum in left + max sum in right + root value\n",
    "4. Max sum from left or right + root"
   ]
  },
  {
   "cell_type": "code",
   "execution_count": 2,
   "metadata": {},
   "outputs": [],
   "source": [
    "import queue"
   ]
  },
  {
   "cell_type": "code",
   "execution_count": 7,
   "metadata": {},
   "outputs": [],
   "source": [
    "def getMaxSumPath(tree):\n",
    "    _, maxSum = getMaxSumaInTree(tree)\n",
    "    return maxSum\n",
    "\n",
    "def getMaxSumaInTree(tree):\n",
    "    if tree is None:\n",
    "        return (float(\"-inf\"), float(\"-inf\"))\n",
    "    leftBranchMax,leftMax = getMaxSumaInTree(tree.left)\n",
    "    rightBranchMax, rightMax = getMaxSumaInTree(tree.right)\n",
    "    childBranchMax = max(leftBranchMax, rightBranchMax)\n",
    "    data = tree.data\n",
    "    ChildBranchAndNodeMax = max(childBranchMax + data, data)\n",
    "    MaxSumAtNode = max(leftBranchMax+rightBranchMax+data, ChildBranchAndNodeMax)\n",
    "    MaxSum = max(leftMax, rightMax, MaxSumAtNode)\n",
    "    \n",
    "    return (ChildBranchAndNodeMax,MaxSum)"
   ]
  },
  {
   "cell_type": "code",
   "execution_count": 4,
   "metadata": {},
   "outputs": [],
   "source": [
    "# Binary Tree\n",
    "class BinaryTree:\n",
    "    def __init__(self, data,left=None, right=None):\n",
    "        self.left = left\n",
    "        self.right = right\n",
    "        self.data = data\n",
    "        \n",
    "    def insert(self, data):\n",
    "        root = self\n",
    "        if root is None:\n",
    "            root = BinaryTree(data)\n",
    "            return\n",
    "        Q = queue.Queue()\n",
    "        Q.put(root)\n",
    "        while Q.empty() is not True:\n",
    "            root = Q.get()\n",
    "            if root.left is None:\n",
    "                root.left = BinaryTree(data)\n",
    "                return\n",
    "            else:\n",
    "                Q.put(root.left)\n",
    "            if root.right is None:\n",
    "                root.right = BinaryTree(data)\n",
    "                return\n",
    "            else:\n",
    "                Q.put(root.right)\n",
    "def inorder(tree):\n",
    "    if tree:\n",
    "        inorder(tree.left)\n",
    "        print(tree.data)\n",
    "        inorder(tree.right)\n",
    "def preorder(tree):\n",
    "    if tree:\n",
    "        print(tree.data)\n",
    "        preorder(tree.left)\n",
    "        preorder(tree.right)\n",
    "def postorder(tree):\n",
    "    if tree:\n",
    "        postorder(tree.left)\n",
    "        postorder(tree.right)\n",
    "        print(tree.data)\n",
    "        "
   ]
  },
  {
   "cell_type": "code",
   "execution_count": 5,
   "metadata": {},
   "outputs": [
    {
     "name": "stdout",
     "output_type": "stream",
     "text": [
      "*****inorder*********\n",
      "\n",
      "6\n",
      "4\n",
      "2\n",
      "5\n",
      "1\n",
      "3\n",
      "7\n",
      "8\n",
      "*****preorder*********\n",
      "\n",
      "1\n",
      "2\n",
      "4\n",
      "6\n",
      "5\n",
      "7\n",
      "3\n",
      "8\n",
      "*****postorder*********\n",
      "\n",
      "6\n",
      "4\n",
      "5\n",
      "2\n",
      "3\n",
      "8\n",
      "7\n",
      "1\n"
     ]
    }
   ],
   "source": [
    "bt = BinaryTree(1)\n",
    "bt.insert(2)\n",
    "bt.insert(7)\n",
    "bt.insert(4)\n",
    "bt.insert(5)\n",
    "bt.insert(3)\n",
    "bt.insert(8)\n",
    "bt.insert(6)\n",
    "print(\"*****inorder*********\\n\")\n",
    "inorder(bt)\n",
    "print(\"*****preorder*********\\n\")\n",
    "preorder(bt)\n",
    "print(\"*****postorder*********\\n\")\n",
    "postorder(bt)"
   ]
  },
  {
   "cell_type": "code",
   "execution_count": 8,
   "metadata": {},
   "outputs": [
    {
     "name": "stdout",
     "output_type": "stream",
     "text": [
      "28\n"
     ]
    }
   ],
   "source": [
    "print(getMaxSumPath(bt))"
   ]
  },
  {
   "cell_type": "code",
   "execution_count": null,
   "metadata": {},
   "outputs": [],
   "source": []
  }
 ],
 "metadata": {
  "kernelspec": {
   "display_name": "Python 3",
   "language": "python",
   "name": "python3"
  },
  "language_info": {
   "codemirror_mode": {
    "name": "ipython",
    "version": 3
   },
   "file_extension": ".py",
   "mimetype": "text/x-python",
   "name": "python",
   "nbconvert_exporter": "python",
   "pygments_lexer": "ipython3",
   "version": "3.8.3"
  }
 },
 "nbformat": 4,
 "nbformat_minor": 4
}

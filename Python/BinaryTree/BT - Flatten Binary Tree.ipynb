{
 "cells": [
  {
   "cell_type": "markdown",
   "metadata": {},
   "source": [
    "## Problem: Flatten Binary Tree\n",
    "\n",
    "Write a function that takes in a Binary Tree, flattens it, and returns its leftmost node.\n",
    "A flattened Binary Tree is a structure that's nearly identical to a Doubly Linked List (except that nodes\n",
    "have left and right pointers instead of prev and next pointers), where nodes follow the\n",
    "original tree's left-to-right order.\n",
    "Note that if the input Binary Tree happens to be a valid Binary Search Tree, the nodes in the flattened\n",
    "tree will be sorted.\n",
    "The flattening should be done in place, meaning that the original data structure should be mutated (no\n",
    "new structure should be created).\n",
    "Each BinaryTree node has an integer value , a left child node, and a right child node.\n",
    "Children nodes can either be BinaryTree nodes themselves or None / null .\n",
    "\n",
    "Example:\n",
    "tree = \n",
    "\n",
    "             1\n",
    "           /  \\\n",
    "          2    3\n",
    "         / \\  /\n",
    "        4   5 6\n",
    "           / \\\n",
    "          7   8\n",
    "\n",
    "Output:\n",
    "\n",
    "4 <-> 2 <-> 7 <-> 5 <-> 8 <-> 1 <-> 6 <-> 3 // the leftmost node with value 4\n"
   ]
  },
  {
   "cell_type": "code",
   "execution_count": 1,
   "metadata": {},
   "outputs": [],
   "source": [
    "# This is the class of the input root. Do not edit it.\n",
    "class BinaryTree:\n",
    "    def __init__(self, value, left=None, right=None):\n",
    "        self.value = value\n",
    "        self.left = left\n",
    "        self.right = right\n",
    "\n",
    "\n",
    "def flattenBinaryTree(root):\n",
    "    # Write your code here.\n",
    "    leftMost, _ = helper(root)\n",
    "    return leftMost\n",
    "\n",
    "def helper(root):\n",
    "    if root.left is None:\n",
    "        leftMost = root\n",
    "    else:\n",
    "        leftside, rightside = helper(root.left)\n",
    "        rightside.right = root\n",
    "        root.left = rightside\n",
    "        leftMost = leftside\n",
    "    if root.right is None:\n",
    "        rightMost = root\n",
    "    else:\n",
    "        leftside, rightside = helper(root.right)\n",
    "        leftside.left = root\n",
    "        root.right = leftside\n",
    "        rightMost = rightside\n",
    "    return (leftMost, rightMost)"
   ]
  },
  {
   "cell_type": "code",
   "execution_count": null,
   "metadata": {},
   "outputs": [],
   "source": []
  }
 ],
 "metadata": {
  "kernelspec": {
   "display_name": "Python 3",
   "language": "python",
   "name": "python3"
  },
  "language_info": {
   "codemirror_mode": {
    "name": "ipython",
    "version": 3
   },
   "file_extension": ".py",
   "mimetype": "text/x-python",
   "name": "python",
   "nbconvert_exporter": "python",
   "pygments_lexer": "ipython3",
   "version": "3.8.3"
  }
 },
 "nbformat": 4,
 "nbformat_minor": 4
}

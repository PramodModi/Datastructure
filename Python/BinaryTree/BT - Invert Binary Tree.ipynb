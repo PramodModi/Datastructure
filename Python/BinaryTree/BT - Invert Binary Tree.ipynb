{
 "cells": [
  {
   "cell_type": "markdown",
   "metadata": {},
   "source": [
    "## Problem: Invert Binary Tree\n",
    "\n",
    "Write a function that takes in a Binary Tree and inverts it. In other words, the function should swap\n",
    "every left node in the tree for its corresponding right node.\n",
    "Each BinaryTree node has an integer value , a left child node, and a right child node.\n",
    "Children nodes can either be BinaryTree nodes themselves or None / null .\n",
    "\n",
    "Example:\n",
    "\n",
    "tree =\n",
    "\n",
    "          1\n",
    "         /  \\\n",
    "         2    3\n",
    "         / \\  / \\\n",
    "         4  5 6 7\n",
    "        / \\\n",
    "        8 9\n",
    "\n",
    "Output:\n",
    "\n",
    "      1\n",
    "     / \\\n",
    "     3   2\n",
    "     / \\ / \\\n",
    "    7  6 5 4\n",
    "          / \\\n",
    "           9 8"
   ]
  },
  {
   "cell_type": "code",
   "execution_count": 5,
   "metadata": {},
   "outputs": [],
   "source": [
    "# This is the class of the input binary tree.\n",
    "class BinaryTree:\n",
    "    def __init__(self, value, leftNode= None, rightNode = None):\n",
    "        self.value = value\n",
    "        self.left = leftNode\n",
    "        self.right = rightNode"
   ]
  },
  {
   "cell_type": "code",
   "execution_count": 6,
   "metadata": {},
   "outputs": [],
   "source": [
    "def invertBinaryTree(tree):\n",
    "    # Write your code here.\n",
    "    if tree is None:\n",
    "        return\n",
    "    invertBinaryTree(tree.left)\n",
    "    invertBinaryTree(tree.right)\n",
    "    tree.left, tree.right = tree.right, tree.left\n"
   ]
  },
  {
   "cell_type": "code",
   "execution_count": 11,
   "metadata": {},
   "outputs": [],
   "source": [
    "def printTree(root):\n",
    "    if root:\n",
    "        print(root.value )\n",
    "        printTree(root.left)\n",
    "        printTree(root.right)\n"
   ]
  },
  {
   "cell_type": "code",
   "execution_count": 12,
   "metadata": {},
   "outputs": [
    {
     "name": "stdout",
     "output_type": "stream",
     "text": [
      "1\n",
      "3\n",
      "7\n",
      "6\n",
      "2\n",
      "5\n",
      "4\n",
      "9\n",
      "8\n"
     ]
    }
   ],
   "source": [
    "root = BinaryTree(1, BinaryTree(2, BinaryTree(4, BinaryTree(8), BinaryTree(9)), BinaryTree(5)), BinaryTree(3, BinaryTree(6), BinaryTree(7)))\n",
    "invertBinaryTree(root)\n",
    "printTree(root)"
   ]
  },
  {
   "cell_type": "code",
   "execution_count": null,
   "metadata": {},
   "outputs": [],
   "source": []
  }
 ],
 "metadata": {
  "kernelspec": {
   "display_name": "Python 3 (ipykernel)",
   "language": "python",
   "name": "python3"
  },
  "language_info": {
   "codemirror_mode": {
    "name": "ipython",
    "version": 3
   },
   "file_extension": ".py",
   "mimetype": "text/x-python",
   "name": "python",
   "nbconvert_exporter": "python",
   "pygments_lexer": "ipython3",
   "version": "3.8.18"
  }
 },
 "nbformat": 4,
 "nbformat_minor": 4
}

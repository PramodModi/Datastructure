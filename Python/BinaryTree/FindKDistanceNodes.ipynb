{
 "cells": [
  {
   "cell_type": "markdown",
   "metadata": {},
   "source": [
    "## Problem\n",
    "From a given tree find the all nodes which are K distance away from given Target node value.\n",
    "Here, inputs are : Tree and targte node value\n",
    "Output expected: value of nodes which are K distance away from Target node.\n",
    "\n",
    "Here, distance means each link count between two nodes. \n",
    "\n",
    "Suppose a---b----c, here distance between a to c = 2 and a to b = 1 and b to c =1\n"
   ]
  },
  {
   "cell_type": "markdown",
   "metadata": {},
   "source": [
    "### Approach:\n",
    "\n",
    "First Approach:\n",
    "1. Find the node, and then travels down to all nodes left and right till distance = k\n",
    "2. Now, go up from node to find the nodes till distance = k\n",
    "3. To go up, we must have parent information about the node. So, while finding the node in step1, better to keep the track of parents. Or Good Idea is that first visit all nodes and store parent of all nodes as an step1 and then follow other steps.\n",
    "\n",
    "Steps:\n",
    "1. Get the parent of all node. Map node value as a key and parent node as a value\n",
    "2. Find the target node and parent from the populated map\n",
    "3. Add leftnode, rightnode and parentNode in a queue and check the distacne, if diatnce is K then add in the kth distance list and return, if not then repeat the same by increasing distance by 1.\n",
    "4. Make sure that do not visit the node twice."
   ]
  },
  {
   "cell_type": "code",
   "execution_count": 57,
   "metadata": {},
   "outputs": [],
   "source": [
    "import queue"
   ]
  },
  {
   "cell_type": "code",
   "execution_count": 58,
   "metadata": {},
   "outputs": [],
   "source": [
    "def findNodesDistanceK(tree, target, k):\n",
    "    nodeParentMap = {}\n",
    "    populateParent(tree, nodeParentMap)\n",
    "    targetNode = findNode(tree, target, nodeParentMap)\n",
    "    kDistanceNodes = findKDistanceNodes(targetNode, k, nodeParentMap)\n",
    "    return kDistanceNodes\n",
    "\n",
    "def populateParent(tree, nodeParentMap, parent = None):\n",
    "    if tree:\n",
    "        nodeParentMap[tree.data] = parent\n",
    "        populateParent(tree.left, nodeParentMap, tree)\n",
    "        populateParent(tree.right, nodeParentMap, tree)\n",
    "        \n",
    "def findNode(tree, target, nodeParentMap):\n",
    "    if tree.data == target:\n",
    "        return tree\n",
    "    parent = nodeParentMap[target]\n",
    "    if parent.left is not None and parent.left.data == target:\n",
    "        return parent.left\n",
    "    else:\n",
    "        return parent.right\n",
    "    \n",
    "def findKDistanceNodes(targetNode, k, nodeParentMap):\n",
    "    \n",
    "    Q = queue.Queue()\n",
    "    Q.put((targetNode, 0))\n",
    "    visited = [targetNode.data]\n",
    "    while Q.empty() is not True:\n",
    "        node, distance = Q.get()\n",
    "        if distance == k:\n",
    "            # Got the nodes with K distance from target node\n",
    "            # now, retrive all data from Queue and return\n",
    "            kDistanceNodes = []\n",
    "            while Q.empty() is not True:\n",
    "                n, _ = Q.get()\n",
    "                kDistanceNodes.append(n.data)\n",
    "            kDistanceNodes.append(node.data)\n",
    "            return kDistanceNodes\n",
    "        if node.left is not None and node.left.data not in visited:\n",
    "            Q.put((node.left, distance+1))\n",
    "            visited.append(node.left.data)\n",
    "        if node.right is not None and node.right.data not in visited:\n",
    "            Q.put((node.right, distance+1))\n",
    "            visited.append(node.right.data)\n",
    "        parent = nodeParentMap[node.data]\n",
    "        if parent is not None and parent.data not in visited:\n",
    "            Q.put((parent, distance+1))\n",
    "            visited.append(parent.data)\n",
    "    "
   ]
  },
  {
   "cell_type": "code",
   "execution_count": 59,
   "metadata": {},
   "outputs": [],
   "source": [
    "# Binary Tree\n",
    "class BinaryTree:\n",
    "    def __init__(self, data,left=None, right=None):\n",
    "        self.left = left\n",
    "        self.right = right\n",
    "        self.data = data\n",
    "        \n",
    "    def insert(self, data):\n",
    "        root = self\n",
    "        if root is None:\n",
    "            root = BinaryTree(data)\n",
    "            return\n",
    "        Q = queue.Queue()\n",
    "        Q.put(root)\n",
    "        while Q.empty() is not True:\n",
    "            root = Q.get()\n",
    "            if root.left is None:\n",
    "                root.left = BinaryTree(data)\n",
    "                return\n",
    "            else:\n",
    "                Q.put(root.left)\n",
    "            if root.right is None:\n",
    "                root.right = BinaryTree(data)\n",
    "                return\n",
    "            else:\n",
    "                Q.put(root.right)\n",
    "def inorder(tree):\n",
    "    if tree:\n",
    "        inorder(tree.left)\n",
    "        print(tree.data)\n",
    "        inorder(tree.right)\n",
    "def preorder(tree):\n",
    "    if tree:\n",
    "        print(tree.data)\n",
    "        preorder(tree.left)\n",
    "        preorder(tree.right)\n",
    "def postorder(tree):\n",
    "    if tree:\n",
    "        postorder(tree.left)\n",
    "        postorder(tree.right)\n",
    "        print(tree.data)"
   ]
  },
  {
   "cell_type": "raw",
   "metadata": {},
   "source": [
    "# Tree\n",
    "         1\n",
    "       /    \\\n",
    "     2       7\n",
    "    / \\      /\\\n",
    "   4   5    3  8 \n",
    "  / \n",
    " 6\n",
    "\n"
   ]
  },
  {
   "cell_type": "code",
   "execution_count": 60,
   "metadata": {},
   "outputs": [
    {
     "name": "stdout",
     "output_type": "stream",
     "text": [
      "*****inorder*********\n",
      "\n",
      "6\n",
      "4\n",
      "2\n",
      "5\n",
      "1\n",
      "3\n",
      "7\n",
      "8\n",
      "*****preorder*********\n",
      "\n",
      "1\n",
      "2\n",
      "4\n",
      "6\n",
      "5\n",
      "7\n",
      "3\n",
      "8\n",
      "*****postorder*********\n",
      "\n",
      "6\n",
      "4\n",
      "5\n",
      "2\n",
      "3\n",
      "8\n",
      "7\n",
      "1\n"
     ]
    }
   ],
   "source": [
    "bt = BinaryTree(1)\n",
    "bt.insert(2)\n",
    "bt.insert(7)\n",
    "bt.insert(4)\n",
    "bt.insert(5)\n",
    "bt.insert(3)\n",
    "bt.insert(8)\n",
    "bt.insert(6)\n",
    "print(\"*****inorder*********\\n\")\n",
    "inorder(bt)\n",
    "print(\"*****preorder*********\\n\")\n",
    "preorder(bt)\n",
    "print(\"*****postorder*********\\n\")\n",
    "postorder(bt)"
   ]
  },
  {
   "cell_type": "code",
   "execution_count": 61,
   "metadata": {},
   "outputs": [
    {
     "name": "stdout",
     "output_type": "stream",
     "text": [
      "[1, 4]\n"
     ]
    }
   ],
   "source": [
    "print(findNodesDistanceK(bt, 5,2))"
   ]
  },
  {
   "cell_type": "code",
   "execution_count": 62,
   "metadata": {},
   "outputs": [
    {
     "name": "stdout",
     "output_type": "stream",
     "text": [
      "[7, 6]\n"
     ]
    }
   ],
   "source": [
    "print(findNodesDistanceK(bt, 5,3))"
   ]
  },
  {
   "cell_type": "code",
   "execution_count": 63,
   "metadata": {},
   "outputs": [
    {
     "name": "stdout",
     "output_type": "stream",
     "text": [
      "[2]\n"
     ]
    }
   ],
   "source": [
    "print(findNodesDistanceK(bt, 3,3))"
   ]
  },
  {
   "cell_type": "code",
   "execution_count": 64,
   "metadata": {},
   "outputs": [
    {
     "name": "stdout",
     "output_type": "stream",
     "text": [
      "[5, 4]\n"
     ]
    }
   ],
   "source": [
    "print(findNodesDistanceK(bt, 7,3))"
   ]
  },
  {
   "cell_type": "code",
   "execution_count": 65,
   "metadata": {},
   "outputs": [
    {
     "name": "stdout",
     "output_type": "stream",
     "text": [
      "[1, 5]\n"
     ]
    }
   ],
   "source": [
    "print(findNodesDistanceK(bt, 4,2))"
   ]
  },
  {
   "cell_type": "raw",
   "metadata": {},
   "source": [
    "Approach 2\n",
    "\n",
    "Start from root node and keep the distance trevelled. Once find the node, travels down to all nodes left and right till distance = k. Then go up to find nodes having distance k. Distance calculation will be done with the help of keeping distance.\n",
    "\n",
    "Steps:\n",
    "1. Start from root node, go to left and then right recursively. Return 1, if node is found otherwise -1\n",
    "2. If node is found then find other child nodes having distance of value K and insert those nodes in the nodelist (result). Starting distance would be 0, if node is target node\n",
    "3. Go up with increase distance by 1, and then traverse to child nodes till distance = k. Insert nodes in the nodelist (result)."
   ]
  },
  {
   "cell_type": "code",
   "execution_count": 68,
   "metadata": {},
   "outputs": [],
   "source": [
    "def findNodesDistanceK2(tree, target, k):\n",
    "    kDistanceNodeList = []\n",
    "    findNodes(tree, target, k, kDistanceNodeList)\n",
    "    return kDistanceNodeList\n",
    "\n",
    "def findNodes(node, target, k, kDistanceNodeList):\n",
    "    if node is None:\n",
    "        return -1\n",
    "    \n",
    "    if node.data == target:\n",
    "        findKNodes(node, 0, k, kDistanceNodeList)\n",
    "        return 1\n",
    "    \n",
    "    leftDistance = findNodes(node.left, target, k, kDistanceNodeList)\n",
    "    rightDistance = findNodes(node.right, target, k, kDistanceNodeList)\n",
    "    \n",
    "    if leftDistance == k or rightDistance == k:\n",
    "        kDistanceNodeList.append(node.data)\n",
    "    \n",
    "    if leftDistance != -1:\n",
    "        findKNodes(node.right, leftDistance + 1, k, kDistanceNodeList)\n",
    "        return leftDistance + 1\n",
    "    \n",
    "    if rightDistance != -1:\n",
    "        findKNodes(node.left, rightDistance + 1, k, kDistanceNodeList)\n",
    "        return rightDistance + 1\n",
    "    \n",
    "    return -1\n",
    "\n",
    "def findKNodes(node, distance, k, kDistanceNodeList):\n",
    "    if node is None:\n",
    "        return\n",
    "    if distance == k:\n",
    "        kDistanceNodeList.append(node.data)\n",
    "        \n",
    "    findKNodes(node.left, distance + 1, k, kDistanceNodeList)\n",
    "    findKNodes(node.right, distance + 1, k, kDistanceNodeList)"
   ]
  },
  {
   "cell_type": "code",
   "execution_count": 69,
   "metadata": {},
   "outputs": [
    {
     "name": "stdout",
     "output_type": "stream",
     "text": [
      "[4, 1]\n"
     ]
    }
   ],
   "source": [
    "print(findNodesDistanceK2(bt, 5,2))"
   ]
  },
  {
   "cell_type": "code",
   "execution_count": 70,
   "metadata": {},
   "outputs": [
    {
     "name": "stdout",
     "output_type": "stream",
     "text": [
      "[6, 7]\n"
     ]
    }
   ],
   "source": [
    "print(findNodesDistanceK2(bt, 5,3))"
   ]
  },
  {
   "cell_type": "code",
   "execution_count": 71,
   "metadata": {},
   "outputs": [
    {
     "name": "stdout",
     "output_type": "stream",
     "text": [
      "[2]\n"
     ]
    }
   ],
   "source": [
    "print(findNodesDistanceK(bt, 3,3))"
   ]
  },
  {
   "cell_type": "code",
   "execution_count": 72,
   "metadata": {},
   "outputs": [
    {
     "name": "stdout",
     "output_type": "stream",
     "text": [
      "[4, 5]\n"
     ]
    }
   ],
   "source": [
    "print(findNodesDistanceK(bt, 7,3))"
   ]
  },
  {
   "cell_type": "code",
   "execution_count": 73,
   "metadata": {},
   "outputs": [
    {
     "name": "stdout",
     "output_type": "stream",
     "text": [
      "[5, 1]\n"
     ]
    }
   ],
   "source": [
    "print(findNodesDistanceK(bt, 4,2))"
   ]
  },
  {
   "cell_type": "code",
   "execution_count": null,
   "metadata": {},
   "outputs": [],
   "source": []
  }
 ],
 "metadata": {
  "kernelspec": {
   "display_name": "Python 3",
   "language": "python",
   "name": "python3"
  },
  "language_info": {
   "codemirror_mode": {
    "name": "ipython",
    "version": 3
   },
   "file_extension": ".py",
   "mimetype": "text/x-python",
   "name": "python",
   "nbconvert_exporter": "python",
   "pygments_lexer": "ipython3",
   "version": "3.8.3"
  }
 },
 "nbformat": 4,
 "nbformat_minor": 4
}

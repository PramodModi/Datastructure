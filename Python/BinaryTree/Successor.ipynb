{
 "cells": [
  {
   "cell_type": "markdown",
   "metadata": {},
   "source": [
    "## Problem:\n",
    "Write a function that takes in a Binary Tree (where nodes have an additional pointer to their parent node) as well as a node contained in that tree and returns the given node's successor. A node's successor is the next node to be visited (immediately after the given node) when traversing its tree using the in-order tree-traversal technique. A node has no successor if it's the last node to be visited in the in-order traversal. If a node has no successor, your function should return None / null . Each BinaryTree node has an integer value , a parent node, a left child node, and a right child node. Children nodes can either be BinaryTree nodes themselves or None / null .\n",
    "\n",
    "Example:\n",
    "\n",
    "tree =\n",
    "\n",
    "             1\n",
    "            / \\\n",
    "           2   3\n",
    "         /  \\\n",
    "        4    5\n",
    "       /\n",
    "      6\n",
    "\n",
    "node = 5\n",
    "\n",
    "Sample Output\n",
    "\n",
    "1\n",
    "\n",
    "// This tree's in-order traversal order is:\n",
    "\n",
    "// 6 -> 4 -> 2 -> 5 -> 1 -> 3\n",
    "\n",
    "// 1 comes immediately after 5."
   ]
  },
  {
   "cell_type": "markdown",
   "metadata": {},
   "source": [
    "##\n",
    "Two aproach:\n",
    "1. Get the Inorder list, iterate to the node and return next node:\n",
    "    O(n) time complexity and O(n) space complexity.\n",
    "2. Apply diffferent logic to find the successor without traversing all nodes and without storing all nodes.\n",
    "    Need Parent as one element in each node.\n",
    "    O(h) time complexity h = height of node. O(1) is the space complexity"
   ]
  },
  {
   "cell_type": "markdown",
   "metadata": {},
   "source": [
    "### Approach two:\n",
    "Immediate successor of a node is , right subtree’s left most node. If right subtree is not there then its parent. However, if node is a right child of parent, then successor is parent’s parent."
   ]
  },
  {
   "cell_type": "code",
   "execution_count": 3,
   "metadata": {},
   "outputs": [],
   "source": [
    "import queue\n"
   ]
  },
  {
   "cell_type": "code",
   "execution_count": 47,
   "metadata": {},
   "outputs": [],
   "source": [
    "# Approach 2\n",
    "\n",
    "def getSuccessor(node):\n",
    "    if node.right is not None:\n",
    "        return leftMostNode(node.right)\n",
    "    return rightMostParent(node)\n",
    "\n",
    "def leftMostNode(node):\n",
    "    while node.left:\n",
    "        node = node.left\n",
    "    return node\n",
    "\n",
    "def rightMostParent(node):\n",
    "    \n",
    "    while node.parent is not None and node.parent.right == node:\n",
    "        node = node.parent\n",
    "    return node.parent"
   ]
  },
  {
   "cell_type": "code",
   "execution_count": 48,
   "metadata": {},
   "outputs": [],
   "source": [
    "class BinaryTree:\n",
    "    def __init__(self, data, left= None, right= None, parent = None):\n",
    "        self.left = left\n",
    "        self.right = right\n",
    "        self.parent = parent\n",
    "        self.data = data\n",
    "    \n",
    "    def insert(self, data):\n",
    "        root = self\n",
    "        if root is None:\n",
    "            root = BinaryTree(data)\n",
    "            return\n",
    "        \n",
    "        Q = queue.Queue()\n",
    "        Q.put(root)\n",
    "        while (Q.empty() is not True):\n",
    "            node = Q.get()\n",
    "            if node.left is None:\n",
    "                node.left = BinaryTree(data, None, None, node)\n",
    "                return\n",
    "            else: \n",
    "                Q.put(node.left)\n",
    "            if node.right is None:\n",
    "                node.right = BinaryTree(data, None, None, node)\n",
    "                return\n",
    "            else:\n",
    "                Q.put(node.right)\n",
    "    \n",
    "    def getNode(self, data):\n",
    "        root = self\n",
    "        if root is None:\n",
    "            return None\n",
    "        Q = queue.Queue()\n",
    "        Q.put(root)\n",
    "        while Q.empty() is not None:\n",
    "            root = Q.get()\n",
    "            if root.data == data:\n",
    "                return root\n",
    "            if root.left is not None:\n",
    "                Q.put(root.left)\n",
    "            if root.right is not None:\n",
    "                Q.put(root.right)\n",
    "        return None\n",
    "    \n",
    "def inorder(tree):\n",
    "    if tree:\n",
    "        inorder(tree.left)\n",
    "        print(tree.data)\n",
    "        inorder(tree.right)"
   ]
  },
  {
   "cell_type": "code",
   "execution_count": 49,
   "metadata": {},
   "outputs": [],
   "source": [
    "bt = BinaryTree(1)\n",
    "bt.insert(2)\n",
    "bt.insert(7)\n",
    "bt.insert(4)\n",
    "bt.insert(5)\n",
    "bt.insert(3)\n",
    "bt.insert(8)\n",
    "bt.insert(6)\n"
   ]
  },
  {
   "cell_type": "code",
   "execution_count": 50,
   "metadata": {},
   "outputs": [
    {
     "name": "stdout",
     "output_type": "stream",
     "text": [
      "6\n",
      "4\n",
      "2\n",
      "5\n",
      "1\n",
      "3\n",
      "7\n",
      "8\n"
     ]
    }
   ],
   "source": [
    "inorder(bt)"
   ]
  },
  {
   "cell_type": "code",
   "execution_count": 51,
   "metadata": {},
   "outputs": [
    {
     "name": "stdout",
     "output_type": "stream",
     "text": [
      "2\n",
      "7\n"
     ]
    }
   ],
   "source": [
    "node = bt.getNode(1)\n",
    "print(node.left.data)\n",
    "print(node.right.data)"
   ]
  },
  {
   "cell_type": "code",
   "execution_count": 52,
   "metadata": {},
   "outputs": [
    {
     "name": "stdout",
     "output_type": "stream",
     "text": [
      "3\n"
     ]
    }
   ],
   "source": [
    "node = bt.getNode(1)\n",
    "print(getSuccessor(node).data)"
   ]
  },
  {
   "cell_type": "code",
   "execution_count": 53,
   "metadata": {},
   "outputs": [
    {
     "name": "stdout",
     "output_type": "stream",
     "text": [
      "7\n"
     ]
    }
   ],
   "source": [
    "node = bt.getNode(3)\n",
    "print(getSuccessor(node).data)"
   ]
  },
  {
   "cell_type": "code",
   "execution_count": 54,
   "metadata": {},
   "outputs": [
    {
     "name": "stdout",
     "output_type": "stream",
     "text": [
      "2\n"
     ]
    }
   ],
   "source": [
    "node = bt.getNode(4)\n",
    "print(getSuccessor(node).data)"
   ]
  },
  {
   "cell_type": "code",
   "execution_count": 55,
   "metadata": {},
   "outputs": [
    {
     "name": "stdout",
     "output_type": "stream",
     "text": [
      "1\n"
     ]
    }
   ],
   "source": [
    "node = bt.getNode(5)\n",
    "print(getSuccessor(node).data)"
   ]
  },
  {
   "cell_type": "code",
   "execution_count": 56,
   "metadata": {},
   "outputs": [
    {
     "name": "stdout",
     "output_type": "stream",
     "text": [
      "8\n"
     ]
    }
   ],
   "source": [
    "node = bt.getNode(7)\n",
    "print(getSuccessor(node).data)"
   ]
  },
  {
   "cell_type": "code",
   "execution_count": 57,
   "metadata": {},
   "outputs": [
    {
     "ename": "AttributeError",
     "evalue": "'NoneType' object has no attribute 'data'",
     "output_type": "error",
     "traceback": [
      "\u001b[0;31m---------------------------------------------------------------------------\u001b[0m",
      "\u001b[0;31mAttributeError\u001b[0m                            Traceback (most recent call last)",
      "\u001b[0;32m<ipython-input-57-9e3360697354>\u001b[0m in \u001b[0;36m<module>\u001b[0;34m\u001b[0m\n\u001b[1;32m      1\u001b[0m \u001b[0mnode\u001b[0m \u001b[0;34m=\u001b[0m \u001b[0mbt\u001b[0m\u001b[0;34m.\u001b[0m\u001b[0mgetNode\u001b[0m\u001b[0;34m(\u001b[0m\u001b[0;36m8\u001b[0m\u001b[0;34m)\u001b[0m\u001b[0;34m\u001b[0m\u001b[0;34m\u001b[0m\u001b[0m\n\u001b[0;32m----> 2\u001b[0;31m \u001b[0mprint\u001b[0m\u001b[0;34m(\u001b[0m\u001b[0mgetSuccessor\u001b[0m\u001b[0;34m(\u001b[0m\u001b[0mnode\u001b[0m\u001b[0;34m)\u001b[0m\u001b[0;34m.\u001b[0m\u001b[0mdata\u001b[0m\u001b[0;34m)\u001b[0m\u001b[0;34m\u001b[0m\u001b[0;34m\u001b[0m\u001b[0m\n\u001b[0m",
      "\u001b[0;31mAttributeError\u001b[0m: 'NoneType' object has no attribute 'data'"
     ]
    }
   ],
   "source": [
    "# There is no successor of node 8. getSuccessor will return None.\n",
    "node = bt.getNode(8)\n",
    "print(getSuccessor(node).data)"
   ]
  },
  {
   "cell_type": "code",
   "execution_count": null,
   "metadata": {},
   "outputs": [],
   "source": []
  }
 ],
 "metadata": {
  "kernelspec": {
   "display_name": "Python 3",
   "language": "python",
   "name": "python3"
  },
  "language_info": {
   "codemirror_mode": {
    "name": "ipython",
    "version": 3
   },
   "file_extension": ".py",
   "mimetype": "text/x-python",
   "name": "python",
   "nbconvert_exporter": "python",
   "pygments_lexer": "ipython3",
   "version": "3.8.3"
  }
 },
 "nbformat": 4,
 "nbformat_minor": 4
}

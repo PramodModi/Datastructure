{
 "cells": [
  {
   "cell_type": "markdown",
   "metadata": {},
   "source": [
    "## Problem\n",
    "\n",
    "Return the sum of each branches of Binary tree."
   ]
  },
  {
   "cell_type": "code",
   "execution_count": 1,
   "metadata": {},
   "outputs": [],
   "source": [
    "import queue"
   ]
  },
  {
   "cell_type": "code",
   "execution_count": 2,
   "metadata": {},
   "outputs": [],
   "source": [
    "class BT:\n",
    "    def __init__(self, value):\n",
    "        self.value = value\n",
    "        self.left = None\n",
    "        self.right = None\n",
    "    \n",
    "    def insert(self, value):\n",
    "        root = self\n",
    "        if root is None:\n",
    "            root = BT(value)\n",
    "            return\n",
    "        Q = queue.Queue()\n",
    "        Q.put(root)\n",
    "        while Q.empty() is not True:\n",
    "            root = Q.get()\n",
    "            if root.left is None:\n",
    "                root.left = BT(value)\n",
    "                return\n",
    "            if root.right is None:\n",
    "                root.right = BT(value)\n",
    "                return\n",
    "            Q.put(root.left)\n",
    "            Q.put(root.right)\n",
    "        return\n",
    "\n",
    "def preorder(root):\n",
    "    if root:\n",
    "        print(root.value)\n",
    "        preorder(root.left)\n",
    "        preorder(root.right)\n",
    "\n",
    "            \n",
    "        "
   ]
  },
  {
   "cell_type": "code",
   "execution_count": 9,
   "metadata": {},
   "outputs": [],
   "source": [
    "def branchSum(tree):\n",
    "    sums =[]\n",
    "    calculateBranchSums(tree, 0, sums)\n",
    "    return sums\n",
    "def calculateBranchSums(node, currentSum, sums):\n",
    "    if node is None:\n",
    "        return\n",
    "    currentSum += node.value\n",
    "    \n",
    "    if node.left is None and node.right is None:\n",
    "        sums.append(currentSum)\n",
    "        return\n",
    "    calculateBranchSums(node.left, currentSum, sums)\n",
    "    calculateBranchSums(node.right, currentSum, sums)"
   ]
  },
  {
   "cell_type": "code",
   "execution_count": 10,
   "metadata": {},
   "outputs": [
    {
     "name": "stdout",
     "output_type": "stream",
     "text": [
      "1\n",
      "2\n",
      "4\n",
      "8\n",
      "9\n",
      "5\n",
      "10\n",
      "3\n",
      "6\n",
      "7\n"
     ]
    }
   ],
   "source": [
    "b = BT(1)\n",
    "b.insert(2)\n",
    "b.insert(3)\n",
    "b.insert(4)\n",
    "b.insert(5)\n",
    "b.insert(6)\n",
    "b.insert(7)\n",
    "b.insert(8)\n",
    "b.insert(9)\n",
    "b.insert(10)\n",
    "preorder(b)"
   ]
  },
  {
   "cell_type": "code",
   "execution_count": 11,
   "metadata": {},
   "outputs": [
    {
     "data": {
      "text/plain": [
       "[15, 16, 18, 10, 11]"
      ]
     },
     "execution_count": 11,
     "metadata": {},
     "output_type": "execute_result"
    }
   ],
   "source": [
    "branchSum(b)"
   ]
  }
 ],
 "metadata": {
  "kernelspec": {
   "display_name": "Python 3",
   "language": "python",
   "name": "python3"
  },
  "language_info": {
   "codemirror_mode": {
    "name": "ipython",
    "version": 3
   },
   "file_extension": ".py",
   "mimetype": "text/x-python",
   "name": "python",
   "nbconvert_exporter": "python",
   "pygments_lexer": "ipython3",
   "version": "3.8.3"
  }
 },
 "nbformat": 4,
 "nbformat_minor": 4
}

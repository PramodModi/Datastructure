{
 "cells": [
  {
   "cell_type": "markdown",
   "metadata": {},
   "source": [
    "## Problem: \n",
    "\n",
    "If you open the keypad of your mobile phone, it'll likely look like this:\n",
    "\n",
    "     ----- ----- -----\n",
    "     |   |    |    |\n",
    "     | 1 | 2  | 3  |\n",
    "     |   | abc| def|\n",
    "     ----- ----- -----\n",
    "     |   |   |   |\n",
    "     | 4 | 5 | 6 |\n",
    "     |ghi|jkl|mno|\n",
    "     ----- ----- -----\n",
    "     |    |   |    |\n",
    "     | 7  | 8 | 9  |\n",
    "     |pqrs|tuv|wxyz|\n",
    "     ----- ----- -----\n",
    "     |   |\n",
    "     | 0 |\n",
    " \n",
    "Almost every digit is associated with some letters in the alphabet; this allows certain phone numbers to\n",
    "spell out actual words. For example, the phone number 8464747328 can be written as\n",
    "timisgreat ; similarly, the phone number 2686463 can be written as antoine or as ant6463 .\n",
    "It's important to note that a phone number doesn't represent a single sequence of letters, but rather\n",
    "multiple combinations of letters. For instance, the digit 2 can represent three different letters (a, b,\n",
    "and c).\n",
    "A mnemonic is defined as a pattern of letters, ideas, or associations that assist in remembering\n",
    "something. Companies oftentimes use a mnemonic for their phone number to make it easier to\n",
    "remember.\n",
    "Given a stringified phone number of any non-zero length, write a function that returns all mnemonics\n",
    "for this phone number, in any order.\n",
    "For this problem, a valid mnemonic may only contain letters and the digits 0 and 1 . In other words,\n",
    "if a digit is able to be represented by a letter, then it must be. Digits 0 and 1 are the only two digits\n",
    "that don't have letter representations on the keypad.\n",
    "Note that you should rely on the keypad illustrated above for digit-letter associations.\n",
    "\n",
    "Example:\n",
    "\n",
    "phoneNumber = \"1905\"\n",
    "\n",
    "output:\n",
    "\n",
    "    [\n",
    "        \"1w0j\",\n",
    "        \"1w0k\",\n",
    "        \"1w0l\",\n",
    "        \"1x0j\",\n",
    "        \"1x0k\",\n",
    "        \"1x0k\",\n",
    "        \"1y0j\",\n",
    "        \"1y0k\",\n",
    "        \"1y0l\",\n",
    "        \"1z0j\",\n",
    "        \"1z0k\",\n",
    "        \"1z0l\",\n",
    "       ]\n",
    "        \n",
    "    "
   ]
  },
  {
   "cell_type": "code",
   "execution_count": 1,
   "metadata": {},
   "outputs": [],
   "source": [
    "def phoneNumberMnemonics(phoneNumber):\n",
    "    # Write your code here.\n",
    "    result = []\n",
    "    getMnemonics(result, [], 0, phoneNumber)\n",
    "    return result\n",
    "def getMnemonics(result, temp, idx,phoneNumber):\n",
    "    if idx == len(phoneNumber):\n",
    "        m = \"\".join(temp)\n",
    "        result.append(m)\n",
    "        return\n",
    "    alpha = alphabet[int(phoneNumber[idx])]\n",
    "    for c in alpha:\n",
    "        getMnemonics(result, temp+[c], idx+1, phoneNumber )\n",
    "\n",
    "alphabet = [\"0\", \"1\", \"abc\", \"def\", \"ghi\", \"jkl\", \"mno\", \"pqrs\",\"tuv\", \"wxyz\"]"
   ]
  },
  {
   "cell_type": "code",
   "execution_count": 2,
   "metadata": {},
   "outputs": [
    {
     "data": {
      "text/plain": [
       "['1w0j',\n",
       " '1w0k',\n",
       " '1w0l',\n",
       " '1x0j',\n",
       " '1x0k',\n",
       " '1x0l',\n",
       " '1y0j',\n",
       " '1y0k',\n",
       " '1y0l',\n",
       " '1z0j',\n",
       " '1z0k',\n",
       " '1z0l']"
      ]
     },
     "execution_count": 2,
     "metadata": {},
     "output_type": "execute_result"
    }
   ],
   "source": [
    "phoneNumber = \"1905\"\n",
    "phoneNumberMnemonics(phoneNumber)"
   ]
  },
  {
   "cell_type": "code",
   "execution_count": null,
   "metadata": {},
   "outputs": [],
   "source": []
  }
 ],
 "metadata": {
  "kernelspec": {
   "display_name": "Python 3",
   "language": "python",
   "name": "python3"
  },
  "language_info": {
   "codemirror_mode": {
    "name": "ipython",
    "version": 3
   },
   "file_extension": ".py",
   "mimetype": "text/x-python",
   "name": "python",
   "nbconvert_exporter": "python",
   "pygments_lexer": "ipython3",
   "version": "3.8.3"
  }
 },
 "nbformat": 4,
 "nbformat_minor": 4
}

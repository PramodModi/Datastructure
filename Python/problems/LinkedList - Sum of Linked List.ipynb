{
 "cells": [
  {
   "cell_type": "markdown",
   "metadata": {},
   "source": [
    "## Problem:\n",
    "\n",
    "You're given two Linked Lists of potentially unequal length. Each Linked List represents a non-negative\n",
    "integer, where each node in the Linked List is a digit of that integer, and the first node in each Linked\n",
    "List always represents the least significant digit of the integer. Write a function that returns the head of\n",
    "a new Linked List that represents the sum of the integers represented by the two input Linked Lists.\n",
    "Each LinkedList node has an integer value as well as a next node pointing to the next node in\n",
    "the list or to None / null if it's the tail of the list. The value of each LinkedList node is always\n",
    "in the range of 0 - 9 .\n",
    "Note: your function must create and return a new Linked List, and you're not allowed to modify either\n",
    "of the input Linked Lists.\n",
    "\n",
    "Example:\n",
    "\n",
    "linkedListOne = 2 -> 4 -> 7 -> 1\n",
    "\n",
    "linkedListTwo = 9 -> 4 -> 5\n",
    "\n",
    "Output = \n",
    "1 -> 9 -> 2 -> 2\n",
    "\n",
    "// linkedListOne represents 1742\n",
    "\n",
    "// linkedListTwo represents 549\n",
    "\n",
    "// 1742 + 549 = 2291"
   ]
  },
  {
   "cell_type": "code",
   "execution_count": 1,
   "metadata": {},
   "outputs": [],
   "source": [
    "# This is an input class. Do not edit.\n",
    "class LinkedList:\n",
    "    def __init__(self, value):\n",
    "        self.value = value\n",
    "        self.next = None\n",
    "\n",
    "\n",
    "def sumOfLinkedLists(linkedListOne, linkedListTwo):\n",
    "    # Write your code here.\n",
    "    newlinkedList = LinkedList(0)\n",
    "    currentNode = newlinkedList\n",
    "    carry = 0\n",
    "\n",
    "    nodeOne = linkedListOne\n",
    "    nodeTwo = linkedListTwo\n",
    "\n",
    "    while nodeOne is not None or nodeTwo is not None or carry != 0:\n",
    "\n",
    "        v1 = nodeOne.value if nodeOne is not None else 0\n",
    "        v2 = nodeTwo.value if nodeTwo is not None else 0\n",
    "\n",
    "        sum = v1+ v2+ carry\n",
    "\n",
    "        v = sum%10\n",
    "        newNode = LinkedList(v)\n",
    "        currentNode.next = newNode\n",
    "        currentNode = newNode\n",
    "\n",
    "        carry = sum // 10\n",
    "        nodeOne = nodeOne.next if nodeOne is not None else None\n",
    "        nodeTwo = nodeTwo.next if nodeTwo is not None else None\n",
    "\n",
    "\n",
    "\n",
    "    return newlinkedList.next"
   ]
  },
  {
   "cell_type": "code",
   "execution_count": null,
   "metadata": {},
   "outputs": [],
   "source": []
  }
 ],
 "metadata": {
  "kernelspec": {
   "display_name": "Python 3",
   "language": "python",
   "name": "python3"
  },
  "language_info": {
   "codemirror_mode": {
    "name": "ipython",
    "version": 3
   },
   "file_extension": ".py",
   "mimetype": "text/x-python",
   "name": "python",
   "nbconvert_exporter": "python",
   "pygments_lexer": "ipython3",
   "version": "3.8.3"
  }
 },
 "nbformat": 4,
 "nbformat_minor": 4
}

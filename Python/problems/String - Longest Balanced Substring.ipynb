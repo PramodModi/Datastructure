{
 "cells": [
  {
   "cell_type": "markdown",
   "metadata": {},
   "source": [
    "## Problem :\n",
    "\n",
    "Write a function that takes in a string made up of parentheses ( ( and ) ). The function should return\n",
    "an integer representing the length of the longest balanced substring with regards to parentheses.\n",
    "A string is said to be balanced if it has as many opening parentheses as it has closing parentheses and if\n",
    "no parenthesis is unmatched. Note that an opening parenthesis can't match a closing parenthesis that\n",
    "comes before it, and similarly, a closing parenthesis can't match an opening parenthesis that comes\n",
    "after it.\n",
    "\n",
    "Example:\n",
    "    string = \"(()))(\"\n",
    "\n",
    "Output\n",
    "4 // The longest balanced substring is \"(())\"."
   ]
  },
  {
   "cell_type": "code",
   "execution_count": 5,
   "metadata": {},
   "outputs": [],
   "source": [
    "# O(n) time | O(1) space\n",
    "\n",
    "def longestBalancedSubstring(string):\n",
    "    maxLen = 0\n",
    "    openCount, closeCount =0, 0\n",
    "    for char in string:\n",
    "        if char ==\"(\":\n",
    "            openCount += 1\n",
    "        else:\n",
    "            closeCount += 1\n",
    "        if openCount == closeCount:\n",
    "            maxLen = max(maxLen, closeCount *2)\n",
    "        elif closeCount > openCount:\n",
    "            openCount = 0\n",
    "            closeCount = 0\n",
    "    \n",
    "    openCount, closeCount =0, 0\n",
    "    \n",
    "    for i in reversed(range(len(string))):\n",
    "        char = string[i]\n",
    "        if char == \"(\":\n",
    "            openCount += 1\n",
    "        else:\n",
    "            closeCount += 1\n",
    "        if openCount == closeCount:\n",
    "            maxLen = max(maxLen, openCount*2)\n",
    "        \n",
    "        elif openCount > closeCount:\n",
    "            openCount = 0\n",
    "            closeCount = 0\n",
    "    return maxLen\n",
    "            "
   ]
  },
  {
   "cell_type": "code",
   "execution_count": 6,
   "metadata": {},
   "outputs": [
    {
     "data": {
      "text/plain": [
       "4"
      ]
     },
     "execution_count": 6,
     "metadata": {},
     "output_type": "execute_result"
    }
   ],
   "source": [
    "string = \"(()))(\"\n",
    "longestBalancedSubstring(string)"
   ]
  },
  {
   "cell_type": "code",
   "execution_count": 17,
   "metadata": {},
   "outputs": [],
   "source": [
    "# O(n) time | O(1) space\n",
    "\n",
    "def longestBalancedSubstring1(string):\n",
    "    \n",
    "    return max(getLongestBalancedSubstring(string, True), getLongestBalancedSubstring(string, False))\n",
    "    \n",
    "def getLongestBalancedSubstring(string, leftToRight):\n",
    "    openParens = \"(\" if leftToRight else \")\"\n",
    "    startIndex = 0 if leftToRight else len(string)-1\n",
    "    step = 1 if leftToRight else -1\n",
    "    \n",
    "    maxLen = 0\n",
    "    openCount, closeCount =0, 0\n",
    "    \n",
    "    while startIndex >= 0 and startIndex < len(string):\n",
    "\n",
    "        char = string[startIndex]\n",
    "        if char == openParens:\n",
    "            openCount += 1\n",
    "        else:\n",
    "            closeCount += 1\n",
    "        if openCount == closeCount:\n",
    "            maxLen = max(maxLen, closeCount*2)\n",
    "        \n",
    "        elif closeCount > openCount:\n",
    "            openCount = 0\n",
    "            closeCount = 0\n",
    "        startIndex += step\n",
    "    return maxLen"
   ]
  },
  {
   "cell_type": "code",
   "execution_count": 18,
   "metadata": {},
   "outputs": [
    {
     "data": {
      "text/plain": [
       "4"
      ]
     },
     "execution_count": 18,
     "metadata": {},
     "output_type": "execute_result"
    }
   ],
   "source": [
    "string = \"(()))(\"\n",
    "longestBalancedSubstring1(string)"
   ]
  },
  {
   "cell_type": "code",
   "execution_count": null,
   "metadata": {},
   "outputs": [],
   "source": []
  }
 ],
 "metadata": {
  "kernelspec": {
   "display_name": "Python 3",
   "language": "python",
   "name": "python3"
  },
  "language_info": {
   "codemirror_mode": {
    "name": "ipython",
    "version": 3
   },
   "file_extension": ".py",
   "mimetype": "text/x-python",
   "name": "python",
   "nbconvert_exporter": "python",
   "pygments_lexer": "ipython3",
   "version": "3.8.3"
  }
 },
 "nbformat": 4,
 "nbformat_minor": 4
}

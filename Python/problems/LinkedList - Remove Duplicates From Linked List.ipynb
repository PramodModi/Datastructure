{
 "cells": [
  {
   "cell_type": "markdown",
   "metadata": {},
   "source": [
    "## Problem:\n",
    "\n",
    "You're given the head of a Singly Linked List whose nodes are in sorted order with respect to their\n",
    "values. Write a function that returns a modified version of the Linked List that doesn't contain any nodes\n",
    "with duplicate values. The Linked List should be modified in place (i.e., you shouldn't create a brand new\n",
    "list), and the modified Linked List should still have its nodes sorted with respect to their values.\n",
    "Each LinkedList node has an integer value as well as a next node pointing to the next node in\n",
    "the list or to None / null if it's the tail of the list.\n",
    "\n",
    "Example:\n",
    "\n",
    "linkedList = 1 -> 1 -> 3 -> 4 -> 4 -> 4 -> 5 -> 6 -> 6 // the head node with va\n",
    "\n",
    "Output:\n",
    "1 -> 3 -> 4 -> 5 -> 6 // the head node with value 1"
   ]
  },
  {
   "cell_type": "code",
   "execution_count": null,
   "metadata": {},
   "outputs": [],
   "source": [
    "# This is an input class. Do not edit.\n",
    "class LinkedList:\n",
    "    def __init__(self, value):\n",
    "        self.value = value\n",
    "        self.next = None\n",
    "\n",
    "\n",
    "def removeDuplicatesFromLinkedList(linkedList):\n",
    "    # Write your code here.\n",
    "    prev= linkedList\n",
    "    curr = linkedList.next\n",
    "    while(curr):\n",
    "        if prev.value == curr.value:\n",
    "            curr = curr.next\n",
    "            prev.next = curr\n",
    "        else:\n",
    "            prev = curr\n",
    "            curr = curr.next\n",
    "    return linkedList"
   ]
  }
 ],
 "metadata": {
  "kernelspec": {
   "display_name": "Python 3",
   "language": "python",
   "name": "python3"
  },
  "language_info": {
   "codemirror_mode": {
    "name": "ipython",
    "version": 3
   },
   "file_extension": ".py",
   "mimetype": "text/x-python",
   "name": "python",
   "nbconvert_exporter": "python",
   "pygments_lexer": "ipython3",
   "version": "3.8.3"
  }
 },
 "nbformat": 4,
 "nbformat_minor": 4
}

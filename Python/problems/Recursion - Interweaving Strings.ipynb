{
 "cells": [
  {
   "cell_type": "markdown",
   "metadata": {},
   "source": [
    "## Problem:\n",
    "\n",
    "Write a function that takes in three strings and returns a boolean representing whether the third string\n",
    "can be formed by interweaving the first two strings.\n",
    "To interweave strings means to merge them by alternating their letters without any specific pattern. For\n",
    "instance, the strings \"abc\" and \"123\" can be interwoven as \"a1b2c3\" , as \"abc123\" , and as\n",
    "\"ab1c23\" (this list is nonexhaustive).\n",
    "Letters within a string must maintain their relative ordering in the interwoven string.\n",
    "\n",
    "Example:\n",
    "\n",
    "one = \"algoexpert\"\n",
    "\n",
    "two = \"your-dream-job\"\n",
    "\n",
    "three = \"your-algodream-expertjob\"\n",
    "\n",
    "Output:\n",
    "true"
   ]
  },
  {
   "cell_type": "code",
   "execution_count": 1,
   "metadata": {},
   "outputs": [],
   "source": [
    "def interweavingStrings(one, two, three):\n",
    "    # Write your code here.\n",
    "    if len(three) != len(one) + len(two):\n",
    "        return False\n",
    "    cache = [[None for _ in range(len(two) + 1)] for _ in range(len(one) + 1)]\n",
    "    return isInterweavingString(one, two, three, 0, 0, cache)\n",
    "\n",
    "def isInterweavingString(one, two, three, i, j, cache):\n",
    "    k = i+j\n",
    "    if cache[i][j] is not None:\n",
    "        return cache[i][j]\n",
    "    if k == len(three):\n",
    "        return True\n",
    "    if i<len(one) and one[i] == three[k]:\n",
    "        cache[i][j] = isInterweavingString(one, two, three, i+1, j, cache)\n",
    "        if cache[i][j]:\n",
    "            return True\n",
    "    if j < len(two) and two[j] == three[k]:\n",
    "        cache[i][j] = isInterweavingString(one, two, three, i, j+1, cache)\n",
    "        return cache[i][j]\n",
    "    cache[i][j] =  False\n",
    "\n",
    "    return cache[i][j]\n"
   ]
  },
  {
   "cell_type": "code",
   "execution_count": 2,
   "metadata": {},
   "outputs": [
    {
     "data": {
      "text/plain": [
       "True"
      ]
     },
     "execution_count": 2,
     "metadata": {},
     "output_type": "execute_result"
    }
   ],
   "source": [
    "one = \"algoexpert\"\n",
    "two = \"your-dream-job\"\n",
    "three = \"your-algodream-expertjob\"\n",
    "interweavingStrings(one, two, three)"
   ]
  },
  {
   "cell_type": "code",
   "execution_count": null,
   "metadata": {},
   "outputs": [],
   "source": []
  }
 ],
 "metadata": {
  "kernelspec": {
   "display_name": "Python 3",
   "language": "python",
   "name": "python3"
  },
  "language_info": {
   "codemirror_mode": {
    "name": "ipython",
    "version": 3
   },
   "file_extension": ".py",
   "mimetype": "text/x-python",
   "name": "python",
   "nbconvert_exporter": "python",
   "pygments_lexer": "ipython3",
   "version": "3.8.3"
  }
 },
 "nbformat": 4,
 "nbformat_minor": 4
}

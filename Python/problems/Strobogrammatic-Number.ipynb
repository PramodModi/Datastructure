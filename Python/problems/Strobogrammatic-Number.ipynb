{
 "cells": [
  {
   "cell_type": "markdown",
   "id": "d7a4b1b2-dbcd-4ba7-86cb-8c96e5d51c52",
   "metadata": {},
   "source": [
    "## Problem: Strobogrammatic Number\n",
    "LeetCode : 246\n",
    "\n",
    "A strobogrammatic number is a number that looks the same when rotated 180 degrees (looked at upside down).\n",
    "\n",
    "Write a function to determine if a number is strobogrammatic. The number is represented as a string.\n",
    "\n",
    "Example 1:\n",
    "\n",
    "    Input:  \"69\"\n",
    "    Output: true\n",
    "Example 2:\n",
    "\n",
    "    Input:  \"88\"\n",
    "    Output: true\n",
    "Example 3:\n",
    "\n",
    "    Input:  \"962\"\n",
    "    Output: false"
   ]
  },
  {
   "cell_type": "markdown",
   "id": "3a57e7b7-2fd7-4dad-958a-07bb076aacde",
   "metadata": {},
   "source": [
    "### Approach:\n",
    "\n",
    "Rotated 180 means look at the number from other side or vertical mirror number. \n",
    "Ex: 69 , now read it from top; start reading from right to left and letters should be rotated 180. So, 6 will be 9 and 9 will be 6. So, if you start from right to left with rotated digits, number would be 69.\n",
    "\n",
    "How many such numbers are, 0 -> 0, 1-> 1, 6 -> 9, 8 -> 8, 9-> 6. Here 0 after 180 degree rotation would be 0, same for 1 and 8. However, 6 would be 9 after 180 degree rotation and 9 would be 6.\n",
    "\n",
    "To check strobogrammatic number, compare 1st digit (left) with last digit (right)rotated with 180 degree, if not same then return False.\n"
   ]
  },
  {
   "cell_type": "code",
   "execution_count": 17,
   "id": "0de27ad6-4dda-42d6-b383-f1dbc93d0e43",
   "metadata": {},
   "outputs": [],
   "source": [
    "def isStrobogrammatic(num):\n",
    "    map_number = [0,1,-1,-1,-1,-1,9,-1,8,6] # Assigned 180 degree ritated number against the actual number\n",
    "    l,r = 0, len(num)-1\n",
    "    while l <= r:\n",
    "        left = int(num[l])\n",
    "        rightRotated = map_number[int(num[r])]\n",
    "        if left != rightRotated:\n",
    "            return False\n",
    "        l += 1\n",
    "        r -=1\n",
    "    return True\n",
    "    "
   ]
  },
  {
   "cell_type": "code",
   "execution_count": 19,
   "id": "7bc34ce6-99a8-47fb-b675-07b5945d0d19",
   "metadata": {},
   "outputs": [
    {
     "data": {
      "text/plain": [
       "True"
      ]
     },
     "execution_count": 19,
     "metadata": {},
     "output_type": "execute_result"
    }
   ],
   "source": [
    "isStrobogrammatic(\"88\")"
   ]
  },
  {
   "cell_type": "code",
   "execution_count": 21,
   "id": "45c6f9b7-9a9f-4e65-9c16-e38450a3bff8",
   "metadata": {},
   "outputs": [
    {
     "data": {
      "text/plain": [
       "False"
      ]
     },
     "execution_count": 21,
     "metadata": {},
     "output_type": "execute_result"
    }
   ],
   "source": [
    "isStrobogrammatic(\"962\")"
   ]
  },
  {
   "cell_type": "code",
   "execution_count": 23,
   "id": "1cb78555-0f2e-4ac0-9977-2f80dbc331c0",
   "metadata": {},
   "outputs": [
    {
     "data": {
      "text/plain": [
       "True"
      ]
     },
     "execution_count": 23,
     "metadata": {},
     "output_type": "execute_result"
    }
   ],
   "source": [
    "isStrobogrammatic(\"69\")"
   ]
  },
  {
   "cell_type": "code",
   "execution_count": 25,
   "id": "1646171a-fd5b-4772-8fcf-f6ada5077509",
   "metadata": {},
   "outputs": [
    {
     "data": {
      "text/plain": [
       "True"
      ]
     },
     "execution_count": 25,
     "metadata": {},
     "output_type": "execute_result"
    }
   ],
   "source": [
    "isStrobogrammatic(\"1691\")"
   ]
  },
  {
   "cell_type": "code",
   "execution_count": null,
   "id": "054430c0-5146-4cde-baa3-68a4ff285cdf",
   "metadata": {},
   "outputs": [],
   "source": []
  }
 ],
 "metadata": {
  "kernelspec": {
   "display_name": "Python 3 (ipykernel)",
   "language": "python",
   "name": "python3"
  },
  "language_info": {
   "codemirror_mode": {
    "name": "ipython",
    "version": 3
   },
   "file_extension": ".py",
   "mimetype": "text/x-python",
   "name": "python",
   "nbconvert_exporter": "python",
   "pygments_lexer": "ipython3",
   "version": "3.12.7"
  }
 },
 "nbformat": 4,
 "nbformat_minor": 5
}

{
 "cells": [
  {
   "cell_type": "markdown",
   "metadata": {},
   "source": [
    "## Problem: \n",
    "Write a function that takes in a sorted array of distinct integers as well as a target integer. The caveat is\n",
    "that the integers in the array have been shifted by some amount; in other words, they've been moved to\n",
    "the left or to the right by one or more positions. For example, [1, 2, 3, 4] might have turned into\n",
    "[3, 4, 1, 2] .\n",
    "The function should use a variation of the Binary Search algorithm to determine if the target integer is\n",
    "contained in the array and should return its index if it is, otherwise -1 .\n",
    "\n",
    "\n",
    "Example:\n",
    "\n",
    "array = [45, 61, 71, 72, 73, 0, 1, 21, 33, 37]\n",
    "\n",
    "target = 33\n",
    "\n",
    "Output\n",
    "8"
   ]
  },
  {
   "cell_type": "code",
   "execution_count": 1,
   "metadata": {},
   "outputs": [],
   "source": [
    "def shiftedBinarySearch(array, target):\n",
    "    # Write your code here.\n",
    "    return helper(array, target, 0, len(array)-1)\n",
    "def helper(array, target, left, right):\n",
    "    while left<= right:\n",
    "        mid = left + (right-left)//2\n",
    "        if array[mid] == target:\n",
    "            return mid\n",
    "        if array[left] <= array[mid]:\n",
    "            if target>= array[left] and target<array[mid]:\n",
    "                right = mid -1\n",
    "            else:\n",
    "                left = mid + 1\n",
    "        else:\n",
    "            if target > array[mid] and target<= array[right]:\n",
    "                left = mid + 1\n",
    "            else:\n",
    "                right = mid -1\n",
    "    return -1"
   ]
  },
  {
   "cell_type": "code",
   "execution_count": 2,
   "metadata": {},
   "outputs": [
    {
     "data": {
      "text/plain": [
       "8"
      ]
     },
     "execution_count": 2,
     "metadata": {},
     "output_type": "execute_result"
    }
   ],
   "source": [
    "array = [45, 61, 71, 72, 73, 0, 1, 21, 33, 37]\n",
    "target = 33\n",
    "\n",
    "shiftedBinarySearch(array, target)"
   ]
  },
  {
   "cell_type": "code",
   "execution_count": null,
   "metadata": {},
   "outputs": [],
   "source": []
  }
 ],
 "metadata": {
  "kernelspec": {
   "display_name": "Python 3",
   "language": "python",
   "name": "python3"
  },
  "language_info": {
   "codemirror_mode": {
    "name": "ipython",
    "version": 3
   },
   "file_extension": ".py",
   "mimetype": "text/x-python",
   "name": "python",
   "nbconvert_exporter": "python",
   "pygments_lexer": "ipython3",
   "version": "3.8.3"
  }
 },
 "nbformat": 4,
 "nbformat_minor": 4
}

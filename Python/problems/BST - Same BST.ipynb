{
 "cells": [
  {
   "cell_type": "markdown",
   "metadata": {},
   "source": [
    "## Problem:\n",
    "\n",
    "An array of integers is said to represent the Binary Search Tree (BST) obtained by inserting each integer\n",
    "in the array, from left to right, into the BST.\n",
    "Write a function that takes in two arrays of integers and determines whether these arrays represent\n",
    "the same BST. Note that you're not allowed to construct any BSTs in your code.\n",
    "A BST is a Binary Tree that consists only of BST nodes. A node is said to be a valid BST node if and\n",
    "only if it satisfies the BST property: its value is strictly greater than the values of every node to its left; its\n",
    "value is less than or equal to the values of every node to its right; and its children nodes are either valid\n",
    "BST nodes themselves or None / null .\n",
    "\n",
    "\n",
    "Example:\n",
    "\n",
    "arrayOne = [10, 15, 8, 12, 94, 81, 5, 2, 11]\n",
    "\n",
    "arrayTwo = [10, 8, 5, 15, 2, 12, 11, 94, 81]\n",
    "\n",
    "Output:\n",
    "\n",
    "true // both arrays represent the BST below\n",
    " \n",
    "                 10\n",
    "                 / \\\n",
    "                8   15\n",
    "               /    / \\\n",
    "              5    12  94\n",
    "             /     /   /\n",
    "            2     11 81"
   ]
  },
  {
   "cell_type": "code",
   "execution_count": 1,
   "metadata": {},
   "outputs": [],
   "source": [
    "def sameBsts(arrayOne, arrayTwo):\n",
    "    if len(arrayOne) != len(arrayTwo):\n",
    "        return False\n",
    "\n",
    "    if len(arrayOne) == 0 and  len(arrayTwo) == 0:\n",
    "        return True\n",
    "\n",
    "    if arrayOne[0] != arrayTwo[0]:\n",
    "        return False\n",
    "    leftSubTreeOne = leftSubTree(arrayOne)\n",
    "    rightSubTreeOne = rightSubTree(arrayOne)\n",
    "    leftSubTreeTwo = leftSubTree(arrayTwo)\n",
    "    rightSubTreeTwo = rightSubTree(arrayTwo)\n",
    "\n",
    "    return sameBsts(leftSubTreeOne, leftSubTreeTwo) and sameBsts(rightSubTreeOne,rightSubTreeTwo)\n",
    "\n",
    "def leftSubTree(array):\n",
    "    left = []\n",
    "    for i in range(1, len(array)):\n",
    "        if array[i] < array[0]:\n",
    "            left.append(array[i])\n",
    "    return left\n",
    "\n",
    "def rightSubTree(array):\n",
    "    right = []\n",
    "    for i in range(1, len(array)):\n",
    "        if array[i] >= array[0]:\n",
    "            right.append(array[i])\n",
    "    return right"
   ]
  },
  {
   "cell_type": "code",
   "execution_count": null,
   "metadata": {},
   "outputs": [],
   "source": []
  }
 ],
 "metadata": {
  "kernelspec": {
   "display_name": "Python 3",
   "language": "python",
   "name": "python3"
  },
  "language_info": {
   "codemirror_mode": {
    "name": "ipython",
    "version": 3
   },
   "file_extension": ".py",
   "mimetype": "text/x-python",
   "name": "python",
   "nbconvert_exporter": "python",
   "pygments_lexer": "ipython3",
   "version": "3.8.3"
  }
 },
 "nbformat": 4,
 "nbformat_minor": 4
}

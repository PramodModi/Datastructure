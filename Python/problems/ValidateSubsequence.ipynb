{
 "cells": [
  {
   "cell_type": "markdown",
   "metadata": {},
   "source": [
    "## Problem\n",
    "Find whether the second array is a subsequence of the first array. Both are non empty array.\n",
    "A subsequence array is a set of numbers that are not necessarily adjuscent in the array but that are in the same order as they appear in the array.\n",
    "\n",
    "Ex: [1,3,4] is a subsequence of [1,2,3,4] <br>\n",
    "    [2,4] is a subsequence of [1,2,3,4]<br>\n",
    "    [1,6,-1,10] is a subsequence of [5,1,22,25,6,-1,8,10]<br>\n",
    "    [5,1,25,6,22,-1,8,10] is not a subsequence of [5,1,22,25,6,-1,8,10]"
   ]
  },
  {
   "cell_type": "code",
   "execution_count": 3,
   "metadata": {},
   "outputs": [],
   "source": [
    "# O(n)time | O(1) space\n",
    "def isSubsequence(array1,array2 ):\n",
    "    if len(array1) < len(array2):\n",
    "        return False\n",
    "    i = 0\n",
    "    for v in array1:\n",
    "        if i == len(array2):\n",
    "            break;\n",
    "        if v == array2[i]:\n",
    "            i += 1\n",
    "    return i == len(array2)"
   ]
  },
  {
   "cell_type": "code",
   "execution_count": 4,
   "metadata": {},
   "outputs": [
    {
     "name": "stdout",
     "output_type": "stream",
     "text": [
      "True\n"
     ]
    }
   ],
   "source": [
    "array1 = [1,2,3,4]\n",
    "array2 = [3,4]\n",
    "\n",
    "print(isSubsequence(array1, array2))"
   ]
  },
  {
   "cell_type": "code",
   "execution_count": 5,
   "metadata": {},
   "outputs": [
    {
     "name": "stdout",
     "output_type": "stream",
     "text": [
      "False\n"
     ]
    }
   ],
   "source": [
    "array1 = [5,1,22,25,6,-1,8,10]\n",
    "array2 = [5,1,25,6,22,-1,8,10]\n",
    "\n",
    "print(isSubsequence(array1, array2))"
   ]
  },
  {
   "cell_type": "code",
   "execution_count": null,
   "metadata": {},
   "outputs": [],
   "source": []
  }
 ],
 "metadata": {
  "kernelspec": {
   "display_name": "Python 3",
   "language": "python",
   "name": "python3"
  },
  "language_info": {
   "codemirror_mode": {
    "name": "ipython",
    "version": 3
   },
   "file_extension": ".py",
   "mimetype": "text/x-python",
   "name": "python",
   "nbconvert_exporter": "python",
   "pygments_lexer": "ipython3",
   "version": "3.8.3"
  }
 },
 "nbformat": 4,
 "nbformat_minor": 4
}

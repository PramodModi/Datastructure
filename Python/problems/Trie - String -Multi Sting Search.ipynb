{
 "cells": [
  {
   "cell_type": "markdown",
   "metadata": {},
   "source": [
    "## Problem\n",
    "\n",
    "Write a function that takes in a big string and an array of small strings, all of which are smaller in length\n",
    "than the big string. The function should return an array of booleans, where each boolean represents\n",
    "whether the small string at that index in the array of small strings is contained in the big string.\n",
    "Note that you can't use language-built-in string-matching methods.\n",
    "\n",
    "Example 1:\n",
    "\n",
    "bigString = \"this is a big string\"\n",
    "\n",
    "smallStrings = [\"this\", \"yo\", \"is\", \"a\", \"bigger\", \"string\", \"kappa\"]\n",
    "\n",
    "Output:\n",
    "[true, false, true, true, false, true, false]\n",
    "\n",
    "Example 2:\n",
    "\n",
    "bigString = \"abcdefghijklmnopqrstuvwxyz\"\n",
    "\n",
    "smallStrings = [\"abc\", \"mnopqr\", \"wyz\", \"no\", \"e\", \"tuuv\"]\n",
    "\n",
    "Output:\n",
    "[true, true, false, true, true, false]"
   ]
  },
  {
   "cell_type": "code",
   "execution_count": 1,
   "metadata": {},
   "outputs": [],
   "source": [
    "def multiStringSearch(bigString, smallStrings):\n",
    "    # Write your code here.\n",
    "    trie = Trie()\n",
    "    for word in smallStrings:\n",
    "        trie.insert(word)\n",
    "    matchedString = []\n",
    "    for i in range(len(bigString)):\n",
    "        matchString(i, bigString, trie, matchedString)\n",
    "\n",
    "    return [word in matchedString for word in smallStrings]\n",
    "\n",
    "def matchString(index, bigString, trie, matchedSting):\n",
    "    currentNode = trie.root\n",
    "\n",
    "    for i in range(index, len(bigString)):\n",
    "        s = bigString[i]\n",
    "        if s not in currentNode:\n",
    "            break\n",
    "        currentNode = currentNode[s]\n",
    "\n",
    "        if trie.endPoint in currentNode:\n",
    "            matchedSting.append(currentNode[trie.endPoint])\n",
    "\n",
    "class Trie:\n",
    "    def __init__(self):\n",
    "        self.root = {}\n",
    "        self.endPoint = \"*\"\n",
    "\n",
    "    def insert(self, string):\n",
    "        currentNode = self.root\n",
    "        for s in string:\n",
    "            if s not in currentNode:\n",
    "                currentNode[s] = {}\n",
    "            currentNode = currentNode[s]\n",
    "        currentNode[self.endPoint] = string\n"
   ]
  },
  {
   "cell_type": "code",
   "execution_count": 3,
   "metadata": {},
   "outputs": [
    {
     "data": {
      "text/plain": [
       "[True, True, False, True, True, False]"
      ]
     },
     "execution_count": 3,
     "metadata": {},
     "output_type": "execute_result"
    }
   ],
   "source": [
    "bigString = \"abcdefghijklmnopqrstuvwxyz\"\n",
    "smallStrings = [\"abc\", \"mnopqr\", \"wyz\", \"no\", \"e\", \"tuuv\"]\n",
    "multiStringSearch(bigString, smallStrings)"
   ]
  },
  {
   "cell_type": "code",
   "execution_count": null,
   "metadata": {},
   "outputs": [],
   "source": []
  }
 ],
 "metadata": {
  "kernelspec": {
   "display_name": "Python 3",
   "language": "python",
   "name": "python3"
  },
  "language_info": {
   "codemirror_mode": {
    "name": "ipython",
    "version": 3
   },
   "file_extension": ".py",
   "mimetype": "text/x-python",
   "name": "python",
   "nbconvert_exporter": "python",
   "pygments_lexer": "ipython3",
   "version": "3.8.3"
  }
 },
 "nbformat": 4,
 "nbformat_minor": 4
}

{
 "cells": [
  {
   "cell_type": "markdown",
   "metadata": {},
   "source": [
    "## Problem\n",
    "\n",
    "Write a function that, given an array A of N integers, returns the lagest integer K > 0 such that both values K and -K exist in array A. If there is no such integer, the function should return 0.\n",
    "\n",
    "Example:\n",
    "\n",
    "Input: [3, 2, -2, 5, -3]\n",
    "\n",
    "Output: 3\n",
    "\n",
    "Input: [1, 2, 3, -4]\n",
    "\n",
    "Output: 0"
   ]
  },
  {
   "cell_type": "code",
   "execution_count": 25,
   "metadata": {},
   "outputs": [],
   "source": [
    "def largestNumWithNegativePair(array):\n",
    "    \n",
    "    if len(array) < 2:\n",
    "        return 0\n",
    "    temp = {}\n",
    "    maxnum = 0\n",
    "    for num in array:\n",
    "        t = num*(-1)          \n",
    "        if t in temp:\n",
    "            maxnum = max(maxnum, abs(num))\n",
    "        else:\n",
    "            temp[num] = True\n",
    "    return maxnum\n",
    "            "
   ]
  },
  {
   "cell_type": "code",
   "execution_count": 26,
   "metadata": {},
   "outputs": [
    {
     "data": {
      "text/plain": [
       "3"
      ]
     },
     "execution_count": 26,
     "metadata": {},
     "output_type": "execute_result"
    }
   ],
   "source": [
    "array = [3,2,-2,5,-3]\n",
    "largestNumWithNegativePair(array)"
   ]
  },
  {
   "cell_type": "code",
   "execution_count": 27,
   "metadata": {},
   "outputs": [
    {
     "data": {
      "text/plain": [
       "0"
      ]
     },
     "execution_count": 27,
     "metadata": {},
     "output_type": "execute_result"
    }
   ],
   "source": [
    "array = [1,2,3,-4]\n",
    "largestNumWithNegativePair(array)"
   ]
  },
  {
   "cell_type": "code",
   "execution_count": 36,
   "metadata": {},
   "outputs": [],
   "source": [
    "# Time complexity:\n",
    "# set(a) & set(b) , min(len(a), len(b))\n",
    "# setCreation from list have n elements: O(n)\n",
    "\n",
    "def largestNumWithNegativePair(array):\n",
    "    \n",
    "    if len(array) < 2:\n",
    "        return 0\n",
    "    finalSet = set(-a for a in array if a < 0) & set(a for a in array if a >0)\n",
    "    \n",
    "    return max(finalSet)if finalSet else 0"
   ]
  },
  {
   "cell_type": "code",
   "execution_count": 37,
   "metadata": {},
   "outputs": [
    {
     "data": {
      "text/plain": [
       "3"
      ]
     },
     "execution_count": 37,
     "metadata": {},
     "output_type": "execute_result"
    }
   ],
   "source": [
    "array = [3,2,-2,5,-3]\n",
    "largestNumWithNegativePair(array)"
   ]
  },
  {
   "cell_type": "code",
   "execution_count": 35,
   "metadata": {},
   "outputs": [
    {
     "data": {
      "text/plain": [
       "0"
      ]
     },
     "execution_count": 35,
     "metadata": {},
     "output_type": "execute_result"
    }
   ],
   "source": [
    "array = [1,2,3,-4]\n",
    "largestNumWithNegativePair(array)"
   ]
  },
  {
   "cell_type": "code",
   "execution_count": null,
   "metadata": {},
   "outputs": [],
   "source": []
  }
 ],
 "metadata": {
  "kernelspec": {
   "display_name": "Python 3",
   "language": "python",
   "name": "python3"
  },
  "language_info": {
   "codemirror_mode": {
    "name": "ipython",
    "version": 3
   },
   "file_extension": ".py",
   "mimetype": "text/x-python",
   "name": "python",
   "nbconvert_exporter": "python",
   "pygments_lexer": "ipython3",
   "version": "3.8.3"
  }
 },
 "nbformat": 4,
 "nbformat_minor": 4
}

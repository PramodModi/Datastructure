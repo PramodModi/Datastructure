{
 "cells": [
  {
   "cell_type": "markdown",
   "metadata": {},
   "source": [
    "## Problem: All Kind of Node Depths\n",
    "\n",
    "The distance between a node in a Binary Tree and the tree's root is called the node's depth.\n",
    "Write a function that takes in a Binary Tree and returns the sum of all of its subtrees' nodes' depths.\n",
    "Each BinaryTree node has an integer value , a left child node, and a right child node.\n",
    "Children nodes can either be BinaryTree nodes themselves or None / null .\n",
    "\n",
    "Example:\n",
    " \n",
    "tree = \n",
    " \n",
    "        1\n",
    "     /    \\\n",
    "     2     3\n",
    "     / \\  / \\\n",
    "     4  5 6 7\n",
    "    / \\\n",
    "    8  9\n",
    "\n",
    "Output:\n",
    "\n",
    "26\n",
    "\n",
    "// The sum of the root tree's node depths is 16.\n",
    "\n",
    "// The sum of the tree rooted at 2's node depths is 6.\n",
    "\n",
    "// The sum of the tree rooted at 3's node depths is 2.\n",
    "\n",
    "// The sum of the tree rooted at 4's node depths is 2.\n",
    "\n",
    "// Summing all of these sums yields 26."
   ]
  },
  {
   "cell_type": "code",
   "execution_count": 2,
   "metadata": {},
   "outputs": [],
   "source": [
    "# This is the class of the input binary tree.\n",
    "class BinaryTree:\n",
    "    def __init__(self, value):\n",
    "        self.value = value\n",
    "        self.left = None\n",
    "        self.right = None\n",
    "        \n",
    "def allKindsOfNodeDepths(root, depth = 0):\n",
    "    # Write your code here.\n",
    "    if root is None:\n",
    "        return 0\n",
    "    depthSum = (depth * (depth+1))/2  \n",
    "    return depthSum + allKindsOfNodeDepths(root.left, depth+1) + allKindsOfNodeDepths(root.right, depth + 1)\n",
    "\n",
    "    \n"
   ]
  },
  {
   "cell_type": "code",
   "execution_count": null,
   "metadata": {},
   "outputs": [],
   "source": []
  }
 ],
 "metadata": {
  "kernelspec": {
   "display_name": "Python 3",
   "language": "python",
   "name": "python3"
  },
  "language_info": {
   "codemirror_mode": {
    "name": "ipython",
    "version": 3
   },
   "file_extension": ".py",
   "mimetype": "text/x-python",
   "name": "python",
   "nbconvert_exporter": "python",
   "pygments_lexer": "ipython3",
   "version": "3.8.3"
  }
 },
 "nbformat": 4,
 "nbformat_minor": 4
}

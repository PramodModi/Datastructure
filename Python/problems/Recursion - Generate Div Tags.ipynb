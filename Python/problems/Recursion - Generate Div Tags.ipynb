{
 "cells": [
  {
   "cell_type": "markdown",
   "metadata": {},
   "source": [
    "## Problem:\n",
    "\n",
    "Write a function that takes in a positive integer numberOfTags and returns a list of all the valid\n",
    "strings that you can generate with that number of matched <div></div> tags.\n",
    "A string is valid and contains matched <div></div> tags if for every opening tag <div> , there's a\n",
    "closing tag </div> that comes after the opening tag and that isn't used as a closing tag for another\n",
    "opening tag. Each output string should contain exactly numberOfTags opening tags and\n",
    "numberOfTags closing tags.\n",
    "For example, given numberOfTags = 2 , the valid strings to return would be:\n",
    "\n",
    "[\"<div></div><div></div>\", \"<div><div></div></div>\"] .\n",
    "\n",
    "Note that the output strings don't need to be in any particular order.\n",
    "\n",
    "Example:\n",
    "\n",
    "numberOfTags = 3\n",
    "\n",
    "Output\n",
    "\n",
    "     [\n",
    "     \"<div><div><div></div></div></div>\",\n",
    "     \"<div><div></div><div></div></div>\",\n",
    "     \"<div><div></div></div><div></div>\",\n",
    "     \"<div></div><div><div></div></div>\",\n",
    "     \"<div></div><div></div><div></div>\",\n",
    "     ] // The strings could be ordered differently."
   ]
  },
  {
   "cell_type": "code",
   "execution_count": 1,
   "metadata": {},
   "outputs": [],
   "source": [
    "def generateDivTags(numberOfTags):\n",
    "    # Write your code here.\n",
    "    result = []\n",
    "    insertDiv(numberOfTags, numberOfTags, \"\", result)\n",
    "    return result\n",
    "\n",
    "def insertDiv(open, close, string, result):\n",
    "    if close == 0:\n",
    "        result.append(string)\n",
    "        return\n",
    "    if open > 0:\n",
    "        insertDiv(open -1, close, string+\"<div>\", result)\n",
    "    if open < close:\n",
    "        insertDiv(open, close-1, string+\"</div>\", result)"
   ]
  },
  {
   "cell_type": "code",
   "execution_count": 2,
   "metadata": {},
   "outputs": [
    {
     "data": {
      "text/plain": [
       "['<div><div><div></div></div></div>',\n",
       " '<div><div></div><div></div></div>',\n",
       " '<div><div></div></div><div></div>',\n",
       " '<div></div><div><div></div></div>',\n",
       " '<div></div><div></div><div></div>']"
      ]
     },
     "execution_count": 2,
     "metadata": {},
     "output_type": "execute_result"
    }
   ],
   "source": [
    "numberOfTags = 3\n",
    "generateDivTags(numberOfTags)"
   ]
  },
  {
   "cell_type": "code",
   "execution_count": null,
   "metadata": {},
   "outputs": [],
   "source": []
  }
 ],
 "metadata": {
  "kernelspec": {
   "display_name": "Python 3",
   "language": "python",
   "name": "python3"
  },
  "language_info": {
   "codemirror_mode": {
    "name": "ipython",
    "version": 3
   },
   "file_extension": ".py",
   "mimetype": "text/x-python",
   "name": "python",
   "nbconvert_exporter": "python",
   "pygments_lexer": "ipython3",
   "version": "3.8.3"
  }
 },
 "nbformat": 4,
 "nbformat_minor": 4
}

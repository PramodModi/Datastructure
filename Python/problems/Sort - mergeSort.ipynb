{
 "cells": [
  {
   "cell_type": "code",
   "execution_count": 5,
   "metadata": {},
   "outputs": [],
   "source": [
    "def mergeSort(array):\n",
    "    if len(array) <= 1:\n",
    "        return array\n",
    "    auxArray = array[:]\n",
    "    mergeSortHelper(array, 0, len(array)-1, auxArray)\n",
    "    return array\n",
    "\n",
    "def mergeSortHelper(array, startIndex, endIndex, auxArray):\n",
    "    if startIndex == endIndex:\n",
    "        return\n",
    "    midIndex = startIndex + (endIndex - startIndex)//2\n",
    "    mergeSortHelper(auxArray, startIndex, midIndex, array)\n",
    "    mergeSortHelper(auxArray, midIndex + 1, endIndex, array)\n",
    "    merge(array, startIndex, midIndex, endIndex, auxArray)\n",
    "    \n",
    "def merge(array, startIndex, midIndex, endIndex, auxArray):\n",
    "    k = startIndex\n",
    "    i = startIndex\n",
    "    j = midIndex+1\n",
    "    \n",
    "    while i<= midIndex and j <= endIndex:\n",
    "        if auxArray[i] <= auxArray[j]:\n",
    "            array[k] = auxArray[i]\n",
    "            i += 1\n",
    "        else:\n",
    "            array[k] = auxArray[j]\n",
    "            j += 1\n",
    "        k += 1\n",
    "    \n",
    "    while i <= midIndex:\n",
    "        array[k] = auxArray[i]\n",
    "        i += 1\n",
    "        k += 1\n",
    "    while j <= endIndex:\n",
    "        array[k] = auxArray[j]\n",
    "        j += 1\n",
    "        k += 1"
   ]
  },
  {
   "cell_type": "code",
   "execution_count": 6,
   "metadata": {},
   "outputs": [
    {
     "data": {
      "text/plain": [
       "[2, 3, 5, 5, 6, 8, 9]"
      ]
     },
     "execution_count": 6,
     "metadata": {},
     "output_type": "execute_result"
    }
   ],
   "source": [
    "array = [8,5,2,9,5,6,3]\n",
    "mergeSort(array)"
   ]
  },
  {
   "cell_type": "code",
   "execution_count": null,
   "metadata": {},
   "outputs": [],
   "source": []
  }
 ],
 "metadata": {
  "kernelspec": {
   "display_name": "Python 3",
   "language": "python",
   "name": "python3"
  },
  "language_info": {
   "codemirror_mode": {
    "name": "ipython",
    "version": 3
   },
   "file_extension": ".py",
   "mimetype": "text/x-python",
   "name": "python",
   "nbconvert_exporter": "python",
   "pygments_lexer": "ipython3",
   "version": "3.8.3"
  }
 },
 "nbformat": 4,
 "nbformat_minor": 4
}

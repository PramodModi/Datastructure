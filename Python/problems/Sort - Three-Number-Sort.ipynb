{
 "cells": [
  {
   "cell_type": "markdown",
   "metadata": {},
   "source": [
    "## Problem\n",
    "You're given an array of integers and another array of three distinct integers. The first array is\n",
    "guaranteed to only contain integers that are in the second array, and the second array represents a\n",
    "desired order for the integers in the first array. For example, a second array of [x, y, z]\n",
    "represents a desired order of [x, x, ..., x, y, y, ..., y, z, z, ..., z] in the first array.\n",
    "Write a function that sorts the first array according to the desired order in the second array.\n",
    "The function should perform this in place (i.e., it should mutate the input array), and it shouldn't use\n",
    "any auxiliary space (i.e., it should run with constant space: O(1) space).\n",
    "Note that the desired order won't necessarily be ascending or descending and that the first array won't\n",
    "necessarily contain all three integers found in the second array—it might only contain one or two.\n",
    "\n",
    "Example:\n",
    "\n",
    "Input: array = [1, 0, 0, -1, -1, 0, 1, 1], order = [0, 1, -1]\n",
    "\n",
    "Output:[0,0,0,1,1,1,-1,-1]\n"
   ]
  },
  {
   "cell_type": "code",
   "execution_count": 9,
   "metadata": {},
   "outputs": [],
   "source": [
    "def threeNumberSort(array, order):\n",
    "    firstNumber = order[0]\n",
    "    secondNumber = order[1]\n",
    "    \n",
    "    firstIndex = 0\n",
    "    secondIndex = 0\n",
    "    lastIndex = len(array)-1\n",
    "    \n",
    "    while secondIndex <= lastIndex:\n",
    "        value = array[secondIndex]\n",
    "        \n",
    "        if value == firstNumber:\n",
    "            swap(array, firstIndex, secondIndex)\n",
    "            firstIndex += 1\n",
    "            secondIndex += 1\n",
    "        elif value == secondNumber:\n",
    "            secondIndex += 1\n",
    "        else:\n",
    "            swap(array, secondIndex, lastIndex)\n",
    "            secondIndex += 1\n",
    "            lastIndex -= 1\n",
    "    return array\n",
    "def swap(array, index1, index2):\n",
    "    array[index1], array[index2] = array[index2], array[index1]"
   ]
  },
  {
   "cell_type": "code",
   "execution_count": 10,
   "metadata": {},
   "outputs": [
    {
     "data": {
      "text/plain": [
       "[0, 0, 0, 1, 1, 1, -1, -1]"
      ]
     },
     "execution_count": 10,
     "metadata": {},
     "output_type": "execute_result"
    }
   ],
   "source": [
    "array = [1, 0, 0, -1, -1, 0, 1, 1]\n",
    "order = [0, 1, -1]\n",
    "threeNumberSort(array, order)"
   ]
  },
  {
   "cell_type": "code",
   "execution_count": 11,
   "metadata": {},
   "outputs": [
    {
     "data": {
      "text/plain": [
       "[-1, -1, 1, 1, 1, 0, 0, 0]"
      ]
     },
     "execution_count": 11,
     "metadata": {},
     "output_type": "execute_result"
    }
   ],
   "source": [
    "array = [1, 0, 0, -1, -1, 0, 1, 1]\n",
    "order = [-1, 1, 0]\n",
    "threeNumberSort(array, order)"
   ]
  },
  {
   "cell_type": "code",
   "execution_count": 13,
   "metadata": {},
   "outputs": [
    {
     "data": {
      "text/plain": [
       "['a', 'a', 'a', 'b', 'b', 'b', 'c', 'c']"
      ]
     },
     "execution_count": 13,
     "metadata": {},
     "output_type": "execute_result"
    }
   ],
   "source": [
    "array = [\"a\", \"b\", \"c\", \"a\", \"b\", \"c\", \"b\", \"a\"]\n",
    "order = [\"a\", \"b\", \"c\"]\n",
    "threeNumberSort(array, order)"
   ]
  },
  {
   "cell_type": "code",
   "execution_count": null,
   "metadata": {},
   "outputs": [],
   "source": []
  }
 ],
 "metadata": {
  "kernelspec": {
   "display_name": "Python 3",
   "language": "python",
   "name": "python3"
  },
  "language_info": {
   "codemirror_mode": {
    "name": "ipython",
    "version": 3
   },
   "file_extension": ".py",
   "mimetype": "text/x-python",
   "name": "python",
   "nbconvert_exporter": "python",
   "pygments_lexer": "ipython3",
   "version": "3.8.3"
  }
 },
 "nbformat": 4,
 "nbformat_minor": 4
}

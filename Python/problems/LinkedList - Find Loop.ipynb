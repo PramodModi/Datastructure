{
 "cells": [
  {
   "cell_type": "markdown",
   "metadata": {},
   "source": [
    "## Problem:\n",
    "\n",
    "Write a function that takes in the head of a Singly Linked List that contains a loop (in other words, the\n",
    "list's tail node points to some node in the list instead of None / null ). The function should return the\n",
    "node (the actual node--not just its value) from which the loop originates in constant space.\n",
    "Each LinkedList node has an integer value as well as a next node pointing to the next node in\n",
    "the list.\n",
    "\n",
    "Example:\n",
    "\n",
    "    head = 0 -> 1 -> 2 -> 3 -> 4 -> 5 -> 6 // the head node with value 0\n",
    "                               ^         v\n",
    "                               9 <- 8 <- 7\n",
    "Output:\n",
    "\n",
    "    4 -> 5 -> 6 // the node with value 4\n",
    "    ^         v\n",
    "    9 <- 8 <- 7"
   ]
  },
  {
   "cell_type": "code",
   "execution_count": 1,
   "metadata": {},
   "outputs": [],
   "source": [
    "# This is an input class. Do not edit.\n",
    "class LinkedList:\n",
    "    def __init__(self, value):\n",
    "        self.value = value\n",
    "        self.next = None\n",
    "\n",
    "\n",
    "def findLoop(head):\n",
    "    first = head.next\n",
    "    second = head.next.next\n",
    "\n",
    "    while first != second:\n",
    "        first = first.next\n",
    "        second = second.next.next\n",
    "\n",
    "    first = head\n",
    "    while first != second:\n",
    "        first = first.next\n",
    "        second = second.next\n",
    "    return first\n"
   ]
  },
  {
   "cell_type": "code",
   "execution_count": null,
   "metadata": {},
   "outputs": [],
   "source": []
  }
 ],
 "metadata": {
  "kernelspec": {
   "display_name": "Python 3",
   "language": "python",
   "name": "python3"
  },
  "language_info": {
   "codemirror_mode": {
    "name": "ipython",
    "version": 3
   },
   "file_extension": ".py",
   "mimetype": "text/x-python",
   "name": "python",
   "nbconvert_exporter": "python",
   "pygments_lexer": "ipython3",
   "version": "3.8.3"
  }
 },
 "nbformat": 4,
 "nbformat_minor": 4
}

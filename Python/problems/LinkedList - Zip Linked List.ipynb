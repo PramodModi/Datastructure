{
 "cells": [
  {
   "cell_type": "markdown",
   "metadata": {},
   "source": [
    "## Problem:\n",
    "\n",
    "You're given the head of a Singly Linked List of arbitrary length k . Write a function that zips the Linked\n",
    "List in place (i.e., doesn't create a brand new list) and returns its head.\n",
    "A Linked List is zipped if its nodes are in the following order, where k is the length of the Linked List:\n",
    "1st node -> kth node -> 2nd node -> (k - 1)th node -> 3rd node -> (k - 2)th nod\n",
    "Each LinkedList node has an integer value as well as a next node pointing to the next node in\n",
    "the list or to None / null if it's the tail of the list.\n",
    "You can assume that the input Linked List will always have at least one node; in other words, the head\n",
    "will never be None / null .\n",
    "\n",
    "Example:\n",
    "\n",
    "linkedList = 1 -> 2 -> 3 -> 4 -> 5 -> 6 // the head node with value 1\n",
    "\n",
    "Output:\n",
    "\n",
    "1 -> 6 -> 2 -> 5 -> 3 -> 4 // the head node with value 1"
   ]
  },
  {
   "cell_type": "code",
   "execution_count": 1,
   "metadata": {},
   "outputs": [],
   "source": [
    "class LinkedList:\n",
    "    def __init__(self, value):\n",
    "        self.value = value\n",
    "        self.next = None\n",
    "\n",
    "\n",
    "def zipLinkedList(head):\n",
    "    # Write your code here.\n",
    "    if head.next is None or head.next.next is None:\n",
    "        return head\n",
    "    firstHalf = head\n",
    "    secondHalf = split(head)\n",
    "    reversedSecondHalf = reverse(secondHalf)\n",
    "    head = merge(firstHalf, reversedSecondHalf)\n",
    "    return head\n",
    "def split(head):\n",
    "    slow = head\n",
    "    fast = head\n",
    "    while fast and fast.next:\n",
    "        slow = slow.next\n",
    "        fast = fast.next.next\n",
    "    splitHead = slow.next\n",
    "    slow.next = None\n",
    "    return splitHead\n",
    "def reverse(head):\n",
    "    prev, cur = None, head\n",
    "    while cur:\n",
    "        temp = cur.next\n",
    "        cur.next = prev\n",
    "        prev = cur\n",
    "        cur = temp\n",
    "    return prev\n",
    "\n",
    "def merge(head1, head2):\n",
    "    first = head1\n",
    "    second = head2\n",
    "    while first and second:\n",
    "        temp = first.next\n",
    "        first.next =second\n",
    "        first = temp\n",
    "        temp = second.next\n",
    "        second.next = first\n",
    "        second = temp\n",
    "    return head1\n",
    "    "
   ]
  },
  {
   "cell_type": "code",
   "execution_count": null,
   "metadata": {},
   "outputs": [],
   "source": []
  }
 ],
 "metadata": {
  "kernelspec": {
   "display_name": "Python 3",
   "language": "python",
   "name": "python3"
  },
  "language_info": {
   "codemirror_mode": {
    "name": "ipython",
    "version": 3
   },
   "file_extension": ".py",
   "mimetype": "text/x-python",
   "name": "python",
   "nbconvert_exporter": "python",
   "pygments_lexer": "ipython3",
   "version": "3.8.3"
  }
 },
 "nbformat": 4,
 "nbformat_minor": 4
}

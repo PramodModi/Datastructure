{
 "cells": [
  {
   "cell_type": "markdown",
   "metadata": {},
   "source": [
    "## Problem: Knapsack Problem: No fraction item\n",
    "Given array of items, containing item's value and weight of each item. Also given the capacity of bag.\n",
    "You have to wirte a function which will take input as array of items and capacity and return maximum vlaue of items it can accomodate also index of items in array.\n",
    "\n",
    "Example:\n",
    "\n",
    "Input: \n",
    "Array = [ [1, 2],[4, 3],[5, 6],[6, 7] ]\n",
    "capacity = 10\n",
    "\n",
    "output:\n",
    "[10,[1,3]]\n",
    "\n",
    "here, Value = 10 and items = [4,3] and [6,7]\n"
   ]
  },
  {
   "cell_type": "markdown",
   "metadata": {},
   "source": [
    "Approach: Dynamic programming will be used here.\n",
    "We will keep track of weights and values of items put in the knapsack.\n"
   ]
  },
  {
   "cell_type": "code",
   "execution_count": 13,
   "metadata": {},
   "outputs": [],
   "source": [
    "def knapsack(items, capacity):\n",
    "    # Initialize 2-D array. Rows = number of items and columns = capacity\n",
    "    values = [[0 for j in range(capacity + 1)] for i in range(len(items) + 1)]\n",
    "    for i in range(1, len(items)+1):\n",
    "        weight = items[i-1][1]\n",
    "        value = items[i-1][0]\n",
    "        for c in range(capacity+1):\n",
    "            if weight > c:\n",
    "                values[i][c] = values[i-1][c]\n",
    "            else:\n",
    "                values[i][c] = max(values[i-1][c], values[i-1][c-weight] + value)\n",
    "                \n",
    "    return [values[-1][-1], getItems(values, items)]\n",
    "                \n",
    "def getItems(values, items):\n",
    "    i = len(values)-1\n",
    "    j = len(values[0])-1\n",
    "    \n",
    "    seq =[]\n",
    "    \n",
    "    while i > 0:\n",
    "        if values[i][j] == values[i-1][j]:\n",
    "            i -= 1\n",
    "        else:\n",
    "            seq.append(i-1)\n",
    "            j -= items[i-1][1]\n",
    "            i -= 1\n",
    "        if j== 0:\n",
    "            break\n",
    "    return list(reversed(seq))\n",
    "            \n",
    "            "
   ]
  },
  {
   "cell_type": "code",
   "execution_count": 14,
   "metadata": {},
   "outputs": [
    {
     "data": {
      "text/plain": [
       "[10, [1, 3]]"
      ]
     },
     "execution_count": 14,
     "metadata": {},
     "output_type": "execute_result"
    }
   ],
   "source": [
    "items = [ [1, 2],[4, 3],[5, 6],[6, 7] ]\n",
    "capacity = 10\n",
    "knapsack(items, capacity)"
   ]
  },
  {
   "cell_type": "code",
   "execution_count": null,
   "metadata": {},
   "outputs": [],
   "source": []
  }
 ],
 "metadata": {
  "kernelspec": {
   "display_name": "Python 3",
   "language": "python",
   "name": "python3"
  },
  "language_info": {
   "codemirror_mode": {
    "name": "ipython",
    "version": 3
   },
   "file_extension": ".py",
   "mimetype": "text/x-python",
   "name": "python",
   "nbconvert_exporter": "python",
   "pygments_lexer": "ipython3",
   "version": "3.8.3"
  }
 },
 "nbformat": 4,
 "nbformat_minor": 4
}

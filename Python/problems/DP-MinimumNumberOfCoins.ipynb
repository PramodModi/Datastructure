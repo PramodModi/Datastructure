{
 "cells": [
  {
   "cell_type": "markdown",
   "metadata": {},
   "source": [
    "## Problem\n",
    "Return the minimum number of coins needed to make target coin from given coins. Same coin can be used any number of times. Return -1, if target coin is not possible.\n",
    "\n",
    "Example:\n",
    "Coins= [1,2,4]\n",
    "Target = 6\n",
    "Output = 2   //1x2 + 1x4"
   ]
  },
  {
   "cell_type": "code",
   "execution_count": 16,
   "metadata": {},
   "outputs": [],
   "source": [
    "def minNumberOfCoinsForChange(target, coins):\n",
    "    numberOfCoins = [float('inf')]* (target + 1)\n",
    "    numberOfCoins[0] = 0\n",
    "    for coin in coins:\n",
    "        for j in range(target + 1):\n",
    "            if coin <= j:\n",
    "                numberOfCoins[j] = min(numberOfCoins[j], 1+numberOfCoins[j-coin])\n",
    "    return numberOfCoins[target] if numberOfCoins[target] != float('inf') else -1\n",
    "                "
   ]
  },
  {
   "cell_type": "code",
   "execution_count": 17,
   "metadata": {},
   "outputs": [
    {
     "data": {
      "text/plain": [
       "2"
      ]
     },
     "execution_count": 17,
     "metadata": {},
     "output_type": "execute_result"
    }
   ],
   "source": [
    "coins = [1,2,4]\n",
    "target = 6\n",
    "minNumberOfCoinsForChange(target, coins)"
   ]
  },
  {
   "cell_type": "code",
   "execution_count": 18,
   "metadata": {},
   "outputs": [
    {
     "data": {
      "text/plain": [
       "3"
      ]
     },
     "execution_count": 18,
     "metadata": {},
     "output_type": "execute_result"
    }
   ],
   "source": [
    "coins = [1,5,10]\n",
    "target = 7\n",
    "minNumberOfCoinsForChange(target, coins)"
   ]
  },
  {
   "cell_type": "code",
   "execution_count": 19,
   "metadata": {},
   "outputs": [
    {
     "data": {
      "text/plain": [
       "-1"
      ]
     },
     "execution_count": 19,
     "metadata": {},
     "output_type": "execute_result"
    }
   ],
   "source": [
    "coins = [111,50,100]\n",
    "target = 20\n",
    "minNumberOfCoinsForChange(target, coins)"
   ]
  },
  {
   "cell_type": "code",
   "execution_count": null,
   "metadata": {},
   "outputs": [],
   "source": []
  }
 ],
 "metadata": {
  "kernelspec": {
   "display_name": "Python 3",
   "language": "python",
   "name": "python3"
  },
  "language_info": {
   "codemirror_mode": {
    "name": "ipython",
    "version": 3
   },
   "file_extension": ".py",
   "mimetype": "text/x-python",
   "name": "python",
   "nbconvert_exporter": "python",
   "pygments_lexer": "ipython3",
   "version": "3.8.3"
  }
 },
 "nbformat": 4,
 "nbformat_minor": 4
}

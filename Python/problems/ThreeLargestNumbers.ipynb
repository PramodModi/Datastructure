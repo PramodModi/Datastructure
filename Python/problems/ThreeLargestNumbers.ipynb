{
 "cells": [
  {
   "cell_type": "markdown",
   "metadata": {},
   "source": [
    "## Problem\n",
    "\n",
    "\n",
    "input =  array of integers, at least three integers\n",
    "output = return three largest elements in sorted array, without sorting the array\n",
    "\n",
    "example:\n",
    "\n",
    "input = [10,5,9,10,12]\n",
    "output: [10,10,12]\n",
    "\n",
    "\n",
    "input = [141,1,17,-7,-17,-27,18,541,8,7,7]\n",
    "output = [18,141,541"
   ]
  },
  {
   "cell_type": "code",
   "execution_count": 7,
   "metadata": {},
   "outputs": [],
   "source": [
    "def findThreeLargestNumbers(array):\n",
    "    result = [float('-inf')]*3\n",
    "    \n",
    "    for element in array:\n",
    "        j = 2\n",
    "        while j >= 0:\n",
    "            if element > result[j]:\n",
    "                temp = result[j]\n",
    "                result[j] = element\n",
    "                element = temp\n",
    "            j -= 1\n",
    "    return result\n",
    "                \n",
    "            "
   ]
  },
  {
   "cell_type": "code",
   "execution_count": 8,
   "metadata": {},
   "outputs": [
    {
     "data": {
      "text/plain": [
       "[10, 10, 12]"
      ]
     },
     "execution_count": 8,
     "metadata": {},
     "output_type": "execute_result"
    }
   ],
   "source": [
    "array = [10,5,9,10,12]\n",
    "findThreeLargestNumbers(array)"
   ]
  },
  {
   "cell_type": "code",
   "execution_count": 9,
   "metadata": {},
   "outputs": [
    {
     "data": {
      "text/plain": [
       "[18, 141, 541]"
      ]
     },
     "execution_count": 9,
     "metadata": {},
     "output_type": "execute_result"
    }
   ],
   "source": [
    "array = [141,1,17,-7,-17,-27,18,541,8,7,7]\n",
    "findThreeLargestNumbers(array)"
   ]
  },
  {
   "cell_type": "code",
   "execution_count": 10,
   "metadata": {},
   "outputs": [
    {
     "data": {
      "text/plain": [
       "[-2, -1, 7]"
      ]
     },
     "execution_count": 10,
     "metadata": {},
     "output_type": "execute_result"
    }
   ],
   "source": [
    "array = [-1,-2,-3,-7,-17,-27, -18, -541, -8, -7,7]\n",
    "findThreeLargestNumbers(array)"
   ]
  },
  {
   "cell_type": "code",
   "execution_count": null,
   "metadata": {},
   "outputs": [],
   "source": []
  }
 ],
 "metadata": {
  "kernelspec": {
   "display_name": "Python 3",
   "language": "python",
   "name": "python3"
  },
  "language_info": {
   "codemirror_mode": {
    "name": "ipython",
    "version": 3
   },
   "file_extension": ".py",
   "mimetype": "text/x-python",
   "name": "python",
   "nbconvert_exporter": "python",
   "pygments_lexer": "ipython3",
   "version": "3.8.3"
  }
 },
 "nbformat": 4,
 "nbformat_minor": 4
}

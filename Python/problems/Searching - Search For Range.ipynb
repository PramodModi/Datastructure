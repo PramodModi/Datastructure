{
 "cells": [
  {
   "cell_type": "markdown",
   "metadata": {},
   "source": [
    "## Problem:\n",
    "\n",
    "Write a function that takes in a sorted array of integers as well as a target integer. The function should\n",
    "use a variation of the Binary Search algorithm to find a range of indices in between which the target\n",
    "number is contained in the array and should return this range in the form of an array.\n",
    "The first number in the output array should represent the first index at which the target number is\n",
    "located, while the second number should represent the last index at which the target number is located.\n",
    "The function should return [-1, -1] if the integer isn't contained in the array.\n",
    "\n",
    "\n",
    "Example:\n",
    "\n",
    "array = [0, 1, 21, 33, 45, 45, 45, 45, 45, 45, 61, 71, 73]\n",
    "\n",
    "target = 45\n",
    "\n",
    "Output: \n",
    "[4, 9]"
   ]
  },
  {
   "cell_type": "code",
   "execution_count": 1,
   "metadata": {},
   "outputs": [],
   "source": [
    "def searchForRange(array, target):\n",
    "    # Write your code here.\n",
    "    retValue = [-1,-1]\n",
    "    findRange(array, 0, len(array)-1, retValue, target, True)\n",
    "    findRange(array, 0, len(array)-1, retValue, target, False)\n",
    "    return retValue\n",
    "def findRange(array, left, right, retValue, target, goLeft):\n",
    "    while left<=right:\n",
    "        mid = left + (right-left)//2\n",
    "\n",
    "        if target < array[mid]:\n",
    "            right = mid-1\n",
    "        elif target > array[mid]:\n",
    "            left = mid+1\n",
    "        else:\n",
    "            if goLeft:\n",
    "                if mid == 0 or array[mid-1] != target:\n",
    "                    retValue[0] = mid\n",
    "                    return\n",
    "                else:\n",
    "                    right = mid-1\n",
    "            else:\n",
    "                if mid == len(array)-1 or array[mid+1] != target:\n",
    "                    retValue[1]  =  mid\n",
    "                    return\n",
    "                else:\n",
    "                    left = mid + 1"
   ]
  },
  {
   "cell_type": "code",
   "execution_count": 2,
   "metadata": {},
   "outputs": [
    {
     "data": {
      "text/plain": [
       "[4, 9]"
      ]
     },
     "execution_count": 2,
     "metadata": {},
     "output_type": "execute_result"
    }
   ],
   "source": [
    "array = [0, 1, 21, 33, 45, 45, 45, 45, 45, 45, 61, 71, 73]\n",
    "target = 45\n",
    "searchForRange(array, target)"
   ]
  },
  {
   "cell_type": "code",
   "execution_count": null,
   "metadata": {},
   "outputs": [],
   "source": []
  }
 ],
 "metadata": {
  "kernelspec": {
   "display_name": "Python 3",
   "language": "python",
   "name": "python3"
  },
  "language_info": {
   "codemirror_mode": {
    "name": "ipython",
    "version": 3
   },
   "file_extension": ".py",
   "mimetype": "text/x-python",
   "name": "python",
   "nbconvert_exporter": "python",
   "pygments_lexer": "ipython3",
   "version": "3.8.3"
  }
 },
 "nbformat": 4,
 "nbformat_minor": 4
}

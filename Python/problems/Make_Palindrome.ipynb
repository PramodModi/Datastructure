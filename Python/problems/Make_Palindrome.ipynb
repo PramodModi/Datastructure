{
 "cells": [
  {
   "cell_type": "markdown",
   "metadata": {},
   "source": [
    "## Problem\n",
    "Given string of letters of small cases (a to z), create palindrome, if possible otherwise return  None\n",
    "\n",
    "Approach: Calculate the number of characters. Characters having odd count will be middle element. If there are mote than one character having count odd, then palindrome is not possible. Once we get the middle character, then create string from remaining chacters, half one side and rest half(in revers order) in another side of middle elemnts."
   ]
  },
  {
   "cell_type": "code",
   "execution_count": 13,
   "metadata": {},
   "outputs": [],
   "source": [
    "def makePalindrome(string):\n",
    "    temp = {}\n",
    "    for c in string:\n",
    "        temp[c] = temp.get(c, 0) + 1\n",
    "    \n",
    "    middle = \"\"\n",
    "    mid_found = None\n",
    "    tail = \"\"\n",
    "    \n",
    "    for c,n in temp.items():\n",
    "        if n %2 == 1:\n",
    "            if mid_found != None:\n",
    "                return None\n",
    "            middle = c * n\n",
    "        else:\n",
    "            tail  += c * (n//2)\n",
    "    \n",
    "    return tail + middle + tail[::-1]\n",
    "    "
   ]
  },
  {
   "cell_type": "code",
   "execution_count": 14,
   "metadata": {},
   "outputs": [
    {
     "data": {
      "text/plain": [
       "'abcba'"
      ]
     },
     "execution_count": 14,
     "metadata": {},
     "output_type": "execute_result"
    }
   ],
   "source": [
    "string  = \"abbac\"\n",
    "makePalindrome(string)"
   ]
  },
  {
   "cell_type": "code",
   "execution_count": 16,
   "metadata": {},
   "outputs": [
    {
     "data": {
      "text/plain": [
       "'aaabbbbaaa'"
      ]
     },
     "execution_count": 16,
     "metadata": {},
     "output_type": "execute_result"
    }
   ],
   "source": [
    "string  = \"aaaaabbbba\"\n",
    "makePalindrome(string)"
   ]
  },
  {
   "cell_type": "code",
   "execution_count": null,
   "metadata": {},
   "outputs": [],
   "source": []
  }
 ],
 "metadata": {
  "kernelspec": {
   "display_name": "Python 3",
   "language": "python",
   "name": "python3"
  },
  "language_info": {
   "codemirror_mode": {
    "name": "ipython",
    "version": 3
   },
   "file_extension": ".py",
   "mimetype": "text/x-python",
   "name": "python",
   "nbconvert_exporter": "python",
   "pygments_lexer": "ipython3",
   "version": "3.8.3"
  }
 },
 "nbformat": 4,
 "nbformat_minor": 4
}

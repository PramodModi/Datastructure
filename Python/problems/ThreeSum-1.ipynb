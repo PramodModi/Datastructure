{
 "cells": [
  {
   "cell_type": "code",
   "execution_count": 5,
   "metadata": {},
   "outputs": [],
   "source": [
    "# O(n^2) time | O(n) Space\n",
    "\n",
    "def threeSum(a, sum):\n",
    "    if len(a)< 3:\n",
    "        return []\n",
    "    result = []\n",
    "    dict = {}\n",
    "    for i in range(len(a)-1):\n",
    "        for j in range (i+1, len(a)):\n",
    "            n = sum -a[i] - a[j]\n",
    "            if n in dict:\n",
    "                result.append([a[i], n, a[j]])\n",
    "        dict[a[i]]= True\n",
    "\n",
    "    return result"
   ]
  },
  {
   "cell_type": "code",
   "execution_count": 6,
   "metadata": {},
   "outputs": [
    {
     "name": "stdout",
     "output_type": "stream",
     "text": [
      "[[-6, 1, 5], [5, 3, -8], [-8, 2, 6]]\n"
     ]
    }
   ],
   "source": [
    "a = [12,3,1,2,-6,5,-8,6]\n",
    "sum = 0\n",
    "\n",
    "print(threeSum(a, sum))"
   ]
  },
  {
   "cell_type": "code",
   "execution_count": 19,
   "metadata": {},
   "outputs": [],
   "source": [
    "def fourSum(a, sum):\n",
    "    result = set()\n",
    "    #a.sort()\n",
    "    dict = {}\n",
    "    for i in range(len(a)-3):\n",
    "        for j in range(i+ 1, len(a)-2):\n",
    "            s = sum - (a[i] + a[j])\n",
    "            for k in range(j+1, len(a)):\n",
    "                n = s -a[k]\n",
    "                if n in dict:\n",
    "                    result.add((a[i], a[j], n, a[k]))\n",
    "                else:\n",
    "                    dict[a[k]]= True\n",
    "            \n",
    "    return result"
   ]
  },
  {
   "cell_type": "code",
   "execution_count": 20,
   "metadata": {},
   "outputs": [
    {
     "name": "stdout",
     "output_type": "stream",
     "text": [
      "{(0, 0, 2, -2), (-1, 0, -1, 2), (0, 0, -2, 2), (1, 0, -1, 0), (1, -1, -2, 2), (0, -1, -1, 2), (1, -1, 2, -2)}\n"
     ]
    }
   ],
   "source": [
    "a = [1,0,-1,0,-2,2]\n",
    "sum = 0\n",
    "print(fourSum(a, sum))"
   ]
  },
  {
   "cell_type": "code",
   "execution_count": 21,
   "metadata": {},
   "outputs": [
    {
     "name": "stdout",
     "output_type": "stream",
     "text": [
      "5\n"
     ]
    }
   ],
   "source": [
    "result = [0] * 5\n",
    "print(len(result))"
   ]
  },
  {
   "cell_type": "code",
   "execution_count": 22,
   "metadata": {},
   "outputs": [
    {
     "name": "stdout",
     "output_type": "stream",
     "text": [
      "[0, 0, 0, 0, 0]\n"
     ]
    }
   ],
   "source": [
    "print(result)"
   ]
  },
  {
   "cell_type": "code",
   "execution_count": null,
   "metadata": {},
   "outputs": [],
   "source": []
  }
 ],
 "metadata": {
  "kernelspec": {
   "display_name": "Python 3",
   "language": "python",
   "name": "python3"
  },
  "language_info": {
   "codemirror_mode": {
    "name": "ipython",
    "version": 3
   },
   "file_extension": ".py",
   "mimetype": "text/x-python",
   "name": "python",
   "nbconvert_exporter": "python",
   "pygments_lexer": "ipython3",
   "version": "3.8.3"
  }
 },
 "nbformat": 4,
 "nbformat_minor": 4
}

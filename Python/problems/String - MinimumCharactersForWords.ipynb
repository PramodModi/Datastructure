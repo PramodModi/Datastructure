{
 "cells": [
  {
   "cell_type": "markdown",
   "metadata": {},
   "source": [
    "## Problem\n",
    "Write a function that takes in an array of words and returns the smallest array of characters needed to\n",
    "form all of the words. The characters don't need to be in any particular order.\n",
    "For example, the characters [\"y\", \"r\", \"o\", \"u\"] are needed to form the words\n",
    "[\"your\", \"you\", \"or\", \"yo\"] .\n",
    "Note: the input words won't contain any spaces; however, they might contain punctuation and/or\n",
    "special characters.\n",
    "\n",
    "Sample Input\n",
    "\n",
    "words = [\"this\", \"that\", \"did\", \"deed\", \"them!\", \"a\"]\n",
    "\n",
    "Sample Output\n",
    "\n",
    "[\"t\", \"t\", \"h\", \"i\", \"s\", \"a\", \"d\", \"d\", \"e\", \"e\","
   ]
  },
  {
   "cell_type": "code",
   "execution_count": 9,
   "metadata": {},
   "outputs": [],
   "source": [
    "def minimumCharactersForWords(words):\n",
    "    charmap = {}\n",
    "    result = []\n",
    "    for word in words:\n",
    "        temp = {}\n",
    "        for w in word:\n",
    "            temp[w] = temp.get(w, 0) + 1\n",
    "        updatemap(charmap, temp)\n",
    "    return printCharacters(charmap)\n",
    "\n",
    "def updatemap(charmap, temp):\n",
    "    for item in temp.items():\n",
    "        c= item[0]\n",
    "        v = item[1]\n",
    "        \n",
    "        if c in charmap:\n",
    "            if v > charmap[c]:\n",
    "                charmap[c] = v\n",
    "        else:\n",
    "            charmap[c] = v\n",
    "    \n",
    "def printCharacters(charmap):\n",
    "    result = []\n",
    "    for item in charmap.items():\n",
    "        c = item[0]\n",
    "        v = item[1]\n",
    "        for i in range(v):\n",
    "            result.append(c)\n",
    "    return result"
   ]
  },
  {
   "cell_type": "code",
   "execution_count": 10,
   "metadata": {},
   "outputs": [
    {
     "data": {
      "text/plain": [
       "['t', 't', 'h', 'i', 's', 'a', 'd', 'd', 'e', 'e', 'm', '!']"
      ]
     },
     "execution_count": 10,
     "metadata": {},
     "output_type": "execute_result"
    }
   ],
   "source": [
    "words = [\"this\", \"that\", \"did\", \"deed\", \"them!\", \"a\"]\n",
    "minimumCharactersForWords(words)"
   ]
  },
  {
   "cell_type": "code",
   "execution_count": null,
   "metadata": {},
   "outputs": [],
   "source": []
  }
 ],
 "metadata": {
  "kernelspec": {
   "display_name": "Python 3",
   "language": "python",
   "name": "python3"
  },
  "language_info": {
   "codemirror_mode": {
    "name": "ipython",
    "version": 3
   },
   "file_extension": ".py",
   "mimetype": "text/x-python",
   "name": "python",
   "nbconvert_exporter": "python",
   "pygments_lexer": "ipython3",
   "version": "3.8.3"
  }
 },
 "nbformat": 4,
 "nbformat_minor": 4
}

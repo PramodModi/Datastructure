{
 "cells": [
  {
   "cell_type": "markdown",
   "metadata": {},
   "source": [
    "## Problem: 862. Shortest Subarray with Sum at Least K\n",
    "\n",
    "Given an integer array nums and an integer k, return the length of the shortest non-empty subarray of nums with \n",
    "a sum of at least k. If there is no such subarray, return -1.\n",
    "\n",
    "A subarray is a contiguous part of an array.\n",
    "\n",
    " \n",
    "\n",
    "Example 1:\n",
    "\n",
    "Input: nums = [1], k = 1\n",
    "\n",
    "Output: 1\n",
    "\n",
    "Example 2:\n",
    "\n",
    "Input: nums = [1,2], k = 4\n",
    "\n",
    "Output: -1\n",
    "\n",
    "Example 3:\n",
    "\n",
    "Input: nums = [2,-1,2], k = 3\n",
    "\n",
    "Output: 3\n",
    " \n",
    "\n",
    "Constraints:\n",
    "\n",
    "1 <= nums.length <= 105\n",
    "\n",
    "-105 <= nums[i] <= 105\n",
    "\n",
    "1 <= k <= 109\n",
    "\n"
   ]
  },
  {
   "cell_type": "code",
   "execution_count": 10,
   "metadata": {},
   "outputs": [],
   "source": [
    "# Add the number in sum. If sum>=k, then save the minimum length.\n",
    "# Then remove the items from begining in the deque untill sum>=k. This is similar to sliding window left position.\n",
    "# Then again save the minimum length. \n",
    "# Add the sum and position in deque. Position will be used to caculate the length.\n",
    "# As negative number is also possible. So, if new sum is less than last calculated sum, then\n",
    "# keep removing all preveious sum value from the deque then add the sum.\n",
    "# Repeat for al numbers.\n",
    "\n",
    "from collections import deque\n",
    "def shortestSubarray(nums, k):\n",
    "        length = float(\"inf\")\n",
    "        temp = deque()\n",
    "        leftPos = -1\n",
    "        sum  = 0\n",
    "        for i, num in enumerate(nums):\n",
    "            sum += num\n",
    "            if sum >= k:\n",
    "                length = min(length, i+1)\n",
    "            # Removing \n",
    "            while len(temp) and sum - temp[0][0] >= k:\n",
    "                leftNum, leftPos = temp.popleft()\n",
    "            if leftPos != -1:\n",
    "                length = min(length, i-leftPos)\n",
    "            while len(temp) and sum <= temp[-1][0]:\n",
    "                temp.pop()\n",
    "            temp.append((sum,i))\n",
    "\n",
    "        return -1 if length == float(\"inf\") else length"
   ]
  },
  {
   "cell_type": "code",
   "execution_count": 11,
   "metadata": {},
   "outputs": [
    {
     "data": {
      "text/plain": [
       "2"
      ]
     },
     "execution_count": 11,
     "metadata": {},
     "output_type": "execute_result"
    }
   ],
   "source": [
    "nums = [17,85,93,-45,-21]\n",
    "k = 150\n",
    "shortestSubarray(nums, k)"
   ]
  },
  {
   "cell_type": "code",
   "execution_count": null,
   "metadata": {},
   "outputs": [],
   "source": []
  }
 ],
 "metadata": {
  "kernelspec": {
   "display_name": "Python 3",
   "language": "python",
   "name": "python3"
  },
  "language_info": {
   "codemirror_mode": {
    "name": "ipython",
    "version": 3
   },
   "file_extension": ".py",
   "mimetype": "text/x-python",
   "name": "python",
   "nbconvert_exporter": "python",
   "pygments_lexer": "ipython3",
   "version": "3.8.3"
  }
 },
 "nbformat": 4,
 "nbformat_minor": 4
}

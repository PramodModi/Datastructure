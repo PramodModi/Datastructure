{
 "cells": [
  {
   "cell_type": "markdown",
   "metadata": {},
   "source": [
    "## Problem\n",
    "\n",
    "find minimum number of coins to form given amount else return -1\n",
    "\n",
    "Example:\n",
    "\n",
    "coins = [1,2,5] , amount = 11\n",
    "\n",
    "output = 3\n",
    "\n",
    "Example:\n",
    "\n",
    "coins = [2,4], amount = 5\n",
    "\n",
    "output = 3\n",
    "\n"
   ]
  },
  {
   "cell_type": "code",
   "execution_count": 30,
   "metadata": {},
   "outputs": [],
   "source": [
    "def minimumCoinChange(coins, amount):\n",
    "    if amount == 0:\n",
    "        return 0\n",
    "    dp = [float('inf') for i in range(amount + 1)]\n",
    "    dp[0] = 0\n",
    "    \n",
    "    for c in coins:\n",
    "        for j in range(amount + 1):\n",
    "            if c<= j:\n",
    "                dp[j] = min(dp[j], 1 + dp[j-c])\n",
    "    return -1 if dp[-1]== float('inf') else dp[-1]\n"
   ]
  },
  {
   "cell_type": "code",
   "execution_count": null,
   "metadata": {},
   "outputs": [],
   "source": []
  },
  {
   "cell_type": "code",
   "execution_count": 31,
   "metadata": {},
   "outputs": [
    {
     "data": {
      "text/plain": [
       "3"
      ]
     },
     "execution_count": 31,
     "metadata": {},
     "output_type": "execute_result"
    }
   ],
   "source": [
    "coins = [1,2,5]\n",
    "amount = 11\n",
    "minimumCoinChange(coins, amount)"
   ]
  },
  {
   "cell_type": "code",
   "execution_count": 32,
   "metadata": {},
   "outputs": [
    {
     "data": {
      "text/plain": [
       "-1"
      ]
     },
     "execution_count": 32,
     "metadata": {},
     "output_type": "execute_result"
    }
   ],
   "source": [
    "coins = [2,4]\n",
    "amount = 3\n",
    "minimumCoinChange(coins, amount)"
   ]
  },
  {
   "cell_type": "code",
   "execution_count": 33,
   "metadata": {},
   "outputs": [
    {
     "data": {
      "text/plain": [
       "4"
      ]
     },
     "execution_count": 33,
     "metadata": {},
     "output_type": "execute_result"
    }
   ],
   "source": [
    "coins = [2,5,10,1]\n",
    "amount = 27\n",
    "minimumCoinChange(coins, amount)"
   ]
  },
  {
   "cell_type": "code",
   "execution_count": null,
   "metadata": {},
   "outputs": [],
   "source": []
  }
 ],
 "metadata": {
  "kernelspec": {
   "display_name": "Python 3",
   "language": "python",
   "name": "python3"
  },
  "language_info": {
   "codemirror_mode": {
    "name": "ipython",
    "version": 3
   },
   "file_extension": ".py",
   "mimetype": "text/x-python",
   "name": "python",
   "nbconvert_exporter": "python",
   "pygments_lexer": "ipython3",
   "version": "3.8.3"
  }
 },
 "nbformat": 4,
 "nbformat_minor": 4
}

{
 "cells": [
  {
   "cell_type": "markdown",
   "metadata": {},
   "source": [
    "## Problem: 57. Insert Interval\n",
    "\n",
    "https://leetcode.com/problems/insert-interval/\n",
    "\n",
    "You are given an array of non-overlapping intervals intervals where intervals[i] = [starti, endi] represent the start and the end of the ith interval and intervals is sorted in ascending order by starti. You are also given an interval newInterval = [start, end] that represents the start and end of another interval.\n",
    "\n",
    "Insert newInterval into intervals such that intervals is still sorted in ascending order by starti and intervals still does not have any overlapping intervals (merge overlapping intervals if necessary).\n",
    "\n",
    "Return intervals after the insertion.\n",
    "\n",
    " \n",
    "\n",
    "Example 1:\n",
    "\n",
    "Input: intervals = [[1,3],[6,9]], newInterval = [2,5]\n",
    "\n",
    "Output: [[1,5],[6,9]]\n",
    "\n",
    "Example 2:\n",
    "\n",
    "Input: intervals = [[1,2],[3,5],[6,7],[8,10],[12,16]], newInterval = [4,8]\n",
    "\n",
    "Output: [[1,2],[3,10],[12,16]]\n",
    "\n",
    "Explanation: Because the new interval [4,8] overlaps with [3,5],[6,7],[8,10].\n",
    " \n",
    "\n",
    "Constraints:\n",
    "\n",
    "0 <= intervals.length <= 104\n",
    "\n",
    "intervals[i].length == 2\n",
    "\n",
    "0 <= starti <= endi <= 105\n",
    "\n",
    "intervals is sorted by starti in ascending order.\n",
    "\n",
    "newInterval.length == 2\n",
    "\n",
    "0 <= start <= end <= 105"
   ]
  },
  {
   "cell_type": "code",
   "execution_count": 1,
   "metadata": {},
   "outputs": [],
   "source": [
    "def insert(intervals, newInterval):\n",
    "    ## insert new interval\n",
    "    if len(intervals) == 0 or intervals[0][0] >= newInterval[0]:\n",
    "        intervals.insert(0, newInterval)\n",
    "    else:\n",
    "        inserted = False\n",
    "        for i in range(1, len(intervals)):\n",
    "            interval = intervals[i]\n",
    "            if interval[0]>newInterval[0]:\n",
    "                intervals.insert(i, newInterval)\n",
    "                inserted = True\n",
    "                break    \n",
    "        if not inserted:\n",
    "            intervals.append(newInterval)\n",
    "    ## Merge intervals\n",
    "    result = []\n",
    "    temp = intervals[0]\n",
    "    for i in range(1, len(intervals)):\n",
    "        if temp[1] >= intervals[i][0]:\n",
    "            temp = [temp[0], max(temp[1], intervals[i][1])]\n",
    "        else:\n",
    "            result.append(temp)\n",
    "            temp = intervals[i]\n",
    "    result.append(temp)\n",
    "    return result"
   ]
  },
  {
   "cell_type": "code",
   "execution_count": 2,
   "metadata": {},
   "outputs": [
    {
     "data": {
      "text/plain": [
       "[[1, 2], [3, 10], [12, 16]]"
      ]
     },
     "execution_count": 2,
     "metadata": {},
     "output_type": "execute_result"
    }
   ],
   "source": [
    "intervals = [[1,2],[3,5],[6,7],[8,10],[12,16]]\n",
    "newInterval = [4,8]\n",
    "insert(intervals, newInterval)"
   ]
  },
  {
   "cell_type": "code",
   "execution_count": null,
   "metadata": {},
   "outputs": [],
   "source": []
  }
 ],
 "metadata": {
  "kernelspec": {
   "display_name": "Python 3",
   "language": "python",
   "name": "python3"
  },
  "language_info": {
   "codemirror_mode": {
    "name": "ipython",
    "version": 3
   },
   "file_extension": ".py",
   "mimetype": "text/x-python",
   "name": "python",
   "nbconvert_exporter": "python",
   "pygments_lexer": "ipython3",
   "version": "3.8.3"
  }
 },
 "nbformat": 4,
 "nbformat_minor": 4
}

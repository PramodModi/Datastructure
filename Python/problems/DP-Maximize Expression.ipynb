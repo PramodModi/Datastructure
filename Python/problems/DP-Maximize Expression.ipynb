{
 "cells": [
  {
   "cell_type": "markdown",
   "metadata": {},
   "source": [
    "## Problem:\n",
    "\n",
    "Write a function that takes in an array of integers and returns the largest possible value for the\n",
    "expression \n",
    "\n",
    "array[a] - array[b] + array[c] - array[d] , where a , b , c , and d are\n",
    "indices of the array and a < b < c < d .\n",
    "\n",
    "If the input array has fewer than 4 elements, your function should return 0 .\n",
    "\n",
    "Example:\n",
    "array = [3, 6, 1, -3, 2, 7]\n",
    "\n",
    "output: 4\n",
    "\n",
    "// Choose a = 1, b = 3, c = 4, and d = 5\n",
    "\n",
    "// -> 6 - (-3) + 2 - 7 = 4"
   ]
  },
  {
   "cell_type": "code",
   "execution_count": 3,
   "metadata": {},
   "outputs": [],
   "source": [
    "def maximizeExpression(array):\n",
    "    # Write your code here.\n",
    "    n = len(array)\n",
    "\n",
    "    if n < 4:\n",
    "        return 0\n",
    "    maxA = [array[0]]\n",
    "    maxAMinusB = [float('-inf')]\n",
    "    maxAMinusBPlusC = [float(\"-inf\")] *2\n",
    "    maxAMinusBPlusCMinusD = [float(\"-inf\")] *3\n",
    "\n",
    "    for i in range(1, n):\n",
    "        maxv = max(maxA[i-1], array[i])\n",
    "        maxA.append(maxv)\n",
    "    for i in range(1, n):\n",
    "        maxv = max(maxAMinusB[i-1], maxA[i-1] - array[i])\n",
    "        maxAMinusB.append(maxv)\n",
    "    for i in range(2, n):\n",
    "        maxv = max(maxAMinusBPlusC[i-1], maxAMinusB[i-1] + array[i])\n",
    "        maxAMinusBPlusC.append(maxv)\n",
    "    for i in range(3, n):\n",
    "        maxv = max(maxAMinusBPlusCMinusD[i-1], maxAMinusBPlusC[i-1] - array[i])\n",
    "        maxAMinusBPlusCMinusD.append(maxv)\n",
    "\n",
    "    return maxAMinusBPlusCMinusD[- 1]"
   ]
  },
  {
   "cell_type": "code",
   "execution_count": 4,
   "metadata": {},
   "outputs": [
    {
     "data": {
      "text/plain": [
       "4"
      ]
     },
     "execution_count": 4,
     "metadata": {},
     "output_type": "execute_result"
    }
   ],
   "source": [
    "array = [3, 6, 1, -3, 2, 7]\n",
    "maximizeExpression(array)"
   ]
  },
  {
   "cell_type": "code",
   "execution_count": null,
   "metadata": {},
   "outputs": [],
   "source": []
  }
 ],
 "metadata": {
  "kernelspec": {
   "display_name": "Python 3",
   "language": "python",
   "name": "python3"
  },
  "language_info": {
   "codemirror_mode": {
    "name": "ipython",
    "version": 3
   },
   "file_extension": ".py",
   "mimetype": "text/x-python",
   "name": "python",
   "nbconvert_exporter": "python",
   "pygments_lexer": "ipython3",
   "version": "3.8.3"
  }
 },
 "nbformat": 4,
 "nbformat_minor": 4
}

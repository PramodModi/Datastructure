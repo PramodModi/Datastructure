{
 "cells": [
  {
   "cell_type": "markdown",
   "metadata": {},
   "source": [
    "## Problem\n",
    "\n",
    "You're given three inputs, all of which are instances of an AncestralTree class that have an\n",
    "ancestor property pointing to their youngest ancestor. The first input is the top ancestor in an\n",
    "ancestral tree (i.e., the only instance that has no ancestor--its ancestor property points to None /\n",
    "null ), and the other two inputs are descendants in the ancestral tree.\n",
    "Write a function that returns the youngest common ancestor to the two descendants.\n",
    "Note that a descendant is considered its own ancestor. So in the simple ancestral tree below, the\n",
    "youngest common ancestor to nodes A and B is node A.\n",
    "\n",
    "// The youngest common ancestor to nodes A and B is node A.\n",
    " \n",
    "     A\n",
    "     /\n",
    "    B\n",
    "\n",
    "Example:\n",
    "\n",
    "// The nodes are from the ancestral tree below.\n",
    "\n",
    "topAncestor = node A\n",
    "\n",
    "descendantOne = node E\n",
    "\n",
    "descendantTwo = node I\n",
    "\n",
    "                  A\n",
    "                 /  \\\n",
    "                B    C\n",
    "               / \\   / \\\n",
    "              D   E F   G\n",
    "             / \\\n",
    "            H   I\n",
    "Output:\n",
    "node B"
   ]
  },
  {
   "cell_type": "code",
   "execution_count": 1,
   "metadata": {},
   "outputs": [],
   "source": [
    "class AncestralTree:\n",
    "    def __init__(self, name):\n",
    "        self.name = name\n",
    "        self.ancestor = None\n",
    "def getYoungestCommonAncestor(topAncestor, descendantOne, descendantTwo):\n",
    "    # Write your code here.\n",
    "    depthOne = getDepth(topAncestor, descendantOne)\n",
    "    depthTwo = getDepth(topAncestor, descendantTwo)\n",
    "\n",
    "    if depthOne > depthTwo:\n",
    "        return getCommonAncestor(descendantOne, descendantTwo, depthOne-depthTwo)\n",
    "    else:\n",
    "        return getCommonAncestor(descendantTwo,descendantOne, depthTwo-depthOne)\n",
    "    \n",
    "def getDepth(top, one):\n",
    "    depth = 0\n",
    "    node = one\n",
    "    while(node != top):\n",
    "        depth += 1\n",
    "        node = node.ancestor\n",
    "    return depth\n",
    "\n",
    "def getCommonAncestor(node1, node2, diff):\n",
    "    while diff > 0:\n",
    "        node1= node1.ancestor\n",
    "        diff -= 1\n",
    "    while node1 != node2:\n",
    "        node1 = node1.ancestor\n",
    "        node2 = node2.ancestor\n",
    "    return node1"
   ]
  },
  {
   "cell_type": "code",
   "execution_count": null,
   "metadata": {},
   "outputs": [],
   "source": []
  }
 ],
 "metadata": {
  "kernelspec": {
   "display_name": "Python 3",
   "language": "python",
   "name": "python3"
  },
  "language_info": {
   "codemirror_mode": {
    "name": "ipython",
    "version": 3
   },
   "file_extension": ".py",
   "mimetype": "text/x-python",
   "name": "python",
   "nbconvert_exporter": "python",
   "pygments_lexer": "ipython3",
   "version": "3.8.3"
  }
 },
 "nbformat": 4,
 "nbformat_minor": 4
}

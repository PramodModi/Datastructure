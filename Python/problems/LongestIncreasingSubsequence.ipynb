{
 "cells": [
  {
   "cell_type": "code",
   "execution_count": 76,
   "metadata": {},
   "outputs": [],
   "source": [
    "## O(n^2)\n",
    "class Info:\n",
    "    def __init__(self, maxlen):\n",
    "        self.maxlen = maxlen\n",
    "        self.result = []\n",
    "def longestIncreasingSubsequence(array):\n",
    "    # Write your code here.\n",
    "    maxL = 0\n",
    "    n = len(array)\n",
    "    if n <= 1:\n",
    "        return array\n",
    "    temp = []\n",
    "    info = Info(0)\n",
    "    LISS(array, 0, temp, info)\n",
    "    return info.result\n",
    "\n",
    "def LISS(array, index, temp, info):\n",
    "    \n",
    "    if info.maxlen < len(temp):\n",
    "        info.maxlen = len(temp)\n",
    "        info.result = temp[:]\n",
    "        #return\n",
    "    if index == len(array):\n",
    "        return\n",
    "    for i in range(index, len(array)):\n",
    "        if len(temp)> 0 and temp[-1] >= array[i]:\n",
    "            continue\n",
    "        temp.append(array[i])\n",
    "        LISS(array, i+1, temp, info)\n",
    "        temp.pop()"
   ]
  },
  {
   "cell_type": "code",
   "execution_count": 77,
   "metadata": {},
   "outputs": [
    {
     "data": {
      "text/plain": [
       "[-24, 2, 3, 5, 6, 35]"
      ]
     },
     "execution_count": 77,
     "metadata": {},
     "output_type": "execute_result"
    }
   ],
   "source": [
    "array = [5, 7, -24, 12, 10, 2, 3, 12, 5, 6, 35]\n",
    "longestIncreasingSubsequence(array)"
   ]
  },
  {
   "cell_type": "code",
   "execution_count": 78,
   "metadata": {},
   "outputs": [
    {
     "data": {
      "text/plain": [
       "[3, 4]"
      ]
     },
     "execution_count": 78,
     "metadata": {},
     "output_type": "execute_result"
    }
   ],
   "source": [
    "array = [3, 4, -1]\n",
    "longestIncreasingSubsequence(array)"
   ]
  },
  {
   "cell_type": "code",
   "execution_count": 79,
   "metadata": {},
   "outputs": [],
   "source": [
    "### O(nlogn)\n",
    "def longestIncreasingSubsequence1(array):\n",
    "    n = len(array)\n",
    "    indices = [None]*(n+1)\n",
    "    seq = [None] * n\n",
    "    length = 0\n",
    "    for i , n in enumerate(array):\n",
    "        index = binarySearch(indices, 1, length, array, n)\n",
    "        seq[i] = indices[index-1]\n",
    "        indices[index] = i\n",
    "        length = max(length, index)\n",
    "    return buildSubSequence(seq, array, indices[length])\n",
    "\n",
    "def binarySearch(indices, startIndex, endIndex, array, n):\n",
    "    \n",
    "    while startIndex<= endIndex:\n",
    "        mid = (startIndex + endIndex) //2\n",
    "        \n",
    "        if array[indices[mid]] < n:\n",
    "            startIndex = mid+1\n",
    "        else:\n",
    "            endIndex = mid-1\n",
    "    return startIndex\n",
    "\n",
    "def buildSubSequence(seq, array, index):\n",
    "    sub = []\n",
    "    while index is not None:\n",
    "        sub.append(array[index])\n",
    "        index = seq[index]\n",
    "    return list(reversed(sub))"
   ]
  },
  {
   "cell_type": "code",
   "execution_count": 80,
   "metadata": {},
   "outputs": [
    {
     "data": {
      "text/plain": [
       "[3, 4]"
      ]
     },
     "execution_count": 80,
     "metadata": {},
     "output_type": "execute_result"
    }
   ],
   "source": [
    "array = [3, 4, -1]\n",
    "longestIncreasingSubsequence1(array)"
   ]
  },
  {
   "cell_type": "code",
   "execution_count": 81,
   "metadata": {},
   "outputs": [
    {
     "data": {
      "text/plain": [
       "[-24, 2, 3, 5, 6, 35]"
      ]
     },
     "execution_count": 81,
     "metadata": {},
     "output_type": "execute_result"
    }
   ],
   "source": [
    "array = [5, 7, -24, 12, 10, 2, 3, 12, 5, 6, 35]\n",
    "longestIncreasingSubsequence1(array)"
   ]
  },
  {
   "cell_type": "code",
   "execution_count": null,
   "metadata": {},
   "outputs": [],
   "source": []
  }
 ],
 "metadata": {
  "kernelspec": {
   "display_name": "Python 3",
   "language": "python",
   "name": "python3"
  },
  "language_info": {
   "codemirror_mode": {
    "name": "ipython",
    "version": 3
   },
   "file_extension": ".py",
   "mimetype": "text/x-python",
   "name": "python",
   "nbconvert_exporter": "python",
   "pygments_lexer": "ipython3",
   "version": "3.8.3"
  }
 },
 "nbformat": 4,
 "nbformat_minor": 4
}

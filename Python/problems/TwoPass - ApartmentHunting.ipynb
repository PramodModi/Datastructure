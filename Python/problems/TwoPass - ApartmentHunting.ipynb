{
 "cells": [
  {
   "cell_type": "markdown",
   "metadata": {},
   "source": [
    "## Problem\n",
    "You're looking to move into a new apartment on specific street, and you're given a list of contiguous\n",
    "blocks on that street where each block contains an apartment that you could move into.\n",
    "You also have a list of requirements: a list of buildings that are important to you. For instance, you\n",
    "might value having a school and a gym near your apartment. The list of blocks that you have contains\n",
    "information at every block about all of the buildings that are present and absent at the block in\n",
    "question. For instance, for every block, you might know whether a school, a pool, an office, and a gym\n",
    "are present.\n",
    "In order to optimize your life, you want to pick an apartment block such that you minimize the farthest\n",
    "distance you'd have to walk from your apartment to reach any of your required buildings.\n",
    "Write a function that takes in a list of contiguous blocks on a specific street and a list of your required\n",
    "buildings and that returns the location (the index) of the block that's most optimal for you.\n",
    "If there are multiple most optimal blocks, your function can return the index of any one of them.\n",
    "\n",
    "Example:\n",
    "\n",
    "blocks = \n",
    "\n",
    "                  [\n",
    "                    {\n",
    "                      \"gym\": false,\n",
    "                      \"school\": true,\n",
    "                      \"store\": false\n",
    "                    },\n",
    "                    {\n",
    "                      \"gym\": true,\n",
    "                      \"school\": false,\n",
    "                      \"store\": false\n",
    "                    },\n",
    "                    {\n",
    "                      \"gym\": true,\n",
    "                      \"school\": true,\n",
    "                      \"store\": false\n",
    "                    },\n",
    "                    {\n",
    "                      \"gym\": false,\n",
    "                      \"school\": true,\n",
    "                      \"store\": false\n",
    "                    },\n",
    "                    {\n",
    "                      \"gym\": false,\n",
    "                      \"school\": true,\n",
    "                      \"store\": true\n",
    "                    }\n",
    "                  ]\n",
    "  \n",
    " \n",
    " Requirement = [\"gym\", \"school\", \"store\"]\n",
    "  \n",
    "  Output: 3 // you will have to walk only previous bloc for gym and next block for store and no walk for store.\n",
    "  "
   ]
  },
  {
   "cell_type": "markdown",
   "metadata": {},
   "source": [
    "## Approach:\n",
    "\n",
    "1. Get the minimum distance of each requirement from given blocks.Like gym : [1, 0, 0,1,2] school:[0,1,0,0,0] store:[4,3,2,1,0]\n",
    "2. Now for each block get the maximum distance for requirements. Like: max distance for block0 = 4, block1=3, block2= 2, block3 = 1, block4 = 2 maxDistance = [4,3,2,1,2]\n",
    "3. Get the minimum from max distance and return the index."
   ]
  },
  {
   "cell_type": "code",
   "execution_count": 7,
   "metadata": {},
   "outputs": [],
   "source": [
    "def getApartment(blocks, reqs):\n",
    "    requirementDistanceFromBlock = list(map(lambda req : distanceFromBlock(blocks, req), reqs))\n",
    "    maxDistanceForBlocks = getMaxDistanceForBlocks(blocks, requirementDistanceFromBlock)\n",
    "    return getMinDistanceindex(maxDistanceForBlocks)"
   ]
  },
  {
   "cell_type": "markdown",
   "metadata": {},
   "source": [
    "### Get minimum distance of each requirement from aprtment. Will pass each block from starting for given req, if req is available in the block then distance = 0 elase claculate from earlier found block. If not found earlier, then distance would be maximum (infinity). Then again pass from end for each block and calculate the distance, compare with earlier calculated distance and get the minimum."
   ]
  },
  {
   "cell_type": "code",
   "execution_count": 8,
   "metadata": {},
   "outputs": [],
   "source": [
    "def distanceFromBlock(blocks, req):\n",
    "    distanceOfReq = []\n",
    "    index = float(\"inf\")\n",
    "    # First pass from left to right\n",
    "    for i in range(len(blocks)):\n",
    "        if blocks[i][req]:\n",
    "            index = i\n",
    "        distance = abs(i - index)\n",
    "        distanceOfReq.append(distance)\n",
    "    \n",
    "    # Second pass from right to left\n",
    "    for i in reversed(range(len(blocks))):\n",
    "        if blocks[i][req]:\n",
    "            index = i\n",
    "        distance = abs(i - index)\n",
    "        distanceOfReq[i]= min(distance, distanceOfReq[i])\n",
    "    return distanceOfReq\n",
    "        \n",
    "        \n",
    "        \n",
    "        \n",
    "    "
   ]
  },
  {
   "cell_type": "code",
   "execution_count": 9,
   "metadata": {},
   "outputs": [],
   "source": [
    "def getMaxDistanceForBlocks(blocks, reqDist):\n",
    "    maxDistance = []\n",
    "    for i in range(len(blocks)):\n",
    "        distance = list(map(lambda dist : dist[i], reqDist))\n",
    "        maxDistance.append(max(distance))\n",
    "    return maxDistance"
   ]
  },
  {
   "cell_type": "code",
   "execution_count": 10,
   "metadata": {},
   "outputs": [],
   "source": [
    "def getMinDistanceindex(maxDistanceForBlocks):\n",
    "    idex = 0\n",
    "    minValue = float(\"inf\")\n",
    "    for i in range(len(maxDistanceForBlocks)):\n",
    "        dist = maxDistanceForBlocks[i]\n",
    "        if dist < minValue:\n",
    "            minValue = dist\n",
    "            index = i\n",
    "    return index"
   ]
  },
  {
   "cell_type": "code",
   "execution_count": 11,
   "metadata": {},
   "outputs": [
    {
     "name": "stdout",
     "output_type": "stream",
     "text": [
      "3\n"
     ]
    }
   ],
   "source": [
    "blocks = [ { \"gym\": False, \"school\": True, \"store\": False }, { \"gym\": True, \"school\": False, \"store\": False }, { \"gym\": True, \"school\": True, \"store\": False }, { \"gym\": False, \"school\": True, \"store\": False }, { \"gym\": False, \"school\": True, \"store\": True } ]\n",
    "req = [\"gym\", \"school\", \"store\"]\n",
    "print(getApartment(blocks, req))"
   ]
  },
  {
   "cell_type": "code",
   "execution_count": null,
   "metadata": {},
   "outputs": [],
   "source": []
  }
 ],
 "metadata": {
  "kernelspec": {
   "display_name": "Python 3",
   "language": "python",
   "name": "python3"
  },
  "language_info": {
   "codemirror_mode": {
    "name": "ipython",
    "version": 3
   },
   "file_extension": ".py",
   "mimetype": "text/x-python",
   "name": "python",
   "nbconvert_exporter": "python",
   "pygments_lexer": "ipython3",
   "version": "3.8.3"
  }
 },
 "nbformat": 4,
 "nbformat_minor": 4
}

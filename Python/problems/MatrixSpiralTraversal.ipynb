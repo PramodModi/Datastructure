{
 "cells": [
  {
   "cell_type": "code",
   "execution_count": 30,
   "metadata": {},
   "outputs": [],
   "source": [
    "def SpiralPrint(array):\n",
    "    startRow = 0\n",
    "    endRow = len(array)-1\n",
    "    startCol = 0\n",
    "    endCol = len(array[0])-1\n",
    "    result = []\n",
    "    if(endRow == 0):\n",
    "        return array[0]\n",
    "    \n",
    "    while (startRow <= endRow and startCol <= endCol):\n",
    "        for col in range(startCol, endCol+1):\n",
    "            result.append(array[startRow][col])\n",
    "        for row in range(startRow+1, endRow+1):\n",
    "            result.append(array[row][endCol])\n",
    "        for col in reversed(range(startCol,endCol)):\n",
    "            if startRow == endRow:\n",
    "                break\n",
    "            result.append(array[endRow][col])\n",
    "        for row in reversed(range(startRow+1, endRow)):\n",
    "            if startCol == endCol:\n",
    "                break\n",
    "            result.append(array[row][startCol])\n",
    "        \n",
    "        startRow += 1\n",
    "        endRow -= 1\n",
    "        startCol += 1\n",
    "        endCol -= 1\n",
    "        \n",
    "    return result\n",
    "        \n",
    "        "
   ]
  },
  {
   "cell_type": "code",
   "execution_count": 31,
   "metadata": {},
   "outputs": [
    {
     "name": "stdout",
     "output_type": "stream",
     "text": [
      "[1, 2, 3, 4, 5, 6, 7, 8, 9, 10, 11, 12, 13, 14, 15, 16]\n"
     ]
    }
   ],
   "source": [
    "array = [[1,2,3,4], \n",
    "         [12,13,14,5],\n",
    "         [11,16,15,6],\n",
    "         [10,9,8,7]]\n",
    "print(SpiralPrint(array))"
   ]
  },
  {
   "cell_type": "code",
   "execution_count": 32,
   "metadata": {},
   "outputs": [
    {
     "name": "stdout",
     "output_type": "stream",
     "text": [
      "[1]\n"
     ]
    }
   ],
   "source": [
    "array = [[1]]\n",
    "print(SpiralPrint(array))"
   ]
  },
  {
   "cell_type": "code",
   "execution_count": 33,
   "metadata": {},
   "outputs": [
    {
     "name": "stdout",
     "output_type": "stream",
     "text": [
      "[1, 2, 3, 4]\n"
     ]
    }
   ],
   "source": [
    "array = [[1,2], [4,3]]\n",
    "print(SpiralPrint(array))"
   ]
  },
  {
   "cell_type": "code",
   "execution_count": 34,
   "metadata": {},
   "outputs": [
    {
     "name": "stdout",
     "output_type": "stream",
     "text": [
      "[4, 2, 3, 6, 7, 8, 1, 9, 5, 10, 14, 11, 17, 13, 18, 20, 16, 15, 19, 12]\n"
     ]
    }
   ],
   "source": [
    "array = [\n",
    "    [4, 2, 3, 6, 7, 8, 1, 9, 5, 10],\n",
    "    [12, 19, 15, 16, 20, 18, 13, 17, 11, 14]\n",
    "  ]\n",
    "print(SpiralPrint(array))"
   ]
  },
  {
   "cell_type": "code",
   "execution_count": 35,
   "metadata": {},
   "outputs": [
    {
     "name": "stdout",
     "output_type": "stream",
     "text": [
      "[1, 2, 3, 4, 5, 6, 7, 8, 9, 10, 11, 12]\n"
     ]
    }
   ],
   "source": [
    "array = [\n",
    "    [1, 2, 3, 4],\n",
    "    [10, 11, 12, 5],\n",
    "    [9, 8, 7, 6]\n",
    "  ]\n",
    "print(SpiralPrint(array))"
   ]
  },
  {
   "cell_type": "code",
   "execution_count": 37,
   "metadata": {},
   "outputs": [
    {
     "name": "stdout",
     "output_type": "stream",
     "text": [
      "[1, 2, 3, 4, 5, 6]\n"
     ]
    }
   ],
   "source": [
    "array = [[1,2,3,4,5,6]]\n",
    "print(SpiralPrint(array))"
   ]
  }
 ],
 "metadata": {
  "kernelspec": {
   "display_name": "Python 3",
   "language": "python",
   "name": "python3"
  },
  "language_info": {
   "codemirror_mode": {
    "name": "ipython",
    "version": 3
   },
   "file_extension": ".py",
   "mimetype": "text/x-python",
   "name": "python",
   "nbconvert_exporter": "python",
   "pygments_lexer": "ipython3",
   "version": "3.8.3"
  }
 },
 "nbformat": 4,
 "nbformat_minor": 4
}

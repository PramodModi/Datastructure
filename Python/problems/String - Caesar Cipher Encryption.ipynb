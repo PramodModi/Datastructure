{
 "cells": [
  {
   "cell_type": "markdown",
   "metadata": {},
   "source": [
    "## Problem:\n",
    "\n",
    "Given a non-empty string of lowercase letters and a non-negative integer representing a key, write a\n",
    "function that returns a new string obtained by shifting every letter in the input string by k positions in\n",
    "the alphabet, where k is the key.\n",
    "Note that letters should \"wrap\" around the alphabet; in other words, the letter z shifted by one\n",
    "returns the letter a .\n",
    "\n",
    "Example:\n",
    "\n",
    "string = \"xyz\"\n",
    "\n",
    "key = 2\n",
    "\n",
    "Output:\n",
    "\"zab\""
   ]
  },
  {
   "cell_type": "code",
   "execution_count": 1,
   "metadata": {},
   "outputs": [],
   "source": [
    "# O(n) | O(n) time\n",
    "def caesarCipherEncryptor(string, key):\n",
    "    # Write your code here.\n",
    "    result = []\n",
    "    key = key%26\n",
    "    alphabet = list(\"abcdefghijklmnopqrstuvwxyz\")\n",
    "    for c in string:\n",
    "        ind = (alphabet.index(c) + key)%26\n",
    "        result.append(alphabet[ind])\n",
    "    return \"\".join(result)"
   ]
  },
  {
   "cell_type": "code",
   "execution_count": 2,
   "metadata": {},
   "outputs": [
    {
     "data": {
      "text/plain": [
       "'zab'"
      ]
     },
     "execution_count": 2,
     "metadata": {},
     "output_type": "execute_result"
    }
   ],
   "source": [
    "string = \"xyz\"\n",
    "key = 2\n",
    "caesarCipherEncryptor(string, key)"
   ]
  },
  {
   "cell_type": "code",
   "execution_count": 3,
   "metadata": {},
   "outputs": [],
   "source": [
    "## Without extra list\n",
    "# O(n) | O(n) time\n",
    "\n",
    "def caesarCipherEncryptor1(string, key):\n",
    "    key = key % 26\n",
    "    newString = \"\"\n",
    "    for c in string:\n",
    "        newChar = ord(c) + key\n",
    "        newChar = chr(newChar) if newChar <= 122 else chr(96 + newChar %122)\n",
    "        newString += newChar\n",
    "    return newString\n",
    "        "
   ]
  },
  {
   "cell_type": "code",
   "execution_count": 4,
   "metadata": {},
   "outputs": [
    {
     "data": {
      "text/plain": [
       "'zab'"
      ]
     },
     "execution_count": 4,
     "metadata": {},
     "output_type": "execute_result"
    }
   ],
   "source": [
    "string = \"xyz\"\n",
    "key = 2\n",
    "caesarCipherEncryptor1(string, key)"
   ]
  },
  {
   "cell_type": "code",
   "execution_count": null,
   "metadata": {},
   "outputs": [],
   "source": []
  }
 ],
 "metadata": {
  "kernelspec": {
   "display_name": "Python 3",
   "language": "python",
   "name": "python3"
  },
  "language_info": {
   "codemirror_mode": {
    "name": "ipython",
    "version": 3
   },
   "file_extension": ".py",
   "mimetype": "text/x-python",
   "name": "python",
   "nbconvert_exporter": "python",
   "pygments_lexer": "ipython3",
   "version": "3.8.3"
  }
 },
 "nbformat": 4,
 "nbformat_minor": 4
}

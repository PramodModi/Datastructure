{
 "cells": [
  {
   "cell_type": "markdown",
   "metadata": {},
   "source": [
    "## Problem:\n",
    "\n",
    "You're given an array of points plotted on a 2D graph (the xy-plane). Write a function that returns the\n",
    "maximum number of points that a single line (or potentially multiple lines) on the graph passes\n",
    "through.\n",
    "The input array will contain points represented by an array of two integers [x, y] . The input array\n",
    "will never contain duplicate points and will always contain at least one point.\n",
    "\n",
    "Examples:\n",
    "\n",
    "points = \n",
    "\n",
    "    [\n",
    "     [1, 1],\n",
    "     [2, 2],\n",
    "     [3, 3],\n",
    "     [0, 4],\n",
    "     [-2, 6],\n",
    "     [4, 0],\n",
    "     [2, 1],\n",
    "    ]\n",
    "\n",
    "Output:\n",
    "4 // A line passes through points: [-2, 6], [0, 4], [2, 2], [4, 0]."
   ]
  },
  {
   "cell_type": "code",
   "execution_count": 1,
   "metadata": {},
   "outputs": [],
   "source": [
    "def lineThroughPoints(points):\n",
    "    # Write your code here.\n",
    "    maxPointsOnLine = 1\n",
    "    for idx1, p1 in enumerate(points):\n",
    "        slopes = {}\n",
    "        for idx2 in range(idx1 + 1, len(points)):\n",
    "            p2 = points[idx2]\n",
    "            rise, run = getSlope(p1, p2)\n",
    "            slopKey = createHashTableKeyForRational(rise, run)\n",
    "\n",
    "            if slopKey not in slopes:\n",
    "                slopes[slopKey] = 1\n",
    "            slopes[slopKey] += 1\n",
    "\n",
    "        maxPointsOnLine = max(maxPointsOnLine, max(slopes.values(), default=0))\n",
    "    return maxPointsOnLine\n",
    "\n",
    "def getSlope(p1, p2):\n",
    "    p1x, p1y = p1\n",
    "    p2x, p2y = p2\n",
    "\n",
    "    slope = [1,0] # slope of a vertical line\n",
    "\n",
    "    if p1x != p2x:\n",
    "        xDiff = p1x -p2x\n",
    "        yDiff  = p1y-p2y\n",
    "\n",
    "        gcd = getGCD(abs(xDiff), abs(yDiff))\n",
    "\n",
    "        xDiff =  xDiff //gcd\n",
    "        yDiff = yDiff //gcd\n",
    "        if xDiff < 0:\n",
    "            xDiff *= -1\n",
    "            yDiff *= -1\n",
    "\n",
    "        slope = [yDiff, xDiff]\n",
    "    return slope\n",
    "\n",
    "def createHashTableKeyForRational(numerator, denominator):\n",
    "    return str(numerator) + \":\" + str(denominator)\n",
    "\n",
    "def getGCD(num1, num2):\n",
    "    a = num1\n",
    "    b = num2\n",
    "    while True:\n",
    "        if a == 0:\n",
    "            return b\n",
    "        if b ==0:\n",
    "            return a\n",
    "        a, b = b, a%b"
   ]
  },
  {
   "cell_type": "code",
   "execution_count": 3,
   "metadata": {},
   "outputs": [
    {
     "data": {
      "text/plain": [
       "4"
      ]
     },
     "execution_count": 3,
     "metadata": {},
     "output_type": "execute_result"
    }
   ],
   "source": [
    "points =[\n",
    " [1, 1],\n",
    " [2, 2],\n",
    " [3, 3],\n",
    " [0, 4],\n",
    " [-2, 6],\n",
    " [4, 0],\n",
    " [2, 1],\n",
    "]\n",
    "lineThroughPoints(points)"
   ]
  },
  {
   "cell_type": "code",
   "execution_count": null,
   "metadata": {},
   "outputs": [],
   "source": []
  }
 ],
 "metadata": {
  "kernelspec": {
   "display_name": "Python 3",
   "language": "python",
   "name": "python3"
  },
  "language_info": {
   "codemirror_mode": {
    "name": "ipython",
    "version": 3
   },
   "file_extension": ".py",
   "mimetype": "text/x-python",
   "name": "python",
   "nbconvert_exporter": "python",
   "pygments_lexer": "ipython3",
   "version": "3.8.3"
  }
 },
 "nbformat": 4,
 "nbformat_minor": 4
}

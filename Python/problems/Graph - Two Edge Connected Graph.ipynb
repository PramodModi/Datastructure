{
 "cells": [
  {
   "cell_type": "markdown",
   "metadata": {},
   "source": [
    "## Problem:\n",
    "\n",
    "You're given a list of edges representing an unweighted and undirected graph. Write a function that\n",
    "returns a boolean representing whether the given graph is two-edge-connected.\n",
    "A graph is connected if, for every pair of vertices in the graph, there's a path of one or more edges\n",
    "connecting the given vertices. A graph that isn't connected is said to be disconnected.\n",
    "A graph is two-edge-connected if, for every one of its edges, the edge's removal from the graph doesn't\n",
    "cause the graph to become disconnected. If the removal of any single edge disconnects the graph, then\n",
    "it isn't two-edge-connected. If the given graph is already disconnected, then it also isn't two-edgeconnected. An empty graph is considered two-edge-connected.\n",
    "The input list is what's called an adjacency list, and it represents a graph. The number of vertices in the\n",
    "graph is equal to the length of edges , where each index i in edges contains vertex i 's\n",
    "outbound edges, in no particular order. Each outbound edge is represented by a positive integer that\n",
    "denotes an index (a destination vertex) in the list that this vertex is connected to. Note that these edges\n",
    "are undirected, meaning that you can travel from a particular vertex to its destination and from the\n",
    "destination back to that vertex. Since these edges are undirected, if vertex i has an outbound edge to\n",
    "vertex j , then vertex j is guaranteed to have an outbound edge to vertex i . For example, an\n",
    "undirected graph with two vertices and one edge would be represented by the following adjacency list\n",
    "edges = [[1], [0]] .\n",
    "\n",
    "Note that the input graph will never contain parallel edges (edges that share the same source and\n",
    "destination vertices). In other words, there will never be more than one edge that connects the same\n",
    "two vertices to each other.\n",
    "\n",
    "Example:\n",
    "\n",
    "edges = \n",
    "\n",
    "        [\n",
    "         [1, 2, 5],\n",
    "         [0, 2],\n",
    "         [0, 1, 3],\n",
    "         [2, 4, 5],\n",
    "         [3, 5],\n",
    "         [0, 3, 4],\n",
    "        ]\n",
    "Output\n",
    "true "
   ]
  },
  {
   "cell_type": "code",
   "execution_count": 1,
   "metadata": {},
   "outputs": [],
   "source": [
    "def twoEdgeConnectedGraph(edges):\n",
    "    # Write your code here.\n",
    "    n = len(edges)\n",
    "    if n == 0:\n",
    "        return True\n",
    "\n",
    "    arrivalTimes = [-1] * n\n",
    "    startVertex = 0\n",
    "\n",
    "    if getMinmArrivalTimeOfAncestors(startVertex, -1, 0, arrivalTimes, edges) == -1:\n",
    "        return False\n",
    "    return areAllVerticesVisited(arrivalTimes)\n",
    "\n",
    "def areAllVerticesVisited(arrivalTimes):\n",
    "    for time in arrivalTimes:\n",
    "        if time == -1:\n",
    "            return False\n",
    "    return True\n",
    "\n",
    "def getMinmArrivalTimeOfAncestors(currentVertex, parent, currentTime, arrivalTimes, edges):\n",
    "    arrivalTimes[currentVertex] = currentTime\n",
    "    minimumArrivalTime = currentTime\n",
    "    for destination in edges[currentVertex]:\n",
    "        if arrivalTimes[destination] == -1:\n",
    "            time = getMinmArrivalTimeOfAncestors (destination, currentVertex, currentVertex+1, arrivalTimes, edges)\n",
    "            minimumArrivalTime = min(minimumArrivalTime, time)\n",
    "        elif destination != parent:\n",
    "            minimumArrivalTime = min(minimumArrivalTime, arrivalTimes[destination])\n",
    "    # A bridge was detected, which means the graph isn't two edge connected.\n",
    "    if minimumArrivalTime == currentTime and parent != -1:\n",
    "        return -1\n",
    "    return minimumArrivalTime"
   ]
  },
  {
   "cell_type": "code",
   "execution_count": 2,
   "metadata": {},
   "outputs": [
    {
     "data": {
      "text/plain": [
       "True"
      ]
     },
     "execution_count": 2,
     "metadata": {},
     "output_type": "execute_result"
    }
   ],
   "source": [
    "edges =[\n",
    "     [1, 2, 5],\n",
    "     [0, 2],\n",
    "     [0, 1, 3],\n",
    "     [2, 4, 5],\n",
    "     [3, 5],\n",
    "     [0, 3, 4],\n",
    "    ]\n",
    "twoEdgeConnectedGraph(edges)"
   ]
  },
  {
   "cell_type": "code",
   "execution_count": null,
   "metadata": {},
   "outputs": [],
   "source": []
  }
 ],
 "metadata": {
  "kernelspec": {
   "display_name": "Python 3",
   "language": "python",
   "name": "python3"
  },
  "language_info": {
   "codemirror_mode": {
    "name": "ipython",
    "version": 3
   },
   "file_extension": ".py",
   "mimetype": "text/x-python",
   "name": "python",
   "nbconvert_exporter": "python",
   "pygments_lexer": "ipython3",
   "version": "3.8.3"
  }
 },
 "nbformat": 4,
 "nbformat_minor": 4
}

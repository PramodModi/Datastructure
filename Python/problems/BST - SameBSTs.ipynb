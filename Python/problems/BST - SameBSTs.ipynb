{
 "cells": [
  {
   "cell_type": "markdown",
   "metadata": {},
   "source": [
    "## Problem\n",
    "Given tow arrays of integres, arranged in such way that both represents a BST.\n",
    "Right a function to check if both array represents same BST."
   ]
  },
  {
   "cell_type": "code",
   "execution_count": 2,
   "metadata": {},
   "outputs": [],
   "source": [
    "def sameBsts(arrayOne, arrayTwo):\n",
    "    if len(arrayOne) != len(arrayTwo):\n",
    "        return False\n",
    "\n",
    "    if len(arrayOne) == 0 and  len(arrayTwo) == 0:\n",
    "        return True\n",
    "\n",
    "    if arrayOne[0] != arrayTwo[0]:\n",
    "        return False\n",
    "    leftSubTreeOne = leftSubTree(arrayOne)\n",
    "    rightSubTreeOne = rightSubTree(arrayOne)\n",
    "    leftSubTreeTwo = leftSubTree(arrayTwo)\n",
    "    rightSubTreeTwo = rightSubTree(arrayTwo)\n",
    "\n",
    "    return sameBsts(leftSubTreeOne, leftSubTreeTwo) and sameBsts(rightSubTreeOne,rightSubTreeTwo)\n",
    "\n",
    "def leftSubTree(array):\n",
    "    left = []\n",
    "    for i in range(1, len(array)):\n",
    "        if array[i] < array[0]:\n",
    "            left.append(array[i])\n",
    "    return left\n",
    "\n",
    "def rightSubTree(array):\n",
    "    right = []\n",
    "    for i in range(1, len(array)):\n",
    "        if array[i] >= array[0]:\n",
    "            right.append(array[i])\n",
    "    return right"
   ]
  },
  {
   "cell_type": "code",
   "execution_count": 5,
   "metadata": {},
   "outputs": [
    {
     "name": "stdout",
     "output_type": "stream",
     "text": [
      "True\n"
     ]
    }
   ],
   "source": [
    "arrayOne = [10, 15, 8, 12, 94, 81, 5, 2, 11]\n",
    "arrayTwo = [10, 8, 5, 15, 2, 12, 11, 94, 81]\n",
    "print(sameBsts(arrayOne, arrayTwo))"
   ]
  },
  {
   "cell_type": "code",
   "execution_count": 6,
   "metadata": {},
   "outputs": [
    {
     "name": "stdout",
     "output_type": "stream",
     "text": [
      "True\n"
     ]
    }
   ],
   "source": [
    "arrayOne = [10, 15, 8, 12, 94, 81, 5, 2, -1, 100, 45, 12, 8, -1, 8, 2, -34]\n",
    "arrayTwo = [10, 8, 5, 15, 2, 12, 94, 81, -1, -1, -34, 8, 2, 8, 12, 45, 100]\n",
    "print(sameBsts(arrayOne, arrayTwo))"
   ]
  },
  {
   "cell_type": "code",
   "execution_count": null,
   "metadata": {},
   "outputs": [],
   "source": []
  }
 ],
 "metadata": {
  "kernelspec": {
   "display_name": "Python 3",
   "language": "python",
   "name": "python3"
  },
  "language_info": {
   "codemirror_mode": {
    "name": "ipython",
    "version": 3
   },
   "file_extension": ".py",
   "mimetype": "text/x-python",
   "name": "python",
   "nbconvert_exporter": "python",
   "pygments_lexer": "ipython3",
   "version": "3.8.3"
  }
 },
 "nbformat": 4,
 "nbformat_minor": 4
}

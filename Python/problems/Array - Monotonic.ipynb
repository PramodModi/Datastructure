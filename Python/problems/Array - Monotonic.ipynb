{
 "cells": [
  {
   "cell_type": "markdown",
   "metadata": {},
   "source": [
    "## Problem : 896. Monotonic Array\n",
    "\n",
    "https://leetcode.com/problems/monotonic-array/\n",
    "\n",
    "Write a function that takes in an array of integers and returns a boolean representing whether the array\n",
    "is monotonic.\n",
    "An array is said to be monotonic if its elements, from left to right, are entirely non-increasing or entirely\n",
    "non-decreasing.\n",
    "Non-increasing elements aren't necessarily exclusively decreasing; they simply don't increase. Similarly,\n",
    "non-decreasing elements aren't necessarily exclusively increasing; they simply don't decrease.\n",
    "Note that empty arrays and arrays of one element are monotonic.\n",
    "\n",
    "Example:\n",
    "\n",
    "array = [-1, -5, -10, -1100, -1100, -1101, -1102, -9001]\n",
    "\n",
    "output:\n",
    "true"
   ]
  },
  {
   "cell_type": "code",
   "execution_count": 1,
   "metadata": {},
   "outputs": [],
   "source": [
    "def isMonotonic(array):\n",
    "    if len(array) <= 2:\n",
    "        return True\n",
    "    inc_monotonic = True\n",
    "    dec_monotonic = True\n",
    "    \n",
    "    for i in range(1, len(array)):    \n",
    "        if array[i-1] > array[i]:\n",
    "            inc_monotonic = False\n",
    "            break;\n",
    "\n",
    "    for i in range(1, len(array)):\n",
    "        if array[i-1] < array[i]:\n",
    "            dec_monotonic = False\n",
    "            break;\n",
    "    return inc_monotonic or dec_monotonic"
   ]
  },
  {
   "cell_type": "code",
   "execution_count": 5,
   "metadata": {},
   "outputs": [
    {
     "data": {
      "text/plain": [
       "True"
      ]
     },
     "execution_count": 5,
     "metadata": {},
     "output_type": "execute_result"
    }
   ],
   "source": [
    "a = [1, 5, 10, 1100, 1101, 1102, 9001]\n",
    "isMonotonic(a)"
   ]
  },
  {
   "cell_type": "code",
   "execution_count": 6,
   "metadata": {},
   "outputs": [],
   "source": [
    "def isMonotonic1(array):\n",
    "    if len(array) <= 2:\n",
    "        return True\n",
    "    inc_monotonic = True\n",
    "    dec_monotonic = True\n",
    "    \n",
    "    for i in range(1, len(array)):    \n",
    "        if array[i-1] > array[i]:\n",
    "            inc_monotonic = False\n",
    "        if array[i-1] < array[i]:\n",
    "            dec_monotonic = False\n",
    "    return inc_monotonic or dec_monotonic"
   ]
  },
  {
   "cell_type": "code",
   "execution_count": 4,
   "metadata": {},
   "outputs": [
    {
     "data": {
      "text/plain": [
       "True"
      ]
     },
     "execution_count": 4,
     "metadata": {},
     "output_type": "execute_result"
    }
   ],
   "source": [
    "a = [1, 5, 10, 1100, 1101, 1102, 9001]\n",
    "isMonotonic1(a)"
   ]
  },
  {
   "cell_type": "code",
   "execution_count": null,
   "metadata": {},
   "outputs": [],
   "source": []
  }
 ],
 "metadata": {
  "kernelspec": {
   "display_name": "Python 3",
   "language": "python",
   "name": "python3"
  },
  "language_info": {
   "codemirror_mode": {
    "name": "ipython",
    "version": 3
   },
   "file_extension": ".py",
   "mimetype": "text/x-python",
   "name": "python",
   "nbconvert_exporter": "python",
   "pygments_lexer": "ipython3",
   "version": "3.8.3"
  }
 },
 "nbformat": 4,
 "nbformat_minor": 4
}

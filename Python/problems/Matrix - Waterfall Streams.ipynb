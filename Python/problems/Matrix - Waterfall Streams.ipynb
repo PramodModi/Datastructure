{
 "cells": [
  {
   "cell_type": "markdown",
   "metadata": {},
   "source": [
    "## Problem:\n",
    "\n",
    "You're given a two-dimensional array that represents the structure of an indoor waterfall and a positive\n",
    "integer that represents the column that the waterfall's water source will start at. More specifically, the\n",
    "water source will start directly above the structure and will flow downwards.\n",
    "Each row in the array contains 0 s and 1 s, where a 0 represents a free space and a 1 represents\n",
    "a block that water can't pass through. You can imagine that the last row of the array contains buckets\n",
    "that the water will eventually flow into; thus, the last row of the array will always contain only 0 s. You\n",
    "can also imagine that there are walls on both sides of the structure, meaning that water will never leave\n",
    "the structure; it will either be trapped against a wall or flow into one of the buckets in the last row.\n",
    "As water flows downwards, if it hits a block, it splits evenly to the left and right-hand side of that block.\n",
    "In other words, 50% of the water flows left and 50% of it flows right. If a water stream is unable to flow\n",
    "to the left or to the right (because of a block or a wall), the water stream in question becomes trapped\n",
    "and can no longer continue to flow in that direction; it effectively gets stuck in the structure and can no\n",
    "longer flow downwards, meaning that 50% of the previous water stream is forever lost.\n",
    "Lastly, the input array will always contain at least two rows and one column, and the space directly\n",
    "below the water source (in the first row of the array) will always be empty, allowing the water to start\n",
    "flowing downwards.\n",
    "Write a function that returns the percentage of water inside each of the bottom buckets after the water\n",
    "has flowed through the entire structure.\n",
    "You can refer to the first 4.5 minutes of this question's video explanation for a visual example.\n",
    "\n",
    "Example:\n",
    "\n",
    "array = \n",
    "\n",
    "            [\n",
    "             [0, 0, 0, 0, 0, 0, 0],\n",
    "             [1, 0, 0, 0, 0, 0, 0],\n",
    "             [0, 0, 1, 1, 1, 0, 0],\n",
    "             [0, 0, 0, 0, 0, 0, 0],\n",
    "             [1, 1, 1, 0, 0, 1, 0],\n",
    "             [0, 0, 0, 0, 0, 0, 1],\n",
    "             [0, 0, 0, 0, 0, 0, 0],\n",
    "            ]\n",
    "\n",
    "source = 3\n",
    "\n",
    "output:\n",
    "[0,0,0,25,25,0,0]\n"
   ]
  },
  {
   "cell_type": "code",
   "execution_count": 1,
   "metadata": {},
   "outputs": [],
   "source": [
    "def waterfallStreams(array, source):\n",
    "    # Write your code here.\n",
    "    aboveRow = array[0]\n",
    "    #We will use -1 to represent water, since 1 is used for a block\n",
    "    aboveRow[source] = -1 \n",
    "\n",
    "    for row in range(1, len(array)):\n",
    "        currentRow = array[row]\n",
    "        for idx in range(len(aboveRow)):\n",
    "            valueAbove = aboveRow[idx]\n",
    "\n",
    "            hasWaterAbove = valueAbove < 0\n",
    "            hasBlocked = currentRow[idx] == 1\n",
    "\n",
    "            if not hasWaterAbove:\n",
    "                continue\n",
    "            if not hasBlocked:\n",
    "                currentRow[idx] += valueAbove\n",
    "                continue\n",
    "            splitWater = valueAbove /2\n",
    "\n",
    "            # Move water right\n",
    "            rightIdx = idx\n",
    "            while rightIdx + 1 < len(aboveRow):\n",
    "                rightIdx += 1\n",
    "                if aboveRow[rightIdx] == 1: # if there is a block in the way\n",
    "                    break\n",
    "                if currentRow[rightIdx] != 1: # if there is no block below us\n",
    "                    currentRow[rightIdx] += splitWater\n",
    "                    break\n",
    "\n",
    "            # Move water left\n",
    "            \n",
    "            leftIdx = idx\n",
    "            while leftIdx -1 >= 0:\n",
    "                leftIdx -= 1\n",
    "                if aboveRow[leftIdx] == 1: # if there is a block in the way\n",
    "                    break\n",
    "                if currentRow[leftIdx] != 1: # If there is no block below\n",
    "                    currentRow[leftIdx] += splitWater\n",
    "                    break\n",
    "        aboveRow = currentRow\n",
    "    # convert our negative values to positive percentage\n",
    "    finalPercentages = list(map(lambda num: num*-100, aboveRow))\n",
    "    return finalPercentages"
   ]
  },
  {
   "cell_type": "code",
   "execution_count": 2,
   "metadata": {},
   "outputs": [
    {
     "data": {
      "text/plain": [
       "[0, 0, 0, 25.0, 25.0, 0, 0]"
      ]
     },
     "execution_count": 2,
     "metadata": {},
     "output_type": "execute_result"
    }
   ],
   "source": [
    "array = [\n",
    "         [0, 0, 0, 0, 0, 0, 0],\n",
    "         [1, 0, 0, 0, 0, 0, 0],\n",
    "         [0, 0, 1, 1, 1, 0, 0],\n",
    "         [0, 0, 0, 0, 0, 0, 0],\n",
    "         [1, 1, 1, 0, 0, 1, 0],\n",
    "         [0, 0, 0, 0, 0, 0, 1],\n",
    "         [0, 0, 0, 0, 0, 0, 0],\n",
    "        ]\n",
    "source = 3\n",
    "\n",
    "waterfallStreams(array, source)"
   ]
  },
  {
   "cell_type": "code",
   "execution_count": null,
   "metadata": {},
   "outputs": [],
   "source": []
  }
 ],
 "metadata": {
  "kernelspec": {
   "display_name": "Python 3",
   "language": "python",
   "name": "python3"
  },
  "language_info": {
   "codemirror_mode": {
    "name": "ipython",
    "version": 3
   },
   "file_extension": ".py",
   "mimetype": "text/x-python",
   "name": "python",
   "nbconvert_exporter": "python",
   "pygments_lexer": "ipython3",
   "version": "3.8.3"
  }
 },
 "nbformat": 4,
 "nbformat_minor": 4
}

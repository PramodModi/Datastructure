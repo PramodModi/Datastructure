{
 "cells": [
  {
   "cell_type": "markdown",
   "metadata": {},
   "source": [
    "## Problem : Find Successor\n",
    "\n",
    "Write a function that takes in a Binary Tree (where nodes have an additional pointer to their parent\n",
    "node) as well as a node contained in that tree and returns the given node's successor.\n",
    "A node's successor is the next node to be visited (immediately after the given node) when traversing its\n",
    "tree using the in-order tree-traversal technique. A node has no successor if it's the last node to be\n",
    "visited in the in-order traversal.\n",
    "If a node has no successor, your function should return None / null .\n",
    "Each BinaryTree node has an integer value , a parent node, a left child node, and a\n",
    "right child node. Children nodes can either be BinaryTree nodes themselves or None / null .\n",
    "\n",
    "Example:\n",
    "\n",
    "tree =\n",
    "\n",
    "             1\n",
    "            / \\\n",
    "           2   3\n",
    "         /  \\\n",
    "        4    5\n",
    "       /\n",
    "      6\n",
    "\n",
    "node = 5\n",
    "\n",
    "Sample Output\n",
    "\n",
    "1\n",
    "\n",
    "// This tree's in-order traversal order is:\n",
    "\n",
    "// 6 -> 4 -> 2 -> 5 -> 1 -> 3\n",
    "\n",
    "// 1 comes immediately after 5."
   ]
  },
  {
   "cell_type": "code",
   "execution_count": 1,
   "metadata": {},
   "outputs": [],
   "source": [
    "class BinaryTree:\n",
    "    def __init__(self, value, left=None, right=None, parent=None):\n",
    "        self.value = value\n",
    "        self.left = left\n",
    "        self.right = right\n",
    "        self.parent = parent\n",
    "\n",
    "\n",
    "def findSuccessor(tree, node):\n",
    "    # Write your code here.\n",
    "    if node.right is not None:\n",
    "        return getLeftMost(node.right)\n",
    "\n",
    "    return getRightMostParent(node)\n",
    "\n",
    "def getLeftMost(node):\n",
    "    while node.left:\n",
    "        node = node.left\n",
    "    return node\n",
    "\n",
    "def getRightMostParent(node):\n",
    "    while node.parent is not None and node == node.parent.right:\n",
    "        node = node.parent\n",
    "    return node.parent"
   ]
  },
  {
   "cell_type": "code",
   "execution_count": null,
   "metadata": {},
   "outputs": [],
   "source": []
  }
 ],
 "metadata": {
  "kernelspec": {
   "display_name": "Python 3",
   "language": "python",
   "name": "python3"
  },
  "language_info": {
   "codemirror_mode": {
    "name": "ipython",
    "version": 3
   },
   "file_extension": ".py",
   "mimetype": "text/x-python",
   "name": "python",
   "nbconvert_exporter": "python",
   "pygments_lexer": "ipython3",
   "version": "3.8.3"
  }
 },
 "nbformat": 4,
 "nbformat_minor": 4
}

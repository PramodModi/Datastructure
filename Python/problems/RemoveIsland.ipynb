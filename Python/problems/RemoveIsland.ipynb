{
 "cells": [
  {
   "cell_type": "markdown",
   "metadata": {},
   "source": [
    "## Problem\n",
    "You're given a two-dimensional array (a matrix) of potentially unequal height and width containing \n",
    "only 0s and 1s. The matrix represents a two-toned image, where each 1s  represents black and each 0s  \n",
    "represents white. An island is defined as any number of 1s that are horizontally or vertically adjacent \n",
    "(but not diagonally adjacent) and that don't touch the border of the image. In other words, a group of \n",
    "horizontally or vertically adjacent 1s isn't an island if any of those 1s are in the first row, last row, \n",
    "first column, or last column of the input matrix.\n",
    "Note that an island can twist. In other words, it doesn't have to be a straight vertical line or a \n",
    "straight horizontal line; it can be L-shaped, for example.\n",
    "You can think of islands as patches of black that don't touch the border of the two-toned image.\n",
    "\n",
    "Write a function that returns a modified version of the input matrix, where all of the islands are removed. \n",
    "You remove an island by replacing it with 0s. Naturally, you're allowed to mutate the input matrix.\n",
    "\n",
    "Sample Input:=\n",
    "\n",
    "[\n",
    "  [1, 0, 0, 0, 0, 0],\n",
    "  [0, 1, 0, 1, 1, 1],\n",
    "  [0, 0, 1, 0, 1, 0],\n",
    "  [1, 1, 0, 0, 1, 0],\n",
    "  [1, 0, 1, 1, 0, 0],\n",
    "  [1, 0, 0, 0, 0, 1],\n",
    "]\n",
    "\n",
    "Sample Output:\n",
    "\n",
    "[\n",
    "  [1, 0, 0, 0, 0, 0],\n",
    "  [0, 0, 0, 1, 1, 1],\n",
    "  [0, 0, 0, 0, 1, 0],\n",
    "  [1, 1, 0, 0, 1, 0],\n",
    "  [1, 0, 0, 0, 0, 0],\n",
    "  [1, 0, 0, 0, 0, 1],\n",
    "] \n",
    "\n"
   ]
  },
  {
   "cell_type": "markdown",
   "metadata": {},
   "source": [
    "## Approach:\n",
    "All 1s together represents island, if 1s does not touches border. Remove island means replace all such 1s with zeros(0).\n",
    "\n",
    "Change all cell value to 0, except border touching cells having value 1 and its neighbours having value 1.\n",
    "Change the value of border elements and its neighbours (having value 1) to 2.\n",
    "Change all cells value to 1 whose value is 2, otherwise 0."
   ]
  },
  {
   "cell_type": "code",
   "execution_count": 14,
   "metadata": {},
   "outputs": [],
   "source": [
    "def removeIsland(matrix):\n",
    "    for r in range(len(matrix)):\n",
    "        for c in range(len(matrix[r])):\n",
    "            borderRow = r==0 or r == len(matrix)-1\n",
    "            borderCol = c==0 or c == len(matrix[0])-1\n",
    "            \n",
    "            if not (borderRow or borderCol):\n",
    "                continue\n",
    "            if matrix[r][c] != 1:\n",
    "                continue\n",
    "            changeOneToTwo(matrix, r,c)\n",
    "    for r in range(len(matrix)):\n",
    "        for c in range(len(matrix[r])):\n",
    "            if matrix[r][c] == 2:\n",
    "                matrix[r][c] = 1\n",
    "            else:\n",
    "                matrix[r][c] = 0\n",
    "    return matrix\n",
    "\n",
    "def changeOneToTwo(matrix, r, c):\n",
    "    stack = [(r,c)]\n",
    "    while len(stack):\n",
    "        row, col = stack.pop()\n",
    "        matrix[row][col] = 2\n",
    "        \n",
    "        neighbours = getNeighbours(matrix, row, col)\n",
    "        \n",
    "        for nebrs in neighbours:\n",
    "            nr, nc = nebrs\n",
    "            if matrix[nr][nc] != 1:\n",
    "                continue\n",
    "            else:\n",
    "                stack.append((nr,nc))\n",
    "def getNeighbours(matrix, row, col):\n",
    "    nList = []\n",
    "    if row>0:\n",
    "        nList.append((row-1, col))\n",
    "    if row < len(matrix)-1:\n",
    "        nList.append((row + 1, col))\n",
    "    if col > 0 :\n",
    "        nList.append((row, col-1))\n",
    "    if col < len(matrix[row]) -1:\n",
    "        nList.append((row, col+1))\n",
    "    return nList"
   ]
  },
  {
   "cell_type": "code",
   "execution_count": 15,
   "metadata": {},
   "outputs": [
    {
     "data": {
      "text/plain": [
       "[[1, 0, 0, 0, 0, 0],\n",
       " [0, 0, 0, 1, 1, 1],\n",
       " [0, 0, 0, 0, 1, 0],\n",
       " [1, 1, 0, 0, 1, 0],\n",
       " [1, 0, 0, 0, 0, 0],\n",
       " [1, 0, 0, 0, 0, 1]]"
      ]
     },
     "execution_count": 15,
     "metadata": {},
     "output_type": "execute_result"
    }
   ],
   "source": [
    "matrix = [ [1, 0, 0, 0, 0, 0], \n",
    "          [0, 1, 0, 1, 1, 1], \n",
    "          [0, 0, 1, 0, 1, 0], \n",
    "          [1, 1, 0, 0, 1, 0], \n",
    "          [1, 0, 1, 1, 0, 0], \n",
    "          [1, 0, 0, 0, 0, 1]]\n",
    "\n",
    "removeIsland(matrix)"
   ]
  },
  {
   "cell_type": "code",
   "execution_count": null,
   "metadata": {},
   "outputs": [],
   "source": []
  }
 ],
 "metadata": {
  "kernelspec": {
   "display_name": "Python 3",
   "language": "python",
   "name": "python3"
  },
  "language_info": {
   "codemirror_mode": {
    "name": "ipython",
    "version": 3
   },
   "file_extension": ".py",
   "mimetype": "text/x-python",
   "name": "python",
   "nbconvert_exporter": "python",
   "pygments_lexer": "ipython3",
   "version": "3.8.3"
  }
 },
 "nbformat": 4,
 "nbformat_minor": 4
}

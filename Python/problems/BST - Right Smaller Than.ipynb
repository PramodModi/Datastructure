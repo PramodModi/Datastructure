{
 "cells": [
  {
   "cell_type": "markdown",
   "metadata": {},
   "source": [
    "## Problem: Right Smaller Than : 315. Count of Smaller Numbers After Self\n",
    "\n",
    "https://leetcode.com/problems/count-of-smaller-numbers-after-self/description/\n",
    "(TLE is comming at leetcode. So, code needs more optimization)\n",
    "\n",
    "Write a function that takes in an array of integers and returns an array of the same length, where each\n",
    "element in the output array corresponds to the number of integers in the input array that are to the\n",
    "right of the relevant index and that are strictly smaller than the integer at that index.\n",
    "In other words, the value at output[i] represents the number of integers that are to the right of i\n",
    "and that are strictly smaller than input[i] .\n",
    "\n",
    "Example:\n",
    "\n",
    "array = [8, 5, 11, -1, 3, 4, 2]\n",
    "\n",
    "Output: [5, 4, 4, 0, 1, 1, 0]\n",
    "\n",
    "// There are 5 integers smaller than 8 to the right of it.\n",
    "\n",
    "// There are 4 integers smaller than 5 to the right of it.\n",
    "\n",
    "// There are 4 integers smaller than 11 to the right of it.\n",
    "\n",
    "// Etc.."
   ]
  },
  {
   "cell_type": "code",
   "execution_count": 19,
   "metadata": {},
   "outputs": [],
   "source": [
    "class BST:\n",
    "    def __init__(self, value, idx, numSmallerAtInsertTime):\n",
    "        self.value = value\n",
    "        self.left = None\n",
    "        self.right = None\n",
    "        self.idx = idx\n",
    "        self.numSmallerAtInsertTime = numSmallerAtInsertTime\n",
    "        self.leftCount = 0\n",
    "        \n",
    "    def insert(self, value, index, numSmallerAtInsertTime = 0):\n",
    "        if value < self.value:\n",
    "            self.leftCount += 1\n",
    "            if self.left is None:\n",
    "                self.left = BST(value, index, numSmallerAtInsertTime)\n",
    "            else:\n",
    "                self.left.insert(value, index, numSmallerAtInsertTime)\n",
    "        else:\n",
    "            numSmallerAtInsertTime += self.leftCount\n",
    "            if value > self.value:\n",
    "                numSmallerAtInsertTime += 1\n",
    "            if self.right is None:\n",
    "                self.right = BST(value, index, numSmallerAtInsertTime)\n",
    "            else:\n",
    "                self.right.insert(value, index, numSmallerAtInsertTime)\n",
    "                \n",
    "def rightSmallerThan(array):\n",
    "    if len(array) == 0:\n",
    "        return []\n",
    "    \n",
    "    lastIndex = len(array) - 1\n",
    "    bst = BST(array[lastIndex], lastIndex, 0)\n",
    "    \n",
    "    for i in reversed(range(len(array)-1)):\n",
    "        bst.insert(array[i], i)\n",
    "        \n",
    "    rightSmallerCount = [0] * len(array)\n",
    "    \n",
    "    getRightSmallerCount(bst, rightSmallerCount)\n",
    "    \n",
    "    return rightSmallerCount\n",
    "\n",
    "def getRightSmallerCount(bst, rightSmallerCount):\n",
    "    if not bst:\n",
    "        return\n",
    "    \n",
    "    rightSmallerCount[bst.idx] = bst.numSmallerAtInsertTime\n",
    "    getRightSmallerCount(bst.left, rightSmallerCount)\n",
    "    getRightSmallerCount(bst.right, rightSmallerCount)\n",
    "    \n",
    "\n"
   ]
  },
  {
   "cell_type": "code",
   "execution_count": 20,
   "metadata": {},
   "outputs": [
    {
     "data": {
      "text/plain": [
       "[5, 4, 4, 0, 1, 1, 0]"
      ]
     },
     "execution_count": 20,
     "metadata": {},
     "output_type": "execute_result"
    }
   ],
   "source": [
    "array = [8, 5, 11, -1, 3, 4, 2]\n",
    "rightSmallerThan(array)"
   ]
  },
  {
   "cell_type": "code",
   "execution_count": 26,
   "metadata": {},
   "outputs": [],
   "source": [
    "## Optimized\n",
    "class BST:\n",
    "    def __init__(self, value):\n",
    "        self.value = value\n",
    "        self.left = None\n",
    "        self.right = None\n",
    "        self.leftCount = 0\n",
    "        \n",
    "    def insert(self, value, index, rightSmallerCount, numSmallerAtInsertTime = 0):\n",
    "        if value < self.value:\n",
    "            self.leftCount += 1\n",
    "            if self.left is None:\n",
    "                self.left = BST(value)\n",
    "                rightSmallerCount[index] = numSmallerAtInsertTime\n",
    "            else:\n",
    "                self.left.insert(value, index, rightSmallerCount,numSmallerAtInsertTime)\n",
    "        else:\n",
    "            numSmallerAtInsertTime += self.leftCount\n",
    "            if value > self.value:\n",
    "                numSmallerAtInsertTime += 1\n",
    "            if self.right is None:\n",
    "                self.right = BST(value)\n",
    "                rightSmallerCount[index] = numSmallerAtInsertTime\n",
    "            else:\n",
    "                self.right.insert(value, index, rightSmallerCount, numSmallerAtInsertTime)\n",
    "                \n",
    "def rightSmallerThan1(array):\n",
    "    if len(array) == 0:\n",
    "        return []\n",
    "    \n",
    "    lastIndex = len(array) - 1\n",
    "    bst = BST(array[lastIndex])\n",
    "    rightSmallerCount = [0] * len(array)\n",
    "    for i in reversed(range(len(array)-1)):\n",
    "        bst.insert(array[i], i,rightSmallerCount)\n",
    "    \n",
    "    return rightSmallerCount\n",
    "\n",
    "    \n",
    "\n"
   ]
  },
  {
   "cell_type": "code",
   "execution_count": 27,
   "metadata": {},
   "outputs": [
    {
     "data": {
      "text/plain": [
       "[5, 4, 4, 0, 1, 1, 0]"
      ]
     },
     "execution_count": 27,
     "metadata": {},
     "output_type": "execute_result"
    }
   ],
   "source": [
    "array = [8, 5, 11, -1, 3, 4, 2]\n",
    "rightSmallerThan1(array)"
   ]
  },
  {
   "cell_type": "code",
   "execution_count": null,
   "metadata": {},
   "outputs": [],
   "source": []
  }
 ],
 "metadata": {
  "kernelspec": {
   "display_name": "Python 3",
   "language": "python",
   "name": "python3"
  },
  "language_info": {
   "codemirror_mode": {
    "name": "ipython",
    "version": 3
   },
   "file_extension": ".py",
   "mimetype": "text/x-python",
   "name": "python",
   "nbconvert_exporter": "python",
   "pygments_lexer": "ipython3",
   "version": "3.8.3"
  }
 },
 "nbformat": 4,
 "nbformat_minor": 4
}

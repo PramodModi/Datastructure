{
 "cells": [
  {
   "cell_type": "markdown",
   "metadata": {},
   "source": [
    "## Problem:\n",
    "\n",
    "You're given a non-empty array of positive integers representing the amounts of time that specific\n",
    "queries take to execute. Only one query can be executed at a time, but the queries can be executed in\n",
    "any order.\n",
    "A query's waiting time is defined as the amount of time that it must wait before its execution starts. In\n",
    "other words, if a query is executed second, then its waiting time is the duration of the first query; if a\n",
    "query is executed third, then its waiting time is the sum of the durations of the first two queries.\n",
    "Write a function that returns the minimum amount of total waiting time for all of the queries. For\n",
    "example, if you're given the queries of durations [1, 4, 5] , then the total waiting time if the\n",
    "queries were executed in the order of [5, 1, 4] would be (0) + (5) + (5 + 1) = 11 . The\n",
    "first query of duration 5 would be executed immediately, so its waiting time would be 0 , the second\n",
    "query of duration 1 would have to wait 5 seconds (the duration of the first query) to be executed,\n",
    "and the last query would have to wait the duration of the first two queries before being executed.\n",
    "Note: you're allowed to mutate the input array.\n",
    "\n",
    "Example:\n",
    "\n",
    "queries = [3, 2, 1, 2, 6]\n",
    "\n",
    "Output:\n",
    "17"
   ]
  },
  {
   "cell_type": "code",
   "execution_count": 1,
   "metadata": {},
   "outputs": [],
   "source": [
    "def minimumWaitingTime(queries):\n",
    "    queries.sort()\n",
    "    n = len(queries)\n",
    "    total = 0\n",
    "    for i in range(n):\n",
    "        total += queries[i] * (n-(i+1))\n",
    "    return total\n",
    "        "
   ]
  },
  {
   "cell_type": "code",
   "execution_count": 2,
   "metadata": {},
   "outputs": [
    {
     "data": {
      "text/plain": [
       "17"
      ]
     },
     "execution_count": 2,
     "metadata": {},
     "output_type": "execute_result"
    }
   ],
   "source": [
    "queries = [3, 2, 1, 2, 6]\n",
    "minimumWaitingTime(queries)"
   ]
  },
  {
   "cell_type": "code",
   "execution_count": 3,
   "metadata": {},
   "outputs": [
    {
     "data": {
      "text/plain": [
       "6"
      ]
     },
     "execution_count": 3,
     "metadata": {},
     "output_type": "execute_result"
    }
   ],
   "source": [
    "queries =  [2, 1, 1, 1]\n",
    "minimumWaitingTime(queries)"
   ]
  },
  {
   "cell_type": "code",
   "execution_count": null,
   "metadata": {},
   "outputs": [],
   "source": []
  }
 ],
 "metadata": {
  "kernelspec": {
   "display_name": "Python 3",
   "language": "python",
   "name": "python3"
  },
  "language_info": {
   "codemirror_mode": {
    "name": "ipython",
    "version": 3
   },
   "file_extension": ".py",
   "mimetype": "text/x-python",
   "name": "python",
   "nbconvert_exporter": "python",
   "pygments_lexer": "ipython3",
   "version": "3.8.3"
  }
 },
 "nbformat": 4,
 "nbformat_minor": 4
}

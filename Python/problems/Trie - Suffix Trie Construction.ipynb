{
 "cells": [
  {
   "cell_type": "markdown",
   "metadata": {},
   "source": [
    "## Problem:\n",
    "\n",
    "Write a SuffixTrie class for a Suffix-Trie-like data structure. The class should have a root\n",
    "property set to be the root node of the trie and should support:\n",
    "Creating the trie from a string; this will be done by calling the populateSuffixTrieFrom\n",
    "method upon class instantiation, which should populate the root of the class.\n",
    "Searching for strings in the trie.\n",
    "Note that every string added to the trie should end with the special endSymbol character: \"*\" .\n",
    "If you're unfamiliar with Suffix Tries, we recommend watching the Conceptual Overview section of this\n",
    "question's video explanation before starting to code.\n",
    "\n",
    "Sample Input (for creation)\n",
    "\n",
    "string = \"babc\"\n",
    "\n",
    "Sample Output (for creation)\n",
    "\n",
    "The structure below is the root of the trie.\n",
    "\n",
    "    {\n",
    "     \"c\": {\"*\": true},\n",
    "     \"b\": {\n",
    "     \"c\": {\"*\": true},\n",
    "     \"a\": {\"b\": {\"c\": {\"*\": true}}},\n",
    "     },\n",
    "     \"a\": {\"b\": {\"c\": {\"*\": true}}},\n",
    "    }\n",
    "\n",
    "Sample Input (for searching in the suffix trie above)\n",
    "\n",
    "string = \"abc\"\n",
    "\n",
    "Sample Output (for searching in the suffix trie above)\n",
    "\n",
    "true"
   ]
  },
  {
   "cell_type": "code",
   "execution_count": 2,
   "metadata": {},
   "outputs": [],
   "source": [
    "class SuffixTrie:\n",
    "    def __init__(self, string):\n",
    "        self.root = {}\n",
    "        self.endSymbol = \"*\"\n",
    "        self.populateSuffixTrieFrom(string)\n",
    "\n",
    "    def populateSuffixTrieFrom(self, string):\n",
    "        # Write your code here.\n",
    "        for i in range(len(string)):\n",
    "            self.insertSubString(i, string)\n",
    "\n",
    "    def insertSubString(self, i, string):\n",
    "        currentNode = self.root\n",
    "        for j in range(i, len(string)):\n",
    "            c = string[j]\n",
    "            if c not in currentNode:\n",
    "                currentNode[c] = {}\n",
    "            currentNode  = currentNode[c]\n",
    "        currentNode[self.endSymbol] = True\n",
    "        \n",
    "    def contains(self, string):\n",
    "        # Write your code here.\n",
    "        currentNode = self.root\n",
    "        for c in string:\n",
    "            if c not in currentNode:\n",
    "                return False\n",
    "            currentNode = currentNode[c]\n",
    "        return self.endSymbol in currentNode"
   ]
  },
  {
   "cell_type": "code",
   "execution_count": null,
   "metadata": {},
   "outputs": [],
   "source": []
  }
 ],
 "metadata": {
  "kernelspec": {
   "display_name": "Python 3",
   "language": "python",
   "name": "python3"
  },
  "language_info": {
   "codemirror_mode": {
    "name": "ipython",
    "version": 3
   },
   "file_extension": ".py",
   "mimetype": "text/x-python",
   "name": "python",
   "nbconvert_exporter": "python",
   "pygments_lexer": "ipython3",
   "version": "3.8.3"
  }
 },
 "nbformat": 4,
 "nbformat_minor": 4
}

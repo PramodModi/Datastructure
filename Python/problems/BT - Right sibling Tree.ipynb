{
 "cells": [
  {
   "cell_type": "markdown",
   "metadata": {},
   "source": [
    "## Problem : Right sibling Tree\n",
    "\n",
    "Write a function that takes in a Binary Tree, transforms it into a Right Sibling Tree, and returns its root.\n",
    "A Right Sibling Tree is obtained by making every node in a Binary Tree have its right property point\n",
    "to its right sibling instead of its right child. A node's right sibling is the node immediately to its right on\n",
    "the same level or None / null if there is no node immediately to its right.\n",
    "Note that once the transformation is complete, some nodes might no longer have a node pointing to\n",
    "them. For example, in the sample output below, the node with value 10 no longer has any inbound\n",
    "pointers and is effectively unreachable.\n",
    "The transformation should be done in place, meaning that the original data structure should be\n",
    "mutated (no new structure should be created).\n",
    "Each BinaryTree node has an integer value , a left child node, and a right child node.\n",
    "Children nodes can either be BinaryTree nodes themselves or None / null .\n",
    "\n",
    "Example:\n",
    "\n",
    "tree = \n",
    "\n",
    "               1\n",
    "            /     \\\n",
    "           2        3\n",
    "          / \\      / \\\n",
    "         4   5     6   7\n",
    "        / \\   \\   /   / \\\n",
    "       8   9  10 11 12 13\n",
    "                 /\n",
    "                14\n",
    " \n",
    " Output:\n",
    " \n",
    "     1 // the root node with value 1\n",
    "     /\n",
    "     2-----------3\n",
    "     /           /\n",
    "     4-----5-----6-----7\n",
    "     /           /    /\n",
    "    8---9    10-11   12-13 // the node with value 10 no longer has a node pointin\n",
    "                 /\n",
    "                 14"
   ]
  },
  {
   "cell_type": "code",
   "execution_count": 1,
   "metadata": {},
   "outputs": [],
   "source": [
    "from collections import deque\n",
    "class BinaryTree:\n",
    "    def __init__(self, value, left=None, right=None):\n",
    "        self.value = value\n",
    "        self.left = left\n",
    "        self.right = right\n",
    "\n",
    "\n",
    "def rightSiblingTree(root):\n",
    "    # Write your code here.\n",
    "    if not root:\n",
    "        return root\n",
    "    q = deque([root])\n",
    "    while q:\n",
    "        node = None\n",
    "        for _ in range(len(q)):\n",
    "            node = q.popleft()\n",
    "            if node:\n",
    "                q.append(node.left)\n",
    "                q.append(node.right)\n",
    "                if q: node.right = q[0]\n",
    "        if node:\n",
    "            node.right = None\n",
    "    return root"
   ]
  },
  {
   "cell_type": "code",
   "execution_count": null,
   "metadata": {},
   "outputs": [],
   "source": []
  }
 ],
 "metadata": {
  "kernelspec": {
   "display_name": "Python 3",
   "language": "python",
   "name": "python3"
  },
  "language_info": {
   "codemirror_mode": {
    "name": "ipython",
    "version": 3
   },
   "file_extension": ".py",
   "mimetype": "text/x-python",
   "name": "python",
   "nbconvert_exporter": "python",
   "pygments_lexer": "ipython3",
   "version": "3.8.3"
  }
 },
 "nbformat": 4,
 "nbformat_minor": 4
}

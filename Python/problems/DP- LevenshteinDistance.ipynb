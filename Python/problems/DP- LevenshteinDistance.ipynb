{
 "cells": [
  {
   "cell_type": "markdown",
   "metadata": {},
   "source": [
    "## Problem\n",
    "\n",
    "Take two strings and return number of edit operation needed on the first string to obtain second string.\n",
    "Edit operations : insertion, deletion and substitution of characters.\n",
    "\n",
    "Example:\n",
    "\n",
    "str1 = \"abc\"\n",
    "str2 = \"yabd\"\n",
    "\n",
    "output: 2 //insert Y; substitute \"c\" for \"d\"\n"
   ]
  },
  {
   "cell_type": "code",
   "execution_count": 9,
   "metadata": {},
   "outputs": [],
   "source": [
    "def levenshteinDistance(str1, str2):\n",
    "    edit = [[i for i in range(len(str2) + 1)] for j in range(len(str1) + 1)]\n",
    "    for j in range(1,len(str1) + 1):\n",
    "        edit[j][0] = j\n",
    "    \n",
    "    for i in range(1, len(str2)+1):\n",
    "        for j in range(1, len(str1) + 1):\n",
    "            if str2[i-1] == str1[j-1]:\n",
    "                edit[j][i] = edit[j-1][i-1]\n",
    "            else:\n",
    "                edit[j][i] = 1+ min(edit[j][i-1], edit[j-1][i], edit[j-1][i-1])\n",
    "    return edit[-1][-1]\n",
    "    #print(edit)"
   ]
  },
  {
   "cell_type": "code",
   "execution_count": 10,
   "metadata": {},
   "outputs": [
    {
     "data": {
      "text/plain": [
       "2"
      ]
     },
     "execution_count": 10,
     "metadata": {},
     "output_type": "execute_result"
    }
   ],
   "source": [
    "str1 = \"abc\"\n",
    "str2 = \"yabd\"\n",
    "levenshteinDistance(str1, str2)"
   ]
  },
  {
   "cell_type": "code",
   "execution_count": 22,
   "metadata": {},
   "outputs": [],
   "source": [
    "def levenshteinDistance1(str1, str2):\n",
    "    small = str2 if len(str2) < len(str1) else str1\n",
    "    big = str2 if len(str2) >= len(str1) else str1\n",
    "    \n",
    "    edit0 = [i for i in range(len(small) + 1)]\n",
    "    edit1 = [i for i in range(len(small) + 1)]\n",
    "    \n",
    "    for i in range(1, len(big)+1):\n",
    "        if i%2 == 1:\n",
    "            currentEdit = edit1\n",
    "            prevEdit  = edit0\n",
    "        else:\n",
    "            currentEdit = edit0\n",
    "            prevEdit = edit1\n",
    "        currentEdit[0] = i\n",
    "        \n",
    "        for j in range(1, len(small) + 1):\n",
    "            if big[i-1] == small[j-1]:\n",
    "                currentEdit[j] = prevEdit[j-1]\n",
    "            else:\n",
    "                currentEdit[j] = 1+ min(currentEdit[j-1], prevEdit[j], prevEdit[j-1])\n",
    "                \n",
    "    return edit0[-1] if len(big) %2 == 0 else edit1[-1]"
   ]
  },
  {
   "cell_type": "code",
   "execution_count": 23,
   "metadata": {},
   "outputs": [
    {
     "data": {
      "text/plain": [
       "2"
      ]
     },
     "execution_count": 23,
     "metadata": {},
     "output_type": "execute_result"
    }
   ],
   "source": [
    "str1 = \"abc\"\n",
    "str2 = \"yabd\"\n",
    "levenshteinDistance1(str1, str2)"
   ]
  },
  {
   "cell_type": "code",
   "execution_count": 24,
   "metadata": {},
   "outputs": [
    {
     "data": {
      "text/plain": [
       "10"
      ]
     },
     "execution_count": 24,
     "metadata": {},
     "output_type": "execute_result"
    }
   ],
   "source": [
    "str1 = \"abcdefghij\"\n",
    "str2 = \"1234567890\"\n",
    "levenshteinDistance1(str1, str2)"
   ]
  },
  {
   "cell_type": "code",
   "execution_count": null,
   "metadata": {},
   "outputs": [],
   "source": []
  }
 ],
 "metadata": {
  "kernelspec": {
   "display_name": "Python 3",
   "language": "python",
   "name": "python3"
  },
  "language_info": {
   "codemirror_mode": {
    "name": "ipython",
    "version": 3
   },
   "file_extension": ".py",
   "mimetype": "text/x-python",
   "name": "python",
   "nbconvert_exporter": "python",
   "pygments_lexer": "ipython3",
   "version": "3.8.3"
  }
 },
 "nbformat": 4,
 "nbformat_minor": 4
}

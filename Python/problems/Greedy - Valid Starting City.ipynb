{
 "cells": [
  {
   "cell_type": "markdown",
   "metadata": {},
   "source": [
    "## Problem\n",
    "Imagine you have a set of cities that are laid out in a circle, connected by a circular road that runs clockwise. Each city has a gas station that provides gallons of fuel, and each city is some distance away from the next city. You have a car that can drive some number of miles per gallon of fuel, and your goal is to pick a starting city such that you can fill up your car with that city's fuel, drive to the next city, refill up your car with that city's fuel, drive to the next city, and so on and so forth until you return back tothe starting city with 0 or more gallons of fuel left.\n",
    "This city is called a valid starting city, and it's guaranteed that there will always be exactly one valid starting city.\n",
    "For the actual problem, you'll be given an array of distances such that city i is distances[i]  away from city i+1 . Since the cities are connected via a circular road, the last city is connected to the first city. In other words, the last distance in the distances array is equal to the distance from the last city to the first city. You'll also be given an array of fuel available at each city, where fuel[i]  is equal to the fuel available at city i. The total amount of fuel available (from all cities combined) is exactly enough to travel to all cities. Your fuel tank always starts out empty, and you're given a positive integer value for the number of miles that your car can travel per gallon of fuel (miles per gallon, or MPG). You can assume that you will always be given at least two cities.\n",
    "Write a function that returns the index of the valid starting city.\n",
    "\n",
    "Example:\n",
    "Input: distances = [5, 25, 15, 10, 15], fuel = [1, 2, 1, 0, 3], mpg = 10\n",
    "\n",
    "Output = 4\n",
    "\n",
    "  "
   ]
  },
  {
   "cell_type": "code",
   "execution_count": 1,
   "metadata": {},
   "outputs": [],
   "source": [
    "def validStartingCity(distances, fuel, mpg):\n",
    "    startingCityIndex = 0\n",
    "    distanceRemainingAtStartIndex = 0\n",
    "    remainingDistance = 0\n",
    "    for cityIndex in range(1, len(distances)):\n",
    "        fuelAtCity = fuel[cityIndex-1]\n",
    "        print (fuelAtCity)\n",
    "        distanceCovered = distances[cityIndex-1]\n",
    "        remainingDistance += fuelAtCity*mpg - distanceCovered\n",
    "        \n",
    "        if remainingDistance < distanceRemainingAtStartIndex:\n",
    "            distanceRemainingAtStartIndex = remainingDistance\n",
    "            startingCityIndex = cityIndex\n",
    "    return startingCityIndex"
   ]
  },
  {
   "cell_type": "code",
   "execution_count": 2,
   "metadata": {},
   "outputs": [
    {
     "name": "stdout",
     "output_type": "stream",
     "text": [
      "1\n",
      "2\n",
      "1\n",
      "0\n"
     ]
    },
    {
     "data": {
      "text/plain": [
       "4"
      ]
     },
     "execution_count": 2,
     "metadata": {},
     "output_type": "execute_result"
    }
   ],
   "source": [
    "distances = [5, 25, 15, 10, 15]\n",
    "fuel = [1, 2, 1, 0, 3]\n",
    "mpg = 10\n",
    "validStartingCity(distances, fuel, mpg)"
   ]
  },
  {
   "cell_type": "code",
   "execution_count": null,
   "metadata": {},
   "outputs": [],
   "source": []
  }
 ],
 "metadata": {
  "kernelspec": {
   "display_name": "Python 3",
   "language": "python",
   "name": "python3"
  },
  "language_info": {
   "codemirror_mode": {
    "name": "ipython",
    "version": 3
   },
   "file_extension": ".py",
   "mimetype": "text/x-python",
   "name": "python",
   "nbconvert_exporter": "python",
   "pygments_lexer": "ipython3",
   "version": "3.8.3"
  }
 },
 "nbformat": 4,
 "nbformat_minor": 4
}

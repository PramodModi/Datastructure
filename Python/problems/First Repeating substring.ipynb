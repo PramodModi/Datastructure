{
 "cells": [
  {
   "cell_type": "markdown",
   "metadata": {},
   "source": [
    "## Problem: \n",
    "Given a string s, return the first repeating substring.\n",
    "\n",
    "Example 1:\n",
    "\n",
    "s = \"ABCBDAB\"\n",
    "\n",
    "Output: B\n",
    "\n",
    "Example 2:\n",
    "\n",
    "s = \"ABCBCA\"\n",
    "\n",
    "Output: BC"
   ]
  },
  {
   "cell_type": "code",
   "execution_count": 13,
   "metadata": {},
   "outputs": [],
   "source": [
    "def getFirstRepeatingSubString(s):\n",
    "    temp = {}\n",
    "    for i in range(len(s)):\n",
    "        if s[i] not in temp:\n",
    "            temp[s[i]] = i\n",
    "        else:\n",
    "            l = temp[s[i]]\n",
    "            r = i\n",
    "            break\n",
    "    startIndex = l\n",
    "    while l < len(s)-1 and r <len(s)-1:\n",
    "        if s[l+1] != s[r+1]:\n",
    "            break\n",
    "        l +=1\n",
    "        r += 1\n",
    "    return s[startIndex:l+1]\n",
    "                \n",
    "                \n",
    "    "
   ]
  },
  {
   "cell_type": "code",
   "execution_count": 14,
   "metadata": {},
   "outputs": [
    {
     "data": {
      "text/plain": [
       "'BC'"
      ]
     },
     "execution_count": 14,
     "metadata": {},
     "output_type": "execute_result"
    }
   ],
   "source": [
    "getFirstRepeatingSubString(\"ABCBCA\")"
   ]
  },
  {
   "cell_type": "code",
   "execution_count": 15,
   "metadata": {},
   "outputs": [
    {
     "data": {
      "text/plain": [
       "'B'"
      ]
     },
     "execution_count": 15,
     "metadata": {},
     "output_type": "execute_result"
    }
   ],
   "source": [
    "getFirstRepeatingSubString(\"ABCBDAB\")"
   ]
  },
  {
   "cell_type": "code",
   "execution_count": 16,
   "metadata": {},
   "outputs": [
    {
     "data": {
      "text/plain": [
       "'ABC'"
      ]
     },
     "execution_count": 16,
     "metadata": {},
     "output_type": "execute_result"
    }
   ],
   "source": [
    "getFirstRepeatingSubString(\"ABCABC\")"
   ]
  },
  {
   "cell_type": "code",
   "execution_count": null,
   "metadata": {},
   "outputs": [],
   "source": []
  }
 ],
 "metadata": {
  "kernelspec": {
   "display_name": "Python 3",
   "language": "python",
   "name": "python3"
  },
  "language_info": {
   "codemirror_mode": {
    "name": "ipython",
    "version": 3
   },
   "file_extension": ".py",
   "mimetype": "text/x-python",
   "name": "python",
   "nbconvert_exporter": "python",
   "pygments_lexer": "ipython3",
   "version": "3.8.3"
  }
 },
 "nbformat": 4,
 "nbformat_minor": 4
}

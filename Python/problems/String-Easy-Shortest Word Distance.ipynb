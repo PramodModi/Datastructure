{
 "cells": [
  {
   "cell_type": "markdown",
   "id": "4a201b57",
   "metadata": {},
   "source": [
    "## Problem: Shortest Word Distance\n",
    "https://www.geeksforgeeks.org/minimum-distance-between-words-of-a-string/\n",
    "\n",
    "Given a string s and two words w1 and w2 that are present in S. The task is to find the minimum distance between w1 and w2. Here, distance is the number of steps or words between the first and the second word. \n",
    "\n",
    "Example1: \n",
    "\n",
    "    Input : s = “geeks for geeks contribute practice”, w1 = “geeks”, w2 = “practice” \n",
    "    Output : 1 \n",
    "    There is only one word between the closest occurrences of w1 and w2.\n",
    "\n",
    "Example2:\n",
    "\n",
    "    Input : s = “the quick the brown quick brown the frog”, w1 = “quick”, w2 = “frog”\n",
    "    Output : 2"
   ]
  },
  {
   "cell_type": "markdown",
   "id": "0183df72",
   "metadata": {},
   "source": [
    "Approach:\n",
    "1. Find first either of words\n",
    "2. Save the position and move to the next position\n",
    "3. If word at next position is different than lsat stored paosition, then we got both words.\n",
    "4. save the min distance.\n",
    "5. Update the last position, this can be word1 or word2 position."
   ]
  },
  {
   "cell_type": "code",
   "execution_count": 27,
   "id": "39ca01d4",
   "metadata": {},
   "outputs": [],
   "source": [
    "def distance(s, w1, w2):\n",
    "    words = s.split(\" \")\n",
    "    minDist = len(words)\n",
    "    lastPos = -1\n",
    "    \n",
    "    for i, c in enumerate(words):\n",
    "        if c == w1 or c == w2:\n",
    "            if lastPos == -1:\n",
    "                lastPos = i\n",
    "            else:\n",
    "                if c != words[lastPos]:\n",
    "                    minDist = min(minDist, i-lastPos-1)\n",
    "                lastPos = i\n",
    "    return minDist\n",
    "            \n",
    "            \n",
    "        "
   ]
  },
  {
   "cell_type": "code",
   "execution_count": 28,
   "id": "a7ddb34c",
   "metadata": {},
   "outputs": [
    {
     "data": {
      "text/plain": [
       "1"
      ]
     },
     "execution_count": 28,
     "metadata": {},
     "output_type": "execute_result"
    }
   ],
   "source": [
    "s = \"geeks for geeks contribute practice\"\n",
    "w1 = \"geeks\"\n",
    "w2 = \"practice\"\n",
    "distance(s, w1, w2)"
   ]
  },
  {
   "cell_type": "code",
   "execution_count": 29,
   "id": "c8bfd349",
   "metadata": {},
   "outputs": [
    {
     "data": {
      "text/plain": [
       "2"
      ]
     },
     "execution_count": 29,
     "metadata": {},
     "output_type": "execute_result"
    }
   ],
   "source": [
    "s = \"the quick the brown quick brown the frog\"\n",
    "w1 = \"quick\"\n",
    "w2 = \"frog\"\n",
    "distance(s, w1, w2)"
   ]
  },
  {
   "cell_type": "code",
   "execution_count": null,
   "id": "622d91c6",
   "metadata": {},
   "outputs": [],
   "source": []
  }
 ],
 "metadata": {
  "kernelspec": {
   "display_name": "Python 3",
   "language": "python",
   "name": "python3"
  },
  "language_info": {
   "codemirror_mode": {
    "name": "ipython",
    "version": 3
   },
   "file_extension": ".py",
   "mimetype": "text/x-python",
   "name": "python",
   "nbconvert_exporter": "python",
   "pygments_lexer": "ipython3",
   "version": "3.8.8"
  }
 },
 "nbformat": 4,
 "nbformat_minor": 5
}

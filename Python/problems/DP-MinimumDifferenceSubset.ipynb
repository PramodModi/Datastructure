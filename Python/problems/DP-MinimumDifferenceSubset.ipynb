{
 "cells": [
  {
   "cell_type": "markdown",
   "metadata": {},
   "source": [
    "## Problem\n",
    "Divide the array into 2 subsets such that difference of their sum is minimum and return the minimum difference.\n",
    "\n",
    "Example:\n",
    "\n",
    "array = [1,6,11,5]\n",
    "output = 1  // {1,6,5} and {11} => abs(12-11) = 1\n",
    "\n",
    "\n",
    "Basically, we will check the multiple subsets possible to have sum = sum of all elements in array (let us say sum). Our goal is to find subsets having minimum difference.\n",
    "\n",
    "Suppose two subsets having sum of elements are s1 and s2. \n",
    "\n",
    "s1+s2 = sum\n",
    "Goal is to minimize diff = s1-s2 = s1-(sum-s1) = 2s1 - sum\n",
    "\n",
    "We will create possible sets and then minimize the diference with formula : 2s1-sum"
   ]
  },
  {
   "cell_type": "code",
   "execution_count": 22,
   "metadata": {},
   "outputs": [],
   "source": [
    "def minimumDifferenceSubset(array):\n",
    "    total = sum(array)\n",
    "    dp = [[False for i in range(total + 1)] for x in range(len(array) + 1)]\n",
    "    dp[0][0] = True\n",
    "    \n",
    "    for i in range(1, len(array)+1):\n",
    "        num = array[i-1]\n",
    "        for j in range(total + 1):\n",
    "            if num > j:\n",
    "                dp[i][j] = dp[i-1][j]\n",
    "            else:\n",
    "                dp[i][j] = dp[i-1][j] or dp[i-1][j - num]\n",
    "                \n",
    "    \n",
    "    #Find the minimum difference\n",
    "    # Last row of dp table will give the number of possible ways. So, we will iterate last row of dp table\n",
    "    # and will only look the cell having value True.\n",
    "    # diff = sum - 2xs1 = sum -2xi for total/2\n",
    "    \n",
    "    mindiff = float(\"inf\")\n",
    "    for i in range(total//2 + 1):\n",
    "        if dp[len(array)][i] == True:\n",
    "            diff = abs(total - 2*i)\n",
    "            if mindiff > diff:\n",
    "                mindiff = diff\n",
    "                print(mindiff)\n",
    "    return mindiff\n",
    "            \n",
    "        \n",
    "    "
   ]
  },
  {
   "cell_type": "code",
   "execution_count": 23,
   "metadata": {},
   "outputs": [
    {
     "name": "stdout",
     "output_type": "stream",
     "text": [
      "23\n",
      "21\n",
      "13\n",
      "11\n",
      "9\n",
      "1\n"
     ]
    },
    {
     "data": {
      "text/plain": [
       "1"
      ]
     },
     "execution_count": 23,
     "metadata": {},
     "output_type": "execute_result"
    }
   ],
   "source": [
    "array = [1,6,11,5]\n",
    "minimumDifferenceSubset(array)"
   ]
  },
  {
   "cell_type": "code",
   "execution_count": null,
   "metadata": {},
   "outputs": [],
   "source": []
  }
 ],
 "metadata": {
  "kernelspec": {
   "display_name": "Python 3",
   "language": "python",
   "name": "python3"
  },
  "language_info": {
   "codemirror_mode": {
    "name": "ipython",
    "version": 3
   },
   "file_extension": ".py",
   "mimetype": "text/x-python",
   "name": "python",
   "nbconvert_exporter": "python",
   "pygments_lexer": "ipython3",
   "version": "3.8.3"
  }
 },
 "nbformat": 4,
 "nbformat_minor": 4
}

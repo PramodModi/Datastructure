{
 "cells": [
  {
   "cell_type": "markdown",
   "metadata": {},
   "source": [
    "## Problem:\n",
    "\n",
    "Write a function that takes in two strings: a main string and a potential substring of the main string. The\n",
    "function should return a version of the main string with every instance of the substring in it wrapped\n",
    "between underscores.\n",
    "If two or more instances of the substring in the main string overlap each other or sit side by side, the\n",
    "underscores relevant to these substrings should only appear on the far left of the leftmost substring\n",
    "and on the far right of the rightmost substring. If the main string doesn't contain the other string at all,\n",
    "the function should return the main string intact.\n",
    "\n",
    "Example:\n",
    "\n",
    "string = \"testthis is a testtest to see if testestest it works\"\n",
    "\n",
    "substring = \"test\"\n",
    "\n",
    "Output:\n",
    "\n",
    "    \"_test_this is a _testtest_ to see if _testestest_ it works\" "
   ]
  },
  {
   "cell_type": "code",
   "execution_count": 5,
   "metadata": {},
   "outputs": [],
   "source": [
    "def underscorifySubstring(string, substring):\n",
    "    # Write your code here.\n",
    "    k = len(substring)\n",
    "    n = len(string)\n",
    "\n",
    "    if k == n:\n",
    "        return string\n",
    "    # Find start and end location of substring in string. Use sliding window\n",
    "    l = 0\n",
    "    r = k\n",
    "    s = string[l:r]\n",
    "    temp = []\n",
    "    if s == substring:\n",
    "        temp.append([l,r])\n",
    "\n",
    "    l += 1\n",
    "    r += 1\n",
    "    while r <= n:\n",
    "        s = string[l:r]\n",
    "        if s == substring:\n",
    "            temp.append([l,r])\n",
    "        l += 1\n",
    "        r += 1\n",
    "\n",
    "\n",
    "    # Collaps the overlapped indices.\n",
    "    positions = []\n",
    "\n",
    "    for i in temp:\n",
    "        if len(positions) > 0 and i[0]<=positions[-1]:\n",
    "            positions.pop()\n",
    "            positions.append(i[1])\n",
    "        else:\n",
    "            positions.append(i[0])\n",
    "            positions.append(i[1])\n",
    "\n",
    "    # Put the underscore at positions. Create a new string\n",
    "    result = \"\"\n",
    "    for i, s in enumerate(string):\n",
    "        if i in positions:\n",
    "            result += \"_\"\n",
    "        result += s\n",
    "    if i+1 in positions:\n",
    "        result += \"_\"\n",
    "    return result"
   ]
  },
  {
   "cell_type": "code",
   "execution_count": 6,
   "metadata": {},
   "outputs": [
    {
     "data": {
      "text/plain": [
       "'_test_this is a _testtest_ to see if _testestest_ it works'"
      ]
     },
     "execution_count": 6,
     "metadata": {},
     "output_type": "execute_result"
    }
   ],
   "source": [
    "string = \"testthis is a testtest to see if testestest it works\"\n",
    "substring = \"test\"\n",
    "underscorifySubstring(string, substring)"
   ]
  },
  {
   "cell_type": "code",
   "execution_count": null,
   "metadata": {},
   "outputs": [],
   "source": []
  }
 ],
 "metadata": {
  "kernelspec": {
   "display_name": "Python 3",
   "language": "python",
   "name": "python3"
  },
  "language_info": {
   "codemirror_mode": {
    "name": "ipython",
    "version": 3
   },
   "file_extension": ".py",
   "mimetype": "text/x-python",
   "name": "python",
   "nbconvert_exporter": "python",
   "pygments_lexer": "ipython3",
   "version": "3.8.3"
  }
 },
 "nbformat": 4,
 "nbformat_minor": 4
}

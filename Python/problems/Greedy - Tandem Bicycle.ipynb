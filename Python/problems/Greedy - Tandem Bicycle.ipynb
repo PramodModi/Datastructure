{
 "cells": [
  {
   "cell_type": "markdown",
   "metadata": {},
   "source": [
    "## Problem:\n",
    "\n",
    "A tandem bicycle is a bicycle that's operated by two people: person A and person B. Both people pedal\n",
    "the bicycle, but the person that pedals faster dictates the speed of the bicycle. So if person A pedals at\n",
    "a speed of 5 , and person B pedals at a speed of 4 , the tandem bicycle moves at a speed of 5 (i.e.,\n",
    "tandemSpeed = max(speedA, speedB) ).\n",
    "You're given two lists of positive integers: one that contains the speeds of riders wearing red shirts and\n",
    "one that contains the speeds of riders wearing blue shirts. Each rider is represented by a single positive\n",
    "integer, which is the speed that they pedal a tandem bicycle at. Both lists have the same length,\n",
    "meaning that there are as many red-shirt riders as there are blue-shirt riders. Your goal is to pair every\n",
    "rider wearing a red shirt with a rider wearing a blue shirt to operate a tandem bicycle.\n",
    "Write a function that returns the maximum possible total speed or the minimum possible total speed\n",
    "of all of the tandem bicycles being ridden based on an input parameter, fastest . If\n",
    "fastest = true , your function should return the maximum possible total speed; otherwise it\n",
    "should return the minimum total speed.\n",
    "\"Total speed\" is defined as the sum of the speeds of all the tandem bicycles being ridden. For example,\n",
    "if there are 4 riders (2 red-shirt riders and 2 blue-shirt riders) who have speeds of 1, 3, 4, 5 , and if\n",
    "they're paired on tandem bicycles as follows: [1, 4], [5, 3] , then the total speed of these\n",
    "tandem bicycles is 4 + 5 = 9 .\n",
    "\n",
    "Example:\n",
    "\n",
    "redShirtSpeeds = [5, 5, 3, 9, 2]\n",
    "\n",
    "blueShirtSpeeds = [3, 6, 7, 2, 1]\n",
    "\n",
    "fastest = true\n",
    "\n",
    "Output:\n",
    "32"
   ]
  },
  {
   "cell_type": "code",
   "execution_count": 4,
   "metadata": {},
   "outputs": [],
   "source": [
    "def tandemBicycle(redShirtSpeeds, blueShirtSpeeds, fastest):\n",
    "    redShirtSpeeds.sort()\n",
    "    if fastest:\n",
    "        blueShirtSpeeds.sort(reverse=True)\n",
    "    else:\n",
    "        blueShirtSpeeds.sort()\n",
    "    speed = 0   \n",
    "    for i in range(len(blueShirtSpeeds)):\n",
    "        speed += redShirtSpeeds[i] if redShirtSpeeds[i] > blueShirtSpeeds[i] else blueShirtSpeeds[i]\n",
    "    return speed\n",
    "        "
   ]
  },
  {
   "cell_type": "code",
   "execution_count": 5,
   "metadata": {},
   "outputs": [
    {
     "data": {
      "text/plain": [
       "32"
      ]
     },
     "execution_count": 5,
     "metadata": {},
     "output_type": "execute_result"
    }
   ],
   "source": [
    "redShirtSpeeds = [5, 5, 3, 9, 2]\n",
    "blueShirtSpeeds = [3, 6, 7, 2, 1]\n",
    "fastest = True\n",
    "tandemBicycle(redShirtSpeeds, blueShirtSpeeds, fastest)"
   ]
  },
  {
   "cell_type": "code",
   "execution_count": 6,
   "metadata": {},
   "outputs": [
    {
     "data": {
      "text/plain": [
       "25"
      ]
     },
     "execution_count": 6,
     "metadata": {},
     "output_type": "execute_result"
    }
   ],
   "source": [
    "redShirtSpeeds = [5, 5, 3, 9, 2]\n",
    "blueShirtSpeeds = [3, 6, 7, 2, 1]\n",
    "fastest = False\n",
    "tandemBicycle(redShirtSpeeds, blueShirtSpeeds, fastest)"
   ]
  },
  {
   "cell_type": "code",
   "execution_count": null,
   "metadata": {},
   "outputs": [],
   "source": []
  }
 ],
 "metadata": {
  "kernelspec": {
   "display_name": "Python 3",
   "language": "python",
   "name": "python3"
  },
  "language_info": {
   "codemirror_mode": {
    "name": "ipython",
    "version": 3
   },
   "file_extension": ".py",
   "mimetype": "text/x-python",
   "name": "python",
   "nbconvert_exporter": "python",
   "pygments_lexer": "ipython3",
   "version": "3.8.3"
  }
 },
 "nbformat": 4,
 "nbformat_minor": 4
}

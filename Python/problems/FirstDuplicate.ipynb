{
 "cells": [
  {
   "cell_type": "markdown",
   "metadata": {},
   "source": [
    "## Problem\n",
    "Find first duplicate value in the given array of integrer. Elemnts of array will start from 1 to n (inclusive) \n",
    "and having length n.\n",
    "Return first duplicate value or -1 if no duplicate.\n",
    "You can mutate the array.\n",
    "\n",
    "Example:\n",
    "array [2,1,3,4,2,3,3,5]\n",
    "output = 2"
   ]
  },
  {
   "cell_type": "code",
   "execution_count": 3,
   "metadata": {},
   "outputs": [],
   "source": [
    "# O(n) | O(n) space\n",
    "def firstDuplicate(array):\n",
    "    temp = {}\n",
    "    for i in range(len(array)):\n",
    "        if array[i] in temp:\n",
    "            return array[i]\n",
    "        temp[array[i]] = True\n",
    "    return -1\n",
    "        \n",
    "    "
   ]
  },
  {
   "cell_type": "code",
   "execution_count": 4,
   "metadata": {},
   "outputs": [
    {
     "name": "stdout",
     "output_type": "stream",
     "text": [
      "2\n"
     ]
    }
   ],
   "source": [
    "array = [2,1,3,4,2,3,3,5] \n",
    "print(firstDuplicate(array))"
   ]
  },
  {
   "cell_type": "code",
   "execution_count": 5,
   "metadata": {},
   "outputs": [
    {
     "name": "stdout",
     "output_type": "stream",
     "text": [
      "-1\n"
     ]
    }
   ],
   "source": [
    "array = [2,1,3,4,5] \n",
    "print(firstDuplicate(array))"
   ]
  },
  {
   "cell_type": "code",
   "execution_count": 12,
   "metadata": {},
   "outputs": [],
   "source": [
    "# O(n) | O(1) space\n",
    "\n",
    "\n",
    "def firstDuplicate(array):\n",
    "    for value in array:\n",
    "        value = abs(value)\n",
    "        if array[value-1] < 0:\n",
    "            return value\n",
    "        array[value-1] *= -1\n",
    "    return -1"
   ]
  },
  {
   "cell_type": "code",
   "execution_count": 13,
   "metadata": {},
   "outputs": [
    {
     "name": "stdout",
     "output_type": "stream",
     "text": [
      "2\n"
     ]
    }
   ],
   "source": [
    "array = [2,1,3,4,2,3,3,5] \n",
    "print(firstDuplicate(array))"
   ]
  },
  {
   "cell_type": "code",
   "execution_count": 14,
   "metadata": {},
   "outputs": [
    {
     "name": "stdout",
     "output_type": "stream",
     "text": [
      "-1\n"
     ]
    }
   ],
   "source": [
    "array = [2,1,3,4,5] \n",
    "print(firstDuplicate(array))"
   ]
  },
  {
   "cell_type": "code",
   "execution_count": 15,
   "metadata": {},
   "outputs": [
    {
     "name": "stdout",
     "output_type": "stream",
     "text": [
      "3\n"
     ]
    }
   ],
   "source": [
    "array = [2, 1, 5, 3, 3, 2, 4]\n",
    "print(firstDuplicate(array))"
   ]
  },
  {
   "cell_type": "code",
   "execution_count": null,
   "metadata": {},
   "outputs": [],
   "source": []
  }
 ],
 "metadata": {
  "kernelspec": {
   "display_name": "Python 3",
   "language": "python",
   "name": "python3"
  },
  "language_info": {
   "codemirror_mode": {
    "name": "ipython",
    "version": 3
   },
   "file_extension": ".py",
   "mimetype": "text/x-python",
   "name": "python",
   "nbconvert_exporter": "python",
   "pygments_lexer": "ipython3",
   "version": "3.8.3"
  }
 },
 "nbformat": 4,
 "nbformat_minor": 4
}

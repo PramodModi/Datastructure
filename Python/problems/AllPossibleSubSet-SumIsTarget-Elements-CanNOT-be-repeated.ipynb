{
 "cells": [
  {
   "cell_type": "markdown",
   "metadata": {},
   "source": [
    "## Problem\n",
    "Given a collection of candidate numbers (candidates) and a target number (target), find all unique combinations in candidates where the candidate numbers sum to target.\n",
    "\n",
    "Each number in candidates may only be used once in the combination.\n",
    "\n",
    "Note: The solution set must not contain duplicate combinations.\n",
    "\n",
    "Example1:\n",
    "\n",
    "Input: candidates = [10,1,2,7,6,1,5], target = 8\n",
    "\n",
    "Output: \n",
    "[\n",
    "[1,1,6],\n",
    "[1,2,5],\n",
    "[1,7],\n",
    "[2,6]\n",
    "]\n",
    "\n",
    "Example2:\n",
    "\n",
    "Input: candidates = [2,5,2,1,2], target = 5\n",
    "\n",
    "Output: \n",
    "[\n",
    "[1,2,2],\n",
    "[5]\n",
    "]\n"
   ]
  },
  {
   "cell_type": "code",
   "execution_count": 27,
   "metadata": {},
   "outputs": [],
   "source": [
    "def combinationSum2(array, target):\n",
    "    result = []\n",
    "    array.sort() # sorting is needed, as we are comparing with previous number in dfs method.\n",
    "    \n",
    "    dfs(result, [], array, target)\n",
    "    return result\n",
    "\n",
    "def dfs(result, temp, array, target):\n",
    "    \n",
    "    if target < 0:\n",
    "        return\n",
    "    if target == 0:\n",
    "        result.append(temp)\n",
    "        \n",
    "    for i,c in enumerate(array):\n",
    "        if i > 0 and array[i-1] == c: # To avoid duplicate subsets\n",
    "            continue\n",
    "        dfs(result, temp + [c], array[i+1:],target - c )"
   ]
  },
  {
   "cell_type": "code",
   "execution_count": 28,
   "metadata": {},
   "outputs": [
    {
     "data": {
      "text/plain": [
       "[[1, 2, 3], [2, 4]]"
      ]
     },
     "execution_count": 28,
     "metadata": {},
     "output_type": "execute_result"
    }
   ],
   "source": [
    "array = [3,1,2,4]\n",
    "target = 6\n",
    "combinationSum2(array, target)"
   ]
  },
  {
   "cell_type": "code",
   "execution_count": 29,
   "metadata": {},
   "outputs": [
    {
     "data": {
      "text/plain": [
       "[[1, 1, 6], [1, 2, 5], [1, 7], [2, 6]]"
      ]
     },
     "execution_count": 29,
     "metadata": {},
     "output_type": "execute_result"
    }
   ],
   "source": [
    "array = [10,1,2,7,6,1,5]\n",
    "target = 8\n",
    "combinationSum2(array, target)"
   ]
  },
  {
   "cell_type": "code",
   "execution_count": null,
   "metadata": {},
   "outputs": [],
   "source": []
  }
 ],
 "metadata": {
  "kernelspec": {
   "display_name": "Python 3",
   "language": "python",
   "name": "python3"
  },
  "language_info": {
   "codemirror_mode": {
    "name": "ipython",
    "version": 3
   },
   "file_extension": ".py",
   "mimetype": "text/x-python",
   "name": "python",
   "nbconvert_exporter": "python",
   "pygments_lexer": "ipython3",
   "version": "3.8.3"
  }
 },
 "nbformat": 4,
 "nbformat_minor": 4
}

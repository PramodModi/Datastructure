{
 "cells": [
  {
   "cell_type": "markdown",
   "metadata": {},
   "source": [
    "## Problem:\n",
    "\n",
    "Write a function that takes in a sorted array of integers as well as a target integer. The function should\n",
    "use the Binary Search algorithm to determine if the target integer is contained in the array and should\n",
    "return its index if it is, otherwise -1 .\n",
    "If you're unfamiliar with Binary Search, we recommend watching the Conceptual Overview section of\n",
    "this question's video explanation before starting to code.\n",
    "\n",
    "Example:\n",
    "\n",
    "array = [0, 1, 21, 33, 45, 45, 61, 71, 72, 73]\n",
    "\n",
    "target = 33\n",
    "\n",
    "Output\n",
    "3"
   ]
  },
  {
   "cell_type": "code",
   "execution_count": 1,
   "metadata": {},
   "outputs": [],
   "source": [
    "def binarySearch(array, target):\n",
    "    # Write your code here.\n",
    "    left = 0\n",
    "    right = len(array) -1\n",
    "    return binSearch(array, left, right, target)\n",
    "\n",
    "def binSearch(array, left, right, target):\n",
    "    if left > right:\n",
    "        return -1\n",
    "    mid = (left + right)//2\n",
    "    if array[mid] == target:\n",
    "        return mid\n",
    "    if target> array[mid]:\n",
    "        return binSearch(array, mid + 1, right, target)\n",
    "    else:\n",
    "        return binSearch(array, left, mid-1, target)\n",
    "    return False"
   ]
  },
  {
   "cell_type": "code",
   "execution_count": 2,
   "metadata": {},
   "outputs": [
    {
     "data": {
      "text/plain": [
       "3"
      ]
     },
     "execution_count": 2,
     "metadata": {},
     "output_type": "execute_result"
    }
   ],
   "source": [
    "array = [0, 1, 21, 33, 45, 45, 61, 71, 72, 73]\n",
    "target = 33\n",
    "binarySearch(array, target)"
   ]
  },
  {
   "cell_type": "code",
   "execution_count": null,
   "metadata": {},
   "outputs": [],
   "source": []
  }
 ],
 "metadata": {
  "kernelspec": {
   "display_name": "Python 3",
   "language": "python",
   "name": "python3"
  },
  "language_info": {
   "codemirror_mode": {
    "name": "ipython",
    "version": 3
   },
   "file_extension": ".py",
   "mimetype": "text/x-python",
   "name": "python",
   "nbconvert_exporter": "python",
   "pygments_lexer": "ipython3",
   "version": "3.8.3"
  }
 },
 "nbformat": 4,
 "nbformat_minor": 4
}

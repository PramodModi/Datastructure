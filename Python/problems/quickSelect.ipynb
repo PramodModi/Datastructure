{
 "cells": [
  {
   "cell_type": "markdown",
   "metadata": {},
   "source": [
    "## Problem\n",
    "Write a function that takes in an array of distinct integers as well as an integer k and that returns the kth smallest integer in that array.\n",
    "The function should do this in linear time, on average."
   ]
  },
  {
   "cell_type": "code",
   "execution_count": 7,
   "metadata": {},
   "outputs": [],
   "source": [
    "def quickSelect(array, k):\n",
    "    return quickSelectHelper(array, 0, len(array)-1, k)\n",
    "def quickSelectHelper(array, startIndex, endIndex, k):\n",
    "    while startIndex<= endIndex:\n",
    "        pivotIndex = startIndex\n",
    "        leftIndex = startIndex + 1\n",
    "        rightIndex = endIndex\n",
    "        \n",
    "        while leftIndex <= rightIndex:\n",
    "            if array[leftIndex]> array[pivotIndex] and array[rightIndex]<array[pivotIndex]:\n",
    "                swap(array, leftIndex, rightIndex)\n",
    "            if array[leftIndex] <= array[pivotIndex]:\n",
    "                leftIndex += 1\n",
    "            if array[rightIndex]>= array[pivotIndex]:\n",
    "                rightIndex -= 1\n",
    "        swap(array, pivotIndex, rightIndex)\n",
    "        \n",
    "        if rightIndex == k-1:\n",
    "            return array[k-1]\n",
    "        if rightIndex < k-1:\n",
    "            startIndex = rightIndex + 1\n",
    "        else:\n",
    "            endIndex = rightIndex -1\n",
    "            \n",
    "def swap(array, index1, index2):\n",
    "    array[index1], array[index2] = array[index2], array[index1]"
   ]
  },
  {
   "cell_type": "code",
   "execution_count": 8,
   "metadata": {},
   "outputs": [
    {
     "data": {
      "text/plain": [
       "5"
      ]
     },
     "execution_count": 8,
     "metadata": {},
     "output_type": "execute_result"
    }
   ],
   "source": [
    "array = [8,5,2,9,7,6,3]\n",
    "k = 3\n",
    "quickSelect(array, k)"
   ]
  },
  {
   "cell_type": "code",
   "execution_count": 9,
   "metadata": {},
   "outputs": [
    {
     "data": {
      "text/plain": [
       "5"
      ]
     },
     "execution_count": 9,
     "metadata": {},
     "output_type": "execute_result"
    }
   ],
   "source": [
    "array = [8,5,2,9,5,6,3]\n",
    "k = 3\n",
    "quickSelect(array, k)"
   ]
  },
  {
   "cell_type": "code",
   "execution_count": 10,
   "metadata": {},
   "outputs": [
    {
     "data": {
      "text/plain": [
       "5"
      ]
     },
     "execution_count": 10,
     "metadata": {},
     "output_type": "execute_result"
    }
   ],
   "source": [
    "array = [8,5,2,9,5,6,3]\n",
    "k = 4\n",
    "quickSelect(array, k)"
   ]
  },
  {
   "cell_type": "code",
   "execution_count": 11,
   "metadata": {},
   "outputs": [
    {
     "data": {
      "text/plain": [
       "6"
      ]
     },
     "execution_count": 11,
     "metadata": {},
     "output_type": "execute_result"
    }
   ],
   "source": [
    "array = [8,5,2,9,5,6,3]\n",
    "k = 5\n",
    "quickSelect(array, k)"
   ]
  },
  {
   "cell_type": "code",
   "execution_count": null,
   "metadata": {},
   "outputs": [],
   "source": []
  }
 ],
 "metadata": {
  "kernelspec": {
   "display_name": "Python 3",
   "language": "python",
   "name": "python3"
  },
  "language_info": {
   "codemirror_mode": {
    "name": "ipython",
    "version": 3
   },
   "file_extension": ".py",
   "mimetype": "text/x-python",
   "name": "python",
   "nbconvert_exporter": "python",
   "pygments_lexer": "ipython3",
   "version": "3.8.3"
  }
 },
 "nbformat": 4,
 "nbformat_minor": 4
}

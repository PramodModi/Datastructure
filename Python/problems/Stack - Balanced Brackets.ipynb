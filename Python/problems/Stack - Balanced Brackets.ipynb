{
 "cells": [
  {
   "cell_type": "markdown",
   "metadata": {},
   "source": [
    "## Problem:\n",
    "\n",
    "Write a function that takes in a string made up of brackets ( ( , [ , { , ) , ] , and } ) and other\n",
    "optional characters. The function should return a boolean representing whether the string is balanced\n",
    "with regards to brackets.\n",
    "A string is said to be balanced if it has as many opening brackets of a certain type as it has closing\n",
    "brackets of that type and if no bracket is unmatched. Note that an opening bracket can't match a\n",
    "corresponding closing bracket that comes before it, and similarly, a closing bracket can't match a\n",
    "corresponding opening bracket that comes after it. Also, brackets can't overlap each other as in [(]) .\n",
    "\n",
    "Example:\n",
    "\n",
    "string = \"([])(){}(())()()\"\n",
    "\n",
    "Output:\n",
    "true // it's balanced"
   ]
  },
  {
   "cell_type": "code",
   "execution_count": 1,
   "metadata": {},
   "outputs": [],
   "source": [
    "def balancedBrackets(string):\n",
    "    # Write your code here.\n",
    "    open = \"({[\"\n",
    "    close = \")}]\"\n",
    "    matching = {\")\":\"(\", \"}\" : \"{\", \"]\":\"[\"}\n",
    "    temp = []\n",
    "    for s in string:\n",
    "        if s in open:\n",
    "            temp.append(s)\n",
    "        elif s in close:\n",
    "            if len(temp) == 0:\n",
    "                return False\n",
    "            if temp[-1] == matching[s]:\n",
    "                temp.pop()\n",
    "            else:\n",
    "                return False\n",
    "    return len(temp) == 0\n"
   ]
  },
  {
   "cell_type": "code",
   "execution_count": 2,
   "metadata": {},
   "outputs": [
    {
     "data": {
      "text/plain": [
       "True"
      ]
     },
     "execution_count": 2,
     "metadata": {},
     "output_type": "execute_result"
    }
   ],
   "source": [
    "string = \"([])(){}(())()()\"\n",
    "balancedBrackets(string)"
   ]
  },
  {
   "cell_type": "code",
   "execution_count": null,
   "metadata": {},
   "outputs": [],
   "source": []
  }
 ],
 "metadata": {
  "kernelspec": {
   "display_name": "Python 3",
   "language": "python",
   "name": "python3"
  },
  "language_info": {
   "codemirror_mode": {
    "name": "ipython",
    "version": 3
   },
   "file_extension": ".py",
   "mimetype": "text/x-python",
   "name": "python",
   "nbconvert_exporter": "python",
   "pygments_lexer": "ipython3",
   "version": "3.8.3"
  }
 },
 "nbformat": 4,
 "nbformat_minor": 4
}

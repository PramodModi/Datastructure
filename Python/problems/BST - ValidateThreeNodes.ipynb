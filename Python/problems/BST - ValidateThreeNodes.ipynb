{
 "cells": [
  {
   "cell_type": "markdown",
   "metadata": {},
   "source": [
    "## Problem:\n",
    "Given trhree node of BST, check if node1 is ancestor of node2, then node3 would be descendent of node2 or viceversa.\n",
    "\n",
    "Example:\n",
    "if node1 is anscestor of node2 and node3 is descendent of node2 then return True or if node1 is descendent of node2 and node3 is anscetor of node2 then return True otherwise return False."
   ]
  },
  {
   "cell_type": "markdown",
   "metadata": {},
   "source": [
    "### Createa a BST"
   ]
  },
  {
   "cell_type": "code",
   "execution_count": 2,
   "metadata": {},
   "outputs": [],
   "source": [
    "# Exception class\n",
    "class Empty(Exception):\n",
    "    pass\n"
   ]
  },
  {
   "cell_type": "code",
   "execution_count": null,
   "metadata": {},
   "outputs": [],
   "source": [
    "class BST:\n",
    "    # Node class for Tree\n",
    "    class _Node:\n",
    "         # Slots is being used to save memory and fster attribute access\n",
    "        __slots__ = '_data','_left', '_right'\n",
    "        \n",
    "        def __init__(self, data):\n",
    "            self._data = data\n",
    "            self._left = None\n",
    "            self._right = None\n",
    "    \n",
    "    def __init__(self):\n",
    "        self._root = None\n",
    "    \n",
    "    # Insert new node in BST\n",
    "    def insert(self, data):\n",
    "        # Create new node\n",
    "        newNode = self._Node(data)\n",
    "        # If root is None, then its first node entry, Assign it to root\n",
    "        if self._root is None:\n",
    "            self._root = newNode\n",
    "            return\n",
    "        #Otherwise move down the tree. \n",
    "        #If data is lesser than root data, then go to the left otherwise go to the right\n",
    "        tmp = self._root\n",
    "        while tmp:\n",
    "            x = tmp\n",
    "            if data < tmp._data:\n",
    "                tmp = tmp._left\n",
    "            else: \n",
    "                tmp = tmp._right\n",
    "        # Now assign the newnode to the left or right of the node, based on data.\n",
    "        if data < x._data:\n",
    "            x._left = newNode\n",
    "        elif data > x._data:\n",
    "            x._right = newNode\n",
    "            \n",
    "    def getNode(self, data):\n",
    "        root = self._root\n",
    "        while root:\n",
    "            if root._data == data:\n",
    "                return root\n",
    "            root = root._left if data < root._data else root._right\n",
    "        return None\n",
    "            \n",
    "    def _preorder(self, root):\n",
    "        if root:\n",
    "            print(root._data)\n",
    "            self._preorder(root._left)\n",
    "            self._preorder(root._right)\n",
    "    def preorder(self):\n",
    "        if self._root is None:\n",
    "            raise Empty(\"Tree is empty\")\n",
    "        self._preorder(self._root)"
   ]
  }
 ],
 "metadata": {
  "kernelspec": {
   "display_name": "Python 3",
   "language": "python",
   "name": "python3"
  },
  "language_info": {
   "codemirror_mode": {
    "name": "ipython",
    "version": 3
   },
   "file_extension": ".py",
   "mimetype": "text/x-python",
   "name": "python",
   "nbconvert_exporter": "python",
   "pygments_lexer": "ipython3",
   "version": "3.8.3"
  }
 },
 "nbformat": 4,
 "nbformat_minor": 4
}

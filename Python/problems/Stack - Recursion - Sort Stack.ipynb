{
 "cells": [
  {
   "cell_type": "markdown",
   "metadata": {},
   "source": [
    "## Problem\n",
    "\n",
    "Write a function that takes in an array of integers representing a stack, recursively sorts the stack in\n",
    "place (i.e., doesn't create a brand new array), and returns it.\n",
    "The array must be treated as a stack, with the end of the array as the top of the stack. Therefore, you're\n",
    "only allowed to\n",
    "Pop elements from the top of the stack by removing elements from the end of the array using\n",
    "the built-in .pop() method in your programming language of choice.\n",
    "Push elements to the top of the stack by appending elements to the end of the array using the\n",
    "built-in .append() method in your programming language of choice.\n",
    "Peek at the element on top of the stack by accessing the last element in the array.\n",
    "You're not allowed to perform any other operations on the input array, including accessing elements\n",
    "(except for the last element), moving elements, etc.. You're also not allowed to use any other data\n",
    "structures, and your solution must be recursive.\n",
    "\n",
    "Example:\n",
    "\n",
    "stack = [-5, 2, -2, 4, 3, 1]\n",
    "\n",
    "Output:\n",
    "[-5, -2, 1, 2, 3, 4]"
   ]
  },
  {
   "cell_type": "code",
   "execution_count": 1,
   "metadata": {},
   "outputs": [],
   "source": [
    "def sortStack(stack):\n",
    "    # Write your code here.\n",
    "    if len(stack) == 0:\n",
    "        return stack\n",
    "    top = stack.pop()\n",
    "    sortStack(stack)\n",
    "    insertIntoSortedOrder(stack, top)\n",
    "    return stack\n",
    "\n",
    "def insertIntoSortedOrder(stack, value):\n",
    "    if len(stack) == 0 or stack[-1] <= value:\n",
    "        stack.append(value)\n",
    "        return\n",
    "    top = stack.pop()\n",
    "    insertIntoSortedOrder(stack, value)\n",
    "    stack.append(top)"
   ]
  },
  {
   "cell_type": "code",
   "execution_count": 2,
   "metadata": {},
   "outputs": [
    {
     "data": {
      "text/plain": [
       "[-5, -2, 1, 2, 3, 4]"
      ]
     },
     "execution_count": 2,
     "metadata": {},
     "output_type": "execute_result"
    }
   ],
   "source": [
    "stack = [-5, 2, -2, 4, 3, 1]\n",
    "sortStack(stack)"
   ]
  },
  {
   "cell_type": "code",
   "execution_count": null,
   "metadata": {},
   "outputs": [],
   "source": []
  }
 ],
 "metadata": {
  "kernelspec": {
   "display_name": "Python 3",
   "language": "python",
   "name": "python3"
  },
  "language_info": {
   "codemirror_mode": {
    "name": "ipython",
    "version": 3
   },
   "file_extension": ".py",
   "mimetype": "text/x-python",
   "name": "python",
   "nbconvert_exporter": "python",
   "pygments_lexer": "ipython3",
   "version": "3.8.3"
  }
 },
 "nbformat": 4,
 "nbformat_minor": 4
}

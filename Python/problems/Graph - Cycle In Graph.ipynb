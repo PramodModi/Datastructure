{
 "cells": [
  {
   "cell_type": "markdown",
   "metadata": {},
   "source": [
    "## Problem:\n",
    "\n",
    "You're given a list of edges representing an unweighted, directed graph with at least one node. Write\n",
    "a function that returns a boolean representing whether the given graph contains a cycle.\n",
    "For the purpose of this question, a cycle is defined as any number of vertices, including just one vertex,\n",
    "that are connected in a closed chain. A cycle can also be defined as a chain of at least one vertex in\n",
    "which the first vertex is the same as the last.\n",
    "The given list is what's called an adjacency list, and it represents a graph. The number of vertices in the\n",
    "graph is equal to the length of edges , where each index i in edges contains vertex i 's\n",
    "outbound edges, in no particular order. Each individual edge is represented by a positive integer that\n",
    "denotes an index (a destination vertex) in the list that this vertex is connected to. Note that these edges\n",
    "are directed, meaning that you can only travel from a particular vertex to its destination, not the other\n",
    "way around (unless the destination vertex itself has an outbound edge to the original vertex).\n",
    "Also note that this graph may contain self-loops. A self-loop is an edge that has the same destination\n",
    "and origin; in other words, it's an edge that connects a vertex to itself. For the purpose of this question,\n",
    "a self-loop is considered a cycle.\n",
    "For a more detailed explanation, please refer to the Conceptual Overview section of this question's\n",
    "video explanation.\n",
    "\n",
    "Example:\n",
    "\n",
    "edges = \n",
    "\n",
    "        [\n",
    "         [1, 3],\n",
    "         [2, 3, 4],\n",
    "         [0],\n",
    "         [],\n",
    "         [2, 5],\n",
    "         [],\n",
    "        ]\n",
    "        \n",
    "Output:\n",
    "true\n",
    "\n",
    "    // There are multiple cycles in this graph:\n",
    "    // 1) 0 -> 1 -> 2 -> 0\n",
    "    // 2) 0 -> 1 -> 4 -> 2 -> 0\n",
    "    // 3) 1 -> 2 -> 0 -> 1\n",
    "    // These are just 3 examples; there are more."
   ]
  },
  {
   "cell_type": "code",
   "execution_count": null,
   "metadata": {},
   "outputs": [],
   "source": [
    "WHITE, GREY, BLACK = 0,1,2\n",
    "def cycleInGraph(edges):\n",
    "    # Write your code here.\n",
    "    color = [WHITE for i in range(len(edges))]\n",
    "    for node in range(len(edges)):\n",
    "        if color[node] != WHITE:\n",
    "            continue\n",
    "        isCycle = DFS(node, edges, color)\n",
    "        if isCycle:\n",
    "            return True\n",
    "\n",
    "    return False\n",
    "def DFS(node, edges, color):\n",
    "    color[node] = GREY\n",
    "    for neighbour in edges[node]:\n",
    "        c = color[neighbour]\n",
    "        if c == GREY:\n",
    "            return True\n",
    "        if c == BLACK:\n",
    "            continue\n",
    "\n",
    "        isCycle = DFS(neighbour, edges, color)\n",
    "        if isCycle:\n",
    "            return True\n",
    "    color[node] = BLACK\n",
    "    return False\n"
   ]
  }
 ],
 "metadata": {
  "kernelspec": {
   "display_name": "Python 3",
   "language": "python",
   "name": "python3"
  },
  "language_info": {
   "codemirror_mode": {
    "name": "ipython",
    "version": 3
   },
   "file_extension": ".py",
   "mimetype": "text/x-python",
   "name": "python",
   "nbconvert_exporter": "python",
   "pygments_lexer": "ipython3",
   "version": "3.8.3"
  }
 },
 "nbformat": 4,
 "nbformat_minor": 4
}

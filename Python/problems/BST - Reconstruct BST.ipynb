{
 "cells": [
  {
   "cell_type": "markdown",
   "metadata": {},
   "source": [
    "## Problem:\n",
    "\n",
    "The pre-order traversal of a Binary Tree is a traversal technique that starts at the tree's root node and\n",
    "visits nodes in the following order:\n",
    "\n",
    "1. Current node\n",
    "\n",
    "2. Left subtree\n",
    "\n",
    "3. Right subtree\n",
    "\n",
    "Given a non-empty array of integers representing the pre-order traversal of a Binary Search Tree (BST),\n",
    "write a function that creates the relevant BST and returns its root node.\n",
    "\n",
    "The input array will contain the values of BST nodes in the order in which these nodes would be visited\n",
    "with a pre-order traversal.\n",
    "\n",
    "Each BST node has an integer value , a left child node, and a right child node. A node is said\n",
    "to be a valid BST node if and only if it satisfies the BST property: its value is strictly greater than the\n",
    "values of every node to its left; its value is less than or equal to the values of every node to its right;\n",
    "and its children nodes are either valid BST nodes themselves or None / null .\n",
    "\n",
    "Example:\n",
    "\n",
    "preOrderTraversalValues = [10, 4, 2, 1, 5, 17, 19, 18]\n",
    "\n",
    "Output:\n",
    "\n",
    "                     10\n",
    "                    / \\\n",
    "                   4   17\n",
    "                  / \\    \\\n",
    "                 2   5    19\n",
    "                /        /\n",
    "               1        18 "
   ]
  },
  {
   "cell_type": "code",
   "execution_count": 1,
   "metadata": {},
   "outputs": [],
   "source": [
    "# This is an input class. Do not edit.\n",
    "class BST:\n",
    "    def __init__(self, value, left=None, right=None):\n",
    "        self.value = value\n",
    "        self.left = left\n",
    "        self.right = right\n",
    "\n",
    "\n",
    "class Index:\n",
    "    def __init__(self, id):\n",
    "        self.id = id\n",
    "\n",
    "def reconstructBst(preOrderTraversalValues):\n",
    "    index = Index(0)\n",
    "    return createBSTWithRange(float('-inf'), float('inf'), preOrderTraversalValues, index)\n",
    "\n",
    "def createBSTWithRange(lower, upper, array, index):\n",
    "    if index.id == len(array):\n",
    "        return None\n",
    "    root = array[index.id]\n",
    "    if root < lower or root >= upper:\n",
    "        return None\n",
    "    index.id += 1\n",
    "    left = createBSTWithRange(lower, root, array, index)\n",
    "    right = createBSTWithRange(root, upper, array, index)\n",
    "    return BST(root, left, right)\n"
   ]
  },
  {
   "cell_type": "code",
   "execution_count": null,
   "metadata": {},
   "outputs": [],
   "source": []
  }
 ],
 "metadata": {
  "kernelspec": {
   "display_name": "Python 3",
   "language": "python",
   "name": "python3"
  },
  "language_info": {
   "codemirror_mode": {
    "name": "ipython",
    "version": 3
   },
   "file_extension": ".py",
   "mimetype": "text/x-python",
   "name": "python",
   "nbconvert_exporter": "python",
   "pygments_lexer": "ipython3",
   "version": "3.8.3"
  }
 },
 "nbformat": 4,
 "nbformat_minor": 4
}

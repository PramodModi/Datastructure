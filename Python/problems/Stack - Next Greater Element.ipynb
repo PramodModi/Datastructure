{
 "cells": [
  {
   "cell_type": "markdown",
   "metadata": {},
   "source": [
    "## Problem:\n",
    "Write a function that takes in an array of integers and returns a new array containing, at each index, the\n",
    "next element in the input array that's greater than the element at that index in the input array.\n",
    "In other words, your function should return a new array where outputArray[i] is the next element\n",
    "in the input array that's greater than inputArray[i] . If there's no such next greater element for a\n",
    "particular index, the value at that index in the output array should be -1 . For example, given\n",
    "array = [1, 2] , your function should return [2, -1] .\n",
    "Additionally, your function should treat the input array as a circular array. A circular array wraps\n",
    "around itself as if it were connected end-to-end. So the next index after the last index in a circular array\n",
    "is the first index. This means that, for our problem, given array = [0, 0, 5, 0, 0, 3, 0, 0] ,\n",
    "the next greater element after 3 is 5 , since the array is circular.\n",
    "\n",
    "Example:\n",
    "\n",
    "array = [2, 5, -3, -4, 6, 7, 2]\n",
    "\n",
    "Output\n",
    "[5, 6, 6, 6, 7, -1, 5]"
   ]
  },
  {
   "cell_type": "code",
   "execution_count": 1,
   "metadata": {},
   "outputs": [],
   "source": [
    "def nextGreaterElement(array):\n",
    "    # Write your code here.\n",
    "    temp = []\n",
    "    result = [-1] * len(array)\n",
    "    for l in range(2*len(array)-1, -1, -1):\n",
    "        i = l%len(array)\n",
    "        n = array[i]\n",
    "\n",
    "        while len(temp):\n",
    "            if n < temp[-1]:\n",
    "                result[i] = temp[-1]\n",
    "                break\n",
    "            else:\n",
    "                temp.pop()\n",
    "        temp.append(n)\n",
    "    return result"
   ]
  },
  {
   "cell_type": "code",
   "execution_count": 2,
   "metadata": {},
   "outputs": [
    {
     "data": {
      "text/plain": [
       "[5, 6, 6, 6, 7, -1, 5]"
      ]
     },
     "execution_count": 2,
     "metadata": {},
     "output_type": "execute_result"
    }
   ],
   "source": [
    "array = [2, 5, -3, -4, 6, 7, 2]\n",
    "nextGreaterElement(array)"
   ]
  },
  {
   "cell_type": "code",
   "execution_count": null,
   "metadata": {},
   "outputs": [],
   "source": []
  }
 ],
 "metadata": {
  "kernelspec": {
   "display_name": "Python 3",
   "language": "python",
   "name": "python3"
  },
  "language_info": {
   "codemirror_mode": {
    "name": "ipython",
    "version": 3
   },
   "file_extension": ".py",
   "mimetype": "text/x-python",
   "name": "python",
   "nbconvert_exporter": "python",
   "pygments_lexer": "ipython3",
   "version": "3.8.3"
  }
 },
 "nbformat": 4,
 "nbformat_minor": 4
}

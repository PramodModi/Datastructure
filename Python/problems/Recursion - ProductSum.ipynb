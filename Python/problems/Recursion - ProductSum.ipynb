{
 "cells": [
  {
   "cell_type": "markdown",
   "metadata": {},
   "source": [
    "## Problem\n",
    "\n",
    "Write a function that takes in a \"special\" array and returns its product sum.\n",
    "A \"special\" array is a non-empty array that contains either integers or other \"special\" arrays. The product\n",
    "sum of a \"special\" array is the sum of its elements, where \"special\" arrays inside it are summed\n",
    "themselves and then multiplied by their level of depth.\n",
    "The depth of a \"special\" array is how far nested it is. For instance, the depth of [] is 1 ; the depth of\n",
    "the inner array in [[]] is 2 ; the depth of the innermost array in [[[]]] is 3 .\n",
    "Therefore, the product sum of [x, y] is x + y ; the product sum of [x, [y, z]] is\n",
    "x + 2 * (y + z) ; the product sum of [x, [y, [z]]] is x + 2 * (y + 3z) .\n",
    "\n",
    "Example:\n",
    "\n",
    "array = [5, 2, [7, -1], 3, [6, [-13, 8], 4]]\n",
    "\n",
    "Output\n",
    "12 // calculated as: 5 + 2 + 2 * (7 - 1) + 3 + 2 * (6 + 3 * (-13 + 8) + 4)"
   ]
  },
  {
   "cell_type": "code",
   "execution_count": 1,
   "metadata": {},
   "outputs": [],
   "source": [
    "def productSum(array, depth = 1):\n",
    "    sum = 0\n",
    "    for i in array:\n",
    "        if type(i) is list:\n",
    "            sum = sum + productSum(i, depth + 1)\n",
    "        else:\n",
    "            sum += i\n",
    "    return sum * depth\n",
    "            \n",
    "    "
   ]
  },
  {
   "cell_type": "code",
   "execution_count": 2,
   "metadata": {},
   "outputs": [
    {
     "data": {
      "text/plain": [
       "5"
      ]
     },
     "execution_count": 2,
     "metadata": {},
     "output_type": "execute_result"
    }
   ],
   "source": [
    "array = [1,[2]]\n",
    "productSum(array)"
   ]
  },
  {
   "cell_type": "code",
   "execution_count": 3,
   "metadata": {},
   "outputs": [
    {
     "data": {
      "text/plain": [
       "1"
      ]
     },
     "execution_count": 3,
     "metadata": {},
     "output_type": "execute_result"
    }
   ],
   "source": [
    "array = [1]\n",
    "productSum(array)"
   ]
  },
  {
   "cell_type": "code",
   "execution_count": 4,
   "metadata": {},
   "outputs": [
    {
     "data": {
      "text/plain": [
       "6"
      ]
     },
     "execution_count": 4,
     "metadata": {},
     "output_type": "execute_result"
    }
   ],
   "source": [
    "array = [[[1]]]\n",
    "productSum(array)"
   ]
  },
  {
   "cell_type": "code",
   "execution_count": 5,
   "metadata": {},
   "outputs": [
    {
     "data": {
      "text/plain": [
       "35"
      ]
     },
     "execution_count": 5,
     "metadata": {},
     "output_type": "execute_result"
    }
   ],
   "source": [
    "array = [1,[2,3,[4]]]\n",
    "productSum(array)"
   ]
  },
  {
   "cell_type": "code",
   "execution_count": null,
   "metadata": {},
   "outputs": [],
   "source": []
  }
 ],
 "metadata": {
  "kernelspec": {
   "display_name": "Python 3",
   "language": "python",
   "name": "python3"
  },
  "language_info": {
   "codemirror_mode": {
    "name": "ipython",
    "version": 3
   },
   "file_extension": ".py",
   "mimetype": "text/x-python",
   "name": "python",
   "nbconvert_exporter": "python",
   "pygments_lexer": "ipython3",
   "version": "3.8.3"
  }
 },
 "nbformat": 4,
 "nbformat_minor": 4
}

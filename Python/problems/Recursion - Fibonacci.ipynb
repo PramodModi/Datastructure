{
 "cells": [
  {
   "cell_type": "markdown",
   "metadata": {},
   "source": [
    "## Problem\n",
    "The Fibonacci sequence is defined as follows: the first number of the sequence is 0 , the second\n",
    "number is 1 , and the nth number is the sum of the (n - 1)th and (n - 2)th numbers. Write a function\n",
    "that takes in an integer n and returns the nth Fibonacci number.\n",
    "Important note: the Fibonacci sequence is often defined with its first two numbers as F0 = 0 and\n",
    "F1 = 1 . For the purpose of this question, the first Fibonacci number is F0 ; therefore,\n",
    "getNthFib(1) is equal to F0 , getNthFib(2) is equal to F1 , etc..\n",
    "\n",
    "Example #1\n",
    "\n",
    "n = 2\n",
    "\n",
    "Output #1\n",
    "1 // 0, 1\n",
    "\n",
    "Example #2\n",
    " n = 6\n",
    "\n",
    "Output #2\n",
    "5 // 0, 1, 1, 2, 3, 5"
   ]
  },
  {
   "cell_type": "code",
   "execution_count": 25,
   "metadata": {},
   "outputs": [],
   "source": [
    "def fib(n):\n",
    "    a=0\n",
    "    b = 1\n",
    "    if n == 0:\n",
    "        return a\n",
    "    if n == 1:\n",
    "        return b\n",
    "    c = 2\n",
    "    while c<=n:\n",
    "        a, b = b, a+b\n",
    "        c += 1\n",
    "    return b\n",
    "    "
   ]
  },
  {
   "cell_type": "code",
   "execution_count": 34,
   "metadata": {},
   "outputs": [
    {
     "data": {
      "text/plain": [
       "13"
      ]
     },
     "execution_count": 34,
     "metadata": {},
     "output_type": "execute_result"
    }
   ],
   "source": [
    "fib(7)"
   ]
  },
  {
   "cell_type": "code",
   "execution_count": 7,
   "metadata": {},
   "outputs": [],
   "source": [
    "# Recursive way with memoization\n",
    "def fib1(n, cache = None):\n",
    "    if cache == None:\n",
    "        cache = {}\n",
    "    if n in cache:\n",
    "        return cache[n]\n",
    "    \n",
    "    if n == 0 or n == 1:\n",
    "        return n\n",
    "    \n",
    "    result = fib1(n-1, cache) + fib1(n-2, cache)\n",
    "    cache[n] = result\n",
    "    return result"
   ]
  },
  {
   "cell_type": "code",
   "execution_count": 46,
   "metadata": {},
   "outputs": [
    {
     "data": {
      "text/plain": [
       "139423224561697880139724382870407283950070256587697307264108962948325571622863290691557658876222521294125"
      ]
     },
     "execution_count": 46,
     "metadata": {},
     "output_type": "execute_result"
    }
   ],
   "source": [
    "fib1(500)"
   ]
  }
 ],
 "metadata": {
  "kernelspec": {
   "display_name": "Python 3",
   "language": "python",
   "name": "python3"
  },
  "language_info": {
   "codemirror_mode": {
    "name": "ipython",
    "version": 3
   },
   "file_extension": ".py",
   "mimetype": "text/x-python",
   "name": "python",
   "nbconvert_exporter": "python",
   "pygments_lexer": "ipython3",
   "version": "3.8.3"
  }
 },
 "nbformat": 4,
 "nbformat_minor": 4
}

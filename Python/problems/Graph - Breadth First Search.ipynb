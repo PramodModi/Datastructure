{
 "cells": [
  {
   "cell_type": "markdown",
   "metadata": {},
   "source": [
    "## Problem:\n",
    "\n",
    "You're given a Node class that has a name and an array of optional children nodes. When put\n",
    "together, nodes form an acyclic tree-like structure.\n",
    "Implement the breadthFirstSearch method on the Node class, which takes in an empty array,\n",
    "traverses the tree using the Breadth-first Search approach (specifically navigating the tree from left to\n",
    "right), stores all of the nodes' names in the input array, and returns it.\n",
    "If you're unfamiliar with Breadth-first Search, we recommend watching the Conceptual Overview section\n",
    "of this question's video explanation before starting to code.\n",
    "\n",
    "Example:\n",
    "\n",
    "graph =\n",
    "\n",
    "                   A\n",
    "                 / | \\\n",
    "                B  C  D\n",
    "               / \\    / \\\n",
    "              E   F   G  H\n",
    "                 / \\  \\\n",
    "                 I  J  K\n",
    "\n",
    "Output:\n",
    "\n",
    "[\"A\", \"B\", \"C\", \"D\", \"E\", \"F\", \"G\", \"H\", \"I\", \"J\", \"K\"]"
   ]
  },
  {
   "cell_type": "code",
   "execution_count": 7,
   "metadata": {},
   "outputs": [],
   "source": [
    "import queue\n",
    "\n",
    "class Node:\n",
    "    def __init__(self, name):\n",
    "        self.children = []\n",
    "        self.name = name\n",
    "        \n",
    "    def addChild(self, name):\n",
    "        self.children.append(Node(name))\n",
    "        return self\n",
    "    \n",
    "    def breadthFirstSearch(self, array):\n",
    "        root = self\n",
    "        q = queue.Queue()\n",
    "        q.put(root)\n",
    "        while not q.empty():\n",
    "            current = q.get()\n",
    "            array.append(current.name)\n",
    "            for child in current.children:\n",
    "                q.put(child)\n",
    "        return array\n",
    "        "
   ]
  },
  {
   "cell_type": "code",
   "execution_count": 8,
   "metadata": {},
   "outputs": [
    {
     "data": {
      "text/plain": [
       "['A', 'B', 'E', 'C', 'D', 'G', 'K', 'H', 'F', 'I']"
      ]
     },
     "execution_count": 8,
     "metadata": {},
     "output_type": "execute_result"
    }
   ],
   "source": [
    "node = Node(\"A\")\n",
    "b = node.addChild(\"B\").addChild(\"E\")\n",
    "node.addChild(\"C\")\n",
    "d = node.addChild(\"D\").addChild(\"G\").addChild(\"K\")\n",
    "d.addChild(\"H\")\n",
    "b.addChild(\"F\").addChild(\"I\")\n",
    "\n",
    "array = []\n",
    "node.breadthFirstSearch(array)"
   ]
  },
  {
   "cell_type": "code",
   "execution_count": null,
   "metadata": {},
   "outputs": [],
   "source": []
  }
 ],
 "metadata": {
  "kernelspec": {
   "display_name": "Python 3",
   "language": "python",
   "name": "python3"
  },
  "language_info": {
   "codemirror_mode": {
    "name": "ipython",
    "version": 3
   },
   "file_extension": ".py",
   "mimetype": "text/x-python",
   "name": "python",
   "nbconvert_exporter": "python",
   "pygments_lexer": "ipython3",
   "version": "3.8.3"
  }
 },
 "nbformat": 4,
 "nbformat_minor": 4
}

{
 "cells": [
  {
   "cell_type": "markdown",
   "metadata": {},
   "source": [
    "## Problem\n",
    "\n",
    "Alexa is given n piles of equal or unequal heights. In one step, Alexa can remove any number of boxes from the pile which has the maximum height and try to make it equal to the one which is just lower than the maximum height of the stack. Determine the minimum number of steps required to make all of the piles equal in height.\n",
    "\n",
    "Example:\n",
    "\n",
    "Input: piles = [5, 2, 1]\n",
    "Output: 3\n",
    "\n",
    "Explanation:\n",
    "Step 1: reducing 5 -> 2 [2, 2, 1]\n",
    "Step 2: reducing 2 -> 1 [2, 1, 1]\n",
    "Step 3: reducing 2 -> 1 [1, 1, 1]\n",
    "So final number of steps required is 3.\n",
    "\n",
    "Input  : [1, 1, 2, 2, 2, 3, 3, 3, 4, 4]\n",
    "Output : 15\n"
   ]
  },
  {
   "cell_type": "code",
   "execution_count": 1,
   "metadata": {},
   "outputs": [],
   "source": [
    "def minStepsEqualHeightPiles(piles):\n",
    "    if len(piles) < 2:\n",
    "        return 0\n",
    "    \n",
    "    piles.sort(reverse = True)\n",
    "    steps = 0\n",
    "    for i in range(1, len(piles)):\n",
    "        steps += i if piles[i-1] != piles[i] else 0\n",
    "    return steps\n",
    "        "
   ]
  },
  {
   "cell_type": "code",
   "execution_count": 2,
   "metadata": {},
   "outputs": [
    {
     "data": {
      "text/plain": [
       "3"
      ]
     },
     "execution_count": 2,
     "metadata": {},
     "output_type": "execute_result"
    }
   ],
   "source": [
    "piles = [5,2,1]\n",
    "minStepsEqualHeightPiles(piles)"
   ]
  },
  {
   "cell_type": "code",
   "execution_count": 3,
   "metadata": {},
   "outputs": [
    {
     "data": {
      "text/plain": [
       "15"
      ]
     },
     "execution_count": 3,
     "metadata": {},
     "output_type": "execute_result"
    }
   ],
   "source": [
    "piles = [1,1,2,2,2,3,3,3,4,4]\n",
    "minStepsEqualHeightPiles(piles)"
   ]
  },
  {
   "cell_type": "code",
   "execution_count": 4,
   "metadata": {},
   "outputs": [
    {
     "data": {
      "text/plain": [
       "2"
      ]
     },
     "execution_count": 4,
     "metadata": {},
     "output_type": "execute_result"
    }
   ],
   "source": [
    "piles = [4,8,8,4]\n",
    "minStepsEqualHeightPiles(piles)"
   ]
  },
  {
   "cell_type": "code",
   "execution_count": 5,
   "metadata": {},
   "outputs": [
    {
     "data": {
      "text/plain": [
       "0"
      ]
     },
     "execution_count": 5,
     "metadata": {},
     "output_type": "execute_result"
    }
   ],
   "source": [
    "piles = [10,10,10]\n",
    "minStepsEqualHeightPiles(piles)"
   ]
  },
  {
   "cell_type": "code",
   "execution_count": null,
   "metadata": {},
   "outputs": [],
   "source": []
  },
  {
   "cell_type": "code",
   "execution_count": null,
   "metadata": {},
   "outputs": [],
   "source": []
  }
 ],
 "metadata": {
  "kernelspec": {
   "display_name": "Python 3",
   "language": "python",
   "name": "python3"
  },
  "language_info": {
   "codemirror_mode": {
    "name": "ipython",
    "version": 3
   },
   "file_extension": ".py",
   "mimetype": "text/x-python",
   "name": "python",
   "nbconvert_exporter": "python",
   "pygments_lexer": "ipython3",
   "version": "3.8.3"
  }
 },
 "nbformat": 4,
 "nbformat_minor": 4
}

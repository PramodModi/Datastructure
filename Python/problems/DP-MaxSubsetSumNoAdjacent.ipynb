{
 "cells": [
  {
   "cell_type": "markdown",
   "metadata": {},
   "source": [
    "## Problem\n",
    "returns the maximum sum of non-adjascent in the given array, having positive integers.\n",
    "return 0 for empty array.\n",
    "\n",
    "Example:\n",
    "\n",
    "array =[75,105,120,75,90,135]\n",
    "\n",
    "output = 330 // 75+120+135"
   ]
  },
  {
   "cell_type": "code",
   "execution_count": 7,
   "metadata": {},
   "outputs": [],
   "source": [
    "# O(n) time | O(n) space\n",
    "def maxSubsetSumNoAdjascent(array):\n",
    "    if len(array) == 0:\n",
    "        return 0\n",
    "    if len(array) == 1:\n",
    "        return array[0]\n",
    "    result = []\n",
    "    result.append(array[0])\n",
    "    result.append(max(array[0], array[1]))\n",
    "    \n",
    "    for i in range(2,len(array)):\n",
    "        first = result[i-2]\n",
    "        second = result[i-1]\n",
    "        result.append(max(first + array[i], second))\n",
    "    return result[-1]"
   ]
  },
  {
   "cell_type": "code",
   "execution_count": 8,
   "metadata": {},
   "outputs": [
    {
     "data": {
      "text/plain": [
       "330"
      ]
     },
     "execution_count": 8,
     "metadata": {},
     "output_type": "execute_result"
    }
   ],
   "source": [
    "array = [75,105,120,75,90,135]\n",
    "maxSubsetSumNoAdjascent(array)"
   ]
  },
  {
   "cell_type": "code",
   "execution_count": 9,
   "metadata": {},
   "outputs": [
    {
     "data": {
      "text/plain": [
       "1"
      ]
     },
     "execution_count": 9,
     "metadata": {},
     "output_type": "execute_result"
    }
   ],
   "source": [
    "array = [1]\n",
    "maxSubsetSumNoAdjascent(array)"
   ]
  },
  {
   "cell_type": "code",
   "execution_count": 10,
   "metadata": {},
   "outputs": [
    {
     "data": {
      "text/plain": [
       "2"
      ]
     },
     "execution_count": 10,
     "metadata": {},
     "output_type": "execute_result"
    }
   ],
   "source": [
    "array = [1,2]\n",
    "maxSubsetSumNoAdjascent(array)"
   ]
  },
  {
   "cell_type": "code",
   "execution_count": 11,
   "metadata": {},
   "outputs": [],
   "source": [
    "#O(n) time | O(1) space\n",
    "def maxSubsetSumNoAdjascent(array):\n",
    "    if len(array) == 0:\n",
    "        return 0\n",
    "    if len(array) == 1:\n",
    "        return array[0]\n",
    "    first = array[0]\n",
    "    second = max(array[0], array[1])\n",
    "    \n",
    "    for i in range(2,len(array)):\n",
    "        #Take the max value from adjacent number or addition of current number with number before adjascent\n",
    "        current = max(first + array[i], second)\n",
    "        first = second\n",
    "        second = current\n",
    "    return second"
   ]
  },
  {
   "cell_type": "code",
   "execution_count": 12,
   "metadata": {},
   "outputs": [
    {
     "data": {
      "text/plain": [
       "330"
      ]
     },
     "execution_count": 12,
     "metadata": {},
     "output_type": "execute_result"
    }
   ],
   "source": [
    "array = [75,105,120,75,90,135]\n",
    "maxSubsetSumNoAdjascent(array)"
   ]
  },
  {
   "cell_type": "code",
   "execution_count": null,
   "metadata": {},
   "outputs": [],
   "source": []
  }
 ],
 "metadata": {
  "kernelspec": {
   "display_name": "Python 3",
   "language": "python",
   "name": "python3"
  },
  "language_info": {
   "codemirror_mode": {
    "name": "ipython",
    "version": 3
   },
   "file_extension": ".py",
   "mimetype": "text/x-python",
   "name": "python",
   "nbconvert_exporter": "python",
   "pygments_lexer": "ipython3",
   "version": "3.8.3"
  }
 },
 "nbformat": 4,
 "nbformat_minor": 4
}

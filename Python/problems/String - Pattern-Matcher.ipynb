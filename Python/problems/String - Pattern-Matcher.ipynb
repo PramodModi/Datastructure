{
 "cells": [
  {
   "cell_type": "markdown",
   "metadata": {},
   "source": [
    "## Problem\n",
    "\n",
    "You're given two non-empty strings. The first one is a pattern consisting of only \"x\" s and / or \"y\" s;\n",
    "the other one is a normal string of alphanumeric characters. Write a function that checks whether the\n",
    "normal string matches the pattern.\n",
    "A string S0 is said to match a pattern if replacing all \"x\" s in the pattern with some non-empty\n",
    "substring S1 of S0 and replacing all \"y\" s in the pattern with some non-empty substring S2 of\n",
    "S0 yields the same string S0 .\n",
    "If the input string doesn't match the input pattern, the function should return an empty array;\n",
    "otherwise, it should return an array holding the strings S1 and S2 that represent \"x\" and \"y\" in\n",
    "the normal string, in that order. If the pattern doesn't contain any \"x\" s or \"y\" s, the respective\n",
    "letter should be represented by an empty string in the final array that you return.\n",
    "You can assume that there will never be more than one pair of strings S1 and S2 that appropriately\n",
    "represent \"x\" and \"y\" in the normal string.\n",
    "\n",
    "Example:\n",
    "\n",
    "pattern = \"xxyxxy\"\n",
    "\n",
    "string = \"gogopowerrangergogopowerranger\"\n",
    "\n",
    "Output: [\"go\", \"powerranger\"]"
   ]
  },
  {
   "cell_type": "code",
   "execution_count": 1,
   "metadata": {},
   "outputs": [],
   "source": [
    "def patternMatcher(pattern, string):\n",
    "    # Write your code here.\n",
    "    n = len(string)\n",
    "    if len(pattern) > n:\n",
    "        return []\n",
    "    # Below code is based on that pattern start from x. \n",
    "    # create a new pattern by exchanging y to x to handle situation where pattern starts from y.\n",
    "    # If exchanged then take care while returning the pattern value\n",
    "    newPattern = createNewPattern(pattern)\n",
    "    didExchanged = pattern[0] != newPattern[0]\n",
    "\n",
    "    # Create a map to get the number of x and number of y. \n",
    "    #Also calculate the first index of y in pattern\n",
    "    yindex = -1\n",
    "    temp = {\"x\":0, \"y\":0}\n",
    "    for i, s in enumerate(newPattern):\n",
    "        temp[s] += 1\n",
    "        if s == 'y' and yindex == -1:\n",
    "            yindex = i\n",
    "    # Two conditions, if pattern has only x or pattern has both x and y.\n",
    "    if temp['y'] > 0:\n",
    "\n",
    "        # Iterate the loop and find the value of x and y\n",
    "        for xlength in range(1, n):\n",
    "            ylength = (n - temp['x']*xlength)/temp['y']\n",
    "            if ylength <= 0 or ylength %1 != 0:\n",
    "                continue\n",
    "            ylength = int(ylength)\n",
    "            idxy = yindex * xlength\n",
    "            x = string[0:xlength]\n",
    "            y = string[idxy : idxy + ylength]\n",
    "\n",
    "            matchedString = map(lambda char : x if char =='x' else y, newPattern)\n",
    "            if string == \"\".join(matchedString):\n",
    "                return [y,x] if didExchanged else [x,y]\n",
    "    else:\n",
    "        xlength = n / temp['x']\n",
    "        if xlength %1 == 0:\n",
    "            xlength = int(xlength)\n",
    "            x = string[:xlength]\n",
    "            matchedString = map(lambda char : x, newPattern)\n",
    "            if string == \"\".join(matchedString):\n",
    "                return [\"\",x] if didExchanged else [x,\"\"]\n",
    "    return []\n",
    "\n",
    "def createNewPattern(pattern):\n",
    "    newPattern = list(pattern)\n",
    "    if pattern[0] == 'x':\n",
    "        return newPattern\n",
    "    return list(map(lambda char: 'x' if char=='y' else 'y', newPattern))\n"
   ]
  },
  {
   "cell_type": "code",
   "execution_count": 2,
   "metadata": {},
   "outputs": [
    {
     "data": {
      "text/plain": [
       "['go', 'powerranger']"
      ]
     },
     "execution_count": 2,
     "metadata": {},
     "output_type": "execute_result"
    }
   ],
   "source": [
    "pattern = \"xxyxxy\"\n",
    "string = \"gogopowerrangergogopowerranger\"\n",
    "patternMatcher(pattern, string)"
   ]
  },
  {
   "cell_type": "code",
   "execution_count": null,
   "metadata": {},
   "outputs": [],
   "source": []
  }
 ],
 "metadata": {
  "kernelspec": {
   "display_name": "Python 3",
   "language": "python",
   "name": "python3"
  },
  "language_info": {
   "codemirror_mode": {
    "name": "ipython",
    "version": 3
   },
   "file_extension": ".py",
   "mimetype": "text/x-python",
   "name": "python",
   "nbconvert_exporter": "python",
   "pygments_lexer": "ipython3",
   "version": "3.8.3"
  }
 },
 "nbformat": 4,
 "nbformat_minor": 4
}

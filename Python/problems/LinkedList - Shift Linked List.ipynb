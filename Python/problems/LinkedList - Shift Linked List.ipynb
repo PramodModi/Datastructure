{
 "cells": [
  {
   "cell_type": "markdown",
   "metadata": {},
   "source": [
    "## Problem:\n",
    "\n",
    "Write a function that takes in the head of a Singly Linked List and an integer k , shifts the list in place\n",
    "(i.e., doesn't create a brand new list) by k positions, and returns its new head.\n",
    "Shifting a Linked List means moving its nodes forward or backward and wrapping them around the list\n",
    "where appropriate. For example, shifting a Linked List forward by one position would make its tail\n",
    "become the new head of the linked list.\n",
    "Whether nodes are moved forward or backward is determined by whether k is positive or negative.\n",
    "Each LinkedList node has an integer value as well as a next node pointing to the next node in\n",
    "the list or to None / null if it's the tail of the list.\n",
    "You can assume that the input Linked List will always have at least one node; in other words, the head\n",
    "will never be None / null .\n",
    "\n",
    "Example:\n",
    "\n",
    "head = 0 -> 1 -> 2 -> 3 -> 4 -> 5 // the head node with value 0\n",
    "\n",
    "k = 2\n",
    "\n",
    "Output:\n",
    "4 -> 5 -> 0 -> 1 -> 2 -> 3 // the new head node with value 4"
   ]
  },
  {
   "cell_type": "code",
   "execution_count": 1,
   "metadata": {},
   "outputs": [],
   "source": [
    "def shiftLinkedList(head, k):\n",
    "    # Write your code here.\n",
    "    temp = head\n",
    "    size = 1\n",
    "    while(temp.next):\n",
    "        size += 1\n",
    "        temp = temp.next\n",
    "    offset = abs(k)%size\n",
    "\n",
    "    if offset == 0:\n",
    "        return head\n",
    "\n",
    "    tailpos = size - offset if k > 0 else offset\n",
    "    temp1 = head\n",
    "    i = 1\n",
    "    while i < tailpos:\n",
    "        temp1 = temp1.next\n",
    "        i += 1\n",
    "    newhead = temp1.next\n",
    "    temp1.next = None\n",
    "    temp.next = head\n",
    "    return newhead"
   ]
  },
  {
   "cell_type": "code",
   "execution_count": null,
   "metadata": {},
   "outputs": [],
   "source": []
  }
 ],
 "metadata": {
  "kernelspec": {
   "display_name": "Python 3",
   "language": "python",
   "name": "python3"
  },
  "language_info": {
   "codemirror_mode": {
    "name": "ipython",
    "version": 3
   },
   "file_extension": ".py",
   "mimetype": "text/x-python",
   "name": "python",
   "nbconvert_exporter": "python",
   "pygments_lexer": "ipython3",
   "version": "3.8.3"
  }
 },
 "nbformat": 4,
 "nbformat_minor": 4
}

{
 "cells": [
  {
   "cell_type": "markdown",
   "metadata": {},
   "source": [
    "## Problem: Max Path Sum in Binary Tree\n",
    "\n",
    "Write a function that takes in a Binary Tree and returns its max path sum.\n",
    "A path is a collection of connected nodes in a tree, where no node is connected to more than two other\n",
    "nodes; a path sum is the sum of the values of the nodes in a particular path.\n",
    "Each BinaryTree node has an integer value , a left child node, and a right child node.\n",
    "Children nodes can either be BinaryTree nodes themselves or None / null .\n",
    "\n",
    "Example:\n",
    "tree = \n",
    "\n",
    "          1\n",
    "         /  \\\n",
    "         2    3\n",
    "         / \\  / \\\n",
    "        4   5  6 7\n",
    "\n",
    "Output:\n",
    "\n",
    "18 // 5 + 2 + 1 + 3 + 7"
   ]
  },
  {
   "cell_type": "code",
   "execution_count": 1,
   "metadata": {},
   "outputs": [],
   "source": [
    "def maxPathSum(tree):\n",
    "    # Write your code here.\n",
    "    _, maxsum = getMaxSum(tree)\n",
    "    return maxsum\n",
    "\n",
    "def getMaxSum(tree):\n",
    "    if tree is None:\n",
    "        return (float('-inf'), float('-inf'))\n",
    "    leftMaxSumBranch, leftMax = getMaxSum(tree.left)\n",
    "    rightMaxSumBranch, rightMax = getMaxSum(tree.right)\n",
    "    childMaxSum = max(leftMaxSumBranch,rightMaxSumBranch)\n",
    "    value = tree.value\n",
    "    maxSumAsBranch = max(childMaxSum + value, value)\n",
    "    maxSumAtRoot = max(leftMaxSumBranch + value + rightMaxSumBranch, maxSumAsBranch)\n",
    "    maxPathSum = max(maxSumAtRoot, leftMax, rightMax)\n",
    "    return(maxSumAsBranch, maxPathSum)"
   ]
  },
  {
   "cell_type": "code",
   "execution_count": null,
   "metadata": {},
   "outputs": [],
   "source": []
  }
 ],
 "metadata": {
  "kernelspec": {
   "display_name": "Python 3",
   "language": "python",
   "name": "python3"
  },
  "language_info": {
   "codemirror_mode": {
    "name": "ipython",
    "version": 3
   },
   "file_extension": ".py",
   "mimetype": "text/x-python",
   "name": "python",
   "nbconvert_exporter": "python",
   "pygments_lexer": "ipython3",
   "version": "3.8.3"
  }
 },
 "nbformat": 4,
 "nbformat_minor": 4
}

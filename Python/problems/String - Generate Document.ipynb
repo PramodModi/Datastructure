{
 "cells": [
  {
   "cell_type": "markdown",
   "metadata": {},
   "source": [
    "## Problem:\n",
    "\n",
    "You're given a string of available characters and a string representing a document that you need to\n",
    "generate. Write a function that determines if you can generate the document using the available\n",
    "characters. If you can generate the document, your function should return true ; otherwise, it should\n",
    "return false .\n",
    "You're only able to generate the document if the frequency of unique characters in the characters\n",
    "string is greater than or equal to the frequency of unique characters in the document string. For\n",
    "example, if you're given characters = \"abcabc\" and document = \"aabbccc\" you cannot\n",
    "generate the document because you're missing one c .\n",
    "The document that you need to create may contain any characters, including special characters, capital\n",
    "letters, numbers, and spaces.\n",
    "Note: you can always generate the empty string ( \"\" ).\n",
    "\n",
    "Example:\n",
    "\n",
    "characters = \"Bste!hetsi ogEAxpelrt x \"\n",
    "\n",
    "document = \"AlgoExpert is the Best!\"\n",
    "\n",
    "Output:\n",
    "true"
   ]
  },
  {
   "cell_type": "code",
   "execution_count": 1,
   "metadata": {},
   "outputs": [],
   "source": [
    "def generateDocument(characters, document):\n",
    "    # Write your code here.\n",
    "    temp = {}\n",
    "\n",
    "    for c in characters:\n",
    "        temp[c] = temp.get(c,0)+1\n",
    "\n",
    "    for d in document:\n",
    "        if d not in temp or temp[d] == 0:\n",
    "            return False\n",
    "        temp[d] = temp[d] - 1\n",
    "\n",
    "\n",
    "    return True"
   ]
  },
  {
   "cell_type": "code",
   "execution_count": 2,
   "metadata": {},
   "outputs": [
    {
     "data": {
      "text/plain": [
       "True"
      ]
     },
     "execution_count": 2,
     "metadata": {},
     "output_type": "execute_result"
    }
   ],
   "source": [
    "characters = \"Bste!hetsi ogEAxpelrt x \"\n",
    "document = \"AlgoExpert is the Best!\"\n",
    "generateDocument(characters, document)"
   ]
  },
  {
   "cell_type": "code",
   "execution_count": null,
   "metadata": {},
   "outputs": [],
   "source": []
  }
 ],
 "metadata": {
  "kernelspec": {
   "display_name": "Python 3",
   "language": "python",
   "name": "python3"
  },
  "language_info": {
   "codemirror_mode": {
    "name": "ipython",
    "version": 3
   },
   "file_extension": ".py",
   "mimetype": "text/x-python",
   "name": "python",
   "nbconvert_exporter": "python",
   "pygments_lexer": "ipython3",
   "version": "3.8.3"
  }
 },
 "nbformat": 4,
 "nbformat_minor": 4
}

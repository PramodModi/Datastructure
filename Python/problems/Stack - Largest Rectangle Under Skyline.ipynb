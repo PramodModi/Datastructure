{
 "cells": [
  {
   "cell_type": "markdown",
   "metadata": {},
   "source": [
    "## Problem:\n",
    "\n",
    "Write a function that takes in an array of positive integers representing the heights of adjacent\n",
    "buildings and returns the area of the largest rectangle that can be created by any number of adjacent\n",
    "buildings, including just one building. Note that all buildings have the same width of 1 unit.\n",
    "For example, given buildings = [2, 1, 2] , the area of the largest rectangle that can be created is\n",
    "3 , using all three buildings. Since the minimum height of the three buildings is 1 , you can create a\n",
    "rectangle that has a height of 1 and a width of 3 (the number of buildings). You could also create\n",
    "rectangles of area 2 by using only the first building or the last building, but these clearly wouldn't be\n",
    "the largest rectangles. Similarly, you could create rectangles of area 2 by using the first and second\n",
    "building or the second and third building.\n",
    "To clarify, the width of a created rectangle is the number of buildings used to create the rectangle, and\n",
    "its height is the height of the smallest building used to create it.\n",
    "Note that if no rectangles can be created, your function should return 0 .\n",
    "\n",
    "Example:\n",
    "\n",
    "buildings = [1, 3, 3, 2, 4, 1, 5, 3, 2]\n",
    "\n",
    "Output:\n",
    "9\n",
    "\n",
    "// Below is a visual representation of the sample input.\n",
    "\n",
    "    //              _\n",
    "    //          _  | |\n",
    "    //    _ _  | | | |_\n",
    "    //   | | |_| | | | |_\n",
    "    //  _| | | | |_| | | |\n",
    "    // |_|_|_|_|_|_|_|_|_|"
   ]
  },
  {
   "cell_type": "code",
   "execution_count": 5,
   "metadata": {},
   "outputs": [],
   "source": [
    "def largestRectangleUnderSkyline(buildings):\n",
    "    # Write your code here.\n",
    "    indices = []\n",
    "    maxArea = 0\n",
    "\n",
    "    for idx, height in enumerate(buildings + [0]):\n",
    "        \n",
    "        while len(indices) and buildings[indices[-1]] >= height:\n",
    "            pillarHeight = buildings[indices.pop()]\n",
    "            width = idx if len(indices) == 0 else idx - indices[-1]-1\n",
    "            maxArea = max(maxArea, pillarHeight * width)\n",
    "        indices.append(idx)\n",
    "    return maxArea"
   ]
  },
  {
   "cell_type": "code",
   "execution_count": 6,
   "metadata": {},
   "outputs": [
    {
     "data": {
      "text/plain": [
       "9"
      ]
     },
     "execution_count": 6,
     "metadata": {},
     "output_type": "execute_result"
    }
   ],
   "source": [
    "buildings = [1, 3, 3, 2, 4, 1, 5, 3, 2]\n",
    "largestRectangleUnderSkyline(buildings)"
   ]
  },
  {
   "cell_type": "code",
   "execution_count": null,
   "metadata": {},
   "outputs": [],
   "source": []
  }
 ],
 "metadata": {
  "kernelspec": {
   "display_name": "Python 3",
   "language": "python",
   "name": "python3"
  },
  "language_info": {
   "codemirror_mode": {
    "name": "ipython",
    "version": 3
   },
   "file_extension": ".py",
   "mimetype": "text/x-python",
   "name": "python",
   "nbconvert_exporter": "python",
   "pygments_lexer": "ipython3",
   "version": "3.8.3"
  }
 },
 "nbformat": 4,
 "nbformat_minor": 4
}

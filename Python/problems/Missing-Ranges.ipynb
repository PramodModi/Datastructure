{
 "cells": [
  {
   "cell_type": "markdown",
   "id": "303f4c5f-2876-4167-afbb-b24f0a4e1186",
   "metadata": {},
   "source": [
    "## Problem: Missing Ranges\n",
    "\n",
    "LeetCode: 163\n",
    "Given a sorted integer array nums, where the range of elements are in the inclusive range [lower, upper], return its missing ranges.\n",
    "\n",
    "Example1:\n",
    "\n",
    "    Input: nums = [0, 1, 3, 50, 75], \n",
    "    lower = 0 and upper = 99,\n",
    "    Output: [[2, 2], [4, 49], [51, 74], [76, 99]]\n",
    "\n",
    "Example2:\n",
    "\n",
    "    Input: nums = [7,28,63], \n",
    "    lower = 0 and upper = 99,\n",
    "    Output: [[0, 6], [8, 27], [29, 62], [64, 99]]"
   ]
  },
  {
   "cell_type": "code",
   "execution_count": 3,
   "id": "455d5cf4-5393-4982-b7f2-b580f061f38a",
   "metadata": {},
   "outputs": [],
   "source": [
    "def findMissingRanges(nums, lower, upper):\n",
    "    n = len(nums)\n",
    "    if n == 0:\n",
    "        return [lower, upper]\n",
    "\n",
    "    missing_ranges = []\n",
    "    if nums[0] > lower:\n",
    "        missing_ranges.append([lower, nums[0]-1])\n",
    "    for i in range(1, n):\n",
    "        if nums[i] - nums[i-1] > 1:\n",
    "            missing_ranges.append([nums[i-1]+1, nums[i]-1])\n",
    "    if nums[n-1] < upper:\n",
    "        missing_ranges.append([nums[n-1]+1, upper])\n",
    "    return missing_ranges"
   ]
  },
  {
   "cell_type": "code",
   "execution_count": 5,
   "id": "5882e097-4de6-4223-b3de-c7f96da0832e",
   "metadata": {},
   "outputs": [
    {
     "data": {
      "text/plain": [
       "[[2, 2], [4, 49], [51, 74], [76, 99]]"
      ]
     },
     "execution_count": 5,
     "metadata": {},
     "output_type": "execute_result"
    }
   ],
   "source": [
    "nums = [0, 1, 3, 50, 75] \n",
    "lower = 0\n",
    "upper = 99\n",
    "findMissingRanges(nums, lower, upper)"
   ]
  },
  {
   "cell_type": "code",
   "execution_count": 7,
   "id": "59b19a0f-8ce3-4ec7-b64b-1636c5a3d5ea",
   "metadata": {},
   "outputs": [
    {
     "data": {
      "text/plain": [
       "[[0, 6], [8, 27], [29, 62], [64, 99]]"
      ]
     },
     "execution_count": 7,
     "metadata": {},
     "output_type": "execute_result"
    }
   ],
   "source": [
    "nums = [7,28,63]\n",
    "lower = 0\n",
    "upper = 99\n",
    "findMissingRanges(nums, lower, upper)"
   ]
  },
  {
   "cell_type": "code",
   "execution_count": null,
   "id": "37efa59e-6259-41ac-93ba-100c4760f279",
   "metadata": {},
   "outputs": [],
   "source": []
  }
 ],
 "metadata": {
  "kernelspec": {
   "display_name": "Python 3 (ipykernel)",
   "language": "python",
   "name": "python3"
  },
  "language_info": {
   "codemirror_mode": {
    "name": "ipython",
    "version": 3
   },
   "file_extension": ".py",
   "mimetype": "text/x-python",
   "name": "python",
   "nbconvert_exporter": "python",
   "pygments_lexer": "ipython3",
   "version": "3.12.7"
  }
 },
 "nbformat": 4,
 "nbformat_minor": 5
}

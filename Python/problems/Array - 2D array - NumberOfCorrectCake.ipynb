{
 "cells": [
  {
   "cell_type": "markdown",
   "metadata": {},
   "source": [
    "## Problem\n",
    "\n",
    "Input : \n",
    "1. N = Number of cakes \n",
    "2. K = number of layers in each cake\n",
    "3. A and B are arrays and reprsents the cacke numbers (start and end) on which layers has be applied.\n",
    "4. C is array and having number of layers\n",
    "A, B and C tells, apply C[j] number of layers on cakes starting from A[j] to B[j]\n",
    "\n",
    "Condition:\n",
    "1. Correct cakes are those which are having strictly K number of layers and in ascending order. That means if K is 3, then each cake must have layer 1,2 and 3.\n",
    "\n",
    "Output: Return the number of correct cakes.\n",
    "\n",
    "Example:\n",
    "\n",
    "Input:\n",
    "N = 5\n",
    "K = 3\n",
    "A = [1, 1, 4, 1, 4]\n",
    "B = [5, 2, 5, 5, 4]\n",
    "C = [1, 2, 2, 3, 3]\n",
    "\n",
    "Output: 3\n",
    "\n",
    "3 cackes are correct.\n",
    "\n",
    "Look at given values:\n",
    "A[0] = 1, B[0] = 5 C[0] = 1 . Hence cacke 1 to cake 5 will have layer 1\n",
    "\n",
    "A[1] = 1, B[1] = 2, C[1] = 2. Hence cake 1 to cake 2 will have next layer 2\n",
    "\n",
    "A[2] = 4, B[2] = 5, C[2] = 2, Hence cake 4 to cacke 5 will have next layer 2\n",
    "\n",
    "A[3] = 1, B[3] = 5, C[3] = 3, Hence cake 1 to cake 5 will have next layer 3\n",
    "\n",
    "A[4] = 4, B[4] = 4, C[4] = 3, Hence cake 4 to cake 4 will have next layer 3\n",
    "\n",
    "\n",
    "Hence, cake 1, cake 2 and cake 4 will have layers 1,2 and 3. Hence correct answer is 3.\n",
    "\n"
   ]
  },
  {
   "cell_type": "code",
   "execution_count": 41,
   "metadata": {},
   "outputs": [],
   "source": [
    "def solution(N, K, A, B, C):\n",
    "    # write your code in Python 3.6\n",
    "    table = [[0 for j in range(len(A))] for i in range(N)]\n",
    "    for m in range(len(A)):\n",
    "        for l in range(A[m]-1, B[m]):\n",
    "            table[l][m] = C[m]\n",
    "    correct = 0\n",
    "    for n in range(len(table)):\n",
    "        layers = True \n",
    "        prev = 0\n",
    "        count = 0      \n",
    "        for i in range(0, len(A)-1):\n",
    "            if table[n][i] != 0:\n",
    "                prev = table[n][i]\n",
    "                \n",
    "            if table[n][i+1] != 0:\n",
    "                count += 1\n",
    "            \n",
    "                if prev >= table[n][i+1]:\n",
    "                   \n",
    "                    layers = False\n",
    "                    break\n",
    "        \n",
    "        if layers == True and count == K-1:\n",
    "            correct += 1\n",
    "    return correct"
   ]
  },
  {
   "cell_type": "code",
   "execution_count": 42,
   "metadata": {},
   "outputs": [
    {
     "name": "stdout",
     "output_type": "stream",
     "text": [
      "3\n"
     ]
    }
   ],
   "source": [
    "N = 5\n",
    "K = 3\n",
    "A = [1, 1, 4, 1, 4]\n",
    "B = [5, 2, 5, 5, 4]\n",
    "C = [1, 2, 2, 3, 3]\n",
    "print(solution(N, K, A, B, C))"
   ]
  },
  {
   "cell_type": "code",
   "execution_count": 43,
   "metadata": {},
   "outputs": [
    {
     "name": "stdout",
     "output_type": "stream",
     "text": [
      "2\n"
     ]
    }
   ],
   "source": [
    "N = 6\n",
    "K = 4\n",
    "A = [1, 2, 1, 1]\n",
    "B = [3, 3, 6, 6]\n",
    "C = [1, 2, 3, 4]\n",
    "print(solution(N, K, A, B, C))"
   ]
  },
  {
   "cell_type": "code",
   "execution_count": null,
   "metadata": {},
   "outputs": [],
   "source": []
  }
 ],
 "metadata": {
  "kernelspec": {
   "display_name": "Python 3",
   "language": "python",
   "name": "python3"
  },
  "language_info": {
   "codemirror_mode": {
    "name": "ipython",
    "version": 3
   },
   "file_extension": ".py",
   "mimetype": "text/x-python",
   "name": "python",
   "nbconvert_exporter": "python",
   "pygments_lexer": "ipython3",
   "version": "3.8.3"
  }
 },
 "nbformat": 4,
 "nbformat_minor": 4
}

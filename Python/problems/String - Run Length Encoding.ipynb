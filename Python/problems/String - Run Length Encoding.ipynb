{
 "cells": [
  {
   "cell_type": "markdown",
   "metadata": {},
   "source": [
    "## Problem:\n",
    "\n",
    "Write a function that takes in a non-empty string and returns its run-length encoding.\n",
    "From Wikipedia, \"run-length encoding is a form of lossless data compression in which runs of data are\n",
    "stored as a single data value and count, rather than as the original run.\" For this problem, a run of data\n",
    "is any sequence of consecutive, identical characters. So the run \"AAA\" would be run-length-encoded\n",
    "as \"3A\" .\n",
    "To make things more complicated, however, the input string can contain all sorts of special characters,\n",
    "including numbers. And since encoded data must be decodable, this means that we can't naively runlength-encode long runs. For example, the run \"AAAAAAAAAAAA\" (12 A s), can't naively be encoded as\n",
    "\"12A\" , since this string can be decoded as either \"AAAAAAAAAAAA\" or \"1AA\" . Thus, long runs\n",
    "(runs of 10 or more characters) should be encoded in a split fashion; the aforementioned run should be\n",
    "encoded as \"9A3A\" .\n",
    "\n",
    "Example:\n",
    "    \n",
    "string = \"AAAAAAAAAAAAABBCCCCDD\"\n",
    "\n",
    "Output : \n",
    "\"9A4A2B4C2D\""
   ]
  },
  {
   "cell_type": "code",
   "execution_count": 2,
   "metadata": {},
   "outputs": [],
   "source": [
    "def runLengthEncoding(string):\n",
    "    # Write your code here.\n",
    "    currentLength = 1\n",
    "    result = []\n",
    "\n",
    "    for i in range(1, len(string)):\n",
    "        prev = string[i-1]\n",
    "        current = string[i]\n",
    "\n",
    "        if prev != current or currentLength == 9:\n",
    "            result.append(str(currentLength))\n",
    "            result.append(prev)\n",
    "            currentLength = 0\n",
    "        currentLength += 1\n",
    "\n",
    "    result.append(str(currentLength))\n",
    "    result.append(string[len(string)-1])\n",
    "    return \"\".join(result)"
   ]
  },
  {
   "cell_type": "code",
   "execution_count": 3,
   "metadata": {},
   "outputs": [
    {
     "data": {
      "text/plain": [
       "'9A4A2B4C2D'"
      ]
     },
     "execution_count": 3,
     "metadata": {},
     "output_type": "execute_result"
    }
   ],
   "source": [
    "string = \"AAAAAAAAAAAAABBCCCCDD\"\n",
    "runLengthEncoding(string)"
   ]
  },
  {
   "cell_type": "code",
   "execution_count": null,
   "metadata": {},
   "outputs": [],
   "source": []
  }
 ],
 "metadata": {
  "kernelspec": {
   "display_name": "Python 3",
   "language": "python",
   "name": "python3"
  },
  "language_info": {
   "codemirror_mode": {
    "name": "ipython",
    "version": 3
   },
   "file_extension": ".py",
   "mimetype": "text/x-python",
   "name": "python",
   "nbconvert_exporter": "python",
   "pygments_lexer": "ipython3",
   "version": "3.8.3"
  }
 },
 "nbformat": 4,
 "nbformat_minor": 4
}

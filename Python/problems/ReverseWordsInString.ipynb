{
 "cells": [
  {
   "cell_type": "code",
   "execution_count": 22,
   "metadata": {},
   "outputs": [],
   "source": [
    "def reverseWordsInString(string):\n",
    "    # Write your code here.\n",
    "    if len(string) == 0:\n",
    "        return string\n",
    "    words = []\n",
    "    word = []\n",
    "    for i in string:\n",
    "        if i == \" \":\n",
    "            print(word)\n",
    "            words.append(\"\".join(word))\n",
    "            word = []\n",
    "        else:\n",
    "            word.append(i)\n",
    "    words.append(\"\".join(word))\n",
    "    print(words)\n",
    "    \n",
    "    result = \"\"\n",
    "    for i in reversed(range(len(words))):\n",
    "        result += words[i]\n",
    "        if i != 0:\n",
    "            result += \" \"\n",
    "\n",
    "    return result"
   ]
  },
  {
   "cell_type": "code",
   "execution_count": 27,
   "metadata": {},
   "outputs": [
    {
     "name": "stdout",
     "output_type": "stream",
     "text": [
      "['a', 'l', 'g', 'o']\n",
      "['i', 's']\n",
      "['t', 'h', 'e']\n",
      "['b', 'e', 's', 't', '!']\n",
      "[]\n",
      "[]\n",
      "[]\n",
      "['algo', 'is', 'the', 'best!', '', '', '', '']\n"
     ]
    },
    {
     "data": {
      "text/plain": [
       "'    best! the is algo'"
      ]
     },
     "execution_count": 27,
     "metadata": {},
     "output_type": "execute_result"
    }
   ],
   "source": [
    "reverseWordsInString(\"algo is the best!    \")"
   ]
  },
  {
   "cell_type": "code",
   "execution_count": null,
   "metadata": {},
   "outputs": [],
   "source": []
  },
  {
   "cell_type": "code",
   "execution_count": null,
   "metadata": {},
   "outputs": [],
   "source": []
  }
 ],
 "metadata": {
  "kernelspec": {
   "display_name": "Python 3",
   "language": "python",
   "name": "python3"
  },
  "language_info": {
   "codemirror_mode": {
    "name": "ipython",
    "version": 3
   },
   "file_extension": ".py",
   "mimetype": "text/x-python",
   "name": "python",
   "nbconvert_exporter": "python",
   "pygments_lexer": "ipython3",
   "version": "3.8.3"
  }
 },
 "nbformat": 4,
 "nbformat_minor": 4
}

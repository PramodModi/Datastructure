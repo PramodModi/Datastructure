{
 "cells": [
  {
   "cell_type": "markdown",
   "metadata": {},
   "source": [
    "## Problem: Inorder Traversal Iterative\n",
    "\n",
    "Write a function that takes in a Binary Tree (where nodes have an additional pointer to their parent\n",
    "node) and traverses it iteratively using the in-order tree-traversal technique; the traversal should\n",
    "specifically not use recursion. As the tree is being traversed, a callback function passed in as an\n",
    "argument to the main function should be called on each node (i.e., callback(currentNode) ).\n",
    "Each BinaryTree node has an integer value , a parent node, a left child node, and a\n",
    "right child node. Children nodes can either be BinaryTree nodes themselves or None / null .\n",
    "\n",
    "Example:\n",
    "tree = \n",
    "\n",
    "            1\n",
    "           / \\\n",
    "          2   3\n",
    "         /   / \\\n",
    "        4    6  7\n",
    "         \\\n",
    "         9\n",
    "         \n",
    "callback = someCallback\n",
    "\n",
    "Output:\n",
    "\n",
    "// The input callback will have been called in the following order:\n",
    "\n",
    "callback(4)\n",
    "\n",
    "callback(9)\n",
    "\n",
    "callback(2)\n",
    "\n",
    "callback(1)\n",
    "\n",
    "callback(6)\n",
    "\n",
    "callback(3)\n",
    "\n",
    "callback(7)"
   ]
  },
  {
   "cell_type": "code",
   "execution_count": 1,
   "metadata": {},
   "outputs": [],
   "source": [
    "# O(n) time | O(1) space\n",
    "\n",
    "def iterativeInOrderTraversal(tree, callback):\n",
    "    prevNode = None\n",
    "    currentNode = tree\n",
    "    \n",
    "    while currentNode is not None:\n",
    "        if prevnode is None or prevNode == currentNode.parent:\n",
    "            if currentNode.left:\n",
    "                nextNode = currentNode.left\n",
    "            else:\n",
    "                callback(currentNode)\n",
    "                nextNode = currentNode.right if currentNode.right else currentNode.parent\n",
    "        elif prevNode == currentNode.left:\n",
    "            callback(currentNode)\n",
    "            nextNode = currentNode.right if currentNode.right else currentNode.parent\n",
    "        else:\n",
    "            nextNode = currentNode.parent\n",
    "        prevNode = currentNode\n",
    "        currentNode = nextNode"
   ]
  },
  {
   "cell_type": "code",
   "execution_count": null,
   "metadata": {},
   "outputs": [],
   "source": []
  }
 ],
 "metadata": {
  "kernelspec": {
   "display_name": "Python 3",
   "language": "python",
   "name": "python3"
  },
  "language_info": {
   "codemirror_mode": {
    "name": "ipython",
    "version": 3
   },
   "file_extension": ".py",
   "mimetype": "text/x-python",
   "name": "python",
   "nbconvert_exporter": "python",
   "pygments_lexer": "ipython3",
   "version": "3.8.3"
  }
 },
 "nbformat": 4,
 "nbformat_minor": 4
}

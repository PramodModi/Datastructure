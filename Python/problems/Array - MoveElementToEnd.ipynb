{
 "cells": [
  {
   "cell_type": "markdown",
   "metadata": {},
   "source": [
    "## Problem:\n",
    "You're given an array of integers and an integer. Write a function that moves all instances of that integer\n",
    "in the array to the end of the array and returns the array.\n",
    "The function should perform this in place (i.e., it should mutate the input array) and doesn't need to\n",
    "maintain the order of the other integers.\n",
    "\n",
    "Example:\n",
    "\n",
    "array = [2, 1, 2, 2, 2, 3, 4, 2]\n",
    "\n",
    "toMove = 2\n",
    "\n",
    "Output:\n",
    "[1, 3, 4, 2, 2, 2, 2, 2] // The numbers 1,3 and 4 could be ordered differently"
   ]
  },
  {
   "cell_type": "code",
   "execution_count": 1,
   "metadata": {},
   "outputs": [],
   "source": [
    "def moveElementToEnd(array, toMove):\n",
    "    i = 0\n",
    "    j = 0\n",
    "    count = 0\n",
    "    while (i < len(array)):\n",
    "        if(array[i] == toMove):\n",
    "            count += 1\n",
    "            i += 1\n",
    "        elif count > 0:\n",
    "            array[j] = array[i]\n",
    "            j += 1\n",
    "            i += 1\n",
    "        else:\n",
    "            i += 1\n",
    "            j += 1\n",
    "    while(j < len(array)):\n",
    "        array[j] = toMove\n",
    "        j += 1\n",
    "    return array"
   ]
  },
  {
   "cell_type": "code",
   "execution_count": 2,
   "metadata": {},
   "outputs": [
    {
     "name": "stdout",
     "output_type": "stream",
     "text": [
      "[1, 3, 4, 2, 2, 2, 2, 2]\n"
     ]
    }
   ],
   "source": [
    "array= [2, 1, 2, 2, 2, 3, 4, 2]\n",
    "toMove = 2\n",
    "print(moveElementToEnd(array, toMove))"
   ]
  },
  {
   "cell_type": "code",
   "execution_count": 3,
   "metadata": {},
   "outputs": [],
   "source": [
    "def moveElementToEnd(array, toMove):\n",
    "    i = 0\n",
    "    j = len(array)-1\n",
    "    while i < j:\n",
    "        if(array[i] == toMove):\n",
    "            while i< j and array[j] == toMove:\n",
    "                j -= 1\n",
    "            if array[j] != toMove:\n",
    "                array[i], array[j] = array[j], array[i]\n",
    "                i = i+1\n",
    "                j = j -1\n",
    "        else:\n",
    "            i += 1\n",
    "\n",
    "\n",
    "    return array"
   ]
  },
  {
   "cell_type": "code",
   "execution_count": 4,
   "metadata": {},
   "outputs": [
    {
     "name": "stdout",
     "output_type": "stream",
     "text": [
      "[4, 1, 3, 2, 2, 2, 2, 2]\n"
     ]
    }
   ],
   "source": [
    "array= [2, 1, 2, 2, 2, 3, 4, 2]\n",
    "toMove = 2\n",
    "print(moveElementToEnd(array, toMove))"
   ]
  },
  {
   "cell_type": "code",
   "execution_count": null,
   "metadata": {},
   "outputs": [],
   "source": []
  }
 ],
 "metadata": {
  "kernelspec": {
   "display_name": "Python 3",
   "language": "python",
   "name": "python3"
  },
  "language_info": {
   "codemirror_mode": {
    "name": "ipython",
    "version": 3
   },
   "file_extension": ".py",
   "mimetype": "text/x-python",
   "name": "python",
   "nbconvert_exporter": "python",
   "pygments_lexer": "ipython3",
   "version": "3.8.3"
  }
 },
 "nbformat": 4,
 "nbformat_minor": 4
}

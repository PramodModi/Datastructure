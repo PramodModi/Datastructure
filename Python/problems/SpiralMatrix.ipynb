{
 "cells": [
  {
   "cell_type": "markdown",
   "metadata": {},
   "source": [
    "## Problem\n",
    "\n",
    "Given number n, create matrix of size nxn. Fill the matrix in spiral order. \n",
    "Example: n = 3\n",
    "Output should be:<br>\n",
    "[[1, 2, 3], <br>\n",
    "[8, 9, 4], <br>\n",
    "[7, 6, 5]\n",
    "]"
   ]
  },
  {
   "cell_type": "code",
   "execution_count": 23,
   "metadata": {},
   "outputs": [],
   "source": [
    "def printMatrix(n):\n",
    "    array = list([i for i in range(1,n*n +1)])\n",
    "    matrix = [ [ 0 for i in range(n) ] for j in range(n) ]\n",
    "    \n",
    "    startRow = 0\n",
    "    endRow = len(matrix)-1\n",
    "    startCol = 0\n",
    "    endCol = len(matrix[0]) -1\n",
    "    index = 0\n",
    "    \n",
    "    while startRow <= endRow and startCol <= endCol :\n",
    "        for col in range(startCol, endCol+1):\n",
    "            matrix[startRow][col] = array[index]\n",
    "            index += 1\n",
    "        for row in range(startRow + 1, endCol+1):\n",
    "            matrix[row][endCol] = array[index]\n",
    "            index += 1\n",
    "        \n",
    "        for col in reversed(range(startCol, endCol)):\n",
    "            matrix[endRow][col] = array[index]\n",
    "            index += 1\n",
    "        for row in reversed(range(startRow + 1, endRow)):\n",
    "            matrix[row][startCol] = array[index]\n",
    "            index += 1\n",
    "        \n",
    "        if index == len(array):\n",
    "            break\n",
    "        startRow += 1\n",
    "        endRow -= 1\n",
    "        startCol += 1\n",
    "        endCol -= 1\n",
    "        \n",
    "            \n",
    "    return matrix"
   ]
  },
  {
   "cell_type": "code",
   "execution_count": 24,
   "metadata": {},
   "outputs": [
    {
     "name": "stdout",
     "output_type": "stream",
     "text": [
      "[[1, 2, 3], [8, 9, 4], [7, 6, 5]]\n"
     ]
    }
   ],
   "source": [
    "print(printMatrix(3))"
   ]
  },
  {
   "cell_type": "code",
   "execution_count": null,
   "metadata": {},
   "outputs": [],
   "source": []
  }
 ],
 "metadata": {
  "kernelspec": {
   "display_name": "Python 3",
   "language": "python",
   "name": "python3"
  },
  "language_info": {
   "codemirror_mode": {
    "name": "ipython",
    "version": 3
   },
   "file_extension": ".py",
   "mimetype": "text/x-python",
   "name": "python",
   "nbconvert_exporter": "python",
   "pygments_lexer": "ipython3",
   "version": "3.8.3"
  }
 },
 "nbformat": 4,
 "nbformat_minor": 4
}

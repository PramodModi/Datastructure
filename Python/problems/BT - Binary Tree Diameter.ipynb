{
 "cells": [
  {
   "cell_type": "markdown",
   "metadata": {},
   "source": [
    "## Problem: Binary Tree Diameter\n",
    "\n",
    "Write a function that takes in a Binary Tree and returns its diameter. The diameter of a binary tree is\n",
    "defined as the length of its longest path, even if that path doesn't pass through the root of the tree.\n",
    "A path is a collection of connected nodes in a tree, where no node is connected to more than two other\n",
    "nodes. The length of a path is the number of edges between the path's first node and its last node.\n",
    "Each BinaryTree node has an integer value , a left child node, and a right child node.\n",
    "Children nodes can either be BinaryTree nodes themselves or None / null .\n",
    "\n",
    "Example:\n",
    "\n",
    "tree = \n",
    "\n",
    "          1\n",
    "         /  \\\n",
    "         3   2\n",
    "        / \\\n",
    "       7   4\n",
    "      /     \\\n",
    "      8      5\n",
    "     /        \\\n",
    "    9          6\n",
    "\n",
    "Sample Output\n",
    "6 // 9 -> 8 -> 7 -> 3 -> 4 -> 5 -> 6\n",
    "\n",
    "// There are 6 edges between the\n",
    "\n",
    "// first node and the last node\n",
    "\n",
    "// of this tree's longest path."
   ]
  },
  {
   "cell_type": "code",
   "execution_count": 2,
   "metadata": {},
   "outputs": [],
   "source": [
    "class BinaryTree:\n",
    "    def __init__(self, value, left=None, right=None):\n",
    "        self.value = value\n",
    "        self.left = left\n",
    "        self.right = right\n",
    "\n",
    "\n",
    "class TreeInfo:\n",
    "    def __init__(self, diameter, height):\n",
    "        self.diameter = diameter\n",
    "        self.height = height\n",
    "def binaryTreeDiameter(tree):\n",
    "    # Write your code here.\n",
    "\n",
    "    info = getTreeInfo(tree)\n",
    "    return info.diameter\n",
    "\n",
    "def getTreeInfo(tree):\n",
    "    if tree is None:\n",
    "        return TreeInfo(0,0)\n",
    "    leftinfo = getTreeInfo(tree.left)\n",
    "    rightinfo = getTreeInfo(tree.right)\n",
    "\n",
    "    diameter = max(leftinfo.diameter, rightinfo.diameter)\n",
    "    longestPath = leftinfo.height + rightinfo.height\n",
    "    diameter = max(diameter, longestPath)\n",
    "    height = 1 + max(leftinfo.height, rightinfo.height)\n",
    "\n",
    "    return TreeInfo(diameter,height)"
   ]
  },
  {
   "cell_type": "code",
   "execution_count": null,
   "metadata": {},
   "outputs": [],
   "source": []
  }
 ],
 "metadata": {
  "kernelspec": {
   "display_name": "Python 3",
   "language": "python",
   "name": "python3"
  },
  "language_info": {
   "codemirror_mode": {
    "name": "ipython",
    "version": 3
   },
   "file_extension": ".py",
   "mimetype": "text/x-python",
   "name": "python",
   "nbconvert_exporter": "python",
   "pygments_lexer": "ipython3",
   "version": "3.8.3"
  }
 },
 "nbformat": 4,
 "nbformat_minor": 4
}

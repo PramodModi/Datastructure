{
 "cells": [
  {
   "cell_type": "markdown",
   "metadata": {},
   "source": [
    "Complexity: \n",
    "best:O(nlogn) | time O(logn)\n",
    "average: O(nlogn) | time O(logn)\n",
    "Worst: O(n^2) | time O(logn)"
   ]
  },
  {
   "cell_type": "code",
   "execution_count": 17,
   "metadata": {},
   "outputs": [],
   "source": [
    "# Recursive\n",
    "def quickSort(array):\n",
    "    quickSortHelper(array, 0, len(array)-1)\n",
    "    return array\n",
    "def quickSortHelper(array, startIndex, endIndex):\n",
    "    if startIndex >= endIndex:\n",
    "        return\n",
    "    pivotIndex = startIndex\n",
    "    leftIndex = startIndex + 1\n",
    "    rightIndex = endIndex\n",
    "    \n",
    "    while leftIndex<= rightIndex:\n",
    "        \n",
    "        if array[leftIndex] > array[pivotIndex] and array[rightIndex] < array[pivotIndex]:\n",
    "            swap(leftIndex, rightIndex, array)\n",
    "        if array[leftIndex] <= array[pivotIndex]:\n",
    "            leftIndex += 1\n",
    "        if array[rightIndex] >= array[pivotIndex]:\n",
    "            rightIndex -= 1\n",
    "    swap(pivotIndex, rightIndex, array)\n",
    "    # for next iteration, first check the shorter sub array and do the recurssion call\n",
    "\t# to smaller one. There is chances, if you pick up bigger subarray, then it may take o(n)\n",
    "\t# space complexity or recurssion may stuck\n",
    "    isLeftSubArraySmaller = rightIndex-1-startIndex < endIndex - (rightIndex + 1)\n",
    "    if isLeftSubArraySmaller:\n",
    "        quickSortHelper(array, startIndex, rightIndex-1)\n",
    "        quickSortHelper(array, rightIndex+1, endIndex)\n",
    "    else:\n",
    "        quickSortHelper(array, rightIndex+1, endIndex)\n",
    "        quickSortHelper(array, startIndex, rightIndex-1)\n",
    "        \n",
    "def swap(index1, index2, array):\n",
    "    array[index1], array[index2] = array[index2], array[index1]"
   ]
  },
  {
   "cell_type": "code",
   "execution_count": 18,
   "metadata": {},
   "outputs": [
    {
     "data": {
      "text/plain": [
       "[2, 3, 5, 5, 6, 8, 9]"
      ]
     },
     "execution_count": 18,
     "metadata": {},
     "output_type": "execute_result"
    }
   ],
   "source": [
    "array = [8,5,2,9,5,6,3]\n",
    "quickSort(array)"
   ]
  },
  {
   "cell_type": "code",
   "execution_count": 19,
   "metadata": {},
   "outputs": [
    {
     "data": {
      "text/plain": [
       "[2, 3, 5, 6, 7, 8, 9]"
      ]
     },
     "execution_count": 19,
     "metadata": {},
     "output_type": "execute_result"
    }
   ],
   "source": [
    "array = [8,5,2,9,7,6,3]\n",
    "quickSort(array)"
   ]
  },
  {
   "cell_type": "code",
   "execution_count": null,
   "metadata": {},
   "outputs": [],
   "source": []
  }
 ],
 "metadata": {
  "kernelspec": {
   "display_name": "Python 3",
   "language": "python",
   "name": "python3"
  },
  "language_info": {
   "codemirror_mode": {
    "name": "ipython",
    "version": 3
   },
   "file_extension": ".py",
   "mimetype": "text/x-python",
   "name": "python",
   "nbconvert_exporter": "python",
   "pygments_lexer": "ipython3",
   "version": "3.8.3"
  }
 },
 "nbformat": 4,
 "nbformat_minor": 4
}

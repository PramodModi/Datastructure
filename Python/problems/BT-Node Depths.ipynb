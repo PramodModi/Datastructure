{
 "cells": [
  {
   "cell_type": "markdown",
   "metadata": {},
   "source": [
    "## Problem:  Node Depths\n",
    "The distance between a node in a Binary Tree and the tree's root is called the node's depth.\n",
    "Write a function that takes in a Binary Tree and returns the sum of its nodes' depths.\n",
    "Each BinaryTree node has an integer value , a left child node, and a right child node.\n",
    "Children nodes can either be BinaryTree nodes themselves or None / null .\n",
    "\n",
    "Example:\n",
    "    \n",
    "    tree =    1\n",
    "             / \\\n",
    "             2   3\n",
    "             / \\ / \\\n",
    "             4 5 6 7\n",
    "            / \\\n",
    "            8 9\n",
    "            \n",
    "output:\n",
    "\n",
    "    16\n",
    "// The depth of the node with value 2 is 1.\n",
    "\n",
    "// The depth of the node with value 3 is 1.\n",
    "\n",
    "// The depth of the node with value 4 is 2.\n",
    "\n",
    "// The depth of the node with value 5 is 2.\n",
    "\n",
    "// Etc..\n",
    "\n",
    "// Summing all of these depths yields 16."
   ]
  },
  {
   "cell_type": "code",
   "execution_count": 3,
   "metadata": {},
   "outputs": [],
   "source": [
    "def nodeDepths(root, depth =0):\n",
    "    # Write your code here.\n",
    "    if root is None:\n",
    "        return 0\n",
    "    return depth+nodeDepths(root.left, depth+1)  + nodeDepths(root.right, depth+1)\n",
    "\n",
    "\n",
    "# This is the class of the input binary tree.\n",
    "class BinaryTree:\n",
    "    def __init__(self, value):\n",
    "        self.value = value\n",
    "        self.left = None\n",
    "        self.right = None"
   ]
  },
  {
   "cell_type": "code",
   "execution_count": null,
   "metadata": {},
   "outputs": [],
   "source": []
  }
 ],
 "metadata": {
  "kernelspec": {
   "display_name": "Python 3",
   "language": "python",
   "name": "python3"
  },
  "language_info": {
   "codemirror_mode": {
    "name": "ipython",
    "version": 3
   },
   "file_extension": ".py",
   "mimetype": "text/x-python",
   "name": "python",
   "nbconvert_exporter": "python",
   "pygments_lexer": "ipython3",
   "version": "3.8.3"
  }
 },
 "nbformat": 4,
 "nbformat_minor": 4
}

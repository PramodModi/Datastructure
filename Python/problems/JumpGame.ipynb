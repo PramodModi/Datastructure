{
 "cells": [
  {
   "cell_type": "markdown",
   "metadata": {},
   "source": [
    "## Problem\n",
    "You are given an array of non-negative integers arr and a start index. When you are at an index i, you can move left or right by arr[i]. Your task is to figure out if you can reach value 0.\n",
    "\n",
    "Example:\n",
    "\n",
    "Input: arr = [3, 4, 2, 3, 0, 3, 1, 2, 1], start = 7\n",
    "Output: true\n",
    "Explanation: left -> left -> right\n"
   ]
  },
  {
   "cell_type": "code",
   "execution_count": 3,
   "metadata": {},
   "outputs": [],
   "source": [
    "def jumpGame(array, startIndex, target):\n",
    "    targetIndex = -1\n",
    "    for i in range(len(array)):\n",
    "        if target == array[i]:\n",
    "            targetIndex = i\n",
    "            break\n",
    "    if targetIndex == -1:\n",
    "        return False\n",
    "    reached = False\n",
    "    while startIndex< len(array) and startIndex>=0:\n",
    "        if targetIndex < startIndex:\n",
    "            startIndex -= array[startIndex]\n",
    "        elif targetIndex > startIndex:\n",
    "            startIndex += array[startIndex]\n",
    "        else:\n",
    "            reached = True\n",
    "            break\n",
    "    return reached\n",
    "            "
   ]
  },
  {
   "cell_type": "code",
   "execution_count": 4,
   "metadata": {},
   "outputs": [
    {
     "data": {
      "text/plain": [
       "True"
      ]
     },
     "execution_count": 4,
     "metadata": {},
     "output_type": "execute_result"
    }
   ],
   "source": [
    "array = [3,4,2,3,0,3,1,2,1]\n",
    "startIndex = 7\n",
    "target = 0\n",
    "jumpGame(array, startIndex, target)"
   ]
  },
  {
   "cell_type": "code",
   "execution_count": null,
   "metadata": {},
   "outputs": [],
   "source": []
  }
 ],
 "metadata": {
  "kernelspec": {
   "display_name": "Python 3",
   "language": "python",
   "name": "python3"
  },
  "language_info": {
   "codemirror_mode": {
    "name": "ipython",
    "version": 3
   },
   "file_extension": ".py",
   "mimetype": "text/x-python",
   "name": "python",
   "nbconvert_exporter": "python",
   "pygments_lexer": "ipython3",
   "version": "3.8.3"
  }
 },
 "nbformat": 4,
 "nbformat_minor": 4
}

{
 "cells": [
  {
   "cell_type": "markdown",
   "metadata": {},
   "source": [
    "## Problem:\n",
    "\n",
    "You're given an array of points plotted on a 2D graph (the xy-plane). Write a function that returns the\n",
    "minimum area of any rectangle that can be formed using any 4 of these points such that the\n",
    "rectangle's sides are parallel to the x and y axes (i.e., only rectangles with horizontal and vertical sides\n",
    "should be considered--no rectangles with diagonal sides). If no rectangle can be formed, your function\n",
    "should return 0 .\n",
    "The input array will contain points represented by arrays of two integers [x, y] . The input array will\n",
    "never contain duplicate points.\n",
    "\n",
    "Example:\n",
    "\n",
    "points =\n",
    "\n",
    "    [\n",
    "     [1, 5],\n",
    "     [5, 1],\n",
    "     [4, 2],\n",
    "     [2, 4],\n",
    "     [2, 2],\n",
    "     [1, 2],\n",
    "     [4, 5],\n",
    "     [2, 5],\n",
    "     [-1, -2],\n",
    "    ]\n",
    "\n",
    "Output:\n",
    "3\n",
    "\n",
    "// The rectangle with corners [1, 5], [2, 5], [1, 2], and [2, 2]\n",
    "\n",
    "// has the minimum area: 3."
   ]
  },
  {
   "cell_type": "code",
   "execution_count": 1,
   "metadata": {},
   "outputs": [],
   "source": [
    "def minimumAreaRectangle(points):\n",
    "    # Write your code here.\n",
    "    pointSet = createPointSet(points)\n",
    "    MinimumAreaFound = float(\"inf\")\n",
    "\n",
    "    for currentIdx, p2 in enumerate(points):\n",
    "        p2x, p2y = p2\n",
    "        for prevIdx in range(currentIdx):\n",
    "            p1x, p1y = points[prevIdx]\n",
    "\n",
    "            pointsShareValue = p1x==p2x or p1y == p2y\n",
    "\n",
    "            if pointsShareValue:\n",
    "                continue\n",
    "\n",
    "            # if (p1x, p2y) and (p2x nd p1y), exist we have found a rectangle\n",
    "            point1OnOppositeDiagonalExists = convertPointToString(p1x, p2y) in pointSet\n",
    "            point2OnOppositeDiagonalExists = convertPointToString(p2x, p1y) in pointSet\n",
    "\n",
    "            oppositDiagonalExists = point1OnOppositeDiagonalExists and point2OnOppositeDiagonalExists\n",
    "\n",
    "            if oppositDiagonalExists:\n",
    "                currentArea = abs(p2x -p1x) * abs(p2y -p1y)\n",
    "                MinimumAreaFound = min(MinimumAreaFound, currentArea)\n",
    "    return MinimumAreaFound if MinimumAreaFound != float(\"inf\") else 0\n",
    "\n",
    "def createPointSet(points):\n",
    "    pointSet = set()\n",
    "\n",
    "    for point in points:\n",
    "        x,y = point\n",
    "        pointString = convertPointToString(x,y)\n",
    "\n",
    "        pointSet.add(pointString)\n",
    "\n",
    "    return pointSet\n",
    "\n",
    "def convertPointToString(x,y):\n",
    "    return str(x) + \":\" + str(y)"
   ]
  },
  {
   "cell_type": "code",
   "execution_count": 3,
   "metadata": {},
   "outputs": [
    {
     "data": {
      "text/plain": [
       "3"
      ]
     },
     "execution_count": 3,
     "metadata": {},
     "output_type": "execute_result"
    }
   ],
   "source": [
    "points =[\n",
    " [1, 5],\n",
    " [5, 1],\n",
    " [4, 2],\n",
    " [2, 4],\n",
    " [2, 2],\n",
    " [1, 2],\n",
    " [4, 5],\n",
    " [2, 5],\n",
    " [-1, -2],\n",
    "]\n",
    "\n",
    "minimumAreaRectangle(points)"
   ]
  },
  {
   "cell_type": "code",
   "execution_count": 4,
   "metadata": {},
   "outputs": [],
   "source": [
    "def minimumAreaRectangle1(points):\n",
    "    keyset = set()\n",
    "    minimumArea = float(\"inf\")\n",
    "    for x, y in points:\n",
    "        key = createKey(x, y)\n",
    "        keyset.add(key)\n",
    "        \n",
    "    for x1, y1 in points:\n",
    "        for x2, y2 in points:\n",
    "            if x1 != x2 and y1 != y2:\n",
    "                key1 = createKey(x1, y2)\n",
    "                key2 = createKey(x2, y1)\n",
    "                if key1 in keyset and key2 in keyset:\n",
    "                    area = abs(x1-x2) * abs (y1-y2)\n",
    "                    minimumArea = min(minimumArea, area)\n",
    "    return minimumArea if minimumArea != float(\"inf\") else 0\n",
    "            \n",
    "def createKey(x, y):\n",
    "    return str(x) + \":\" +str(y)"
   ]
  },
  {
   "cell_type": "code",
   "execution_count": 5,
   "metadata": {},
   "outputs": [
    {
     "data": {
      "text/plain": [
       "3"
      ]
     },
     "execution_count": 5,
     "metadata": {},
     "output_type": "execute_result"
    }
   ],
   "source": [
    "points =[\n",
    " [1, 5],\n",
    " [5, 1],\n",
    " [4, 2],\n",
    " [2, 4],\n",
    " [2, 2],\n",
    " [1, 2],\n",
    " [4, 5],\n",
    " [2, 5],\n",
    " [-1, -2],\n",
    "]\n",
    "\n",
    "minimumAreaRectangle1(points)"
   ]
  },
  {
   "cell_type": "code",
   "execution_count": null,
   "metadata": {},
   "outputs": [],
   "source": []
  }
 ],
 "metadata": {
  "kernelspec": {
   "display_name": "Python 3",
   "language": "python",
   "name": "python3"
  },
  "language_info": {
   "codemirror_mode": {
    "name": "ipython",
    "version": 3
   },
   "file_extension": ".py",
   "mimetype": "text/x-python",
   "name": "python",
   "nbconvert_exporter": "python",
   "pygments_lexer": "ipython3",
   "version": "3.8.3"
  }
 },
 "nbformat": 4,
 "nbformat_minor": 4
}

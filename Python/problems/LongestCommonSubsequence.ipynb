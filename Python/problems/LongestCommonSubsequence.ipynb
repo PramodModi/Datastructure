{
 "cells": [
  {
   "cell_type": "markdown",
   "metadata": {},
   "source": [
    "## Problem:\n",
    "Given two strings str1 anfd str2, return the length of their longest common subseqence.\n",
    "If there is no common subsequence return 0.\n",
    "A subsequence in the string is a set of characters that are not necessarily adjascent in the string\n",
    " but that are in the same order as they are in the string.\n",
    "\n",
    "Example: \n",
    "    \n",
    "    str1 = abcd, str2 = acd\n",
    "    Output = 3\n",
    "    \n",
    "    str1 = abcd, str2 = bd\n",
    "    output = 2"
   ]
  },
  {
   "cell_type": "raw",
   "metadata": {},
   "source": [
    "Logic:\n",
    "Compare each element of strings. If element at position str2[i] and str1[j] are same then increase the previous count. if not same then there are two options. First skip ith element from string2 and compare or skip jth element from strin1 and compare and then store max length between these two.\n",
    "We will use dynamic programming to store the length common subsequence.\n",
    "    "
   ]
  },
  {
   "cell_type": "code",
   "execution_count": 60,
   "metadata": {},
   "outputs": [],
   "source": [
    "def longestCommonSubSequence(str1, str2):\n",
    "    # create a table to store length of common subsequence.\n",
    "    lcs = [[0 for j in range(len(str1)+1)] for i in range(len(str2) + 1) ]\n",
    "    for i in range(1, len(str2)+1):\n",
    "        for j in range(1,len(str1)+1):\n",
    "            if str2[i-1] == str1[j-1]:\n",
    "                lcs[i][j] = 1 + lcs[i-1][j-1]\n",
    "            else:\n",
    "                lcs[i][j] = max (lcs[i-1][j], lcs[i][j-1])\n",
    "    \n",
    "    \n",
    "    return lcs"
   ]
  },
  {
   "cell_type": "code",
   "execution_count": 61,
   "metadata": {},
   "outputs": [
    {
     "name": "stdout",
     "output_type": "stream",
     "text": [
      "Longest common subsequence =  3\n"
     ]
    }
   ],
   "source": [
    "str1 = \"abcd\"\n",
    "str2 = \"acd\"\n",
    "lcs  = longestCommonSubSequence(str1, str2)\n",
    "print(\"Longest common subsequence = \", lcs[len(str2)][len(str1)])"
   ]
  },
  {
   "cell_type": "markdown",
   "metadata": {},
   "source": [
    "## Print the common elements"
   ]
  },
  {
   "cell_type": "code",
   "execution_count": 62,
   "metadata": {},
   "outputs": [],
   "source": [
    "def printCommonElements(lcs, str1):\n",
    "    i = len(lcs)-1\n",
    "    j = len(lcs[0])-1\n",
    "    commonelements =[]\n",
    "    while i != 0 and j !=0:\n",
    "        if lcs[i][j] == lcs[i-1][j]:\n",
    "            i -= 1\n",
    "        elif lcs[i][j] == lcs[i][j-1]:\n",
    "            j -= 1\n",
    "        else:\n",
    "            commonelements.append(str1[j-1])\n",
    "            i -= 1\n",
    "            j -= 1\n",
    "    return(list(reversed(commonelements)))       "
   ]
  },
  {
   "cell_type": "code",
   "execution_count": 63,
   "metadata": {},
   "outputs": [
    {
     "data": {
      "text/plain": [
       "['a', 'c', 'd']"
      ]
     },
     "execution_count": 63,
     "metadata": {},
     "output_type": "execute_result"
    }
   ],
   "source": [
    "printCommonElements(lcs, str1)"
   ]
  },
  {
   "cell_type": "code",
   "execution_count": 64,
   "metadata": {},
   "outputs": [
    {
     "name": "stdout",
     "output_type": "stream",
     "text": [
      "Longest common subsequence =  4\n"
     ]
    },
    {
     "data": {
      "text/plain": [
       "['x', 'y', 'z', 'w']"
      ]
     },
     "execution_count": 64,
     "metadata": {},
     "output_type": "execute_result"
    }
   ],
   "source": [
    "str1 = \"zxvvyzw\"\n",
    "str2 = \"xkykzpw\"\n",
    "lcs  = longestCommonSubSequence(str1, str2)\n",
    "print(\"Longest common subsequence = \", lcs[len(str2)][len(str1)])\n",
    "printCommonElements(lcs, str1)"
   ]
  },
  {
   "cell_type": "code",
   "execution_count": 65,
   "metadata": {},
   "outputs": [
    {
     "name": "stdout",
     "output_type": "stream",
     "text": [
      "Longest common subsequence =  0\n"
     ]
    },
    {
     "data": {
      "text/plain": [
       "[]"
      ]
     },
     "execution_count": 65,
     "metadata": {},
     "output_type": "execute_result"
    }
   ],
   "source": [
    "str1 = \"abcde\"\n",
    "str2 = \"xky\"\n",
    "lcs  = longestCommonSubSequence(str1, str2)\n",
    "print(\"Longest common subsequence = \", lcs[len(str2)][len(str1)])\n",
    "printCommonElements(lcs, str1)"
   ]
  },
  {
   "cell_type": "code",
   "execution_count": null,
   "metadata": {},
   "outputs": [],
   "source": []
  }
 ],
 "metadata": {
  "kernelspec": {
   "display_name": "Python 3",
   "language": "python",
   "name": "python3"
  },
  "language_info": {
   "codemirror_mode": {
    "name": "ipython",
    "version": 3
   },
   "file_extension": ".py",
   "mimetype": "text/x-python",
   "name": "python",
   "nbconvert_exporter": "python",
   "pygments_lexer": "ipython3",
   "version": "3.8.3"
  }
 },
 "nbformat": 4,
 "nbformat_minor": 4
}

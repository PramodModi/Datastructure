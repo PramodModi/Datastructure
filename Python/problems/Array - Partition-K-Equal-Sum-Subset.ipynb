{
 "cells": [
  {
   "cell_type": "markdown",
   "metadata": {},
   "source": [
    "## Problem\n",
    "\n",
    "Given an integer array nums and an integer k, return true if it is possible to divide this array into k non-empty subsets whose sums are all equal.\n",
    "\n",
    "Example1:\n",
    "\n",
    "Input: nums = [4,3,2,3,5,2,1], k = 4\n",
    "\n",
    "Output: true\n",
    "\n",
    "Explanation: It's possible to divide it into 4 subsets (5), (1, 4), (2,3), (2,3) with equal sums.\n",
    "\n",
    "Example 2:\n",
    "\n",
    "Input: nums = [1,2,3,4], k = 3\n",
    "\n",
    "Output: false\n"
   ]
  },
  {
   "cell_type": "code",
   "execution_count": 1,
   "metadata": {},
   "outputs": [],
   "source": [
    "def canPartitionKSubsets(nums, k):\n",
    "    total = sum(nums)\n",
    "    if total % k != 0:\n",
    "        return False\n",
    "    if len(nums) < k:\n",
    "        return False\n",
    "    nums.sort(reverse = True)\n",
    "    target = total // k\n",
    "    print(\"Nums = \", nums)\n",
    "    print(\"Target = \", target)\n",
    "    bucket =[0]*k\n",
    "    i = 0\n",
    "    count = 0\n",
    "    while i< len(nums):\n",
    "        j = 0\n",
    "        while j < k:\n",
    "            if nums[i] + bucket[j] <= target:\n",
    "                bucket[j] += nums[i]\n",
    "                count += 1\n",
    "                break\n",
    "            else:\n",
    "                j += 1\n",
    "        print(bucket)\n",
    "        i += 1\n",
    "    return True if count == len(nums) else False"
   ]
  },
  {
   "cell_type": "code",
   "execution_count": 2,
   "metadata": {},
   "outputs": [
    {
     "name": "stdout",
     "output_type": "stream",
     "text": [
      "Nums =  [5, 4, 3, 3, 2, 2, 1]\n",
      "Target =  5\n",
      "[5, 0, 0, 0]\n",
      "[5, 4, 0, 0]\n",
      "[5, 4, 3, 0]\n",
      "[5, 4, 3, 3]\n",
      "[5, 4, 5, 3]\n",
      "[5, 4, 5, 5]\n",
      "[5, 5, 5, 5]\n"
     ]
    },
    {
     "data": {
      "text/plain": [
       "True"
      ]
     },
     "execution_count": 2,
     "metadata": {},
     "output_type": "execute_result"
    }
   ],
   "source": [
    "nums = [4,3,2,3,5,2,1]\n",
    "k = 4\n",
    "canPartitionKSubsets(nums, k)"
   ]
  },
  {
   "cell_type": "code",
   "execution_count": 25,
   "metadata": {},
   "outputs": [
    {
     "data": {
      "text/plain": [
       "False"
      ]
     },
     "execution_count": 25,
     "metadata": {},
     "output_type": "execute_result"
    }
   ],
   "source": [
    "nums = [1,2,3,4]\n",
    "k = 3\n",
    "canPartitionKSubsets(nums, k)"
   ]
  },
  {
   "cell_type": "code",
   "execution_count": 26,
   "metadata": {},
   "outputs": [
    {
     "data": {
      "text/plain": [
       "True"
      ]
     },
     "execution_count": 26,
     "metadata": {},
     "output_type": "execute_result"
    }
   ],
   "source": [
    "nums = [1,1,1,1,2,2,2,2]\n",
    "k = 4\n",
    "canPartitionKSubsets(nums, k)"
   ]
  },
  {
   "cell_type": "code",
   "execution_count": 35,
   "metadata": {},
   "outputs": [
    {
     "name": "stdout",
     "output_type": "stream",
     "text": [
      "Nums =  [4037, 3871, 3522, 2646, 2512, 1932, 922, 521, 515, 407, 312, 304, 269, 181, 146, 123]\n",
      "Target =  4444\n",
      "[4037, 0, 0, 0, 0]\n",
      "[4037, 3871, 0, 0, 0]\n",
      "[4037, 3871, 3522, 0, 0]\n",
      "[4037, 3871, 3522, 2646, 0]\n",
      "[4037, 3871, 3522, 2646, 2512]\n",
      "[4037, 3871, 3522, 2646, 4444]\n",
      "[4037, 3871, 4444, 2646, 4444]\n",
      "[4037, 4392, 4444, 2646, 4444]\n",
      "[4037, 4392, 4444, 3161, 4444]\n",
      "[4444, 4392, 4444, 3161, 4444]\n",
      "[4444, 4392, 4444, 3473, 4444]\n",
      "[4444, 4392, 4444, 3777, 4444]\n",
      "[4444, 4392, 4444, 4046, 4444]\n",
      "[4444, 4392, 4444, 4227, 4444]\n",
      "[4444, 4392, 4444, 4373, 4444]\n",
      "[4444, 4392, 4444, 4373, 4444]\n"
     ]
    },
    {
     "data": {
      "text/plain": [
       "False"
      ]
     },
     "execution_count": 35,
     "metadata": {},
     "output_type": "execute_result"
    }
   ],
   "source": [
    "nums = [3522,181,521,515,304,123,2512,312,922,407,146,1932,4037,2646,3871,269]\n",
    "k = 5\n",
    "canPartitionKSubsets(nums, k)"
   ]
  },
  {
   "cell_type": "markdown",
   "metadata": {},
   "source": [
    "### Understanding Bitmask\n",
    "\n",
    "Let's first try to understand what Bitmask means. Mask in Bitmask means hiding something. Bitmask is nothing but a binary number that represents something. Let's take an example.\n",
    "\n",
    "Consider the set A {1,2,3,4,5}. We can represent any subset of A using a bitmask of length 5, with an assumption that if ith (0<=i<=4) bit is set then it means ith element is present in subset. So the bitmask 01010 represents the subset {2,4}.\n",
    "\n",
    "Now the benefit of using bitmask. We can set the ith bit, unset the ith bit, check if ith bit is set in just one step each. Let's say the bitmask, b = 01010.\n",
    "\n",
    "Set the ith bit: b(1<<i). Let i=0, so,\n",
    "(1<<i) = 00001\n",
    "01010 | 00001 = 01011\n",
    "\n",
    "So now the subset includes the 0th element also, so the subset is {1,2,4}.\n",
    "\n",
    "Unset the ith bit: b & !(1<<i). Let i=1, so,\n",
    "(1<<i) = 00010\n",
    "!(1<<i) = 11101\n",
    "01010 & 11101 = 01000\n",
    "\n",
    "Now the subset does not include the 1st element, so the subset is {4}.\n",
    "\n",
    "Check if ith bit is set: b&(1<<i), doing this operation, if ith bit is set, we get a non zero integer otherwise, we get zero. Let i = 3\n",
    "(1<<i) = 01000\n",
    "01010 & 01000 = 01000\n",
    "\n",
    "Clearly the result is non-zero, so that means 3rd element is present in the subset.\n",
    "\n"
   ]
  },
  {
   "cell_type": "markdown",
   "metadata": {},
   "source": [
    "### Approach\n",
    "\n",
    "Now coming to our problem, we can represent each number and sum in binary.\n",
    "We'll use dynamic programming to find whether the array can be partitioned into k subsets of equal sum. For this, we create two arrays of\n",
    "size = power set of array elements. why?\n",
    "\n",
    "because, we need to consider all sum subsets.\n",
    "dp[i] indicates whether array of length i can partitioned into k subsets of equal sum. Using this technique, the last index of this dp array\n",
    "will tell whether the whole array can be partitioned into k subsets of equal sum.\n",
    "\n",
    "total[i] stores the sum of subset with sum less than equal to target sum (total sum/k why? because we need to split array into k subset)."
   ]
  },
  {
   "cell_type": "code",
   "execution_count": 38,
   "metadata": {},
   "outputs": [],
   "source": [
    "def canPartitionKSubsets1(nums, k):\n",
    "    sums = sum(nums)\n",
    "    if sums % k != 0:\n",
    "        return False\n",
    "    n = len(nums)\n",
    "    \n",
    "    if n < k:\n",
    "        return False\n",
    "    \n",
    "    nums.sort()\n",
    "    sums /= k\n",
    "    \n",
    "    if nums[n-1] > sums:\n",
    "        return False\n",
    "    \n",
    "    dp = [False] * (1<<n)\n",
    "    total = [0] * (1<<n)\n",
    "    dp[0] = True\n",
    "    \n",
    "    for i in range( 1<<n):\n",
    "        if dp[i]:\n",
    "            for j in range(n):\n",
    "                temp = i | (1<<j) # Set the jth bit\n",
    "                #print(\"temp = \", temp)\n",
    "                if temp != i:\n",
    "                    if nums[j] <= (sums - total[i]%sums):\n",
    "                        dp[temp] = True\n",
    "                        total[temp] = nums[j] + total[i]\n",
    "                    else:\n",
    "                        break\n",
    "    return dp[ (1<<n) -1]\n",
    "    "
   ]
  },
  {
   "cell_type": "code",
   "execution_count": 39,
   "metadata": {},
   "outputs": [
    {
     "name": "stdout",
     "output_type": "stream",
     "text": [
      "128\n"
     ]
    },
    {
     "data": {
      "text/plain": [
       "True"
      ]
     },
     "execution_count": 39,
     "metadata": {},
     "output_type": "execute_result"
    }
   ],
   "source": [
    "nums = [4,3,2,3,5,2,1]\n",
    "k = 4\n",
    "canPartitionKSubsets1(nums, k)"
   ]
  },
  {
   "cell_type": "code",
   "execution_count": 15,
   "metadata": {},
   "outputs": [
    {
     "data": {
      "text/plain": [
       "True"
      ]
     },
     "execution_count": 15,
     "metadata": {},
     "output_type": "execute_result"
    }
   ],
   "source": [
    "nums = [1,1,1,1,2,2,2,2]\n",
    "k = 4\n",
    "canPartitionKSubsets1(nums, k)"
   ]
  },
  {
   "cell_type": "code",
   "execution_count": 40,
   "metadata": {},
   "outputs": [
    {
     "name": "stdout",
     "output_type": "stream",
     "text": [
      "65536\n"
     ]
    },
    {
     "data": {
      "text/plain": [
       "True"
      ]
     },
     "execution_count": 40,
     "metadata": {},
     "output_type": "execute_result"
    }
   ],
   "source": [
    "nums = [3522,181,521,515,304,123,2512,312,922,407,146,1932,4037,2646,3871,269]\n",
    "k = 5\n",
    "canPartitionKSubsets1(nums, k)"
   ]
  },
  {
   "cell_type": "code",
   "execution_count": null,
   "metadata": {},
   "outputs": [],
   "source": [
    "def canPartitionKSubsets2(nums, k):\n",
    "    total = sum(nums)\n",
    "    if total % k != 0:\n",
    "        return False\n",
    "    if len(nums) < k:\n",
    "        return False\n",
    "    target = total // k\n",
    "    bucket =[0]*k\n",
    "    dp = [False] * total\n",
    "    i = 0\n",
    "    count = 0\n",
    "    while i< len(nums):\n",
    "        j = 0\n",
    "        while j < k:\n",
    "            if nums[i] + bucket[j] <= target:\n",
    "                bucket[j] += nums[i]\n",
    "                count += 1\n",
    "                break\n",
    "            else:\n",
    "                j += 1\n",
    "        i += 1\n",
    "    return True if count == len(nums) else False"
   ]
  }
 ],
 "metadata": {
  "kernelspec": {
   "display_name": "Python 3",
   "language": "python",
   "name": "python3"
  },
  "language_info": {
   "codemirror_mode": {
    "name": "ipython",
    "version": 3
   },
   "file_extension": ".py",
   "mimetype": "text/x-python",
   "name": "python",
   "nbconvert_exporter": "python",
   "pygments_lexer": "ipython3",
   "version": "3.8.3"
  }
 },
 "nbformat": 4,
 "nbformat_minor": 4
}

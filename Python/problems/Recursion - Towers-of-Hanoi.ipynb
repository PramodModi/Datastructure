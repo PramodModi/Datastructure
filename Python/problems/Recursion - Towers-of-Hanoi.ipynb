{
 "cells": [
  {
   "cell_type": "code",
   "execution_count": 1,
   "metadata": {},
   "outputs": [],
   "source": [
    "def towers_of_hanoi(n, source, destination, auxiliary):\n",
    "    if n ==1:\n",
    "        print(\"Move disk 1 from source\", source, \"to destination\", destination)\n",
    "        return\n",
    "    towers_of_hanoi(n-1, source, auxiliary, destination)\n",
    "    print(\"Move disk \", n, \" from source \", source, \" to destination \", destination)\n",
    "    towers_of_hanoi(n-1, auxiliary, destination, source)\n",
    "    "
   ]
  },
  {
   "cell_type": "code",
   "execution_count": 3,
   "metadata": {},
   "outputs": [
    {
     "name": "stdout",
     "output_type": "stream",
     "text": [
      "Move disk 1 from source A to destination B\n"
     ]
    }
   ],
   "source": [
    "towers_of_hanoi(1, 'A', 'B', 'C')"
   ]
  },
  {
   "cell_type": "code",
   "execution_count": 4,
   "metadata": {},
   "outputs": [
    {
     "name": "stdout",
     "output_type": "stream",
     "text": [
      "Move disk 1 from source A to destination C\n",
      "Move disk  2  from source  A  to destination  B\n",
      "Move disk 1 from source C to destination B\n"
     ]
    }
   ],
   "source": [
    "towers_of_hanoi(2, 'A', 'B', 'C')"
   ]
  },
  {
   "cell_type": "code",
   "execution_count": 5,
   "metadata": {},
   "outputs": [
    {
     "name": "stdout",
     "output_type": "stream",
     "text": [
      "Move disk 1 from source A to destination B\n",
      "Move disk  2  from source  A  to destination  C\n",
      "Move disk 1 from source B to destination C\n",
      "Move disk  3  from source  A  to destination  B\n",
      "Move disk 1 from source C to destination A\n",
      "Move disk  2  from source  C  to destination  B\n",
      "Move disk 1 from source A to destination B\n"
     ]
    }
   ],
   "source": [
    "towers_of_hanoi(3, 'A', 'B', 'C')"
   ]
  },
  {
   "cell_type": "code",
   "execution_count": null,
   "metadata": {},
   "outputs": [],
   "source": []
  }
 ],
 "metadata": {
  "kernelspec": {
   "display_name": "Python 3",
   "language": "python",
   "name": "python3"
  },
  "language_info": {
   "codemirror_mode": {
    "name": "ipython",
    "version": 3
   },
   "file_extension": ".py",
   "mimetype": "text/x-python",
   "name": "python",
   "nbconvert_exporter": "python",
   "pygments_lexer": "ipython3",
   "version": "3.8.3"
  }
 },
 "nbformat": 4,
 "nbformat_minor": 4
}

{
 "cells": [
  {
   "cell_type": "markdown",
   "metadata": {},
   "source": [
    "## Problem:\n",
    "\n",
    "Write a function that takes in a non-empty string representing a valid Unix-shell path and returns a\n",
    "shortened version of that path.\n",
    "A path is a notation that represents the location of a file or directory in a file system.\n",
    "A path can be an absolute path, meaning that it starts at the root directory in a file system, or a relative\n",
    "path, meaning that it starts at the current directory in a file system.\n",
    "In a Unix-like operating system, a path is bound by the following rules:\n",
    "The root directory is represented by a / . This means that if a path starts with / , it's an\n",
    "absolute path; if it doesn't, it's a relative path.\n",
    "The symbol / otherwise represents the directory separator. This means that the path\n",
    "/foo/bar is the location of the directory bar inside the directory foo , which is itself\n",
    "located inside the root directory.\n",
    "The symbol .. represents the parent directory. This means that accessing files or directories in\n",
    "/foo/bar/.. is equivalent to accessing files or directories in /foo .\n",
    "The symbol . represents the current directory. This means that accessing files or directories in\n",
    "/foo/bar/. is equivalent to accessing files or directories in /foo/bar .\n",
    "The symbols / and . can be repeated sequentially without consequence; the symbol ..\n",
    "cannot, however, because repeating it sequentially means going further up in parent directories.\n",
    "For example, /foo/bar/baz/././. and /foo/bar/baz are equivalent paths, but\n",
    "/foo/bar/baz/../../../ and /foo/bar/baz definitely aren't. The only exception is with\n",
    "the root directory: /../../.. and / are equivalent, because the root directory has no parent\n",
    "directory, which means that repeatedly accessing parent directories does nothing.\n",
    "Note that the shortened version of the path must be equivalent to the original path. In other words, it\n",
    "must point to the same file or directory as the original path.\n",
    "\n",
    "Example:\n",
    "\n",
    "    path = \"/foo/../test/../test/../foo//bar/./baz\"\n",
    "Output:\n",
    "\n",
    "    \"/foo/bar/baz\" // This path is equivalent to the input path."
   ]
  },
  {
   "cell_type": "code",
   "execution_count": 1,
   "metadata": {},
   "outputs": [],
   "source": [
    "def shortenPath(path):\n",
    "    isStartWithRoot = path[0] == \"/\"\n",
    "    tokens = filter(isValidToken, path.split(\"/\"))\n",
    "    stack = []\n",
    "    if isStartWithRoot:\n",
    "        stack.append(\"\")\n",
    "    for token in tokens:\n",
    "        if token == \"..\":\n",
    "            if len(stack)==0 or stack[-1] == \"..\":\n",
    "                stack.append(token)\n",
    "            elif stack[-1] != \"\":\n",
    "                stack.pop()\n",
    "        else:\n",
    "            stack.append(token)\n",
    "    if len(stack) == 1 and stack[-1] == \"\":\n",
    "        return \"/\"\n",
    "    return \"/\".join(stack)\n",
    "\n",
    "\n",
    "\n",
    "def isValidToken(token):\n",
    "    return token != \"\" and token != \".\""
   ]
  },
  {
   "cell_type": "code",
   "execution_count": 2,
   "metadata": {},
   "outputs": [
    {
     "data": {
      "text/plain": [
       "'/foo/bar/baz'"
      ]
     },
     "execution_count": 2,
     "metadata": {},
     "output_type": "execute_result"
    }
   ],
   "source": [
    "path = \"/foo/../test/../test/../foo//bar/./baz\"\n",
    "shortenPath(path)"
   ]
  },
  {
   "cell_type": "code",
   "execution_count": null,
   "metadata": {},
   "outputs": [],
   "source": []
  }
 ],
 "metadata": {
  "kernelspec": {
   "display_name": "Python 3",
   "language": "python",
   "name": "python3"
  },
  "language_info": {
   "codemirror_mode": {
    "name": "ipython",
    "version": 3
   },
   "file_extension": ".py",
   "mimetype": "text/x-python",
   "name": "python",
   "nbconvert_exporter": "python",
   "pygments_lexer": "ipython3",
   "version": "3.8.3"
  }
 },
 "nbformat": 4,
 "nbformat_minor": 4
}

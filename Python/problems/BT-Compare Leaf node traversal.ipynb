{
 "cells": [
  {
   "attachments": {
    "image.png": {
     "image/png": "[encoded data removed]"
    }
   },
   "cell_type": "markdown",
   "metadata": {},
   "source": [
    "## Problem\n",
    "\n",
    "Compare leaf node traversal of given two tree. Leaf noe traversal means order of traversing of leaf nodes from left to right.\n",
    "\n",
    "Example:\n",
    "For below given Tree: Leaf traversal is 1,3,2\n",
    "![image.png](attachment:image.png)\n",
    " \n",
    "     \n",
    "         \n",
    " \n",
    " \n",
    "  "
   ]
  },
  {
   "cell_type": "code",
   "execution_count": 2,
   "metadata": {},
   "outputs": [],
   "source": [
    "class BinaryTree:\n",
    "    def __init__(self, value, left=None, right=None):\n",
    "        self.value = value\n",
    "        self.left = left\n",
    "        self.right = right\n",
    "\n",
    "\n",
    "def compareLeafTraversal(tree1, tree2):\n",
    "    # Write your code here.\n",
    "    if tree1 is None and tree2 is None:\n",
    "        return True\n",
    "    elif tree1 is None:\n",
    "        return False\n",
    "    elif tree2 is None:\n",
    "        return False\n",
    "    leafNodes1 = []\n",
    "    leafNodes2 = []\n",
    "    getLeafnodes(tree1, leafNodes1)\n",
    "    getLeafnodes(tree2, leafNodes2)\n",
    "\n",
    "    n = len(leafNodes1)\n",
    "    m = len(leafNodes2)\n",
    "\n",
    "    if n != m:\n",
    "        return False\n",
    "    for i in range(n):\n",
    "        if leafNodes1[i] != leafNodes2[i]:\n",
    "            return False\n",
    "    return True\n",
    "\n",
    "def getLeafnodes(root, leafNodes):\n",
    "    if root is None:\n",
    "        return\n",
    "    if root.left is None and root.right is None:\n",
    "        leafNodes.append(root.value)\n",
    "        return\n",
    "    getLeafnodes(root.left, leafNodes)\n",
    "    getLeafnodes(root.right, leafNodes)"
   ]
  },
  {
   "cell_type": "code",
   "execution_count": null,
   "metadata": {},
   "outputs": [],
   "source": []
  }
 ],
 "metadata": {
  "kernelspec": {
   "display_name": "Python 3",
   "language": "python",
   "name": "python3"
  },
  "language_info": {
   "codemirror_mode": {
    "name": "ipython",
    "version": 3
   },
   "file_extension": ".py",
   "mimetype": "text/x-python",
   "name": "python",
   "nbconvert_exporter": "python",
   "pygments_lexer": "ipython3",
   "version": "3.8.3"
  }
 },
 "nbformat": 4,
 "nbformat_minor": 4
}

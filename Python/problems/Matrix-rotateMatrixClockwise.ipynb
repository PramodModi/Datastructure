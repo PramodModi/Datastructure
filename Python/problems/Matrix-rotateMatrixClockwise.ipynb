{
 "cells": [
  {
   "cell_type": "markdown",
   "metadata": {},
   "source": [
    "## Problem : Rotate matrix in Clock wise by 90 degree"
   ]
  },
  {
   "cell_type": "markdown",
   "metadata": {},
   "source": [
    "### Approach:\n",
    "First, transpose the matrix that means, row should be column.\n",
    "Second reverse the value of each cell in a row wise. \n",
    "\n",
    "\n",
    "Example:\n",
    "\n",
    "        [3,6,9]\n",
    "        [2,5,8]\n",
    "        [1,4,7]\n",
    "        \n",
    "        \n",
    "step1: Transpose the matrix.\n",
    "\n",
    "        [3,2,1]\n",
    "        [6,5,4]\n",
    "        [9,8,7]\n",
    "        \n",
    "Step2 : Reverse each row.\n",
    "\n",
    "        [1,2,3]\n",
    "        [4,5,6]\n",
    "        [7,8,9]\n",
    "        \n",
    "This is the output."
   ]
  },
  {
   "cell_type": "code",
   "execution_count": 27,
   "metadata": {},
   "outputs": [],
   "source": [
    "def rotateMatrixClockwiseBy90Degree(matrix):\n",
    "    \n",
    "    transposeMatrix(matrix)\n",
    "    reverseColumns(matrix)\n",
    "    return matrix\n",
    "\n",
    "def reverseColumns(matrix):\n",
    "    for r in matrix:\n",
    "        reverseList(r)\n",
    "        \n",
    "def reverseList(column):\n",
    "    l = 0\n",
    "    r = len(column)-1\n",
    "    \n",
    "    while l < r:\n",
    "        column[l], column[r] = column[r], column[l]\n",
    "        l += 1\n",
    "        r -= 1\n",
    "\n",
    "def transposeMatrix(matrix):\n",
    "    for i in range(len(matrix)):\n",
    "        for j in range(i):\n",
    "            matrix[i][j], matrix[j][i] = matrix[j][i], matrix[i][j]\n",
    "\n",
    "    "
   ]
  },
  {
   "cell_type": "code",
   "execution_count": 28,
   "metadata": {},
   "outputs": [
    {
     "data": {
      "text/plain": [
       "[[1, 2, 3], [4, 5, 6], [7, 8, 9]]"
      ]
     },
     "execution_count": 28,
     "metadata": {},
     "output_type": "execute_result"
    }
   ],
   "source": [
    "matrix = [[3,6,9],[2,5,8],[1,4,7]]\n",
    "rotateMatrixClockwiseBy90Degree(matrix)"
   ]
  },
  {
   "cell_type": "code",
   "execution_count": 26,
   "metadata": {},
   "outputs": [
    {
     "data": {
      "text/plain": [
       "[[7, 4, 1], [8, 5, 2], [9, 6, 3]]"
      ]
     },
     "execution_count": 26,
     "metadata": {},
     "output_type": "execute_result"
    }
   ],
   "source": [
    "\n",
    "matrix = [[1,2,3],[4,5,6],[7,8,9]]\n",
    "rotateMatrixClockwiseBy90Degree(matrix)"
   ]
  },
  {
   "cell_type": "code",
   "execution_count": 29,
   "metadata": {},
   "outputs": [
    {
     "data": {
      "text/plain": [
       "[[13, 9, 5, 1], [14, 10, 6, 2], [15, 11, 7, 3], [16, 12, 8, 4]]"
      ]
     },
     "execution_count": 29,
     "metadata": {},
     "output_type": "execute_result"
    }
   ],
   "source": [
    "\n",
    "matrix = [[1, 2, 3, 4],\n",
    "       [5, 6, 7, 8],\n",
    "       [9, 10, 11, 12],\n",
    "       [13, 14, 15, 16]]\n",
    "rotateMatrixClockwiseBy90Degree(matrix)"
   ]
  },
  {
   "cell_type": "code",
   "execution_count": null,
   "metadata": {},
   "outputs": [],
   "source": []
  }
 ],
 "metadata": {
  "kernelspec": {
   "display_name": "Python 3",
   "language": "python",
   "name": "python3"
  },
  "language_info": {
   "codemirror_mode": {
    "name": "ipython",
    "version": 3
   },
   "file_extension": ".py",
   "mimetype": "text/x-python",
   "name": "python",
   "nbconvert_exporter": "python",
   "pygments_lexer": "ipython3",
   "version": "3.8.3"
  }
 },
 "nbformat": 4,
 "nbformat_minor": 4
}

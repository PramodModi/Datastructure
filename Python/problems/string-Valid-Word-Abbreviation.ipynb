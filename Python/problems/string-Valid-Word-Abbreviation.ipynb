{
 "cells": [
  {
   "cell_type": "markdown",
   "id": "1f823669-dfdc-4523-81f6-468be144b2b5",
   "metadata": {},
   "source": [
    "## Problem: Valid Word Abbreviation\n",
    "\n",
    "LeetCode : 408\n",
    "\n",
    "A string can be abbreviated by replacing any number of non-adjacent, non-empty substrings with their lengths. The lengths should not have leading zeros.\n",
    "\n",
    "For example, a string such as \"substitution\" could be abbreviated as (but not limited to):\n",
    "\n",
    "    \"s10n\" (\"s ubstitutio n\")\n",
    "    \"sub4u4\" (\"sub stit u tion\")\n",
    "    \"12\" (\"substitution\")\n",
    "    \"su3i1u2on\" (\"su bst i t u ti on\")\n",
    "    \"substitution\" (no substrings replaced)\n",
    "The following are not valid abbreviations:\n",
    "\n",
    "    \"s55n\" (\"s ubsti tutio n\", the replaced substrings are adjacent)\n",
    "    \"s010n\" (has leading zeros)\n",
    "    \"s0ubstitution\" (replaces an empty substring)\n",
    "Given a string word and an abbreviation abbr, return whether the string matches the given abbreviation.\n",
    "\n",
    "Example 1:\n",
    "\n",
    "    Input: word = \"internationalization\", abbr = \"i12iz4n\"\n",
    "    Output: true\n",
    "    Explanation: The word \"internationalization\" can be abbreviated as \"i12iz4n\" (\"i nternational iz atio n\").\n",
    "Example 2:\n",
    "\n",
    "    Input: word = \"apple\", abbr = \"a2e\"\n",
    "    Output: false\n",
    "    Explanation: The word \"apple\" cannot be abbreviated as \"a2e\".\n",
    "\n",
    "Constraints:\n",
    "\n",
    "    1 <= word.length <= 20\n",
    "    word consists of only lowercase English letters.\n",
    "    1 <= abbr.length <= 10\n",
    "    abbr consists of lowercase English letters and digits.\n",
    "    All the integers in abbr will fit in a 32-bit integer."
   ]
  },
  {
   "cell_type": "code",
   "execution_count": 2,
   "id": "e77dff6d-3cd2-4592-9486-0833efb211c9",
   "metadata": {},
   "outputs": [],
   "source": [
    "def smallerSubarray(s, abbr):\n",
    "    l, r = 0, 0\n",
    "    while l< len(s) and r < len(abbr):\n",
    "        if s[l] != abbr[r]:\n",
    "            if abbr[r].isnumeric():\n",
    "                if abbr[r] == 0:\n",
    "                    return False\n",
    "                digit = 0\n",
    "                while abbr[r].isnumeric() and r < len(abbr):\n",
    "                    digit = 10*digit + int(abbr[r])\n",
    "                    r += 1\n",
    "            else:\n",
    "                return False\n",
    "            l += digit\n",
    "        else:\n",
    "            l += 1\n",
    "            r += 1\n",
    "        \n",
    "    if l == len(s) and r == len(abbr):\n",
    "        return True\n",
    "    return False"
   ]
  },
  {
   "cell_type": "code",
   "execution_count": 6,
   "id": "3acd3f2a-b903-464a-9afc-2e72d2044163",
   "metadata": {},
   "outputs": [
    {
     "data": {
      "text/plain": [
       "True"
      ]
     },
     "execution_count": 6,
     "metadata": {},
     "output_type": "execute_result"
    }
   ],
   "source": [
    "word = \"internationalization\"\n",
    "abbr = \"i12iz4n\"\n",
    "smallerSubarray(word, abbr)"
   ]
  },
  {
   "cell_type": "code",
   "execution_count": 8,
   "id": "b5347489-c72e-47d6-83ef-48a9155884c2",
   "metadata": {},
   "outputs": [
    {
     "data": {
      "text/plain": [
       "False"
      ]
     },
     "execution_count": 8,
     "metadata": {},
     "output_type": "execute_result"
    }
   ],
   "source": [
    "word = \"apple\"\n",
    "abbr = \"a2e\"\n",
    "smallerSubarray(word, abbr)"
   ]
  },
  {
   "cell_type": "code",
   "execution_count": 10,
   "id": "1623b364-8d48-437f-a481-feab95592d2c",
   "metadata": {},
   "outputs": [],
   "source": [
    "def smallerSubarray1(s, abbr):\n",
    "    l, r = 0, 0\n",
    "    while l< len(s) and r < len(abbr):\n",
    "        if s[l] != abbr[r]:\n",
    "            if abbr[r].isdigit():\n",
    "                if abbr[r] == 0:\n",
    "                    return False\n",
    "                count = r\n",
    "                while abbr[r].isdigit() and r < len(abbr):\n",
    "                   r += 1\n",
    "                digit = int(abbr[count:r])\n",
    "                l += digit\n",
    "            else:\n",
    "                return False\n",
    "            \n",
    "        else:\n",
    "            l += 1\n",
    "            r += 1\n",
    "        \n",
    "    if l == len(s) and r == len(abbr):\n",
    "        return True\n",
    "    return False"
   ]
  },
  {
   "cell_type": "code",
   "execution_count": 12,
   "id": "532f1ac3-dbae-4d08-b6e1-313e96c88648",
   "metadata": {},
   "outputs": [
    {
     "data": {
      "text/plain": [
       "True"
      ]
     },
     "execution_count": 12,
     "metadata": {},
     "output_type": "execute_result"
    }
   ],
   "source": [
    "word = \"internationalization\"\n",
    "abbr = \"i12iz4n\"\n",
    "smallerSubarray1(word, abbr)"
   ]
  },
  {
   "cell_type": "code",
   "execution_count": 14,
   "id": "05ed62b1-4a21-46bf-8b58-5be2b2e34c66",
   "metadata": {},
   "outputs": [
    {
     "data": {
      "text/plain": [
       "False"
      ]
     },
     "execution_count": 14,
     "metadata": {},
     "output_type": "execute_result"
    }
   ],
   "source": [
    "word = \"apple\"\n",
    "abbr = \"a2e\"\n",
    "smallerSubarray1(word, abbr)"
   ]
  },
  {
   "cell_type": "code",
   "execution_count": null,
   "id": "99048648-1d7e-427b-81d3-7bbc5864f131",
   "metadata": {},
   "outputs": [],
   "source": []
  }
 ],
 "metadata": {
  "kernelspec": {
   "display_name": "Python 3 (ipykernel)",
   "language": "python",
   "name": "python3"
  },
  "language_info": {
   "codemirror_mode": {
    "name": "ipython",
    "version": 3
   },
   "file_extension": ".py",
   "mimetype": "text/x-python",
   "name": "python",
   "nbconvert_exporter": "python",
   "pygments_lexer": "ipython3",
   "version": "3.12.7"
  }
 },
 "nbformat": 4,
 "nbformat_minor": 5
}

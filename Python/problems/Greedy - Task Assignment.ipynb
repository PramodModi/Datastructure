{
 "cells": [
  {
   "cell_type": "markdown",
   "metadata": {},
   "source": [
    "## Problem: \n",
    "\n",
    "You're given an integer k representing a number of workers and an array of positive integers\n",
    "representing durations of tasks that must be completed by the workers. Specifically, each worker must\n",
    "complete two unique tasks and can only work on one task at a time. The number of tasks will always be\n",
    "equal to 2k such that each worker always has exactly two tasks to complete. All tasks are\n",
    "independent of one another and can be completed in any order. Workers will complete their assigned\n",
    "tasks in parallel, and the time taken to complete all tasks will be equal to the time taken to complete\n",
    "the longest pair of tasks (see the sample output for an explanation).\n",
    "Write a function that returns the optimal assignment of tasks to each worker such that the tasks are\n",
    "completed as fast as possible. Your function should return a list of pairs, where each pair stores the\n",
    "indices of the tasks that should be completed by one worker. The pairs should be in the following\n",
    "format: [task1, task2] , where the order of task1 and task2 doesn't matter. Your function\n",
    "can return the pairs in any order. If multiple optimal assignments exist, any correct answer will be\n",
    "accepted.\n",
    "Note: you'll always be given at least one worker (i.e., k will always be greater than 0).\n",
    "\n",
    "Example:\n",
    "\n",
    "k = 3\n",
    "\n",
    "tasks = [1, 3, 5, 3, 1, 4]\n",
    "\n",
    "Sample Output\n",
    "\n",
    "    [\n",
    "     [0, 2], // tasks[0] = 1, tasks[2] = 5 | 1 + 5 = 6\n",
    "     [4, 5], // tasks[4] = 1, tasks[5] = 4 | 1 + 4 = 5\n",
    "     [1, 3], // tasks[1] = 3, tasks[3] = 3 | 3 + 3 = 6\n",
    "    ] \n",
    "\n",
    "// The fastest time to complete all tasks is 6.\n",
    "// Note: there are multiple correct answers for this sample input.\n",
    "// The following is an example of another correct answer:\n",
    "\n",
    "    // [\n",
    "    // [2, 4],\n",
    "    // [0, 5],\n",
    "    // [1, 3]\n",
    "    // [\n",
    "\n",
    "\n"
   ]
  },
  {
   "cell_type": "code",
   "execution_count": 1,
   "metadata": {},
   "outputs": [],
   "source": [
    "def taskAssignment(k, tasks):\n",
    "    # Write your code here.\n",
    "    result = []\n",
    "    sortedTasks = sorted(tasks)\n",
    "    tasksIndexes = getIndexes(tasks)\n",
    "    left = 0\n",
    "    right = len(tasks)-1\n",
    "    while(left<right):\n",
    "        task1Idx = tasksIndexes[sortedTasks[left]].pop()\n",
    "        task2Idx = tasksIndexes[sortedTasks[right]].pop()\n",
    "        result.append([task1Idx, task2Idx])\n",
    "        left += 1\n",
    "        right -= 1\n",
    "    return result\n",
    "\n",
    "def getIndexes(tasks):\n",
    "    tasksIndexes = {}\n",
    "    for i in range(len(tasks)):\n",
    "        task = tasks[i]\n",
    "        if task in tasksIndexes:\n",
    "            tasksIndexes[task].append(i)\n",
    "        else:\n",
    "            tasksIndexes[task] = [i]\n",
    "    return tasksIndexes"
   ]
  },
  {
   "cell_type": "code",
   "execution_count": 2,
   "metadata": {},
   "outputs": [
    {
     "data": {
      "text/plain": [
       "[[4, 2], [0, 5], [3, 1]]"
      ]
     },
     "execution_count": 2,
     "metadata": {},
     "output_type": "execute_result"
    }
   ],
   "source": [
    "k = 3\n",
    "tasks = [1, 3, 5, 3, 1, 4]\n",
    "taskAssignment(k, tasks)"
   ]
  },
  {
   "cell_type": "code",
   "execution_count": null,
   "metadata": {},
   "outputs": [],
   "source": []
  }
 ],
 "metadata": {
  "kernelspec": {
   "display_name": "Python 3",
   "language": "python",
   "name": "python3"
  },
  "language_info": {
   "codemirror_mode": {
    "name": "ipython",
    "version": 3
   },
   "file_extension": ".py",
   "mimetype": "text/x-python",
   "name": "python",
   "nbconvert_exporter": "python",
   "pygments_lexer": "ipython3",
   "version": "3.8.3"
  }
 },
 "nbformat": 4,
 "nbformat_minor": 4
}

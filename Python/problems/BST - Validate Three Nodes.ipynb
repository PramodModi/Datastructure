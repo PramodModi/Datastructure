{
 "cells": [
  {
   "cell_type": "markdown",
   "metadata": {},
   "source": [
    "## Problem:\n",
    "\n",
    "You're given three nodes that are contained in the same Binary Search Tree: nodeOne , nodeTwo ,\n",
    "and nodeThree . Write a function that returns a boolean representing whether one of nodeOne or\n",
    "nodeThree is an ancestor of nodeTwo and the other node is a descendant of nodeTwo . For\n",
    "example, if your function determines that nodeOne is an ancestor of nodeTwo , then it needs to see\n",
    "if nodeThree is a descendant of nodeTwo . If your function determines that nodeThree is an\n",
    "ancestor, then it needs to see if nodeOne is a descendant.\n",
    "A descendant of a node N is defined as a node contained in the tree rooted at N . A node N is an\n",
    "ancestor of another node M if M is a descendant of N .\n",
    "It isn't guaranteed that nodeOne or nodeThree will be ancestors or descendants of nodeTwo , but\n",
    "it is guaranteed that all three nodes will be unique and will never be None / null . In other words,\n",
    "you'll be given valid input nodes.\n",
    "Each BST node has an integer value , a left child node, and a right child node. A node is said\n",
    "to be a valid BST node if and only if it satisfies the BST property: its value is strictly greater than the\n",
    "values of every node to its left; its value is less than or equal to the values of every node to its right;\n",
    "and its children nodes are either valid BST nodes themselves or None / null .\n",
    "\n",
    "Example:\n",
    "\n",
    "tree = \n",
    "\n",
    "                    5\n",
    "                   / \\\n",
    "                  2    7\n",
    "                 / \\   / \\\n",
    "                1   4  6  8\n",
    "               /   /\n",
    "              0    3\n",
    "\n",
    "// This tree won't actually be passed as an input; it's here to help you visua\n",
    "\n",
    "nodeOne = 5 // The actual node with value 5.\n",
    "\n",
    "nodeTwo = 2 // The actual node with value 2.\n",
    "\n",
    "nodeThree = 3 // The actual node with value 3.\n",
    "\n",
    "Output: True\n",
    "\n",
    "//nodeOne is an ancestor of nodeTwo, and nodeThree is descendent of nodeTwo.\n"
   ]
  },
  {
   "cell_type": "code",
   "execution_count": null,
   "metadata": {},
   "outputs": [],
   "source": [
    "# This is an input class. Do not edit.\n",
    "class BST:\n",
    "    def __init__(self, value, left=None, right=None):\n",
    "        self.value = value\n",
    "        self.left = left\n",
    "        self.right = right\n",
    "\n",
    "\n",
    "def validateThreeNodes(nodeOne, nodeTwo, nodeThree):\n",
    "    # check, if node1 is descendent and node3 is ancstor of node2\n",
    "    if isDescendent(nodeTwo, nodeOne):\n",
    "        if isDescendent(nodeThree, nodeTwo):\n",
    "            return True\n",
    "    # if node3 is descendent and node1 is ancestor\n",
    "    if isDescendent(nodeTwo, nodeThree):\n",
    "        if isDescendent(nodeOne, nodeTwo):\n",
    "            return True\n",
    "    return False\n",
    "\n",
    "# Target is a descendent of node\n",
    "def isDescendent(node, target):\n",
    "    while(node is not None and node is not target):\n",
    "        node = node.left if target.value < node.value else node.right\n",
    "    return node is target\n"
   ]
  }
 ],
 "metadata": {
  "kernelspec": {
   "display_name": "Python 3",
   "language": "python",
   "name": "python3"
  },
  "language_info": {
   "codemirror_mode": {
    "name": "ipython",
    "version": 3
   },
   "file_extension": ".py",
   "mimetype": "text/x-python",
   "name": "python",
   "nbconvert_exporter": "python",
   "pygments_lexer": "ipython3",
   "version": "3.8.3"
  }
 },
 "nbformat": 4,
 "nbformat_minor": 4
}

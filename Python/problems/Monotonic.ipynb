{
 "cells": [
  {
   "cell_type": "code",
   "execution_count": null,
   "metadata": {},
   "outputs": [],
   "source": []
  },
  {
   "cell_type": "code",
   "execution_count": 5,
   "metadata": {},
   "outputs": [],
   "source": [
    "def isMonotonic(array):\n",
    "    if len(array) == 0 or len(array) == 1:\n",
    "        return True\n",
    "    inc_monotonic = False\n",
    "    dec_monotonic = False\n",
    "    for i in range(1, len(array)):\n",
    "        print(array[i-1])\n",
    "        print(array[i])\n",
    "        if array[i-1] >= array[i]:\n",
    "            print(\"inc_monotonic\")\n",
    "            inc_monotonic = True\n",
    "            break;\n",
    "\n",
    "    for i in range(1, len(array)):\n",
    "        if array[i-1] <= array[i]:\n",
    "            dec_monotonic = True\n",
    "            print(\"dec_monotoic\")\n",
    "            break;\n",
    "    return inc_monotonic and dec_monotonic"
   ]
  },
  {
   "cell_type": "code",
   "execution_count": 6,
   "metadata": {},
   "outputs": [
    {
     "name": "stdout",
     "output_type": "stream",
     "text": [
      "1\n",
      "5\n",
      "5\n",
      "10\n",
      "10\n",
      "1100\n",
      "1100\n",
      "1101\n",
      "1101\n",
      "1102\n",
      "1102\n",
      "9001\n",
      "dec_monotoic\n",
      "False\n"
     ]
    }
   ],
   "source": [
    "a = [1, 5, 10, 1100, 1101, 1102, 9001]\n",
    "print(isMonotonic(a))"
   ]
  },
  {
   "cell_type": "code",
   "execution_count": null,
   "metadata": {},
   "outputs": [],
   "source": []
  }
 ],
 "metadata": {
  "kernelspec": {
   "display_name": "Python 3",
   "language": "python",
   "name": "python3"
  },
  "language_info": {
   "codemirror_mode": {
    "name": "ipython",
    "version": 3
   },
   "file_extension": ".py",
   "mimetype": "text/x-python",
   "name": "python",
   "nbconvert_exporter": "python",
   "pygments_lexer": "ipython3",
   "version": "3.8.3"
  }
 },
 "nbformat": 4,
 "nbformat_minor": 4
}

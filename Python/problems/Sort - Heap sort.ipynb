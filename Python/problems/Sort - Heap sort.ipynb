{
 "cells": [
  {
   "cell_type": "markdown",
   "metadata": {},
   "source": [
    "## Problem:\n",
    "\n",
    "Write a function that takes in an array of integers and returns a sorted version of that array. Use the\n",
    "Heap Sort algorithm to sort the array.\n",
    "\n",
    "\n",
    "Example:\n",
    "\n",
    "array = [8, 5, 2, 9, 5, 6, 3]\n",
    "\n",
    "Output:\n",
    "[2, 3, 5, 5, 6, 8, 9]"
   ]
  },
  {
   "cell_type": "code",
   "execution_count": 1,
   "metadata": {},
   "outputs": [],
   "source": [
    "def heapSort(array):\n",
    "    # Write your code here.\n",
    "    buildMaxHeap(array)\n",
    "    for i in range (len(array)-1, -1, -1):\n",
    "        swap(array, 0, i)\n",
    "        shiftDown(array, 0, i-1)\n",
    "    return array\n",
    "\n",
    "def buildMaxHeap(array):\n",
    "    parentNode = (len(array)-2)//2\n",
    "    for i in range (parentNode, -1, -1):\n",
    "        shiftDown(array, i, len(array)-1)\n",
    "def shiftDown(array, index, end):\n",
    "\n",
    "    idxChild1 = 2*index + 1\n",
    "    while idxChild1 <= end :\n",
    "        idxChild2 = 2*index+2 if 2*index +2 <= end else -1\n",
    "        if idxChild2 != -1 and array[idxChild2 ]> array[idxChild1]:\n",
    "            currentIdx = idxChild2\n",
    "        else:\n",
    "            currentIdx = idxChild1\n",
    "\n",
    "        if array[index] < array[currentIdx]:\n",
    "            swap(array, index, currentIdx)\n",
    "            index = currentIdx\n",
    "            idxChild1 = 2*index + 1\n",
    "        else:\n",
    "            return\n",
    "def swap(array, i, j):\n",
    "    array[i], array[j] = array[j], array[i]"
   ]
  },
  {
   "cell_type": "code",
   "execution_count": 2,
   "metadata": {},
   "outputs": [
    {
     "data": {
      "text/plain": [
       "[2, 3, 5, 5, 6, 8, 9]"
      ]
     },
     "execution_count": 2,
     "metadata": {},
     "output_type": "execute_result"
    }
   ],
   "source": [
    "array = [8, 5, 2, 9, 5, 6, 3]\n",
    "heapSort(array)"
   ]
  },
  {
   "cell_type": "code",
   "execution_count": null,
   "metadata": {},
   "outputs": [],
   "source": []
  }
 ],
 "metadata": {
  "kernelspec": {
   "display_name": "Python 3",
   "language": "python",
   "name": "python3"
  },
  "language_info": {
   "codemirror_mode": {
    "name": "ipython",
    "version": 3
   },
   "file_extension": ".py",
   "mimetype": "text/x-python",
   "name": "python",
   "nbconvert_exporter": "python",
   "pygments_lexer": "ipython3",
   "version": "3.8.3"
  }
 },
 "nbformat": 4,
 "nbformat_minor": 4
}

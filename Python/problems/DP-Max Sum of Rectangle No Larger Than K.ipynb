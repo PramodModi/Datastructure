{
 "cells": [
  {
   "attachments": {
    "image.png": {
     "image/png": "[encoded data removed]"
    }
   },
   "cell_type": "markdown",
   "metadata": {},
   "source": [
    "## Problem: 363. Max Sum of Rectangle No Larger Than K\n",
    "\n",
    "https://leetcode.com/problems/max-sum-of-rectangle-no-larger-than-k/description/\n",
    "\n",
    "Given an m x n matrix matrix and an integer k, return the max sum of a rectangle in the matrix such that its sum is no larger than k.\n",
    "\n",
    "It is guaranteed that there will be a rectangle with a sum no larger than k.\n",
    "\n",
    " \n",
    "\n",
    "Example 1:\n",
    "![image.png](attachment:image.png)\n",
    "\n",
    "Input: matrix = [[1,0,1],[0,-2,3]], k = 2\n",
    "\n",
    "Output: 2\n",
    "\n",
    "Explanation: Because the sum of the blue rectangle [[0, 1], [-2, 3]] is 2, and 2 is the max number no larger than k (k = 2).\n",
    "\n",
    "Example 2:\n",
    "\n",
    "Input: matrix = [[2,2,-1]], k = 3\n",
    "\n",
    "Output: 3\n",
    " \n",
    "\n",
    "Constraints:\n",
    "\n",
    "m == matrix.length\n",
    "\n",
    "n == matrix[i].length\n",
    "\n",
    "1 <= m, n <= 100\n",
    "\n",
    "-100 <= matrix[i][j] <= 100\n",
    "\n",
    "-105 <= k <= 105\n",
    " \n",
    "\n",
    "Follow up: What if the number of rows is much larger than the number of columns?"
   ]
  },
  {
   "cell_type": "code",
   "execution_count": 18,
   "metadata": {},
   "outputs": [],
   "source": [
    "def maxSumSubmatrix(matrix, k):\n",
    "        maxSum  = float(\"-inf\")\n",
    "        preSum = preSumOfMatrix(matrix)\n",
    "        n = len(matrix)\n",
    "        m = len(matrix[0])\n",
    "        for row in range(1, n+1):\n",
    "            for col in range(1, m+1):\n",
    "                for row2 in range(row, n+1):\n",
    "                    for col2 in range(col, m+1):\n",
    "                        currentSum = preSum[row2][col2] - preSum[row-1][col2]-preSum[row2][col-1] + preSum[row-1][col-1]\n",
    "                        if currentSum <= k:\n",
    "                            maxSum = max(maxSum, currentSum)\n",
    "        return maxSum\n",
    "                \n",
    "\n",
    "def preSumOfMatrix(matrix):\n",
    "    n = len(matrix)\n",
    "    m = len(matrix[0])\n",
    "    sums = [[0 for _ in range(m+1)] for row in range(n+1)]\n",
    "\n",
    "    for row in range(1, len(matrix)+1):\n",
    "        sums[row][1] = sums[row-1][1] + matrix[row-1][0]\n",
    "    for col in range(1, len(matrix[0])+1):\n",
    "        sums[1][col] = sums[1][col-1] + matrix[0][col-1]\n",
    "\n",
    "    for row in range(2, n+1):\n",
    "        for col in range(2, m+1):\n",
    "            sums[row][col] = matrix[row-1][col-1] + sums[row-1][col] + sums[row][col-1] - sums[row-1][col-1]\n",
    "    return sums"
   ]
  },
  {
   "cell_type": "code",
   "execution_count": 19,
   "metadata": {},
   "outputs": [
    {
     "data": {
      "text/plain": [
       "2"
      ]
     },
     "execution_count": 19,
     "metadata": {},
     "output_type": "execute_result"
    }
   ],
   "source": [
    "matrix = [[1,0,1],[0,-2,3]]\n",
    "k = 2\n",
    "maxSumSubmatrix(matrix, k)"
   ]
  },
  {
   "cell_type": "code",
   "execution_count": null,
   "metadata": {},
   "outputs": [],
   "source": []
  }
 ],
 "metadata": {
  "kernelspec": {
   "display_name": "Python 3",
   "language": "python",
   "name": "python3"
  },
  "language_info": {
   "codemirror_mode": {
    "name": "ipython",
    "version": 3
   },
   "file_extension": ".py",
   "mimetype": "text/x-python",
   "name": "python",
   "nbconvert_exporter": "python",
   "pygments_lexer": "ipython3",
   "version": "3.8.3"
  }
 },
 "nbformat": 4,
 "nbformat_minor": 4
}

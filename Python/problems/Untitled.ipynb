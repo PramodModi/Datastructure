{
 "cells": [
  {
   "cell_type": "markdown",
   "metadata": {},
   "source": [
    "## Problem\n",
    "\n",
    "Given an array of buildings and a direction that all of the buildings face, return an array of the indices\n",
    "of the buildings that can see the sunset.\n",
    "A building can see the sunset if it's strictly taller than all of the buildings that come after it in the\n",
    "direction that it faces.\n",
    "The input array named buildings contains positive, non-zero integers representing the heights of\n",
    "the buildings. A building at index i thus has a height denoted by buildings[i] . All of the\n",
    "buildings face the same direction, and this direction is either east or west, denoted by the input string\n",
    "named direction , which will always be equal to either \"EAST\" or \"WEST\" . In relation to the\n",
    "input array, you can interpret these directions as right for east and left for west.\n",
    "Important note: the indices in the ouput array should be sorted in ascending order.\n",
    "\n",
    "Example 1:\n",
    "\n",
    "buildings = [3, 5, 4, 4, 3, 1, 3, 2]\n",
    "\n",
    "direction = \"EAST\"\n",
    "\n",
    "Output:\n",
    "[1, 3, 6, 7]\n",
    "\n",
    "    // Below is a visual representation of the sample input.\n",
    "    // _\n",
    "    // | |_ _\n",
    "    // _| | | |_ _\n",
    "    // | | | | | | | |_\n",
    "    // | | | | | |_| | |\n",
    "    // |_|_|_|_|_|_|_|_|\n",
    "\n",
    "Example 2:\n",
    "\n",
    "buildings = [3, 5, 4, 4, 3, 1, 3, 2]\n",
    "\n",
    "direction = \"WEST\"\n",
    "\n",
    "Output:\n",
    "[0, 1]\n",
    "// The buildings are the same as in the first example but their direction is reversed."
   ]
  },
  {
   "cell_type": "code",
   "execution_count": 1,
   "metadata": {},
   "outputs": [],
   "source": [
    "def sunsetViews(buildings, direction):\n",
    "    idx = 0 if direction == 'WEST' else len(buildings)-1\n",
    "    step = 1 if direction == 'WEST' else -1\n",
    "    if len(buildings)== 0:\n",
    "        return []\n",
    "    heighest = buildings[idx]\n",
    "    result = []\n",
    "    result.append(idx)\n",
    "\n",
    "    while idx >= 0 and idx < len(buildings):\n",
    "        n = buildings[idx]\n",
    "\n",
    "        if heighest < n:\n",
    "            heighest = n\n",
    "            result.append(idx)\n",
    "        idx += step\n",
    "\n",
    "    if direction == 'EAST':\n",
    "        return list(reversed(result))\n",
    "    return result"
   ]
  },
  {
   "cell_type": "code",
   "execution_count": 2,
   "metadata": {},
   "outputs": [
    {
     "data": {
      "text/plain": [
       "[0, 1]"
      ]
     },
     "execution_count": 2,
     "metadata": {},
     "output_type": "execute_result"
    }
   ],
   "source": [
    "buildings = [3, 5, 4, 4, 3, 1, 3, 2]\n",
    "direction = \"WEST\"\n",
    "sunsetViews(buildings, direction)"
   ]
  },
  {
   "cell_type": "code",
   "execution_count": null,
   "metadata": {},
   "outputs": [],
   "source": []
  }
 ],
 "metadata": {
  "kernelspec": {
   "display_name": "Python 3",
   "language": "python",
   "name": "python3"
  },
  "language_info": {
   "codemirror_mode": {
    "name": "ipython",
    "version": 3
   },
   "file_extension": ".py",
   "mimetype": "text/x-python",
   "name": "python",
   "nbconvert_exporter": "python",
   "pygments_lexer": "ipython3",
   "version": "3.8.3"
  }
 },
 "nbformat": 4,
 "nbformat_minor": 4
}

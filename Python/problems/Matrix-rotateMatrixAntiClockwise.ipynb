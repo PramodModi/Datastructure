{
 "cells": [
  {
   "cell_type": "markdown",
   "metadata": {},
   "source": [
    "## Problem : Rotate matrix in Anticlock wise by 90 degree"
   ]
  },
  {
   "cell_type": "markdown",
   "metadata": {},
   "source": [
    "### Approach:\n",
    "First reverse the value of each cell in a row wise. That means if row1 = [3,6,9] then after reverse it should be [9,6,3]. \n",
    "Second, transpose the matrix that means, row should be column.\n",
    "\n",
    "Example:\n",
    "\n",
    "        [3,6,9]\n",
    "        [2,5,8]\n",
    "        [1,4,7]\n",
    "        \n",
    "Step1 : Reverse each row.\n",
    "\n",
    "        [9,6,3]\n",
    "        [8,5,2]\n",
    "        [7,4,1]\n",
    "        \n",
    "step2: Transpose matrix. swap the values from diagonally. Means row should be column.\n",
    "\n",
    "        [9,8,7]\n",
    "        [6,5,4]\n",
    "        [3,2,1]\n",
    "        \n",
    "This is the output."
   ]
  },
  {
   "cell_type": "code",
   "execution_count": 6,
   "metadata": {},
   "outputs": [],
   "source": [
    "def rotateMatrixAntiClockwiseBy90Degree(matrix):\n",
    "    reverseColumns(matrix)\n",
    "    transposeMatrix(matrix)\n",
    "    return matrix\n",
    "\n",
    "def reverseColumns(matrix):\n",
    "    for r in matrix:\n",
    "        reverseList(r)\n",
    "        \n",
    "def reverseList(column):\n",
    "    l = 0\n",
    "    r = len(column)-1\n",
    "    \n",
    "    while l < r:\n",
    "        column[l], column[r] = column[r], column[l]\n",
    "        l += 1\n",
    "        r -= 1\n",
    "\n",
    "def transposeMatrix(matrix):\n",
    "    for i in range(len(matrix)):\n",
    "        for j in range(i):\n",
    "            matrix[i][j], matrix[j][i] = matrix[j][i], matrix[i][j]\n",
    "\n",
    "    "
   ]
  },
  {
   "cell_type": "code",
   "execution_count": 7,
   "metadata": {},
   "outputs": [
    {
     "data": {
      "text/plain": [
       "[[3, 6, 9], [2, 5, 8], [1, 4, 7]]"
      ]
     },
     "execution_count": 7,
     "metadata": {},
     "output_type": "execute_result"
    }
   ],
   "source": [
    "\n",
    "matrix = [[1,2,3],[4,5,6],[7,8,9]]\n",
    "rotateMatrixAntiClockwiseBy90Degree(matrix)"
   ]
  },
  {
   "cell_type": "code",
   "execution_count": 8,
   "metadata": {},
   "outputs": [
    {
     "data": {
      "text/plain": [
       "[[4, 8, 12, 16], [3, 7, 11, 15], [2, 6, 10, 14], [1, 5, 9, 13]]"
      ]
     },
     "execution_count": 8,
     "metadata": {},
     "output_type": "execute_result"
    }
   ],
   "source": [
    "\n",
    "matrix = [[1, 2, 3, 4],\n",
    "       [5, 6, 7, 8],\n",
    "       [9, 10, 11, 12],\n",
    "       [13, 14, 15, 16]]\n",
    "rotateMatrixAntiClockwiseBy90Degree(matrix)"
   ]
  },
  {
   "cell_type": "code",
   "execution_count": null,
   "metadata": {},
   "outputs": [],
   "source": []
  }
 ],
 "metadata": {
  "kernelspec": {
   "display_name": "Python 3",
   "language": "python",
   "name": "python3"
  },
  "language_info": {
   "codemirror_mode": {
    "name": "ipython",
    "version": 3
   },
   "file_extension": ".py",
   "mimetype": "text/x-python",
   "name": "python",
   "nbconvert_exporter": "python",
   "pygments_lexer": "ipython3",
   "version": "3.8.3"
  }
 },
 "nbformat": 4,
 "nbformat_minor": 4
}

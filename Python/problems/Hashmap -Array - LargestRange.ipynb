{
 "cells": [
  {
   "cell_type": "markdown",
   "metadata": {},
   "source": [
    "## Problem\n",
    "Find largest range in a given array of integres. It should return starting number and end number.\n",
    "Range : A set of numbers that comes right after each numbers.\n",
    "\n",
    "Example:\n",
    "array = [1,11,3,0,15,5,2,4,10,7,12,6]\n",
    "\n",
    "output: [0,7] # The largest set is 0,1,2,3,4,5,6,7"
   ]
  },
  {
   "cell_type": "code",
   "execution_count": 6,
   "metadata": {},
   "outputs": [],
   "source": [
    "# O(n) | O(n) space\n",
    "def largestRange(array):\n",
    "    start = 0\n",
    "    end = 0\n",
    "    largest = 0\n",
    "    m = {}\n",
    "    \n",
    "    for n in array:\n",
    "        m[n] = True\n",
    "    \n",
    "    for n in array:\n",
    "        left = n-1\n",
    "        right = n+1\n",
    "        length = 0\n",
    "        while left in m:\n",
    "            left -= 1\n",
    "            length += 1\n",
    "        while right in m:\n",
    "            right += 1\n",
    "            length += 1\n",
    "        \n",
    "        if largest <= length:\n",
    "            largest = length\n",
    "            start = left + 1\n",
    "            end = right -1\n",
    "    return [start, end]"
   ]
  },
  {
   "cell_type": "code",
   "execution_count": 7,
   "metadata": {},
   "outputs": [
    {
     "name": "stdout",
     "output_type": "stream",
     "text": [
      "[0, 7]\n"
     ]
    }
   ],
   "source": [
    "array = [1,11,3,0,15,5,2,4,10,7,12,6]\n",
    "print(largestRange(array))"
   ]
  },
  {
   "cell_type": "code",
   "execution_count": 8,
   "metadata": {},
   "outputs": [
    {
     "name": "stdout",
     "output_type": "stream",
     "text": [
      "[1, 1]\n"
     ]
    }
   ],
   "source": [
    "array = [1]\n",
    "print(largestRange(array))"
   ]
  },
  {
   "cell_type": "code",
   "execution_count": null,
   "metadata": {},
   "outputs": [],
   "source": []
  }
 ],
 "metadata": {
  "kernelspec": {
   "display_name": "Python 3",
   "language": "python",
   "name": "python3"
  },
  "language_info": {
   "codemirror_mode": {
    "name": "ipython",
    "version": 3
   },
   "file_extension": ".py",
   "mimetype": "text/x-python",
   "name": "python",
   "nbconvert_exporter": "python",
   "pygments_lexer": "ipython3",
   "version": "3.8.3"
  }
 },
 "nbformat": 4,
 "nbformat_minor": 4
}

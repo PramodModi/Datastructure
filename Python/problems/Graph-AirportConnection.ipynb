{
 "cells": [
  {
   "cell_type": "markdown",
   "metadata": {},
   "source": [
    "## Problem\n",
    "You have given list of airports short name, routes and one airport name. Write a function which will return the required minimum number of connection from given airport, so that all airports can be reached directly or indirectly (with stops) from this airport."
   ]
  },
  {
   "cell_type": "markdown",
   "metadata": {},
   "source": [
    "#### Approach"
   ]
  },
  {
   "cell_type": "raw",
   "metadata": {},
   "source": [
    "1. Find all airports not reachable from this airports. That would be the maximum number of connections. However, we do not have to return maximum, but return minimum number of connections.\n",
    "2. To minimize the new connections, need to find out, among non-reachable airports, which airport connects maximum other airports which are non reachable from given airports. \n",
    "3. Sort the nonreachable airports in the number of reachable airports calculated at step2\n",
    "4. Iterate these airports. For 1st one, number of connection would be 1, then remove or marked other airports which can be reached via new connected airport. While iterating do not consider those airports which can be reachable with new connection.\n",
    "\n",
    "\n",
    "Now, to code, need to create a graph for airports and uts routes.\n",
    "Also, airport node should have attribute which can help to identify, if this airport is reachable from asked airport or not. Also, it should have list of all non reachable airports."
   ]
  },
  {
   "cell_type": "code",
   "execution_count": 5,
   "metadata": {},
   "outputs": [],
   "source": [
    "def airportConnection(airports, routes, startingAirport):\n",
    "    airportGraph = createAirportGraph(airports, routes)\n",
    "    notReachableAirports = getNoneReachableAirports(startingAirport, airportGraph, airports)\n",
    "    getNumberOfNonReachableAirports(notReachableAirports, airportGraph)\n",
    "    return numberOfConnetions(notReachableAirports,airportGraph)\n",
    "    \n",
    "    \n",
    "def createAirportGraph(airports, routes):\n",
    "    airportGraph = {}\n",
    "    for airport in airports:\n",
    "        airportGraph[airport] = airportNode(airport)\n",
    "    \n",
    "    for route in routes:\n",
    "        airport, dest = route\n",
    "        airportGraph[airport].connections.append(dest)\n",
    "    return airportGraph\n",
    "\n",
    "def getNoneReachableAirports(startingAirport, airportGraph, airports):\n",
    "    visited = {}\n",
    "    depthSearchNotReachable(startingAirport, airportGraph, visited)\n",
    "    nonVisitedAirports = []\n",
    "    for airport in airports:\n",
    "        if airport not in visited:\n",
    "            airportGraph[airport].reachable = False\n",
    "            nonVisitedAirports.append(airportGraph[airport])\n",
    "    return nonVisitedAirports\n",
    "    \n",
    "def depthSearchNotReachable(airport, airportGraph, visited):\n",
    "    if airport in visited:\n",
    "        return\n",
    "    visited[airport] = True\n",
    "    \n",
    "    for connection in airportGraph[airport].connections:\n",
    "        depthSearchNotReachable(connection, airportGraph, visited)\n",
    "        \n",
    "def getNumberOfNonReachableAirports(notReachableAirports, airportGraph):\n",
    "    for airportNode in notReachableAirports:\n",
    "        airport = airportNode.airport\n",
    "        nonReachable = []\n",
    "        depthFirstSearchForUnReachableAirports(airport, airportGraph,nonReachable, {} )\n",
    "        airportNode.unreachables = nonReachable\n",
    "        \n",
    "def depthFirstSearchForUnReachableAirports(airport, airportGraph,nonReachable, visited):\n",
    "    if airportGraph[airport].reachable:\n",
    "        return\n",
    "    if airport in visited:\n",
    "        return\n",
    "    visited[airport] = True\n",
    "    nonReachable.append(airport)\n",
    "    for connection in airportGraph[airport].connections:\n",
    "        depthFirstSearchForUnReachableAirports(airport, airportGraph,nonReachable, visited)\n",
    "\n",
    "def numberOfConnetions(notReachableAirports,airportGraph):\n",
    "    notReachableAirports.sort(key = lambda airport: len(airport.unReachables), reverse = True)\n",
    "    count  = 0\n",
    "    for airportNode in notReachableAirports:\n",
    "        if airportNode.reachable:\n",
    "            continue\n",
    "        count += 1\n",
    "        for unreachable in airportNode.unReachables:\n",
    "            airportGraph[unreachable].reachable = True\n",
    "    return count\n",
    "    \n",
    "\n",
    "class airportNode:\n",
    "    def __init__(self, airport):\n",
    "        self.airport = airport\n",
    "        self.connections = []\n",
    "        self.reachable = True\n",
    "        self.unReachables = []\n",
    "\n",
    "\n",
    "        "
   ]
  },
  {
   "cell_type": "code",
   "execution_count": 6,
   "metadata": {},
   "outputs": [
    {
     "data": {
      "text/plain": [
       "17"
      ]
     },
     "execution_count": 6,
     "metadata": {},
     "output_type": "execute_result"
    }
   ],
   "source": [
    "airports = [\"BGI\", \"CDG\", \"DEL\", \"DOH\", \"DSM\", \"EWR\", \"EYW\", \"HND\", \"ICN\", \"JFK\", \"LGA\", \"LHR\", \"ORD\", \"SAN\", \"SFO\", \"SIN\", \"TLV\", \"BUD\"]\n",
    "routes = [\n",
    "  [\"DSM\", \"ORD\"],\n",
    "  [\"ORD\", \"BGI\"],\n",
    "  [\"BGI\", \"LGA\"],\n",
    "  [\"SIN\", \"CDG\"],\n",
    "  [\"CDG\", \"SIN\"],\n",
    "  [\"CDG\", \"BUD\"],\n",
    "  [\"DEL\", \"DOH\"],\n",
    "  [\"DEL\", \"CDG\"],\n",
    "  [\"TLV\", \"DEL\"],\n",
    "  [\"EWR\", \"HND\"],\n",
    "  [\"HND\", \"ICN\"],\n",
    "  [\"HND\", \"JFK\"],\n",
    "  [\"ICN\", \"JFK\"],\n",
    "  [\"JFK\", \"LGA\"],\n",
    "  [\"EYW\", \"LHR\"],\n",
    "  [\"LHR\", \"SFO\"],\n",
    "  [\"SFO\", \"SAN\"],\n",
    "  [\"SFO\", \"DSM\"],\n",
    "  [\"SAN\", \"EYW\"]\n",
    "]\n",
    "startingAirport = \"LGA\"\n",
    "airportConnection(airports, routes, startingAirport)"
   ]
  },
  {
   "cell_type": "code",
   "execution_count": null,
   "metadata": {},
   "outputs": [],
   "source": []
  }
 ],
 "metadata": {
  "kernelspec": {
   "display_name": "Python 3",
   "language": "python",
   "name": "python3"
  },
  "language_info": {
   "codemirror_mode": {
    "name": "ipython",
    "version": 3
   },
   "file_extension": ".py",
   "mimetype": "text/x-python",
   "name": "python",
   "nbconvert_exporter": "python",
   "pygments_lexer": "ipython3",
   "version": "3.8.3"
  }
 },
 "nbformat": 4,
 "nbformat_minor": 4
}

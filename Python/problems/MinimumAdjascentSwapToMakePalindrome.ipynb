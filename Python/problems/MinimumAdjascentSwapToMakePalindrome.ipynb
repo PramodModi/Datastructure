{
 "cells": [
  {
   "cell_type": "markdown",
   "metadata": {},
   "source": [
    "## Problem\n",
    "\n",
    "Given a string, what is the minimum number of adjacent swaps required to convert a string into a palindrome. If not possible, return -1.\n",
    "\n",
    "Example:\n",
    "\n",
    "Input: \"mamad\"\n",
    "\n",
    "Output: 3\n",
    "\n",
    "Example:\n",
    "\n",
    "Input: \"asflkj\"\n",
    "\n",
    "Output: -1\n",
    "\n",
    "Example:\n",
    "\n",
    "Input: \"ntiin\"\n",
    "\n",
    "Output: 1"
   ]
  },
  {
   "cell_type": "code",
   "execution_count": 36,
   "metadata": {},
   "outputs": [],
   "source": [
    "def minimumSwap(string):\n",
    "    \n",
    "    m = len(string)\n",
    "    if m == 0 or(not isShuffeledPalindrome(string)):\n",
    "        return -1\n",
    "    left = 0\n",
    "    right = m-1\n",
    "    swap = 0\n",
    "    \n",
    "    while right > left:\n",
    "        \n",
    "        if string[left] != string[right]:\n",
    "            end = right # additional pointer from end\n",
    "            \n",
    "            while(end>left and  string[end] != string[left]):\n",
    "                end -= 1\n",
    "            if end == left: # scanned whole string, then char at left position is not correct\n",
    "                string = swapString(string, left, left+1)\n",
    "                swap += 1\n",
    "            else: # Character found, then all character from end to right position\n",
    "                while(end < right):\n",
    "                    string = swapString(string, end, end+1)\n",
    "                    swap += 1\n",
    "                    end += 1\n",
    "                left += 1\n",
    "                right -= 1\n",
    "        else:\n",
    "            left += 1\n",
    "            right -= 1\n",
    "    return swap\n",
    "    \n",
    "\n",
    "\n",
    "def swapString(string, start, end):\n",
    "    s = list(string)\n",
    "    s[start], s[end] = s[end], s[start]\n",
    "    return \"\".join(s)\n",
    "\n",
    "def isShuffeledPalindrome(string):\n",
    "    \n",
    "    temp = {}\n",
    "    for s in string:\n",
    "        temp[s] = temp.get(s, 0) + 1\n",
    "    odd = 0\n",
    "    for s in string:\n",
    "        if temp[s] &1 :\n",
    "            odd += 1\n",
    "    \n",
    "    return odd<=1"
   ]
  },
  {
   "cell_type": "code",
   "execution_count": 37,
   "metadata": {},
   "outputs": [
    {
     "data": {
      "text/plain": [
       "3"
      ]
     },
     "execution_count": 37,
     "metadata": {},
     "output_type": "execute_result"
    }
   ],
   "source": [
    "string = \"mamad\"\n",
    "minimumSwap(string)"
   ]
  },
  {
   "cell_type": "code",
   "execution_count": 35,
   "metadata": {},
   "outputs": [
    {
     "name": "stdout",
     "output_type": "stream",
     "text": [
      "Start\n",
      "End\n"
     ]
    },
    {
     "data": {
      "text/plain": [
       "-1"
      ]
     },
     "execution_count": 35,
     "metadata": {},
     "output_type": "execute_result"
    }
   ],
   "source": [
    "string = \"asflkj\"\n",
    "minimumSwap(string)"
   ]
  },
  {
   "cell_type": "code",
   "execution_count": 38,
   "metadata": {},
   "outputs": [
    {
     "data": {
      "text/plain": [
       "1"
      ]
     },
     "execution_count": 38,
     "metadata": {},
     "output_type": "execute_result"
    }
   ],
   "source": [
    "string = \"ntiin\"\n",
    "minimumSwap(string)"
   ]
  },
  {
   "cell_type": "code",
   "execution_count": null,
   "metadata": {},
   "outputs": [],
   "source": []
  }
 ],
 "metadata": {
  "kernelspec": {
   "display_name": "Python 3",
   "language": "python",
   "name": "python3"
  },
  "language_info": {
   "codemirror_mode": {
    "name": "ipython",
    "version": 3
   },
   "file_extension": ".py",
   "mimetype": "text/x-python",
   "name": "python",
   "nbconvert_exporter": "python",
   "pygments_lexer": "ipython3",
   "version": "3.8.3"
  }
 },
 "nbformat": 4,
 "nbformat_minor": 4
}

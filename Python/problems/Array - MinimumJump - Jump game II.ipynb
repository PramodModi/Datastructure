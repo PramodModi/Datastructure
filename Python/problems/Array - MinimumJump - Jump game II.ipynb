{
 "cells": [
  {
   "cell_type": "markdown",
   "metadata": {},
   "source": [
    "## Problem\n",
    "\n",
    "https://leetcode.com/problems/jump-game-ii/description/\n",
    "\n",
    "Given array having non-empty positive integers, where each integer represents the maximum number of steps you can take forward in the array.\n",
    "For example, if the element at index 1 is 3 then you can go from index 1 to index 2,3 or 4.\n",
    "Write a function which can return the number of minimum number of jumps needed to reach thr final index."
   ]
  },
  {
   "cell_type": "code",
   "execution_count": 39,
   "metadata": {},
   "outputs": [],
   "source": [
    "def minNumberOfJumps(array):\n",
    "    \n",
    "    if len(array) == 1:\n",
    "        return 0\n",
    "    steps = array[0]\n",
    "    maxNextPoint = array[0]\n",
    "    jumpCount = 0\n",
    "    for i in range(1, len(array)-1):\n",
    "        maxNextPoint = max(maxNextPoint, array[i] + i)\n",
    "        steps -= 1\n",
    "        if steps == 0:\n",
    "            jumpCount += 1\n",
    "            steps = maxNextPoint - i\n",
    "    return jumpCount + 1\n",
    "            \n",
    "        \n",
    "            "
   ]
  },
  {
   "cell_type": "code",
   "execution_count": 40,
   "metadata": {},
   "outputs": [
    {
     "data": {
      "text/plain": [
       "4"
      ]
     },
     "execution_count": 40,
     "metadata": {},
     "output_type": "execute_result"
    }
   ],
   "source": [
    "array = [3,4,2,1,2,3,7,1,1,1,3]\n",
    "minNumberOfJumps(array)"
   ]
  },
  {
   "cell_type": "code",
   "execution_count": 41,
   "metadata": {},
   "outputs": [
    {
     "data": {
      "text/plain": [
       "2"
      ]
     },
     "execution_count": 41,
     "metadata": {},
     "output_type": "execute_result"
    }
   ],
   "source": [
    "array = [1, 1, 1]\n",
    "minNumberOfJumps(array)"
   ]
  },
  {
   "cell_type": "code",
   "execution_count": null,
   "metadata": {},
   "outputs": [],
   "source": []
  }
 ],
 "metadata": {
  "kernelspec": {
   "display_name": "Python 3",
   "language": "python",
   "name": "python3"
  },
  "language_info": {
   "codemirror_mode": {
    "name": "ipython",
    "version": 3
   },
   "file_extension": ".py",
   "mimetype": "text/x-python",
   "name": "python",
   "nbconvert_exporter": "python",
   "pygments_lexer": "ipython3",
   "version": "3.8.3"
  }
 },
 "nbformat": 4,
 "nbformat_minor": 4
}

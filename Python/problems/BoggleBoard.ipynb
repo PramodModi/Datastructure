{
 "cells": [
  {
   "cell_type": "markdown",
   "metadata": {},
   "source": [
    "## Problem\n",
    "Given matrix (board) with letters. Given array of words. Return words, which can be formed from board letters. Word can be formed by neighbouring letters(up, down, diagonal).\n"
   ]
  },
  {
   "cell_type": "code",
   "execution_count": 10,
   "metadata": {},
   "outputs": [],
   "source": [
    "def bogleBoard(board, words):\n",
    "    trie = Trie()\n",
    "    for word in words:\n",
    "        trie.add(word)\n",
    "    answers = {}\n",
    "    \n",
    "    visited = [[False for _ in r ] for r in board]\n",
    "    \n",
    "    root = trie.root\n",
    "    \n",
    "    for row in range(len(board)):\n",
    "        for col in range(len(board[row])):\n",
    "            explore(row, col, board, root, visited, answers)\n",
    "    return list(answers.keys())\n",
    "\n",
    "def explore(row, col, board, root, visited, answer):\n",
    "    if visited[row][col]:\n",
    "        return\n",
    "    letter = board[row][col]\n",
    "    if letter not in root:\n",
    "        return\n",
    "    visited[row][col] = True\n",
    "    root = root[letter]\n",
    "    if \"*\" in root:\n",
    "        answer[root[\"*\"]] = True\n",
    "    neighbours =  getNeighbiurs(row, col, board)\n",
    "    for n in neighbours:\n",
    "        nr, nc = n\n",
    "        explore(nr, nc, board, root, visited, answer)\n",
    "    visited[row][col] = False\n",
    "    \n",
    "def getNeighbiurs(row, col, board):\n",
    "    nList = []\n",
    "    \n",
    "    if row>0 and col>0:\n",
    "        nList.append((row-1, col-1))\n",
    "    if row < len(board) -1 and col > 0:\n",
    "        nList.append((row+1, col-1))\n",
    "        \n",
    "    if row < len(board) -1 and col < len(board[row]) - 1:\n",
    "        nList.append((row+1, col+1))\n",
    "        \n",
    "    if row > 0 and col < len(board[row]) - 1:\n",
    "        nList.append((row-1, col+1))\n",
    "        \n",
    "    if row > 0:\n",
    "        nList.append((row-1, col))\n",
    "    if row < len(board) -1:\n",
    "        nList.append((row+1, col))\n",
    "    if col > 0:\n",
    "        nList.append((row, col-1))\n",
    "    if col < len(board[row])-1:\n",
    "        nList.append((row, col+1))\n",
    "    return nList\n",
    "        \n",
    "class Trie:\n",
    "    def __init__(self):\n",
    "        self.root = {}\n",
    "        self.end = \"*\"\n",
    "    def add(self, word):\n",
    "        currentRoot = self.root\n",
    "        for w in word:\n",
    "            if w not in currentRoot:\n",
    "                currentRoot[w] = {}\n",
    "            currentRoot = currentRoot[w]\n",
    "        currentRoot[self.end] = word"
   ]
  },
  {
   "cell_type": "code",
   "execution_count": 11,
   "metadata": {},
   "outputs": [
    {
     "data": {
      "text/plain": [
       "['this', 'is', 'simple', 'a', 'boggle', 'board', 'NOTRE-PEATED']"
      ]
     },
     "execution_count": 11,
     "metadata": {},
     "output_type": "execute_result"
    }
   ],
   "source": [
    "board = [\n",
    "  [\"t\", \"h\", \"i\", \"s\", \"i\", \"s\", \"a\"],\n",
    "  [\"s\", \"i\", \"m\", \"p\", \"l\", \"e\", \"x\"],\n",
    "  [\"b\", \"x\", \"x\", \"x\", \"x\", \"e\", \"b\"],\n",
    "  [\"x\", \"o\", \"g\", \"g\", \"l\", \"x\", \"o\"],\n",
    "  [\"x\", \"x\", \"x\", \"D\", \"T\", \"r\", \"a\"],\n",
    "  [\"R\", \"E\", \"P\", \"E\", \"A\", \"d\", \"x\"],\n",
    "  [\"x\", \"x\", \"x\", \"x\", \"x\", \"x\", \"x\"],\n",
    "  [\"N\", \"O\", \"T\", \"R\", \"E\", \"-\", \"P\"],\n",
    "  [\"x\", \"x\", \"D\", \"E\", \"T\", \"A\", \"E\"]\n",
    "]\n",
    "\n",
    "words = [\"this\", \"is\", \"not\", \"a\", \"simple\", \"boggle\", \"board\", \"test\", \"REPEATED\", \"NOTRE-PEATED\"]\n",
    "\n",
    "bogleBoard(board, words)"
   ]
  },
  {
   "cell_type": "code",
   "execution_count": null,
   "metadata": {},
   "outputs": [],
   "source": []
  }
 ],
 "metadata": {
  "kernelspec": {
   "display_name": "Python 3",
   "language": "python",
   "name": "python3"
  },
  "language_info": {
   "codemirror_mode": {
    "name": "ipython",
    "version": 3
   },
   "file_extension": ".py",
   "mimetype": "text/x-python",
   "name": "python",
   "nbconvert_exporter": "python",
   "pygments_lexer": "ipython3",
   "version": "3.8.3"
  }
 },
 "nbformat": 4,
 "nbformat_minor": 4
}

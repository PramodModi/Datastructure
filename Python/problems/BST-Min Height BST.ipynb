{
 "cells": [
  {
   "cell_type": "markdown",
   "metadata": {},
   "source": [
    "## Problem: \n",
    "\n",
    "Write a function that takes in a non-empty sorted array of distinct integers, constructs a BST from the\n",
    "integers, and returns the root of the BST.\n",
    "The function should minimize the height of the BST.\n",
    "You've been provided with a BST class that you'll have to use to construct the BST.\n",
    "Each BST node has an integer value , a left child node, and a right child node. A node is said\n",
    "to be a valid BST node if and only if it satisfies the BST property: its value is strictly greater than the\n",
    "values of every node to its left; its value is less than or equal to the values of every node to its right;\n",
    "and its children nodes are either valid BST nodes themselves or None / null .\n",
    "A BST is valid if and only if all of its nodes are valid BST nodes.\n",
    "Note that the BST class already has an insert method which you can use if you want.\n",
    "\n",
    "Example:\n",
    "\n",
    "array = [1, 2, 5, 7, 10, 13, 14, 15, 22]\n",
    "\n",
    "Output:\n",
    "\n",
    "\n",
    "                     10\n",
    "                     /  \\\n",
    "                    2    14\n",
    "                   / \\   / \\\n",
    "                  1   5 13 15\n",
    "                       \\     \\\n",
    "                        7     22\n",
    "                        \n",
    "// This is one example of a BST with min height\n",
    "// that you could create from the input array.\n",
    "// You could create other BSTs with min height\n",
    "// from the same array; for example:\n",
    "\n",
    "                         10\n",
    "                         /  \\\n",
    "                        5    15\n",
    "                       / \\   / \\\n",
    "                      2   7 13 22\n",
    "                     /       \\\n",
    "                    1         14\n"
   ]
  },
  {
   "cell_type": "code",
   "execution_count": 1,
   "metadata": {},
   "outputs": [],
   "source": [
    "def minHeightBst(array):\n",
    "    return createMinHeightBst(array, 0, len(array)-1)\n",
    "\n",
    "def createMinHeightBst(array, minIndex, maxIndex):\n",
    "    if maxIndex < minIndex:\n",
    "        return None\n",
    "    midIndex = (minIndex + maxIndex)//2\n",
    "    bst = BST(array[midIndex])\n",
    "    bst.left = createMinHeightBst(array, minIndex, midIndex-1)\n",
    "    bst.right = createMinHeightBst(array, midIndex + 1, maxIndex)\n",
    "    return bst\n",
    "    \n",
    "class BST:\n",
    "    def __init__(self, value):\n",
    "        self.value = value\n",
    "        self.left = None\n",
    "        self.right = None\n",
    "\n",
    "    def insert(self, value):\n",
    "        if value < self.value:\n",
    "            if self.left is None:\n",
    "                self.left = BST(value)\n",
    "            else:\n",
    "                self.left.insert(value)\n",
    "        else:\n",
    "            if self.right is None:\n",
    "                self.right = BST(value)\n",
    "            else:\n",
    "                self.right.insert(value)"
   ]
  },
  {
   "cell_type": "code",
   "execution_count": null,
   "metadata": {},
   "outputs": [],
   "source": []
  }
 ],
 "metadata": {
  "kernelspec": {
   "display_name": "Python 3",
   "language": "python",
   "name": "python3"
  },
  "language_info": {
   "codemirror_mode": {
    "name": "ipython",
    "version": 3
   },
   "file_extension": ".py",
   "mimetype": "text/x-python",
   "name": "python",
   "nbconvert_exporter": "python",
   "pygments_lexer": "ipython3",
   "version": "3.8.3"
  }
 },
 "nbformat": 4,
 "nbformat_minor": 4
}

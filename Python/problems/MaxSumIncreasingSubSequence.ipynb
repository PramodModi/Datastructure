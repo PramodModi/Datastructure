{
 "cells": [
  {
   "cell_type": "code",
   "execution_count": 27,
   "metadata": {},
   "outputs": [],
   "source": [
    "def maxSumIncreasingSubSequnce(arry):\n",
    "    sequences = [None]*len(array)\n",
    "    sum = array[:]\n",
    "    maxIndx = 0\n",
    "    for i in range(len(array)):\n",
    "        current = array[i]\n",
    "        for j in range(0, i):\n",
    "            prev = array[j]\n",
    "            if prev < current and sum[j] + current >= sum[i]:\n",
    "                sum[i] = sum[j] + current\n",
    "                sequences[i] = j\n",
    "        if sum[i] >= sum[maxIndx]:\n",
    "            maxIndx = i\n",
    "        \n",
    "    return [sum[maxIndx], buildSequence(array, sequences, maxIndx)]\n",
    "def buildSequence(array, sequences, currentIndx):\n",
    "    seq = []\n",
    "    while currentIndx is not None:\n",
    "        seq.append(array[currentIndx])\n",
    "        currentIndx = sequences[currentIndx]\n",
    "        \n",
    "    return list(reversed(seq))\n"
   ]
  },
  {
   "cell_type": "code",
   "execution_count": 28,
   "metadata": {},
   "outputs": [
    {
     "name": "stdout",
     "output_type": "stream",
     "text": [
      "[110, [10, 20, 30, 50]]\n"
     ]
    }
   ],
   "source": [
    "array = [10,70,20,30,50,11,30]\n",
    "print(maxSumIncreasingSubSequnce(array))"
   ]
  }
 ],
 "metadata": {
  "kernelspec": {
   "display_name": "Python 3",
   "language": "python",
   "name": "python3"
  },
  "language_info": {
   "codemirror_mode": {
    "name": "ipython",
    "version": 3
   },
   "file_extension": ".py",
   "mimetype": "text/x-python",
   "name": "python",
   "nbconvert_exporter": "python",
   "pygments_lexer": "ipython3",
   "version": "3.8.3"
  }
 },
 "nbformat": 4,
 "nbformat_minor": 4
}

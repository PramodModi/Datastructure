{
 "cells": [
  {
   "cell_type": "code",
   "execution_count": 27,
   "metadata": {},
   "outputs": [],
   "source": [
    "def maxSumIncreasingSubSequnce(arry):\n",
    "    sequences = [None]*len(array)\n",
    "    sum = array[:]\n",
    "    maxIndx = 0\n",
    "    for i in range(len(array)):\n",
    "        current = array[i]\n",
    "        for j in range(0, i):\n",
    "            prev = array[j]\n",
    "            if prev < current and sum[j] + current >= sum[i]:\n",
    "                sum[i] = sum[j] + current\n",
    "                sequences[i] = j\n",
    "        if sum[i] >= sum[maxIndx]:\n",
    "            maxIndx = i\n",
    "        \n",
    "    return [sum[maxIndx], buildSequence(array, sequences, maxIndx)]\n",
    "def buildSequence(array, sequences, currentIndx):\n",
    "    seq = []\n",
    "    while currentIndx is not None:\n",
    "        seq.append(array[currentIndx])\n",
    "        currentIndx = sequences[currentIndx]\n",
    "        \n",
    "    return list(reversed(seq))\n"
   ]
  },
  {
   "cell_type": "code",
   "execution_count": 29,
   "metadata": {},
   "outputs": [
    {
     "name": "stdout",
     "output_type": "stream",
     "text": [
      "[110, [10, 20, 30, 50]]\n"
     ]
    }
   ],
   "source": [
    "array = [10,70,20,30,50,11,30]\n",
    "print(maxSumIncreasingSubSequnce(array))"
   ]
  },
  {
   "cell_type": "code",
   "execution_count": 30,
   "metadata": {},
   "outputs": [
    {
     "name": "stdout",
     "output_type": "stream",
     "text": [
      "[14, [2, 3, 4, 5]]\n"
     ]
    }
   ],
   "source": [
    "array = [2,3,8,4,1,5,4]\n",
    "print(maxSumIncreasingSubSequnce(array))"
   ]
  },
  {
   "cell_type": "code",
   "execution_count": 30,
   "metadata": {},
   "outputs": [],
   "source": [
    "## By using Back tracking\n",
    "class currentSum:\n",
    "    def __init__(self, value, maxsum):\n",
    "        self.value = value\n",
    "        self.maxSum = maxsum\n",
    "        self.result = []\n",
    "def maxSumIncreasingSubSequnce_bt(array):\n",
    "    temp = []\n",
    "    cs= currentSum(0, float(\"-inf\"))\n",
    "    helper(array, temp, cs, 0)\n",
    "    return [cs.maxSum, cs.result]\n",
    "\n",
    "def helper(array,temp, cs, index):\n",
    "    \n",
    "    m = len(temp)\n",
    "    if m > 0:\n",
    "        cs.value += temp[m-1]\n",
    "        if cs.maxSum < cs.value:\n",
    "            cs.maxSum = cs.value\n",
    "            cs.result = temp[:]\n",
    "    \n",
    "    for i in range(index, len(array)):\n",
    "        if i> 0 and temp and temp[-1] >= array[i]:\n",
    "            continue\n",
    "        temp.append(array[i])\n",
    "        helper(array,temp, cs, i+1)\n",
    "        cs.value -= temp.pop()"
   ]
  },
  {
   "cell_type": "code",
   "execution_count": 31,
   "metadata": {},
   "outputs": [
    {
     "data": {
      "text/plain": [
       "[110, [10, 20, 30, 50]]"
      ]
     },
     "execution_count": 31,
     "metadata": {},
     "output_type": "execute_result"
    }
   ],
   "source": [
    "array = [10,70,20,30,50,11,30]\n",
    "maxSumIncreasingSubSequnce_bt(array)"
   ]
  },
  {
   "cell_type": "code",
   "execution_count": 32,
   "metadata": {},
   "outputs": [
    {
     "data": {
      "text/plain": [
       "[14, [2, 3, 4, 5]]"
      ]
     },
     "execution_count": 32,
     "metadata": {},
     "output_type": "execute_result"
    }
   ],
   "source": [
    "array = [2,3,8,4,1,5,4]\n",
    "maxSumIncreasingSubSequnce_bt(array)"
   ]
  },
  {
   "cell_type": "code",
   "execution_count": null,
   "metadata": {},
   "outputs": [],
   "source": []
  }
 ],
 "metadata": {
  "kernelspec": {
   "display_name": "Python 3",
   "language": "python",
   "name": "python3"
  },
  "language_info": {
   "codemirror_mode": {
    "name": "ipython",
    "version": 3
   },
   "file_extension": ".py",
   "mimetype": "text/x-python",
   "name": "python",
   "nbconvert_exporter": "python",
   "pygments_lexer": "ipython3",
   "version": "3.8.3"
  }
 },
 "nbformat": 4,
 "nbformat_minor": 4
}

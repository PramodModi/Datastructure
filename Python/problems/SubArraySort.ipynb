{
 "cells": [
  {
   "cell_type": "markdown",
   "metadata": {},
   "source": [
    "## Problem\n",
    "input: Array of at least two integres\n",
    "outpt: returns an array of the starting and ending indices of the smallest subarray in the input array that needs to be stored in place in order for the entire array to be sorted (in ascending order).\n",
    "If the input is alreadt sorted, the function should return [-1,-1]\n",
    "\n",
    "Example: \n",
    "array = [1,2,4,7,10,11,7,12,6,7,16,18,19]\n",
    "output: [3,9]\n",
    "\n",
    "array = [1,2,3,4,5,6,7,8]\n",
    "output : [-1,-1]"
   ]
  },
  {
   "cell_type": "code",
   "execution_count": 1,
   "metadata": {},
   "outputs": [],
   "source": [
    "def subarraySort(array):\n",
    "    minm = float('inf')\n",
    "    maxm = float('-inf')\n",
    "\n",
    "    for i in range(1, len(array)):\n",
    "        if array[i-1] > array[i]:\n",
    "            minm = min(minm, array[i])\n",
    "            maxm = max(maxm, array[i-1])\n",
    "    if minm ==float('inf'):\n",
    "        return [-1,-1]\n",
    "    left = 0\n",
    "    right = len(array) -1\n",
    "    while(minm >= array[left]):\n",
    "        left += 1\n",
    "    while(maxm < array[right]):\n",
    "        right -= 1\n",
    "    return [left, right]"
   ]
  },
  {
   "cell_type": "code",
   "execution_count": 2,
   "metadata": {},
   "outputs": [
    {
     "name": "stdout",
     "output_type": "stream",
     "text": [
      "[3, 9]\n"
     ]
    }
   ],
   "source": [
    "array = [1,2,4,7,10,11,7,12,6,7,16,18,19]\n",
    "print(subarraySort(array))"
   ]
  },
  {
   "cell_type": "code",
   "execution_count": 3,
   "metadata": {},
   "outputs": [
    {
     "name": "stdout",
     "output_type": "stream",
     "text": [
      "[4, 10]\n"
     ]
    }
   ],
   "source": [
    "array = [1,2,4,7,10,11,7,12,7,7,7,16,18,19]\n",
    "print(subarraySort(array))"
   ]
  },
  {
   "cell_type": "code",
   "execution_count": 4,
   "metadata": {},
   "outputs": [
    {
     "name": "stdout",
     "output_type": "stream",
     "text": [
      "[4, 8]\n"
     ]
    }
   ],
   "source": [
    "array = [1,2,4,7,18,8,9,12,17,19]\n",
    "print(subarraySort(array))"
   ]
  },
  {
   "cell_type": "code",
   "execution_count": 5,
   "metadata": {},
   "outputs": [
    {
     "name": "stdout",
     "output_type": "stream",
     "text": [
      "[-1, -1]\n"
     ]
    }
   ],
   "source": [
    "array = [1,2,3,4,5,6,7,8]\n",
    "print(subarraySort(array))"
   ]
  },
  {
   "cell_type": "code",
   "execution_count": null,
   "metadata": {},
   "outputs": [],
   "source": []
  }
 ],
 "metadata": {
  "kernelspec": {
   "display_name": "Python 3",
   "language": "python",
   "name": "python3"
  },
  "language_info": {
   "codemirror_mode": {
    "name": "ipython",
    "version": 3
   },
   "file_extension": ".py",
   "mimetype": "text/x-python",
   "name": "python",
   "nbconvert_exporter": "python",
   "pygments_lexer": "ipython3",
   "version": "3.8.3"
  }
 },
 "nbformat": 4,
 "nbformat_minor": 4
}

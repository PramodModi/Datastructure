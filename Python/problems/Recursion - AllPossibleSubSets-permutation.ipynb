{
 "cells": [
  {
   "cell_type": "markdown",
   "metadata": {},
   "source": [
    "## Problem\n",
    "\n",
    "Given an array nums of distinct integers, return all the possible permutations. You can return the answer in any order.\n",
    "\n",
    "Example1:\n",
    "\n",
    "Input: nums = [1,2,3]\n",
    "\n",
    "Output: [[1,2,3],[1,3,2],[2,1,3],[2,3,1],[3,1,2],[3,2,1]]\n",
    "\n",
    "Example2:\n",
    "\n",
    "Input: nums = [0,1]\n",
    "\n",
    "Output: [[0,1],[1,0]]\n",
    "\n",
    "Example3:\n",
    "\n",
    "Input: nums = [1]\n",
    "\n",
    "Output: [[1]]\n"
   ]
  },
  {
   "cell_type": "code",
   "execution_count": 86,
   "metadata": {},
   "outputs": [],
   "source": [
    "def permute(nums):\n",
    "    result = []\n",
    "    dfs(result, nums, 0)\n",
    "    return result\n",
    "\n",
    "def dfs(result, nums, startIndex):\n",
    "    \n",
    "    \n",
    "    if startIndex == len(nums)-1:\n",
    "        result.append(nums[:])\n",
    "        \n",
    "    else:\n",
    "    \n",
    "        for i in range(startIndex,len(nums)):\n",
    "            \n",
    "            nums[startIndex], nums[i] = nums[i], nums[startIndex]\n",
    "            dfs(result, nums, startIndex+1)\n",
    "            \n",
    "            nums[startIndex], nums[i] = nums[i], nums[startIndex]"
   ]
  },
  {
   "cell_type": "code",
   "execution_count": 87,
   "metadata": {},
   "outputs": [
    {
     "data": {
      "text/plain": [
       "[[1, 2, 3], [1, 3, 2], [2, 1, 3], [2, 3, 1], [3, 2, 1], [3, 1, 2]]"
      ]
     },
     "execution_count": 87,
     "metadata": {},
     "output_type": "execute_result"
    }
   ],
   "source": [
    "permute([1,2,3])"
   ]
  },
  {
   "cell_type": "code",
   "execution_count": 88,
   "metadata": {},
   "outputs": [
    {
     "data": {
      "text/plain": [
       "[[1, 1, 2], [1, 2, 1], [1, 1, 2], [1, 2, 1], [2, 1, 1], [2, 1, 1]]"
      ]
     },
     "execution_count": 88,
     "metadata": {},
     "output_type": "execute_result"
    }
   ],
   "source": [
    "permute([1,1,2])"
   ]
  },
  {
   "cell_type": "markdown",
   "metadata": {},
   "source": [
    "## Problem\n",
    "Given a collection of numbers, nums, that might contain duplicates, return all possible unique permutations in any order.\n",
    "\n",
    "Example1:\n",
    "Input: nums = [1,1,2]\n",
    "\n",
    "Output:\n",
    "[[1,1,2],\n",
    " [1,2,1],\n",
    " [2,1,1]]\n",
    " \n",
    "Example2:\n",
    "\n",
    "Input: nums = [1,2,3]\n",
    "\n",
    "Output: [[1,2,3],[1,3,2],[2,1,3],[2,3,1],[3,1,2],[3,2,1]]"
   ]
  },
  {
   "cell_type": "code",
   "execution_count": 112,
   "metadata": {},
   "outputs": [],
   "source": [
    "def permute1(nums):\n",
    "    nums.sort()\n",
    "    result = []\n",
    "    dfs(result, nums, 0)\n",
    "    return result\n",
    "\n",
    "def dfs(result, nums, startIndex):\n",
    "    \n",
    "    \n",
    "    if startIndex == len(nums)-1:\n",
    "        result.append(nums[:])\n",
    "        return\n",
    "    \n",
    "    for i in range(startIndex,len(nums)):\n",
    "        if i> startIndex and nums[startIndex] == nums[i]:\n",
    "            continue\n",
    "        nums[startIndex], nums[i] = nums[i], nums[startIndex]\n",
    "        \n",
    "        dfs(result, nums, startIndex+1)\n",
    "        \n",
    "        nums[startIndex], nums[i] = nums[i], nums[startIndex]\n",
    "\n"
   ]
  },
  {
   "cell_type": "code",
   "execution_count": 113,
   "metadata": {},
   "outputs": [
    {
     "data": {
      "text/plain": [
       "[[1, 1, 2], [1, 2, 1], [2, 1, 1]]"
      ]
     },
     "execution_count": 113,
     "metadata": {},
     "output_type": "execute_result"
    }
   ],
   "source": [
    "permute1([1,1,2])"
   ]
  },
  {
   "cell_type": "code",
   "execution_count": 114,
   "metadata": {},
   "outputs": [
    {
     "data": {
      "text/plain": [
       "[[1, 2, 3], [1, 3, 2], [2, 1, 3], [2, 3, 1], [3, 2, 1], [3, 1, 2]]"
      ]
     },
     "execution_count": 114,
     "metadata": {},
     "output_type": "execute_result"
    }
   ],
   "source": [
    "permute1([1,2,3])"
   ]
  },
  {
   "cell_type": "code",
   "execution_count": 115,
   "metadata": {},
   "outputs": [
    {
     "data": {
      "text/plain": [
       "[[1, 1, 2, 2],\n",
       " [1, 2, 1, 2],\n",
       " [1, 2, 2, 1],\n",
       " [1, 2, 2, 1],\n",
       " [1, 2, 1, 2],\n",
       " [2, 1, 1, 2],\n",
       " [2, 1, 2, 1],\n",
       " [2, 2, 1, 1],\n",
       " [2, 1, 2, 1],\n",
       " [2, 1, 1, 2],\n",
       " [2, 2, 1, 1]]"
      ]
     },
     "execution_count": 115,
     "metadata": {},
     "output_type": "execute_result"
    }
   ],
   "source": [
    "permute1([2,2,1,1])"
   ]
  },
  {
   "cell_type": "code",
   "execution_count": null,
   "metadata": {},
   "outputs": [],
   "source": []
  }
 ],
 "metadata": {
  "kernelspec": {
   "display_name": "Python 3",
   "language": "python",
   "name": "python3"
  },
  "language_info": {
   "codemirror_mode": {
    "name": "ipython",
    "version": 3
   },
   "file_extension": ".py",
   "mimetype": "text/x-python",
   "name": "python",
   "nbconvert_exporter": "python",
   "pygments_lexer": "ipython3",
   "version": "3.8.3"
  }
 },
 "nbformat": 4,
 "nbformat_minor": 4
}

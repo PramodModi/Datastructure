{
 "cells": [
  {
   "cell_type": "markdown",
   "metadata": {},
   "source": [
    "## Problem\n",
    "\n",
    "You are given two arrays A and B consisting of N integers each.\n",
    "\n",
    "Index K is named fair if the four sums (A[0] + ... + A[K-1]), (A[k] + ... + A[N-1]), (B[0] + ... + B[k-1]) and (B[K] + ... + B[N-1]) are all equal. In other words, K is the index where the two arrays, A and B, can be split (into two non-empty arrays each) in such a way that the sums of the resulting arrays' elements are equal.\n",
    "\n",
    "write a function:\n",
    "\n",
    "int fairIndexes(vector<int> &A, vector<int> &B);\n",
    "which, given two arrays of integers A and B, returns the number of fair indexes.\n",
    "\n",
    "Example 1:\n",
    "Input: A = [4, -1, 0, 3], B = [-2, 5, 0, 3]\n",
    "Output: 2\n",
    "Explanation:\n",
    "The fair indexes are 2 and 3. In both cases, the sums of elements the subarrays are equal to 3.\n",
    "\n",
    "For index = 2;\n",
    "\n",
    "4 + (-1) = 3; 0 + 3 = 3;\n",
    "\n",
    "-2 + 5 = 3; 0 + 3 = 3;\n",
    "\n",
    "Example 2:\n",
    "Input: A = [2, -2, -3, 3], B = [0, 0, 4, -4]\n",
    "Output: 1\n",
    "Explanation:\n",
    "The only fair index is 2."
   ]
  },
  {
   "cell_type": "code",
   "execution_count": 3,
   "metadata": {},
   "outputs": [],
   "source": [
    "def fairIndex(A,B):\n",
    "    # calculate preix sum of array\n",
    "    for i in range(1, len(A)):\n",
    "        A[i] = A[i]+A[i-1]\n",
    "        B[i] = B[i] + B[i-1]\n",
    "    \n",
    "    count = 0\n",
    "    for k in range(1, len(A)):\n",
    "        leftA, rightA = A[k-1], (A[-1] - A[k-1])\n",
    "        leftB, rightB = B[k-1], (B[-1] - B[k-1])\n",
    "        \n",
    "        count += 1 if (leftA == rightA == leftB == rightB) else 0\n",
    "    return count\n",
    "\n",
    "\n",
    "    "
   ]
  },
  {
   "cell_type": "code",
   "execution_count": 4,
   "metadata": {},
   "outputs": [
    {
     "data": {
      "text/plain": [
       "2"
      ]
     },
     "execution_count": 4,
     "metadata": {},
     "output_type": "execute_result"
    }
   ],
   "source": [
    "A=[4,-1,0,3]\n",
    "B = [-2,5,0,3]\n",
    "fairIndex(A,B)"
   ]
  },
  {
   "cell_type": "code",
   "execution_count": 5,
   "metadata": {},
   "outputs": [
    {
     "data": {
      "text/plain": [
       "1"
      ]
     },
     "execution_count": 5,
     "metadata": {},
     "output_type": "execute_result"
    }
   ],
   "source": [
    "A=[2,-2,-3,3]\n",
    "B = [0,0,4,-4]\n",
    "fairIndex(A,B)"
   ]
  }
 ],
 "metadata": {
  "kernelspec": {
   "display_name": "Python 3",
   "language": "python",
   "name": "python3"
  },
  "language_info": {
   "codemirror_mode": {
    "name": "ipython",
    "version": 3
   },
   "file_extension": ".py",
   "mimetype": "text/x-python",
   "name": "python",
   "nbconvert_exporter": "python",
   "pygments_lexer": "ipython3",
   "version": "3.8.3"
  }
 },
 "nbformat": 4,
 "nbformat_minor": 4
}

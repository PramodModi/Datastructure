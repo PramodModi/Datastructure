{
 "cells": [
  {
   "cell_type": "markdown",
   "metadata": {},
   "source": [
    "## Problem\n",
    "Find more profit gain by cutting rod into given pieces and selling.\n",
    "Example:\n",
    "\n",
    "Length of pieces = 1,2,3,4\n",
    "\n",
    "Profit on corresponding pieces = 1,5,8,9\n",
    "\n",
    "You have length of rod = 4\n",
    "\n",
    "Output = 2 pieces of length 2 each. And profit = 10\n",
    "\n",
    "Input= [[1,1],[2,5],[3,8],[4,9]], length = 4\n",
    "output = [10, [2,2]]"
   ]
  },
  {
   "cell_type": "code",
   "execution_count": 30,
   "metadata": {},
   "outputs": [],
   "source": [
    "def rodCuttingMaxProfit(array, length):\n",
    "    m = len(array)\n",
    "    dp =[[0 for i in range(length +1)]for j in range(m + 1)]\n",
    "    for i in range(1, m+1):\n",
    "        l = array[i-1][0]\n",
    "        p = array[i-1][1]\n",
    "        \n",
    "        for j in range(length + 1):\n",
    "            if l > j:\n",
    "                dp[i][j] = dp[i-1][j]\n",
    "            else:\n",
    "                dp[i][j] = max(dp[i-1][j], dp[i-1][j-l] + p, dp[i][j-l] + p)\n",
    "    \n",
    "    return[dp[-1][-1], buildPieces(dp, array)]\n",
    "\n",
    "def buildPieces(dp, array):\n",
    "    i = len(dp) - 1\n",
    "    j = len(dp[0]) - 1\n",
    "    seq = []\n",
    "    while i > 0:\n",
    "        if dp[i][j] == dp[i-1][j]:\n",
    "            i -= 1\n",
    "        else:\n",
    "            seq.append(array[i-1][0])\n",
    "            j -= array[i-1][0]\n",
    "        if j == 0:\n",
    "            break\n",
    "    return seq"
   ]
  },
  {
   "cell_type": "code",
   "execution_count": 31,
   "metadata": {},
   "outputs": [
    {
     "data": {
      "text/plain": [
       "[10, [2, 2]]"
      ]
     },
     "execution_count": 31,
     "metadata": {},
     "output_type": "execute_result"
    }
   ],
   "source": [
    "array = [[1,1],[2,5], [3,8], [4,9]]\n",
    "length = 4\n",
    "rodCuttingMaxProfit(array, length)"
   ]
  },
  {
   "cell_type": "code",
   "execution_count": 32,
   "metadata": {},
   "outputs": [
    {
     "data": {
      "text/plain": [
       "[30, [2, 2, 2, 2, 2, 2]]"
      ]
     },
     "execution_count": 32,
     "metadata": {},
     "output_type": "execute_result"
    }
   ],
   "source": [
    "array = [[6,7],[2,5], [4,6]]\n",
    "length = 12\n",
    "rodCuttingMaxProfit(array, length)"
   ]
  },
  {
   "cell_type": "code",
   "execution_count": null,
   "metadata": {},
   "outputs": [],
   "source": []
  }
 ],
 "metadata": {
  "kernelspec": {
   "display_name": "Python 3",
   "language": "python",
   "name": "python3"
  },
  "language_info": {
   "codemirror_mode": {
    "name": "ipython",
    "version": 3
   },
   "file_extension": ".py",
   "mimetype": "text/x-python",
   "name": "python",
   "nbconvert_exporter": "python",
   "pygments_lexer": "ipython3",
   "version": "3.8.3"
  }
 },
 "nbformat": 4,
 "nbformat_minor": 4
}

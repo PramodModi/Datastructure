{
 "cells": [
  {
   "cell_type": "markdown",
   "metadata": {},
   "source": [
    "## Problem:\n",
    "\n",
    "It's photo day at the local school, and you're the photographer assigned to take class photos. The class\n",
    "that you'll be photographing has an even number of students, and all these students are wearing red\n",
    "or blue shirts. In fact, exactly half of the class is wearing red shirts, and the other half is wearing blue\n",
    "shirts. You're responsible for arranging the students in two rows before taking the photo. Each row\n",
    "should contain the same number of the students and should adhere to the following guidelines:\n",
    "All students wearing red shirts must be in the same row.\n",
    "All students wearing blue shirts must be in the same row.\n",
    "Each student in the back row must be strictly taller than the student directly in front of them in\n",
    "the front row.\n",
    "You're given two input arrays: one containing the heights of all the students with red shirts and another\n",
    "one containing the heights of all the students with blue shirts. These arrays will always have the same\n",
    "length, and each height will be a positive integer. Write a function that returns whether or not a class\n",
    "photo that follows the stated guidelines can be taken.\n",
    "Note: you can assume that each class has at least 2 students.\n",
    "\n",
    "Example:\n",
    "\n",
    "redShirtHeights = [5, 8, 1, 3, 4]\n",
    "\n",
    "blueShirtHeights = [6, 9, 2, 4, 5]\n",
    "\n",
    "Output\n",
    "true // Place all students with blue shirts in the back row."
   ]
  },
  {
   "cell_type": "code",
   "execution_count": 1,
   "metadata": {},
   "outputs": [],
   "source": [
    "def classPhotos(redShirtHeights, blueShirtHeights):\n",
    "    redShirtHeights.sort()\n",
    "    blueShirtHeights.sort()\n",
    "    \n",
    "    firstColorRed = True if redShirtHeights[0]<blueShirtHeights[0] else False\n",
    "    \n",
    "    for i in range(len(redShirtHeights)):\n",
    "        if firstColorRed:\n",
    "            if redShirtHeights[i] >= blueShirtHeights[i]:\n",
    "                return False\n",
    "        else:\n",
    "            if blueShirtHeights[i] >= redShirtHeights[i]: \n",
    "                return False\n",
    "    return True\n",
    "            \n",
    "    "
   ]
  },
  {
   "cell_type": "code",
   "execution_count": 2,
   "metadata": {},
   "outputs": [
    {
     "data": {
      "text/plain": [
       "True"
      ]
     },
     "execution_count": 2,
     "metadata": {},
     "output_type": "execute_result"
    }
   ],
   "source": [
    "redShirtHeights = [5, 8, 1, 3, 4]\n",
    "blueShirtHeights = [6, 9, 2, 4, 5]\n",
    "classPhotos(redShirtHeights, blueShirtHeights)"
   ]
  },
  {
   "cell_type": "code",
   "execution_count": null,
   "metadata": {},
   "outputs": [],
   "source": []
  }
 ],
 "metadata": {
  "kernelspec": {
   "display_name": "Python 3",
   "language": "python",
   "name": "python3"
  },
  "language_info": {
   "codemirror_mode": {
    "name": "ipython",
    "version": 3
   },
   "file_extension": ".py",
   "mimetype": "text/x-python",
   "name": "python",
   "nbconvert_exporter": "python",
   "pygments_lexer": "ipython3",
   "version": "3.8.3"
  }
 },
 "nbformat": 4,
 "nbformat_minor": 4
}

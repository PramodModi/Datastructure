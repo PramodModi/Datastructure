{
 "cells": [
  {
   "cell_type": "markdown",
   "metadata": {},
   "source": [
    "## Problem:\n",
    "\n",
    "Given a list of strings, write a function that returns the longest string chain that can be built from those\n",
    "strings.\n",
    "A string chain is defined as follows: let string A be a string in the initial array; if removing any single\n",
    "character from string A yields a new string B that's contained in the initial array of strings, then\n",
    "strings A and B form a string chain of length 2. Similarly, if removing any single character from\n",
    "string B yields a new string C that's contained in the initial array of strings, then strings A , B , and\n",
    "C form a string chain of length 3.\n",
    "The function should return the string chain in descending order (i.e., from the longest string to the\n",
    "shortest one). Note that string chains of length 1 don't exist; if the list of strings doesn't contain any\n",
    "string chain formed by two or more strings, the function should return an empty array.\n",
    "You can assume that there will only be one longest string chain.\n",
    "\n",
    "Example:\n",
    "\n",
    "words = [\"abde\", \"abc\", \"abd\", \"abcde\", \"ade\", \"ae\", \"1abde\", \"abcdef\"]\n",
    "\n",
    "output: [\"abcdef\", \"abcde\", \"abde\", \"ade\", \"ae\"]"
   ]
  },
  {
   "cell_type": "code",
   "execution_count": 54,
   "metadata": {},
   "outputs": [],
   "source": [
    "def longestStrChain(words):\n",
    "    dp = {}\n",
    "    seq = []\n",
    "    chain = 1\n",
    "    lastWord = None\n",
    "    for word in sorted(words, key=len):\n",
    "        dp[word] = [1, None]\n",
    "        for i in range(len(word)):\n",
    "            prev = word[:i] + word[i+1:]\n",
    "            if prev in dp:\n",
    "                if dp[word][0] < dp[prev][0] + 1:\n",
    "                    dp[word] = [dp[prev][0] + 1, prev]\n",
    "    \n",
    "    # build chain\n",
    "    # Find the word that starts the longest word chain\n",
    "    maxChain = 0\n",
    "    chainStartWord = None\n",
    "    for word in words:\n",
    "        if dp[word][0] > maxChain:\n",
    "            maxChain = dp[word][0]\n",
    "            chainStartWord = word\n",
    "    \n",
    "    # Now start from start word and build the chain\n",
    "    currentWord = chainStartWord\n",
    "    while currentWord:\n",
    "        seq.append(currentWord)\n",
    "        currentWord = dp[currentWord][1]\n",
    "                        \n",
    "    return seq if len(seq) > 1 else []\n",
    "    #return (maxChain,seq if len(seq) > 1 else []) # it will print number of chain as well as sequence"
   ]
  },
  {
   "cell_type": "code",
   "execution_count": 55,
   "metadata": {},
   "outputs": [
    {
     "data": {
      "text/plain": [
       "['abcdef', 'abcde', 'abde', 'ade', 'ae']"
      ]
     },
     "execution_count": 55,
     "metadata": {},
     "output_type": "execute_result"
    }
   ],
   "source": [
    "words = [\"abde\", \"abc\", \"abd\", \"abcde\", \"ade\", \"ae\", \"1abde\", \"abcdef\"]\n",
    "longestStrChain(words)"
   ]
  },
  {
   "cell_type": "code",
   "execution_count": 56,
   "metadata": {},
   "outputs": [
    {
     "data": {
      "text/plain": [
       "['12a345', '12345', '1234', '123', '12']"
      ]
     },
     "execution_count": 56,
     "metadata": {},
     "output_type": "execute_result"
    }
   ],
   "source": [
    "words = [\"abcdefg\", \"1234\", \"abdefg\", \"abdfg\", \"123\", \"12\", \"bg\", \"g\", \"12345\", \"12a345\"]\n",
    "longestStrChain(words)"
   ]
  },
  {
   "cell_type": "code",
   "execution_count": null,
   "metadata": {},
   "outputs": [],
   "source": []
  }
 ],
 "metadata": {
  "kernelspec": {
   "display_name": "Python 3",
   "language": "python",
   "name": "python3"
  },
  "language_info": {
   "codemirror_mode": {
    "name": "ipython",
    "version": 3
   },
   "file_extension": ".py",
   "mimetype": "text/x-python",
   "name": "python",
   "nbconvert_exporter": "python",
   "pygments_lexer": "ipython3",
   "version": "3.8.3"
  }
 },
 "nbformat": 4,
 "nbformat_minor": 4
}

{
 "cells": [
  {
   "cell_type": "markdown",
   "metadata": {},
   "source": [
    "## Problem\n",
    "Write a function that takes in a non-empty array of integers and returns an array of the same length,\n",
    "where each element in the output array is equal to the product of every other number in the input\n",
    "array.\n",
    "In other words, the value at output[i] is equal to the product of every number in the input array\n",
    "other than input[i] .\n",
    "Note that you're expected to solve this problem without using division.\n",
    "\n",
    "Example:\n",
    "\n",
    "array = [5, 1, 4, 2]\n",
    "\n",
    "Output:\n",
    "[8, 40, 10, 20]\n",
    "\n",
    "// 8 is equal to 1 x 4 x 2\n",
    "\n",
    "// 40 is equal to 5 x 4 x 2\n",
    "\n",
    "// 10 is equal to 5 x 1 x 2\n",
    "\n",
    "// 20 is equal to 5 x 1 x 4\n"
   ]
  },
  {
   "cell_type": "markdown",
   "metadata": {},
   "source": [
    "### Approach:\n",
    "Do the left multiplication. Starting from left and do the multiplication of all elements \n",
    "leaving leftmost element as 1.\n",
    "leftmultiplyarray = [1,5,5,20]\n",
    "similarly do it for right elements, starting from right most.\n",
    "rightmultiplyarray = [8,8,2,1]\n",
    "Now, multiply both array. Multiply elements at the same position in both arrays.\n",
    "Product = [1x8, 5x8, 5x2, 20,1] = [8,40,10,20]\n",
    "\n",
    "Last multiplication can be done in line with second loop.This is exactly done in the code.\n"
   ]
  },
  {
   "cell_type": "code",
   "execution_count": 2,
   "metadata": {},
   "outputs": [],
   "source": [
    "def arrayProduct(array):\n",
    "    #Store product of elements and return after all products\n",
    "    result = [1 for _ in range(len(array))]\n",
    "    #Left product. Leave first element as 1 and then do the product of rest left elements\n",
    "    left = 1\n",
    "    for i in range(len(array)):\n",
    "        result[i] = left\n",
    "        left *= array[i]\n",
    "    \n",
    "    #Right product. Leave last element as 1 and do the product of rest elements.\n",
    "    # Also do the multiplication with \n",
    "    \n",
    "    right = 1\n",
    "    for i in reversed(range(len(array))):\n",
    "        result[i] *= right\n",
    "        right *= array[i]\n",
    "    return result"
   ]
  },
  {
   "cell_type": "code",
   "execution_count": 3,
   "metadata": {},
   "outputs": [
    {
     "name": "stdout",
     "output_type": "stream",
     "text": [
      "[8, 40, 10, 20]\n"
     ]
    }
   ],
   "source": [
    "array = [5,1,4,2]\n",
    "print(arrayProduct(array))"
   ]
  },
  {
   "cell_type": "code",
   "execution_count": null,
   "metadata": {},
   "outputs": [],
   "source": []
  }
 ],
 "metadata": {
  "kernelspec": {
   "display_name": "Python 3",
   "language": "python",
   "name": "python3"
  },
  "language_info": {
   "codemirror_mode": {
    "name": "ipython",
    "version": 3
   },
   "file_extension": ".py",
   "mimetype": "text/x-python",
   "name": "python",
   "nbconvert_exporter": "python",
   "pygments_lexer": "ipython3",
   "version": "3.8.3"
  }
 },
 "nbformat": 4,
 "nbformat_minor": 4
}

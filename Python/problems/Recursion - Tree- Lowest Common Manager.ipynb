{
 "cells": [
  {
   "cell_type": "markdown",
   "metadata": {},
   "source": [
    "## Problem:\n",
    "\n",
    "You're given three inputs, all of which are instances of an OrgChart class that have a\n",
    "directReports property pointing to their direct reports. The first input is the top manager in an\n",
    "organizational chart (i.e., the only instance that isn't anybody else's direct report), and the other two\n",
    "inputs are reports in the organizational chart. The two reports are guaranteed to be distinct.\n",
    "Write a function that returns the lowest common manager to the two reports.\n",
    "\n",
    "Example:\n",
    "\n",
    "// From the organizational chart below.\n",
    "\n",
    "topManager = Node A\n",
    "\n",
    "reportOne = Node E\n",
    "\n",
    "reportTwo = Node I\n",
    "\n",
    "                  A\n",
    "                 /  \\\n",
    "                B    C\n",
    "               / \\   / \\\n",
    "              D   E F   G\n",
    "             / \\\n",
    "            H   I\n",
    "Output:\n",
    "Node B"
   ]
  },
  {
   "cell_type": "code",
   "execution_count": 1,
   "metadata": {},
   "outputs": [],
   "source": [
    "def getLowestCommonManager(topManager, reportOne, reportTwo):\n",
    "    # Write your code here.\n",
    "    numreport = reportee(0, None)\n",
    "    lowestCommonManager(topManager, reportOne, reportTwo,numreport)\n",
    "    return numreport.LCM\n",
    "\t\n",
    "def lowestCommonManager(manager, r1, r2, numreport):\n",
    "    count  = 0\n",
    "    for m in manager.directReports:\n",
    "        numreport = lowestCommonManager(m, r1, r2, numreport)\n",
    "        if numreport.LCM:\n",
    "            return numreport\n",
    "        count += numreport.numReportee\n",
    "    if manager == r1 or manager == r2:\n",
    "        count += 1\t\n",
    "    numreport.LCM = manager if count == 2 else None\n",
    "    numreport.numReportee = count\n",
    "    return numreport\n",
    "\n",
    "class reportee:\n",
    "    def __init__(self,numReportee, LCM):\n",
    "        self.numReportee = numReportee\n",
    "        self.LCM = LCM\n",
    "\n",
    "\n",
    "# This is an input class. Do not edit.\n",
    "class OrgChart:\n",
    "    def __init__(self, name):\n",
    "        self.name = name\n",
    "        self.directReports = []\n"
   ]
  },
  {
   "cell_type": "code",
   "execution_count": null,
   "metadata": {},
   "outputs": [],
   "source": []
  }
 ],
 "metadata": {
  "kernelspec": {
   "display_name": "Python 3",
   "language": "python",
   "name": "python3"
  },
  "language_info": {
   "codemirror_mode": {
    "name": "ipython",
    "version": 3
   },
   "file_extension": ".py",
   "mimetype": "text/x-python",
   "name": "python",
   "nbconvert_exporter": "python",
   "pygments_lexer": "ipython3",
   "version": "3.8.3"
  }
 },
 "nbformat": 4,
 "nbformat_minor": 4
}

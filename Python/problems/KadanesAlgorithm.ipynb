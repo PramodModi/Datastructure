{
 "cells": [
  {
   "cell_type": "markdown",
   "metadata": {},
   "source": [
    "## Problem\n",
    "Input : non-empty array of integers\n",
    "output : maximum sum that can be summing up all of the integers in subarray in array. A subarray must only contain adjascent numbers.\n",
    "\n",
    "Example:\n",
    "\n",
    "array= [3,5,-9,1,3,-2,3,4,7,2,-9,6,3,1,-5,4]\n",
    "\n",
    "output = 19 //1,3,-2,3,4,7,2,-9,6,3,1"
   ]
  },
  {
   "cell_type": "code",
   "execution_count": 3,
   "metadata": {},
   "outputs": [],
   "source": [
    "def kadanesAlgorithm(array):\n",
    "    # Write your code here.\n",
    "    maxnum = array[0]\n",
    "    sum = array[0]\n",
    "    for i in range(1, len(array)):\n",
    "        sum = max(sum + array[i], array[i])\n",
    "        maxnum = max(maxnum, sum)\n",
    "    return maxnum"
   ]
  },
  {
   "cell_type": "code",
   "execution_count": 4,
   "metadata": {},
   "outputs": [
    {
     "data": {
      "text/plain": [
       "19"
      ]
     },
     "execution_count": 4,
     "metadata": {},
     "output_type": "execute_result"
    }
   ],
   "source": [
    "array= [3,5,-9,1,3,-2,3,4,7,2,-9,6,3,1,-5,4]\n",
    "kadanesAlgorithm(array)"
   ]
  },
  {
   "cell_type": "code",
   "execution_count": null,
   "metadata": {},
   "outputs": [],
   "source": []
  }
 ],
 "metadata": {
  "kernelspec": {
   "display_name": "Python 3",
   "language": "python",
   "name": "python3"
  },
  "language_info": {
   "codemirror_mode": {
    "name": "ipython",
    "version": 3
   },
   "file_extension": ".py",
   "mimetype": "text/x-python",
   "name": "python",
   "nbconvert_exporter": "python",
   "pygments_lexer": "ipython3",
   "version": "3.8.3"
  }
 },
 "nbformat": 4,
 "nbformat_minor": 4
}

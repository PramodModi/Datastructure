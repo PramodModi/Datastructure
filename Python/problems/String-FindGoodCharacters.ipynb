{
 "cells": [
  {
   "cell_type": "markdown",
   "metadata": {},
   "source": [
    "## Problem\n",
    "if characters are having small and capital both present in the string, then those characters are good.\n",
    "Find the number of such characters.\n",
    "\n",
    "Example:\n",
    "\n",
    "String = \"aABbcbd\"\n",
    "\n",
    "output = 5 //aABbb"
   ]
  },
  {
   "cell_type": "code",
   "execution_count": 17,
   "metadata": {},
   "outputs": [],
   "source": [
    "def goodCharacters(string):\n",
    "    if len(string) < 2:\n",
    "        return 0\n",
    "    sameCharcters = set(c.lower() for c in string if c.isupper()) & set(c for c in string if c.islower())\n",
    "    print(\"sameCharcters = \", sameCharcters)\n",
    "    temp = {}\n",
    "    for c in string:\n",
    "        lowercase = c.lower()\n",
    "        temp[lowercase] = temp.get(lowercase, 0) + 1\n",
    "    count = 0\n",
    "    for c in sameCharcters:\n",
    "        count = count + temp[c]\n",
    "        \n",
    "    return count\n",
    "            "
   ]
  },
  {
   "cell_type": "code",
   "execution_count": 18,
   "metadata": {},
   "outputs": [
    {
     "name": "stdout",
     "output_type": "stream",
     "text": [
      "sameCharcters =  {'a', 'b'}\n"
     ]
    },
    {
     "data": {
      "text/plain": [
       "5"
      ]
     },
     "execution_count": 18,
     "metadata": {},
     "output_type": "execute_result"
    }
   ],
   "source": [
    "string = \"aABbcbd\"\n",
    "goodCharacters(string)"
   ]
  },
  {
   "cell_type": "code",
   "execution_count": null,
   "metadata": {},
   "outputs": [],
   "source": []
  }
 ],
 "metadata": {
  "kernelspec": {
   "display_name": "Python 3",
   "language": "python",
   "name": "python3"
  },
  "language_info": {
   "codemirror_mode": {
    "name": "ipython",
    "version": 3
   },
   "file_extension": ".py",
   "mimetype": "text/x-python",
   "name": "python",
   "nbconvert_exporter": "python",
   "pygments_lexer": "ipython3",
   "version": "3.8.3"
  }
 },
 "nbformat": 4,
 "nbformat_minor": 4
}

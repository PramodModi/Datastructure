{
 "cells": [
  {
   "attachments": {
    "385edc52-4753-41c7-9e5f-a2c1ba077d6e.png": {
     "image/png": "[encoded data removed]"
    },
    "d4c9ff10-6d79-4fa4-b6e8-d357548cc324.png": {
     "image/png": "[encoded data removed]"
    }
   },
   "cell_type": "markdown",
   "id": "782d3712-dca2-4a28-9fe3-b0084419d9ef",
   "metadata": {},
   "source": [
    "## Problem: Lowest Common Ancestor of a Binary Tree III\n",
    "LeetCode : 1650\n",
    "\n",
    "Given two nodes of a binary tree p and q, return their lowest common ancestor (LCA).\n",
    "\n",
    "Each node will have a reference to its parent node. The definition for Node is below:\n",
    "\n",
    "    class Node {\n",
    "        public int val;\n",
    "        public Node left;\n",
    "        public Node right;\n",
    "        public Node parent;\n",
    "    }\n",
    "According to the definition of LCA on Wikipedia: “The lowest common ancestor of two nodes p and q in a tree T is the lowest node that has both p and q as descendants (where we allow a node to be a descendant of itself).”\n",
    "\n",
    "Example 1:\n",
    "\n",
    "![image.png](attachment:385edc52-4753-41c7-9e5f-a2c1ba077d6e.png)\n",
    "\n",
    "    Input: root = [3,5,1,6,2,0,8,null,null,7,4], p = 5, q = 1\n",
    "    \n",
    "    Output: 3\n",
    "\n",
    "    Explanation: The LCA of nodes 5 and 1 is 3.\n",
    "\n",
    "Example 2:\n",
    "\n",
    "![image.png](attachment:d4c9ff10-6d79-4fa4-b6e8-d357548cc324.png)\n",
    "\n",
    "    Input: root = [3,5,1,6,2,0,8,null,null,7,4], p = 5, q = 4\n",
    "    \n",
    "    Output: 5\n",
    "    \n",
    "    Explanation: The LCA of nodes 5 and 4 is 5 since a node can be a descendant of itself according to the LCA definition.\n",
    "\n",
    "Example 3:\n",
    "\n",
    "    Input: root = [1,2], p = 1, q = 2\n",
    "    \n",
    "    Output: 1\n",
    "\n",
    "Constraints:\n",
    "\n",
    "    The number of nodes in the tree is in the range [2, 10^5].\n",
    "    -10^9 <= Node.val <= 10^9\n",
    "    All Node.val are unique.\n",
    "    p != q\n",
    "    p and q exist in the tree."
   ]
  },
  {
   "cell_type": "code",
   "execution_count": 4,
   "id": "8ebb4f8c-75fe-41af-bdb4-86779221cf7e",
   "metadata": {},
   "outputs": [],
   "source": [
    "class BT:\n",
    "    def __init__(self, val, left = None, right = None, parent = None):\n",
    "        self.val = val\n",
    "        self.left = left\n",
    "        self.right = right\n",
    "        self.parent = parent\n",
    "    "
   ]
  },
  {
   "cell_type": "code",
   "execution_count": 6,
   "id": "e8fd0737-9867-4513-9153-2f614e0a0fac",
   "metadata": {},
   "outputs": [],
   "source": [
    "def LCA(p, q):\n",
    "    a,b = p, q\n",
    "    while a != b:\n",
    "        a = a.parnt if a.prent else q\n",
    "        b = b.parent if b.parent else p\n",
    "    return a"
   ]
  },
  {
   "cell_type": "code",
   "execution_count": null,
   "id": "147f7f14-49ae-40e9-b486-0c5da57ed8f8",
   "metadata": {},
   "outputs": [],
   "source": []
  }
 ],
 "metadata": {
  "kernelspec": {
   "display_name": "Python 3 (ipykernel)",
   "language": "python",
   "name": "python3"
  },
  "language_info": {
   "codemirror_mode": {
    "name": "ipython",
    "version": 3
   },
   "file_extension": ".py",
   "mimetype": "text/x-python",
   "name": "python",
   "nbconvert_exporter": "python",
   "pygments_lexer": "ipython3",
   "version": "3.12.7"
  }
 },
 "nbformat": 4,
 "nbformat_minor": 5
}

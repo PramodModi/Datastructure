{
 "cells": [
  {
   "cell_type": "markdown",
   "metadata": {},
   "source": [
    "## Problem\n",
    "Write a function that takes in a non-empty array of distinct integers and an integer representing a target\n",
    "sum. The function should find all triplets in the array that sum up to the target sum and return a twodimensional array of all these triplets. The numbers in each triplet should be ordered in ascending\n",
    "order, and the triplets themselves should be ordered in ascending order with respect to the numbers\n",
    "they hold.\n",
    "If no three numbers sum up to the target sum, the function should return an empty array.\n",
    "\n",
    "Example: \n",
    "\n",
    "array =[12,3,1,2,-6,5,-8,6], sum = 0\n",
    "\n",
    "output = [[-8,2,6], [-8,3,5], [-6,1,5]]"
   ]
  },
  {
   "cell_type": "code",
   "execution_count": 1,
   "metadata": {},
   "outputs": [],
   "source": [
    "# O(n^2) time | O(1) Space\n",
    "# Specifically time omplexity = O(nlogn) + O(n)\n",
    "def threeSum(a, sum):\n",
    "    if len(a)< 3:\n",
    "        return []\n",
    "    a.sort() # O(nlogn)\n",
    "    result = []\n",
    "    for i in range(len(a)-2):\n",
    "        j = i+ 1\n",
    "        t = len(a)-1\n",
    "        \n",
    "        while(j < t):\n",
    "            n = sum - (a[i] + a[j])\n",
    "            if n == a[t]:\n",
    "                result.append([a[i], a[j], a[t]])\n",
    "                t -= 1\n",
    "                j += 1\n",
    "            elif n > a[t]:\n",
    "                j += 1\n",
    "            else:\n",
    "                 t -= 1\n",
    "    return result"
   ]
  },
  {
   "cell_type": "code",
   "execution_count": 2,
   "metadata": {},
   "outputs": [
    {
     "name": "stdout",
     "output_type": "stream",
     "text": [
      "[[-8, 2, 6], [-8, 3, 5], [-6, 1, 5]]\n"
     ]
    }
   ],
   "source": [
    "a = [12,3,1,2,-6,5,-8,6]\n",
    "sum = 0\n",
    "\n",
    "print(threeSum(a, sum))"
   ]
  },
  {
   "cell_type": "code",
   "execution_count": null,
   "metadata": {},
   "outputs": [],
   "source": []
  }
 ],
 "metadata": {
  "kernelspec": {
   "display_name": "Python 3",
   "language": "python",
   "name": "python3"
  },
  "language_info": {
   "codemirror_mode": {
    "name": "ipython",
    "version": 3
   },
   "file_extension": ".py",
   "mimetype": "text/x-python",
   "name": "python",
   "nbconvert_exporter": "python",
   "pygments_lexer": "ipython3",
   "version": "3.8.3"
  }
 },
 "nbformat": 4,
 "nbformat_minor": 4
}

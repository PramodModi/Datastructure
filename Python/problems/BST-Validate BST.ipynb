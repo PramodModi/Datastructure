{
 "cells": [
  {
   "cell_type": "markdown",
   "metadata": {},
   "source": [
    "## Problem\n",
    "\n",
    "Write a function that takes in a potentially invalid Binary Search Tree (BST) and returns a boolean\n",
    "representing whether the BST is valid.\n",
    "Each BST node has an integer value , a left child node, and a right child node. A node is said\n",
    "to be a valid BST node if and only if it satisfies the BST property: its value is strictly greater than the\n",
    "values of every node to its left; its value is less than or equal to the values of every node to its right;\n",
    "and its children nodes are either valid BST nodes themselves or None / null .\n",
    "A BST is valid if and only if all of its nodes are valid BST nodes.\n",
    "\n",
    "Example:\n",
    "\n",
    "tree = \n",
    "\n",
    "                  10\n",
    "                 /   \\\n",
    "                5      15\n",
    "               / \\    /  \\\n",
    "              2   5 13  22\n",
    "             /       \\\n",
    "            1         14\n",
    "            \n",
    " output: True"
   ]
  },
  {
   "cell_type": "code",
   "execution_count": 1,
   "metadata": {},
   "outputs": [],
   "source": [
    "class BST:\n",
    "    def __init__(self, value):\n",
    "        self.value = value\n",
    "        self.left = None\n",
    "        self.right = None\n",
    "\n",
    "\n",
    "def validateBst(tree):\n",
    "    # Write your code here.\n",
    "    return validateBstHelper(tree, float(\"-inf\"), float(\"inf\"))\n",
    "\t\n",
    "def validateBstHelper(tree, min, max):\n",
    "    if tree is None:\n",
    "        return True\n",
    "    if tree.value < min or tree.value >= max:\n",
    "        return False\n",
    "    validateLeft = validateBstHelper(tree.left, min, tree.value)\n",
    "    return validateLeft and validateBstHelper(tree.right, tree.value, max)"
   ]
  },
  {
   "cell_type": "code",
   "execution_count": null,
   "metadata": {},
   "outputs": [],
   "source": []
  }
 ],
 "metadata": {
  "kernelspec": {
   "display_name": "Python 3",
   "language": "python",
   "name": "python3"
  },
  "language_info": {
   "codemirror_mode": {
    "name": "ipython",
    "version": 3
   },
   "file_extension": ".py",
   "mimetype": "text/x-python",
   "name": "python",
   "nbconvert_exporter": "python",
   "pygments_lexer": "ipython3",
   "version": "3.8.3"
  }
 },
 "nbformat": 4,
 "nbformat_minor": 4
}

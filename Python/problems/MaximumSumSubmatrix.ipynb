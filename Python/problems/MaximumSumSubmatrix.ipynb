{
 "cells": [
  {
   "cell_type": "markdown",
   "metadata": {},
   "source": [
    "## Problem\n",
    "Find the submatrix of size X from the gven matrix , whose sum of all elements will have maximum.\n",
    "\n",
    "Example:\n",
    "\n",
    "Matrix = [[2,4]\n",
    "          [5,6]\n",
    "          [-3,2]]\n",
    "\n",
    "Sub Matrix size = 2\n",
    "\n",
    "Output: 17\n",
    "         \n",
    "         "
   ]
  },
  {
   "cell_type": "code",
   "execution_count": 26,
   "metadata": {},
   "outputs": [],
   "source": [
    "def maximumSumSubmatrix(matrix, size):\n",
    "    if size > len(matrix):\n",
    "        return 0\n",
    "    matrixsums = matrixSum(matrix)\n",
    "    maxSum = float('-inf')\n",
    "    for i in range(size-1, len(matrixsums)):\n",
    "        for j in range(size-1, len(matrixsums[i])):\n",
    "            total = matrixsums[i][j]\n",
    "            \n",
    "            atLeftBoundry = j - size < 0\n",
    "            atTopBoundry = i - size < 0\n",
    "            \n",
    "            if not atLeftBoundry:\n",
    "                total -= matrixsums[i][j-size]\n",
    "            \n",
    "            if not atTopBoundry:\n",
    "                total -= matrixsums[i-size][j]\n",
    "            \n",
    "            atBothBoundry = atLeftBoundry or atTopBoundry\n",
    "            \n",
    "            if not atBothBoundry:\n",
    "                total += matrixsums[i-size][j-size]\n",
    "            if maxSum < total:\n",
    "                maxSum = total\n",
    "    \n",
    "    return maxSum\n",
    "    \n",
    "    \n",
    "def matrixSum(matrix):\n",
    "    matrixsum = [[0 for _ in range(len(matrix[row]))] for row in range(len(matrix))]\n",
    "    \n",
    "    matrixsum[0][0] = matrix[0][0]\n",
    "    \n",
    "    for i in range(1, len(matrixsum)):\n",
    "        matrixsum[i][0] = matrixsum[i-1][0] + matrix[i][0]\n",
    "    \n",
    "    for i in range(1,len(matrixsum[0])):\n",
    "        matrixsum[0][i] = matrix[0][i] + matrixsum[0][i-1]\n",
    "        \n",
    "    for i in range(1, len(matrixsum)):\n",
    "        for j in range(1, len(matrix[i])):\n",
    "            matrixsum[i][j] = matrix[i][j] + matrixsum[i][j-1] + matrixsum[i-1][j] - matrixsum[i-1][j-1]\n",
    "    return matrixsum\n",
    "    "
   ]
  },
  {
   "cell_type": "code",
   "execution_count": 27,
   "metadata": {},
   "outputs": [
    {
     "data": {
      "text/plain": [
       "17"
      ]
     },
     "execution_count": 27,
     "metadata": {},
     "output_type": "execute_result"
    }
   ],
   "source": [
    "matrix = [[2,4],[5,6],[-3,2]]\n",
    "size = 2\n",
    "maximumSumSubmatrix(matrix, size)"
   ]
  },
  {
   "cell_type": "code",
   "execution_count": 28,
   "metadata": {},
   "outputs": [
    {
     "data": {
      "text/plain": [
       "18"
      ]
     },
     "execution_count": 28,
     "metadata": {},
     "output_type": "execute_result"
    }
   ],
   "source": [
    "matrix = [\n",
    "    [5, 3, -1, 5],\n",
    "    [-7, 3, 7, 4],\n",
    "    [12, 8, 0, 0],\n",
    "    [1, -8, -8, 2]\n",
    "  ]\n",
    "size = 2\n",
    "maximumSumSubmatrix(matrix, size)"
   ]
  },
  {
   "cell_type": "code",
   "execution_count": 29,
   "metadata": {},
   "outputs": [
    {
     "data": {
      "text/plain": [
       "28"
      ]
     },
     "execution_count": 29,
     "metadata": {},
     "output_type": "execute_result"
    }
   ],
   "source": [
    "matrix =  [\n",
    "    [3, -4, 6, -5, 1],\n",
    "    [1, -2, 8, -4, -2],\n",
    "    [3, -8, 9, 3, 1],\n",
    "    [-7, 3, 4, 2, 7],\n",
    "    [-3, 7, -5, 7, -6]\n",
    "  ]\n",
    "size = 3\n",
    "maximumSumSubmatrix(matrix, size)"
   ]
  },
  {
   "cell_type": "code",
   "execution_count": 11,
   "metadata": {},
   "outputs": [],
   "source": [
    "def matrixSumSubMatrix_try(matrix, size):\n",
    "    if size > len(matrix):\n",
    "        return 0\n",
    "    matrixSum = sumMatrix(matrix)\n",
    "    maxSum = float(\"-inf\")\n",
    "    \n",
    "    for i in range(size-1, len(matrix)):\n",
    "        for j in range(size-1, len(matrix[i])):\n",
    "            currentSum = matrixSum[i][j]  \n",
    "\n",
    "            atLeft = j-size < 0\n",
    "            atTop = i - size < 0\n",
    "\n",
    "            if not atLeft:\n",
    "                currentSum -= matrixSum[i][j-size]\n",
    "            if not atTop:\n",
    "                currentSum -= matrixSum[i-size][j]\n",
    "\n",
    "            atBoundry = atLeft or atTop\n",
    "\n",
    "            if not atBoundry:\n",
    "                currentSum += matrixSum[i-size][j-size]\n",
    "\n",
    "            if maxSum < currentSum:\n",
    "                maxSum = currentSum\n",
    "    return maxSum\n",
    "    \n",
    "def sumMatrix(matrix):\n",
    "    summatrix = [[0 for _ in range(len(matrix[r]))] for r in range(len(matrix)) ]\n",
    "    summatrix[0][0] = matrix[0][0]\n",
    "    for row in range(1, len(matrix)):\n",
    "        summatrix[row][0] = summatrix[row-1][0] + matrix[row][0]\n",
    "    for col in range(1, len(matrix[0])):\n",
    "        summatrix[0][col] = summatrix[0][col-1] + matrix[0][col]\n",
    "        \n",
    "    for i in range(1, len(matrix)):\n",
    "        for j in range(1, len(matrix[i])):\n",
    "            summatrix[i][j] = matrix[i][j] + summatrix[i-1][j] + summatrix[i][j-1] - summatrix[i-1][j-1]\n",
    "            \n",
    "    return summatrix\n",
    "                 "
   ]
  },
  {
   "cell_type": "code",
   "execution_count": 12,
   "metadata": {},
   "outputs": [
    {
     "data": {
      "text/plain": [
       "28"
      ]
     },
     "execution_count": 12,
     "metadata": {},
     "output_type": "execute_result"
    }
   ],
   "source": [
    "matrix =  [\n",
    "    [3, -4, 6, -5, 1],\n",
    "    [1, -2, 8, -4, -2],\n",
    "    [3, -8, 9, 3, 1],\n",
    "    [-7, 3, 4, 2, 7],\n",
    "    [-3, 7, -5, 7, -6]\n",
    "  ]\n",
    "size = 3\n",
    "matrixSumSubMatrix_try(matrix, size)"
   ]
  },
  {
   "cell_type": "code",
   "execution_count": null,
   "metadata": {},
   "outputs": [],
   "source": []
  }
 ],
 "metadata": {
  "kernelspec": {
   "display_name": "Python 3",
   "language": "python",
   "name": "python3"
  },
  "language_info": {
   "codemirror_mode": {
    "name": "ipython",
    "version": 3
   },
   "file_extension": ".py",
   "mimetype": "text/x-python",
   "name": "python",
   "nbconvert_exporter": "python",
   "pygments_lexer": "ipython3",
   "version": "3.8.3"
  }
 },
 "nbformat": 4,
 "nbformat_minor": 4
}

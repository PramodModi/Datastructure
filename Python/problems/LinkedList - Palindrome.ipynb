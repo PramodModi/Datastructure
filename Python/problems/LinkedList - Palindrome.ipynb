{
 "cells": [
  {
   "cell_type": "markdown",
   "metadata": {},
   "source": [
    "## Problem:\n",
    "\n",
    "Write a function that takes in the head of a Singly Linked List and returns a boolean representing\n",
    "whether the linked list's nodes form a palindrome. Your function shouldn't make use of any auxiliary\n",
    "data structure.\n",
    "A palindrome is usually defined as a string that's written the same forward and backward. For a linked\n",
    "list's nodes to form a palindrome, their values must be the same when read from left to right and from\n",
    "right to left. Note that single-character strings are palindromes, which means that single-node linked\n",
    "lists form palindromes.\n",
    "Each LinkedList node has an integer value as well as a next node pointing to the next node in\n",
    "the list or to None / null if it's the tail of the list.\n",
    "You can assume that the input linked list will always have at least one node; in other words, the head\n",
    "will never be None / null .\n",
    "\n",
    "Example:\n",
    "\n",
    "head = 0 -> 1 -> 2 -> 2 -> 1 -> 0 // the head node with value 0\n",
    "\n",
    "Output:\n",
    "true"
   ]
  },
  {
   "cell_type": "code",
   "execution_count": 1,
   "metadata": {},
   "outputs": [],
   "source": [
    "class LinkedList:\n",
    "    def __init__(self, value):\n",
    "        self.value = value\n",
    "        self.next = None\n",
    "\n",
    "\n",
    "def linkedListPalindrome(head):\n",
    "    # Write your code here.\n",
    "    slow = head\n",
    "    fast = head\n",
    "\n",
    "    while fast and fast.next:\n",
    "        slow = slow.next\n",
    "        fast = fast.next.next\n",
    "    reverseSecondHalf = reverseLinkedList(slow)\n",
    "    firstHalf = head\n",
    "\n",
    "    while reverseSecondHalf:\n",
    "        if reverseSecondHalf.value != firstHalf.value:\n",
    "            return False\n",
    "        reverseSecondHalf = reverseSecondHalf.next\n",
    "        firstHalf = firstHalf.next\n",
    "    return True\n",
    "\n",
    "def reverseLinkedList(head):\n",
    "    prev, cur = None, head\n",
    "    while cur:\n",
    "        temp = cur.next\n",
    "        cur.next = prev\n",
    "        prev = cur\n",
    "        cur = temp\n",
    "    return prev\n"
   ]
  },
  {
   "cell_type": "code",
   "execution_count": null,
   "metadata": {},
   "outputs": [],
   "source": []
  }
 ],
 "metadata": {
  "kernelspec": {
   "display_name": "Python 3",
   "language": "python",
   "name": "python3"
  },
  "language_info": {
   "codemirror_mode": {
    "name": "ipython",
    "version": 3
   },
   "file_extension": ".py",
   "mimetype": "text/x-python",
   "name": "python",
   "nbconvert_exporter": "python",
   "pygments_lexer": "ipython3",
   "version": "3.8.3"
  }
 },
 "nbformat": 4,
 "nbformat_minor": 4
}

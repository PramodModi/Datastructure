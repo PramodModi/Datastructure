{
 "cells": [
  {
   "cell_type": "markdown",
   "metadata": {},
   "source": [
    "## Problem\n",
    "Find the cost of parking for given entry and exit time. Time format would be 24 hours (HH:MM).\n",
    "Condition : Parking entry fee = 2, first hour = 3, subsequent hours = 4"
   ]
  },
  {
   "cell_type": "code",
   "execution_count": 19,
   "metadata": {},
   "outputs": [],
   "source": [
    "def costOfParking(E, L):\n",
    "    hour = calculateHours(E,L)\n",
    "    totalcost = 2 + 3 + 4*(hour-1)\n",
    "    return totalcost"
   ]
  },
  {
   "cell_type": "code",
   "execution_count": 22,
   "metadata": {},
   "outputs": [],
   "source": [
    "def calculateHours(E, L):\n",
    "    Eh, Em = E.split(\":\")\n",
    "    Lh, Lm = L.split(\":\")\n",
    "    h = abs(int(Lh)-int(Eh))\n",
    "    m = (int(Lm)-int(Em))\n",
    "    if m > 0:\n",
    "        h += 1\n",
    "    return h"
   ]
  },
  {
   "cell_type": "code",
   "execution_count": 25,
   "metadata": {},
   "outputs": [
    {
     "data": {
      "text/plain": [
       "13"
      ]
     },
     "execution_count": 25,
     "metadata": {},
     "output_type": "execute_result"
    }
   ],
   "source": [
    "E = \"10:48\"\n",
    "L = \"13:21\"\n",
    "costOfParking(E, L)"
   ]
  },
  {
   "cell_type": "code",
   "execution_count": null,
   "metadata": {},
   "outputs": [],
   "source": []
  }
 ],
 "metadata": {
  "kernelspec": {
   "display_name": "Python 3",
   "language": "python",
   "name": "python3"
  },
  "language_info": {
   "codemirror_mode": {
    "name": "ipython",
    "version": 3
   },
   "file_extension": ".py",
   "mimetype": "text/x-python",
   "name": "python",
   "nbconvert_exporter": "python",
   "pygments_lexer": "ipython3",
   "version": "3.8.3"
  }
 },
 "nbformat": 4,
 "nbformat_minor": 4
}

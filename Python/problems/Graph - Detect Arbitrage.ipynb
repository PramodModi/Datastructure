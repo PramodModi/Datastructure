{
 "cells": [
  {
   "cell_type": "markdown",
   "metadata": {},
   "source": [
    "## Problem:\n",
    "\n",
    "You're given a two-dimensional array (a matrix) of equal height and width that represents the exchange\n",
    "rates of arbitrary currencies. The length of the array is the number of currencies, and every currency\n",
    "can be converted to every other currency. Each currency is represented by a row in the array, where\n",
    "values in that row are the floating-point exchange rates between the row's currency and all other\n",
    "currencies, as in the example below.\n",
    "\n",
    "            0:USD 1:CAD 2:GBP\n",
    "     0:USD [ 1.0, 1.27, 0.718]\n",
    "     1:CAD [ 0.74, 1.0, 0.56]\n",
    "     2:GBP [ 1.39, 1.77, 1.0]\n",
    "\n",
    "In the matrix above, you can see that row 0 represents USD, which means that row 0 contains the\n",
    "exchange rates for 1 USD to all other currencies. Since row 1 represents CAD, index 1 in the USD\n",
    "row contains the exchange for 1 USD to CAD. The currency labels are listed above to help you\n",
    "visualize the problem, but they won't actually be included in any inputs and aren't relevant to solving\n",
    "this problem.\n",
    "Write a function that returns a boolean representing whether an arbitrage opportunity exists with the\n",
    "given exchange rates. An arbitrage occurs if you can start with C units of one currency and execute a\n",
    "series of exchanges that lead you to having more than C units of the same currency you started with.\n",
    "Note: currency exchange rates won't represent real-world exchange rates, and there might be multiple\n",
    "ways to generate an arbitrage.\n",
    "\n",
    "Example:\n",
    "\n",
    "    exchangeRates = [\n",
    "     [ 1.0, 0.8631, 0.5903],\n",
    "     [1.1586, 1.0, 0.6849],\n",
    "     [1.6939, 1.46, 1.0],\n",
    "    ]\n",
    "Output\n",
    "true "
   ]
  },
  {
   "cell_type": "code",
   "execution_count": 1,
   "metadata": {},
   "outputs": [],
   "source": [
    "import math\n",
    "def detectArbitrage(exchangeRates):\n",
    "    # To use exchange rates as edge weights, we must be able to add them.\n",
    "    # since log(a*b) = log(a) + log(b), we can convert all rates to -log10(rate) to use them as\n",
    "    # as edge weights.\n",
    "    logExchangeRates = convertToLogMatrix(exchangeRates)\n",
    "\n",
    "    # A negative weight cycle indicates an arbitrage.\n",
    "    return foundNegativeWeightCycle(logExchangeRates, 0)\n",
    "\n",
    "# use Bellmond-Ford Algorithm to detect any negative weight cycles.\n",
    "def foundNegativeWeightCycle(graph, start):\n",
    "    distanceFromStart = [float(\"inf\") for _ in range(len(graph))]\n",
    "    distanceFromStart[start] = 0\n",
    "\n",
    "    for _ in range(len(graph) -1):\n",
    "    # if no update occurs, that means there is no negative cycle.\n",
    "        if not relaxEdgesAndUpdateDistances(graph, distanceFromStart):\n",
    "            return False\n",
    "    return relaxEdgesAndUpdateDistances(graph, distanceFromStart)\n",
    "\n",
    "# return \"True\", if any distance was updated\n",
    "def relaxEdgesAndUpdateDistances(graph, distances):\n",
    "    updated = False\n",
    "    for sourceIdx, edges in enumerate(graph):\n",
    "        for destinationIdx, edgeWeight in enumerate(edges):\n",
    "            newDistanceToDestination = distances[sourceIdx] + edgeWeight\n",
    "            if newDistanceToDestination < distances[destinationIdx]:\n",
    "                updated = True\n",
    "                distances[destinationIdx] = newDistanceToDestination\n",
    "    return updated\n",
    "\n",
    "def convertToLogMatrix(matrix):\n",
    "    newMatrix = []\n",
    "    for row, rates in enumerate(matrix):\n",
    "        newMatrix.append([])\n",
    "        for rate in rates:\n",
    "            newMatrix[row].append(-math.log10(rate))\n",
    "    return newMatrix\n",
    "    "
   ]
  },
  {
   "cell_type": "code",
   "execution_count": 2,
   "metadata": {},
   "outputs": [
    {
     "data": {
      "text/plain": [
       "True"
      ]
     },
     "execution_count": 2,
     "metadata": {},
     "output_type": "execute_result"
    }
   ],
   "source": [
    "exchangeRates = [\n",
    " [ 1.0, 0.8631, 0.5903],\n",
    " [1.1586, 1.0, 0.6849],\n",
    " [1.6939, 1.46, 1.0],\n",
    "]\n",
    "detectArbitrage(exchangeRates)"
   ]
  },
  {
   "cell_type": "code",
   "execution_count": null,
   "metadata": {},
   "outputs": [],
   "source": []
  }
 ],
 "metadata": {
  "kernelspec": {
   "display_name": "Python 3",
   "language": "python",
   "name": "python3"
  },
  "language_info": {
   "codemirror_mode": {
    "name": "ipython",
    "version": 3
   },
   "file_extension": ".py",
   "mimetype": "text/x-python",
   "name": "python",
   "nbconvert_exporter": "python",
   "pygments_lexer": "ipython3",
   "version": "3.8.3"
  }
 },
 "nbformat": 4,
 "nbformat_minor": 4
}

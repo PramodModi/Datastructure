{
 "cells": [
  {
   "cell_type": "markdown",
   "metadata": {},
   "source": [
    "## Problems\n",
    "\n",
    "Write a function that takes in two non-empty arrays of integers, finds the pair of numbers (one from\n",
    "each array) whose absolute difference is closest to zero, and returns an array containing these two\n",
    "numbers, with the number from the first array in the first position.\n",
    "Note that the absolute difference of two integers is the distance between them on the real number line.\n",
    "For example, the absolute difference of -5 and 5 is 10, and the absolute difference of -5 and -4 is 1.\n",
    "You can assume that there will only be one pair of numbers with the smallest difference.\n",
    "\n",
    "Example:\n",
    "\n",
    "array1 = [-1,5,10,20,28,3]\n",
    "\n",
    "array2 = [26,134,135,15,17]\n",
    "\n",
    "Output = [28,26]\n"
   ]
  },
  {
   "cell_type": "code",
   "execution_count": 3,
   "metadata": {},
   "outputs": [],
   "source": [
    "def smallestDiff(a1,a2):\n",
    "    a1.sort()\n",
    "    a2.sort()\n",
    "    smallest = float(\"inf\")\n",
    "    smallestPair = []\n",
    "    diff = 0\n",
    "    i =0\n",
    "    j =0\n",
    "    while i < len(a1) and j < len(a2):\n",
    "        n1 = a1[i]\n",
    "        n2 = a2[j]\n",
    "        if n1< n2 :\n",
    "            diff = n2-n1\n",
    "            i += 1\n",
    "        elif n1 > n2:\n",
    "            diff =n1-n2\n",
    "            j += 1\n",
    "        else:\n",
    "            return [n1,n2]\n",
    "        if smallest > diff:\n",
    "            smallest = diff\n",
    "            smallestPair = [n1,n2]\n",
    "    return smallestPair"
   ]
  },
  {
   "cell_type": "code",
   "execution_count": 4,
   "metadata": {},
   "outputs": [
    {
     "name": "stdout",
     "output_type": "stream",
     "text": [
      "[28, 26]\n"
     ]
    }
   ],
   "source": [
    "a1 = [-1,5,10,20,28,3] \n",
    "a2 = [26,134,135,15,17]\n",
    "\n",
    "print(smallestDiff(a1,a2))"
   ]
  },
  {
   "cell_type": "code",
   "execution_count": null,
   "metadata": {},
   "outputs": [],
   "source": []
  }
 ],
 "metadata": {
  "kernelspec": {
   "display_name": "Python 3",
   "language": "python",
   "name": "python3"
  },
  "language_info": {
   "codemirror_mode": {
    "name": "ipython",
    "version": 3
   },
   "file_extension": ".py",
   "mimetype": "text/x-python",
   "name": "python",
   "nbconvert_exporter": "python",
   "pygments_lexer": "ipython3",
   "version": "3.8.3"
  }
 },
 "nbformat": 4,
 "nbformat_minor": 4
}

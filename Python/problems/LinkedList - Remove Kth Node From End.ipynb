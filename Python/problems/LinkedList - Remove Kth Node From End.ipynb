{
 "cells": [
  {
   "cell_type": "markdown",
   "metadata": {},
   "source": [
    "## Problem:\n",
    "\n",
    "Write a function that takes in the head of a Singly Linked List and an integer k and removes the kth\n",
    "node from the end of the list.\n",
    "The removal should be done in place, meaning that the original data structure should be mutated (no\n",
    "new structure should be created).\n",
    "Furthermore, the input head of the linked list should remain the head of the linked list after the\n",
    "removal is done, even if the head is the node that's supposed to be removed. In other words, if the\n",
    "head is the node that's supposed to be removed, your function should simply mutate its value and\n",
    "next pointer.\n",
    "Note that your function doesn't need to return anything.\n",
    "You can assume that the input Linked List will always have at least two nodes and, more specifically, at\n",
    "least k nodes.\n",
    "Each LinkedList node has an integer value as well as a next node pointing to the next node in\n",
    "the list or to None / null if it's the tail of the list.\n",
    "\n",
    "Example:\n",
    "\n",
    "head = 0 -> 1 -> 2 -> 3 -> 4 -> 5 -> 6 -> 7 -> 8 -> 9 // the head node with va\n",
    "\n",
    "k = 4\n",
    "\n",
    "Output:\n",
    "\n",
    "// No output required.\n",
    "\n",
    "// The 4th node from the end of the list (the node with value 6) is removed.\n",
    "0 -> 1 -> 2 -> 3 -> 4 -> 5 -> 7 -> 8 -> 9"
   ]
  },
  {
   "cell_type": "code",
   "execution_count": 1,
   "metadata": {},
   "outputs": [],
   "source": [
    "# This is an input class. Do not edit.\n",
    "class LinkedList:\n",
    "    def __init__(self, value):\n",
    "        self.value = value\n",
    "        self.next = None\n",
    "\n",
    "\n",
    "def removeKthNodeFromEnd(head, k):\n",
    "    # Write your code here.\n",
    "    cur = head\n",
    "    temp = head\n",
    "    j =1\n",
    "    while (j <= k):\n",
    "        temp = temp.next\n",
    "        j += 1\n",
    "\n",
    "    if temp is None:\n",
    "        head.value = head.next.value\n",
    "        head.next = head.next.next\n",
    "        return\n",
    "\n",
    "    while(temp.next):\n",
    "        cur = cur.next\n",
    "        temp = temp.next\n",
    "    cur.next = cur.next.next"
   ]
  },
  {
   "cell_type": "code",
   "execution_count": null,
   "metadata": {},
   "outputs": [],
   "source": []
  }
 ],
 "metadata": {
  "kernelspec": {
   "display_name": "Python 3",
   "language": "python",
   "name": "python3"
  },
  "language_info": {
   "codemirror_mode": {
    "name": "ipython",
    "version": 3
   },
   "file_extension": ".py",
   "mimetype": "text/x-python",
   "name": "python",
   "nbconvert_exporter": "python",
   "pygments_lexer": "ipython3",
   "version": "3.8.3"
  }
 },
 "nbformat": 4,
 "nbformat_minor": 4
}

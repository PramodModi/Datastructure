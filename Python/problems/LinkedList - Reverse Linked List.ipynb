{
 "cells": [
  {
   "cell_type": "markdown",
   "metadata": {},
   "source": [
    "## Problem:\n",
    "\n",
    "Write a function that takes in the head of a Singly Linked List, reverses the list in place (i.e., doesn't\n",
    "create a brand new list), and returns its new head.\n",
    "Each LinkedList node has an integer value as well as a next node pointing to the next node in\n",
    "the list or to None / null if it's the tail of the list.\n",
    "You can assume that the input Linked List will always have at least one node; in other words, the head\n",
    "will never be None / null .\n",
    "\n",
    "Example:\n",
    "\n",
    "head = 0 -> 1 -> 2 -> 3 -> 4 -> 5 // the head node with value 0\n",
    "\n",
    "Output:\n",
    "5 -> 4 -> 3 -> 2 -> 1 -> 0 // the new head node with value 5"
   ]
  },
  {
   "cell_type": "code",
   "execution_count": null,
   "metadata": {},
   "outputs": [],
   "source": [
    "# This is an input class. Do not edit.\n",
    "class LinkedList:\n",
    "    def __init__(self, value):\n",
    "        self.value = value\n",
    "        self.next = None\n",
    "\n",
    "\n",
    "def reverseLinkedList(head):\n",
    "    # Write your code here.\n",
    "    current = head.next\n",
    "    prev = head\n",
    "    n = None\n",
    "    while current:\n",
    "        n = current.next\n",
    "        current.next = prev\n",
    "        prev= current\n",
    "        current = n\n",
    "    head.next = None\n",
    "    head = prev\n",
    "    return head"
   ]
  },
  {
   "cell_type": "code",
   "execution_count": null,
   "metadata": {},
   "outputs": [],
   "source": []
  }
 ],
 "metadata": {
  "kernelspec": {
   "display_name": "Python 3",
   "language": "python",
   "name": "python3"
  },
  "language_info": {
   "codemirror_mode": {
    "name": "ipython",
    "version": 3
   },
   "file_extension": ".py",
   "mimetype": "text/x-python",
   "name": "python",
   "nbconvert_exporter": "python",
   "pygments_lexer": "ipython3",
   "version": "3.8.3"
  }
 },
 "nbformat": 4,
 "nbformat_minor": 4
}

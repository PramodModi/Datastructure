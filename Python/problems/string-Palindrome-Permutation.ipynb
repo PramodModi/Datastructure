{
 "cells": [
  {
   "cell_type": "markdown",
   "id": "cbba67a3-1256-41a5-af95-8313d7822af3",
   "metadata": {},
   "source": [
    "## Problem: Palindrome Permutation\n",
    "LeetCode: 266\n",
    "\n",
    "Given a string, determine if a permutation of the string could form a palindrome.\n",
    "\n",
    "Example 1:\n",
    "\n",
    "    Input: \"code\"\n",
    "    Output: false\n",
    "Example 2:\n",
    "\n",
    "    Input: \"aab\"\n",
    "    Output: true\n",
    "Example 3:\n",
    "\n",
    "    Input: \"carerac\"\n",
    "    Output: true"
   ]
  },
  {
   "cell_type": "code",
   "execution_count": 12,
   "id": "a9d84d4b-82fd-475d-ad69-923a3aa349b4",
   "metadata": {},
   "outputs": [],
   "source": [
    "def palindromePermutation(s):\n",
    "    temp = {}\n",
    "    for c in s:\n",
    "        temp[c] = temp.get(c, 0) + 1\n",
    "    oddCnt = 0\n",
    "    for v in temp.values():\n",
    "        if v%2 != 0:\n",
    "            oddCnt += 1\n",
    "    return oddCnt < 2"
   ]
  },
  {
   "cell_type": "code",
   "execution_count": 14,
   "id": "186127c8-9123-4c45-b0dd-e85f0f199fee",
   "metadata": {},
   "outputs": [
    {
     "data": {
      "text/plain": [
       "False"
      ]
     },
     "execution_count": 14,
     "metadata": {},
     "output_type": "execute_result"
    }
   ],
   "source": [
    "palindromePermutation(\"code\")"
   ]
  },
  {
   "cell_type": "code",
   "execution_count": 16,
   "id": "4584263e-b9e0-41cd-a0c3-b999c6235d25",
   "metadata": {},
   "outputs": [
    {
     "data": {
      "text/plain": [
       "True"
      ]
     },
     "execution_count": 16,
     "metadata": {},
     "output_type": "execute_result"
    }
   ],
   "source": [
    "palindromePermutation(\"aab\")"
   ]
  },
  {
   "cell_type": "code",
   "execution_count": 18,
   "id": "372c61a4-5944-492a-867b-f06b1d532807",
   "metadata": {},
   "outputs": [
    {
     "data": {
      "text/plain": [
       "True"
      ]
     },
     "execution_count": 18,
     "metadata": {},
     "output_type": "execute_result"
    }
   ],
   "source": [
    "palindromePermutation(\"carerac\")"
   ]
  },
  {
   "cell_type": "code",
   "execution_count": null,
   "id": "2c0872bf-531e-43de-ace6-2aef52095077",
   "metadata": {},
   "outputs": [],
   "source": []
  }
 ],
 "metadata": {
  "kernelspec": {
   "display_name": "Python 3 (ipykernel)",
   "language": "python",
   "name": "python3"
  },
  "language_info": {
   "codemirror_mode": {
    "name": "ipython",
    "version": 3
   },
   "file_extension": ".py",
   "mimetype": "text/x-python",
   "name": "python",
   "nbconvert_exporter": "python",
   "pygments_lexer": "ipython3",
   "version": "3.12.7"
  }
 },
 "nbformat": 4,
 "nbformat_minor": 5
}

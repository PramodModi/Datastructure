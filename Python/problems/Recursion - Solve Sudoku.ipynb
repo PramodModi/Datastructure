{
 "cells": [
  {
   "cell_type": "markdown",
   "metadata": {},
   "source": [
    "## Problem: \n",
    "\n"
   ]
  },
  {
   "cell_type": "code",
   "execution_count": 1,
   "metadata": {},
   "outputs": [],
   "source": [
    "def solveSudoku(board):\n",
    "    # Write your code here.\n",
    "    solveSubSudoku(0,0, board)\n",
    "    return board\n",
    "\n",
    "def solveSubSudoku(row, col, board):\n",
    "    if col == len(board[row]):\n",
    "        row += 1\n",
    "        col =0\n",
    "        if row == len(board):\n",
    "            return True\n",
    "    if board[row][col] == 0:\n",
    "        return placeDigit(row, col, board)\n",
    "    return solveSubSudoku(row, col+1, board)\n",
    "\n",
    "def placeDigit(row, col, board):\n",
    "    for digit in range(1,10):\n",
    "        if isDigitAllowed(digit, row, col, board):\n",
    "            board[row][col] = digit\n",
    "            if solveSubSudoku(row, col+1, board):\n",
    "                return True\n",
    "    board[row][col] = 0\n",
    "    return False\n",
    "\n",
    "def isDigitAllowed(digit, row, col, board):\n",
    "    isDigitinRow = digit in board[row]\n",
    "    isDigitinCol = digit in map(lambda r: r[col], board)\n",
    "\n",
    "    if isDigitinRow or isDigitinCol:\n",
    "        return False\n",
    "    subRow = (row//3) *3\n",
    "    subCol = (col//3)*3\n",
    "\n",
    "    for i in range(3):\n",
    "        r = subRow + i\n",
    "        for j in range(3):\n",
    "            c = subCol + j\n",
    "            if digit == board[r][c]:\n",
    "                return False\n",
    "    return True"
   ]
  },
  {
   "cell_type": "code",
   "execution_count": null,
   "metadata": {},
   "outputs": [],
   "source": []
  }
 ],
 "metadata": {
  "kernelspec": {
   "display_name": "Python 3",
   "language": "python",
   "name": "python3"
  },
  "language_info": {
   "codemirror_mode": {
    "name": "ipython",
    "version": 3
   },
   "file_extension": ".py",
   "mimetype": "text/x-python",
   "name": "python",
   "nbconvert_exporter": "python",
   "pygments_lexer": "ipython3",
   "version": "3.8.3"
  }
 },
 "nbformat": 4,
 "nbformat_minor": 4
}

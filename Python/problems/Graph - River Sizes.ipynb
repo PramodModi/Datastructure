{
 "cells": [
  {
   "cell_type": "markdown",
   "metadata": {},
   "source": [
    "## Problem: \n",
    "\n",
    "You're given a two-dimensional array (a matrix) of potentially unequal height and width containing only\n",
    "0 s and 1 s. Each 0 represents land, and each 1 represents part of a river. A river consists of any\n",
    "number of 1 s that are either horizontally or vertically adjacent (but not diagonally adjacent). The\n",
    "number of adjacent 1 s forming a river determine its size.\n",
    "Note that a river can twist. In other words, it doesn't have to be a straight vertical line or a straight\n",
    "horizontal line; it can be L-shaped, for example.\n",
    "Write a function that returns an array of the sizes of all rivers represented in the input matrix. The sizes\n",
    "don't need to be in any particular order.\n",
    "\n",
    "Example\n",
    "matrix = \n",
    "\n",
    "            [\n",
    "             [1, 0, 0, 1, 0],\n",
    "             [1, 0, 1, 0, 0],\n",
    "             [0, 0, 1, 0, 1],\n",
    "             [1, 0, 1, 0, 1],\n",
    "             [1, 0, 1, 1, 0],\n",
    "            ]\n",
    "\n",
    "Output:\n",
    "[1, 2, 2, 2, 5] // The numbers could be ordered differently.\n",
    "// The rivers can be clearly seen here:\n",
    "\n",
    "\n",
    "        // [\n",
    "        // [1, , , 1, ],\n",
    "        // [1, , 1, , ],\n",
    "        // [ , , 1, , 1],\n",
    "        // [1, , 1, , 1],\n",
    "        // [1, , 1, 1, ],\n",
    "        // ]"
   ]
  },
  {
   "cell_type": "code",
   "execution_count": 21,
   "metadata": {},
   "outputs": [],
   "source": [
    "## With depth first search with stack\n",
    "\n",
    "def riverSizes(matrix):\n",
    "    sizes = []\n",
    "    visited = [[False for c in range(len(matrix[r]))] for r in range (len(matrix))]\n",
    "    for row in range(len(matrix)):\n",
    "        for col in range(len(matrix[row])):\n",
    "            if visited[row][col] == True or matrix[row][col] == 0:\n",
    "                continue\n",
    "            size = explore(row, col, matrix, visited)\n",
    "            sizes.append(size)\n",
    "    return sizes\n",
    "\n",
    "def explore(row,col, matrix, visited):\n",
    "    if visited[row][col] == True:\n",
    "        return 0\n",
    "    visited[row][col] = True\n",
    "    nebrs = getNebrs(row, col, matrix)\n",
    "    size = 1\n",
    "    for r, c in nebrs:\n",
    "        if matrix[r][c] == 1:\n",
    "            size += explore(r,c, matrix, visited)\n",
    "    return size\n",
    "    \n",
    "    \n",
    "def getNebrs(row, col, matrix):\n",
    "    nebrs = []\n",
    "    if row > 0:\n",
    "        nebrs.append((row-1, col))\n",
    "    if row < len(matrix)-1:\n",
    "        nebrs.append((row+1, col))\n",
    "        \n",
    "    if col < len(matrix[row])-1:\n",
    "        nebrs.append((row, col+1))\n",
    "    if col > 0:\n",
    "        nebrs.append((row, col-1))\n",
    "    return nebrs\n",
    "            "
   ]
  },
  {
   "cell_type": "code",
   "execution_count": 22,
   "metadata": {},
   "outputs": [
    {
     "data": {
      "text/plain": [
       "[2, 1, 5, 2, 2]"
      ]
     },
     "execution_count": 22,
     "metadata": {},
     "output_type": "execute_result"
    }
   ],
   "source": [
    "matrix =[\n",
    "         [1, 0, 0, 1, 0],\n",
    "         [1, 0, 1, 0, 0],\n",
    "         [0, 0, 1, 0, 1],\n",
    "         [1, 0, 1, 0, 1],\n",
    "         [1, 0, 1, 1, 0],\n",
    "        ]\n",
    "riverSizes(matrix)"
   ]
  },
  {
   "cell_type": "code",
   "execution_count": 27,
   "metadata": {},
   "outputs": [],
   "source": [
    "## With breadth first search with Queue\n",
    "import queue\n",
    "def riverSizes1(matrix):\n",
    "    sizes = []\n",
    "    visited = [[False for c in range(len(matrix[r]))] for r in range (len(matrix))]\n",
    "    for row in range(len(matrix)):\n",
    "        for col in range(len(matrix[row])):\n",
    "            if visited[row][col] == True or matrix[row][col] == 0:\n",
    "                continue\n",
    "            size = explore(row, col, matrix, visited)\n",
    "            sizes.append(size)\n",
    "            \n",
    "    return sizes\n",
    "\n",
    "def explore(row,col, matrix, visited):\n",
    "    q = queue.Queue()\n",
    "    q.put((row, col))\n",
    "    size  = 0\n",
    "    while not q.empty():\n",
    "        row,col = q.get()\n",
    "        if visited[row][col]:\n",
    "            continue\n",
    "        visited[row][col] = True\n",
    "        size += 1    \n",
    "        nebrs = getNebrs(row, col, matrix)\n",
    "        for r, c in nebrs:\n",
    "            if matrix[r][c]:\n",
    "                q.put((r,c))\n",
    "    return size\n",
    "    \n",
    "    \n",
    "def getNebrs(row, col, matrix):\n",
    "    nebrs = []\n",
    "    if row > 0:\n",
    "        nebrs.append((row-1, col))\n",
    "    if row < len(matrix)-1:\n",
    "        nebrs.append((row+1, col))\n",
    "        \n",
    "    if col < len(matrix[row])-1:\n",
    "        nebrs.append((row, col+1))\n",
    "    if col > 0:\n",
    "        nebrs.append((row, col-1))\n",
    "    return nebrs"
   ]
  },
  {
   "cell_type": "code",
   "execution_count": 28,
   "metadata": {},
   "outputs": [
    {
     "data": {
      "text/plain": [
       "[2, 1, 5, 2, 2]"
      ]
     },
     "execution_count": 28,
     "metadata": {},
     "output_type": "execute_result"
    }
   ],
   "source": [
    "matrix =[\n",
    "         [1, 0, 0, 1, 0],\n",
    "         [1, 0, 1, 0, 0],\n",
    "         [0, 0, 1, 0, 1],\n",
    "         [1, 0, 1, 0, 1],\n",
    "         [1, 0, 1, 1, 0],\n",
    "        ]\n",
    "riverSizes1(matrix)"
   ]
  },
  {
   "cell_type": "code",
   "execution_count": null,
   "metadata": {},
   "outputs": [],
   "source": []
  }
 ],
 "metadata": {
  "kernelspec": {
   "display_name": "Python 3",
   "language": "python",
   "name": "python3"
  },
  "language_info": {
   "codemirror_mode": {
    "name": "ipython",
    "version": 3
   },
   "file_extension": ".py",
   "mimetype": "text/x-python",
   "name": "python",
   "nbconvert_exporter": "python",
   "pygments_lexer": "ipython3",
   "version": "3.8.3"
  }
 },
 "nbformat": 4,
 "nbformat_minor": 4
}

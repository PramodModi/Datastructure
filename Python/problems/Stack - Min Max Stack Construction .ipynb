{
 "cells": [
  {
   "cell_type": "markdown",
   "metadata": {},
   "source": [
    "## Problem:\n",
    "\n",
    "Write a MinMaxStack class for a Min Max Stack. The class should support:\n",
    "\n",
    "    Pushing and popping values on and off the stack.\n",
    "    Peeking at the value at the top of the stack.\n",
    "    Getting both the minimum and the maximum values in the stack at any given point in time.\n",
    "\n",
    "All class methods, when considered independently, should run in constant time and with constant\n",
    "space.\n",
    "\n",
    "Sample Usage\n",
    "// All operations below are performed sequentially.\n",
    "\n",
    "    MinMaxStack(): - // instantiate a MinMaxStack\n",
    "    push(5): -\n",
    "    getMin(): 5\n",
    "    getMax(): 5\n",
    "    peek(): 5\n",
    "    push(7): -\n",
    "    getMin(): 5\n",
    "    getMax(): 7\n",
    "    peek(): 7\n",
    "    push(2): -\n",
    "    getMin(): 2\n",
    "    getMax(): 7\n",
    "    peek(): 2\n",
    "    pop(): 2\n",
    "    pop(): 7\n",
    "    getMin(): 5\n",
    "    getMax(): 5\n",
    "    peek(): 5"
   ]
  },
  {
   "cell_type": "code",
   "execution_count": 1,
   "metadata": {},
   "outputs": [],
   "source": [
    "class MinMaxStack:\n",
    "    def __init__(self):\n",
    "        self.stack =[]\n",
    "        self.minMax = []\n",
    "    def peek(self):\n",
    "        # Write your code here.\n",
    "        return self.stack[-1]\n",
    "\n",
    "    def pop(self):\n",
    "        # Write your code here.\n",
    "        self.minMax.pop()\n",
    "        return self.stack.pop()\n",
    "\n",
    "    def push(self, number):\n",
    "        # Write your code here.\n",
    "        temp = {\"min\":number, \"max\": number}\n",
    "        if len(self.minMax)>0:\n",
    "            temp1 = self.minMax[-1]\n",
    "            temp[\"min\"] = min(temp[\"min\"], temp1[\"min\"])\n",
    "            temp[\"max\"] = max (temp[\"max\"], temp1[\"max\"])\n",
    "        self.minMax.append(temp)\n",
    "        self.stack.append(number)\n",
    "\n",
    "    def getMin(self):\n",
    "        # Write your code here.\n",
    "        if len(self.minMax):\n",
    "            return self.minMax[-1][\"min\"]\n",
    "\n",
    "    def getMax(self):\n",
    "        # Write your code here.\n",
    "        if len(self.minMax):\n",
    "            return self.minMax[-1][\"max\"]\n"
   ]
  },
  {
   "cell_type": "code",
   "execution_count": 4,
   "metadata": {},
   "outputs": [
    {
     "name": "stdout",
     "output_type": "stream",
     "text": [
      "5\n",
      "5\n",
      "5\n",
      "7\n",
      "2\n",
      "7\n"
     ]
    }
   ],
   "source": [
    "stack = MinMaxStack()\n",
    "\n",
    "stack.push(5)\n",
    "print(stack.getMin())\n",
    "print(stack.getMax())\n",
    "\n",
    "stack.push(7)\n",
    "print(stack.getMin())\n",
    "print(stack.getMax())\n",
    "\n",
    "stack.push(2)\n",
    "print(stack.getMin())\n",
    "print(stack.getMax())\n"
   ]
  },
  {
   "cell_type": "code",
   "execution_count": null,
   "metadata": {},
   "outputs": [],
   "source": []
  }
 ],
 "metadata": {
  "kernelspec": {
   "display_name": "Python 3",
   "language": "python",
   "name": "python3"
  },
  "language_info": {
   "codemirror_mode": {
    "name": "ipython",
    "version": 3
   },
   "file_extension": ".py",
   "mimetype": "text/x-python",
   "name": "python",
   "nbconvert_exporter": "python",
   "pygments_lexer": "ipython3",
   "version": "3.8.3"
  }
 },
 "nbformat": 4,
 "nbformat_minor": 4
}

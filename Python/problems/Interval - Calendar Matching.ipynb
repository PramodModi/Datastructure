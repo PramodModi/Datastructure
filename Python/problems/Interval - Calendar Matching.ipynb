{
 "cells": [
  {
   "cell_type": "markdown",
   "metadata": {},
   "source": [
    "## Problem: \n",
    "\n",
    "Imagine that you want to schedule a meeting of a certain duration with a co-worker. You have access to\n",
    "your calendar and your co-worker's calendar (both of which contain your respective meetings for the\n",
    "day, in the form of [startTime, endTime] ), as well as both of your daily bounds (i.e., the earliest\n",
    "and latest times at which you're available for meetings every day, in the form of\n",
    "[earliestTime, latestTime] ).\n",
    "Write a function that takes in your calendar, your daily bounds, your co-worker's calendar, your coworker's daily bounds, and the duration of the meeting that you want to schedule, and that returns a\n",
    "list of all the time blocks (in the form of [startTime, endTime] ) during which you could schedule\n",
    "the meeting, ordered from earliest time block to latest.\n",
    "Note that times will be given and should be returned in military time. For example: 8:30 , 9:01 , and\n",
    "23:56 .\n",
    "Also note that the given calendar times will be sorted by start time in ascending order, as you would\n",
    "expect them to appear in a calendar application like Google Calendar.\n",
    "\n",
    "Example:\n",
    "\n",
    "calendar1 = [['9:00', '10:30'], ['12:00', '13:00'], ['16:00', '18:00']]\n",
    "\n",
    "dailyBounds1 = ['9:00', '20:00']\n",
    "\n",
    "calendar2 = [['10:00', '11:30'], ['12:30', '14:30'], ['14:30', '15:00'], ['16:00', '17:00']]\n",
    "\n",
    "dailyBounds2 = ['10:00', '18:30']\n",
    "\n",
    "meetingDuration = 30\n",
    "\n",
    "Output:\n",
    "\n",
    "[['11:30', '12:00'], ['15:00', '16:00'], ['18:00', '18:30']]"
   ]
  },
  {
   "cell_type": "code",
   "execution_count": 1,
   "metadata": {},
   "outputs": [],
   "source": [
    "def calendarMatching(calendar1, dailyBounds1, calendar2, dailyBounds2, meetingDuration):\n",
    "    # Write your code here.\n",
    "    UpdatedCalendar1 = upDateCalendar(calendar1, dailyBounds1)\n",
    "    UpdatedCalendar2 = upDateCalendar(calendar2, dailyBounds2)\n",
    "    mergedCalendar = mergeCalendar(UpdatedCalendar1, UpdatedCalendar2)\n",
    "    flattenedCalendar = flattenCalendar(mergedCalendar)\n",
    "    return getMatchingAvailabilities(flattenedCalendar, meetingDuration)\n",
    "\n",
    "def upDateCalendar(calendar, dailyBounds):\n",
    "    updatedCalendar = calendar[:]\n",
    "    updatedCalendar.insert(0, [\"0:00\", dailyBounds[0]])\n",
    "    updatedCalendar.append([dailyBounds[1], \"23:59\"])\n",
    "    return list(map(lambda m: [timeToMinutes(m[0]), timeToMinutes(m[1])], updatedCalendar))\n",
    "\n",
    "def mergeCalendar(calendar1, calendar2):\n",
    "    merged = []\n",
    "    i, j = 0,0\n",
    "    while i<len(calendar1) and j < len(calendar2):\n",
    "        meeting1, meeting2 = calendar1[i], calendar2[j]\n",
    "        if meeting1[0] < meeting2[0]:\n",
    "            merged.append(meeting1)\n",
    "            i+=1\n",
    "        else:\n",
    "            merged.append(meeting2)\n",
    "            j += 1\n",
    "    while  i< len(calendar1):\n",
    "        merged.append(calendar1[i])\n",
    "        i += 1\n",
    "    while j < len(calendar2):\n",
    "        merged.append(calendar2[j])\n",
    "        j += 1\n",
    "    return merged\n",
    "\n",
    "def flattenCalendar(calendar):\n",
    "    \n",
    "    flattend = []\n",
    "    prevMeeting = calendar[0]\n",
    "\n",
    "    for i in range(1, len(calendar)):\n",
    "        meeting = calendar[i]\n",
    "        if prevMeeting[1] >= meeting[0]:\n",
    "            prevMeeting = [prevMeeting[0], max(prevMeeting[1], meeting[1])]\n",
    "        else:\n",
    "            flattend.append(prevMeeting)\n",
    "            prevMeeting = meeting\n",
    "    flattend.append(prevMeeting)\n",
    "    return flattend\n",
    "\n",
    "def getMatchingAvailabilities(calendar, meetingDuration):\n",
    "    matchingAvailabilities = []\n",
    "    for i in range(1, len(calendar)):\n",
    "        prevEnd = calendar[i-1][1]\n",
    "        nextStart = calendar[i][0]\n",
    "        availabilityDuration = nextStart - prevEnd\n",
    "        if availabilityDuration >= meetingDuration:\n",
    "            matchingAvailabilities.append([prevEnd, nextStart])\n",
    "    return list(map(lambda m: [minutesToTime(m[0]), minutesToTime(m[1])], matchingAvailabilities))\n",
    "    \n",
    "def timeToMinutes(time):\n",
    "    hours, minutes = list(map(int, time.split(\":\")))\n",
    "    return hours*60 + minutes\n",
    "\n",
    "def minutesToTime(minutes):\n",
    "    hours = minutes//60\n",
    "    mins = minutes % 60\n",
    "    hoursString = str(hours)\n",
    "    minutesString = \"0\" + str(mins) if mins<10 else str(mins)\n",
    "    return hoursString + \":\" + minutesString\n"
   ]
  },
  {
   "cell_type": "code",
   "execution_count": 4,
   "metadata": {},
   "outputs": [
    {
     "data": {
      "text/plain": [
       "[['11:30', '12:00'], ['15:00', '16:00'], ['18:00', '18:30']]"
      ]
     },
     "execution_count": 4,
     "metadata": {},
     "output_type": "execute_result"
    }
   ],
   "source": [
    "calendar1 = [['9:00', '10:30'], ['12:00', '13:00'], ['16:00', '18:00']]\n",
    "dailyBounds1 = ['9:00', '20:00']\n",
    "calendar2 = [['10:00', '11:30'], ['12:30', '14:30'], ['14:30', '15:00'], ['16:00','17:00']]\n",
    "dailyBounds2 = ['10:00', '18:30']\n",
    "meetingDuration = 30\n",
    "calendarMatching(calendar1, dailyBounds1, calendar2, dailyBounds2, meetingDuration)"
   ]
  },
  {
   "cell_type": "code",
   "execution_count": null,
   "metadata": {},
   "outputs": [],
   "source": []
  }
 ],
 "metadata": {
  "kernelspec": {
   "display_name": "Python 3",
   "language": "python",
   "name": "python3"
  },
  "language_info": {
   "codemirror_mode": {
    "name": "ipython",
    "version": 3
   },
   "file_extension": ".py",
   "mimetype": "text/x-python",
   "name": "python",
   "nbconvert_exporter": "python",
   "pygments_lexer": "ipython3",
   "version": "3.8.3"
  }
 },
 "nbformat": 4,
 "nbformat_minor": 4
}

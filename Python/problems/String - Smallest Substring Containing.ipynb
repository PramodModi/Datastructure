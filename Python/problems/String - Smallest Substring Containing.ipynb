{
 "cells": [
  {
   "cell_type": "markdown",
   "metadata": {},
   "source": [
    "## Problem:\n",
    "\n",
    "You're given two non-empty strings: a big string and a small string. Write a function that returns the\n",
    "smallest substring in the big string that contains all of the small string's characters.\n",
    "Note that:\n",
    "The substring can contain other characters not found in the small string.\n",
    "The characters in the substring don't have to be in the same order as they appear in the small\n",
    "string.\n",
    "If the small string has duplicate characters, the substring has to contain those duplicate\n",
    "characters (it can also contain more, but not fewer).\n",
    "You can assume that there will only be one relevant smallest substring.\n",
    "\n",
    "Example:\n",
    "\n",
    "    bigString = \"abcd$ef$axb$c$\"\n",
    "\n",
    "    smallString = \"$$abf\"\n",
    "\n",
    "Output\n",
    "    \n",
    "        \"f$axb$\""
   ]
  },
  {
   "cell_type": "code",
   "execution_count": 1,
   "metadata": {},
   "outputs": [],
   "source": [
    "def smallestSubstringContaining(bigString, smallString):\n",
    "    # Write your code here.\n",
    "    if len(smallString)>len(bigString):\n",
    "            return \"\"\n",
    "    temp = {}\n",
    "    for c in smallString:\n",
    "        temp[c] = temp.get(c, 0) + 1\n",
    "\n",
    "    right = 0\n",
    "    left = 0\n",
    "    remainingChar = len(temp)\n",
    "    result = float('inf')\n",
    "    result_rightIdx = 0\n",
    "    result_leftIdx = 0\n",
    "\n",
    "    while right < len(bigString):\n",
    "        c = bigString[right]\n",
    "        if c in temp:\n",
    "            temp[c] -= 1\n",
    "            if temp[c] == 0:\n",
    "                remainingChar -= 1\n",
    "        while remainingChar == 0:\n",
    "            c = bigString[left]\n",
    "            if c in temp:\n",
    "                temp[c] += 1\n",
    "                if temp[c] == 1:\n",
    "                    remainingChar += 1\n",
    "\n",
    "            if result > (right-left+1):\n",
    "                result = right-left+1\n",
    "                result_rightIdx = right + 1\n",
    "                result_leftIdx = left\n",
    "            left += 1\n",
    "        right += 1\n",
    "    return bigString[result_leftIdx:result_rightIdx]"
   ]
  },
  {
   "cell_type": "code",
   "execution_count": 3,
   "metadata": {},
   "outputs": [
    {
     "data": {
      "text/plain": [
       "'f$axb$'"
      ]
     },
     "execution_count": 3,
     "metadata": {},
     "output_type": "execute_result"
    }
   ],
   "source": [
    "bigString = \"abcd$ef$axb$c$\"\n",
    "smallString = \"$$abf\"\n",
    "smallestSubstringContaining(bigString, smallString)"
   ]
  },
  {
   "cell_type": "code",
   "execution_count": null,
   "metadata": {},
   "outputs": [],
   "source": []
  }
 ],
 "metadata": {
  "kernelspec": {
   "display_name": "Python 3",
   "language": "python",
   "name": "python3"
  },
  "language_info": {
   "codemirror_mode": {
    "name": "ipython",
    "version": 3
   },
   "file_extension": ".py",
   "mimetype": "text/x-python",
   "name": "python",
   "nbconvert_exporter": "python",
   "pygments_lexer": "ipython3",
   "version": "3.8.3"
  }
 },
 "nbformat": 4,
 "nbformat_minor": 4
}

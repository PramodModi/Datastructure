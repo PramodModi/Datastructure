{
 "cells": [
  {
   "cell_type": "markdown",
   "metadata": {},
   "source": [
    "## Problem:\n",
    "\n",
    "There's an algorithms tournament taking place in which teams of programmers compete against each\n",
    "other to solve algorithmic problems as fast as possible. Teams compete in a round robin, where each\n",
    "team faces off against all other teams. Only two teams compete against each other at a time, and for\n",
    "each competition, one team is designated the home team, while the other team is the away team. In\n",
    "each competition there's always one winner and one loser; there are no ties. A team receives 3 points if\n",
    "it wins and 0 points if it loses. The winner of the tournament is the team that receives the most amount\n",
    "of points.\n",
    "Given an array of pairs representing the teams that have competed against each other and an array\n",
    "containing the results of each competition, write a function that returns the winner of the tournament.\n",
    "The input arrays are named competitions and results , respectively. The competitions array\n",
    "has elements in the form of [homeTeam, awayTeam] , where each team is a string of at most 30\n",
    "characters representing the name of the team. The results array contains information about the\n",
    "winner of each corresponding competition in the competitions array. Specifically, results[i]\n",
    "denotes the winner of competitions[i] , where a 1 in the results array means that the home\n",
    "team in the corresponding competition won and a 0 means that the away team won.\n",
    "It's guaranteed that exactly one team will win the tournament and that each team will compete against\n",
    "all other teams exactly once. It's also guaranteed that the tournament will always have at least two\n",
    "teams.\n",
    "\n",
    "Example:\n",
    "\n",
    "competitions = [\n",
    " \n",
    " [\"HTML\", \"C#\"],\n",
    " \n",
    " [\"C#\", \"Python\"],\n",
    " \n",
    " [\"Python\", \"HTML\"],\n",
    "\n",
    "]\n",
    "\n",
    "results = [0, 0, 1]\n",
    "\n",
    "Output:\n",
    "\n",
    "\"Python\"\n",
    "\n",
    "// C# beats HTML, Python Beats C#, and Python Beats HTML.\n",
    "\n",
    "// HTML - 0 points\n",
    "\n",
    "// C# - 3 points\n",
    "\n",
    "// Python - 6 points"
   ]
  },
  {
   "cell_type": "code",
   "execution_count": 10,
   "metadata": {},
   "outputs": [],
   "source": [
    "def tournamentWinner(competition, results):\n",
    "    winningTeam = \"\"\n",
    "    winner = {winningTeam : 0}\n",
    "    for i in range(len(results)):\n",
    "        if results[i] == 1:\n",
    "            team = competition[i][0]\n",
    "        else:\n",
    "            team = competition[i][1]\n",
    "        \n",
    "        winner[team] = winner.get(team, 0) + 1\n",
    "        \n",
    "        if winner[winningTeam] < winner[team]:\n",
    "            winningTeam = team\n",
    "    return winningTeam"
   ]
  },
  {
   "cell_type": "code",
   "execution_count": 11,
   "metadata": {},
   "outputs": [
    {
     "data": {
      "text/plain": [
       "'Python'"
      ]
     },
     "execution_count": 11,
     "metadata": {},
     "output_type": "execute_result"
    }
   ],
   "source": [
    "competitions = [\n",
    "[\"HTML\", \"C#\"],\n",
    "[\"C#\", \"Python\"],\n",
    "[\"Python\", \"HTML\"],\n",
    "]\n",
    "results = [0, 0, 1]\n",
    "tournamentWinner(competitions, results)"
   ]
  },
  {
   "cell_type": "code",
   "execution_count": null,
   "metadata": {},
   "outputs": [],
   "source": []
  }
 ],
 "metadata": {
  "kernelspec": {
   "display_name": "Python 3",
   "language": "python",
   "name": "python3"
  },
  "language_info": {
   "codemirror_mode": {
    "name": "ipython",
    "version": 3
   },
   "file_extension": ".py",
   "mimetype": "text/x-python",
   "name": "python",
   "nbconvert_exporter": "python",
   "pygments_lexer": "ipython3",
   "version": "3.8.3"
  }
 },
 "nbformat": 4,
 "nbformat_minor": 4
}

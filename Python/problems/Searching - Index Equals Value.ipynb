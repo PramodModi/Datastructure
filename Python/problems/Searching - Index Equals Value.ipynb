{
 "cells": [
  {
   "cell_type": "markdown",
   "metadata": {},
   "source": [
    "## Problem: \n",
    "\n",
    "Write a function that takes in a sorted array of distinct integers and returns the first index in the array\n",
    "that is equal to the value at that index. In other words, your function should return the minimum index\n",
    "where index == array[index] .\n",
    "If there is no such index, your function should return -1 .\n",
    "\n",
    "Example:\n",
    "\n",
    "array = [-5, -3, 0, 3, 4, 5, 9]\n",
    "\n",
    "Output:\n",
    "3 // 3 == array[3]"
   ]
  },
  {
   "cell_type": "code",
   "execution_count": 1,
   "metadata": {},
   "outputs": [],
   "source": [
    "def indexEqualsValue(array):\n",
    "    # Write your code here.\n",
    "    l =0\n",
    "    r = len(array) - 1\n",
    "    while(l <= r):\n",
    "        mid = l + (r-l)//2\n",
    "        if array[mid] < mid:\n",
    "            l = mid+1\n",
    "        elif array[mid] == mid and mid == 0:\n",
    "            return mid\n",
    "        elif array[mid] == mid and mid-1 > array[mid-1]:\n",
    "            return mid\n",
    "        else:\n",
    "            r = mid-1\n",
    "    return -1"
   ]
  },
  {
   "cell_type": "code",
   "execution_count": 2,
   "metadata": {},
   "outputs": [
    {
     "data": {
      "text/plain": [
       "3"
      ]
     },
     "execution_count": 2,
     "metadata": {},
     "output_type": "execute_result"
    }
   ],
   "source": [
    "array = [-5, -3, 0, 3, 4, 5, 9]\n",
    "indexEqualsValue(array)"
   ]
  },
  {
   "cell_type": "code",
   "execution_count": null,
   "metadata": {},
   "outputs": [],
   "source": []
  }
 ],
 "metadata": {
  "kernelspec": {
   "display_name": "Python 3",
   "language": "python",
   "name": "python3"
  },
  "language_info": {
   "codemirror_mode": {
    "name": "ipython",
    "version": 3
   },
   "file_extension": ".py",
   "mimetype": "text/x-python",
   "name": "python",
   "nbconvert_exporter": "python",
   "pygments_lexer": "ipython3",
   "version": "3.8.3"
  }
 },
 "nbformat": 4,
 "nbformat_minor": 4
}

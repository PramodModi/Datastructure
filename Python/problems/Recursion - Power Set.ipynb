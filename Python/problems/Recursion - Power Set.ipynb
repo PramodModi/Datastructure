{
 "cells": [
  {
   "cell_type": "markdown",
   "metadata": {},
   "source": [
    "## Problem\n",
    "\n",
    "Write a function that takes in an array of unique integers and returns its powerset.\n",
    "The powerset P(X) of a set X is the set of all subsets of X . For example, the powerset of [1,2] is\n",
    "[[], [1], [2], [1,2]] .\n",
    "Note that the sets in the powerset do not need to be in any particular order.Example:\n",
    "\n",
    "Example:\n",
    "\n",
    "array = [1, 2, 3]\n",
    "\n",
    "Output: \n",
    "[[], [1], [2], [3], [1, 2], [1, 3], [2, 3], [1, 2, 3]]"
   ]
  },
  {
   "cell_type": "code",
   "execution_count": 1,
   "metadata": {},
   "outputs": [],
   "source": [
    "def powerset(array):\n",
    "    # Write your code here.\n",
    "    result = []\n",
    "    dfs(result, [], array)\n",
    "    return result\n",
    "def dfs(result, temp, array):\n",
    "    result.append(temp)\n",
    "    for i in range(len(array)):\n",
    "        dfs(result, temp+[array[i]], array[i+1:])"
   ]
  },
  {
   "cell_type": "code",
   "execution_count": 2,
   "metadata": {},
   "outputs": [
    {
     "data": {
      "text/plain": [
       "[[], [1], [1, 2], [1, 2, 3], [1, 3], [2], [2, 3], [3]]"
      ]
     },
     "execution_count": 2,
     "metadata": {},
     "output_type": "execute_result"
    }
   ],
   "source": [
    "array = [1, 2, 3]\n",
    "powerset(array)"
   ]
  },
  {
   "cell_type": "code",
   "execution_count": null,
   "metadata": {},
   "outputs": [],
   "source": []
  }
 ],
 "metadata": {
  "kernelspec": {
   "display_name": "Python 3",
   "language": "python",
   "name": "python3"
  },
  "language_info": {
   "codemirror_mode": {
    "name": "ipython",
    "version": 3
   },
   "file_extension": ".py",
   "mimetype": "text/x-python",
   "name": "python",
   "nbconvert_exporter": "python",
   "pygments_lexer": "ipython3",
   "version": "3.8.3"
  }
 },
 "nbformat": 4,
 "nbformat_minor": 4
}

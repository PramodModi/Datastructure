{
 "cells": [
  {
   "cell_type": "markdown",
   "metadata": {},
   "source": [
    "## Problem: Maximum Profit with K Transaction\n",
    "\n",
    "You’re given an array of positive integers representing the prices of a single stock on various days (each index in the array represents a different day). You’re also given an integer k, , which represents the number of transactions you’re allowed to make. One transaction consists of buying the stock on a given day and selling it on another, later day.\n",
    "Write a function that returns the maximum profit that you can make by buying and selling the stock, given k transactions.\n",
    "\n",
    "Note that you can only hold one share of the stock at a time; in other words, you can’t buy more than one share of the stock on any given day, and you can’t buy a share of the stock if you’re still holding another share. Also, you don’t need to use all k transactions that you’re allowed.\n",
    "\n",
    "Sample Input: \n",
    "\n",
    "prices = [5, 11, 3, 50, 60, 90], k = 2\n",
    "\n",
    "Sample output : 93\n",
    "\n",
    "prices = [2, 4, 7, 5, 4, 3, 5]\n",
    "k = 2\n",
    " \n",
    "Output: The maximum profit is 7 (sum of 5 and 2)\n",
    " \n",
    "Buy at a price 2 and sell at a price 7\n",
    "Buy at a price 3 and sell at a price 5\n",
    "\n"
   ]
  },
  {
   "cell_type": "code",
   "execution_count": 4,
   "metadata": {},
   "outputs": [],
   "source": [
    "def maxProfitWithKTransactions(prices, k):\n",
    "    if k ==0 or len(prices) == 0:\n",
    "            return 0\n",
    "    n = len(prices)\n",
    "    ## There is special case when k > (n/2), that means you can purchase and sell almost every day.\n",
    "    profit = 0\n",
    "    if k > (n/2):\n",
    "        for i in range(1, n):\n",
    "            profit += max(prices[i]-prices[i-1], 0)\n",
    "        return profit\n",
    "\n",
    "    ## Normal case when you have limited transaction. k < n/2\n",
    "    dp = [[0 for _ in range(n)] for _ in range(k+1)]\n",
    "\n",
    "    for i in range(1, k+1):\n",
    "        maxDay = - prices[0]\n",
    "        for j in range(1,n):\n",
    "            dp[i][j] = max(dp[i][j-1], prices[j] + maxDay)\n",
    "            maxDay = max(maxDay, dp[i-1][j] - prices[j])\n",
    "    return dp[-1][-1]"
   ]
  },
  {
   "cell_type": "code",
   "execution_count": 5,
   "metadata": {},
   "outputs": [
    {
     "data": {
      "text/plain": [
       "93"
      ]
     },
     "execution_count": 5,
     "metadata": {},
     "output_type": "execute_result"
    }
   ],
   "source": [
    "prices = [5, 11, 3, 50, 60, 90]\n",
    "k = 2\n",
    "maxProfitWithKTransactions(prices, k)"
   ]
  },
  {
   "cell_type": "code",
   "execution_count": 6,
   "metadata": {},
   "outputs": [
    {
     "data": {
      "text/plain": [
       "7"
      ]
     },
     "execution_count": 6,
     "metadata": {},
     "output_type": "execute_result"
    }
   ],
   "source": [
    "prices = [2, 4, 7, 5, 4, 3, 5]\n",
    "k = 2\n",
    "maxProfitWithKTransactions(prices, k)"
   ]
  },
  {
   "cell_type": "code",
   "execution_count": null,
   "metadata": {},
   "outputs": [],
   "source": []
  }
 ],
 "metadata": {
  "kernelspec": {
   "display_name": "Python 3",
   "language": "python",
   "name": "python3"
  },
  "language_info": {
   "codemirror_mode": {
    "name": "ipython",
    "version": 3
   },
   "file_extension": ".py",
   "mimetype": "text/x-python",
   "name": "python",
   "nbconvert_exporter": "python",
   "pygments_lexer": "ipython3",
   "version": "3.8.3"
  }
 },
 "nbformat": 4,
 "nbformat_minor": 4
}

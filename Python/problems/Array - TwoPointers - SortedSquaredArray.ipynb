{
 "cells": [
  {
   "cell_type": "markdown",
   "metadata": {},
   "source": [
    "## Problem : 977. Squares of a Sorted Array\n",
    "\n",
    "https://leetcode.com/problems/squares-of-a-sorted-array/description/\n",
    "\n",
    "Resturn new sorted squared array for given non-empty array of integrers that are sorted in ascending order.\n",
    "\n",
    "Ex:\n",
    "\n",
    "Input array = [1,2,3,4,5,6,7,8,9]\n",
    "Output array:[1, 4, 9, 16, 25, 36, 49, 64, 81]\n",
    "\n",
    "Input array = [-7, -3, 1, 9, 22, 30]\n",
    "Outputarray = [1, 9, 49, 81, 484, 900]"
   ]
  },
  {
   "cell_type": "code",
   "execution_count": 2,
   "metadata": {},
   "outputs": [],
   "source": [
    "def sortedSquaredArray(array):\n",
    "    result = [0]*len(array)\n",
    "    left = 0\n",
    "    right = len(array)-1\n",
    "    for i in reversed(range(len(array))):\n",
    "        n1 = array[left]\n",
    "        n2 = array[right]\n",
    "        if abs(n1) > abs(n2):\n",
    "            result[i] = n1*n1\n",
    "            left += 1\n",
    "        else:\n",
    "            result[i] = n2 * n2\n",
    "            right -= 1\n",
    "    return result"
   ]
  },
  {
   "cell_type": "code",
   "execution_count": 3,
   "metadata": {},
   "outputs": [
    {
     "name": "stdout",
     "output_type": "stream",
     "text": [
      "[1, 4, 9, 16, 25, 36, 49, 64, 81]\n"
     ]
    }
   ],
   "source": [
    "array = [1,2,3,4,5,6,7,8,9]\n",
    "print(sortedSquaredArray(array))"
   ]
  },
  {
   "cell_type": "code",
   "execution_count": 4,
   "metadata": {},
   "outputs": [
    {
     "name": "stdout",
     "output_type": "stream",
     "text": [
      "[1, 9, 49, 81, 484, 900]\n"
     ]
    }
   ],
   "source": [
    "array = [-7, -3, 1, 9, 22, 30]\n",
    "print(sortedSquaredArray(array))"
   ]
  },
  {
   "cell_type": "code",
   "execution_count": 6,
   "metadata": {},
   "outputs": [],
   "source": [
    "def sortedSquaredArray1(array):\n",
    "    result = [0]*len(array)\n",
    "    left = 0\n",
    "    right = len(array)-1\n",
    "    i = len(array)-1\n",
    "    while left <= right:\n",
    "        if abs(array[left]) < abs(array[right]):\n",
    "            result[i] = array[right] * array[right]\n",
    "            right -= 1\n",
    "        else:\n",
    "            result[i] = array[left] * array[left]\n",
    "            left += 1\n",
    "        i -= 1\n",
    "    return result"
   ]
  },
  {
   "cell_type": "code",
   "execution_count": 7,
   "metadata": {},
   "outputs": [
    {
     "data": {
      "text/plain": [
       "[1, 4, 9, 16, 25, 36, 49, 64, 81]"
      ]
     },
     "execution_count": 7,
     "metadata": {},
     "output_type": "execute_result"
    }
   ],
   "source": [
    "array = [1,2,3,4,5,6,7,8,9]\n",
    "sortedSquaredArray1(array)"
   ]
  },
  {
   "cell_type": "code",
   "execution_count": 8,
   "metadata": {},
   "outputs": [
    {
     "data": {
      "text/plain": [
       "[1, 9, 49, 81, 484, 900]"
      ]
     },
     "execution_count": 8,
     "metadata": {},
     "output_type": "execute_result"
    }
   ],
   "source": [
    "array = [-7, -3, 1, 9, 22, 30]\n",
    "sortedSquaredArray1(array)"
   ]
  },
  {
   "cell_type": "code",
   "execution_count": null,
   "metadata": {},
   "outputs": [],
   "source": []
  }
 ],
 "metadata": {
  "kernelspec": {
   "display_name": "Python 3",
   "language": "python",
   "name": "python3"
  },
  "language_info": {
   "codemirror_mode": {
    "name": "ipython",
    "version": 3
   },
   "file_extension": ".py",
   "mimetype": "text/x-python",
   "name": "python",
   "nbconvert_exporter": "python",
   "pygments_lexer": "ipython3",
   "version": "3.8.3"
  }
 },
 "nbformat": 4,
 "nbformat_minor": 4
}

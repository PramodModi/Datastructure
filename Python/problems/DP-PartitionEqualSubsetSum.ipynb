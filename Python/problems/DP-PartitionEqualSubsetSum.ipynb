{
 "cells": [
  {
   "cell_type": "markdown",
   "metadata": {},
   "source": [
    "## Problem\n",
    "Given a non-empty array nums containing only positive integers, find if the array can be partitioned into two subsets such that the sum of elements in both subsets is equal.\n",
    "\n",
    "Exampl:\n",
    "\n",
    "Input: nums = [1,5,11,5]\n",
    "Output: true\n",
    "Explanation: The array can be partitioned as [1, 5, 5] and [11].\n",
    "\n",
    "Example:\n",
    "\n",
    "Input: nums = [1,2,3,5]\n",
    "Output: false\n",
    "Explanation: The array cannot be partitioned into equal sum subsets."
   ]
  },
  {
   "cell_type": "code",
   "execution_count": 38,
   "metadata": {},
   "outputs": [],
   "source": [
    "# This is similar to knapsack problem. Sum//2 is the capacity of knapsack.\n",
    "def canPartition(nums):\n",
    "    total = sum(nums)\n",
    "    if total & 1: #Sum is odd, so can not partition in two part\n",
    "        return False\n",
    "    capacity = total//2\n",
    "    \n",
    "    # Created dp table\n",
    "    dp = [[False for i in range(capacity + 1)] for j in range(len(nums) + 1)]\n",
    "    dp[0][0] = True\n",
    "    for i in range(1, len(nums)+1):\n",
    "        num = nums[i-1]\n",
    "        for j in range(capacity + 1):\n",
    "            if num > j: #Skip\n",
    "                dp[i][j] = dp[i-1][j] \n",
    "            elif num == j:\n",
    "                dp[i][j] = True\n",
    "                \n",
    "            else:\n",
    "                dp[i][j] = dp[i-1][j] or dp[i-1][j - num]\n",
    "                \n",
    "    return dp[len(nums)][capacity]\n",
    "                "
   ]
  },
  {
   "cell_type": "code",
   "execution_count": 41,
   "metadata": {},
   "outputs": [
    {
     "data": {
      "text/plain": [
       "False"
      ]
     },
     "execution_count": 41,
     "metadata": {},
     "output_type": "execute_result"
    }
   ],
   "source": [
    "nums = [1,2,3,5]\n",
    "canPartition(nums)"
   ]
  },
  {
   "cell_type": "code",
   "execution_count": null,
   "metadata": {},
   "outputs": [],
   "source": []
  }
 ],
 "metadata": {
  "kernelspec": {
   "display_name": "Python 3",
   "language": "python",
   "name": "python3"
  },
  "language_info": {
   "codemirror_mode": {
    "name": "ipython",
    "version": 3
   },
   "file_extension": ".py",
   "mimetype": "text/x-python",
   "name": "python",
   "nbconvert_exporter": "python",
   "pygments_lexer": "ipython3",
   "version": "3.8.3"
  }
 },
 "nbformat": 4,
 "nbformat_minor": 4
}

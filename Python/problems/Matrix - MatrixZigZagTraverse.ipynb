{
 "cells": [
  {
   "cell_type": "markdown",
   "metadata": {},
   "source": [
    "## Problem:\n",
    "\n",
    "Write a function that takes in an n x m two-dimensional array (that can be square-shaped when n == m)\n",
    "and returns a one-dimensional array of all the array's elements in zigzag order.\n",
    "Zigzag order starts at the top left corner of the two-dimensional array, goes down by one element, and\n",
    "proceeds in a zigzag pattern all the way to the bottom right corner.\n",
    "\n",
    "Example:\n",
    "\n",
    "array = \n",
    "\n",
    "    [\n",
    "     [1, 3, 4, 10],\n",
    "     [2, 5, 9, 11],\n",
    "     [6, 8, 12, 15],\n",
    "     [7, 13, 14, 16],\n",
    "    ]\n",
    "    \n",
    "Output:\n",
    "\n",
    "[1, 2, 3, 4, 5, 6, 7, 8, 9, 10, 11, 12, 13, 14, 15, 16]\n"
   ]
  },
  {
   "cell_type": "code",
   "execution_count": 3,
   "metadata": {},
   "outputs": [],
   "source": [
    "def zigzagTraverse(array):\n",
    "    endRow = len(array) - 1\n",
    "    endCol = len(array[0]) - 1\n",
    "    result = []\n",
    "    r, c =0, 0\n",
    "    goingDown = True\n",
    "    while not isOutOfBounds(r,c,endRow,endCol):\n",
    "        result.append(array[r][c])\n",
    "        if goingDown:\n",
    "            if c == 0 or r == endRow:\n",
    "                goingDown = False\n",
    "                if r == endRow:\n",
    "                    c += 1\n",
    "                else:\n",
    "                    r += 1\n",
    "            else:\n",
    "                r += 1\n",
    "                c -= 1\n",
    "        else:\n",
    "            if r == 0 or c == endCol:\n",
    "                goingDown = True\n",
    "                if c == endCol:\n",
    "                    r += 1\n",
    "                else:\n",
    "                    c += 1\n",
    "            else:\n",
    "                r -= 1\n",
    "                c += 1\n",
    "    return result\n",
    "\n",
    "def isOutOfBounds(r,c,endRow, endCol):\n",
    "    return r<0 or r>endRow or c < 0 or c > endCol"
   ]
  },
  {
   "cell_type": "code",
   "execution_count": 4,
   "metadata": {},
   "outputs": [
    {
     "name": "stdout",
     "output_type": "stream",
     "text": [
      "[1, 2, 3, 4, 5, 6, 7, 8, 9, 10, 11, 12, 13, 14, 15, 16]\n"
     ]
    }
   ],
   "source": [
    "array = [\n",
    "  [1, 3, 4, 10],\n",
    "  [2, 5, 9, 11],\n",
    "  [6, 8, 12, 15],\n",
    "  [7, 13, 14, 16]\n",
    "]\n",
    "\n",
    "print(zigzagTraverse(array))"
   ]
  },
  {
   "cell_type": "code",
   "execution_count": null,
   "metadata": {},
   "outputs": [],
   "source": []
  }
 ],
 "metadata": {
  "kernelspec": {
   "display_name": "Python 3",
   "language": "python",
   "name": "python3"
  },
  "language_info": {
   "codemirror_mode": {
    "name": "ipython",
    "version": 3
   },
   "file_extension": ".py",
   "mimetype": "text/x-python",
   "name": "python",
   "nbconvert_exporter": "python",
   "pygments_lexer": "ipython3",
   "version": "3.8.3"
  }
 },
 "nbformat": 4,
 "nbformat_minor": 4
}

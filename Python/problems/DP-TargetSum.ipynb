{
 "cells": [
  {
   "cell_type": "markdown",
   "metadata": {},
   "source": [
    "## Problem\n",
    "\n",
    "You are given an integer array nums and an integer target.\n",
    "\n",
    "You want to build an expression out of nums by adding one of the symbols '+' and '-' before each integer in nums and then concatenate all the integers.\n",
    "\n",
    "For example, if nums = [2, 1], you can add a '+' before 2 and a '-' before 1 and concatenate them to build the expression \"+2-1\".\n",
    "Return the number of different expressions that you can build, which evaluates to target.\n",
    "\n",
    "Example:\n",
    "\n",
    "Input: nums = [1,1,1,1,1], target = 3\n",
    "\n",
    "Output: 5\n",
    "\n",
    "Explanation: There are 5 ways to assign symbols to make the sum of nums be target 3.\n",
    "\n",
    "-1 + 1 + 1 + 1 + 1 = 3\n",
    "\n",
    "+1 - 1 + 1 + 1 + 1 = 3\n",
    "\n",
    "+1 + 1 - 1 + 1 + 1 = 3\n",
    "\n",
    "+1 + 1 + 1 - 1 + 1 = 3\n",
    "\n",
    "+1 + 1 + 1 + 1 - 1 = 3"
   ]
  },
  {
   "cell_type": "markdown",
   "metadata": {},
   "source": [
    "This is similar to two sbsets problem. One subset will have all positive and another subset hwill ave all negative values, such that the difference between btween them is as given.\n",
    "Suppose given difference = diff\n",
    "Basically, need to find set1 so that sum of set1 elemnts = (total + diff) /2. In this example, sum = 5+3/2 = 4"
   ]
  },
  {
   "cell_type": "code",
   "execution_count": 43,
   "metadata": {},
   "outputs": [],
   "source": [
    "def targetSum(nums, diff):\n",
    "    total = sum(nums)\n",
    "    \n",
    "    # Handling edge conditions\n",
    "    #1. Diff will never be graetr than total sum\n",
    "    if diff > total:\n",
    "        return 0\n",
    "    \n",
    "    n = total + diff\n",
    "    \n",
    "    #2. Edge condition, n should not be odd also total+diff will never be negative. Here diff can be negative.\n",
    "    if n < 0 or n & 1:\n",
    "        return 0\n",
    "    target = (n)//2\n",
    "    \n",
    "    \n",
    "    m = len(nums)\n",
    "    dp = [[0 for i in range(target + 1)] for i in range(m +1)]\n",
    "    dp[0][0] = 1\n",
    "    \n",
    "    for i in range(1, m +1):\n",
    "        num = nums[i-1]\n",
    "        for j in range(target + 1):\n",
    "            if num > j:\n",
    "                dp[i][j] = dp[i-1][j]\n",
    "            else:\n",
    "                dp[i][j] = dp[i-1][j] + dp[i-1][j-num]\n",
    "                \n",
    "    return dp[-1][-1]"
   ]
  },
  {
   "cell_type": "code",
   "execution_count": 44,
   "metadata": {},
   "outputs": [
    {
     "data": {
      "text/plain": [
       "5"
      ]
     },
     "execution_count": 44,
     "metadata": {},
     "output_type": "execute_result"
    }
   ],
   "source": [
    "nums = [1,1,1,1,1]\n",
    "diff = 3\n",
    "targetSum(nums, diff)"
   ]
  },
  {
   "cell_type": "code",
   "execution_count": 45,
   "metadata": {},
   "outputs": [
    {
     "data": {
      "text/plain": [
       "0"
      ]
     },
     "execution_count": 45,
     "metadata": {},
     "output_type": "execute_result"
    }
   ],
   "source": [
    "nums = [7,9,3,8,0,2,4,8,3,9]\n",
    "diff = 0\n",
    "targetSum(nums, diff)"
   ]
  },
  {
   "cell_type": "code",
   "execution_count": 46,
   "metadata": {},
   "outputs": [
    {
     "data": {
      "text/plain": [
       "0"
      ]
     },
     "execution_count": 46,
     "metadata": {},
     "output_type": "execute_result"
    }
   ],
   "source": [
    "nums = [100]\n",
    "diff = -200\n",
    "targetSum(nums, diff)"
   ]
  },
  {
   "cell_type": "code",
   "execution_count": null,
   "metadata": {},
   "outputs": [],
   "source": []
  }
 ],
 "metadata": {
  "kernelspec": {
   "display_name": "Python 3",
   "language": "python",
   "name": "python3"
  },
  "language_info": {
   "codemirror_mode": {
    "name": "ipython",
    "version": 3
   },
   "file_extension": ".py",
   "mimetype": "text/x-python",
   "name": "python",
   "nbconvert_exporter": "python",
   "pygments_lexer": "ipython3",
   "version": "3.8.3"
  }
 },
 "nbformat": 4,
 "nbformat_minor": 4
}

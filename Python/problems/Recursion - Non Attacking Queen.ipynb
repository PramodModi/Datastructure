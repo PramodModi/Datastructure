{
 "cells": [
  {
   "cell_type": "markdown",
   "metadata": {},
   "source": [
    "## Problem:\n",
    "\n",
    "Write a function that takes in a positive integer n and returns the number of non-attacking\n",
    "placements of n queens on an n x n chessboard.\n",
    "A non-attacking placement is one where no queen can attack another queen in a single turn. In other\n",
    "words, it's a placement where no queen can move to the same position as another queen in a single\n",
    "turn.\n",
    "In chess, queens can move any number of squares horizontally, vertically, or diagonally in a single turn.\n",
    "\n",
    "    +--+--+--+--+\n",
    "    | |Q | | |\n",
    "    +--+--+--+--+\n",
    "    | | | |Q |\n",
    "    +--+--+--+--+\n",
    "    |Q | | | |\n",
    "    +--+--+--+--+\n",
    "    | | |Q | |\n",
    "    +--+--+--+--+\n",
    "\n",
    "The chessboard above is an example of a non-attacking placement of 4 queens on a 4x4 chessboard.\n",
    "\n",
    "For reference, there are only 2 non-attacking placements of 4 queens on a 4x4 chessboard.\n",
    "\n",
    "Example:\n",
    "\n",
    "n = 4\n",
    "\n",
    "Output : 2"
   ]
  },
  {
   "cell_type": "code",
   "execution_count": 1,
   "metadata": {},
   "outputs": [],
   "source": [
    "def nonAttackingQueens(n):\n",
    "    # Write your code here.\n",
    "    queenPlacements = [0] * n\n",
    "    return getQueenPlacements(0, queenPlacements, n)\n",
    "    \n",
    "def getQueenPlacements(row, queenPlacements, n):\n",
    "    if row == n:\n",
    "        return 1\n",
    "    numPlacements = 0\n",
    "\n",
    "    for col in range(n):\n",
    "        if canQueenPlace(row, col,queenPlacements ):\n",
    "            queenPlacements[row] = col\n",
    "            numPlacements += getQueenPlacements(row+1, queenPlacements, n)\n",
    "    return numPlacements\n",
    "\n",
    "def canQueenPlace(row, col, queenPlacements):\n",
    "    for prevRow in range(row):\n",
    "        prevCol = queenPlacements[prevRow]\n",
    "        if prevCol == col:\n",
    "            return False\n",
    "        if (abs(prevCol - col) == (row-prevRow)):\n",
    "            return False\n",
    "    return True"
   ]
  },
  {
   "cell_type": "code",
   "execution_count": 2,
   "metadata": {},
   "outputs": [
    {
     "data": {
      "text/plain": [
       "2"
      ]
     },
     "execution_count": 2,
     "metadata": {},
     "output_type": "execute_result"
    }
   ],
   "source": [
    "nonAttackingQueens(4)"
   ]
  },
  {
   "cell_type": "code",
   "execution_count": null,
   "metadata": {},
   "outputs": [],
   "source": []
  }
 ],
 "metadata": {
  "kernelspec": {
   "display_name": "Python 3",
   "language": "python",
   "name": "python3"
  },
  "language_info": {
   "codemirror_mode": {
    "name": "ipython",
    "version": 3
   },
   "file_extension": ".py",
   "mimetype": "text/x-python",
   "name": "python",
   "nbconvert_exporter": "python",
   "pygments_lexer": "ipython3",
   "version": "3.8.3"
  }
 },
 "nbformat": 4,
 "nbformat_minor": 4
}

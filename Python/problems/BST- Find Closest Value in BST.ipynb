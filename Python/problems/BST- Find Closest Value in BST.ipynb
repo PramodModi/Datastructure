{
 "cells": [
  {
   "cell_type": "markdown",
   "metadata": {},
   "source": [
    "## Problem: \n",
    "\n",
    "Write a function that takes in a Binary Search Tree (BST) and a target integer value and returns the\n",
    "closest value to that target value contained in the BST.\n",
    "You can assume that there will only be one closest value.\n",
    "Each BST node has an integer value , a left child node, and a right child node. A node is said\n",
    "to be a valid BST node if and only if it satisfies the BST property: its value is strictly greater than the\n",
    "values of every node to its left; its value is less than or equal to the values of every node to its right;\n",
    "and its children nodes are either valid BST nodes themselves or None / null .\n",
    "\n",
    "Example:\n",
    "tree = \n",
    "\n",
    "               10\n",
    "             /   \\\n",
    "            5     15\n",
    "           / \\    / \\\n",
    "          2   5   13 22\n",
    "          /        \\\n",
    "         1          14\n",
    "\n",
    "\n",
    "target = 12\n",
    "\n",
    "Output: 13"
   ]
  },
  {
   "cell_type": "code",
   "execution_count": 1,
   "metadata": {},
   "outputs": [],
   "source": [
    "# This is the class of the input tree. Do not edit.\n",
    "class BST:\n",
    "    def __init__(self, value):\n",
    "        self.value = value\n",
    "        self.left = None\n",
    "        self.right = None\n",
    "        \n",
    "def findClosestValueInBst(tree, target):\n",
    "    # Write your code here.\n",
    "    closest = tree.value\n",
    "    while tree:\n",
    "        diff = abs(target - tree.value)\n",
    "        if diff < abs(closest - target):\n",
    "            closest = tree.value\n",
    "        if target > tree.value:\n",
    "            tree = tree.right\n",
    "        elif target< tree.value:\n",
    "            tree = tree.left\n",
    "        else:\n",
    "            break\n",
    "    return closest\n",
    "\n",
    "\n"
   ]
  },
  {
   "cell_type": "code",
   "execution_count": null,
   "metadata": {},
   "outputs": [],
   "source": []
  }
 ],
 "metadata": {
  "kernelspec": {
   "display_name": "Python 3",
   "language": "python",
   "name": "python3"
  },
  "language_info": {
   "codemirror_mode": {
    "name": "ipython",
    "version": 3
   },
   "file_extension": ".py",
   "mimetype": "text/x-python",
   "name": "python",
   "nbconvert_exporter": "python",
   "pygments_lexer": "ipython3",
   "version": "3.8.3"
  }
 },
 "nbformat": 4,
 "nbformat_minor": 4
}

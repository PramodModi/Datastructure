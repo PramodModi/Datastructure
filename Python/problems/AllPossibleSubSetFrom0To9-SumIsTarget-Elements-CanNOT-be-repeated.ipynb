{
 "cells": [
  {
   "cell_type": "markdown",
   "metadata": {},
   "source": [
    "## Problem\n",
    "Find all valid combinations of k numbers that sum up to n such that the following conditions are true:\n",
    "\n",
    "Only numbers 1 through 9 are used.\n",
    "Each number is used at most once.\n",
    "Return a list of all possible valid combinations. The list must not contain the same combination twice, and the combinations may be returned in any order.\n",
    "\n",
    "Example1:\n",
    "\n",
    "Input: k = 3, n = 7\n",
    "\n",
    "Output: [[1,2,4]]\n",
    "\n",
    "Explanation:\n",
    "\n",
    "1 + 2 + 4 = 7\n",
    "There are no other valid combinations.\n",
    "\n",
    "Example2:\n",
    "\n",
    "Input: k = 3, n = 9\n",
    "\n",
    "Output: [[1,2,6],[1,3,5],[2,3,4]]\n",
    "\n",
    "Explanation:\n",
    "\n",
    "1 + 2 + 6 = 9\n",
    "1 + 3 + 5 = 9\n",
    "2 + 3 + 4 = 9\n",
    "There are no other valid combinations\n",
    "\n",
    "Example:\n",
    "\n",
    "Input: k = 4, n = 1\n",
    "\n",
    "Output: []\n",
    "\n",
    "Explanation: There are no valid combinations.\n",
    "Using 4 different numbers in the range [1,9], the smallest sum we can get is 1+2+3+4 = 10 and since 10 > 1, there are no valid combination."
   ]
  },
  {
   "cell_type": "code",
   "execution_count": 33,
   "metadata": {},
   "outputs": [],
   "source": [
    "def combinationSum3(k, target):\n",
    "    result = []\n",
    "    dfs(result, [], 1, k, target)\n",
    "    return result\n",
    "\n",
    "def dfs(result, temp, startIndex, k, target):\n",
    "    \n",
    "    if k<0 or target < 0:\n",
    "        return\n",
    "    if k == 0 and target == 0:\n",
    "        result.append(temp)\n",
    "        return\n",
    "        \n",
    "    for i in range(startIndex, 10):\n",
    "    \n",
    "        dfs(result, temp + [i], i+1, k-1,target - i )\n",
    "       "
   ]
  },
  {
   "cell_type": "code",
   "execution_count": 34,
   "metadata": {},
   "outputs": [
    {
     "data": {
      "text/plain": [
       "[[1, 2, 4]]"
      ]
     },
     "execution_count": 34,
     "metadata": {},
     "output_type": "execute_result"
    }
   ],
   "source": [
    "k =3\n",
    "target = 7\n",
    "combinationSum3(k, target)"
   ]
  },
  {
   "cell_type": "code",
   "execution_count": 35,
   "metadata": {},
   "outputs": [
    {
     "data": {
      "text/plain": [
       "[[1, 2, 6], [1, 3, 5], [2, 3, 4]]"
      ]
     },
     "execution_count": 35,
     "metadata": {},
     "output_type": "execute_result"
    }
   ],
   "source": [
    "k =3\n",
    "target = 9\n",
    "combinationSum3(k, target)"
   ]
  },
  {
   "cell_type": "code",
   "execution_count": 36,
   "metadata": {},
   "outputs": [
    {
     "data": {
      "text/plain": [
       "[]"
      ]
     },
     "execution_count": 36,
     "metadata": {},
     "output_type": "execute_result"
    }
   ],
   "source": [
    "k =4\n",
    "target = 1\n",
    "combinationSum3(k, target)"
   ]
  },
  {
   "cell_type": "code",
   "execution_count": null,
   "metadata": {},
   "outputs": [],
   "source": []
  }
 ],
 "metadata": {
  "kernelspec": {
   "display_name": "Python 3",
   "language": "python",
   "name": "python3"
  },
  "language_info": {
   "codemirror_mode": {
    "name": "ipython",
    "version": 3
   },
   "file_extension": ".py",
   "mimetype": "text/x-python",
   "name": "python",
   "nbconvert_exporter": "python",
   "pygments_lexer": "ipython3",
   "version": "3.8.3"
  }
 },
 "nbformat": 4,
 "nbformat_minor": 4
}

{
 "cells": [
  {
   "cell_type": "markdown",
   "metadata": {},
   "source": [
    "## Problem : 44. Wildcard Matching\n",
    "\n",
    "https://leetcode.com/problems/wildcard-matching/description/\n",
    "\n",
    "Given an input string (s) and a pattern (p), implement wildcard pattern matching with support for '?' and '*' where:\n",
    "\n",
    "'?' Matches any single character.\n",
    "'*' Matches any sequence of characters (including the empty sequence).\n",
    "The matching should cover the entire input string (not partial).\n",
    "\n",
    " \n",
    "\n",
    "Example 1:\n",
    "\n",
    "Input: s = \"aa\", p = \"a\"\n",
    "\n",
    "Output: false\n",
    "\n",
    "Explanation: \"a\" does not match the entire string \"aa\".\n",
    "\n",
    "Example 2:\n",
    "\n",
    "Input: s = \"aa\", p = \"*\"\n",
    "\n",
    "Output: true\n",
    "\n",
    "Explanation: '*' matches any sequence.\n",
    "\n",
    "Example 3:\n",
    "\n",
    "Input: s = \"cb\", p = \"?a\"\n",
    "\n",
    "Output: false\n",
    "\n",
    "Explanation: '?' matches 'c', but the second letter is 'a', which does not match 'b'.\n",
    " \n",
    "\n",
    "Constraints:\n",
    "\n",
    "0 <= s.length, p.length <= 2000\n",
    "s contains only lowercase English letters.\n",
    "p contains only lowercase English letters, '?' or '*'."
   ]
  },
  {
   "cell_type": "code",
   "execution_count": 1,
   "metadata": {},
   "outputs": [],
   "source": [
    "def isMatch(s, p):\n",
    "    n, m = len(s), len(p)\n",
    "    dp = [[False for _ in range(n+1)] for _ in range(m+1)]\n",
    "    dp[0][0] = True\n",
    "    for i in range(1, m+1):\n",
    "        if p[i-1] == \"*\":\n",
    "            dp[i][0] = True\n",
    "        else:\n",
    "            break\n",
    "    for i in range(1, m+1):\n",
    "        for j in range(1, n+1):\n",
    "            if s[j-1] == p[i-1] or p[i-1] == \"?\":\n",
    "                dp[i][j] = dp[i-1][j-1]\n",
    "            elif p[i-1] == \"*\":\n",
    "                dp[i][j] = dp[i-1][j] or dp[i][j-1]\n",
    "    return dp[-1][-1]"
   ]
  },
  {
   "cell_type": "code",
   "execution_count": 3,
   "metadata": {},
   "outputs": [
    {
     "data": {
      "text/plain": [
       "True"
      ]
     },
     "execution_count": 3,
     "metadata": {},
     "output_type": "execute_result"
    }
   ],
   "source": [
    "s = \"aa\"\n",
    "p = \"*\"\n",
    "isMatch(s, p)"
   ]
  },
  {
   "cell_type": "code",
   "execution_count": 4,
   "metadata": {},
   "outputs": [
    {
     "data": {
      "text/plain": [
       "False"
      ]
     },
     "execution_count": 4,
     "metadata": {},
     "output_type": "execute_result"
    }
   ],
   "source": [
    "s = \"cb\"\n",
    "p = \"?a\"\n",
    "isMatch(s, p)"
   ]
  },
  {
   "cell_type": "code",
   "execution_count": null,
   "metadata": {},
   "outputs": [],
   "source": []
  }
 ],
 "metadata": {
  "kernelspec": {
   "display_name": "Python 3",
   "language": "python",
   "name": "python3"
  },
  "language_info": {
   "codemirror_mode": {
    "name": "ipython",
    "version": 3
   },
   "file_extension": ".py",
   "mimetype": "text/x-python",
   "name": "python",
   "nbconvert_exporter": "python",
   "pygments_lexer": "ipython3",
   "version": "3.8.3"
  }
 },
 "nbformat": 4,
 "nbformat_minor": 4
}

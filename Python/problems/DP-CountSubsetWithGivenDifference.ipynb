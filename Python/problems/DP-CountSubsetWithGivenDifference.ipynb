{
 "cells": [
  {
   "cell_type": "markdown",
   "metadata": {},
   "source": [
    "## Problem\n",
    "\n",
    "Find the number of ways we can divide set into 2 subsets such that the difference betweeen them are given Target value.\n",
    "\n",
    "example:\n",
    "\n",
    "set = [3,1,2,3]\n",
    "\n",
    "diff = target = 3\n",
    "\n",
    "output =  3 // {3,1,2} - {3}, {3,3}-{1,2}, {1,2,3}-{3}\n",
    "\n",
    "\n",
    "Basically, need to find set1 so that sum of set1 elemnts = (total + diff) /2.\n",
    "In this example, sum = 9 +3 /2 = 6\n",
    "\n"
   ]
  },
  {
   "cell_type": "code",
   "execution_count": 5,
   "metadata": {},
   "outputs": [],
   "source": [
    "def countSubsetWithGivenDifference(array, diff):\n",
    "    total = sum(array)\n",
    "    # Handling edge conditions\n",
    "    #1. Diff will never be graetr than total sum\n",
    "    if diff > total:\n",
    "        return 0\n",
    "    \n",
    "    n = total + diff\n",
    "    \n",
    "    #2. Edge condition, n should not be odd also total+diff will never be negative. Here diff can be negative.\n",
    "    if n < 0 or n & 1:\n",
    "        return 0\n",
    "    target = (n)//2\n",
    "   \n",
    "    \n",
    "    dp = [[0 for i in range(target+1)]for x in range(len(array) + 1)]\n",
    "    dp[0][0] = 1\n",
    "    \n",
    "    for i in range(1, len(array) +1):\n",
    "        num = array[i-1]\n",
    "        for j in range(target+1):\n",
    "            if num > j:\n",
    "                dp[i][j] = dp[i-1][j]\n",
    "            else:\n",
    "                dp[i][j] = dp[i-1][j] + dp[i-1][j-num]\n",
    "    return dp[-1][-1]"
   ]
  },
  {
   "cell_type": "code",
   "execution_count": 6,
   "metadata": {},
   "outputs": [
    {
     "data": {
      "text/plain": [
       "3"
      ]
     },
     "execution_count": 6,
     "metadata": {},
     "output_type": "execute_result"
    }
   ],
   "source": [
    "array = [3,1,2,3]\n",
    "diff = 3\n",
    "countSubsetWithGivenDifference(array, diff)"
   ]
  },
  {
   "cell_type": "code",
   "execution_count": null,
   "metadata": {},
   "outputs": [],
   "source": []
  },
  {
   "cell_type": "code",
   "execution_count": null,
   "metadata": {},
   "outputs": [],
   "source": []
  }
 ],
 "metadata": {
  "kernelspec": {
   "display_name": "Python 3",
   "language": "python",
   "name": "python3"
  },
  "language_info": {
   "codemirror_mode": {
    "name": "ipython",
    "version": 3
   },
   "file_extension": ".py",
   "mimetype": "text/x-python",
   "name": "python",
   "nbconvert_exporter": "python",
   "pygments_lexer": "ipython3",
   "version": "3.8.3"
  }
 },
 "nbformat": 4,
 "nbformat_minor": 4
}

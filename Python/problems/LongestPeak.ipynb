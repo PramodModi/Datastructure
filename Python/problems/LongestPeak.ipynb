{
 "cells": [
  {
   "cell_type": "markdown",
   "metadata": {},
   "source": [
    "## Problem\n",
    "\n",
    "Find the number of elements in array forming the longest peak. Peak means trend should be increasing and then decreasing.\n",
    "Example:\n",
    "\n",
    "array = [1,2,3,3,4,0,10,6,5,-1,-3,2,3]\n",
    "\n",
    "output: 6 #Longest peak is 0,10,6,5,-1,-3\n"
   ]
  },
  {
   "cell_type": "code",
   "execution_count": 17,
   "metadata": {},
   "outputs": [],
   "source": [
    "def longestPeak(array):\n",
    "    longest = 0\n",
    "    for i in range(1, len(array)-1):\n",
    "        if array[i-1] < array[i] and array[i]> array[i+1] : \n",
    "            j = i-1\n",
    "            while j > 0 and array[j] > array[j-1]:\n",
    "                j -= 1\n",
    "            \n",
    "            k = i + 1\n",
    "            while k< len(array)-1 and array[k] > array[k+1]:\n",
    "                k += 1\n",
    "           \n",
    "            diff = k - j +1\n",
    "            if longest < diff:\n",
    "                longest = diff\n",
    "    return longest\n",
    "                \n",
    "            "
   ]
  },
  {
   "cell_type": "code",
   "execution_count": 18,
   "metadata": {},
   "outputs": [
    {
     "name": "stdout",
     "output_type": "stream",
     "text": [
      "6\n"
     ]
    }
   ],
   "source": [
    "array = [1,2,3,3,4,0,10,6,5,-1,-3,2,3]\n",
    "print(longestPeak(array))"
   ]
  }
 ],
 "metadata": {
  "kernelspec": {
   "display_name": "Python 3",
   "language": "python",
   "name": "python3"
  },
  "language_info": {
   "codemirror_mode": {
    "name": "ipython",
    "version": 3
   },
   "file_extension": ".py",
   "mimetype": "text/x-python",
   "name": "python",
   "nbconvert_exporter": "python",
   "pygments_lexer": "ipython3",
   "version": "3.8.3"
  }
 },
 "nbformat": 4,
 "nbformat_minor": 4
}

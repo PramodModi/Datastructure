{
 "cells": [
  {
   "cell_type": "markdown",
   "metadata": {},
   "source": [
    "## Problem: Square of Zeros\n",
    "\n",
    "Write a function that takes in a square-shaped n x n two-dimensional array of only 1s and 0s and\n",
    "returns a boolean representing whether the input matrix contains a square whose borders are made\n",
    "up of only 0s.\n",
    "Note that a 1 x 1 square doesn't count as a valid square for the purpose of this question. In other\n",
    "words, a singular 0 in the input matrix doesn't constitute a square whose borders are made up of\n",
    "only 0s; a square of zeroes has to be at least 2 x 2.\n",
    "\n",
    "Example:\n",
    "\n",
    "matrix = [\n",
    " [1, 1, 1, 0, 1, 0],\n",
    " [0, 0, 0, 0, 0, 1],\n",
    " [0, 1, 1, 1, 0, 1],\n",
    " [0, 0, 0, 1, 0, 1],\n",
    " [0, 1, 1, 1, 0, 1],\n",
    " [0, 0, 0, 0, 0, 1],\n",
    "]\n",
    "\n",
    "output: True //row = 1 and 5, col = 0 and 4 makes boundry having only zeros.\n",
    "\n"
   ]
  },
  {
   "cell_type": "code",
   "execution_count": 9,
   "metadata": {},
   "outputs": [],
   "source": [
    "# O(n^3) time | O(n^2) space\n",
    "def squareOfZeroes(matrix):\n",
    "    infoMatrix = preComputeNumOfZeroes(matrix)\n",
    "    n = len(matrix)\n",
    "    for topRow in range(n):\n",
    "        for leftCol in range(n):\n",
    "            squareLength = 2\n",
    "            while squareLength <= n-leftCol and squareLength <= n-topRow:\n",
    "                bottomRow = topRow + squareLength - 1\n",
    "                rightCol = leftCol + squareLength - 1\n",
    "                if isSquareOfZeroes(infoMatrix, topRow, leftCol, bottomRow, rightCol):\n",
    "                    return True\n",
    "                squareLength += 1\n",
    "    return False\n",
    "\n",
    "# r1 is the top row, c1 is the left col\n",
    "# r2 is the bottom row, c2 is the right col\n",
    "\n",
    "def isSquareOfZeroes(infoMatrix, r1, c1, r2, c2):\n",
    "    squareLength = c2-c1 + 1\n",
    "    hasTopBorder = infoMatrix[r1][c1][\"numZeroesRight\"] >= squareLength\n",
    "    hasLeftBorder = infoMatrix[r1][c1][\"numZeroesBelow\"] >= squareLength\n",
    "    hasBottomBorder = infoMatrix[r2][c1][\"numZeroesRight\"] >= squareLength\n",
    "    hasRightBorder = infoMatrix[r1][c2][\"numZeroesBelow\"] >= squareLength\n",
    "    \n",
    "    return hasTopBorder and hasLeftBorder and hasBottomBorder and hasRightBorder\n",
    "\n",
    "def preComputeNumOfZeroes(matrix):\n",
    "    infoMatrix = [[x for x in row] for row in matrix]\n",
    "    n = len(matrix)\n",
    "    \n",
    "    for row in range(n):\n",
    "        for col in range(n):\n",
    "            numZeroes = 1 if matrix[row][col] == 0 else 0\n",
    "            infoMatrix[row][col] = {\"numZeroesBelow\" : numZeroes, \n",
    "                                    \"numZeroesRight\" : numZeroes}\n",
    "    lastIndex = len(matrix) -1\n",
    "    for row in reversed(range(n)):\n",
    "        for col in reversed(range(n)):\n",
    "            if matrix[row][col] == 1:\n",
    "                continue\n",
    "            if row< lastIndex:\n",
    "                infoMatrix[row][col][\"numZeroesBelow\"] += infoMatrix[row+1][col][\"numZeroesBelow\"]\n",
    "            if col< lastIndex:\n",
    "                infoMatrix[row][col][\"numZeroesRight\"] += infoMatrix[row][col+1][\"numZeroesRight\"] \n",
    "    return infoMatrix\n",
    "\n",
    "                "
   ]
  },
  {
   "cell_type": "code",
   "execution_count": 10,
   "metadata": {},
   "outputs": [
    {
     "data": {
      "text/plain": [
       "True"
      ]
     },
     "execution_count": 10,
     "metadata": {},
     "output_type": "execute_result"
    }
   ],
   "source": [
    "matrix = [ [1, 1, 1, 0, 1, 0], [0, 0, 0, 0, 0, 1], [0, 1, 1, 1, 0, 1], [0, 0, 0, 1, 0, 1], [0, 1, 1, 1, 0, 1], [0, 0, 0, 0, 0, 1], ]\n",
    "squareOfZeroes(matrix)"
   ]
  },
  {
   "cell_type": "code",
   "execution_count": null,
   "metadata": {},
   "outputs": [],
   "source": []
  }
 ],
 "metadata": {
  "kernelspec": {
   "display_name": "Python 3",
   "language": "python",
   "name": "python3"
  },
  "language_info": {
   "codemirror_mode": {
    "name": "ipython",
    "version": 3
   },
   "file_extension": ".py",
   "mimetype": "text/x-python",
   "name": "python",
   "nbconvert_exporter": "python",
   "pygments_lexer": "ipython3",
   "version": "3.8.3"
  }
 },
 "nbformat": 4,
 "nbformat_minor": 4
}

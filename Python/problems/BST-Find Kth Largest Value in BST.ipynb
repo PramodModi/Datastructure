{
 "cells": [
  {
   "cell_type": "markdown",
   "metadata": {},
   "source": [
    "## Problem:\n",
    "\n",
    "Write a function that takes in a Binary Search Tree (BST) and a positive integer k and returns the kth\n",
    "largest integer contained in the BST.\n",
    "You can assume that there will only be integer values in the BST and that k is less than or equal to the\n",
    "number of nodes in the tree.\n",
    "\n",
    "Also, for the purpose of this question, duplicate integers will be treated as distinct values. In other\n",
    "words, the second largest value in a BST containing values {5, 7, 7} will be 7 —not 5 .\n",
    "Each BST node has an integer value , a left child node, and a right child node. A node is said\n",
    "to be a valid BST node if and only if it satisfies the BST property: its value is strictly greater than the\n",
    "values of every node to its left; its value is less than or equal to the values of every node to its right;\n",
    "and its children nodes are either valid BST nodes themselves or None / null .\n",
    "\n",
    "Example:\n",
    "\n",
    "tree = \n",
    "\n",
    "\n",
    "                15\n",
    "                 / \\\n",
    "                 5 20\n",
    "                 / \\ / \\\n",
    "                 2 5 17 22\n",
    "                 / \\\n",
    "                1 3\n",
    "k = 3\n",
    "\n",
    "output: 17"
   ]
  },
  {
   "cell_type": "code",
   "execution_count": 1,
   "metadata": {},
   "outputs": [],
   "source": [
    "#This is an input class. Do not edit.\n",
    "class BST:\n",
    "    def __init__(self, value, left=None, right=None):\n",
    "        self.value = value\n",
    "        self.left = left\n",
    "        self.right = right\n",
    "\n",
    "class KthNode:\n",
    "    def __init__(self, count, value):\n",
    "        self.count = count\n",
    "        self.value = value\n",
    "\n",
    "def findKthLargestValueInBst(tree, k):\n",
    "    # Write your code here.\n",
    "    kthnode = KthNode(0, None)\n",
    "    reverseInorder(tree, k, kthnode)\n",
    "    return kthnode.value\n",
    "\n",
    "def reverseInorder(tree, k, kthnode):\n",
    "\n",
    "    if tree is None or kthnode.count >= k:\n",
    "        return None\n",
    "    reverseInorder(tree.right,k,kthnode)\n",
    "    if kthnode.count < k:\n",
    "        kthnode.count += 1\n",
    "        kthnode.value = tree.value\n",
    "        reverseInorder(tree.left, k,kthnode)"
   ]
  },
  {
   "cell_type": "code",
   "execution_count": null,
   "metadata": {},
   "outputs": [],
   "source": []
  }
 ],
 "metadata": {
  "kernelspec": {
   "display_name": "Python 3",
   "language": "python",
   "name": "python3"
  },
  "language_info": {
   "codemirror_mode": {
    "name": "ipython",
    "version": 3
   },
   "file_extension": ".py",
   "mimetype": "text/x-python",
   "name": "python",
   "nbconvert_exporter": "python",
   "pygments_lexer": "ipython3",
   "version": "3.8.3"
  }
 },
 "nbformat": 4,
 "nbformat_minor": 4
}

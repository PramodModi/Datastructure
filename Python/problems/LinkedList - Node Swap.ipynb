{
 "cells": [
  {
   "cell_type": "markdown",
   "metadata": {},
   "source": [
    "## Problem:\n",
    "\n",
    "Write a function that takes in the head of a Singly Linked List, swaps every pair of adjacent nodes in\n",
    "place (i.e., doesn't create a brand new list), and returns its new head.\n",
    "If the input Linked List has an odd number of nodes, its final node should remain the same.\n",
    "Each LinkedList node has an integer value as well as a next node pointing to the next node in\n",
    "the list or to None / null if it's the tail of the list.\n",
    "You can assume that the input Linked List will always have at least one node; in other words, the head\n",
    "will never be None / null .\n",
    "\n",
    "Example:\n",
    "\n",
    "head = 0 -> 1 -> 2 -> 3 -> 4 -> 5 // the head node with value 0\n",
    "\n",
    "Output:\n",
    "\n",
    "1 -> 0 -> 3 -> 2 -> 5 -> 4 // the new head node with value 1"
   ]
  },
  {
   "cell_type": "code",
   "execution_count": 1,
   "metadata": {},
   "outputs": [],
   "source": [
    "# This is an input class. Do not edit.\n",
    "class LinkedList:\n",
    "    def __init__(self, value):\n",
    "        self.value = value\n",
    "        self.next = None\n",
    "\n",
    "\n",
    "def nodeSwap(head):\n",
    "    # Write your code here.\n",
    "    tempNode = LinkedList(0)\n",
    "    tempNode.next = head\n",
    "\n",
    "    prevNode = tempNode\n",
    "\n",
    "    while prevNode.next and prevNode.next.next:\n",
    "        firstNode = prevNode.next\n",
    "        secondNode = prevNode.next.next\n",
    "\n",
    "        firstNode.next = secondNode.next\n",
    "        secondNode.next = firstNode\n",
    "        prevNode.next = secondNode\n",
    "\n",
    "        prevNode = firstNode\n",
    "    return tempNode.next"
   ]
  },
  {
   "cell_type": "code",
   "execution_count": null,
   "metadata": {},
   "outputs": [],
   "source": []
  }
 ],
 "metadata": {
  "kernelspec": {
   "display_name": "Python 3",
   "language": "python",
   "name": "python3"
  },
  "language_info": {
   "codemirror_mode": {
    "name": "ipython",
    "version": 3
   },
   "file_extension": ".py",
   "mimetype": "text/x-python",
   "name": "python",
   "nbconvert_exporter": "python",
   "pygments_lexer": "ipython3",
   "version": "3.8.3"
  }
 },
 "nbformat": 4,
 "nbformat_minor": 4
}

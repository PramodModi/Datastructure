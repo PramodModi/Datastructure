{
 "cells": [
  {
   "cell_type": "markdown",
   "metadata": {},
   "source": [
    "## Problem\n",
    "Given coins and target coin. Return number of ways that target coin can be made. Same coin can be used as many times.\n",
    "\n",
    "Example:\n",
    "\n",
    "coins = [1,5] , target= 6\n",
    "output = 2 //coin 1 x 6 = 6 or coin 1x1 + coin 5 x 1 = 6\n"
   ]
  },
  {
   "cell_type": "code",
   "execution_count": 1,
   "metadata": {},
   "outputs": [],
   "source": [
    "# Use dynamic programming\n",
    "\n",
    "def numberOfWaysToMakeChange(coins, target):\n",
    "    # define temporary array having length of target + 1. Each index represents coin value. \n",
    "    #Means, index 1 = 1 coin, index 2 = 2 coin, index n = n coin. T\n",
    "    # The value of each index represents number of ways that coin can be formed from given coins\n",
    "    ways = [0]*(target +1)\n",
    "    # coin 0 can be formed by 1 way. That is no coin selection\n",
    "    ways[0] = 1\n",
    "    \n",
    "    for coin in coins:\n",
    "        for j in range(len(ways)):\n",
    "            # if coin is greater than target, then we can not make change. To make a change, coin should be \n",
    "            #smaller than target (ways index)\n",
    "            \n",
    "            if coin <= j:\n",
    "                ways[j] = ways[j] + ways[j - coin]\n",
    "    return ways[target]"
   ]
  },
  {
   "cell_type": "code",
   "execution_count": 2,
   "metadata": {},
   "outputs": [
    {
     "data": {
      "text/plain": [
       "2"
      ]
     },
     "execution_count": 2,
     "metadata": {},
     "output_type": "execute_result"
    }
   ],
   "source": [
    "coins = [1,5]\n",
    "target = 6\n",
    "numberOfWaysToMakeChange(coins, target)"
   ]
  },
  {
   "cell_type": "code",
   "execution_count": 3,
   "metadata": {},
   "outputs": [
    {
     "data": {
      "text/plain": [
       "4"
      ]
     },
     "execution_count": 3,
     "metadata": {},
     "output_type": "execute_result"
    }
   ],
   "source": [
    "coins = [1,5,10,25]\n",
    "target = 10\n",
    "numberOfWaysToMakeChange(coins, target)"
   ]
  },
  {
   "cell_type": "code",
   "execution_count": null,
   "metadata": {},
   "outputs": [],
   "source": []
  }
 ],
 "metadata": {
  "kernelspec": {
   "display_name": "Python 3",
   "language": "python",
   "name": "python3"
  },
  "language_info": {
   "codemirror_mode": {
    "name": "ipython",
    "version": 3
   },
   "file_extension": ".py",
   "mimetype": "text/x-python",
   "name": "python",
   "nbconvert_exporter": "python",
   "pygments_lexer": "ipython3",
   "version": "3.8.3"
  }
 },
 "nbformat": 4,
 "nbformat_minor": 4
}

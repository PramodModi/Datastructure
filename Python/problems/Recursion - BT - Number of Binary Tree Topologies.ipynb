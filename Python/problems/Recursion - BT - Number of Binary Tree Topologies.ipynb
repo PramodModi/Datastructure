{
 "cells": [
  {
   "cell_type": "markdown",
   "metadata": {},
   "source": [
    "## Problem:\n",
    "\n",
    "Write a function that takes in a non-negative integer n and returns the number of possible Binary Tree\n",
    "topologies that can be created with exactly n nodes.\n",
    "A Binary Tree topology is defined as any Binary Tree configuration, irrespective of node values. For\n",
    "instance, there exist only two Binary Tree topologies when n is equal to 2 : a root node with a left\n",
    "node, and a root node with a right node.\n",
    "Note that when n is equal to 0 , there's one topology that can be created: the None / null node.\n",
    "\n",
    "Example:\n",
    "\n",
    "n = 3\n",
    "\n",
    "Output : \n",
    "5"
   ]
  },
  {
   "cell_type": "code",
   "execution_count": 3,
   "metadata": {},
   "outputs": [],
   "source": [
    "cache = {}\n",
    "\n",
    "def numberOfBinaryTreeTopologies(n):\n",
    "    if n ==0:\n",
    "        return 1\n",
    "    if n in cache:\n",
    "        return cache[n]\n",
    "    \n",
    "    totalTree = 0\n",
    "    for left in range(n):\n",
    "        right = (n-1) - left\n",
    "        \n",
    "        lrftBTCount = numberOfBinaryTreeTopologies(left)\n",
    "        rightBTCount = numberOfBinaryTreeTopologies(right)\n",
    "        \n",
    "        totalTree += lrftBTCount * rightBTCount\n",
    "    cache[n] = totalTree\n",
    "    return totalTree"
   ]
  },
  {
   "cell_type": "code",
   "execution_count": 4,
   "metadata": {},
   "outputs": [
    {
     "data": {
      "text/plain": [
       "5"
      ]
     },
     "execution_count": 4,
     "metadata": {},
     "output_type": "execute_result"
    }
   ],
   "source": [
    "numberOfBinaryTreeTopologies(3)"
   ]
  },
  {
   "cell_type": "code",
   "execution_count": null,
   "metadata": {},
   "outputs": [],
   "source": []
  }
 ],
 "metadata": {
  "kernelspec": {
   "display_name": "Python 3",
   "language": "python",
   "name": "python3"
  },
  "language_info": {
   "codemirror_mode": {
    "name": "ipython",
    "version": 3
   },
   "file_extension": ".py",
   "mimetype": "text/x-python",
   "name": "python",
   "nbconvert_exporter": "python",
   "pygments_lexer": "ipython3",
   "version": "3.8.3"
  }
 },
 "nbformat": 4,
 "nbformat_minor": 4
}

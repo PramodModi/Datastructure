{
 "cells": [
  {
   "cell_type": "markdown",
   "metadata": {},
   "source": [
    "## Problem LeetCode 93\n",
    "A valid IP address consists of exactly four integers separated by single dots. Each integer is between 0 and 255 (inclusive) and cannot have leading zeros.\n",
    "\n",
    "For example, \"0.1.2.201\" and \"192.168.1.1\" are valid IP addresses, but \"0.011.255.245\", \"192.168.1.312\" and \"192.168@1.1\" are invalid IP addresses.\n",
    "Given a string s containing only digits, return all possible valid IP addresses that can be formed by inserting dots into s. You are not allowed to reorder or remove any digits in s. You may return the valid IP addresses in any order.\n",
    "\n",
    " \n",
    "\n",
    "Example 1:\n",
    "\n",
    "Input: s = \"25525511135\"\n",
    "\n",
    "Output: [\"255.255.11.135\",\"255.255.111.35\"]\n",
    "\n",
    "Example 2:\n",
    "\n",
    "Input: s = \"0000\"\n",
    "\n",
    "Output: [\"0.0.0.0\"]\n",
    "\n",
    "Example 3:\n",
    "\n",
    "Input: s = \"101023\"\n",
    "\n",
    "Output: [\"1.0.10.23\",\"1.0.102.3\",\"10.1.0.23\",\"10.10.2.3\",\"101.0.2.3\"]\n",
    " \n",
    "\n",
    "Constraints:\n",
    "\n",
    "1 <= s.length <= 20\n",
    "\n",
    "s consists of digits only."
   ]
  },
  {
   "cell_type": "code",
   "execution_count": 7,
   "metadata": {},
   "outputs": [],
   "source": [
    "def restoreIP(s):\n",
    "    res = []\n",
    "    temp = []\n",
    "    helper(s, temp, res)\n",
    "    return res\n",
    "\n",
    "def helper(s, temp, res):\n",
    "    \n",
    "    if len(temp) == 4:\n",
    "        res.append('.'.join(temp))\n",
    "        return\n",
    "    if len(temp) == 3:\n",
    "        \n",
    "        if len(s) <= 3 and isValid(s):\n",
    "            \n",
    "            helper('', temp+[s], res)\n",
    "    else:\n",
    "        for i in range(len(s)):\n",
    "            l = s[:i+1]\n",
    "            if isValid(l):\n",
    "                helper(s[i+1:], temp + [l], res)\n",
    "def isValid(s):\n",
    "    if len(s) == 0:\n",
    "        return False\n",
    "    n = int(s)\n",
    "    if n > 255:\n",
    "        return False\n",
    "    return len(s) == len(str(n))\n",
    "        "
   ]
  },
  {
   "cell_type": "code",
   "execution_count": 8,
   "metadata": {},
   "outputs": [
    {
     "data": {
      "text/plain": [
       "['1.9.216.80',\n",
       " '1.92.16.80',\n",
       " '1.92.168.0',\n",
       " '19.2.16.80',\n",
       " '19.2.168.0',\n",
       " '19.21.6.80',\n",
       " '19.21.68.0',\n",
       " '19.216.8.0',\n",
       " '192.1.6.80',\n",
       " '192.1.68.0',\n",
       " '192.16.8.0']"
      ]
     },
     "execution_count": 8,
     "metadata": {},
     "output_type": "execute_result"
    }
   ],
   "source": [
    "s = \"1921680\"\n",
    "restoreIP(s)"
   ]
  },
  {
   "cell_type": "code",
   "execution_count": null,
   "metadata": {},
   "outputs": [],
   "source": []
  }
 ],
 "metadata": {
  "kernelspec": {
   "display_name": "Python 3",
   "language": "python",
   "name": "python3"
  },
  "language_info": {
   "codemirror_mode": {
    "name": "ipython",
    "version": 3
   },
   "file_extension": ".py",
   "mimetype": "text/x-python",
   "name": "python",
   "nbconvert_exporter": "python",
   "pygments_lexer": "ipython3",
   "version": "3.8.3"
  }
 },
 "nbformat": 4,
 "nbformat_minor": 4
}

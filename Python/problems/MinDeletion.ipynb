{
 "cells": [
  {
   "cell_type": "code",
   "execution_count": 59,
   "metadata": {},
   "outputs": [],
   "source": [
    "def minDeletion(s):\n",
    "    freq = {}\n",
    "    for i in s:\n",
    "        freq[i] = freq.get(i, 0) + 1\n",
    "    \n",
    "    count = 0\n",
    "    freq = dict(sorted(freq.items(), key = lambda item:item[1], reverse = True))\n",
    "    al = list(freq.keys())\n",
    "    print(al)\n",
    "    print(freq)\n",
    "    for j in range(len(al)):\n",
    "        e = al[j]\n",
    "        for k in range(j+1, len(al)):\n",
    "            if freq[e] == freq[al[k]] and freq[al[k]] != 0:\n",
    "                freq[al[k]] = freq[al[k]] -1\n",
    "                count += 1\n",
    "    return count\n",
    "    "
   ]
  },
  {
   "cell_type": "code",
   "execution_count": 60,
   "metadata": {},
   "outputs": [
    {
     "name": "stdout",
     "output_type": "stream",
     "text": [
      "['a', 'e', 'c', 'b', 'd']\n",
      "{'a': 2, 'e': 2, 'c': 2, 'b': 1, 'd': 1}\n"
     ]
    },
    {
     "data": {
      "text/plain": [
       "5"
      ]
     },
     "execution_count": 60,
     "metadata": {},
     "output_type": "execute_result"
    }
   ],
   "source": [
    "minDeletion(\"baeccdae\")"
   ]
  },
  {
   "cell_type": "code",
   "execution_count": 67,
   "metadata": {},
   "outputs": [],
   "source": [
    "def minDeletion1(s):\n",
    "    freq = {}\n",
    "    for i in s:\n",
    "        freq[i] = freq.get(i, 0) + 1\n",
    "    \n",
    "    count = 0\n",
    "    \n",
    "    al = list(freq.values())\n",
    "    al.sort(reverse = True)\n",
    "    print(al)\n",
    "    for i in range(len(al)):\n",
    "        for j in range(i+1, len(al)):\n",
    "            if al[i] == al[j] and al[i] != 0:\n",
    "                count += 1\n",
    "                al[j] = al[j]-1\n",
    "    \n",
    "    return count"
   ]
  },
  {
   "cell_type": "code",
   "execution_count": 68,
   "metadata": {},
   "outputs": [
    {
     "name": "stdout",
     "output_type": "stream",
     "text": [
      "[2, 2, 2, 1, 1]\n"
     ]
    },
    {
     "data": {
      "text/plain": [
       "5"
      ]
     },
     "execution_count": 68,
     "metadata": {},
     "output_type": "execute_result"
    }
   ],
   "source": [
    "minDeletion1(\"baeccdae\")"
   ]
  },
  {
   "cell_type": "code",
   "execution_count": 94,
   "metadata": {},
   "outputs": [],
   "source": [
    "def minDeletion2(s):\n",
    "    freq = {}\n",
    "    for i in s:\n",
    "        freq[i] = freq.get(i, 0) + 1\n",
    "    \n",
    "    count = 0\n",
    "    print(freq)\n",
    "    al = list(freq.values())\n",
    "    al.sort(reverse = True)\n",
    "    print(al)\n",
    "    \n",
    "    max = al[0]\n",
    "    for i in range(1, len(al)):\n",
    "        if al[i] < max:\n",
    "            max = al[i]\n",
    "        elif al[i] == max:\n",
    "            count += 1\n",
    "            if max > 1 :\n",
    "                max -= 1\n",
    "        else:\n",
    "            count += (al[i] - max)+1\n",
    "            if max > 1:\n",
    "                max = max-1\n",
    "    return count"
   ]
  },
  {
   "cell_type": "code",
   "execution_count": 95,
   "metadata": {},
   "outputs": [
    {
     "name": "stdout",
     "output_type": "stream",
     "text": [
      "{'b': 1, 'a': 2, 'e': 2, 'c': 2, 'd': 1}\n",
      "[2, 2, 2, 1, 1]\n"
     ]
    },
    {
     "data": {
      "text/plain": [
       "5"
      ]
     },
     "execution_count": 95,
     "metadata": {},
     "output_type": "execute_result"
    }
   ],
   "source": [
    "minDeletion2(\"baeccdae\")"
   ]
  },
  {
   "cell_type": "code",
   "execution_count": 104,
   "metadata": {},
   "outputs": [],
   "source": [
    "import collections\n",
    "def minDeletion3(s):\n",
    "    freq = collections.Counter(s)\n",
    "    \n",
    "    print(freq)\n",
    "    count = 0\n",
    "        \n",
    "    al = list(freq.values())\n",
    "    al.sort(reverse= True)\n",
    "    print(al)\n",
    "    \n",
    "    max = al[0]\n",
    "    for i in al:\n",
    "        if i > max:\n",
    "            if max > 0:\n",
    "                count += (i-max)\n",
    "            else:\n",
    "                count += i\n",
    "        max = min(max-1, i-1)\n",
    "    return count"
   ]
  },
  {
   "cell_type": "code",
   "execution_count": 105,
   "metadata": {},
   "outputs": [
    {
     "name": "stdout",
     "output_type": "stream",
     "text": [
      "Counter({'a': 2, 'e': 2, 'c': 2, 'b': 1, 'd': 1})\n",
      "[2, 2, 2, 1, 1]\n"
     ]
    },
    {
     "data": {
      "text/plain": [
       "5"
      ]
     },
     "execution_count": 105,
     "metadata": {},
     "output_type": "execute_result"
    }
   ],
   "source": [
    "minDeletion3(\"baeccdae\")"
   ]
  },
  {
   "cell_type": "code",
   "execution_count": null,
   "metadata": {},
   "outputs": [],
   "source": []
  }
 ],
 "metadata": {
  "kernelspec": {
   "display_name": "Python 3",
   "language": "python",
   "name": "python3"
  },
  "language_info": {
   "codemirror_mode": {
    "name": "ipython",
    "version": 3
   },
   "file_extension": ".py",
   "mimetype": "text/x-python",
   "name": "python",
   "nbconvert_exporter": "python",
   "pygments_lexer": "ipython3",
   "version": "3.8.3"
  }
 },
 "nbformat": 4,
 "nbformat_minor": 4
}

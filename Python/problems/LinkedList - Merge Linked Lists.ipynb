{
 "cells": [
  {
   "cell_type": "markdown",
   "metadata": {},
   "source": [
    "## Problem:\n",
    "\n",
    "Write a function that takes in the heads of two Singly Linked Lists that are in sorted order, respectively.\n",
    "The function should merge the lists in place (i.e., it shouldn't create a brand new list) and return the\n",
    "head of the merged list; the merged list should be in sorted order.\n",
    "Each LinkedList node has an integer value as well as a next node pointing to the next node in\n",
    "the list or to None / null if it's the tail of the list.\n",
    "You can assume that the input linked lists will always have at least one node; in other words, the heads\n",
    "will never be None / null .\n",
    "\n",
    "Example:\n",
    "\n",
    "headOne = 2 -> 6 -> 7 -> 8 // the head node with value 2\n",
    "\n",
    "headTwo = 1 -> 3 -> 4 -> 5 -> 9 -> 10 // the head node with value 1\n",
    "\n",
    "Output:\n",
    "\n",
    "1 -> 2 -> 3 -> 4 -> 5 -> 6 -> 7 -> 8 -> 9 -> 10 // the new head node with value"
   ]
  },
  {
   "cell_type": "code",
   "execution_count": 2,
   "metadata": {},
   "outputs": [],
   "source": [
    "# This is an input class. Do not edit.\n",
    "class LinkedList:\n",
    "    def __init__(self, value):\n",
    "        self.value = value\n",
    "        self.next = None\n",
    "\n",
    "\n",
    "def mergeLinkedLists(headOne, headTwo):\n",
    "    # Write your code here.\n",
    "    if headOne is None:\n",
    "        return headTwo\n",
    "    if headTwo is None:\n",
    "        return headOne\n",
    "    \n",
    "    h1 = headOne\n",
    "    h2 = headTwo\n",
    "    prevh1 = None\n",
    "\n",
    "    while h1 and h2:\n",
    "        v1 = h1.value\n",
    "        v2 = h2.value\n",
    "        if v1 < v2 :\n",
    "            if prevh1 is not None:\n",
    "                prevh1.next = h1\n",
    "            prevh1 = h1\n",
    "            h1 = h1.next\n",
    "        else:\n",
    "            if prevh1 is not None:\n",
    "                prevh1.next = h2\n",
    "            prevh1 = h2\n",
    "            h2 = h2.next\n",
    "            prevh1.next = h1\n",
    "\n",
    "    if h1 is None:\n",
    "        prevh1.next = h2\n",
    "    return headOne if headOne.value < headTwo.value else headTwo\n"
   ]
  },
  {
   "cell_type": "code",
   "execution_count": null,
   "metadata": {},
   "outputs": [],
   "source": []
  }
 ],
 "metadata": {
  "kernelspec": {
   "display_name": "Python 3",
   "language": "python",
   "name": "python3"
  },
  "language_info": {
   "codemirror_mode": {
    "name": "ipython",
    "version": 3
   },
   "file_extension": ".py",
   "mimetype": "text/x-python",
   "name": "python",
   "nbconvert_exporter": "python",
   "pygments_lexer": "ipython3",
   "version": "3.8.3"
  }
 },
 "nbformat": 4,
 "nbformat_minor": 4
}

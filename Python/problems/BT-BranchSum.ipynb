{
 "cells": [
  {
   "cell_type": "markdown",
   "metadata": {},
   "source": [
    "## Problem: Branch Sums\n",
    "\n",
    "Write a function that takes in a Binary Tree and returns a list of its branch sums ordered from leftmost\n",
    "branch sum to rightmost branch sum.\n",
    "A branch sum is the sum of all values in a Binary Tree branch. A Binary Tree branch is a path of nodes\n",
    "in a tree that starts at the root node and ends at any leaf node.\n",
    "Each BinaryTree node has an integer value , a left child node, and a right child node.\n",
    "Children nodes can either be BinaryTree nodes themselves or None / null .\n",
    "\n",
    "Example:\n",
    "\n",
    "tree = \n",
    "\n",
    "          1\n",
    "       /    \\\n",
    "     2        3\n",
    "     /  \\     / \\\n",
    "     4   5    6  7\n",
    "     / \\ /\n",
    "     8 9 10\n",
    " \n",
    " output:\n",
    " [15,16,18,10,11]"
   ]
  },
  {
   "cell_type": "code",
   "execution_count": 2,
   "metadata": {},
   "outputs": [],
   "source": [
    "class BinaryTree:\n",
    "    def __init__(self, value):\n",
    "        self.value = value\n",
    "        self.left = None\n",
    "        self.right = None\n",
    "\n",
    "\n",
    "def branchSums(root):\n",
    "    # Write your code here.\n",
    "    sums = []\n",
    "    calculateBranchSum(root, 0, sums)\n",
    "    return sums\n",
    "def calculateBranchSum(node, currentSum, sums):\n",
    "    if node is None:\n",
    "        return\n",
    "    sum = currentSum + node.value\n",
    "    if node.left is None and node.right is None:\n",
    "        sums.append(sum)\n",
    "        return\n",
    "    calculateBranchSum(node.left, sum, sums)\n",
    "    calculateBranchSum(node.right, sum, sums)"
   ]
  },
  {
   "cell_type": "code",
   "execution_count": null,
   "metadata": {},
   "outputs": [],
   "source": []
  },
  {
   "cell_type": "code",
   "execution_count": null,
   "metadata": {},
   "outputs": [],
   "source": []
  }
 ],
 "metadata": {
  "kernelspec": {
   "display_name": "Python 3",
   "language": "python",
   "name": "python3"
  },
  "language_info": {
   "codemirror_mode": {
    "name": "ipython",
    "version": 3
   },
   "file_extension": ".py",
   "mimetype": "text/x-python",
   "name": "python",
   "nbconvert_exporter": "python",
   "pygments_lexer": "ipython3",
   "version": "3.8.3"
  }
 },
 "nbformat": 4,
 "nbformat_minor": 4
}

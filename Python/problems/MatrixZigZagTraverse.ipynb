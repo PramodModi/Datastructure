{
 "cells": [
  {
   "cell_type": "code",
   "execution_count": 49,
   "metadata": {},
   "outputs": [],
   "source": [
    "def zigzagTraverse(array):\n",
    "    row = len(array) - 1\n",
    "    col = len(array[0]) - 1\n",
    "    result = []\n",
    "    r, c =0, 0\n",
    "    goingDown = True\n",
    "    while not isOutOfBounds(r,c,row,col):\n",
    "        result.append(array[r][c])\n",
    "        if goingDown:\n",
    "            if c == 0 or r == row:\n",
    "                goingDown = False\n",
    "                if r == row:\n",
    "                    c += 1\n",
    "                else:\n",
    "                    r += 1\n",
    "            else:\n",
    "                r += 1\n",
    "                c -= 1\n",
    "        else:\n",
    "            if r == 0 or c == col:\n",
    "                goingDown = True\n",
    "                if c == col:\n",
    "                    r += 1\n",
    "                else:\n",
    "                    c += 1\n",
    "            else:\n",
    "                r -= 1\n",
    "                c += 1\n",
    "    return result\n",
    "\n",
    "def isOutOfBounds(r,c,row, col):\n",
    "    return r<0 or r>row or c < 0 or c > col"
   ]
  },
  {
   "cell_type": "code",
   "execution_count": 50,
   "metadata": {},
   "outputs": [
    {
     "name": "stdout",
     "output_type": "stream",
     "text": [
      "[1, 2, 3, 4, 5, 6, 7, 8, 9, 10, 11, 12, 13, 14, 15, 16]\n"
     ]
    }
   ],
   "source": [
    "array = [\n",
    "  [1, 3, 4, 10],\n",
    "  [2, 5, 9, 11],\n",
    "  [6, 8, 12, 15],\n",
    "  [7, 13, 14, 16]\n",
    "]\n",
    "\n",
    "print(zigzagTraverse(array))"
   ]
  },
  {
   "cell_type": "code",
   "execution_count": null,
   "metadata": {},
   "outputs": [],
   "source": []
  }
 ],
 "metadata": {
  "kernelspec": {
   "display_name": "Python 3",
   "language": "python",
   "name": "python3"
  },
  "language_info": {
   "codemirror_mode": {
    "name": "ipython",
    "version": 3
   },
   "file_extension": ".py",
   "mimetype": "text/x-python",
   "name": "python",
   "nbconvert_exporter": "python",
   "pygments_lexer": "ipython3",
   "version": "3.8.3"
  }
 },
 "nbformat": 4,
 "nbformat_minor": 4
}

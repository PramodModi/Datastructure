{
 "cells": [
  {
   "cell_type": "markdown",
   "metadata": {},
   "source": [
    "## Problem:\n",
    "\n",
    "You're given an array of integers where each integer represents a jump of its value in the array. For\n",
    "instance, the integer 2 represents a jump of two indices forward in the array; the integer -3\n",
    "represents a jump of three indices backward in the array.\n",
    "If a jump spills past the array's bounds, it wraps over to the other side. For instance, a jump of -1 at\n",
    "index 0 brings us to the last index in the array. Similarly, a jump of 1 at the last index in the array\n",
    "brings us to index 0 .\n",
    "Write a function that returns a boolean representing whether the jumps in the array form a single cycle.\n",
    "A single cycle occurs if, starting at any index in the array and following the jumps, every element in the\n",
    "array is visited exactly once before landing back on the starting index.\n",
    "\n",
    "Example:\n",
    "\n",
    "array = [2, 3, 1, -4, -4, 2]\n",
    "\n",
    "Output: \n",
    "True"
   ]
  },
  {
   "cell_type": "code",
   "execution_count": 7,
   "metadata": {},
   "outputs": [],
   "source": [
    "def hasSingleCycle(array):\n",
    "    startIndex = 0\n",
    "    currentIndex = startIndex\n",
    "    elementsVisisted = 0\n",
    "    m = len(array)\n",
    "    \n",
    "    while elementsVisisted < m:\n",
    "        if elementsVisisted > 0 and currentIndex == startIndex:\n",
    "            return False\n",
    "            \n",
    "        currentIndex = getnextIndex(array, currentIndex)\n",
    "        elementsVisisted += 1\n",
    "    return currentIndex == startIndex\n",
    "\n",
    "def getnextIndex(array, currentIndex):\n",
    "    nextIndex = (currentIndex + array[currentIndex])% len(array)\n",
    "    \n",
    "    return nextIndex if nextIndex >= 0 else nextIndex + len(array)\n",
    "        \n",
    "        "
   ]
  },
  {
   "cell_type": "code",
   "execution_count": 8,
   "metadata": {},
   "outputs": [
    {
     "data": {
      "text/plain": [
       "True"
      ]
     },
     "execution_count": 8,
     "metadata": {},
     "output_type": "execute_result"
    }
   ],
   "source": [
    "array = [2, 3, 1, -4, -4, 2]\n",
    "hasSingleCycle(array)"
   ]
  },
  {
   "cell_type": "code",
   "execution_count": null,
   "metadata": {},
   "outputs": [],
   "source": []
  }
 ],
 "metadata": {
  "kernelspec": {
   "display_name": "Python 3",
   "language": "python",
   "name": "python3"
  },
  "language_info": {
   "codemirror_mode": {
    "name": "ipython",
    "version": 3
   },
   "file_extension": ".py",
   "mimetype": "text/x-python",
   "name": "python",
   "nbconvert_exporter": "python",
   "pygments_lexer": "ipython3",
   "version": "3.8.3"
  }
 },
 "nbformat": 4,
 "nbformat_minor": 4
}

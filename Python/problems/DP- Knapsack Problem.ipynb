{
 "cells": [
  {
   "cell_type": "markdown",
   "metadata": {},
   "source": [
    "## Problem:\n",
    "\n",
    "You're given an array of arrays where each subarray holds two integer values and represents an item;\n",
    "the first integer is the item's value, and the second integer is the item's weight. You're also given an\n",
    "integer representing the maximum capacity of a knapsack that you have.\n",
    "Your goal is to fit items in your knapsack without having the sum of their weights exceed the knapsack's\n",
    "capacity, all the while maximizing their combined value. Note that you only have one of each item at\n",
    "your disposal.\n",
    "Write a function that returns the maximized combined value of the items that you should pick as well as\n",
    "an array of the indices of each item picked.\n",
    "If there are multiple combinations of items that maximize the total value in the knapsack, your function\n",
    "can return any of them.\n",
    "\n",
    "Example1:\n",
    "\n",
    "items = [[1, 2], [4, 3], [5, 6], [6, 7]]\n",
    "\n",
    "capacity = 10"
   ]
  },
  {
   "cell_type": "code",
   "execution_count": 1,
   "metadata": {},
   "outputs": [],
   "source": [
    "def knapsackProblem(items, capacity):\n",
    "    n = len(items)\n",
    "    dp = [[0 for _ in range(capacity+1)] for _ in range(n+1)]\n",
    "\n",
    "    for i in range(1, n+1):\n",
    "        for j in range(1, capacity+1):\n",
    "            w = items[i-1][1]\n",
    "            v = items[i-1][0]\n",
    "            if w <= j:\n",
    "                dp[i][j] = max(dp[i-1][j], dp[i-1][j-w] + v)\n",
    "            else:\n",
    "                dp[i][j] = dp[i-1][j]\n",
    "    return [dp[-1][-1], printIndices(dp, items)]\n",
    "\n",
    "def printIndices(dp, items):\n",
    "    seq = []\n",
    "    n = len(dp)-1\n",
    "    m = len(dp[0])-1\n",
    "\n",
    "    while n>0 and m >0:\n",
    "        if dp[n][m] == dp[n-1][m]:\n",
    "            n -= 1\n",
    "        else:\n",
    "            seq.append(n-1)\n",
    "            m -= items[n-1][1]\n",
    "            n -= 1\n",
    "    return list(reversed(seq))"
   ]
  },
  {
   "cell_type": "code",
   "execution_count": 2,
   "metadata": {},
   "outputs": [
    {
     "data": {
      "text/plain": [
       "[10, [1, 3]]"
      ]
     },
     "execution_count": 2,
     "metadata": {},
     "output_type": "execute_result"
    }
   ],
   "source": [
    "items = [[1, 2], [4, 3], [5, 6], [6, 7]]\n",
    "capacity = 10\n",
    "knapsackProblem(items, capacity)"
   ]
  },
  {
   "cell_type": "code",
   "execution_count": null,
   "metadata": {},
   "outputs": [],
   "source": []
  }
 ],
 "metadata": {
  "kernelspec": {
   "display_name": "Python 3",
   "language": "python",
   "name": "python3"
  },
  "language_info": {
   "codemirror_mode": {
    "name": "ipython",
    "version": 3
   },
   "file_extension": ".py",
   "mimetype": "text/x-python",
   "name": "python",
   "nbconvert_exporter": "python",
   "pygments_lexer": "ipython3",
   "version": "3.8.3"
  }
 },
 "nbformat": 4,
 "nbformat_minor": 4
}

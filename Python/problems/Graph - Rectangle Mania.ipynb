{
 "cells": [
  {
   "cell_type": "markdown",
   "metadata": {},
   "source": [
    "## Problem:\n",
    "\n",
    "Write a function that takes in a list of Cartesian coordinates (i.e., (x, y) coordinates) and returns the\n",
    "number of rectangles formed by these coordinates.\n",
    "A rectangle must have its four corners amongst the coordinates in order to be counted, and we only\n",
    "care about rectangles with sides parallel to the x and y axes (i.e., with horizontal and vertical sides--no\n",
    "diagonal sides).\n",
    "You can also assume that no coordinate will be farther than 100 units from the origin.\n",
    "\n",
    "Example:\n",
    "\n",
    "coords = \n",
    "\n",
    "    [\n",
    "     [0, 0], [0, 1], [1, 1], [1, 0],\n",
    "     [2, 1], [2, 0], [3, 1], [3, 0],\n",
    "    ]\n",
    "\n",
    "Output:\n",
    "6"
   ]
  },
  {
   "cell_type": "code",
   "execution_count": 1,
   "metadata": {},
   "outputs": [],
   "source": [
    "def rectangleMania(coords):\n",
    "    # Write your code here.\n",
    "    temp = {}\n",
    "    count = 0\n",
    "    for x,y in coords:\n",
    "        key = createKey(x,y)\n",
    "        temp[key] = True\n",
    "\n",
    "    for x1,y1 in coords:\n",
    "        for x2,y2 in coords:\n",
    "            if x2>x1 and y2>y1:\n",
    "                key1 = createKey(x1,y2)\n",
    "                key2 = createKey(x2,y1)\n",
    "                if key1 in temp and key2 in temp:\n",
    "                    count += 1\n",
    "    return count\n",
    "\n",
    "def createKey(x,y):\n",
    "    return str(x) + \"-\" + str(y)"
   ]
  },
  {
   "cell_type": "code",
   "execution_count": 2,
   "metadata": {},
   "outputs": [
    {
     "data": {
      "text/plain": [
       "6"
      ]
     },
     "execution_count": 2,
     "metadata": {},
     "output_type": "execute_result"
    }
   ],
   "source": [
    "coords =[\n",
    " [0, 0], [0, 1], [1, 1], [1, 0],\n",
    " [2, 1], [2, 0], [3, 1], [3, 0],\n",
    "]\n",
    "rectangleMania(coords)"
   ]
  },
  {
   "cell_type": "code",
   "execution_count": null,
   "metadata": {},
   "outputs": [],
   "source": []
  }
 ],
 "metadata": {
  "kernelspec": {
   "display_name": "Python 3",
   "language": "python",
   "name": "python3"
  },
  "language_info": {
   "codemirror_mode": {
    "name": "ipython",
    "version": 3
   },
   "file_extension": ".py",
   "mimetype": "text/x-python",
   "name": "python",
   "nbconvert_exporter": "python",
   "pygments_lexer": "ipython3",
   "version": "3.8.3"
  }
 },
 "nbformat": 4,
 "nbformat_minor": 4
}

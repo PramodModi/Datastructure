{
 "cells": [
  {
   "cell_type": "markdown",
   "metadata": {},
   "source": [
    "## Problem\n",
    "\n",
    "Print all possible subsets of a given array. Also print sum of elements of all subsets. Here duplicate subsets are allowed."
   ]
  },
  {
   "cell_type": "code",
   "execution_count": 37,
   "metadata": {},
   "outputs": [],
   "source": [
    "def allSubSetsSum(array):\n",
    "    total = 0\n",
    "    ret = []\n",
    "    #array.sort()\n",
    "    dfs(array, [], ret)\n",
    "    total = sum([sum(i) for i in ret])\n",
    "    return total, ret\n",
    "def dfs(array, temp, ret):\n",
    "    ret.append(temp)\n",
    "    \n",
    "    for i in range(len(array)):\n",
    "        dfs(array[i+1:], temp+[array[i]], ret)\n",
    "    "
   ]
  },
  {
   "cell_type": "code",
   "execution_count": 38,
   "metadata": {},
   "outputs": [
    {
     "data": {
      "text/plain": [
       "(24, [[], [1], [1, 2], [1, 2, 3], [1, 3], [2], [2, 3], [3]])"
      ]
     },
     "execution_count": 38,
     "metadata": {},
     "output_type": "execute_result"
    }
   ],
   "source": [
    "allSubSetsSum([1,2,3])"
   ]
  },
  {
   "cell_type": "code",
   "execution_count": 39,
   "metadata": {},
   "outputs": [
    {
     "data": {
      "text/plain": [
       "(20, [[], [1], [1, 2], [1, 2, 2], [1, 2], [2], [2, 2], [2]])"
      ]
     },
     "execution_count": 39,
     "metadata": {},
     "output_type": "execute_result"
    }
   ],
   "source": [
    "allSubSetsSum([1,2,2])"
   ]
  },
  {
   "cell_type": "markdown",
   "metadata": {},
   "source": [
    "## Problem\n",
    "\n",
    "Print all possible subsets of a given array. Also print sum of elements of all subsets. Here duplicate subsets are NOT allowed."
   ]
  },
  {
   "cell_type": "code",
   "execution_count": 53,
   "metadata": {},
   "outputs": [],
   "source": [
    "def allSubSetsSum1(array):\n",
    "    total = 0\n",
    "    ret = []\n",
    "    array.sort() # sorting is needed, as we are comparing with previous number in dfs method.\n",
    "    dfs(array, [], ret)\n",
    "    total = sum([sum(i) for i in ret])\n",
    "    return total, ret\n",
    "def dfs(array, temp, ret):\n",
    "    ret.append(temp)\n",
    "    \n",
    "    for i in range(len(array)):\n",
    "        if i > 0 and array[i-1]== array[i]: # to remove duplicate subsets\n",
    "            continue\n",
    "        dfs(array[i+1:], temp+[array[i]], ret)"
   ]
  },
  {
   "cell_type": "code",
   "execution_count": 54,
   "metadata": {},
   "outputs": [
    {
     "data": {
      "text/plain": [
       "(24, [[], [1], [1, 2], [1, 2, 3], [1, 3], [2], [2, 3], [3]])"
      ]
     },
     "execution_count": 54,
     "metadata": {},
     "output_type": "execute_result"
    }
   ],
   "source": [
    "allSubSetsSum1([1,2,3])"
   ]
  },
  {
   "cell_type": "code",
   "execution_count": 55,
   "metadata": {},
   "outputs": [
    {
     "data": {
      "text/plain": [
       "(80,\n",
       " [[],\n",
       "  [1],\n",
       "  [1, 2],\n",
       "  [1, 2, 3],\n",
       "  [1, 2, 3, 4],\n",
       "  [1, 2, 4],\n",
       "  [1, 3],\n",
       "  [1, 3, 4],\n",
       "  [1, 4],\n",
       "  [2],\n",
       "  [2, 3],\n",
       "  [2, 3, 4],\n",
       "  [2, 4],\n",
       "  [3],\n",
       "  [3, 4],\n",
       "  [4]])"
      ]
     },
     "execution_count": 55,
     "metadata": {},
     "output_type": "execute_result"
    }
   ],
   "source": [
    "allSubSetsSum1([1,2,3,4])"
   ]
  },
  {
   "cell_type": "code",
   "execution_count": 46,
   "metadata": {},
   "outputs": [
    {
     "data": {
      "text/plain": [
       "(15, [[], [1], [1, 2], [1, 2, 2], [2], [2, 2]])"
      ]
     },
     "execution_count": 46,
     "metadata": {},
     "output_type": "execute_result"
    }
   ],
   "source": [
    "allSubSetsSum1([1,2,2])"
   ]
  },
  {
   "cell_type": "code",
   "execution_count": 56,
   "metadata": {},
   "outputs": [
    {
     "data": {
      "text/plain": [
       "(608,\n",
       " [[],\n",
       "  [-1],\n",
       "  [-1, 2],\n",
       "  [-1, 2, 3],\n",
       "  [-1, 2, 3, 4],\n",
       "  [-1, 2, 3, 4, 5],\n",
       "  [-1, 2, 3, 4, 5, 6],\n",
       "  [-1, 2, 3, 4, 6],\n",
       "  [-1, 2, 3, 5],\n",
       "  [-1, 2, 3, 5, 6],\n",
       "  [-1, 2, 3, 6],\n",
       "  [-1, 2, 4],\n",
       "  [-1, 2, 4, 5],\n",
       "  [-1, 2, 4, 5, 6],\n",
       "  [-1, 2, 4, 6],\n",
       "  [-1, 2, 5],\n",
       "  [-1, 2, 5, 6],\n",
       "  [-1, 2, 6],\n",
       "  [-1, 3],\n",
       "  [-1, 3, 4],\n",
       "  [-1, 3, 4, 5],\n",
       "  [-1, 3, 4, 5, 6],\n",
       "  [-1, 3, 4, 6],\n",
       "  [-1, 3, 5],\n",
       "  [-1, 3, 5, 6],\n",
       "  [-1, 3, 6],\n",
       "  [-1, 4],\n",
       "  [-1, 4, 5],\n",
       "  [-1, 4, 5, 6],\n",
       "  [-1, 4, 6],\n",
       "  [-1, 5],\n",
       "  [-1, 5, 6],\n",
       "  [-1, 6],\n",
       "  [2],\n",
       "  [2, 3],\n",
       "  [2, 3, 4],\n",
       "  [2, 3, 4, 5],\n",
       "  [2, 3, 4, 5, 6],\n",
       "  [2, 3, 4, 6],\n",
       "  [2, 3, 5],\n",
       "  [2, 3, 5, 6],\n",
       "  [2, 3, 6],\n",
       "  [2, 4],\n",
       "  [2, 4, 5],\n",
       "  [2, 4, 5, 6],\n",
       "  [2, 4, 6],\n",
       "  [2, 5],\n",
       "  [2, 5, 6],\n",
       "  [2, 6],\n",
       "  [3],\n",
       "  [3, 4],\n",
       "  [3, 4, 5],\n",
       "  [3, 4, 5, 6],\n",
       "  [3, 4, 6],\n",
       "  [3, 5],\n",
       "  [3, 5, 6],\n",
       "  [3, 6],\n",
       "  [4],\n",
       "  [4, 5],\n",
       "  [4, 5, 6],\n",
       "  [4, 6],\n",
       "  [5],\n",
       "  [5, 6],\n",
       "  [6]])"
      ]
     },
     "execution_count": 56,
     "metadata": {},
     "output_type": "execute_result"
    }
   ],
   "source": [
    "allSubSetsSum1([5,6,3,4,-1,2])"
   ]
  },
  {
   "cell_type": "code",
   "execution_count": null,
   "metadata": {},
   "outputs": [],
   "source": []
  }
 ],
 "metadata": {
  "kernelspec": {
   "display_name": "Python 3",
   "language": "python",
   "name": "python3"
  },
  "language_info": {
   "codemirror_mode": {
    "name": "ipython",
    "version": 3
   },
   "file_extension": ".py",
   "mimetype": "text/x-python",
   "name": "python",
   "nbconvert_exporter": "python",
   "pygments_lexer": "ipython3",
   "version": "3.8.3"
  }
 },
 "nbformat": 4,
 "nbformat_minor": 4
}

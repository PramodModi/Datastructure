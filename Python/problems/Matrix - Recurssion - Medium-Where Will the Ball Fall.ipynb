{
 "cells": [
  {
   "cell_type": "markdown",
   "metadata": {},
   "source": [
    "## 1706. Where Will the Ball Fall\n",
    "\n",
    "https://leetcode.com/problems/where-will-the-ball-fall/\n",
    "\n",
    "You have a 2-D grid of size m x n representing a box, and you have n balls. The box is open on the top and bottom sides.\n",
    "\n",
    "Each cell in the box has a diagonal board spanning two corners of the cell that can redirect a ball to the right or to the left.\n",
    "\n",
    "A board that redirects the ball to the right spans the top-left corner to the bottom-right corner and is represented in the grid as 1.\n",
    "A board that redirects the ball to the left spans the top-right corner to the bottom-left corner and is represented in the grid as -1.\n",
    "We drop one ball at the top of each column of the box. Each ball can get stuck in the box or fall out of the bottom. A ball gets stuck if it hits a \"V\" shaped pattern between two boards or if a board redirects the ball into either wall of the box.\n",
    "\n",
    "Return an array answer of size n where answer[i] is the column that the ball falls out of at the bottom after dropping the ball from the ith column at the top, or -1 if the ball gets stuck in the box.\n",
    "\n",
    " \n",
    "\n",
    "Example 1: Please refer the pictorial value in leetcode\n",
    "\n",
    "\n",
    "\n",
    "Input: grid = [[1,1,1,-1,-1],[1,1,1,-1,-1],[-1,-1,-1,1,1],[1,1,1,1,-1],[-1,-1,-1,-1,-1]]\n",
    "\n",
    "Output: [1,-1,-1,-1,-1]\n",
    "\n",
    "Explanation: This example is shown in the photo.\n",
    "\n",
    "Ball b0 is dropped at column 0 and falls out of the box at column 1.\n",
    "\n",
    "Ball b1 is dropped at column 1 and will get stuck in the box between column 2 and 3 and row 1.\n",
    "\n",
    "Ball b2 is dropped at column 2 and will get stuck on the box between column 2 and 3 and row 0.\n",
    "\n",
    "Ball b3 is dropped at column 3 and will get stuck on the box between column 2 and 3 and row 0.\n",
    "\n",
    "Ball b4 is dropped at column 4 and will get stuck on the box between column 2 and 3 and row 1.\n",
    "\n",
    "Example 2:\n",
    "\n",
    "Input: grid = [[-1]]\n",
    "\n",
    "Output: [-1]\n",
    "\n",
    "Explanation: The ball gets stuck against the left wall.\n",
    "\n",
    "Example 3:\n",
    "\n",
    "Input: grid = [[1,1,1,1,1,1],[-1,-1,-1,-1,-1,-1],[1,1,1,1,1,1],[-1,-1,-1,-1,-1,-1]]\n",
    "\n",
    "Output: [0,1,2,3,4,-1]\n",
    " \n",
    "\n",
    "Constraints:\n",
    "\n",
    "m == grid.length\n",
    "\n",
    "n == grid[i].length\n",
    "\n",
    "1 <= m, n <= 100\n",
    "\n",
    "grid[i][j] is 1 or -1."
   ]
  },
  {
   "cell_type": "code",
   "execution_count": 1,
   "metadata": {},
   "outputs": [],
   "source": [
    "def findBall(grid):\n",
    "    startRow = 0\n",
    "    endRow = len(grid)\n",
    "    startCol = 0\n",
    "    endCol = len(grid[0])\n",
    "    result = [-1]*endCol\n",
    "\n",
    "    for col in range(endCol):\n",
    "        result[col] = getColtoGetBallOut(grid, startRow, endRow, col,endCol)\n",
    "    return result\n",
    "    \n",
    "def getColtoGetBallOut(grid, startRow, endRow, startCol,endCol):\n",
    "    if startRow == endRow:\n",
    "        return startCol\n",
    "    \n",
    "    if grid[startRow][startCol] == 1 and startCol< endCol-1 and grid[startRow][startCol+1]==1:\n",
    "        return getColtoGetBallOut(grid, startRow+1, endRow, startCol+1,endCol)\n",
    "    elif grid[startRow][startCol] == -1 and startCol > 0 and grid[startRow][startCol-1] == -1:\n",
    "        return getColtoGetBallOut(grid, startRow+1, endRow, startCol-1,endCol)\n",
    "    else:\n",
    "        return -1"
   ]
  },
  {
   "cell_type": "code",
   "execution_count": 2,
   "metadata": {},
   "outputs": [
    {
     "data": {
      "text/plain": [
       "[0, 1, 2, 3, 4, -1]"
      ]
     },
     "execution_count": 2,
     "metadata": {},
     "output_type": "execute_result"
    }
   ],
   "source": [
    "grid = [[1,1,1,1,1,1],[-1,-1,-1,-1,-1,-1],[1,1,1,1,1,1],[-1,-1,-1,-1,-1,-1]]\n",
    "findBall(grid)"
   ]
  },
  {
   "cell_type": "code",
   "execution_count": 3,
   "metadata": {},
   "outputs": [
    {
     "data": {
      "text/plain": [
       "[1, -1, -1, -1, -1]"
      ]
     },
     "execution_count": 3,
     "metadata": {},
     "output_type": "execute_result"
    }
   ],
   "source": [
    "grid = [[1,1,1,-1,-1],[1,1,1,-1,-1],[-1,-1,-1,1,1],[1,1,1,1,-1],[-1,-1,-1,-1,-1]]\n",
    "findBall(grid)"
   ]
  },
  {
   "cell_type": "code",
   "execution_count": null,
   "metadata": {},
   "outputs": [],
   "source": []
  }
 ],
 "metadata": {
  "kernelspec": {
   "display_name": "Python 3",
   "language": "python",
   "name": "python3"
  },
  "language_info": {
   "codemirror_mode": {
    "name": "ipython",
    "version": 3
   },
   "file_extension": ".py",
   "mimetype": "text/x-python",
   "name": "python",
   "nbconvert_exporter": "python",
   "pygments_lexer": "ipython3",
   "version": "3.8.3"
  }
 },
 "nbformat": 4,
 "nbformat_minor": 4
}

{
 "cells": [
  {
   "cell_type": "markdown",
   "metadata": {},
   "source": [
    "## Problem:\n",
    "\n",
    "Imagine that you're a teacher who's just graded the final exam in a class. You have a list of student\n",
    "scores on the final exam in a particular order (not necessarily sorted), and you want to reward your\n",
    "students. You decide to do so fairly by giving them arbitrary rewards following two rules:\n",
    "1. All students must receive at least one reward.\n",
    "2. Any given student must receive strictly more rewards than an adjacent student (a student\n",
    "immediately to the left or to the right) with a lower score and must receive strictly fewer rewards\n",
    "than an adjacent student with a higher score.\n",
    "Write a function that takes in a list of scores and returns the minimum number of rewards that you\n",
    "must give out to students to satisfy the two rules.\n",
    "You can assume that all students have different scores; in other words, the scores are all unique.\n",
    "\n",
    "Example:\n",
    "\n",
    "scores = [8, 4, 2, 1, 3, 6, 7, 9, 5]\n",
    "\n",
    "Output : \n",
    "25 // you would give out the following rewards: [4, 3, 2, 1, 2, 3, 4, 5, 1]"
   ]
  },
  {
   "cell_type": "code",
   "execution_count": 1,
   "metadata": {},
   "outputs": [],
   "source": [
    "def minRewards(scores):\n",
    "    rewards = [1] * len(scores)\n",
    "    \n",
    "    for i in range(1, len(scores)):\n",
    "        if scores[i] > scores[i-1]:\n",
    "            rewards[i] = rewards[i-1] + 1\n",
    "    for i in reversed(range(len(scores)-1)):\n",
    "        if scores[i] > scores[i+1]:\n",
    "            rewards[i] = max(rewards[i],rewards[i+1]+1)\n",
    "            \n",
    "    return sum(rewards)"
   ]
  },
  {
   "cell_type": "code",
   "execution_count": 2,
   "metadata": {},
   "outputs": [
    {
     "data": {
      "text/plain": [
       "25"
      ]
     },
     "execution_count": 2,
     "metadata": {},
     "output_type": "execute_result"
    }
   ],
   "source": [
    "scores = [8, 4, 2, 1, 3, 6, 7, 9, 5]\n",
    "minRewards(scores)"
   ]
  },
  {
   "cell_type": "code",
   "execution_count": null,
   "metadata": {},
   "outputs": [],
   "source": []
  }
 ],
 "metadata": {
  "kernelspec": {
   "display_name": "Python 3",
   "language": "python",
   "name": "python3"
  },
  "language_info": {
   "codemirror_mode": {
    "name": "ipython",
    "version": 3
   },
   "file_extension": ".py",
   "mimetype": "text/x-python",
   "name": "python",
   "nbconvert_exporter": "python",
   "pygments_lexer": "ipython3",
   "version": "3.8.3"
  }
 },
 "nbformat": 4,
 "nbformat_minor": 4
}

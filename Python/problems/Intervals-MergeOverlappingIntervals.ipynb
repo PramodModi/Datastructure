{
 "cells": [
  {
   "cell_type": "markdown",
   "metadata": {},
   "source": [
    "## Problem : 56. Merge Intervals\n",
    "\n",
    "https://leetcode.com/problems/merge-intervals/\n",
    "\n",
    "\n",
    "Given an array of intervals where intervals[i] = [starti, endi], merge all overlapping intervals, and return an array of the non-overlapping intervals that cover all the intervals in the input.\n",
    "\n",
    "Example: \n",
    "\n",
    "array = [\n",
    "  [1, 2],\n",
    "  [3, 5],\n",
    "  [4, 7],\n",
    "  [6, 8],\n",
    "  [9, 10]\n",
    "]\n",
    "\n",
    "output = [[1,2], [3,8],[9,10]]\n",
    "\n",
    "here, [1,5] and [6,7] are not overlapped. However, [1,5] and [5,7] are overlapped. Also, [1,7] and [2,4] are also overlapped."
   ]
  },
  {
   "cell_type": "code",
   "execution_count": 1,
   "metadata": {},
   "outputs": [],
   "source": [
    "def mergeOverlappingIntervals(array):\n",
    "    sortedArray = sorted(array, key= lambda x: x[0])\n",
    "    result = []\n",
    "    temp = sortedArray[0]\n",
    "    \n",
    "    for i in range(len(array)):\n",
    "        interval = array[i]\n",
    "        if temp[1] >= interval[0]:\n",
    "            temp[1] = max(temp[1], interval[1])\n",
    "        else:\n",
    "            result.append(temp)\n",
    "            temp = interval\n",
    "    result.append(temp)\n",
    "    return result"
   ]
  },
  {
   "cell_type": "code",
   "execution_count": 2,
   "metadata": {},
   "outputs": [
    {
     "name": "stdout",
     "output_type": "stream",
     "text": [
      "[[1, 2], [3, 8], [9, 10]]\n"
     ]
    }
   ],
   "source": [
    "array = [ [1, 2], [3, 5], [4, 7], [6, 8], [9, 10] ]\n",
    "print(mergeOverlappingIntervals(array))"
   ]
  },
  {
   "cell_type": "code",
   "execution_count": 3,
   "metadata": {},
   "outputs": [
    {
     "name": "stdout",
     "output_type": "stream",
     "text": [
      "[[-2, 30]]\n"
     ]
    }
   ],
   "source": [
    "array = [[-2, 30], [1,22]]\n",
    "print(mergeOverlappingIntervals(array))"
   ]
  },
  {
   "cell_type": "code",
   "execution_count": 4,
   "metadata": {},
   "outputs": [
    {
     "name": "stdout",
     "output_type": "stream",
     "text": [
      "[[10, 50]]\n"
     ]
    }
   ],
   "source": [
    "array = [[10,20], [20,30], [30,40], [40,50]]\n",
    "print(mergeOverlappingIntervals(array))"
   ]
  },
  {
   "cell_type": "code",
   "execution_count": null,
   "metadata": {},
   "outputs": [],
   "source": []
  }
 ],
 "metadata": {
  "kernelspec": {
   "display_name": "Python 3",
   "language": "python",
   "name": "python3"
  },
  "language_info": {
   "codemirror_mode": {
    "name": "ipython",
    "version": 3
   },
   "file_extension": ".py",
   "mimetype": "text/x-python",
   "name": "python",
   "nbconvert_exporter": "python",
   "pygments_lexer": "ipython3",
   "version": "3.8.3"
  }
 },
 "nbformat": 4,
 "nbformat_minor": 4
}

{
 "cells": [
  {
   "cell_type": "markdown",
   "metadata": {},
   "source": [
    "## Problem:\n",
    "\n",
    "Write a function that takes in a string and returns its longest substring without duplicate characters.\n",
    "You can assume that there will only be one longest substring without duplication.\n",
    "\n",
    "Example:\n",
    "\n",
    "string = \"clementisacap\"\n",
    "\n",
    "Output : \"mentisac\""
   ]
  },
  {
   "cell_type": "code",
   "execution_count": 2,
   "metadata": {},
   "outputs": [],
   "source": [
    "def longestSubstringWithoutDuplication(string):\n",
    "    # Write your code here.\n",
    "    l, r = 0, 0\n",
    "    maxLIndx, maxLen = -1, 0\n",
    "    temp = {}\n",
    "\n",
    "    while r < len(string):\n",
    "        s = string[r]\n",
    "        if s not in temp:\n",
    "            temp[s] = 0\n",
    "        temp[s] += 1\n",
    "\n",
    "        while (r-l+1) > len(temp):\n",
    "            e = string[l]\n",
    "            if e in temp:\n",
    "                temp[e] -= 1\n",
    "                if temp[e] == 0:\n",
    "                    temp.pop(e)\n",
    "            l += 1\n",
    "        if (r-l+1) == len(temp):\n",
    "            if maxLen < r-l+1:\n",
    "                maxLen = r-l+1\n",
    "                maxLIndx = l\n",
    "        r += 1\n",
    "    return string[maxLIndx: maxLIndx+maxLen]"
   ]
  },
  {
   "cell_type": "code",
   "execution_count": 3,
   "metadata": {},
   "outputs": [
    {
     "data": {
      "text/plain": [
       "'mentisac'"
      ]
     },
     "execution_count": 3,
     "metadata": {},
     "output_type": "execute_result"
    }
   ],
   "source": [
    "string = \"clementisacap\"\n",
    "longestSubstringWithoutDuplication(string)"
   ]
  },
  {
   "cell_type": "code",
   "execution_count": null,
   "metadata": {},
   "outputs": [],
   "source": []
  }
 ],
 "metadata": {
  "kernelspec": {
   "display_name": "Python 3",
   "language": "python",
   "name": "python3"
  },
  "language_info": {
   "codemirror_mode": {
    "name": "ipython",
    "version": 3
   },
   "file_extension": ".py",
   "mimetype": "text/x-python",
   "name": "python",
   "nbconvert_exporter": "python",
   "pygments_lexer": "ipython3",
   "version": "3.8.3"
  }
 },
 "nbformat": 4,
 "nbformat_minor": 4
}

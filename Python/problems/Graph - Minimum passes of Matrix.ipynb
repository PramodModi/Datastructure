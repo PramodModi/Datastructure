{
 "cells": [
  {
   "cell_type": "markdown",
   "metadata": {},
   "source": [
    "## Problem\n",
    "\n",
    "Write a function that takes in an integer matrix of potentially unequal height and width and returns the\n",
    "minimum number of passes required to convert all negative integers in the matrix to positive integers.\n",
    "A negative integer in the matrix can only be converted to a positive integer if one or more of its\n",
    "adjacent elements is positive. An adjacent element is an element that is to the left, to the right, above,\n",
    "or below the current element in the matrix. Converting a negative to a positive simply involves\n",
    "multiplying it by -1 .\n",
    "Note that the 0 value is neither positive nor negative, meaning that a 0 can't convert an adjacent\n",
    "negative to a positive.\n",
    "A single pass through the matrix involves converting all the negative integers that can be converted at a\n",
    "particular point in time. For example, consider the following input matrix:\n",
    "\n",
    "    [\n",
    "     [0, -2, -1],\n",
    "     [-5, 2, 0],\n",
    "     [-6, -2, 0],\n",
    "    ]\n",
    "\n",
    "After a first pass, only 3 values can be converted to positives:\n",
    "\n",
    "    [\n",
    "     [0, 2, -1],\n",
    "     [5, 2, 0],\n",
    "     [-6, 2, 0],\n",
    "    ]\n",
    "\n",
    "After a second pass, the remaining negative values can all be converted to positives:\n",
    "\n",
    "    [\n",
    "     [0, 2, 1],\n",
    "     [5, 2, 0],\n",
    "     [6, 2, 0],\n",
    "    ]\n",
    "\n",
    "Note that the input matrix will always contain at least one element. If the negative integers in the input\n",
    "matrix can't all be converted to positives, regardless of how many passes are run, your function should\n",
    "return -1 .\n",
    "\n",
    "Example:\n",
    "\n",
    "matrix = \n",
    "\n",
    "    [\n",
    "        [0, -1, -3, 2, 0],\n",
    "        [1, -2, -5, -1, -3],\n",
    "        [3, 0, 0, -4, -1]\n",
    "    ]\n",
    "    \n",
    " Output:\n",
    " 3\n",
    "    "
   ]
  },
  {
   "cell_type": "code",
   "execution_count": 7,
   "metadata": {},
   "outputs": [],
   "source": [
    "import queue\n",
    "def minimumPassesOfMatrix(matrix):\n",
    "    # Write your code here.\n",
    "    passes = getMinimumPasses(matrix)\n",
    "    return passes-1 if allPositive(matrix) else -1\n",
    "\n",
    "def getMinimumPasses(matrix):\n",
    "    positiveQ = getPositiveQ(matrix)\n",
    "    passes = 0\n",
    "    while not positiveQ.empty():\n",
    "        size = positiveQ.qsize()\n",
    "        \n",
    "        while size:\n",
    "            row, col = positiveQ.get()\n",
    "            nebrs = getNeighbours(row, col, matrix)\n",
    "            for r, c in nebrs:\n",
    "                if matrix[r][c] < 0:\n",
    "                    matrix[r][c] *= (-1)\n",
    "                    positiveQ.put((r,c))\n",
    "            size -= 1\n",
    "        passes += 1\n",
    "    return passes\n",
    "\n",
    "def getPositiveQ(matrix):\n",
    "    q = queue.Queue()\n",
    "    \n",
    "    for row in range(len(matrix)):\n",
    "        for col in range(len(matrix[row])):\n",
    "            if matrix[row][col] > 0:\n",
    "                q.put((row, col))\n",
    "    return q\n",
    "\n",
    "def getNeighbours(r, c, matrix):\n",
    "    neighbours = []\n",
    "    if r > 0:\n",
    "        neighbours.append((r-1, c))\n",
    "    if r < len(matrix) -1:\n",
    "        neighbours.append((r+1, c))\n",
    "    if c > 0:\n",
    "        neighbours.append((r, c-1))\n",
    "    if c < len(matrix[r]) - 1:\n",
    "        neighbours.append((r, c+1))\n",
    "    return neighbours\n",
    "    \n",
    "\n",
    "def allPositive(matrix):\n",
    "    for row in range(len(matrix)):\n",
    "        for col in range(len(matrix[row])):\n",
    "            if matrix[row][col] < 0:\n",
    "                return False\n",
    "    return True"
   ]
  },
  {
   "cell_type": "code",
   "execution_count": 8,
   "metadata": {},
   "outputs": [
    {
     "data": {
      "text/plain": [
       "3"
      ]
     },
     "execution_count": 8,
     "metadata": {},
     "output_type": "execute_result"
    }
   ],
   "source": [
    "matrix =[\n",
    "    [0, -1, -3, 2, 0],\n",
    "    [1, -2, -5, -1, -3],\n",
    "    [3, 0, 0, -4, -1]\n",
    "]\n",
    "minimumPassesOfMatrix(matrix)"
   ]
  },
  {
   "cell_type": "code",
   "execution_count": null,
   "metadata": {},
   "outputs": [],
   "source": []
  }
 ],
 "metadata": {
  "kernelspec": {
   "display_name": "Python 3",
   "language": "python",
   "name": "python3"
  },
  "language_info": {
   "codemirror_mode": {
    "name": "ipython",
    "version": 3
   },
   "file_extension": ".py",
   "mimetype": "text/x-python",
   "name": "python",
   "nbconvert_exporter": "python",
   "pygments_lexer": "ipython3",
   "version": "3.8.3"
  }
 },
 "nbformat": 4,
 "nbformat_minor": 4
}

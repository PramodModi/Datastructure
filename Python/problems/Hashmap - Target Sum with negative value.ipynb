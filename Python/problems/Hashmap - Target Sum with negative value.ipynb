{
 "cells": [
  {
   "cell_type": "markdown",
   "metadata": {},
   "source": [
    "## Problem\n",
    "Find a subarray having the given sum in an integer array. Value can be negative.\n",
    "\n",
    "If only positive value is given for array, then better to use Sliding window problem."
   ]
  },
  {
   "cell_type": "code",
   "execution_count": 3,
   "metadata": {},
   "outputs": [],
   "source": [
    "## Q1. Given target value, return True  if sum of integers (may be negative value) can have target value else False\n",
    "def targetValue(array, target):\n",
    "    map = {}\n",
    "    sum  = 0\n",
    "    for i in range(len(array)):\n",
    "        sum += array[i]\n",
    "        if (sum - target) in map:\n",
    "            return True\n",
    "        map[sum]= True\n",
    "    return False\n",
    "    "
   ]
  },
  {
   "cell_type": "code",
   "execution_count": 4,
   "metadata": {},
   "outputs": [
    {
     "data": {
      "text/plain": [
       "True"
      ]
     },
     "execution_count": 4,
     "metadata": {},
     "output_type": "execute_result"
    }
   ],
   "source": [
    "array = [1,1,1,1,5]\n",
    "target = 8\n",
    "targetValue(array, target)"
   ]
  },
  {
   "cell_type": "code",
   "execution_count": 5,
   "metadata": {},
   "outputs": [
    {
     "data": {
      "text/plain": [
       "True"
      ]
     },
     "execution_count": 5,
     "metadata": {},
     "output_type": "execute_result"
    }
   ],
   "source": [
    "array = [-1,2,1,1,-1,5]\n",
    "target = 8\n",
    "targetValue(array, target)"
   ]
  },
  {
   "cell_type": "code",
   "execution_count": 6,
   "metadata": {},
   "outputs": [
    {
     "data": {
      "text/plain": [
       "False"
      ]
     },
     "execution_count": 6,
     "metadata": {},
     "output_type": "execute_result"
    }
   ],
   "source": [
    "array = [-1,2,1,1,-1,5]\n",
    "target = 10\n",
    "targetValue(array, target)"
   ]
  },
  {
   "cell_type": "code",
   "execution_count": 7,
   "metadata": {},
   "outputs": [],
   "source": [
    "### Check with sliding widow approach\n",
    "def targetSum(array, target):\n",
    "    left = 0\n",
    "    right = 0\n",
    "    sum = 0\n",
    "    while right < len(array):\n",
    "        sum += array[right]\n",
    "        \n",
    "        while sum > target or left< len(array):\n",
    "            sum -= array[left]\n",
    "            left += 1\n",
    "        if target == sum:\n",
    "            return True\n",
    "        right += 1\n",
    "    return False"
   ]
  },
  {
   "cell_type": "code",
   "execution_count": 9,
   "metadata": {},
   "outputs": [
    {
     "data": {
      "text/plain": [
       "False"
      ]
     },
     "execution_count": 9,
     "metadata": {},
     "output_type": "execute_result"
    }
   ],
   "source": [
    "array = [-1,2,1,1,-1,5]\n",
    "target = 8\n",
    "targetSum(array, target)\n",
    "\n",
    "## Although answer should be True but it gives False. So, sliding window method will not work \n",
    "#if values in the array os negative."
   ]
  },
  {
   "cell_type": "code",
   "execution_count": 12,
   "metadata": {},
   "outputs": [],
   "source": [
    "## Q1. Given target value, return subaray indices if sum of integers (may be negative value) \n",
    "## can have target value else [-1,-1]\n",
    "def targetValueSubraay(array, target):\n",
    "    map = {}\n",
    "    sum  = 0\n",
    "    answer = []\n",
    "    for i in range(len(array)):\n",
    "        sum += array[i]\n",
    "        if (sum - target) in map:\n",
    "            return [map[sum-target],i]\n",
    "        map[sum]= i\n",
    "    return [-1,-1]"
   ]
  },
  {
   "cell_type": "code",
   "execution_count": 13,
   "metadata": {},
   "outputs": [
    {
     "data": {
      "text/plain": [
       "[0, 5]"
      ]
     },
     "execution_count": 13,
     "metadata": {},
     "output_type": "execute_result"
    }
   ],
   "source": [
    "array = [-1,2,1,1,-1,5]\n",
    "target = 8\n",
    "targetValueSubraay(array, target)"
   ]
  },
  {
   "cell_type": "code",
   "execution_count": 14,
   "metadata": {},
   "outputs": [
    {
     "data": {
      "text/plain": [
       "[-1, -1]"
      ]
     },
     "execution_count": 14,
     "metadata": {},
     "output_type": "execute_result"
    }
   ],
   "source": [
    "array = [-1,2,1,1,-1,5]\n",
    "target = 10\n",
    "targetValueSubraay(array, target)"
   ]
  },
  {
   "cell_type": "code",
   "execution_count": null,
   "metadata": {},
   "outputs": [],
   "source": []
  }
 ],
 "metadata": {
  "kernelspec": {
   "display_name": "Python 3",
   "language": "python",
   "name": "python3"
  },
  "language_info": {
   "codemirror_mode": {
    "name": "ipython",
    "version": 3
   },
   "file_extension": ".py",
   "mimetype": "text/x-python",
   "name": "python",
   "nbconvert_exporter": "python",
   "pygments_lexer": "ipython3",
   "version": "3.8.3"
  }
 },
 "nbformat": 4,
 "nbformat_minor": 4
}

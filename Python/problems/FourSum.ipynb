{
 "cells": [
  {
   "cell_type": "markdown",
   "metadata": {},
   "source": [
    "## Problem\n",
    "Given an array nums of n integers, return an array of all the unique quadruplets [nums[a], nums[b], nums[c], nums[d]] such that:\n",
    "\n",
    "0 <= a, b, c, d < n\n",
    "a, b, c, and d are distinct.\n",
    "\n",
    "nums[a] + nums[b] + nums[c] + nums[d] == target\n",
    "\n",
    "You may return the answer in any order.\n",
    "\n",
    "Example:\n",
    "Input: nums = [1,0,-1,0,-2,2], target = 0\n",
    "Output: [[-2,-1,1,2],[-2,0,0,2],[-1,0,0,1]]\n",
    "\n",
    "Input: nums = [2,2,2,2,2], target = 8\n",
    "Output: [[2,2,2,2]]"
   ]
  },
  {
   "cell_type": "code",
   "execution_count": 3,
   "metadata": {},
   "outputs": [],
   "source": [
    "# O(n^3) time complexity, but in reality it is O(nlogn) for sorting + O(n^3)\n",
    "# O(1) space complexity\n",
    "def fourSum(a, sum):\n",
    "    result = set()\n",
    "    a.sort()\n",
    "    for i in range(len(a)-3):\n",
    "        for j in range(i+ 1, len(a)-2):\n",
    "            s = sum - (a[i] + a[j])\n",
    "            \n",
    "            left = j + 1\n",
    "            right = len(a)-1\n",
    "            while (left < right):\n",
    "                n = s- a[left]\n",
    "                if n == a[right]:\n",
    "                    result.add((a[i], a[j], a[left], a[right]))\n",
    "                    left += 1\n",
    "                    right -= 1\n",
    "                elif (n > a[right]):\n",
    "                    left += 1\n",
    "                else:\n",
    "                    right -= 1\n",
    "    return result"
   ]
  },
  {
   "cell_type": "code",
   "execution_count": 4,
   "metadata": {},
   "outputs": [
    {
     "name": "stdout",
     "output_type": "stream",
     "text": [
      "{(-2, -1, 1, 2), (-1, 0, 0, 1), (-2, 0, 0, 2)}\n"
     ]
    }
   ],
   "source": [
    "a = [1,0,-1,0,-2,2]\n",
    "sum = 0\n",
    "print(fourSum(a, sum))"
   ]
  },
  {
   "cell_type": "code",
   "execution_count": 42,
   "metadata": {},
   "outputs": [],
   "source": [
    "# average: O(n^2) time complexity\n",
    "#Worst case: O(n^3)\n",
    "# O(n^2) space complexity\n",
    "def FourSum(a, sum):\n",
    "    pairs = {}\n",
    "    result = []\n",
    "    for i in range (1, len(a) - 1):\n",
    "        for j in range(i+1, len(a)):\n",
    "            n = sum - a[i] - a[j]\n",
    "            if n in pairs:\n",
    "                for pair in pairs[n]:\n",
    "                    result.append(pair + [a[i], a[j]])\n",
    "        for k in range(0, i):\n",
    "            n = a[k]+ a[i]\n",
    "            if n not in pairs:\n",
    "                pairs[n]= [[a[k],a[i]]]\n",
    "                \n",
    "            else:\n",
    "                pairs[n].append([a[k], a[i]])\n",
    "    return result\n",
    "    "
   ]
  },
  {
   "cell_type": "code",
   "execution_count": 43,
   "metadata": {},
   "outputs": [
    {
     "name": "stdout",
     "output_type": "stream",
     "text": [
      "[[1, 0, -1, 0], [1, -1, -2, 2], [0, 0, -2, 2]]\n"
     ]
    }
   ],
   "source": [
    "a = [1,0,-1,0,-2,2]\n",
    "sum = 0\n",
    "print(FourSum(a, sum))"
   ]
  },
  {
   "cell_type": "code",
   "execution_count": 44,
   "metadata": {},
   "outputs": [
    {
     "name": "stdout",
     "output_type": "stream",
     "text": [
      "[[7, 6, 4, -1], [7, 6, 1, 2]]\n"
     ]
    }
   ],
   "source": [
    "a = [7,6,4,-1,1,2]\n",
    "sum = 16\n",
    "print(FourSum(a, sum))"
   ]
  },
  {
   "cell_type": "code",
   "execution_count": null,
   "metadata": {},
   "outputs": [],
   "source": []
  }
 ],
 "metadata": {
  "kernelspec": {
   "display_name": "Python 3",
   "language": "python",
   "name": "python3"
  },
  "language_info": {
   "codemirror_mode": {
    "name": "ipython",
    "version": 3
   },
   "file_extension": ".py",
   "mimetype": "text/x-python",
   "name": "python",
   "nbconvert_exporter": "python",
   "pygments_lexer": "ipython3",
   "version": "3.8.3"
  }
 },
 "nbformat": 4,
 "nbformat_minor": 4
}

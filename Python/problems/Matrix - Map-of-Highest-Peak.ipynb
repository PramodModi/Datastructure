{
 "cells": [
  {
   "cell_type": "markdown",
   "metadata": {},
   "source": [
    "## Problem\n",
    "You are given an integer matrix isWater of size m x n that represents a map of land and water cells.\n",
    "\n",
    "If isWater[i][j] == 0, cell (i, j) is a land cell.\n",
    "If isWater[i][j] == 1, cell (i, j) is a water cell.\n",
    "You must assign each cell a height in a way that follows these rules:\n",
    "\n",
    "The height of each cell must be non-negative.\n",
    "If the cell is a water cell, its height must be 0.\n",
    "Any two adjacent cells must have an absolute height difference of at most 1. A cell is adjacent to another cell if the former is directly north, east, south, or west of the latter (i.e., their sides are touching).\n",
    "Find an assignment of heights such that the maximum height in the matrix is maximized.\n",
    "\n",
    "Return an integer matrix height of size m x n where height[i][j] is cell (i, j)'s height. If there are multiple solutions, return any of them."
   ]
  },
  {
   "cell_type": "code",
   "execution_count": 40,
   "metadata": {},
   "outputs": [],
   "source": [
    "from collections import deque\n",
    "def highestPeak(w):\n",
    "    waterCell = deque()\n",
    "    #waterCell = []\n",
    "    for i in range(len(w)):\n",
    "        for j in range(len(w[i])):\n",
    "            w[i][j] = 0 if w[i][j] == 1 else -1\n",
    "            if w[i][j] == 0:\n",
    "                waterCell.append((i,j))\n",
    "    \n",
    "    while len(waterCell) != 0:\n",
    "        r,c = waterCell.popleft()\n",
    "        h = w[r][c]\n",
    "        neighbours = getNeighbours(r,c,w)\n",
    "        for n in neighbours:\n",
    "            r, c = n\n",
    "            if w[r][c] == -1:\n",
    "                w[r][c] = h+1\n",
    "                waterCell.append((r,c))\n",
    "    return w\n",
    "                 \n",
    "\n",
    "def getNeighbours(r,c,w):\n",
    "    neighbours = []\n",
    "    if r > 0:\n",
    "        neighbours.append((r-1, c))\n",
    "    if r < len(w) -1:\n",
    "        neighbours.append((r+1, c))\n",
    "    if c > 0:\n",
    "        neighbours.append((r, c-1))\n",
    "    if c < len(w[r])-1:\n",
    "        neighbours.append((r, c+1))\n",
    "        \n",
    "    return neighbours\n",
    "        \n",
    "            "
   ]
  },
  {
   "cell_type": "code",
   "execution_count": 41,
   "metadata": {},
   "outputs": [
    {
     "data": {
      "text/plain": [
       "[[1, 0], [2, 1]]"
      ]
     },
     "execution_count": 41,
     "metadata": {},
     "output_type": "execute_result"
    }
   ],
   "source": [
    "w = [[0,1],[0,0]]\n",
    "highestPeak(w)"
   ]
  },
  {
   "cell_type": "code",
   "execution_count": 42,
   "metadata": {},
   "outputs": [
    {
     "data": {
      "text/plain": [
       "[[1, 1, 0], [0, 1, 1], [1, 2, 2]]"
      ]
     },
     "execution_count": 42,
     "metadata": {},
     "output_type": "execute_result"
    }
   ],
   "source": [
    "w = [[0,0,1],[1,0,0],[0,0,0]]\n",
    "highestPeak(w)"
   ]
  },
  {
   "cell_type": "code",
   "execution_count": null,
   "metadata": {},
   "outputs": [],
   "source": []
  }
 ],
 "metadata": {
  "kernelspec": {
   "display_name": "Python 3",
   "language": "python",
   "name": "python3"
  },
  "language_info": {
   "codemirror_mode": {
    "name": "ipython",
    "version": 3
   },
   "file_extension": ".py",
   "mimetype": "text/x-python",
   "name": "python",
   "nbconvert_exporter": "python",
   "pygments_lexer": "ipython3",
   "version": "3.8.3"
  }
 },
 "nbformat": 4,
 "nbformat_minor": 4
}

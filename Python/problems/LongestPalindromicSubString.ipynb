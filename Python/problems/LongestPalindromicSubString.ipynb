{
 "cells": [
  {
   "cell_type": "markdown",
   "metadata": {},
   "source": [
    "## Problem Leet Code 5\n",
    "\n",
    "Find longest palindromic sub string from given string. Note, single character is also be considered as palindrome. Assume that there would be only one palindrome in a given string.\n",
    "\n",
    "Example:\n",
    "\n",
    "string = abacdxyzzyxdef\n",
    "\n",
    "output = dxyzzyxd"
   ]
  },
  {
   "cell_type": "code",
   "execution_count": 3,
   "metadata": {},
   "outputs": [],
   "source": [
    "def longestPalindromicSubstring(string):\n",
    "    maximum = [0,1]\n",
    "    for i in range(1,len(string)):\n",
    "        odd = getLongestPalindromic(string, i-1,i+1)\n",
    "        even = getLongestPalindromic(string, i-1,i)\n",
    "        \n",
    "        longest = max(odd,even, key = lambda x: x[1]-x[0])\n",
    "        maximum = max(maximum,longest, key = lambda x: x[1]-x[0])\n",
    "    return string[maximum[0]:maximum[1]]\n",
    "\n",
    "def getLongestPalindromic(string, left, right):\n",
    "    while(left >= 0 and right < len(string)):\n",
    "        if string[left] != string[right]:\n",
    "            break\n",
    "        left -= 1\n",
    "        right += 1\n",
    "    return [left+1, right]\n"
   ]
  },
  {
   "cell_type": "code",
   "execution_count": 4,
   "metadata": {},
   "outputs": [
    {
     "data": {
      "text/plain": [
       "'dxyzzyxd'"
      ]
     },
     "execution_count": 4,
     "metadata": {},
     "output_type": "execute_result"
    }
   ],
   "source": [
    "string = \"abacdxyzzyxdef\"\n",
    "longestPalindromicSubstring(string)"
   ]
  },
  {
   "cell_type": "code",
   "execution_count": null,
   "metadata": {},
   "outputs": [],
   "source": []
  }
 ],
 "metadata": {
  "kernelspec": {
   "display_name": "Python 3",
   "language": "python",
   "name": "python3"
  },
  "language_info": {
   "codemirror_mode": {
    "name": "ipython",
    "version": 3
   },
   "file_extension": ".py",
   "mimetype": "text/x-python",
   "name": "python",
   "nbconvert_exporter": "python",
   "pygments_lexer": "ipython3",
   "version": "3.8.3"
  }
 },
 "nbformat": 4,
 "nbformat_minor": 4
}

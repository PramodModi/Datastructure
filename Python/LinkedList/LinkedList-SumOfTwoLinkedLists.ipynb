{
 "cells": [
  {
   "cell_type": "code",
   "execution_count": 9,
   "metadata": {},
   "outputs": [],
   "source": [
    "class LinkedList:\n",
    "    def __init__(self, value):\n",
    "        self.value = value\n",
    "        self.next = None\n",
    "\n",
    "def createLinkedList(values):\n",
    "    ll = LinkedList(0)\n",
    "    cn = ll\n",
    "    for v in values:\n",
    "        newnode = LinkedList(v)\n",
    "        cn.next = newnode\n",
    "        cn = newnode\n",
    "    return ll.next\n",
    "        \n",
    "def printLinkedList(linkedlist):\n",
    "    temp = linkedlist\n",
    "    while(temp):\n",
    "        print(temp.value)\n",
    "        temp = temp.next\n",
    "\n",
    "\n",
    "def sumOfLinkedLists(linkedListOne, linkedListTwo):\n",
    "    # Write your code here.\n",
    "    newlinkedList = LinkedList(0)\n",
    "    currentNode = newlinkedList\n",
    "    carry = 0\n",
    "\n",
    "    nodeOne = linkedListOne\n",
    "    nodeTwo = linkedListTwo\n",
    "    print(\"\\n***********\\n\")\n",
    "    while nodeOne is not None or nodeTwo is not None or carry != 0:\n",
    "\n",
    "        v1 = nodeOne.value if nodeOne is not None else 0\n",
    "        v2 = nodeTwo.value if nodeTwo is not None else 0\n",
    "        print(\"\\n***********\\n\")\n",
    "        print(\"v1 = \", v1)\n",
    "        print(\"v2 = \", v2)\n",
    "        print(\"carry = \", carry)\n",
    "\n",
    "        sum = v1+ v2+ carry\n",
    "\n",
    "        v = sum%10\n",
    "        newNode = LinkedList(v)\n",
    "        currentNode.next = newNode\n",
    "        currentNode = newNode\n",
    "\n",
    "        carry = sum // 10\n",
    "        nodeOne = nodeOne.next if nodeOne is not None else None\n",
    "        nodeTwo = nodeTwo.next if nodeTwo is not None else None\n",
    "\n",
    "\n",
    "\n",
    "    return newlinkedList.next\n"
   ]
  },
  {
   "cell_type": "code",
   "execution_count": 10,
   "metadata": {},
   "outputs": [
    {
     "name": "stdout",
     "output_type": "stream",
     "text": [
      "1\n",
      "2\n",
      "3\n",
      "4\n",
      "5\n",
      "6\n",
      "7\n"
     ]
    }
   ],
   "source": [
    "listOne = createLinkedList([1,2,3,4,5,6,7])\n",
    "listTwo = createLinkedList([4,5,6,7])\n",
    "printLinkedList(listOne)"
   ]
  },
  {
   "cell_type": "code",
   "execution_count": 11,
   "metadata": {},
   "outputs": [
    {
     "name": "stdout",
     "output_type": "stream",
     "text": [
      "\n",
      "***********\n",
      "\n",
      "\n",
      "***********\n",
      "\n",
      "v1 =  1\n",
      "v2 =  4\n",
      "carry =  0\n",
      "\n",
      "***********\n",
      "\n",
      "v1 =  2\n",
      "v2 =  5\n",
      "carry =  0\n",
      "\n",
      "***********\n",
      "\n",
      "v1 =  3\n",
      "v2 =  6\n",
      "carry =  0\n",
      "\n",
      "***********\n",
      "\n",
      "v1 =  4\n",
      "v2 =  7\n",
      "carry =  0\n",
      "\n",
      "***********\n",
      "\n",
      "v1 =  5\n",
      "v2 =  0\n",
      "carry =  1\n",
      "\n",
      "***********\n",
      "\n",
      "v1 =  6\n",
      "v2 =  0\n",
      "carry =  0\n",
      "\n",
      "***********\n",
      "\n",
      "v1 =  7\n",
      "v2 =  0\n",
      "carry =  0\n",
      "5\n",
      "7\n",
      "9\n",
      "1\n",
      "6\n",
      "6\n",
      "7\n"
     ]
    }
   ],
   "source": [
    "sumList = sumOfLinkedLists(listOne, listTwo)\n",
    "printLinkedList(sumList)"
   ]
  },
  {
   "cell_type": "code",
   "execution_count": null,
   "metadata": {},
   "outputs": [],
   "source": []
  }
 ],
 "metadata": {
  "kernelspec": {
   "display_name": "Python 3",
   "language": "python",
   "name": "python3"
  },
  "language_info": {
   "codemirror_mode": {
    "name": "ipython",
    "version": 3
   },
   "file_extension": ".py",
   "mimetype": "text/x-python",
   "name": "python",
   "nbconvert_exporter": "python",
   "pygments_lexer": "ipython3",
   "version": "3.8.3"
  }
 },
 "nbformat": 4,
 "nbformat_minor": 4
}

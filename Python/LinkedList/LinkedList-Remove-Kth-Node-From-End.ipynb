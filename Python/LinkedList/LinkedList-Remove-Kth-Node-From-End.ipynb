{
 "cells": [
  {
   "cell_type": "markdown",
   "metadata": {},
   "source": [
    "## Remove kth element from end"
   ]
  },
  {
   "cell_type": "code",
   "execution_count": 1,
   "metadata": {},
   "outputs": [],
   "source": [
    "def removeKthNodeFromEnd(head, k):\n",
    "    # Write your code here.\n",
    "    cur = head\n",
    "    temp = head\n",
    "    j =1\n",
    "    while (j <= k):\n",
    "        temp = temp.next\n",
    "        j += 1\n",
    "\n",
    "    if temp is None:\n",
    "        head.value = head.next.value\n",
    "        head.next = head.next.next\n",
    "        return\n",
    "\n",
    "    while(temp.next):\n",
    "        cur = cur.next\n",
    "        temp = temp.next\n",
    "    cur.next = cur.next.next\n"
   ]
  },
  {
   "cell_type": "code",
   "execution_count": null,
   "metadata": {},
   "outputs": [],
   "source": []
  }
 ],
 "metadata": {
  "kernelspec": {
   "display_name": "Python 3",
   "language": "python",
   "name": "python3"
  },
  "language_info": {
   "codemirror_mode": {
    "name": "ipython",
    "version": 3
   },
   "file_extension": ".py",
   "mimetype": "text/x-python",
   "name": "python",
   "nbconvert_exporter": "python",
   "pygments_lexer": "ipython3",
   "version": "3.8.3"
  }
 },
 "nbformat": 4,
 "nbformat_minor": 4
}

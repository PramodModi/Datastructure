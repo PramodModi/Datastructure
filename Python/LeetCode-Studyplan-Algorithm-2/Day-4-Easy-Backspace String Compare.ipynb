{
 "cells": [
  {
   "cell_type": "markdown",
   "metadata": {},
   "source": [
    "## 844. Backspace String Compare\n",
    "\n",
    "https://leetcode.com/problems/backspace-string-compare/?envType=study-plan&id=algorithm-ii\n",
    "\n",
    "Given two strings s and t, return true if they are equal when both are typed into empty text editors. '#' means a backspace character.\n",
    "\n",
    "Note that after backspacing an empty text, the text will continue empty.\n",
    "\n",
    " \n",
    "\n",
    "Example 1:\n",
    "\n",
    "Input: s = \"ab#c\", t = \"ad#c\"\n",
    "\n",
    "Output: true\n",
    "\n",
    "Explanation: Both s and t become \"ac\".\n",
    "\n",
    "Example 2:\n",
    "\n",
    "Input: s = \"ab##\", t = \"c#d#\"\n",
    "\n",
    "Output: true\n",
    "\n",
    "Explanation: Both s and t become \"\".\n",
    "\n",
    "Example 3:\n",
    "\n",
    "Input: s = \"a#c\", t = \"b\"\n",
    "\n",
    "Output: false\n",
    "\n",
    "Explanation: s becomes \"c\" while t becomes \"b\".\n",
    " \n",
    "\n",
    "Constraints:\n",
    "\n",
    "1 <= s.length, t.length <= 200\n",
    "\n",
    "s and t only contain lowercase letters and '#' characters."
   ]
  },
  {
   "cell_type": "code",
   "execution_count": 6,
   "metadata": {},
   "outputs": [],
   "source": [
    "def backspaceCompare(s, t):\n",
    "    s1 = getFinalLetters(s)\n",
    "    t1 = getFinalLetters(t)\n",
    "    if len(s1) != len(t1):\n",
    "        return False\n",
    "    for i in range(len(s1)):\n",
    "        if s1[i] != t1[i]:\n",
    "            return False\n",
    "    return True\n",
    "def getFinalLetters(string):\n",
    "    stack = []\n",
    "    r = 0\n",
    "    while r < len(string):\n",
    "        if string[r] != \"#\":\n",
    "            stack.append(string[r])\n",
    "            r += 1\n",
    "        else:\n",
    "            while r < len(string) and string[r] == \"#\":\n",
    "                r += 1\n",
    "                if stack:\n",
    "                    stack.pop()\n",
    "    return stack"
   ]
  },
  {
   "cell_type": "code",
   "execution_count": 7,
   "metadata": {},
   "outputs": [
    {
     "data": {
      "text/plain": [
       "True"
      ]
     },
     "execution_count": 7,
     "metadata": {},
     "output_type": "execute_result"
    }
   ],
   "source": [
    "s = \"ab#c\"\n",
    "t = \"ad#c\"\n",
    "backspaceCompare(s, t)"
   ]
  },
  {
   "cell_type": "code",
   "execution_count": 8,
   "metadata": {},
   "outputs": [
    {
     "data": {
      "text/plain": [
       "True"
      ]
     },
     "execution_count": 8,
     "metadata": {},
     "output_type": "execute_result"
    }
   ],
   "source": [
    "s = \"ab##\"\n",
    "t = \"c#d#\"\n",
    "backspaceCompare(s, t)"
   ]
  },
  {
   "cell_type": "code",
   "execution_count": 10,
   "metadata": {},
   "outputs": [
    {
     "data": {
      "text/plain": [
       "False"
      ]
     },
     "execution_count": 10,
     "metadata": {},
     "output_type": "execute_result"
    }
   ],
   "source": [
    "s = \"a#c\"\n",
    "t = \"b\"\n",
    "backspaceCompare(s, t)"
   ]
  },
  {
   "cell_type": "code",
   "execution_count": 11,
   "metadata": {},
   "outputs": [
    {
     "data": {
      "text/plain": [
       "True"
      ]
     },
     "execution_count": 11,
     "metadata": {},
     "output_type": "execute_result"
    }
   ],
   "source": [
    "s = \"###ab#\"\n",
    "t = \"ab#\"\n",
    "backspaceCompare(s, t)"
   ]
  },
  {
   "cell_type": "code",
   "execution_count": null,
   "metadata": {},
   "outputs": [],
   "source": []
  }
 ],
 "metadata": {
  "kernelspec": {
   "display_name": "Python 3",
   "language": "python",
   "name": "python3"
  },
  "language_info": {
   "codemirror_mode": {
    "name": "ipython",
    "version": 3
   },
   "file_extension": ".py",
   "mimetype": "text/x-python",
   "name": "python",
   "nbconvert_exporter": "python",
   "pygments_lexer": "ipython3",
   "version": "3.8.3"
  }
 },
 "nbformat": 4,
 "nbformat_minor": 4
}

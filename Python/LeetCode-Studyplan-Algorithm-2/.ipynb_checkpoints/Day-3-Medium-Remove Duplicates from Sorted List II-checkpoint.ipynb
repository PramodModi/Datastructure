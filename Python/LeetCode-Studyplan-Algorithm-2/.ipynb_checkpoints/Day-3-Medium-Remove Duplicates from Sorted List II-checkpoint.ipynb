{
 "cells": [
  {
   "cell_type": "markdown",
   "metadata": {},
   "source": [
    "## 82. Remove Duplicates from Sorted List II\n",
    "\n",
    "https://leetcode.com/problems/remove-duplicates-from-sorted-list-ii/?envType=study-plan&id=algorithm-ii\n",
    "\n",
    "Given the head of a sorted linked list, delete all nodes that have duplicate numbers, leaving only distinct numbers from the original list. Return the linked list sorted as well.\n",
    "\n",
    " \n",
    "\n",
    "Example 1:\n",
    "\n",
    "\n",
    "Input: head = [1,2,3,3,4,4,5]\n",
    "\n",
    "Output: [1,2,5]\n",
    "\n",
    "Example 2:\n",
    "\n",
    "\n",
    "Input: head = [1,1,1,2,3]\n",
    "\n",
    "Output: [2,3]\n",
    " \n",
    "\n",
    "Constraints:\n",
    "\n",
    "The number of nodes in the list is in the range [0, 300].\n",
    "\n",
    "-100 <= Node.val <= 100\n",
    "\n",
    "The list is guaranteed to be sorted in ascending order."
   ]
  },
  {
   "cell_type": "code",
   "execution_count": 1,
   "metadata": {},
   "outputs": [],
   "source": [
    "# Definition for singly-linked list.\n",
    "# class ListNode(object):\n",
    "#     def __init__(self, val=0, next=None):\n",
    "#         self.val = val\n",
    "#         self.next = next\n",
    "\n",
    "def deleteDuplicates(head):\n",
    "\n",
    "    cur = head\n",
    "    dummy = ListNode(0, head)\n",
    "    prev = dummy\n",
    "\n",
    "    while cur and cur.next:\n",
    "        if cur.val == cur.next.val:\n",
    "            cur = cur.next\n",
    "            while cur.next and cur.val == cur.next.val:\n",
    "                cur = cur.next\n",
    "            cur = cur.next\n",
    "            prev.next = cur\n",
    "        else:\n",
    "            prev = cur\n",
    "            cur = cur.next\n",
    "\n",
    "    return dummy.next"
   ]
  },
  {
   "cell_type": "code",
   "execution_count": null,
   "metadata": {},
   "outputs": [],
   "source": []
  }
 ],
 "metadata": {
  "kernelspec": {
   "display_name": "Python 3",
   "language": "python",
   "name": "python3"
  },
  "language_info": {
   "codemirror_mode": {
    "name": "ipython",
    "version": 3
   },
   "file_extension": ".py",
   "mimetype": "text/x-python",
   "name": "python",
   "nbconvert_exporter": "python",
   "pygments_lexer": "ipython3",
   "version": "3.8.3"
  }
 },
 "nbformat": 4,
 "nbformat_minor": 4
}

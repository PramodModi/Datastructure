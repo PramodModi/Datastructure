{
 "cells": [
  {
   "cell_type": "markdown",
   "metadata": {},
   "source": [
    "## Problem: 438. Find All Anagrams in a String\n",
    "https://leetcode.com/problems/find-all-anagrams-in-a-string/?envType=study-plan&id=algorithm-ii\n",
    "\n",
    "Given two strings s and p, return an array of all the start indices of p's anagrams in s. You may return the answer in any order.\n",
    "\n",
    "An Anagram is a word or phrase formed by rearranging the letters of a different word or phrase, typically using all the original letters exactly once.\n",
    "\n",
    " \n",
    "\n",
    "Example 1:\n",
    "\n",
    "Input: s = \"cbaebabacd\", p = \"abc\"\n",
    "\n",
    "Output: [0,6]\n",
    "\n",
    "Explanation:\n",
    "The substring with start index = 0 is \"cba\", which is an anagram of \"abc\".\n",
    "The substring with start index = 6 is \"bac\", which is an anagram of \"abc\".\n",
    "\n",
    "Example 2:\n",
    "\n",
    "Input: s = \"abab\", p = \"ab\"\n",
    "\n",
    "Output: [0,1,2]\n",
    "\n",
    "Explanation:\n",
    "\n",
    "The substring with start index = 0 is \"ab\", which is an anagram of \"ab\".\n",
    "The substring with start index = 1 is \"ba\", which is an anagram of \"ab\".\n",
    "The substring with start index = 2 is \"ab\", which is an anagram of \"ab\".\n",
    " \n",
    "\n",
    "Constraints:\n",
    "\n",
    "1 <= s.length, p.length <= 3 * 104\n",
    "\n",
    "s and p consist of lowercase English letters."
   ]
  },
  {
   "cell_type": "code",
   "execution_count": 7,
   "metadata": {},
   "outputs": [],
   "source": [
    "def findAnagrams(s, p):\n",
    "    if len(p) > len(s):\n",
    "        return []\n",
    "    \n",
    "    temp = {}\n",
    "    for c in p:\n",
    "        temp[c] = temp.get(c, 0) + 1\n",
    "    characters = len(temp)\n",
    "    result = []\n",
    "    k = len(p)\n",
    "    right = 0\n",
    "    while right < k:\n",
    "        c = s[right]\n",
    "        if c in temp:\n",
    "            temp[c] -= 1\n",
    "            if temp[c]==0:\n",
    "                characters -= 1\n",
    "        right += 1\n",
    "    if characters == 0:\n",
    "        result.append(0)\n",
    "    \n",
    "    left = 0\n",
    "    while right < len(s):\n",
    "        c = s[right]\n",
    "        if c in temp:\n",
    "            temp[c] -= 1\n",
    "            if temp[c]==0:\n",
    "                characters -= 1\n",
    "        c = s[left]\n",
    "        if c in temp:\n",
    "            temp[c] += 1\n",
    "            if temp[c] == 1:\n",
    "                characters += 1\n",
    "        right += 1\n",
    "        left += 1       \n",
    "        if characters == 0:\n",
    "            result.append(left)\n",
    "        \n",
    "    return result\n",
    "        \n",
    "            "
   ]
  },
  {
   "cell_type": "code",
   "execution_count": 8,
   "metadata": {},
   "outputs": [
    {
     "data": {
      "text/plain": [
       "[0, 1, 2]"
      ]
     },
     "execution_count": 8,
     "metadata": {},
     "output_type": "execute_result"
    }
   ],
   "source": [
    "s = \"abab\"\n",
    "p = \"ab\"\n",
    "findAnagrams(s, p)"
   ]
  },
  {
   "cell_type": "code",
   "execution_count": 9,
   "metadata": {},
   "outputs": [
    {
     "data": {
      "text/plain": [
       "[0, 6]"
      ]
     },
     "execution_count": 9,
     "metadata": {},
     "output_type": "execute_result"
    }
   ],
   "source": [
    "s = \"cbaebabacd\"\n",
    "p = \"abc\"\n",
    "findAnagrams(s, p)"
   ]
  },
  {
   "cell_type": "code",
   "execution_count": null,
   "metadata": {},
   "outputs": [],
   "source": []
  }
 ],
 "metadata": {
  "kernelspec": {
   "display_name": "Python 3",
   "language": "python",
   "name": "python3"
  },
  "language_info": {
   "codemirror_mode": {
    "name": "ipython",
    "version": 3
   },
   "file_extension": ".py",
   "mimetype": "text/x-python",
   "name": "python",
   "nbconvert_exporter": "python",
   "pygments_lexer": "ipython3",
   "version": "3.8.3"
  }
 },
 "nbformat": 4,
 "nbformat_minor": 4
}

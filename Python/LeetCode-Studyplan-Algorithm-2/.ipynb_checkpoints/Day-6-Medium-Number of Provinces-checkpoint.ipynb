{
 "cells": [
  {
   "cell_type": "markdown",
   "metadata": {},
   "source": [
    "## Problem: 547. Number of Provinces\n",
    "https://leetcode.com/problems/number-of-provinces/?envType=study-plan&id=algorithm-ii\n",
    "\n",
    "There are n cities. Some of them are connected, while some are not. If city a is connected directly with city b, and city b is connected directly with city c, then city a is connected indirectly with city c.\n",
    "\n",
    "A province is a group of directly or indirectly connected cities and no other cities outside of the group.\n",
    "\n",
    "You are given an n x n matrix isConnected where isConnected[i][j] = 1 if the ith city and the jth city are directly connected, and isConnected[i][j] = 0 otherwise.\n",
    "\n",
    "Return the total number of provinces.\n",
    "\n",
    "Look at the images provided at Leetcode for better understanding. \n",
    "\n",
    "Example 1:\n",
    "\n",
    "\n",
    "Input: isConnected = [[1,1,0],[1,1,0],[0,0,1]]\n",
    "\n",
    "Output: 2\n",
    "\n",
    "Example 2:\n",
    "\n",
    "\n",
    "Input: isConnected = [[1,0,0],[0,1,0],[0,0,1]]\n",
    "\n",
    "Output: 3\n",
    " \n",
    "\n",
    "Constraints:\n",
    "\n",
    "1 <= n <= 200\n",
    "\n",
    "n == isConnected.length\n",
    "\n",
    "n == isConnected[i].length\n",
    "\n",
    "isConnected[i][j] is 1 or 0.\n",
    "\n",
    "isConnected[i][i] == 1\n",
    "\n",
    "isConnected[i][j] == isConnected[j][i]"
   ]
  },
  {
   "cell_type": "code",
   "execution_count": 24,
   "metadata": {},
   "outputs": [],
   "source": [
    "def findCircleNum(isConnected):\n",
    "    provinces = 0\n",
    "    for i in range(len(isConnected)):\n",
    "        for j in range(len(isConnected[i])):\n",
    "            if isConnected[i][j] == 1:\n",
    "                explore(i, j, isConnected)\n",
    "                provinces += 1\n",
    "    return provinces\n",
    "    \n",
    "def explore(row, col, isConnected):\n",
    "    isConnected[row][col] = 2\n",
    "    isConnected[col][row] = 2 # If city A is connected with city B then city B is connected with city A\n",
    "    nebrs = getConnectedCity(row, col, isConnected)\n",
    "    for nr, nc in nebrs:\n",
    "        if isConnected[nr][nc] == 1:\n",
    "            explore(nr, nc, isConnected)\n",
    "            \n",
    "def getConnectedCity(r, c, isConnected):\n",
    "    nebrs = []\n",
    "    for i in range(len(isConnected[r])):\n",
    "        if isConnected[r][i] == 1: # city r is connected to city i\n",
    "            nebrs.append((i, r)) # Now, check the connected city of city i\n",
    "        \n",
    "    return nebrs"
   ]
  },
  {
   "cell_type": "code",
   "execution_count": 25,
   "metadata": {},
   "outputs": [
    {
     "data": {
      "text/plain": [
       "2"
      ]
     },
     "execution_count": 25,
     "metadata": {},
     "output_type": "execute_result"
    }
   ],
   "source": [
    "isConnected = [[1,1,0],[1,1,0],[0,0,1]]\n",
    "findCircleNum(isConnected)"
   ]
  },
  {
   "cell_type": "code",
   "execution_count": 26,
   "metadata": {},
   "outputs": [
    {
     "data": {
      "text/plain": [
       "3"
      ]
     },
     "execution_count": 26,
     "metadata": {},
     "output_type": "execute_result"
    }
   ],
   "source": [
    "isConnected = [[1,0,0],[0,1,0],[0,0,1]]\n",
    "findCircleNum(isConnected)"
   ]
  },
  {
   "cell_type": "code",
   "execution_count": 27,
   "metadata": {},
   "outputs": [
    {
     "data": {
      "text/plain": [
       "1"
      ]
     },
     "execution_count": 27,
     "metadata": {},
     "output_type": "execute_result"
    }
   ],
   "source": [
    "isConnected = [[1,0,0,1],[0,1,1,0],[0,1,1,1],[1,0,1,1]]\n",
    "findCircleNum(isConnected)"
   ]
  },
  {
   "cell_type": "code",
   "execution_count": null,
   "metadata": {},
   "outputs": [],
   "source": []
  }
 ],
 "metadata": {
  "kernelspec": {
   "display_name": "Python 3",
   "language": "python",
   "name": "python3"
  },
  "language_info": {
   "codemirror_mode": {
    "name": "ipython",
    "version": 3
   },
   "file_extension": ".py",
   "mimetype": "text/x-python",
   "name": "python",
   "nbconvert_exporter": "python",
   "pygments_lexer": "ipython3",
   "version": "3.8.3"
  }
 },
 "nbformat": 4,
 "nbformat_minor": 4
}

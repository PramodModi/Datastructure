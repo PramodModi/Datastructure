{
 "cells": [
  {
   "cell_type": "markdown",
   "metadata": {},
   "source": [
    "## 74. Search a 2D Matrix\n",
    "https://leetcode.com/problems/search-a-2d-matrix/\n",
    "\n",
    "Write an efficient algorithm that searches for a value target in an m x n integer matrix matrix. This matrix has the following properties:\n",
    "\n",
    "Integers in each row are sorted from left to right.\n",
    "The first integer of each row is greater than the last integer of the previous row.\n",
    " \n",
    "\n",
    "Example 1:\n",
    "\n",
    "\n",
    "Input: matrix = [[1,3,5,7],[10,11,16,20],[23,30,34,60]], target = 3\n",
    "\n",
    "Output: true\n",
    "\n",
    "Example 2:\n",
    "\n",
    "\n",
    "Input: matrix = [[1,3,5,7],[10,11,16,20],[23,30,34,60]], target = 13\n",
    "\n",
    "Output: false\n",
    " \n",
    "\n",
    "Constraints:\n",
    "\n",
    "m == matrix.length\n",
    "\n",
    "n == matrix[i].length\n",
    "\n",
    "1 <= m, n <= 100\n",
    "\n",
    "-104 <= matrix[i][j], target <= 104"
   ]
  },
  {
   "cell_type": "code",
   "execution_count": 1,
   "metadata": {},
   "outputs": [],
   "source": [
    "def searchMatrix(matrix, target):\n",
    "        endRow = len(matrix)-1\n",
    "        endCol = len(matrix[0])-1\n",
    "        \n",
    "        row = 0\n",
    "        col = endCol\n",
    "        \n",
    "        while col>=0 and row<= endRow:\n",
    "            if target < matrix[row][col]:\n",
    "                col -= 1\n",
    "            elif target > matrix[row][col]:\n",
    "                row += 1\n",
    "            else:\n",
    "                return True\n",
    "        return False"
   ]
  },
  {
   "cell_type": "code",
   "execution_count": 3,
   "metadata": {},
   "outputs": [
    {
     "data": {
      "text/plain": [
       "False"
      ]
     },
     "execution_count": 3,
     "metadata": {},
     "output_type": "execute_result"
    }
   ],
   "source": [
    "matrix = [[1,3,5,7],[10,11,16,20],[23,30,34,60]]\n",
    "target = 13\n",
    "searchMatrix(matrix, target)"
   ]
  },
  {
   "cell_type": "code",
   "execution_count": 5,
   "metadata": {},
   "outputs": [
    {
     "data": {
      "text/plain": [
       "True"
      ]
     },
     "execution_count": 5,
     "metadata": {},
     "output_type": "execute_result"
    }
   ],
   "source": [
    "matrix = [[1,3,5,7],[10,11,16,20],[23,30,34,60]]\n",
    "target = 3\n",
    "searchMatrix(matrix, target)"
   ]
  },
  {
   "cell_type": "code",
   "execution_count": null,
   "metadata": {},
   "outputs": [],
   "source": []
  }
 ],
 "metadata": {
  "kernelspec": {
   "display_name": "Python 3",
   "language": "python",
   "name": "python3"
  },
  "language_info": {
   "codemirror_mode": {
    "name": "ipython",
    "version": 3
   },
   "file_extension": ".py",
   "mimetype": "text/x-python",
   "name": "python",
   "nbconvert_exporter": "python",
   "pygments_lexer": "ipython3",
   "version": "3.8.3"
  }
 },
 "nbformat": 4,
 "nbformat_minor": 4
}

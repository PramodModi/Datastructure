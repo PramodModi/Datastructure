{
 "cells": [
  {
   "cell_type": "markdown",
   "metadata": {},
   "source": [
    "## 139. Word Break\n",
    "https://leetcode.com/problems/word-break/\n",
    "\n",
    "Given a string s and a dictionary of strings wordDict, return true if s can be segmented into a space-separated sequence of one or more dictionary words.\n",
    "\n",
    "Note that the same word in the dictionary may be reused multiple times in the segmentation.\n",
    "\n",
    " \n",
    "\n",
    "Example 1:\n",
    "\n",
    "Input: s = \"leetcode\", wordDict = [\"leet\",\"code\"]\n",
    "\n",
    "Output: true\n",
    "\n",
    "Explanation: Return true because \"leetcode\" can be segmented as \"leet code\".\n",
    "\n",
    "Example 2:\n",
    "\n",
    "Input: s = \"applepenapple\", wordDict = [\"apple\",\"pen\"]\n",
    "\n",
    "Output: true\n",
    "\n",
    "Explanation: Return true because \"applepenapple\" can be segmented as \"apple pen apple\".\n",
    "\n",
    "Note that you are allowed to reuse a dictionary word.\n",
    "\n",
    "Example 3:\n",
    "\n",
    "Input: s = \"catsandog\", wordDict = [\"cats\",\"dog\",\"sand\",\"and\",\"cat\"]\n",
    "\n",
    "Output: false\n",
    " \n",
    "\n",
    "Constraints:\n",
    "\n",
    "1 <= s.length <= 300\n",
    "\n",
    "1 <= wordDict.length <= 1000\n",
    "\n",
    "1 <= wordDict[i].length <= 20\n",
    "\n",
    "s and wordDict[i] consist of only lowercase English letters.\n",
    "\n",
    "All the strings of wordDict are unique."
   ]
  },
  {
   "cell_type": "code",
   "execution_count": 82,
   "metadata": {},
   "outputs": [],
   "source": [
    "## O(N*N + T)  T = time of building Trie\n",
    "class Trie:\n",
    "    def __init__(self):\n",
    "        self.root = {}\n",
    "        self.end = \"*\"\n",
    "    def addWord(self, word):\n",
    "        currentRoot = self.root\n",
    "        for w in word:\n",
    "            if w not in currentRoot:\n",
    "                currentRoot[w] = {}\n",
    "            currentRoot = currentRoot[w]\n",
    "        currentRoot[self.end] = word\n",
    "        \n",
    "def wordBreak1(s, wordDict):\n",
    "    trie = Trie()\n",
    "    for word in wordDict:\n",
    "        trie.addWord(word)\n",
    "    \n",
    "    n = len(s)\n",
    "    dp = [False] * (n + 1)\n",
    "    dp[n] = True\n",
    "    \n",
    "    for i in range(n-1, -1, -1):\n",
    "        root = trie.root\n",
    "        for j in range(i+1, n+1):\n",
    "            c = s[j-1]\n",
    "            if c not in root:\n",
    "                break\n",
    "            root = root[c]\n",
    "            if dp[j] and \"*\" in root:\n",
    "                dp[i] = True\n",
    "                break        \n",
    "    return dp[0]"
   ]
  },
  {
   "cell_type": "code",
   "execution_count": 83,
   "metadata": {},
   "outputs": [
    {
     "data": {
      "text/plain": [
       "True"
      ]
     },
     "execution_count": 83,
     "metadata": {},
     "output_type": "execute_result"
    }
   ],
   "source": [
    "s = \"leetcode\"\n",
    "wordDict = [\"leet\", \"code\"]\n",
    "wordBreak1(s, wordDict)"
   ]
  },
  {
   "cell_type": "code",
   "execution_count": 84,
   "metadata": {},
   "outputs": [
    {
     "data": {
      "text/plain": [
       "True"
      ]
     },
     "execution_count": 84,
     "metadata": {},
     "output_type": "execute_result"
    }
   ],
   "source": [
    "s = \"aaaaaaa\"\n",
    "wordDict = [\"aaaa\", \"aaa\"]\n",
    "wordBreak1(s, wordDict)"
   ]
  },
  {
   "cell_type": "code",
   "execution_count": null,
   "metadata": {},
   "outputs": [],
   "source": [
    "## Without using Trie . O(N*M*M)  Where M : Legth of characters of all words in dictionary.\n",
    "def wordBreak(s, wordDict):\n",
    "    dp = [False] * (len(s) + 1)\n",
    "        dp[0] = True\n",
    "        for i in range (1,len(s)+1):\n",
    "            for word in wordDict:\n",
    "                if dp[i - len(word)] and s[i-len(word):i] == word:\n",
    "                    dp[i] = True\n",
    "        return dp[-1]"
   ]
  },
  {
   "cell_type": "code",
   "execution_count": 61,
   "metadata": {},
   "outputs": [
    {
     "name": "stdout",
     "output_type": "stream",
     "text": [
      "endIndex =  4\n",
      "leet\n",
      " l ===  1\n",
      "[True, False, False, False, True, False, False, False, False]\n",
      "endIndex =  8\n",
      "code\n",
      "endIndex =  8\n",
      "code\n",
      " l ===  5\n",
      "[True, False, False, False, True, False, False, False, True]\n"
     ]
    },
    {
     "data": {
      "text/plain": [
       "True"
      ]
     },
     "execution_count": 61,
     "metadata": {},
     "output_type": "execute_result"
    }
   ],
   "source": [
    "s = \"leetcode\"\n",
    "wordDict = [\"leet\", \"code\"]\n",
    "wordBreak(s, wordDict)"
   ]
  },
  {
   "cell_type": "code",
   "execution_count": 62,
   "metadata": {},
   "outputs": [
    {
     "name": "stdout",
     "output_type": "stream",
     "text": [
      "endIndex =  4\n",
      "aaaa\n",
      " l ===  1\n",
      "[True, False, False, False, True, False, False, False]\n",
      "endIndex =  8\n",
      "aaa\n",
      "endIndex =  7\n",
      "aaa\n",
      " l ===  5\n",
      "[True, False, False, False, True, False, False, True]\n"
     ]
    },
    {
     "data": {
      "text/plain": [
       "True"
      ]
     },
     "execution_count": 62,
     "metadata": {},
     "output_type": "execute_result"
    }
   ],
   "source": [
    "s = \"aaaaaaa\"\n",
    "wordDict = [\"aaaa\", \"aaa\"]\n",
    "wordBreak(s, wordDict)"
   ]
  },
  {
   "cell_type": "code",
   "execution_count": null,
   "metadata": {},
   "outputs": [],
   "source": []
  }
 ],
 "metadata": {
  "kernelspec": {
   "display_name": "Python 3",
   "language": "python",
   "name": "python3"
  },
  "language_info": {
   "codemirror_mode": {
    "name": "ipython",
    "version": 3
   },
   "file_extension": ".py",
   "mimetype": "text/x-python",
   "name": "python",
   "nbconvert_exporter": "python",
   "pygments_lexer": "ipython3",
   "version": "3.8.3"
  }
 },
 "nbformat": 4,
 "nbformat_minor": 4
}

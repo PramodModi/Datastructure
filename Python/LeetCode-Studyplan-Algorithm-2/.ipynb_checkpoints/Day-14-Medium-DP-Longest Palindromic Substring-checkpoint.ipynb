{
 "cells": [
  {
   "cell_type": "markdown",
   "metadata": {},
   "source": [
    "## Problem: 5. Longest Palindromic Substring\n",
    "https://leetcode.com/problems/longest-palindromic-substring/\n",
    "\n",
    "Given a string s, return the longest palindromic substring in s.\n",
    "\n",
    "A string is called a palindrome string if the reverse of that string is the same as the original string.\n",
    "\n",
    " \n",
    "\n",
    "Example 1:\n",
    "\n",
    "Input: s = \"babad\"\n",
    "\n",
    "Output: \"bab\"\n",
    "\n",
    "Explanation: \"aba\" is also a valid answer.\n",
    "\n",
    "Example 2:\n",
    "\n",
    "Input: s = \"cbbd\"\n",
    "\n",
    "Output: \"bb\"\n",
    " \n",
    "\n",
    "Constraints:\n",
    "\n",
    "1 <= s.length <= 1000\n",
    "\n",
    "s consist of only digits and English letters."
   ]
  },
  {
   "cell_type": "code",
   "execution_count": null,
   "metadata": {},
   "outputs": [],
   "source": [
    "def longestPalindrome(s):\n",
    "    if len(s) == 1:\n",
    "        return s\n",
    "\n",
    "    maxLengthIndices = [0,1]\n",
    "    for i in range(1, len(s)):\n",
    "        oddLength = checkPalindrome(s, i-1, i+1)\n",
    "        evenLength = checkPalindrome(s, i-1, i)\n",
    "        maxL = max(oddLength, evenLength, key = lambda x: x[1]-x[0])\n",
    "        maxLengthIndices = max(maxLengthIndices, maxL, key = lambda x: x[1]-x[0] )\n",
    "    return s[maxLengthIndices[0]:maxLengthIndices[1]]\n",
    "\n",
    "def checkPalindrome(s, left, right):\n",
    "    while left>=0 and right<len(s):\n",
    "        if s[left] != s[right]:\n",
    "            break\n",
    "        left -= 1\n",
    "        right += 1\n",
    "    return [left, right+1]"
   ]
  }
 ],
 "metadata": {
  "kernelspec": {
   "display_name": "Python 3",
   "language": "python",
   "name": "python3"
  },
  "language_info": {
   "codemirror_mode": {
    "name": "ipython",
    "version": 3
   },
   "file_extension": ".py",
   "mimetype": "text/x-python",
   "name": "python",
   "nbconvert_exporter": "python",
   "pygments_lexer": "ipython3",
   "version": "3.8.3"
  }
 },
 "nbformat": 4,
 "nbformat_minor": 4
}

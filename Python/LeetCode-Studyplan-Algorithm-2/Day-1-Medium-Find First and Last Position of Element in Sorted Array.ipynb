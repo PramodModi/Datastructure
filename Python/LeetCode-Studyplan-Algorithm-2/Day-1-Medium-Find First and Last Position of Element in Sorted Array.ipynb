{
 "cells": [
  {
   "cell_type": "markdown",
   "metadata": {},
   "source": [
    "## 34. Find First and Last Position of Element in Sorted Array\n",
    "\n",
    "https://leetcode.com/problems/find-first-and-last-position-of-element-in-sorted-array/?envType=study-plan&id=algorithm-ii\n",
    "\n",
    "Given an array of integers nums sorted in non-decreasing order, find the starting and ending position of a given target value.\n",
    "\n",
    "If target is not found in the array, return [-1, -1].\n",
    "\n",
    "You must write an algorithm with O(log n) runtime complexity.\n",
    "\n",
    " \n",
    "\n",
    "Example 1:\n",
    "\n",
    "Input: nums = [5,7,7,8,8,10], target = 8\n",
    "\n",
    "Output: [3,4]\n",
    "\n",
    "Example 2:\n",
    "\n",
    "Input: nums = [5,7,7,8,8,10], target = 6\n",
    "\n",
    "Output: [-1,-1]\n",
    "\n",
    "Example 3:\n",
    "\n",
    "Input: nums = [], target = 0\n",
    "\n",
    "Output: [-1,-1]\n",
    " \n",
    "\n",
    "Constraints:\n",
    "\n",
    "0 <= nums.length <= 105\n",
    "\n",
    "-109 <= nums[i] <= 109\n",
    "\n",
    "nums is a non-decreasing array.\n",
    "\n",
    "-109 <= target <= 109"
   ]
  },
  {
   "cell_type": "code",
   "execution_count": 1,
   "metadata": {},
   "outputs": [],
   "source": [
    " def searchRange(nums,target):\n",
    "        \n",
    "        left = 0\n",
    "        right = len(nums)-1\n",
    "        targetIndex = -1\n",
    "        while left<=right:\n",
    "            mid = (left + right)//2\n",
    "            if target < nums[mid]:\n",
    "                right = mid-1\n",
    "            elif target> nums[mid]:\n",
    "                left = mid+1\n",
    "            else:\n",
    "                targetIndex = mid\n",
    "                break\n",
    "        if targetIndex == -1:\n",
    "            return [-1,-1]\n",
    "        \n",
    "        leftTargetIndex = targetIndex\n",
    "        rightTargetIndex = targetIndex\n",
    "        \n",
    "        while leftTargetIndex>= 0:\n",
    "            if nums[leftTargetIndex] != target:\n",
    "                 break\n",
    "            leftTargetIndex -= 1\n",
    "        \n",
    "        rightTargetIndex = targetIndex\n",
    "        while rightTargetIndex < len(nums):\n",
    "            if nums[rightTargetIndex] != target:\n",
    "                break\n",
    "            rightTargetIndex +=1\n",
    "        \n",
    "        return [leftTargetIndex+1, rightTargetIndex-1]"
   ]
  },
  {
   "cell_type": "code",
   "execution_count": 2,
   "metadata": {},
   "outputs": [
    {
     "data": {
      "text/plain": [
       "[3, 4]"
      ]
     },
     "execution_count": 2,
     "metadata": {},
     "output_type": "execute_result"
    }
   ],
   "source": [
    "nums = [5,7,7,8,8,10]\n",
    "target = 8\n",
    "searchRange(nums,target)"
   ]
  },
  {
   "cell_type": "code",
   "execution_count": 3,
   "metadata": {},
   "outputs": [
    {
     "data": {
      "text/plain": [
       "[-1, -1]"
      ]
     },
     "execution_count": 3,
     "metadata": {},
     "output_type": "execute_result"
    }
   ],
   "source": [
    "nums = [5,7,7,8,8,10]\n",
    "target = 6\n",
    "searchRange(nums,target)"
   ]
  },
  {
   "cell_type": "code",
   "execution_count": null,
   "metadata": {},
   "outputs": [],
   "source": []
  }
 ],
 "metadata": {
  "kernelspec": {
   "display_name": "Python 3",
   "language": "python",
   "name": "python3"
  },
  "language_info": {
   "codemirror_mode": {
    "name": "ipython",
    "version": 3
   },
   "file_extension": ".py",
   "mimetype": "text/x-python",
   "name": "python",
   "nbconvert_exporter": "python",
   "pygments_lexer": "ipython3",
   "version": "3.8.3"
  }
 },
 "nbformat": 4,
 "nbformat_minor": 4
}

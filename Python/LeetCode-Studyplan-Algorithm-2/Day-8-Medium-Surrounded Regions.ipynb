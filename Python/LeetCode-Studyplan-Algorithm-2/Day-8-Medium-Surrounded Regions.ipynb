{
 "cells": [
  {
   "cell_type": "markdown",
   "metadata": {},
   "source": [
    "## Problem: 130. Surrounded Regions\n",
    "https://leetcode.com/problems/surrounded-regions/?envType=study-plan&id=algorithm-ii\n",
    "\n",
    "Given an m x n matrix board containing 'X' and 'O', capture all regions that are 4-directionally surrounded by 'X'.\n",
    "\n",
    "A region is captured by flipping all 'O's into 'X's in that surrounded region.\n",
    "\n",
    " \n",
    "\n",
    "Example 1:\n",
    "Please look at image provided in Leetcode for better understanding.\n",
    "\n",
    "Input: board = [[\"X\",\"X\",\"X\",\"X\"],[\"X\",\"O\",\"O\",\"X\"],[\"X\",\"X\",\"O\",\"X\"],[\"X\",\"O\",\"X\",\"X\"]]\n",
    "\n",
    "Output: [[\"X\",\"X\",\"X\",\"X\"],[\"X\",\"X\",\"X\",\"X\"],[\"X\",\"X\",\"X\",\"X\"],[\"X\",\"O\",\"X\",\"X\"]]\n",
    "\n",
    "Explanation: Notice that an 'O' should not be flipped if:\n",
    "\n",
    "- It is on the border, or\n",
    "\n",
    "- It is adjacent to an 'O' that should not be flipped.\n",
    "\n",
    "The bottom 'O' is on the border, so it is not flipped.\n",
    "The other three 'O' form a surrounded region, so they are flipped.\n",
    "\n",
    "Example 2:\n",
    "\n",
    "Input: board = [[\"X\"]]\n",
    "\n",
    "Output: [[\"X\"]]\n",
    " \n",
    "\n",
    "Constraints:\n",
    "\n",
    "m == board.length\n",
    "\n",
    "n == board[i].length\n",
    "\n",
    "1 <= m, n <= 200\n",
    "\n",
    "board[i][j] is 'X' or 'O'."
   ]
  },
  {
   "cell_type": "code",
   "execution_count": 8,
   "metadata": {},
   "outputs": [],
   "source": [
    "def solve(board):\n",
    "    m = len(board)\n",
    "    for i in range(m):\n",
    "        for j in range(len(board[i])):\n",
    "            borderRow = i == 0 or i == len(board)-1\n",
    "            borderCol = j == 0 or j == len(board[i])-1\n",
    "            \n",
    "            if not (borderRow or borderCol):\n",
    "                continue\n",
    "            if board[i][j] != \"O\":\n",
    "                continue\n",
    "            changeZeroToTwo(i, j, board)\n",
    "    \n",
    "    for i in range(m):\n",
    "        for j in range(len(board[i])):\n",
    "            if board[i][j] == \"2\":\n",
    "                board[i][j] = \"O\"\n",
    "            else:\n",
    "                board[i][j] = \"X\"\n",
    "    return board\n",
    "def changeZeroToTwo(row, col, board):\n",
    "    stack = [(row, col)]\n",
    "    \n",
    "    while stack:\n",
    "        r, c = stack.pop()\n",
    "        board[r][c] = \"2\"\n",
    "        nebrs = getNebrs(r,c,board)\n",
    "        for nr, nc in nebrs:\n",
    "            if board[nr][nc] != \"O\":\n",
    "                continue\n",
    "            stack.append((nr,nc))\n",
    "def getNebrs(r,c,board):\n",
    "    stack = []\n",
    "    if r > 0:\n",
    "        stack.append((r-1, c))\n",
    "    if r < len(board)-1:\n",
    "        stack.append((r+1, c))\n",
    "    if c > 0:\n",
    "        stack.append((r, c-1))\n",
    "    if c < len(board[r]) - 1:\n",
    "        stack.append((r, c+1))\n",
    "    return stack\n",
    "        \n",
    "            "
   ]
  },
  {
   "cell_type": "code",
   "execution_count": 10,
   "metadata": {},
   "outputs": [
    {
     "data": {
      "text/plain": [
       "[['X', 'X', 'X', 'X'],\n",
       " ['X', 'X', 'X', 'X'],\n",
       " ['X', 'X', 'X', 'X'],\n",
       " ['X', 'O', 'X', 'X']]"
      ]
     },
     "execution_count": 10,
     "metadata": {},
     "output_type": "execute_result"
    }
   ],
   "source": [
    "board = [[\"X\",\"X\",\"X\",\"X\"],[\"X\",\"O\",\"O\",\"X\"],[\"X\",\"X\",\"O\",\"X\"],[\"X\",\"O\",\"X\",\"X\"]]\n",
    "solve(board)"
   ]
  },
  {
   "cell_type": "code",
   "execution_count": 11,
   "metadata": {},
   "outputs": [
    {
     "data": {
      "text/plain": [
       "[['X']]"
      ]
     },
     "execution_count": 11,
     "metadata": {},
     "output_type": "execute_result"
    }
   ],
   "source": [
    "board = [[\"X\"]]\n",
    "solve(board)"
   ]
  },
  {
   "cell_type": "code",
   "execution_count": null,
   "metadata": {},
   "outputs": [],
   "source": []
  }
 ],
 "metadata": {
  "kernelspec": {
   "display_name": "Python 3",
   "language": "python",
   "name": "python3"
  },
  "language_info": {
   "codemirror_mode": {
    "name": "ipython",
    "version": 3
   },
   "file_extension": ".py",
   "mimetype": "text/x-python",
   "name": "python",
   "nbconvert_exporter": "python",
   "pygments_lexer": "ipython3",
   "version": "3.8.3"
  }
 },
 "nbformat": 4,
 "nbformat_minor": 4
}

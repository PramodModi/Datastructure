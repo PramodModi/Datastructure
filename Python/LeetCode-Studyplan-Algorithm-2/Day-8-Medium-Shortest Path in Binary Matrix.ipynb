{
 "cells": [
  {
   "cell_type": "markdown",
   "metadata": {},
   "source": [
    "## Problem: 1091. Shortest Path in Binary Matrix\n",
    "\n",
    "https://leetcode.com/problems/shortest-path-in-binary-matrix/?envType=study-plan&id=algorithm-ii\n",
    "\n",
    "Given an n x n binary matrix grid, return the length of the shortest clear path in the matrix. If there is no clear path, return -1.\n",
    "\n",
    "A clear path in a binary matrix is a path from the top-left cell (i.e., (0, 0)) to the bottom-right cell (i.e., (n - 1, n - 1)) such that:\n",
    "\n",
    "All the visited cells of the path are 0.\n",
    "All the adjacent cells of the path are 8-directionally connected (i.e., they are different and they share an edge or a corner).\n",
    "The length of a clear path is the number of visited cells of this path.\n",
    "\n",
    " \n",
    "\n",
    "Example 1:\n",
    "Please look at the image at Leetcode for better understanding.\n",
    "\n",
    "Input: grid = [[0,1],[1,0]]\n",
    "\n",
    "Output: 2\n",
    "\n",
    "Example 2:\n",
    "Please look at the image at Leetcode for better understanding.\n",
    "\n",
    "Input: grid = [[0,0,0],[1,1,0],[1,1,0]]\n",
    "\n",
    "Output: 4\n",
    "\n",
    "Example 3:\n",
    "\n",
    "Input: grid = [[1,0,0],[1,1,0],[1,1,0]]\n",
    "\n",
    "Output: -1\n",
    " \n",
    "\n",
    "Constraints:\n",
    "\n",
    "n == grid.length\n",
    "\n",
    "n == grid[i].length\n",
    "\n",
    "1 <= n <= 100\n",
    "\n",
    "grid[i][j] is 0 or 1"
   ]
  },
  {
   "cell_type": "code",
   "execution_count": 46,
   "metadata": {},
   "outputs": [],
   "source": [
    "from collections import deque\n",
    "def shortestPathBinaryMatrix(grid):\n",
    "    m = len(grid)\n",
    "    if grid[0][0] != 0 or grid[m-1][m-1] != 0:\n",
    "        return -1\n",
    "    count  = 1\n",
    "    \n",
    "    q = deque()\n",
    "    q.append((0,0))\n",
    "    grid[0][0] = 2\n",
    "    while q:\n",
    "        n = len(q)\n",
    "        while(n):\n",
    "            r,c = q.popleft()\n",
    "            if r == m-1 and c == m-1:\n",
    "                return count\n",
    "            nebrs = getNebrs(r,c,grid)\n",
    "            for nr, nc in nebrs:\n",
    "                if grid[nr][nc] == 0:\n",
    "                    q.append((nr,nc))\n",
    "                    grid[nr][nc] = 2\n",
    "            n -= 1\n",
    "        count += 1\n",
    "    \n",
    "    return -1\n",
    "\n",
    "# def getNebrs(r,c,grid):\n",
    "#     q = deque()\n",
    "#     if r < len(grid) - 1 and c < len(grid[r])-1:\n",
    "#         q.append((r+1, c+1))\n",
    "#     if r < len(grid)-1:\n",
    "#         q.append((r+1, c))\n",
    "#     if c < len(grid[r]) - 1:\n",
    "#         q.append((r, c+1))\n",
    "#     if r > 0 and c < len(grid[r])-1:\n",
    "#         q.append((r-1, c+1))\n",
    "#     if c > 0:\n",
    "#         q.append((r, c-1))\n",
    "#     if r > 0:\n",
    "#         q.append((r-1, c))\n",
    "#     if c > 0 and r < len(grid)-1:\n",
    "#         q.append((r+1, c-1))\n",
    "#     if r > 0 and c>0:\n",
    "#         q.append((r-1, c-1))\n",
    "        \n",
    "#     return q\n",
    "\n",
    "def getNebrs(r,c,grid):\n",
    "    stack  = []\n",
    "    if r < len(grid) - 1 and c < len(grid[r])-1:\n",
    "        stack.append((r+1, c+1))\n",
    "    \n",
    "    if r > 0 and c < len(grid[r])-1:\n",
    "        stack.append((r-1, c+1))\n",
    "     \n",
    "    if c > 0 and r < len(grid)-1:\n",
    "        stack.append((r+1, c-1))\n",
    "        \n",
    "    if r < len(grid)-1:\n",
    "        stack.append((r+1, c))\n",
    "    \n",
    "    if c < len(grid[r]) - 1:\n",
    "        stack.append((r, c+1))\n",
    "    \n",
    "    if c > 0:\n",
    "        stack.append((r, c-1))\n",
    "    if r > 0:\n",
    "        stack.append((r-1, c))\n",
    "    \n",
    "    if r > 0 and c>0:\n",
    "        stack.append((r-1, c-1))\n",
    "        \n",
    "    return stack\n",
    "        \n",
    "        \n",
    "        \n",
    "        "
   ]
  },
  {
   "cell_type": "code",
   "execution_count": 47,
   "metadata": {},
   "outputs": [
    {
     "data": {
      "text/plain": [
       "2"
      ]
     },
     "execution_count": 47,
     "metadata": {},
     "output_type": "execute_result"
    }
   ],
   "source": [
    "grid = [[0,1],[1,0]]\n",
    "shortestPathBinaryMatrix(grid)"
   ]
  },
  {
   "cell_type": "code",
   "execution_count": 48,
   "metadata": {},
   "outputs": [
    {
     "data": {
      "text/plain": [
       "-1"
      ]
     },
     "execution_count": 48,
     "metadata": {},
     "output_type": "execute_result"
    }
   ],
   "source": [
    "grid = [[1,0,0],[1,1,0],[1,1,0]]\n",
    "shortestPathBinaryMatrix(grid)"
   ]
  },
  {
   "cell_type": "code",
   "execution_count": 49,
   "metadata": {},
   "outputs": [
    {
     "data": {
      "text/plain": [
       "4"
      ]
     },
     "execution_count": 49,
     "metadata": {},
     "output_type": "execute_result"
    }
   ],
   "source": [
    "grid = [[0,0,0],[1,1,0],[1,1,0]]\n",
    "shortestPathBinaryMatrix(grid)"
   ]
  },
  {
   "cell_type": "code",
   "execution_count": null,
   "metadata": {},
   "outputs": [],
   "source": []
  }
 ],
 "metadata": {
  "kernelspec": {
   "display_name": "Python 3",
   "language": "python",
   "name": "python3"
  },
  "language_info": {
   "codemirror_mode": {
    "name": "ipython",
    "version": 3
   },
   "file_extension": ".py",
   "mimetype": "text/x-python",
   "name": "python",
   "nbconvert_exporter": "python",
   "pygments_lexer": "ipython3",
   "version": "3.8.3"
  }
 },
 "nbformat": 4,
 "nbformat_minor": 4
}

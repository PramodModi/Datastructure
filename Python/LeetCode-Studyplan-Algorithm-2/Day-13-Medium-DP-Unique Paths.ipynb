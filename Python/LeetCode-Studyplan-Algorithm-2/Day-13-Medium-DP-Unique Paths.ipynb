{
 "cells": [
  {
   "cell_type": "markdown",
   "metadata": {},
   "source": [
    "## Problem: 62. Unique Paths\n",
    "\n",
    "https://leetcode.com/problems/unique-paths/\n",
    "\n",
    "There is a robot on an m x n grid. The robot is initially located at the top-left corner (i.e., grid[0][0]). The robot tries to move to the bottom-right corner (i.e., grid[m - 1][n - 1]). The robot can only move either down or right at any point in time.\n",
    "\n",
    "Given the two integers m and n, return the number of possible unique paths that the robot can take to reach the bottom-right corner.\n",
    "\n",
    "The test cases are generated so that the answer will be less than or equal to 2 * 109.\n",
    "\n",
    " \n",
    "\n",
    "Example 1:\n",
    "Look at the image at Leetcode for better understanding.\n",
    "\n",
    "Input: m = 3, n = 7\n",
    "\n",
    "Output: 28\n",
    "\n",
    "Example 2:\n",
    "\n",
    "Input: m = 3, n = 2\n",
    "\n",
    "Output: 3\n",
    "\n",
    "Explanation: From the top-left corner, there are a total of 3 ways to reach the bottom-right corner:\n",
    "\n",
    "1. Right -> Down -> Down\n",
    "\n",
    "2. Down -> Down -> Right\n",
    "\n",
    "3. Down -> Right -> Down\n",
    " \n",
    "\n",
    "Constraints:\n",
    "\n",
    "1 <= m, n <= 100"
   ]
  },
  {
   "cell_type": "code",
   "execution_count": 9,
   "metadata": {},
   "outputs": [],
   "source": [
    "def uniquePaths(m, n):\n",
    "    dp = [[1]*(n) for _ in range(m)]\n",
    "\n",
    "    for i in range(1,m):\n",
    "        for j in range(1,n):\n",
    "            dp[i][j] = dp[i-1][j] + dp[i][j-1]\n",
    "    return dp[-1][-1]"
   ]
  },
  {
   "cell_type": "code",
   "execution_count": 10,
   "metadata": {},
   "outputs": [
    {
     "data": {
      "text/plain": [
       "28"
      ]
     },
     "execution_count": 10,
     "metadata": {},
     "output_type": "execute_result"
    }
   ],
   "source": [
    "m =3\n",
    "n = 7\n",
    "uniquePaths(m, n)"
   ]
  },
  {
   "cell_type": "code",
   "execution_count": 11,
   "metadata": {},
   "outputs": [
    {
     "data": {
      "text/plain": [
       "3"
      ]
     },
     "execution_count": 11,
     "metadata": {},
     "output_type": "execute_result"
    }
   ],
   "source": [
    "m =3\n",
    "n = 2\n",
    "uniquePaths(m, n)"
   ]
  },
  {
   "cell_type": "code",
   "execution_count": null,
   "metadata": {},
   "outputs": [],
   "source": []
  }
 ],
 "metadata": {
  "kernelspec": {
   "display_name": "Python 3",
   "language": "python",
   "name": "python3"
  },
  "language_info": {
   "codemirror_mode": {
    "name": "ipython",
    "version": 3
   },
   "file_extension": ".py",
   "mimetype": "text/x-python",
   "name": "python",
   "nbconvert_exporter": "python",
   "pygments_lexer": "ipython3",
   "version": "3.8.3"
  }
 },
 "nbformat": 4,
 "nbformat_minor": 4
}

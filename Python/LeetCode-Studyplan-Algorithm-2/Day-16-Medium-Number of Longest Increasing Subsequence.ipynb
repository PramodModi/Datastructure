{
 "cells": [
  {
   "cell_type": "markdown",
   "metadata": {},
   "source": [
    "## Problem: Leetcode 673. Number of Longest Increasing Subsequence\n",
    "\n",
    "Given an integer array nums, return the number of longest increasing subsequences.\n",
    "\n",
    "Notice that the sequence has to be strictly increasing.\n",
    "\n",
    " \n",
    "\n",
    "Example 1:\n",
    "\n",
    "Input: nums = [1,3,5,4,7]\n",
    "\n",
    "Output: 2\n",
    "\n",
    "Explanation: The two longest increasing subsequences are [1, 3, 4, 7] and [1, 3, 5, 7].\n",
    "\n",
    "Example 2:\n",
    "\n",
    "Input: nums = [2,2,2,2,2]\n",
    "\n",
    "Output: 5\n",
    "\n",
    "Explanation: The length of the longest increasing subsequence is 1, and there are 5 increasing subsequences of length 1, so output 5.\n",
    " \n",
    "\n",
    "Constraints:\n",
    "\n",
    "1 <= nums.length <= 2000\n",
    "\n",
    "-106 <= nums[i] <= 106"
   ]
  },
  {
   "cell_type": "markdown",
   "metadata": {},
   "source": [
    "### Approach: Made video for better understanding"
   ]
  },
  {
   "cell_type": "code",
   "execution_count": 5,
   "metadata": {},
   "outputs": [],
   "source": [
    "def findNumberOfLIS(nums):\n",
    "        sub_list= []\n",
    "        for n in nums:\n",
    "            if len(sub_list) == 0:\n",
    "                sub_list.append([(n, 1)])\n",
    "            elif sub_list[-1][-1][0] < n:\n",
    "                lastArray = [x[0] for x in sub_list[-1]]\n",
    "                pos = findSmaller(lastArray, n) # get the index of greatest number < n\n",
    "                count = sub_list[-1][-1][1] - sub_list[-1][pos-1][1] if pos > 0 else sub_list[-1][-1][1]\n",
    "                sub_list.append([(n, count)])\n",
    "            else:\n",
    "                sub_array = [array[-1][0] for array in sub_list]\n",
    "                idx = findIndex(sub_array, n) # find the index of array, having smallest number > n\n",
    "                count  = 1\n",
    "                if idx > 0:\n",
    "                    # get the position of n in previous array (array at idx-1)\n",
    "                    lastArray = [x[0] for x in sub_list[idx-1]]\n",
    "                    pos = findSmaller(lastArray, n) # get the index of greatest number < n\n",
    "                    count = sub_list[idx-1][-1][1] - sub_list[idx-1][pos-1][1] if pos > 0 else sub_list[idx-1][-1][-1]\n",
    "                sub_list[idx].append((n, count + sub_list[idx][-1][1] if len(sub_list[idx])>0 else count))  \n",
    "        return sub_list[-1][-1][1]\n",
    "\n",
    "def findSmaller(array, n):\n",
    "    startIndex = 0\n",
    "    endIndex = len(array)-1\n",
    "    while startIndex < endIndex:\n",
    "        mid = startIndex + (endIndex-startIndex)//2\n",
    "        if array[mid] < n:\n",
    "            endIndex = mid\n",
    "        else:\n",
    "            startIndex = mid+1\n",
    "    return startIndex\n",
    "\n",
    "def findIndex(array, n):\n",
    "    startIndex = 0\n",
    "    endIndex = len(array)-1\n",
    "    while startIndex < endIndex:\n",
    "        mid = startIndex + (endIndex-startIndex)//2\n",
    "        if array[mid] >= n:\n",
    "            endIndex = mid\n",
    "        else:\n",
    "            startIndex = mid+1\n",
    "    return startIndex\n",
    "\n"
   ]
  },
  {
   "cell_type": "code",
   "execution_count": 6,
   "metadata": {},
   "outputs": [
    {
     "data": {
      "text/plain": [
       "2"
      ]
     },
     "execution_count": 6,
     "metadata": {},
     "output_type": "execute_result"
    }
   ],
   "source": [
    "nums = [1,3,5,4,7]\n",
    "findNumberOfLIS(nums)"
   ]
  },
  {
   "cell_type": "code",
   "execution_count": null,
   "metadata": {},
   "outputs": [],
   "source": []
  }
 ],
 "metadata": {
  "kernelspec": {
   "display_name": "Python 3",
   "language": "python",
   "name": "python3"
  },
  "language_info": {
   "codemirror_mode": {
    "name": "ipython",
    "version": 3
   },
   "file_extension": ".py",
   "mimetype": "text/x-python",
   "name": "python",
   "nbconvert_exporter": "python",
   "pygments_lexer": "ipython3",
   "version": "3.8.3"
  }
 },
 "nbformat": 4,
 "nbformat_minor": 4
}

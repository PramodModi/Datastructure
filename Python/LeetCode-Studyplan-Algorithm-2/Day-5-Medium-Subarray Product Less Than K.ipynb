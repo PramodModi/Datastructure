{
 "cells": [
  {
   "cell_type": "markdown",
   "metadata": {},
   "source": [
    "## Problem: 713. Subarray Product Less Than K\n",
    "\n",
    "https://leetcode.com/problems/subarray-product-less-than-k/?envType=study-plan&id=algorithm-ii\n",
    "\n",
    "Given an array of integers nums and an integer k, return the number of contiguous subarrays where the product of all the elements in the subarray is strictly less than k.\n",
    "\n",
    "Example 1:\n",
    "\n",
    "Input: nums = [10,5,2,6], k = 100\n",
    "\n",
    "Output: 8\n",
    "\n",
    "Explanation: The 8 subarrays that have product less than 100 are:\n",
    "\n",
    "[10], [5], [2], [6], [10, 5], [5, 2], [2, 6], [5, 2, 6]\n",
    "\n",
    "Note that [10, 5, 2] is not included as the product of 100 is not strictly less than k.\n",
    "\n",
    "Example 2:\n",
    "\n",
    "Input: nums = [1,2,3], k = 0\n",
    "\n",
    "Output: 0\n",
    " \n",
    "\n",
    "Constraints:\n",
    "\n",
    "1 <= nums.length <= 3 * 104\n",
    "\n",
    "1 <= nums[i] <= 1000\n",
    "\n",
    "0 <= k <= 106"
   ]
  },
  {
   "cell_type": "code",
   "execution_count": 1,
   "metadata": {},
   "outputs": [],
   "source": [
    "def numSubarrayProductLessThanK(nums, k):\n",
    "        \n",
    "    left = 0\n",
    "    right = 0\n",
    "    count = 0\n",
    "    p = 1\n",
    "    while right < len(nums):\n",
    "        n = nums[right]\n",
    "        p = p*n\n",
    "        if p <  k :\n",
    "            count += (right - left + 1)\n",
    "        else:\n",
    "            while p >= k and left <= right:\n",
    "                n = nums[left]\n",
    "                p = p//n \n",
    "                left += 1\n",
    "            if p <  k :\n",
    "                count += (right - left + 1)\n",
    "        right += 1\n",
    "\n",
    "    return count"
   ]
  },
  {
   "cell_type": "code",
   "execution_count": 2,
   "metadata": {},
   "outputs": [
    {
     "data": {
      "text/plain": [
       "8"
      ]
     },
     "execution_count": 2,
     "metadata": {},
     "output_type": "execute_result"
    }
   ],
   "source": [
    "nums = [10,5,2,6]\n",
    "k = 100\n",
    "numSubarrayProductLessThanK(nums, k)"
   ]
  },
  {
   "cell_type": "code",
   "execution_count": 3,
   "metadata": {},
   "outputs": [
    {
     "data": {
      "text/plain": [
       "0"
      ]
     },
     "execution_count": 3,
     "metadata": {},
     "output_type": "execute_result"
    }
   ],
   "source": [
    "nums = [1,2,3]\n",
    "k = 0\n",
    "numSubarrayProductLessThanK(nums, k)"
   ]
  },
  {
   "cell_type": "code",
   "execution_count": 4,
   "metadata": {},
   "outputs": [
    {
     "data": {
      "text/plain": [
       "0"
      ]
     },
     "execution_count": 4,
     "metadata": {},
     "output_type": "execute_result"
    }
   ],
   "source": [
    "nums = [1,1,1]\n",
    "k = 1\n",
    "numSubarrayProductLessThanK(nums, k)"
   ]
  },
  {
   "cell_type": "code",
   "execution_count": null,
   "metadata": {},
   "outputs": [],
   "source": []
  }
 ],
 "metadata": {
  "kernelspec": {
   "display_name": "Python 3",
   "language": "python",
   "name": "python3"
  },
  "language_info": {
   "codemirror_mode": {
    "name": "ipython",
    "version": 3
   },
   "file_extension": ".py",
   "mimetype": "text/x-python",
   "name": "python",
   "nbconvert_exporter": "python",
   "pygments_lexer": "ipython3",
   "version": "3.8.3"
  }
 },
 "nbformat": 4,
 "nbformat_minor": 4
}

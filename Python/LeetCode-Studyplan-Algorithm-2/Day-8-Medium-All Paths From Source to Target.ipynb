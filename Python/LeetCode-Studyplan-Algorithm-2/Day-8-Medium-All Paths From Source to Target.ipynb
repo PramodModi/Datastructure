{
 "cells": [
  {
   "cell_type": "markdown",
   "metadata": {},
   "source": [
    "## Problem: 797. All Paths From Source to Target\n",
    "\n",
    "https://leetcode.com/problems/all-paths-from-source-to-target/?envType=study-plan&id=algorithm-ii\n",
    "\n",
    "Given a directed acyclic graph (DAG) of n nodes labeled from 0 to n - 1, find all possible paths from node 0 to node n - 1 and return them in any order.\n",
    "\n",
    "The graph is given as follows: graph[i] is a list of all nodes you can visit from node i (i.e., there is a directed edge from node i to node graph[i][j]).\n",
    "\n",
    " \n",
    "\n",
    "Example 1:\n",
    "\n",
    "\n",
    "Input: graph = [[1,2],[3],[3],[]]\n",
    "\n",
    "Output: [[0,1,3],[0,2,3]]\n",
    "\n",
    "Explanation: There are two paths: 0 -> 1 -> 3 and 0 -> 2 -> 3.\n",
    "\n",
    "Example 2:\n",
    "\n",
    "\n",
    "Input: graph = [[4,3,1],[3,2,4],[3],[4],[]]\n",
    "\n",
    "Output: [[0,4],[0,3,4],[0,1,3,4],[0,1,2,3,4],[0,1,4]]\n",
    " \n",
    "\n",
    "Constraints:\n",
    "\n",
    "n == graph.length\n",
    "\n",
    "2 <= n <= 15\n",
    "\n",
    "0 <= graph[i][j] < n\n",
    "\n",
    "graph[i][j] != i (i.e., there will be no self-loops).\n",
    "\n",
    "All the elements of graph[i] are unique.\n",
    "\n",
    "The input graph is guaranteed to be a DAG."
   ]
  },
  {
   "cell_type": "code",
   "execution_count": 17,
   "metadata": {},
   "outputs": [],
   "source": [
    "def allPathsSourceTarget(graph):\n",
    "    target = len(graph)-1\n",
    "    result = []\n",
    "    temp = []\n",
    "    temp.append(0)\n",
    "    pathToSource(0, result, temp, target, graph)\n",
    "    return result\n",
    "\n",
    "def pathToSource(source, result, temp, target, graph):\n",
    "    if source == target:\n",
    "        result.append(temp[:])\n",
    "    for i in graph[source]:\n",
    "        temp.append(i)\n",
    "        pathToSource(i, result, temp, target, graph)\n",
    "        temp.pop()"
   ]
  },
  {
   "cell_type": "code",
   "execution_count": 18,
   "metadata": {},
   "outputs": [
    {
     "data": {
      "text/plain": [
       "[[0, 1, 3], [0, 2, 3]]"
      ]
     },
     "execution_count": 18,
     "metadata": {},
     "output_type": "execute_result"
    }
   ],
   "source": [
    "graph = [[1,2],[3],[3],[]]\n",
    "allPathsSourceTarget(graph)"
   ]
  },
  {
   "cell_type": "code",
   "execution_count": 19,
   "metadata": {},
   "outputs": [
    {
     "data": {
      "text/plain": [
       "[[0, 4], [0, 3, 4], [0, 1, 3, 4], [0, 1, 2, 3, 4], [0, 1, 4]]"
      ]
     },
     "execution_count": 19,
     "metadata": {},
     "output_type": "execute_result"
    }
   ],
   "source": [
    "graph = [[4,3,1],[3,2,4],[3],[4],[]]\n",
    "allPathsSourceTarget(graph)"
   ]
  },
  {
   "cell_type": "code",
   "execution_count": null,
   "metadata": {},
   "outputs": [],
   "source": []
  }
 ],
 "metadata": {
  "kernelspec": {
   "display_name": "Python 3",
   "language": "python",
   "name": "python3"
  },
  "language_info": {
   "codemirror_mode": {
    "name": "ipython",
    "version": 3
   },
   "file_extension": ".py",
   "mimetype": "text/x-python",
   "name": "python",
   "nbconvert_exporter": "python",
   "pygments_lexer": "ipython3",
   "version": "3.8.3"
  }
 },
 "nbformat": 4,
 "nbformat_minor": 4
}

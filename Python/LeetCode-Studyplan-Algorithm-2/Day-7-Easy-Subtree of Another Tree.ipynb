{
 "cells": [
  {
   "cell_type": "markdown",
   "metadata": {},
   "source": [
    "## Problem: 572. Subtree of Another Tree\n",
    "https://leetcode.com/problems/subtree-of-another-tree/?envType=study-plan&id=algorithm-ii\n",
    "\n",
    "Given the roots of two binary trees root and subRoot, return true if there is a subtree of root with the same structure and node values of subRoot and false otherwise.\n",
    "\n",
    "A subtree of a binary tree tree is a tree that consists of a node in tree and all of this node's descendants. The tree tree could also be considered as a subtree of itself.\n",
    "\n",
    " \n",
    "\n",
    "Example 1:\n",
    "Look at the image in Leetcode for better understanding.\n",
    "\n",
    "Input: root = [3,4,5,1,2], subRoot = [4,1,2]\n",
    "\n",
    "Output: true\n",
    "\n",
    "Example 2:\n",
    "Look at the image in Leetcode for better understanding.\n",
    "\n",
    "Input: root = [3,4,5,1,2,null,null,null,null,0], subRoot = [4,1,2]\n",
    "\n",
    "Output: false\n",
    " \n",
    "\n",
    "Constraints:\n",
    "\n",
    "The number of nodes in the root tree is in the range [1, 2000].\n",
    "\n",
    "The number of nodes in the subRoot tree is in the range [1, 1000].\n",
    "\n",
    "-104 <= root.val <= 104\n",
    "\n",
    "-104 <= subRoot.val <= 104"
   ]
  },
  {
   "cell_type": "code",
   "execution_count": 1,
   "metadata": {},
   "outputs": [],
   "source": [
    "def isSubtree(self, root, subRoot):\n",
    "    # find the subroot in root\n",
    "    q = deque()\n",
    "    q.append(root)\n",
    "    while q:\n",
    "        node = q.popleft()\n",
    "        if node.val == subRoot.val:\n",
    "            # node found, now check if subroot is present. If present return True.\n",
    "            if checkEqual(node, subRoot):\n",
    "                return True\n",
    "        # There may be another node posseses subroot, check for left and right subtree\n",
    "        if node.left:\n",
    "            q.append(node.left)\n",
    "        if node.right:\n",
    "            q.append(node.right)\n",
    "            \n",
    "    return False\n",
    "\n",
    "def checkEqual(leftTree, rightTree):\n",
    "    if leftTree is None and rightTree is None:\n",
    "        return True\n",
    "    if leftTree is None or rightTree is None:\n",
    "        return False\n",
    "    if leftTree.val != rightTree.val:\n",
    "        return False\n",
    "    return checkEqual(leftTree.left, rightTree.left) and checkEqual(leftTree.right, rightTree.right)"
   ]
  },
  {
   "cell_type": "code",
   "execution_count": null,
   "metadata": {},
   "outputs": [],
   "source": []
  }
 ],
 "metadata": {
  "kernelspec": {
   "display_name": "Python 3",
   "language": "python",
   "name": "python3"
  },
  "language_info": {
   "codemirror_mode": {
    "name": "ipython",
    "version": 3
   },
   "file_extension": ".py",
   "mimetype": "text/x-python",
   "name": "python",
   "nbconvert_exporter": "python",
   "pygments_lexer": "ipython3",
   "version": "3.8.3"
  }
 },
 "nbformat": 4,
 "nbformat_minor": 4
}

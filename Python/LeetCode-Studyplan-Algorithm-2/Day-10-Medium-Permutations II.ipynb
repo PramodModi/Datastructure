{
 "cells": [
  {
   "cell_type": "markdown",
   "metadata": {},
   "source": [
    "## Problem: 47. Permutations II\n",
    "\n",
    "https://leetcode.com/problems/permutations-ii/?envType=study-plan&id=algorithm-ii\n",
    "\n",
    "Given a collection of numbers, nums, that might contain duplicates, return all possible unique permutations in any order.\n",
    "\n",
    " \n",
    "\n",
    "Example 1:\n",
    "\n",
    "Input: nums = [1,1,2]\n",
    "\n",
    "Output:\n",
    "[[1,1,2],\n",
    " [1,2,1],\n",
    " [2,1,1]]\n",
    "\n",
    "Example 2:\n",
    "\n",
    "Input: nums = [1,2,3]\n",
    "\n",
    "Output: [[1,2,3],[1,3,2],[2,1,3],[2,3,1],[3,1,2],[3,2,1]]\n",
    " \n",
    "\n",
    "Constraints:\n",
    "\n",
    "1 <= nums.length <= 8\n",
    "\n",
    "-10 <= nums[i] <= 10"
   ]
  },
  {
   "cell_type": "code",
   "execution_count": 19,
   "metadata": {},
   "outputs": [],
   "source": [
    "def permuteUnique2(nums):\n",
    "    uniqueNums = {}\n",
    "    for n in nums:\n",
    "        uniqueNums[n] = uniqueNums.get(n, 0) + 1\n",
    "    result = []\n",
    "    temp = []\n",
    "    helper(uniqueNums, result, temp, len(nums))\n",
    "    return result\n",
    "\n",
    "def helper(uniqueNums, result, temp, N):\n",
    "    if len(temp) == N:\n",
    "        result.append(temp[:])\n",
    "        return\n",
    "    for i in uniqueNums:\n",
    "        if uniqueNums[i]>0:\n",
    "            temp.append(i)\n",
    "            uniqueNums[i] -= 1\n",
    "            helper(uniqueNums, result, temp, N)\n",
    "            temp.pop()\n",
    "            uniqueNums[i] += 1"
   ]
  },
  {
   "cell_type": "code",
   "execution_count": 20,
   "metadata": {},
   "outputs": [
    {
     "data": {
      "text/plain": [
       "[[1, 1, 2], [1, 2, 1], [2, 1, 1]]"
      ]
     },
     "execution_count": 20,
     "metadata": {},
     "output_type": "execute_result"
    }
   ],
   "source": [
    "nums = [1,1,2]\n",
    "permuteUnique2(nums)"
   ]
  },
  {
   "cell_type": "code",
   "execution_count": null,
   "metadata": {},
   "outputs": [],
   "source": []
  }
 ],
 "metadata": {
  "kernelspec": {
   "display_name": "Python 3",
   "language": "python",
   "name": "python3"
  },
  "language_info": {
   "codemirror_mode": {
    "name": "ipython",
    "version": 3
   },
   "file_extension": ".py",
   "mimetype": "text/x-python",
   "name": "python",
   "nbconvert_exporter": "python",
   "pygments_lexer": "ipython3",
   "version": "3.8.3"
  }
 },
 "nbformat": 4,
 "nbformat_minor": 4
}

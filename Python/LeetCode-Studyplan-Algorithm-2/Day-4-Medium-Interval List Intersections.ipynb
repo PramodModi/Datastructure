{
 "cells": [
  {
   "cell_type": "markdown",
   "metadata": {},
   "source": [
    "## 986. Interval List Intersections\n",
    "\n",
    "https://leetcode.com/problems/interval-list-intersections/?envType=study-plan&id=algorithm-ii\n",
    "\n",
    "You are given two lists of closed intervals, firstList and secondList, where firstList[i] = [starti, endi] and secondList[j] = [startj, endj]. Each list of intervals is pairwise disjoint and in sorted order.\n",
    "\n",
    "Return the intersection of these two interval lists.\n",
    "\n",
    "A closed interval [a, b] (with a <= b) denotes the set of real numbers x with a <= x <= b.\n",
    "\n",
    "The intersection of two closed intervals is a set of real numbers that are either empty or represented as a closed interval. For example, the intersection of [1, 3] and [2, 4] is [2, 3].\n",
    "\n",
    " \n",
    "\n",
    "Example 1:\n",
    "\n",
    "\n",
    "Input: firstList = [[0,2],[5,10],[13,23],[24,25]], secondList = [[1,5],[8,12],[15,24],[25,26]]\n",
    "\n",
    "Output: [[1,2],[5,5],[8,10],[15,23],[24,24],[25,25]]\n",
    "\n",
    "Example 2:\n",
    "\n",
    "Input: firstList = [[1,3],[5,9]], secondList = []\n",
    "\n",
    "Output: []\n",
    " \n",
    "\n",
    "Constraints:\n",
    "\n",
    "0 <= firstList.length, secondList.length <= 1000\n",
    "\n",
    "firstList.length + secondList.length >= 1\n",
    "\n",
    "0 <= starti < endi <= 109\n",
    "\n",
    "endi < starti+1\n",
    "\n",
    "0 <= startj < endj <= 109\n",
    "\n",
    "endj < startj+1"
   ]
  },
  {
   "cell_type": "code",
   "execution_count": 2,
   "metadata": {},
   "outputs": [],
   "source": [
    "def intervalIntersection(firstList, secondList):\n",
    "    i = 0\n",
    "    j = 0\n",
    "    result = []\n",
    "    while i < len(firstList) and j < len(secondList):\n",
    "        if firstList[i][1] >= secondList[j][0] and secondList[j][1] >= firstList[i][0]:\n",
    "            left = max(firstList[i][0], secondList[j][0])\n",
    "            right = min(firstList[i][1], secondList[j][1])\n",
    "            result.append([left, right])\n",
    "        if secondList[j][1] < firstList[i][1]:\n",
    "            j += 1\n",
    "        elif firstList[i][1] < secondList[j][1]:\n",
    "            i += 1\n",
    "        else:\n",
    "            j += 1\n",
    "            i += 1\n",
    "        \n",
    "    return result  \n",
    "            "
   ]
  },
  {
   "cell_type": "code",
   "execution_count": 3,
   "metadata": {},
   "outputs": [
    {
     "data": {
      "text/plain": [
       "[[1, 2], [5, 5], [8, 10], [15, 23], [24, 24], [25, 25]]"
      ]
     },
     "execution_count": 3,
     "metadata": {},
     "output_type": "execute_result"
    }
   ],
   "source": [
    "firstList = [[0,2],[5,10],[13,23],[24,25]]\n",
    "secondList = [[1,5],[8,12],[15,24],[25,26]]\n",
    "intervalIntersection(firstList, secondList)"
   ]
  },
  {
   "cell_type": "code",
   "execution_count": 5,
   "metadata": {},
   "outputs": [
    {
     "data": {
      "text/plain": [
       "[]"
      ]
     },
     "execution_count": 5,
     "metadata": {},
     "output_type": "execute_result"
    }
   ],
   "source": [
    "firstList = [[1,3],[5,9]]\n",
    "secondList = []\n",
    "intervalIntersection(firstList, secondList)"
   ]
  },
  {
   "cell_type": "code",
   "execution_count": null,
   "metadata": {},
   "outputs": [],
   "source": []
  }
 ],
 "metadata": {
  "kernelspec": {
   "display_name": "Python 3",
   "language": "python",
   "name": "python3"
  },
  "language_info": {
   "codemirror_mode": {
    "name": "ipython",
    "version": 3
   },
   "file_extension": ".py",
   "mimetype": "text/x-python",
   "name": "python",
   "nbconvert_exporter": "python",
   "pygments_lexer": "ipython3",
   "version": "3.8.3"
  }
 },
 "nbformat": 4,
 "nbformat_minor": 4
}

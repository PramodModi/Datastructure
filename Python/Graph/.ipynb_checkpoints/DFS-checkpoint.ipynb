{
 "cells": [
  {
   "cell_type": "code",
   "execution_count": 38,
   "metadata": {},
   "outputs": [],
   "source": [
    "class Edge:\n",
    "    __slots__ = '_weight', '_origin', '_destination'\n",
    "    def __init__(self, o,d,w):\n",
    "        self._weight = w\n",
    "        self._origin = o\n",
    "        self._destination = d\n",
    "        \n",
    "    def weight(self):\n",
    "        return self._weight\n",
    "    def origin(self):\n",
    "        return self._origin\n",
    "    def destination(self):\n",
    "        return self._destination\n",
    "    \n",
    "    def details(self):\n",
    "        return self._origin, self._destination, self._weight\n",
    "    \n",
    "    "
   ]
  },
  {
   "cell_type": "code",
   "execution_count": 39,
   "metadata": {},
   "outputs": [],
   "source": [
    "class Vertex:\n",
    "    __slots__ = '_node', '_adj', '_indegree'\n",
    "    def __init__(self, node):\n",
    "        self._node = node\n",
    "        self._adj = {}\n",
    "        self._indegree = 0\n",
    "    def vertex(self):\n",
    "        return self._node\n",
    "    def addEdge(self, dest, edge):\n",
    "        self._adj[dest]= edge\n",
    "    def getAdjMap(self):\n",
    "        return self._adj\n",
    "    def increamentIndegree(self):\n",
    "        self._indegree += 1\n",
    "    def getDegree(self):\n",
    "        return self._indegree + len(self._adj)\n",
    "    def getEdgeCount(self):\n",
    "        return len(self._adj);\n",
    "    \n",
    "    "
   ]
  },
  {
   "cell_type": "code",
   "execution_count": 40,
   "metadata": {},
   "outputs": [],
   "source": [
    "class Graph:\n",
    "    def __init__(self, directed = False):\n",
    "        self._directed = directed\n",
    "        self._vertices = {}\n",
    "    \n",
    "    def addVertex(self, vertex):\n",
    "        self._vertices[vertex] = Vertex(vertex)\n",
    "    \n",
    "    def getVertex(self, v):\n",
    "        if v in self._vertices:\n",
    "            return self._vertices[v]\n",
    "        return None\n",
    "    def addEdge(self, origin, destination, weight):\n",
    "        if origin not in self._vertices:\n",
    "            self.addVertex(origin)\n",
    "        if destination not in self._vertices:\n",
    "            self.addVertex(destination)\n",
    "            \n",
    "        self._vertices[origin].addEdge(destination,Edge(origin, destination, weight))\n",
    "        if self._directed == False:\n",
    "            self._vertices[destination].addEdge(origin,Edge(destination, origin,weight))\n",
    "        else:\n",
    "            self._vertices[destination].increamentIndegree()\n",
    "    \n",
    "    def edge_count(self):\n",
    "        edge = 0\n",
    "        for v in self._vertices.values():\n",
    "            edge += v.getEdgeCount()    \n",
    "            \n",
    "        return edge;\n",
    "    \n",
    "    def vertex_count(self):\n",
    "        return len(self._vertices)\n",
    "    \n",
    "    def getDegree(self, v):\n",
    "        if v not in self._vertices:\n",
    "            return None;\n",
    "        degree =  self._vertices[v].getDegree()\n",
    "        if self._directed == False:\n",
    "            degree = degree*2\n",
    "        return degree\n",
    "    \n",
    "    def getEdges(self):\n",
    "        result = set()\n",
    "        for v in self._vertices.values():\n",
    "            edge = v.getAdjMap().values()\n",
    "            if len(edge)>0:\n",
    "                result.update(edge)\n",
    "        return result\n",
    "    \n",
    "    def getVertexEdges(self, vertex):\n",
    "        v = self.getVertex(vertex)\n",
    "        if v is None:\n",
    "            return None\n",
    "        return v.getAdjMap()\n",
    "   \n",
    "    def getVertices(self):\n",
    "        return self._vertices.keys()\n",
    "            \n",
    "    def printEdge(self):\n",
    "        res = self.getEdges()\n",
    "        for e in res:\n",
    "            print(e.details())\n",
    "            print(\"\\n\")\n",
    "            "
   ]
  },
  {
   "cell_type": "code",
   "execution_count": 41,
   "metadata": {},
   "outputs": [],
   "source": [
    "# When source is given\n",
    "def DFS(G, start, result):\n",
    "    edges = G.getVertexEdges(start)\n",
    "    if edges is None:\n",
    "        return\n",
    "    for e in edges.values():\n",
    "        v = e.destination()\n",
    "        if v not in result:\n",
    "            result.append(v)\n",
    "            DFS(G, v, result)\n",
    "\n",
    "# When source is not given\n",
    "def DFS_Graph(G):\n",
    "    result =[]\n",
    "    vertices = G.getVertices()\n",
    "    for v in vertices:\n",
    "        if v not in result:\n",
    "            DFS(G, v, result)\n",
    "            \n",
    "    return result\n",
    "    "
   ]
  },
  {
   "cell_type": "code",
   "execution_count": 42,
   "metadata": {},
   "outputs": [
    {
     "name": "stdout",
     "output_type": "stream",
     "text": [
      "['a', 'b', 'c', 'd', 'e']\n",
      "\n",
      "When source is not provided\n",
      "\n"
     ]
    },
    {
     "data": {
      "text/plain": [
       "['b', 'a', 'c', 'd', 'e']"
      ]
     },
     "execution_count": 42,
     "metadata": {},
     "output_type": "execute_result"
    }
   ],
   "source": [
    "G = Graph() #Undirected Graph\n",
    "G.addVertex('a')\n",
    "G.addVertex('b')\n",
    "G.addVertex('c')\n",
    "G.addVertex('d')\n",
    "G.addVertex('e')\n",
    "G.addEdge('a', 'b', 4)\n",
    "G.addEdge('a', 'c', 1)\n",
    "G.addEdge('c', 'b', 2)\n",
    "G.addEdge('b', 'e', 4)\n",
    "G.addEdge('c', 'd', 4)\n",
    "G.addEdge('d', 'e', 4)\n",
    "\n",
    "# Source is given\n",
    "result = ['a']\n",
    "DFS(G, 'a', result)\n",
    "print(result)\n",
    "\n",
    "#When source is not given\n",
    "print(\"\\nWhen source is not provided\\n\")\n",
    "DFS_Graph(G)\n"
   ]
  },
  {
   "cell_type": "code",
   "execution_count": 43,
   "metadata": {},
   "outputs": [
    {
     "name": "stdout",
     "output_type": "stream",
     "text": [
      "['a', 'b', 'e', 'c', 'd']\n"
     ]
    }
   ],
   "source": [
    "G = Graph(True) #Directed Graph\n",
    "G.addVertex('a')\n",
    "G.addVertex('b')\n",
    "G.addVertex('c')\n",
    "G.addVertex('d')\n",
    "G.addVertex('e')\n",
    "G.addEdge('a', 'b', 4)\n",
    "G.addEdge('a', 'c', 1)\n",
    "G.addEdge('c', 'b', 2)\n",
    "G.addEdge('b', 'e', 4)\n",
    "G.addEdge('c', 'd', 4)\n",
    "G.addEdge('d', 'e', 4)\n",
    "\n",
    "result = ['a']\n",
    "DFS(G, 'a', result)\n",
    "print(result)"
   ]
  },
  {
   "cell_type": "code",
   "execution_count": null,
   "metadata": {},
   "outputs": [],
   "source": []
  }
 ],
 "metadata": {
  "kernelspec": {
   "display_name": "Python 3",
   "language": "python",
   "name": "python3"
  },
  "language_info": {
   "codemirror_mode": {
    "name": "ipython",
    "version": 3
   },
   "file_extension": ".py",
   "mimetype": "text/x-python",
   "name": "python",
   "nbconvert_exporter": "python",
   "pygments_lexer": "ipython3",
   "version": "3.8.3"
  }
 },
 "nbformat": 4,
 "nbformat_minor": 4
}

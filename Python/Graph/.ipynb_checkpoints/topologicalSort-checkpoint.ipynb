{
 "cells": [
  {
   "cell_type": "code",
   "execution_count": 4,
   "metadata": {},
   "outputs": [],
   "source": [
    "class Vertex:\n",
    "    def __init__(self, node):\n",
    "        self._node = node\n",
    "        self._adjList = {}\n",
    "        self._indeg = 0\n",
    "    \n",
    "    def getNode(self):\n",
    "        return self._node\n",
    "    \n",
    "    def addEdge(self, dest, w):\n",
    "        self._adjList[dest]= w\n",
    "    \n",
    "    def indegree(self):\n",
    "        return self._indeg\n",
    "        \n",
    "    def increamentIndeg(self):\n",
    "        self._indeg += 1\n",
    "    \n",
    "    def decreamentIndeg(self):\n",
    "        self._indeg -= 1\n",
    "        \n",
    "    def getEdges(self):\n",
    "        return self._adjList\n",
    "    "
   ]
  },
  {
   "cell_type": "code",
   "execution_count": 9,
   "metadata": {},
   "outputs": [],
   "source": [
    "class Graph:\n",
    "    def __init__(self):\n",
    "        self._vertices = {}\n",
    "    def getVertices(self):\n",
    "        return self._vertices\n",
    "    def addVertex(self, node):\n",
    "        v = Vertex(node)\n",
    "        self._vertices[node]= v\n",
    "    def addEdge(self,o,d,w):\n",
    "        if o not in self._vertices:\n",
    "            self.addVertex(o)\n",
    "        if d not in self._vertices:\n",
    "            self.addVertex(d)\n",
    "        v = self._vertices[o]\n",
    "        v.addEdge(d,w)\n",
    "        self._vertices[d].increamentIndeg()\n",
    "    def vertxCount(self):\n",
    "        return len(self._vertices)\n",
    "    def getVertex(self, node):\n",
    "        return self._vertices[node]\n",
    "    \n"
   ]
  },
  {
   "cell_type": "code",
   "execution_count": 33,
   "metadata": {},
   "outputs": [],
   "source": [
    "def topologicalSort(G):\n",
    "    tList = [] # Topological List\n",
    "    tQueue = [] # Keep vertex having indeg = 0. means no prerequsite for these vertex\n",
    "    \n",
    "    for v in G.getVertices().values():\n",
    "        indeg = v.indegree()\n",
    "        if(indeg == 0):\n",
    "            tQueue.append(v)\n",
    "    while(len(tQueue)):\n",
    "        node = tQueue.pop(0)\n",
    "        tList.append(node.getNode())\n",
    "        for child in node.getEdges():\n",
    "            u = G.getVertex(child)\n",
    "            u.decreamentIndeg()\n",
    "            if u.indegree()== 0:\n",
    "                tQueue.append(u)\n",
    "                \n",
    "    if(len(tList) != G.vertxCount()):\n",
    "        print(\"Gtraph is cyclic\")\n",
    "        return\n",
    "    print(tList)\n",
    "            \n",
    "        "
   ]
  },
  {
   "cell_type": "code",
   "execution_count": 36,
   "metadata": {},
   "outputs": [
    {
     "name": "stdout",
     "output_type": "stream",
     "text": [
      "['a', 'c', 'b', 'd', 'e', 'f']\n"
     ]
    }
   ],
   "source": [
    "G = Graph()\n",
    "G.addVertex('a')\n",
    "G.addVertex('b')\n",
    "G.addVertex('c')\n",
    "G.addVertex('d')\n",
    "G.addVertex('e')\n",
    "G.addEdge('a', 'b', 4)\n",
    "G.addEdge('c', 'b', 1)\n",
    "G.addEdge('b', 'e', 4)\n",
    "G.addEdge('c', 'd', 4)\n",
    "G.addEdge('a', 'c', 4)\n",
    "G.addEdge('e', 'f', 4)\n",
    "topologicalSort(G)"
   ]
  },
  {
   "cell_type": "code",
   "execution_count": 37,
   "metadata": {},
   "outputs": [
    {
     "name": "stdout",
     "output_type": "stream",
     "text": [
      "Gtraph is cyclic\n"
     ]
    }
   ],
   "source": [
    "G = Graph()\n",
    "G.addVertex('a')\n",
    "G.addVertex('b')\n",
    "G.addVertex('c')\n",
    "G.addVertex('d')\n",
    "G.addVertex('e')\n",
    "G.addEdge('a', 'b', 4)\n",
    "G.addEdge('a', 'c', 1)\n",
    "G.addEdge('c', 'b', 2)\n",
    "G.addEdge('b', 'e', 4)\n",
    "G.addEdge('c', 'd', 4)\n",
    "G.addEdge('e', 'c', 4)\n",
    "\n",
    "topologicalSort(G)"
   ]
  },
  {
   "cell_type": "code",
   "execution_count": null,
   "metadata": {},
   "outputs": [],
   "source": []
  }
 ],
 "metadata": {
  "kernelspec": {
   "display_name": "Python 3",
   "language": "python",
   "name": "python3"
  },
  "language_info": {
   "codemirror_mode": {
    "name": "ipython",
    "version": 3
   },
   "file_extension": ".py",
   "mimetype": "text/x-python",
   "name": "python",
   "nbconvert_exporter": "python",
   "pygments_lexer": "ipython3",
   "version": "3.8.3"
  }
 },
 "nbformat": 4,
 "nbformat_minor": 4
}

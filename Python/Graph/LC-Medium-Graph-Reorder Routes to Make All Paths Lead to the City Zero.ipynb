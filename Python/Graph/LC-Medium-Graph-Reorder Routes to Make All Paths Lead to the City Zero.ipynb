{
 "cells": [
  {
   "cell_type": "markdown",
   "metadata": {},
   "source": [
    "## 1466. Reorder Routes to Make All Paths Lead to the City Zero\n",
    "https://leetcode.com/problems/reorder-routes-to-make-all-paths-lead-to-the-city-zero/\n",
    "\n",
    "There are n cities numbered from 0 to n - 1 and n - 1 roads such that there is only one way to travel between two different cities (this network form a tree). Last year, The ministry of transport decided to orient the roads in one direction because they are too narrow.\n",
    "\n",
    "Roads are represented by connections where connections[i] = [ai, bi] represents a road from city ai to city bi.\n",
    "\n",
    "This year, there will be a big event in the capital (city 0), and many people want to travel to this city.\n",
    "\n",
    "Your task consists of reorienting some roads such that each city can visit the city 0. Return the minimum number of edges changed.\n",
    "\n",
    "It's guaranteed that each city can reach city 0 after reorder.\n",
    "\n",
    " \n",
    "\n",
    "Example 1:\n",
    "\n",
    "\n",
    "Input: n = 6, connections = [[0,1],[1,3],[2,3],[4,0],[4,5]]\n",
    "\n",
    "Output: 3\n",
    "\n",
    "Explanation: Change the direction of edges show in red such that each node can reach the node 0 (capital).\n",
    "\n",
    "Example 2:\n",
    "\n",
    "\n",
    "Input: n = 5, connections = [[1,0],[1,2],[3,2],[3,4]]\n",
    "\n",
    "Output: 2\n",
    "\n",
    "Explanation: Change the direction of edges show in red such that each node can reach the node 0 (capital).\n",
    "\n",
    "Example 3:\n",
    "\n",
    "Input: n = 3, connections = [[1,0],[2,0]]\n",
    "\n",
    "Output: 0\n",
    " \n",
    "\n",
    "Constraints:\n",
    "\n",
    "2 <= n <= 5 * 104\n",
    "\n",
    "connections.length == n - 1\n",
    "\n",
    "connections[i].length == 2\n",
    "\n",
    "0 <= ai, bi <= n - 1\n",
    "\n",
    "ai != bi"
   ]
  },
  {
   "cell_type": "code",
   "execution_count": 16,
   "metadata": {},
   "outputs": [],
   "source": [
    "def minReorder(n, connections):\n",
    "        visited = set()\n",
    "        count = 0\n",
    "        neighbours={city:[] for city in range(n)}\n",
    "        edges = {(a,b) for a,b in connections}\n",
    "        \n",
    "        for a,b in connections:\n",
    "            neighbours[a].append(b)\n",
    "            neighbours[b].append(a)\n",
    "    \n",
    "        def dfs(city):\n",
    "            nonlocal count, visited, neighbours, edges\n",
    "        \n",
    "            for neighbour in neighbours[city]:\n",
    "                if neighbour in visited:\n",
    "                    continue\n",
    "                visited.add(neighbour)\n",
    "                if (neighbour, city) not in edges:\n",
    "                    count += 1\n",
    "                dfs(neighbour)\n",
    "            \n",
    "        visited.add(0)\n",
    "        dfs(0)\n",
    "        return count\n",
    "        "
   ]
  },
  {
   "cell_type": "code",
   "execution_count": 18,
   "metadata": {},
   "outputs": [
    {
     "data": {
      "text/plain": [
       "2"
      ]
     },
     "execution_count": 18,
     "metadata": {},
     "output_type": "execute_result"
    }
   ],
   "source": [
    "n = 5\n",
    "connections = [[1,0],[1,2],[3,2],[3,4]]\n",
    "minReorder(n, connections)"
   ]
  },
  {
   "cell_type": "code",
   "execution_count": 19,
   "metadata": {},
   "outputs": [
    {
     "data": {
      "text/plain": [
       "3"
      ]
     },
     "execution_count": 19,
     "metadata": {},
     "output_type": "execute_result"
    }
   ],
   "source": [
    "n = 6\n",
    "connections = [[0,1],[1,3],[2,3],[4,0],[4,5]]\n",
    "minReorder(n, connections)"
   ]
  },
  {
   "cell_type": "code",
   "execution_count": null,
   "metadata": {},
   "outputs": [],
   "source": []
  }
 ],
 "metadata": {
  "kernelspec": {
   "display_name": "Python 3",
   "language": "python",
   "name": "python3"
  },
  "language_info": {
   "codemirror_mode": {
    "name": "ipython",
    "version": 3
   },
   "file_extension": ".py",
   "mimetype": "text/x-python",
   "name": "python",
   "nbconvert_exporter": "python",
   "pygments_lexer": "ipython3",
   "version": "3.8.3"
  }
 },
 "nbformat": 4,
 "nbformat_minor": 4
}

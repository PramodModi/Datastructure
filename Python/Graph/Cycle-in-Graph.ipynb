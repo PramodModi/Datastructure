{
 "cells": [
  {
   "cell_type": "code",
   "execution_count": 3,
   "metadata": {},
   "outputs": [],
   "source": [
    "WHITE, GREY, BLACK = 0,1,2\n",
    "def cycleinGraph(edges):\n",
    "    numberOfNodes = len(edges)\n",
    "    color = [WHITE for _ in range(numberOfNodes)]\n",
    "    for i in range(numberOfNodes):\n",
    "        if color[i] != WHITE:\n",
    "            continue\n",
    "        isCycle = traverseNode(edges, i, color)\n",
    "        if isCycle:\n",
    "            return True\n",
    "    return False\n",
    "\n",
    "def traverseNode(edges, node, color):\n",
    "    color[node] = GREY\n",
    "    for i in (edges[node]):\n",
    "        if color[i] == GREY:\n",
    "            return True\n",
    "        if color[i] == BLACK:\n",
    "            continue\n",
    "        isCycle = traverseNode(edges, i, color)\n",
    "        if isCycle:\n",
    "            return True\n",
    "    color[node] = BLACK\n",
    "    return False\n",
    "    "
   ]
  },
  {
   "cell_type": "code",
   "execution_count": 4,
   "metadata": {},
   "outputs": [
    {
     "data": {
      "text/plain": [
       "True"
      ]
     },
     "execution_count": 4,
     "metadata": {},
     "output_type": "execute_result"
    }
   ],
   "source": [
    "edges = [[1, 3],[2, 3, 4],[0],[],[2, 5],[]]\n",
    "cycleinGraph(edges)"
   ]
  },
  {
   "cell_type": "code",
   "execution_count": null,
   "metadata": {},
   "outputs": [],
   "source": []
  }
 ],
 "metadata": {
  "kernelspec": {
   "display_name": "Python 3",
   "language": "python",
   "name": "python3"
  },
  "language_info": {
   "codemirror_mode": {
    "name": "ipython",
    "version": 3
   },
   "file_extension": ".py",
   "mimetype": "text/x-python",
   "name": "python",
   "nbconvert_exporter": "python",
   "pygments_lexer": "ipython3",
   "version": "3.8.3"
  }
 },
 "nbformat": 4,
 "nbformat_minor": 4
}

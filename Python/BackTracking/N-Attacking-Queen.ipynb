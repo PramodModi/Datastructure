{
 "cells": [
  {
   "cell_type": "markdown",
   "metadata": {},
   "source": [
    "## Leetcode 51\n",
    "\n",
    "The n-queens puzzle is the problem of placing n queens on an n x n chessboard such that no two queens attack each other.\n",
    "\n",
    "Given an integer n, return all distinct solutions to the n-queens puzzle. You may return the answer in any order.\n",
    "\n",
    "Each solution contains a distinct board configuration of the n-queens' placement, where 'Q' and '.' both indicate a queen and an empty space, respectively.\n",
    "\n",
    "Input: n = 4\n",
    "\n",
    "Output: [[\".Q..\",\"...Q\",\"Q...\",\"..Q.\"],[\"..Q.\",\"Q...\",\"...Q\",\".Q..\"]]\n",
    "\n",
    "Explanation: There exist two distinct solutions to the 4-queens puzzle as shown above\n",
    "\n",
    "Example 2:\n",
    "\n",
    "Input: n = 1\n",
    "\n",
    "Output: [[\"Q\"]]\n",
    " \n",
    "\n",
    "Constraints:\n",
    "\n",
    "1 <= n <= 9\n"
   ]
  },
  {
   "cell_type": "code",
   "execution_count": 13,
   "metadata": {},
   "outputs": [],
   "source": [
    "def solveNQueens(n):\n",
    "    \n",
    "    temp =[[\".\"]*n  for _ in range(n) ]\n",
    "    res = []\n",
    "    nQueen(0, n, temp, res)\n",
    "    return res\n",
    "\n",
    "def nQueen(row, n, temp, res):\n",
    "    if row == n:\n",
    "        res.append([\"\".join(temp[i]) for i in range(n)])\n",
    "        return\n",
    "    for col in range(n):\n",
    "        if isPlacementAllowed(row, col, temp):\n",
    "            temp[row][col] = 'Q'\n",
    "            nQueen(row+1, n, temp, res)\n",
    "            temp[row][col] = \".\"\n",
    "\n",
    "def isPlacementAllowed(row, col, temp):\n",
    "    for r in range(row):\n",
    "        # Check for all row in the given column\n",
    "        if 'Q' == temp[r][col]:\n",
    "            return False\n",
    "        # Check for left diagonal up\n",
    "        if (col-row+r >= 0 and temp[r][col-row+r] == 'Q'):\n",
    "            return False\n",
    "        \n",
    "        #Check for right diagonal up\n",
    "        if(col+row-r < len(temp) and temp[r][col+row-r] == 'Q'):\n",
    "            return False\n",
    "        \n",
    "        \n",
    "    return True\n",
    "    "
   ]
  },
  {
   "cell_type": "code",
   "execution_count": 14,
   "metadata": {},
   "outputs": [
    {
     "data": {
      "text/plain": [
       "[['.Q..', '...Q', 'Q...', '..Q.'], ['..Q.', 'Q...', '...Q', '.Q..']]"
      ]
     },
     "execution_count": 14,
     "metadata": {},
     "output_type": "execute_result"
    }
   ],
   "source": [
    "solveNQueens(4)"
   ]
  },
  {
   "cell_type": "code",
   "execution_count": null,
   "metadata": {},
   "outputs": [],
   "source": []
  }
 ],
 "metadata": {
  "kernelspec": {
   "display_name": "Python 3",
   "language": "python",
   "name": "python3"
  },
  "language_info": {
   "codemirror_mode": {
    "name": "ipython",
    "version": 3
   },
   "file_extension": ".py",
   "mimetype": "text/x-python",
   "name": "python",
   "nbconvert_exporter": "python",
   "pygments_lexer": "ipython3",
   "version": "3.8.3"
  }
 },
 "nbformat": 4,
 "nbformat_minor": 4
}

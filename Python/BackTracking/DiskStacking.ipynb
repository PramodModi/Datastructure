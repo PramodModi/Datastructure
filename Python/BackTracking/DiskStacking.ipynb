{
 "cells": [
  {
   "cell_type": "markdown",
   "metadata": {},
   "source": [
    "## Problems:\n",
    "\n",
    "You're given a non-empty array of arrays where each subarray holds three integers and represents a\n",
    "disk. These integers denote each disk's width, depth, and height, respectively. Your goal is to stack up\n",
    "the disks and to maximize the total height of the stack. A disk must have a strictly smaller width, depth,\n",
    "and height than any other disk below it.\n",
    "Write a function that returns an array of the disks in the final stack, starting with the top disk and ending\n",
    "with the bottom disk. Note that you can't rotate disks; in other words, the integers in each subarray\n",
    "must represent [width, depth, height] at all times.\n",
    "You can assume that there will only be one stack with the greatest total height.\n",
    "\n",
    "Example:\n",
    "\n",
    "disks = [[2, 1, 2], [3, 2, 3], [2, 2, 8], [2, 3, 4], [1, 3, 1], [4, 4, 5]]\n",
    "\n",
    "output:[[2, 1, 2], [3, 2, 3], [4, 4, 5]]\n",
    "\n",
    "// 10 (2 + 3 + 5) is the tallest height we can get by\n",
    "// stacking disks following the rules laid out above.\n"
   ]
  },
  {
   "cell_type": "code",
   "execution_count": 3,
   "metadata": {},
   "outputs": [],
   "source": [
    "## O(n^2)\n",
    "def discStacking(disks):\n",
    "    disks.sort(key=lambda disk: disk[2])\n",
    "    sequences = [None]*len(disks)\n",
    "    sum = [disk[2] for disk in disks]\n",
    "    maxIndx = 0\n",
    "    for i in range(1,len(disks)):\n",
    "        current = disks[i]\n",
    "        print(\"current = \", current)\n",
    "        for j in range(0, i):\n",
    "            print(\"Previous = \", disks[j])\n",
    "            prevH = disks[j][2]\n",
    "            prevW = disks[j][1]\n",
    "            prevD = disks[j][0]\n",
    "            print(\"sum[i] = \", sum[i])\n",
    "            print(\"sum[j] = \", sum[j])\n",
    "            print(\"sum[j] + current[2] : \", sum[j] + current[2])\n",
    "            if prevH < current[2] and prevW < current[1] and prevD< current[0] and sum[j] + current[2] >= sum[i]:\n",
    "                sum[i] = sum[j] + current[2]\n",
    "                sequences[i] = j\n",
    "                print(\"equences[i] : \", sequences)\n",
    "        if sum[i] >= sum[maxIndx]:\n",
    "            maxIndx = i\n",
    "        \n",
    "    return [sum[maxIndx], buildSequence(disks, sequences, maxIndx)]\n",
    "def buildSequence(array, sequences, currentIndx):\n",
    "    seq = []\n",
    "    while currentIndx is not None:\n",
    "        seq.append(array[currentIndx])\n",
    "        currentIndx = sequences[currentIndx]\n",
    "        \n",
    "    return list(reversed(seq))"
   ]
  },
  {
   "cell_type": "code",
   "execution_count": 4,
   "metadata": {},
   "outputs": [
    {
     "name": "stdout",
     "output_type": "stream",
     "text": [
      "current =  [2, 1, 2]\n",
      "Previous =  [1, 3, 1]\n",
      "sum[i] =  2\n",
      "sum[j] =  1\n",
      "sum[j] + current[2] :  3\n",
      "current =  [3, 2, 3]\n",
      "Previous =  [1, 3, 1]\n",
      "sum[i] =  3\n",
      "sum[j] =  1\n",
      "sum[j] + current[2] :  4\n",
      "Previous =  [2, 1, 2]\n",
      "sum[i] =  3\n",
      "sum[j] =  2\n",
      "sum[j] + current[2] :  5\n",
      "equences[i] :  [None, None, 1, None, None, None]\n",
      "current =  [2, 3, 4]\n",
      "Previous =  [1, 3, 1]\n",
      "sum[i] =  4\n",
      "sum[j] =  1\n",
      "sum[j] + current[2] :  5\n",
      "Previous =  [2, 1, 2]\n",
      "sum[i] =  4\n",
      "sum[j] =  2\n",
      "sum[j] + current[2] :  6\n",
      "Previous =  [3, 2, 3]\n",
      "sum[i] =  4\n",
      "sum[j] =  5\n",
      "sum[j] + current[2] :  9\n",
      "current =  [4, 4, 5]\n",
      "Previous =  [1, 3, 1]\n",
      "sum[i] =  5\n",
      "sum[j] =  1\n",
      "sum[j] + current[2] :  6\n",
      "equences[i] :  [None, None, 1, None, 0, None]\n",
      "Previous =  [2, 1, 2]\n",
      "sum[i] =  6\n",
      "sum[j] =  2\n",
      "sum[j] + current[2] :  7\n",
      "equences[i] :  [None, None, 1, None, 1, None]\n",
      "Previous =  [3, 2, 3]\n",
      "sum[i] =  7\n",
      "sum[j] =  5\n",
      "sum[j] + current[2] :  10\n",
      "equences[i] :  [None, None, 1, None, 2, None]\n",
      "Previous =  [2, 3, 4]\n",
      "sum[i] =  10\n",
      "sum[j] =  4\n",
      "sum[j] + current[2] :  9\n",
      "current =  [2, 2, 8]\n",
      "Previous =  [1, 3, 1]\n",
      "sum[i] =  8\n",
      "sum[j] =  1\n",
      "sum[j] + current[2] :  9\n",
      "Previous =  [2, 1, 2]\n",
      "sum[i] =  8\n",
      "sum[j] =  2\n",
      "sum[j] + current[2] :  10\n",
      "Previous =  [3, 2, 3]\n",
      "sum[i] =  8\n",
      "sum[j] =  5\n",
      "sum[j] + current[2] :  13\n",
      "Previous =  [2, 3, 4]\n",
      "sum[i] =  8\n",
      "sum[j] =  4\n",
      "sum[j] + current[2] :  12\n",
      "Previous =  [4, 4, 5]\n",
      "sum[i] =  8\n",
      "sum[j] =  10\n",
      "sum[j] + current[2] :  18\n",
      "[10, [[2, 1, 2], [3, 2, 3], [4, 4, 5]]]\n"
     ]
    }
   ],
   "source": [
    "disks = [[2, 1, 2],[3, 2, 3],[2, 2, 8],[2, 3, 4],[1, 3, 1],[4, 4, 5]]\n",
    "print(discStacking(disks))"
   ]
  },
  {
   "cell_type": "code",
   "execution_count": 5,
   "metadata": {},
   "outputs": [
    {
     "name": "stdout",
     "output_type": "stream",
     "text": [
      "current =  [2, 1, 2]\n",
      "Previous =  [1, 2, 1]\n",
      "sum[i] =  2\n",
      "sum[j] =  1\n",
      "sum[j] + current[2] :  3\n",
      "current =  [3, 2, 3]\n",
      "Previous =  [1, 2, 1]\n",
      "sum[i] =  3\n",
      "sum[j] =  1\n",
      "sum[j] + current[2] :  4\n",
      "Previous =  [2, 1, 2]\n",
      "sum[i] =  3\n",
      "sum[j] =  2\n",
      "sum[j] + current[2] :  5\n",
      "equences[i] :  [None, None, 1, None, None, None, None]\n",
      "current =  [2, 3, 4]\n",
      "Previous =  [1, 2, 1]\n",
      "sum[i] =  4\n",
      "sum[j] =  1\n",
      "sum[j] + current[2] :  5\n",
      "equences[i] :  [None, None, 1, 0, None, None, None]\n",
      "Previous =  [2, 1, 2]\n",
      "sum[i] =  5\n",
      "sum[j] =  2\n",
      "sum[j] + current[2] :  6\n",
      "Previous =  [3, 2, 3]\n",
      "sum[i] =  5\n",
      "sum[j] =  5\n",
      "sum[j] + current[2] :  9\n",
      "current =  [1, 1, 4]\n",
      "Previous =  [1, 2, 1]\n",
      "sum[i] =  4\n",
      "sum[j] =  1\n",
      "sum[j] + current[2] :  5\n",
      "Previous =  [2, 1, 2]\n",
      "sum[i] =  4\n",
      "sum[j] =  2\n",
      "sum[j] + current[2] :  6\n",
      "Previous =  [3, 2, 3]\n",
      "sum[i] =  4\n",
      "sum[j] =  5\n",
      "sum[j] + current[2] :  9\n",
      "Previous =  [2, 3, 4]\n",
      "sum[i] =  4\n",
      "sum[j] =  5\n",
      "sum[j] + current[2] :  9\n",
      "current =  [4, 4, 5]\n",
      "Previous =  [1, 2, 1]\n",
      "sum[i] =  5\n",
      "sum[j] =  1\n",
      "sum[j] + current[2] :  6\n",
      "equences[i] :  [None, None, 1, 0, None, 0, None]\n",
      "Previous =  [2, 1, 2]\n",
      "sum[i] =  6\n",
      "sum[j] =  2\n",
      "sum[j] + current[2] :  7\n",
      "equences[i] :  [None, None, 1, 0, None, 1, None]\n",
      "Previous =  [3, 2, 3]\n",
      "sum[i] =  7\n",
      "sum[j] =  5\n",
      "sum[j] + current[2] :  10\n",
      "equences[i] :  [None, None, 1, 0, None, 2, None]\n",
      "Previous =  [2, 3, 4]\n",
      "sum[i] =  10\n",
      "sum[j] =  5\n",
      "sum[j] + current[2] :  10\n",
      "equences[i] :  [None, None, 1, 0, None, 3, None]\n",
      "Previous =  [1, 1, 4]\n",
      "sum[i] =  10\n",
      "sum[j] =  4\n",
      "sum[j] + current[2] :  9\n",
      "current =  [2, 2, 8]\n",
      "Previous =  [1, 2, 1]\n",
      "sum[i] =  8\n",
      "sum[j] =  1\n",
      "sum[j] + current[2] :  9\n",
      "Previous =  [2, 1, 2]\n",
      "sum[i] =  8\n",
      "sum[j] =  2\n",
      "sum[j] + current[2] :  10\n",
      "Previous =  [3, 2, 3]\n",
      "sum[i] =  8\n",
      "sum[j] =  5\n",
      "sum[j] + current[2] :  13\n",
      "Previous =  [2, 3, 4]\n",
      "sum[i] =  8\n",
      "sum[j] =  5\n",
      "sum[j] + current[2] :  13\n",
      "Previous =  [1, 1, 4]\n",
      "sum[i] =  8\n",
      "sum[j] =  4\n",
      "sum[j] + current[2] :  12\n",
      "equences[i] :  [None, None, 1, 0, None, 3, 4]\n",
      "Previous =  [4, 4, 5]\n",
      "sum[i] =  12\n",
      "sum[j] =  10\n",
      "sum[j] + current[2] :  18\n",
      "[12, [[1, 1, 4], [2, 2, 8]]]\n"
     ]
    }
   ],
   "source": [
    "disks = [[2, 1, 2],[3, 2, 3],[2, 2, 8],[2, 3, 4],[1, 2, 1],[4, 4, 5],[1, 1, 4]]\n",
    "# Expected Output:\n",
    "#[\n",
    "#  [1, 1, 4],\n",
    "#  [2, 2, 8]\n",
    "#]\n",
    "\n",
    "print(discStacking(disks))"
   ]
  },
  {
   "cell_type": "code",
   "execution_count": 28,
   "metadata": {},
   "outputs": [],
   "source": [
    "## Using back tracking O(n^2)\n",
    "class Stacking:\n",
    "    def __init__(self, sumHeight, maxHeight):\n",
    "        self.sumHeight = sumHeight\n",
    "        self.maxHeight = maxHeight\n",
    "        self.result = []\n",
    "def disStacking_bt(disks):\n",
    "    disks.sort(key = lambda disk:disk[2])\n",
    "    temp = []\n",
    "    stack = Stacking(0, float(\"-inf\"))\n",
    "    helper(disks, temp, 0, stack)\n",
    "    return stack.result\n",
    "\n",
    "def helper(disks, temp, index, stack):\n",
    "    m = len(temp)\n",
    "    if m > 0:\n",
    "        stack.sumHeight += temp[-1][2]\n",
    "        if stack.maxHeight < stack.sumHeight:\n",
    "            stack.maxHeight = stack.sumHeight\n",
    "            stack.result = temp[:]\n",
    "    for i in range(index, len(disks)):\n",
    "        if i > 0 and len(temp)>0:\n",
    "            if temp[-1][0] >= disks[i][0]or temp[-1][1] >= disks[i][1] or temp[-1][2]>= disks[i][2]:\n",
    "                continue\n",
    "        temp.append(disks[i])\n",
    "        helper(disks, temp, i+1, stack)\n",
    "        stack.sumHeight -= temp.pop()[2]"
   ]
  },
  {
   "cell_type": "code",
   "execution_count": 29,
   "metadata": {},
   "outputs": [
    {
     "data": {
      "text/plain": [
       "[[1, 1, 4], [2, 2, 8]]"
      ]
     },
     "execution_count": 29,
     "metadata": {},
     "output_type": "execute_result"
    }
   ],
   "source": [
    "disks = [[2, 1, 2],[3, 2, 3],[2, 2, 8],[2, 3, 4],[1, 2, 1],[4, 4, 5],[1, 1, 4]]\n",
    "disStacking_bt(disks)"
   ]
  },
  {
   "cell_type": "code",
   "execution_count": 30,
   "metadata": {},
   "outputs": [
    {
     "data": {
      "text/plain": [
       "[[1, 1, 4], [2, 2, 8]]"
      ]
     },
     "execution_count": 30,
     "metadata": {},
     "output_type": "execute_result"
    }
   ],
   "source": [
    "disks = [[2, 1, 2],[3, 2, 3],[2, 2, 8],[2, 3, 4],[1, 2, 1],[4, 4, 5],[1, 1, 4]]\n",
    "disStacking_bt(disks)"
   ]
  },
  {
   "cell_type": "code",
   "execution_count": 31,
   "metadata": {},
   "outputs": [
    {
     "data": {
      "text/plain": [
       "[[2, 1, 2], [3, 2, 3], [4, 4, 5]]"
      ]
     },
     "execution_count": 31,
     "metadata": {},
     "output_type": "execute_result"
    }
   ],
   "source": [
    "disks = [[2, 1, 2],[3, 2, 3],[2, 2, 8],[2, 3, 4],[1, 3, 1],[4, 4, 5]]\n",
    "disStacking_bt(disks)"
   ]
  },
  {
   "cell_type": "code",
   "execution_count": null,
   "metadata": {},
   "outputs": [],
   "source": []
  }
 ],
 "metadata": {
  "kernelspec": {
   "display_name": "Python 3",
   "language": "python",
   "name": "python3"
  },
  "language_info": {
   "codemirror_mode": {
    "name": "ipython",
    "version": 3
   },
   "file_extension": ".py",
   "mimetype": "text/x-python",
   "name": "python",
   "nbconvert_exporter": "python",
   "pygments_lexer": "ipython3",
   "version": "3.8.3"
  }
 },
 "nbformat": 4,
 "nbformat_minor": 4
}

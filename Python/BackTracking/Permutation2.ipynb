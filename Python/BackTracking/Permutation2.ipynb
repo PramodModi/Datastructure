{
 "cells": [
  {
   "cell_type": "markdown",
   "metadata": {},
   "source": [
    "## Leet code 47\n",
    "Given a collection of numbers, nums, that might contain duplicates, return all possible unique permutations in any order.\n",
    "\n",
    " \n",
    "\n",
    "Example 1:\n",
    "\n",
    "Input: nums = [1,1,2]\n",
    "\n",
    "Output:\n",
    "[[1,1,2],\n",
    " [1,2,1],\n",
    " [2,1,1]]\n",
    "\n",
    "Example 2:\n",
    "\n",
    "Input: nums = [1,2,3]\n",
    "\n",
    "Output: [[1,2,3],[1,3,2],[2,1,3],[2,3,1],[3,1,2],[3,2,1]]\n",
    " \n",
    "\n",
    "Constraints:\n",
    "\n",
    "1 <= nums.length <= 8\n",
    "\n",
    "-10 <= nums[i] <= 10\n"
   ]
  },
  {
   "cell_type": "code",
   "execution_count": 1,
   "metadata": {},
   "outputs": [],
   "source": [
    "def permutation(nums):\n",
    "    res = []\n",
    "    temp = []\n",
    "    count = {}\n",
    "    for n in nums:\n",
    "        count[n] = count.get(n,0)+1\n",
    "    helper(count, res, temp, len(nums))\n",
    "    return res\n",
    "\n",
    "def helper(count,res, temp,N):\n",
    "    if len(temp) == N:\n",
    "        res.append(temp[:])\n",
    "        return\n",
    "    \n",
    "    for i in count:\n",
    "        if count[i] > 0:\n",
    "            temp.append(i)\n",
    "            count[i] -= 1\n",
    "            helper(count, res, temp, N )\n",
    "            temp.pop()\n",
    "            count[i] += 1"
   ]
  },
  {
   "cell_type": "code",
   "execution_count": 2,
   "metadata": {},
   "outputs": [
    {
     "data": {
      "text/plain": [
       "[[1, 1, 2], [1, 2, 1], [2, 1, 1]]"
      ]
     },
     "execution_count": 2,
     "metadata": {},
     "output_type": "execute_result"
    }
   ],
   "source": [
    "nums = [1,1,2]\n",
    "permutation(nums)"
   ]
  },
  {
   "cell_type": "code",
   "execution_count": 1,
   "metadata": {},
   "outputs": [],
   "source": [
    "# With sorting\n",
    "def permutations(nums):\n",
    "    nums.sort()\n",
    "    temp = []\n",
    "    res = []\n",
    "    helper(nums, temp, res, len(nums))\n",
    "    return res\n",
    "def helper(nums, temp, res, n):\n",
    "    if len(temp) == n:\n",
    "        res.append(temp[:])\n",
    "        return\n",
    "    \n",
    "    for i, j in enumerate(nums):\n",
    "        if i > 0 and j == nums[i-1]:\n",
    "            continue\n",
    "        temp.append(j)\n",
    "        helper(nums[0:i] + nums[i+1:], temp, res,n)\n",
    "        temp.pop()"
   ]
  },
  {
   "cell_type": "code",
   "execution_count": 2,
   "metadata": {},
   "outputs": [
    {
     "data": {
      "text/plain": [
       "[[1, 1, 2], [1, 2, 1], [2, 1, 1]]"
      ]
     },
     "execution_count": 2,
     "metadata": {},
     "output_type": "execute_result"
    }
   ],
   "source": [
    "nums = [1,1,2]\n",
    "permutations(nums)"
   ]
  },
  {
   "cell_type": "code",
   "execution_count": 17,
   "metadata": {},
   "outputs": [],
   "source": [
    "# With sorting and swaping\n",
    "def permutations_swap(nums):\n",
    "    nums.sort()\n",
    "    res = []\n",
    "    helper(nums, res, 0)\n",
    "    return res\n",
    "def helper(nums, res, index):\n",
    "    if len(nums) == index:\n",
    "        res.append(nums[:])\n",
    "        return\n",
    "    \n",
    "    for i in range(index, len(nums)):\n",
    "        if i != index and nums[i] == nums[index]:\n",
    "            continue\n",
    "        swap(i, index, nums)\n",
    "        helper(nums, res,index+1)\n",
    "        swap(i, index, nums)\n",
    "        \n",
    "def swap(i, j, nums):\n",
    "    nums[i], nums[j] = nums[j], nums[i]"
   ]
  },
  {
   "cell_type": "code",
   "execution_count": 18,
   "metadata": {},
   "outputs": [
    {
     "data": {
      "text/plain": [
       "[[1, 1, 2], [1, 2, 1], [2, 1, 1]]"
      ]
     },
     "execution_count": 18,
     "metadata": {},
     "output_type": "execute_result"
    }
   ],
   "source": [
    "nums = [1,1,2]\n",
    "permutations_swap(nums)"
   ]
  },
  {
   "cell_type": "code",
   "execution_count": null,
   "metadata": {},
   "outputs": [],
   "source": []
  }
 ],
 "metadata": {
  "kernelspec": {
   "display_name": "Python 3",
   "language": "python",
   "name": "python3"
  },
  "language_info": {
   "codemirror_mode": {
    "name": "ipython",
    "version": 3
   },
   "file_extension": ".py",
   "mimetype": "text/x-python",
   "name": "python",
   "nbconvert_exporter": "python",
   "pygments_lexer": "ipython3",
   "version": "3.8.3"
  }
 },
 "nbformat": 4,
 "nbformat_minor": 4
}

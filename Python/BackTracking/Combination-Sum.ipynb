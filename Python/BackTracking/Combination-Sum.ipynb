{
 "cells": [
  {
   "cell_type": "markdown",
   "metadata": {},
   "source": [
    "## LeetCode 39\n",
    "\n",
    "Given an array of distinct integers candidates and a target integer target, return a list of all unique combinations of candidates where the chosen numbers sum to target. You may return the combinations in any order.\n",
    "\n",
    "The same number may be chosen from candidates an unlimited number of times. Two combinations are unique if the frequency of at least one of the chosen numbers is different.\n",
    "\n",
    "It is guaranteed that the number of unique combinations that sum up to target is less than 150 combinations for the given input.\n",
    "\n",
    " \n",
    "\n",
    "Example 1:\n",
    "\n",
    "Input: candidates = [2,3,6,7], target = 7\n",
    "\n",
    "Output: [[2,2,3],[7]]\n",
    "\n",
    "Explanation:\n",
    "\n",
    "2 and 3 are candidates, and 2 + 2 + 3 = 7. Note that 2 can be used multiple times.\n",
    "7 is a candidate, and 7 = 7.\n",
    "These are the only two combinations.\n",
    "\n",
    "Example 2:\n",
    "\n",
    "Input: candidates = [2,3,5], target = 8\n",
    "\n",
    "Output: [[2,2,2,2],[2,3,3],[3,5]]\n",
    "\n",
    "Example 3:\n",
    "\n",
    "Input: candidates = [2], target = 1\n",
    "\n",
    "Output: []\n",
    " \n",
    "\n",
    "Constraints:\n",
    "\n",
    "1 <= candidates.length <= 30\n",
    "\n",
    "1 <= candidates[i] <= 200\n",
    "\n",
    "All elements of candidates are distinct.\n",
    "\n",
    "1 <= target <= 500"
   ]
  },
  {
   "cell_type": "code",
   "execution_count": 5,
   "metadata": {},
   "outputs": [],
   "source": [
    "def combinationSum(candidates, target):\n",
    "    res = []\n",
    "    temp = []\n",
    "    combinations(candidates, target, temp, res)\n",
    "    return res\n",
    "\n",
    "def combinations(candidates, target, temp, res):\n",
    "    \n",
    "    if target == 0:\n",
    "        res.append(temp[:])\n",
    "        return\n",
    "    if target < 0:\n",
    "        return\n",
    "    for index, num in enumerate(candidates):\n",
    "        num = candidates[index]\n",
    "        temp.append(num)\n",
    "        combinations(candidates[index:], target-num, temp, res)\n",
    "        temp.pop()\n",
    "    \n",
    "    \n",
    "    "
   ]
  },
  {
   "cell_type": "code",
   "execution_count": 6,
   "metadata": {},
   "outputs": [
    {
     "data": {
      "text/plain": [
       "[[2, 2, 2, 2], [2, 3, 3], [3, 5]]"
      ]
     },
     "execution_count": 6,
     "metadata": {},
     "output_type": "execute_result"
    }
   ],
   "source": [
    "candidates = [2,3,5]\n",
    "target = 8\n",
    "combinationSum(candidates, target)"
   ]
  },
  {
   "cell_type": "code",
   "execution_count": 15,
   "metadata": {},
   "outputs": [],
   "source": [
    "## By passing index in recussion method rather than string slicing\n",
    "def combinationSum1(candidates, target):\n",
    "    res = []\n",
    "    temp = []\n",
    "    combinations1(candidates, target, temp, res, 0)\n",
    "    return res\n",
    "\n",
    "def combinations1(candidates, target, temp, res, index):\n",
    "    \n",
    "    if target == 0:\n",
    "        res.append(temp[:])\n",
    "        return\n",
    "    if target < 0:\n",
    "        return\n",
    "    for i in range(index, len(candidates)):\n",
    "        num = candidates[i]\n",
    "        temp.append(num)\n",
    "        combinations1(candidates, target-num, temp, res, i)\n",
    "        temp.pop()"
   ]
  },
  {
   "cell_type": "code",
   "execution_count": 16,
   "metadata": {},
   "outputs": [
    {
     "data": {
      "text/plain": [
       "[[2, 2, 2, 2], [2, 3, 3], [3, 5]]"
      ]
     },
     "execution_count": 16,
     "metadata": {},
     "output_type": "execute_result"
    }
   ],
   "source": [
    "candidates = [2,3,5]\n",
    "target = 8\n",
    "combinationSum1(candidates, target)"
   ]
  },
  {
   "cell_type": "code",
   "execution_count": null,
   "metadata": {},
   "outputs": [],
   "source": []
  }
 ],
 "metadata": {
  "kernelspec": {
   "display_name": "Python 3",
   "language": "python",
   "name": "python3"
  },
  "language_info": {
   "codemirror_mode": {
    "name": "ipython",
    "version": 3
   },
   "file_extension": ".py",
   "mimetype": "text/x-python",
   "name": "python",
   "nbconvert_exporter": "python",
   "pygments_lexer": "ipython3",
   "version": "3.8.3"
  }
 },
 "nbformat": 4,
 "nbformat_minor": 4
}

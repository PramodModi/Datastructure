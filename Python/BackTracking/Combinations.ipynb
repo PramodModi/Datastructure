{
 "cells": [
  {
   "cell_type": "markdown",
   "metadata": {},
   "source": [
    "## Leet Code: 77\n",
    "\n",
    "Given two integers n and k, return all possible combinations of k numbers out of the range [1, n].\n",
    "\n",
    "You may return the answer in any order.\n",
    "\n",
    " \n",
    "\n",
    "Example 1:\n",
    "\n",
    "Input: n = 4, k = 2\n",
    "\n",
    "Output:\n",
    "[\n",
    "  [2,4],\n",
    "  [3,4],\n",
    "  [2,3],\n",
    "  [1,2],\n",
    "  [1,3],\n",
    "  [1,4],\n",
    "]\n",
    "\n",
    "Example 2:\n",
    "\n",
    "Input: n = 1, k = 1\n",
    "\n",
    "Output: [[1]]\n",
    " \n",
    "\n",
    "Constraints:\n",
    "\n",
    "1 <= n <= 20\n",
    "\n",
    "1 <= k <= n\n"
   ]
  },
  {
   "cell_type": "code",
   "execution_count": 3,
   "metadata": {},
   "outputs": [],
   "source": [
    "def combination(n,k):\n",
    "    res = []\n",
    "    temp = []\n",
    "    helper(n,k,temp, res, 1)\n",
    "    return res\n",
    "\n",
    "def helper(n,k,temp, res,index):\n",
    "    if len(temp)==k:\n",
    "        res.append(temp[:])\n",
    "        return\n",
    "    \n",
    "    for i in range(index, n+1):\n",
    "        temp.append(i)\n",
    "        helper(n,k,temp,res,i+1)\n",
    "        temp.pop()\n",
    "        \n",
    "        "
   ]
  },
  {
   "cell_type": "code",
   "execution_count": 4,
   "metadata": {},
   "outputs": [
    {
     "data": {
      "text/plain": [
       "[[1, 2], [1, 3], [1, 4], [2, 3], [2, 4], [3, 4]]"
      ]
     },
     "execution_count": 4,
     "metadata": {},
     "output_type": "execute_result"
    }
   ],
   "source": [
    "n = 4\n",
    "k = 2\n",
    "combination(n,k)"
   ]
  },
  {
   "cell_type": "code",
   "execution_count": 5,
   "metadata": {},
   "outputs": [
    {
     "data": {
      "text/plain": [
       "[[1]]"
      ]
     },
     "execution_count": 5,
     "metadata": {},
     "output_type": "execute_result"
    }
   ],
   "source": [
    "n = 1\n",
    "k = 1\n",
    "combination(n,k)"
   ]
  },
  {
   "cell_type": "code",
   "execution_count": 6,
   "metadata": {},
   "outputs": [
    {
     "data": {
      "text/plain": [
       "[[1, 2]]"
      ]
     },
     "execution_count": 6,
     "metadata": {},
     "output_type": "execute_result"
    }
   ],
   "source": [
    "n = 2\n",
    "k = 2\n",
    "combination(n,k)"
   ]
  },
  {
   "cell_type": "code",
   "execution_count": null,
   "metadata": {},
   "outputs": [],
   "source": []
  }
 ],
 "metadata": {
  "kernelspec": {
   "display_name": "Python 3",
   "language": "python",
   "name": "python3"
  },
  "language_info": {
   "codemirror_mode": {
    "name": "ipython",
    "version": 3
   },
   "file_extension": ".py",
   "mimetype": "text/x-python",
   "name": "python",
   "nbconvert_exporter": "python",
   "pygments_lexer": "ipython3",
   "version": "3.8.3"
  }
 },
 "nbformat": 4,
 "nbformat_minor": 4
}

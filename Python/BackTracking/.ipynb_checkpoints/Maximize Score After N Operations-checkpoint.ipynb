{
 "cells": [
  {
   "cell_type": "markdown",
   "metadata": {},
   "source": [
    "## Leetcode 1799 : Maximize Score After N Operations\n",
    "ou are given nums, an array of positive integers of size 2 * n. You must perform n operations on this array.\n",
    "\n",
    "In the ith operation (1-indexed), you will:\n",
    "\n",
    "Choose two elements, x and y.\n",
    "\n",
    "Receive a score of i * gcd(x, y).\n",
    "\n",
    "Remove x and y from nums.\n",
    "\n",
    "Return the maximum score you can receive after performing n operations.\n",
    "\n",
    "The function gcd(x, y) is the greatest common divisor of x and y.\n",
    "\n",
    " \n",
    "\n",
    "Example 1:\n",
    "\n",
    "Input: nums = [1,2]\n",
    "\n",
    "Output: 1\n",
    "\n",
    "Explanation: The optimal choice of operations is:\n",
    "\n",
    "(1 * gcd(1, 2)) = 1\n",
    "\n",
    "Example 2:\n",
    "\n",
    "Input: nums = [3,4,6,8]\n",
    "\n",
    "Output: 11\n",
    "\n",
    "Explanation: The optimal choice of operations is:\n",
    "\n",
    "(1 * gcd(3, 6)) + (2 * gcd(4, 8)) = 3 + 8 = 11\n",
    "\n",
    "Example 3:\n",
    "\n",
    "Input: nums = [1,2,3,4,5,6]\n",
    "\n",
    "Output: 14\n",
    "\n",
    "Explanation: The optimal choice of operations is:\n",
    "\n",
    "(1 * gcd(1, 5)) + (2 * gcd(2, 4)) + (3 * gcd(3, 6)) = 1 + 4 + 9 = 14\n",
    " \n",
    "\n",
    "Constraints:\n",
    "\n",
    "1 <= n <= 7\n",
    "\n",
    "nums.length == 2 * n\n",
    "\n",
    "1 <= nums[i] <= 106"
   ]
  },
  {
   "cell_type": "code",
   "execution_count": 26,
   "metadata": {},
   "outputs": [],
   "source": [
    "def maxScore(nums):\n",
    "    \n",
    "    return helper(nums, 1)\n",
    "\n",
    "def helper(nums, k):\n",
    "    if not nums:\n",
    "        return 0\n",
    "    \n",
    "    ans = 0\n",
    "    \n",
    "    for i in range(len(nums)):\n",
    "        for j in range(i+1, len(nums)):\n",
    "            \n",
    "            rest = nums[:i]+nums[i+1:j]+nums[j+1:]\n",
    "            ans = max(ans, k*gcd(nums[i],nums[j]) + helper(rest, k+1))\n",
    "    return ans\n",
    "\n",
    "def gcd(a,b):\n",
    "    return b if a%b == 0 else gcd(b, a%b)\n",
    "        "
   ]
  },
  {
   "cell_type": "code",
   "execution_count": 27,
   "metadata": {},
   "outputs": [
    {
     "data": {
      "text/plain": [
       "1"
      ]
     },
     "execution_count": 27,
     "metadata": {},
     "output_type": "execute_result"
    }
   ],
   "source": [
    "nums = [1,2]\n",
    "maxScore(nums)"
   ]
  },
  {
   "cell_type": "code",
   "execution_count": 28,
   "metadata": {},
   "outputs": [
    {
     "data": {
      "text/plain": [
       "11"
      ]
     },
     "execution_count": 28,
     "metadata": {},
     "output_type": "execute_result"
    }
   ],
   "source": [
    "nums = [3,4,6,8]\n",
    "maxScore(nums)"
   ]
  },
  {
   "cell_type": "code",
   "execution_count": 29,
   "metadata": {},
   "outputs": [
    {
     "data": {
      "text/plain": [
       "14"
      ]
     },
     "execution_count": 29,
     "metadata": {},
     "output_type": "execute_result"
    }
   ],
   "source": [
    "nums = [1,2,3,4,5,6]\n",
    "maxScore(nums)"
   ]
  },
  {
   "cell_type": "code",
   "execution_count": null,
   "metadata": {},
   "outputs": [],
   "source": []
  }
 ],
 "metadata": {
  "kernelspec": {
   "display_name": "Python 3",
   "language": "python",
   "name": "python3"
  },
  "language_info": {
   "codemirror_mode": {
    "name": "ipython",
    "version": 3
   },
   "file_extension": ".py",
   "mimetype": "text/x-python",
   "name": "python",
   "nbconvert_exporter": "python",
   "pygments_lexer": "ipython3",
   "version": "3.8.3"
  }
 },
 "nbformat": 4,
 "nbformat_minor": 4
}

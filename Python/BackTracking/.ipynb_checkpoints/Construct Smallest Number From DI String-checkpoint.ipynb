{
 "cells": [
  {
   "cell_type": "markdown",
   "metadata": {},
   "source": [
    "## Leetcode 2375 (Medium)\n",
    "\n",
    "You are given a 0-indexed string pattern of length n consisting of the characters 'I' meaning increasing and 'D' meaning decreasing.\n",
    "\n",
    "A 0-indexed string num of length n + 1 is created using the following conditions:\n",
    "\n",
    "num consists of the digits '1' to '9', where each digit is used at most once.\n",
    "\n",
    "If pattern[i] == 'I', then num[i] < num[i + 1].\n",
    "\n",
    "If pattern[i] == 'D', then num[i] > num[i + 1].\n",
    "\n",
    "Return the lexicographically smallest possible string num that meets the conditions.\n",
    "\n",
    " \n",
    "\n",
    "Example 1:\n",
    "\n",
    "Input: pattern = \"IIIDIDDD\"\n",
    "\n",
    "Output: \"123549876\"\n",
    "\n",
    "Explanation:\n",
    "\n",
    "At indices 0, 1, 2, and 4 we must have that num[i] < num[i+1].\n",
    "\n",
    "At indices 3, 5, 6, and 7 we must have that num[i] > num[i+1].\n",
    "\n",
    "Some possible values of num are \"245639871\", \"135749862\", and \"123849765\".\n",
    "\n",
    "It can be proven that \"123549876\" is the smallest possible num that meets the conditions.\n",
    "\n",
    "Note that \"123414321\" is not possible because the digit '1' is used more than once.\n",
    "\n",
    "Example 2:\n",
    "\n",
    "Input: pattern = \"DDD\"\n",
    "\n",
    "Output: \"4321\"\n",
    "\n",
    "Explanation:\n",
    "\n",
    "Some possible values of num are \"9876\", \"7321\", and \"8742\".\n",
    "\n",
    "It can be proven that \"4321\" is the smallest possible num that meets the conditions.\n",
    " \n",
    "\n",
    "Constraints:\n",
    "\n",
    "1 <= pattern.length <= 8\n",
    "\n",
    "pattern consists of only the letters 'I' and 'D'\n"
   ]
  },
  {
   "cell_type": "code",
   "execution_count": 85,
   "metadata": {},
   "outputs": [],
   "source": [
    "def smallestNumber(pattern):\n",
    "    temp = []\n",
    "    ans = []\n",
    "    n = len(pattern)\n",
    "    for i in range(n+1):\n",
    "        temp.append(str(i+1))\n",
    "        if i == n or pattern[i] == \"I\":\n",
    "            while temp:\n",
    "                ans.append(temp.pop())\n",
    "    return \"\". join(ans)\n",
    "                "
   ]
  },
  {
   "cell_type": "code",
   "execution_count": 89,
   "metadata": {},
   "outputs": [
    {
     "data": {
      "text/plain": [
       "'2143657'"
      ]
     },
     "execution_count": 89,
     "metadata": {},
     "output_type": "execute_result"
    }
   ],
   "source": [
    "smallestNumber(\"DIDIDI\")"
   ]
  },
  {
   "cell_type": "code",
   "execution_count": null,
   "metadata": {},
   "outputs": [],
   "source": []
  },
  {
   "cell_type": "code",
   "execution_count": null,
   "metadata": {},
   "outputs": [],
   "source": []
  }
 ],
 "metadata": {
  "kernelspec": {
   "display_name": "Python 3",
   "language": "python",
   "name": "python3"
  },
  "language_info": {
   "codemirror_mode": {
    "name": "ipython",
    "version": 3
   },
   "file_extension": ".py",
   "mimetype": "text/x-python",
   "name": "python",
   "nbconvert_exporter": "python",
   "pygments_lexer": "ipython3",
   "version": "3.8.3"
  }
 },
 "nbformat": 4,
 "nbformat_minor": 4
}

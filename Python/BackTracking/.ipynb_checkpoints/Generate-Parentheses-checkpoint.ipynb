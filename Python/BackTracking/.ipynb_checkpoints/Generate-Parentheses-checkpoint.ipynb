{
 "cells": [
  {
   "cell_type": "markdown",
   "metadata": {},
   "source": [
    "## Leetcode 22\n",
    "\n",
    "Given n pairs of parentheses, write a function to generate all combinations of well-formed parentheses.\n",
    "\n",
    " \n",
    "\n",
    "Example 1:\n",
    "\n",
    "Input: n = 3\n",
    "\n",
    "Output: [\"((()))\",\"(()())\",\"(())()\",\"()(())\",\"()()()\"]\n",
    "\n",
    "Example 2:\n",
    "\n",
    "Input: n = 1\n",
    "\n",
    "Output: [\"()\"]\n",
    " \n",
    "\n",
    "Constraints:\n",
    "\n",
    "1 <= n <= 8"
   ]
  },
  {
   "cell_type": "code",
   "execution_count": 7,
   "metadata": {},
   "outputs": [],
   "source": [
    "def generateParenthesis(n):\n",
    "    res = []\n",
    "    buildParenthesis(n,n,\"\", res)\n",
    "    return res\n",
    "def buildParenthesis(open, close, temp, res):\n",
    "    if open == 0 and close == 0:\n",
    "        res.append(temp[:])\n",
    "        return\n",
    "    if open>0:\n",
    "        # Either you add parentheses separately and then do the backtracking separately\n",
    "        # add parenthes separately\n",
    "        #temp = temp+\"(\"\n",
    "        #buildParenthesis(open-1, close, temp, res)\n",
    "        # remove parenthes separately for backtracking\n",
    "        #temp = temp[0: len(temp)- 1]\n",
    "        buildParenthesis(open-1, close, temp+\"(\", res)\n",
    "        # Or add parentheses while calling method, so no need to remove parenthes separately for backtracking.\n",
    "        \n",
    "    if close > 0 and close > open:\n",
    "        #temp = temp + \")\"\n",
    "        #buildParenthesis(open, close-1, temp, res)\n",
    "        #temp = temp[0: len(temp)- 1]\n",
    "        buildParenthesis(open, close-1, temp+\")\", res)\n",
    "    \n",
    "        \n",
    "        "
   ]
  },
  {
   "cell_type": "code",
   "execution_count": 8,
   "metadata": {},
   "outputs": [
    {
     "data": {
      "text/plain": [
       "['((()))', '(()())', '(())()', '()(())', '()()()']"
      ]
     },
     "execution_count": 8,
     "metadata": {},
     "output_type": "execute_result"
    }
   ],
   "source": [
    "generateParenthesis(3)"
   ]
  },
  {
   "cell_type": "code",
   "execution_count": null,
   "metadata": {},
   "outputs": [],
   "source": []
  }
 ],
 "metadata": {
  "kernelspec": {
   "display_name": "Python 3",
   "language": "python",
   "name": "python3"
  },
  "language_info": {
   "codemirror_mode": {
    "name": "ipython",
    "version": 3
   },
   "file_extension": ".py",
   "mimetype": "text/x-python",
   "name": "python",
   "nbconvert_exporter": "python",
   "pygments_lexer": "ipython3",
   "version": "3.8.3"
  }
 },
 "nbformat": 4,
 "nbformat_minor": 4
}

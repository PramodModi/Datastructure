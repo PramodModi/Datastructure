{
 "cells": [
  {
   "cell_type": "markdown",
   "metadata": {},
   "source": [
    "## Leetcode 2305\n",
    "You are given an integer array cookies, where cookies[i] denotes the number of cookies in the ith bag. You are also given an integer k that denotes the number of children to distribute all the bags of cookies to. All the cookies in the same bag must go to the same child and cannot be split up.\n",
    "\n",
    "The unfairness of a distribution is defined as the maximum total cookies obtained by a single child in the distribution.\n",
    "\n",
    "Return the minimum unfairness of all distributions.\n",
    "\n",
    " \n",
    "\n",
    "Example 1:\n",
    "\n",
    "Input: cookies = [8,15,10,20,8], k = 2\n",
    "\n",
    "Output: 31\n",
    "\n",
    "Explanation: One optimal distribution is [8,15,8] and [10,20]\n",
    "\n",
    "- The 1st child receives [8,15,8] which has a total of 8 + 15 + 8 = 31 cookies.\n",
    "\n",
    "- The 2nd child receives [10,20] which has a total of 10 + 20 = 30 cookies.\n",
    "\n",
    "The unfairness of the distribution is max(31,30) = 31.\n",
    "\n",
    "It can be shown that there is no distribution with an unfairness less than 31.\n",
    "\n",
    "Example 2:\n",
    "\n",
    "Input: cookies = [6,1,3,2,2,4,1,2], k = 3\n",
    "\n",
    "Output: 7\n",
    "\n",
    "Explanation: One optimal distribution is [6,1], [3,2,2], and [4,1,2]\n",
    "\n",
    "- The 1st child receives [6,1] which has a total of 6 + 1 = 7 cookies.\n",
    "\n",
    "- The 2nd child receives [3,2,2] which has a total of 3 + 2 + 2 = 7 cookies.\n",
    "\n",
    "- The 3rd child receives [4,1,2] which has a total of 4 + 1 + 2 = 7 cookies.\n",
    "\n",
    "The unfairness of the distribution is max(7,7,7) = 7.\n",
    "\n",
    "It can be shown that there is no distribution with an unfairness less than 7.\n",
    " \n",
    "\n",
    "Constraints:\n",
    "\n",
    "2 <= cookies.length <= 8\n",
    "\n",
    "1 <= cookies[i] <= 105\n",
    "\n",
    "2 <= k <= cookies.length"
   ]
  },
  {
   "cell_type": "code",
   "execution_count": 27,
   "metadata": {},
   "outputs": [],
   "source": [
    "class answer:\n",
    "    def __init__(self):\n",
    "        self.res = float(\"inf\")\n",
    "def distributeCookies(cookies, k):\n",
    "    temp = [0]* k\n",
    "    ans = answer()\n",
    "    \n",
    "    helper(cookies, k, 0, temp, ans)\n",
    "    return ans.res\n",
    "def helper(cookies, k, index, temp, ans):\n",
    "    if index == len(cookies):\n",
    "        ans.res = min(ans.res, max(temp))\n",
    "        return\n",
    "    if max(temp) > ans.res:\n",
    "        return\n",
    "    for i in range(k):\n",
    "        temp[i] += cookies[index]\n",
    "        helper(cookies, k, index+1, temp, ans)\n",
    "        temp[i] -= cookies[index]\n",
    "    "
   ]
  },
  {
   "cell_type": "code",
   "execution_count": 28,
   "metadata": {},
   "outputs": [
    {
     "data": {
      "text/plain": [
       "7"
      ]
     },
     "execution_count": 28,
     "metadata": {},
     "output_type": "execute_result"
    }
   ],
   "source": [
    "cookies = [6,1,3,2,2,4,1,2]\n",
    "k = 3\n",
    "distributeCookies(cookies, k)"
   ]
  },
  {
   "cell_type": "code",
   "execution_count": 29,
   "metadata": {},
   "outputs": [
    {
     "data": {
      "text/plain": [
       "31"
      ]
     },
     "execution_count": 29,
     "metadata": {},
     "output_type": "execute_result"
    }
   ],
   "source": [
    "cookies =  [8,15,10,20,8]\n",
    "k = 2\n",
    "distributeCookies(cookies, k)"
   ]
  },
  {
   "cell_type": "code",
   "execution_count": null,
   "metadata": {},
   "outputs": [],
   "source": []
  }
 ],
 "metadata": {
  "kernelspec": {
   "display_name": "Python 3",
   "language": "python",
   "name": "python3"
  },
  "language_info": {
   "codemirror_mode": {
    "name": "ipython",
    "version": 3
   },
   "file_extension": ".py",
   "mimetype": "text/x-python",
   "name": "python",
   "nbconvert_exporter": "python",
   "pygments_lexer": "ipython3",
   "version": "3.8.3"
  }
 },
 "nbformat": 4,
 "nbformat_minor": 4
}

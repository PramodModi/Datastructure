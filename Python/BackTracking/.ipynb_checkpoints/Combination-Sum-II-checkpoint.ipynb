{
 "cells": [
  {
   "cell_type": "markdown",
   "metadata": {},
   "source": [
    "## Leet code 40 Combination Sum II\n",
    "\n",
    "Given a collection of candidate numbers (candidates) and a target number (target), find all unique combinations in candidates where the candidate numbers sum to target.\n",
    "\n",
    "Each number in candidates may only be used once in the combination.\n",
    "\n",
    "Note: The solution set must not contain duplicate combinations.\n",
    "\n",
    " \n",
    "\n",
    "Example 1:\n",
    "\n",
    "Input: candidates = [10,1,2,7,6,1,5], target = 8\n",
    "\n",
    "Output: \n",
    "[\n",
    "[1,1,6],\n",
    "[1,2,5],\n",
    "[1,7],\n",
    "[2,6]\n",
    "]\n",
    "Example 2:\n",
    "\n",
    "Input: candidates = [2,5,2,1,2], target = 5\n",
    "\n",
    "Output: \n",
    "[\n",
    "[1,2,2],\n",
    "[5]\n",
    "]\n",
    " \n",
    "\n",
    "Constraints:\n",
    "\n",
    "1 <= candidates.length <= 100\n",
    "\n",
    "1 <= candidates[i] <= 50\n",
    "\n",
    "1 <= target <= 30"
   ]
  },
  {
   "cell_type": "code",
   "execution_count": 5,
   "metadata": {},
   "outputs": [],
   "source": [
    "def combinationSum(candidates, target):\n",
    "    temp = []\n",
    "    res = []\n",
    "    # Sorting is needed to avoid duplicate output like [1,7] and [7,1]\n",
    "    candidates.sort()\n",
    "    combinations(candidates, target, temp, res)\n",
    "    return res\n",
    "\n",
    "def combinations(candidates, target, temp, res):\n",
    "    if target == 0:\n",
    "        res.append(temp[:])\n",
    "        return\n",
    "    \n",
    "    if target < 0:\n",
    "        return\n",
    "    \n",
    "    for index, num in enumerate(candidates):\n",
    "        # To avoid the duplicate output like [1,7] and [7,1]\n",
    "        if index and (num == candidates[index-1]):\n",
    "            continue\n",
    "        temp.append(num)\n",
    "        combinations(candidates[index+1:], target-num, temp, res)\n",
    "        temp.pop()\n",
    "        \n",
    "        "
   ]
  },
  {
   "cell_type": "code",
   "execution_count": 6,
   "metadata": {},
   "outputs": [
    {
     "data": {
      "text/plain": [
       "[[1, 1, 6], [1, 2, 5], [1, 7], [2, 6]]"
      ]
     },
     "execution_count": 6,
     "metadata": {},
     "output_type": "execute_result"
    }
   ],
   "source": [
    "candidates = [10,1,2,7,6,1,5]\n",
    "target = 8\n",
    "combinationSum(candidates, target)"
   ]
  },
  {
   "cell_type": "code",
   "execution_count": 19,
   "metadata": {},
   "outputs": [],
   "source": [
    "# Without sorting, with dictionary sliced\n",
    "\n",
    "def cs2(candidates, target):\n",
    "    count = {}\n",
    "    for n in candidates:\n",
    "        count[n] = count.get(n, 0) + 1\n",
    "    temp = []\n",
    "    res = []\n",
    "    \n",
    "    helper(count, target, temp, res)\n",
    "    return res\n",
    "\n",
    "def helper(count, target, temp, res):\n",
    "    if target == 0:\n",
    "        res.append(temp[:])\n",
    "        return\n",
    "    if target < 0:\n",
    "        return\n",
    "    \n",
    "    \n",
    "    for i in count:\n",
    "        if count[i] > 0:\n",
    "            temp.append(i)\n",
    "            count[i] -= 1\n",
    "            helper(dict(list(count.items())[i:]), target-i, temp, res)\n",
    "            temp.pop()\n",
    "            count[i] += 1\n",
    "                "
   ]
  },
  {
   "cell_type": "code",
   "execution_count": 20,
   "metadata": {},
   "outputs": [
    {
     "data": {
      "text/plain": [
       "[[1, 1, 6], [1, 2, 5], [1, 7], [2, 6]]"
      ]
     },
     "execution_count": 20,
     "metadata": {},
     "output_type": "execute_result"
    }
   ],
   "source": [
    "candidates = [10,1,2,7,6,1,5]\n",
    "target = 8\n",
    "cs2(candidates, target)"
   ]
  },
  {
   "cell_type": "code",
   "execution_count": 33,
   "metadata": {},
   "outputs": [],
   "source": [
    "# Without sorting, with index, no dict slice is needed\n",
    "\n",
    "def cs3(candidates, target):\n",
    "    count = {}\n",
    "    for n in candidates:\n",
    "        count[n] = count.get(n, 0) + 1\n",
    "    temp = []\n",
    "    res = []\n",
    "    \n",
    "    helper(count,0, target, temp, res)\n",
    "    return res\n",
    "\n",
    "def helper(count, index, target, temp, res):\n",
    "    if target == 0:\n",
    "        res.append(temp[:])\n",
    "        return\n",
    "    if target < 0:\n",
    "        return\n",
    "    \n",
    "    \n",
    "    for j in range(index, len(count)):\n",
    "        i = list(count.keys())[j]\n",
    "        if count[i] > 0:\n",
    "            temp.append(i)\n",
    "            count[i] -= 1\n",
    "            helper(count, j, target-i, temp, res)\n",
    "            temp.pop()\n",
    "            count[i] += 1"
   ]
  },
  {
   "cell_type": "code",
   "execution_count": 34,
   "metadata": {},
   "outputs": [
    {
     "data": {
      "text/plain": [
       "[[1, 1, 6], [1, 2, 5], [1, 7], [2, 6]]"
      ]
     },
     "execution_count": 34,
     "metadata": {},
     "output_type": "execute_result"
    }
   ],
   "source": [
    "candidates = [10,1,2,7,6,1,5]\n",
    "target = 8\n",
    "cs3(candidates, target)"
   ]
  },
  {
   "cell_type": "code",
   "execution_count": 15,
   "metadata": {},
   "outputs": [],
   "source": [
    "# Without sorting, with index, no dict slice is needed\n",
    "\n",
    "def cs4(candidates, target):\n",
    "    count = {}\n",
    "    for n in candidates:\n",
    "        count[n] = count.get(n, 0) + 1\n",
    "    temp = []\n",
    "    res = []\n",
    "    \n",
    "    helper(count,0,target, temp, res)\n",
    "    return res\n",
    "\n",
    "def helper(count, index, target, temp, res):\n",
    "    if target == 0:\n",
    "        res.append(temp[:])\n",
    "        return\n",
    "    if target < 0:\n",
    "        return\n",
    "    \n",
    "    \n",
    "    for j in range(index, len(count)):\n",
    "        i, v = list(count.items())[j]\n",
    "        if v > 0:\n",
    "            temp.append(i)\n",
    "            count[i] -= 1\n",
    "            helper(count, j, target-i, temp, res)\n",
    "            temp.pop()\n",
    "            count[i] += 1"
   ]
  },
  {
   "cell_type": "code",
   "execution_count": 16,
   "metadata": {},
   "outputs": [
    {
     "data": {
      "text/plain": [
       "[[1, 1, 6], [1, 2, 5], [1, 7], [2, 6]]"
      ]
     },
     "execution_count": 16,
     "metadata": {},
     "output_type": "execute_result"
    }
   ],
   "source": [
    "candidates = [10,1,2,7,6,1,5]\n",
    "target = 8\n",
    "cs4(candidates, target)"
   ]
  },
  {
   "cell_type": "code",
   "execution_count": 5,
   "metadata": {},
   "outputs": [],
   "source": [
    "## By passing index in recurssion method rather than string slicing\n",
    "## Sorting and passing index in recurssion method\n",
    "\n",
    "def combinationSum2(candidates, target):\n",
    "    candidates.sort()\n",
    "    temp = []\n",
    "    res = []\n",
    "    helper(candidates, target, temp, res, 0)\n",
    "    return res\n",
    "def helper(candidates, target, temp, res, index):\n",
    "    if target == 0:\n",
    "        res.append(temp[:])\n",
    "        return\n",
    "    if target < 0:\n",
    "        return\n",
    "    for i in range(index, len(candidates)):\n",
    "        if i != index and candidates[i]== candidates[i-1]:\n",
    "            continue\n",
    "        temp.append(candidates[i])\n",
    "        helper(candidates, target-candidates[i], temp, res, i+1)\n",
    "        temp.pop()"
   ]
  },
  {
   "cell_type": "code",
   "execution_count": 6,
   "metadata": {},
   "outputs": [
    {
     "data": {
      "text/plain": [
       "[[1, 1, 6], [1, 2, 5], [1, 7], [2, 6]]"
      ]
     },
     "execution_count": 6,
     "metadata": {},
     "output_type": "execute_result"
    }
   ],
   "source": [
    "candidates = [10,1,2,7,6,1,5]\n",
    "target = 8\n",
    "combinationSum2(candidates, target)"
   ]
  },
  {
   "cell_type": "code",
   "execution_count": 7,
   "metadata": {},
   "outputs": [
    {
     "data": {
      "text/plain": [
       "[[1, 1, 1, 5], [1, 1, 3, 3], [3, 5]]"
      ]
     },
     "execution_count": 7,
     "metadata": {},
     "output_type": "execute_result"
    }
   ],
   "source": [
    "candidates = [3,1,3,5,1,1]\n",
    "target = 8\n",
    "combinationSum2(candidates, target)"
   ]
  },
  {
   "cell_type": "code",
   "execution_count": null,
   "metadata": {},
   "outputs": [],
   "source": []
  }
 ],
 "metadata": {
  "kernelspec": {
   "display_name": "Python 3",
   "language": "python",
   "name": "python3"
  },
  "language_info": {
   "codemirror_mode": {
    "name": "ipython",
    "version": 3
   },
   "file_extension": ".py",
   "mimetype": "text/x-python",
   "name": "python",
   "nbconvert_exporter": "python",
   "pygments_lexer": "ipython3",
   "version": "3.8.3"
  }
 },
 "nbformat": 4,
 "nbformat_minor": 4
}

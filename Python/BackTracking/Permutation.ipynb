{
 "cells": [
  {
   "cell_type": "markdown",
   "metadata": {},
   "source": [
    "## Leet code 46\n",
    "\n",
    "Given an array nums of distinct integers, return all the possible permutations. You can return the answer in any order.\n",
    "\n",
    " \n",
    "\n",
    "Example 1:\n",
    "\n",
    "Input: nums = [1,2,3]\n",
    "\n",
    "Output: [[1,2,3],[1,3,2],[2,1,3],[2,3,1],[3,1,2],[3,2,1]]\n",
    "\n",
    "Example 2:\n",
    "\n",
    "Input: nums = [0,1]\n",
    "\n",
    "Output: [[0,1],[1,0]]\n",
    "\n",
    "Example 3:\n",
    "\n",
    "Input: nums = [1]\n",
    "\n",
    "Output: [[1]]\n",
    " \n",
    "\n",
    "Constraints:\n",
    "\n",
    "1 <= nums.length <= 6\n",
    "\n",
    "-10 <= nums[i] <= 10\n",
    "\n",
    "All the integers of nums are unique."
   ]
  },
  {
   "cell_type": "code",
   "execution_count": 126,
   "metadata": {},
   "outputs": [],
   "source": [
    "def permutaion(numbers):\n",
    "    res = []\n",
    "    helper(numbers, 0, res)\n",
    "    return res\n",
    "def helper(numbers, index, res):\n",
    "    \n",
    "    if index == len(numbers):\n",
    "        res.append(numbers[:])\n",
    "        return\n",
    "    \n",
    "    for i in range(index, len(numbers)):\n",
    "        swap(numbers, i, index)\n",
    "        helper(numbers, index+1, res)\n",
    "        swap(numbers, i, index)\n",
    "def swap(numbers, i, index):\n",
    "    numbers[i], numbers[index] = numbers[index], numbers[i]\n",
    "        "
   ]
  },
  {
   "cell_type": "code",
   "execution_count": 127,
   "metadata": {},
   "outputs": [
    {
     "data": {
      "text/plain": [
       "[[1, 2, 3], [1, 3, 2], [2, 1, 3], [2, 3, 1], [3, 2, 1], [3, 1, 2]]"
      ]
     },
     "execution_count": 127,
     "metadata": {},
     "output_type": "execute_result"
    }
   ],
   "source": [
    "numbers = [1,2,3]\n",
    "permutaion(numbers)"
   ]
  },
  {
   "cell_type": "code",
   "execution_count": 14,
   "metadata": {},
   "outputs": [],
   "source": [
    "\n",
    "# Another approach without swaping\n",
    "\n",
    "def permutations(nums):\n",
    "    temp = []\n",
    "    res = []\n",
    "    helper(nums, temp, res, len(nums))\n",
    "    return res\n",
    "\n",
    "def helper(nums, temp, res, n):\n",
    "    if n == len(temp):\n",
    "        res.append(temp[:])\n",
    "        return\n",
    "    \n",
    "    for i, j in enumerate(nums):\n",
    "        temp.append(j)\n",
    "        helper(nums[0:i] + nums[i+1:], temp, res, n)\n",
    "        temp.pop()"
   ]
  },
  {
   "cell_type": "code",
   "execution_count": 15,
   "metadata": {},
   "outputs": [
    {
     "data": {
      "text/plain": [
       "[[1, 2, 3], [1, 3, 2], [2, 1, 3], [2, 3, 1], [3, 1, 2], [3, 2, 1]]"
      ]
     },
     "execution_count": 15,
     "metadata": {},
     "output_type": "execute_result"
    }
   ],
   "source": [
    "numbers = [1,2,3]\n",
    "permutations(numbers)"
   ]
  },
  {
   "cell_type": "code",
   "execution_count": null,
   "metadata": {},
   "outputs": [],
   "source": []
  }
 ],
 "metadata": {
  "kernelspec": {
   "display_name": "Python 3",
   "language": "python",
   "name": "python3"
  },
  "language_info": {
   "codemirror_mode": {
    "name": "ipython",
    "version": 3
   },
   "file_extension": ".py",
   "mimetype": "text/x-python",
   "name": "python",
   "nbconvert_exporter": "python",
   "pygments_lexer": "ipython3",
   "version": "3.8.3"
  }
 },
 "nbformat": 4,
 "nbformat_minor": 4
}

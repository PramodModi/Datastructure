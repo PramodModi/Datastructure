{
 "cells": [
  {
   "cell_type": "markdown",
   "metadata": {},
   "source": [
    "The n-queens puzzle is the problem of placing n queens on an n x n chessboard such that no two queens attack each other.\n",
    "\n",
    "Given an integer n, return the number of distinct solutions to the n-queens puzzle."
   ]
  },
  {
   "cell_type": "code",
   "execution_count": 5,
   "metadata": {},
   "outputs": [],
   "source": [
    "def totalNQueens(n):\n",
    "    temp = [0] * n\n",
    "    return possibleSolution(n, temp, 0)\n",
    "\n",
    "def possibleSolution(n, temp, row):\n",
    "    if row == n:\n",
    "        return 1\n",
    "    \n",
    "    numberOfSolution = 0\n",
    "    for col in range(n):\n",
    "        if isPlacementAllowed(row, col, temp):\n",
    "            temp[row] = col\n",
    "            numberOfSolution += possibleSolution(n, temp, row+1)\n",
    "            temp[row] = 0\n",
    "    return numberOfSolution\n",
    "\n",
    "def isPlacementAllowed(row, col, temp):\n",
    "    for r in range(row):\n",
    "        if temp[r] == col:\n",
    "            return False\n",
    "        if abs(col-temp[r]) == row-r:\n",
    "            return False\n",
    "    return True\n",
    "        \n",
    "    \n",
    "    \n",
    "    "
   ]
  },
  {
   "cell_type": "code",
   "execution_count": 8,
   "metadata": {},
   "outputs": [
    {
     "data": {
      "text/plain": [
       "1"
      ]
     },
     "execution_count": 8,
     "metadata": {},
     "output_type": "execute_result"
    }
   ],
   "source": [
    "totalNQueens(1)"
   ]
  },
  {
   "cell_type": "code",
   "execution_count": null,
   "metadata": {},
   "outputs": [],
   "source": []
  }
 ],
 "metadata": {
  "kernelspec": {
   "display_name": "Python 3",
   "language": "python",
   "name": "python3"
  },
  "language_info": {
   "codemirror_mode": {
    "name": "ipython",
    "version": 3
   },
   "file_extension": ".py",
   "mimetype": "text/x-python",
   "name": "python",
   "nbconvert_exporter": "python",
   "pygments_lexer": "ipython3",
   "version": "3.8.3"
  }
 },
 "nbformat": 4,
 "nbformat_minor": 4
}

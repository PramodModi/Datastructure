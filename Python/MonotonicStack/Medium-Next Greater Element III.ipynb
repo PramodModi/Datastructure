{
 "cells": [
  {
   "cell_type": "markdown",
   "metadata": {},
   "source": [
    "## Problem: 556. Next Greater Element III\n",
    "\n",
    "https://leetcode.com/problems/next-greater-element-iii/\n",
    "\n",
    "Given a positive integer n, find the smallest integer which has exactly the same digits existing in the integer n and is greater in value than n. If no such positive integer exists, return -1.\n",
    "\n",
    "Note that the returned integer should fit in 32-bit integer, if there is a valid answer but it does not fit in 32-bit integer, return -1.\n",
    "\n",
    " \n",
    "\n",
    "Example 1:\n",
    "\n",
    "    Input: n = 12\n",
    "    Output: 21\n",
    "Example 2:\n",
    "\n",
    "    Input: n = 21\n",
    "    Output: -1\n",
    " \n",
    "\n",
    "Constraints:\n",
    "\n",
    "    1 <= n <= 231 - 1"
   ]
  },
  {
   "cell_type": "markdown",
   "metadata": {},
   "source": [
    "### Approach:\n",
    "Let us start from example and see how our algorithm should work.\n",
    "Imaigne n = 234157641. Our goal is to find next number with the same digits, which is greater than given one and which is the smallest one. It makes sense to try to take our number as close to original one as possible. Let us try to do it: can it start from 2......, yes, for example 24.... Can it start with 2341...? Yes, it can be 23417.... Can it start with 23415...? No, it can not, and the reason, that the rest what we have 7641 already biggest number given digits 7, 6, 4, 1.\n",
    "So, we can see now, how our algorithm should work:\n",
    "\n",
    "Start from the end and look for increasing pattern, it our case 7641.\n",
    "If it happen, that all number has increasing pattern, there is no bigger number with the same digits, so we can return -1.\n",
    "Now, we need to find the first digit in our ending, which is less or equal to digits[i-1]: we have ending 5 7641 and we are looking for the next number with the same digits. What can go instead of 5: it is 6! Let us change these two digits, so we have 6 7541 now. Finally, we need to reverse last ditits to get 6 1457 as our ending.\n",
    "Complexity: time complexity is O(m), where m is number of digits in our number, space complexity O(m) as well."
   ]
  },
  {
   "cell_type": "code",
   "execution_count": 82,
   "metadata": {},
   "outputs": [],
   "source": [
    "## Need to write code\n",
    "def nextGreaterElement(n):\n",
    "    nums = numToList(n) # COnvert number to list\n",
    "    l = len(nums)\n",
    "    i = l-1\n",
    "    while i> 0:\n",
    "        if nums[i-1]<nums[i]:\n",
    "            break\n",
    "        i-= 1\n",
    "        \n",
    "    if i == 0:\n",
    "        return -1\n",
    "    j = i\n",
    "    while j < l:\n",
    "        if nums[j]<= nums[i-1]:\n",
    "            break\n",
    "        j+= 1\n",
    "    nums[i-1], nums[j-1] = nums[j-1], nums[i-1]\n",
    "    nums[i:] = nums[i:][::-1]\n",
    "    ret = listToNum(nums) # convert list to number\n",
    "    return ret if ret<1<<31 else -1 # return integer should fit in 32 bit.\n",
    "\n",
    "def numToList(n):\n",
    "    numList = []\n",
    "    while n:\n",
    "        numList.append(n%10)\n",
    "        n = n//10\n",
    "    return list(reversed(numList))\n",
    "\n",
    "def listToNum(numList):\n",
    "    n = len(numList)\n",
    "    sum = 0\n",
    "    for i in range(n):\n",
    "        sum += numList[i]*pow(10, n-1-i)\n",
    "    return sum\n",
    "    "
   ]
  },
  {
   "cell_type": "code",
   "execution_count": 83,
   "metadata": {},
   "outputs": [
    {
     "data": {
      "text/plain": [
       "21"
      ]
     },
     "execution_count": 83,
     "metadata": {},
     "output_type": "execute_result"
    }
   ],
   "source": [
    "n = 12\n",
    "nextGreaterElement(n)"
   ]
  },
  {
   "cell_type": "code",
   "execution_count": 84,
   "metadata": {},
   "outputs": [
    {
     "data": {
      "text/plain": [
       "-1"
      ]
     },
     "execution_count": 84,
     "metadata": {},
     "output_type": "execute_result"
    }
   ],
   "source": [
    "n = 21\n",
    "nextGreaterElement(n)"
   ]
  },
  {
   "cell_type": "code",
   "execution_count": 85,
   "metadata": {},
   "outputs": [
    {
     "data": {
      "text/plain": [
       "12354"
      ]
     },
     "execution_count": 85,
     "metadata": {},
     "output_type": "execute_result"
    }
   ],
   "source": [
    "\n",
    "nextGreaterElement(12345)"
   ]
  },
  {
   "cell_type": "code",
   "execution_count": 86,
   "metadata": {},
   "outputs": [
    {
     "data": {
      "text/plain": [
       "110"
      ]
     },
     "execution_count": 86,
     "metadata": {},
     "output_type": "execute_result"
    }
   ],
   "source": [
    "nextGreaterElement(101)"
   ]
  },
  {
   "cell_type": "code",
   "execution_count": 87,
   "metadata": {},
   "outputs": [],
   "source": [
    "## No need to write additional method to convert num to list and list to num. Use string methods\n",
    "def nextGreaterElement1(n):\n",
    "    nums = list(str(n)) # change number to string and then string to list\n",
    "    l = len(nums)\n",
    "    i = l-1\n",
    "    while i> 0:\n",
    "        if nums[i-1]<nums[i]:\n",
    "            break\n",
    "        i-= 1\n",
    "\n",
    "    if i == 0:\n",
    "        return -1\n",
    "    j = i\n",
    "    while j < l:\n",
    "        if nums[j]<= nums[i-1]:\n",
    "            break\n",
    "        j+= 1\n",
    "    nums[i-1], nums[j-1] = nums[j-1], nums[i-1]\n",
    "    nums[i:] = nums[i:][::-1]\n",
    "    ret = int(\"\".join(nums)) # Chnage list to string and then string to int\n",
    "    return ret if ret<1<<31 else -1 # return integer should fit in 32 bit.\n",
    " "
   ]
  },
  {
   "cell_type": "code",
   "execution_count": 88,
   "metadata": {},
   "outputs": [
    {
     "data": {
      "text/plain": [
       "12354"
      ]
     },
     "execution_count": 88,
     "metadata": {},
     "output_type": "execute_result"
    }
   ],
   "source": [
    "nextGreaterElement1(12345)"
   ]
  },
  {
   "cell_type": "code",
   "execution_count": 89,
   "metadata": {},
   "outputs": [
    {
     "data": {
      "text/plain": [
       "110"
      ]
     },
     "execution_count": 89,
     "metadata": {},
     "output_type": "execute_result"
    }
   ],
   "source": [
    "nextGreaterElement1(101)"
   ]
  },
  {
   "cell_type": "code",
   "execution_count": 90,
   "metadata": {},
   "outputs": [
    {
     "data": {
      "text/plain": [
       "648"
      ]
     },
     "execution_count": 90,
     "metadata": {},
     "output_type": "execute_result"
    }
   ],
   "source": [
    "\n",
    "nextGreaterElement1(486)"
   ]
  },
  {
   "cell_type": "code",
   "execution_count": null,
   "metadata": {},
   "outputs": [],
   "source": []
  }
 ],
 "metadata": {
  "kernelspec": {
   "display_name": "Python 3",
   "language": "python",
   "name": "python3"
  },
  "language_info": {
   "codemirror_mode": {
    "name": "ipython",
    "version": 3
   },
   "file_extension": ".py",
   "mimetype": "text/x-python",
   "name": "python",
   "nbconvert_exporter": "python",
   "pygments_lexer": "ipython3",
   "version": "3.8.3"
  }
 },
 "nbformat": 4,
 "nbformat_minor": 4
}

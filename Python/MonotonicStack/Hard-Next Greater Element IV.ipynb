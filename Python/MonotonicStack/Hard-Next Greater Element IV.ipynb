{
 "cells": [
  {
   "cell_type": "markdown",
   "metadata": {},
   "source": [
    "## Problem: 2454. Next Greater Element IV\n",
    "\n",
    "https://leetcode.com/problems/next-greater-element-iv/\n",
    "\n",
    "You are given a 0-indexed array of non-negative integers nums. For each integer in nums, you must find its respective second greater integer.\n",
    "\n",
    "The second greater integer of nums[i] is nums[j] such that:\n",
    "\n",
    "j > i\n",
    "nums[j] > nums[i]\n",
    "There exists exactly one index k such that nums[k] > nums[i] and i < k < j.\n",
    "If there is no such nums[j], the second greater integer is considered to be -1.\n",
    "\n",
    "For example, in the array [1, 2, 4, 3], the second greater integer of 1 is 4, 2 is 3, and that of 3 and 4 is -1.\n",
    "Return an integer array answer, where answer[i] is the second greater integer of nums[i].\n",
    "\n",
    " \n",
    "\n",
    "Example 1:\n",
    "\n",
    "    Input: nums = [2,4,0,9,6]\n",
    "    Output: [9,6,6,-1,-1]\n",
    "    Explanation:\n",
    "    0th index: 4 is the first integer greater than 2, and 9 is the second integer greater than 2, to the right of 2.\n",
    "    1st index: 9 is the first, and 6 is the second integer greater than 4, to the right of 4.\n",
    "    2nd index: 9 is the first, and 6 is the second integer greater than 0, to the right of 0.\n",
    "    3rd index: There is no integer greater than 9 to its right, so the second greater integer is considered to be -1.\n",
    "    4th index: There is no integer greater than 6 to its right, so the second greater integer is considered to be -1.\n",
    "    Thus, we return [9,6,6,-1,-1].\n",
    "Example 2:\n",
    "\n",
    "    Input: nums = [3,3]\n",
    "    Output: [-1,-1]\n",
    "    Explanation:\n",
    "    We return [-1,-1] since neither integer has any integer greater than it.\n",
    "\n",
    "\n",
    "Constraints:\n",
    "\n",
    "    1 <= nums.length <= 105\n",
    "    0 <= nums[i] <= 109"
   ]
  },
  {
   "cell_type": "code",
   "execution_count": 8,
   "metadata": {},
   "outputs": [],
   "source": [
    "## Need to write code . Wrong code, need to correct it.\n",
    "def secondGreaterElement(nums):\n",
    "    n = len(nums)\n",
    "    if n == 1:\n",
    "        return [-1]\n",
    "    if n == 2:\n",
    "        return [-1,-1]\n",
    "    stack = []\n",
    "    stack.append(nums[n-1])\n",
    "    stack.append(nums[n-2])\n",
    "    ret = [-1] * n\n",
    "    prevNum = -1\n",
    "    for i in range(n-3, -1, -1):\n",
    "        count = 2\n",
    "        num = nums[i]\n",
    "        while stack and (count>1 or num >= stack[-1]):\n",
    "            if num < stack[-1]:\n",
    "                prevNum = stack[-1]\n",
    "                count -= 1\n",
    "            stack.pop()\n",
    "                \n",
    "        if stack:\n",
    "            ret[i] = stack[-1]\n",
    "            tempNum = stack.pop()\n",
    "            stack.append(prevNum)\n",
    "            stack.append(tempNum)\n",
    "            \n",
    "        else:\n",
    "            ret[i] = -1\n",
    "            if prevNum != -1:\n",
    "                stack.append(prevNum)\n",
    "        stack.append(num)\n",
    "    return ret\n",
    "            \n",
    "        \n",
    "        "
   ]
  },
  {
   "cell_type": "code",
   "execution_count": 9,
   "metadata": {},
   "outputs": [
    {
     "data": {
      "text/plain": [
       "[9, 9, 6, -1, -1]"
      ]
     },
     "execution_count": 9,
     "metadata": {},
     "output_type": "execute_result"
    }
   ],
   "source": [
    "nums = [2,4,0,9,6]\n",
    "secondGreaterElement(nums)"
   ]
  },
  {
   "cell_type": "code",
   "execution_count": 10,
   "metadata": {},
   "outputs": [
    {
     "data": {
      "text/plain": [
       "[-1, -1]"
      ]
     },
     "execution_count": 10,
     "metadata": {},
     "output_type": "execute_result"
    }
   ],
   "source": [
    "nums = [3,3]\n",
    "secondGreaterElement(nums)"
   ]
  },
  {
   "cell_type": "code",
   "execution_count": null,
   "metadata": {},
   "outputs": [],
   "source": []
  }
 ],
 "metadata": {
  "kernelspec": {
   "display_name": "Python 3",
   "language": "python",
   "name": "python3"
  },
  "language_info": {
   "codemirror_mode": {
    "name": "ipython",
    "version": 3
   },
   "file_extension": ".py",
   "mimetype": "text/x-python",
   "name": "python",
   "nbconvert_exporter": "python",
   "pygments_lexer": "ipython3",
   "version": "3.8.3"
  }
 },
 "nbformat": 4,
 "nbformat_minor": 4
}

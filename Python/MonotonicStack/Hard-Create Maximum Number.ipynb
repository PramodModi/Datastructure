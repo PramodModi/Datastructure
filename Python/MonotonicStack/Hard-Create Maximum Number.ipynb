{
 "cells": [
  {
   "cell_type": "markdown",
   "metadata": {},
   "source": [
    "## Problem: 321. Create Maximum Number\n",
    "https://leetcode.com/problems/create-maximum-number/description/\n",
    "\n",
    "You are given two integer arrays nums1 and nums2 of lengths m and n respectively. nums1 and nums2 represent the digits of two numbers. You are also given an integer k.\n",
    "\n",
    "Create the maximum number of length k <= m + n from digits of the two numbers. The relative order of the digits from the same array must be preserved.\n",
    "\n",
    "Return an array of the k digits representing the answer.\n",
    "\n",
    " \n",
    "\n",
    "Example 1:\n",
    "\n",
    "    Input: nums1 = [3,4,6,5], nums2 = [9,1,2,5,8,3], k = 5\n",
    "    Output: [9,8,6,5,3]\n",
    "Example 2:\n",
    "\n",
    "    Input: nums1 = [6,7], nums2 = [6,0,4], k = 5\n",
    "    Output: [6,7,6,0,4]\n",
    "Example 3:\n",
    "\n",
    "    Input: nums1 = [3,9], nums2 = [8,9], k = 3\n",
    "    Output: [9,8,9]\n",
    " \n",
    "\n",
    "Constraints:\n",
    "\n",
    "    m == nums1.length\n",
    "    n == nums2.length\n",
    "    1 <= m, n <= 500\n",
    "    0 <= nums1[i], nums2[i] <= 9\n",
    "    1 <= k <= m + n"
   ]
  },
  {
   "cell_type": "code",
   "execution_count": 16,
   "metadata": {},
   "outputs": [],
   "source": [
    "def maxNumber(nums1, nums2, k):\n",
    "    n = len(nums1)\n",
    "    m = len(nums2)\n",
    "    i = max(0, k-m)\n",
    "    retMax = [0] * k\n",
    "    while i <= k and i <= n:\n",
    "        maxNums1 = getMaxNumber(nums1, i)\n",
    "        maxNums2 = getMaxNumber(nums2, k-i)\n",
    "        maxNums = merge(maxNums1, maxNums2)\n",
    "        retMax = max(maxNums, retMax)\n",
    "        i+=1\n",
    "    return retMax\n",
    "    \n",
    "# Find the maximum number of size K\n",
    "def getMaxNumber(nums, k):\n",
    "    n = len(nums)\n",
    "    stack = []\n",
    "    for i in range(n):\n",
    "        while stack and nums[i] > stack[-1] and len(stack) + n-i-1 >= k:\n",
    "            stack.pop()\n",
    "            \n",
    "        if len(stack)<k:\n",
    "            stack.append(nums[i])\n",
    "    return stack\n",
    "\n",
    "\n",
    "    \n",
    "def merge(nums1, nums2):\n",
    "    n = len(nums1)\n",
    "    m = len(nums2)\n",
    "    maxnums = [0] * (n+m)\n",
    "\n",
    "    i, j, k = 0, 0, 0\n",
    "    while i<n and j <m:\n",
    "        s1 = i\n",
    "        s2 = j\n",
    "        while s1<n and s2<m and nums1[s1] == nums2[s2]:\n",
    "            s1 += 1\n",
    "            s2 += 1\n",
    "        \n",
    "        if s2 >= m or (s1 < n and nums1[s1] >nums2[s2]):\n",
    "            maxnums[k] = nums1[i]\n",
    "            i += 1\n",
    "        else:\n",
    "            maxnums[k] = nums2[j]\n",
    "            j+=1\n",
    "        k+=1\n",
    "    while i<n:\n",
    "        maxnums[k] = nums1[i]\n",
    "        i+=1\n",
    "        k+=1\n",
    "    while j<m:\n",
    "        maxnums[k] = nums2[j]\n",
    "        j+=1\n",
    "        k+=1\n",
    "    return maxnums       "
   ]
  },
  {
   "cell_type": "code",
   "execution_count": 17,
   "metadata": {},
   "outputs": [
    {
     "data": {
      "text/plain": [
       "[6, 8, 6, 4, 3]"
      ]
     },
     "execution_count": 17,
     "metadata": {},
     "output_type": "execute_result"
    }
   ],
   "source": [
    "nums1 = [6,3]\n",
    "nums2 = [6,8,4]\n",
    "maxNumber(nums1, nums2, 5)"
   ]
  },
  {
   "cell_type": "code",
   "execution_count": 18,
   "metadata": {},
   "outputs": [
    {
     "data": {
      "text/plain": [
       "[9, 8, 6, 5, 3]"
      ]
     },
     "execution_count": 18,
     "metadata": {},
     "output_type": "execute_result"
    }
   ],
   "source": [
    "nums1 = [3,4,6,5]\n",
    "nums2 = [9,1,2,5,8,3]\n",
    "k = 5\n",
    "\n",
    "maxNumber(nums1, nums2, k)       "
   ]
  },
  {
   "cell_type": "code",
   "execution_count": 19,
   "metadata": {},
   "outputs": [
    {
     "data": {
      "text/plain": [
       "[6, 7, 6, 0, 4]"
      ]
     },
     "execution_count": 19,
     "metadata": {},
     "output_type": "execute_result"
    }
   ],
   "source": [
    "nums1 = [6,7]\n",
    "nums2 = [6,0,4]\n",
    "maxNumber(nums1, nums2, 5)"
   ]
  },
  {
   "cell_type": "code",
   "execution_count": 20,
   "metadata": {},
   "outputs": [
    {
     "data": {
      "text/plain": [
       "[9, 8, 9]"
      ]
     },
     "execution_count": 20,
     "metadata": {},
     "output_type": "execute_result"
    }
   ],
   "source": [
    "nums1 = [3,9]\n",
    "nums2 = [8,9]\n",
    "maxNumber(nums1, nums2, 3)"
   ]
  },
  {
   "cell_type": "code",
   "execution_count": 21,
   "metadata": {},
   "outputs": [
    {
     "data": {
      "text/plain": [
       "[8, 6, 4]"
      ]
     },
     "execution_count": 21,
     "metadata": {},
     "output_type": "execute_result"
    }
   ],
   "source": [
    "nums1 =[5,6,8]\n",
    "nums2 =[6,4,0]\n",
    "k =3\n",
    "maxNumber(nums1, nums2, k) "
   ]
  },
  {
   "cell_type": "code",
   "execution_count": null,
   "metadata": {},
   "outputs": [],
   "source": [
    "## Another way of merge method.\n",
    "def merge(nums1, nums2):\n",
    "    return [max(nums1, nums2).pop(0) for _ in nums1+nums2]"
   ]
  }
 ],
 "metadata": {
  "kernelspec": {
   "display_name": "Python 3",
   "language": "python",
   "name": "python3"
  },
  "language_info": {
   "codemirror_mode": {
    "name": "ipython",
    "version": 3
   },
   "file_extension": ".py",
   "mimetype": "text/x-python",
   "name": "python",
   "nbconvert_exporter": "python",
   "pygments_lexer": "ipython3",
   "version": "3.8.3"
  }
 },
 "nbformat": 4,
 "nbformat_minor": 4
}

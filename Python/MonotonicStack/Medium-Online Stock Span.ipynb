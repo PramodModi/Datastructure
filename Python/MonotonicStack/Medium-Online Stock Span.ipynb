{
 "cells": [
  {
   "cell_type": "markdown",
   "metadata": {},
   "source": [
    "## Problem: 901. Online Stock Span\n",
    "https://leetcode.com/problems/online-stock-span/description/\n",
    "  \n",
    "Design an algorithm that collects daily price quotes for some stock and returns the span of that stock's price for the current day.\n",
    "\n",
    "The span of the stock's price in one day is the maximum number of consecutive days (starting from that day and going backward) for which the stock price was less than or equal to the price of that day.\n",
    "\n",
    "For example, if the prices of the stock in the last four days is [7,2,1,2] and the price of the stock today is 2, then the span of today is 4 because starting from today, the price of the stock was less than or equal 2 for 4 consecutive days.\n",
    "Also, if the prices of the stock in the last four days is [7,34,1,2] and the price of the stock today is 8, then the span of today is 3 because starting from today, the price of the stock was less than or equal 8 for 3 consecutive days.\n",
    "Implement the StockSpanner class:\n",
    "\n",
    "StockSpanner() Initializes the object of the class.\n",
    "int next(int price) Returns the span of the stock's price given that today's price is price.\n",
    " \n",
    "\n",
    "Example 1:\n",
    "\n",
    "    Input\n",
    "    [\"StockSpanner\", \"next\", \"next\", \"next\", \"next\", \"next\", \"next\", \"next\"]\n",
    "    [[], [100], [80], [60], [70], [60], [75], [85]]\n",
    "    Output\n",
    "    [null, 1, 1, 1, 2, 1, 4, 6]\n",
    "\n",
    "    Explanation\n",
    "    StockSpanner stockSpanner = new StockSpanner();\n",
    "    stockSpanner.next(100); // return 1\n",
    "    stockSpanner.next(80);  // return 1\n",
    "    stockSpanner.next(60);  // return 1\n",
    "    stockSpanner.next(70);  // return 2\n",
    "    stockSpanner.next(60);  // return 1\n",
    "    stockSpanner.next(75);  // return 4, because the last 4 prices (including today's price of 75) were less than or equal to today's price.\n",
    "    stockSpanner.next(85);  // return 6\n",
    " \n",
    "\n",
    "Constraints:\n",
    "\n",
    "    1 <= price <= 105\n",
    "    At most 104 calls will be made to next."
   ]
  },
  {
   "cell_type": "code",
   "execution_count": 1,
   "metadata": {},
   "outputs": [],
   "source": [
    "\n",
    "class StockSpanner:\n",
    "\n",
    "    def __init__(self):\n",
    "        self.stack = []\n",
    "        self.index = 0\n",
    "\n",
    "    def next(self, price: int) -> int:\n",
    "        span = 1\n",
    "        self.index += 1\n",
    "        while self.stack and self.stack[-1][0] <= price:\n",
    "            self.stack.pop()\n",
    "        if self.stack:\n",
    "            span = self.index - self.stack[-1][1]\n",
    "        else:\n",
    "            span = self.index\n",
    "        self.stack.append((price, self.index))\n",
    "        return span"
   ]
  },
  {
   "cell_type": "code",
   "execution_count": null,
   "metadata": {},
   "outputs": [],
   "source": []
  }
 ],
 "metadata": {
  "kernelspec": {
   "display_name": "Python 3",
   "language": "python",
   "name": "python3"
  },
  "language_info": {
   "codemirror_mode": {
    "name": "ipython",
    "version": 3
   },
   "file_extension": ".py",
   "mimetype": "text/x-python",
   "name": "python",
   "nbconvert_exporter": "python",
   "pygments_lexer": "ipython3",
   "version": "3.8.3"
  }
 },
 "nbformat": 4,
 "nbformat_minor": 4
}

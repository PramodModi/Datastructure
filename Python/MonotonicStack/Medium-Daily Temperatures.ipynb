{
 "cells": [
  {
   "cell_type": "markdown",
   "metadata": {},
   "source": [
    "## Problem: 739 Daily Temperatures\n",
    "https://leetcode.com/problems/daily-temperatures/description/\n",
    "\n",
    "Given an array of integers temperatures represents the daily temperatures, return an array answer such that answer[i] is the number of days you have to wait after the ith day to get a warmer temperature. If there is no future day for which this is possible, keep answer[i] == 0 instead.\n",
    "\n",
    " \n",
    "\n",
    "Example 1:\n",
    "\n",
    "    Input: temperatures = [73,74,75,71,69,72,76,73]\n",
    "    Output: [1,1,4,2,1,1,0,0]\n",
    "Example 2:\n",
    "\n",
    "    Input: temperatures = [30,40,50,60]\n",
    "    Output: [1,1,1,0]\n",
    "Example 3:\n",
    "\n",
    "    Input: temperatures = [30,60,90]\n",
    "    Output: [1,1,0]\n",
    " \n",
    "\n",
    "Constraints:\n",
    "\n",
    "    1 <= temperatures.length <= 105\n",
    "    30 <= temperatures[i] <= 100"
   ]
  },
  {
   "cell_type": "code",
   "execution_count": 5,
   "metadata": {},
   "outputs": [],
   "source": [
    "def dailyTemperatures(temperatures):\n",
    "    n = len(temperatures)\n",
    "    stack = []\n",
    "    answer = [0] * n\n",
    "    \n",
    "    for i in range(n-1, -1, -1):\n",
    "        t = temperatures[i]\n",
    "        while stack and t>= stack[-1][0]:\n",
    "            stack.pop()\n",
    "        if stack:\n",
    "            answer[i] = stack[-1][1]-i\n",
    "        else:\n",
    "            answer[i] = 0\n",
    "        stack.append((t, i))\n",
    "    return answer"
   ]
  },
  {
   "cell_type": "code",
   "execution_count": 6,
   "metadata": {},
   "outputs": [
    {
     "data": {
      "text/plain": [
       "[1, 1, 1, 0]"
      ]
     },
     "execution_count": 6,
     "metadata": {},
     "output_type": "execute_result"
    }
   ],
   "source": [
    "temperatures = [30,40,50,60]\n",
    "dailyTemperatures(temperatures)"
   ]
  },
  {
   "cell_type": "code",
   "execution_count": 7,
   "metadata": {},
   "outputs": [
    {
     "data": {
      "text/plain": [
       "[1, 1, 4, 2, 1, 1, 0, 0]"
      ]
     },
     "execution_count": 7,
     "metadata": {},
     "output_type": "execute_result"
    }
   ],
   "source": [
    "temperatures = [73,74,75,71,69,72,76,73]\n",
    "dailyTemperatures(temperatures)"
   ]
  },
  {
   "cell_type": "code",
   "execution_count": null,
   "metadata": {},
   "outputs": [],
   "source": []
  }
 ],
 "metadata": {
  "kernelspec": {
   "display_name": "Python 3",
   "language": "python",
   "name": "python3"
  },
  "language_info": {
   "codemirror_mode": {
    "name": "ipython",
    "version": 3
   },
   "file_extension": ".py",
   "mimetype": "text/x-python",
   "name": "python",
   "nbconvert_exporter": "python",
   "pygments_lexer": "ipython3",
   "version": "3.8.3"
  }
 },
 "nbformat": 4,
 "nbformat_minor": 4
}

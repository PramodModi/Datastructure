{
 "cells": [
  {
   "cell_type": "markdown",
   "metadata": {},
   "source": [
    "## Problem: 503. Next Greater Element II\n",
    "\n",
    "https://leetcode.com/problems/next-greater-element-ii/\n",
    "\n",
    "Given a circular integer array nums (i.e., the next element of nums[nums.length - 1] is nums[0]), return the next greater number for every element in nums.\n",
    "\n",
    "The next greater number of a number x is the first greater number to its traversing-order next in the array, which means you could search circularly to find its next greater number. If it doesn't exist, return -1 for this number.\n",
    "\n",
    " \n",
    "\n",
    "Example 1:\n",
    "\n",
    "    Input: nums = [1,2,1]\n",
    "    Output: [2,-1,2]\n",
    "    Explanation: The first 1's next greater number is 2; \n",
    "    The number 2 can't find next greater number. \n",
    "    The second 1's next greater number needs to search circularly, which is also 2.\n",
    "Example 2:\n",
    "\n",
    "    Input: nums = [1,2,3,4,3]\n",
    "    Output: [2,3,4,-1,4]\n",
    "\n",
    "\n",
    "Constraints:\n",
    "\n",
    "    1 <= nums.length <= 104\n",
    "    -109 <= nums[i] <= 109"
   ]
  },
  {
   "cell_type": "code",
   "execution_count": 16,
   "metadata": {},
   "outputs": [],
   "source": [
    "## Need to write code\n",
    "def nextGreaterElements(nums):\n",
    "    stack = []\n",
    "    n = len(nums)\n",
    "    ans = [-1] * n\n",
    "    for i in range(2*n-1,-1,-1):\n",
    "        num = nums[i%n]\n",
    "        while stack and stack[-1]<= num:\n",
    "            stack.pop()\n",
    "        if stack:\n",
    "            ans[i%n] = stack[-1]\n",
    "        stack.append(num)\n",
    "    return ans\n",
    "        \n",
    "        "
   ]
  },
  {
   "cell_type": "code",
   "execution_count": 17,
   "metadata": {},
   "outputs": [
    {
     "data": {
      "text/plain": [
       "[2, -1, 2]"
      ]
     },
     "execution_count": 17,
     "metadata": {},
     "output_type": "execute_result"
    }
   ],
   "source": [
    "nums = [1,2,1]\n",
    "nextGreaterElements(nums)"
   ]
  },
  {
   "cell_type": "code",
   "execution_count": 18,
   "metadata": {},
   "outputs": [
    {
     "data": {
      "text/plain": [
       "[2, 3, 4, -1, 4]"
      ]
     },
     "execution_count": 18,
     "metadata": {},
     "output_type": "execute_result"
    }
   ],
   "source": [
    "nums = [1,2,3,4,3]\n",
    "nextGreaterElements(nums)"
   ]
  },
  {
   "cell_type": "code",
   "execution_count": null,
   "metadata": {},
   "outputs": [],
   "source": []
  }
 ],
 "metadata": {
  "kernelspec": {
   "display_name": "Python 3",
   "language": "python",
   "name": "python3"
  },
  "language_info": {
   "codemirror_mode": {
    "name": "ipython",
    "version": 3
   },
   "file_extension": ".py",
   "mimetype": "text/x-python",
   "name": "python",
   "nbconvert_exporter": "python",
   "pygments_lexer": "ipython3",
   "version": "3.8.3"
  }
 },
 "nbformat": 4,
 "nbformat_minor": 4
}

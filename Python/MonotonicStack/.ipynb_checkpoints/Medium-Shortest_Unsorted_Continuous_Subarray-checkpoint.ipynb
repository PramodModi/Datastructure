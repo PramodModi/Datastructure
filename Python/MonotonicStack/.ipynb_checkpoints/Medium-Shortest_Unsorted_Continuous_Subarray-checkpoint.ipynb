{
 "cells": [
  {
   "cell_type": "markdown",
   "metadata": {},
   "source": [
    "# Problem: Shortest Unsorted Continuous Subarray\n",
    "\n",
    "https://leetcode.com/problems/shortest-unsorted-continuous-subarray/description/\n",
    "\n",
    "Given an integer array nums, you need to find one continuous subarray such that if you only sort this subarray in non-decreasing order, then the whole array will be sorted in non-decreasing order.\n",
    "\n",
    "Return the shortest such subarray and output its length.\n",
    "\n",
    " \n",
    "\n",
    "Example 1:\n",
    "\n",
    "    Input: nums = [2,6,4,8,10,9,15]\n",
    "    Output: 5\n",
    "    Explanation: You need to sort [6, 4, 8, 10, 9] in ascending order to make the whole array sorted in ascending order.\n",
    "Example 2:\n",
    "\n",
    "    Input: nums = [1,2,3,4]\n",
    "    Output: 0\n",
    "Example 3:\n",
    "\n",
    "    Input: nums = [1]\n",
    "    Output: 0\n",
    " \n",
    "\n",
    "Constraints:\n",
    "\n",
    "    1 <= nums.length <= 104\n",
    "    -105 <= nums[i] <= 105"
   ]
  },
  {
   "cell_type": "code",
   "execution_count": 1,
   "metadata": {},
   "outputs": [],
   "source": [
    "def findUnsortedSubarray(nums):\n",
    "    minNum = float(\"inf\")\n",
    "    maxNum = float(\"-inf\")\n",
    "    \n",
    "    for i in range(1, len(nums)):\n",
    "        if nums[i-1] > nums[i]:\n",
    "            minNum = min(minNum, nums[i])\n",
    "            maxNum = max(maxNum, nums[i-1])\n",
    "    if minNum == float(\"inf\"):\n",
    "        return 0\n",
    "    left, right = 0, len(nums)-1\n",
    "    \n",
    "    while nums[left] <= minNum: \n",
    "        left+=1\n",
    "    while nums[right]>=maxNum:\n",
    "        right-=1\n",
    "    return(right-left+1)\n",
    "        "
   ]
  },
  {
   "cell_type": "code",
   "execution_count": 2,
   "metadata": {},
   "outputs": [
    {
     "data": {
      "text/plain": [
       "5"
      ]
     },
     "execution_count": 2,
     "metadata": {},
     "output_type": "execute_result"
    }
   ],
   "source": [
    "nums = [2,6,4,8,10,9,15]\n",
    "findUnsortedSubarray(nums)"
   ]
  },
  {
   "cell_type": "code",
   "execution_count": 3,
   "metadata": {},
   "outputs": [
    {
     "data": {
      "text/plain": [
       "0"
      ]
     },
     "execution_count": 3,
     "metadata": {},
     "output_type": "execute_result"
    }
   ],
   "source": [
    "nums = [1,2,3,4]\n",
    "findUnsortedSubarray(nums)"
   ]
  },
  {
   "cell_type": "code",
   "execution_count": null,
   "metadata": {},
   "outputs": [],
   "source": []
  }
 ],
 "metadata": {
  "kernelspec": {
   "display_name": "Python 3",
   "language": "python",
   "name": "python3"
  },
  "language_info": {
   "codemirror_mode": {
    "name": "ipython",
    "version": 3
   },
   "file_extension": ".py",
   "mimetype": "text/x-python",
   "name": "python",
   "nbconvert_exporter": "python",
   "pygments_lexer": "ipython3",
   "version": "3.8.3"
  }
 },
 "nbformat": 4,
 "nbformat_minor": 4
}

{
 "cells": [
  {
   "cell_type": "markdown",
   "metadata": {},
   "source": [
    "## Problem: Nearest Smaller in Left (NSL)\n",
    "Find nearest smaller element in the left of each element in the given array of positive integer. Fill -1, if there is no smaller element in left.\n",
    "\n",
    "Example:\n",
    "\n",
    "    input = [1,3,0,0,1,2,4]\n",
    "    output = [-1,1,-1,-1,0,1,2]"
   ]
  },
  {
   "cell_type": "raw",
   "metadata": {},
   "source": [
    "Approach:\n",
    "\n",
    "Will use monotonic stack. It will store elements from left end. Compare element with top element of stack, if element is smaller then remove top element from stack, if not then come out from loop. Take the last element from stack in output array if stack is not empty else -1. Append the stack with element."
   ]
  },
  {
   "cell_type": "code",
   "execution_count": 4,
   "metadata": {},
   "outputs": [],
   "source": [
    "def nearestSmalllerElement(nums):\n",
    "    stack = [] #monotonic stack\n",
    "    n = len(nums)\n",
    "    retVal = [-1] * n\n",
    "    \n",
    "    for i in range(n):\n",
    "        while stack and nums[i] <= stack[-1]:\n",
    "            stack.pop()\n",
    "        if stack:\n",
    "            retVal[i] = stack[-1]\n",
    "        stack.append(nums[i])\n",
    "    return retVal\n",
    "        "
   ]
  },
  {
   "cell_type": "code",
   "execution_count": 5,
   "metadata": {},
   "outputs": [
    {
     "data": {
      "text/plain": [
       "[-1, 1, -1, -1, 0, 1, 2]"
      ]
     },
     "execution_count": 5,
     "metadata": {},
     "output_type": "execute_result"
    }
   ],
   "source": [
    "nums = [1,3,0,0,1,2,4]\n",
    "nearestSmalllerElement(nums)"
   ]
  },
  {
   "cell_type": "code",
   "execution_count": 6,
   "metadata": {},
   "outputs": [
    {
     "data": {
      "text/plain": [
       "[-1, -1, 1, 5, 1, 2]"
      ]
     },
     "execution_count": 6,
     "metadata": {},
     "output_type": "execute_result"
    }
   ],
   "source": [
    "nums = [2,1,5,6,2,3]\n",
    "nearestSmalllerElement(nums)"
   ]
  },
  {
   "cell_type": "code",
   "execution_count": null,
   "metadata": {},
   "outputs": [],
   "source": []
  }
 ],
 "metadata": {
  "kernelspec": {
   "display_name": "Python 3",
   "language": "python",
   "name": "python3"
  },
  "language_info": {
   "codemirror_mode": {
    "name": "ipython",
    "version": 3
   },
   "file_extension": ".py",
   "mimetype": "text/x-python",
   "name": "python",
   "nbconvert_exporter": "python",
   "pygments_lexer": "ipython3",
   "version": "3.8.3"
  }
 },
 "nbformat": 4,
 "nbformat_minor": 4
}

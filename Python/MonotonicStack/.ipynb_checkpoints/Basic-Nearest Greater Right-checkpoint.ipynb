{
 "cells": [
  {
   "cell_type": "markdown",
   "metadata": {},
   "source": [
    "## Problem: Nearest Greater in Right (NGR)\n",
    "Find nearest greater element in the right of each element in the given array of positive integer. Fill -1, if there is no greater element in right.\n",
    "\n",
    "Example:\n",
    "\n",
    "    input = [1,3,0,0,1,2,4]\n",
    "    output = [3,4,1,1,2,4,-1]"
   ]
  },
  {
   "cell_type": "raw",
   "metadata": {},
   "source": [
    "Approach:\n",
    "\n",
    "Will use monotonic stack. It will store elements from right end. Compare right element with top element of stack, if right element is bigger then remove top element from stack, if not then come out from loop. Take the last element from stack in output array if stack is not empty else -1. Append the stack with right element."
   ]
  },
  {
   "cell_type": "code",
   "execution_count": 3,
   "metadata": {},
   "outputs": [],
   "source": [
    "def nearestGreaterElement(nums):\n",
    "    stack = [] #monotonic stack\n",
    "    n = len(nums)\n",
    "    retVal = [-1] * n\n",
    "    \n",
    "    for i in range(n-1, -1, -1):\n",
    "        while stack and nums[i] >= stack[-1]:\n",
    "            stack.pop()\n",
    "        if stack:\n",
    "            retVal[i] = stack[-1]\n",
    "        stack.append(nums[i])\n",
    "    return retVal\n",
    "        "
   ]
  },
  {
   "cell_type": "code",
   "execution_count": 4,
   "metadata": {},
   "outputs": [
    {
     "data": {
      "text/plain": [
       "[3, 4, 1, 1, 2, 4, -1]"
      ]
     },
     "execution_count": 4,
     "metadata": {},
     "output_type": "execute_result"
    }
   ],
   "source": [
    "nums = [1,3,0,0,1,2,4]\n",
    "nearestGreaterElement(nums)"
   ]
  },
  {
   "cell_type": "code",
   "execution_count": null,
   "metadata": {},
   "outputs": [],
   "source": []
  }
 ],
 "metadata": {
  "kernelspec": {
   "display_name": "Python 3",
   "language": "python",
   "name": "python3"
  },
  "language_info": {
   "codemirror_mode": {
    "name": "ipython",
    "version": 3
   },
   "file_extension": ".py",
   "mimetype": "text/x-python",
   "name": "python",
   "nbconvert_exporter": "python",
   "pygments_lexer": "ipython3",
   "version": "3.8.3"
  }
 },
 "nbformat": 4,
 "nbformat_minor": 4
}

{
 "cells": [
  {
   "cell_type": "markdown",
   "metadata": {},
   "source": [
    "## Problem: 132 pattern\n",
    "https://leetcode.com/problems/132-pattern/description/\n",
    "\n",
    "Given an array of n integers nums, a 132 pattern is a subsequence of three integers nums[i], nums[j] and nums[k] such that i < j < k and nums[i] < nums[k] < nums[j].\n",
    "\n",
    "Return true if there is a 132 pattern in nums, otherwise, return false.\n",
    "\n",
    " \n",
    "\n",
    "Example 1:\n",
    "\n",
    "    Input: nums = [1,2,3,4]\n",
    "    Output: false\n",
    "    Explanation: There is no 132 pattern in the sequence.\n",
    "Example 2:\n",
    "\n",
    "    Input: nums = [3,1,4,2]\n",
    "    Output: true\n",
    "    Explanation: There is a 132 pattern in the sequence: [1, 4, 2].\n",
    "Example 3:\n",
    "\n",
    "    Input: nums = [-1,3,2,0]\n",
    "    Output: true\n",
    "    Explanation: There are three 132 patterns in the sequence: [-1, 3, 2], [-1, 3, 0] and [-1, 2, 0].\n",
    " \n",
    "\n",
    "Constraints:\n",
    "\n",
    "    n == nums.length\n",
    "    1 <= n <= 2 * 105\n",
    "    -109 <= nums[i] <= 109"
   ]
  },
  {
   "cell_type": "code",
   "execution_count": 1,
   "metadata": {},
   "outputs": [],
   "source": [
    "def find132pattern(nums):\n",
    "    stack = []\n",
    "    minVal = float(\"inf\")\n",
    "    for n in nums:\n",
    "        while stack and n >= stack[-1][0]:\n",
    "            stack.pop()\n",
    "        if stack and stack[-1][1] < n:\n",
    "            return True\n",
    "        minVal = min(minVal, n)\n",
    "        stack.append((n,minVal))\n",
    "    return False"
   ]
  },
  {
   "cell_type": "code",
   "execution_count": 2,
   "metadata": {},
   "outputs": [
    {
     "data": {
      "text/plain": [
       "True"
      ]
     },
     "execution_count": 2,
     "metadata": {},
     "output_type": "execute_result"
    }
   ],
   "source": [
    "nums = [3,1,4,2]\n",
    "find132pattern(nums)"
   ]
  },
  {
   "cell_type": "code",
   "execution_count": 3,
   "metadata": {},
   "outputs": [
    {
     "data": {
      "text/plain": [
       "True"
      ]
     },
     "execution_count": 3,
     "metadata": {},
     "output_type": "execute_result"
    }
   ],
   "source": [
    "nums = [-1,3,2,0]\n",
    "find132pattern(nums)"
   ]
  },
  {
   "cell_type": "code",
   "execution_count": 4,
   "metadata": {},
   "outputs": [
    {
     "data": {
      "text/plain": [
       "False"
      ]
     },
     "execution_count": 4,
     "metadata": {},
     "output_type": "execute_result"
    }
   ],
   "source": [
    "nums = [1,2,3,4]\n",
    "find132pattern(nums)"
   ]
  },
  {
   "cell_type": "code",
   "execution_count": null,
   "metadata": {},
   "outputs": [],
   "source": []
  }
 ],
 "metadata": {
  "kernelspec": {
   "display_name": "Python 3",
   "language": "python",
   "name": "python3"
  },
  "language_info": {
   "codemirror_mode": {
    "name": "ipython",
    "version": 3
   },
   "file_extension": ".py",
   "mimetype": "text/x-python",
   "name": "python",
   "nbconvert_exporter": "python",
   "pygments_lexer": "ipython3",
   "version": "3.8.3"
  }
 },
 "nbformat": 4,
 "nbformat_minor": 4
}

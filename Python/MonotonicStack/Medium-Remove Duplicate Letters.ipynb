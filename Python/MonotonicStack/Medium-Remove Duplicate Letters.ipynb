{
 "cells": [
  {
   "cell_type": "markdown",
   "metadata": {},
   "source": [
    "## Problem: 316. Remove Duplicate Letters\n",
    "https://leetcode.com/problems/remove-duplicate-letters/description/\n",
    "https://leetcode.com/problems/smallest-subsequence-of-distinct-characters/\n",
    "\n",
    "Given a string s, remove duplicate letters so that every letter appears once and only once. You must make sure your result is \n",
    "the smallest in lexicographical order\n",
    " among all possible results.\n",
    "\n",
    " \n",
    "\n",
    "Example 1:\n",
    "\n",
    "    Input: s = \"bcabc\"\n",
    "    Output: \"abc\"\n",
    "Example 2:\n",
    "\n",
    "    Input: s = \"cbacdcbc\"\n",
    "    Output: \"acdb\"\n",
    " \n",
    "\n",
    "Constraints:\n",
    "\n",
    "    1 <= s.length <= 104\n",
    "    s consists of lowercase English letters.\n"
   ]
  },
  {
   "cell_type": "code",
   "execution_count": 4,
   "metadata": {},
   "outputs": [],
   "source": [
    "def removeDuplicateLetters(s):\n",
    "    # store the last index of letter. It helps to know, if same letter is available later or not.\n",
    "    temp ={} \n",
    "    stack = []\n",
    "    visited =set()\n",
    "    for i in range(len(s)):\n",
    "        l = s[i]\n",
    "        temp[l] = i\n",
    "    for i in range(len(s)):\n",
    "        l = s[i]\n",
    "        if l not in visited:\n",
    "            while stack and stack[-1] > l and temp[stack[-1]] > i:\n",
    "                visited.remove(stack.pop())\n",
    "            stack.append(l)\n",
    "            visited.add(l)\n",
    "    return \"\".join(stack)"
   ]
  },
  {
   "cell_type": "code",
   "execution_count": 5,
   "metadata": {},
   "outputs": [
    {
     "data": {
      "text/plain": [
       "'abc'"
      ]
     },
     "execution_count": 5,
     "metadata": {},
     "output_type": "execute_result"
    }
   ],
   "source": [
    "s = \"bcabc\"\n",
    "removeDuplicateLetters(s)"
   ]
  },
  {
   "cell_type": "code",
   "execution_count": 6,
   "metadata": {},
   "outputs": [
    {
     "data": {
      "text/plain": [
       "'acdb'"
      ]
     },
     "execution_count": 6,
     "metadata": {},
     "output_type": "execute_result"
    }
   ],
   "source": [
    "s = \"cbacdcbc\"\n",
    "removeDuplicateLetters(s)"
   ]
  },
  {
   "cell_type": "code",
   "execution_count": null,
   "metadata": {},
   "outputs": [],
   "source": []
  }
 ],
 "metadata": {
  "kernelspec": {
   "display_name": "Python 3",
   "language": "python",
   "name": "python3"
  },
  "language_info": {
   "codemirror_mode": {
    "name": "ipython",
    "version": 3
   },
   "file_extension": ".py",
   "mimetype": "text/x-python",
   "name": "python",
   "nbconvert_exporter": "python",
   "pygments_lexer": "ipython3",
   "version": "3.8.3"
  }
 },
 "nbformat": 4,
 "nbformat_minor": 4
}

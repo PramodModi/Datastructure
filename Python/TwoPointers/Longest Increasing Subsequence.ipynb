{
 "cells": [
  {
   "cell_type": "markdown",
   "metadata": {},
   "source": [
    "## Problem: 300. Longest Increasing Subsequence\n",
    "\n",
    "https://leetcode.com/problems/longest-increasing-subsequence/\n",
    "\n",
    "Given an integer array nums, return the length of the longest strictly increasing subsequence.\n",
    "\n",
    "A subsequence is a sequence that can be derived from an array by deleting some or no elements without changing the order of the remaining elements. For example, [3,6,2,7] is a subsequence of the array [0,3,1,6,2,2,7].\n",
    "\n",
    " \n",
    "\n",
    "Example 1:\n",
    "\n",
    "Input: nums = [10,9,2,5,3,7,101,18]\n",
    "\n",
    "Output: 4\n",
    "\n",
    "Explanation: The longest increasing subsequence is [2,3,7,101], therefore the length is 4.\n",
    "\n",
    "Example 2:\n",
    "\n",
    "Input: nums = [0,1,0,3,2,3]\n",
    "\n",
    "Output: 4\n",
    "\n",
    "Example 3:\n",
    "\n",
    "Input: nums = [7,7,7,7,7,7,7]\n",
    "\n",
    "Output: 1\n",
    " \n",
    "\n",
    "Constraints:\n",
    "\n",
    "1 <= nums.length <= 2500\n",
    "\n",
    "-104 <= nums[i] <= 104\n",
    " \n",
    "\n",
    "Follow up: Can you come up with an algorithm that runs in O(n log(n)) time complexity?"
   ]
  },
  {
   "cell_type": "markdown",
   "metadata": {},
   "source": [
    "### Approach: Made video for better understanding\n",
    "https://www.youtube.com/watch?v=W8DMcy8L5CI"
   ]
  },
  {
   "cell_type": "code",
   "execution_count": 1,
   "metadata": {},
   "outputs": [],
   "source": [
    "## O(nLogn)\n",
    "## By using Binary Search\n",
    "def lengthOfLIS(nums):\n",
    "    sub = []\n",
    "    for n in nums:\n",
    "        if len(sub) == 0 or sub[-1] < n:\n",
    "            sub.append(n)\n",
    "        else:\n",
    "            idx = binarySearch(sub, n) # get the index of smallest number greater than n in sub\n",
    "            if sub[idx] < n:\n",
    "                sub[idx + 1] = n\n",
    "            else:\n",
    "                sub[idx] = n\n",
    " \n",
    "    return len(sub)\n",
    "\n",
    "def binarySearch(array, n):\n",
    "    startIdx = 0\n",
    "    endIdx = len(array)-1\n",
    "    \n",
    "    while startIdx < endIdx:\n",
    "        mid = (startIdx+endIdx)//2\n",
    "        if array[mid] < n:\n",
    "            startIdx = mid+1\n",
    "        elif array[mid]> n:\n",
    "            endIdx = mid-1\n",
    "        else:\n",
    "            startIdx = mid\n",
    "            break\n",
    "    return startIdx"
   ]
  },
  {
   "cell_type": "code",
   "execution_count": 68,
   "metadata": {},
   "outputs": [
    {
     "data": {
      "text/plain": [
       "4"
      ]
     },
     "execution_count": 68,
     "metadata": {},
     "output_type": "execute_result"
    }
   ],
   "source": [
    "nums = [10,9,2,5,3,7,101,18]\n",
    "lengthOfLIS(nums)\n"
   ]
  },
  {
   "cell_type": "code",
   "execution_count": 2,
   "metadata": {},
   "outputs": [],
   "source": [
    "## O(n^2)\n",
    "## By using Back tracking\n",
    "class Info:\n",
    "    def __init__(self, maxlen):\n",
    "        self.maxLen = maxlen\n",
    "        self.result = []\n",
    "def lengthOfLIS1(nums):\n",
    "    info = Info(0)\n",
    "    getLSISeq(nums, info, [], 0)\n",
    "    return len(info.result)\n",
    "\n",
    "def getLSISeq(nums, info, temp, index):\n",
    "    \n",
    "    if info.maxLen < len(temp):\n",
    "        info.maxLen = len(temp)\n",
    "        info.result = temp[:]\n",
    "    \n",
    "    if index == len(nums):\n",
    "        return\n",
    "    \n",
    "    for i in range(index, len(nums)):\n",
    "        if temp and temp[-1] >= nums[i]:\n",
    "            continue\n",
    "        temp.append(nums[i])\n",
    "        getLSISeq(nums, info, temp, i+1)\n",
    "        temp.pop()\n",
    "            \n"
   ]
  },
  {
   "cell_type": "code",
   "execution_count": 3,
   "metadata": {},
   "outputs": [
    {
     "data": {
      "text/plain": [
       "4"
      ]
     },
     "execution_count": 3,
     "metadata": {},
     "output_type": "execute_result"
    }
   ],
   "source": [
    "nums = [10,9,2,5,3,7,101,18]\n",
    "lengthOfLIS1(nums)"
   ]
  },
  {
   "cell_type": "code",
   "execution_count": null,
   "metadata": {},
   "outputs": [],
   "source": []
  }
 ],
 "metadata": {
  "kernelspec": {
   "display_name": "Python 3",
   "language": "python",
   "name": "python3"
  },
  "language_info": {
   "codemirror_mode": {
    "name": "ipython",
    "version": 3
   },
   "file_extension": ".py",
   "mimetype": "text/x-python",
   "name": "python",
   "nbconvert_exporter": "python",
   "pygments_lexer": "ipython3",
   "version": "3.8.3"
  }
 },
 "nbformat": 4,
 "nbformat_minor": 4
}

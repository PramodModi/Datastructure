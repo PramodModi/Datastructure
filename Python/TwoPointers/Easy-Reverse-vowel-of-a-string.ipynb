{
 "cells": [
  {
   "cell_type": "markdown",
   "id": "568ed894",
   "metadata": {},
   "source": [
    "## Problem : Reverse Vowel of a string\n",
    "\n",
    "https://leetcode.com/problems/reverse-vowels-of-a-string/description/\n",
    "\n",
    "Given a string s, reverse only all the vowels in the string and return it.\n",
    "\n",
    "The vowels are 'a', 'e', 'i', 'o', and 'u', and they can appear in both lower and upper cases, more than once.\n",
    "\n",
    " \n",
    "\n",
    "Example 1:\n",
    "\n",
    "    Input: s = \"hello\"\n",
    "    Output: \"holle\"\n",
    "Example 2:\n",
    "\n",
    "    Input: s = \"leetcode\"\n",
    "    Output: \"leotcede\"\n",
    " \n",
    "\n",
    "Constraints:\n",
    "\n",
    "    1 <= s.length <= 3 * 105\n",
    "    s consist of printable ASCII characters."
   ]
  },
  {
   "cell_type": "code",
   "execution_count": 4,
   "id": "61151d04",
   "metadata": {},
   "outputs": [],
   "source": [
    "def reverseVowels(s):\n",
    "    vowel = set([\"a\", \"e\", \"i\", \"o\", \"u\"])\n",
    "    left, right = 0, len(s)-1\n",
    "    string = list(s);\n",
    "    while left<right:\n",
    "        l = string[left].lower()\n",
    "        m = string[right].lower()\n",
    "        if l in vowel and m in vowel:\n",
    "            string[left], string[right] = string[right], string[left]\n",
    "            left += 1\n",
    "            right -= 1\n",
    "        elif l in vowel:\n",
    "            right -=1\n",
    "        else:\n",
    "            left += 1\n",
    "    return \"\".join(string)"
   ]
  },
  {
   "cell_type": "code",
   "execution_count": 5,
   "id": "1b2df74c",
   "metadata": {},
   "outputs": [
    {
     "data": {
      "text/plain": [
       "'holle'"
      ]
     },
     "execution_count": 5,
     "metadata": {},
     "output_type": "execute_result"
    }
   ],
   "source": [
    "reverseVowels('hello')"
   ]
  },
  {
   "cell_type": "code",
   "execution_count": 6,
   "id": "82612c80",
   "metadata": {},
   "outputs": [
    {
     "data": {
      "text/plain": [
       "'leotcede'"
      ]
     },
     "execution_count": 6,
     "metadata": {},
     "output_type": "execute_result"
    }
   ],
   "source": [
    "reverseVowels('leetcode')"
   ]
  },
  {
   "cell_type": "code",
   "execution_count": null,
   "id": "95af6622",
   "metadata": {},
   "outputs": [],
   "source": []
  }
 ],
 "metadata": {
  "kernelspec": {
   "display_name": "Python 3",
   "language": "python",
   "name": "python3"
  },
  "language_info": {
   "codemirror_mode": {
    "name": "ipython",
    "version": 3
   },
   "file_extension": ".py",
   "mimetype": "text/x-python",
   "name": "python",
   "nbconvert_exporter": "python",
   "pygments_lexer": "ipython3",
   "version": "3.8.8"
  }
 },
 "nbformat": 4,
 "nbformat_minor": 5
}

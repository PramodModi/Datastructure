{
 "cells": [
  {
   "attachments": {
    "image.png": {
     "image/png": "[encoded data removed]"
    }
   },
   "cell_type": "markdown",
   "metadata": {},
   "source": [
    "## Problem: 42. Trapping Rain Water\n",
    "\n",
    "https://leetcode.com/problems/trapping-rain-water/description/\n",
    "\n",
    "Given n non-negative integers representing an elevation map where the width of each bar is 1, compute how much water it can trap after raining.\n",
    "\n",
    " \n",
    "\n",
    "Example 1:\n",
    "\n",
    "\n",
    "Input: height = [0,1,0,2,1,0,1,3,2,1,2,1]\n",
    "\n",
    "\n",
    "![image.png](attachment:image.png)\n",
    "\n",
    "Output: 6\n",
    "\n",
    "Explanation: The above elevation map (black section) is represented by array [0,1,0,2,1,0,1,3,2,1,2,1]. In this case, 6 units of rain water (blue section) are being trapped.\n",
    "\n",
    "Example 2:\n",
    "\n",
    "Input: height = [4,2,0,3,2,5]\n",
    "\n",
    "Output: 9\n",
    " \n",
    "\n",
    "Constraints:\n",
    "\n",
    "n == height.length\n",
    "\n",
    "1 <= n <= 2 * 104\n",
    "\n",
    "0 <= height[i] <= 105"
   ]
  },
  {
   "cell_type": "code",
   "execution_count": 1,
   "metadata": {},
   "outputs": [],
   "source": [
    "def trap(height):\n",
    "    # Write your code here.\n",
    "    if len(height) == 0:\n",
    "        return 0\n",
    "    leftIndex = 0\n",
    "    rightIndex = len(height) -1\n",
    "\n",
    "    leftmax = height[leftIndex]\n",
    "    rightmax = height[rightIndex]\n",
    "\n",
    "    sum = 0\n",
    "\n",
    "    while(leftIndex < rightIndex):\n",
    "        if height[leftIndex] < height[rightIndex]:\n",
    "            leftIndex += 1\n",
    "            leftmax = max(leftmax,height[leftIndex])\n",
    "            sum += leftmax - height[leftIndex]\n",
    "        else:\n",
    "            rightIndex -= 1\n",
    "            rightmax = max(rightmax, height[rightIndex])\n",
    "            sum += rightmax - height[rightIndex] \n",
    "    return sum\n"
   ]
  },
  {
   "cell_type": "code",
   "execution_count": 2,
   "metadata": {},
   "outputs": [
    {
     "data": {
      "text/plain": [
       "9"
      ]
     },
     "execution_count": 2,
     "metadata": {},
     "output_type": "execute_result"
    }
   ],
   "source": [
    "height = [4,2,0,3,2,5]\n",
    "trap(height)"
   ]
  },
  {
   "cell_type": "code",
   "execution_count": 3,
   "metadata": {},
   "outputs": [],
   "source": [
    "def trap_rain_water(elevation_map):\n",
    "    n = len(elevation_map)\n",
    "    left, right = 0, n - 1\n",
    "    max_left, max_right = 0, 0\n",
    "    total_water = 0\n",
    "    while left < right:\n",
    "        if elevation_map[left] < elevation_map[right]:\n",
    "            max_left = max(max_left, elevation_map[left])\n",
    "            total_water += max_left - elevation_map[left]\n",
    "            left += 1\n",
    "        else:\n",
    "            max_right = max(max_right, elevation_map[right])\n",
    "            total_water += max_right - elevation_map[right]\n",
    "            right -= 1\n",
    "    return total_water"
   ]
  },
  {
   "cell_type": "code",
   "execution_count": 4,
   "metadata": {},
   "outputs": [
    {
     "data": {
      "text/plain": [
       "9"
      ]
     },
     "execution_count": 4,
     "metadata": {},
     "output_type": "execute_result"
    }
   ],
   "source": [
    "elevation_map = [4,2,0,3,2,5]\n",
    "trap_rain_water(elevation_map)"
   ]
  },
  {
   "cell_type": "code",
   "execution_count": 5,
   "metadata": {},
   "outputs": [
    {
     "data": {
      "text/plain": [
       "6"
      ]
     },
     "execution_count": 5,
     "metadata": {},
     "output_type": "execute_result"
    }
   ],
   "source": [
    "elevation_map = [0,1,0,2,1,0,1,3,2,1,2,1]\n",
    "trap_rain_water(elevation_map)"
   ]
  },
  {
   "cell_type": "code",
   "execution_count": null,
   "metadata": {},
   "outputs": [],
   "source": []
  }
 ],
 "metadata": {
  "kernelspec": {
   "display_name": "Python 3",
   "language": "python",
   "name": "python3"
  },
  "language_info": {
   "codemirror_mode": {
    "name": "ipython",
    "version": 3
   },
   "file_extension": ".py",
   "mimetype": "text/x-python",
   "name": "python",
   "nbconvert_exporter": "python",
   "pygments_lexer": "ipython3",
   "version": "3.8.3"
  }
 },
 "nbformat": 4,
 "nbformat_minor": 4
}

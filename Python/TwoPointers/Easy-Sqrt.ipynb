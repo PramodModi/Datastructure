{
 "cells": [
  {
   "cell_type": "markdown",
   "id": "5c82e301",
   "metadata": {},
   "source": [
    "## Problem: Sqrt\n",
    "https://leetcode.com/problems/sqrtx/description/\n",
    "\n",
    "Given a non-negative integer x, return the square root of x rounded down to the nearest integer. The returned integer should be non-negative as well.\n",
    "\n",
    "You must not use any built-in exponent function or operator.\n",
    "\n",
    "For example, do not use pow(x, 0.5) in c++ or x ** 0.5 in python.\n",
    " \n",
    "\n",
    "Example 1:\n",
    "\n",
    "    Input: x = 4\n",
    "    Output: 2\n",
    "    Explanation: The square root of 4 is 2, so we return 2.\n",
    "Example 2:\n",
    "\n",
    "    Input: x = 8\n",
    "    Output: 2\n",
    "    Explanation: The square root of 8 is 2.82842..., and since we round it down to the nearest integer, 2 is returned.\n",
    "\n",
    "\n",
    "Constraints:\n",
    "\n",
    "    0 <= x <= 231 - 1\n"
   ]
  },
  {
   "cell_type": "raw",
   "id": "b3abd7fb",
   "metadata": {},
   "source": [
    "Approach:\n",
    "Squre root will be lying between 2 and x/2 . If x < , then either it is 1 or 0, in that case return x.\n",
    "Take two pointers, left and right. \n",
    "Initialize left = 2 and right = x//2\n",
    "While loop, till left<= right\n",
    "Choose pivot, as a middle of left and right. Squre the pivot and store it in num. \n",
    "If num > X, then we need to search in 1st half, right = pivot-1, if num < x, then we need to search in 2nd half\n",
    "left = pivot+1, if num == x, then return pivot.\n",
    "If while loop complete, that means square root is not possible, so return right, which would be the nearest square root."
   ]
  },
  {
   "cell_type": "code",
   "execution_count": 1,
   "id": "9b657c38",
   "metadata": {},
   "outputs": [],
   "source": [
    "def mySqrt(x):\n",
    "    if x < 2:\n",
    "        return x\n",
    "    left, right = 2, x//2\n",
    "    while left<= right:\n",
    "        pivot = left + (right-left)//2\n",
    "        num = pivot*pivot\n",
    "        if num>x:\n",
    "            right = pivot-1\n",
    "        elif num<x:\n",
    "            left = pivot + 1\n",
    "        else:\n",
    "            return pivot\n",
    "    return right\n",
    "    "
   ]
  },
  {
   "cell_type": "code",
   "execution_count": 2,
   "id": "6c5444df",
   "metadata": {},
   "outputs": [
    {
     "data": {
      "text/plain": [
       "2"
      ]
     },
     "execution_count": 2,
     "metadata": {},
     "output_type": "execute_result"
    }
   ],
   "source": [
    "mySqrt(4)"
   ]
  },
  {
   "cell_type": "code",
   "execution_count": 3,
   "id": "3e7fef01",
   "metadata": {},
   "outputs": [
    {
     "data": {
      "text/plain": [
       "2"
      ]
     },
     "execution_count": 3,
     "metadata": {},
     "output_type": "execute_result"
    }
   ],
   "source": [
    "mySqrt(8)"
   ]
  },
  {
   "cell_type": "code",
   "execution_count": null,
   "id": "a78f5c0a",
   "metadata": {},
   "outputs": [],
   "source": []
  }
 ],
 "metadata": {
  "kernelspec": {
   "display_name": "Python 3",
   "language": "python",
   "name": "python3"
  },
  "language_info": {
   "codemirror_mode": {
    "name": "ipython",
    "version": 3
   },
   "file_extension": ".py",
   "mimetype": "text/x-python",
   "name": "python",
   "nbconvert_exporter": "python",
   "pygments_lexer": "ipython3",
   "version": "3.8.8"
  }
 },
 "nbformat": 4,
 "nbformat_minor": 5
}

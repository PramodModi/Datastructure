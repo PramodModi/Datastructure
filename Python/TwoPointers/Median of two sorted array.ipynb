{
 "cells": [
  {
   "cell_type": "markdown",
   "metadata": {},
   "source": [
    "## Problem: Leetcode 4\n",
    "https://leetcode.com/problems/median-of-two-sorted-arrays/description/\n",
    "\n",
    "Given two sorted arrays nums1 and nums2 of size m and n respectively, return the median of the two sorted arrays.\n",
    "\n",
    "The overall run time complexity should be O(log (m+n)).\n",
    "\n",
    " \n",
    "\n",
    "Example 1:\n",
    "\n",
    "Input: nums1 = [1,3], \n",
    "\n",
    "nums2 = [2]\n",
    "\n",
    "Output: 2.00000\n",
    "\n",
    "Explanation: merged array = [1,2,3] and median is 2.\n",
    "\n",
    "Example 2:\n",
    "\n",
    "Input: nums1 = [1,2], \n",
    "nums2 = [3,4]\n",
    "\n",
    "Output: 2.50000\n",
    "\n",
    "Explanation: merged array = [1,2,3,4] and median is (2 + 3) / 2 = 2.5.\n",
    " \n",
    "\n",
    "Constraints:\n",
    "\n",
    "nums1.length == m\n",
    "nums2.length == n\n",
    "0 <= m <= 1000\n",
    "0 <= n <= 1000\n",
    "1 <= m + n <= 2000\n",
    "-106 <= nums1[i], nums2[i] <= 106"
   ]
  },
  {
   "cell_type": "code",
   "execution_count": 21,
   "metadata": {},
   "outputs": [],
   "source": [
    "def findMedianSortedArrays(nums1, nums2):\n",
    "    m, n = len(nums1), len(nums2)\n",
    "    if m > n:\n",
    "        nums1, nums2, m, n = nums2, nums1, n, m\n",
    "    i_min, i_max, half_len = 0, m, (m + n + 1) // 2\n",
    "    while i_min <= i_max:\n",
    "        i = (i_min + i_max) // 2\n",
    "        j = half_len - i\n",
    "        if i < m and nums2[j-1] > nums1[i]:\n",
    "            i_min = i + 1\n",
    "        elif i > 0 and nums1[i-1] > nums2[j]:\n",
    "            i_max = i - 1\n",
    "        else:\n",
    "            if i == 0: max_of_left = nums2[j-1]\n",
    "            elif j == 0: max_of_left = nums1[i-1]\n",
    "            else: max_of_left = max(nums1[i-1], nums2[j-1])\n",
    "            if (m + n) % 2 == 1:\n",
    "                return max_of_left\n",
    "            if i == m: min_of_right = nums2[j]\n",
    "            elif j == n: min_of_right = nums1[i]\n",
    "            else: min_of_right = min(nums1[i], nums2[j])\n",
    "            return (max_of_left + min_of_right) / 2.0\n"
   ]
  },
  {
   "cell_type": "code",
   "execution_count": 22,
   "metadata": {},
   "outputs": [
    {
     "data": {
      "text/plain": [
       "2"
      ]
     },
     "execution_count": 22,
     "metadata": {},
     "output_type": "execute_result"
    }
   ],
   "source": [
    "nums1 = [1,3]\n",
    "nums2 = [2]\n",
    "findMedianSortedArrays(nums1, nums2)"
   ]
  },
  {
   "cell_type": "code",
   "execution_count": 23,
   "metadata": {},
   "outputs": [
    {
     "data": {
      "text/plain": [
       "2.5"
      ]
     },
     "execution_count": 23,
     "metadata": {},
     "output_type": "execute_result"
    }
   ],
   "source": [
    "nums1 = [1,2]\n",
    "nums2 = [3,4]\n",
    "findMedianSortedArrays(nums1, nums2)"
   ]
  },
  {
   "cell_type": "code",
   "execution_count": 49,
   "metadata": {},
   "outputs": [],
   "source": [
    "def medianSortedArrays(nums1, nums2):\n",
    "    n = len(nums1)\n",
    "    m = len(nums2)\n",
    "    if n > m:\n",
    "        nums1, nums2 = nums2, nums1\n",
    "        n, m = m, n\n",
    "    l, r, half = 0, n, (m+n+1)//2\n",
    "    \n",
    "    while l <= r:\n",
    "        \n",
    "        mid = (l + r)//2\n",
    "        j = half-mid\n",
    "        if mid>0 and nums1[mid-1] > nums2[j]:\n",
    "            r -=1 \n",
    "        elif mid < n and nums2[j-1] > nums1[mid]:\n",
    "            l += 1\n",
    "        else:\n",
    "            if mid == 0: n1 = nums2[j-1]\n",
    "            elif j == 0: n1 = nums1[mid-1]\n",
    "            else:n1 = max(nums1[mid-1], nums2[j-1])\n",
    "            if (m+n) % 2 == 0:\n",
    "                if mid == n: n2 = nums2[j]\n",
    "                elif j == m: n2 = nums1[mid]\n",
    "                else: n2 = min(nums1[mid], nums2[j])\n",
    "                return (n1+n2)/2.0\n",
    "            else:\n",
    "                return n1\n",
    "                \n",
    "        "
   ]
  },
  {
   "cell_type": "code",
   "execution_count": 50,
   "metadata": {},
   "outputs": [
    {
     "data": {
      "text/plain": [
       "2"
      ]
     },
     "execution_count": 50,
     "metadata": {},
     "output_type": "execute_result"
    }
   ],
   "source": [
    "nums1 = [1,3]\n",
    "nums2 = [2]\n",
    "medianSortedArrays(nums1, nums2)"
   ]
  },
  {
   "cell_type": "code",
   "execution_count": 51,
   "metadata": {},
   "outputs": [
    {
     "data": {
      "text/plain": [
       "2.5"
      ]
     },
     "execution_count": 51,
     "metadata": {},
     "output_type": "execute_result"
    }
   ],
   "source": [
    "nums1 = [1,2]\n",
    "nums2 = [3,4]\n",
    "medianSortedArrays(nums1, nums2)"
   ]
  },
  {
   "cell_type": "code",
   "execution_count": null,
   "metadata": {},
   "outputs": [],
   "source": []
  }
 ],
 "metadata": {
  "kernelspec": {
   "display_name": "Python 3",
   "language": "python",
   "name": "python3"
  },
  "language_info": {
   "codemirror_mode": {
    "name": "ipython",
    "version": 3
   },
   "file_extension": ".py",
   "mimetype": "text/x-python",
   "name": "python",
   "nbconvert_exporter": "python",
   "pygments_lexer": "ipython3",
   "version": "3.8.3"
  }
 },
 "nbformat": 4,
 "nbformat_minor": 4
}

{
 "cells": [
  {
   "cell_type": "markdown",
   "metadata": {},
   "source": [
    "## Problem\n",
    "Given array, create subset of array in such a way that difference of sum of each subset should be minimum.\n",
    "\n",
    "Example:\n",
    "\n",
    "array = [1,6,11,5]\n",
    "\n",
    "output = 1"
   ]
  },
  {
   "cell_type": "markdown",
   "metadata": {},
   "source": [
    "To have minimum. let s1 = sum of subset1 and s2 = sum of subset2. need to find min(s2-s1).\n",
    "let s = sum of array.\n",
    "Find min(s-s1 -s1), as s2 = s-s1.\n",
    "find min(s-2s1).\n",
    "\n",
    "Now, find probable value of s1. calculate s-2s1 for each probable value and then take minimum.\n",
    "To calculate prbable sum of s1. Calculate the subset sum for s. It will fill the last row of dp with True or False for each value of (1,2,3,...) till s. If value is True, that means subset is possible for that value.\n",
    "Take all True value positions in the array of probable sum say probableSumList.\n",
    "Now, since we are looking for s1, so will take walk half of probableSumList and calculate (s-2s1) and take minimum value."
   ]
  },
  {
   "cell_type": "code",
   "execution_count": 18,
   "metadata": {},
   "outputs": [],
   "source": [
    "def minimumSubsetSumDifference(array):\n",
    "    #Similar to find if subset is possible for given sum\n",
    "    total = sum(array)\n",
    "    n = len(array)\n",
    "    \n",
    "    dp = [[False for _ in range(total+1)] for _ in range(n+1)]\n",
    "    # initialize\n",
    "    for i in range(n+1):\n",
    "        dp[i][0] = True\n",
    "    \n",
    "    for i in range(1, n+1):\n",
    "        for j in range(total + 1):\n",
    "            if array[i-1] <= j:\n",
    "                dp[i][j] = dp[i-1][j-array[i-1]] or dp[i-1][j]\n",
    "            else:\n",
    "                dp[i][j] = dp[i-1][j]\n",
    "    \n",
    "    # Now last row of dp will have information about probable sum possibility\n",
    "    probableSumList = []\n",
    "    \n",
    "    for c in range(total+1):\n",
    "        if dp[n][c]:\n",
    "            probableSumList.append(c)\n",
    "    \n",
    "    # claculate the minimum (s-2s1)\n",
    "    \n",
    "    m = len(probableSumList)//2\n",
    "    minimum = float('inf')\n",
    "    for i in range(m):\n",
    "        minimum = min(minimum, total - 2*probableSumList[i])\n",
    "    return minimum\n",
    "        "
   ]
  },
  {
   "cell_type": "code",
   "execution_count": 19,
   "metadata": {},
   "outputs": [
    {
     "data": {
      "text/plain": [
       "1"
      ]
     },
     "execution_count": 19,
     "metadata": {},
     "output_type": "execute_result"
    }
   ],
   "source": [
    "array = [1,6,11,5]\n",
    "minimumSubsetSumDifference(array)"
   ]
  },
  {
   "cell_type": "code",
   "execution_count": 20,
   "metadata": {},
   "outputs": [
    {
     "data": {
      "text/plain": [
       "1"
      ]
     },
     "execution_count": 20,
     "metadata": {},
     "output_type": "execute_result"
    }
   ],
   "source": [
    "array = [1,6,11,5,2,4]\n",
    "minimumSubsetSumDifference(array)"
   ]
  },
  {
   "cell_type": "code",
   "execution_count": 21,
   "metadata": {},
   "outputs": [],
   "source": [
    "## Space optimization\n",
    "\n",
    "def minimumSubsetSumDifference_1D(array):\n",
    "    total = sum(array)\n",
    "    n = len(array)\n",
    "    dp = [False] * (total+1)\n",
    "    \n",
    "    ## Initialize\n",
    "    dp[0] = True\n",
    "    \n",
    "    for i in range(1, n+1):\n",
    "        for j in range(total, 0, -1):\n",
    "            if array[i-1] <= j:\n",
    "                dp[j] = dp[j] or dp[j-array[i-1]]\n",
    "    \n",
    "    probableSumList = []\n",
    "    for i, c in enumerate(dp):\n",
    "        if c:\n",
    "            probableSumList.append(i)\n",
    "    \n",
    "    ##calculate minumum\n",
    "    m = len(probableSumList)//2\n",
    "    \n",
    "    minimum = float(\"inf\")\n",
    "    for i in range(m):\n",
    "        minimum = min(minimum, total - 2*probableSumList[i])\n",
    "    return minimum\n",
    "   "
   ]
  },
  {
   "cell_type": "code",
   "execution_count": 22,
   "metadata": {},
   "outputs": [
    {
     "data": {
      "text/plain": [
       "1"
      ]
     },
     "execution_count": 22,
     "metadata": {},
     "output_type": "execute_result"
    }
   ],
   "source": [
    "array = [1,6,11,5]\n",
    "minimumSubsetSumDifference_1D(array)"
   ]
  },
  {
   "cell_type": "code",
   "execution_count": null,
   "metadata": {},
   "outputs": [],
   "source": []
  }
 ],
 "metadata": {
  "kernelspec": {
   "display_name": "Python 3",
   "language": "python",
   "name": "python3"
  },
  "language_info": {
   "codemirror_mode": {
    "name": "ipython",
    "version": 3
   },
   "file_extension": ".py",
   "mimetype": "text/x-python",
   "name": "python",
   "nbconvert_exporter": "python",
   "pygments_lexer": "ipython3",
   "version": "3.8.3"
  }
 },
 "nbformat": 4,
 "nbformat_minor": 4
}

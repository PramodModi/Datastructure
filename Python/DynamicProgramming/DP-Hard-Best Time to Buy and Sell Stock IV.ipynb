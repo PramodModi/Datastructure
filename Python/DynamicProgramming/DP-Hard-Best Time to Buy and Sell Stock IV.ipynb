{
 "cells": [
  {
   "cell_type": "markdown",
   "metadata": {},
   "source": [
    "## 188. Best Time to Buy and Sell Stock IV\n",
    "You are given an integer array prices where prices[i] is the price of a given stock on the ith day, and an integer k.\n",
    "\n",
    "Find the maximum profit you can achieve. You may complete at most k transactions.\n",
    "\n",
    "Note: You may not engage in multiple transactions simultaneously (i.e., you must sell the stock before you buy again).\n",
    "\n",
    " \n",
    "\n",
    "Example 1:\n",
    "\n",
    "Input: k = 2, prices = [2,4,1]\n",
    "\n",
    "Output: 2\n",
    "\n",
    "Explanation: Buy on day 1 (price = 2) and sell on day 2 (price = 4), profit = 4-2 = 2.\n",
    "\n",
    "Example 2:\n",
    "\n",
    "Input: k = 2, prices = [3,2,6,5,0,3]\n",
    "\n",
    "Output: 7\n",
    "\n",
    "Explanation: Buy on day 2 (price = 2) and sell on day 3 (price = 6), profit = 6-2 = 4. Then buy on day 5 (price = 0) and sell on day 6 (price = 3), profit = 3-0 = 3.\n",
    " \n",
    "\n",
    "Constraints:\n",
    "\n",
    "1 <= k <= 100\n",
    "\n",
    "1 <= prices.length <= 1000\n",
    "\n",
    "0 <= prices[i] <= 1000"
   ]
  },
  {
   "cell_type": "markdown",
   "metadata": {},
   "source": [
    "### Approach: Dynamic Programming"
   ]
  },
  {
   "cell_type": "markdown",
   "metadata": {},
   "source": [
    "\n",
    "Either stocks can be sold at jth day or can not be sold. Suppose j = number of days and i is the number of transaction allowed.\n",
    "\n",
    "Maximum profit = max(dp[i][j-1], price[j] - price[m] + dp[i-1][m]). If stock is not sold at at the jth day, then number of transaction will remain same (i) and number of days will be reduced to (j-1). If stock is sold at jth day, then profit = profit at jth day + earlier profit. Here m is the day when stock is purchased menas m can be 0 to j-1. dp[i-1][m] means profit earned for (i-1)th transaction when stock is sold at m the day.\n",
    "\n",
    "maxProfit = max(dp[i][j-1], price[j]-price[m]+dp[i-1][m]\n",
    "\n",
    "Further optimization:\n",
    "here m varies from 0 to j-1 for each calculation for given i and j.\n",
    "Say i = 2, j = 3, m = 0, 1,2\n",
    "\n",
    "m = 0, maxProfit = max(dp[2][2], price[3]-price[0]+dp[1][0])\n",
    "m = 1, maxProfit = max(dp[2][2], price[3]-price[1]+dp[1][1])\n",
    "m = 2, maxProfit = max(dp[2][2], price[3]-price[2]+dp[1][2])\n",
    "\n",
    "Basically, need to calculate maximum value of dp[i-1][m]-price[m] as price[j] is same for all m.\n",
    "\n",
    "if i = 2, j = 4, m =0,1,2,3\n",
    "m = 0, maxProfit = max(dp[2][3], price[4]-price[0]+dp[1][0])\n",
    "m = 1, maxProfit = max(dp[2][3], price[4]-price[1]+dp[1][1])\n",
    "m = 2, maxProfit = max(dp[2][3], price[4]-price[2]+dp[1][2])\n",
    "m = 3, maxProfit = max(dp[2][3], price[4]-price[3]+dp[1][3])\n",
    "\n",
    "Suppose maximum of dp[i-1][m]-price[m] = maxDay\n",
    "so, we can re-write m = 3 \n",
    "m = 3, maxProfit = max(dp[2][3], price[4] + maxD)\n",
    "\n",
    "maxD = max(maxD, dp[i-1][m]-price[m])\n",
    "\n",
    "assume maxD = -price[0]\n",
    "\n",
    "then maxD = max(maxD, dp[i-1][j]-price[j])\n",
    "\n",
    "So, maxProfit formula would be:\n",
    "\n",
    "maxProfit = max(dp[i][j-1], price[j] + maxD)\n",
    "maxD = max(maxD, dp[i-1][j] - price[j])\n"
   ]
  },
  {
   "cell_type": "code",
   "execution_count": 15,
   "metadata": {},
   "outputs": [],
   "source": [
    "## time O(n*k) | space O(n*k)\n",
    "def max_profit(prices, k):\n",
    "    if k ==0 or len(prices) == 0:\n",
    "        return 0\n",
    "    n = len(prices)\n",
    "    ## There is special case when k > (n/2), that means you can purchase and sell almost every day.\n",
    "    profit = 0\n",
    "    if k > (n/2):\n",
    "        for i in range(1, n):\n",
    "            profit += max(prices[i]-prices[i-1], 0)\n",
    "        return profit\n",
    "    \n",
    "    ## Normal case when you have limited transaction. k < n/2\n",
    "    dp = [[0 for _ in range(n)] for _ in range(k+1)]\n",
    "    \n",
    "    for i in range(1, k+1):\n",
    "        maxDay = - prices[0]\n",
    "        for j in range(1,n):\n",
    "            dp[i][j] = max(dp[i][j-1], prices[j] + maxDay)\n",
    "            maxDay = max(maxDay, dp[i-1][j] - prices[j])\n",
    "    return dp[-1][-1]\n",
    "    \n",
    "    \n",
    "            "
   ]
  },
  {
   "cell_type": "code",
   "execution_count": 16,
   "metadata": {},
   "outputs": [
    {
     "data": {
      "text/plain": [
       "2"
      ]
     },
     "execution_count": 16,
     "metadata": {},
     "output_type": "execute_result"
    }
   ],
   "source": [
    "prices = [2,4,1]\n",
    "k = 2\n",
    "max_profit(prices, k)"
   ]
  },
  {
   "cell_type": "code",
   "execution_count": 20,
   "metadata": {},
   "outputs": [
    {
     "data": {
      "text/plain": [
       "7"
      ]
     },
     "execution_count": 20,
     "metadata": {},
     "output_type": "execute_result"
    }
   ],
   "source": [
    "prices = [3,2,6,5,0,3]\n",
    "k = 7\n",
    "max_profit(prices, k)"
   ]
  },
  {
   "cell_type": "code",
   "execution_count": 21,
   "metadata": {},
   "outputs": [
    {
     "data": {
      "text/plain": [
       "93"
      ]
     },
     "execution_count": 21,
     "metadata": {},
     "output_type": "execute_result"
    }
   ],
   "source": [
    "prices = [5,11,3,50,60,90]\n",
    "k = 2\n",
    "max_profit(prices, k)"
   ]
  },
  {
   "cell_type": "code",
   "execution_count": null,
   "metadata": {},
   "outputs": [],
   "source": []
  }
 ],
 "metadata": {
  "kernelspec": {
   "display_name": "Python 3 (ipykernel)",
   "language": "python",
   "name": "python3"
  },
  "language_info": {
   "codemirror_mode": {
    "name": "ipython",
    "version": 3
   },
   "file_extension": ".py",
   "mimetype": "text/x-python",
   "name": "python",
   "nbconvert_exporter": "python",
   "pygments_lexer": "ipython3",
   "version": "3.8.18"
  }
 },
 "nbformat": 4,
 "nbformat_minor": 4
}

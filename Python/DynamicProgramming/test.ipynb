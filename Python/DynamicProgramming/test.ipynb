{
 "cells": [
  {
   "cell_type": "markdown",
   "metadata": {},
   "source": [
    "## Problem\n",
    "\n",
    "You want to schedule a list of jobs in d days. Jobs are dependent (i.e To work on the ith job, you have to finish all the jobs j where 0 <= j < i).\n",
    "\n",
    "You have to finish at least one task every day. The difficulty of a job schedule is the sum of difficulties of each day of the d days. The difficulty of a day is the maximum difficulty of a job done on that day.\n",
    "\n",
    "You are given an integer array jobDifficulty and an integer d. The difficulty of the ith job is jobDifficulty[i].\n",
    "\n",
    "Return the minimum difficulty of a job schedule. If you cannot find a schedule for the jobs return -1.\n",
    "\n",
    "Example 1:\n",
    "\n",
    "Input: jobDifficulty = [6,5,4,3,2,1], d = 2\n",
    "\n",
    "Output: 7\n",
    "\n",
    "Explanation: First day you can finish the first 5 jobs, total difficulty = 6.\n",
    "Second day you can finish the last job, total difficulty = 1.\n",
    "\n",
    "The difficulty of the schedule = 6 + 1 = 7 \n",
    "\n",
    "Example 2:\n",
    "\n",
    "Input: jobDifficulty = [9,9,9], d = 4\n",
    "\n",
    "Output: -1\n",
    "\n",
    "Explanation: If you finish a job per day you will still have a free day. you cannot find a schedule for the given jobs.\n",
    "\n",
    "Example 3:\n",
    "\n",
    "Input: jobDifficulty = [1,1,1], d = 3\n",
    "\n",
    "Output: 3\n",
    "\n",
    "Explanation: The schedule is one job per day. total difficulty will be 3.\n",
    "\n"
   ]
  },
  {
   "cell_type": "markdown",
   "metadata": {},
   "source": [
    "## Top Down approach\n",
    "\n"
   ]
  },
  {
   "cell_type": "code",
   "execution_count": 24,
   "metadata": {},
   "outputs": [],
   "source": [
    "\n",
    "def minDifficulty(jobDifficulty, d):\n",
    "        n = len(jobDifficulty)\n",
    "        # If we cannot schedule at least one job per day, \n",
    "        # it is impossible to create a schedule\n",
    "        if n < d:\n",
    "            return -1\n",
    "        \n",
    "        hardest_job_remaining = [0] * n\n",
    "        hardest_job = 0\n",
    "        for i in range(n - 1, -1, -1):\n",
    "            hardest_job = max(hardest_job, jobDifficulty[i])\n",
    "            hardest_job_remaining[i] = hardest_job\n",
    "        \n",
    "        result = [[-1 for _ in range(d+1)] for _ in range(n)]\n",
    "        \n",
    "        return dp(0,1,jobDifficulty, hardest_job_remaining, result)\n",
    "        \n",
    "\n",
    "def dp(i, day, jobDifficulty, hardest_job_remaining, result):\n",
    "    # Base case, it's the last day so we need to finish all the jobs\n",
    "    if day == d:\n",
    "        return hardest_job_remaining[i]\n",
    "\n",
    "    if result[i][day] == -1:\n",
    "        best = float(\"inf\")\n",
    "        hardest = 0\n",
    "        n = len(jobDifficulty)\n",
    "        # Iterate through the options and choose the best\n",
    "        for j in range(i, n - (d - day)): # Leave at least 1 job per remaining day\n",
    "            hardest = max(hardest, jobDifficulty[j])\n",
    "            best = min(best, hardest + dp(j + 1, day + 1, jobDifficulty, hardest_job_remaining,result)) # Recurrence relation\n",
    "        result[i][day] = best\n",
    "    return result[i][day]"
   ]
  },
  {
   "cell_type": "code",
   "execution_count": 25,
   "metadata": {},
   "outputs": [
    {
     "data": {
      "text/plain": [
       "7"
      ]
     },
     "execution_count": 25,
     "metadata": {},
     "output_type": "execute_result"
    }
   ],
   "source": [
    "jobDifficulty = [6,5,4,3,2,1]\n",
    "d =2 \n",
    "minDifficulty(jobDifficulty, d)"
   ]
  },
  {
   "cell_type": "code",
   "execution_count": 46,
   "metadata": {},
   "outputs": [],
   "source": [
    "# Problem: MaxSubsetSum-No-Adjuscent\n",
    "def maxSubsetSumNoAdjacent(array):\n",
    "    n = len(array)\n",
    "    if n == 0:\n",
    "        return 0\n",
    "    \n",
    "    dp = [0]*n\n",
    "    \n",
    "    first = array[0]\n",
    "    if n ==1:\n",
    "        return first\n",
    "    second = max(array[0], array[1])\n",
    "    \n",
    "    for i in range(2, n):\n",
    "        current = max(first + array[i], second)\n",
    "        first = second\n",
    "        second = current\n",
    "    return second\n",
    "        \n",
    "        \n",
    "        \n",
    "    "
   ]
  },
  {
   "cell_type": "code",
   "execution_count": 47,
   "metadata": {},
   "outputs": [
    {
     "data": {
      "text/plain": [
       "330"
      ]
     },
     "execution_count": 47,
     "metadata": {},
     "output_type": "execute_result"
    }
   ],
   "source": [
    "array = [75,105,120,75,90,135]\n",
    "maxSubsetSumNoAdjacent(array)"
   ]
  },
  {
   "cell_type": "code",
   "execution_count": 51,
   "metadata": {},
   "outputs": [],
   "source": [
    "# Number of ways to make change\n",
    "\n",
    "def numberOfWaysToMakeChange(n, denoms):\n",
    "    ways = [0]*(n+1)\n",
    "    ways[0] = 1\n",
    "    for coin in denoms:\n",
    "        for j in range(len(ways)):\n",
    "            if j >= coin:\n",
    "                ways[j] = ways[j] + ways[j-coin]\n",
    "    return ways[n]"
   ]
  },
  {
   "cell_type": "code",
   "execution_count": 52,
   "metadata": {},
   "outputs": [
    {
     "data": {
      "text/plain": [
       "2"
      ]
     },
     "execution_count": 52,
     "metadata": {},
     "output_type": "execute_result"
    }
   ],
   "source": [
    "n = 6\n",
    "denoms = [1,5]\n",
    "numberOfWaysToMakeChange(n, denoms)"
   ]
  },
  {
   "cell_type": "code",
   "execution_count": 60,
   "metadata": {},
   "outputs": [],
   "source": [
    "# Min Number of Coins For Changes\n",
    "\n",
    "def minNumberOfCoinsForChanges(n, denoms):\n",
    "    numberOfCoins = [float('inf')] * (n+1)\n",
    "    numberOfCoins[0] = 0\n",
    "    \n",
    "    for coin in denoms:\n",
    "        for i in range(n+1):\n",
    "            if i>=coin:\n",
    "                numberOfCoins[i] = min(numberOfCoins[i], 1+numberOfCoins[i-coin])\n",
    "    return numberOfCoins[n] if numberOfCoins[n] != float('inf') else -1"
   ]
  },
  {
   "cell_type": "code",
   "execution_count": 61,
   "metadata": {},
   "outputs": [
    {
     "data": {
      "text/plain": [
       "2"
      ]
     },
     "execution_count": 61,
     "metadata": {},
     "output_type": "execute_result"
    }
   ],
   "source": [
    "n =6\n",
    "denoms = [1,5]\n",
    "minNumberOfCoinsForChanges(n, denoms)"
   ]
  },
  {
   "cell_type": "code",
   "execution_count": 62,
   "metadata": {},
   "outputs": [
    {
     "data": {
      "text/plain": [
       "3"
      ]
     },
     "execution_count": 62,
     "metadata": {},
     "output_type": "execute_result"
    }
   ],
   "source": [
    "n =7\n",
    "denoms = [1,5,10]\n",
    "minNumberOfCoinsForChanges(n, denoms)"
   ]
  },
  {
   "cell_type": "code",
   "execution_count": 66,
   "metadata": {},
   "outputs": [],
   "source": [
    "# Levenshtein Distance\n",
    "# Take two strings and return minimum number of edit operations neeeded \n",
    "#to be performed on he first string to obtain the second string\n",
    "# O(nm) time | O(nm) space\n",
    "def levenshteinDistance(str1, str2):\n",
    "    editOperations = [[j for j in range(len(str2) + 1)] for _ in range(len(str1) + 1)]\n",
    "    \n",
    "    for i in range(1, len(str1)+1):\n",
    "        editOperations[i][0] = i\n",
    "    for i in range(1, len(str1) +1):\n",
    "        for j in range(1, len(str2) + 1):\n",
    "            if str1[i-1] == str2[j-1]:\n",
    "                editOperations[i][j] = editOperations[i-1][j-1]\n",
    "            else:\n",
    "                editOperations[i][j] = 1 + min(editOperations[i-1][j-1], editOperations[i-1][j], editOperations[i][j-1])\n",
    "    return editOperations[-1][-1]"
   ]
  },
  {
   "cell_type": "code",
   "execution_count": 67,
   "metadata": {},
   "outputs": [
    {
     "data": {
      "text/plain": [
       "2"
      ]
     },
     "execution_count": 67,
     "metadata": {},
     "output_type": "execute_result"
    }
   ],
   "source": [
    "str1 = \"abc\"\n",
    "str2 = \"yabd\"\n",
    "levenshteinDistance(str1, str2)"
   ]
  },
  {
   "cell_type": "code",
   "execution_count": 68,
   "metadata": {},
   "outputs": [
    {
     "data": {
      "text/plain": [
       "1"
      ]
     },
     "execution_count": 68,
     "metadata": {},
     "output_type": "execute_result"
    }
   ],
   "source": [
    "str1 = \"algoexpert\"\n",
    "str2 = \"algozxpert\"\n",
    "levenshteinDistance(str1, str2)"
   ]
  },
  {
   "cell_type": "code",
   "execution_count": 75,
   "metadata": {},
   "outputs": [],
   "source": [
    "## Number of ways to traverse Graph\n",
    "def numberOfWaysToTraverseGraph(width, height):\n",
    "    ways = [[1 for _ in range(width)] for _ in range(height)]\n",
    "    for i in range(1, height):\n",
    "        for j in range(1, width):\n",
    "            ways[i][j] = ways[i-1][j] + ways[i][j-1]\n",
    "    print(ways)\n",
    "    return ways[-1][-1]"
   ]
  },
  {
   "cell_type": "code",
   "execution_count": 76,
   "metadata": {},
   "outputs": [
    {
     "name": "stdout",
     "output_type": "stream",
     "text": [
      "[[1, 1], [1, 2], [1, 3]]\n"
     ]
    },
    {
     "data": {
      "text/plain": [
       "3"
      ]
     },
     "execution_count": 76,
     "metadata": {},
     "output_type": "execute_result"
    }
   ],
   "source": [
    "numberOfWaysToTraverseGraph(2,3)"
   ]
  },
  {
   "cell_type": "code",
   "execution_count": 85,
   "metadata": {},
   "outputs": [],
   "source": [
    "# Max sum increasing Subsequence\n",
    "\n",
    "def maxSumIncreasingSubSeq(array):\n",
    "    n = len(array)\n",
    "    subSeq = [None]* n\n",
    "    sum = array[:]\n",
    "    maxIndex = 0\n",
    "    \n",
    "    for i in range(n):\n",
    "        current = array[i]\n",
    "        for j in range(0, i):\n",
    "            if array[j] < current and sum[j] + current > sum[i]:\n",
    "                sum[i] = sum[j] + current\n",
    "                subSeq[i] = j\n",
    "        if sum[i] > sum[maxIndex]:\n",
    "            maxIndex = i\n",
    "    return [sum[maxIndex], buildSeq(array, subSeq, maxIndex)]\n",
    "\n",
    "def buildSeq(array, subSeq, maxIndex):\n",
    "    seq = []\n",
    "    currentIndex = maxIndex\n",
    "    while currentIndex is not None:\n",
    "        seq.append(array[currentIndex])\n",
    "        currentIndex = subSeq[currentIndex]\n",
    "    return list(reversed(seq))\n",
    "    "
   ]
  },
  {
   "cell_type": "code",
   "execution_count": 86,
   "metadata": {},
   "outputs": [
    {
     "data": {
      "text/plain": [
       "[35, [8, 12, 15]]"
      ]
     },
     "execution_count": 86,
     "metadata": {},
     "output_type": "execute_result"
    }
   ],
   "source": [
    "array = [8,12,2,3,15,7,5]\n",
    "maxSumIncreasingSubSeq(array)"
   ]
  },
  {
   "cell_type": "code",
   "execution_count": 91,
   "metadata": {},
   "outputs": [],
   "source": [
    "# Longest Common Subsequence\n",
    "\n",
    "def longestCommonSubSequence(str1, str2):\n",
    "    m = len(str1)\n",
    "    n = len(str2)\n",
    "    \n",
    "    lcs = [[0 for _ in range(n+1)] for _ in range(m+1)]\n",
    "    for i in range(1, m+1):\n",
    "        for j in range(1, n+1):\n",
    "            if str1[i-1] == str2[j-1]:\n",
    "                lcs[i][j] = 1 + lcs[i-1][j-1]\n",
    "            else:\n",
    "                lcs[i][j] = max(lcs[i-1][j], lcs[i][j-1])\n",
    "    return sequence(lcs, str1)\n",
    "\n",
    "def sequence(lcs, str1):\n",
    "    seq = []\n",
    "    m = len(lcs)-1\n",
    "    n = len(lcs[0]) - 1\n",
    "    \n",
    "    while m != 0 and n != 0:\n",
    "        if lcs[m][n] == lcs[m-1][n]:\n",
    "            m -= 1\n",
    "        elif lcs[m][n] == lcs[m][n-1]:\n",
    "            n -= 1\n",
    "        else:\n",
    "            seq.append(str1[m-1])\n",
    "            m -= 1\n",
    "            n -= 1\n",
    "    return list(reversed(seq))"
   ]
  },
  {
   "cell_type": "code",
   "execution_count": 92,
   "metadata": {},
   "outputs": [
    {
     "data": {
      "text/plain": [
       "['x', 'y', 'z', 'w']"
      ]
     },
     "execution_count": 92,
     "metadata": {},
     "output_type": "execute_result"
    }
   ],
   "source": [
    "str1 = \"zxvvyzw\"\n",
    "str2= \"xkykzpw\"\n",
    "longestCommonSubSequence(str1, str2)"
   ]
  },
  {
   "cell_type": "code",
   "execution_count": 97,
   "metadata": {},
   "outputs": [],
   "source": [
    "# Min number of Jumps\n",
    "\n",
    "def minNumberOfJumps(array):\n",
    "    n = len(array)\n",
    "    \n",
    "    if n == 1:\n",
    "        return 0\n",
    "    maxNextPoint = array[0]\n",
    "    steps = array[0]\n",
    "    jumpCount  = 0\n",
    "    \n",
    "    for j in range(1, n-1):\n",
    "        maxNextPoint = max(maxNextPoint, array[j]+j)\n",
    "        steps -=1 \n",
    "        if steps == 0:\n",
    "            jumpCount += 1\n",
    "            steps = maxNextPoint - j\n",
    "    return jumpCount + 1\n",
    "        \n",
    "    "
   ]
  },
  {
   "cell_type": "code",
   "execution_count": 98,
   "metadata": {},
   "outputs": [
    {
     "data": {
      "text/plain": [
       "4"
      ]
     },
     "execution_count": 98,
     "metadata": {},
     "output_type": "execute_result"
    }
   ],
   "source": [
    "array = [3,4,2,1,2,3,7,1,1,1,3]\n",
    "minNumberOfJumps(array)"
   ]
  },
  {
   "cell_type": "markdown",
   "metadata": {},
   "source": [
    "## Amazon context"
   ]
  },
  {
   "cell_type": "code",
   "execution_count": 147,
   "metadata": {},
   "outputs": [],
   "source": [
    "def findFinalValue1(nums, original):\n",
    "    nums.sort()\n",
    "    print(nums)\n",
    "    for j in range(len(nums)):\n",
    "        if original == nums[j]:\n",
    "            original = original*2\n",
    "    return original\n"
   ]
  },
  {
   "cell_type": "code",
   "execution_count": 170,
   "metadata": {},
   "outputs": [],
   "source": [
    "def findFinalValue(nums, original):\n",
    "    n = set()\n",
    "    for i in nums:\n",
    "        n.add(i)\n",
    "    while original in n:\n",
    "        original = original*2\n",
    "    return original"
   ]
  },
  {
   "cell_type": "code",
   "execution_count": 171,
   "metadata": {},
   "outputs": [
    {
     "data": {
      "text/plain": [
       "24"
      ]
     },
     "execution_count": 171,
     "metadata": {},
     "output_type": "execute_result"
    }
   ],
   "source": [
    "original = 3\n",
    "nums = [5,3,6,1,12]\n",
    "findFinalValue(nums, original)"
   ]
  },
  {
   "cell_type": "code",
   "execution_count": 172,
   "metadata": {},
   "outputs": [
    {
     "data": {
      "text/plain": [
       "3"
      ]
     },
     "execution_count": 172,
     "metadata": {},
     "output_type": "execute_result"
    }
   ],
   "source": [
    "original = 3\n",
    "nums = [2,7,9]\n",
    "findFinalValue(nums, original)"
   ]
  },
  {
   "cell_type": "code",
   "execution_count": 173,
   "metadata": {},
   "outputs": [],
   "source": [
    "def maxScoreIndices(nums):\n",
    "    left = 0\n",
    "    lefts = 0\n",
    "    rights = sum(nums)\n",
    "    total = rights\n",
    "    result = []\n",
    "    result.append(left)\n",
    "    \n",
    "    while left < len(nums):\n",
    "        if nums[left] == 0:\n",
    "            lefts += 1\n",
    "        else:\n",
    "            rights -= 1\n",
    "        s = lefts + rights\n",
    "        \n",
    "        if total < s:\n",
    "            total = s\n",
    "            result.clear()\n",
    "            result.append(left+1)\n",
    "        elif total == s:\n",
    "            result.append(left+1)\n",
    "        \n",
    "        left += 1\n",
    "    return result\n",
    "        "
   ]
  },
  {
   "cell_type": "code",
   "execution_count": 174,
   "metadata": {},
   "outputs": [
    {
     "data": {
      "text/plain": [
       "[4]"
      ]
     },
     "execution_count": 174,
     "metadata": {},
     "output_type": "execute_result"
    }
   ],
   "source": [
    "nums = [1,0,0,0]\n",
    "maxScoreIndices(nums)"
   ]
  },
  {
   "cell_type": "code",
   "execution_count": null,
   "metadata": {},
   "outputs": [],
   "source": [
    "# Not yet completed. Leet code 2156 (Find substring with given hash value)\n",
    "def subStrHash(s, power, modulo, k , hashvalue):\n",
    "    right = 0\n",
    "    hashvList = 0\n",
    "    while right < k:\n",
    "        hashvList.append(hashValue(s[right], right, power))\n",
    "    \n",
    "    hashv = sum(hashvList)\n",
    "    if hashvalue == hashv% modulo:\n",
    "        return s[0:right]\n",
    "    \n",
    "    left = 0\n",
    "    right = right + 1\n",
    "    \n",
    "    while right< len(s):\n",
    "        hv = hashvList.pop(0)\n",
    "        hashv -= hv\n",
    "        hashv += hashValue(s[right], right, power)\n",
    "    \n",
    "    \n",
    "def hashValue(c, index, power, modulo):\n",
    "    value = ord(c)-96\n",
    "    hashv = value * pow(power, i)\n",
    "    return hashv"
   ]
  },
  {
   "cell_type": "code",
   "execution_count": 169,
   "metadata": {},
   "outputs": [
    {
     "data": {
      "text/plain": [
       "1"
      ]
     },
     "execution_count": 169,
     "metadata": {},
     "output_type": "execute_result"
    }
   ],
   "source": [
    "ord('a')-96"
   ]
  },
  {
   "cell_type": "code",
   "execution_count": null,
   "metadata": {},
   "outputs": [],
   "source": []
  }
 ],
 "metadata": {
  "kernelspec": {
   "display_name": "Python 3",
   "language": "python",
   "name": "python3"
  },
  "language_info": {
   "codemirror_mode": {
    "name": "ipython",
    "version": 3
   },
   "file_extension": ".py",
   "mimetype": "text/x-python",
   "name": "python",
   "nbconvert_exporter": "python",
   "pygments_lexer": "ipython3",
   "version": "3.8.3"
  }
 },
 "nbformat": 4,
 "nbformat_minor": 4
}

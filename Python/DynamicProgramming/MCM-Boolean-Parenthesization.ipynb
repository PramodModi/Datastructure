{
 "cells": [
  {
   "cell_type": "markdown",
   "metadata": {},
   "source": [
    "## Problem\n",
    "\n",
    "Given string consists, True, False, and Operators (and, or, xor). Apply the parentheses accross the expression so that result should be asked output(True or False). Return number of ways, parentheses can be applied.\n",
    "\n",
    "Example:\n",
    "\n",
    "symbols = \"TTFT\"\n",
    "operators =\"|&^\"\n",
    "\n",
    "Number of ways to get True = 4\n",
    "\n",
    "1. (T|T)&(F^T)\n",
    "2. (T)|(T&(F^T))\n",
    "3. ((T|T)&F)^(T)\n",
    "4. T|((T&F)^T)"
   ]
  },
  {
   "cell_type": "markdown",
   "metadata": {},
   "source": [
    "#### This is similar to MCM problem.\n",
    "#### 1. Find the i and j strating position. i can be start from 0th location and j can be at the end j = len(symbo + operators) -1\n",
    "#### 2. Base condition. if i>j , then return false (0), if i == j , then there is one synbol only, if looking for True, and if symbol is True return True otherwise return False and viceversa, if looking for False.\n",
    "#### 3. For each expression we have to calculate ways for True and False, and then calculate number of ways depending on the operator."
   ]
  },
  {
   "cell_type": "markdown",
   "metadata": {},
   "source": [
    "### Recurssive Approach"
   ]
  },
  {
   "cell_type": "code",
   "execution_count": 3,
   "metadata": {},
   "outputs": [],
   "source": [
    "def numbrOfWaysBooleanParenthesization(symbols, operators):\n",
    "    n = len(symbols)\n",
    "    m = len(operators)\n",
    "    # create a string by combining both symbols and operators. like s = \"T|T&F^T\"\n",
    "    j = 0\n",
    "    s= \"\"\n",
    "    for i in range(n):\n",
    "        s = s+symbols[i]\n",
    "        if j < m:\n",
    "            s  =s + operators[j]\n",
    "            j += 1\n",
    "    n = len(s)\n",
    "    return countWays(s, 0, n-1, 1) # Last argument is 1 for True\n",
    "\n",
    "def countWays(s, i, j, isTrue):\n",
    "    # Base condition\n",
    "    if i>j:\n",
    "        return 0\n",
    "    if i == j:\n",
    "        if isTrue == 1:\n",
    "            return 1 if s[i] == 'T' else 0\n",
    "        else:\n",
    "            return 1 if s[i] == 'F' else 0\n",
    "    \n",
    "    ways = 0\n",
    "    for k in range(i+1, j, 2):\n",
    "        # Check for True and false for left set and right set each\n",
    "        leftTrue = countWays(s, i, k-1, 1)\n",
    "        leftFalse = countWays(s, i, k-1, 0)\n",
    "        rightTrue = countWays(s, k+1, j, 1)\n",
    "        rightFalse = countWays(s, k+1, j, 0)\n",
    "        # evaluate operators\n",
    "        if s[k] == '&':\n",
    "            if isTrue == 1:\n",
    "                ways = ways + leftTrue*rightTrue\n",
    "            else:\n",
    "                ways = ways + leftTrue*rightFalse + leftFalse*rightTrue + leftFalse*rightFalse\n",
    "        \n",
    "        if s[k] == '|':\n",
    "            if isTrue == 1:\n",
    "                ways = ways + leftTrue*rightTrue + leftTrue*rightFalse + leftFalse*rightTrue\n",
    "            else:\n",
    "                ways = ways + leftFalse*rightFalse\n",
    "                \n",
    "        if s[k] == '^':\n",
    "            if isTrue == 1:\n",
    "                ways = ways + leftTrue*rightFalse + leftFalse*rightTrue\n",
    "            else:\n",
    "                ways = ways + leftFalse*rightFalse + leftTrue*rightTrue\n",
    "    return ways\n",
    "        \n",
    "        "
   ]
  },
  {
   "cell_type": "code",
   "execution_count": 4,
   "metadata": {},
   "outputs": [
    {
     "data": {
      "text/plain": [
       "4"
      ]
     },
     "execution_count": 4,
     "metadata": {},
     "output_type": "execute_result"
    }
   ],
   "source": [
    "symbols = \"TTFT\"\n",
    "operators =\"|&^\"\n",
    "numbrOfWaysBooleanParenthesization(symbols, operators)"
   ]
  },
  {
   "cell_type": "code",
   "execution_count": 5,
   "metadata": {},
   "outputs": [
    {
     "data": {
      "text/plain": [
       "2"
      ]
     },
     "execution_count": 5,
     "metadata": {},
     "output_type": "execute_result"
    }
   ],
   "source": [
    "symbols = \"TFT\"\n",
    "operators =\"^&\"\n",
    "numbrOfWaysBooleanParenthesization(symbols, operators)"
   ]
  },
  {
   "cell_type": "code",
   "execution_count": 7,
   "metadata": {},
   "outputs": [
    {
     "data": {
      "text/plain": [
       "2"
      ]
     },
     "execution_count": 7,
     "metadata": {},
     "output_type": "execute_result"
    }
   ],
   "source": [
    "symbols = \"TFF\"\n",
    "operators =\"^|\"\n",
    "numbrOfWaysBooleanParenthesization(symbols, operators)"
   ]
  },
  {
   "cell_type": "code",
   "execution_count": 8,
   "metadata": {},
   "outputs": [
    {
     "data": {
      "text/plain": [
       "1"
      ]
     },
     "execution_count": 8,
     "metadata": {},
     "output_type": "execute_result"
    }
   ],
   "source": [
    "symbols = \"TFT\"\n",
    "operators =\"^|\"\n",
    "numbrOfWaysBooleanParenthesization(symbols, operators)"
   ]
  },
  {
   "cell_type": "markdown",
   "metadata": {},
   "source": [
    "### Memoization"
   ]
  },
  {
   "cell_type": "code",
   "execution_count": 12,
   "metadata": {},
   "outputs": [],
   "source": [
    "def numbrOfWaysBooleanParenthesization_DP(symbols, operators):\n",
    "    n = len(symbols)\n",
    "    m = len(operators)\n",
    "    # create a string by combining both symbols and operators. like s = \"T|T&F^T\"\n",
    "    j = 0\n",
    "    s= \"\"\n",
    "    for i in range(n):\n",
    "        s = s+symbols[i]\n",
    "        if j < m:\n",
    "            s  =s + operators[j]\n",
    "            j += 1\n",
    "    n = len(s)\n",
    "    # Take dp matrix for i, j and true or false, of size nxnx2\n",
    "    dp = [[[-1 for _ in range(2)] for _ in range(n+1)] for _ in range(n+1)]\n",
    "    \n",
    "    return countWays(s, 0, n-1, 1, dp)\n",
    "\n",
    "def countWays(s, i, j, isTrue, dp):\n",
    "    # Base condition\n",
    "    if i>j:\n",
    "        return 0\n",
    "    if i == j:\n",
    "        if isTrue == 1:\n",
    "            return 1 if s[i] == 'T' else 0\n",
    "        else:\n",
    "            return 1 if s[i] == 'F' else 0\n",
    "    \n",
    "    if dp[i][j][isTrue] != -1:\n",
    "        return dp[i][j][isTrue]\n",
    "    \n",
    "    ways = 0\n",
    "    for k in range(i+1, j, 2):\n",
    "        # Check for True and false for left set and right set each\n",
    "        \n",
    "        if dp[i][k-1][1] != -1:\n",
    "            leftTrue = dp[i][k-1][1]\n",
    "        else:\n",
    "            leftTrue = countWays(s, i, k-1, 1,dp)\n",
    "        \n",
    "        if dp[i][k-1][0] != -1:\n",
    "            leftFalse = dp[i][k-1][0]\n",
    "        else:\n",
    "            leftFalse = countWays(s, i, k-1, 0,dp)\n",
    "        \n",
    "        if dp[k+1][j][1]!= -1:\n",
    "            rightTrue = dp[k+1][j][1]\n",
    "        else:\n",
    "            rightTrue = countWays(s, k+1, j, 1,dp)\n",
    "            \n",
    "        if dp[k+1][j][0]!= -1:\n",
    "            rightFalse = dp[k+1][j][0]\n",
    "        else:\n",
    "            rightFalse = countWays(s, k+1, j, 0,dp)\n",
    "            \n",
    "        \n",
    "        \n",
    "        # evaluate operators\n",
    "        if s[k] == '&':\n",
    "            if isTrue == 1:\n",
    "                ways = ways + leftTrue*rightTrue\n",
    "            else:\n",
    "                ways = ways + leftTrue*rightFalse + leftFalse*rightTrue + leftFalse*rightFalse\n",
    "        \n",
    "        if s[k] == '|':\n",
    "            if isTrue == 1:\n",
    "                ways = ways + leftTrue*rightTrue + leftTrue*rightFalse + leftFalse*rightTrue\n",
    "            else:\n",
    "                ways = ways + leftFalse*rightFalse\n",
    "                \n",
    "        if s[k] == '^':\n",
    "            if isTrue == 1:\n",
    "                ways = ways + leftTrue*rightFalse + leftFalse*rightTrue\n",
    "            else:\n",
    "                ways = ways + leftFalse*rightFalse + leftTrue*rightTrue\n",
    "        \n",
    "        dp[i][j][isTrue] = ways\n",
    "        \n",
    "    return ways\n",
    "        "
   ]
  },
  {
   "cell_type": "code",
   "execution_count": 13,
   "metadata": {},
   "outputs": [
    {
     "data": {
      "text/plain": [
       "4"
      ]
     },
     "execution_count": 13,
     "metadata": {},
     "output_type": "execute_result"
    }
   ],
   "source": [
    "symbols = \"TTFT\"\n",
    "operators =\"|&^\"\n",
    "numbrOfWaysBooleanParenthesization_DP(symbols, operators)"
   ]
  },
  {
   "cell_type": "code",
   "execution_count": 16,
   "metadata": {},
   "outputs": [
    {
     "data": {
      "text/plain": [
       "2"
      ]
     },
     "execution_count": 16,
     "metadata": {},
     "output_type": "execute_result"
    }
   ],
   "source": [
    "symbols = \"TFT\"\n",
    "operators =\"^&\"\n",
    "numbrOfWaysBooleanParenthesization_DP(symbols, operators)"
   ]
  },
  {
   "cell_type": "code",
   "execution_count": 17,
   "metadata": {},
   "outputs": [
    {
     "data": {
      "text/plain": [
       "2"
      ]
     },
     "execution_count": 17,
     "metadata": {},
     "output_type": "execute_result"
    }
   ],
   "source": [
    "symbols = \"TFF\"\n",
    "operators =\"^|\"\n",
    "numbrOfWaysBooleanParenthesization_DP(symbols, operators)"
   ]
  },
  {
   "cell_type": "code",
   "execution_count": 18,
   "metadata": {},
   "outputs": [
    {
     "data": {
      "text/plain": [
       "1"
      ]
     },
     "execution_count": 18,
     "metadata": {},
     "output_type": "execute_result"
    }
   ],
   "source": [
    "symbols = \"TFT\"\n",
    "operators =\"^|\"\n",
    "numbrOfWaysBooleanParenthesization_DP(symbols, operators)"
   ]
  },
  {
   "cell_type": "code",
   "execution_count": null,
   "metadata": {},
   "outputs": [],
   "source": []
  }
 ],
 "metadata": {
  "kernelspec": {
   "display_name": "Python 3",
   "language": "python",
   "name": "python3"
  },
  "language_info": {
   "codemirror_mode": {
    "name": "ipython",
    "version": 3
   },
   "file_extension": ".py",
   "mimetype": "text/x-python",
   "name": "python",
   "nbconvert_exporter": "python",
   "pygments_lexer": "ipython3",
   "version": "3.8.3"
  }
 },
 "nbformat": 4,
 "nbformat_minor": 4
}

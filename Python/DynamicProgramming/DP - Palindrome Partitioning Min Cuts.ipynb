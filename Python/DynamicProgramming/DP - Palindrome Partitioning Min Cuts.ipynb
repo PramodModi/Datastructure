{
 "cells": [
  {
   "cell_type": "markdown",
   "metadata": {},
   "source": [
    "## Problem:\n",
    "\n",
    "Given a non-empty string, write a function that returns the minimum number of cuts needed to perform\n",
    "on the string such that each remaining substring is a palindrome.\n",
    "A palindrome is defined as a string that's written the same forward as backward. Note that singlecharacter strings are palindromes.\n",
    "\n",
    "Example:\n",
    "\n",
    "string = \"noonabbad\"\n",
    "\n",
    "output =  2"
   ]
  },
  {
   "cell_type": "markdown",
   "metadata": {},
   "source": [
    "### Approach: Remember, for palindrome, we have two possibilities, odd numbers of characters and even number of characters. For odd number of characters, need to check if adjuscent characters are same. For example: string  = \"abc\" or aba, then need to check if a and c are same. let j starts from 0 and increment by 1. if i is the index of b, then check string[i-j] == string[i+j]. For even number of characters, string = abcd or abba, if i is the index of b, then check string[i-j+1] == string[i+j].\n",
    "### Let dp is the list to hold the minimum number of cut. Initialize with maximum possible cut. If n is the length of string, then maximum cut = (n-1), as one character represents a valid palindrome. Run the loop, for each index i, check both odd and even cindition with j incremented by 1 and store the min cut.\n"
   ]
  },
  {
   "cell_type": "code",
   "execution_count": 1,
   "metadata": {},
   "outputs": [],
   "source": [
    "\n",
    "def palindromePartitioningMinCuts1(s):\n",
    "    n = len(s)\n",
    "    cut = [0] * (n+1)\n",
    "    \n",
    "    # Initialize the dp with maximum number of possible cuts.\n",
    "    for i in range(n+1):\n",
    "        cut[i] = i-1\n",
    "    for i in range(n):\n",
    "        j  = 0\n",
    "        while i-j >=0 and i+j < n and s[i-j]==s[i+j]: # odd length palindrom\n",
    "            # palindrom sring will start from (i-j)th index till (i+j)th index.\n",
    "            # So, cut at index (i+j+1)th = 1 + previous cut that is (i-j)th cut. \n",
    "            # take the minimum of cut[i+j+1] and 1 + previous cut.\n",
    "            cut[i+j+1] = min(cut[i+j+1], 1+ cut[i-j])\n",
    "            j += 1\n",
    "        j = 1\n",
    "        while i-j+1 >=0 and i+j<n and s[i-j+1] == s[i+j]: # even length palindrome\n",
    "            cut[i+j+1] = min(cut[i+j+1], 1 + cut[i-j+1])\n",
    "            j+= 1\n",
    "    return cut[-1]"
   ]
  },
  {
   "cell_type": "code",
   "execution_count": 3,
   "metadata": {},
   "outputs": [
    {
     "data": {
      "text/plain": [
       "1"
      ]
     },
     "execution_count": 3,
     "metadata": {},
     "output_type": "execute_result"
    }
   ],
   "source": [
    "palindromePartitioningMinCuts1(\"ab\")"
   ]
  },
  {
   "cell_type": "code",
   "execution_count": 15,
   "metadata": {},
   "outputs": [
    {
     "data": {
      "text/plain": [
       "2"
      ]
     },
     "execution_count": 15,
     "metadata": {},
     "output_type": "execute_result"
    }
   ],
   "source": [
    "palindromePartitioningMinCuts1(\"noonabbad\")"
   ]
  },
  {
   "cell_type": "code",
   "execution_count": 4,
   "metadata": {},
   "outputs": [
    {
     "data": {
      "text/plain": [
       "0"
      ]
     },
     "execution_count": 4,
     "metadata": {},
     "output_type": "execute_result"
    }
   ],
   "source": [
    "palindromePartitioningMinCuts1(\"a\")"
   ]
  },
  {
   "cell_type": "code",
   "execution_count": 5,
   "metadata": {},
   "outputs": [
    {
     "data": {
      "text/plain": [
       "0"
      ]
     },
     "execution_count": 5,
     "metadata": {},
     "output_type": "execute_result"
    }
   ],
   "source": [
    "palindromePartitioningMinCuts1(\"aa\")"
   ]
  },
  {
   "cell_type": "code",
   "execution_count": 5,
   "metadata": {},
   "outputs": [],
   "source": [
    "# O(n^2)\n",
    "def palindromePartitioningMinCuts(string):\n",
    "    palindromes = [[False for i in string] for j in string]\n",
    "    for i in range(len(string)):\n",
    "        palindromes[i][i] = True\n",
    "    for length in range(2, len(string)+1):\n",
    "        for i in range(0, len(string)-length+1):\n",
    "            j = i+length-1\n",
    "            if length  == 2:\n",
    "                palindromes[i][j] = string[i] == string[j]\n",
    "            else:\n",
    "                palindromes[i][j] = string[i] == string[j] and palindromes[i+1][j-1]\n",
    "    \n",
    "    cuts = [float(\"inf\") for _ in string]\n",
    "    \n",
    "    for i in range(len(string)):\n",
    "        if palindromes[0][i]:\n",
    "            cuts[i] = 0\n",
    "        else:\n",
    "            cuts[i] = cuts[i-1] + 1\n",
    "            for j in range(1, i):\n",
    "                if palindromes[j][i] and cuts[j-1] + 1 < cuts[i]:\n",
    "                    cuts[i] = cuts[j-1] + 1\n",
    "                    \n",
    "    return cuts[-1]\n",
    "        "
   ]
  },
  {
   "cell_type": "code",
   "execution_count": 6,
   "metadata": {},
   "outputs": [
    {
     "data": {
      "text/plain": [
       "2"
      ]
     },
     "execution_count": 6,
     "metadata": {},
     "output_type": "execute_result"
    }
   ],
   "source": [
    "string = \"noonabbad\"\n",
    "palindromePartitioningMinCuts(string)"
   ]
  }
 ],
 "metadata": {
  "kernelspec": {
   "display_name": "Python 3",
   "language": "python",
   "name": "python3"
  },
  "language_info": {
   "codemirror_mode": {
    "name": "ipython",
    "version": 3
   },
   "file_extension": ".py",
   "mimetype": "text/x-python",
   "name": "python",
   "nbconvert_exporter": "python",
   "pygments_lexer": "ipython3",
   "version": "3.8.3"
  }
 },
 "nbformat": 4,
 "nbformat_minor": 4
}

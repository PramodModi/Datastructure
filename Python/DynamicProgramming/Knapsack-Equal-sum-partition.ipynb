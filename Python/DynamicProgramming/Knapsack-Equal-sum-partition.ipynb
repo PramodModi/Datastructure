{
 "cells": [
  {
   "cell_type": "markdown",
   "metadata": {},
   "source": [
    "## Problem\n",
    "Given array of numbers, partition the array in two such that sum of numbers in each partition should be same.\n",
    "Example:\n",
    "\n",
    "array = [1,5,11,5]\n",
    "\n",
    "output = True //[1,5,5], [11]"
   ]
  },
  {
   "cell_type": "markdown",
   "metadata": {},
   "source": [
    "#### This is simlar to subset sum problem. Here \"sum value\" for subset problem is sum of given array divided by 2. In above example, total sum of numbers in array =22. Divide it by two, as we need equal partition, value = sum/2 = 22/2 = 11. If there is subset in the array whose sum is 11, then rest items would be part of another partition and whose sum will be 11. So, basically his is also same sunset sum problem with sum value = (sum of numbers in array/2)."
   ]
  },
  {
   "cell_type": "code",
   "execution_count": 1,
   "metadata": {},
   "outputs": [],
   "source": [
    "def equalSumPartition(array):\n",
    "    total = sum(array)\n",
    "    if total % 2 != 0:\n",
    "        return False\n",
    "    total = total //2\n",
    "    \n",
    "    return subsetSum(array, total)\n",
    "\n",
    "def subsetSum(array, total):\n",
    "    n = len(array)\n",
    "    \n",
    "    dp = [[False for _ in range(total+1)] for _ in range(n+1)]\n",
    "    \n",
    "    # Initialize\n",
    "    for i in range(n+1):\n",
    "        dp[i][0] = True\n",
    "    \n",
    "    # Code\n",
    "    for i in range(1, n+1):\n",
    "        for j in range(1, total+1):\n",
    "            if array[i-1]<= j:\n",
    "                dp[i][j] = dp[i-1][j-array[i-1]] or dp[i-1][j]\n",
    "            else:\n",
    "                dp[i][j] = dp[i-1][j]\n",
    "    return dp[n][total]\n"
   ]
  },
  {
   "cell_type": "code",
   "execution_count": 2,
   "metadata": {},
   "outputs": [
    {
     "data": {
      "text/plain": [
       "True"
      ]
     },
     "execution_count": 2,
     "metadata": {},
     "output_type": "execute_result"
    }
   ],
   "source": [
    "array = [1,5,11,5]\n",
    "equalSumPartition(array)"
   ]
  },
  {
   "cell_type": "code",
   "execution_count": 3,
   "metadata": {},
   "outputs": [
    {
     "data": {
      "text/plain": [
       "False"
      ]
     },
     "execution_count": 3,
     "metadata": {},
     "output_type": "execute_result"
    }
   ],
   "source": [
    "array = [1,5,11,6]\n",
    "equalSumPartition(array)"
   ]
  },
  {
   "cell_type": "code",
   "execution_count": 4,
   "metadata": {},
   "outputs": [
    {
     "data": {
      "text/plain": [
       "True"
      ]
     },
     "execution_count": 4,
     "metadata": {},
     "output_type": "execute_result"
    }
   ],
   "source": [
    "array = [1,5,11,7]\n",
    "equalSumPartition(array)"
   ]
  },
  {
   "cell_type": "code",
   "execution_count": 1,
   "metadata": {},
   "outputs": [],
   "source": [
    "def equalSumPartition_1D(array):\n",
    "    n = len(array)\n",
    "    total = sum(array)\n",
    "    if total % 2 != 0:\n",
    "        return False\n",
    "    total = total //2\n",
    "    dp = [False] * (total +1)\n",
    "    # Initilize\n",
    "    dp[0] = True\n",
    "    for i in range(1, n+1):\n",
    "        for j in range(total, 0, -1):\n",
    "            if array[i-1] <= j:\n",
    "                dp[j] = dp [j] or dp[j-array[i-1]]\n",
    "    return dp[-1]"
   ]
  },
  {
   "cell_type": "code",
   "execution_count": 2,
   "metadata": {},
   "outputs": [
    {
     "data": {
      "text/plain": [
       "True"
      ]
     },
     "execution_count": 2,
     "metadata": {},
     "output_type": "execute_result"
    }
   ],
   "source": [
    "array = [1,5,11,7]\n",
    "equalSumPartition_1D(array)"
   ]
  },
  {
   "cell_type": "code",
   "execution_count": 3,
   "metadata": {},
   "outputs": [
    {
     "data": {
      "text/plain": [
       "False"
      ]
     },
     "execution_count": 3,
     "metadata": {},
     "output_type": "execute_result"
    }
   ],
   "source": [
    "array = [1,5,11,6]\n",
    "equalSumPartition_1D(array)"
   ]
  },
  {
   "cell_type": "code",
   "execution_count": null,
   "metadata": {},
   "outputs": [],
   "source": []
  }
 ],
 "metadata": {
  "kernelspec": {
   "display_name": "Python 3",
   "language": "python",
   "name": "python3"
  },
  "language_info": {
   "codemirror_mode": {
    "name": "ipython",
    "version": 3
   },
   "file_extension": ".py",
   "mimetype": "text/x-python",
   "name": "python",
   "nbconvert_exporter": "python",
   "pygments_lexer": "ipython3",
   "version": "3.8.3"
  }
 },
 "nbformat": 4,
 "nbformat_minor": 4
}

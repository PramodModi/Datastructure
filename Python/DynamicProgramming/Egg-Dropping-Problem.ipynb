{
 "cells": [
  {
   "cell_type": "markdown",
   "metadata": {},
   "source": [
    "## Problem\n",
    "Given N eggs and K floors, the task is to find the minimum number of trials needed, in the worst case, to find the floor below which all floors are safe. A floor is safe if dropping an egg from it does not break the egg. \n",
    "\n",
    "Examples: \n",
    "\n",
    "Input: N = 2, K = 10 \n",
    "Output: 4 \n",
    "Explanation: \n",
    "The first trial was on the 4th floor. Two cases arise after this:\n",
    "\n",
    "If the egg breaks, we have one egg left, so we need three more trials.\n",
    "If the egg does not break, the next try is from the 7th floor. Again, two cases arise.\n",
    "\n",
    "Input: N = 2, K = 100 \n",
    "Output: 14"
   ]
  },
  {
   "cell_type": "markdown",
   "metadata": {},
   "source": [
    "#### Assumptions\n",
    "The following is a description of the instance of this famous puzzle involving n=2 eggs and a building with k=36 floors.\n",
    "Suppose that we wish to know which stories in a 36-story building are safe to drop eggs from, and which will cause the eggs to break on landing. We make a few assumptions:\n",
    "…..An egg that survives a fall can be used again. \n",
    "…..A broken egg must be discarded. \n",
    "…..The effect of a fall is the same for all eggs. \n",
    "…..If an egg breaks when dropped, then it would break if dropped from a higher floor. \n",
    "…..If an egg survives a fall then it would survive a shorter fall. \n",
    "…..It is not ruled out that the first-floor windows break eggs, nor is it ruled out that the 36th-floor do not cause an egg to break.\n",
    "If only one egg is available and we wish to be sure of obtaining the right result, the experiment can be carried out in only one way. Drop the egg from the first-floor window; if it survives, drop it from the second-floor window. Continue upward until it breaks. In the worst case, this method may require 36 droppings. Suppose 2 eggs are available. What is the least number of egg-droppings that is guaranteed to work in all cases? \n",
    "The problem is not actually to find the critical floor, but merely to decide floors from which eggs should be dropped so that the total number of trials are minimized."
   ]
  },
  {
   "cell_type": "markdown",
   "metadata": {},
   "source": [
    "### Recurrsive Approach"
   ]
  },
  {
   "cell_type": "code",
   "execution_count": 18,
   "metadata": {},
   "outputs": [],
   "source": [
    "def eggDropTrial(floors, eggs):\n",
    "    \n",
    "    # Base condition\n",
    "    if floors == 0 or floors == 1:\n",
    "        return floors\n",
    "    if eggs == 1:\n",
    "        return floors\n",
    "    \n",
    "    mnm = float('inf')\n",
    "    for f in range(1, floors + 1):\n",
    "        temp = 1 + max(eggDropTrial(f-1, eggs-1), eggDropTrial(floors - f, eggs))\n",
    "        mnm = min(mnm, temp)\n",
    "    \n",
    "    return mnm\n",
    "        \n",
    "        "
   ]
  },
  {
   "cell_type": "code",
   "execution_count": 19,
   "metadata": {},
   "outputs": [
    {
     "data": {
      "text/plain": [
       "4"
      ]
     },
     "execution_count": 19,
     "metadata": {},
     "output_type": "execute_result"
    }
   ],
   "source": [
    "floors = 10\n",
    "eggs = 2\n",
    "eggDropTrial(floors, eggs)"
   ]
  },
  {
   "cell_type": "markdown",
   "metadata": {},
   "source": [
    "### Memoization"
   ]
  },
  {
   "cell_type": "code",
   "execution_count": 31,
   "metadata": {},
   "outputs": [],
   "source": [
    "def eggDropTrial_memoization(floors, eggs):\n",
    "    \n",
    "    dp = [[-1 for _ in range(eggs + 1)] for _ in range(floors + 1)]\n",
    "    \n",
    "    return eggDropTrial(floors, eggs, dp)\n",
    "    \n",
    "def eggDropTrial(floors, eggs, dp):\n",
    "    \n",
    "    # Base condition\n",
    "    if floors == 0 or floors == 1:\n",
    "        return floors\n",
    "    if eggs == 1:\n",
    "        return floors\n",
    "    if dp[floors][eggs] != -1:\n",
    "        return dp[floors][eggs]\n",
    "    \n",
    "    mnm = float('inf')\n",
    "    for f in range(1, floors + 1):\n",
    "        if dp[f-1][eggs-1] != -1:\n",
    "            temp1 = dp[f-1][eggs-1]\n",
    "        else:\n",
    "            temp1 = eggDropTrial(f-1, eggs-1, dp)\n",
    "            dp[f-1][eggs-1] = temp1\n",
    "        if dp[floors - f][eggs] != -1:\n",
    "            temp2 =  dp[floors - f][eggs]\n",
    "            dp[floors - f][eggs] = temp2\n",
    "        else:\n",
    "            temp2 = eggDropTrial(floors - f, eggs, dp)\n",
    "        temp = 1 + max(temp1, temp2)\n",
    "        mnm = min(mnm, temp)\n",
    "        dp[floors][eggs] = mnm\n",
    "    return mnm"
   ]
  },
  {
   "cell_type": "code",
   "execution_count": 32,
   "metadata": {},
   "outputs": [
    {
     "data": {
      "text/plain": [
       "4"
      ]
     },
     "execution_count": 32,
     "metadata": {},
     "output_type": "execute_result"
    }
   ],
   "source": [
    "floors = 10\n",
    "eggs = 2\n",
    "eggDropTrial_memoization(floors, eggs)"
   ]
  },
  {
   "cell_type": "code",
   "execution_count": 33,
   "metadata": {},
   "outputs": [
    {
     "data": {
      "text/plain": [
       "14"
      ]
     },
     "execution_count": 33,
     "metadata": {},
     "output_type": "execute_result"
    }
   ],
   "source": [
    "floors = 100\n",
    "eggs = 2\n",
    "eggDropTrial_memoization(floors, eggs)"
   ]
  },
  {
   "cell_type": "code",
   "execution_count": null,
   "metadata": {},
   "outputs": [],
   "source": []
  }
 ],
 "metadata": {
  "kernelspec": {
   "display_name": "Python 3",
   "language": "python",
   "name": "python3"
  },
  "language_info": {
   "codemirror_mode": {
    "name": "ipython",
    "version": 3
   },
   "file_extension": ".py",
   "mimetype": "text/x-python",
   "name": "python",
   "nbconvert_exporter": "python",
   "pygments_lexer": "ipython3",
   "version": "3.8.3"
  }
 },
 "nbformat": 4,
 "nbformat_minor": 4
}

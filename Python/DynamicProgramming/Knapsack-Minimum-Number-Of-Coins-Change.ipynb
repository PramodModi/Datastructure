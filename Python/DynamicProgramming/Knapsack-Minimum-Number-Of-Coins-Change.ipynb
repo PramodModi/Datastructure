{
 "cells": [
  {
   "cell_type": "markdown",
   "metadata": {},
   "source": [
    "## Problem\n",
    "\n",
    "Find minimum number of coins to form given amount else return -1\n",
    "\n",
    "Example:\n",
    "\n",
    "coins = [1,2,5] , amount = 11\n",
    "\n",
    "output = 3\n",
    "\n",
    "Example:\n",
    "\n",
    "coins = [2,4], amount = 5\n",
    "\n",
    "output = 3"
   ]
  },
  {
   "cell_type": "markdown",
   "metadata": {},
   "source": [
    "#### This is similar to unbounded knapsack problem. Here in place of weight, we have coins array. In place of capacity, we have amount. In place of value addition for each weight, we have to add as number of coin increament on coin selection."
   ]
  },
  {
   "cell_type": "code",
   "execution_count": 11,
   "metadata": {},
   "outputs": [],
   "source": [
    "def minimumNumberCoinsChange(coins, amount):\n",
    "    # initialize dp\n",
    "    dp = [float('inf')]* (amount + 1)\n",
    "    dp[0] = 0\n",
    "    \n",
    "    for c in coins:\n",
    "        for j in range(1, amount+1):\n",
    "            if c<= j:\n",
    "                dp[j] = min(1+ dp[j-c] , dp[j])\n",
    "    return dp[-1] if dp[-1] != float('inf') else -1"
   ]
  },
  {
   "cell_type": "code",
   "execution_count": 10,
   "metadata": {},
   "outputs": [
    {
     "data": {
      "text/plain": [
       "3"
      ]
     },
     "execution_count": 10,
     "metadata": {},
     "output_type": "execute_result"
    }
   ],
   "source": [
    "coins = [1,2,5]\n",
    "amount = 11\n",
    "minimumNumberCoinsChange(coins, amount)"
   ]
  },
  {
   "cell_type": "markdown",
   "metadata": {},
   "source": [
    "### Typical unbounded knapsack way. Take dp of two dimensiom. This is just to understand above solution."
   ]
  },
  {
   "cell_type": "code",
   "execution_count": 2,
   "metadata": {},
   "outputs": [],
   "source": [
    "def minimumNumberCoinsChange_donotuse(coins, amount):\n",
    "    n = len(coins)\n",
    "    # initialize dp\n",
    "    dp = [[float('inf') for _ in range(amount+1)] for _ in range(n+1)]\n",
    "    for i in range(n+1):\n",
    "        dp[i][0] = 0\n",
    "    \n",
    "    for i in range(1, n+1):\n",
    "        for j in range(1, amount+1):\n",
    "            if coins[i-1]<= j:\n",
    "                dp[i][j] = min(1+ dp[i][j-coins[i-1]] , dp[i-1][j])\n",
    "            else:\n",
    "                dp[i][j] = dp[i-1][j]\n",
    "    return dp[-1][-1] if dp[-1][-1] != float('inf') else -1"
   ]
  },
  {
   "cell_type": "code",
   "execution_count": 3,
   "metadata": {},
   "outputs": [
    {
     "data": {
      "text/plain": [
       "3"
      ]
     },
     "execution_count": 3,
     "metadata": {},
     "output_type": "execute_result"
    }
   ],
   "source": [
    "coins = [1,2,5]\n",
    "amount = 11\n",
    "minimumNumberCoinsChange_donotuse(coins, amount)"
   ]
  },
  {
   "cell_type": "code",
   "execution_count": 4,
   "metadata": {},
   "outputs": [
    {
     "data": {
      "text/plain": [
       "2"
      ]
     },
     "execution_count": 4,
     "metadata": {},
     "output_type": "execute_result"
    }
   ],
   "source": [
    "coins = [1,2,3]\n",
    "amount = 5\n",
    "minimumNumberCoinsChange_donotuse(coins, amount)"
   ]
  },
  {
   "cell_type": "code",
   "execution_count": null,
   "metadata": {},
   "outputs": [],
   "source": []
  }
 ],
 "metadata": {
  "kernelspec": {
   "display_name": "Python 3",
   "language": "python",
   "name": "python3"
  },
  "language_info": {
   "codemirror_mode": {
    "name": "ipython",
    "version": 3
   },
   "file_extension": ".py",
   "mimetype": "text/x-python",
   "name": "python",
   "nbconvert_exporter": "python",
   "pygments_lexer": "ipython3",
   "version": "3.8.3"
  }
 },
 "nbformat": 4,
 "nbformat_minor": 4
}

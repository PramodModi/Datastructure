{
 "cells": [
  {
   "cell_type": "markdown",
   "metadata": {},
   "source": [
    "## Problem\n",
    "\n",
    "Return minimum number of insertion so that given string should be palindrom.\n",
    "\n",
    "Example: \n",
    "\n",
    "string = \"acbcbda\"\n",
    "\n",
    "output = 2 //need to insert d before c in first half and c before d in second half"
   ]
  },
  {
   "cell_type": "markdown",
   "metadata": {},
   "source": [
    "#### This is simlar to LCS and deletion problem to make string palindrom. Here in place of deletion, we need to insert. Basically to make a string palindrom either we will have to delete some elements or make pair of those strings. So, in reality number of insertion or number of deletion would be same to make any string palindrom. So, solution of this problem is same as we have for deletion of elements."
   ]
  },
  {
   "cell_type": "code",
   "execution_count": 5,
   "metadata": {},
   "outputs": [],
   "source": [
    "def minimumNumberOfInsertionPalindrom(string):\n",
    "    str1 = string[::-1]\n",
    "    n = len(str1)\n",
    "    \n",
    "    l = lcs(str1, string)\n",
    "    \n",
    "    return n -l\n",
    "\n",
    "def lcs(str1, str2):\n",
    "    n = len(str1)\n",
    "    m  =len(str2)\n",
    "    \n",
    "    dp = [[0 for _ in range(m+1)] for _ in range(n+1)]\n",
    "    \n",
    "    for i in range(1, n+1):\n",
    "        for j in range(1, m+1):\n",
    "            if str1[i-1]==str2[j-1]:\n",
    "                dp[i][j] = 1 + dp[i-1][j-1]\n",
    "            else:\n",
    "                dp[i][j] = max(dp[i-1][j], dp[i][j-1])\n",
    "    return dp[-1][-1]\n"
   ]
  },
  {
   "cell_type": "code",
   "execution_count": 6,
   "metadata": {},
   "outputs": [
    {
     "data": {
      "text/plain": [
       "2"
      ]
     },
     "execution_count": 6,
     "metadata": {},
     "output_type": "execute_result"
    }
   ],
   "source": [
    "string = \"acbcbda\"\n",
    "minimumNumberOfInsertionPalindrom(string)"
   ]
  },
  {
   "cell_type": "code",
   "execution_count": 1,
   "metadata": {},
   "outputs": [],
   "source": [
    "def minimumNumberOfInsertionPalindrom_1D(string):\n",
    "    string1 = string[::-1]\n",
    "    n = len(string)\n",
    "    dp = [0]*(n+1)\n",
    "    for s in string:\n",
    "        prev = 0\n",
    "        for i in range(1, n+1):\n",
    "            if s == string1[i-1]:\n",
    "                prev, dp[i] = dp[i], 1+ prev\n",
    "            else:\n",
    "                prev, dp[i] = dp[i], max(dp[i], dp[i-1])\n",
    "    return n - dp[-1]"
   ]
  },
  {
   "cell_type": "code",
   "execution_count": 2,
   "metadata": {},
   "outputs": [
    {
     "data": {
      "text/plain": [
       "2"
      ]
     },
     "execution_count": 2,
     "metadata": {},
     "output_type": "execute_result"
    }
   ],
   "source": [
    "string = \"acbcbda\"\n",
    "minimumNumberOfInsertionPalindrom_1D(string)"
   ]
  },
  {
   "cell_type": "code",
   "execution_count": null,
   "metadata": {},
   "outputs": [],
   "source": []
  }
 ],
 "metadata": {
  "kernelspec": {
   "display_name": "Python 3",
   "language": "python",
   "name": "python3"
  },
  "language_info": {
   "codemirror_mode": {
    "name": "ipython",
    "version": 3
   },
   "file_extension": ".py",
   "mimetype": "text/x-python",
   "name": "python",
   "nbconvert_exporter": "python",
   "pygments_lexer": "ipython3",
   "version": "3.8.3"
  }
 },
 "nbformat": 4,
 "nbformat_minor": 4
}

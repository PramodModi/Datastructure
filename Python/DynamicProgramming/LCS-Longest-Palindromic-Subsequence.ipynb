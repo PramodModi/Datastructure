{
 "cells": [
  {
   "cell_type": "markdown",
   "metadata": {},
   "source": [
    "## Problem\n",
    "\n",
    "Return the length of longest palindromic subsequence from given string.\n",
    "\n",
    "Example:\n",
    "\n",
    "str = \"agbcba\"\n",
    "\n",
    "output = 5 //abcba"
   ]
  },
  {
   "cell_type": "markdown",
   "metadata": {},
   "source": [
    "#### This problem is extension of LCS. For LCS, two strings are needed. Create a second string by reversing given string. Then take the lcs of both strings."
   ]
  },
  {
   "cell_type": "code",
   "execution_count": 3,
   "metadata": {},
   "outputs": [],
   "source": [
    "def longestPalindromicSubsequence(string):\n",
    "    str1 = string[::-1]\n",
    "    return lcs(str1, string)\n",
    "\n",
    "def lcs(str1, str2):\n",
    "    n = len(str1)\n",
    "    m = len(str2)\n",
    "    \n",
    "    dp= [[0 for _ in range(m+1)] for _ in range(n+1)]\n",
    "    \n",
    "    for i in range(1, n+1):\n",
    "        for j in range(1, m+1):\n",
    "            if str1[i-1] == str2[j-1]:\n",
    "                dp[i][j] = 1 + dp[i-1][j-1]\n",
    "            else:\n",
    "                dp[i][j] = max(dp[i-1][j], dp[i][j-1])\n",
    "    return dp[-1][-1]\n",
    "    "
   ]
  },
  {
   "cell_type": "code",
   "execution_count": 4,
   "metadata": {},
   "outputs": [
    {
     "data": {
      "text/plain": [
       "5"
      ]
     },
     "execution_count": 4,
     "metadata": {},
     "output_type": "execute_result"
    }
   ],
   "source": [
    "string = \"agbcba\"\n",
    "longestPalindromicSubsequence(string)"
   ]
  },
  {
   "cell_type": "code",
   "execution_count": 7,
   "metadata": {},
   "outputs": [],
   "source": [
    "## Space optimization\n",
    "\n",
    "def longestPalindromicSubsequence_1D(string):\n",
    "    string1 = string[::-1]\n",
    "    n = len(string)\n",
    "    dp = [0] * (n+1)\n",
    "    \n",
    "    for s in string:\n",
    "        prev = 0\n",
    "        for j in range(1, n+1):\n",
    "            if s == string1[j-1]:\n",
    "                prev, dp[j] = dp[j], 1 + prev\n",
    "            else:\n",
    "                prev, dp[j] = dp[j], max(dp[j], dp[j-1])\n",
    "                \n",
    "    return dp[-1]"
   ]
  },
  {
   "cell_type": "code",
   "execution_count": 8,
   "metadata": {},
   "outputs": [
    {
     "data": {
      "text/plain": [
       "5"
      ]
     },
     "execution_count": 8,
     "metadata": {},
     "output_type": "execute_result"
    }
   ],
   "source": [
    "string = \"agbcba\"\n",
    "longestPalindromicSubsequence_1D(string)"
   ]
  },
  {
   "cell_type": "code",
   "execution_count": 13,
   "metadata": {},
   "outputs": [],
   "source": [
    "## Print the string\n",
    "\n",
    "def longestPalindromicSubsequence_print(string):\n",
    "    string1 = string[::-1]\n",
    "    n = len(string)\n",
    "    dp = [0] * (n+1)\n",
    "    \n",
    "    for s in string:\n",
    "        prev = 0\n",
    "        for j in range(1, n+1):\n",
    "            if s == string1[j-1]:\n",
    "                prev, dp[j] = dp[j], 1 + prev\n",
    "            else:\n",
    "                prev, dp[j] = dp[j], max(dp[j], dp[j-1])\n",
    "              \n",
    "    return (dp[-1], printPalindrome(dp, string1)  )\n",
    "\n",
    "def printPalindrome(dp, string):\n",
    "    seq = []\n",
    "    n = len(dp)-1\n",
    "    for i in range(n, 0, -1):\n",
    "        if dp[i] != dp[i-1]:\n",
    "            seq.append(string[i-1])\n",
    "    return list(reversed(seq))\n",
    "        "
   ]
  },
  {
   "cell_type": "code",
   "execution_count": 14,
   "metadata": {},
   "outputs": [
    {
     "data": {
      "text/plain": [
       "(5, ['a', 'b', 'c', 'b', 'a'])"
      ]
     },
     "execution_count": 14,
     "metadata": {},
     "output_type": "execute_result"
    }
   ],
   "source": [
    "string = \"agbcba\"\n",
    "longestPalindromicSubsequence_print(string)"
   ]
  },
  {
   "cell_type": "code",
   "execution_count": null,
   "metadata": {},
   "outputs": [],
   "source": []
  }
 ],
 "metadata": {
  "kernelspec": {
   "display_name": "Python 3",
   "language": "python",
   "name": "python3"
  },
  "language_info": {
   "codemirror_mode": {
    "name": "ipython",
    "version": 3
   },
   "file_extension": ".py",
   "mimetype": "text/x-python",
   "name": "python",
   "nbconvert_exporter": "python",
   "pygments_lexer": "ipython3",
   "version": "3.8.3"
  }
 },
 "nbformat": 4,
 "nbformat_minor": 4
}

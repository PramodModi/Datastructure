{
 "cells": [
  {
   "cell_type": "markdown",
   "metadata": {},
   "source": [
    "## Problem\n",
    "Given two strings, find where both strings are scrambled or not. Return True or False."
   ]
  },
  {
   "cell_type": "raw",
   "metadata": {},
   "source": [
    "\n",
    "\n",
    "string: \n",
    "\n",
    "Given string str, we can represent it as a binary tree by partitioning it into two non-empty substrings recursively.\n",
    "Note: Scrambled string is not same as an Anagram\n",
    "\n",
    "To scramble the string, we may choose any non-leaf node and swap its two children. \n",
    "Example: str = 'coder'\n",
    "\n",
    "    coder\n",
    "   /    \\\n",
    "  co    der\n",
    " / \\    /  \\\n",
    "c   o  d   er\n",
    "           / \\\n",
    "          e   r\n",
    "          \n",
    "          \n",
    "Suppose, we choose the node “co” and swap its two children, it produces a scrambled string “ocder”.\n",
    "\n",
    "    ocder\n",
    "   /    \\\n",
    "  oc    der\n",
    " / \\    /  \\\n",
    "o   c  d   er\n",
    "           / \\\n",
    "          e   r\n",
    "          \n",
    "Thus, “ocder” is a scrambled string of “coder”.\n",
    "Similarly, if we continue to swap the children of nodes “der” and “er”, it produces a scrambled string “ocred”.\n",
    "\n",
    "    ocred\n",
    "   /    \\\n",
    "  oc    red\n",
    " / \\    /  \\\n",
    "o   c  re  d\n",
    "       / \\\n",
    "      r   e\n",
    "      \n",
    "\n",
    "Example:\n",
    "\n",
    "str1 = \"coder\"\n",
    "Str2 = \"ocder\"\n",
    "output: True"
   ]
  },
  {
   "cell_type": "markdown",
   "metadata": {},
   "source": [
    "### Recursive approach"
   ]
  },
  {
   "cell_type": "code",
   "execution_count": 3,
   "metadata": {},
   "outputs": [],
   "source": [
    "def isScrambled(str1, str2):\n",
    "    # If length of both strings are not equal, then they can not be scrambled strings\n",
    "    if(len(str1) != len(str2)):\n",
    "        return False\n",
    "    \n",
    "    n = len(str1)\n",
    "    \n",
    "    # If both strings are empty then consider scrambled strings\n",
    "    if n == 0:\n",
    "        return True\n",
    "    \n",
    "    return isScrambled_rec(str1, str2)\n",
    "\n",
    "def isScrambled_rec(str1, str2):\n",
    "    if str1 == str2 :\n",
    "        return True\n",
    "    n = len(str1)\n",
    "    \n",
    "    if n <= 1:\n",
    "        return False\n",
    "    \n",
    "    flag = False\n",
    "    \n",
    "    for i in range(1,n):\n",
    "        # Check for two conditions\n",
    "        # compare str1 [0 to i] with str2[0 to i] and str1[i to n] and str2[i to n], return True if same\n",
    "        if isScrambled_rec(str1[:i], str2[:i]) and isScrambled_rec(str1[i:], str2[i:]):\n",
    "            flag = True\n",
    "            break\n",
    "        # compare str1 [0 to i] with str2[i to n] and str1[i to n] and str2[0 to i], return True if same\n",
    "        if isScrambled_rec(str1[:i], str2[-i:]) and isScrambled_rec(str1[i:], str2[:i]):\n",
    "            flag = True\n",
    "            break\n",
    "        \n",
    "    return flag\n",
    "    "
   ]
  },
  {
   "cell_type": "code",
   "execution_count": 4,
   "metadata": {},
   "outputs": [
    {
     "data": {
      "text/plain": [
       "True"
      ]
     },
     "execution_count": 4,
     "metadata": {},
     "output_type": "execute_result"
    }
   ],
   "source": [
    "str1 = \"coder\"\n",
    "str2 = \"ocder\"\n",
    "isScrambled(str1, str2)"
   ]
  },
  {
   "cell_type": "code",
   "execution_count": 5,
   "metadata": {},
   "outputs": [
    {
     "data": {
      "text/plain": [
       "False"
      ]
     },
     "execution_count": 5,
     "metadata": {},
     "output_type": "execute_result"
    }
   ],
   "source": [
    "str1 = \"coder\"\n",
    "str2 = \"ocoer\"\n",
    "isScrambled(str1, str2)"
   ]
  },
  {
   "cell_type": "markdown",
   "metadata": {},
   "source": [
    "### Memoization"
   ]
  },
  {
   "cell_type": "code",
   "execution_count": 13,
   "metadata": {},
   "outputs": [],
   "source": [
    "def isScrambled_memozation(str1, str2):\n",
    "    # If length of both strings are not equal, then they can not be scrambled strings\n",
    "    if(len(str1) != len(str2)):\n",
    "        return False\n",
    "    \n",
    "    n = len(str1)\n",
    "    \n",
    "    # If both strings are empty then consider scrambled strings\n",
    "    if n == 0:\n",
    "        return True\n",
    "    ## Mmoization, storing in map\n",
    "    dp = {}\n",
    "    \n",
    "    return isScrambled_rec(str1, str2, dp)\n",
    "\n",
    "def isScrambled_rec(str1, str2, dp):\n",
    "    if str1 == str2 :\n",
    "        return True\n",
    "    n = len(str1)\n",
    "    \n",
    "    if n <= 1:\n",
    "        return False\n",
    "    \n",
    "    if str1+''+str2 in dp:\n",
    "        return dp[str1+''+str2]\n",
    "    \n",
    "    flag = False\n",
    "    \n",
    "    for i in range(1,n):\n",
    "        # Check for two conditions\n",
    "        # compare str1 [0 to i] with str2[0 to i] and str1[i to n] and str2[i to n], return True if same\n",
    "        if isScrambled_rec(str1[:i], str2[:i], dp) and isScrambled_rec(str1[i:], str2[i:],dp):\n",
    "            flag = True\n",
    "            break\n",
    "        # compare str1 [0 to i] with str2[i to n] and str1[i to n] and str2[0 to i], return True if same\n",
    "        if isScrambled_rec(str1[:i], str2[-i:], dp) and isScrambled_rec(str1[i:], str2[:i],dp):\n",
    "            flag = True\n",
    "            break\n",
    "       \n",
    "        dp[str1+''+str2] = flag\n",
    "    return flag"
   ]
  },
  {
   "cell_type": "code",
   "execution_count": 14,
   "metadata": {},
   "outputs": [
    {
     "data": {
      "text/plain": [
       "True"
      ]
     },
     "execution_count": 14,
     "metadata": {},
     "output_type": "execute_result"
    }
   ],
   "source": [
    "str1 = \"coder\"\n",
    "str2 = \"ocder\"\n",
    "isScrambled_memozation(str1, str2)"
   ]
  },
  {
   "cell_type": "code",
   "execution_count": 15,
   "metadata": {},
   "outputs": [
    {
     "data": {
      "text/plain": [
       "False"
      ]
     },
     "execution_count": 15,
     "metadata": {},
     "output_type": "execute_result"
    }
   ],
   "source": [
    "str1 = \"coder\"\n",
    "str2 = \"ocoer\"\n",
    "isScrambled_memozation(str1, str2)"
   ]
  },
  {
   "cell_type": "code",
   "execution_count": null,
   "metadata": {},
   "outputs": [],
   "source": []
  }
 ],
 "metadata": {
  "kernelspec": {
   "display_name": "Python 3",
   "language": "python",
   "name": "python3"
  },
  "language_info": {
   "codemirror_mode": {
    "name": "ipython",
    "version": 3
   },
   "file_extension": ".py",
   "mimetype": "text/x-python",
   "name": "python",
   "nbconvert_exporter": "python",
   "pygments_lexer": "ipython3",
   "version": "3.8.3"
  }
 },
 "nbformat": 4,
 "nbformat_minor": 4
}

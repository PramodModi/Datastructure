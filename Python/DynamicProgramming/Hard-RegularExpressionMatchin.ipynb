{
 "cells": [
  {
   "cell_type": "markdown",
   "metadata": {},
   "source": [
    "## Problem: 10. Regular Expression Matching\n",
    "https://leetcode.com/problems/regular-expression-matching/description/\n",
    "\n",
    "Given an input string s and a pattern p, implement regular expression matching with support for '.' and '*' where:\n",
    "\n",
    "    '.' Matches any single character.​​​​\n",
    "    '*' Matches zero or more of the preceding element.\n",
    "    The matching should cover the entire input string (not partial).\n",
    "\n",
    " \n",
    "\n",
    "Example 1:\n",
    "\n",
    "Input: s = \"aa\", p = \"a\"\n",
    "\n",
    "Output: false\n",
    "\n",
    "Explanation: \"a\" does not match the entire string \"aa\".\n",
    "\n",
    "Example 2:\n",
    "\n",
    "Input: s = \"aa\", p = \"a*\"\n",
    "\n",
    "Output: true\n",
    "\n",
    "Explanation: '*' means zero or more of the preceding element, 'a'. Therefore, by repeating 'a' once, it becomes \"aa\".\n",
    "\n",
    "Example 3:\n",
    "\n",
    "Input: s = \"ab\", p = \".*\"\n",
    "\n",
    "Output: true\n",
    "\n",
    "Explanation: \".*\" means \"zero or more (*) of any character (.)\"."
   ]
  },
  {
   "cell_type": "code",
   "execution_count": 36,
   "metadata": {},
   "outputs": [],
   "source": [
    "def isMatch(s,p):\n",
    "    n = len(s)\n",
    "    m = len(p)\n",
    "    dp =[[False]*(m+1) for _ in range(n+1)]\n",
    "    dp[0][0] = True\n",
    "    \n",
    "    ## Base case for \"*\"\n",
    "    ## If patter is \"*\", then check for previous letter, andassign the dp of that.\n",
    "    for j in range(1, m+1):\n",
    "        if p[j-1] == \"*\":\n",
    "            dp[0][j] = dp[0][j-2]\n",
    "    \n",
    "    for i in range(1, n+1):\n",
    "        for j in range(1, m+1):\n",
    "            ## This is letter to letter comparision. Here, \".\" also represents any one letter.\n",
    "            if s[i-1] == p[j-1] or p[j-1] == \".\":\n",
    "                dp[i][j] = dp[i-1][j-1]\n",
    "            ## This is the special case, where \"a*\", may represent [], [a], [aa], [aaaa]\n",
    "            ## Also, \".*\", another case, where it can represents[],[.],[..], [...], where \".\", itself can be\n",
    "            ## any letter.\n",
    "            # So, if \"*\", then assign previous value of dp (= dp[i][j-2]), then check,\n",
    "            ## if previuos value is \".\", then look at the previous value of string, assign the dp[i-1][j] or \n",
    "            ## dp[i][j], which means you do not consider it. Similarly, if previous letter of string is same as\n",
    "            ## previous letter of patten.\n",
    "            \n",
    "            elif p[j-1] == \"*\":\n",
    "                dp[i][j] = dp[i][j-2]\n",
    "                if p[j-2] == \".\" or p[j-2] == s[i-1]:\n",
    "                    dp[i][j] = dp[i][j] or dp[i-1][j] \n",
    "            else:\n",
    "                dp[i][j] = False\n",
    "                \n",
    "    return dp[n][m]"
   ]
  },
  {
   "cell_type": "code",
   "execution_count": 37,
   "metadata": {},
   "outputs": [
    {
     "data": {
      "text/plain": [
       "True"
      ]
     },
     "execution_count": 37,
     "metadata": {},
     "output_type": "execute_result"
    }
   ],
   "source": [
    "s = \"aa\"\n",
    "p = \"a*\"\n",
    "isMatch(s,p)"
   ]
  },
  {
   "cell_type": "code",
   "execution_count": 38,
   "metadata": {},
   "outputs": [
    {
     "data": {
      "text/plain": [
       "True"
      ]
     },
     "execution_count": 38,
     "metadata": {},
     "output_type": "execute_result"
    }
   ],
   "source": [
    "s = \"aab\"\n",
    "p = \"c*a*b\"\n",
    "isMatch(s,p)"
   ]
  },
  {
   "cell_type": "code",
   "execution_count": null,
   "metadata": {},
   "outputs": [],
   "source": []
  }
 ],
 "metadata": {
  "kernelspec": {
   "display_name": "Python 3",
   "language": "python",
   "name": "python3"
  },
  "language_info": {
   "codemirror_mode": {
    "name": "ipython",
    "version": 3
   },
   "file_extension": ".py",
   "mimetype": "text/x-python",
   "name": "python",
   "nbconvert_exporter": "python",
   "pygments_lexer": "ipython3",
   "version": "3.8.3"
  }
 },
 "nbformat": 4,
 "nbformat_minor": 4
}

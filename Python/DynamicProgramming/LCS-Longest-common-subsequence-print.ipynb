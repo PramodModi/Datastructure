{
 "cells": [
  {
   "cell_type": "markdown",
   "metadata": {},
   "source": [
    "## Problem\n",
    "\n",
    "Given two string, return the length of longest common subsequence between two strings and common subsequence.\n",
    "A subsequence is a sequence that appears in the same relative order, but not necessarily contiguous. For example, “abc”, “abg”, “bdf”, “aeg”, ‘”acefg”, .. etc are subsequences of “abcdefg”. \n",
    "\n",
    "Example:\n",
    "\n",
    "str1 = \"abcdgh\"\n",
    "\n",
    "str2 = \"abedfha\"\n",
    "\n",
    "output: [4, [abdh]]"
   ]
  },
  {
   "cell_type": "markdown",
   "metadata": {},
   "source": [
    "## Approach:\n",
    "Let the input sequences be X[0..m-1] and Y[0..n-1] of lengths m and n respectively. And let L(X[0..m-1], Y[0..n-1]) be the length of LCS of the two sequences X and Y. Following is the recursive definition of L(X[0..m-1], Y[0..n-1]).\n",
    "\n",
    "If last characters of both sequences match (or X[m-1] == Y[n-1]) then \n",
    "L(X[0..m-1], Y[0..n-1]) = 1 + L(X[0..m-2], Y[0..n-2])\n",
    "\n",
    "If last characters of both sequences do not match (or X[m-1] != Y[n-1]) then \n",
    "L(X[0..m-1], Y[0..n-1]) = MAX ( L(X[0..m-2], Y[0..n-1]), L(X[0..m-1], Y[0..n-2]) )\n",
    "\n"
   ]
  },
  {
   "cell_type": "code",
   "execution_count": 37,
   "metadata": {},
   "outputs": [],
   "source": [
    "def longestCommonSubSequence_dp_print(str1, str2):\n",
    "    n = len(str1)\n",
    "    m = len(str2)\n",
    "    \n",
    "    dp = [[0 for _ in range(m+1)] for _ in range(n+1)]\n",
    "    \n",
    "    for i in range(1, n+1):\n",
    "        for j in range(1, m+1):\n",
    "            if str1[i-1] == str2[j-1]:\n",
    "                dp[i][j] = 1 + dp[i-1][j-1]\n",
    "            else:\n",
    "                dp[i][j] = max(dp[i][j-1], dp[i-1][j])\n",
    "    \n",
    "    return [dp[-1][-1], PrintCommonSubSequence(str2,dp)]\n",
    "\n",
    "def PrintCommonSubSequence(string, dp):\n",
    "    seq = []\n",
    "    n = len(dp)-1\n",
    "    m = len(dp[0])-1\n",
    "    \n",
    "    while(n > 0 and m> 0):\n",
    "        if dp[n][m]== dp[n-1][m]:\n",
    "            n -= 1\n",
    "        elif dp[n][m]== dp[n][m-1]:\n",
    "            m -= 1\n",
    "        else:\n",
    "            seq.append(string[m-1])\n",
    "            m -= 1\n",
    "            n -= 1\n",
    "    return list(reversed(seq))"
   ]
  },
  {
   "cell_type": "code",
   "execution_count": 38,
   "metadata": {},
   "outputs": [
    {
     "data": {
      "text/plain": [
       "[4, ['a', 'b', 'd', 'h']]"
      ]
     },
     "execution_count": 38,
     "metadata": {},
     "output_type": "execute_result"
    }
   ],
   "source": [
    "str1 = \"abcdgh\"\n",
    "str2 = \"abedfha\"\n",
    "longestCommonSubSequence_dp_print(str1, str2)"
   ]
  },
  {
   "cell_type": "code",
   "execution_count": 39,
   "metadata": {},
   "outputs": [
    {
     "data": {
      "text/plain": [
       "[4, ['g', 't', 'a', 'b']]"
      ]
     },
     "execution_count": 39,
     "metadata": {},
     "output_type": "execute_result"
    }
   ],
   "source": [
    "str1 = \"aggtab\"\n",
    "str2 = \"gxtxayb\"\n",
    "longestCommonSubSequence_dp_print(str1, str2)"
   ]
  },
  {
   "cell_type": "code",
   "execution_count": 43,
   "metadata": {},
   "outputs": [],
   "source": [
    "## Space optimization, only last two rows are invlolved in calculation, so define dp for two rows only.\n",
    "def longestCommonSubSequence_spaceOptimization(str1, str2):\n",
    "    n = len(str1)\n",
    "    m = len(str2)\n",
    "    \n",
    "    dp = [[0 for _ in range(m+1)] for _ in range(2)]\n",
    "    \n",
    "    for i in range (1, n+1):\n",
    "        for j in range(1, m+1):\n",
    "            if str1[i-1] == str2[j-1]:\n",
    "                dp[i%2][j] = 1 + dp[(i-1)%2][j-1]\n",
    "            else:\n",
    "                dp[i%2][j] = max(dp[(i-1)%2][j], dp[i%2][j-1])\n",
    "    return dp[n%2][-1]\n"
   ]
  },
  {
   "cell_type": "code",
   "execution_count": 44,
   "metadata": {},
   "outputs": [
    {
     "data": {
      "text/plain": [
       "4"
      ]
     },
     "execution_count": 44,
     "metadata": {},
     "output_type": "execute_result"
    }
   ],
   "source": [
    "str1 = \"abcdgh\"\n",
    "str2 = \"abedfha\"\n",
    "longestCommonSubSequence_spaceOptimization(str1, str2)"
   ]
  },
  {
   "cell_type": "code",
   "execution_count": 48,
   "metadata": {},
   "outputs": [],
   "source": [
    "## Further space optimization\n",
    "def longestCommonSubSequence_1D(str1, str2):\n",
    "    n = len(str1)\n",
    "    m = len(str2)\n",
    "        \n",
    "    dp = [0] * (m+1)\n",
    "    \n",
    "    for s in str1:\n",
    "        prev = 0\n",
    "        for j in range(1, m+1):\n",
    "            if s == str2[j-1]:\n",
    "                prev, dp[j]=  dp[j], prev+1\n",
    "            else:\n",
    "                prev, dp[j] = dp[j], max(dp[j], dp[j-1])\n",
    "                \n",
    "    return (dp[-1], printSequence(dp, str2))\n",
    "\n",
    "def printSequence(dp, str2):\n",
    "    m = len(dp)-1\n",
    "    seq = []\n",
    "    for i in range(m, 0, -1):\n",
    "        if dp[i] != dp[i-1]:\n",
    "            seq.append(str2[i-1])\n",
    "    return \"\".join(reversed(seq))\n",
    "        \n",
    "        \n",
    "    "
   ]
  },
  {
   "cell_type": "code",
   "execution_count": 49,
   "metadata": {},
   "outputs": [
    {
     "data": {
      "text/plain": [
       "(4, 'abdh')"
      ]
     },
     "execution_count": 49,
     "metadata": {},
     "output_type": "execute_result"
    }
   ],
   "source": [
    "str1 = \"abcdgh\"\n",
    "str2 = \"abedfha\"\n",
    "longestCommonSubSequence_1D(str1, str2)"
   ]
  },
  {
   "cell_type": "code",
   "execution_count": 50,
   "metadata": {},
   "outputs": [
    {
     "data": {
      "text/plain": [
       "(4, 'gtab')"
      ]
     },
     "execution_count": 50,
     "metadata": {},
     "output_type": "execute_result"
    }
   ],
   "source": [
    "str1 = \"aggtab\"\n",
    "str2 = \"gxtxayb\"\n",
    "longestCommonSubSequence_1D(str1, str2)"
   ]
  },
  {
   "cell_type": "code",
   "execution_count": null,
   "metadata": {},
   "outputs": [],
   "source": []
  }
 ],
 "metadata": {
  "kernelspec": {
   "display_name": "Python 3",
   "language": "python",
   "name": "python3"
  },
  "language_info": {
   "codemirror_mode": {
    "name": "ipython",
    "version": 3
   },
   "file_extension": ".py",
   "mimetype": "text/x-python",
   "name": "python",
   "nbconvert_exporter": "python",
   "pygments_lexer": "ipython3",
   "version": "3.8.3"
  }
 },
 "nbformat": 4,
 "nbformat_minor": 4
}

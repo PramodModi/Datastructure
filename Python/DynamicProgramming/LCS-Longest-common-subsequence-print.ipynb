{
 "cells": [
  {
   "cell_type": "markdown",
   "metadata": {},
   "source": [
    "## Problem\n",
    "\n",
    "Given two string, return the length of longest common subsequence between two strings and common subsequence.\n",
    "\n",
    "Example:\n",
    "\n",
    "str1 = \"abcdgh\"\n",
    "\n",
    "str2 = \"abedfha\"\n",
    "\n",
    "output: [4, [abdh]]"
   ]
  },
  {
   "cell_type": "code",
   "execution_count": 26,
   "metadata": {},
   "outputs": [],
   "source": [
    "def longestCommonSubSequence_dp_print(str1, str2):\n",
    "    n = len(str1)\n",
    "    m = len(str2)\n",
    "    \n",
    "    dp = [[0 for _ in range(m+1)] for _ in range(n+1)]\n",
    "    \n",
    "    for i in range(1, n+1):\n",
    "        for j in range(1, m+1):\n",
    "            if str1[i-1] == str2[j-1]:\n",
    "                dp[i][j] = 1 + dp[i-1][j-1]\n",
    "            else:\n",
    "                dp[i][j] = max(dp[i][j-1], dp[i-1][j])\n",
    "    \n",
    "    return [dp[-1][-1], PrintCommonSubSequence(str2,dp)]\n",
    "\n",
    "def PrintCommonSubSequence(string, dp):\n",
    "    seq = []\n",
    "    n = len(dp)-1\n",
    "    m = len(dp[0])-1\n",
    "    \n",
    "    while(n > 0 and m> 0):\n",
    "        if dp[n][m]== dp[n-1][m]:\n",
    "            n -= 1\n",
    "        elif dp[n][m]== dp[n][m-1]:\n",
    "            m -= 1\n",
    "        else:\n",
    "            seq.append(string[m-1])\n",
    "            m -= 1\n",
    "            n -= 1\n",
    "    return list(reversed(seq))"
   ]
  },
  {
   "cell_type": "code",
   "execution_count": 27,
   "metadata": {},
   "outputs": [
    {
     "data": {
      "text/plain": [
       "[4, ['a', 'b', 'd', 'h']]"
      ]
     },
     "execution_count": 27,
     "metadata": {},
     "output_type": "execute_result"
    }
   ],
   "source": [
    "str1 = \"abcdgh\"\n",
    "str2 = \"abedfha\"\n",
    "longestCommonSubSequence_dp_print(str1, str2)"
   ]
  },
  {
   "cell_type": "code",
   "execution_count": 28,
   "metadata": {},
   "outputs": [
    {
     "data": {
      "text/plain": [
       "[4, ['g', 't', 'a', 'b']]"
      ]
     },
     "execution_count": 28,
     "metadata": {},
     "output_type": "execute_result"
    }
   ],
   "source": [
    "str1 = \"aggtab\"\n",
    "str2 = \"gxtxayb\"\n",
    "longestCommonSubSequence_dp_print(str1, str2)"
   ]
  },
  {
   "cell_type": "code",
   "execution_count": null,
   "metadata": {},
   "outputs": [],
   "source": []
  }
 ],
 "metadata": {
  "kernelspec": {
   "display_name": "Python 3",
   "language": "python",
   "name": "python3"
  },
  "language_info": {
   "codemirror_mode": {
    "name": "ipython",
    "version": 3
   },
   "file_extension": ".py",
   "mimetype": "text/x-python",
   "name": "python",
   "nbconvert_exporter": "python",
   "pygments_lexer": "ipython3",
   "version": "3.8.3"
  }
 },
 "nbformat": 4,
 "nbformat_minor": 4
}

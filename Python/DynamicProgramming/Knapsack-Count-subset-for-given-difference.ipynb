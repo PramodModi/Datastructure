{
 "cells": [
  {
   "cell_type": "markdown",
   "metadata": {},
   "source": [
    "## Problem\n",
    "\n",
    "Given array, find the number of subsets whose difference is given.\n",
    "\n",
    "Example: \n",
    "\n",
    "array = [1,1,2,3]\n",
    "\n",
    "diff = 1\n",
    "\n",
    "output = 3\n"
   ]
  },
  {
   "cell_type": "markdown",
   "metadata": {},
   "source": [
    "This is similar to subset sum problem. Let s1 and s2 are two subsets. \n",
    "so, s1-s2 = diff\n",
    "s1 + s2 = s (s is the sum of array). \n",
    "2s1 = s + diff\n",
    "s1 = (s+diff)/2 . So, find if subsets whose sum is (s+diff)/2"
   ]
  },
  {
   "cell_type": "code",
   "execution_count": 10,
   "metadata": {},
   "outputs": [],
   "source": [
    "def countSubsetForGivenDiff(array, diff):\n",
    "    n = len(array)\n",
    "    s = sum(array)\n",
    "    total = (s + diff)\n",
    "    \n",
    "    if total%2 != 0:\n",
    "        return 0\n",
    "    total = total//2\n",
    "    \n",
    "    dp = [[0 for _ in range(total +1)] for _ in range(n+ 1)]\n",
    "    \n",
    "    for i in range(n+1):\n",
    "        dp[i][0] = 1\n",
    "        \n",
    "    \n",
    "    for i in range(1, n+1):\n",
    "        for j in range(1, total + 1):\n",
    "            if array[i-1]<=j:\n",
    "                dp[i][j] = dp[i-1][j-array[i-1]] + dp[i-1][j]\n",
    "            else:\n",
    "                dp[i][j] = dp[i-1][j]\n",
    "    return dp[-1][-1]\n"
   ]
  },
  {
   "cell_type": "code",
   "execution_count": 11,
   "metadata": {},
   "outputs": [
    {
     "data": {
      "text/plain": [
       "3"
      ]
     },
     "execution_count": 11,
     "metadata": {},
     "output_type": "execute_result"
    }
   ],
   "source": [
    "array = [1,1,2,3]\n",
    "diff = 1\n",
    "countSubsetForGivenDiff(array, diff)"
   ]
  },
  {
   "cell_type": "code",
   "execution_count": 12,
   "metadata": {},
   "outputs": [],
   "source": [
    "# Space complexity reduced to O(2*total)\n",
    "def countSubsetForGivenDiff_spaceOptimized(array, diff):\n",
    "    n = len(array)\n",
    "    s = sum(array)\n",
    "    total = (s + diff)\n",
    "    \n",
    "    if total%2 != 0:\n",
    "        return 0\n",
    "    total = total//2\n",
    "    \n",
    "    dp = [[0 for _ in range(total +1)] for _ in range(2)]\n",
    "    \n",
    "    for i in range(2):\n",
    "        dp[i][0] = 1\n",
    "        \n",
    "    \n",
    "    for i in range(1, n+1):\n",
    "        for j in range(1, total + 1):\n",
    "            if array[i-1]<=j:\n",
    "                dp[i%2][j] = dp[(i-1)%2][j-array[i-1]] + dp[(i-1)%2][j]\n",
    "            else:\n",
    "                dp[i%2][j] = dp[(i-1)%2][j]\n",
    "    return dp[n%2][-1]\n"
   ]
  },
  {
   "cell_type": "code",
   "execution_count": 13,
   "metadata": {},
   "outputs": [
    {
     "data": {
      "text/plain": [
       "3"
      ]
     },
     "execution_count": 13,
     "metadata": {},
     "output_type": "execute_result"
    }
   ],
   "source": [
    "array = [1,1,2,3]\n",
    "diff = 1\n",
    "countSubsetForGivenDiff_spaceOptimized(array, diff)"
   ]
  },
  {
   "cell_type": "code",
   "execution_count": 14,
   "metadata": {},
   "outputs": [],
   "source": [
    "# Further Space complexity reduced to O(total)\n",
    "def countSubsetForGivenDiff_1D(array, diff):\n",
    "    n = len(array)\n",
    "    s = sum(array)\n",
    "    total = (s + diff)\n",
    "    \n",
    "    if total%2 != 0:\n",
    "        return 0\n",
    "    total = total//2\n",
    "    \n",
    "    dp = [0] * (total + 1)\n",
    "    \n",
    "    # initialize\n",
    "    dp[0] = 1\n",
    "        \n",
    "    \n",
    "    for i in range(1, n+1):\n",
    "        for j in range(total, 0, -1):\n",
    "            if array[i-1]<=j:\n",
    "                dp[j] = dp[j] + dp[j-array[i-1]]\n",
    "                \n",
    "    return dp[-1]"
   ]
  },
  {
   "cell_type": "code",
   "execution_count": 15,
   "metadata": {},
   "outputs": [
    {
     "data": {
      "text/plain": [
       "3"
      ]
     },
     "execution_count": 15,
     "metadata": {},
     "output_type": "execute_result"
    }
   ],
   "source": [
    "array = [1,1,2,3]\n",
    "diff = 1\n",
    "countSubsetForGivenDiff_1D(array, diff)"
   ]
  },
  {
   "cell_type": "code",
   "execution_count": null,
   "metadata": {},
   "outputs": [],
   "source": []
  }
 ],
 "metadata": {
  "kernelspec": {
   "display_name": "Python 3",
   "language": "python",
   "name": "python3"
  },
  "language_info": {
   "codemirror_mode": {
    "name": "ipython",
    "version": 3
   },
   "file_extension": ".py",
   "mimetype": "text/x-python",
   "name": "python",
   "nbconvert_exporter": "python",
   "pygments_lexer": "ipython3",
   "version": "3.8.3"
  }
 },
 "nbformat": 4,
 "nbformat_minor": 4
}

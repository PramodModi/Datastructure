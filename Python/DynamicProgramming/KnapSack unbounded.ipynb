{
 "cells": [
  {
   "cell_type": "markdown",
   "metadata": {},
   "source": [
    "## Problem\n",
    "\n",
    "Unbounded knapsack means, we can have same items multiple times in the knapsacks.\n",
    "\n",
    "While choosing an item, we can select the same item multiple times. But if not taken then go to next item do not consider that item again."
   ]
  },
  {
   "cell_type": "code",
   "execution_count": 4,
   "metadata": {},
   "outputs": [],
   "source": [
    "def unboundedKnapsack(wieghts, values, capacity):\n",
    "    n = len(wieghts)\n",
    "    \n",
    "    dp = [[0 for _ in range(capacity+1)] for _ in range(n+1)]\n",
    "    \n",
    "    for i in range(1, n+1):\n",
    "        for j in range(1, capacity+1):\n",
    "            if wieghts[i-1]<= j:\n",
    "                dp[i][j] = max(values[i-1] + dp[i][j - wieghts[i-1]], dp[i-1][j])\n",
    "            else:\n",
    "                dp[i][j] = dp[i-1][j]\n",
    "    return dp[i][j]"
   ]
  },
  {
   "cell_type": "code",
   "execution_count": 7,
   "metadata": {},
   "outputs": [
    {
     "data": {
      "text/plain": [
       "60"
      ]
     },
     "execution_count": 7,
     "metadata": {},
     "output_type": "execute_result"
    }
   ],
   "source": [
    "weights = [2,3]\n",
    "values = [20, 8]\n",
    "capacity =6\n",
    "unboundedKnapsack(weights, values, capacity)"
   ]
  },
  {
   "cell_type": "code",
   "execution_count": 9,
   "metadata": {},
   "outputs": [],
   "source": [
    "# Improved code. Since same weights can be taken unlimited times, so no need to track the weights. \n",
    "# Inplace of DP table, we will take only DP array.\n",
    "# If weight is not selected, no count of that weight, means, capacity will not reduce also value will not be added.\n",
    "\n",
    "def unboundedKnapsack1(wieghts, values, capacity):\n",
    "    n = len(wieghts)\n",
    "    \n",
    "    dp = [0]*(capacity + 1)\n",
    "    \n",
    "    for i, w in enumerate(weights):\n",
    "        for j in range(1, capacity+1):\n",
    "            if w<= j:\n",
    "                dp[j] = max(values[i] + dp[j - w], dp[j])\n",
    "            \n",
    "    return dp[-1]"
   ]
  },
  {
   "cell_type": "code",
   "execution_count": 10,
   "metadata": {},
   "outputs": [
    {
     "data": {
      "text/plain": [
       "60"
      ]
     },
     "execution_count": 10,
     "metadata": {},
     "output_type": "execute_result"
    }
   ],
   "source": [
    "weights = [2,3]\n",
    "values = [20, 8]\n",
    "capacity =6\n",
    "unboundedKnapsack1(weights, values, capacity)"
   ]
  },
  {
   "cell_type": "code",
   "execution_count": null,
   "metadata": {},
   "outputs": [],
   "source": []
  }
 ],
 "metadata": {
  "kernelspec": {
   "display_name": "Python 3",
   "language": "python",
   "name": "python3"
  },
  "language_info": {
   "codemirror_mode": {
    "name": "ipython",
    "version": 3
   },
   "file_extension": ".py",
   "mimetype": "text/x-python",
   "name": "python",
   "nbconvert_exporter": "python",
   "pygments_lexer": "ipython3",
   "version": "3.8.3"
  }
 },
 "nbformat": 4,
 "nbformat_minor": 4
}

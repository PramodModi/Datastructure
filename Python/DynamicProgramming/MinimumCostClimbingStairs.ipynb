{
 "cells": [
  {
   "cell_type": "markdown",
   "metadata": {},
   "source": [
    "## Problem\n",
    "You are given an integer array cost where cost[i] is the cost of ith step on a staircase. Once you pay the cost, you can either climb one or two steps.\n",
    "\n",
    "You can either start from the step with index 0, or the step with index 1.\n",
    "\n",
    "Return the minimum cost to reach the top of the floor\n",
    "\n",
    "Example 1:\n",
    "\n",
    "Input: cost = [10,15,20]\n",
    "\n",
    "Output: 15\n",
    "\n",
    "Explanation: You will start at index 1.\n",
    "- Pay 15 and climb two steps to reach the top.\n",
    "The total cost is 15.\n",
    "\n",
    "Example 2:\n",
    "\n",
    "Input: cost = [1,100,1,1,1,100,1,1,100,1]\n",
    "\n",
    "Output: 6\n",
    "\n",
    "Explanation: You will start at index 0.\n",
    "- Pay 1 and climb two steps to reach index 2.\n",
    "- Pay 1 and climb two steps to reach index 4.\n",
    "- Pay 1 and climb two steps to reach index 6.\n",
    "- Pay 1 and climb one step to reach index 7.\n",
    "- Pay 1 and climb two steps to reach index 9.\n",
    "- Pay 1 and climb one step to reach the top.\n",
    "\n",
    "\n",
    "The total cost is 6."
   ]
  },
  {
   "cell_type": "markdown",
   "metadata": {},
   "source": [
    "## Top Down approach"
   ]
  },
  {
   "cell_type": "code",
   "execution_count": 8,
   "metadata": {},
   "outputs": [],
   "source": [
    "def minCostClimbingStairs(costs):\n",
    "        n = len(costs)\n",
    "        temp = {}\n",
    "        dp(n, costs, temp)\n",
    "        return temp[n]\n",
    "    \n",
    "def dp(n, costs, temp):\n",
    "\n",
    "    if n == 0:\n",
    "        temp[0] = 0\n",
    "    elif n ==1:\n",
    "        temp[1] = 0\n",
    "    elif n not in temp:\n",
    "        temp[n] = min(dp(n-2, costs, temp) + costs[n-2], dp(n-1, costs, temp) + costs[n-1])\n",
    "        print(temp)\n",
    "    return temp[n]"
   ]
  },
  {
   "cell_type": "code",
   "execution_count": 9,
   "metadata": {},
   "outputs": [
    {
     "name": "stdout",
     "output_type": "stream",
     "text": [
      "{1: 0, 0: 0, 2: 10}\n",
      "{1: 0, 0: 0, 2: 10, 3: 15}\n"
     ]
    },
    {
     "data": {
      "text/plain": [
       "15"
      ]
     },
     "execution_count": 9,
     "metadata": {},
     "output_type": "execute_result"
    }
   ],
   "source": [
    "cost = [10,15,20]\n",
    "minCostClimbingStairs(cost)"
   ]
  },
  {
   "cell_type": "code",
   "execution_count": 10,
   "metadata": {},
   "outputs": [
    {
     "name": "stdout",
     "output_type": "stream",
     "text": [
      "{0: 0, 1: 0, 2: 1}\n",
      "{0: 0, 1: 0, 2: 1, 3: 2}\n",
      "{0: 0, 1: 0, 2: 1, 3: 2, 4: 2}\n",
      "{0: 0, 1: 0, 2: 1, 3: 2, 4: 2, 5: 3}\n",
      "{0: 0, 1: 0, 2: 1, 3: 2, 4: 2, 5: 3, 6: 3}\n",
      "{0: 0, 1: 0, 2: 1, 3: 2, 4: 2, 5: 3, 6: 3, 7: 4}\n",
      "{0: 0, 1: 0, 2: 1, 3: 2, 4: 2, 5: 3, 6: 3, 7: 4, 8: 4}\n",
      "{0: 0, 1: 0, 2: 1, 3: 2, 4: 2, 5: 3, 6: 3, 7: 4, 8: 4, 9: 5}\n",
      "{0: 0, 1: 0, 2: 1, 3: 2, 4: 2, 5: 3, 6: 3, 7: 4, 8: 4, 9: 5, 10: 6}\n"
     ]
    },
    {
     "data": {
      "text/plain": [
       "6"
      ]
     },
     "execution_count": 10,
     "metadata": {},
     "output_type": "execute_result"
    }
   ],
   "source": [
    "cost = [1,100,1,1,1,100,1,1,100,1]\n",
    "minCostClimbingStairs(cost)"
   ]
  },
  {
   "cell_type": "markdown",
   "metadata": {},
   "source": [
    "## Bottom Up Approach"
   ]
  },
  {
   "cell_type": "code",
   "execution_count": 23,
   "metadata": {},
   "outputs": [],
   "source": [
    "def minCostClimbingStairs1(costs):\n",
    "    n = len(costs)\n",
    "    if n == 1:\n",
    "        return 0\n",
    "    \n",
    "    dp = [0]* (n+1)\n",
    "    \n",
    "    #Base case\n",
    "    dp[0] = 0\n",
    "    dp[1] = 0\n",
    "    \n",
    "    for i in range(2, n+1):\n",
    "        dp[i] = min(dp[i-2] + costs[i-2], dp[i-1] + costs[i-1])\n",
    "        print(dp)\n",
    "    return dp[-1]"
   ]
  },
  {
   "cell_type": "code",
   "execution_count": 24,
   "metadata": {},
   "outputs": [
    {
     "name": "stdout",
     "output_type": "stream",
     "text": [
      "[0, 0, 10, 0]\n",
      "[0, 0, 10, 15]\n"
     ]
    },
    {
     "data": {
      "text/plain": [
       "15"
      ]
     },
     "execution_count": 24,
     "metadata": {},
     "output_type": "execute_result"
    }
   ],
   "source": [
    "cost = [10,15,20]\n",
    "minCostClimbingStairs1(cost)"
   ]
  },
  {
   "cell_type": "code",
   "execution_count": 25,
   "metadata": {},
   "outputs": [
    {
     "name": "stdout",
     "output_type": "stream",
     "text": [
      "[0, 0, 1, 0, 0, 0, 0, 0, 0, 0, 0]\n",
      "[0, 0, 1, 2, 0, 0, 0, 0, 0, 0, 0]\n",
      "[0, 0, 1, 2, 2, 0, 0, 0, 0, 0, 0]\n",
      "[0, 0, 1, 2, 2, 3, 0, 0, 0, 0, 0]\n",
      "[0, 0, 1, 2, 2, 3, 3, 0, 0, 0, 0]\n",
      "[0, 0, 1, 2, 2, 3, 3, 4, 0, 0, 0]\n",
      "[0, 0, 1, 2, 2, 3, 3, 4, 4, 0, 0]\n",
      "[0, 0, 1, 2, 2, 3, 3, 4, 4, 5, 0]\n",
      "[0, 0, 1, 2, 2, 3, 3, 4, 4, 5, 6]\n"
     ]
    },
    {
     "data": {
      "text/plain": [
       "6"
      ]
     },
     "execution_count": 25,
     "metadata": {},
     "output_type": "execute_result"
    }
   ],
   "source": [
    "cost = [1,100,1,1,1,100,1,1,100,1]\n",
    "minCostClimbingStairs1(cost)"
   ]
  },
  {
   "cell_type": "code",
   "execution_count": null,
   "metadata": {},
   "outputs": [],
   "source": []
  }
 ],
 "metadata": {
  "kernelspec": {
   "display_name": "Python 3",
   "language": "python",
   "name": "python3"
  },
  "language_info": {
   "codemirror_mode": {
    "name": "ipython",
    "version": 3
   },
   "file_extension": ".py",
   "mimetype": "text/x-python",
   "name": "python",
   "nbconvert_exporter": "python",
   "pygments_lexer": "ipython3",
   "version": "3.8.3"
  }
 },
 "nbformat": 4,
 "nbformat_minor": 4
}

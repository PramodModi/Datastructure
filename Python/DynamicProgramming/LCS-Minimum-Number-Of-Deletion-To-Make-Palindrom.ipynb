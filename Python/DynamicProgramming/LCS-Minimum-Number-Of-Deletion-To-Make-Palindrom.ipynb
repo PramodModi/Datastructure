{
 "cells": [
  {
   "cell_type": "markdown",
   "metadata": {},
   "source": [
    "## Problem\n",
    "\n",
    "Return minimum number of deletion so that given string should be palindrom.\n",
    "\n",
    "Example: \n",
    "\n",
    "string = \"agbcba\"\n",
    "\n",
    "output = 1"
   ]
  },
  {
   "cell_type": "markdown",
   "metadata": {},
   "source": [
    "#### This is extension of LCS problem. In specific this extension of maximum palindormic sub sequence problem. Here find the maximum palindromic subsequence and delete the extra element. As it is longest palindromic, hence deletion would be minimum. Hence find the longest palindromic subsequence and reduce it from given string. Answer would be minimum deletion of letters."
   ]
  },
  {
   "cell_type": "code",
   "execution_count": 1,
   "metadata": {},
   "outputs": [],
   "source": [
    "def minimumNumberOfDeletion(string):\n",
    "    m = len(string)\n",
    "    str1 = string[::-1]\n",
    "    l = lcs(str1, string)\n",
    "    \n",
    "    return m -l\n",
    "\n",
    "def lcs(str1, str2):\n",
    "    n = len(str1)\n",
    "    m = len(str2)\n",
    "    \n",
    "    dp = [[0 for _ in range(m+1)] for _ in range(n+1)]\n",
    "    \n",
    "    for i in range(1, n+1):\n",
    "        for j in range(1,m+1):\n",
    "            if str1[i-1] == str2[j-1]:\n",
    "                dp[i][j] = 1 + dp[i-1][j-1]\n",
    "            else:\n",
    "                dp[i][j] = max(dp[i-1][j], dp[i][j-1])\n",
    "    return dp[-1][-1]\n"
   ]
  },
  {
   "cell_type": "code",
   "execution_count": 2,
   "metadata": {},
   "outputs": [
    {
     "data": {
      "text/plain": [
       "1"
      ]
     },
     "execution_count": 2,
     "metadata": {},
     "output_type": "execute_result"
    }
   ],
   "source": [
    "string = \"agbcba\"\n",
    "minimumNumberOfDeletion(string)"
   ]
  },
  {
   "cell_type": "code",
   "execution_count": 1,
   "metadata": {},
   "outputs": [],
   "source": [
    "def minimumNumberOfDeletion_1D(string):\n",
    "    n = len(string)\n",
    "    string1 = string[::-1]\n",
    "    \n",
    "    dp = [0] * (n+1)\n",
    "    \n",
    "    for s in string:\n",
    "        prev = 0\n",
    "        for j in range(1, n+1):\n",
    "            if s == string1[j-1]:\n",
    "                prev, dp[j] = dp[j], 1+prev\n",
    "            else:\n",
    "                prev, dp[j] = dp[j], max(dp[j], dp[j-1])\n",
    "    return n - dp[-1]"
   ]
  },
  {
   "cell_type": "code",
   "execution_count": 2,
   "metadata": {},
   "outputs": [
    {
     "data": {
      "text/plain": [
       "1"
      ]
     },
     "execution_count": 2,
     "metadata": {},
     "output_type": "execute_result"
    }
   ],
   "source": [
    "string = \"agbcba\"\n",
    "minimumNumberOfDeletion_1D(string)"
   ]
  },
  {
   "cell_type": "code",
   "execution_count": null,
   "metadata": {},
   "outputs": [],
   "source": []
  }
 ],
 "metadata": {
  "kernelspec": {
   "display_name": "Python 3",
   "language": "python",
   "name": "python3"
  },
  "language_info": {
   "codemirror_mode": {
    "name": "ipython",
    "version": 3
   },
   "file_extension": ".py",
   "mimetype": "text/x-python",
   "name": "python",
   "nbconvert_exporter": "python",
   "pygments_lexer": "ipython3",
   "version": "3.8.3"
  }
 },
 "nbformat": 4,
 "nbformat_minor": 4
}

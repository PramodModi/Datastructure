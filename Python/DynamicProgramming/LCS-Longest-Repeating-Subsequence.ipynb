{
 "cells": [
  {
   "cell_type": "markdown",
   "metadata": {},
   "source": [
    "## Problem\n",
    "\n",
    "Return the longest length of repeating subsequence in a given string.\n",
    "\n",
    "Example:\n",
    "\n",
    "str1 = \"aabebcdd\"\n",
    "\n",
    "output: 3 //abd"
   ]
  },
  {
   "cell_type": "markdown",
   "metadata": {},
   "source": [
    "#### This is similar to LCS with some variation. Here, will find the LCS of same string excluding the letter at same location. Two strings are str1 and str2, with i and j are location of each letter in str1 and str2 respectively. a : i =0 and j =0, then will not consider it, but a: i =0 and j =1 or i=1 and j =0 will be considered for repeating sequence. What is happening here, repeating subsequnce will have letters repeating more than once, means they are available at more than one location, so while considering LCS for str1 and str2, will not consider letters which are at same location i ==j . However, letters which are same but at i !=j will be considered.\n"
   ]
  },
  {
   "cell_type": "code",
   "execution_count": 5,
   "metadata": {},
   "outputs": [],
   "source": [
    "def longestRepeatingSubsequence(str1):\n",
    "    str2 = str1[:]\n",
    "    n = len(str1)\n",
    "    # Initialize dp, similar to LCS\n",
    "    dp = [[0 for _ in range(n+1)] for _ in range(n+1)]\n",
    "    \n",
    "    for i in range(1, n+1):\n",
    "        for j in range(1, n+1):\n",
    "            if str1[i-1]==str2[j-1] and (i != j):# this is the extra condition put for this problem\n",
    "                dp[i][j] = 1+ dp[i-1][j-1]\n",
    "            else:\n",
    "                dp[i][j] = max(dp[i-1][j], dp[i][j-1])\n",
    "    return dp[-1][-1]\n",
    "                    "
   ]
  },
  {
   "cell_type": "code",
   "execution_count": 6,
   "metadata": {},
   "outputs": [
    {
     "data": {
      "text/plain": [
       "3"
      ]
     },
     "execution_count": 6,
     "metadata": {},
     "output_type": "execute_result"
    }
   ],
   "source": [
    "string = \"aabebcdd\"\n",
    "longestRepeatingSubsequence(string)"
   ]
  },
  {
   "cell_type": "code",
   "execution_count": 7,
   "metadata": {},
   "outputs": [],
   "source": [
    "## Space optimization\n",
    "def longestRepeatingSubsequence_spaceOtimized(str1):\n",
    "    str2 = str1[:]\n",
    "    n = len(str1)\n",
    "    # Initialize dp, similar to LCS\n",
    "    dp = [[0 for _ in range(n+1)] for _ in range(2)]\n",
    "    \n",
    "    for i in range(1, n+1):\n",
    "        for j in range(1, n+1):\n",
    "            if str1[i-1]==str2[j-1] and (i != j):# this is the extra condition put for this problem\n",
    "                dp[i%2][j] = 1+ dp[(i-1)%2][j-1]\n",
    "            else:\n",
    "                dp[i%2][j] = max(dp[(i-1)%2][j], dp[i%2][j-1])\n",
    "    return dp[n%2][-1]"
   ]
  },
  {
   "cell_type": "code",
   "execution_count": 8,
   "metadata": {},
   "outputs": [
    {
     "data": {
      "text/plain": [
       "3"
      ]
     },
     "execution_count": 8,
     "metadata": {},
     "output_type": "execute_result"
    }
   ],
   "source": [
    "string = \"aabebcdd\"\n",
    "longestRepeatingSubsequence_spaceOtimized(string)"
   ]
  },
  {
   "cell_type": "code",
   "execution_count": 16,
   "metadata": {},
   "outputs": [],
   "source": [
    "## Further space optimization\n",
    "def longestRepeatingSubsequence_1D(str1):\n",
    "    str2 = str1[:]\n",
    "    n = len(str1)\n",
    "    # Initialize dp, similar to LCS\n",
    "    dp = [0] * (n+1)\n",
    "    \n",
    "    for i in range(1, n+1):\n",
    "        prev = 0\n",
    "        for j in range(1, n+1):\n",
    "            if str1[i-1]==str2[j-1] and (i != j):# this is the extra condition put for this problem\n",
    "                prev, dp[j] = dp[j], 1+ prev\n",
    "            else:\n",
    "                prev, dp[j] = dp[j], max(dp[j], dp[j-1])\n",
    "    print(dp)\n",
    "    return dp[-1]"
   ]
  },
  {
   "cell_type": "code",
   "execution_count": 17,
   "metadata": {},
   "outputs": [
    {
     "name": "stdout",
     "output_type": "stream",
     "text": [
      "[0, 1, 1, 2, 2, 2, 2, 3, 3]\n"
     ]
    },
    {
     "data": {
      "text/plain": [
       "3"
      ]
     },
     "execution_count": 17,
     "metadata": {},
     "output_type": "execute_result"
    }
   ],
   "source": [
    "string = \"aabebcdd\"\n",
    "longestRepeatingSubsequence_1D(string)"
   ]
  },
  {
   "cell_type": "code",
   "execution_count": null,
   "metadata": {},
   "outputs": [],
   "source": []
  }
 ],
 "metadata": {
  "kernelspec": {
   "display_name": "Python 3",
   "language": "python",
   "name": "python3"
  },
  "language_info": {
   "codemirror_mode": {
    "name": "ipython",
    "version": 3
   },
   "file_extension": ".py",
   "mimetype": "text/x-python",
   "name": "python",
   "nbconvert_exporter": "python",
   "pygments_lexer": "ipython3",
   "version": "3.8.3"
  }
 },
 "nbformat": 4,
 "nbformat_minor": 4
}

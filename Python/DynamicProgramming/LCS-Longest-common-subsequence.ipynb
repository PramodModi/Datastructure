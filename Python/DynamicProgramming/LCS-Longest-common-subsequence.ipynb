{
 "cells": [
  {
   "cell_type": "markdown",
   "metadata": {},
   "source": [
    "## Problem\n",
    "\n",
    "Given two string, return the length of longest common subsequence between two strings.\n",
    "\n",
    "Example:\n",
    "\n",
    "str1 = \"abcdgh\"\n",
    "\n",
    "str2 = \"abedfha\"\n",
    "\n",
    "output: 4 //abdh"
   ]
  },
  {
   "cell_type": "markdown",
   "metadata": {},
   "source": [
    "### Recursive approach"
   ]
  },
  {
   "cell_type": "markdown",
   "metadata": {},
   "source": [
    "#### Find base condition: If either of string is empaty that means length =0, then there is no common letters, hence lcs = 0.  \n",
    "Now we have base condition.\n",
    "\n",
    "#### Choice diagram:\n",
    "We will start looking from last elements of both strings. \n",
    "Two options : If last elements are same or not same. If same then we found 1 common letter, so now will move for next common letter from str1 and str2 but now size is reduced by 1. \n",
    "if not same: Again two choices, either last element of str1 may be present in remaining part of str2 or last element of str2 is present in remaining part of str1. Hence we will use both options, and select who is returning max length. \n"
   ]
  },
  {
   "cell_type": "code",
   "execution_count": 4,
   "metadata": {},
   "outputs": [],
   "source": [
    "def longestCommonSubSequence(str1, str2):\n",
    "    n = len(str1)\n",
    "    m = len(str2)\n",
    "    # Call recursive method\n",
    "    return lcs(str1, str2, n, m)\n",
    "\n",
    "def lcs(str1, str2, n,m):\n",
    "    ## Base condition\n",
    "    if n == 0 or m ==0:\n",
    "        return 0\n",
    "    # Choice \n",
    "    # If last lement of str1 and str2 are matching, Then we found 1 common letter.\n",
    "    # Add 1 and now look at remaining part of both strings, reduced sizes by 1 in next call\n",
    "    if str1[n-1] == str2[m-1]:\n",
    "        return 1+ lcs(str1, str2, n-1,m-1)\n",
    "    # Last letters are different, so look str1 with str2 but without last element and vice versa. Take maximum.\n",
    "    else:\n",
    "        return max(lcs(str1, str2, n, m-1), lcs(str1,str2,n-1,m))\n",
    "    "
   ]
  },
  {
   "cell_type": "code",
   "execution_count": 5,
   "metadata": {},
   "outputs": [
    {
     "data": {
      "text/plain": [
       "4"
      ]
     },
     "execution_count": 5,
     "metadata": {},
     "output_type": "execute_result"
    }
   ],
   "source": [
    "str1 = \"abcdgh\"\n",
    "str2 = \"abedfha\"\n",
    "longestCommonSubSequence(str1, str2)"
   ]
  },
  {
   "cell_type": "markdown",
   "metadata": {},
   "source": [
    "### Memoization"
   ]
  },
  {
   "cell_type": "code",
   "execution_count": 10,
   "metadata": {},
   "outputs": [],
   "source": [
    "def longestCommonSubSequence_memoization(str1, str2):\n",
    "    n = len(str1)\n",
    "    m = len(str2)\n",
    "    dp = [[-1 for _ in range(m+1)] for _ in range(n+1)]\n",
    "    # Call recursive method\n",
    "    return lcs(str1, str2, n, m, dp)\n",
    "\n",
    "def lcs(str1, str2, n,m, dp):\n",
    "    ## Base condition\n",
    "    if n == 0 or m ==0:\n",
    "        return 0\n",
    "    # Check if data is there in the dp, if yes then return from here, no need to do further calculation.\n",
    "    if dp[n][m] != -1:\n",
    "        return dp[n][m]\n",
    "    # Choice \n",
    "    # If last lement of str1 and str2 are matching, Then we found 1 common letter.\n",
    "    # Add 1 and now look at remaining part of both strings, reduced sizes by 1 in next call\n",
    "    if str1[n-1] == str2[m-1]:\n",
    "        dp[n][m] =  1+ lcs(str1, str2, n-1,m-1,dp)\n",
    "    # Last letters are different, so look str1 with str2 but without last element and vice versa. Take maximum.\n",
    "    else:\n",
    "        dp[n][m] = max(lcs(str1, str2, n, m-1,dp), lcs(str1,str2,n-1,m,dp))\n",
    "    return dp[n][m]"
   ]
  },
  {
   "cell_type": "code",
   "execution_count": 11,
   "metadata": {},
   "outputs": [
    {
     "data": {
      "text/plain": [
       "4"
      ]
     },
     "execution_count": 11,
     "metadata": {},
     "output_type": "execute_result"
    }
   ],
   "source": [
    "str1 = \"abcdgh\"\n",
    "str2 = \"abedfha\"\n",
    "longestCommonSubSequence_memoization(str1, str2)"
   ]
  },
  {
   "cell_type": "markdown",
   "metadata": {},
   "source": [
    "### Top Down : Iterative method"
   ]
  },
  {
   "cell_type": "code",
   "execution_count": 20,
   "metadata": {},
   "outputs": [],
   "source": [
    "def longestCommonSubSequence_dp(str1, str2):\n",
    "    n = len(str1)\n",
    "    m = len(str2)\n",
    "    \n",
    "    dp = [[0 for _ in range(m+1)] for _ in range(n+1)]\n",
    "    \n",
    "    for i in range(1, n+1):\n",
    "        for j in range(1, m+1):\n",
    "            if str1[i-1] == str2[j-1]:\n",
    "                dp[i][j] = 1 + dp[i-1][j-1]\n",
    "            else:\n",
    "                dp[i][j] = max(dp[i][j-1], dp[i-1][j])\n",
    "    return dp[-1][-1]"
   ]
  },
  {
   "cell_type": "code",
   "execution_count": 21,
   "metadata": {},
   "outputs": [
    {
     "data": {
      "text/plain": [
       "4"
      ]
     },
     "execution_count": 21,
     "metadata": {},
     "output_type": "execute_result"
    }
   ],
   "source": [
    "str1 = \"abcdgh\"\n",
    "str2 = \"abedfha\"\n",
    "longestCommonSubSequence_dp(str1, str2)"
   ]
  },
  {
   "cell_type": "code",
   "execution_count": null,
   "metadata": {},
   "outputs": [],
   "source": []
  }
 ],
 "metadata": {
  "kernelspec": {
   "display_name": "Python 3",
   "language": "python",
   "name": "python3"
  },
  "language_info": {
   "codemirror_mode": {
    "name": "ipython",
    "version": 3
   },
   "file_extension": ".py",
   "mimetype": "text/x-python",
   "name": "python",
   "nbconvert_exporter": "python",
   "pygments_lexer": "ipython3",
   "version": "3.8.3"
  }
 },
 "nbformat": 4,
 "nbformat_minor": 4
}

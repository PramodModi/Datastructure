{
 "cells": [
  {
   "cell_type": "markdown",
   "metadata": {},
   "source": [
    "## Problem\n",
    "\n",
    "Given two string str1 and str2 return the number of insertion and deletion needed to make str1 same as str2.\n",
    "\n",
    "Example:\n",
    "\n",
    "str1 = \"heap\"\n",
    "\n",
    "str2 = \"pea\"\n",
    "\n",
    "output : 1, 2 //1 insertion and 2 deletion (heap=>pea delete h and p and insert p at the beginning)"
   ]
  },
  {
   "cell_type": "markdown",
   "metadata": {},
   "source": [
    "#### This will use LCS problem.  Here, first find longest common subsequence (lcs of \"heap\" and \"pea\" =  \"ea\"), delete remaining letters (number of deletion = len(str1) - lcs) and then insert missing item (number of insertion = len(str2) - lcs."
   ]
  },
  {
   "cell_type": "code",
   "execution_count": 4,
   "metadata": {},
   "outputs": [],
   "source": [
    "def minimumNumberOfInDel(str1, str2):\n",
    "    n = len(str1)\n",
    "    m = len(str2)\n",
    "    l = lcs(str1, str2)\n",
    "    \n",
    "    numberOfDeletion = n - l\n",
    "    numberOfInsertion = m - l\n",
    "    return [numberOfInsertion, numberOfDeletion]\n",
    "\n",
    "def lcs(str1, str2):\n",
    "    n = len(str1)\n",
    "    m = len(str2)\n",
    "    \n",
    "    dp = [[0 for _ in range(m+1)] for _ in range(n+1)]\n",
    "    \n",
    "    for i in range(1, n+1):\n",
    "        for j in range(1, m+1):\n",
    "            if str1[i-1] == str2[j-1]:\n",
    "                dp[i][j] = 1 + dp[i-1][j-1]\n",
    "            else:\n",
    "                dp[i][j] = max(dp[i-1][j], dp[i][j-1])\n",
    "    return dp[-1][-1]"
   ]
  },
  {
   "cell_type": "code",
   "execution_count": 5,
   "metadata": {},
   "outputs": [
    {
     "data": {
      "text/plain": [
       "[1, 2]"
      ]
     },
     "execution_count": 5,
     "metadata": {},
     "output_type": "execute_result"
    }
   ],
   "source": [
    "str1 = \"heap\"\n",
    "str2 = \"pea\"\n",
    "minimumNumberOfInDel(str1, str2)"
   ]
  },
  {
   "cell_type": "code",
   "execution_count": 1,
   "metadata": {},
   "outputs": [],
   "source": [
    "## Space optimization\n",
    "\n",
    "def minimumNumberOfInDel_1D(str1, str2):\n",
    "    n = len(str1)\n",
    "    m = len(str2)\n",
    "    \n",
    "    dp = [0] * (m+1)\n",
    "    for s in str1:\n",
    "        prev = 0\n",
    "        for j in range(1, m+1):\n",
    "            if s == str2[j-1]:\n",
    "                prev, dp[j] = dp[j], prev + 1\n",
    "            else:\n",
    "                prev, dp[j] = dp[j], max(dp[j], dp[j-1])\n",
    "    \n",
    "    numberOfDeletion = n - dp[-1]\n",
    "    numberOfInsertion = m - dp[-1]\n",
    "    return [numberOfInsertion, numberOfDeletion]\n"
   ]
  },
  {
   "cell_type": "code",
   "execution_count": 2,
   "metadata": {},
   "outputs": [
    {
     "data": {
      "text/plain": [
       "[1, 2]"
      ]
     },
     "execution_count": 2,
     "metadata": {},
     "output_type": "execute_result"
    }
   ],
   "source": [
    "str1 = \"heap\"\n",
    "str2 = \"pea\"\n",
    "minimumNumberOfInDel_1D(str1, str2)"
   ]
  },
  {
   "cell_type": "code",
   "execution_count": null,
   "metadata": {},
   "outputs": [],
   "source": []
  }
 ],
 "metadata": {
  "kernelspec": {
   "display_name": "Python 3",
   "language": "python",
   "name": "python3"
  },
  "language_info": {
   "codemirror_mode": {
    "name": "ipython",
    "version": 3
   },
   "file_extension": ".py",
   "mimetype": "text/x-python",
   "name": "python",
   "nbconvert_exporter": "python",
   "pygments_lexer": "ipython3",
   "version": "3.8.3"
  }
 },
 "nbformat": 4,
 "nbformat_minor": 4
}

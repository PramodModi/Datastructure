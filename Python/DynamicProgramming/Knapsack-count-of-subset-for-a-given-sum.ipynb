{
 "cells": [
  {
   "cell_type": "markdown",
   "metadata": {},
   "source": [
    "## Problem\n",
    "\n",
    "Return number of subsets in a given array which are having sum equal to given value. Return zero if no such subset available.\n",
    "\n",
    "Example:\n",
    "\n",
    "array = [2,3,5,6,8,10]\n",
    "\n",
    "sum = 10\n",
    "\n",
    "output = 3"
   ]
  },
  {
   "cell_type": "markdown",
   "metadata": {},
   "source": [
    "#### This is simlar to subset sum problem. In place of True or False, we have to return number of subsets. "
   ]
  },
  {
   "cell_type": "code",
   "execution_count": 18,
   "metadata": {},
   "outputs": [],
   "source": [
    "def numbrOfSubsetsSum(array, value):\n",
    "    n = len(array)\n",
    "    \n",
    "    dp = [[0 for _ in range(value+1)] for _ in range(n+1)]\n",
    "    \n",
    "    # Initialize\n",
    "    for i in range(n+1):\n",
    "        dp[i][0] = 1\n",
    "        \n",
    "    for i in range(1, n+1):\n",
    "        for j in range(1, value+1):\n",
    "            if array[i-1] <= j:\n",
    "                dp[i][j]= dp[i-1][j-array[i-1]] + dp[i-1][j]\n",
    "            else:\n",
    "                dp[i][j] = dp[i-1][j]\n",
    "    return dp[-1][-1]"
   ]
  },
  {
   "cell_type": "code",
   "execution_count": 19,
   "metadata": {},
   "outputs": [
    {
     "data": {
      "text/plain": [
       "3"
      ]
     },
     "execution_count": 19,
     "metadata": {},
     "output_type": "execute_result"
    }
   ],
   "source": [
    "array = [2,3,5,6,8,10]\n",
    "value = 10\n",
    "numbrOfSubsetsSum(array, value)"
   ]
  },
  {
   "cell_type": "code",
   "execution_count": 20,
   "metadata": {},
   "outputs": [
    {
     "data": {
      "text/plain": [
       "4"
      ]
     },
     "execution_count": 20,
     "metadata": {},
     "output_type": "execute_result"
    }
   ],
   "source": [
    "array = [3,3,5,1,8,10]\n",
    "value = 11\n",
    "numbrOfSubsetsSum(array, value)"
   ]
  },
  {
   "cell_type": "code",
   "execution_count": 21,
   "metadata": {},
   "outputs": [
    {
     "data": {
      "text/plain": [
       "3"
      ]
     },
     "execution_count": 21,
     "metadata": {},
     "output_type": "execute_result"
    }
   ],
   "source": [
    "array = [3,3,5,1,8,10]\n",
    "value = 12\n",
    "numbrOfSubsetsSum(array, value)"
   ]
  },
  {
   "cell_type": "code",
   "execution_count": 22,
   "metadata": {},
   "outputs": [
    {
     "data": {
      "text/plain": [
       "3"
      ]
     },
     "execution_count": 22,
     "metadata": {},
     "output_type": "execute_result"
    }
   ],
   "source": [
    "array = [1,1,2,3]\n",
    "value = 4\n",
    "numbrOfSubsetsSum(array, value)"
   ]
  },
  {
   "cell_type": "code",
   "execution_count": 23,
   "metadata": {},
   "outputs": [],
   "source": [
    "# Space optimization. O(2*value)\n",
    "def numbrOfSubsetsSum_Optimized(array, value):\n",
    "    n = len(array)\n",
    "    \n",
    "    dp = [[0 for _ in range(value+1)] for _ in range(2)]\n",
    "    \n",
    "    # Initialize\n",
    "    for i in range(2):\n",
    "        dp[i][0] = 1\n",
    "        \n",
    "    for i in range(1, n+1):\n",
    "        for j in range(1, value+1):\n",
    "            if array[i-1] <= j:\n",
    "                dp[i%2][j]= dp[(i-1)%2][j-array[i-1]] + dp[(i-1)%2][j]\n",
    "            else:\n",
    "                dp[i%2][j] = dp[(i-1)%2][j]\n",
    "    return dp[n%2][-1] # do not take the last row, as we do not know if last row is updated finally."
   ]
  },
  {
   "cell_type": "code",
   "execution_count": 24,
   "metadata": {},
   "outputs": [
    {
     "data": {
      "text/plain": [
       "3"
      ]
     },
     "execution_count": 24,
     "metadata": {},
     "output_type": "execute_result"
    }
   ],
   "source": [
    "array = [1,1,2,3]\n",
    "value = 4\n",
    "numbrOfSubsetsSum_Optimized(array, value)"
   ]
  },
  {
   "cell_type": "code",
   "execution_count": 26,
   "metadata": {},
   "outputs": [
    {
     "data": {
      "text/plain": [
       "4"
      ]
     },
     "execution_count": 26,
     "metadata": {},
     "output_type": "execute_result"
    }
   ],
   "source": [
    "array = [3,3,5,1,8,10]\n",
    "value = 11\n",
    "numbrOfSubsetsSum_Optimized(array, value)"
   ]
  },
  {
   "cell_type": "code",
   "execution_count": 34,
   "metadata": {},
   "outputs": [],
   "source": [
    "# Further Space optimization. O(value)\n",
    "def numbrOfSubsetsSum_1D(array, value):\n",
    "    n = len(array)\n",
    "    \n",
    "    dp = [0]*(value+1)\n",
    "    \n",
    "    # Initialize\n",
    "    dp[0] = 1\n",
    "        \n",
    "    for i in range(1, n+1):\n",
    "        for j in range(value, 0, -1):\n",
    "            if array[i-1] <= j:\n",
    "                dp[j]= dp[j-array[i-1]] + dp[j]\n",
    "    return dp[-1]"
   ]
  },
  {
   "cell_type": "code",
   "execution_count": 35,
   "metadata": {},
   "outputs": [
    {
     "data": {
      "text/plain": [
       "4"
      ]
     },
     "execution_count": 35,
     "metadata": {},
     "output_type": "execute_result"
    }
   ],
   "source": [
    "array = [3,3,5,1,8,10]\n",
    "value = 11\n",
    "numbrOfSubsetsSum_1D(array, value)"
   ]
  },
  {
   "cell_type": "code",
   "execution_count": 41,
   "metadata": {},
   "outputs": [],
   "source": [
    "## Recurssive\n",
    "\n",
    "def numbrOfSubsetsSum_rec(array, value):\n",
    "    n = len(array)\n",
    "    return helper(array, value, n)\n",
    "\n",
    "def helper(array, value, n):\n",
    "    \n",
    "    if value == 0:\n",
    "        return 1\n",
    "    if n == 0:\n",
    "        return 0\n",
    "    \n",
    "    if array[n-1] <= value:\n",
    "        return helper(array, value - array[n-1], n-1) + helper(array, value, n-1)\n",
    "    else:\n",
    "        return helper(array, value, n-1)"
   ]
  },
  {
   "cell_type": "code",
   "execution_count": 42,
   "metadata": {},
   "outputs": [
    {
     "data": {
      "text/plain": [
       "3"
      ]
     },
     "execution_count": 42,
     "metadata": {},
     "output_type": "execute_result"
    }
   ],
   "source": [
    "array = [1,1,2,3]\n",
    "value = 4\n",
    "numbrOfSubsetsSum_rec(array, value)"
   ]
  },
  {
   "cell_type": "code",
   "execution_count": 43,
   "metadata": {},
   "outputs": [
    {
     "data": {
      "text/plain": [
       "4"
      ]
     },
     "execution_count": 43,
     "metadata": {},
     "output_type": "execute_result"
    }
   ],
   "source": [
    "array = [3,3,5,1,8,10]\n",
    "value = 11\n",
    "numbrOfSubsetsSum_rec(array, value)"
   ]
  },
  {
   "cell_type": "code",
   "execution_count": 37,
   "metadata": {},
   "outputs": [],
   "source": [
    "## Memoization\n",
    "\n",
    "def numbrOfSubsetsSum_mem(array, value):\n",
    "    n = len(array)\n",
    "    mem = [[-1]*(value+1) for _ in range(n+1)]\n",
    "    return helper(array, value, n, mem)\n",
    "\n",
    "def helper(array, value, n, mem):\n",
    "    \n",
    "    if value == 0:\n",
    "        return 1\n",
    "    if n == 0:\n",
    "        return 0\n",
    "    if mem[n][value] != -1:\n",
    "        return mem[n][value]\n",
    "    if array[n-1] <= value:\n",
    "        mem[n][value] =  helper(array, value - array[n-1], n-1, mem) + helper(array, value, n-1, mem)\n",
    "    else:\n",
    "        mem[n][value] =  helper(array, value, n-1, mem)\n",
    "    return mem[n][value]"
   ]
  },
  {
   "cell_type": "code",
   "execution_count": 38,
   "metadata": {},
   "outputs": [
    {
     "data": {
      "text/plain": [
       "3"
      ]
     },
     "execution_count": 38,
     "metadata": {},
     "output_type": "execute_result"
    }
   ],
   "source": [
    "array = [1,1,2,3]\n",
    "value = 4\n",
    "numbrOfSubsetsSum_mem(array, value)"
   ]
  },
  {
   "cell_type": "code",
   "execution_count": 39,
   "metadata": {},
   "outputs": [
    {
     "data": {
      "text/plain": [
       "4"
      ]
     },
     "execution_count": 39,
     "metadata": {},
     "output_type": "execute_result"
    }
   ],
   "source": [
    "array = [3,3,5,1,8,10]\n",
    "value = 11\n",
    "numbrOfSubsetsSum_mem(array, value)"
   ]
  },
  {
   "cell_type": "code",
   "execution_count": null,
   "metadata": {},
   "outputs": [],
   "source": []
  }
 ],
 "metadata": {
  "kernelspec": {
   "display_name": "Python 3",
   "language": "python",
   "name": "python3"
  },
  "language_info": {
   "codemirror_mode": {
    "name": "ipython",
    "version": 3
   },
   "file_extension": ".py",
   "mimetype": "text/x-python",
   "name": "python",
   "nbconvert_exporter": "python",
   "pygments_lexer": "ipython3",
   "version": "3.8.3"
  }
 },
 "nbformat": 4,
 "nbformat_minor": 4
}

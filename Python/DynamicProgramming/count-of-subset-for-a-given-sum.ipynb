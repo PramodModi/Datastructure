{
 "cells": [
  {
   "cell_type": "markdown",
   "metadata": {},
   "source": [
    "## Problem\n",
    "\n",
    "Return number of subsets in a given array which are having sum equal to given value. Return zero if no such subset available.\n",
    "\n",
    "Example:\n",
    "\n",
    "array = [2,3,5,6,8,10]\n",
    "\n",
    "sum = 10\n",
    "\n",
    "output = 3"
   ]
  },
  {
   "cell_type": "markdown",
   "metadata": {},
   "source": [
    "#### This is simlar to subset sum problem. In place of True or False, we have to return number of subsets. "
   ]
  },
  {
   "cell_type": "code",
   "execution_count": 9,
   "metadata": {},
   "outputs": [],
   "source": [
    "def numbrOfSubsetsSum(array, value):\n",
    "    n = len(array)\n",
    "    \n",
    "    dp = [[0 for _ in range(value+1)] for _ in range(n+1)]\n",
    "    \n",
    "    # Initialize\n",
    "    for i in range(n+1):\n",
    "        dp[i][0] = 1\n",
    "        \n",
    "    for i in range(1, n+1):\n",
    "        for j in range(1, value+1):\n",
    "            if array[i-1] <= j:\n",
    "                dp[i][j]= dp[i-1][j-array[i-1]] + dp[i-1][j]\n",
    "            else:\n",
    "                dp[i][j] = dp[i-1][j]\n",
    "    return dp[-1][-1]"
   ]
  },
  {
   "cell_type": "code",
   "execution_count": 10,
   "metadata": {},
   "outputs": [
    {
     "data": {
      "text/plain": [
       "3"
      ]
     },
     "execution_count": 10,
     "metadata": {},
     "output_type": "execute_result"
    }
   ],
   "source": [
    "array = [2,3,5,6,8,10]\n",
    "value = 10\n",
    "numbrOfSubsetsSum(array, value)"
   ]
  },
  {
   "cell_type": "code",
   "execution_count": 11,
   "metadata": {},
   "outputs": [
    {
     "data": {
      "text/plain": [
       "4"
      ]
     },
     "execution_count": 11,
     "metadata": {},
     "output_type": "execute_result"
    }
   ],
   "source": [
    "array = [3,3,5,1,8,10]\n",
    "value = 11\n",
    "numbrOfSubsetsSum(array, value)"
   ]
  },
  {
   "cell_type": "code",
   "execution_count": 12,
   "metadata": {},
   "outputs": [
    {
     "data": {
      "text/plain": [
       "3"
      ]
     },
     "execution_count": 12,
     "metadata": {},
     "output_type": "execute_result"
    }
   ],
   "source": [
    "array = [3,3,5,1,8,10]\n",
    "value = 12\n",
    "numbrOfSubsetsSum(array, value)"
   ]
  },
  {
   "cell_type": "code",
   "execution_count": 13,
   "metadata": {},
   "outputs": [
    {
     "data": {
      "text/plain": [
       "3"
      ]
     },
     "execution_count": 13,
     "metadata": {},
     "output_type": "execute_result"
    }
   ],
   "source": [
    "array = [1,1,2,3]\n",
    "value = 4\n",
    "numbrOfSubsetsSum(array, value)"
   ]
  },
  {
   "cell_type": "code",
   "execution_count": null,
   "metadata": {},
   "outputs": [],
   "source": []
  }
 ],
 "metadata": {
  "kernelspec": {
   "display_name": "Python 3",
   "language": "python",
   "name": "python3"
  },
  "language_info": {
   "codemirror_mode": {
    "name": "ipython",
    "version": 3
   },
   "file_extension": ".py",
   "mimetype": "text/x-python",
   "name": "python",
   "nbconvert_exporter": "python",
   "pygments_lexer": "ipython3",
   "version": "3.8.3"
  }
 },
 "nbformat": 4,
 "nbformat_minor": 4
}

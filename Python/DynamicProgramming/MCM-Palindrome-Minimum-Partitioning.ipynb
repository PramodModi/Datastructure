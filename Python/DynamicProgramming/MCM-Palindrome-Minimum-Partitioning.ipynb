{
 "cells": [
  {
   "cell_type": "markdown",
   "metadata": {},
   "source": [
    "## Problem\n",
    "\n",
    "Given string, partition the string in such a way that all partitions should be a plindrom. Retun number of minimum paritions done.\n",
    "Note, single letter in the string or empty string are considered palindrome.\n",
    "\n",
    "Example:\n",
    "\n",
    "string = \"nitin\"\n",
    "\n",
    "output = 0. //nitin is a plaindrome\n",
    "\n",
    "string = \"abdbp\"\n",
    "output = 2, //a|bdb|p"
   ]
  },
  {
   "cell_type": "markdown",
   "metadata": {},
   "source": [
    "#### This problem is similar to MCM problem. As we have to partitiona and check with all possible partitions.eg. one partiion is n and another partition is rest. Similarly, one partition is \"ni\" and another partition is rest etc.... Now need to find value of i and j. i will start from 0 index and j will be at string.len() - 1. Partition position would be k = i to j-1, subgroup would be (i to k) and (k+1 to j). Base condition = if i >j, return 0 also, if string is already palindrome then return 0.\n",
    "\n"
   ]
  },
  {
   "cell_type": "code",
   "execution_count": 15,
   "metadata": {},
   "outputs": [],
   "source": [
    "def minimumPartitionForPalindrome(string):\n",
    "    n = len(string)\n",
    "    \n",
    "    dp= [[-1 for _ in range(n+ 1)] for _ in range(n+1)]\n",
    "    \n",
    "    return mcm(string, 0, n-1, dp)\n",
    "\n",
    "def mcm(string, i, j, dp):\n",
    "    \n",
    "    # Base condition\n",
    "    s = string[i:j+1]\n",
    "    if i>=j or isPalindrome(s):\n",
    "        return 0\n",
    "    \n",
    "    if dp[i][j] != -1:\n",
    "        return dp[i][j]\n",
    "    \n",
    "    mincost = float('inf')\n",
    "    for k in range(i,j):\n",
    "        cost = 1+ mcm(string, i,k,dp) + mcm(string, k+1, j, dp)\n",
    "        dp[i][j] = mincost = min(cost, mincost)\n",
    "    return dp[i][j]\n",
    "\n",
    "def isPalindrome(string):\n",
    "    n = len(string)\n",
    "    str1 = string[::-1]\n",
    "    l = lcs(str1, string)\n",
    "    return n ==l\n",
    "\n",
    "def lcs(str1, str2):\n",
    "    n = len(str1)\n",
    "    m = len(str2)\n",
    "    \n",
    "    dp = [[0 for _ in range(m+1)] for _ in range(n+1)]\n",
    "    \n",
    "    for i in range(1, n+1):\n",
    "        for j in range(1, m+1):\n",
    "            if str1[i-1]== str2[j-1]:\n",
    "                dp[i][j] = 1 + dp[i-1][j-1]\n",
    "            else:\n",
    "                dp[i][j] = max(dp[i-1][j], dp[i][j-1])\n",
    "    \n",
    "    return dp[-1][-1]\n",
    "        \n",
    "    \n",
    "        "
   ]
  },
  {
   "cell_type": "code",
   "execution_count": 18,
   "metadata": {},
   "outputs": [
    {
     "data": {
      "text/plain": [
       "0"
      ]
     },
     "execution_count": 18,
     "metadata": {},
     "output_type": "execute_result"
    }
   ],
   "source": [
    "string = \"nitin\"\n",
    "minimumPartitionForPalindrome(string)"
   ]
  },
  {
   "cell_type": "code",
   "execution_count": 19,
   "metadata": {},
   "outputs": [
    {
     "data": {
      "text/plain": [
       "2"
      ]
     },
     "execution_count": 19,
     "metadata": {},
     "output_type": "execute_result"
    }
   ],
   "source": [
    "string = \"abdbp\"\n",
    "minimumPartitionForPalindrome(string)"
   ]
  },
  {
   "cell_type": "code",
   "execution_count": 20,
   "metadata": {},
   "outputs": [],
   "source": [
    "### More optimization"
   ]
  },
  {
   "cell_type": "code",
   "execution_count": 24,
   "metadata": {},
   "outputs": [],
   "source": [
    "def minimumPartitionForPalindrome(string):\n",
    "    n = len(string)\n",
    "    \n",
    "    dp= [[-1 for _ in range(n+ 1)] for _ in range(n+1)]\n",
    "    \n",
    "    return mcm(string, 0, n-1, dp)\n",
    "\n",
    "def mcm(string, i, j, dp):\n",
    "    \n",
    "    # Base condition\n",
    "    s = string[i:j+1]\n",
    "    if i>=j or isPalindrome(s):\n",
    "        return 0\n",
    "    \n",
    "    if dp[i][j] != -1:\n",
    "        return dp[i][j]\n",
    "    \n",
    "    mincost = float('inf')\n",
    "    for k in range(i,j):\n",
    "        if dp[i][k] != -1:\n",
    "            left = dp[i][k]\n",
    "        else:\n",
    "            left = mcm(string, i,k,dp)\n",
    "        if dp[k+1][j] != -1:\n",
    "            right = dp[k+1][j]\n",
    "        else:\n",
    "            right = mcm(string, k+1, j, dp)\n",
    "        cost = 1+ left+right\n",
    "        dp[i][j] = mincost = min(cost, mincost)\n",
    "    return dp[i][j]\n",
    "\n",
    "def isPalindrome(string):\n",
    "    n = len(string)\n",
    "    str1 = string[::-1]\n",
    "    l = lcs(str1, string)\n",
    "    return n ==l\n",
    "\n",
    "def lcs(str1, str2):\n",
    "    n = len(str1)\n",
    "    m = len(str2)\n",
    "    \n",
    "    dp = [[0 for _ in range(m+1)] for _ in range(n+1)]\n",
    "    \n",
    "    for i in range(1, n+1):\n",
    "        for j in range(1, m+1):\n",
    "            if str1[i-1]== str2[j-1]:\n",
    "                dp[i][j] = 1 + dp[i-1][j-1]\n",
    "            else:\n",
    "                dp[i][j] = max(dp[i-1][j], dp[i][j-1])\n",
    "    \n",
    "    return dp[-1][-1]\n",
    "        \n",
    "    "
   ]
  },
  {
   "cell_type": "code",
   "execution_count": 25,
   "metadata": {},
   "outputs": [
    {
     "data": {
      "text/plain": [
       "2"
      ]
     },
     "execution_count": 25,
     "metadata": {},
     "output_type": "execute_result"
    }
   ],
   "source": [
    "string = \"abdbp\"\n",
    "minimumPartitionForPalindrome(string)"
   ]
  },
  {
   "cell_type": "code",
   "execution_count": null,
   "metadata": {},
   "outputs": [],
   "source": []
  }
 ],
 "metadata": {
  "kernelspec": {
   "display_name": "Python 3",
   "language": "python",
   "name": "python3"
  },
  "language_info": {
   "codemirror_mode": {
    "name": "ipython",
    "version": 3
   },
   "file_extension": ".py",
   "mimetype": "text/x-python",
   "name": "python",
   "nbconvert_exporter": "python",
   "pygments_lexer": "ipython3",
   "version": "3.8.3"
  }
 },
 "nbformat": 4,
 "nbformat_minor": 4
}

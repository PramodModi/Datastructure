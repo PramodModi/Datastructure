{
 "cells": [
  {
   "cell_type": "markdown",
   "metadata": {},
   "source": [
    "## Problem\n",
    "Return the minimum number of multiplication cost of given matrix diamensions.\n",
    "\n",
    "Example:\n",
    "\n",
    "array = [10,30,5,60]\n",
    "\n",
    "output: 4500  //Ax(BxC) see the explanation\n",
    "\n",
    "Explanation:\n",
    "\n",
    "Dimension of matrices: A=(10x30), B =(30x5), C =(5x60)\n",
    "Possible combination of multiplications: (AxB)XC or AX(BXC)\n",
    "Cost of (AXB)XC = cost of (AXB) + cost(resultnat of AxB xC)\n",
    "Cost of AXB =  10x30x5 = 1500 and dimension of resultant matrix = 10x5\n",
    "cost of (AxB)xC = coast(AxB) + 10x5x60 = 1500 + 3000 = 4500\n",
    "\n",
    "cost of Ax(BxC)= cost(BxC) + cost(Ax resultant of (BxC))\n",
    "\n",
    "cost(BxC) = 30x5x60 = 900, dimension of resultant matrix = 30x60\n",
    "cost of Ax(BxC) = 10x30x60 + 900 =18000 + 900 = 18900\n",
    "\n",
    "Minimum cost = 4500"
   ]
  },
  {
   "cell_type": "markdown",
   "metadata": {},
   "source": [
    "####\n",
    "Consider each possible matrix multiplication. This can be done by calling multiplication for each possible set of matrices. This can be done by loop strat from 1st matrix till the end of the matrix. For each selection of matrices,need to calculate multiplication, select minimum cost.\n",
    "Let K be the index between i and j, where i is the left most possible index nd j is the right most possible value. Always, we will have two sets for multiplcation, (i,k) and (k+1, j). At the left most index, dimension of matrix = (10,30), hence for first matrix i =1 and matrix dimension would be (i-1)x(i).\n",
    "For last matrix, dimension would be (j-1xj), j = len(array)-1\n",
    "and k will move from i =k to j. at any time matrix group would be (i,k) and (k+1,j)\n",
    "\n",
    "Three important things to consider:\n",
    "1. selection of i and j\n",
    "2. selection of k\n",
    "3. base condition. Here, i != J and j should not cross j."
   ]
  },
  {
   "cell_type": "markdown",
   "metadata": {},
   "source": [
    "### Recursive"
   ]
  },
  {
   "cell_type": "code",
   "execution_count": 17,
   "metadata": {},
   "outputs": [],
   "source": [
    "def matrixChainMultiplication(matrixDimensions):\n",
    "    j = len(matrixDimensions) -1\n",
    "    \n",
    "    return mcm(matrixDimensions, 1, j)\n",
    "\n",
    "def mcm(matrixDimensions, i, j):\n",
    "    # Base condition\n",
    "    if i>=j:\n",
    "        return 0\n",
    "    mincost = float('inf')\n",
    "    for k in range(i,j):\n",
    "        cost = mcm(matrixDimensions,i,k)+ mcm(matrixDimensions,k+1,j) + matrixDimensions[i-1]*matrixDimensions[k]*matrixDimensions[j]\n",
    "        mincost = min(cost, mincost)\n",
    "    return mincost"
   ]
  },
  {
   "cell_type": "code",
   "execution_count": 18,
   "metadata": {},
   "outputs": [
    {
     "data": {
      "text/plain": [
       "4500"
      ]
     },
     "execution_count": 18,
     "metadata": {},
     "output_type": "execute_result"
    }
   ],
   "source": [
    "matrixDimensions = [10,30,5,60]\n",
    "matrixChainMultiplication(matrixDimensions)"
   ]
  },
  {
   "cell_type": "markdown",
   "metadata": {},
   "source": [
    "### Memoization"
   ]
  },
  {
   "cell_type": "code",
   "execution_count": 21,
   "metadata": {},
   "outputs": [],
   "source": [
    "def matrixChainMultiplication_memoization(matrixDimensions):\n",
    "    j = len(matrixDimensions)\n",
    "    dp = [[-1 for _ in range(j+1)] for _ in range(j+1)]\n",
    "    return mcm(matrixDimensions, 1, j-1, dp)\n",
    "\n",
    "def mcm(matrixDimensions, i, j,dp):\n",
    "    # Base condition\n",
    "    if i>=j:\n",
    "        return 0\n",
    "    if dp[i][j] != -1:\n",
    "        return dp[i][j]\n",
    "    mincost = float('inf')\n",
    "    for k in range(i,j):\n",
    "        cost = mcm(matrixDimensions,i,k,dp)+ mcm(matrixDimensions,k+1,j,dp) + matrixDimensions[i-1]*matrixDimensions[k]*matrixDimensions[j]\n",
    "        dp[i][j] = mincost = min(cost, mincost)\n",
    "    return dp[i][j]"
   ]
  },
  {
   "cell_type": "code",
   "execution_count": 22,
   "metadata": {},
   "outputs": [
    {
     "ename": "TypeError",
     "evalue": "mcm() missing 1 required positional argument: 'dp'",
     "output_type": "error",
     "traceback": [
      "\u001b[0;31m---------------------------------------------------------------------------\u001b[0m",
      "\u001b[0;31mTypeError\u001b[0m                                 Traceback (most recent call last)",
      "\u001b[0;32m<ipython-input-22-e77db208ca31>\u001b[0m in \u001b[0;36m<module>\u001b[0;34m\u001b[0m\n\u001b[1;32m      1\u001b[0m \u001b[0mmatrixDimensions\u001b[0m \u001b[0;34m=\u001b[0m \u001b[0;34m[\u001b[0m\u001b[0;36m10\u001b[0m\u001b[0;34m,\u001b[0m\u001b[0;36m30\u001b[0m\u001b[0;34m,\u001b[0m\u001b[0;36m5\u001b[0m\u001b[0;34m,\u001b[0m\u001b[0;36m60\u001b[0m\u001b[0;34m]\u001b[0m\u001b[0;34m\u001b[0m\u001b[0;34m\u001b[0m\u001b[0m\n\u001b[0;32m----> 2\u001b[0;31m \u001b[0mmatrixChainMultiplication_memoization\u001b[0m\u001b[0;34m(\u001b[0m\u001b[0mmatrixDimensions\u001b[0m\u001b[0;34m)\u001b[0m\u001b[0;34m\u001b[0m\u001b[0;34m\u001b[0m\u001b[0m\n\u001b[0m",
      "\u001b[0;32m<ipython-input-21-f8ef9c30fe7e>\u001b[0m in \u001b[0;36mmatrixChainMultiplication_memoization\u001b[0;34m(matrixDimensions)\u001b[0m\n\u001b[1;32m      2\u001b[0m     \u001b[0mj\u001b[0m \u001b[0;34m=\u001b[0m \u001b[0mlen\u001b[0m\u001b[0;34m(\u001b[0m\u001b[0mmatrixDimensions\u001b[0m\u001b[0;34m)\u001b[0m\u001b[0;34m\u001b[0m\u001b[0;34m\u001b[0m\u001b[0m\n\u001b[1;32m      3\u001b[0m     \u001b[0mdp\u001b[0m \u001b[0;34m=\u001b[0m \u001b[0;34m[\u001b[0m\u001b[0;34m[\u001b[0m\u001b[0;34m-\u001b[0m\u001b[0;36m1\u001b[0m \u001b[0;32mfor\u001b[0m \u001b[0m_\u001b[0m \u001b[0;32min\u001b[0m \u001b[0mrange\u001b[0m\u001b[0;34m(\u001b[0m\u001b[0mj\u001b[0m\u001b[0;34m+\u001b[0m\u001b[0;36m1\u001b[0m\u001b[0;34m)\u001b[0m\u001b[0;34m]\u001b[0m \u001b[0;32mfor\u001b[0m \u001b[0m_\u001b[0m \u001b[0;32min\u001b[0m \u001b[0mrange\u001b[0m\u001b[0;34m(\u001b[0m\u001b[0mj\u001b[0m\u001b[0;34m+\u001b[0m\u001b[0;36m1\u001b[0m\u001b[0;34m)\u001b[0m\u001b[0;34m]\u001b[0m\u001b[0;34m\u001b[0m\u001b[0;34m\u001b[0m\u001b[0m\n\u001b[0;32m----> 4\u001b[0;31m     \u001b[0;32mreturn\u001b[0m \u001b[0mmcm\u001b[0m\u001b[0;34m(\u001b[0m\u001b[0mmatrixDimensions\u001b[0m\u001b[0;34m,\u001b[0m \u001b[0;36m1\u001b[0m\u001b[0;34m,\u001b[0m \u001b[0mj\u001b[0m\u001b[0;34m-\u001b[0m\u001b[0;36m1\u001b[0m\u001b[0;34m,\u001b[0m \u001b[0mdp\u001b[0m\u001b[0;34m)\u001b[0m\u001b[0;34m\u001b[0m\u001b[0;34m\u001b[0m\u001b[0m\n\u001b[0m\u001b[1;32m      5\u001b[0m \u001b[0;34m\u001b[0m\u001b[0m\n\u001b[1;32m      6\u001b[0m \u001b[0;32mdef\u001b[0m \u001b[0mmcm\u001b[0m\u001b[0;34m(\u001b[0m\u001b[0mmatrixDimensions\u001b[0m\u001b[0;34m,\u001b[0m \u001b[0mi\u001b[0m\u001b[0;34m,\u001b[0m \u001b[0mj\u001b[0m\u001b[0;34m,\u001b[0m\u001b[0mdp\u001b[0m\u001b[0;34m)\u001b[0m\u001b[0;34m:\u001b[0m\u001b[0;34m\u001b[0m\u001b[0;34m\u001b[0m\u001b[0m\n",
      "\u001b[0;32m<ipython-input-21-f8ef9c30fe7e>\u001b[0m in \u001b[0;36mmcm\u001b[0;34m(matrixDimensions, i, j, dp)\u001b[0m\n\u001b[1;32m     12\u001b[0m     \u001b[0mmincost\u001b[0m \u001b[0;34m=\u001b[0m \u001b[0mfloat\u001b[0m\u001b[0;34m(\u001b[0m\u001b[0;34m'inf'\u001b[0m\u001b[0;34m)\u001b[0m\u001b[0;34m\u001b[0m\u001b[0;34m\u001b[0m\u001b[0m\n\u001b[1;32m     13\u001b[0m     \u001b[0;32mfor\u001b[0m \u001b[0mk\u001b[0m \u001b[0;32min\u001b[0m \u001b[0mrange\u001b[0m\u001b[0;34m(\u001b[0m\u001b[0mi\u001b[0m\u001b[0;34m,\u001b[0m\u001b[0mj\u001b[0m\u001b[0;34m)\u001b[0m\u001b[0;34m:\u001b[0m\u001b[0;34m\u001b[0m\u001b[0;34m\u001b[0m\u001b[0m\n\u001b[0;32m---> 14\u001b[0;31m         \u001b[0mcost\u001b[0m \u001b[0;34m=\u001b[0m \u001b[0mmcm\u001b[0m\u001b[0;34m(\u001b[0m\u001b[0mmatrixDimensions\u001b[0m\u001b[0;34m,\u001b[0m\u001b[0mi\u001b[0m\u001b[0;34m,\u001b[0m\u001b[0mk\u001b[0m\u001b[0;34m)\u001b[0m\u001b[0;34m+\u001b[0m \u001b[0mmcm\u001b[0m\u001b[0;34m(\u001b[0m\u001b[0mmatrixDimensions\u001b[0m\u001b[0;34m,\u001b[0m\u001b[0mk\u001b[0m\u001b[0;34m+\u001b[0m\u001b[0;36m1\u001b[0m\u001b[0;34m,\u001b[0m\u001b[0mj\u001b[0m\u001b[0;34m)\u001b[0m \u001b[0;34m+\u001b[0m \u001b[0mmatrixDimensions\u001b[0m\u001b[0;34m[\u001b[0m\u001b[0mi\u001b[0m\u001b[0;34m-\u001b[0m\u001b[0;36m1\u001b[0m\u001b[0;34m]\u001b[0m\u001b[0;34m*\u001b[0m\u001b[0mmatrixDimensions\u001b[0m\u001b[0;34m[\u001b[0m\u001b[0mk\u001b[0m\u001b[0;34m]\u001b[0m\u001b[0;34m*\u001b[0m\u001b[0mmatrixDimensions\u001b[0m\u001b[0;34m[\u001b[0m\u001b[0mj\u001b[0m\u001b[0;34m]\u001b[0m\u001b[0;34m\u001b[0m\u001b[0;34m\u001b[0m\u001b[0m\n\u001b[0m\u001b[1;32m     15\u001b[0m         \u001b[0mdp\u001b[0m\u001b[0;34m[\u001b[0m\u001b[0mi\u001b[0m\u001b[0;34m]\u001b[0m\u001b[0;34m[\u001b[0m\u001b[0mj\u001b[0m\u001b[0;34m]\u001b[0m \u001b[0;34m=\u001b[0m \u001b[0mmincost\u001b[0m \u001b[0;34m=\u001b[0m \u001b[0mmin\u001b[0m\u001b[0;34m(\u001b[0m\u001b[0mcost\u001b[0m\u001b[0;34m,\u001b[0m \u001b[0mmincost\u001b[0m\u001b[0;34m)\u001b[0m\u001b[0;34m\u001b[0m\u001b[0;34m\u001b[0m\u001b[0m\n\u001b[1;32m     16\u001b[0m     \u001b[0;32mreturn\u001b[0m \u001b[0mdp\u001b[0m\u001b[0;34m[\u001b[0m\u001b[0mi\u001b[0m\u001b[0;34m]\u001b[0m\u001b[0;34m[\u001b[0m\u001b[0mj\u001b[0m\u001b[0;34m]\u001b[0m\u001b[0;34m\u001b[0m\u001b[0;34m\u001b[0m\u001b[0m\n",
      "\u001b[0;31mTypeError\u001b[0m: mcm() missing 1 required positional argument: 'dp'"
     ]
    }
   ],
   "source": [
    "matrixDimensions = [10,30,5,60]\n",
    "matrixChainMultiplication_memoization(matrixDimensions)"
   ]
  },
  {
   "cell_type": "code",
   "execution_count": null,
   "metadata": {},
   "outputs": [],
   "source": []
  }
 ],
 "metadata": {
  "kernelspec": {
   "display_name": "Python 3",
   "language": "python",
   "name": "python3"
  },
  "language_info": {
   "codemirror_mode": {
    "name": "ipython",
    "version": 3
   },
   "file_extension": ".py",
   "mimetype": "text/x-python",
   "name": "python",
   "nbconvert_exporter": "python",
   "pygments_lexer": "ipython3",
   "version": "3.8.3"
  }
 },
 "nbformat": 4,
 "nbformat_minor": 4
}

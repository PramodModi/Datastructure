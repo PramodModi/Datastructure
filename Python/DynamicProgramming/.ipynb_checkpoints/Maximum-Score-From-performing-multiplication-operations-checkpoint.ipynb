{
 "cells": [
  {
   "cell_type": "markdown",
   "metadata": {},
   "source": [
    "## Problem\n",
    "\n",
    "You are given two integer arrays nums and multipliers of size n and m respectively, where n >= m. The arrays are 1-indexed.\n",
    "\n",
    "You begin with a score of 0. You want to perform exactly m operations. On the ith operation (1-indexed), you will:\n",
    "\n",
    "Choose one integer x from either the start or the end of the array nums.\n",
    "Add multipliers[i] * x to your score.\n",
    "Remove x from the array nums.\n",
    "Return the maximum score after performing m operations.\n",
    "\n",
    " \n",
    "\n",
    "Example 1:\n",
    "\n",
    "Input: nums = [1,2,3], multipliers = [3,2,1]\n",
    "\n",
    "Output: 14\n",
    "\n",
    "Explanation: An optimal solution is as follows:\n",
    "- Choose from the end, [1,2,3], adding 3 * 3 = 9 to the score.\n",
    "- Choose from the end, [1,2], adding 2 * 2 = 4 to the score.\n",
    "- Choose from the end, [1], adding 1 * 1 = 1 to the score.\n",
    "\n",
    "The total score is 9 + 4 + 1 = 14.\n",
    "\n",
    "Example 2:\n",
    "\n",
    "Input: nums = [-5,-3,-3,-2,7,1], multipliers = [-10,-5,3,4,6]\n",
    "\n",
    "Output: 102\n",
    "\n",
    "Explanation: An optimal solution is as follows:\n",
    "- Choose from the start, [-5,-3,-3,-2,7,1], adding -5 * -10 = 50 to the score.\n",
    "- Choose from the start, [-3,-3,-2,7,1], adding -3 * -5 = 15 to the score.\n",
    "- Choose from the start, [-3,-2,7,1], adding -3 * 3 = -9 to the score.\n",
    "- Choose from the end, [-2,7,1], adding 1 * 4 = 4 to the score.\n",
    "- Choose from the end, [-2,7], adding 7 * 6 = 42 to the score. \n",
    "\n",
    "The total score is 50 + 15 - 9 + 4 + 42 = 102."
   ]
  },
  {
   "cell_type": "markdown",
   "metadata": {},
   "source": [
    "## Top Down Approach"
   ]
  },
  {
   "cell_type": "code",
   "execution_count": 13,
   "metadata": {},
   "outputs": [],
   "source": [
    "def maximumScore(nums, mutipliers):\n",
    "    n = len(nums)\n",
    "    m = len(multipliers)\n",
    "    result = [[0 for _ in range(m)] for _ in range(m)]\n",
    "    \n",
    "    dp(0, 0, nums, multipliers, result)\n",
    "    return result[0][0]\n",
    "\n",
    "def dp(i, left, nums, multipliers, result):\n",
    "    if i == len(multipliers):\n",
    "        return 0\n",
    "    right = len(nums) - 1 - (i-left)\n",
    "    if result[i][left] == 0:\n",
    "        result[i][left] = max(multipliers[i] * nums[left] + dp(i+1, left+1, nums, multipliers, result), \n",
    "                          multipliers[i] * nums[right] + dp(i+1, left, nums, multipliers, result))\n",
    "    return result[i][left]\n",
    "    \n",
    "    "
   ]
  },
  {
   "cell_type": "code",
   "execution_count": 14,
   "metadata": {},
   "outputs": [
    {
     "data": {
      "text/plain": [
       "102"
      ]
     },
     "execution_count": 14,
     "metadata": {},
     "output_type": "execute_result"
    }
   ],
   "source": [
    "nums = [-5,-3,-3,-2,7,1]\n",
    "multipliers = [-10,-5,3,4,6]\n",
    "maximumScore(nums, multipliers)"
   ]
  },
  {
   "cell_type": "code",
   "execution_count": 15,
   "metadata": {},
   "outputs": [
    {
     "data": {
      "text/plain": [
       "14"
      ]
     },
     "execution_count": 15,
     "metadata": {},
     "output_type": "execute_result"
    }
   ],
   "source": [
    "nums = [1,2,3]\n",
    "multipliers = [3,2,1]\n",
    "maximumScore(nums, multipliers)"
   ]
  },
  {
   "cell_type": "markdown",
   "metadata": {},
   "source": [
    "## Bottom UP Approach"
   ]
  },
  {
   "cell_type": "code",
   "execution_count": 1,
   "metadata": {},
   "outputs": [],
   "source": [
    "def maximumScore1(nums, mutipliers):\n",
    "    n = len(nums)\n",
    "    m = len(multipliers)\n",
    "    result = [[0 for _ in range(m + 1)] for _ in range(m + 1)]\n",
    "    for i in range(m-1, -1, -1):\n",
    "        for left in range(i, -1, -1):\n",
    "            right = (n-1) - (i-left)\n",
    "            result[i][left] = max(mutipliers[i]*nums[left] + result[i+1][left+1], mutipliers[i]*nums[right] + result[i+1][left])\n",
    "    return result[0][0]"
   ]
  },
  {
   "cell_type": "code",
   "execution_count": 2,
   "metadata": {},
   "outputs": [
    {
     "data": {
      "text/plain": [
       "102"
      ]
     },
     "execution_count": 2,
     "metadata": {},
     "output_type": "execute_result"
    }
   ],
   "source": [
    "nums = [-5,-3,-3,-2,7,1]\n",
    "multipliers = [-10,-5,3,4,6]\n",
    "maximumScore1(nums, multipliers)"
   ]
  },
  {
   "cell_type": "code",
   "execution_count": null,
   "metadata": {},
   "outputs": [],
   "source": []
  },
  {
   "cell_type": "code",
   "execution_count": null,
   "metadata": {},
   "outputs": [],
   "source": []
  }
 ],
 "metadata": {
  "kernelspec": {
   "display_name": "Python 3",
   "language": "python",
   "name": "python3"
  },
  "language_info": {
   "codemirror_mode": {
    "name": "ipython",
    "version": 3
   },
   "file_extension": ".py",
   "mimetype": "text/x-python",
   "name": "python",
   "nbconvert_exporter": "python",
   "pygments_lexer": "ipython3",
   "version": "3.8.3"
  }
 },
 "nbformat": 4,
 "nbformat_minor": 4
}

{
 "cells": [
  {
   "cell_type": "markdown",
   "metadata": {},
   "source": [
    "## Problem\n",
    "\n",
    "Given array of numbers and one vlaue. Return True or False, if value is possible by adding subsets of array.\n",
    "subset of array [1,2,3] are [],[1],[2],[3],[1,2],[1,3],[2,3],[1,2,3].\n",
    "\n",
    "Examples:\n",
    "\n",
    "array = [1,2,3,7,8,10]\n",
    "\n",
    "value = 11\n",
    "\n",
    "output = True // 11= 3+8\n",
    "\n",
    "array = [1,2,3,7,8,10]\n",
    "\n",
    "value = 6\n",
    "\n",
    "output = True // 11= 1+2+3"
   ]
  },
  {
   "cell_type": "markdown",
   "metadata": {},
   "source": [
    "#### It is simlar to knapsack 0-1 problem. We have to choose number to be included in answer or not. If number is bigger than given value then it can not be included. If value is less than given value, then two choices, include or not include. If included then reduce the value by chosen number and remove that number from array (reduce the size), if not included then just remove the number from array. "
   ]
  },
  {
   "cell_type": "code",
   "execution_count": 1,
   "metadata": {},
   "outputs": [],
   "source": [
    "def subSetSum(array, value):\n",
    "    n = len(array)\n",
    "    dp = [[False for _ in range(value+1)] for _ in range(n+1)]\n",
    "    \n",
    "    # Initialize\n",
    "    # n = 0 value = 0 : Empty subset : True\n",
    "    # n = 1 value = 0 : Empty subset : True\n",
    "    # n = 0 to n, value = 0 : EMpty subset : True\n",
    "    \n",
    "    # n = 0, value = 1 : not possible : False\n",
    "    # n = 0, value = 2 : not possible : False\n",
    "    \n",
    "    # Initially, first row = False and First colum = True. dp[0][0] = True\n",
    "    for i in range(n+1):\n",
    "        dp[i][0] = True\n",
    "        \n",
    "    # actual code\n",
    "    for i in range(1, n+1):\n",
    "        for j in range(1, value+1):\n",
    "            if array[i-1] <= j:\n",
    "                dp[i][j] = dp[i-1][j-array[i-1]] or dp[i-1][j]\n",
    "            else:\n",
    "                dp[i][j] = dp[i-1][j]\n",
    "    return dp[n][value]\n",
    "    \n",
    "    "
   ]
  },
  {
   "cell_type": "code",
   "execution_count": 7,
   "metadata": {},
   "outputs": [
    {
     "data": {
      "text/plain": [
       "True"
      ]
     },
     "execution_count": 7,
     "metadata": {},
     "output_type": "execute_result"
    }
   ],
   "source": [
    "array = [1,2,5,7,8,10]\n",
    "value = 6\n",
    "subSetSum(array, value)"
   ]
  },
  {
   "cell_type": "code",
   "execution_count": 8,
   "metadata": {},
   "outputs": [
    {
     "data": {
      "text/plain": [
       "True"
      ]
     },
     "execution_count": 8,
     "metadata": {},
     "output_type": "execute_result"
    }
   ],
   "source": [
    "array = [1,2,5,7,8,10]\n",
    "value = 11\n",
    "subSetSum(array, value)"
   ]
  },
  {
   "cell_type": "code",
   "execution_count": 11,
   "metadata": {},
   "outputs": [
    {
     "data": {
      "text/plain": [
       "False"
      ]
     },
     "execution_count": 11,
     "metadata": {},
     "output_type": "execute_result"
    }
   ],
   "source": [
    "array = [1,2,5,7,8,10]\n",
    "value = 4\n",
    "subSetSum(array, value)"
   ]
  },
  {
   "cell_type": "code",
   "execution_count": 25,
   "metadata": {},
   "outputs": [],
   "source": [
    "# Backtracking way\n",
    "\n",
    "def subset_backtracking(nums, v):\n",
    "    return helper(nums, v, 0)\n",
    "def helper(nums, v, index):\n",
    "    if v == 0:\n",
    "        return True\n",
    "    if index == len(nums):\n",
    "        return False\n",
    "    for i in range(index, len(nums)):\n",
    "        if nums[i]<= v:\n",
    "            if helper(nums, v-nums[i], i+1):\n",
    "                return True\n",
    "    return False"
   ]
  },
  {
   "cell_type": "code",
   "execution_count": 26,
   "metadata": {},
   "outputs": [
    {
     "data": {
      "text/plain": [
       "True"
      ]
     },
     "execution_count": 26,
     "metadata": {},
     "output_type": "execute_result"
    }
   ],
   "source": [
    "nums =[1,2,5,7,8,10]\n",
    "v = 16\n",
    "subset_backtracking(nums, v)"
   ]
  },
  {
   "cell_type": "code",
   "execution_count": 27,
   "metadata": {},
   "outputs": [],
   "source": [
    "# Print the first set as well. Backtracking way \n",
    "def subset(nums, v):\n",
    "    \n",
    "    temp = []\n",
    "    return helper(nums, v, 0, temp)\n",
    "def helper(nums, v, index, temp):\n",
    "    if v == 0:\n",
    "        print(temp)\n",
    "        return True\n",
    "    if index == len(nums):\n",
    "        return False\n",
    "    for i in range(index, len(nums)):\n",
    "        if nums[i]<= v:\n",
    "            temp.append(nums[i])\n",
    "            if helper(nums, v-nums[i], i+1, temp):\n",
    "                return True\n",
    "            temp.pop()\n",
    "    return False"
   ]
  },
  {
   "cell_type": "code",
   "execution_count": 28,
   "metadata": {},
   "outputs": [
    {
     "name": "stdout",
     "output_type": "stream",
     "text": [
      "[1, 2, 5, 8]\n"
     ]
    },
    {
     "data": {
      "text/plain": [
       "True"
      ]
     },
     "execution_count": 28,
     "metadata": {},
     "output_type": "execute_result"
    }
   ],
   "source": [
    "nums =[1,2,5,7,8,10]\n",
    "v = 16\n",
    "subset(nums, v)"
   ]
  },
  {
   "cell_type": "code",
   "execution_count": null,
   "metadata": {},
   "outputs": [],
   "source": []
  }
 ],
 "metadata": {
  "kernelspec": {
   "display_name": "Python 3",
   "language": "python",
   "name": "python3"
  },
  "language_info": {
   "codemirror_mode": {
    "name": "ipython",
    "version": 3
   },
   "file_extension": ".py",
   "mimetype": "text/x-python",
   "name": "python",
   "nbconvert_exporter": "python",
   "pygments_lexer": "ipython3",
   "version": "3.8.3"
  }
 },
 "nbformat": 4,
 "nbformat_minor": 4
}

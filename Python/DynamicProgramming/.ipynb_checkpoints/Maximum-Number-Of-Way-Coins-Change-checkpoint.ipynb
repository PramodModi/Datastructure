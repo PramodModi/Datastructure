{
 "cells": [
  {
   "cell_type": "markdown",
   "metadata": {},
   "source": [
    "## Problem\n",
    "Return the number of ways coins can be form given sum.\n",
    "\n",
    "Example:\n",
    "\n",
    "coins = [1,2,3]\n",
    "\n",
    "sum = 5\n",
    "\n",
    "output:5"
   ]
  },
  {
   "cell_type": "markdown",
   "metadata": {},
   "source": [
    "#### This is simlar to unbounded knapsack problem, now we have count the number of ways"
   ]
  },
  {
   "cell_type": "code",
   "execution_count": 1,
   "metadata": {},
   "outputs": [],
   "source": [
    "def numberOfWaysCoinChange(coins, sum):\n",
    "    # initialize dp\n",
    "    dp = [0]*(sum+1)\n",
    "    dp[0] = 1\n",
    "    \n",
    "    for c in coins:\n",
    "        for j in range(1, sum+1):\n",
    "            if c <= j:\n",
    "                dp[j] = dp[j-c] + dp[j]\n",
    "    return dp[-1]\n"
   ]
  },
  {
   "cell_type": "code",
   "execution_count": null,
   "metadata": {},
   "outputs": [],
   "source": [
    "coins = [1,2,3]\n",
    "sum = 5\n",
    "numberOfWaysCoinChange(coins, sum)"
   ]
  }
 ],
 "metadata": {
  "kernelspec": {
   "display_name": "Python 3",
   "language": "python",
   "name": "python3"
  },
  "language_info": {
   "codemirror_mode": {
    "name": "ipython",
    "version": 3
   },
   "file_extension": ".py",
   "mimetype": "text/x-python",
   "name": "python",
   "nbconvert_exporter": "python",
   "pygments_lexer": "ipython3",
   "version": "3.8.3"
  }
 },
 "nbformat": 4,
 "nbformat_minor": 4
}

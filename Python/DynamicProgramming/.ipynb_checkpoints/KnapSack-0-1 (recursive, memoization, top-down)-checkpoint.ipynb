{
 "cells": [
  {
   "cell_type": "markdown",
   "metadata": {},
   "source": [
    "## Problem\n",
    "Given items wieghts and value, given maximum capacity of knapsack. Return the maximum value of all items packed in the knapscak. Items can not be fraction also, you can not take same item again."
   ]
  },
  {
   "cell_type": "markdown",
   "metadata": {},
   "source": [
    "### recursive method, without memoization"
   ]
  },
  {
   "cell_type": "code",
   "execution_count": 21,
   "metadata": {},
   "outputs": [],
   "source": [
    "def knapsack(weights, values, capacity):\n",
    "    n = len(weights)\n",
    "    return maxValue_knapsack(weights, values, capacity, n)\n",
    "\n",
    "def maxValue_knapsack(weights, values, capacity, n):\n",
    "    # Base case\n",
    "    if n == 0 or capacity == 0:\n",
    "        return 0\n",
    "    if weights[n-1]<= capacity:\n",
    "        return max(values[n-1] + maxValue_knapsack(weights, values, capacity-weights[n-1], n-1), \n",
    "                   maxValue_knapsack(weights, values, capacity, n-1))\n",
    "    else:\n",
    "        return maxValue_knapsack(weights, values, capacity, n-1)\n",
    "    "
   ]
  },
  {
   "cell_type": "code",
   "execution_count": 22,
   "metadata": {},
   "outputs": [
    {
     "data": {
      "text/plain": [
       "55"
      ]
     },
     "execution_count": 22,
     "metadata": {},
     "output_type": "execute_result"
    }
   ],
   "source": [
    "weights = [1,2,3,4,5]\n",
    "values = [20, 8, 15,10,12]\n",
    "capacity =12\n",
    "knapsack(weights, values, capacity)"
   ]
  },
  {
   "cell_type": "markdown",
   "metadata": {},
   "source": [
    "### recursive method, with memoization"
   ]
  },
  {
   "cell_type": "code",
   "execution_count": 23,
   "metadata": {},
   "outputs": [],
   "source": [
    "def knapsack_memoization(weights, values, capacity):\n",
    "    n = len(weights)\n",
    "    value = [[-1 for _ in range(capacity + 1)] for _ in range(n+1)]\n",
    "    return maxValue_knapsack(weights, values, capacity, n, value)\n",
    "\n",
    "def maxValue_knapsack(weights, values, capacity, n, value):\n",
    "    # Base case\n",
    "    if n == 0 or capacity == 0:\n",
    "        return 0\n",
    "    if value[n][capacity]!= -1:\n",
    "        return value[n][capacity]\n",
    "    if weights[n-1]<= capacity:\n",
    "        value[n][capacity] = max(values[n-1] + maxValue_knapsack(weights, values, capacity-weights[n-1], n-1,value), \n",
    "                   maxValue_knapsack(weights, values, capacity, n-1,value))\n",
    "    else:\n",
    "        value[n][capacity] = maxValue_knapsack(weights, values, capacity, n-1,value)\n",
    "    return value[n][capacity]"
   ]
  },
  {
   "cell_type": "code",
   "execution_count": 24,
   "metadata": {},
   "outputs": [
    {
     "data": {
      "text/plain": [
       "55"
      ]
     },
     "execution_count": 24,
     "metadata": {},
     "output_type": "execute_result"
    }
   ],
   "source": [
    "weights = [1,2,3,4,5]\n",
    "values = [20, 8, 15,10,12]\n",
    "capacity =12\n",
    "knapsack_memoization(weights, values, capacity)"
   ]
  },
  {
   "cell_type": "markdown",
   "metadata": {},
   "source": [
    "## Top down approach"
   ]
  },
  {
   "cell_type": "code",
   "execution_count": 25,
   "metadata": {},
   "outputs": [],
   "source": [
    " def knapsack_DP(weights, values, capacity):\n",
    "    n = len(weights)\n",
    "    # Create dp table\n",
    "    dp = [[-1 for _ in range(capacity + 1)] for _ in range(n+1)]\n",
    "    # Base condition or Initialization\n",
    "    for c in range(capacity+1):\n",
    "        dp[0][c] = 0\n",
    "    for i in range(n+1):\n",
    "        dp[i][0] = 0\n",
    "        \n",
    "    for i in range(1, n+1):\n",
    "        for j in range(1, capacity + 1):\n",
    "            if weights[i-1] <= j:\n",
    "                dp[i][j] = max(values[i-1] + dp[i-1][j-weights[i-1]], dp[i-1][j])\n",
    "            else:\n",
    "                dp[i][j] = dp[i-1][j]\n",
    "    \n",
    "    return dp[n][capacity]"
   ]
  },
  {
   "cell_type": "code",
   "execution_count": 20,
   "metadata": {},
   "outputs": [
    {
     "data": {
      "text/plain": [
       "55"
      ]
     },
     "execution_count": 20,
     "metadata": {},
     "output_type": "execute_result"
    }
   ],
   "source": [
    "weights = [1,2,3,4,5]\n",
    "values = [20, 8, 15,10,12]\n",
    "capacity =12\n",
    "knapsack_DP(weights, values, capacity)"
   ]
  }
 ],
 "metadata": {
  "kernelspec": {
   "display_name": "Python 3",
   "language": "python",
   "name": "python3"
  },
  "language_info": {
   "codemirror_mode": {
    "name": "ipython",
    "version": 3
   },
   "file_extension": ".py",
   "mimetype": "text/x-python",
   "name": "python",
   "nbconvert_exporter": "python",
   "pygments_lexer": "ipython3",
   "version": "3.8.3"
  }
 },
 "nbformat": 4,
 "nbformat_minor": 4
}

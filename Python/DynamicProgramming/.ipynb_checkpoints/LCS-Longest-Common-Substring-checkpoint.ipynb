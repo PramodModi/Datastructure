{
 "cells": [
  {
   "cell_type": "markdown",
   "metadata": {},
   "source": [
    "## Problem\n",
    "\n",
    "Find longest common substring from given two strings. Note, here questionnis asking for substring not for subsequence. Substring means continuius letters in string, while subsequence means not necessary to be continuous.\n",
    "Example:\n",
    "\n",
    "str1 = \"abcde\"\n",
    "str2 = \"abfce\"\n",
    "\n",
    "output = 2"
   ]
  },
  {
   "cell_type": "markdown",
   "metadata": {},
   "source": [
    "#### This problem is simlar to LCS (longest commion subsequence) problem. Only variation here is that, substring should be continuous. If letters are same then will folow as it is there in LCS problem (1 + dp[i-1][j-1]) , but if not same, then will not look letters in subsequence way. If not match then value should be zero at that position. See the code variation in else part."
   ]
  },
  {
   "cell_type": "code",
   "execution_count": 12,
   "metadata": {},
   "outputs": [],
   "source": [
    "def lengthLongestCommonSubstring(str1, str2):\n",
    "    n = len(str1)\n",
    "    m = len(str2)\n",
    "    maxLength = 0\n",
    "    dp = [[0 for _ in range(m+1)] for _ in range(n+1)]\n",
    "    \n",
    "    for i in range(1, n+1):\n",
    "        for j in range(1, m+1):\n",
    "            if str1[i-1] == str2[j-1]:\n",
    "                dp[i][j] = 1 + dp[i-1][j-1]\n",
    "            else:\n",
    "                dp[i][j] = 0\n",
    "            maxLength = max(maxLength, dp[i][j])\n",
    "    return maxLength"
   ]
  },
  {
   "cell_type": "code",
   "execution_count": 13,
   "metadata": {},
   "outputs": [
    {
     "data": {
      "text/plain": [
       "2"
      ]
     },
     "execution_count": 13,
     "metadata": {},
     "output_type": "execute_result"
    }
   ],
   "source": [
    "str1 = \"abcde\" \n",
    "str2 = \"abfce\"\n",
    "lengthLongestCommonSubstring(str1, str2)"
   ]
  },
  {
   "cell_type": "code",
   "execution_count": null,
   "metadata": {},
   "outputs": [],
   "source": [
    "str1 = \"ws\" \n",
    "str2 = \"wssw\"\n",
    "lengthLongestCommonSubstring(str1, str2)"
   ]
  }
 ],
 "metadata": {
  "kernelspec": {
   "display_name": "Python 3",
   "language": "python",
   "name": "python3"
  },
  "language_info": {
   "codemirror_mode": {
    "name": "ipython",
    "version": 3
   },
   "file_extension": ".py",
   "mimetype": "text/x-python",
   "name": "python",
   "nbconvert_exporter": "python",
   "pygments_lexer": "ipython3",
   "version": "3.8.3"
  }
 },
 "nbformat": 4,
 "nbformat_minor": 4
}

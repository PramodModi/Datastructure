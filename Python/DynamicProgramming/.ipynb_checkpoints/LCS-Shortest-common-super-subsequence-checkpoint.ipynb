{
 "cells": [
  {
   "cell_type": "markdown",
   "metadata": {},
   "source": [
    "## Example\n",
    "\n",
    "Given two strings, return the length of shortest common super subsequence. Super subsequence of two strings means, you can find out both strings from super subsequence. As it is subsequence, so letters need not be continuous however, should be in sequence.\n",
    "\n",
    "Example:\n",
    "\n",
    "str1 = \"aggtab\"\n",
    "str2 = \"gxtxayb\"\n",
    "\n",
    "output: 9 //\"aggxtxayb\""
   ]
  },
  {
   "cell_type": "markdown",
   "metadata": {},
   "source": [
    "#### This is extension of LCS problem. To have both string obtained from super subsequence. We can simply add both strings and form super subsequence, but it would not be shortest, as size = n+m, where n and m are size of str1 and str2. This can be shortest, if common subsequence should not be repeated. Like, as shown in example: common subsequences are: g, t, a, b. shortest super subsequence are having only one time these subsequences. for exampl letter 'g' : out of 3 g, there is only 2 g in the shortest subsequences, and it is applicable for other letters as well. So we can get length of shortest super subsequence, by remove length of length of common subsequence from combined length of two strings. i.e. m+n-l , where m = length of str1, n = length of str2 and l = length of common subsequence."
   ]
  },
  {
   "cell_type": "code",
   "execution_count": 3,
   "metadata": {},
   "outputs": [],
   "source": [
    "def shortestCommonSuperSubsequence(str1, str2):\n",
    "    m = len(str1)\n",
    "    n = len(str2)\n",
    "    \n",
    "    # first calculate the length of common subsequences\n",
    "    l = lcs(str1, str2)\n",
    "    \n",
    "    return m+n-l\n",
    "\n",
    "def lcs(str1, str2):\n",
    "    m = len(str1)\n",
    "    n = len(str2)\n",
    "    \n",
    "    dp = [[0 for _ in range(n+1)] for _ in range(m+1)]\n",
    "    \n",
    "    for i in range(1, m+1):\n",
    "        for j in range(1, n+1):\n",
    "            if str1[i-1] == str2[j-1]:\n",
    "                dp[i][j] = 1+ dp[i-1][j-1]\n",
    "            else:\n",
    "                dp[i][j] = max(dp[i-1][j], dp[i][j-1])\n",
    "    \n",
    "    print(printShortesCommonSupersequence(dp, str1, str2))\n",
    "    return dp[-1][-1]\n",
    "\n",
    "def printShortesCommonSupersequence(dp, str1, str2):\n",
    "    m = len(dp) -1\n",
    "    n = len(dp[0]) - 1\n",
    "    \n",
    "    seq = []\n",
    "    while m > 0 and n > 0:\n",
    "        if dp[m][n] == dp[m][n -1]:\n",
    "            seq.append(str2[n-1])\n",
    "            n -= 1\n",
    "        elif dp[m][n] == dp[m-1][n]:\n",
    "            seq.append(str1[m-1])\n",
    "            m -= 1\n",
    "        else:\n",
    "            seq.append(str1[m-1])\n",
    "            m -= 1\n",
    "            n -= 1\n",
    "    while m > 0:\n",
    "        seq.append(str1[m-1])\n",
    "        m -= 1\n",
    "    while n > 0:\n",
    "        seq.append(str2[n-1])\n",
    "        n -= 1\n",
    "    return list(reversed(seq))\n"
   ]
  },
  {
   "cell_type": "code",
   "execution_count": 4,
   "metadata": {},
   "outputs": [
    {
     "name": "stdout",
     "output_type": "stream",
     "text": [
      "['a', 'g', 'x', 'x', 'y']\n"
     ]
    },
    {
     "data": {
      "text/plain": [
       "9"
      ]
     },
     "execution_count": 4,
     "metadata": {},
     "output_type": "execute_result"
    }
   ],
   "source": [
    "str1 = \"aggtab\"\n",
    "str2 = \"gxtxayb\"\n",
    "shortestCommonSuperSubsequence(str1, str2)"
   ]
  },
  {
   "cell_type": "code",
   "execution_count": null,
   "metadata": {},
   "outputs": [],
   "source": []
  }
 ],
 "metadata": {
  "kernelspec": {
   "display_name": "Python 3",
   "language": "python",
   "name": "python3"
  },
  "language_info": {
   "codemirror_mode": {
    "name": "ipython",
    "version": 3
   },
   "file_extension": ".py",
   "mimetype": "text/x-python",
   "name": "python",
   "nbconvert_exporter": "python",
   "pygments_lexer": "ipython3",
   "version": "3.8.3"
  }
 },
 "nbformat": 4,
 "nbformat_minor": 4
}

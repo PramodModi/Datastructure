{
 "cells": [
  {
   "cell_type": "markdown",
   "metadata": {},
   "source": [
    "## Leet code 740\n",
    "\n",
    "You are given an integer array nums. You want to maximize the number of points you get by performing the following operation any number of times:\n",
    "\n",
    "Pick any nums[i] and delete it to earn nums[i] points. Afterwards, you must delete every element equal to nums[i] - 1 and every element equal to nums[i] + 1.\n",
    "Return the maximum number of points you can earn by applying the above operation some number of times.\n",
    "\n",
    "Example 1:\n",
    "\n",
    "Input: nums = [3,4,2]\n",
    "\n",
    "Output: 6\n",
    "\n",
    "Explanation: You can perform the following operations:\n",
    "- Delete 4 to earn 4 points. Consequently, 3 is also deleted. nums = [2].\n",
    "- Delete 2 to earn 2 points. nums = [].\n",
    "\n",
    "You earn a total of 6 points.\n",
    "\n",
    "Example 2:\n",
    "\n",
    "Input: nums = [2,2,3,3,3,4]\n",
    "\n",
    "Output: 9\n",
    "\n",
    "Explanation: You can perform the following operations:\n",
    "- Delete a 3 to earn 3 points. All 2's and 4's are also deleted. nums = [3,3].\n",
    "- Delete a 3 again to earn 3 points. nums = [3].\n",
    "- Delete a 3 once more to earn 3 points. nums = [].\n",
    "\n",
    "You earn a total of 9 points.\n"
   ]
  },
  {
   "cell_type": "markdown",
   "metadata": {},
   "source": [
    "### This problem is similar to Houserobber. Here also, adjuscent numbers are not counted. Only difference is that, same number can be multiple times. So, count the same number, so point would be calculated by multiplying count with number."
   ]
  },
  {
   "cell_type": "markdown",
   "metadata": {},
   "source": [
    "## Top Down approach"
   ]
  },
  {
   "cell_type": "code",
   "execution_count": 35,
   "metadata": {},
   "outputs": [],
   "source": [
    "def deleteAndEarn(nums):\n",
    "    # Calculate count of unique numbers\n",
    "    \n",
    "    n = max(nums) + 1\n",
    "    counts = [0] * n\n",
    "    \n",
    "    for num in nums:\n",
    "        counts[num] = counts[num]+num\n",
    "    result = {}\n",
    "    dp(n-1, counts, result)\n",
    "    return result[n-1]\n",
    "\n",
    "def dp(n, counts, result):\n",
    "    if n == 0:\n",
    "        result[0] = counts[0]\n",
    "    elif n == 1:\n",
    "        result[1] = max(counts[0], counts[1])\n",
    "    elif n not in result:\n",
    "        result[n] = max(dp(n-1, counts, result), dp(n-2, counts, result) + counts[n])\n",
    "    return result[n]"
   ]
  },
  {
   "cell_type": "code",
   "execution_count": 40,
   "metadata": {},
   "outputs": [
    {
     "data": {
      "text/plain": [
       "9"
      ]
     },
     "execution_count": 40,
     "metadata": {},
     "output_type": "execute_result"
    }
   ],
   "source": [
    "nums = [2,2,3,3,3,4]\n",
    "deleteAndEarn(nums)"
   ]
  },
  {
   "cell_type": "code",
   "execution_count": 41,
   "metadata": {},
   "outputs": [
    {
     "data": {
      "text/plain": [
       "4"
      ]
     },
     "execution_count": 41,
     "metadata": {},
     "output_type": "execute_result"
    }
   ],
   "source": [
    "nums = [3,1]\n",
    "deleteAndEarn(nums)"
   ]
  },
  {
   "cell_type": "markdown",
   "metadata": {},
   "source": [
    "## Bottom Up Approach"
   ]
  },
  {
   "cell_type": "code",
   "execution_count": 37,
   "metadata": {},
   "outputs": [],
   "source": [
    "\n",
    "def deleteAndEarn1(nums):\n",
    "    # Calculate count of unique numbers\n",
    "    \n",
    "    n = max(nums) + 1\n",
    "    \n",
    "    counts = [0] * n\n",
    "    \n",
    "    for num in nums:\n",
    "        counts[num] = counts[num]+num\n",
    "        \n",
    "    if n ==1:\n",
    "        return counts[0]\n",
    "    \n",
    "    result = [0] * n\n",
    "    result[0] = counts[0]\n",
    "    result[1] = max(counts[0], counts[1])\n",
    "    \n",
    "    \n",
    "    for i  in range(2,n):\n",
    "        result[i] = max(result[i-1], result[i-2] + counts[i])\n",
    "    return result[-1]"
   ]
  },
  {
   "cell_type": "code",
   "execution_count": 38,
   "metadata": {},
   "outputs": [
    {
     "data": {
      "text/plain": [
       "9"
      ]
     },
     "execution_count": 38,
     "metadata": {},
     "output_type": "execute_result"
    }
   ],
   "source": [
    "nums = [2,2,3,3,3,4]\n",
    "deleteAndEarn1(nums)"
   ]
  },
  {
   "cell_type": "code",
   "execution_count": 39,
   "metadata": {},
   "outputs": [
    {
     "data": {
      "text/plain": [
       "4"
      ]
     },
     "execution_count": 39,
     "metadata": {},
     "output_type": "execute_result"
    }
   ],
   "source": [
    "nums = [3,1]\n",
    "deleteAndEarn1(nums)"
   ]
  },
  {
   "cell_type": "code",
   "execution_count": null,
   "metadata": {},
   "outputs": [],
   "source": []
  }
 ],
 "metadata": {
  "kernelspec": {
   "display_name": "Python 3",
   "language": "python",
   "name": "python3"
  },
  "language_info": {
   "codemirror_mode": {
    "name": "ipython",
    "version": 3
   },
   "file_extension": ".py",
   "mimetype": "text/x-python",
   "name": "python",
   "nbconvert_exporter": "python",
   "pygments_lexer": "ipython3",
   "version": "3.8.3"
  }
 },
 "nbformat": 4,
 "nbformat_minor": 4
}

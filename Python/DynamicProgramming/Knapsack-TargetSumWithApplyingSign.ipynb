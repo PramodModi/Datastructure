{
 "cells": [
  {
   "cell_type": "markdown",
   "metadata": {},
   "source": [
    "## Problem\n",
    "\n",
    "Given array and target sum. Apply sign (+ or -) before each number in array so that sum should be equal to gieven target.\n",
    "Return the number of such combinations.\n",
    "\n",
    "Example:\n",
    "\n",
    "array = [1,1,2,3]\n",
    "\n",
    "target = 1\n",
    "\n",
    "output = 3"
   ]
  },
  {
   "cell_type": "markdown",
   "metadata": {},
   "source": [
    "Basically, it is similar to target difference problem. Asusume all +ve numbers are in one subset (s1) and negative numbers are another subset (s2) and you need to have s1-s2 = diff (target)"
   ]
  },
  {
   "cell_type": "code",
   "execution_count": 10,
   "metadata": {},
   "outputs": [],
   "source": [
    "def countTargetSumWithApplyingSign(array, target):\n",
    "    n = len(array)\n",
    "    s = sum(array)\n",
    "    target = target+s\n",
    "    if target % 2 != 0:\n",
    "        return 0\n",
    "    target = target//2\n",
    "    \n",
    "    dp =[[0 for _ in range(target+1)] for _ in range(n+1)]\n",
    "    \n",
    "    for i in range(n+1):\n",
    "        dp[i][0] = 1\n",
    "    \n",
    "    for i in range(1, n+1):\n",
    "        for j in range(1, target+1):\n",
    "            if array[i-1]<=j:\n",
    "                dp[i][j] = dp[i-1][j - array[i-1]] + dp[i-1][j]\n",
    "            else:\n",
    "                dp[i][j] = dp[i-1][j]\n",
    "    return dp[-1][-1]"
   ]
  },
  {
   "cell_type": "code",
   "execution_count": 11,
   "metadata": {},
   "outputs": [
    {
     "data": {
      "text/plain": [
       "3"
      ]
     },
     "execution_count": 11,
     "metadata": {},
     "output_type": "execute_result"
    }
   ],
   "source": [
    "array = [1,1,2,3]\n",
    "target = 1\n",
    "countTargetSumWithApplyingSign(array, target)"
   ]
  },
  {
   "cell_type": "code",
   "execution_count": null,
   "metadata": {},
   "outputs": [],
   "source": []
  },
  {
   "cell_type": "code",
   "execution_count": null,
   "metadata": {},
   "outputs": [],
   "source": []
  }
 ],
 "metadata": {
  "kernelspec": {
   "display_name": "Python 3",
   "language": "python",
   "name": "python3"
  },
  "language_info": {
   "codemirror_mode": {
    "name": "ipython",
    "version": 3
   },
   "file_extension": ".py",
   "mimetype": "text/x-python",
   "name": "python",
   "nbconvert_exporter": "python",
   "pygments_lexer": "ipython3",
   "version": "3.8.3"
  }
 },
 "nbformat": 4,
 "nbformat_minor": 4
}

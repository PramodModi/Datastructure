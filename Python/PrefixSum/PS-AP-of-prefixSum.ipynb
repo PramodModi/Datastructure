{
 "cells": [
  {
   "cell_type": "markdown",
   "metadata": {},
   "source": [
    "## Problem\n",
    "You have to compute value of a given Arithmetic progression (AP) expression for range L to R for a given array.\n",
    "\n",
    "Expression: A[L] + A[L+1]*2 + A[L+2]*3 +...+A[R](R-L+1)\n",
    "\n",
    "Solution:\n",
    "Convert this expression in prefix sum way.\n",
    "expression = summation in range(L to R ) A[i](i-L+1) = summation in range(L to R ) A[i]*i + (1-L)summation in range(L to R ) A[i]\n",
    "\n",
    "Assume B[i] is array built from A[i] * i\n",
    "so expression would be summation in range(L to R ) B[i] + (1-L)summation in range(L to R ) A[i]\n",
    "\n",
    "Use prefix sum to find sum in a given range"
   ]
  },
  {
   "cell_type": "code",
   "execution_count": 4,
   "metadata": {},
   "outputs": [],
   "source": [
    "def APPrefixSum(nums, L,R):\n",
    "    # Create array B\n",
    "    numsB = [nums[i] * i for i in range(len(nums))]\n",
    "    \n",
    "    # Prefix of nums\n",
    "    for i in range(1, len(nums)):\n",
    "        nums[i] = nums[i-1] + nums[i]\n",
    "        \n",
    "    # Prefix of numsB\n",
    "    for i in range(1, len(numsB)):\n",
    "        numsB[i] = numsB[i-1] + numsB[i]\n",
    "        \n",
    "    a = nums[R] - (nums[L-1] if L > 0 else 0)\n",
    "    a  = (1-L) *a\n",
    "    \n",
    "    b = numsB[R] - (numsB[L-1] if L>0 else 0)\n",
    "    \n",
    "    return a +b\n",
    "    "
   ]
  },
  {
   "cell_type": "code",
   "execution_count": 5,
   "metadata": {},
   "outputs": [
    {
     "data": {
      "text/plain": [
       "20"
      ]
     },
     "execution_count": 5,
     "metadata": {},
     "output_type": "execute_result"
    }
   ],
   "source": [
    "nums = [3,2,9,4,1,-2]\n",
    "L = 2\n",
    "R = 4\n",
    "APPrefixSum(nums, L,R)"
   ]
  },
  {
   "cell_type": "code",
   "execution_count": null,
   "metadata": {},
   "outputs": [],
   "source": []
  }
 ],
 "metadata": {
  "kernelspec": {
   "display_name": "Python 3",
   "language": "python",
   "name": "python3"
  },
  "language_info": {
   "codemirror_mode": {
    "name": "ipython",
    "version": 3
   },
   "file_extension": ".py",
   "mimetype": "text/x-python",
   "name": "python",
   "nbconvert_exporter": "python",
   "pygments_lexer": "ipython3",
   "version": "3.8.3"
  }
 },
 "nbformat": 4,
 "nbformat_minor": 4
}

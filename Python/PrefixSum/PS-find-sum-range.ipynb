{
 "cells": [
  {
   "cell_type": "markdown",
   "metadata": {},
   "source": [
    "## Problem\n",
    "Given array of integer. Find the sum of given range for different queries.\n",
    "\n",
    "nums = [1,2,3,4,5]\n",
    "\n",
    "Query1:\n",
    "L = 1, R = 3\n",
    "output = 9\n",
    "\n",
    "Query2:\n",
    "L = 2, R = 4\n",
    "output = 12\n",
    "\n",
    "Query3:\n",
    "L = 0, R = 4\n",
    "output = 15"
   ]
  },
  {
   "cell_type": "code",
   "execution_count": 24,
   "metadata": {},
   "outputs": [],
   "source": [
    "# First create a prefix sum array O(N) time complexity\n",
    "# run each queries : O(1) time complexity\n",
    "def prefixSum(nums):\n",
    "    prefix_sum = [0] * len(nums)\n",
    "    prefix_sum[0] = nums[0]\n",
    "    for i in range(1, len(nums)):\n",
    "        prefix_sum[i] = prefix_sum[i-1] + nums[i]\n",
    "    return prefix_sum\n",
    "def queries(l,r, prefix_sum):\n",
    "    return prefix_sum[r] - (prefix_sum[l-1] if l > 0 else 0)"
   ]
  },
  {
   "cell_type": "code",
   "execution_count": 25,
   "metadata": {},
   "outputs": [],
   "source": [
    "nums = [1,2,3,4,5]\n",
    "ps = prefixSum(nums)\n"
   ]
  },
  {
   "cell_type": "code",
   "execution_count": 26,
   "metadata": {},
   "outputs": [
    {
     "data": {
      "text/plain": [
       "9"
      ]
     },
     "execution_count": 26,
     "metadata": {},
     "output_type": "execute_result"
    }
   ],
   "source": [
    "queries(1,3, ps)"
   ]
  },
  {
   "cell_type": "code",
   "execution_count": 27,
   "metadata": {},
   "outputs": [
    {
     "data": {
      "text/plain": [
       "15"
      ]
     },
     "execution_count": 27,
     "metadata": {},
     "output_type": "execute_result"
    }
   ],
   "source": [
    "queries(0,4, ps)"
   ]
  },
  {
   "cell_type": "code",
   "execution_count": 28,
   "metadata": {},
   "outputs": [
    {
     "data": {
      "text/plain": [
       "10"
      ]
     },
     "execution_count": 28,
     "metadata": {},
     "output_type": "execute_result"
    }
   ],
   "source": [
    "queries(0,3, ps)"
   ]
  },
  {
   "cell_type": "code",
   "execution_count": null,
   "metadata": {},
   "outputs": [],
   "source": []
  }
 ],
 "metadata": {
  "kernelspec": {
   "display_name": "Python 3",
   "language": "python",
   "name": "python3"
  },
  "language_info": {
   "codemirror_mode": {
    "name": "ipython",
    "version": 3
   },
   "file_extension": ".py",
   "mimetype": "text/x-python",
   "name": "python",
   "nbconvert_exporter": "python",
   "pygments_lexer": "ipython3",
   "version": "3.8.3"
  }
 },
 "nbformat": 4,
 "nbformat_minor": 4
}

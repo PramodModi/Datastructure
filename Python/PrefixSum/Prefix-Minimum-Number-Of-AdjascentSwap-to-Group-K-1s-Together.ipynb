{
 "cells": [
  {
   "cell_type": "markdown",
   "metadata": {},
   "source": [
    "## Problem LeetCode 1703\n",
    "\n",
    "You are given an integer array, nums, and an integer k. nums comprises of only 0's and 1's. In one move, you can choose two adjacent indices and swap their values.\n",
    "\n",
    "Return the minimum number of moves required so that nums has k consecutive 1's.\n",
    "\n",
    "Example 1:\n",
    "\n",
    "Input: nums = [1,0,0,1,0,1], k = 2\n",
    "Output: 1\n",
    "Explanation: In 1 move, nums could be [1,0,0,0,1,1] and have 2 consecutive 1's.\n",
    "Example 2:\n",
    "\n",
    "Input: nums = [1,0,0,0,0,0,1,1], k = 3\n",
    "Output: 5\n",
    "Explanation: In 5 moves, the leftmost 1 can be shifted right until nums = [0,0,0,0,0,1,1,1].\n",
    "Example 3:\n",
    "\n",
    "Input: nums = [1,1,0,1], k = 2\n",
    "Output: 0\n",
    "Explanation: nums already has 2 consecutive 1's."
   ]
  },
  {
   "cell_type": "code",
   "execution_count": null,
   "metadata": {},
   "outputs": [],
   "source": []
  }
 ],
 "metadata": {
  "kernelspec": {
   "display_name": "Python 3",
   "language": "python",
   "name": "python3"
  },
  "language_info": {
   "codemirror_mode": {
    "name": "ipython",
    "version": 3
   },
   "file_extension": ".py",
   "mimetype": "text/x-python",
   "name": "python",
   "nbconvert_exporter": "python",
   "pygments_lexer": "ipython3",
   "version": "3.8.3"
  }
 },
 "nbformat": 4,
 "nbformat_minor": 4
}

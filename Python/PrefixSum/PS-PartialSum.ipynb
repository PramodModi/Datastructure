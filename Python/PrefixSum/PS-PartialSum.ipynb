{
 "cells": [
  {
   "cell_type": "markdown",
   "metadata": {},
   "source": [
    "## Problem\n",
    "Create array of size N, having 0 at each index. Add X to each index in the range from L to R then return final array\n",
    "\n",
    "N = 5\n",
    "(4, 1,3) //add 5 in the range from 1 to 3\n",
    "\n",
    "output: []"
   ]
  },
  {
   "cell_type": "code",
   "execution_count": 14,
   "metadata": {},
   "outputs": [],
   "source": [
    "def partialSum(N, a,l,r):\n",
    "    nums = [0]*N\n",
    "    #Do partial sum\n",
    "    nums[l] += a\n",
    "    nums[r+1] -= a\n",
    "    \n",
    "    #Build prefix\n",
    "    for i in range(1,N):\n",
    "        nums[i] = nums[i-1] + nums[i]\n",
    "    \n",
    "    return nums"
   ]
  },
  {
   "cell_type": "code",
   "execution_count": 15,
   "metadata": {},
   "outputs": [
    {
     "data": {
      "text/plain": [
       "[0, 4, 4, 4, 0]"
      ]
     },
     "execution_count": 15,
     "metadata": {},
     "output_type": "execute_result"
    }
   ],
   "source": [
    "N = 5\n",
    "a= 4\n",
    "l =1\n",
    "r =3\n",
    "partialSum(N, a,l,r)"
   ]
  },
  {
   "cell_type": "code",
   "execution_count": null,
   "metadata": {},
   "outputs": [],
   "source": []
  }
 ],
 "metadata": {
  "kernelspec": {
   "display_name": "Python 3",
   "language": "python",
   "name": "python3"
  },
  "language_info": {
   "codemirror_mode": {
    "name": "ipython",
    "version": 3
   },
   "file_extension": ".py",
   "mimetype": "text/x-python",
   "name": "python",
   "nbconvert_exporter": "python",
   "pygments_lexer": "ipython3",
   "version": "3.8.3"
  }
 },
 "nbformat": 4,
 "nbformat_minor": 4
}

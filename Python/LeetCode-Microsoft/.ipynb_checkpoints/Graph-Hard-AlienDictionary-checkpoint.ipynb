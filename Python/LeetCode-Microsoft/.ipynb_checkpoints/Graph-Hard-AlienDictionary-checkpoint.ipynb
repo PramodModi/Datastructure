{
 "cells": [
  {
   "cell_type": "markdown",
   "metadata": {},
   "source": [
    "## 269: Alien Dictionary\n",
    "There is a new alien language which uses the latin alphabet. However, the order among letters are unknown to you. You are given a list of words from alien language dictionary, where strings in words are sorted lexicographically by the rules of this new language.\n",
    "Return string of the unique letters in the new alien language sorted in lexicographically increasing order by the rules of this new language. If there is no solution return \"\". If there are multiple solutions return any one.\n",
    "\n",
    "A string s is lexicographically smaller than a string t if at the first letter where they differ, the letter in s comes before letter in t in alien language. If the first min(s.length, t.length) letters are same then s si smaller if and only if s.length < t.length\n",
    "\n",
    "example:\n",
    "\n",
    "input : words = [\"wrt\", \"wrf\", \"er\", \"ett\", \"rftt\"]\n",
    "output: wertf"
   ]
  },
  {
   "cell_type": "code",
   "execution_count": 21,
   "metadata": {},
   "outputs": [],
   "source": [
    "def alienDictionary1(words):\n",
    "    edges = {l:set() for word in words for l in word}\n",
    "    for i in range(len(words)-1):\n",
    "        word1 = words[i]\n",
    "        word2 = words[i+1]\n",
    "        length = min(len(word1), len(word2))\n",
    "        if word1[:length] == word2[:length] and len(word1) > len(word2):\n",
    "            return \"\"\n",
    "        \n",
    "        for j in range(length):\n",
    "            if word1[j] != word2[j]:\n",
    "                edges[word1[j]].add(word2[j])\n",
    "    print(edges)\n",
    "    return topologicalSort(edges)\n",
    "\n",
    "def topologicalSort(edges):\n",
    "    visited = {}\n",
    "    result = []\n",
    "    for c in edges:\n",
    "        if dfs(c, visited, edges, result):\n",
    "            return \"\"\n",
    "    \n",
    "    return \"\".join(list(reversed(result)))\n",
    "\n",
    "def dfs(c, visited, edges, result):\n",
    "    if c in visited:\n",
    "        return visited[c]\n",
    "    visited[c] = True\n",
    "    \n",
    "    for n in edges[c]:\n",
    "        if dfs(n, visited, edges, result):\n",
    "            return True\n",
    "    visited[c] = False\n",
    "    result.append(c)\n",
    "        \n",
    "        "
   ]
  },
  {
   "cell_type": "code",
   "execution_count": 22,
   "metadata": {},
   "outputs": [
    {
     "name": "stdout",
     "output_type": "stream",
     "text": [
      "{'w': {'e'}, 'r': {'t'}, 't': {'f'}, 'f': set(), 'e': {'r'}}\n"
     ]
    },
    {
     "data": {
      "text/plain": [
       "'wertf'"
      ]
     },
     "execution_count": 22,
     "metadata": {},
     "output_type": "execute_result"
    }
   ],
   "source": [
    "words = [\"wrt\", \"wrf\", \"er\", \"ett\", \"rftt\"] \n",
    "alienDictionary1(words)"
   ]
  },
  {
   "cell_type": "code",
   "execution_count": null,
   "metadata": {},
   "outputs": [],
   "source": []
  }
 ],
 "metadata": {
  "kernelspec": {
   "display_name": "Python 3",
   "language": "python",
   "name": "python3"
  },
  "language_info": {
   "codemirror_mode": {
    "name": "ipython",
    "version": 3
   },
   "file_extension": ".py",
   "mimetype": "text/x-python",
   "name": "python",
   "nbconvert_exporter": "python",
   "pygments_lexer": "ipython3",
   "version": "3.8.3"
  }
 },
 "nbformat": 4,
 "nbformat_minor": 4
}

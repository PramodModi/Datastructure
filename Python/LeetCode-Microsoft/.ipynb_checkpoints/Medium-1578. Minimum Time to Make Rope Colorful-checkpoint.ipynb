{
 "cells": [
  {
   "attachments": {},
   "cell_type": "markdown",
   "metadata": {},
   "source": [
    "## Problem: 1578. Minimum Time to Make Rope Colorful\n",
    "\n",
    "https://leetcode.com/problems/minimum-time-to-make-rope-colorful/\n",
    "\n",
    "Alice has n balloons arranged on a rope. You are given a 0-indexed string colors where colors[i] is the color of the ith balloon.\n",
    "\n",
    "Alice wants the rope to be colorful. She does not want two consecutive balloons to be of the same color, so she asks Bob for help. Bob can remove some balloons from the rope to make it colorful. You are given a 0-indexed integer array neededTime where neededTime[i] is the time (in seconds) that Bob needs to remove the ith balloon from the rope.\n",
    "\n",
    "Return the minimum time Bob needs to make the rope colorful.\n",
    "\n",
    " \n",
    "\n",
    "Example 1:\n",
    "\n",
    "Look at the image at Leetcode for better understanding.\n",
    "\n",
    "Input: colors = \"abaac\", neededTime = [1,2,3,4,5]\n",
    "\n",
    "Output: 3\n",
    "\n",
    "Explanation: In the above image, 'a' is blue, 'b' is red, and 'c' is green.\n",
    "\n",
    "Bob can remove the blue balloon at index 2. This takes 3 seconds.\n",
    "There are no longer two consecutive balloons of the same color. Total time = 3.\n",
    "\n",
    "Example 2:\n",
    "\n",
    "Look at the image at Leetcode for better understanding.\n",
    "\n",
    "Input: colors = \"abc\", neededTime = [1,2,3]\n",
    "\n",
    "Output: 0\n",
    "\n",
    "Explanation: The rope is already colorful. Bob does not need to remove any balloons from the rope.\n",
    "\n",
    "Example 3:\n",
    "\n",
    "Look at the image at Leetcode for better understanding.\n",
    "\n",
    "Input: colors = \"aabaa\", neededTime = [1,2,3,4,1]\n",
    "\n",
    "Output: 2\n",
    "\n",
    "Explanation: Bob will remove the ballons at indices 0 and 4. Each ballon takes 1 second to remove.\n",
    "There are no longer two consecutive balloons of the same color. Total time = 1 + 1 = 2.\n",
    " \n",
    "\n",
    "Constraints:\n",
    "\n",
    "n == colors.length == neededTime.length\n",
    "\n",
    "1 <= n <= 105\n",
    "\n",
    "1 <= neededTime[i] <= 104\n",
    "\n",
    "colors contains only lowercase English letters."
   ]
  },
  {
   "cell_type": "code",
   "execution_count": 1,
   "metadata": {},
   "outputs": [],
   "source": [
    "def minCost(colors, neededTime):\n",
    "    totalTime = 0\n",
    "    if len(colors)<=1:\n",
    "        return 0\n",
    "    l = 0\n",
    "    r = 1\n",
    "    while r < len(colors):\n",
    "        if colors[l] == colors[r]:\n",
    "            if neededTime[l] < neededTime[r]:\n",
    "                totalTime += neededTime[l]\n",
    "                l += 1\n",
    "            else:\n",
    "                totalTime += neededTime[r]\n",
    "        else:\n",
    "            l += 1\n",
    "        r += 1\n",
    "    return totalTime\n",
    "\n",
    "            \n",
    "            "
   ]
  },
  {
   "cell_type": "code",
   "execution_count": 2,
   "metadata": {},
   "outputs": [
    {
     "data": {
      "text/plain": [
       "2"
      ]
     },
     "execution_count": 2,
     "metadata": {},
     "output_type": "execute_result"
    }
   ],
   "source": [
    "colors = \"aabaa\"\n",
    "neededTime = [1,2,3,4,1]\n",
    "minCost(colors, neededTime)"
   ]
  },
  {
   "cell_type": "code",
   "execution_count": 3,
   "metadata": {},
   "outputs": [
    {
     "data": {
      "text/plain": [
       "3"
      ]
     },
     "execution_count": 3,
     "metadata": {},
     "output_type": "execute_result"
    }
   ],
   "source": [
    "colors = \"abaac\"\n",
    "neededTime = [1,2,3,4,5]\n",
    "minCost(colors, neededTime)"
   ]
  },
  {
   "cell_type": "code",
   "execution_count": null,
   "metadata": {},
   "outputs": [],
   "source": []
  }
 ],
 "metadata": {
  "kernelspec": {
   "display_name": "Python 3",
   "language": "python",
   "name": "python3"
  },
  "language_info": {
   "codemirror_mode": {
    "name": "ipython",
    "version": 3
   },
   "file_extension": ".py",
   "mimetype": "text/x-python",
   "name": "python",
   "nbconvert_exporter": "python",
   "pygments_lexer": "ipython3",
   "version": "3.8.3"
  }
 },
 "nbformat": 4,
 "nbformat_minor": 4
}

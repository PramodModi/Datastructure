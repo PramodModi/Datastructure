{
 "cells": [
  {
   "cell_type": "markdown",
   "metadata": {},
   "source": [
    "## Problem: 1822. Sign of the Product of an Array\n",
    "\n",
    "https://leetcode.com/problems/sign-of-the-product-of-an-array/description/\n",
    "\n",
    "There is a function signFunc(x) that returns:\n",
    "\n",
    "1 if x is positive.\n",
    "\n",
    "-1 if x is negative.\n",
    "\n",
    "0 if x is equal to 0.\n",
    "\n",
    "You are given an integer array nums. Let product be the product of all values in the array nums.\n",
    "\n",
    "Return signFunc(product).\n",
    "\n",
    " \n",
    "\n",
    "Example 1:\n",
    "\n",
    "Input: nums = [-1,-2,-3,-4,3,2,1]\n",
    "\n",
    "Output: 1\n",
    "\n",
    "Explanation: The product of all values in the array is 144, and signFunc(144) = 1\n",
    "\n",
    "Example 2:\n",
    "\n",
    "Input: nums = [1,5,0,2,-3]\n",
    "\n",
    "Output: 0\n",
    "\n",
    "Explanation: The product of all values in the array is 0, and signFunc(0) = 0\n",
    "\n",
    "Example 3:\n",
    "\n",
    "Input: nums = [-1,1,-1,1,-1]\n",
    "\n",
    "Output: -1\n",
    "\n",
    "Explanation: The product of all values in the array is -1, and signFunc(-1) = -1\n",
    " \n",
    "\n",
    "Constraints:\n",
    "\n",
    "1 <= nums.length <= 1000\n",
    "\n",
    "-100 <= nums[i] <= 100"
   ]
  },
  {
   "cell_type": "code",
   "execution_count": 1,
   "metadata": {},
   "outputs": [],
   "source": [
    "def arraySign(nums):\n",
    "    value = 1\n",
    "    for num in nums:\n",
    "        if num == 0:\n",
    "            return 0\n",
    "        if num < 0:\n",
    "            value = -value\n",
    "\n",
    "    return value"
   ]
  },
  {
   "cell_type": "code",
   "execution_count": 2,
   "metadata": {},
   "outputs": [
    {
     "data": {
      "text/plain": [
       "1"
      ]
     },
     "execution_count": 2,
     "metadata": {},
     "output_type": "execute_result"
    }
   ],
   "source": [
    "nums = [-1,-2,-3,-4,3,2,1]\n",
    "arraySign(nums)"
   ]
  },
  {
   "cell_type": "code",
   "execution_count": 3,
   "metadata": {},
   "outputs": [
    {
     "data": {
      "text/plain": [
       "0"
      ]
     },
     "execution_count": 3,
     "metadata": {},
     "output_type": "execute_result"
    }
   ],
   "source": [
    "nums = [1,5,0,2,-3]\n",
    "arraySign(nums)"
   ]
  },
  {
   "cell_type": "code",
   "execution_count": 4,
   "metadata": {},
   "outputs": [
    {
     "data": {
      "text/plain": [
       "-1"
      ]
     },
     "execution_count": 4,
     "metadata": {},
     "output_type": "execute_result"
    }
   ],
   "source": [
    "nums = [-1,1,-1,1,-1]\n",
    "arraySign(nums)"
   ]
  },
  {
   "cell_type": "code",
   "execution_count": null,
   "metadata": {},
   "outputs": [],
   "source": []
  }
 ],
 "metadata": {
  "kernelspec": {
   "display_name": "Python 3",
   "language": "python",
   "name": "python3"
  },
  "language_info": {
   "codemirror_mode": {
    "name": "ipython",
    "version": 3
   },
   "file_extension": ".py",
   "mimetype": "text/x-python",
   "name": "python",
   "nbconvert_exporter": "python",
   "pygments_lexer": "ipython3",
   "version": "3.8.3"
  }
 },
 "nbformat": 4,
 "nbformat_minor": 4
}

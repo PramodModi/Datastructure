{
 "cells": [
  {
   "cell_type": "markdown",
   "metadata": {},
   "source": [
    "## Problem: 1405. Longest Happy String\n",
    "\n",
    "https://leetcode.com/problems/longest-happy-string/\n",
    "\n",
    "A string s is called happy if it satisfies the following conditions:\n",
    "\n",
    "s only contains the letters 'a', 'b', and 'c'.\n",
    "\n",
    "s does not contain any of \"aaa\", \"bbb\", or \"ccc\" as a substring.\n",
    "\n",
    "s contains at most a occurrences of the letter 'a'.\n",
    "\n",
    "s contains at most b occurrences of the letter 'b'.\n",
    "\n",
    "s contains at most c occurrences of the letter 'c'.\n",
    "\n",
    "Given three integers a, b, and c, return the longest possible happy string. If there are multiple longest happy strings, return any of them. If there is no such string, return the empty string \"\".\n",
    "\n",
    "A substring is a contiguous sequence of characters within a string.\n",
    "\n",
    " \n",
    "\n",
    "Example 1:\n",
    "\n",
    "Input: a = 1, b = 1, c = 7\n",
    "\n",
    "Output: \"ccaccbcc\"\n",
    "\n",
    "Explanation: \"ccbccacc\" would also be a correct answer.\n",
    "\n",
    "Example 2:\n",
    "\n",
    "Input: a = 7, b = 1, c = 0\n",
    "\n",
    "Output: \"aabaa\"\n",
    "\n",
    "Explanation: It is the only correct answer in this case.\n",
    " \n",
    "\n",
    "Constraints:\n",
    "\n",
    "0 <= a, b, c <= 100\n",
    "\n",
    "a + b + c > 0"
   ]
  },
  {
   "cell_type": "code",
   "execution_count": null,
   "metadata": {},
   "outputs": [],
   "source": [
    "def longestDiverseString(a, b, c):\n",
    "        tamp = {}\n",
    "        temp[\"a\"] = a\n",
    "        temp[\"b\"] = b\n",
    "        temp[\"c\"] = c"
   ]
  }
 ],
 "metadata": {
  "kernelspec": {
   "display_name": "Python 3",
   "language": "python",
   "name": "python3"
  },
  "language_info": {
   "codemirror_mode": {
    "name": "ipython",
    "version": 3
   },
   "file_extension": ".py",
   "mimetype": "text/x-python",
   "name": "python",
   "nbconvert_exporter": "python",
   "pygments_lexer": "ipython3",
   "version": "3.8.3"
  }
 },
 "nbformat": 4,
 "nbformat_minor": 4
}

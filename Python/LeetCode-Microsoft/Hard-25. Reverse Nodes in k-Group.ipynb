{
 "cells": [
  {
   "cell_type": "markdown",
   "metadata": {},
   "source": [
    "## Problem: 25. Reverse Nodes in k-Group\n",
    "https://leetcode.com/problems/reverse-nodes-in-k-group/description/\n",
    "\n",
    "Given the head of a linked list, reverse the nodes of the list k at a time, and return the modified list.\n",
    "\n",
    "k is a positive integer and is less than or equal to the length of the linked list. If the number of nodes is not a multiple of k then left-out nodes, in the end, should remain as it is.\n",
    "\n",
    "You may not alter the values in the list's nodes, only nodes themselves may be changed.\n",
    "\n",
    " \n",
    "\n",
    "Example 1:\n",
    "\n",
    "Look at the image for better understanding.\n",
    "\n",
    "Input: head = [1,2,3,4,5], k = 2\n",
    "\n",
    "Output: [2,1,4,3,5]\n",
    "\n",
    "Example 2:\n",
    "\n",
    "\n",
    "Input: head = [1,2,3,4,5], k = 3\n",
    "\n",
    "Output: [3,2,1,4,5]\n",
    " \n",
    "\n",
    "Constraints:\n",
    "\n",
    "The number of nodes in the list is n.\n",
    "\n",
    "1 <= k <= n <= 5000\n",
    "\n",
    "0 <= Node.val <= 1000\n"
   ]
  },
  {
   "cell_type": "code",
   "execution_count": null,
   "metadata": {},
   "outputs": [],
   "source": [
    "reverseKGroup(head, k):\n",
    "    "
   ]
  }
 ],
 "metadata": {
  "kernelspec": {
   "display_name": "Python 3",
   "language": "python",
   "name": "python3"
  },
  "language_info": {
   "codemirror_mode": {
    "name": "ipython",
    "version": 3
   },
   "file_extension": ".py",
   "mimetype": "text/x-python",
   "name": "python",
   "nbconvert_exporter": "python",
   "pygments_lexer": "ipython3",
   "version": "3.8.3"
  }
 },
 "nbformat": 4,
 "nbformat_minor": 4
}

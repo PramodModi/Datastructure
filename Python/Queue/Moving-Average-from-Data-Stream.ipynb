{
 "cells": [
  {
   "cell_type": "markdown",
   "id": "7fed4629-2f4b-4e6b-9fc6-30d51e412226",
   "metadata": {},
   "source": [
    "## Problem: Moving Average from Data Stream\n",
    "LeetCode: 346\n",
    "\n",
    "we are required to calculate the moving average of a stream of integers with a specified window size. The moving average is simply the average of the most recent size numbers in the stream; as a new number comes in, the oldest number in the window gets removed.\n",
    "\n",
    "Example:\n",
    "\n",
    "    MovingAverage m = new MovingAverage(3);\n",
    "    m.next(1) = 1\n",
    "    m.next(10) = (1 + 10) / 2\n",
    "    m.next(3) = (1 + 10 + 3) / 3\n",
    "    m.next(5) = (10 + 3 + 5) / 3"
   ]
  },
  {
   "cell_type": "code",
   "execution_count": 4,
   "id": "cefc9b21-8d3f-4123-98c3-3f90891db6c2",
   "metadata": {},
   "outputs": [],
   "source": [
    "from collections import deque\n",
    "class MovingAverage:\n",
    "    def __init__(self, size):\n",
    "        self.q = deque()\n",
    "        self.size = size\n",
    "        self.sum = 0\n",
    "    def next(self, val):\n",
    "        self.sum += val\n",
    "        if len(self.q) == self.size:\n",
    "            self.sum -= self.q.popleft()\n",
    "        self.q.append(val)\n",
    "        return self.sum/len(self.q)"
   ]
  },
  {
   "cell_type": "code",
   "execution_count": 6,
   "id": "5c7f372c-0e18-4855-8756-e16881364b94",
   "metadata": {},
   "outputs": [
    {
     "name": "stdout",
     "output_type": "stream",
     "text": [
      "1.0\n",
      "5.5\n",
      "4.666666666666667\n",
      "6.0\n"
     ]
    }
   ],
   "source": [
    "m = MovingAverage(3)\n",
    "print(m.next(1))\n",
    "print(m.next(10))\n",
    "print(m.next(3))\n",
    "print(m.next(5))\n"
   ]
  },
  {
   "cell_type": "code",
   "execution_count": null,
   "id": "b4eefe8a-e610-4b8b-9718-2f502838d01b",
   "metadata": {},
   "outputs": [],
   "source": []
  }
 ],
 "metadata": {
  "kernelspec": {
   "display_name": "Python 3 (ipykernel)",
   "language": "python",
   "name": "python3"
  },
  "language_info": {
   "codemirror_mode": {
    "name": "ipython",
    "version": 3
   },
   "file_extension": ".py",
   "mimetype": "text/x-python",
   "name": "python",
   "nbconvert_exporter": "python",
   "pygments_lexer": "ipython3",
   "version": "3.12.7"
  }
 },
 "nbformat": 4,
 "nbformat_minor": 5
}

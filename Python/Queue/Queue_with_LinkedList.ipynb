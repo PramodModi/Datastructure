{
 "cells": [
  {
   "cell_type": "code",
   "execution_count": 1,
   "metadata": {},
   "outputs": [],
   "source": [
    "# Create an exception class\n",
    "class Empty(Exception):\n",
    "    pass"
   ]
  },
  {
   "cell_type": "code",
   "execution_count": 8,
   "metadata": {},
   "outputs": [],
   "source": [
    "class Queue:\n",
    "    #create node class for linkedlist\n",
    "    class Node:\n",
    "        # use slots for faster attribute access and reduced memory consumption\n",
    "        __slots__ = '_data', '_next'\n",
    "        \n",
    "        def __init__(self, e, address):\n",
    "            self._data = e\n",
    "            self._next = address\n",
    "    \n",
    "    def __init__(self):\n",
    "        self._head = None\n",
    "        self._tail = None\n",
    "        self._size = 0\n",
    "        \n",
    "    \n",
    "    def isEmpty(self):\n",
    "        return self._size == 0\n",
    "    \n",
    "    def enqueue(self, e):\n",
    "        newNode = self.Node(e, None)\n",
    "        if self.isEmpty():\n",
    "            self._head = newNode\n",
    "        else:\n",
    "            self._tail._next = newNode\n",
    "            \n",
    "        self._tail = newNode\n",
    "        \n",
    "        self._size += 1\n",
    "        \n",
    "    def dequeue(self):\n",
    "        if self.isEmpty():\n",
    "            raise Empty(\"Queue is empty\")\n",
    "        \n",
    "        e = self._head._data\n",
    "        self._head = self._head._next\n",
    "        self._size -= 1\n",
    "        if self.isEmpty():\n",
    "            self._tail = None\n",
    "        return e\n",
    "        \n",
    "    def first(self):\n",
    "        if self.isEmpty():\n",
    "            raise Empty(\"Queue is empty\")\n",
    "        return self._head._data\n",
    "    \n",
    "    def size(self):\n",
    "        return self._size\n",
    "    \n",
    "    def printList(self):\n",
    "        temp = self._head\n",
    "        while temp:\n",
    "            print(temp._data, end=\"\\t\")\n",
    "            temp = temp._next\n",
    "    \n",
    "        "
   ]
  },
  {
   "cell_type": "code",
   "execution_count": 9,
   "metadata": {},
   "outputs": [
    {
     "name": "stdout",
     "output_type": "stream",
     "text": [
      "Size of Queue : 7\n",
      "first element : 1\n",
      "Dequeue :  1\n",
      "Size of Queue : 6\n"
     ]
    }
   ],
   "source": [
    "Q = Queue()\n",
    "Q.enqueue(1)\n",
    "Q.enqueue(2)\n",
    "Q.enqueue(3)\n",
    "Q.enqueue(4)\n",
    "Q.enqueue(5)\n",
    "Q.enqueue(6)\n",
    "Q.enqueue(7)\n",
    "print(\"Size of Queue :\", Q.size())\n",
    "print(\"first element :\", Q.first())\n",
    "print(\"Dequeue : \", Q.dequeue())\n",
    "print(\"Size of Queue :\", Q.size())"
   ]
  },
  {
   "cell_type": "code",
   "execution_count": null,
   "metadata": {},
   "outputs": [],
   "source": []
  }
 ],
 "metadata": {
  "kernelspec": {
   "display_name": "Python 3",
   "language": "python",
   "name": "python3"
  },
  "language_info": {
   "codemirror_mode": {
    "name": "ipython",
    "version": 3
   },
   "file_extension": ".py",
   "mimetype": "text/x-python",
   "name": "python",
   "nbconvert_exporter": "python",
   "pygments_lexer": "ipython3",
   "version": "3.8.3"
  }
 },
 "nbformat": 4,
 "nbformat_minor": 4
}

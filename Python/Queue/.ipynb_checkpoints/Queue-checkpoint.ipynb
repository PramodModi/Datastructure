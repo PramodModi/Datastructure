{
 "cells": [
  {
   "cell_type": "code",
   "execution_count": 1,
   "metadata": {},
   "outputs": [],
   "source": [
    "# Create an exception class\n",
    "class Empty(Exception):\n",
    "    pass"
   ]
  },
  {
   "cell_type": "code",
   "execution_count": 6,
   "metadata": {},
   "outputs": [],
   "source": [
    "class Queue:\n",
    "    def __init__(self):\n",
    "        self._data = []\n",
    "        self._size = 0\n",
    "    \n",
    "    def isEmpty(self):\n",
    "        return self._size == 0\n",
    "    \n",
    "    def enqueue (self, e):\n",
    "        self._data.insert(0, e)\n",
    "        self._size += 1\n",
    "        \n",
    "    def dequeue (self):\n",
    "        if self.isEmpty():\n",
    "            raise Empty (\"Queue is empty\")\n",
    "        e = self._data.pop()\n",
    "        self._size -= 1\n",
    "        return e\n",
    "    \n",
    "    def first (self):\n",
    "        if self.isEmpty():\n",
    "            raise Empty(\"Queue is empty\")\n",
    "        return self._data[-1]\n",
    "    \n",
    "    def size (self):\n",
    "        return self._size\n",
    "    "
   ]
  },
  {
   "cell_type": "code",
   "execution_count": 7,
   "metadata": {},
   "outputs": [
    {
     "name": "stdout",
     "output_type": "stream",
     "text": [
      "Size of Queue : 7\n",
      "first element : 1\n",
      "Dequeue :  1\n",
      "Size of Queue : 6\n"
     ]
    }
   ],
   "source": [
    "Q = Queue()\n",
    "Q.enqueue(1)\n",
    "Q.enqueue(2)\n",
    "Q.enqueue(3)\n",
    "Q.enqueue(4)\n",
    "Q.enqueue(5)\n",
    "Q.enqueue(6)\n",
    "Q.enqueue(7)\n",
    "print(\"Size of Queue :\", Q.size())\n",
    "print(\"first element :\", Q.first())\n",
    "print(\"Dequeue : \", Q.dequeue())\n",
    "print(\"Size of Queue :\", Q.size())\n"
   ]
  },
  {
   "cell_type": "code",
   "execution_count": 8,
   "metadata": {},
   "outputs": [
    {
     "name": "stdout",
     "output_type": "stream",
     "text": [
      "Queue empty error :  Queue is empty\n"
     ]
    }
   ],
   "source": [
    "# Check for empty. It will raise an exception\n",
    "Q1 = Queue()\n",
    "try:\n",
    "    Q1.first()\n",
    "except Empty as e:\n",
    "    print(\"Queue empty error : \", e)"
   ]
  },
  {
   "cell_type": "code",
   "execution_count": null,
   "metadata": {},
   "outputs": [],
   "source": []
  }
 ],
 "metadata": {
  "kernelspec": {
   "display_name": "Python 3",
   "language": "python",
   "name": "python3"
  },
  "language_info": {
   "codemirror_mode": {
    "name": "ipython",
    "version": 3
   },
   "file_extension": ".py",
   "mimetype": "text/x-python",
   "name": "python",
   "nbconvert_exporter": "python",
   "pygments_lexer": "ipython3",
   "version": "3.8.3"
  }
 },
 "nbformat": 4,
 "nbformat_minor": 4
}

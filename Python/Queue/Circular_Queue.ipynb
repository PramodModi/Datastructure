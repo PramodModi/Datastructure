{
 "cells": [
  {
   "cell_type": "code",
   "execution_count": 5,
   "metadata": {},
   "outputs": [],
   "source": [
    "# Create an exception class\n",
    "class Empty(Exception):\n",
    "    pass"
   ]
  },
  {
   "cell_type": "code",
   "execution_count": 15,
   "metadata": {},
   "outputs": [],
   "source": [
    "# Dynamic circular Queue. Length of Queue will be doubled when it is exhausted\n",
    "class Queue:\n",
    "    DEFAULT_SIZE = 10\n",
    "    def __init__(self):\n",
    "        self._data = [None]*Queue.DEFAULT_SIZE\n",
    "        self._size = 0\n",
    "        self._front = 0 #Keep track of front element\n",
    "    \n",
    "    def isEmpty(self):\n",
    "        return self._size == 0\n",
    "    \n",
    "    #Resize the Queue, based on given capacity. \n",
    "    #This method will be called once Queue is consumed all initialized size.   \n",
    "    def resize(self, capacity):\n",
    "        # Backup of all data in queue\n",
    "        old = self._data\n",
    "        \n",
    "        # define queue with new capacity\n",
    "        self._data = [None]* capacity\n",
    "        \n",
    "        # Copy data from backup into the new list. \n",
    "        w = self._front\n",
    "        for k in range(self._size):\n",
    "            self._data[k] = old[w]\n",
    "            w = (w + 1)% len(old)\n",
    "        \n",
    "    # Enqueue function. If size of Queue is exhusted, then increase the capacity of list by 2 times\n",
    "    def enqueue(self, e):\n",
    "        # Increase the capacity of list if Queue size is equal to Capacity of List\n",
    "        if self._size == len(self._data):\n",
    "            self.resize(2*self._size)\n",
    "        # Find the position to add the element.\n",
    "        pos = (self._front + self._size)%len(self._data)\n",
    "        self._data[pos]= e\n",
    "        self._size += 1\n",
    "            \n",
    "    # Dequeue function. Remove the element from list at front position.\n",
    "    # increase the front position and decrease the size of queue\n",
    "    def dequeue(self):\n",
    "        if self.isEmpty():\n",
    "            raise Empty(\"Queue is empty\")\n",
    "        e = self._data[self._front]\n",
    "        self._data[self._front] = None\n",
    "        self._front += 1\n",
    "        self._size -= 1\n",
    "        return e\n",
    "    \n",
    "    # Return the first element. Do not remove the element\n",
    "    def first(self):\n",
    "        if self.isEmpty():\n",
    "            raise Empty(\"Queue is Empty\")\n",
    "        return self._data[self._front]\n",
    "    \n",
    "    # Return size of the queue\n",
    "    def size(self):\n",
    "        return self._size\n",
    "        "
   ]
  },
  {
   "cell_type": "code",
   "execution_count": 16,
   "metadata": {},
   "outputs": [
    {
     "name": "stdout",
     "output_type": "stream",
     "text": [
      "Size of Queue : 7\n",
      "first element : 1\n",
      "Dequeue :  1\n",
      "Size of Queue : 6\n"
     ]
    }
   ],
   "source": [
    "Q = Queue()\n",
    "Q.enqueue(1)\n",
    "Q.enqueue(2)\n",
    "Q.enqueue(3)\n",
    "Q.enqueue(4)\n",
    "Q.enqueue(5)\n",
    "Q.enqueue(6)\n",
    "Q.enqueue(7)\n",
    "print(\"Size of Queue :\", Q.size())\n",
    "print(\"first element :\", Q.first())\n",
    "print(\"Dequeue : \", Q.dequeue())\n",
    "print(\"Size of Queue :\", Q.size())"
   ]
  },
  {
   "cell_type": "code",
   "execution_count": null,
   "metadata": {},
   "outputs": [],
   "source": [
    "# Check for empty. It will raise an exception\n",
    "Q1 = Queue()\n",
    "try:\n",
    "    Q1.first()\n",
    "except Empty as e:\n",
    "    print(\"Queue empty error : \", e)"
   ]
  }
 ],
 "metadata": {
  "kernelspec": {
   "display_name": "Python 3",
   "language": "python",
   "name": "python3"
  },
  "language_info": {
   "codemirror_mode": {
    "name": "ipython",
    "version": 3
   },
   "file_extension": ".py",
   "mimetype": "text/x-python",
   "name": "python",
   "nbconvert_exporter": "python",
   "pygments_lexer": "ipython3",
   "version": "3.8.3"
  }
 },
 "nbformat": 4,
 "nbformat_minor": 4
}

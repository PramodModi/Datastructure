{
 "cells": [
  {
   "cell_type": "markdown",
   "metadata": {},
   "source": [
    "## Problem: 543. Diameter of Binary Tree\n",
    "https://leetcode.com/problems/diameter-of-binary-tree/?envType=study-plan&id=level-2\n",
    "\n",
    "Given the root of a binary tree, return the length of the diameter of the tree.\n",
    "\n",
    "The diameter of a binary tree is the length of the longest path between any two nodes in a tree. This path may or may not pass through the root.\n",
    "\n",
    "The length of a path between two nodes is represented by the number of edges between them.\n",
    "\n",
    " \n",
    "\n",
    "Example 1:\n",
    "\n",
    "\n",
    "Input: root = [1,2,3,4,5]\n",
    "\n",
    "Output: 3\n",
    "\n",
    "Explanation: 3 is the length of the path [4,2,1,3] or [5,2,1,3].\n",
    "\n",
    "Example 2:\n",
    "\n",
    "Input: root = [1,2]\n",
    "\n",
    "Output: 1\n",
    " \n",
    "\n",
    "Constraints:\n",
    "\n",
    "The number of nodes in the tree is in the range [1, 104].\n",
    "\n",
    "-100 <= Node.val <= 100"
   ]
  },
  {
   "cell_type": "code",
   "execution_count": 1,
   "metadata": {},
   "outputs": [],
   "source": [
    "# Definition for a binary tree node.\n",
    "# class TreeNode(object):\n",
    "#     def __init__(self, val=0, left=None, right=None):\n",
    "#         self.val = val\n",
    "#         self.left = left\n",
    "#         self.right = right\n",
    "\n",
    "class TreeInfo:\n",
    "    def __init__(self, height, diameter):\n",
    "        self.height = height\n",
    "        self.diameter = diameter\n",
    "def diameterOfBinaryTree(root):\n",
    "    treeInfo =  getDiameter(root)\n",
    "    return treeInfo.diameter\n",
    "\n",
    "def getDiameter(root):\n",
    "    if root is None:\n",
    "        return TreeInfo(0, 0)\n",
    "    \n",
    "    leftTreeInfo = getDiameter(root.left)\n",
    "    rightTreeInfo = getDiameter(root.right)\n",
    "    longestDiameter = max(leftTreeInfo.diameter, rightTreeInfo.diameter)\n",
    "    longPath = leftTreeInfo.height + rightTreeInfo.height\n",
    "    diameter = max(longestDiameter, longPath)\n",
    "    height = 1 + max(leftTreeInfo.height, rightTreeInfo.height)\n",
    "    return TreeInfo(height, diameter)"
   ]
  },
  {
   "cell_type": "code",
   "execution_count": null,
   "metadata": {},
   "outputs": [],
   "source": []
  }
 ],
 "metadata": {
  "kernelspec": {
   "display_name": "Python 3",
   "language": "python",
   "name": "python3"
  },
  "language_info": {
   "codemirror_mode": {
    "name": "ipython",
    "version": 3
   },
   "file_extension": ".py",
   "mimetype": "text/x-python",
   "name": "python",
   "nbconvert_exporter": "python",
   "pygments_lexer": "ipython3",
   "version": "3.8.3"
  }
 },
 "nbformat": 4,
 "nbformat_minor": 4
}

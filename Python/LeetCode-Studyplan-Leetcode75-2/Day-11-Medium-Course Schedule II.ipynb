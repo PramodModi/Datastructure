{
 "cells": [
  {
   "cell_type": "markdown",
   "metadata": {},
   "source": [
    "## Problems: 210. Course Schedule II\n",
    "https://leetcode.com/problems/course-schedule-ii/?envType=study-plan&id=level-2\n",
    "\n",
    "There are a total of numCourses courses you have to take, labeled from 0 to numCourses - 1. You are given an array prerequisites where prerequisites[i] = [ai, bi] indicates that you must take course bi first if you want to take course ai.\n",
    "\n",
    "For example, the pair [0, 1], indicates that to take course 0 you have to first take course 1.\n",
    "Return the ordering of courses you should take to finish all courses. If there are many valid answers, return any of them. If it is impossible to finish all courses, return an empty array.\n",
    "\n",
    " \n",
    "\n",
    "Example 1:\n",
    "\n",
    "Input: numCourses = 2, prerequisites = [[1,0]]\n",
    "\n",
    "Output: [0,1]\n",
    "\n",
    "Explanation: There are a total of 2 courses to take. To take course 1 you should have finished course 0. So the correct course order is [0,1].\n",
    "\n",
    "Example 2:\n",
    "\n",
    "Input: numCourses = 4, prerequisites = [[1,0],[2,0],[3,1],[3,2]]\n",
    "\n",
    "Output: [0,2,1,3]\n",
    "\n",
    "Explanation: There are a total of 4 courses to take. To take course 3 you should have finished both courses 1 and \n",
    "\n",
    "2. Both courses 1 and 2 should be taken after you finished course 0.\n",
    "So one correct course order is [0,1,2,3]. Another correct ordering is [0,2,1,3].\n",
    "\n",
    "Example 3:\n",
    "\n",
    "Input: numCourses = 1, prerequisites = []\n",
    "\n",
    "Output: [0]\n",
    " \n",
    "\n",
    "Constraints:\n",
    "\n",
    "1 <= numCourses <= 2000\n",
    "\n",
    "0 <= prerequisites.length <= numCourses * (numCourses - 1)\n",
    "\n",
    "prerequisites[i].length == 2\n",
    "\n",
    "0 <= ai, bi < numCourses\n",
    "\n",
    "ai != bi\n",
    "\n",
    "All the pairs [ai, bi] are distinct."
   ]
  },
  {
   "cell_type": "code",
   "execution_count": 15,
   "metadata": {},
   "outputs": [],
   "source": [
    "# Solution 1: BFS. Check for indegree, if it is zero put in the queue.\n",
    "# O(N+E)\n",
    "from collections import deque\n",
    "def findOrder(numCourses, prerequisites):\n",
    "    indegree = [0] * numCourses\n",
    "    graph = {i:[] for i in range(numCourses)}\n",
    "    \n",
    "    for i,j in prerequisites:\n",
    "        graph[j].append(i)\n",
    "        indegree[i]+=1\n",
    "    q = deque()\n",
    "    \n",
    "    for i, n in enumerate(indegree):\n",
    "        if n == 0:\n",
    "            q.append(i)\n",
    "    result = []\n",
    "    while q:\n",
    "        course = q.popleft()\n",
    "        result.append(course)\n",
    "        \n",
    "        for c in graph[course]:\n",
    "            indegree[c] -= 1\n",
    "            if indegree[c] == 0:\n",
    "                q.append(c)\n",
    "    return result if len(result) == numCourses else []\n",
    "        \n",
    "    "
   ]
  },
  {
   "cell_type": "code",
   "execution_count": 16,
   "metadata": {},
   "outputs": [
    {
     "data": {
      "text/plain": [
       "[0, 1]"
      ]
     },
     "execution_count": 16,
     "metadata": {},
     "output_type": "execute_result"
    }
   ],
   "source": [
    "numCourses = 2\n",
    "prerequisites = [[1,0]]\n",
    "findOrder(numCourses, prerequisites)"
   ]
  },
  {
   "cell_type": "code",
   "execution_count": 17,
   "metadata": {},
   "outputs": [
    {
     "data": {
      "text/plain": [
       "[0, 1, 2, 3]"
      ]
     },
     "execution_count": 17,
     "metadata": {},
     "output_type": "execute_result"
    }
   ],
   "source": [
    "numCourses = 4\n",
    "prerequisites = [[1,0],[2,0],[3,1],[3,2]]\n",
    "findOrder(numCourses, prerequisites)"
   ]
  },
  {
   "cell_type": "code",
   "execution_count": 19,
   "metadata": {},
   "outputs": [
    {
     "data": {
      "text/plain": [
       "[0]"
      ]
     },
     "execution_count": 19,
     "metadata": {},
     "output_type": "execute_result"
    }
   ],
   "source": [
    "numCourses = 1\n",
    "prerequisites = []\n",
    "findOrder(numCourses, prerequisites)"
   ]
  },
  {
   "cell_type": "code",
   "execution_count": 23,
   "metadata": {},
   "outputs": [],
   "source": [
    "# Solution 2: DFS. Check for indegree, if it is zero put in the queue.\n",
    "# O(N+E)\n",
    "\n",
    "from collections import deque\n",
    "def findOrder_dfs(numCourses, prerequisites):\n",
    "    indegree = [0] * numCourses\n",
    "    graph = {i:[] for i in range(numCourses)}\n",
    "    \n",
    "    for i,j in prerequisites:\n",
    "        graph[j].append(i)\n",
    "        indegree[i]+=1\n",
    "    \n",
    "    result = []\n",
    "    for i in range(numCourses):\n",
    "        if indegree[i] == 0:\n",
    "            dfs(i, graph, result, indegree)\n",
    "            \n",
    "    return result if len(result) == numCourses else -1\n",
    "\n",
    "def dfs(v, graph, result, indegree):\n",
    "    indegree[v] = -1\n",
    "    result.append(v)\n",
    "    \n",
    "    for c in graph[v]:\n",
    "        indegree[c] -= 1\n",
    "        if indegree[c] == 0:\n",
    "            dfs(c, graph, result, indegree)"
   ]
  },
  {
   "cell_type": "code",
   "execution_count": 24,
   "metadata": {},
   "outputs": [
    {
     "data": {
      "text/plain": [
       "[0, 1]"
      ]
     },
     "execution_count": 24,
     "metadata": {},
     "output_type": "execute_result"
    }
   ],
   "source": [
    "numCourses = 2\n",
    "prerequisites = [[1,0]]\n",
    "findOrder_dfs(numCourses, prerequisites)"
   ]
  },
  {
   "cell_type": "code",
   "execution_count": 25,
   "metadata": {},
   "outputs": [
    {
     "data": {
      "text/plain": [
       "[0, 1, 2, 3]"
      ]
     },
     "execution_count": 25,
     "metadata": {},
     "output_type": "execute_result"
    }
   ],
   "source": [
    "numCourses = 4\n",
    "prerequisites = [[1,0],[2,0],[3,1],[3,2]]\n",
    "findOrder_dfs(numCourses, prerequisites)"
   ]
  },
  {
   "cell_type": "code",
   "execution_count": 26,
   "metadata": {},
   "outputs": [
    {
     "data": {
      "text/plain": [
       "[0]"
      ]
     },
     "execution_count": 26,
     "metadata": {},
     "output_type": "execute_result"
    }
   ],
   "source": [
    "numCourses = 1\n",
    "prerequisites = []\n",
    "findOrder_dfs(numCourses, prerequisites)"
   ]
  },
  {
   "cell_type": "code",
   "execution_count": null,
   "metadata": {},
   "outputs": [],
   "source": []
  }
 ],
 "metadata": {
  "kernelspec": {
   "display_name": "Python 3",
   "language": "python",
   "name": "python3"
  },
  "language_info": {
   "codemirror_mode": {
    "name": "ipython",
    "version": 3
   },
   "file_extension": ".py",
   "mimetype": "text/x-python",
   "name": "python",
   "nbconvert_exporter": "python",
   "pygments_lexer": "ipython3",
   "version": "3.8.3"
  }
 },
 "nbformat": 4,
 "nbformat_minor": 4
}

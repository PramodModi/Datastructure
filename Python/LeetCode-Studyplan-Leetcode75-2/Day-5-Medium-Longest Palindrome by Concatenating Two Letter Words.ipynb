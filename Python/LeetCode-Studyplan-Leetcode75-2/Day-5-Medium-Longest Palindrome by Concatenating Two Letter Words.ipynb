{
 "cells": [
  {
   "cell_type": "markdown",
   "metadata": {},
   "source": [
    "## 2131. Longest Palindrome by Concatenating Two Letter Words\n",
    "https://leetcode.com/problems/longest-palindrome-by-concatenating-two-letter-words/?envType=study-plan&id=level-2\n",
    "\n",
    "You are given an array of strings words. Each element of words consists of two lowercase English letters.\n",
    "\n",
    "Create the longest possible palindrome by selecting some elements from words and concatenating them in any order. Each element can be selected at most once.\n",
    "\n",
    "Return the length of the longest palindrome that you can create. If it is impossible to create any palindrome, return 0.\n",
    "\n",
    "A palindrome is a string that reads the same forward and backward.\n",
    "\n",
    " \n",
    "\n",
    "Example 1:\n",
    "\n",
    "Input: words = [\"lc\",\"cl\",\"gg\"]\n",
    "\n",
    "Output: 6\n",
    "\n",
    "Explanation: One longest palindrome is \"lc\" + \"gg\" + \"cl\" = \"lcggcl\", of length 6.\n",
    "\n",
    "Note that \"clgglc\" is another longest palindrome that can be created.\n",
    "\n",
    "Example 2:\n",
    "\n",
    "Input: words = [\"ab\",\"ty\",\"yt\",\"lc\",\"cl\",\"ab\"]\n",
    "\n",
    "Output: 8\n",
    "\n",
    "Explanation: One longest palindrome is \"ty\" + \"lc\" + \"cl\" + \"yt\" = \"tylcclyt\", of length 8.\n",
    "\n",
    "Note that \"lcyttycl\" is another longest palindrome that can be created.\n",
    "\n",
    "Example 3:\n",
    "\n",
    "Input: words = [\"cc\",\"ll\",\"xx\"]\n",
    "\n",
    "Output: 2\n",
    "\n",
    "Explanation: One longest palindrome is \"cc\", of length 2.\n",
    "Note that \"ll\" is another longest palindrome that can be created, and so is \"xx\".\n",
    " \n",
    "\n",
    "Constraints:\n",
    "\n",
    "1 <= words.length <= 105\n",
    "\n",
    "words[i].length == 2\n",
    "\n",
    "words[i] consists of lowercase English letters."
   ]
  },
  {
   "cell_type": "code",
   "execution_count": 9,
   "metadata": {},
   "outputs": [],
   "source": [
    "from collections import Counter\n",
    "\n",
    "def longestPalindrome(words):\n",
    "    size  = 0\n",
    "    mid = False\n",
    "    # Keep all words with counting in Hashmap\n",
    "    wordMap = Counter(words)\n",
    "    # Iterate all words from hashmap and check if its reverse is present in the hashmap.\n",
    "    # if yes, than we can have palindrom of size = len(word)*2* count. \n",
    "    # where count is the minimum number of counts of either word or reverse word.\n",
    "\n",
    "    # There is special condition when word have both characters same. \n",
    "    #Then this word itself is the palindrom\n",
    "    # If there are even number of such words then size can be increased by len(word) * count.\n",
    "    # But, for odd number, we will have to keep one word separate and flagged that there is one middle word\n",
    "    for word in words:\n",
    "        reverseWord = word[::-1]            \n",
    "        # iterate hashmap\n",
    "        if reverseWord in wordMap:\n",
    "            # Special case\n",
    "            if word == reverseWord:\n",
    "                count = wordMap[word]\n",
    "                if count %2 != 0:\n",
    "                    count -= 1\n",
    "                    mid = True\n",
    "                size += len(word) *(count)\n",
    "                wordMap[word] -= count\n",
    "            else:\n",
    "                count = min(wordMap[word], wordMap[reverseWord])\n",
    "                size += len(word) *2*count\n",
    "                wordMap[word] -= count\n",
    "                wordMap[reverseWord] -= count\n",
    "    # Increase the ssize by 2 (len(word)) for middle word (special condition)\n",
    "    if mid:\n",
    "        size += 2\n",
    "    return size\n",
    "        "
   ]
  },
  {
   "cell_type": "code",
   "execution_count": 10,
   "metadata": {},
   "outputs": [
    {
     "data": {
      "text/plain": [
       "6"
      ]
     },
     "execution_count": 10,
     "metadata": {},
     "output_type": "execute_result"
    }
   ],
   "source": [
    "words = [\"lc\",\"cl\",\"gg\"]\n",
    "longestPalindrome(words)"
   ]
  },
  {
   "cell_type": "code",
   "execution_count": 11,
   "metadata": {},
   "outputs": [
    {
     "data": {
      "text/plain": [
       "8"
      ]
     },
     "execution_count": 11,
     "metadata": {},
     "output_type": "execute_result"
    }
   ],
   "source": [
    "words = [\"ab\",\"ty\",\"yt\",\"lc\",\"cl\",\"ab\"]\n",
    "longestPalindrome(words)"
   ]
  },
  {
   "cell_type": "code",
   "execution_count": 12,
   "metadata": {},
   "outputs": [
    {
     "data": {
      "text/plain": [
       "22"
      ]
     },
     "execution_count": 12,
     "metadata": {},
     "output_type": "execute_result"
    }
   ],
   "source": [
    "words = [\"dd\",\"aa\",\"bb\",\"dd\",\"aa\",\"dd\",\"bb\",\"dd\",\"aa\",\"cc\",\"bb\",\"cc\",\"dd\",\"cc\"]\n",
    "longestPalindrome(words)"
   ]
  },
  {
   "cell_type": "code",
   "execution_count": 14,
   "metadata": {},
   "outputs": [
    {
     "data": {
      "text/plain": [
       "4"
      ]
     },
     "execution_count": 14,
     "metadata": {},
     "output_type": "execute_result"
    }
   ],
   "source": [
    "words = [\"bb\",\"bb\"]\n",
    "longestPalindrome(words)"
   ]
  },
  {
   "cell_type": "code",
   "execution_count": 16,
   "metadata": {},
   "outputs": [
    {
     "data": {
      "text/plain": [
       "6"
      ]
     },
     "execution_count": 16,
     "metadata": {},
     "output_type": "execute_result"
    }
   ],
   "source": [
    "words = [\"bb\",\"bb\",\"bb\"]\n",
    "longestPalindrome(words)"
   ]
  },
  {
   "cell_type": "code",
   "execution_count": null,
   "metadata": {},
   "outputs": [],
   "source": []
  }
 ],
 "metadata": {
  "kernelspec": {
   "display_name": "Python 3",
   "language": "python",
   "name": "python3"
  },
  "language_info": {
   "codemirror_mode": {
    "name": "ipython",
    "version": 3
   },
   "file_extension": ".py",
   "mimetype": "text/x-python",
   "name": "python",
   "nbconvert_exporter": "python",
   "pygments_lexer": "ipython3",
   "version": "3.8.3"
  }
 },
 "nbformat": 4,
 "nbformat_minor": 4
}

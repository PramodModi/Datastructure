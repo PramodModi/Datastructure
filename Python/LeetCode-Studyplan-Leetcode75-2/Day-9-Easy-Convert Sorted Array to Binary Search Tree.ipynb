{
 "cells": [
  {
   "cell_type": "markdown",
   "metadata": {},
   "source": [
    "## Problem: 108. Convert Sorted Array to Binary Search Tree\n",
    "https://leetcode.com/problems/convert-sorted-array-to-binary-search-tree/?envType=study-plan&id=level-2\n",
    "\n",
    "Given an integer array nums where the elements are sorted in ascending order, convert it to a height-balanced binary search tree.\n",
    "\n",
    "A height-balanced binary tree is a binary tree in which the depth of the two subtrees of every node never differs by more than one.\n",
    "\n",
    " \n",
    "\n",
    "Example 1: Look at images at Leetcode for better understanding\n",
    "\n",
    "\n",
    "Input: nums = [-10,-3,0,5,9]\n",
    "\n",
    "Output: [0,-3,9,-10,null,5]\n",
    "\n",
    "Explanation: [0,-10,5,null,-3,null,9] is also accepted:\n",
    "\n",
    "Example 2:\n",
    "\n",
    "\n",
    "Input: nums = [1,3]\n",
    "\n",
    "Output: [3,1]\n",
    "\n",
    "Explanation: [1,null,3] and [3,1] are both height-balanced BSTs.\n",
    " \n",
    "\n",
    "Constraints:\n",
    "\n",
    "1 <= nums.length <= 104\n",
    "\n",
    "-104 <= nums[i] <= 104\n",
    "\n",
    "nums is sorted in a strictly increasing order."
   ]
  },
  {
   "cell_type": "code",
   "execution_count": 1,
   "metadata": {},
   "outputs": [],
   "source": [
    "# Definition for a binary tree node.\n",
    "# class TreeNode:\n",
    "#     def __init__(self, val=0, left=None, right=None):\n",
    "#         self.val = val\n",
    "#         self.left = left\n",
    "#         self.right = right\n",
    "\n",
    "def sortedArrayToBST(nums):\n",
    "    start = 0\n",
    "    end = len(nums)-1\n",
    "    return createTree(nums, start, end)\n",
    "def createTree(nums, start, end):\n",
    "    if end < start:\n",
    "        return None\n",
    "    mid = (start + end)//2\n",
    "    root = TreeNode(nums[mid])\n",
    "    root.left = createTree(nums, start, mid-1)\n",
    "    root.right = createTree(nums, mid+1, end)\n",
    "    return root"
   ]
  },
  {
   "cell_type": "code",
   "execution_count": null,
   "metadata": {},
   "outputs": [],
   "source": []
  }
 ],
 "metadata": {
  "kernelspec": {
   "display_name": "Python 3",
   "language": "python",
   "name": "python3"
  },
  "language_info": {
   "codemirror_mode": {
    "name": "ipython",
    "version": 3
   },
   "file_extension": ".py",
   "mimetype": "text/x-python",
   "name": "python",
   "nbconvert_exporter": "python",
   "pygments_lexer": "ipython3",
   "version": "3.8.3"
  }
 },
 "nbformat": 4,
 "nbformat_minor": 4
}

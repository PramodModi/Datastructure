{
 "cells": [
  {
   "cell_type": "markdown",
   "metadata": {},
   "source": [
    "## 110. Balanced Binary Tree\n",
    "\n",
    "https://leetcode.com/problems/balanced-binary-tree/?envType=study-plan&id=level-2\n",
    "\n",
    "Given a binary tree, determine if it is height-balanced.\n",
    "\n",
    "For this problem, a height-balanced binary tree is defined as:\n",
    "\n",
    "a binary tree in which the left and right subtrees of every node differ in height by no more than 1.\n",
    "\n",
    " \n",
    "\n",
    "Example 1:\n",
    "\n",
    "\n",
    "Input: root = [3,9,20,null,null,15,7]\n",
    "\n",
    "Output: true\n",
    "\n",
    "Example 2:\n",
    "\n",
    "\n",
    "Input: root = [1,2,2,3,3,null,null,4,4]\n",
    "\n",
    "Output: false\n",
    "\n",
    "Example 3:\n",
    "\n",
    "Input: root = []\n",
    "\n",
    "Output: true\n",
    " \n",
    "\n",
    "Constraints:\n",
    "\n",
    "The number of nodes in the tree is in the range [0, 5000].\n",
    "\n",
    "-104 <= Node.val <= 104"
   ]
  },
  {
   "cell_type": "code",
   "execution_count": 1,
   "metadata": {},
   "outputs": [],
   "source": [
    "class TreeInfo:\n",
    "    def __init__(self, balance, height):\n",
    "        self.balance = balance\n",
    "        self.height = height\n",
    "        \n",
    "def isBalanced(root):\n",
    "        treeInfo = checkBalance(root)\n",
    "        return treeInfo.balance\n",
    "    \n",
    "def checkBalance(root):\n",
    "    if not root:\n",
    "        return TreeInfo(True, 0)\n",
    "    leftinfo = checkBalance(root.left)\n",
    "    rightinfo = checkBalance(root.right)\n",
    "    balance = leftinfo.balance and rightinfo.balance and abs(leftinfo.height-rightinfo.height)<=1\n",
    "    height = 1 + max(leftinfo.height, rightinfo.height)\n",
    "    return TreeInfo(balance, height)"
   ]
  },
  {
   "cell_type": "code",
   "execution_count": null,
   "metadata": {},
   "outputs": [],
   "source": []
  }
 ],
 "metadata": {
  "kernelspec": {
   "display_name": "Python 3",
   "language": "python",
   "name": "python3"
  },
  "language_info": {
   "codemirror_mode": {
    "name": "ipython",
    "version": 3
   },
   "file_extension": ".py",
   "mimetype": "text/x-python",
   "name": "python",
   "nbconvert_exporter": "python",
   "pygments_lexer": "ipython3",
   "version": "3.8.3"
  }
 },
 "nbformat": 4,
 "nbformat_minor": 4
}

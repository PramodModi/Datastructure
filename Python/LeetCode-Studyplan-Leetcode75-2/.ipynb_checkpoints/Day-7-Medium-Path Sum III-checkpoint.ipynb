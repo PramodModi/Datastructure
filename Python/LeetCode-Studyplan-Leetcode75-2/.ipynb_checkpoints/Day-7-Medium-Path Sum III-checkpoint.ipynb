{
 "cells": [
  {
   "cell_type": "markdown",
   "metadata": {},
   "source": [
    "## Problem: 437. Path Sum III\n",
    "https://leetcode.com/problems/path-sum-iii/?envType=study-plan&id=level-2\n",
    "\n",
    "Given the root of a binary tree and an integer targetSum, return the number of paths where the sum of the values along the path equals targetSum.\n",
    "\n",
    "The path does not need to start or end at the root or a leaf, but it must go downwards (i.e., traveling only from parent nodes to child nodes).\n",
    "\n",
    " \n",
    "\n",
    "Example 1:\n",
    "\n",
    "\n",
    "Input: root = [10,5,-3,3,2,null,11,3,-2,null,1], targetSum = 8\n",
    "\n",
    "Output: 3\n",
    "\n",
    "Explanation: The paths that sum to 8 are shown.\n",
    "\n",
    "Example 2:\n",
    "\n",
    "Input: root = [5,4,8,11,null,13,4,7,2,null,null,5,1], targetSum = 22\n",
    "\n",
    "Output: 3\n",
    " \n",
    "\n",
    "Constraints:\n",
    "\n",
    "The number of nodes in the tree is in the range [0, 1000].\n",
    "\n",
    "-109 <= Node.val <= 109\n",
    "\n",
    "-1000 <= targetSum <= 1000"
   ]
  },
  {
   "cell_type": "code",
   "execution_count": 1,
   "metadata": {},
   "outputs": [],
   "source": [
    "# Definition for a binary tree node.\n",
    "# class TreeNode(object):\n",
    "#     def __init__(self, val=0, left=None, right=None):\n",
    "#         self.val = val\n",
    "#         self.left = left\n",
    "#         self.right = right\n",
    "\n",
    "def pathSum(root, targetSum):\n",
    "    result = {\"count\": 0}\n",
    "    sum = 0\n",
    "    temp = {sum:1}\n",
    "    checkTarget(root, targetSum, sum, temp, result)\n",
    "    return result[\"count\"]\n",
    "\n",
    "def checkTarget(root, targetSum, sum, temp, result):\n",
    "    if root is None:\n",
    "        return\n",
    "    \n",
    "    sum += root.val\n",
    "    \n",
    "    if sum-targetSum in temp:\n",
    "        result[\"count\"] += temp[sum-targetSum]\n",
    "    temp[sum] = temp.get(sum, 0)+1\n",
    "    checkTarget(root.left, targetSum, sum, temp, result)\n",
    "    checkTarget(root.right, targetSum, sum, temp, result)\n",
    "    temp[sum] -= 1\n",
    "    \n"
   ]
  },
  {
   "cell_type": "code",
   "execution_count": null,
   "metadata": {},
   "outputs": [],
   "source": []
  }
 ],
 "metadata": {
  "kernelspec": {
   "display_name": "Python 3",
   "language": "python",
   "name": "python3"
  },
  "language_info": {
   "codemirror_mode": {
    "name": "ipython",
    "version": 3
   },
   "file_extension": ".py",
   "mimetype": "text/x-python",
   "name": "python",
   "nbconvert_exporter": "python",
   "pygments_lexer": "ipython3",
   "version": "3.8.3"
  }
 },
 "nbformat": 4,
 "nbformat_minor": 4
}

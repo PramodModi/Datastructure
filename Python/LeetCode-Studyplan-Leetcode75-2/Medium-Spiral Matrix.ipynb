{
 "cells": [
  {
   "cell_type": "markdown",
   "metadata": {},
   "source": [
    "## 54. Spiral Matrix\n",
    "https://leetcode.com/problems/spiral-matrix/\n",
    "\n",
    "Given an m x n matrix, return all elements of the matrix in spiral order.\n",
    "\n",
    " \n",
    "\n",
    "Example 1:\n",
    "\n",
    "\n",
    "Input: matrix = [[1,2,3],[4,5,6],[7,8,9]]\n",
    "\n",
    "Output: [1,2,3,6,9,8,7,4,5]\n",
    "\n",
    "Example 2:\n",
    "\n",
    "\n",
    "Input: matrix = [[1,2,3,4],[5,6,7,8],[9,10,11,12]]\n",
    "\n",
    "Output: [1,2,3,4,8,12,11,10,9,5,6,7]\n",
    " \n",
    "\n",
    "Constraints:\n",
    "\n",
    "m == matrix.length\n",
    "\n",
    "n == matrix[i].length\n",
    "\n",
    "1 <= m, n <= 10\n",
    "\n",
    "-100 <= matrix[i][j] <= 100"
   ]
  },
  {
   "cell_type": "code",
   "execution_count": 7,
   "metadata": {},
   "outputs": [],
   "source": [
    "def spiralOrder(matrix):\n",
    "    startRow = 0\n",
    "    endRow = len(matrix) - 1\n",
    "    startCol = 0\n",
    "    endCol = len(matrix[0]) - 1\n",
    "    if endRow == 1:\n",
    "        return matrix\n",
    "    result = []\n",
    "    while startRow <= endRow and startCol <= endCol:\n",
    "        for col in range(startCol, endCol+1):\n",
    "            result.append(matrix[startRow][col])\n",
    "        for row in range(startRow + 1, endRow+1):\n",
    "            result.append(matrix[row][endCol])\n",
    "        for col in reversed(range(startCol, endCol)):\n",
    "            if startRow == endRow:\n",
    "                break\n",
    "            result.append(matrix[endRow][col])\n",
    "        for row in reversed(range(startRow+1, endRow)):\n",
    "            if startCol == endCol:\n",
    "                break\n",
    "            result.append(matrix[row][startCol])\n",
    "        startRow += 1\n",
    "        endRow -= 1\n",
    "        startCol += 1\n",
    "        endCol -= 1\n",
    "    return result"
   ]
  },
  {
   "cell_type": "code",
   "execution_count": 8,
   "metadata": {},
   "outputs": [
    {
     "data": {
      "text/plain": [
       "[1, 2, 3, 4, 8, 12, 11, 10, 9, 5, 6, 7]"
      ]
     },
     "execution_count": 8,
     "metadata": {},
     "output_type": "execute_result"
    }
   ],
   "source": [
    "matrix = [[1,2,3,4],[5,6,7,8],[9,10,11,12]]\n",
    "spiralOrder(matrix)"
   ]
  },
  {
   "cell_type": "code",
   "execution_count": null,
   "metadata": {},
   "outputs": [],
   "source": []
  }
 ],
 "metadata": {
  "kernelspec": {
   "display_name": "Python 3",
   "language": "python",
   "name": "python3"
  },
  "language_info": {
   "codemirror_mode": {
    "name": "ipython",
    "version": 3
   },
   "file_extension": ".py",
   "mimetype": "text/x-python",
   "name": "python",
   "nbconvert_exporter": "python",
   "pygments_lexer": "ipython3",
   "version": "3.8.3"
  }
 },
 "nbformat": 4,
 "nbformat_minor": 4
}

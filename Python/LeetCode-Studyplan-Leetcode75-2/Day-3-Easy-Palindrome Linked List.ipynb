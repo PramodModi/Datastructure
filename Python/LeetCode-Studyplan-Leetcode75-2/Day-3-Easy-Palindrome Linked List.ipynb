{
 "cells": [
  {
   "cell_type": "markdown",
   "metadata": {},
   "source": [
    "## 234. Palindrome Linked List\n",
    "https://leetcode.com/problems/palindrome-linked-list/\n",
    "\n",
    "Given the head of a singly linked list, return true if it is a palindrome or false otherwise.\n",
    "\n",
    " \n",
    "\n",
    "Example 1:\n",
    "\n",
    "\n",
    "Input: head = [1,2,2,1]\n",
    "Output: true\n",
    "\n",
    "Example 2:\n",
    "\n",
    "Input: head = [1,2]\n",
    "Output: false\n",
    " \n",
    "\n",
    "Constraints:\n",
    "\n",
    "The number of nodes in the list is in the range [1, 105].\n",
    "0 <= Node.val <= 9"
   ]
  },
  {
   "cell_type": "code",
   "execution_count": 1,
   "metadata": {},
   "outputs": [],
   "source": [
    "# Definition for singly-linked list.\n",
    "# class ListNode(object):\n",
    "#     def __init__(self, val=0, next=None):\n",
    "#         self.val = val\n",
    "#         self.next = next\n",
    "\n",
    "def isPalindrome(head):\n",
    "    if head.next is None:\n",
    "        return True\n",
    "    temp = head\n",
    "    start = head\n",
    "    \n",
    "    ## Divide the list by half.\n",
    "    while temp and temp.next:\n",
    "        start = start.next\n",
    "        temp = temp.next.next\n",
    "    \n",
    "    ## If list is even\n",
    "    if temp is None:\n",
    "        start = reverse(start)\n",
    "    else: \n",
    "        # If list is odd, start point would be next element. Means if list length =3.\n",
    "        #, then start point= index 2. If length =5, then startPoint = index=3\n",
    "        start.next = reverse(start.next)\n",
    "        start = start.next\n",
    "\n",
    "    cur = head\n",
    "    while start:\n",
    "        if start.val != cur.val:\n",
    "            return False\n",
    "        start = start.next\n",
    "        cur = cur.next\n",
    "    return True\n",
    "def reverse(head):\n",
    "    cur = head\n",
    "    prev = None\n",
    "    \n",
    "    while cur:\n",
    "        temp = cur\n",
    "        cur = cur.next\n",
    "        temp.next = prev\n",
    "        prev = temp\n",
    "    head = prev\n",
    "    return head"
   ]
  },
  {
   "cell_type": "code",
   "execution_count": null,
   "metadata": {},
   "outputs": [],
   "source": []
  }
 ],
 "metadata": {
  "kernelspec": {
   "display_name": "Python 3",
   "language": "python",
   "name": "python3"
  },
  "language_info": {
   "codemirror_mode": {
    "name": "ipython",
    "version": 3
   },
   "file_extension": ".py",
   "mimetype": "text/x-python",
   "name": "python",
   "nbconvert_exporter": "python",
   "pygments_lexer": "ipython3",
   "version": "3.8.3"
  }
 },
 "nbformat": 4,
 "nbformat_minor": 4
}

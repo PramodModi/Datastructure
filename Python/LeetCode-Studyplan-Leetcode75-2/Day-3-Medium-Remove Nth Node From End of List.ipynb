{
 "cells": [
  {
   "cell_type": "markdown",
   "metadata": {},
   "source": [
    "## 19. Remove Nth Node From End of List\n",
    "https://leetcode.com/problems/remove-nth-node-from-end-of-list/\n",
    "\n",
    "Given the head of a linked list, remove the nth node from the end of the list and return its head.\n",
    "\n",
    " \n",
    "\n",
    "Example 1:\n",
    "\n",
    "\n",
    "Input: head = [1,2,3,4,5], n = 2\n",
    "\n",
    "Output: [1,2,3,5]\n",
    "\n",
    "Example 2:\n",
    "\n",
    "Input: head = [1], n = 1\n",
    "\n",
    "Output: []\n",
    "\n",
    "Example 3:\n",
    "\n",
    "Input: head = [1,2], n = 1\n",
    "\n",
    "Output: [1]\n",
    " \n",
    "\n",
    "Constraints:\n",
    "\n",
    "The number of nodes in the list is sz.\n",
    "\n",
    "1 <= sz <= 30\n",
    "\n",
    "0 <= Node.val <= 100\n",
    "\n",
    "1 <= n <= sz\n"
   ]
  },
  {
   "cell_type": "code",
   "execution_count": 1,
   "metadata": {},
   "outputs": [],
   "source": [
    "# Definition for singly-linked list.\n",
    "# class ListNode(object):\n",
    "#     def __init__(self, val=0, next=None):\n",
    "#         self.val = val\n",
    "#         self.next = next\n",
    "\n",
    "def removeNthFromEnd(head, n):\n",
    "    cur = head\n",
    "    temp = head\n",
    "    while n > 0:\n",
    "        temp = temp.next\n",
    "        n -=1\n",
    "    if temp is None:\n",
    "        prev = head\n",
    "        head = head.next\n",
    "        prev.next = None\n",
    "        return head\n",
    "    while temp.next:\n",
    "        cur = cur.next\n",
    "        temp = temp.next\n",
    "    cur.next = cur.next.next\n",
    "    return head"
   ]
  },
  {
   "cell_type": "code",
   "execution_count": null,
   "metadata": {},
   "outputs": [],
   "source": []
  }
 ],
 "metadata": {
  "kernelspec": {
   "display_name": "Python 3",
   "language": "python",
   "name": "python3"
  },
  "language_info": {
   "codemirror_mode": {
    "name": "ipython",
    "version": 3
   },
   "file_extension": ".py",
   "mimetype": "text/x-python",
   "name": "python",
   "nbconvert_exporter": "python",
   "pygments_lexer": "ipython3",
   "version": "3.8.3"
  }
 },
 "nbformat": 4,
 "nbformat_minor": 4
}

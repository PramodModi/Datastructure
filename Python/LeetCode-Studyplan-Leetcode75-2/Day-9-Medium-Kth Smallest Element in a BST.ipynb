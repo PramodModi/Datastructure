{
 "cells": [
  {
   "cell_type": "markdown",
   "metadata": {},
   "source": [
    "## Problem: 230. Kth Smallest Element in a BST\n",
    "https://leetcode.com/problems/kth-smallest-element-in-a-bst/?envType=study-plan&id=level-2\n",
    "\n",
    "Given the root of a binary search tree, and an integer k, return the kth smallest value (1-indexed) of all the values of the nodes in the tree.\n",
    "\n",
    " \n",
    "\n",
    "Example 1:\n",
    "\n",
    "\n",
    "Input: root = [3,1,4,null,2], k = 1\n",
    "\n",
    "Output: 1\n",
    "\n",
    "Example 2:\n",
    "\n",
    "\n",
    "Input: root = [5,3,6,2,4,null,null,1], k = 3\n",
    "\n",
    "Output: 3\n",
    " \n",
    "\n",
    "Constraints:\n",
    "\n",
    "The number of nodes in the tree is n.\n",
    "1 <= k <= n <= 104\n",
    "\n",
    "0 <= Node.val <= 104"
   ]
  },
  {
   "cell_type": "code",
   "execution_count": null,
   "metadata": {},
   "outputs": [],
   "source": [
    "# Definition for a binary tree node.\n",
    "# class TreeNode:\n",
    "#     def __init__(self, val=0, left=None, right=None):\n",
    "#         self.val = val\n",
    "#         self.left = left\n",
    "#         self.right = right\n",
    "\n",
    "def kthSmallest(root, k):\n",
    "    result = {\"k\":k, \"ans\": -1}\n",
    "    inorder(root, result)\n",
    "    return result[\"ans\"]\n",
    "def inorder(root, result):\n",
    "    if root:\n",
    "        inorder(root.left, result)\n",
    "        result[\"k\"] -=1\n",
    "        if result[\"k\"] == 0:\n",
    "            result[\"ans\"] = root.val\n",
    "        else:\n",
    "            inorder(root.right, result)"
   ]
  }
 ],
 "metadata": {
  "kernelspec": {
   "display_name": "Python 3",
   "language": "python",
   "name": "python3"
  },
  "language_info": {
   "codemirror_mode": {
    "name": "ipython",
    "version": 3
   },
   "file_extension": ".py",
   "mimetype": "text/x-python",
   "name": "python",
   "nbconvert_exporter": "python",
   "pygments_lexer": "ipython3",
   "version": "3.8.3"
  }
 },
 "nbformat": 4,
 "nbformat_minor": 4
}

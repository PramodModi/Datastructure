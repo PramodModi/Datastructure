{
 "cells": [
  {
   "cell_type": "markdown",
   "metadata": {},
   "source": [
    "## 815. Bus Routes\n",
    "https://leetcode.com/problems/bus-routes/?envType=study-plan&id=level-2\n",
    "\n",
    "You are given an array routes representing bus routes where routes[i] is a bus route that the ith bus repeats forever.\n",
    "\n",
    "For example, if routes[0] = [1, 5, 7], this means that the 0th bus travels in the sequence 1 -> 5 -> 7 -> 1 -> 5 -> 7 -> 1 -> ... forever.\n",
    "You will start at the bus stop source (You are not on any bus initially), and you want to go to the bus stop target. You can travel between bus stops by buses only.\n",
    "\n",
    "Return the least number of buses you must take to travel from source to target. Return -1 if it is not possible.\n",
    "\n",
    " \n",
    "\n",
    "Example 1:\n",
    "\n",
    "Input: routes = [[1,2,7],[3,6,7]], source = 1, target = 6\n",
    "\n",
    "Output: 2\n",
    "\n",
    "Explanation: The best strategy is take the first bus to the bus stop 7, then take the second bus to the bus stop 6.\n",
    "\n",
    "Example 2:\n",
    "\n",
    "Input: routes = [[7,12],[4,5,15],[6],[15,19],[9,12,13]], source = 15, target = 12\n",
    "\n",
    "Output: -1\n",
    " \n",
    "\n",
    "Constraints:\n",
    "\n",
    "1 <= routes.length <= 500.\n",
    "\n",
    "1 <= routes[i].length <= 105\n",
    "\n",
    "All the values of routes[i] are unique.\n",
    "\n",
    "sum(routes[i].length) <= 105\n",
    "\n",
    "0 <= routes[i][j] < 106\n",
    "\n",
    "0 <= source, target < 106"
   ]
  },
  {
   "cell_type": "code",
   "execution_count": 22,
   "metadata": {},
   "outputs": [],
   "source": [
    "from collections import deque\n",
    "def numBusesToDestination(routes, source, target):\n",
    "    if source == target:\n",
    "        return 0\n",
    "    # Change list to set for efficient search\n",
    "    routes = list(map(set, routes))\n",
    "    \n",
    "    # Create a graph for routes. Rout1 will link to route2 and vice versa, if there is common stops in them\n",
    "    graph = {}\n",
    "    \n",
    "    # iterate routes for:\n",
    "    # 1. find the source route and add in the queue\n",
    "    # 2. find the target route and add it in the set\n",
    "    # 3. create graph between routes having common stops\n",
    "    \n",
    "    q = deque() # keep source route and bus count\n",
    "    targets = set()\n",
    "    visited =set()\n",
    "    for i, route in enumerate(routes):\n",
    "        # 1. find source route and add it in the queue\n",
    "        if source in route:\n",
    "            visited.add(i)\n",
    "            q.append((i, 1))\n",
    "            \n",
    "        # 2. find the target route and add it in the set\n",
    "        if target in route:\n",
    "            targets.add(i)\n",
    "            \n",
    "        # 3. create graph between routes having common stops\n",
    "        \n",
    "        for j in range(i+1, len(routes)):\n",
    "            if j in visited:\n",
    "                continue\n",
    "            if routes[i] & routes[j]:\n",
    "                if i in graph:\n",
    "                    graph[i].add(j)\n",
    "                else:\n",
    "                    graph[i] = set([j])\n",
    "                if j in graph:\n",
    "                    graph[j].add(i)\n",
    "                else:\n",
    "                    graph[j] = set([i])\n",
    "    \n",
    "    # iterate from source and go through linked routes to find the target. Return the count.\n",
    "    print(graph)\n",
    "    while q:\n",
    "        route, count = q.popleft()\n",
    "        if route in targets:\n",
    "            return count\n",
    "        if route not in graph:\n",
    "            continue\n",
    "        for nextRoute in graph[route]:\n",
    "            if nextRoute not in visited:\n",
    "                q.append((nextRoute, count + 1))\n",
    "                visited.add(nextRoute)\n",
    "    return -1\n",
    "                    \n",
    "    \n",
    "    \n",
    "    \n"
   ]
  },
  {
   "cell_type": "code",
   "execution_count": 23,
   "metadata": {},
   "outputs": [
    {
     "name": "stdout",
     "output_type": "stream",
     "text": [
      "{0: {1}, 1: {0}}\n"
     ]
    },
    {
     "data": {
      "text/plain": [
       "2"
      ]
     },
     "execution_count": 23,
     "metadata": {},
     "output_type": "execute_result"
    }
   ],
   "source": [
    "routes = [[1,2,7],[3,6,7]]\n",
    "source = 1\n",
    "target = 6\n",
    "numBusesToDestination(routes, source, target)"
   ]
  },
  {
   "cell_type": "code",
   "execution_count": 24,
   "metadata": {},
   "outputs": [
    {
     "name": "stdout",
     "output_type": "stream",
     "text": [
      "{0: {4}, 4: {0}, 1: {3}, 3: {1}}\n"
     ]
    },
    {
     "data": {
      "text/plain": [
       "-1"
      ]
     },
     "execution_count": 24,
     "metadata": {},
     "output_type": "execute_result"
    }
   ],
   "source": [
    "routes = [[7,12],[4,5,15],[6],[15,19],[9,12,13]]\n",
    "source = 15\n",
    "target = 12\n",
    "numBusesToDestination(routes, source, target)"
   ]
  },
  {
   "cell_type": "code",
   "execution_count": 25,
   "metadata": {},
   "outputs": [
    {
     "name": "stdout",
     "output_type": "stream",
     "text": [
      "{}\n"
     ]
    },
    {
     "data": {
      "text/plain": [
       "-1"
      ]
     },
     "execution_count": 25,
     "metadata": {},
     "output_type": "execute_result"
    }
   ],
   "source": [
    "routes = [[1],[15,16,18],[10],[3,4,12,14]]\n",
    "source = 3\n",
    "target = 15\n",
    "numBusesToDestination(routes, source, target)"
   ]
  },
  {
   "cell_type": "code",
   "execution_count": null,
   "metadata": {},
   "outputs": [],
   "source": []
  }
 ],
 "metadata": {
  "kernelspec": {
   "display_name": "Python 3",
   "language": "python",
   "name": "python3"
  },
  "language_info": {
   "codemirror_mode": {
    "name": "ipython",
    "version": 3
   },
   "file_extension": ".py",
   "mimetype": "text/x-python",
   "name": "python",
   "nbconvert_exporter": "python",
   "pygments_lexer": "ipython3",
   "version": "3.8.3"
  }
 },
 "nbformat": 4,
 "nbformat_minor": 4
}

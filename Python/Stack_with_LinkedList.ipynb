{
 "cells": [
  {
   "cell_type": "code",
   "execution_count": 1,
   "metadata": {},
   "outputs": [],
   "source": [
    "# Ex ception class for Empty list\n",
    "class Empty(Exception):\n",
    "    pass"
   ]
  },
  {
   "cell_type": "code",
   "execution_count": 9,
   "metadata": {},
   "outputs": [],
   "source": [
    "# Stack class\n",
    "class Stack:\n",
    "    # Creating node class for linked list\n",
    "    class _Node:\n",
    "        # Slots is being used to save memory and fster attribute access\n",
    "        __slots__ = '_data', '_next'\n",
    "        \n",
    "        # Initialize node class\n",
    "        def __init__(self, data, address):\n",
    "            self._data = data\n",
    "            self._next = address\n",
    "            \n",
    "    # initialize Stack class\n",
    "    def __init__(self):\n",
    "        self._head = None\n",
    "        self._tail = None\n",
    "        self._size = 0\n",
    "    \n",
    "    # return size of stack\n",
    "    def size(self):\n",
    "        return self._size\n",
    "    \n",
    "    # return True if Stack is empty\n",
    "    def isEmpty(self):\n",
    "        return self._size == 0\n",
    "    \n",
    "    # Push the data in Stck\n",
    "    def push(self, e):\n",
    "        # create a new node and add at the begining of list\n",
    "        new_node = self._Node(e, None)\n",
    "        if self.isEmpty():\n",
    "            self._head = new_node\n",
    "            self._tail = new_node\n",
    "        else:\n",
    "            new_node._next = self._head\n",
    "        self._head = new_node\n",
    "        self._size += 1\n",
    "    \n",
    "    #top the element   \n",
    "    def pop(self):\n",
    "        if self.isEmpty():\n",
    "            raise Empty(\"Stack is Empty\")\n",
    "        e = self._head._data\n",
    "        self._head = self._head._next\n",
    "        self._size -= 1\n",
    "        if self.isEmpty():\n",
    "            self._tail = None\n",
    "        return e\n",
    "    \n",
    "    def top(self):\n",
    "        \n",
    "        if self.isEmpty():\n",
    "            raise Empty(\"Stack is Empty\")\n",
    "        \n",
    "        return self._head._data\n",
    "    \n",
    "    def printList(self):\n",
    "        temp = self._head\n",
    "        while temp:\n",
    "            print(temp._data, end='\\t')\n",
    "            temp = temp._next  \n",
    "    "
   ]
  },
  {
   "cell_type": "code",
   "execution_count": 11,
   "metadata": {},
   "outputs": [
    {
     "name": "stdout",
     "output_type": "stream",
     "text": [
      "size of stack =  5\n",
      "2\t3\t2\t9\t5\t\n",
      "\n",
      "top :  2\n",
      "pop : 2\n",
      "top : 3\n",
      "Size after one pop :  4\n",
      "\n",
      "\n",
      "3\t2\t9\t5\t"
     ]
    }
   ],
   "source": [
    "s = Stack()\n",
    "s.push(5)\n",
    "s.push(9)\n",
    "s.push(2)\n",
    "s.push(3)\n",
    "s.push(2)\n",
    "\n",
    "print(\"size of stack = \", s.size())\n",
    "s.printList()\n",
    "print(\"\\n\")\n",
    "\n",
    "print(\"top : \", s.top())\n",
    "print(\"pop :\", s.pop())\n",
    "print(\"top :\", s.top())\n",
    "print(\"Size after one pop : \", s.size())\n",
    "print(\"\\n\")\n",
    "s.printList()\n"
   ]
  },
  {
   "cell_type": "code",
   "execution_count": null,
   "metadata": {},
   "outputs": [],
   "source": []
  }
 ],
 "metadata": {
  "kernelspec": {
   "display_name": "Python 3",
   "language": "python",
   "name": "python3"
  },
  "language_info": {
   "codemirror_mode": {
    "name": "ipython",
    "version": 3
   },
   "file_extension": ".py",
   "mimetype": "text/x-python",
   "name": "python",
   "nbconvert_exporter": "python",
   "pygments_lexer": "ipython3",
   "version": "3.8.3"
  }
 },
 "nbformat": 4,
 "nbformat_minor": 4
}

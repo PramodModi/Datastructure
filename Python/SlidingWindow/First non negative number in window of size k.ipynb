{
 "cells": [
  {
   "cell_type": "markdown",
   "metadata": {},
   "source": [
    "## Problem\n",
    "\n",
    "Given array, print the first negative numbers in every window of size k. If no negative number then print 0.\n",
    "\n",
    "Example: \n",
    "array = [12, -1, -7, 8, -15, 30, 16, 8], k = 3\n",
    "\n",
    "output = [-1,-1,-7,-15, -15, 0]"
   ]
  },
  {
   "cell_type": "code",
   "execution_count": 17,
   "metadata": {},
   "outputs": [],
   "source": [
    "def firstNegativeNumber(array, k):\n",
    "    # Create window of size k and store negative number in the auxiliary array\n",
    "    temp = []\n",
    "    # Output\n",
    "    result = []\n",
    "    # Moving j to setting up window of size k. Also storing negative value in temp\n",
    "    for j in range(k):\n",
    "        if array[j]<0:\n",
    "            temp.append(array[j])\n",
    "    \n",
    "    # move the sliding window, till right edge touches to end of array\n",
    "    i = 0\n",
    "    n = len(array)\n",
    "    while j < n-1:\n",
    "        \n",
    "        # Take first entry out from temp and put into output result. Temp will always have negative value.\n",
    "        # if no entry then fill result with zero \n",
    "        if len(temp) != 0:\n",
    "            result.append(temp[0])\n",
    "        else:\n",
    "            result.append(0)\n",
    "        # As ith element is getting out from windows, so take it out from temp also.\n",
    "        if array[i]<0:\n",
    "            temp.pop(0)\n",
    "        \n",
    "        i += 1\n",
    "        j += 1\n",
    "        if array[j] < 0:\n",
    "            temp.append(array[j])\n",
    "    # Do not miss to add last item in the result. As loop is running till n-1 only.\n",
    "    if len(temp) != 0:\n",
    "            result.append(temp[0])\n",
    "    else:\n",
    "        result.append(0)   \n",
    "    return result  \n",
    "    \n",
    "    "
   ]
  },
  {
   "cell_type": "code",
   "execution_count": 18,
   "metadata": {},
   "outputs": [
    {
     "data": {
      "text/plain": [
       "[-1, -1, -7, -15, -15, 0]"
      ]
     },
     "execution_count": 18,
     "metadata": {},
     "output_type": "execute_result"
    }
   ],
   "source": [
    "array = [12, -1, -7, 8, -15, 30, 16, 8]\n",
    "k = 3\n",
    "firstNegativeNumber(array, k)"
   ]
  },
  {
   "cell_type": "code",
   "execution_count": null,
   "metadata": {},
   "outputs": [],
   "source": []
  }
 ],
 "metadata": {
  "kernelspec": {
   "display_name": "Python 3",
   "language": "python",
   "name": "python3"
  },
  "language_info": {
   "codemirror_mode": {
    "name": "ipython",
    "version": 3
   },
   "file_extension": ".py",
   "mimetype": "text/x-python",
   "name": "python",
   "nbconvert_exporter": "python",
   "pygments_lexer": "ipython3",
   "version": "3.8.3"
  }
 },
 "nbformat": 4,
 "nbformat_minor": 4
}

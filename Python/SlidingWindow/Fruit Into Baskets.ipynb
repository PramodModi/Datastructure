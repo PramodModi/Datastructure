{
 "cells": [
  {
   "cell_type": "markdown",
   "metadata": {},
   "source": [
    "## Problem: 904. Fruit Into Baskets\n",
    "\n",
    "https://leetcode.com/problems/fruit-into-baskets/\n",
    "\n",
    "You are visiting a farm that has a single row of fruit trees arranged from left to right. The trees are represented by an integer array fruits where fruits[i] is the type of fruit the ith tree produces.\n",
    "\n",
    "You want to collect as much fruit as possible. However, the owner has some strict rules that you must follow:\n",
    "\n",
    "You only have two baskets, and each basket can only hold a single type of fruit. There is no limit on the amount of fruit each basket can hold.\n",
    "Starting from any tree of your choice, you must pick exactly one fruit from every tree (including the start tree) while moving to the right. The picked fruits must fit in one of your baskets.\n",
    "Once you reach a tree with fruit that cannot fit in your baskets, you must stop.\n",
    "Given the integer array fruits, return the maximum number of fruits you can pick.\n",
    "\n",
    " \n",
    "\n",
    "Example 1:\n",
    "\n",
    "Input: fruits = [1,2,1]\n",
    "\n",
    "Output: 3\n",
    "\n",
    "Explanation: We can pick from all 3 trees.\n",
    "\n",
    "Example 2:\n",
    "\n",
    "Input: fruits = [0,1,2,2]\n",
    "\n",
    "Output: 3\n",
    "\n",
    "Explanation: We can pick from trees [1,2,2].\n",
    "If we had started at the first tree, we would only pick from trees [0,1].\n",
    "\n",
    "Example 3:\n",
    "\n",
    "Input: fruits = [1,2,3,2,2]\n",
    "\n",
    "Output: 4\n",
    "\n",
    "Explanation: We can pick from trees [2,3,2,2].\n",
    "If we had started at the first tree, we would only pick from trees [1,2].\n",
    " \n",
    "\n",
    "Constraints:\n",
    "\n",
    "1 <= fruits.length <= 105\n",
    "\n",
    "0 <= fruits[i] < fruits.length\n"
   ]
  },
  {
   "cell_type": "code",
   "execution_count": 1,
   "metadata": {},
   "outputs": [],
   "source": [
    "def totalFruit(fruits):\n",
    "    maxSum = 0\n",
    "    left, right = 0,0\n",
    "    temp = {}\n",
    "    uniqueLength = 0\n",
    "    while right < len(fruits):\n",
    "        fruiteType = fruits[right]\n",
    "        temp[fruiteType] = temp.get(fruiteType, 0)+1\n",
    "        if temp[fruiteType]== 1:\n",
    "            uniqueLength += 1\n",
    "        while uniqueLength>2:\n",
    "            fruiteType = fruits[left]\n",
    "            if fruiteType in temp:\n",
    "                temp[fruiteType] -= 1\n",
    "                if temp[fruiteType] == 0:\n",
    "                    uniqueLength -= 1\n",
    "            left += 1\n",
    "        maxSum = max(maxSum, right-left+1)\n",
    "        right += 1\n",
    "    return maxSum"
   ]
  },
  {
   "cell_type": "code",
   "execution_count": 2,
   "metadata": {},
   "outputs": [
    {
     "data": {
      "text/plain": [
       "4"
      ]
     },
     "execution_count": 2,
     "metadata": {},
     "output_type": "execute_result"
    }
   ],
   "source": [
    "fruits = [1,2,3,2,2]\n",
    "totalFruit(fruits)"
   ]
  },
  {
   "cell_type": "code",
   "execution_count": 3,
   "metadata": {},
   "outputs": [
    {
     "data": {
      "text/plain": [
       "3"
      ]
     },
     "execution_count": 3,
     "metadata": {},
     "output_type": "execute_result"
    }
   ],
   "source": [
    "fruits = [0,1,2,2]\n",
    "totalFruit(fruits)"
   ]
  },
  {
   "cell_type": "code",
   "execution_count": null,
   "metadata": {},
   "outputs": [],
   "source": []
  }
 ],
 "metadata": {
  "kernelspec": {
   "display_name": "Python 3",
   "language": "python",
   "name": "python3"
  },
  "language_info": {
   "codemirror_mode": {
    "name": "ipython",
    "version": 3
   },
   "file_extension": ".py",
   "mimetype": "text/x-python",
   "name": "python",
   "nbconvert_exporter": "python",
   "pygments_lexer": "ipython3",
   "version": "3.8.3"
  }
 },
 "nbformat": 4,
 "nbformat_minor": 4
}

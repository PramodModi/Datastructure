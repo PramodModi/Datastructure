{
 "cells": [
  {
   "cell_type": "markdown",
   "metadata": {},
   "source": [
    "## Problem\n",
    "You are given a string s and an array of strings words of the same length. Return all starting indices of substring(s) in s that is a concatenation of each word in words exactly once, in any order, and without any intervening characters.\n",
    "\n",
    "You can return the answer in any order.\n",
    "\n",
    " \n",
    "\n",
    "Example 1:\n",
    "\n",
    "Input: s = \"barfoothefoobarman\", words = [\"foo\",\"bar\"]\n",
    "\n",
    "Output: [0,9]\n",
    "\n",
    "Explanation: Substrings starting at index 0 and 9 are \"barfoo\" and \"foobar\" respectively.\n",
    "The output order does not matter, returning [9,0] is fine too.\n",
    "\n",
    "Example 2:\n",
    "\n",
    "Input: s = \"wordgoodgoodgoodbestword\", words = [\"word\",\"good\",\"best\",\"word\"]\n",
    "\n",
    "Output: []\n",
    "\n",
    "Example 3:\n",
    "\n",
    "Input: s = \"barfoofoobarthefoobarman\", words = [\"bar\",\"foo\",\"the\"]\n",
    "\n",
    "Output: [6,9,12]"
   ]
  },
  {
   "cell_type": "code",
   "execution_count": 110,
   "metadata": {},
   "outputs": [],
   "source": [
    "def findSubStringIndices(s, L):\n",
    "  \n",
    "    # Number of a characters of a word in list L.\n",
    "    size_word = len(L[0])\n",
    "  \n",
    "    # Number of words present inside list L.\n",
    "    word_count = len(L)\n",
    "  \n",
    "    # Total characters present in list L.\n",
    "    size_L = size_word * word_count\n",
    "  \n",
    "    # Resultant vector which stores indices.\n",
    "    res = []\n",
    "  \n",
    "    # If the total number of characters in list L\n",
    "    # is more than length of string S itself.\n",
    "    if size_L > len(s):\n",
    "        return res\n",
    "  \n",
    "    # Map stores the words present in list L\n",
    "    # against it's occurrences inside list L\n",
    "    hash_map = dict()\n",
    "  \n",
    "    for i in range(word_count):\n",
    "        if L[i] in hash_map:\n",
    "            hash_map[L[i]] += 1\n",
    "        else:\n",
    "            hash_map[L[i]] = 1\n",
    "  \n",
    "    for i in range(0, len(s) - size_L + 1, 1):\n",
    "        temp_hash_map = hash_map.copy()\n",
    "        j = i\n",
    "        count = word_count\n",
    "  \n",
    "        # Traverse the substring\n",
    "        while j < i + size_L:\n",
    "  \n",
    "            # Extract the word\n",
    "            word = s[j:j + size_word]\n",
    "  \n",
    "            # If word not found or if frequency of \n",
    "            # current word is more than required simply break.\n",
    "            if (word not in hash_map or \n",
    "                temp_hash_map[word] == 0):\n",
    "                break\n",
    "  \n",
    "            # Else decrement the count of word\n",
    "            # from hash_map\n",
    "            else:\n",
    "                temp_hash_map[word] -= 1\n",
    "                count -= 1\n",
    "            j += size_word\n",
    "  \n",
    "        # Store the starting index of that substring\n",
    "        # when all the words in the list are in substring\n",
    "        if count == 0:\n",
    "            res.append(i)\n",
    "    return res"
   ]
  },
  {
   "cell_type": "code",
   "execution_count": 111,
   "metadata": {},
   "outputs": [
    {
     "data": {
      "text/plain": [
       "[0]"
      ]
     },
     "execution_count": 111,
     "metadata": {},
     "output_type": "execute_result"
    }
   ],
   "source": [
    "s = \"ababababab\"\n",
    "words = [\"ababa\",\"babab\"]\n",
    "findSubStringIndices(s,words)"
   ]
  },
  {
   "cell_type": "code",
   "execution_count": 112,
   "metadata": {},
   "outputs": [
    {
     "data": {
      "text/plain": [
       "[13]"
      ]
     },
     "execution_count": 112,
     "metadata": {},
     "output_type": "execute_result"
    }
   ],
   "source": [
    "s = \"lingmindraboofooowingdingbarrwingmonkeypoundcake\"\n",
    "words = [\"fooo\",\"barr\",\"wing\",\"ding\",\"wing\"]\n",
    "findSubStringIndices(s,words)"
   ]
  },
  {
   "cell_type": "code",
   "execution_count": 113,
   "metadata": {},
   "outputs": [
    {
     "data": {
      "text/plain": [
       "[6, 9, 12]"
      ]
     },
     "execution_count": 113,
     "metadata": {},
     "output_type": "execute_result"
    }
   ],
   "source": [
    "s = \"barfoofoobarthefoobarman\"\n",
    "words = [\"bar\",\"foo\",\"the\"]\n",
    "findSubStringIndices(s,words)"
   ]
  },
  {
   "cell_type": "code",
   "execution_count": 114,
   "metadata": {},
   "outputs": [
    {
     "data": {
      "text/plain": [
       "[]"
      ]
     },
     "execution_count": 114,
     "metadata": {},
     "output_type": "execute_result"
    }
   ],
   "source": [
    "\"wordgoodgoodgoodbestword\"\n",
    "words = [\"word\",\"good\",\"best\",\"word\"]\n",
    "findSubStringIndices(s,words)"
   ]
  },
  {
   "cell_type": "code",
   "execution_count": 115,
   "metadata": {},
   "outputs": [
    {
     "data": {
      "text/plain": [
       "[0, 9]"
      ]
     },
     "execution_count": 115,
     "metadata": {},
     "output_type": "execute_result"
    }
   ],
   "source": [
    "s = \"barfoothefoobarman\"\n",
    "words = [\"foo\",\"bar\"]\n",
    "findSubStringIndices(s,words)"
   ]
  },
  {
   "cell_type": "code",
   "execution_count": 116,
   "metadata": {},
   "outputs": [
    {
     "data": {
      "text/plain": [
       "[8]"
      ]
     },
     "execution_count": 116,
     "metadata": {},
     "output_type": "execute_result"
    }
   ],
   "source": [
    "s= \"wordgoodgoodgoodbestword\"\n",
    "words = [\"word\",\"good\",\"best\",\"good\"]\n",
    "findSubStringIndices(s,words)"
   ]
  },
  {
   "cell_type": "code",
   "execution_count": 32,
   "metadata": {},
   "outputs": [],
   "source": [
    "def findSubstring(s, words):\n",
    "        word_count = len(words)\n",
    "        word_length = len(words[0])\n",
    "        totalChars = word_count * word_length\n",
    "        \n",
    "        if totalChars > len(s):\n",
    "            return []\n",
    "        temp = {}\n",
    "        for w in words:\n",
    "            temp[w] = temp.get(w, 0) + 1\n",
    "        \n",
    "        result = []\n",
    "        right = 0\n",
    "        left = 0\n",
    "        while left < len(s) - totalChars +1:\n",
    "            count = word_count\n",
    "            temp_words = temp.copy()\n",
    "            right = left\n",
    "            while right < left+totalChars:\n",
    "                w = s[right : right+word_length]\n",
    "                if w not in temp or temp_words[w] == 0:\n",
    "                    break\n",
    "                else:\n",
    "                    temp_words[w] -= 1\n",
    "                    count -= 1\n",
    "                right += word_length\n",
    "            if count == 0:\n",
    "                result.append(left)\n",
    "            left += 1\n",
    "        return result"
   ]
  },
  {
   "cell_type": "code",
   "execution_count": 33,
   "metadata": {},
   "outputs": [
    {
     "data": {
      "text/plain": [
       "[8]"
      ]
     },
     "execution_count": 33,
     "metadata": {},
     "output_type": "execute_result"
    }
   ],
   "source": [
    "s= \"wordgoodgoodgoodbestword\"\n",
    "words = [\"word\",\"good\",\"best\",\"good\"]\n",
    "findSubstring(s,words)"
   ]
  },
  {
   "cell_type": "code",
   "execution_count": 34,
   "metadata": {},
   "outputs": [
    {
     "data": {
      "text/plain": [
       "[1, 10]"
      ]
     },
     "execution_count": 34,
     "metadata": {},
     "output_type": "execute_result"
    }
   ],
   "source": [
    "s = \"bfoobarthefoobarman\"\n",
    "words = [\"foo\",\"bar\"]\n",
    "findSubstring(s,words)"
   ]
  }
 ],
 "metadata": {
  "kernelspec": {
   "display_name": "Python 3",
   "language": "python",
   "name": "python3"
  },
  "language_info": {
   "codemirror_mode": {
    "name": "ipython",
    "version": 3
   },
   "file_extension": ".py",
   "mimetype": "text/x-python",
   "name": "python",
   "nbconvert_exporter": "python",
   "pygments_lexer": "ipython3",
   "version": "3.8.3"
  }
 },
 "nbformat": 4,
 "nbformat_minor": 4
}

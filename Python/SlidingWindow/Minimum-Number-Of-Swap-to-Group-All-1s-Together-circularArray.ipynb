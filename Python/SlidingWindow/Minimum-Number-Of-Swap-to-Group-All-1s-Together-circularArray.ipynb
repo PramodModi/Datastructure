{
 "cells": [
  {
   "cell_type": "markdown",
   "metadata": {},
   "source": [
    "## Leet Code 2134\n",
    "A swap is defined as taking two distinct positions in an array and swapping the values in them.\n",
    "\n",
    "A circular array is defined as an array where we consider the first element and the last element to be adjacent.\n",
    "\n",
    "Given a binary circular array nums, return the minimum number of swaps required to group all 1's present in the array together at any location.\n",
    "\n",
    " \n",
    "\n",
    "Example 1:\n",
    "\n",
    "Input: nums = [0,1,0,1,1,0,0]\n",
    "Output: 1\n",
    "Explanation: Here are a few of the ways to group all the 1's together:\n",
    "[0,0,1,1,1,0,0] using 1 swap.\n",
    "[0,1,1,1,0,0,0] using 1 swap.\n",
    "[1,1,0,0,0,0,1] using 2 swaps (using the circular property of the array).\n",
    "There is no way to group all 1's together with 0 swaps.\n",
    "Thus, the minimum number of swaps required is 1.\n",
    "Example 2:\n",
    "\n",
    "Input: nums = [0,1,1,1,0,0,1,1,0]\n",
    "Output: 2\n",
    "Explanation: Here are a few of the ways to group all the 1's together:\n",
    "[1,1,1,0,0,0,0,1,1] using 2 swaps (using the circular property of the array).\n",
    "[1,1,1,1,1,0,0,0,0] using 2 swaps.\n",
    "There is no way to group all 1's together with 0 or 1 swaps.\n",
    "Thus, the minimum number of swaps required is 2.\n",
    "Example 3:\n",
    "\n",
    "Input: nums = [1,1,0,0,1]\n",
    "Output: 0\n",
    "Explanation: All the 1's are already grouped together due to the circular property of the array.\n",
    "Thus, the minimum number of swaps required is 0.\n",
    " \n",
    "\n",
    "Constraints:\n",
    "\n",
    "1 <= nums.length <= 105\n",
    "nums[i] is either 0 or 1."
   ]
  },
  {
   "cell_type": "markdown",
   "metadata": {},
   "source": [
    "#### Approach : \n",
    "Find the number of all 1's in the array, say K. Now, window is of size k. The minimum number of swap means, find minimum number of zeros in the window.\n",
    "As it is circular array, so iterate array = 2 * length of array"
   ]
  },
  {
   "cell_type": "code",
   "execution_count": 1,
   "metadata": {},
   "outputs": [],
   "source": [
    " def minSwaps(nums):\n",
    "        k = nums.count(1)\n",
    "        left = 0\n",
    "        right = k\n",
    "        minSwap = zeros = nums[:k].count(0)\n",
    "        n = len(nums)\n",
    "        while(right < 2*n): # Multiply by 2 to consider circular array\n",
    "            if 0 == nums[left%n]: # divideded by %n so that it should not go out of bond\n",
    "                zeros -= 1\n",
    "            if(0 == nums[right%n]):\n",
    "                zeros += 1\n",
    "            minSwap = min(minSwap, zeros)\n",
    "            left += 1\n",
    "            right += 1\n",
    "        return minSwap"
   ]
  },
  {
   "cell_type": "code",
   "execution_count": 2,
   "metadata": {},
   "outputs": [
    {
     "data": {
      "text/plain": [
       "1"
      ]
     },
     "execution_count": 2,
     "metadata": {},
     "output_type": "execute_result"
    }
   ],
   "source": [
    "nums = [0,1,0,1,1,0,0]\n",
    "minSwaps(nums)"
   ]
  },
  {
   "cell_type": "code",
   "execution_count": 3,
   "metadata": {},
   "outputs": [
    {
     "data": {
      "text/plain": [
       "2"
      ]
     },
     "execution_count": 3,
     "metadata": {},
     "output_type": "execute_result"
    }
   ],
   "source": [
    "nums = [0,1,1,1,0,0,1,1,0]\n",
    "minSwaps(nums)"
   ]
  },
  {
   "cell_type": "code",
   "execution_count": 4,
   "metadata": {},
   "outputs": [
    {
     "data": {
      "text/plain": [
       "0"
      ]
     },
     "execution_count": 4,
     "metadata": {},
     "output_type": "execute_result"
    }
   ],
   "source": [
    "nums = [1,1,0,0,1]\n",
    "minSwaps(nums)"
   ]
  },
  {
   "cell_type": "code",
   "execution_count": null,
   "metadata": {},
   "outputs": [],
   "source": []
  }
 ],
 "metadata": {
  "kernelspec": {
   "display_name": "Python 3",
   "language": "python",
   "name": "python3"
  },
  "language_info": {
   "codemirror_mode": {
    "name": "ipython",
    "version": 3
   },
   "file_extension": ".py",
   "mimetype": "text/x-python",
   "name": "python",
   "nbconvert_exporter": "python",
   "pygments_lexer": "ipython3",
   "version": "3.8.3"
  }
 },
 "nbformat": 4,
 "nbformat_minor": 4
}

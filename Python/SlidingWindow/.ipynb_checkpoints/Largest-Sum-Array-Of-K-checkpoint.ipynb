{
 "cells": [
  {
   "cell_type": "markdown",
   "metadata": {},
   "source": [
    "## Problem\n",
    "\n",
    "Given array of numbers, find the largest subarray having sum of elements is k.\n",
    "\n",
    "example:\n",
    "\n",
    "array = [4,1,1,1,1,1,2,3,5]\n",
    "\n",
    "k = 5\n",
    "\n",
    "output = 5 //subarray = [1,1,1,1,1]\n"
   ]
  },
  {
   "cell_type": "code",
   "execution_count": 12,
   "metadata": {},
   "outputs": [],
   "source": [
    "def largestSubarraySum(array, k):\n",
    "    n = len(array)\n",
    "    \n",
    "    length = 0\n",
    "    sum = 0\n",
    "    j =0\n",
    "    while j < len(array):\n",
    "        sum = sum + array[j]\n",
    "        if sum == k:\n",
    "            break\n",
    "        j += 1\n",
    "    if sum == k:\n",
    "        length = j+1\n",
    "        \n",
    "    left = 0\n",
    "    right = j + 1\n",
    "    \n",
    "    while right < len(array):\n",
    "        \n",
    "        sum = sum + array[right]\n",
    "        while sum > k and left<=right:\n",
    "            sum = sum - array[left]\n",
    "            left += 1\n",
    "        if sum == k:\n",
    "            l = right - left + 1\n",
    "            length = max(length, l)\n",
    "        #left += 1\n",
    "        right += 1\n",
    "    return length\n",
    "        \n",
    "        \n",
    "        "
   ]
  },
  {
   "cell_type": "code",
   "execution_count": 18,
   "metadata": {},
   "outputs": [
    {
     "name": "stdout",
     "output_type": "stream",
     "text": [
      "sum =  5\n",
      "length =  2\n",
      "left =  0\n",
      "right =  2\n",
      "sum =  4\n",
      "length =  2\n",
      "left =  0\n",
      "right =  3\n",
      "sum =  5\n",
      "length =  4\n",
      "left =  0\n",
      "right =  4\n",
      "sum =  -5\n",
      "length =  4\n",
      "left =  0\n",
      "right =  5\n",
      "sum =  -4\n",
      "length =  4\n",
      "left =  0\n",
      "right =  6\n",
      "sum =  -2\n",
      "length =  4\n",
      "left =  0\n",
      "right =  7\n",
      "sum =  1\n",
      "length =  4\n",
      "left =  0\n",
      "right =  8\n",
      "sum =  5\n",
      "length =  9\n",
      "left =  0\n",
      "right =  9\n"
     ]
    },
    {
     "data": {
      "text/plain": [
       "9"
      ]
     },
     "execution_count": 18,
     "metadata": {},
     "output_type": "execute_result"
    }
   ],
   "source": [
    "#array = [4,1,1,1,1,1,2,3,5]\n",
    "#array = [4,1,10,1,1,1,1,2,3,5]\n",
    "#array = [5,3,2]\n",
    "array = [4,1,-1,1,-10,1,2,3,4,5]\n",
    "k = 5\n",
    "largestSubarraySum(array, k)"
   ]
  },
  {
   "cell_type": "code",
   "execution_count": null,
   "metadata": {},
   "outputs": [],
   "source": []
  },
  {
   "cell_type": "code",
   "execution_count": null,
   "metadata": {},
   "outputs": [],
   "source": []
  }
 ],
 "metadata": {
  "kernelspec": {
   "display_name": "Python 3",
   "language": "python",
   "name": "python3"
  },
  "language_info": {
   "codemirror_mode": {
    "name": "ipython",
    "version": 3
   },
   "file_extension": ".py",
   "mimetype": "text/x-python",
   "name": "python",
   "nbconvert_exporter": "python",
   "pygments_lexer": "ipython3",
   "version": "3.8.3"
  }
 },
 "nbformat": 4,
 "nbformat_minor": 4
}

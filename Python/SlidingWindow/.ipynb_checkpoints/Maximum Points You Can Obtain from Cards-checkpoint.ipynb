{
 "cells": [
  {
   "cell_type": "markdown",
   "metadata": {},
   "source": [
    "## Problem\n",
    "There are several cards arranged in a row, and each card has an associated number of points. The points are given in the integer array cardPoints.\n",
    "\n",
    "In one step, you can take one card from the beginning or from the end of the row. You have to take exactly k cards.\n",
    "\n",
    "Your score is the sum of the points of the cards you have taken.\n",
    "\n",
    "Given the integer array cardPoints and the integer k, return the maximum score you can obtain.\n",
    "\n",
    " \n",
    "\n",
    "Example 1:\n",
    "\n",
    "Input: cardPoints = [1,2,3,4,5,6,1], k = 3\n",
    "\n",
    "Output: 12\n",
    "\n",
    "Explanation: After the first step, your score will always be 1. However, choosing the rightmost card first will maximize your total score. The optimal strategy is to take the three cards on the right, giving a final score of 1 + 6 + 5 = 12.\n",
    "\n",
    "Example 2:\n",
    "\n",
    "Input: cardPoints = [2,2,2], k = 2\n",
    "\n",
    "Output: 4\n",
    "\n",
    "Explanation: Regardless of which two cards you take, your score will always be 4.\n",
    "\n",
    "Example 3:\n",
    "\n",
    "Input: cardPoints = [9,7,7,9,7,7,9], k = 7\n",
    "\n",
    "Output: 55\n",
    "\n",
    "Explanation: You have to take all the cards. Your score is the sum of points of all cards."
   ]
  },
  {
   "cell_type": "code",
   "execution_count": 11,
   "metadata": {},
   "outputs": [],
   "source": [
    "# O(k+k) time = O(k) time\n",
    "def MaxPoints(cardPoints, k):\n",
    "    # Creating windows of starting position at 0 and end at the right \n",
    "    # (all items except k element would be part of windows)\n",
    "    left, right = 0, len(cardPoints)-k\n",
    "    # Sum of all k items (outside of windows)\n",
    "    totalPoints = sum(cardPoints[right:])\n",
    "    # Storing the result to have maximum sum\n",
    "    result = totalPoints\n",
    "    \n",
    "    # Slide the windows to right by 1 and stop it once right side touches to end of array\n",
    "    while right < len(cardPoints):\n",
    "        # After each slide, need to update the total, as one right element would be added in the window and \n",
    "        # one left element remove from window.\n",
    "        # As we have sum of items out side of window, so added item into the window should be remove and left\n",
    "        # element which is now outside of window should be added to the sum\n",
    "        totalPoints += cardPoints[left] - cardPoints[right]\n",
    "        result = max(result, totalPoints)\n",
    "        right += 1\n",
    "        left += 1\n",
    "    return result"
   ]
  },
  {
   "cell_type": "code",
   "execution_count": 12,
   "metadata": {},
   "outputs": [
    {
     "data": {
      "text/plain": [
       "12"
      ]
     },
     "execution_count": 12,
     "metadata": {},
     "output_type": "execute_result"
    }
   ],
   "source": [
    "cardPoints = [1,2,3,4,5,6,1]\n",
    "k = 3\n",
    "MaxPoints(cardPoints, k)"
   ]
  },
  {
   "cell_type": "code",
   "execution_count": null,
   "metadata": {},
   "outputs": [],
   "source": []
  }
 ],
 "metadata": {
  "kernelspec": {
   "display_name": "Python 3",
   "language": "python",
   "name": "python3"
  },
  "language_info": {
   "codemirror_mode": {
    "name": "ipython",
    "version": 3
   },
   "file_extension": ".py",
   "mimetype": "text/x-python",
   "name": "python",
   "nbconvert_exporter": "python",
   "pygments_lexer": "ipython3",
   "version": "3.8.3"
  }
 },
 "nbformat": 4,
 "nbformat_minor": 4
}

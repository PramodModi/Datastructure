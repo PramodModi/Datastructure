{
 "cells": [
  {
   "cell_type": "markdown",
   "metadata": {},
   "source": [
    "## Problem\n",
    "\n",
    "List out maximum of elements of subarray of size k from the given array.\n",
    "\n",
    "Example:\n",
    "\n",
    "array = [2,3,-1,2,5,1,2,3,-2,7]\n",
    "\n",
    "k = 3\n",
    "\n",
    "output = [3,3,5,5,5,3,3,7]"
   ]
  },
  {
   "cell_type": "code",
   "execution_count": 8,
   "metadata": {},
   "outputs": [],
   "source": [
    "def maxElementsInSubarray(array, k):\n",
    "    \n",
    "    temp = []\n",
    "    for j in range(k):\n",
    "        e = array[j]\n",
    "        while len(temp)>0 and e>temp[0]:\n",
    "            temp.pop(0)\n",
    "        temp.append(e)\n",
    "    \n",
    "    result = []\n",
    "    left = 0\n",
    "    right = j+1\n",
    "    result.append(temp[0])\n",
    "    while right < len(array):\n",
    "        \n",
    "        e = array[left]\n",
    "        if e == temp[0]:\n",
    "            temp.pop(0)\n",
    "        e = array[right]\n",
    "        while len(temp)>0 and e>temp[0]:\n",
    "            temp.pop(0)\n",
    "        temp.append(e)\n",
    "        \n",
    "        result.append(temp[0])\n",
    "        left += 1\n",
    "        right += 1\n",
    "    return result\n",
    "        \n",
    "        \n",
    "        "
   ]
  },
  {
   "cell_type": "code",
   "execution_count": 9,
   "metadata": {},
   "outputs": [
    {
     "name": "stdout",
     "output_type": "stream",
     "text": [
      "[3, -1]\n",
      "[3, -1, 2]\n",
      "[5]\n",
      "[5, 1]\n",
      "[5, 1, 2]\n",
      "[3]\n",
      "[3, -2]\n"
     ]
    },
    {
     "data": {
      "text/plain": [
       "[3, 3, 5, 5, 5, 3, 3, 7]"
      ]
     },
     "execution_count": 9,
     "metadata": {},
     "output_type": "execute_result"
    }
   ],
   "source": [
    "array = [2,3,-1,2,5,1,2,3,-2,7]\n",
    "k = 3\n",
    "maxElementsInSubarray(array, k)"
   ]
  },
  {
   "cell_type": "code",
   "execution_count": null,
   "metadata": {},
   "outputs": [],
   "source": []
  }
 ],
 "metadata": {
  "kernelspec": {
   "display_name": "Python 3",
   "language": "python",
   "name": "python3"
  },
  "language_info": {
   "codemirror_mode": {
    "name": "ipython",
    "version": 3
   },
   "file_extension": ".py",
   "mimetype": "text/x-python",
   "name": "python",
   "nbconvert_exporter": "python",
   "pygments_lexer": "ipython3",
   "version": "3.8.3"
  }
 },
 "nbformat": 4,
 "nbformat_minor": 4
}

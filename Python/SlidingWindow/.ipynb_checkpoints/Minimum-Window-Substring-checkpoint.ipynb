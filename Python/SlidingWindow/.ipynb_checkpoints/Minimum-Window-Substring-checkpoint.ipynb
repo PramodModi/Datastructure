{
 "cells": [
  {
   "cell_type": "markdown",
   "metadata": {},
   "source": [
    "## Problem\n",
    "\n",
    "given two string s1 and s2. Find the minimum substring in s1 so that s2 characters should be there. Order of s2 chanarcters are not ncessary important also no need to have continuoius s2's characters.\n",
    "\n",
    "Example:\n",
    "\n",
    "s1 = \"aabcdssddefr\"\n",
    "\n",
    "s2 = \"bds\"\n",
    "\n",
    "output= 4 //bcds"
   ]
  },
  {
   "cell_type": "code",
   "execution_count": 31,
   "metadata": {},
   "outputs": [],
   "source": [
    "def minimumWindowSubstring(s1, s2):\n",
    "    temp = {}\n",
    "    for c in s2:\n",
    "        temp[c] = temp.get(c,0) + 1\n",
    "    \n",
    "    right = 0\n",
    "    left = 0\n",
    "    remainingChar = len(temp)\n",
    "    result = float('inf')\n",
    "    while right<len(s1):\n",
    "        c = s1[right]\n",
    "        if c in temp:\n",
    "            temp[c] -= 1\n",
    "            if temp[c] == 0:\n",
    "                remainingChar -= 1\n",
    "        while remainingChar == 0:\n",
    "            c = s1[left]\n",
    "            if c in temp:\n",
    "                temp[c] += 1\n",
    "                if temp[c] == 1:\n",
    "                    remainingChar += 1\n",
    "            left += 1\n",
    "            result = min(result, right-left + 1)           \n",
    "        right += 1\n",
    "    return result+1\n",
    "    \n",
    "    \n",
    "                \n",
    "            \n",
    "        \n",
    "    "
   ]
  },
  {
   "cell_type": "code",
   "execution_count": 32,
   "metadata": {},
   "outputs": [
    {
     "data": {
      "text/plain": [
       "3"
      ]
     },
     "execution_count": 32,
     "metadata": {},
     "output_type": "execute_result"
    }
   ],
   "source": [
    "s1 = \"totmtaptat\"\n",
    "s2 = \"tta\"\n",
    "minimumWindowSubstring(s1,s2)"
   ]
  },
  {
   "cell_type": "code",
   "execution_count": 33,
   "metadata": {},
   "outputs": [
    {
     "data": {
      "text/plain": [
       "2"
      ]
     },
     "execution_count": 33,
     "metadata": {},
     "output_type": "execute_result"
    }
   ],
   "source": [
    "s1 = \"abcdecade\"\n",
    "s2 = \"ad\"\n",
    "minimumWindowSubstring(s1,s2)"
   ]
  },
  {
   "cell_type": "code",
   "execution_count": null,
   "metadata": {},
   "outputs": [],
   "source": [
    "s1 = \"aabcdssddefr\"\n",
    "s2 = \"bds\"\n",
    "minimumWindowSubstring(s1,s2)"
   ]
  }
 ],
 "metadata": {
  "kernelspec": {
   "display_name": "Python 3",
   "language": "python",
   "name": "python3"
  },
  "language_info": {
   "codemirror_mode": {
    "name": "ipython",
    "version": 3
   },
   "file_extension": ".py",
   "mimetype": "text/x-python",
   "name": "python",
   "nbconvert_exporter": "python",
   "pygments_lexer": "ipython3",
   "version": "3.8.3"
  }
 },
 "nbformat": 4,
 "nbformat_minor": 4
}

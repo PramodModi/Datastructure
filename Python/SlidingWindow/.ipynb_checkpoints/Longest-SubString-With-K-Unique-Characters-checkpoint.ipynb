{
 "cells": [
  {
   "cell_type": "code",
   "execution_count": 49,
   "metadata": {},
   "outputs": [],
   "source": [
    "def longestSubstringWithKUniqueChar(string, k):\n",
    "    right = 0\n",
    "    temp = {}\n",
    "    while right < len(string):\n",
    "        temp[string[right]] = temp.get(string[right], 0) + 1\n",
    "        if len(temp) == k:\n",
    "            break\n",
    "        right += 1\n",
    "    right += 1\n",
    "    length = 0\n",
    "    if len(temp) == k:\n",
    "        length = right\n",
    "    \n",
    "    left = 0\n",
    "    \n",
    "    while right < len(string):\n",
    "        s = string[right]\n",
    "        temp[s] = temp.get(s, 0)+ 1\n",
    "        \n",
    "        while len(temp)> k and left<= right:\n",
    "            s = string[left]\n",
    "            s_count = temp[s]-1\n",
    "            if s_count == 0:\n",
    "                temp.pop(s)\n",
    "            else:\n",
    "                temp[s] = s_count\n",
    "            left += 1\n",
    "        if len(temp) == k:\n",
    "            l = right - left + 1\n",
    "            length = max(length, l)\n",
    "        right += 1\n",
    "    return length   "
   ]
  },
  {
   "cell_type": "code",
   "execution_count": 50,
   "metadata": {},
   "outputs": [
    {
     "data": {
      "text/plain": [
       "7"
      ]
     },
     "execution_count": 50,
     "metadata": {},
     "output_type": "execute_result"
    }
   ],
   "source": [
    "string = \"aabacbebebe\"\n",
    "k = 3\n",
    "longestSubstringWithKUniqueChar(string, k)"
   ]
  },
  {
   "cell_type": "code",
   "execution_count": 51,
   "metadata": {},
   "outputs": [
    {
     "data": {
      "text/plain": [
       "9"
      ]
     },
     "execution_count": 51,
     "metadata": {},
     "output_type": "execute_result"
    }
   ],
   "source": [
    "string = \"bcdaabbcccbbdbacyz\"\n",
    "k = 3\n",
    "longestSubstringWithKUniqueChar(string, k)"
   ]
  },
  {
   "cell_type": "code",
   "execution_count": null,
   "metadata": {},
   "outputs": [],
   "source": []
  }
 ],
 "metadata": {
  "kernelspec": {
   "display_name": "Python 3",
   "language": "python",
   "name": "python3"
  },
  "language_info": {
   "codemirror_mode": {
    "name": "ipython",
    "version": 3
   },
   "file_extension": ".py",
   "mimetype": "text/x-python",
   "name": "python",
   "nbconvert_exporter": "python",
   "pygments_lexer": "ipython3",
   "version": "3.8.3"
  }
 },
 "nbformat": 4,
 "nbformat_minor": 4
}

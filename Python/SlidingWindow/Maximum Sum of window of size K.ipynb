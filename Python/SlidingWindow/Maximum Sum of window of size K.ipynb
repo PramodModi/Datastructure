{
 "cells": [
  {
   "cell_type": "markdown",
   "metadata": {},
   "source": [
    "## Problem\n",
    "Calculate the sum of each window of size K and print the maximum sum.\n",
    "\n",
    "Example:\n",
    "\n",
    "array = [2,5,1,8,2,9,1] , k = 3\n",
    "\n",
    "output = 19"
   ]
  },
  {
   "cell_type": "code",
   "execution_count": 11,
   "metadata": {},
   "outputs": [],
   "source": [
    "def maxSumSubseq(array, k):\n",
    "    total = 0\n",
    "    for j in range(k):\n",
    "        total += array[j]\n",
    "    \n",
    "    result = total\n",
    "    \n",
    "    left = 0\n",
    "    right = j + 1\n",
    "    while right < len(array):\n",
    "        total += array[right]- array[left]\n",
    "        result = max(result, total)\n",
    "        right += 1\n",
    "        left += 1\n",
    "    return result\n",
    "    "
   ]
  },
  {
   "cell_type": "code",
   "execution_count": 12,
   "metadata": {},
   "outputs": [
    {
     "data": {
      "text/plain": [
       "19"
      ]
     },
     "execution_count": 12,
     "metadata": {},
     "output_type": "execute_result"
    }
   ],
   "source": [
    "array = [2,5,1,8,2,9,1] \n",
    "k = 3\n",
    "maxSumSubseq(array, k)"
   ]
  },
  {
   "cell_type": "code",
   "execution_count": null,
   "metadata": {},
   "outputs": [],
   "source": []
  }
 ],
 "metadata": {
  "kernelspec": {
   "display_name": "Python 3",
   "language": "python",
   "name": "python3"
  },
  "language_info": {
   "codemirror_mode": {
    "name": "ipython",
    "version": 3
   },
   "file_extension": ".py",
   "mimetype": "text/x-python",
   "name": "python",
   "nbconvert_exporter": "python",
   "pygments_lexer": "ipython3",
   "version": "3.8.3"
  }
 },
 "nbformat": 4,
 "nbformat_minor": 4
}

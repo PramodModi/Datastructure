{
 "cells": [
  {
   "cell_type": "markdown",
   "metadata": {},
   "source": [
    "## Problem\n",
    "\n",
    "Find the occurrence of anagram of given pattern in the given string.\n",
    "Anagram of string means: same lettres in any order. example: Anagram of abc are abc, acb, bca, bac, cab, cba.\n",
    "\n",
    "Example:\n",
    "\n",
    "string = \"aaabaabacbbaaabaa\n",
    "\n",
    "pattern = \"aaba\"\n",
    "\n",
    "output = 8"
   ]
  },
  {
   "cell_type": "code",
   "execution_count": 17,
   "metadata": {},
   "outputs": [],
   "source": [
    "def occurenceOfAnagram(string, pattern):\n",
    "    # hash table to create count of each letter of pattern\n",
    "    temp = {}\n",
    "    # inserting the letter of pattern in hashtable with count\n",
    "    for s in pattern:\n",
    "        temp[s] = temp.get(s,0) + 1\n",
    "    \n",
    "    k = len(pattern)\n",
    "    \n",
    "    #As we need to look at the anagram, so we will be looking number of each letter of pattern in the \n",
    "    # window of size k (length of pattern)\n",
    "    # keep number of unique letter in the pattern.\n",
    "    patternLetter = len(temp)\n",
    "   \n",
    "    # initial window of size k. letters which are found in the string in whindow, if present in the hashtable\n",
    "    # then decrease the count. If count of each letter in the hash table is zero that means, anagram of\n",
    "    # pattern match.\n",
    "    # So, decrease the count of unique letter calculated above (patternLetter), if each element count is zero\n",
    "    # in hashtable . If patternLetter == 0 then there is pattern match.\n",
    "    for j in range(k):\n",
    "        l = string[j]\n",
    "        if l in temp:\n",
    "            temp[l] -= 1\n",
    "            if temp[l] == 0:\n",
    "                patternLetter -= 1\n",
    "    \n",
    "    left = 0\n",
    "    right = j+1\n",
    "    # Count is number of matches. If patternLetter == 0 then there is anagram of pattern match.\n",
    "    count = 1 if patternLetter == 0 else 0\n",
    "    # Slide the window\n",
    "    while right < len(string):\n",
    "        \n",
    "        s = string[left]\n",
    "        # if s is available in the hashtable, then increase the count, as window is sliding, hence left element\n",
    "        # is out from window. Also, if letter count is 1, then increase the patternLetter by 1.\n",
    "        if s in temp:\n",
    "            temp[s] += 1\n",
    "            if temp[s] == 1:\n",
    "                patternLetter += 1\n",
    "        \n",
    "        # if s is available in the hashtable, then decrease the count, as window is sliding, hence right element\n",
    "        # is in the window. Also, if letter count is 0, then decrease the patternLetter by 1.\n",
    "        s = string[right]\n",
    "        if s in temp:\n",
    "            temp[s] -= 1\n",
    "            if temp[s] == 0:\n",
    "                patternLetter -= 1\n",
    "        # If patternLetter is zero then anagram of pattern match, so increase the count.\n",
    "        if patternLetter == 0:\n",
    "            count += 1\n",
    "        # Slide the window\n",
    "        left += 1\n",
    "        right += 1\n",
    "    \n",
    "    return count\n",
    "    "
   ]
  },
  {
   "cell_type": "code",
   "execution_count": 18,
   "metadata": {},
   "outputs": [
    {
     "data": {
      "text/plain": [
       "8"
      ]
     },
     "execution_count": 18,
     "metadata": {},
     "output_type": "execute_result"
    }
   ],
   "source": [
    "string = \"aaabaabacbbaaabaa\"\n",
    "pattern = \"aaba\"\n",
    "occurenceOfAnagram(string, pattern)"
   ]
  },
  {
   "cell_type": "markdown",
   "metadata": {},
   "source": [
    "### Return an array of all the start indices of pattern anagrams in string, in place of count."
   ]
  },
  {
   "cell_type": "code",
   "execution_count": 19,
   "metadata": {},
   "outputs": [],
   "source": [
    "def indicesOfAnagram(s, p):\n",
    "    k = len(p)\n",
    "    temp = {}\n",
    "    for c in p:\n",
    "        temp[c] = temp.get(c, 0) + 1\n",
    "    \n",
    "    totalChars = len(temp)\n",
    "    for r in range(k):\n",
    "        c = s[r]\n",
    "        if c in temp:\n",
    "            temp[c] -= 1\n",
    "            if temp[c] == 0:\n",
    "                totalChars -= 1\n",
    "    result = []\n",
    "    if totalChars == 0:\n",
    "        result.append(0)\n",
    "    l = 0\n",
    "    r = k\n",
    "    while r < len(s):\n",
    "        c = s[l]\n",
    "        if c in temp:\n",
    "            temp[c] += 1\n",
    "            if temp[c] == 1:\n",
    "                totalChars += 1\n",
    "        c = s[r]\n",
    "        if c in temp:\n",
    "            temp[c] -= 1\n",
    "            if temp[c] == 0:\n",
    "                totalChars -= 1\n",
    "        l += 1\n",
    "        if totalChars == 0:\n",
    "            result.append(l)\n",
    "        r += 1\n",
    "    return result\n",
    "        "
   ]
  },
  {
   "cell_type": "code",
   "execution_count": 21,
   "metadata": {},
   "outputs": [
    {
     "data": {
      "text/plain": [
       "[0, 1, 2, 4, 10, 11, 12, 13]"
      ]
     },
     "execution_count": 21,
     "metadata": {},
     "output_type": "execute_result"
    }
   ],
   "source": [
    "string = \"aaabaabacbbaaabaa\"\n",
    "pattern = \"aaba\"\n",
    "indicesOfAnagram(string, pattern)"
   ]
  },
  {
   "cell_type": "code",
   "execution_count": 22,
   "metadata": {},
   "outputs": [
    {
     "data": {
      "text/plain": [
       "[0, 6]"
      ]
     },
     "execution_count": 22,
     "metadata": {},
     "output_type": "execute_result"
    }
   ],
   "source": [
    "s = \"cbaebabacd\"\n",
    "p = \"abc\"\n",
    "indicesOfAnagram(s, p)"
   ]
  },
  {
   "cell_type": "code",
   "execution_count": null,
   "metadata": {},
   "outputs": [],
   "source": []
  }
 ],
 "metadata": {
  "kernelspec": {
   "display_name": "Python 3",
   "language": "python",
   "name": "python3"
  },
  "language_info": {
   "codemirror_mode": {
    "name": "ipython",
    "version": 3
   },
   "file_extension": ".py",
   "mimetype": "text/x-python",
   "name": "python",
   "nbconvert_exporter": "python",
   "pygments_lexer": "ipython3",
   "version": "3.8.3"
  }
 },
 "nbformat": 4,
 "nbformat_minor": 4
}

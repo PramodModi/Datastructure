{
 "cells": [
  {
   "cell_type": "code",
   "execution_count": 52,
   "metadata": {},
   "outputs": [],
   "source": [
    "def longestSubstringWithKUniqueChar(string, k):\n",
    "    right = 0\n",
    "    temp = {}\n",
    "    while right < len(string):\n",
    "        temp[string[right]] = temp.get(string[right], 0) + 1\n",
    "        if len(temp) == k:\n",
    "            break\n",
    "        right += 1\n",
    "    right += 1\n",
    "    length = 0\n",
    "    if len(temp) == k:\n",
    "        length = right\n",
    "    \n",
    "    left = 0\n",
    "    \n",
    "    while right < len(string):\n",
    "        s = string[right]\n",
    "        temp[s] = temp.get(s, 0)+ 1\n",
    "        \n",
    "        while len(temp)> k and left<= right:\n",
    "            s = string[left]\n",
    "            s_count = temp[s]-1\n",
    "            if s_count == 0:\n",
    "                temp.pop(s)\n",
    "            else:\n",
    "                temp[s] = s_count\n",
    "            left += 1\n",
    "        if len(temp) == k:\n",
    "            l = right - left + 1\n",
    "            length = max(length, l)\n",
    "        right += 1\n",
    "    return length   "
   ]
  },
  {
   "cell_type": "code",
   "execution_count": 50,
   "metadata": {},
   "outputs": [
    {
     "data": {
      "text/plain": [
       "7"
      ]
     },
     "execution_count": 50,
     "metadata": {},
     "output_type": "execute_result"
    }
   ],
   "source": [
    "string = \"aabacbebebe\"\n",
    "k = 3\n",
    "longestSubstringWithKUniqueChar(string, k)"
   ]
  },
  {
   "cell_type": "code",
   "execution_count": 51,
   "metadata": {},
   "outputs": [
    {
     "data": {
      "text/plain": [
       "9"
      ]
     },
     "execution_count": 51,
     "metadata": {},
     "output_type": "execute_result"
    }
   ],
   "source": [
    "string = \"bcdaabbcccbbdbacyz\"\n",
    "k = 3\n",
    "longestSubstringWithKUniqueChar(string, k)"
   ]
  },
  {
   "cell_type": "code",
   "execution_count": 53,
   "metadata": {},
   "outputs": [
    {
     "data": {
      "text/plain": [
       "15"
      ]
     },
     "execution_count": 53,
     "metadata": {},
     "output_type": "execute_result"
    }
   ],
   "source": [
    "string = \"aaaabccccccccccd\"\n",
    "k = 3\n",
    "longestSubstringWithKUniqueChar(string, k)"
   ]
  },
  {
   "cell_type": "code",
   "execution_count": 1,
   "metadata": {},
   "outputs": [],
   "source": [
    "# Optimized\n",
    "\n",
    "def maxlenSubStringKUniqueChar(string, k):\n",
    "    temp = {}\n",
    "    ml =0\n",
    "    l =0\n",
    "    r = 0\n",
    "    uniqueLen = 0\n",
    "    while r < len(string):\n",
    "        s = string[r]\n",
    "        temp[s] = temp.get(s, 0) + 1\n",
    "        if temp[s]==1:\n",
    "            uniqueLen += 1\n",
    "        while uniqueLen > k:\n",
    "            sl = string[l]\n",
    "            if sl in temp:\n",
    "                temp[sl] -= 1\n",
    "                if temp[sl] == 0:\n",
    "                    uniqueLen -= 1\n",
    "            l += 1\n",
    "        if uniqueLen == k:\n",
    "            ml = max(ml, r-l+1)\n",
    "        r += 1\n",
    "    return ml\n",
    "            "
   ]
  },
  {
   "cell_type": "code",
   "execution_count": 3,
   "metadata": {},
   "outputs": [
    {
     "data": {
      "text/plain": [
       "9"
      ]
     },
     "execution_count": 3,
     "metadata": {},
     "output_type": "execute_result"
    }
   ],
   "source": [
    "string = \"bcdaabbcccbbdbacyz\"\n",
    "k = 3\n",
    "maxlenSubStringKUniqueChar(string, k)"
   ]
  },
  {
   "cell_type": "code",
   "execution_count": null,
   "metadata": {},
   "outputs": [],
   "source": []
  }
 ],
 "metadata": {
  "kernelspec": {
   "display_name": "Python 3",
   "language": "python",
   "name": "python3"
  },
  "language_info": {
   "codemirror_mode": {
    "name": "ipython",
    "version": 3
   },
   "file_extension": ".py",
   "mimetype": "text/x-python",
   "name": "python",
   "nbconvert_exporter": "python",
   "pygments_lexer": "ipython3",
   "version": "3.8.3"
  }
 },
 "nbformat": 4,
 "nbformat_minor": 4
}

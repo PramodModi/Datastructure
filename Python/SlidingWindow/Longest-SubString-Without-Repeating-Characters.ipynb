{
 "cells": [
  {
   "cell_type": "code",
   "execution_count": 5,
   "metadata": {},
   "outputs": [],
   "source": [
    "def longestSubstringWithoutRepeatingChars(string):\n",
    "    if len(string)==0:\n",
    "        return 0\n",
    "    right = 0\n",
    "    temp = {}\n",
    "    # No need of initial window in this case. As first charactre is unique always. So first window will have \n",
    "    # length of 1\n",
    "#     while right < len(string):\n",
    "#         temp[string[right]] = temp.get(string[right], 0) + 1\n",
    "#         if len(temp) == k:\n",
    "#             break\n",
    "#         right += 1\n",
    "    temp[string[0]] = 1\n",
    "    right += 1\n",
    "    length = 1\n",
    "    \n",
    "    left = 0\n",
    "    \n",
    "    while right < len(string):\n",
    "        s = string[right]\n",
    "        temp[s] = temp.get(s, 0)+ 1\n",
    "        \n",
    "        while (right-left+1) > len(temp):\n",
    "            s = string[left]\n",
    "            s_count = temp[s]-1\n",
    "            if s_count == 0:\n",
    "                temp.pop(s)\n",
    "            else:\n",
    "                temp[s] = s_count\n",
    "            left += 1\n",
    "        if len(temp) == (right-left+1):\n",
    "            l = right - left + 1\n",
    "            length = max(length, l)\n",
    "        right += 1\n",
    "    return length  "
   ]
  },
  {
   "cell_type": "code",
   "execution_count": 6,
   "metadata": {},
   "outputs": [
    {
     "data": {
      "text/plain": [
       "2"
      ]
     },
     "execution_count": 6,
     "metadata": {},
     "output_type": "execute_result"
    }
   ],
   "source": [
    "string = \"aaabb\"\n",
    "longestSubstringWithoutRepeatingChars(string)"
   ]
  },
  {
   "cell_type": "code",
   "execution_count": 7,
   "metadata": {},
   "outputs": [
    {
     "data": {
      "text/plain": [
       "5"
      ]
     },
     "execution_count": 7,
     "metadata": {},
     "output_type": "execute_result"
    }
   ],
   "source": [
    "string = \"abcdeeefff\"\n",
    "longestSubstringWithoutRepeatingChars(string)"
   ]
  },
  {
   "cell_type": "code",
   "execution_count": 8,
   "metadata": {},
   "outputs": [
    {
     "data": {
      "text/plain": [
       "7"
      ]
     },
     "execution_count": 8,
     "metadata": {},
     "output_type": "execute_result"
    }
   ],
   "source": [
    "string = \"abcaabcdefggghhf\"\n",
    "longestSubstringWithoutRepeatingChars(string)"
   ]
  },
  {
   "cell_type": "code",
   "execution_count": null,
   "metadata": {},
   "outputs": [],
   "source": []
  }
 ],
 "metadata": {
  "kernelspec": {
   "display_name": "Python 3",
   "language": "python",
   "name": "python3"
  },
  "language_info": {
   "codemirror_mode": {
    "name": "ipython",
    "version": 3
   },
   "file_extension": ".py",
   "mimetype": "text/x-python",
   "name": "python",
   "nbconvert_exporter": "python",
   "pygments_lexer": "ipython3",
   "version": "3.8.3"
  }
 },
 "nbformat": 4,
 "nbformat_minor": 4
}

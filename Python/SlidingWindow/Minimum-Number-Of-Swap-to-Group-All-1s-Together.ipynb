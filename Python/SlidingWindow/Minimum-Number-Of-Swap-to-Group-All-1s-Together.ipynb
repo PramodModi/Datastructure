{
 "cells": [
  {
   "cell_type": "markdown",
   "metadata": {},
   "source": [
    "## Problem Leetcode: 1151\n",
    "\n",
    "Given a binary array data, return the minimum number of swap required to group all 1's present in the array together in any place in the array.\n",
    "\n",
    "Example1:\n",
    "\n",
    "data = [1,0,1,0,1]\n",
    "\n",
    "output = 1 \n",
    "\n",
    "Example2:\n",
    "\n",
    "data = [0,0,0,1,0]\n",
    "\n",
    "output = 0\n",
    "\n",
    "Example \n",
    "\n",
    "data = [1,0,1,0,1,0,0,1,1,0,1]\n",
    "\n",
    "output = 3"
   ]
  },
  {
   "cell_type": "markdown",
   "metadata": {},
   "source": [
    "#### Approach : Find the number of all 1's in the array, say K. Now, window is of size k. The minimum number of swap means, find minimum number of zeros in the window."
   ]
  },
  {
   "cell_type": "code",
   "execution_count": 32,
   "metadata": {},
   "outputs": [],
   "source": [
    "def minNumberOfSwap_AllOnes(data):\n",
    "    k = data.count(1)\n",
    "    left = 0\n",
    "    right = k\n",
    "    minSwap = zeros = data[:k].count(0)\n",
    "    \n",
    "    while(right < len(data)):\n",
    "        if 0 == data[left]:\n",
    "            zeros -= 1\n",
    "        if(0 == data[right]):\n",
    "            zeros += 1\n",
    "        minSwap = min(minSwap, zeros)\n",
    "        left += 1\n",
    "        right += 1\n",
    "    return minSwap\n",
    "    "
   ]
  },
  {
   "cell_type": "code",
   "execution_count": 33,
   "metadata": {},
   "outputs": [
    {
     "data": {
      "text/plain": [
       "3"
      ]
     },
     "execution_count": 33,
     "metadata": {},
     "output_type": "execute_result"
    }
   ],
   "source": [
    "data = [1,0,1,0,1,0,0,1,1,0,1]\n",
    "minNumberOfSwap_AllOnes(data)"
   ]
  },
  {
   "cell_type": "code",
   "execution_count": 34,
   "metadata": {},
   "outputs": [
    {
     "data": {
      "text/plain": [
       "0"
      ]
     },
     "execution_count": 34,
     "metadata": {},
     "output_type": "execute_result"
    }
   ],
   "source": [
    "data =  [0,0,0,1,0]\n",
    "minNumberOfSwap_AllOnes(data)"
   ]
  },
  {
   "cell_type": "code",
   "execution_count": 35,
   "metadata": {},
   "outputs": [
    {
     "data": {
      "text/plain": [
       "1"
      ]
     },
     "execution_count": 35,
     "metadata": {},
     "output_type": "execute_result"
    }
   ],
   "source": [
    "data = [1,0,1,0,1]\n",
    "minNumberOfSwap_AllOnes(data)"
   ]
  },
  {
   "cell_type": "code",
   "execution_count": 36,
   "metadata": {},
   "outputs": [
    {
     "data": {
      "text/plain": [
       "1"
      ]
     },
     "execution_count": 36,
     "metadata": {},
     "output_type": "execute_result"
    }
   ],
   "source": [
    "data = [1,1,0,0,1]\n",
    "minNumberOfSwap_AllOnes(data)"
   ]
  },
  {
   "cell_type": "code",
   "execution_count": null,
   "metadata": {},
   "outputs": [],
   "source": []
  }
 ],
 "metadata": {
  "kernelspec": {
   "display_name": "Python 3",
   "language": "python",
   "name": "python3"
  },
  "language_info": {
   "codemirror_mode": {
    "name": "ipython",
    "version": 3
   },
   "file_extension": ".py",
   "mimetype": "text/x-python",
   "name": "python",
   "nbconvert_exporter": "python",
   "pygments_lexer": "ipython3",
   "version": "3.8.3"
  }
 },
 "nbformat": 4,
 "nbformat_minor": 4
}

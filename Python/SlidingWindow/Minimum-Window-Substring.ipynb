{
 "cells": [
  {
   "cell_type": "markdown",
   "metadata": {},
   "source": [
    "## Problem\n",
    "\n",
    "given two string s1 and s2. Find the minimum substring in s1 so that s2 characters should be there. Order of s2 characters are not necessary important also no need to have continuoius s2's characters.\n",
    "\n",
    "Example:\n",
    "\n",
    "s1 = \"aabcdssddefr\"\n",
    "\n",
    "s2 = \"bds\"\n",
    "\n",
    "output= 4 //bcds"
   ]
  },
  {
   "cell_type": "code",
   "execution_count": 37,
   "metadata": {},
   "outputs": [],
   "source": [
    "def minimumWindowSubstring(s1, s2):\n",
    "    temp = {}\n",
    "    for c in s2:\n",
    "        temp[c] = temp.get(c,0) + 1\n",
    "    \n",
    "    right = 0\n",
    "    left = 0\n",
    "    remainingChar = len(temp)\n",
    "    result = float('inf')\n",
    "    while right<len(s1):\n",
    "        c = s1[right]\n",
    "        if c in temp:\n",
    "            temp[c] -= 1\n",
    "            if temp[c] == 0:\n",
    "                remainingChar -= 1\n",
    "        while remainingChar == 0:\n",
    "            c = s1[left]\n",
    "            if c in temp:\n",
    "                temp[c] += 1\n",
    "                if temp[c] == 1:\n",
    "                    remainingChar += 1\n",
    "            \n",
    "            result = min(result, right-left + 1) \n",
    "            left += 1\n",
    "        right += 1\n",
    "    return result\n",
    "    \n",
    "    \n",
    "                \n",
    "            \n",
    "        \n",
    "    "
   ]
  },
  {
   "cell_type": "code",
   "execution_count": 38,
   "metadata": {},
   "outputs": [
    {
     "data": {
      "text/plain": [
       "3"
      ]
     },
     "execution_count": 38,
     "metadata": {},
     "output_type": "execute_result"
    }
   ],
   "source": [
    "s1 = \"totmtaptat\"\n",
    "s2 = \"tta\"\n",
    "minimumWindowSubstring(s1,s2)"
   ]
  },
  {
   "cell_type": "code",
   "execution_count": 39,
   "metadata": {},
   "outputs": [
    {
     "data": {
      "text/plain": [
       "2"
      ]
     },
     "execution_count": 39,
     "metadata": {},
     "output_type": "execute_result"
    }
   ],
   "source": [
    "s1 = \"abcdecade\"\n",
    "s2 = \"ad\"\n",
    "minimumWindowSubstring(s1,s2)"
   ]
  },
  {
   "cell_type": "code",
   "execution_count": 40,
   "metadata": {},
   "outputs": [
    {
     "data": {
      "text/plain": [
       "4"
      ]
     },
     "execution_count": 40,
     "metadata": {},
     "output_type": "execute_result"
    }
   ],
   "source": [
    "s1 = \"aabcdssddefr\"\n",
    "s2 = \"bds\"\n",
    "minimumWindowSubstring(s1,s2)"
   ]
  },
  {
   "cell_type": "code",
   "execution_count": 41,
   "metadata": {},
   "outputs": [
    {
     "data": {
      "text/plain": [
       "3"
      ]
     },
     "execution_count": 41,
     "metadata": {},
     "output_type": "execute_result"
    }
   ],
   "source": [
    "s1 = \"aabcdssddefr\"\n",
    "s2 = \"aab\"\n",
    "minimumWindowSubstring(s1,s2)"
   ]
  },
  {
   "cell_type": "code",
   "execution_count": 42,
   "metadata": {},
   "outputs": [
    {
     "data": {
      "text/plain": [
       "3"
      ]
     },
     "execution_count": 42,
     "metadata": {},
     "output_type": "execute_result"
    }
   ],
   "source": [
    "s1 = \"aabcdssddefr\"\n",
    "s2 = \"efr\"\n",
    "minimumWindowSubstring(s1,s2)"
   ]
  },
  {
   "cell_type": "markdown",
   "metadata": {},
   "source": [
    "### Print the actual minimum substring instead of length"
   ]
  },
  {
   "cell_type": "code",
   "execution_count": 51,
   "metadata": {},
   "outputs": [],
   "source": [
    "def minimumWindowSubstring_print(s1, s2):\n",
    "    if len(s2) > len(s1):\n",
    "        return \"\"\n",
    "    temp = {}\n",
    "    for c in s2:\n",
    "        temp[c] = temp.get(c,0) + 1\n",
    "    \n",
    "    right = 0\n",
    "    left = 0\n",
    "    remainingChar = len(temp)\n",
    "    result = float('inf')\n",
    "    result_rightIdx = 0\n",
    "    result_leftIdx = 0\n",
    "    while right<len(s1):\n",
    "        c = s1[right]\n",
    "        if c in temp:\n",
    "            temp[c] -= 1\n",
    "            if temp[c] == 0:\n",
    "                remainingChar -= 1\n",
    "        while remainingChar == 0:\n",
    "            c = s1[left]\n",
    "            if c in temp:\n",
    "                temp[c] += 1\n",
    "                if temp[c] == 1:\n",
    "                    remainingChar += 1\n",
    "            \n",
    "            if result > (right-left+1):\n",
    "                result = right-left+1\n",
    "                result_rightIdx = right+1\n",
    "                result_leftIdx = left\n",
    "            left += 1\n",
    "        right += 1\n",
    "    return s1[result_leftIdx:result_rightIdx]"
   ]
  },
  {
   "cell_type": "code",
   "execution_count": 52,
   "metadata": {},
   "outputs": [
    {
     "data": {
      "text/plain": [
       "'bcds'"
      ]
     },
     "execution_count": 52,
     "metadata": {},
     "output_type": "execute_result"
    }
   ],
   "source": [
    "s1 = \"aabcdssddefr\"\n",
    "s2 = \"bds\"\n",
    "minimumWindowSubstring_print(s1,s2)"
   ]
  },
  {
   "cell_type": "code",
   "execution_count": 53,
   "metadata": {},
   "outputs": [
    {
     "data": {
      "text/plain": [
       "'tat'"
      ]
     },
     "execution_count": 53,
     "metadata": {},
     "output_type": "execute_result"
    }
   ],
   "source": [
    "s1 = \"totmtaptat\"\n",
    "s2 = \"tta\"\n",
    "minimumWindowSubstring_print(s1,s2)"
   ]
  },
  {
   "cell_type": "code",
   "execution_count": 54,
   "metadata": {},
   "outputs": [
    {
     "data": {
      "text/plain": [
       "'aab'"
      ]
     },
     "execution_count": 54,
     "metadata": {},
     "output_type": "execute_result"
    }
   ],
   "source": [
    "s1 = \"aabcdssddefr\"\n",
    "s2 = \"aab\"\n",
    "minimumWindowSubstring_print(s1,s2)"
   ]
  },
  {
   "cell_type": "code",
   "execution_count": 55,
   "metadata": {},
   "outputs": [
    {
     "data": {
      "text/plain": [
       "''"
      ]
     },
     "execution_count": 55,
     "metadata": {},
     "output_type": "execute_result"
    }
   ],
   "source": [
    "s1 = \"a\"\n",
    "s2 = \"b\"\n",
    "minimumWindowSubstring_print(s1,s2)"
   ]
  },
  {
   "cell_type": "code",
   "execution_count": 56,
   "metadata": {},
   "outputs": [
    {
     "data": {
      "text/plain": [
       "'a'"
      ]
     },
     "execution_count": 56,
     "metadata": {},
     "output_type": "execute_result"
    }
   ],
   "source": [
    "s1 = \"a\"\n",
    "s2 = \"a\"\n",
    "minimumWindowSubstring_print(s1,s2)"
   ]
  },
  {
   "cell_type": "code",
   "execution_count": null,
   "metadata": {},
   "outputs": [],
   "source": []
  }
 ],
 "metadata": {
  "kernelspec": {
   "display_name": "Python 3",
   "language": "python",
   "name": "python3"
  },
  "language_info": {
   "codemirror_mode": {
    "name": "ipython",
    "version": 3
   },
   "file_extension": ".py",
   "mimetype": "text/x-python",
   "name": "python",
   "nbconvert_exporter": "python",
   "pygments_lexer": "ipython3",
   "version": "3.8.3"
  }
 },
 "nbformat": 4,
 "nbformat_minor": 4
}

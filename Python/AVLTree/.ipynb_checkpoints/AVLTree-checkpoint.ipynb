{
 "cells": [
  {
   "cell_type": "code",
   "execution_count": 1,
   "metadata": {},
   "outputs": [],
   "source": [
    "# Exception class\n",
    "class Empty(Exception):\n",
    "    pass"
   ]
  },
  {
   "cell_type": "code",
   "execution_count": 54,
   "metadata": {},
   "outputs": [],
   "source": [
    "class AVLTree:\n",
    "    class _Node:\n",
    "        __slots__ = '_data', '_right', '_left', '_height'\n",
    "        def __init__(self, data):\n",
    "            self._data = data\n",
    "            self._left = None\n",
    "            self._right = None\n",
    "            self._height = 0\n",
    "    \n",
    "    def __init__(self):\n",
    "        self._root = None\n",
    "    \n",
    "    def height (self, node):\n",
    "        if node is None:\n",
    "            return -1\n",
    "        return node._height\n",
    "        \n",
    "    def leftRotation(self,node):\n",
    "        if node is None:\n",
    "            return None\n",
    "        tmpnode = node._right\n",
    "        node._right = tmpnode._left\n",
    "        tmpnode._left= node\n",
    "        # Set the height of node and tmp node after rotation\n",
    "        node._height = max (self.height(node._left), self.height(node._right)) + 1\n",
    "        tmpnode._height = max (self.height(node), self.height(tmpnode._right)) + 1\n",
    "        return tmpnode\n",
    "    \n",
    "    def rightRotation(self, node):\n",
    "        if node is None:\n",
    "            return None\n",
    "        tmpnode = node._left\n",
    "        node._left = tmpnode._right\n",
    "        tmpnode._right =  node\n",
    "        # Set the height of node and tmp node after rotation\n",
    "        node._height = max (self.height(node._left), self.height(node._right)) + 1\n",
    "        tmpnode._height = max (self.height(node), self.height(tmpnode._left)) + 1\n",
    "        return tmpnode\n",
    "        \n",
    "    def LRRotation(self,node):\n",
    "        if node is None:\n",
    "            return None\n",
    "        node._left = self.leftRotation(node._left)\n",
    "        return self.rightRotation(node)\n",
    "    \n",
    "    def RLRtation(node):\n",
    "        if node is None:\n",
    "            return None\n",
    "        node._right= self.rightRotation(node._right)\n",
    "        return self.leftRotation(node)\n",
    "    \n",
    "    # This method will take difference of left and right height of tree. If the diff is 2 then tree is imbalance.\n",
    "    def imbalance(self, node):\n",
    "        return abs(self.height(node._left) - self.height(node._right))== 2\n",
    "    \n",
    "    # Insert method for recurssive call. This method will be called from insert method by passing root as node\n",
    "    def _insert(self, root, data):\n",
    "        newNode = self._Node(data)\n",
    "        \n",
    "        #if root is null, then it is first node in the tree\n",
    "        if root == None:\n",
    "            root = newNode\n",
    "            return root\n",
    "        \n",
    "        # if data is smaller than node, then go to left\n",
    "        if(data < root._data):\n",
    "        \n",
    "            root._left = self._insert(root._left, data)\n",
    "            # check, if tree is imbalance\n",
    "            if self.imbalance(root):\n",
    "            # Tree is imbalance, as data in entered in left,so two rotations are possible.\n",
    "            # if data is in the left, then right rotation or\n",
    "            # if data is in the right than LR rotation\n",
    "                if data < root._left._data:\n",
    "                \n",
    "                    root = self.rightRotation(root)\n",
    "                else:\n",
    "                    root = self.LRRotation(root)\n",
    "        # if data is greater than node then go to right    \n",
    "        elif(data > root._data):\n",
    "            root._right = self._insert(root._right, data)\n",
    "            # Check if tree is imbalance\n",
    "            if self.imbalance(root):\n",
    "            # Tree is imbalance, as data in entered in right,so two rotations are possible.\n",
    "            # if data is in the right, then left rotation or\n",
    "            # if data is in the left than RL rotation\n",
    "                if(data > root._right._data):\n",
    "                    root = self.leftRotation(root)\n",
    "                else:\n",
    "                    root = self.RLRtation(root)\n",
    "        # Set the height of node\n",
    "        root._height = max (self.height (root._left), self.height(root._right)) + 1\n",
    "        return root\n",
    "    \n",
    "    # insert method.\n",
    "    def insert(self, data):\n",
    "        self._root = self._insert(self._root, data)\n",
    "        return\n",
    "    \n",
    "    \n",
    "  # Traversal\n",
    "    def _preorder(self, root):\n",
    "        if root:\n",
    "            print(root._data)\n",
    "            self._preorder(root._left)\n",
    "            self._preorder(root._right)\n",
    "    \n",
    "    def preorder(self):\n",
    "        if self._root == None:\n",
    "            raise Empty(\"Tree is empty\")\n",
    "        self._preorder(self._root)\n",
    "        \n",
    "                    "
   ]
  },
  {
   "cell_type": "code",
   "execution_count": 55,
   "metadata": {},
   "outputs": [
    {
     "name": "stdout",
     "output_type": "stream",
     "text": [
      "20\n",
      "10\n",
      "30\n"
     ]
    }
   ],
   "source": [
    "avl = AVLTree()\n",
    "avl.insert(10)\n",
    "avl.insert(20)\n",
    "avl.insert(30)# Tree is imbalance. It will carry Left rotation to make it balance.\n",
    "avl.preorder()\n"
   ]
  },
  {
   "cell_type": "code",
   "execution_count": 56,
   "metadata": {},
   "outputs": [
    {
     "name": "stdout",
     "output_type": "stream",
     "text": [
      "20\n",
      "5\n",
      "4\n",
      "10\n",
      "30\n"
     ]
    }
   ],
   "source": [
    "\n",
    "avl.insert(5)\n",
    "avl.insert(4)# Tree is imbalance. It will carry right rotation to make it balance.\n",
    "avl.preorder()"
   ]
  },
  {
   "cell_type": "code",
   "execution_count": 57,
   "metadata": {},
   "outputs": [
    {
     "name": "stdout",
     "output_type": "stream",
     "text": [
      "10\n",
      "5\n",
      "4\n",
      "9\n",
      "20\n",
      "30\n"
     ]
    }
   ],
   "source": [
    "avl.insert(9) # Tree is imbalance. It will carry LR Rotation\n",
    "avl.preorder()"
   ]
  },
  {
   "cell_type": "code",
   "execution_count": 58,
   "metadata": {},
   "outputs": [
    {
     "name": "stdout",
     "output_type": "stream",
     "text": [
      "10\n",
      "5\n",
      "4\n",
      "9\n",
      "20\n",
      "18\n",
      "17\n",
      "19\n",
      "30\n"
     ]
    }
   ],
   "source": [
    "avl.insert(19) \n",
    "avl.insert(18)\n",
    "avl.insert(17)# Tree is imbalance. It will carry Right Rotatio\n",
    "avl.preorder()"
   ]
  },
  {
   "cell_type": "code",
   "execution_count": null,
   "metadata": {},
   "outputs": [],
   "source": []
  }
 ],
 "metadata": {
  "kernelspec": {
   "display_name": "Python 3",
   "language": "python",
   "name": "python3"
  },
  "language_info": {
   "codemirror_mode": {
    "name": "ipython",
    "version": 3
   },
   "file_extension": ".py",
   "mimetype": "text/x-python",
   "name": "python",
   "nbconvert_exporter": "python",
   "pygments_lexer": "ipython3",
   "version": "3.8.3"
  }
 },
 "nbformat": 4,
 "nbformat_minor": 4
}

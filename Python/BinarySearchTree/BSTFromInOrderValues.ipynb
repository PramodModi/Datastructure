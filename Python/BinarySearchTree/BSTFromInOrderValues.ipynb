{
 "cells": [
  {
   "cell_type": "code",
   "execution_count": 19,
   "metadata": {},
   "outputs": [],
   "source": [
    "class BST:\n",
    "    def __init__(self, value):\n",
    "        self.value = value\n",
    "        self.left = None\n",
    "        self.right = None\n",
    "def preOrder(tree):\n",
    "    root = tree\n",
    "    if root:\n",
    "        print(root.value, end = '\\t')\n",
    "        preOrder(root.left)\n",
    "        preOrder(root.right)\n",
    "def postOrder(tree):\n",
    "    root = tree\n",
    "    if root:\n",
    "        postOrder(root.left)\n",
    "        postOrder(root.right)\n",
    "        print(root.value, end = '\\t')\n",
    "def inOrder(tree):\n",
    "    if tree:\n",
    "        inOrder(tree.left)\n",
    "        print(tree.value, end = '\\t')\n",
    "        inOrder(tree.right)\n",
    "\n",
    "def createBST(InOrderValues):\n",
    "    n = len(InOrderValues)-1\n",
    "    return BSTFromInOrder(0, n, InOrderValues)\n",
    "\n",
    "def BSTFromInOrder(startIndex, endIndex, InOrderValues):\n",
    "    if startIndex > endIndex:\n",
    "        return\n",
    "    mid = startIndex + (endIndex - startIndex)//2\n",
    "    bst  =  BST(InOrderValues[mid])\n",
    "    bst.left = BSTFromInOrder(startIndex, mid-1, InOrderValues)\n",
    "    bst.right = BSTFromInOrder(mid+1, endIndex, InOrderValues)\n",
    "    return bst\n",
    "    "
   ]
  },
  {
   "cell_type": "code",
   "execution_count": 21,
   "metadata": {},
   "outputs": [
    {
     "name": "stdout",
     "output_type": "stream",
     "text": [
      "Pre Order = \n",
      "4\t2\t1\t3\t6\t5\t7\t\n",
      "\n",
      "Post Order = \n",
      "1\t3\t2\t5\t7\t6\t4\t\n",
      "\n",
      "In Order = \n",
      "1\t2\t3\t4\t5\t6\t7\t"
     ]
    }
   ],
   "source": [
    "array = [1,2,3,4,5,6,7]\n",
    "bst = createBST(array)\n",
    "print(\"Pre Order = \")\n",
    "preOrder(bst)\n",
    "print(\"\\n\")\n",
    "\n",
    "print(\"Post Order = \")\n",
    "postOrder(bst)\n",
    "print(\"\\n\")\n",
    "\n",
    "print(\"In Order = \")\n",
    "inOrder(bst)"
   ]
  },
  {
   "cell_type": "code",
   "execution_count": null,
   "metadata": {},
   "outputs": [],
   "source": []
  },
  {
   "cell_type": "code",
   "execution_count": null,
   "metadata": {},
   "outputs": [],
   "source": []
  }
 ],
 "metadata": {
  "kernelspec": {
   "display_name": "Python 3",
   "language": "python",
   "name": "python3"
  },
  "language_info": {
   "codemirror_mode": {
    "name": "ipython",
    "version": 3
   },
   "file_extension": ".py",
   "mimetype": "text/x-python",
   "name": "python",
   "nbconvert_exporter": "python",
   "pygments_lexer": "ipython3",
   "version": "3.8.3"
  }
 },
 "nbformat": 4,
 "nbformat_minor": 4
}

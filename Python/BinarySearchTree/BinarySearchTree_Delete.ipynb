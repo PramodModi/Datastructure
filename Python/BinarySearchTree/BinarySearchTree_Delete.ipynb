{
 "cells": [
  {
   "cell_type": "code",
   "execution_count": 1,
   "metadata": {},
   "outputs": [],
   "source": [
    "# Exception class\n",
    "class Empty(Exception):\n",
    "    pass"
   ]
  },
  {
   "cell_type": "code",
   "execution_count": 2,
   "metadata": {},
   "outputs": [],
   "source": [
    "class BST:\n",
    "    # Node class for Tree\n",
    "    class _Node:\n",
    "         # Slots is being used to save memory and fster attribute access\n",
    "        __slots__ = '_data','_left', '_right'\n",
    "        \n",
    "        def __init__(self, data):\n",
    "            self._data = data\n",
    "            self._left = None\n",
    "            self._right = None\n",
    "    \n",
    "    def __init__(self):\n",
    "        self._root = None\n",
    "    \n",
    "    # Insert new node in BST\n",
    "    def insert(self, data):\n",
    "        # Create new node\n",
    "        newNode = self._Node(data)\n",
    "        # If root is None, then its first node entry, Assign it to root\n",
    "        if self._root is None:\n",
    "            self._root = newNode\n",
    "            return\n",
    "        #Otherwise move down the tree. \n",
    "        #If data is lesser than root data, then go to the left otherwise go to the right\n",
    "        tmp = self._root\n",
    "        while tmp:\n",
    "            x = tmp\n",
    "            if data < tmp._data:\n",
    "                tmp = tmp._left\n",
    "            else: \n",
    "                tmp = tmp._right\n",
    "        # Now assign the newnode to the left or right of the node, based on data.\n",
    "        if data < x._data:\n",
    "            x._left = newNode\n",
    "        elif data > x._data:\n",
    "            x._right = newNode\n",
    "            \n",
    "        \n",
    "    # Delete a node for given data from BST\n",
    "    def deleteElement(self, data):\n",
    "        if self._root is None:\n",
    "            raise Empty(\"Tree is Empty\")\n",
    "        # Move to the right, if the data is less than root's data\n",
    "        tmp = self._root\n",
    "        parent = None\n",
    "        while (data < tmp._data):\n",
    "            parent = tmp\n",
    "            tmp = tmp._left\n",
    "        while(data > tmp._data):\n",
    "            parent = tmp\n",
    "            tmp = tmp._right\n",
    "        \n",
    "        #Check if the data is available in the tree\n",
    "        if(data != tmp._data):\n",
    "            print(\"Given data is not available in the tree\")\n",
    "            return\n",
    "        \n",
    "        # node with only one child\n",
    "        if tmp._left is None:\n",
    "            if parent._left is not None and parent._left == tmp:\n",
    "                parent._left = tmp._right\n",
    "            else:\n",
    "                parent._right = tmp._right\n",
    "            tmp = None\n",
    "            \n",
    "        \n",
    "        # node with only one child\n",
    "        elif tmp._right is None:\n",
    "            if parent._left is not None and parent._left == tmp:\n",
    "                parent._left = tmp._left\n",
    "            else:\n",
    "                parent._right = tmp._left\n",
    "            tmp = None\n",
    "        # node having two children\n",
    "        else:\n",
    "            # Get the node having smallest value in the right side of node\n",
    "            tmp1 = tmp._right\n",
    "            parent = tmp\n",
    "            while (tmp1._left):\n",
    "                parent = tmp1\n",
    "                tmp1 = tmp1._left    \n",
    "            \n",
    "            tmp._data = tmp1._data\n",
    "            if parent._left is not None and parent._left == tmp1:\n",
    "                parent._left = None\n",
    "            else:\n",
    "                parent._right = None\n",
    "            tmp1 = None\n",
    "            \n",
    "     # Traversals   \n",
    "        \n",
    "    def _preorder(self, root):\n",
    "        if root:\n",
    "            print(root._data)\n",
    "            self._preorder(root._left)\n",
    "            self._preorder(root._right)\n",
    "    def preorder(self):\n",
    "        if self._root is None:\n",
    "            raise Empty(\"Tree is empty\")\n",
    "        self._preorder(self._root)\n",
    "        \n",
    "    def _inorder(self, root):\n",
    "        if root:\n",
    "            self._inorder(root._left)\n",
    "            print(root._data)\n",
    "            self._inorder(root._right)\n",
    "    \n",
    "    def inorder(self):\n",
    "        if self._root is None:\n",
    "            raise Empty(\"Tree is empty\")\n",
    "        self._inorder(self._root)"
   ]
  },
  {
   "cell_type": "code",
   "execution_count": 3,
   "metadata": {},
   "outputs": [
    {
     "name": "stdout",
     "output_type": "stream",
     "text": [
      "*****Preorder Traversal******\n",
      "7\n",
      "4\n",
      "3\n",
      "6\n",
      "5\n",
      "8\n",
      "9\n",
      "*****Inorder Traversal******\n",
      "3\n",
      "4\n",
      "5\n",
      "6\n",
      "7\n",
      "8\n",
      "9\n"
     ]
    }
   ],
   "source": [
    "b = BST()\n",
    "b.insert(7)\n",
    "b.insert(8)\n",
    "b.insert(9)\n",
    "b.insert(4)\n",
    "b.insert(6)\n",
    "b.insert(5)\n",
    "b.insert(3)\n",
    "\n",
    "print(\"*****Preorder Traversal******\")\n",
    "b.preorder()\n",
    "print(\"*****Inorder Traversal******\")\n",
    "b.inorder()\n"
   ]
  },
  {
   "cell_type": "code",
   "execution_count": 4,
   "metadata": {},
   "outputs": [
    {
     "name": "stdout",
     "output_type": "stream",
     "text": [
      "*****Preorder Traversal******\n",
      "7\n",
      "4\n",
      "3\n",
      "6\n",
      "5\n",
      "9\n"
     ]
    }
   ],
   "source": [
    "# Remove node having data 8. It has only right child\n",
    "b.deleteElement(8)\n",
    "print(\"*****Preorder Traversal******\")\n",
    "b.preorder()"
   ]
  },
  {
   "cell_type": "code",
   "execution_count": 5,
   "metadata": {},
   "outputs": [
    {
     "name": "stdout",
     "output_type": "stream",
     "text": [
      "*****Preorder Traversal******\n",
      "7\n",
      "5\n",
      "3\n",
      "6\n",
      "9\n"
     ]
    }
   ],
   "source": [
    "# Remove node having data 4. It has two children\n",
    "b.deleteElement(4)\n",
    "print(\"*****Preorder Traversal******\")\n",
    "b.preorder()"
   ]
  },
  {
   "cell_type": "code",
   "execution_count": 6,
   "metadata": {},
   "outputs": [
    {
     "name": "stdout",
     "output_type": "stream",
     "text": [
      "*****Preorder Traversal******\n",
      "7\n",
      "5\n",
      "6\n",
      "9\n"
     ]
    }
   ],
   "source": [
    "# Remove node having data 3. It has no children\n",
    "b.deleteElement(3)\n",
    "print(\"*****Preorder Traversal******\")\n",
    "b.preorder()"
   ]
  },
  {
   "cell_type": "code",
   "execution_count": null,
   "metadata": {},
   "outputs": [],
   "source": []
  }
 ],
 "metadata": {
  "kernelspec": {
   "display_name": "Python 3",
   "language": "python",
   "name": "python3"
  },
  "language_info": {
   "codemirror_mode": {
    "name": "ipython",
    "version": 3
   },
   "file_extension": ".py",
   "mimetype": "text/x-python",
   "name": "python",
   "nbconvert_exporter": "python",
   "pygments_lexer": "ipython3",
   "version": "3.8.3"
  }
 },
 "nbformat": 4,
 "nbformat_minor": 4
}

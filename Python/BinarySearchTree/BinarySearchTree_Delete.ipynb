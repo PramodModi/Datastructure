{
 "cells": [
  {
   "cell_type": "code",
   "execution_count": 1,
   "metadata": {},
   "outputs": [],
   "source": [
    "# Exception class\n",
    "class Empty(Exception):\n",
    "    pass"
   ]
  },
  {
   "cell_type": "code",
   "execution_count": 43,
   "metadata": {},
   "outputs": [],
   "source": [
    "class BST:\n",
    "    # Node class for Tree\n",
    "    class _Node:\n",
    "         # Slots is being used to save memory and fster attribute access\n",
    "        __slots__ = '_data','_left', '_right'\n",
    "        \n",
    "        def __init__(self, data):\n",
    "            self._data = data\n",
    "            self._left = None\n",
    "            self._right = None\n",
    "    \n",
    "    def __init__(self):\n",
    "        self._root = None\n",
    "    \n",
    "    # Insert new node in BST\n",
    "    def insert(self, data):\n",
    "        # Create new node\n",
    "        newNode = self._Node(data)\n",
    "        # If root is None, then its first node entry, Assign it to root\n",
    "        if self._root is None:\n",
    "            self._root = newNode\n",
    "            return\n",
    "        #Otherwise move down the tree. \n",
    "        #If data is lesser than root data, then go to the left otherwise go to the right\n",
    "        tmp = self._root\n",
    "        while tmp:\n",
    "            x = tmp\n",
    "            if data < tmp._data:\n",
    "                tmp = tmp._left\n",
    "            else: \n",
    "                tmp = tmp._right\n",
    "        # Now assign the newnode to the left or right of the node, based on data.\n",
    "        if data < x._data:\n",
    "            x._left = newNode\n",
    "        elif data > x._data:\n",
    "            x._right = newNode\n",
    "            \n",
    "        \n",
    "    # Delete a node for given data from BST\n",
    "    def deleteElement(self, data):\n",
    "        if self._root is None:\n",
    "            raise Empty(\"Tree is Empty\")\n",
    "        # Move to the right, if the data is less than root's data\n",
    "        tmp = self._root\n",
    "        parent = None\n",
    "        while (data < tmp._data):\n",
    "            parent = tmp\n",
    "            tmp = tmp._left\n",
    "        while(data > tmp._data):\n",
    "            parent = tmp\n",
    "            tmp = tmp._right\n",
    "        \n",
    "        #Check if the data is available in the tree\n",
    "        if(data != tmp._data):\n",
    "            print(\"Given data is not available in the tree\")\n",
    "            return\n",
    "        \n",
    "        # node with only one child\n",
    "        if tmp._left is None:\n",
    "            if parent._left is not None and parent._left == tmp:\n",
    "                parent._left = tmp._right\n",
    "            else:\n",
    "                parent._right = tmp._right\n",
    "            tmp = None\n",
    "            \n",
    "        \n",
    "        # node with only one child\n",
    "        elif tmp._right is None:\n",
    "            if parent._left is not None and parent._left == tmp:\n",
    "                parent._left = tmp._left\n",
    "            else:\n",
    "                parent._right = tmp._left\n",
    "            tmp = None\n",
    "        # node having two children\n",
    "        else:\n",
    "            # Get the node having smallest value in the right side of node\n",
    "            tmp1 = tmp._right\n",
    "            parent = tmp\n",
    "            while (tmp1._left):\n",
    "                parent = tmp1\n",
    "                tmp1 = tmp1._left    \n",
    "            \n",
    "            tmp._data = tmp1._data\n",
    "            if parent._left is not None and parent._left == tmp1:\n",
    "                parent._left = None\n",
    "            else:\n",
    "                parent._right = None\n",
    "            tmp1 = None\n",
    "            \n",
    "    \n",
    "    # Delete a node for given data from BST\n",
    "    def removeElement(self, data):\n",
    "        if self._root is None:\n",
    "            raise Empty(\"Tree is Empty\")\n",
    "        # Move to the right, if the data is less than root's data\n",
    "        tmp = self._root\n",
    "        parent = None\n",
    "        \n",
    "        while (tmp):\n",
    "            print(\"data : \", data)\n",
    "            print(\"tmp data : \", tmp._data)\n",
    "            if data < tmp._data:\n",
    "                parent = tmp\n",
    "                tmp = tmp._left\n",
    "            elif data > tmp._data:\n",
    "                parent = tmp\n",
    "                tmp = tmp._right\n",
    "            else:\n",
    "                break\n",
    "        if tmp is None:\n",
    "            print(\"Given data is not available in the tree\")\n",
    "            return\n",
    "        \n",
    "        # node with only right child\n",
    "        if tmp._left is None:\n",
    "            if parent._left is not None and parent._left == tmp:\n",
    "                parent._left = tmp._right\n",
    "            else:\n",
    "                parent._right = tmp._right\n",
    "            tmp = None\n",
    "            return\n",
    "            \n",
    "        \n",
    "        # node with only left child\n",
    "        elif tmp._right is None:\n",
    "            if parent._left is not None and parent._left == tmp:\n",
    "                parent._left = tmp._left\n",
    "            else:\n",
    "                parent._right = tmp._left\n",
    "            tmp = None\n",
    "            return\n",
    "        \n",
    "        # node having two children\n",
    "        else:\n",
    "            # Get the node having smallest value in the right side of node\n",
    "            right = tmp._right\n",
    "            \n",
    "            while (right._left):\n",
    "                right = right._left    \n",
    "            \n",
    "            print(\"\\nin else condition\\n\")\n",
    "            print(\"tmp._data : \", tmp._data)\n",
    "            print(\"right._data : \", right._data)\n",
    "            tmp._data, right._data = right._data, tmp._data\n",
    "            print(\"\\nRecursion started\\n\")\n",
    "            print(\"\\n data pass : \", right._data)\n",
    "            self.removeElement(right._data)\n",
    "            \n",
    "     # Traversals   \n",
    "        \n",
    "    def _preorder(self, root):\n",
    "        if root:\n",
    "            print(root._data)\n",
    "            self._preorder(root._left)\n",
    "            self._preorder(root._right)\n",
    "    def preorder(self):\n",
    "        if self._root is None:\n",
    "            raise Empty(\"Tree is empty\")\n",
    "        self._preorder(self._root)\n",
    "        \n",
    "    def _inorder(self, root):\n",
    "        if root:\n",
    "            self._inorder(root._left)\n",
    "            print(root._data)\n",
    "            self._inorder(root._right)\n",
    "    \n",
    "    def inorder(self):\n",
    "        if self._root is None:\n",
    "            raise Empty(\"Tree is empty\")\n",
    "        self._inorder(self._root)"
   ]
  },
  {
   "cell_type": "code",
   "execution_count": 3,
   "metadata": {},
   "outputs": [
    {
     "name": "stdout",
     "output_type": "stream",
     "text": [
      "*****Preorder Traversal******\n",
      "7\n",
      "4\n",
      "3\n",
      "6\n",
      "5\n",
      "8\n",
      "9\n",
      "*****Inorder Traversal******\n",
      "3\n",
      "4\n",
      "5\n",
      "6\n",
      "7\n",
      "8\n",
      "9\n"
     ]
    }
   ],
   "source": [
    "b = BST()\n",
    "b.insert(7)\n",
    "b.insert(8)\n",
    "b.insert(9)\n",
    "b.insert(4)\n",
    "b.insert(6)\n",
    "b.insert(5)\n",
    "b.insert(3)\n",
    "\n",
    "print(\"*****Preorder Traversal******\")\n",
    "b.preorder()\n",
    "print(\"*****Inorder Traversal******\")\n",
    "b.inorder()\n"
   ]
  },
  {
   "cell_type": "code",
   "execution_count": 4,
   "metadata": {},
   "outputs": [
    {
     "name": "stdout",
     "output_type": "stream",
     "text": [
      "*****Preorder Traversal******\n",
      "7\n",
      "4\n",
      "3\n",
      "6\n",
      "5\n",
      "9\n"
     ]
    }
   ],
   "source": [
    "# Remove node having data 8. It has only right child\n",
    "b.deleteElement(8)\n",
    "print(\"*****Preorder Traversal******\")\n",
    "b.preorder()"
   ]
  },
  {
   "cell_type": "code",
   "execution_count": 5,
   "metadata": {},
   "outputs": [
    {
     "name": "stdout",
     "output_type": "stream",
     "text": [
      "*****Preorder Traversal******\n",
      "7\n",
      "5\n",
      "3\n",
      "6\n",
      "9\n"
     ]
    }
   ],
   "source": [
    "# Remove node having data 4. It has two children\n",
    "b.deleteElement(4)\n",
    "print(\"*****Preorder Traversal******\")\n",
    "b.preorder()"
   ]
  },
  {
   "cell_type": "code",
   "execution_count": 6,
   "metadata": {},
   "outputs": [
    {
     "name": "stdout",
     "output_type": "stream",
     "text": [
      "*****Preorder Traversal******\n",
      "7\n",
      "5\n",
      "6\n",
      "9\n"
     ]
    }
   ],
   "source": [
    "# Remove node having data 3. It has no children\n",
    "b.deleteElement(3)\n",
    "print(\"*****Preorder Traversal******\")\n",
    "b.preorder()"
   ]
  },
  {
   "cell_type": "code",
   "execution_count": 10,
   "metadata": {},
   "outputs": [],
   "source": [
    "b = BST()\n",
    "b.insert(7)\n",
    "b.insert(8)\n",
    "b.insert(9)\n",
    "b.insert(4)\n",
    "b.insert(6)\n",
    "b.insert(5)\n",
    "b.insert(3)"
   ]
  },
  {
   "cell_type": "code",
   "execution_count": 11,
   "metadata": {},
   "outputs": [
    {
     "name": "stdout",
     "output_type": "stream",
     "text": [
      "*****Preorder Traversal******\n",
      "7\n",
      "4\n",
      "3\n",
      "6\n",
      "5\n",
      "9\n"
     ]
    }
   ],
   "source": [
    "# Remove node having data 8. It has only right child\n",
    "b.removeElement(8)\n",
    "print(\"*****Preorder Traversal******\")\n",
    "b.preorder()"
   ]
  },
  {
   "cell_type": "code",
   "execution_count": 12,
   "metadata": {},
   "outputs": [
    {
     "name": "stdout",
     "output_type": "stream",
     "text": [
      "*****Preorder Traversal******\n",
      "7\n",
      "5\n",
      "3\n",
      "6\n",
      "9\n"
     ]
    }
   ],
   "source": [
    "# Remove node having data 4. It has two children\n",
    "b.deleteElement(4)\n",
    "print(\"*****Preorder Traversal******\")\n",
    "b.preorder()"
   ]
  },
  {
   "cell_type": "code",
   "execution_count": 14,
   "metadata": {},
   "outputs": [
    {
     "name": "stdout",
     "output_type": "stream",
     "text": [
      "*****Preorder Traversal******\n",
      "10\n",
      "5\n",
      "2\n",
      "1\n",
      "15\n",
      "13\n",
      "12\n",
      "14\n",
      "22\n"
     ]
    }
   ],
   "source": [
    "b = BST()\n",
    "b.insert(10)\n",
    "b.insert(5)\n",
    "b.insert(15)\n",
    "b.insert(22)\n",
    "b.insert(13)\n",
    "b.insert(12)\n",
    "b.insert(14)\n",
    "b.insert(2)\n",
    "b.insert(1)\n",
    "print(\"*****Preorder Traversal******\")\n",
    "b.preorder()"
   ]
  },
  {
   "cell_type": "code",
   "execution_count": 15,
   "metadata": {},
   "outputs": [
    {
     "name": "stdout",
     "output_type": "stream",
     "text": [
      "*****Preorder Traversal******\n",
      "12\n",
      "5\n",
      "2\n",
      "1\n",
      "15\n",
      "13\n",
      "14\n",
      "22\n"
     ]
    }
   ],
   "source": [
    "b.deleteElement(10)\n",
    "print(\"*****Preorder Traversal******\")\n",
    "b.preorder()"
   ]
  },
  {
   "cell_type": "code",
   "execution_count": 44,
   "metadata": {},
   "outputs": [
    {
     "name": "stdout",
     "output_type": "stream",
     "text": [
      "*****Preorder Traversal******\n",
      "10\n",
      "5\n",
      "2\n",
      "1\n",
      "17\n",
      "16\n",
      "13\n",
      "14\n",
      "15\n",
      "22\n"
     ]
    }
   ],
   "source": [
    "b = BST()\n",
    "b.insert(10)\n",
    "b.insert(5)\n",
    "b.insert(17)\n",
    "b.insert(22)\n",
    "b.insert(16)\n",
    "b.insert(13)\n",
    "b.insert(14)\n",
    "b.insert(15)\n",
    "b.insert(2)\n",
    "b.insert(1)\n",
    "print(\"*****Preorder Traversal******\")\n",
    "b.preorder()"
   ]
  },
  {
   "cell_type": "code",
   "execution_count": 45,
   "metadata": {},
   "outputs": [
    {
     "name": "stdout",
     "output_type": "stream",
     "text": [
      "data :  10\n",
      "tmp data :  10\n",
      "\n",
      "in else condition\n",
      "\n",
      "tmp._data :  10\n",
      "right._data :  13\n",
      "\n",
      "Recursion started\n",
      "\n",
      "\n",
      " data pass :  10\n",
      "data :  10\n",
      "tmp data :  13\n",
      "data :  10\n",
      "tmp data :  5\n",
      "Given data is not available in the tree\n",
      "*****Preorder Traversal******\n",
      "13\n",
      "5\n",
      "2\n",
      "1\n",
      "17\n",
      "16\n",
      "10\n",
      "14\n",
      "15\n",
      "22\n"
     ]
    }
   ],
   "source": [
    "b.removeElement(10)\n",
    "print(\"*****Preorder Traversal******\")\n",
    "b.preorder()"
   ]
  },
  {
   "cell_type": "code",
   "execution_count": 19,
   "metadata": {},
   "outputs": [
    {
     "name": "stdout",
     "output_type": "stream",
     "text": [
      "*****Preorder Traversal******\n",
      "13\n",
      "5\n",
      "2\n",
      "1\n",
      "17\n",
      "16\n",
      "22\n"
     ]
    }
   ],
   "source": [
    "b.deleteElement(10)\n",
    "print(\"*****Preorder Traversal******\")\n",
    "b.preorder()"
   ]
  },
  {
   "cell_type": "code",
   "execution_count": null,
   "metadata": {},
   "outputs": [],
   "source": []
  }
 ],
 "metadata": {
  "kernelspec": {
   "display_name": "Python 3",
   "language": "python",
   "name": "python3"
  },
  "language_info": {
   "codemirror_mode": {
    "name": "ipython",
    "version": 3
   },
   "file_extension": ".py",
   "mimetype": "text/x-python",
   "name": "python",
   "nbconvert_exporter": "python",
   "pygments_lexer": "ipython3",
   "version": "3.8.3"
  }
 },
 "nbformat": 4,
 "nbformat_minor": 4
}

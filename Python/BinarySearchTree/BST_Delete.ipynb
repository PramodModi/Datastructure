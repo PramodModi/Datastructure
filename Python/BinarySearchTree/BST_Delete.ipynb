{
 "cells": [
  {
   "cell_type": "code",
   "execution_count": 30,
   "metadata": {},
   "outputs": [],
   "source": [
    "class BST:\n",
    "    def __init__(self, value):\n",
    "        self.value = value\n",
    "        self.left = None\n",
    "        self.right = None\n",
    "\n",
    "    def insert(self, value):\n",
    "        root = self\n",
    "        parent = None\n",
    "        while root:\n",
    "            parent = root\n",
    "            if value < root.value:\n",
    "                root = root.left\n",
    "            else:\n",
    "                root = root.right\n",
    "        if value < parent.value:\n",
    "            parent.left = BST(value)\n",
    "        else:\n",
    "            parent.right = BST(value)\n",
    "\n",
    "        # Do not edit the return statement of this method.\n",
    "        #return self\n",
    "    \n",
    "    def contains(self, value):\n",
    "        # Write your code here.\n",
    "        root = self\n",
    "        while(root):\n",
    "            if value < root.value:\n",
    "                root = root.left\n",
    "            elif value > root.value:\n",
    "                root = root.right\n",
    "            else:\n",
    "                return True\n",
    "        return False\n",
    "    \n",
    "    def preorder(self):\n",
    "        root = self\n",
    "        if root is None:\n",
    "            return\n",
    "        print(root.value)\n",
    "        if root.left:\n",
    "            root.left.preorder()\n",
    "        if root.right:\n",
    "            root.right.preorder()\n",
    "\n",
    "    def remove(self, value, parent = None):\n",
    "        # Write your code here.\n",
    "        root = self\n",
    "        \n",
    "        while root:\n",
    "            if value < root.value:\n",
    "                parent = root\n",
    "                root = root.left\n",
    "            elif value > root.value:\n",
    "                parent = root\n",
    "                root = root.right\n",
    "            else:\n",
    "                break\n",
    "        # Given node is not available in Tree\n",
    "        if root is None:\n",
    "            return self\n",
    "        \n",
    "        # Node having both children\n",
    "        if root.left is not None and root.right is not None:\n",
    "            tmp = root.right\n",
    "            while tmp.left:\n",
    "                tmp = tmp.left\n",
    "            root.value = tmp.value\n",
    "            root.right.remove(tmp.value, parent)\n",
    "        \n",
    "        # For other below cases, parent node is needed. But what if parent node is None (Need to delete root)\n",
    "        elif parent is None:\n",
    "            # If root node has only left child\n",
    "            if root.left is not None:\n",
    "                root.value = root.left.value\n",
    "                root.right = root.left.right\n",
    "                root.left = root.left.left\n",
    "            # if root node has only right child\n",
    "            elif root.right is not None:\n",
    "                root.value = root.right.value\n",
    "                root.left = root.right.left\n",
    "                root.right = root.right.right\n",
    "            # If root does not have any child, deleting this node is actually deleting BST.\n",
    "            else:\n",
    "                pass\n",
    "                \n",
    "        # Node with one child\n",
    "        elif parent.left is root:\n",
    "            parent.left = root.left if root.left is not None else root.right\n",
    "        elif parent.right is root:\n",
    "            parent.right = root.left if root.left is not None else root.right\n",
    "\n",
    "        return self"
   ]
  },
  {
   "cell_type": "code",
   "execution_count": 31,
   "metadata": {},
   "outputs": [
    {
     "name": "stdout",
     "output_type": "stream",
     "text": [
      "3\n",
      "2\n",
      "1\n",
      "6\n",
      "5\n"
     ]
    }
   ],
   "source": [
    "b = BST(3)\n",
    "b.insert(6)\n",
    "b.insert(5)\n",
    "b.insert(2)\n",
    "b.insert(1)\n",
    "b.preorder()"
   ]
  },
  {
   "cell_type": "code",
   "execution_count": 32,
   "metadata": {},
   "outputs": [
    {
     "name": "stdout",
     "output_type": "stream",
     "text": [
      "*****Preorder Traversal******\n",
      "10\n",
      "5\n",
      "2\n",
      "1\n",
      "17\n",
      "16\n",
      "13\n",
      "14\n",
      "15\n",
      "22\n"
     ]
    }
   ],
   "source": [
    "b = BST(10)\n",
    "b.insert(5)\n",
    "b.insert(17)\n",
    "b.insert(22)\n",
    "b.insert(16)\n",
    "b.insert(13)\n",
    "b.insert(14)\n",
    "b.insert(15)\n",
    "b.insert(2)\n",
    "b.insert(1)\n",
    "print(\"*****Preorder Traversal******\")\n",
    "b.preorder()"
   ]
  },
  {
   "cell_type": "code",
   "execution_count": 33,
   "metadata": {},
   "outputs": [
    {
     "name": "stdout",
     "output_type": "stream",
     "text": [
      "*****Preorder Traversal******\n",
      "13\n",
      "5\n",
      "2\n",
      "1\n",
      "17\n",
      "16\n",
      "14\n",
      "15\n",
      "22\n"
     ]
    }
   ],
   "source": [
    "b.remove(10)\n",
    "print(\"*****Preorder Traversal******\")\n",
    "b.preorder()"
   ]
  },
  {
   "cell_type": "code",
   "execution_count": 29,
   "metadata": {},
   "outputs": [
    {
     "name": "stdout",
     "output_type": "stream",
     "text": [
      "8\n"
     ]
    }
   ],
   "source": [
    "b = BST(10)\n",
    "b.insert(8)\n",
    "b.remove(10)\n",
    "b.preorder()"
   ]
  },
  {
   "cell_type": "code",
   "execution_count": null,
   "metadata": {},
   "outputs": [],
   "source": []
  }
 ],
 "metadata": {
  "kernelspec": {
   "display_name": "Python 3",
   "language": "python",
   "name": "python3"
  },
  "language_info": {
   "codemirror_mode": {
    "name": "ipython",
    "version": 3
   },
   "file_extension": ".py",
   "mimetype": "text/x-python",
   "name": "python",
   "nbconvert_exporter": "python",
   "pygments_lexer": "ipython3",
   "version": "3.8.3"
  }
 },
 "nbformat": 4,
 "nbformat_minor": 4
}

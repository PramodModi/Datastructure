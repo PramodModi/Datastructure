{
 "cells": [
  {
   "cell_type": "markdown",
   "metadata": {},
   "source": [
    "## Problem:\n",
    "\n",
    "Find the closest number in yhe BST for given target number.\n"
   ]
  },
  {
   "cell_type": "code",
   "execution_count": 14,
   "metadata": {},
   "outputs": [],
   "source": [
    "class BST:\n",
    "    def __init__(self, value):\n",
    "        self.value = value\n",
    "        self.left = None\n",
    "        self.right = None\n",
    "    def insert(self, value):\n",
    "        root = self\n",
    "        if root is None:\n",
    "            root.value = BST(value)\n",
    "            return\n",
    "        parent = None\n",
    "        while(root):\n",
    "            parent = root\n",
    "            if value < root.value:\n",
    "                root = root.left\n",
    "            else:\n",
    "                root = root.right\n",
    "        if value < parent.value:\n",
    "            parent.left = BST(value)\n",
    "        else:\n",
    "            parent.right = BST(value)\n",
    "    \n",
    "def preorder(root):\n",
    "    if root:\n",
    "        print(root.value)\n",
    "        preorder(root.left)\n",
    "        preorder(root.right)"
   ]
  },
  {
   "cell_type": "code",
   "execution_count": 15,
   "metadata": {},
   "outputs": [],
   "source": [
    "def findClosestValueInBst(tree, target):\n",
    "    # Write your code here.\n",
    "    closest = tree.value\n",
    "    while tree:\n",
    "        diff = abs(target - tree.value)\n",
    "        if diff < abs(closest - target):\n",
    "            closest = tree.value\n",
    "        if target > tree.value:\n",
    "            tree = tree.right\n",
    "        elif target< tree.value:\n",
    "            tree = tree.left\n",
    "        else:\n",
    "            break\n",
    "    return closest"
   ]
  },
  {
   "cell_type": "code",
   "execution_count": 16,
   "metadata": {},
   "outputs": [
    {
     "name": "stdout",
     "output_type": "stream",
     "text": [
      "10\n",
      "5\n",
      "2\n",
      "1\n",
      "5\n",
      "15\n",
      "13\n",
      "14\n",
      "22\n"
     ]
    }
   ],
   "source": [
    "b = BST(10)\n",
    "b.insert(5)\n",
    "b.insert(15)\n",
    "b.insert(5)\n",
    "b.insert(2)\n",
    "b.insert(13)\n",
    "b.insert(22)\n",
    "b.insert(14)\n",
    "b.insert(1)\n",
    "preorder(b)"
   ]
  },
  {
   "cell_type": "code",
   "execution_count": 17,
   "metadata": {},
   "outputs": [
    {
     "data": {
      "text/plain": [
       "13"
      ]
     },
     "execution_count": 17,
     "metadata": {},
     "output_type": "execute_result"
    }
   ],
   "source": [
    "findClosestValueInBst(b,12)"
   ]
  }
 ],
 "metadata": {
  "kernelspec": {
   "display_name": "Python 3",
   "language": "python",
   "name": "python3"
  },
  "language_info": {
   "codemirror_mode": {
    "name": "ipython",
    "version": 3
   },
   "file_extension": ".py",
   "mimetype": "text/x-python",
   "name": "python",
   "nbconvert_exporter": "python",
   "pygments_lexer": "ipython3",
   "version": "3.8.3"
  }
 },
 "nbformat": 4,
 "nbformat_minor": 4
}

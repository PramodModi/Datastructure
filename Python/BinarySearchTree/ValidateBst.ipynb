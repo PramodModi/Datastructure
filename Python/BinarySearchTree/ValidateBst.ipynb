{
 "cells": [
  {
   "cell_type": "code",
   "execution_count": 11,
   "metadata": {},
   "outputs": [],
   "source": [
    "class BST:\n",
    "    def __init__(self, value):\n",
    "        self.value = value\n",
    "        self.left = None\n",
    "        self.right = None\n",
    "\n",
    "    def insert(self, value):\n",
    "        root = self\n",
    "        parent = None\n",
    "        while root:\n",
    "            parent = root\n",
    "            if value < root.value:\n",
    "                root = root.left\n",
    "            else:\n",
    "                root = root.right\n",
    "        if value < parent.value:\n",
    "            parent.left = BST(value)\n",
    "        else:\n",
    "            parent.right = BST(value)\n",
    "\n",
    "   \n",
    "    "
   ]
  },
  {
   "cell_type": "code",
   "execution_count": 12,
   "metadata": {},
   "outputs": [],
   "source": [
    "def validateBst(tree):\n",
    "    return validateBstHelper(tree, float('-inf'), float('inf'))\n",
    "\n",
    "def validateBstHelper(tree, min, max):\n",
    "    if tree is None:\n",
    "        return True\n",
    "    if tree.value < min or tree.value >= max :\n",
    "        return False\n",
    "    leftValidate = validateBstHelper(tree.left, min, tree.value)\n",
    "    return leftValidate and validateBstHelper(tree.right, tree.value, max)"
   ]
  },
  {
   "cell_type": "code",
   "execution_count": 13,
   "metadata": {},
   "outputs": [
    {
     "data": {
      "text/plain": [
       "True"
      ]
     },
     "execution_count": 13,
     "metadata": {},
     "output_type": "execute_result"
    }
   ],
   "source": [
    "b = BST(10)\n",
    "b.insert(5)\n",
    "b.insert(17)\n",
    "b.insert(22)\n",
    "b.insert(16)\n",
    "b.insert(13)\n",
    "b.insert(14)\n",
    "b.insert(15)\n",
    "b.insert(2)\n",
    "b.insert(1)\n",
    "\n",
    "validateBst(b)"
   ]
  },
  {
   "cell_type": "code",
   "execution_count": null,
   "metadata": {},
   "outputs": [],
   "source": []
  }
 ],
 "metadata": {
  "kernelspec": {
   "display_name": "Python 3",
   "language": "python",
   "name": "python3"
  },
  "language_info": {
   "codemirror_mode": {
    "name": "ipython",
    "version": 3
   },
   "file_extension": ".py",
   "mimetype": "text/x-python",
   "name": "python",
   "nbconvert_exporter": "python",
   "pygments_lexer": "ipython3",
   "version": "3.8.3"
  }
 },
 "nbformat": 4,
 "nbformat_minor": 4
}

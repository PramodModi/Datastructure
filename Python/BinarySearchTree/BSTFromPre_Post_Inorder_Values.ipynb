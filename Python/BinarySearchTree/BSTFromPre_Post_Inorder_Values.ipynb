{
 "cells": [
  {
   "cell_type": "markdown",
   "metadata": {},
   "source": [
    "## Construct BST from Pre order values\n",
    "\n"
   ]
  },
  {
   "cell_type": "code",
   "execution_count": 1,
   "metadata": {},
   "outputs": [],
   "source": [
    "class BST:\n",
    "    def __init__(self, value, left = None, right = None):\n",
    "        self.value = value\n",
    "        self.left = left\n",
    "        self.right = right\n",
    "\n",
    "class Index:\n",
    "    def __init__(self, id):\n",
    "        self.id = id\n",
    "        \n",
    "def creatBST(preordervalues):\n",
    "    index = Index(0)\n",
    "    return createBSTWithRange(float('-inf'), float('inf'), preordervalues, index)\n",
    "\n",
    "def createBSTWithRange(lower, upper, array, index):\n",
    "    if index.id == len(array):\n",
    "        return None\n",
    "    root = array[index.id]\n",
    "    if root < lower or root >= upper:\n",
    "        return None\n",
    "    index.id += 1\n",
    "    left = createBSTWithRange(lower, root, array, index)\n",
    "    right = createBSTWithRange(root, upper, array, index)\n",
    "    return BST(root, left, right)\n",
    "\n",
    "#Just to print the created tree\n",
    "def preorder(tree):\n",
    "    if tree:\n",
    "        print(tree.value, end=\" \")\n",
    "        preorder(tree.left)\n",
    "        preorder(tree.right)\n",
    "        \n",
    "def inorder(tree):\n",
    "    if tree:\n",
    "        inorder(tree.left)\n",
    "        print(tree.value, end = \" \")\n",
    "        inorder(tree.right)\n",
    "        \n",
    "def postorder(tree):\n",
    "    if tree:\n",
    "        postorder(tree.left)\n",
    "        postorder(tree.right)\n",
    "        print(tree.value, end =\" \")"
   ]
  },
  {
   "cell_type": "code",
   "execution_count": 4,
   "metadata": {},
   "outputs": [
    {
     "name": "stdout",
     "output_type": "stream",
     "text": [
      "Preorder traversal\n",
      "10 4 2 1 5 17 19 18 \n",
      "Inorder traversal\n",
      "1 2 4 5 10 17 18 19 \n",
      "Postorder traversal\n",
      "1 2 5 4 18 19 17 10 "
     ]
    }
   ],
   "source": [
    "preordervalues = [10,4,2,1,5,17,19,18]\n",
    "b = creatBST(preordervalues)\n",
    "print(\"Preorder traversal\")\n",
    "preorder(b)\n",
    "\n",
    "print(\"\\nInorder traversal\")\n",
    "inorder(b)\n",
    "\n",
    "print(\"\\nPostorder traversal\")\n",
    "postorder(b)"
   ]
  },
  {
   "cell_type": "markdown",
   "metadata": {},
   "source": [
    "## Construct BST from Post order values"
   ]
  },
  {
   "cell_type": "code",
   "execution_count": 12,
   "metadata": {},
   "outputs": [],
   "source": [
    "class BST:\n",
    "    def __init__(self, value):\n",
    "        self.value = value\n",
    "        self.left = None\n",
    "        self.right = None\n",
    "\n",
    "class Index:\n",
    "    def __init__(self, id):\n",
    "        self.id = id\n",
    "\n",
    "def createBST_PO(POValues):\n",
    "    index = Index(len(POValues)-1)\n",
    "    return createBSTFomPOValues(float('-inf'), float('inf'), POValues, index)\n",
    "\n",
    "def createBSTFomPOValues(minimum, maximum, array, index):\n",
    "    if index.id < 0:\n",
    "        return\n",
    "    value = array[index.id]\n",
    "    if value < minimum or value > maximum:\n",
    "        return None\n",
    "    index.id -= 1\n",
    "    \n",
    "    bst = BST(value)\n",
    "    bst.right = createBSTFomPOValues(value, maximum, array, index)\n",
    "    bst.left = createBSTFomPOValues(minimum, value, array, index)\n",
    "    \n",
    "    return bst\n",
    "\n",
    "def preOrder(tree):\n",
    "    if tree:\n",
    "        print(tree.value , end =\" \")\n",
    "        preOrder(tree.left)\n",
    "        preOrder(tree.right)\n",
    "def inOrder(tree):\n",
    "    if tree:\n",
    "        inOrder(tree.left)\n",
    "        print(tree.value, end=\" \")\n",
    "        inOrder(tree.right)\n",
    "def postOrder(tree):\n",
    "    if tree:\n",
    "        postOrder(tree.left)\n",
    "        postOrder(tree.right)\n",
    "        print(tree.value, end =\" \")"
   ]
  },
  {
   "cell_type": "code",
   "execution_count": 13,
   "metadata": {},
   "outputs": [
    {
     "name": "stdout",
     "output_type": "stream",
     "text": [
      "Preorder traversal\n",
      "10 4 2 1 5 17 19 18 \n",
      "Inorder traversal\n",
      "1 2 4 5 10 17 18 19 \n",
      "Postorder traversal\n",
      "1 2 5 4 18 19 17 10 "
     ]
    }
   ],
   "source": [
    "postordervalues = [1, 2, 5, 4, 18, 19, 17, 10]\n",
    "b = createBST_PO(postordervalues)\n",
    "print(\"Preorder traversal\")\n",
    "preorder(b)\n",
    "\n",
    "print(\"\\nInorder traversal\")\n",
    "inorder(b)\n",
    "\n",
    "print(\"\\nPostorder traversal\")\n",
    "postorder(b)"
   ]
  },
  {
   "cell_type": "code",
   "execution_count": 9,
   "metadata": {},
   "outputs": [],
   "source": [
    "# Another approach\n",
    "\n",
    "class BST:\n",
    "    def __init__(self, value):\n",
    "        self.value = value\n",
    "        self.left = None\n",
    "        self.right = None\n",
    "\n",
    "def createBST_PostOrder(postOrderValues):\n",
    "    return createBSTPostOrder(0, len(postOrderValues)-1, postOrderValues)\n",
    "\n",
    "def createBSTPostOrder(startIndex, endIndex, array):\n",
    "    if startIndex > endIndex:\n",
    "        return None\n",
    "    bst = BST(array[endIndex])\n",
    "    i = endIndex\n",
    "    while i >= startIndex:\n",
    "        if array[i] < array[endIndex]:\n",
    "            break\n",
    "        i -= 1\n",
    "    \n",
    "    bst.left = createBSTPostOrder(startIndex, i, array)\n",
    "    bst.right = createBSTPostOrder(i+1, endIndex-1, array)\n",
    "    return bst"
   ]
  },
  {
   "cell_type": "code",
   "execution_count": 10,
   "metadata": {},
   "outputs": [
    {
     "name": "stdout",
     "output_type": "stream",
     "text": [
      "Preorder traversal\n",
      "10 4 2 1 5 17 19 18 \n",
      "Inorder traversal\n",
      "1 2 4 5 10 17 18 19 \n",
      "Postorder traversal\n",
      "1 2 5 4 18 19 17 10 "
     ]
    }
   ],
   "source": [
    "postordervalues = [1, 2, 5, 4, 18, 19, 17, 10]\n",
    "b = createBST_PostOrder(postordervalues)\n",
    "print(\"Preorder traversal\")\n",
    "preorder(b)\n",
    "\n",
    "print(\"\\nInorder traversal\")\n",
    "inorder(b)\n",
    "\n",
    "print(\"\\nPostorder traversal\")\n",
    "postorder(b)"
   ]
  },
  {
   "cell_type": "markdown",
   "metadata": {},
   "source": [
    "## Construct BST from In order values"
   ]
  },
  {
   "cell_type": "code",
   "execution_count": 28,
   "metadata": {},
   "outputs": [],
   "source": [
    "class BST:\n",
    "    def __init__(self, value):\n",
    "        self.value = value\n",
    "        self.left = None\n",
    "        self.right = None\n",
    "\n",
    "def creatBST_InOrder(inorderValues):\n",
    "    return createBSTInOrder(0, len(inorderValues)-1, inorderValues)\n",
    "\n",
    "def createBSTInOrder(startIndex, endIndex, array):\n",
    "    if endIndex < startIndex:\n",
    "        return None\n",
    "    mid = startIndex + (endIndex - startIndex)//2\n",
    "    \n",
    "    bst = BST(array[mid])\n",
    "    bst.left = createBSTInOrder(startIndex, mid-1, array)\n",
    "    bst.right = createBSTInOrder(mid+1, endIndex, array)\n",
    "    return bst"
   ]
  },
  {
   "cell_type": "code",
   "execution_count": 29,
   "metadata": {},
   "outputs": [
    {
     "name": "stdout",
     "output_type": "stream",
     "text": [
      "Preorder traversal\n",
      "5 2 1 4 17 10 18 19 \n",
      "Inorder traversal\n",
      "1 2 4 5 10 17 18 19 \n",
      "Postorder traversal\n",
      "1 4 2 10 19 18 17 5 "
     ]
    }
   ],
   "source": [
    "inordervalues = [1, 2, 4, 5, 10, 17, 18, 19]\n",
    "b = creatBST_InOrder(inordervalues)\n",
    "print(\"Preorder traversal\")\n",
    "preorder(b)\n",
    "\n",
    "print(\"\\nInorder traversal\")\n",
    "inorder(b)\n",
    "\n",
    "print(\"\\nPostorder traversal\")\n",
    "postorder(b)"
   ]
  },
  {
   "cell_type": "code",
   "execution_count": null,
   "metadata": {},
   "outputs": [],
   "source": []
  }
 ],
 "metadata": {
  "kernelspec": {
   "display_name": "Python 3",
   "language": "python",
   "name": "python3"
  },
  "language_info": {
   "codemirror_mode": {
    "name": "ipython",
    "version": 3
   },
   "file_extension": ".py",
   "mimetype": "text/x-python",
   "name": "python",
   "nbconvert_exporter": "python",
   "pygments_lexer": "ipython3",
   "version": "3.8.3"
  }
 },
 "nbformat": 4,
 "nbformat_minor": 4
}

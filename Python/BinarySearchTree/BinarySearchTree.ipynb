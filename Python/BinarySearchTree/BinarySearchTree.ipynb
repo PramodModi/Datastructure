{
 "cells": [
  {
   "cell_type": "code",
   "execution_count": 20,
   "metadata": {},
   "outputs": [],
   "source": [
    "# Exception class\n",
    "class Empty(Exception):\n",
    "    pass"
   ]
  },
  {
   "cell_type": "code",
   "execution_count": 21,
   "metadata": {},
   "outputs": [],
   "source": [
    "class BST:\n",
    "    # Node class for Tree\n",
    "    class _Node:\n",
    "         # Slots is being used to save memory and fster attribute access\n",
    "        __slots__ = '_data','_left', '_right'\n",
    "        \n",
    "        def __init__(self, data):\n",
    "            self._data = data\n",
    "            self._left = None\n",
    "            self._right = None\n",
    "    \n",
    "    def __init__(self):\n",
    "        self._root = None\n",
    "    \n",
    "    # Insert new node in BST\n",
    "    def insert(self, data):\n",
    "        # Create new node\n",
    "        newNode = self._Node(data)\n",
    "        # If root is None, then its first node entry, Assign it to root\n",
    "        if self._root is None:\n",
    "            self._root = newNode\n",
    "            return\n",
    "        #Otherwise move down the tree. \n",
    "        #If data is lesser than root data, then go to the left otherwise go to the right\n",
    "        tmp = self._root\n",
    "        while tmp:\n",
    "            x = tmp\n",
    "            if data < tmp._data:\n",
    "                tmp = tmp._left\n",
    "            else: \n",
    "                tmp = tmp._right\n",
    "        # Now assign the newnode to the left or right of the node, based on data.\n",
    "        if data < x._data:\n",
    "            x._left = newNode\n",
    "        elif data > x._data:\n",
    "            x._right = newNode\n",
    "            \n",
    "    def _preorder(self, root):\n",
    "        if root:\n",
    "            print(root._data)\n",
    "            self._preorder(root._left)\n",
    "            self._preorder(root._right)\n",
    "    def preorder(self):\n",
    "        if self._root is None:\n",
    "            raise Empty(\"Tree is empty\")\n",
    "        self._preorder(self._root)\n",
    "        \n",
    "    def _inorder(self, root):\n",
    "        if root:\n",
    "            self._inorder(root._left)\n",
    "            print(root._data)\n",
    "            self._inorder(root._right)\n",
    "    \n",
    "    def inorder(self):\n",
    "        if self._root is None:\n",
    "            raise Empty(\"Tree is empty\")\n",
    "        self._inorder(self._root)\n",
    "        \n",
    "    \n",
    "            "
   ]
  },
  {
   "cell_type": "code",
   "execution_count": 22,
   "metadata": {},
   "outputs": [
    {
     "name": "stdout",
     "output_type": "stream",
     "text": [
      "\n",
      "###### Pre Order Traversal ########\n",
      "7\n",
      "5\n",
      "3\n",
      "6\n",
      "8\n",
      "9\n",
      "\n",
      "###### In Order Traversal ########\n",
      "3\n",
      "5\n",
      "6\n",
      "7\n",
      "8\n",
      "9\n"
     ]
    }
   ],
   "source": [
    "b = BST()\n",
    "b.insert(7)\n",
    "b.insert(8)\n",
    "b.insert(9)\n",
    "b.insert(5)\n",
    "b.insert(6)\n",
    "b.insert(3)\n",
    "print(\"\\n###### Pre Order Traversal ########\")\n",
    "b.preorder()\n",
    "print(\"\\n###### In Order Traversal ########\")\n",
    "b.inorder()"
   ]
  },
  {
   "cell_type": "code",
   "execution_count": null,
   "metadata": {},
   "outputs": [],
   "source": []
  }
 ],
 "metadata": {
  "kernelspec": {
   "display_name": "Python 3",
   "language": "python",
   "name": "python3"
  },
  "language_info": {
   "codemirror_mode": {
    "name": "ipython",
    "version": 3
   },
   "file_extension": ".py",
   "mimetype": "text/x-python",
   "name": "python",
   "nbconvert_exporter": "python",
   "pygments_lexer": "ipython3",
   "version": "3.8.3"
  }
 },
 "nbformat": 4,
 "nbformat_minor": 4
}

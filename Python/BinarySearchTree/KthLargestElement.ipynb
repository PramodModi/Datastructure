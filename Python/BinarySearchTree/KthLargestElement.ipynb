{
 "cells": [
  {
   "cell_type": "code",
   "execution_count": 6,
   "metadata": {},
   "outputs": [],
   "source": [
    "class BST:\n",
    "    def __init__(self, value):\n",
    "        self.value = value\n",
    "        self.left = None\n",
    "        self.right = None\n",
    "        \n",
    "    def insert(self, value):\n",
    "        node = BST(value)\n",
    "        root = self\n",
    "        parent = None\n",
    "        while root:\n",
    "            parent = root\n",
    "            if value < root.value:\n",
    "                root = root.left\n",
    "            else:\n",
    "                root = root.right\n",
    "        \n",
    "        if value < parent.value :\n",
    "            parent.left = node\n",
    "        else:\n",
    "            parent.right = node\n",
    "    \n",
    "class KthLargestNode:\n",
    "    def __init__(self, count, value):\n",
    "        self.count = count\n",
    "        self.value = value\n",
    "\n",
    "def ktheLagestValue(tree, k):\n",
    "    kthlargestnode = KthLargestNode(0, None)\n",
    "    reverseInOrder(tree, k, kthlargestnode)\n",
    "    return kthlargestnode.value\n",
    "\n",
    "def reverseInOrder(tree, k, kthlargestnode):\n",
    "    if tree is None or kthlargestnode.count >= k:\n",
    "        return None\n",
    "    reverseInOrder(tree.right, k, kthlargestnode)\n",
    "    if kthlargestnode.count < k:\n",
    "        kthlargestnode.count += 1\n",
    "        kthlargestnode.value = tree.value\n",
    "        reverseInOrder(tree.left, k, kthlargestnode)\n",
    "        \n",
    "    "
   ]
  },
  {
   "cell_type": "code",
   "execution_count": 12,
   "metadata": {},
   "outputs": [
    {
     "name": "stdout",
     "output_type": "stream",
     "text": [
      "18\n"
     ]
    }
   ],
   "source": [
    "b = BST(10)\n",
    "b.insert(12)\n",
    "b.insert(15)\n",
    "b.insert(5)\n",
    "b.insert(6)\n",
    "b.insert(15)\n",
    "b.insert(18)\n",
    "b.insert(3)\n",
    "b.insert(2)\n",
    "b.insert(22)\n",
    "b.insert(14)\n",
    "print(ktheLagestValue(b,2))"
   ]
  },
  {
   "cell_type": "code",
   "execution_count": null,
   "metadata": {},
   "outputs": [],
   "source": []
  }
 ],
 "metadata": {
  "kernelspec": {
   "display_name": "Python 3",
   "language": "python",
   "name": "python3"
  },
  "language_info": {
   "codemirror_mode": {
    "name": "ipython",
    "version": 3
   },
   "file_extension": ".py",
   "mimetype": "text/x-python",
   "name": "python",
   "nbconvert_exporter": "python",
   "pygments_lexer": "ipython3",
   "version": "3.8.3"
  }
 },
 "nbformat": 4,
 "nbformat_minor": 4
}

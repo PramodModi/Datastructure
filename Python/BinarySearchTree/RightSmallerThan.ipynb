{
 "cells": [
  {
   "cell_type": "code",
   "execution_count": 65,
   "metadata": {},
   "outputs": [],
   "source": [
    "class Node:\n",
    "    def __init__(self, value = 0, left = None, right = None):\n",
    "        self.value = value\n",
    "        self.left = left\n",
    "        self.right = right\n",
    "class BST:\n",
    "    def __init__(self):\n",
    "        self.root = None\n",
    "        self.leftCount = {}\n",
    "    def add(self, value):\n",
    "        \n",
    "        if self.root is None:\n",
    "            self.root = Node(value)\n",
    "            return\n",
    "        temp = self.root\n",
    "        parent = None\n",
    "        while temp:\n",
    "            parent = temp\n",
    "            if value < temp.value:\n",
    "                temp = temp.left\n",
    "            else:\n",
    "                temp = temp.right\n",
    "        if value < parent.value:\n",
    "            parent.left = Node(value)\n",
    "        else:\n",
    "            parent.right = Node(value)   \n",
    "        \n",
    "    def getLeftNodes1(self, node):\n",
    "        stack = []\n",
    "        count = 0\n",
    "        if node is None:\n",
    "            return 0\n",
    "        stack.append(node)\n",
    "        while len(stack):\n",
    "            n = stack.pop()\n",
    "            count += 1\n",
    "            if n.left:\n",
    "                stack.append(n.left)\n",
    "            if n.right:\n",
    "                stack.append(n.right)\n",
    "        return count\n",
    "    \n",
    "    def getLeftNodes(self, node, depth = 0):\n",
    "        if node is None:\n",
    "            return 0\n",
    "        return depth + self.getLeftNodes(node.left, depth+1) + self.getLeftNodes(node.right, depth+1)\n",
    "    \n",
    "    def getNode(self, value):\n",
    "        root = self.root\n",
    "        while root and value < root.value:\n",
    "             root = root.left\n",
    "        while root and value > root.value:\n",
    "            root = root.right\n",
    "        return root\n",
    "    \n",
    "def preorder(root):\n",
    "    if root:\n",
    "        print(root.value)\n",
    "        preorder(root.left)\n",
    "        preorder(root.right)\n",
    "        \n",
    "def rightSmallerThan(array):\n",
    "    # Write your code here.\n",
    "    if len(array) == 0:\n",
    "        return []\n",
    "    bst = creatBST(array)\n",
    "    preorder(bst.root)\n",
    "    \n",
    "    count = [0] * len(array)\n",
    "    for i, n in enumerate(array):\n",
    "        count[i] = bst.getLeftNodes(bst.getNode(n).left)\n",
    "    return count\n",
    "def creatBST(array):\n",
    "    bst = BST()\n",
    "    for i in range(0, len(array)):\n",
    "        bst.add(array[i])\n",
    "    return bst\n",
    "        \n"
   ]
  },
  {
   "cell_type": "code",
   "execution_count": 66,
   "metadata": {},
   "outputs": [
    {
     "name": "stdout",
     "output_type": "stream",
     "text": [
      "8\n",
      "5\n",
      "-1\n",
      "3\n",
      "2\n",
      "4\n",
      "11\n"
     ]
    },
    {
     "data": {
      "text/plain": [
       "[9, 5, 0, 0, 0, 0, 0]"
      ]
     },
     "execution_count": 66,
     "metadata": {},
     "output_type": "execute_result"
    }
   ],
   "source": [
    "array = [8,5,11,-1,3,4,2]\n",
    "rightSmallerThan(array)"
   ]
  },
  {
   "cell_type": "code",
   "execution_count": null,
   "metadata": {},
   "outputs": [],
   "source": []
  }
 ],
 "metadata": {
  "kernelspec": {
   "display_name": "Python 3",
   "language": "python",
   "name": "python3"
  },
  "language_info": {
   "codemirror_mode": {
    "name": "ipython",
    "version": 3
   },
   "file_extension": ".py",
   "mimetype": "text/x-python",
   "name": "python",
   "nbconvert_exporter": "python",
   "pygments_lexer": "ipython3",
   "version": "3.8.3"
  }
 },
 "nbformat": 4,
 "nbformat_minor": 4
}

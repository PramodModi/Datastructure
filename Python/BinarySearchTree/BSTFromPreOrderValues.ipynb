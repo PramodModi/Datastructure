{
 "cells": [
  {
   "cell_type": "markdown",
   "metadata": {},
   "source": [
    "## Problem\n",
    "\n",
    "create a BST from givrn preorder values."
   ]
  },
  {
   "cell_type": "code",
   "execution_count": 16,
   "metadata": {},
   "outputs": [],
   "source": [
    "class BST:\n",
    "    def __init__(self, value, left = None, right = None):\n",
    "        self.value = value\n",
    "        self.left = left\n",
    "        self.right = right\n",
    "\n",
    "class Index:\n",
    "    def __init__(self, id):\n",
    "        self.id = id\n",
    "        \n",
    "def creatBST(preordervalues):\n",
    "    index = Index(0)\n",
    "    return createBSTWithRange(float('-inf'), float('inf'), preordervalues, index)\n",
    "\n",
    "def createBSTWithRange(lower, upper, array, index):\n",
    "    if index.id == len(array):\n",
    "        return None\n",
    "    root = array[index.id]\n",
    "    if root < lower or root >= upper:\n",
    "        return None\n",
    "    index.id += 1\n",
    "    left = createBSTWithRange(lower, root, array, index)\n",
    "    right = createBSTWithRange(root, upper, array, index)\n",
    "    return BST(root, left, right)\n",
    "\n",
    "#Just to print the created tree\n",
    "def preorder(tree):\n",
    "    if tree:\n",
    "        print(tree.value)\n",
    "        preorder(tree.left)\n",
    "        preorder(tree.right)\n",
    "        \n",
    "def inorder(tree):\n",
    "    if tree:\n",
    "        inorder(tree.left)\n",
    "        print(tree.value)\n",
    "        inorder(tree.right)\n",
    "        \n",
    "def postorder(tree):\n",
    "    if tree:\n",
    "        postorder(tree.left)\n",
    "        postorder(tree.right)\n",
    "        print(tree.value)"
   ]
  },
  {
   "cell_type": "code",
   "execution_count": 17,
   "metadata": {},
   "outputs": [
    {
     "name": "stdout",
     "output_type": "stream",
     "text": [
      "\n",
      "Preorder traversal\n",
      "\n",
      "10\n",
      "4\n",
      "2\n",
      "1\n",
      "5\n",
      "17\n",
      "19\n",
      "18\n",
      "\n",
      "Inorder traversal\n",
      "\n",
      "1\n",
      "2\n",
      "4\n",
      "5\n",
      "10\n",
      "17\n",
      "18\n",
      "19\n",
      "\n",
      "Postorder traversal\n",
      "\n",
      "1\n",
      "2\n",
      "5\n",
      "4\n",
      "18\n",
      "19\n",
      "17\n",
      "10\n"
     ]
    }
   ],
   "source": [
    "preordervalues = [10,4,2,1,5,17,19,18]\n",
    "b = creatBST(preordervalues)\n",
    "print(\"\\nPreorder traversal\\n\")\n",
    "preorder(b)\n",
    "\n",
    "print(\"\\nInorder traversal\\n\")\n",
    "inorder(b)\n",
    "\n",
    "print(\"\\nPostorder traversal\\n\")\n",
    "postorder(b)"
   ]
  },
  {
   "cell_type": "code",
   "execution_count": null,
   "metadata": {},
   "outputs": [],
   "source": []
  },
  {
   "cell_type": "code",
   "execution_count": null,
   "metadata": {},
   "outputs": [],
   "source": []
  }
 ],
 "metadata": {
  "kernelspec": {
   "display_name": "Python 3",
   "language": "python",
   "name": "python3"
  },
  "language_info": {
   "codemirror_mode": {
    "name": "ipython",
    "version": 3
   },
   "file_extension": ".py",
   "mimetype": "text/x-python",
   "name": "python",
   "nbconvert_exporter": "python",
   "pygments_lexer": "ipython3",
   "version": "3.8.3"
  }
 },
 "nbformat": 4,
 "nbformat_minor": 4
}

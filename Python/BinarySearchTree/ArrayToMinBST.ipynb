{
 "cells": [
  {
   "cell_type": "markdown",
   "metadata": {},
   "source": [
    "## Problem\n",
    "\n",
    "Create minimum height BST, by using sorted array."
   ]
  },
  {
   "cell_type": "code",
   "execution_count": 9,
   "metadata": {},
   "outputs": [],
   "source": [
    "class BST:\n",
    "    def __init__(self, value):\n",
    "        self.value = value\n",
    "        self.left = None\n",
    "        self.right = None\n",
    "       \n",
    "def preorder(tree):\n",
    "    \n",
    "    if tree:\n",
    "        print(tree.value)\n",
    "        preorder(tree.left)\n",
    "        preorder(tree.right)\n",
    "        \n",
    "    \n",
    "def inorder(tree):\n",
    "    \n",
    "    if tree:\n",
    "        preorder(tree.left)\n",
    "        print(tree.value)\n",
    "        preorder(tree.right)\n",
    "        "
   ]
  },
  {
   "cell_type": "code",
   "execution_count": 10,
   "metadata": {},
   "outputs": [],
   "source": [
    "def minHeightBst(array):\n",
    "    return createMinHeightBst(array, 0, len(array)-1)\n",
    "\n",
    "def createMinHeightBst(array, minindex, maxindex):\n",
    "    if maxindex < minindex:\n",
    "        return None\n",
    "    midindex = (minindex + maxindex)//2\n",
    "    bst = BST(array[midindex])\n",
    "    bst.left = createMinHeightBst(array, minindex, midindex - 1)\n",
    "    bst.right = createMinHeightBst(array, midindex + 1, maxindex)\n",
    "    return bst\n"
   ]
  },
  {
   "cell_type": "code",
   "execution_count": 11,
   "metadata": {},
   "outputs": [
    {
     "name": "stdout",
     "output_type": "stream",
     "text": [
      "2\n",
      "1\n",
      "3\n",
      "4\n",
      "5\n",
      "8\n",
      "6\n",
      "7\n",
      "9\n",
      "10\n"
     ]
    }
   ],
   "source": [
    "array = [1,2,3,4,5,6,7,8,9,10]\n",
    "bst = minHeightBst(array)\n",
    "inorder(bst)"
   ]
  },
  {
   "cell_type": "code",
   "execution_count": 12,
   "metadata": {},
   "outputs": [
    {
     "name": "stdout",
     "output_type": "stream",
     "text": [
      "2\n",
      "1\n",
      "5\n",
      "7\n",
      "10\n",
      "14\n",
      "13\n",
      "15\n",
      "22\n"
     ]
    }
   ],
   "source": [
    "array = [1,2,5,7,10,13,14,15,22]\n",
    "bst = minHeightBst(array)\n",
    "inorder(bst)"
   ]
  },
  {
   "cell_type": "code",
   "execution_count": null,
   "metadata": {},
   "outputs": [],
   "source": []
  }
 ],
 "metadata": {
  "kernelspec": {
   "display_name": "Python 3",
   "language": "python",
   "name": "python3"
  },
  "language_info": {
   "codemirror_mode": {
    "name": "ipython",
    "version": 3
   },
   "file_extension": ".py",
   "mimetype": "text/x-python",
   "name": "python",
   "nbconvert_exporter": "python",
   "pygments_lexer": "ipython3",
   "version": "3.8.3"
  }
 },
 "nbformat": 4,
 "nbformat_minor": 4
}

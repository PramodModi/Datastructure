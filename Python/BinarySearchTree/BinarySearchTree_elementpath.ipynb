{
 "cells": [
  {
   "cell_type": "markdown",
   "metadata": {},
   "source": [
    "## Print path of given element in the tree."
   ]
  },
  {
   "cell_type": "code",
   "execution_count": 49,
   "metadata": {},
   "outputs": [],
   "source": [
    "# Exception class\n",
    "class Empty(Exception):\n",
    "    pass"
   ]
  },
  {
   "cell_type": "code",
   "execution_count": 66,
   "metadata": {},
   "outputs": [],
   "source": [
    "class BST:\n",
    "    # Node class for Tree\n",
    "    class _Node:\n",
    "         # Slots is being used to save memory and fster attribute access\n",
    "        __slots__ = '_data','_left', '_right'\n",
    "        \n",
    "        def __init__(self, data):\n",
    "            self._data = data\n",
    "            self._left = None\n",
    "            self._right = None\n",
    "    \n",
    "    def __init__(self):\n",
    "        self._root = None\n",
    "    \n",
    "    # Insert new node in BST\n",
    "    def insert(self, data):\n",
    "        # Create new node\n",
    "        newNode = self._Node(data)\n",
    "        # If root is None, then its first node entry, Assign it to root\n",
    "        if self._root is None:\n",
    "            self._root = newNode\n",
    "            return\n",
    "        #Otherwise move down the tree. \n",
    "        #If data is lesser than root data, then go to the left otherwise go to the right\n",
    "        tmp = self._root\n",
    "        while tmp:\n",
    "            x = tmp\n",
    "            if data < tmp._data:\n",
    "                tmp = tmp._left\n",
    "            else: \n",
    "                tmp = tmp._right\n",
    "        # Now assign the newnode to the left or right of the node, based on data.\n",
    "        if data < x._data:\n",
    "            x._left = newNode\n",
    "        elif data > x._data:\n",
    "            x._right = newNode\n",
    "            \n",
    "    # Print the path of element if it present in the tree\n",
    "    def findpath(self, data):\n",
    "        if self._root is None:\n",
    "            raise Empty(\"Tree is empty\")\n",
    "        tmp = self._root\n",
    "        path = []\n",
    "        while tmp:\n",
    "            \n",
    "            if(data < tmp._data):\n",
    "                path.append(tmp)\n",
    "                tmp = tmp._left\n",
    "            if(data > tmp._data):\n",
    "                path.append(tmp)\n",
    "                tmp = tmp._right\n",
    "            if tmp is None:\n",
    "                print(\"Element is not available in Tree\")\n",
    "            elif data == tmp._data:\n",
    "                path.append(tmp)\n",
    "                self._printpath(path)\n",
    "                break                \n",
    "        \n",
    "    def _printpath(self,path):\n",
    "        for e in path:\n",
    "            print(e._data)\n",
    "            "
   ]
  },
  {
   "cell_type": "code",
   "execution_count": 67,
   "metadata": {},
   "outputs": [
    {
     "name": "stdout",
     "output_type": "stream",
     "text": [
      "7\n",
      "4\n",
      "6\n",
      "5\n"
     ]
    }
   ],
   "source": [
    "b = BST()\n",
    "b.insert(7)\n",
    "b.insert(10)\n",
    "b.insert(8)\n",
    "b.insert(11)\n",
    "b.insert(9)\n",
    "b.insert(4)\n",
    "b.insert(3)\n",
    "b.insert(6)\n",
    "b.insert(5)\n",
    "\n",
    "#Print path of given element\n",
    "b.findpath(5)"
   ]
  },
  {
   "cell_type": "code",
   "execution_count": 68,
   "metadata": {},
   "outputs": [
    {
     "name": "stdout",
     "output_type": "stream",
     "text": [
      "7\n",
      "10\n"
     ]
    }
   ],
   "source": [
    "#Print path of given element\n",
    "b.findpath(10)"
   ]
  },
  {
   "cell_type": "code",
   "execution_count": 69,
   "metadata": {},
   "outputs": [
    {
     "name": "stdout",
     "output_type": "stream",
     "text": [
      "7\n",
      "4\n",
      "3\n"
     ]
    }
   ],
   "source": [
    "#Print path of given element\n",
    "b.findpath(3)"
   ]
  },
  {
   "cell_type": "code",
   "execution_count": 70,
   "metadata": {},
   "outputs": [
    {
     "name": "stdout",
     "output_type": "stream",
     "text": [
      "7\n",
      "4\n",
      "6\n"
     ]
    }
   ],
   "source": [
    "#Print path of given element\n",
    "b.findpath(6)"
   ]
  },
  {
   "cell_type": "code",
   "execution_count": 71,
   "metadata": {},
   "outputs": [
    {
     "name": "stdout",
     "output_type": "stream",
     "text": [
      "7\n",
      "4\n"
     ]
    }
   ],
   "source": [
    "#Print path of given element\n",
    "b.findpath(4)"
   ]
  },
  {
   "cell_type": "code",
   "execution_count": 72,
   "metadata": {},
   "outputs": [
    {
     "name": "stdout",
     "output_type": "stream",
     "text": [
      "7\n"
     ]
    }
   ],
   "source": [
    "#Print path of given element\n",
    "b.findpath(7)"
   ]
  },
  {
   "cell_type": "code",
   "execution_count": 73,
   "metadata": {},
   "outputs": [
    {
     "name": "stdout",
     "output_type": "stream",
     "text": [
      "7\n",
      "10\n",
      "8\n",
      "9\n"
     ]
    }
   ],
   "source": [
    "#Print path of given element\n",
    "b.findpath(9)"
   ]
  },
  {
   "cell_type": "code",
   "execution_count": null,
   "metadata": {},
   "outputs": [],
   "source": []
  }
 ],
 "metadata": {
  "kernelspec": {
   "display_name": "Python 3",
   "language": "python",
   "name": "python3"
  },
  "language_info": {
   "codemirror_mode": {
    "name": "ipython",
    "version": 3
   },
   "file_extension": ".py",
   "mimetype": "text/x-python",
   "name": "python",
   "nbconvert_exporter": "python",
   "pygments_lexer": "ipython3",
   "version": "3.8.3"
  }
 },
 "nbformat": 4,
 "nbformat_minor": 4
}

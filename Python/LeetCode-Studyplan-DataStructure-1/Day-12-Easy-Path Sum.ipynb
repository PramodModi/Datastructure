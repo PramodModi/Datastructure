{
 "cells": [
  {
   "cell_type": "markdown",
   "metadata": {},
   "source": [
    "## Problem: 112. Path Sum\n",
    "https://leetcode.com/problems/path-sum/?envType=study-plan&id=data-structure-i\n",
    "\n",
    "Given the root of a binary tree and an integer targetSum, return true if the tree has a root-to-leaf path such that adding up all the values along the path equals targetSum.\n",
    "\n",
    "A leaf is a node with no children.\n",
    "\n",
    " \n",
    "\n",
    "Example 1:\n",
    "\n",
    "\n",
    "Input: root = [5,4,8,11,null,13,4,7,2,null,null,null,1], targetSum = 22\n",
    "\n",
    "Output: true\n",
    "\n",
    "Explanation: The root-to-leaf path with the target sum is shown.\n",
    "\n",
    "Example 2:\n",
    "\n",
    "\n",
    "Input: root = [1,2,3], targetSum = 5\n",
    "\n",
    "Output: false\n",
    "\n",
    "Explanation: There two root-to-leaf paths in the tree:\n",
    "\n",
    "(1 --> 2): The sum is 3.\n",
    "\n",
    "(1 --> 3): The sum is 4.\n",
    "\n",
    "There is no root-to-leaf path with sum = 5.\n",
    "\n",
    "Example 3:\n",
    "\n",
    "Input: root = [], targetSum = 0\n",
    "\n",
    "Output: false\n",
    "\n",
    "Explanation: Since the tree is empty, there are no root-to-leaf paths.\n",
    " \n",
    "\n",
    "Constraints:\n",
    "\n",
    "The number of nodes in the tree is in the range [0, 5000].\n",
    "\n",
    "-1000 <= Node.val <= 1000\n",
    "\n",
    "-1000 <= targetSum <= 1000"
   ]
  },
  {
   "cell_type": "code",
   "execution_count": null,
   "metadata": {},
   "outputs": [],
   "source": [
    "def hasPathSum(self, root, targetSum):\n",
    "    sum = 0\n",
    "    return pathSum(root, sum, targetSum)\n",
    "\n",
    "def pathSum(root, sum, targetSum):\n",
    "    if root is None:\n",
    "        return False\n",
    "    if sum + root.val == targetSum and root.left is None and root.right is None:\n",
    "        return True\n",
    "    return pathSum(root.left, sum+root.val, targetSum) or pathSum(root.right, sum+root.val, targetSum)"
   ]
  }
 ],
 "metadata": {
  "kernelspec": {
   "display_name": "Python 3",
   "language": "python",
   "name": "python3"
  },
  "language_info": {
   "codemirror_mode": {
    "name": "ipython",
    "version": 3
   },
   "file_extension": ".py",
   "mimetype": "text/x-python",
   "name": "python",
   "nbconvert_exporter": "python",
   "pygments_lexer": "ipython3",
   "version": "3.8.3"
  }
 },
 "nbformat": 4,
 "nbformat_minor": 4
}

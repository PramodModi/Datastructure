{
 "cells": [
  {
   "cell_type": "markdown",
   "metadata": {},
   "source": [
    "## Problem: 203. Remove Linked List Elements\n",
    "\n",
    "https://leetcode.com/problems/remove-linked-list-elements/?envType=study-plan&id=data-structure-i\n",
    "\n",
    "Given the head of a linked list and an integer val, remove all the nodes of the linked list that has Node.val == val, and return the new head.\n",
    "\n",
    " \n",
    "\n",
    "Example 1:\n",
    "\n",
    "\n",
    "Input: head = [1,2,6,3,4,5,6], val = 6\n",
    "\n",
    "Output: [1,2,3,4,5]\n",
    "\n",
    "Example 2:\n",
    "\n",
    "Input: head = [], val = 1\n",
    "\n",
    "Output: []\n",
    "\n",
    "Example 3:\n",
    "\n",
    "Input: head = [7,7,7,7], val = 7\n",
    "\n",
    "Output: []\n",
    " \n",
    "\n",
    "Constraints:\n",
    "\n",
    "The number of nodes in the list is in the range [0, 104].\n",
    "\n",
    "1 <= Node.val <= 50\n",
    "\n",
    "0 <= val <= 50"
   ]
  },
  {
   "cell_type": "code",
   "execution_count": 1,
   "metadata": {},
   "outputs": [],
   "source": [
    "# Definition for singly-linked list.\n",
    "# class ListNode(object):\n",
    "#     def __init__(self, val=0, next=None):\n",
    "#         self.val = val\n",
    "#         self.next = next\n",
    "\n",
    "def removeElements(head, val):\n",
    "    if head is None:\n",
    "        return head\n",
    "    cur = head\n",
    "    dummy = ListNode(0, head)\n",
    "    prev = dummy\n",
    "\n",
    "    while cur:\n",
    "        if cur.val == val:\n",
    "            cur = cur.next\n",
    "            while cur and cur.val == val:\n",
    "                cur = cur.next\n",
    "            prev.next = cur\n",
    "        else:\n",
    "            prev = cur\n",
    "            cur = cur.next\n",
    "    return dummy.next"
   ]
  },
  {
   "cell_type": "code",
   "execution_count": null,
   "metadata": {},
   "outputs": [],
   "source": []
  }
 ],
 "metadata": {
  "kernelspec": {
   "display_name": "Python 3",
   "language": "python",
   "name": "python3"
  },
  "language_info": {
   "codemirror_mode": {
    "name": "ipython",
    "version": 3
   },
   "file_extension": ".py",
   "mimetype": "text/x-python",
   "name": "python",
   "nbconvert_exporter": "python",
   "pygments_lexer": "ipython3",
   "version": "3.8.3"
  }
 },
 "nbformat": 4,
 "nbformat_minor": 4
}

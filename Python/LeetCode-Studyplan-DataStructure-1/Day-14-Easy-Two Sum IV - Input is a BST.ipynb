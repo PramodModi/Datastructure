{
 "cells": [
  {
   "cell_type": "markdown",
   "metadata": {},
   "source": [
    "## Problem: 653. Two Sum IV - Input is a BST\n",
    "https://leetcode.com/problems/two-sum-iv-input-is-a-bst/?envType=study-plan&id=data-structure-i\n",
    "\n",
    "Given the root of a Binary Search Tree and a target number k, return true if there exist two elements in the BST such that their sum is equal to the given target.\n",
    "\n",
    " \n",
    "\n",
    "Example 1:\n",
    "\n",
    "\n",
    "Input: root = [5,3,6,2,4,null,7], k = 9\n",
    "\n",
    "Output: true\n",
    "\n",
    "Example 2:\n",
    "\n",
    "\n",
    "Input: root = [5,3,6,2,4,null,7], k = 28\n",
    "\n",
    "Output: false\n",
    " \n",
    "\n",
    "Constraints:\n",
    "\n",
    "The number of nodes in the tree is in the range [1, 104].\n",
    "\n",
    "-104 <= Node.val <= 104\n",
    "\n",
    "root is guaranteed to be a valid binary search tree.\n",
    "\n",
    "-105 <= k <= 105"
   ]
  },
  {
   "cell_type": "code",
   "execution_count": null,
   "metadata": {},
   "outputs": [],
   "source": [
    "def findTarget(root, k):\n",
    "        \n",
    "    stack = []\n",
    "    inorderTraversal(root, stack)\n",
    "    left = 0\n",
    "    right = len(stack)-1\n",
    "    while left < right:\n",
    "        if  stack[left] + stack[right] < k:\n",
    "            left += 1\n",
    "        elif stack[left] + stack[right] > k:\n",
    "            right -= 1\n",
    "        else:\n",
    "            return True\n",
    "    return False\n",
    "def inorderTraversal(root, stack):\n",
    "    if root:\n",
    "        inorderTraversal(root.left, stack)\n",
    "        stack.append(root.val)\n",
    "        inorderTraversal(root.right, stack)"
   ]
  },
  {
   "cell_type": "code",
   "execution_count": null,
   "metadata": {},
   "outputs": [],
   "source": [
    "def findTarget(root, k):\n",
    "    temp = set()\n",
    "    \n",
    "    if root is None:\n",
    "        return False\n",
    "    if k - root.val in temp:\n",
    "        return True\n",
    "    else:\n",
    "        temp.add(root.val)\n",
    "    \n",
    "    return findTarget(root.left, k) or findTarget(root.right, k)"
   ]
  }
 ],
 "metadata": {
  "kernelspec": {
   "display_name": "Python 3",
   "language": "python",
   "name": "python3"
  },
  "language_info": {
   "codemirror_mode": {
    "name": "ipython",
    "version": 3
   },
   "file_extension": ".py",
   "mimetype": "text/x-python",
   "name": "python",
   "nbconvert_exporter": "python",
   "pygments_lexer": "ipython3",
   "version": "3.8.3"
  }
 },
 "nbformat": 4,
 "nbformat_minor": 4
}

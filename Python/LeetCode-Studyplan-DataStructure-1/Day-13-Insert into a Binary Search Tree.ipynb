{
 "cells": [
  {
   "cell_type": "markdown",
   "metadata": {},
   "source": [
    "## Problem: 701. Insert into a Binary Search Tree\n",
    "https://leetcode.com/problems/insert-into-a-binary-search-tree/?envType=study-plan&id=data-structure-i\n",
    "\n",
    "You are given the root node of a binary search tree (BST) and a value to insert into the tree. Return the root node of the BST after the insertion. It is guaranteed that the new value does not exist in the original BST.\n",
    "\n",
    "Notice that there may exist multiple valid ways for the insertion, as long as the tree remains a BST after insertion. You can return any of them.\n",
    "\n",
    " \n",
    "\n",
    "Example 1:\n",
    "\n",
    "\n",
    "Input: root = [4,2,7,1,3], val = 5\n",
    "\n",
    "Output: [4,2,7,1,3,5]\n",
    "\n",
    "Explanation: Another accepted tree is:\n",
    "\n",
    "Example 2:\n",
    "\n",
    "Input: root = [40,20,60,10,30,50,70], val = 25\n",
    "\n",
    "Output: [40,20,60,10,30,50,70,null,null,25]\n",
    "\n",
    "Example 3:\n",
    "\n",
    "Input: root = [4,2,7,1,3,null,null,null,null,null,null], val = 5\n",
    "\n",
    "Output: [4,2,7,1,3,5]\n",
    " \n",
    "\n",
    "Constraints:\n",
    "\n",
    "The number of nodes in the tree will be in the range [0, 104].\n",
    "\n",
    "-108 <= Node.val <= 108\n",
    "\n",
    "All the values Node.val are unique.\n",
    "\n",
    "-108 <= val <= 108\n",
    "\n",
    "It's guaranteed that val does not exist in the original BST."
   ]
  },
  {
   "cell_type": "code",
   "execution_count": null,
   "metadata": {},
   "outputs": [],
   "source": [
    " def insertIntoBST(self, root, val):\n",
    "    if root is None:\n",
    "        root = TreeNode(val)\n",
    "        return root\n",
    "    temp = root\n",
    "    while temp:\n",
    "        if val < temp.val:\n",
    "            if temp.left is None:\n",
    "                temp.left = TreeNode(val)\n",
    "                return root\n",
    "            temp = temp.left\n",
    "        else:\n",
    "            if temp.right is None:\n",
    "                temp.right = TreeNode(val)\n",
    "                return root\n",
    "            temp = temp.right"
   ]
  },
  {
   "cell_type": "code",
   "execution_count": null,
   "metadata": {},
   "outputs": [],
   "source": [
    " ## Recurrsion Way\n",
    "def insertIntoBST(self, root, val):\n",
    "if root is None: return TreeNode(val)\n",
    "if val > root.val: root.right = self.insertIntoBST(root.right, val)  # Continue searching in the right subtree\n",
    "else: root.left = self.insertIntoBST(root.left, val)  # Continue searching in the left subtree\n",
    "return root"
   ]
  }
 ],
 "metadata": {
  "kernelspec": {
   "display_name": "Python 3",
   "language": "python",
   "name": "python3"
  },
  "language_info": {
   "codemirror_mode": {
    "name": "ipython",
    "version": 3
   },
   "file_extension": ".py",
   "mimetype": "text/x-python",
   "name": "python",
   "nbconvert_exporter": "python",
   "pygments_lexer": "ipython3",
   "version": "3.8.3"
  }
 },
 "nbformat": 4,
 "nbformat_minor": 4
}

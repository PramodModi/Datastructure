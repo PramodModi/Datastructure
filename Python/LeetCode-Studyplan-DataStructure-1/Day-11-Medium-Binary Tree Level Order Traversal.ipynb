{
 "cells": [
  {
   "cell_type": "markdown",
   "metadata": {},
   "source": [
    "## Problem: 102. Binary Tree Level Order Traversal\n",
    "https://leetcode.com/problems/binary-tree-level-order-traversal/?envType=study-plan&id=data-structure-i\n",
    "\n",
    "Given the root of a binary tree, return the level order traversal of its nodes' values. (i.e., from left to right, level by level).\n",
    "\n",
    " \n",
    "\n",
    "Example 1:\n",
    "\n",
    "\n",
    "Input: root = [3,9,20,null,null,15,7]\n",
    "\n",
    "Output: [[3],[9,20],[15,7]]\n",
    "\n",
    "Example 2:\n",
    "\n",
    "Input: root = [1]\n",
    "\n",
    "Output: [[1]]\n",
    "\n",
    "Example 3:\n",
    "\n",
    "Input: root = []\n",
    "\n",
    "Output: []\n",
    " \n",
    "\n",
    "Constraints:\n",
    "\n",
    "The number of nodes in the tree is in the range [0, 2000].\n",
    "\n",
    "-1000 <= Node.val <= 1000"
   ]
  },
  {
   "cell_type": "code",
   "execution_count": null,
   "metadata": {},
   "outputs": [],
   "source": [
    "def levelOrder(root):\n",
    "    q = deque()\n",
    "    result = []\n",
    "    if root:\n",
    "        q.append(root)\n",
    "    while q:\n",
    "        n = len(q)\n",
    "        temp =[]\n",
    "        while n:\n",
    "            node = q.popleft()\n",
    "            temp.append(node.val)\n",
    "            if node.left:\n",
    "                q.append(node.left)\n",
    "            if node.right:\n",
    "                q.append(node.right)\n",
    "            n -= 1\n",
    "        result.append(temp[:])\n",
    "    return result"
   ]
  }
 ],
 "metadata": {
  "kernelspec": {
   "display_name": "Python 3",
   "language": "python",
   "name": "python3"
  },
  "language_info": {
   "codemirror_mode": {
    "name": "ipython",
    "version": 3
   },
   "file_extension": ".py",
   "mimetype": "text/x-python",
   "name": "python",
   "nbconvert_exporter": "python",
   "pygments_lexer": "ipython3",
   "version": "3.8.3"
  }
 },
 "nbformat": 4,
 "nbformat_minor": 4
}

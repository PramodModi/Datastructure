{
 "cells": [
  {
   "cell_type": "markdown",
   "metadata": {},
   "source": [
    "## Problem: 83. Remove Duplicates from Sorted List\n",
    "\n",
    "https://leetcode.com/problems/remove-duplicates-from-sorted-list/?envType=study-plan&id=data-structure-i\n",
    "\n",
    "Given the head of a sorted linked list, delete all duplicates such that each element appears only once. Return the linked list sorted as well.\n",
    "\n",
    " \n",
    "\n",
    "Example 1:\n",
    "\n",
    "\n",
    "Input: head = [1,1,2]\n",
    "\n",
    "Output: [1,2]\n",
    "\n",
    "Example 2:\n",
    "\n",
    "\n",
    "Input: head = [1,1,2,3,3]\n",
    "\n",
    "Output: [1,2,3]\n",
    " \n",
    "\n",
    "Constraints:\n",
    "\n",
    "The number of nodes in the list is in the range [0, 300].\n",
    "\n",
    "-100 <= Node.val <= 100\n",
    "\n",
    "The list is guaranteed to be sorted in ascending order."
   ]
  },
  {
   "cell_type": "code",
   "execution_count": null,
   "metadata": {},
   "outputs": [],
   "source": [
    "def deleteDuplicates(self, head):\n",
    "    cur = head\n",
    "    dummy = ListNode(0, head)\n",
    "    prev = dummy\n",
    "    while cur and cur.next:\n",
    "        if cur.val == cur.next.val:\n",
    "            cur = cur.next\n",
    "            while cur.next and cur.val == cur.next.val:\n",
    "                cur = cur.next\n",
    "            prev.next = cur\n",
    "        else:\n",
    "            prev = cur\n",
    "            cur = cur.next\n",
    "    return dummy.next"
   ]
  }
 ],
 "metadata": {
  "kernelspec": {
   "display_name": "Python 3",
   "language": "python",
   "name": "python3"
  },
  "language_info": {
   "codemirror_mode": {
    "name": "ipython",
    "version": 3
   },
   "file_extension": ".py",
   "mimetype": "text/x-python",
   "name": "python",
   "nbconvert_exporter": "python",
   "pygments_lexer": "ipython3",
   "version": "3.8.3"
  }
 },
 "nbformat": 4,
 "nbformat_minor": 4
}

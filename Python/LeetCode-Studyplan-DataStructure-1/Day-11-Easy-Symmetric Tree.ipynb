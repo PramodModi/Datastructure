{
 "cells": [
  {
   "cell_type": "markdown",
   "metadata": {},
   "source": [
    "## Problem: 101. Symmetric Tree\n",
    "https://leetcode.com/problems/symmetric-tree/?envType=study-plan&id=data-structure-i\n",
    "\n",
    "Given the root of a binary tree, check whether it is a mirror of itself (i.e., symmetric around its center).\n",
    "\n",
    " \n",
    "\n",
    "Example 1:\n",
    "Look at the image at Leetcode for better understanding.\n",
    "\n",
    "Input: root = [1,2,2,3,4,4,3]\n",
    "\n",
    "Output: true\n",
    "\n",
    "Example 2:\n",
    "\n",
    "\n",
    "Input: root = [1,2,2,null,3,null,3]\n",
    "\n",
    "Output: false\n",
    " \n",
    "\n",
    "Constraints:\n",
    "\n",
    "The number of nodes in the tree is in the range [1, 1000].\n",
    "\n",
    "-100 <= Node.val <= 100"
   ]
  },
  {
   "cell_type": "code",
   "execution_count": 1,
   "metadata": {},
   "outputs": [],
   "source": [
    "def isSymmetric(root):\n",
    "    if root is None:\n",
    "        return True\n",
    "    if root.left is None and root.right is None:\n",
    "        return True\n",
    "    if root.left is None or root.right is None:\n",
    "        return False\n",
    "    return checkSymmetry(root.left, root.right)\n",
    "\n",
    "def checkSymmetry(left, right):\n",
    "    if left is None and right is None:\n",
    "        return True\n",
    "    if left is None or right is None:\n",
    "        return False\n",
    "    if left.val != right.val:\n",
    "        return False\n",
    "\n",
    "    return checkSymmetry(left.left, right.right) and checkSymmetry(left.right, right.left)"
   ]
  },
  {
   "cell_type": "code",
   "execution_count": null,
   "metadata": {},
   "outputs": [],
   "source": []
  }
 ],
 "metadata": {
  "kernelspec": {
   "display_name": "Python 3",
   "language": "python",
   "name": "python3"
  },
  "language_info": {
   "codemirror_mode": {
    "name": "ipython",
    "version": 3
   },
   "file_extension": ".py",
   "mimetype": "text/x-python",
   "name": "python",
   "nbconvert_exporter": "python",
   "pygments_lexer": "ipython3",
   "version": "3.8.3"
  }
 },
 "nbformat": 4,
 "nbformat_minor": 4
}
